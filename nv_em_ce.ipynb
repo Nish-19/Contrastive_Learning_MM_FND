{
 "cells": [
  {
   "cell_type": "code",
   "execution_count": 1,
   "metadata": {},
   "outputs": [],
   "source": [
    "import os\n",
    "gpu_number = \"0\" # Choose either 0 or 1\n",
    "os.environ['CUDA_ENVIRONMENT_DEVICES'] = gpu_number"
   ]
  },
  {
   "cell_type": "code",
   "execution_count": 2,
   "metadata": {},
   "outputs": [],
   "source": [
    "import os\n",
    "import sys\n",
    "import numpy as np\n",
    "from numpy import asarray,zeros\n",
    "import pandas as pd \n",
    "from sklearn.model_selection import train_test_split\n",
    "import torch\n",
    "from torch.utils.data import TensorDataset, DataLoader, RandomSampler, SequentialSampler, Dataset\n",
    "import torch.nn as nn\n",
    "import torch.nn.functional as F\n",
    "import torch.optim as optim\n",
    "from tqdm import tqdm\n",
    "import matplotlib.pyplot as plt\n",
    "import copy\n",
    "from sklearn.model_selection import train_test_split\n",
    "from sklearn import metrics\n",
    "from sklearn.metrics import classification_report\n",
    "import transformers\n",
    "from transformers import BertTokenizer\n",
    "from transformers import AdamW, get_linear_schedule_with_warmup\n",
    "from transformers import AutoTokenizer, AutoModel, AutoConfig, AdamW, get_linear_schedule_with_warmup\n",
    "from tensorflow.keras.preprocessing.text import Tokenizer\n",
    "from tensorflow.keras.preprocessing.sequence import pad_sequences\n",
    "import timm\n",
    "from losses import SupConLoss\n",
    "from torchlars import LARS"
   ]
  },
  {
   "cell_type": "code",
   "execution_count": 3,
   "metadata": {},
   "outputs": [
    {
     "name": "stdout",
     "output_type": "stream",
     "text": [
      "Using device cuda:0\n"
     ]
    }
   ],
   "source": [
    "if torch.cuda.is_available():\n",
    "    device_name = \"cuda:\" + gpu_number\n",
    "    device = torch.device(device_name)\n",
    "else:\n",
    "    device = torch.device(\"cpu\")\n",
    "# device = torch.device(\"cpu\") # Force CPU\n",
    "print(\"Using device\", device)"
   ]
  },
  {
   "cell_type": "markdown",
   "metadata": {},
   "source": [
    "# Load Dataset"
   ]
  },
  {
   "cell_type": "code",
   "execution_count": 4,
   "metadata": {},
   "outputs": [],
   "source": [
    "demark_dict = {'Snp':{'start':0, 'end':1663},\n",
    "                'Rtr':{'start':1664, 'end':2630},\n",
    "                'Rcv':{'start':2631, 'end':4716},\n",
    "                'Tcn':{'start':4717, 'end':11765}}"
   ]
  },
  {
   "cell_type": "code",
   "execution_count": 5,
   "metadata": {},
   "outputs": [
    {
     "name": "stdout",
     "output_type": "stream",
     "text": [
      "Model name nv_em_ce_rbert_recov\n",
      "Source shape (2085, 1280)\n",
      "Target shape (2085, 1280)\n",
      "Emotion Shape (2085, 128)\n",
      "Labels shape (2085,)\n"
     ]
    }
   ],
   "source": [
    "# Loading Choice\n",
    "base_model_name = 'rbert' # choice 'vbert' or 'rbert'\n",
    "dataset_split = 'recov' # 'full' or 'faux' or 'ticnn' or 'recov'\n",
    "model_name = ''\n",
    "if base_model_name =='rbert':\n",
    "    source_multimodal_data_full = np.load(\"../data/source_multimodal_out.npy\")\n",
    "    target_multimodal_data_full = np.load(\"../data/target_multimodal_out.npy\")\n",
    "    labels_data_full = np.load(\"../data/labels.npy\").squeeze(1)\n",
    "    contrastive_model_path = 'saved_models/contrast_head_rbert_lr_5_ep_1000.pt'\n",
    "    model_name = 'nv_em_ce_rbert'\n",
    "elif base_model_name == 'vbert':\n",
    "    source_multimodal_data_full = np.load(\"../data/source_mm_vbert.npy\")\n",
    "    target_multimodal_data_full = np.load(\"../data/target_mm_vbert.npy\")\n",
    "    labels_data_full = np.load(\"../data/labels.npy\").squeeze(1)\n",
    "    contrastive_model_path = 'saved_models/contrast_head_vbert_lr_5_ep_1000.pt'\n",
    "    model_name = 'nv_em_ce_vbert'\n",
    "\n",
    "emotion_arr = np.load('../data/emotion_reprs_new.npy')\n",
    "\n",
    "if dataset_split == 'full':\n",
    "    source_multimodal_data = source_multimodal_data_full\n",
    "    target_multimodal_data = target_multimodal_data_full\n",
    "    labels_data = labels_data_full\n",
    "    emotion_data = emotion_arr\n",
    "    model_name = model_name + '_full'\n",
    "elif dataset_split == 'faux':\n",
    "    src_snoopes = source_multimodal_data_full[demark_dict['Snp']['start']:demark_dict['Snp']['end'],:]\n",
    "    tar_snoopes = target_multimodal_data_full[demark_dict['Snp']['start']:demark_dict['Snp']['end'],:]\n",
    "    lab_snoopes = labels_data_full[demark_dict['Snp']['start']:demark_dict['Snp']['end']]\n",
    "    emotion_snoopes = emotion_arr[demark_dict['Snp']['start']:demark_dict['Snp']['end']]\n",
    "    src_rtr = source_multimodal_data_full[demark_dict['Rtr']['start']:demark_dict['Rtr']['end'],:]\n",
    "    tar_rtr = target_multimodal_data_full[demark_dict['Rtr']['start']:demark_dict['Rtr']['end'],:]\n",
    "    lab_tar = labels_data_full[demark_dict['Rtr']['start']:demark_dict['Rtr']['end']]\n",
    "    emotion_rtr = emotion_arr[demark_dict['Rtr']['start']:demark_dict['Rtr']['end']]\n",
    "    source_multimodal_data = np.concatenate((src_snoopes, src_rtr), axis=0)\n",
    "    target_multimodal_data = np.concatenate((tar_snoopes, tar_rtr), axis=0)\n",
    "    emotion_data = np.concatenate((emotion_snoopes, emotion_rtr), axis=0)\n",
    "    labels_data = np.concatenate((lab_snoopes, lab_tar), axis=0)\n",
    "    model_name = model_name + '_faux'\n",
    "elif dataset_split == 'recov':\n",
    "    source_multimodal_data = source_multimodal_data_full[demark_dict['Rcv']['start']:demark_dict['Rcv']['end'],:]\n",
    "    target_multimodal_data = target_multimodal_data_full[demark_dict['Rcv']['start']:demark_dict['Rcv']['end'],:]\n",
    "    labels_data = labels_data_full[demark_dict['Rcv']['start']:demark_dict['Rcv']['end']]\n",
    "    emotion_data = emotion_arr[demark_dict['Rcv']['start']:demark_dict['Rcv']['end']]\n",
    "    model_name = model_name + '_recov'\n",
    "elif dataset_split == 'ticnn':\n",
    "    source_multimodal_data = source_multimodal_data_full[demark_dict['Tcn']['start']:demark_dict['Tcn']['end'],:]\n",
    "    target_multimodal_data = target_multimodal_data_full[demark_dict['Tcn']['start']:demark_dict['Tcn']['end'],:]\n",
    "    labels_data = labels_data_full[demark_dict['Tcn']['start']:demark_dict['Tcn']['end']]\n",
    "    emotion_data = emotion_arr[demark_dict['Tcn']['start']:demark_dict['Tcn']['end']]\n",
    "    model_name = model_name + '_ticnn'\n",
    "\n",
    "#TODO: Printing the shape of the model\n",
    "print('Model name', model_name)\n",
    "print('Source shape', source_multimodal_data.shape)\n",
    "print('Target shape', target_multimodal_data.shape)\n",
    "print('Emotion Shape', emotion_data.shape)\n",
    "print('Labels shape', labels_data.shape)"
   ]
  },
  {
   "cell_type": "code",
   "execution_count": 6,
   "metadata": {},
   "outputs": [
    {
     "name": "stdout",
     "output_type": "stream",
     "text": [
      "tensor([0.7847, 0.2153], device='cuda:0')\n"
     ]
    }
   ],
   "source": [
    "#TODO: Get Class weights\n",
    "from collections import Counter \n",
    "weights = Counter(labels_data)\n",
    "fake_weight = weights[1]/(weights[0]+weights[1])\n",
    "real_weight = weights[0]/(weights[0]+weights[1])\n",
    "class_weights = torch.tensor([fake_weight, real_weight], device=device)\n",
    "print(class_weights)"
   ]
  },
  {
   "cell_type": "code",
   "execution_count": 7,
   "metadata": {},
   "outputs": [],
   "source": [
    "# # NOTE: Resnet+BERT Multimodal data\n",
    "# source_multimodal_arr = np.load(\"../data/source_multimodal_out.npy\")\n",
    "# target_multimodal_arr = np.load(\"../data/target_multimodal_out.npy\")\n",
    "# print(\"Source shape\", source_multimodal_arr.shape)\n",
    "# print(\"Target shape\", target_multimodal_arr.shape)"
   ]
  },
  {
   "cell_type": "code",
   "execution_count": 8,
   "metadata": {},
   "outputs": [],
   "source": [
    "# # NOTE: Import Visual BERT Multimodal data\n",
    "# source_multimodal_arr = np.load(\"../data/source_mm_vbert.npy\")\n",
    "# target_multimodal_arr = np.load(\"../data/target_mm_vbert.npy\")"
   ]
  },
  {
   "cell_type": "code",
   "execution_count": 9,
   "metadata": {},
   "outputs": [],
   "source": [
    "# # NOTE: Import source data for emotion\n",
    "# # img_data = np.load(\"../data/image_array.npy\")\n",
    "# # num_images, sources, width, height, num_channels = img_data.shape\n",
    "# # img_data_reshape = np.reshape(img_data, newshape=(num_images, sources, num_channels, width, height))\n",
    "# # img_data_source = torch.tensor(img_data_reshape[:,1,:,:,:]) \n",
    "# # print('New Source Shape', img_data_source.shape)\n",
    "# emotion_arr = np.load('../data/emotion_reprs_new.npy')\n",
    "# print('Emotion array shape', emotion_arr.shape)"
   ]
  },
  {
   "cell_type": "code",
   "execution_count": 10,
   "metadata": {},
   "outputs": [],
   "source": [
    "# # New features\n",
    "# diff_arr = source_multimodal_arr - target_multimodal_arr\n",
    "# mul_diff_arr = source_multimodal_arr * diff_arr\n",
    "# print(\"Source shape\", diff_arr.shape)\n",
    "# print(\"Target shape\", mul_diff_arr.shape)"
   ]
  },
  {
   "cell_type": "code",
   "execution_count": 11,
   "metadata": {},
   "outputs": [],
   "source": [
    "# # Considering only the text parts - #TODO: Comment if not necessary\n",
    "# source_multimodal_arr = source_multimodal_arr[:,768:] # Only BERT\n",
    "# target_multimodal_arr = target_multimodal_arr[:,768:] # Only BERT\n",
    "# print(\"Source shape\", source_multimodal_arr.shape)\n",
    "# print(\"Target shape\", target_multimodal_arr.shape)"
   ]
  },
  {
   "cell_type": "code",
   "execution_count": 12,
   "metadata": {},
   "outputs": [
    {
     "name": "stdout",
     "output_type": "stream",
     "text": [
      "Source shape torch.Size([2085, 1280])\n",
      "Target shape torch.Size([2085, 1280])\n",
      "Emotion Source shape torch.Size([2085, 128])\n",
      "Labels shape torch.Size([2085])\n"
     ]
    }
   ],
   "source": [
    "# NOTE: Old features\n",
    "source_multimodal_tensor = torch.tensor(source_multimodal_data)\n",
    "target_multimodal_tensor = torch.tensor(target_multimodal_data)\n",
    "emotion_source_tensor = torch.tensor(emotion_data)\n",
    "labels_tensor = torch.tensor(labels_data, dtype=torch.long)\n",
    "print(\"Source shape\", source_multimodal_tensor.shape)\n",
    "print(\"Target shape\", target_multimodal_tensor.shape)\n",
    "print(\"Emotion Source shape\", emotion_source_tensor.shape)\n",
    "print(\"Labels shape\", labels_tensor.shape)"
   ]
  },
  {
   "cell_type": "code",
   "execution_count": 13,
   "metadata": {},
   "outputs": [],
   "source": [
    "# #NOTE: New features (NOT GOOD)\n",
    "# diff_arr = torch.tensor(diff_arr, device=device)\n",
    "# mul_diff_arr = torch.tensor(mul_diff_arr, device=device)\n",
    "# print(\"Source shape\", diff_arr.shape)\n",
    "# print(\"Target shape\", mul_diff_arr.shape)"
   ]
  },
  {
   "cell_type": "code",
   "execution_count": 14,
   "metadata": {},
   "outputs": [],
   "source": [
    "# # Loading the label\n",
    "# labels_data = np.load(\"../data/labels.npy\")\n",
    "# labels_tensor = torch.tensor(labels_data, dtype=torch.long).squeeze(-1)\n",
    "# print('Labels tensor shape', labels_tensor.shape)"
   ]
  },
  {
   "cell_type": "code",
   "execution_count": 15,
   "metadata": {},
   "outputs": [],
   "source": [
    "#TODO: Add Pytorch DataLoader\n",
    "def get_data_loader(batch_size, target_input, source_input, emotion_input, labels, split_type='train'):\n",
    "\tdata = TensorDataset(target_input, source_input, emotion_input, labels)\n",
    "\tif split_type == 'train':\n",
    "\t\tsampler = RandomSampler(data)\n",
    "\telif split_type == 'val':\n",
    "\t\tsampler = SequentialSampler(data)\n",
    "\tdataloader = DataLoader(data, sampler=sampler, batch_size=batch_size)\n",
    "\treturn data, sampler, dataloader"
   ]
  },
  {
   "cell_type": "code",
   "execution_count": 16,
   "metadata": {},
   "outputs": [],
   "source": [
    "# NOTE: Old features\n",
    "train_tar, test_tar, train_src, test_src, train_emotion, test_emotion, train_labels, test_labels = train_test_split(target_multimodal_tensor, source_multimodal_tensor, emotion_source_tensor, labels_tensor, test_size=0.2, random_state=43)"
   ]
  },
  {
   "cell_type": "code",
   "execution_count": 17,
   "metadata": {},
   "outputs": [],
   "source": [
    "batch_size = 128\n",
    "train_data, train_sampler, train_dataloader = get_data_loader(batch_size, train_tar, train_src, train_emotion, train_labels, 'train')\n",
    "test_data, test_sampler, test_dataloader = get_data_loader(batch_size, test_tar, test_src, test_emotion, test_labels, 'val')"
   ]
  },
  {
   "cell_type": "code",
   "execution_count": 18,
   "metadata": {},
   "outputs": [],
   "source": [
    "# Model imported from the previous network\n",
    "class ContrastiveModel(nn.Module):\n",
    "    def __init__(self, initial_dim):\n",
    "        super(ContrastiveModel, self).__init__()\n",
    "        self.project_1 = nn.Linear(initial_dim, 512, bias=True)\n",
    "        self.project_2 = nn.Linear(512, 128, bias=True)\n",
    "        self.dropout = nn.Dropout(0.2)\n",
    "    def forward(self, multimodal_input):\n",
    "        contrast_space = self.project_2(self.project_1(multimodal_input))\n",
    "        normalize_contrast = F.normalize(contrast_space, dim=2)\n",
    "        return normalize_contrast"
   ]
  },
  {
   "cell_type": "code",
   "execution_count": 19,
   "metadata": {},
   "outputs": [],
   "source": [
    "# NOTE: Novelty based Contrastive Model\n",
    "class NoveltyModule(nn.Module):\n",
    "    def __init__(self, initial_dim):\n",
    "        super(NoveltyModule, self).__init__()\n",
    "        self.contrastive_model = ContrastiveModel(initial_dim) # For generic model\n",
    "        # self.contrastive_model = ContrastiveModelVisualBERT(initial_dim) # For visual BERT only\n",
    "        # self.contrastive_model.load_state_dict(torch.load('saved_models/contrast_head_visualbert_lr_5_ep_1000.pt')) # For vbert\n",
    "        # self.contrastive_model.load_state_dict(torch.load('saved_models/contrast_head_lr_5_ep_1000.pt')) # For rbert\n",
    "        self.contrastive_model.load_state_dict(torch.load(contrastive_model_path)) # For rbert\n",
    "        for param in self.contrastive_model.parameters():\n",
    "            param.requires_grad = False\n",
    "        self.reduce_1 = nn.Linear((512)*3, 512)\n",
    "        self.tanh1 = nn.Tanh()\n",
    "        self.logits_layer = nn.Linear(512, 2)\n",
    "    def forward(self, target_input, source_input):\n",
    "        fixed_target = self.contrastive_model.project_1(target_input)\n",
    "        fixed_source = self.contrastive_model.project_1(source_input)\n",
    "        add_op = fixed_target + fixed_source\n",
    "        sub_op = fixed_target - fixed_source\n",
    "        mul_op = fixed_target * fixed_source\n",
    "        combine_t_s = torch.cat((add_op, sub_op, mul_op), 1)\n",
    "        reduce_output = self.tanh1(self.reduce_1(combine_t_s)) # 512 dimension\n",
    "        return reduce_output"
   ]
  },
  {
   "cell_type": "code",
   "execution_count": 20,
   "metadata": {},
   "outputs": [],
   "source": [
    "# NOTE: Emotion based Model\n",
    "class ResNetBottom(nn.Module):\n",
    "    def __init__(self, original_model):\n",
    "        super(ResNetBottom, self).__init__()\n",
    "        self.features = nn.Sequential(*list(original_model.children())[:-1])\n",
    "        \n",
    "    def forward(self, x):\n",
    "        x = self.features(x)\n",
    "        return x\n",
    "\n",
    "class EmotionModule(nn.Module):\n",
    "    def __init__(self):\n",
    "        super(EmotionModule, self).__init__()\n",
    "        self.vision_base_model = timm.create_model('resnet50', pretrained=True)\n",
    "        self.vision_model_head = ResNetBottom(self.vision_base_model)\n",
    "        self.project_1 = nn.Linear(2048, 1024, bias=True)\n",
    "        self.project_2 = nn.Linear(1024, 512, bias=True)\n",
    "        self.project_3 = nn.Linear(512, 128, bias=True)\n",
    "        self.tanh1 = nn.Tanh()\n",
    "        self.tanh2 = nn.Tanh()\n",
    "        self.tanh3 = nn.Tanh()\n",
    "        self.drop1 = nn.Dropout()\n",
    "        self.drop2 = nn.Dropout()\n",
    "        self.drop3 = nn.Dropout()\n",
    "        self.classification = nn.Linear(128, 2, bias=True)\n",
    "    def forward(self, img_features):\n",
    "        with torch.no_grad():\n",
    "            img_out = self.vision_model_head(img_features)\n",
    "        emotion_features = self.tanh3(self.project_3(self.tanh2(self.project_2(self.tanh1(self.project_1(img_out))))))\n",
    "        return emotion_features"
   ]
  },
  {
   "cell_type": "code",
   "execution_count": 21,
   "metadata": {},
   "outputs": [],
   "source": [
    "#TODO: Defin Combine Novelty-Emotion Model for classification\n",
    "class FinalClassifier(nn.Module):\n",
    "    def __init__(self, initial_dim):\n",
    "        super(FinalClassifier, self).__init__()\n",
    "        self.novelty_module = NoveltyModule(initial_dim) # For novelty model\n",
    "        # self.emotion_module = EmotionModule()\n",
    "        # self.emotion_module.load_state_dict(torch.load('../emotion/saved_models/emo_combine_res50_lr_3e-05_val_loss_0.59487_ep_61.pt'))\n",
    "        self.reduce_1 = nn.Linear(640, 512, bias=True)\n",
    "        self.tanh1 = nn.Tanh()\n",
    "        self.reduce_2 = nn.Linear(512, 128, bias=True)\n",
    "        self.tanh2 = nn.Tanh()\n",
    "        self.logits_layer = nn.Linear(128, 2)\n",
    "    def forward(self, target_input, source_input, emotion_input):\n",
    "        # Novelty Representations\n",
    "        novelty_reprs = self.novelty_module(target_input, source_input)\n",
    "        emotion_reprs = emotion_input\n",
    "        combine_n_e = torch.cat((novelty_reprs, emotion_reprs), 1) # 640\n",
    "        reduce_output_1 = self.tanh1(self.reduce_1(combine_n_e.float())) # 512 dimension\n",
    "        reduce_output_2 = self.tanh2(self.reduce_2(reduce_output_1.float())) # 128 dimension\n",
    "        logits = self.logits_layer(reduce_output_2.float()) # 2 dimension\n",
    "        return logits"
   ]
  },
  {
   "cell_type": "code",
   "execution_count": 22,
   "metadata": {},
   "outputs": [],
   "source": [
    "# Dry-Run Classification model\n",
    "initial_dim = source_multimodal_tensor.shape[1]\n",
    "# initial_dim = diff_arr.shape[1]\n",
    "class_model = FinalClassifier(initial_dim).to(device) # For old model"
   ]
  },
  {
   "cell_type": "code",
   "execution_count": 23,
   "metadata": {},
   "outputs": [],
   "source": [
    "# Optimizer and scheduler\n",
    "def get_optimizer_scheduler(name, model, train_dataloader_len, epochs, lr_set):\n",
    "\tif name == \"Adam\":\n",
    "\t\toptimizer = AdamW(model.parameters(),\n",
    "                  lr = lr_set, # args.learning_rate - default is 5e-5, our notebook had 2e-5\n",
    "                  eps = 1e-8 # args.adam_epsilon  - default is 1e-8.\n",
    "\t\t)\n",
    "\telif name == \"LARS-SGD\":\n",
    "\t\tbase_optimizer = optim.SGD(model.parameters(), lr=lr_set, momentum=0.9)\n",
    "\t\toptimizer = LARS(optimizer=base_optimizer, eps=1e-8, trust_coef=0.001)\n",
    "\n",
    "\ttotal_steps = train_dataloader_len * epochs\n",
    "\n",
    "\t# Create the learning rate scheduler.\n",
    "\tscheduler = get_linear_schedule_with_warmup(optimizer, \n",
    "\t\t\t\t\t\t\t\t\t\t\t\tnum_warmup_steps = total_steps//2, # Default value in run_glue.py\n",
    "\t\t\t\t\t\t\t\t\t\t\t\tnum_training_steps = total_steps)\n",
    "\treturn optimizer, scheduler"
   ]
  },
  {
   "cell_type": "code",
   "execution_count": 24,
   "metadata": {},
   "outputs": [],
   "source": [
    "# Getting the optimizer and scheduler\n",
    "epochs = 100\n",
    "lr = 3e-5 # Less LR\n",
    "# lr = 0.5\n",
    "iters_to_accumulate = 2\n",
    "name = \"Adam\"\n",
    "# name = \"LARS-SGD\"\n",
    "if base_model_name == 'vbert' and dataset_split == 'recov':\n",
    "    criterion = nn.CrossEntropyLoss(class_weights)\n",
    "else:\n",
    "    criterion = nn.CrossEntropyLoss()\n",
    "optimizer, scheduler = get_optimizer_scheduler(name, class_model, len(train_dataloader), epochs, lr)"
   ]
  },
  {
   "cell_type": "code",
   "execution_count": 25,
   "metadata": {},
   "outputs": [],
   "source": [
    "################ Evaluating Loss ######################\n",
    "#######################################################\n",
    "def evaluate_loss(net, device, criterion, dataloader):\n",
    "    net.eval()\n",
    "    mean_loss = 0\n",
    "    count = 0\n",
    "    with torch.no_grad():\n",
    "        for it, (target_inputs, source_inputs, emotion_inputs, labels) in enumerate(tqdm(dataloader)):\n",
    "            target_inputs, source_inputs, emotion_inputs, labels = target_inputs.to(device), source_inputs.to(device), emotion_inputs.to(device), labels.to(device)\n",
    "            logits = net(target_inputs, source_inputs, emotion_inputs)\n",
    "            mean_loss += criterion(logits.squeeze(-1), labels).item() # initially it was logits.squeeze(-1)\n",
    "            count += 1\n",
    "    return mean_loss / count"
   ]
  },
  {
   "cell_type": "code",
   "execution_count": 26,
   "metadata": {},
   "outputs": [],
   "source": [
    "################ Flat Accuracy Calculation ####################\n",
    "###############################################################\n",
    "def flat_accuracy(preds, labels):\n",
    "    pred_flat = np.argmax(preds, axis=1).flatten()\n",
    "    labels_flat = labels.flatten()\n",
    "    return np.sum(pred_flat == labels_flat) / len(labels_flat)\n",
    "################ Validation Accuracy Calculation ####################\n",
    "###############################################################\n",
    "def evaluate_accuracy(model, device, validation_dataloader):\n",
    "\tmodel.eval()\n",
    "\t# Tracking variables \n",
    "\teval_loss, eval_accuracy = 0, 0\n",
    "\tnb_eval_steps, nb_eval_examples = 0, 0\n",
    "\t# Evaluate data for one epoch\n",
    "\tfor batch in validation_dataloader:\n",
    "\t    # Add batch to GPU\n",
    "\t    batch = tuple(t.to(device) for t in batch)\t    \n",
    "\t    # Unpack the inputs from our dataloader\n",
    "\t    b_t_inputs, b_s_inputs, b_e_inputs, b_labels = batch\t    \n",
    "\t    \n",
    "\t    # Telling the model not to compute or store gradients, saving memory and\n",
    "\t    # speeding up validation\n",
    "\t    with torch.no_grad(): \n",
    "\t    \t# Forward pass, calculate logit predictions.\n",
    "\t        # This will return the logits rather than the loss because we have\n",
    "\t        # not provided labels.\n",
    "\t    \tlogits = model(b_t_inputs, b_s_inputs, b_e_inputs)       \n",
    "\n",
    "\t    # Move logits and labels to CPU\n",
    "\t    logits = logits.detach().cpu().numpy()\n",
    "\t    label_ids = b_labels.to('cpu').numpy()\n",
    "\t    \n",
    "\t    # Calculate the accuracy for this batch of test sentences.\n",
    "\t    tmp_eval_accuracy = flat_accuracy(logits, label_ids)\n",
    "\t    \n",
    "\t    # Accumulate the total accuracy.\n",
    "\t    eval_accuracy += tmp_eval_accuracy\n",
    "\n",
    "\t    # Track the number of batches\n",
    "\t    nb_eval_steps += 1\n",
    "\taccuracy = eval_accuracy/nb_eval_steps\n",
    "\treturn accuracy"
   ]
  },
  {
   "cell_type": "code",
   "execution_count": 27,
   "metadata": {},
   "outputs": [],
   "source": [
    "def train_model(net, criterion, opti, lr, lr_scheduler, train_loader, val_loader, epochs, iters_to_accumulate):\n",
    "    best_loss = np.Inf\n",
    "    best_ep = 1\n",
    "    nb_iterations = len(train_loader)\n",
    "    print_every = nb_iterations // 5  # print the training loss 5 times per epoch\n",
    "    iters = []\n",
    "    train_losses = []\n",
    "    val_losses = []\n",
    "    # Iterating over all epochs\n",
    "    for ep in range(epochs):\n",
    "        net.train()\n",
    "        running_loss = 0.0\n",
    "        for it, (target_inputs, source_inputs, emotion_inputs, labels) in enumerate(tqdm(train_loader)):\n",
    "\n",
    "            # Converting to cuda tensors\n",
    "            target_inputs, source_inputs, emotion_inputs, labels = target_inputs.to(device), source_inputs.to(device), emotion_inputs.to(device), labels.to(device)\n",
    "    \t\t\n",
    "            # Obtaining the logits from the model\n",
    "            logits = net(target_inputs, source_inputs, emotion_inputs)\n",
    "            # print(logits.device)\n",
    "\n",
    "            # Computing loss\n",
    "            # print(logits.squeeze(-1).shape)\n",
    "            # print(labels.shape)\n",
    "            loss = criterion(logits.squeeze(-1), labels)\n",
    "            loss = loss / iters_to_accumulate  # Normalize the loss because it is averaged\n",
    "\n",
    "            # Backpropagating the gradients\n",
    "            # Calls backward()\n",
    "            loss.backward()\n",
    "\n",
    "            if (it + 1) % iters_to_accumulate == 0:\n",
    "                # Optimization step\n",
    "                # scaler.step() first unscales the gradients of the optimizer's assigned params.\n",
    "                # If these gradients do not contain infs or NaNs, opti.step() is then called,\n",
    "                # otherwise, opti.step() is skipped.\n",
    "                opti.step()\n",
    "                # Adjust the learning rate based on the number of iterations.\n",
    "                lr_scheduler.step()\n",
    "                # Clear gradients\n",
    "                net.zero_grad()\n",
    "\n",
    "\n",
    "            running_loss += loss.item()\n",
    "\n",
    "            if (it + 1) % print_every == 0:  # Print training loss information\n",
    "                print()\n",
    "                print(\"Iteration {}/{} of epoch {} complete. Loss : {} \"\n",
    "                      .format(it+1, nb_iterations, ep+1, running_loss / print_every))\n",
    "\n",
    "                running_loss = 0.0\n",
    "\n",
    "\n",
    "        val_loss = evaluate_loss(net, device, criterion, val_loader)  # Compute validation loss\n",
    "        val_accuracy = evaluate_accuracy(net, device, val_loader)\n",
    "        print()\n",
    "        print(\"Epoch {} complete! Validation Loss : {}\".format(ep+1, val_loss))\n",
    "        print(\"Epoch {} complete! Validation Accuracy : {}\".format(ep+1, val_accuracy))\n",
    "\n",
    "        if val_loss < best_loss:\n",
    "            print(\"Best validation loss improved from {} to {}\".format(best_loss, val_loss))\n",
    "            print()\n",
    "            net_copy = copy.deepcopy(net)  # save a copy of the model\n",
    "            best_loss = val_loss\n",
    "            best_ep = ep + 1\n",
    "\n",
    "    # Saving the model\n",
    "    path_to_model='saved_models/{}_lr_{}_val_loss_{}_ep_{}.pt'.format(model_name, lr, round(best_loss, 5), best_ep)\n",
    "    torch.save(net_copy.state_dict(), path_to_model)\n",
    "    net.load_state_dict(torch.load(path_to_model)) # Re-Loading the best model\n",
    "    print(\"The model has been saved in {}\".format(path_to_model))\n",
    "\n",
    "    del loss\n",
    "    torch.cuda.empty_cache()\n",
    "    return net, model_name"
   ]
  },
  {
   "cell_type": "code",
   "execution_count": 28,
   "metadata": {},
   "outputs": [
    {
     "name": "stderr",
     "output_type": "stream",
     "text": [
      "100%|██████████| 14/14 [00:00<00:00, 93.34it/s]\n",
      "100%|██████████| 4/4 [00:00<00:00, 141.99it/s]\n",
      "  0%|          | 0/14 [00:00<?, ?it/s]"
     ]
    },
    {
     "name": "stdout",
     "output_type": "stream",
     "text": [
      "\n",
      "Iteration 2/14 of epoch 1 complete. Loss : 0.3365183025598526 \n",
      "\n",
      "Iteration 4/14 of epoch 1 complete. Loss : 0.3336125612258911 \n",
      "\n",
      "Iteration 6/14 of epoch 1 complete. Loss : 0.3356991112232208 \n",
      "\n",
      "Iteration 8/14 of epoch 1 complete. Loss : 0.3326578736305237 \n",
      "\n",
      "Iteration 10/14 of epoch 1 complete. Loss : 0.33460766077041626 \n",
      "\n",
      "Iteration 12/14 of epoch 1 complete. Loss : 0.3356826901435852 \n",
      "\n",
      "Iteration 14/14 of epoch 1 complete. Loss : 0.3244057297706604 \n",
      "\n",
      "Epoch 1 complete! Validation Loss : 0.6683731079101562\n",
      "Epoch 1 complete! Validation Accuracy : 0.6779119318181819\n",
      "Best validation loss improved from inf to 0.6683731079101562\n",
      "\n",
      "\n",
      "Iteration 2/14 of epoch 2 complete. Loss : 0.3341211676597595 \n"
     ]
    },
    {
     "name": "stderr",
     "output_type": "stream",
     "text": [
      "100%|██████████| 14/14 [00:00<00:00, 105.33it/s]\n",
      "100%|██████████| 4/4 [00:00<00:00, 200.89it/s]\n",
      "  0%|          | 0/14 [00:00<?, ?it/s]"
     ]
    },
    {
     "name": "stdout",
     "output_type": "stream",
     "text": [
      "\n",
      "Iteration 4/14 of epoch 2 complete. Loss : 0.33332909643650055 \n",
      "\n",
      "Iteration 6/14 of epoch 2 complete. Loss : 0.3365865796804428 \n",
      "\n",
      "Iteration 8/14 of epoch 2 complete. Loss : 0.33637578785419464 \n",
      "\n",
      "Iteration 10/14 of epoch 2 complete. Loss : 0.32843247056007385 \n",
      "\n",
      "Iteration 12/14 of epoch 2 complete. Loss : 0.3293449133634567 \n",
      "\n",
      "Iteration 14/14 of epoch 2 complete. Loss : 0.3431118279695511 \n",
      "\n",
      "Epoch 2 complete! Validation Loss : 0.6626354157924652\n",
      "Epoch 2 complete! Validation Accuracy : 0.7221235795454546\n",
      "Best validation loss improved from 0.6683731079101562 to 0.6626354157924652\n",
      "\n",
      "\n",
      "Iteration 2/14 of epoch 3 complete. Loss : 0.3292866498231888 \n",
      "\n",
      "Iteration 4/14 of epoch 3 complete. Loss : 0.33020471036434174 \n",
      "\n",
      "Iteration 6/14 of epoch 3 complete. Loss : 0.32725825905799866 \n",
      "\n",
      "Iteration 8/14 of epoch 3 complete. Loss : 0.33274631202220917 \n"
     ]
    },
    {
     "name": "stderr",
     "output_type": "stream",
     "text": [
      "100%|██████████| 14/14 [00:00<00:00, 118.29it/s]\n",
      "100%|██████████| 4/4 [00:00<00:00, 239.00it/s]\n",
      "100%|██████████| 14/14 [00:00<00:00, 125.89it/s]\n",
      "  0%|          | 0/4 [00:00<?, ?it/s]"
     ]
    },
    {
     "name": "stdout",
     "output_type": "stream",
     "text": [
      "\n",
      "Iteration 10/14 of epoch 3 complete. Loss : 0.3331492394208908 \n",
      "\n",
      "Iteration 12/14 of epoch 3 complete. Loss : 0.3269895166158676 \n",
      "\n",
      "Iteration 14/14 of epoch 3 complete. Loss : 0.31714971363544464 \n",
      "\n",
      "Epoch 3 complete! Validation Loss : 0.6531872600317001\n",
      "Epoch 3 complete! Validation Accuracy : 0.7436079545454546\n",
      "Best validation loss improved from 0.6626354157924652 to 0.6531872600317001\n",
      "\n",
      "\n",
      "Iteration 2/14 of epoch 4 complete. Loss : 0.32575516402721405 \n",
      "\n",
      "Iteration 4/14 of epoch 4 complete. Loss : 0.32765020430088043 \n",
      "\n",
      "Iteration 6/14 of epoch 4 complete. Loss : 0.3253515064716339 \n",
      "\n",
      "Iteration 8/14 of epoch 4 complete. Loss : 0.32702815532684326 \n",
      "\n",
      "Iteration 10/14 of epoch 4 complete. Loss : 0.31754299998283386 \n",
      "\n",
      "Iteration 12/14 of epoch 4 complete. Loss : 0.318819984793663 \n",
      "\n",
      "Iteration 14/14 of epoch 4 complete. Loss : 0.30765989422798157 \n"
     ]
    },
    {
     "name": "stderr",
     "output_type": "stream",
     "text": [
      "100%|██████████| 4/4 [00:00<00:00, 233.50it/s]\n",
      "100%|██████████| 14/14 [00:00<00:00, 143.79it/s]\n",
      "100%|██████████| 4/4 [00:00<00:00, 266.41it/s]\n",
      "  0%|          | 0/14 [00:00<?, ?it/s]"
     ]
    },
    {
     "name": "stdout",
     "output_type": "stream",
     "text": [
      "\n",
      "Epoch 4 complete! Validation Loss : 0.6403222531080246\n",
      "Epoch 4 complete! Validation Accuracy : 0.759469696969697\n",
      "Best validation loss improved from 0.6531872600317001 to 0.6403222531080246\n",
      "\n",
      "\n",
      "Iteration 2/14 of epoch 5 complete. Loss : 0.321414053440094 \n",
      "\n",
      "Iteration 4/14 of epoch 5 complete. Loss : 0.3225810378789902 \n",
      "\n",
      "Iteration 6/14 of epoch 5 complete. Loss : 0.31577102839946747 \n",
      "\n",
      "Iteration 8/14 of epoch 5 complete. Loss : 0.31391389667987823 \n",
      "\n",
      "Iteration 10/14 of epoch 5 complete. Loss : 0.312880739569664 \n",
      "\n",
      "Iteration 12/14 of epoch 5 complete. Loss : 0.312040239572525 \n",
      "\n",
      "Iteration 14/14 of epoch 5 complete. Loss : 0.2989611476659775 \n",
      "\n",
      "Epoch 5 complete! Validation Loss : 0.6245672702789307\n",
      "Epoch 5 complete! Validation Accuracy : 0.771188446969697\n",
      "Best validation loss improved from 0.6403222531080246 to 0.6245672702789307\n",
      "\n",
      "\n",
      "Iteration 2/14 of epoch 6 complete. Loss : 0.30891700088977814 \n",
      "\n",
      "Iteration 4/14 of epoch 6 complete. Loss : 0.3103756606578827 \n",
      "\n",
      "Iteration 6/14 of epoch 6 complete. Loss : 0.31147022545337677 \n",
      "\n",
      "Iteration 8/14 of epoch 6 complete. Loss : 0.3041839897632599 \n"
     ]
    },
    {
     "name": "stderr",
     "output_type": "stream",
     "text": [
      "100%|██████████| 14/14 [00:00<00:00, 131.28it/s]\n",
      "100%|██████████| 4/4 [00:00<00:00, 182.72it/s]\n",
      " 71%|███████▏  | 10/14 [00:00<00:00, 95.31it/s]"
     ]
    },
    {
     "name": "stdout",
     "output_type": "stream",
     "text": [
      "\n",
      "Iteration 10/14 of epoch 6 complete. Loss : 0.30282914638519287 \n",
      "\n",
      "Iteration 12/14 of epoch 6 complete. Loss : 0.3063652813434601 \n",
      "\n",
      "Iteration 14/14 of epoch 6 complete. Loss : 0.29126521944999695 \n",
      "\n",
      "Epoch 6 complete! Validation Loss : 0.6067100614309311\n",
      "Epoch 6 complete! Validation Accuracy : 0.7694720643939394\n",
      "Best validation loss improved from 0.6245672702789307 to 0.6067100614309311\n",
      "\n",
      "\n",
      "Iteration 2/14 of epoch 7 complete. Loss : 0.3001967668533325 \n",
      "\n",
      "Iteration 4/14 of epoch 7 complete. Loss : 0.3001812994480133 \n",
      "\n",
      "Iteration 6/14 of epoch 7 complete. Loss : 0.29593220353126526 \n",
      "\n",
      "Iteration 8/14 of epoch 7 complete. Loss : 0.2955833971500397 \n",
      "\n",
      "Iteration 10/14 of epoch 7 complete. Loss : 0.29889726638793945 \n"
     ]
    },
    {
     "name": "stderr",
     "output_type": "stream",
     "text": [
      "100%|██████████| 14/14 [00:00<00:00, 98.69it/s]\n",
      "100%|██████████| 4/4 [00:00<00:00, 184.18it/s]\n",
      "100%|██████████| 14/14 [00:00<00:00, 107.70it/s]\n",
      "  0%|          | 0/4 [00:00<?, ?it/s]"
     ]
    },
    {
     "name": "stdout",
     "output_type": "stream",
     "text": [
      "\n",
      "Iteration 12/14 of epoch 7 complete. Loss : 0.2950533777475357 \n",
      "\n",
      "Iteration 14/14 of epoch 7 complete. Loss : 0.28805550932884216 \n",
      "\n",
      "Epoch 7 complete! Validation Loss : 0.5873402506113052\n",
      "Epoch 7 complete! Validation Accuracy : 0.7733783143939394\n",
      "Best validation loss improved from 0.6067100614309311 to 0.5873402506113052\n",
      "\n",
      "\n",
      "Iteration 2/14 of epoch 8 complete. Loss : 0.2931327670812607 \n",
      "\n",
      "Iteration 4/14 of epoch 8 complete. Loss : 0.2939421683549881 \n",
      "\n",
      "Iteration 6/14 of epoch 8 complete. Loss : 0.28963516652584076 \n",
      "\n",
      "Iteration 8/14 of epoch 8 complete. Loss : 0.2884952574968338 \n",
      "\n",
      "Iteration 10/14 of epoch 8 complete. Loss : 0.2771710604429245 \n",
      "\n",
      "Iteration 12/14 of epoch 8 complete. Loss : 0.28571902215480804 \n",
      "\n",
      "Iteration 14/14 of epoch 8 complete. Loss : 0.28190645575523376 \n"
     ]
    },
    {
     "name": "stderr",
     "output_type": "stream",
     "text": [
      "100%|██████████| 4/4 [00:00<00:00, 160.46it/s]\n",
      "100%|██████████| 14/14 [00:00<00:00, 102.75it/s]\n",
      "100%|██████████| 4/4 [00:00<00:00, 195.10it/s]\n",
      "  0%|          | 0/14 [00:00<?, ?it/s]"
     ]
    },
    {
     "name": "stdout",
     "output_type": "stream",
     "text": [
      "\n",
      "Epoch 8 complete! Validation Loss : 0.5674833506345749\n",
      "Epoch 8 complete! Validation Accuracy : 0.7714251893939394\n",
      "Best validation loss improved from 0.5873402506113052 to 0.5674833506345749\n",
      "\n",
      "\n",
      "Iteration 2/14 of epoch 9 complete. Loss : 0.27862195670604706 \n",
      "\n",
      "Iteration 4/14 of epoch 9 complete. Loss : 0.28238415718078613 \n",
      "\n",
      "Iteration 6/14 of epoch 9 complete. Loss : 0.27349261939525604 \n",
      "\n",
      "Iteration 8/14 of epoch 9 complete. Loss : 0.27300143241882324 \n",
      "\n",
      "Iteration 10/14 of epoch 9 complete. Loss : 0.2790682762861252 \n",
      "\n",
      "Iteration 12/14 of epoch 9 complete. Loss : 0.27750343084335327 \n",
      "\n",
      "Iteration 14/14 of epoch 9 complete. Loss : 0.2761816829442978 \n",
      "\n",
      "Epoch 9 complete! Validation Loss : 0.5476749688386917\n",
      "Epoch 9 complete! Validation Accuracy : 0.7714251893939394\n",
      "Best validation loss improved from 0.5674833506345749 to 0.5476749688386917\n",
      "\n"
     ]
    },
    {
     "name": "stderr",
     "output_type": "stream",
     "text": [
      "100%|██████████| 14/14 [00:00<00:00, 105.08it/s]\n",
      "100%|██████████| 4/4 [00:00<00:00, 169.57it/s]\n",
      "  0%|          | 0/14 [00:00<?, ?it/s]"
     ]
    },
    {
     "name": "stdout",
     "output_type": "stream",
     "text": [
      "\n",
      "Iteration 2/14 of epoch 10 complete. Loss : 0.2685145288705826 \n",
      "\n",
      "Iteration 4/14 of epoch 10 complete. Loss : 0.2666513919830322 \n",
      "\n",
      "Iteration 6/14 of epoch 10 complete. Loss : 0.2623877078294754 \n",
      "\n",
      "Iteration 8/14 of epoch 10 complete. Loss : 0.263947457075119 \n",
      "\n",
      "Iteration 10/14 of epoch 10 complete. Loss : 0.27238838374614716 \n",
      "\n",
      "Iteration 12/14 of epoch 10 complete. Loss : 0.26431339979171753 \n",
      "\n",
      "Iteration 14/14 of epoch 10 complete. Loss : 0.32920804619789124 \n",
      "\n",
      "Epoch 10 complete! Validation Loss : 0.5286790132522583\n",
      "Epoch 10 complete! Validation Accuracy : 0.7694720643939394\n",
      "Best validation loss improved from 0.5476749688386917 to 0.5286790132522583\n",
      "\n",
      "\n",
      "Iteration 2/14 of epoch 11 complete. Loss : 0.252148300409317 \n"
     ]
    },
    {
     "name": "stderr",
     "output_type": "stream",
     "text": [
      "100%|██████████| 14/14 [00:00<00:00, 94.43it/s]\n",
      "100%|██████████| 4/4 [00:00<00:00, 171.62it/s]\n",
      "  0%|          | 0/14 [00:00<?, ?it/s]"
     ]
    },
    {
     "name": "stdout",
     "output_type": "stream",
     "text": [
      "\n",
      "Iteration 4/14 of epoch 11 complete. Loss : 0.261633962392807 \n",
      "\n",
      "Iteration 6/14 of epoch 11 complete. Loss : 0.25415337085723877 \n",
      "\n",
      "Iteration 8/14 of epoch 11 complete. Loss : 0.2618757039308548 \n",
      "\n",
      "Iteration 10/14 of epoch 11 complete. Loss : 0.2579711228609085 \n",
      "\n",
      "Iteration 12/14 of epoch 11 complete. Loss : 0.25620248913764954 \n",
      "\n",
      "Iteration 14/14 of epoch 11 complete. Loss : 0.2629832625389099 \n",
      "\n",
      "Epoch 11 complete! Validation Loss : 0.5112170726060867\n",
      "Epoch 11 complete! Validation Accuracy : 0.7694720643939394\n",
      "Best validation loss improved from 0.5286790132522583 to 0.5112170726060867\n",
      "\n",
      "\n",
      "Iteration 2/14 of epoch 12 complete. Loss : 0.25365111976861954 \n"
     ]
    },
    {
     "name": "stderr",
     "output_type": "stream",
     "text": [
      "100%|██████████| 14/14 [00:00<00:00, 102.90it/s]\n",
      "100%|██████████| 4/4 [00:00<00:00, 184.07it/s]\n",
      "  0%|          | 0/14 [00:00<?, ?it/s]"
     ]
    },
    {
     "name": "stdout",
     "output_type": "stream",
     "text": [
      "\n",
      "Iteration 4/14 of epoch 12 complete. Loss : 0.2405088096857071 \n",
      "\n",
      "Iteration 6/14 of epoch 12 complete. Loss : 0.25036362558603287 \n",
      "\n",
      "Iteration 8/14 of epoch 12 complete. Loss : 0.2395467460155487 \n",
      "\n",
      "Iteration 10/14 of epoch 12 complete. Loss : 0.2537536770105362 \n",
      "\n",
      "Iteration 12/14 of epoch 12 complete. Loss : 0.25228458642959595 \n",
      "\n",
      "Iteration 14/14 of epoch 12 complete. Loss : 0.2150636836886406 \n",
      "\n",
      "Epoch 12 complete! Validation Loss : 0.4938989579677582\n",
      "Epoch 12 complete! Validation Accuracy : 0.7694720643939394\n",
      "Best validation loss improved from 0.5112170726060867 to 0.4938989579677582\n",
      "\n",
      "\n",
      "Iteration 2/14 of epoch 13 complete. Loss : 0.2364398092031479 \n",
      "\n",
      "Iteration 4/14 of epoch 13 complete. Loss : 0.24153384566307068 \n"
     ]
    },
    {
     "name": "stderr",
     "output_type": "stream",
     "text": [
      "100%|██████████| 14/14 [00:00<00:00, 116.23it/s]\n",
      "100%|██████████| 4/4 [00:00<00:00, 216.30it/s]\n",
      "  0%|          | 0/14 [00:00<?, ?it/s]"
     ]
    },
    {
     "name": "stdout",
     "output_type": "stream",
     "text": [
      "\n",
      "Iteration 6/14 of epoch 13 complete. Loss : 0.24573320150375366 \n",
      "\n",
      "Iteration 8/14 of epoch 13 complete. Loss : 0.24802840501070023 \n",
      "\n",
      "Iteration 10/14 of epoch 13 complete. Loss : 0.23214401304721832 \n",
      "\n",
      "Iteration 12/14 of epoch 13 complete. Loss : 0.2368500903248787 \n",
      "\n",
      "Iteration 14/14 of epoch 13 complete. Loss : 0.2177085056900978 \n",
      "\n",
      "Epoch 13 complete! Validation Loss : 0.4772879257798195\n",
      "Epoch 13 complete! Validation Accuracy : 0.7714251893939394\n",
      "Best validation loss improved from 0.4938989579677582 to 0.4772879257798195\n",
      "\n",
      "\n",
      "Iteration 2/14 of epoch 14 complete. Loss : 0.22714225947856903 \n",
      "\n",
      "Iteration 4/14 of epoch 14 complete. Loss : 0.23825598508119583 \n",
      "\n",
      "Iteration 6/14 of epoch 14 complete. Loss : 0.21977246552705765 \n",
      "\n",
      "Iteration 8/14 of epoch 14 complete. Loss : 0.23380840569734573 \n",
      "\n",
      "Iteration 10/14 of epoch 14 complete. Loss : 0.22880230098962784 \n"
     ]
    },
    {
     "name": "stderr",
     "output_type": "stream",
     "text": [
      "100%|██████████| 14/14 [00:00<00:00, 113.63it/s]\n",
      "100%|██████████| 4/4 [00:00<00:00, 172.84it/s]\n",
      "100%|██████████| 14/14 [00:00<00:00, 129.07it/s]\n",
      "  0%|          | 0/4 [00:00<?, ?it/s]"
     ]
    },
    {
     "name": "stdout",
     "output_type": "stream",
     "text": [
      "\n",
      "Iteration 12/14 of epoch 14 complete. Loss : 0.23901113122701645 \n",
      "\n",
      "Iteration 14/14 of epoch 14 complete. Loss : 0.17829017341136932 \n",
      "\n",
      "Epoch 14 complete! Validation Loss : 0.4614272713661194\n",
      "Epoch 14 complete! Validation Accuracy : 0.7733783143939394\n",
      "Best validation loss improved from 0.4772879257798195 to 0.4614272713661194\n",
      "\n",
      "\n",
      "Iteration 2/14 of epoch 15 complete. Loss : 0.22437720745801926 \n",
      "\n",
      "Iteration 4/14 of epoch 15 complete. Loss : 0.22877316176891327 \n",
      "\n",
      "Iteration 6/14 of epoch 15 complete. Loss : 0.2179824858903885 \n",
      "\n",
      "Iteration 8/14 of epoch 15 complete. Loss : 0.2285972461104393 \n",
      "\n",
      "Iteration 10/14 of epoch 15 complete. Loss : 0.20450711995363235 \n",
      "\n",
      "Iteration 12/14 of epoch 15 complete. Loss : 0.22731062024831772 \n",
      "\n",
      "Iteration 14/14 of epoch 15 complete. Loss : 0.179440438747406 \n"
     ]
    },
    {
     "name": "stderr",
     "output_type": "stream",
     "text": [
      "100%|██████████| 4/4 [00:00<00:00, 107.02it/s]\n",
      "100%|██████████| 14/14 [00:00<00:00, 125.46it/s]\n",
      "100%|██████████| 4/4 [00:00<00:00, 159.11it/s]\n",
      "  0%|          | 0/14 [00:00<?, ?it/s]"
     ]
    },
    {
     "name": "stdout",
     "output_type": "stream",
     "text": [
      "\n",
      "Epoch 15 complete! Validation Loss : 0.4465115889906883\n",
      "Epoch 15 complete! Validation Accuracy : 0.7792376893939394\n",
      "Best validation loss improved from 0.4614272713661194 to 0.4465115889906883\n",
      "\n",
      "\n",
      "Iteration 2/14 of epoch 16 complete. Loss : 0.2126133143901825 \n",
      "\n",
      "Iteration 4/14 of epoch 16 complete. Loss : 0.21986623853445053 \n",
      "\n",
      "Iteration 6/14 of epoch 16 complete. Loss : 0.222747340798378 \n",
      "\n",
      "Iteration 8/14 of epoch 16 complete. Loss : 0.2237229272723198 \n",
      "\n",
      "Iteration 10/14 of epoch 16 complete. Loss : 0.21892741322517395 \n",
      "\n",
      "Iteration 12/14 of epoch 16 complete. Loss : 0.19275442510843277 \n",
      "\n",
      "Iteration 14/14 of epoch 16 complete. Loss : 0.22471784055233002 \n",
      "\n",
      "Epoch 16 complete! Validation Loss : 0.43230777233839035\n",
      "Epoch 16 complete! Validation Accuracy : 0.7890033143939394\n",
      "Best validation loss improved from 0.4465115889906883 to 0.43230777233839035\n",
      "\n",
      "\n",
      "Iteration 2/14 of epoch 17 complete. Loss : 0.2101324126124382 \n"
     ]
    },
    {
     "name": "stderr",
     "output_type": "stream",
     "text": [
      "100%|██████████| 14/14 [00:00<00:00, 115.93it/s]\n",
      "100%|██████████| 4/4 [00:00<00:00, 117.62it/s]\n",
      "  0%|          | 0/14 [00:00<?, ?it/s]"
     ]
    },
    {
     "name": "stdout",
     "output_type": "stream",
     "text": [
      "\n",
      "Iteration 4/14 of epoch 17 complete. Loss : 0.20400341600179672 \n",
      "\n",
      "Iteration 6/14 of epoch 17 complete. Loss : 0.19180934876203537 \n",
      "\n",
      "Iteration 8/14 of epoch 17 complete. Loss : 0.22222588956356049 \n",
      "\n",
      "Iteration 10/14 of epoch 17 complete. Loss : 0.19493135809898376 \n",
      "\n",
      "Iteration 12/14 of epoch 17 complete. Loss : 0.20167481154203415 \n",
      "\n",
      "Iteration 14/14 of epoch 17 complete. Loss : 0.2680973634123802 \n",
      "\n",
      "Epoch 17 complete! Validation Loss : 0.4188561365008354\n",
      "Epoch 17 complete! Validation Accuracy : 0.7929095643939394\n",
      "Best validation loss improved from 0.43230777233839035 to 0.4188561365008354\n",
      "\n",
      "\n",
      "Iteration 2/14 of epoch 18 complete. Loss : 0.20254968106746674 \n",
      "\n",
      "Iteration 4/14 of epoch 18 complete. Loss : 0.20274891704320908 \n",
      "\n",
      "Iteration 6/14 of epoch 18 complete. Loss : 0.20213595032691956 \n"
     ]
    },
    {
     "name": "stderr",
     "output_type": "stream",
     "text": [
      "100%|██████████| 14/14 [00:00<00:00, 110.72it/s]\n",
      "100%|██████████| 4/4 [00:00<00:00, 135.74it/s]\n",
      "  0%|          | 0/14 [00:00<?, ?it/s]"
     ]
    },
    {
     "name": "stdout",
     "output_type": "stream",
     "text": [
      "\n",
      "Iteration 8/14 of epoch 18 complete. Loss : 0.20085327327251434 \n",
      "\n",
      "Iteration 10/14 of epoch 18 complete. Loss : 0.20396803319454193 \n",
      "\n",
      "Iteration 12/14 of epoch 18 complete. Loss : 0.19809232652187347 \n",
      "\n",
      "Iteration 14/14 of epoch 18 complete. Loss : 0.17173612117767334 \n",
      "\n",
      "Epoch 18 complete! Validation Loss : 0.40524399280548096\n",
      "Epoch 18 complete! Validation Accuracy : 0.810250946969697\n",
      "Best validation loss improved from 0.4188561365008354 to 0.40524399280548096\n",
      "\n",
      "\n",
      "Iteration 2/14 of epoch 19 complete. Loss : 0.1980617493391037 \n",
      "\n",
      "Iteration 4/14 of epoch 19 complete. Loss : 0.20352669805288315 \n",
      "\n",
      "Iteration 6/14 of epoch 19 complete. Loss : 0.1862116903066635 \n",
      "\n",
      "Iteration 8/14 of epoch 19 complete. Loss : 0.19717618077993393 \n"
     ]
    },
    {
     "name": "stderr",
     "output_type": "stream",
     "text": [
      "100%|██████████| 14/14 [00:00<00:00, 93.60it/s]\n",
      "100%|██████████| 4/4 [00:00<00:00, 200.18it/s]\n",
      "  0%|          | 0/14 [00:00<?, ?it/s]"
     ]
    },
    {
     "name": "stdout",
     "output_type": "stream",
     "text": [
      "\n",
      "Iteration 10/14 of epoch 19 complete. Loss : 0.19579440355300903 \n",
      "\n",
      "Iteration 12/14 of epoch 19 complete. Loss : 0.17943670600652695 \n",
      "\n",
      "Iteration 14/14 of epoch 19 complete. Loss : 0.18567287921905518 \n",
      "\n",
      "Epoch 19 complete! Validation Loss : 0.3921489417552948\n",
      "Epoch 19 complete! Validation Accuracy : 0.823922821969697\n",
      "Best validation loss improved from 0.40524399280548096 to 0.3921489417552948\n",
      "\n",
      "\n",
      "Iteration 2/14 of epoch 20 complete. Loss : 0.19018590450286865 \n",
      "\n",
      "Iteration 4/14 of epoch 20 complete. Loss : 0.19222299754619598 \n",
      "\n",
      "Iteration 6/14 of epoch 20 complete. Loss : 0.19596895575523376 \n",
      "\n",
      "Iteration 8/14 of epoch 20 complete. Loss : 0.17753726243972778 \n",
      "\n",
      "Iteration 10/14 of epoch 20 complete. Loss : 0.18738484382629395 \n"
     ]
    },
    {
     "name": "stderr",
     "output_type": "stream",
     "text": [
      "100%|██████████| 14/14 [00:00<00:00, 105.05it/s]\n",
      "100%|██████████| 4/4 [00:00<00:00, 192.96it/s]\n",
      " 86%|████████▌ | 12/14 [00:00<00:00, 111.29it/s]"
     ]
    },
    {
     "name": "stdout",
     "output_type": "stream",
     "text": [
      "\n",
      "Iteration 12/14 of epoch 20 complete. Loss : 0.17940551787614822 \n",
      "\n",
      "Iteration 14/14 of epoch 20 complete. Loss : 0.1426374912261963 \n",
      "\n",
      "Epoch 20 complete! Validation Loss : 0.3796319514513016\n",
      "Epoch 20 complete! Validation Accuracy : 0.8468868371212122\n",
      "Best validation loss improved from 0.3921489417552948 to 0.3796319514513016\n",
      "\n",
      "\n",
      "Iteration 2/14 of epoch 21 complete. Loss : 0.18444860726594925 \n",
      "\n",
      "Iteration 4/14 of epoch 21 complete. Loss : 0.18299500644207 \n",
      "\n",
      "Iteration 6/14 of epoch 21 complete. Loss : 0.18033313751220703 \n",
      "\n",
      "Iteration 8/14 of epoch 21 complete. Loss : 0.17616838216781616 \n",
      "\n",
      "Iteration 10/14 of epoch 21 complete. Loss : 0.19517860561609268 \n",
      "\n",
      "Iteration 12/14 of epoch 21 complete. Loss : 0.17098723351955414 \n"
     ]
    },
    {
     "name": "stderr",
     "output_type": "stream",
     "text": [
      "100%|██████████| 14/14 [00:00<00:00, 111.73it/s]\n",
      "100%|██████████| 4/4 [00:00<00:00, 179.25it/s]\n",
      "100%|██████████| 14/14 [00:00<00:00, 114.55it/s]\n",
      "  0%|          | 0/4 [00:00<?, ?it/s]"
     ]
    },
    {
     "name": "stdout",
     "output_type": "stream",
     "text": [
      "\n",
      "Iteration 14/14 of epoch 21 complete. Loss : 0.11711251363158226 \n",
      "\n",
      "Epoch 21 complete! Validation Loss : 0.36799854040145874\n",
      "Epoch 21 complete! Validation Accuracy : 0.8546993371212122\n",
      "Best validation loss improved from 0.3796319514513016 to 0.36799854040145874\n",
      "\n",
      "\n",
      "Iteration 2/14 of epoch 22 complete. Loss : 0.1649482473731041 \n",
      "\n",
      "Iteration 4/14 of epoch 22 complete. Loss : 0.1722385138273239 \n",
      "\n",
      "Iteration 6/14 of epoch 22 complete. Loss : 0.18407028913497925 \n",
      "\n",
      "Iteration 8/14 of epoch 22 complete. Loss : 0.18680443614721298 \n",
      "\n",
      "Iteration 10/14 of epoch 22 complete. Loss : 0.1532006785273552 \n",
      "\n",
      "Iteration 12/14 of epoch 22 complete. Loss : 0.17765343934297562 \n",
      "\n",
      "Iteration 14/14 of epoch 22 complete. Loss : 0.14369605109095573 \n"
     ]
    },
    {
     "name": "stderr",
     "output_type": "stream",
     "text": [
      "100%|██████████| 4/4 [00:00<00:00, 168.43it/s]\n",
      "100%|██████████| 14/14 [00:00<00:00, 113.38it/s]\n",
      "100%|██████████| 4/4 [00:00<00:00, 152.12it/s]\n",
      "  0%|          | 0/14 [00:00<?, ?it/s]"
     ]
    },
    {
     "name": "stdout",
     "output_type": "stream",
     "text": [
      "\n",
      "Epoch 22 complete! Validation Loss : 0.3572186678647995\n",
      "Epoch 22 complete! Validation Accuracy : 0.8586055871212122\n",
      "Best validation loss improved from 0.36799854040145874 to 0.3572186678647995\n",
      "\n",
      "\n",
      "Iteration 2/14 of epoch 23 complete. Loss : 0.16443350166082382 \n",
      "\n",
      "Iteration 4/14 of epoch 23 complete. Loss : 0.18419907987117767 \n",
      "\n",
      "Iteration 6/14 of epoch 23 complete. Loss : 0.1548394039273262 \n",
      "\n",
      "Iteration 8/14 of epoch 23 complete. Loss : 0.16938438266515732 \n",
      "\n",
      "Iteration 10/14 of epoch 23 complete. Loss : 0.150901161134243 \n",
      "\n",
      "Iteration 12/14 of epoch 23 complete. Loss : 0.16801564395427704 \n",
      "\n",
      "Iteration 14/14 of epoch 23 complete. Loss : 0.15273667499423027 \n",
      "\n",
      "Epoch 23 complete! Validation Loss : 0.3477238118648529\n",
      "Epoch 23 complete! Validation Accuracy : 0.8700875946969697\n",
      "Best validation loss improved from 0.3572186678647995 to 0.3477238118648529\n",
      "\n"
     ]
    },
    {
     "name": "stderr",
     "output_type": "stream",
     "text": [
      "100%|██████████| 14/14 [00:00<00:00, 98.38it/s]\n",
      "100%|██████████| 4/4 [00:00<00:00, 135.79it/s]\n",
      "  0%|          | 0/14 [00:00<?, ?it/s]"
     ]
    },
    {
     "name": "stdout",
     "output_type": "stream",
     "text": [
      "\n",
      "Iteration 2/14 of epoch 24 complete. Loss : 0.15190745145082474 \n",
      "\n",
      "Iteration 4/14 of epoch 24 complete. Loss : 0.18444862216711044 \n",
      "\n",
      "Iteration 6/14 of epoch 24 complete. Loss : 0.15388020128011703 \n",
      "\n",
      "Iteration 8/14 of epoch 24 complete. Loss : 0.1606152206659317 \n",
      "\n",
      "Iteration 10/14 of epoch 24 complete. Loss : 0.1675829440355301 \n",
      "\n",
      "Iteration 12/14 of epoch 24 complete. Loss : 0.16021211445331573 \n",
      "\n",
      "Iteration 14/14 of epoch 24 complete. Loss : 0.1117701604962349 \n",
      "\n",
      "Epoch 24 complete! Validation Loss : 0.3389671519398689\n",
      "Epoch 24 complete! Validation Accuracy : 0.8759469696969697\n",
      "Best validation loss improved from 0.3477238118648529 to 0.3389671519398689\n",
      "\n"
     ]
    },
    {
     "name": "stderr",
     "output_type": "stream",
     "text": [
      "100%|██████████| 14/14 [00:00<00:00, 90.86it/s]\n",
      "100%|██████████| 4/4 [00:00<00:00, 138.05it/s]\n"
     ]
    },
    {
     "name": "stdout",
     "output_type": "stream",
     "text": [
      "\n",
      "Iteration 2/14 of epoch 25 complete. Loss : 0.15676233172416687 \n",
      "\n",
      "Iteration 4/14 of epoch 25 complete. Loss : 0.16827117651700974 \n",
      "\n",
      "Iteration 6/14 of epoch 25 complete. Loss : 0.16030338406562805 \n",
      "\n",
      "Iteration 8/14 of epoch 25 complete. Loss : 0.16314628720283508 \n",
      "\n",
      "Iteration 10/14 of epoch 25 complete. Loss : 0.1599908471107483 \n",
      "\n",
      "Iteration 12/14 of epoch 25 complete. Loss : 0.13560358807444572 \n",
      "\n",
      "Iteration 14/14 of epoch 25 complete. Loss : 0.16319257766008377 \n"
     ]
    },
    {
     "name": "stderr",
     "output_type": "stream",
     "text": [
      "100%|██████████| 14/14 [00:00<00:00, 87.76it/s]\n",
      "100%|██████████| 4/4 [00:00<00:00, 194.43it/s]"
     ]
    },
    {
     "name": "stdout",
     "output_type": "stream",
     "text": [
      "\n",
      "Epoch 25 complete! Validation Loss : 0.3299260884523392\n",
      "Epoch 25 complete! Validation Accuracy : 0.8837594696969697\n",
      "Best validation loss improved from 0.3389671519398689 to 0.3299260884523392\n",
      "\n",
      "\n",
      "Iteration 2/14 of epoch 26 complete. Loss : 0.1559087410569191 \n",
      "\n",
      "Iteration 4/14 of epoch 26 complete. Loss : 0.15931573510169983 \n",
      "\n",
      "Iteration 6/14 of epoch 26 complete. Loss : 0.14610061049461365 \n",
      "\n",
      "Iteration 8/14 of epoch 26 complete. Loss : 0.1278286874294281 \n",
      "\n",
      "Iteration 10/14 of epoch 26 complete. Loss : 0.14862125366926193 \n",
      "\n",
      "Iteration 12/14 of epoch 26 complete. Loss : 0.1788530945777893 \n",
      "\n",
      "Iteration 14/14 of epoch 26 complete. Loss : 0.11294250562787056 \n"
     ]
    },
    {
     "name": "stderr",
     "output_type": "stream",
     "text": [
      "\n",
      "100%|██████████| 14/14 [00:00<00:00, 109.30it/s]\n",
      "100%|██████████| 4/4 [00:00<00:00, 147.88it/s]\n",
      "  0%|          | 0/14 [00:00<?, ?it/s]"
     ]
    },
    {
     "name": "stdout",
     "output_type": "stream",
     "text": [
      "\n",
      "Epoch 26 complete! Validation Loss : 0.3209846764802933\n",
      "Epoch 26 complete! Validation Accuracy : 0.8896188446969697\n",
      "Best validation loss improved from 0.3299260884523392 to 0.3209846764802933\n",
      "\n",
      "\n",
      "Iteration 2/14 of epoch 27 complete. Loss : 0.17166109383106232 \n",
      "\n",
      "Iteration 4/14 of epoch 27 complete. Loss : 0.15227866172790527 \n",
      "\n",
      "Iteration 6/14 of epoch 27 complete. Loss : 0.15430424362421036 \n",
      "\n",
      "Iteration 8/14 of epoch 27 complete. Loss : 0.14821161329746246 \n",
      "\n",
      "Iteration 10/14 of epoch 27 complete. Loss : 0.14240378141403198 \n",
      "\n",
      "Iteration 12/14 of epoch 27 complete. Loss : 0.13172132521867752 \n",
      "\n",
      "Iteration 14/14 of epoch 27 complete. Loss : 0.1111866645514965 \n",
      "\n",
      "Epoch 27 complete! Validation Loss : 0.3134106695652008\n",
      "Epoch 27 complete! Validation Accuracy : 0.8857125946969697\n",
      "Best validation loss improved from 0.3209846764802933 to 0.3134106695652008\n",
      "\n"
     ]
    },
    {
     "name": "stderr",
     "output_type": "stream",
     "text": [
      "100%|██████████| 14/14 [00:00<00:00, 107.81it/s]\n",
      "100%|██████████| 4/4 [00:00<00:00, 147.74it/s]\n",
      "  0%|          | 0/14 [00:00<?, ?it/s]"
     ]
    },
    {
     "name": "stdout",
     "output_type": "stream",
     "text": [
      "\n",
      "Iteration 2/14 of epoch 28 complete. Loss : 0.14433271437883377 \n",
      "\n",
      "Iteration 4/14 of epoch 28 complete. Loss : 0.15618591755628586 \n",
      "\n",
      "Iteration 6/14 of epoch 28 complete. Loss : 0.11724089831113815 \n",
      "\n",
      "Iteration 8/14 of epoch 28 complete. Loss : 0.15362516790628433 \n",
      "\n",
      "Iteration 10/14 of epoch 28 complete. Loss : 0.1405409425497055 \n",
      "\n",
      "Iteration 12/14 of epoch 28 complete. Loss : 0.15532495826482773 \n",
      "\n",
      "Iteration 14/14 of epoch 28 complete. Loss : 0.18843024969100952 \n",
      "\n",
      "Epoch 28 complete! Validation Loss : 0.3075258210301399\n",
      "Epoch 28 complete! Validation Accuracy : 0.8896188446969697\n",
      "Best validation loss improved from 0.3134106695652008 to 0.3075258210301399\n",
      "\n",
      "\n",
      "Iteration 2/14 of epoch 29 complete. Loss : 0.14500761032104492 \n",
      "\n",
      "Iteration 4/14 of epoch 29 complete. Loss : 0.1524200141429901 \n"
     ]
    },
    {
     "name": "stderr",
     "output_type": "stream",
     "text": [
      "100%|██████████| 14/14 [00:00<00:00, 101.74it/s]\n",
      "100%|██████████| 4/4 [00:00<00:00, 189.38it/s]\n",
      "  0%|          | 0/14 [00:00<?, ?it/s]"
     ]
    },
    {
     "name": "stdout",
     "output_type": "stream",
     "text": [
      "\n",
      "Iteration 6/14 of epoch 29 complete. Loss : 0.1347089782357216 \n",
      "\n",
      "Iteration 8/14 of epoch 29 complete. Loss : 0.13816066831350327 \n",
      "\n",
      "Iteration 10/14 of epoch 29 complete. Loss : 0.1551516056060791 \n",
      "\n",
      "Iteration 12/14 of epoch 29 complete. Loss : 0.12225516885519028 \n",
      "\n",
      "Iteration 14/14 of epoch 29 complete. Loss : 0.08498750813305378 \n",
      "\n",
      "Epoch 29 complete! Validation Loss : 0.3011249899864197\n",
      "Epoch 29 complete! Validation Accuracy : 0.8915719696969697\n",
      "Best validation loss improved from 0.3075258210301399 to 0.3011249899864197\n",
      "\n",
      "\n",
      "Iteration 2/14 of epoch 30 complete. Loss : 0.12601493299007416 \n",
      "\n",
      "Iteration 4/14 of epoch 30 complete. Loss : 0.14657952636480331 \n",
      "\n",
      "Iteration 6/14 of epoch 30 complete. Loss : 0.12342357635498047 \n"
     ]
    },
    {
     "name": "stderr",
     "output_type": "stream",
     "text": [
      "100%|██████████| 14/14 [00:00<00:00, 104.72it/s]\n",
      "100%|██████████| 4/4 [00:00<00:00, 202.67it/s]\n",
      "  0%|          | 0/14 [00:00<?, ?it/s]"
     ]
    },
    {
     "name": "stdout",
     "output_type": "stream",
     "text": [
      "\n",
      "Iteration 8/14 of epoch 30 complete. Loss : 0.13517460227012634 \n",
      "\n",
      "Iteration 10/14 of epoch 30 complete. Loss : 0.14386747777462006 \n",
      "\n",
      "Iteration 12/14 of epoch 30 complete. Loss : 0.13926608115434647 \n",
      "\n",
      "Iteration 14/14 of epoch 30 complete. Loss : 0.1575620397925377 \n",
      "\n",
      "Epoch 30 complete! Validation Loss : 0.2956386134028435\n",
      "Epoch 30 complete! Validation Accuracy : 0.8935250946969697\n",
      "Best validation loss improved from 0.3011249899864197 to 0.2956386134028435\n",
      "\n",
      "\n",
      "Iteration 2/14 of epoch 31 complete. Loss : 0.14536914229393005 \n",
      "\n",
      "Iteration 4/14 of epoch 31 complete. Loss : 0.13132598996162415 \n",
      "\n",
      "Iteration 6/14 of epoch 31 complete. Loss : 0.13744989037513733 \n",
      "\n",
      "Iteration 8/14 of epoch 31 complete. Loss : 0.1496610939502716 \n"
     ]
    },
    {
     "name": "stderr",
     "output_type": "stream",
     "text": [
      "100%|██████████| 14/14 [00:00<00:00, 111.00it/s]\n",
      "100%|██████████| 4/4 [00:00<00:00, 147.49it/s]\n",
      " 79%|███████▊  | 11/14 [00:00<00:00, 104.34it/s]"
     ]
    },
    {
     "name": "stdout",
     "output_type": "stream",
     "text": [
      "\n",
      "Iteration 10/14 of epoch 31 complete. Loss : 0.12402353808283806 \n",
      "\n",
      "Iteration 12/14 of epoch 31 complete. Loss : 0.12344566732645035 \n",
      "\n",
      "Iteration 14/14 of epoch 31 complete. Loss : 0.12668858468532562 \n",
      "\n",
      "Epoch 31 complete! Validation Loss : 0.2899179756641388\n",
      "Epoch 31 complete! Validation Accuracy : 0.8993844696969697\n",
      "Best validation loss improved from 0.2956386134028435 to 0.2899179756641388\n",
      "\n",
      "\n",
      "Iteration 2/14 of epoch 32 complete. Loss : 0.14652298390865326 \n",
      "\n",
      "Iteration 4/14 of epoch 32 complete. Loss : 0.1281590536236763 \n",
      "\n",
      "Iteration 6/14 of epoch 32 complete. Loss : 0.12275118753314018 \n",
      "\n",
      "Iteration 8/14 of epoch 32 complete. Loss : 0.12175774201750755 \n",
      "\n",
      "Iteration 10/14 of epoch 32 complete. Loss : 0.12277927622199059 \n"
     ]
    },
    {
     "name": "stderr",
     "output_type": "stream",
     "text": [
      "100%|██████████| 14/14 [00:00<00:00, 102.76it/s]\n",
      "100%|██████████| 4/4 [00:00<00:00, 163.23it/s]\n",
      " 79%|███████▊  | 11/14 [00:00<00:00, 106.27it/s]"
     ]
    },
    {
     "name": "stdout",
     "output_type": "stream",
     "text": [
      "\n",
      "Iteration 12/14 of epoch 32 complete. Loss : 0.12818467244505882 \n",
      "\n",
      "Iteration 14/14 of epoch 32 complete. Loss : 0.13093331456184387 \n",
      "\n",
      "Epoch 32 complete! Validation Loss : 0.28541821241378784\n",
      "Epoch 32 complete! Validation Accuracy : 0.9052438446969697\n",
      "Best validation loss improved from 0.2899179756641388 to 0.28541821241378784\n",
      "\n",
      "\n",
      "Iteration 2/14 of epoch 33 complete. Loss : 0.11516935750842094 \n",
      "\n",
      "Iteration 4/14 of epoch 33 complete. Loss : 0.14690358936786652 \n",
      "\n",
      "Iteration 6/14 of epoch 33 complete. Loss : 0.1342727169394493 \n",
      "\n",
      "Iteration 8/14 of epoch 33 complete. Loss : 0.12031318619847298 \n",
      "\n",
      "Iteration 10/14 of epoch 33 complete. Loss : 0.13379303365945816 \n",
      "\n",
      "Iteration 12/14 of epoch 33 complete. Loss : 0.11202114075422287 \n"
     ]
    },
    {
     "name": "stderr",
     "output_type": "stream",
     "text": [
      "100%|██████████| 14/14 [00:00<00:00, 100.10it/s]\n",
      "100%|██████████| 4/4 [00:00<00:00, 185.20it/s]\n",
      "100%|██████████| 14/14 [00:00<00:00, 113.37it/s]\n",
      "  0%|          | 0/4 [00:00<?, ?it/s]"
     ]
    },
    {
     "name": "stdout",
     "output_type": "stream",
     "text": [
      "\n",
      "Iteration 14/14 of epoch 33 complete. Loss : 0.0995415523648262 \n",
      "\n",
      "Epoch 33 complete! Validation Loss : 0.2814337946474552\n",
      "Epoch 33 complete! Validation Accuracy : 0.9052438446969697\n",
      "Best validation loss improved from 0.28541821241378784 to 0.2814337946474552\n",
      "\n",
      "\n",
      "Iteration 2/14 of epoch 34 complete. Loss : 0.15963856130838394 \n",
      "\n",
      "Iteration 4/14 of epoch 34 complete. Loss : 0.10706222057342529 \n",
      "\n",
      "Iteration 6/14 of epoch 34 complete. Loss : 0.12530745938420296 \n",
      "\n",
      "Iteration 8/14 of epoch 34 complete. Loss : 0.12805462628602982 \n",
      "\n",
      "Iteration 10/14 of epoch 34 complete. Loss : 0.13176646083593369 \n",
      "\n",
      "Iteration 12/14 of epoch 34 complete. Loss : 0.10508869215846062 \n",
      "\n",
      "Iteration 14/14 of epoch 34 complete. Loss : 0.13809959217905998 \n"
     ]
    },
    {
     "name": "stderr",
     "output_type": "stream",
     "text": [
      "100%|██████████| 4/4 [00:00<00:00, 169.79it/s]\n",
      "100%|██████████| 14/14 [00:00<00:00, 103.15it/s]\n",
      "100%|██████████| 4/4 [00:00<00:00, 148.04it/s]\n",
      "  0%|          | 0/14 [00:00<?, ?it/s]"
     ]
    },
    {
     "name": "stdout",
     "output_type": "stream",
     "text": [
      "\n",
      "Epoch 34 complete! Validation Loss : 0.27820099517703056\n",
      "Epoch 34 complete! Validation Accuracy : 0.9032907196969697\n",
      "Best validation loss improved from 0.2814337946474552 to 0.27820099517703056\n",
      "\n",
      "\n",
      "Iteration 2/14 of epoch 35 complete. Loss : 0.12431540712714195 \n",
      "\n",
      "Iteration 4/14 of epoch 35 complete. Loss : 0.12002664804458618 \n",
      "\n",
      "Iteration 6/14 of epoch 35 complete. Loss : 0.1168988011777401 \n",
      "\n",
      "Iteration 8/14 of epoch 35 complete. Loss : 0.13123739510774612 \n",
      "\n",
      "Iteration 10/14 of epoch 35 complete. Loss : 0.12293067201972008 \n",
      "\n",
      "Iteration 12/14 of epoch 35 complete. Loss : 0.11444160342216492 \n",
      "\n",
      "Iteration 14/14 of epoch 35 complete. Loss : 0.21969053894281387 \n",
      "\n",
      "Epoch 35 complete! Validation Loss : 0.2763434574007988\n",
      "Epoch 35 complete! Validation Accuracy : 0.8974313446969697\n",
      "Best validation loss improved from 0.27820099517703056 to 0.2763434574007988\n",
      "\n"
     ]
    },
    {
     "name": "stderr",
     "output_type": "stream",
     "text": [
      "100%|██████████| 14/14 [00:00<00:00, 102.70it/s]\n",
      "100%|██████████| 4/4 [00:00<00:00, 145.63it/s]\n",
      "  0%|          | 0/14 [00:00<?, ?it/s]"
     ]
    },
    {
     "name": "stdout",
     "output_type": "stream",
     "text": [
      "\n",
      "Iteration 2/14 of epoch 36 complete. Loss : 0.1261136159300804 \n",
      "\n",
      "Iteration 4/14 of epoch 36 complete. Loss : 0.12361069023609161 \n",
      "\n",
      "Iteration 6/14 of epoch 36 complete. Loss : 0.12899502366781235 \n",
      "\n",
      "Iteration 8/14 of epoch 36 complete. Loss : 0.11668899655342102 \n",
      "\n",
      "Iteration 10/14 of epoch 36 complete. Loss : 0.11343095824122429 \n",
      "\n",
      "Iteration 12/14 of epoch 36 complete. Loss : 0.11201879009604454 \n",
      "\n",
      "Iteration 14/14 of epoch 36 complete. Loss : 0.12281238287687302 \n",
      "\n",
      "Epoch 36 complete! Validation Loss : 0.27141378819942474\n",
      "Epoch 36 complete! Validation Accuracy : 0.9013375946969697\n",
      "Best validation loss improved from 0.2763434574007988 to 0.27141378819942474\n",
      "\n"
     ]
    },
    {
     "name": "stderr",
     "output_type": "stream",
     "text": [
      "100%|██████████| 14/14 [00:00<00:00, 104.62it/s]\n",
      "100%|██████████| 4/4 [00:00<00:00, 145.02it/s]\n",
      "  0%|          | 0/14 [00:00<?, ?it/s]"
     ]
    },
    {
     "name": "stdout",
     "output_type": "stream",
     "text": [
      "\n",
      "Iteration 2/14 of epoch 37 complete. Loss : 0.13504499942064285 \n",
      "\n",
      "Iteration 4/14 of epoch 37 complete. Loss : 0.10475416481494904 \n",
      "\n",
      "Iteration 6/14 of epoch 37 complete. Loss : 0.11306942254304886 \n",
      "\n",
      "Iteration 8/14 of epoch 37 complete. Loss : 0.10830723494291306 \n",
      "\n",
      "Iteration 10/14 of epoch 37 complete. Loss : 0.11966647207736969 \n",
      "\n",
      "Iteration 12/14 of epoch 37 complete. Loss : 0.1317533776164055 \n",
      "\n",
      "Iteration 14/14 of epoch 37 complete. Loss : 0.12212163954973221 \n",
      "\n",
      "Epoch 37 complete! Validation Loss : 0.2676985524594784\n",
      "Epoch 37 complete! Validation Accuracy : 0.9032907196969697\n",
      "Best validation loss improved from 0.27141378819942474 to 0.2676985524594784\n",
      "\n",
      "\n",
      "Iteration 2/14 of epoch 38 complete. Loss : 0.10782887786626816 \n"
     ]
    },
    {
     "name": "stderr",
     "output_type": "stream",
     "text": [
      "100%|██████████| 14/14 [00:00<00:00, 113.23it/s]\n",
      "100%|██████████| 4/4 [00:00<00:00, 169.61it/s]\n",
      "  0%|          | 0/14 [00:00<?, ?it/s]"
     ]
    },
    {
     "name": "stdout",
     "output_type": "stream",
     "text": [
      "\n",
      "Iteration 4/14 of epoch 38 complete. Loss : 0.09390789642930031 \n",
      "\n",
      "Iteration 6/14 of epoch 38 complete. Loss : 0.11383573710918427 \n",
      "\n",
      "Iteration 8/14 of epoch 38 complete. Loss : 0.13161564618349075 \n",
      "\n",
      "Iteration 10/14 of epoch 38 complete. Loss : 0.12970850989222527 \n",
      "\n",
      "Iteration 12/14 of epoch 38 complete. Loss : 0.1100441925227642 \n",
      "\n",
      "Iteration 14/14 of epoch 38 complete. Loss : 0.0777184497565031 \n",
      "\n",
      "Epoch 38 complete! Validation Loss : 0.26458362117409706\n",
      "Epoch 38 complete! Validation Accuracy : 0.9032907196969697\n",
      "Best validation loss improved from 0.2676985524594784 to 0.26458362117409706\n",
      "\n",
      "\n",
      "Iteration 2/14 of epoch 39 complete. Loss : 0.11006883531808853 \n",
      "\n",
      "Iteration 4/14 of epoch 39 complete. Loss : 0.09732285514473915 \n",
      "\n",
      "Iteration 6/14 of epoch 39 complete. Loss : 0.11532861366868019 \n"
     ]
    },
    {
     "name": "stderr",
     "output_type": "stream",
     "text": [
      "100%|██████████| 14/14 [00:00<00:00, 115.46it/s]\n",
      "100%|██████████| 4/4 [00:00<00:00, 185.72it/s]\n",
      "  0%|          | 0/14 [00:00<?, ?it/s]"
     ]
    },
    {
     "name": "stdout",
     "output_type": "stream",
     "text": [
      "\n",
      "Iteration 8/14 of epoch 39 complete. Loss : 0.09308954700827599 \n",
      "\n",
      "Iteration 10/14 of epoch 39 complete. Loss : 0.10826137661933899 \n",
      "\n",
      "Iteration 12/14 of epoch 39 complete. Loss : 0.12226003035902977 \n",
      "\n",
      "Iteration 14/14 of epoch 39 complete. Loss : 0.19463523477315903 \n",
      "\n",
      "Epoch 39 complete! Validation Loss : 0.26142677664756775\n",
      "Epoch 39 complete! Validation Accuracy : 0.9032907196969697\n",
      "Best validation loss improved from 0.26458362117409706 to 0.26142677664756775\n",
      "\n",
      "\n",
      "Iteration 2/14 of epoch 40 complete. Loss : 0.10665557906031609 \n",
      "\n",
      "Iteration 4/14 of epoch 40 complete. Loss : 0.11835305392742157 \n",
      "\n",
      "Iteration 6/14 of epoch 40 complete. Loss : 0.12485919892787933 \n",
      "\n",
      "Iteration 8/14 of epoch 40 complete. Loss : 0.0952904187142849 \n",
      "\n",
      "Iteration 10/14 of epoch 40 complete. Loss : 0.1080484427511692 \n"
     ]
    },
    {
     "name": "stderr",
     "output_type": "stream",
     "text": [
      "100%|██████████| 14/14 [00:00<00:00, 104.23it/s]\n",
      "100%|██████████| 4/4 [00:00<00:00, 179.79it/s]\n",
      " 86%|████████▌ | 12/14 [00:00<00:00, 117.05it/s]"
     ]
    },
    {
     "name": "stdout",
     "output_type": "stream",
     "text": [
      "\n",
      "Iteration 12/14 of epoch 40 complete. Loss : 0.11155765876173973 \n",
      "\n",
      "Iteration 14/14 of epoch 40 complete. Loss : 0.1937979832291603 \n",
      "\n",
      "Epoch 40 complete! Validation Loss : 0.2564661465585232\n",
      "Epoch 40 complete! Validation Accuracy : 0.9111032196969697\n",
      "Best validation loss improved from 0.26142677664756775 to 0.2564661465585232\n",
      "\n",
      "\n",
      "Iteration 2/14 of epoch 41 complete. Loss : 0.12416689842939377 \n",
      "\n",
      "Iteration 4/14 of epoch 41 complete. Loss : 0.09739387035369873 \n",
      "\n",
      "Iteration 6/14 of epoch 41 complete. Loss : 0.10605236142873764 \n",
      "\n",
      "Iteration 8/14 of epoch 41 complete. Loss : 0.10737542062997818 \n",
      "\n",
      "Iteration 10/14 of epoch 41 complete. Loss : 0.109669528901577 \n",
      "\n",
      "Iteration 12/14 of epoch 41 complete. Loss : 0.11070100590586662 \n"
     ]
    },
    {
     "name": "stderr",
     "output_type": "stream",
     "text": [
      "100%|██████████| 14/14 [00:00<00:00, 106.72it/s]\n",
      "100%|██████████| 4/4 [00:00<00:00, 184.03it/s]\n",
      "100%|██████████| 14/14 [00:00<00:00, 115.41it/s]\n",
      "  0%|          | 0/4 [00:00<?, ?it/s]"
     ]
    },
    {
     "name": "stdout",
     "output_type": "stream",
     "text": [
      "\n",
      "Iteration 14/14 of epoch 41 complete. Loss : 0.08276748284697533 \n",
      "\n",
      "Epoch 41 complete! Validation Loss : 0.25339410454034805\n",
      "Epoch 41 complete! Validation Accuracy : 0.9111032196969697\n",
      "Best validation loss improved from 0.2564661465585232 to 0.25339410454034805\n",
      "\n",
      "\n",
      "Iteration 2/14 of epoch 42 complete. Loss : 0.11139444261789322 \n",
      "\n",
      "Iteration 4/14 of epoch 42 complete. Loss : 0.09988301992416382 \n",
      "\n",
      "Iteration 6/14 of epoch 42 complete. Loss : 0.0895390622317791 \n",
      "\n",
      "Iteration 8/14 of epoch 42 complete. Loss : 0.0984615832567215 \n",
      "\n",
      "Iteration 10/14 of epoch 42 complete. Loss : 0.11497241258621216 \n",
      "\n",
      "Iteration 12/14 of epoch 42 complete. Loss : 0.11666183918714523 \n",
      "\n",
      "Iteration 14/14 of epoch 42 complete. Loss : 0.10109008848667145 \n"
     ]
    },
    {
     "name": "stderr",
     "output_type": "stream",
     "text": [
      "100%|██████████| 4/4 [00:00<00:00, 142.78it/s]\n",
      "100%|██████████| 14/14 [00:00<00:00, 117.82it/s]\n",
      "100%|██████████| 4/4 [00:00<00:00, 145.48it/s]\n",
      "  0%|          | 0/14 [00:00<?, ?it/s]"
     ]
    },
    {
     "name": "stdout",
     "output_type": "stream",
     "text": [
      "\n",
      "Epoch 42 complete! Validation Loss : 0.2520419508218765\n",
      "Epoch 42 complete! Validation Accuracy : 0.9111032196969697\n",
      "Best validation loss improved from 0.25339410454034805 to 0.2520419508218765\n",
      "\n",
      "\n",
      "Iteration 2/14 of epoch 43 complete. Loss : 0.1029166728258133 \n",
      "\n",
      "Iteration 4/14 of epoch 43 complete. Loss : 0.10949651524424553 \n",
      "\n",
      "Iteration 6/14 of epoch 43 complete. Loss : 0.11737392470240593 \n",
      "\n",
      "Iteration 8/14 of epoch 43 complete. Loss : 0.11302339658141136 \n",
      "\n",
      "Iteration 10/14 of epoch 43 complete. Loss : 0.09622257202863693 \n",
      "\n",
      "Iteration 12/14 of epoch 43 complete. Loss : 0.08719001710414886 \n",
      "\n",
      "Iteration 14/14 of epoch 43 complete. Loss : 0.24631235003471375 \n",
      "\n",
      "Epoch 43 complete! Validation Loss : 0.24827643483877182\n",
      "Epoch 43 complete! Validation Accuracy : 0.9111032196969697\n",
      "Best validation loss improved from 0.2520419508218765 to 0.24827643483877182\n",
      "\n",
      "\n",
      "Iteration 2/14 of epoch 44 complete. Loss : 0.10372251644730568 \n"
     ]
    },
    {
     "name": "stderr",
     "output_type": "stream",
     "text": [
      "100%|██████████| 14/14 [00:00<00:00, 109.91it/s]\n",
      "100%|██████████| 4/4 [00:00<00:00, 145.21it/s]\n",
      "  0%|          | 0/14 [00:00<?, ?it/s]"
     ]
    },
    {
     "name": "stdout",
     "output_type": "stream",
     "text": [
      "\n",
      "Iteration 4/14 of epoch 44 complete. Loss : 0.11657832562923431 \n",
      "\n",
      "Iteration 6/14 of epoch 44 complete. Loss : 0.10478964075446129 \n",
      "\n",
      "Iteration 8/14 of epoch 44 complete. Loss : 0.09816799685359001 \n",
      "\n",
      "Iteration 10/14 of epoch 44 complete. Loss : 0.08897648751735687 \n",
      "\n",
      "Iteration 12/14 of epoch 44 complete. Loss : 0.10934578627347946 \n",
      "\n",
      "Iteration 14/14 of epoch 44 complete. Loss : 0.08920818194746971 \n",
      "\n",
      "Epoch 44 complete! Validation Loss : 0.24236391484737396\n",
      "Epoch 44 complete! Validation Accuracy : 0.9130563446969697\n",
      "Best validation loss improved from 0.24827643483877182 to 0.24236391484737396\n",
      "\n",
      "\n",
      "Iteration 2/14 of epoch 45 complete. Loss : 0.113521046936512 \n",
      "\n",
      "Iteration 4/14 of epoch 45 complete. Loss : 0.11014362424612045 \n",
      "\n",
      "Iteration 6/14 of epoch 45 complete. Loss : 0.10760664939880371 \n"
     ]
    },
    {
     "name": "stderr",
     "output_type": "stream",
     "text": [
      "100%|██████████| 14/14 [00:00<00:00, 117.12it/s]\n",
      "100%|██████████| 4/4 [00:00<00:00, 167.39it/s]\n",
      "  0%|          | 0/14 [00:00<?, ?it/s]"
     ]
    },
    {
     "name": "stdout",
     "output_type": "stream",
     "text": [
      "\n",
      "Iteration 8/14 of epoch 45 complete. Loss : 0.09769051894545555 \n",
      "\n",
      "Iteration 10/14 of epoch 45 complete. Loss : 0.09249275177717209 \n",
      "\n",
      "Iteration 12/14 of epoch 45 complete. Loss : 0.08594861254096031 \n",
      "\n",
      "Iteration 14/14 of epoch 45 complete. Loss : 0.11534877121448517 \n",
      "\n",
      "Epoch 45 complete! Validation Loss : 0.24010811373591423\n",
      "Epoch 45 complete! Validation Accuracy : 0.9130563446969697\n",
      "Best validation loss improved from 0.24236391484737396 to 0.24010811373591423\n",
      "\n",
      "\n",
      "Iteration 2/14 of epoch 46 complete. Loss : 0.10853270068764687 \n",
      "\n",
      "Iteration 4/14 of epoch 46 complete. Loss : 0.07791107892990112 \n",
      "\n",
      "Iteration 6/14 of epoch 46 complete. Loss : 0.11925611644983292 \n",
      "\n",
      "Iteration 8/14 of epoch 46 complete. Loss : 0.10092786699533463 \n",
      "\n",
      "Iteration 10/14 of epoch 46 complete. Loss : 0.08053622022271156 \n"
     ]
    },
    {
     "name": "stderr",
     "output_type": "stream",
     "text": [
      "100%|██████████| 14/14 [00:00<00:00, 102.95it/s]\n",
      "100%|██████████| 4/4 [00:00<00:00, 169.32it/s]\n",
      " 86%|████████▌ | 12/14 [00:00<00:00, 113.65it/s]"
     ]
    },
    {
     "name": "stdout",
     "output_type": "stream",
     "text": [
      "\n",
      "Iteration 12/14 of epoch 46 complete. Loss : 0.10887404903769493 \n",
      "\n",
      "Iteration 14/14 of epoch 46 complete. Loss : 0.12609755247831345 \n",
      "\n",
      "Epoch 46 complete! Validation Loss : 0.23751434683799744\n",
      "Epoch 46 complete! Validation Accuracy : 0.9150094696969697\n",
      "Best validation loss improved from 0.24010811373591423 to 0.23751434683799744\n",
      "\n",
      "\n",
      "Iteration 2/14 of epoch 47 complete. Loss : 0.10406862199306488 \n",
      "\n",
      "Iteration 4/14 of epoch 47 complete. Loss : 0.09432001784443855 \n",
      "\n",
      "Iteration 6/14 of epoch 47 complete. Loss : 0.09571893885731697 \n",
      "\n",
      "Iteration 8/14 of epoch 47 complete. Loss : 0.09889144822955132 \n",
      "\n",
      "Iteration 10/14 of epoch 47 complete. Loss : 0.1059822328388691 \n",
      "\n",
      "Iteration 12/14 of epoch 47 complete. Loss : 0.0873941108584404 \n"
     ]
    },
    {
     "name": "stderr",
     "output_type": "stream",
     "text": [
      "100%|██████████| 14/14 [00:00<00:00, 108.24it/s]\n",
      "100%|██████████| 4/4 [00:00<00:00, 189.71it/s]\n",
      "100%|██████████| 14/14 [00:00<00:00, 105.39it/s]\n",
      "  0%|          | 0/4 [00:00<?, ?it/s]"
     ]
    },
    {
     "name": "stdout",
     "output_type": "stream",
     "text": [
      "\n",
      "Iteration 14/14 of epoch 47 complete. Loss : 0.07788501679897308 \n",
      "\n",
      "Epoch 47 complete! Validation Loss : 0.23260648176074028\n",
      "Epoch 47 complete! Validation Accuracy : 0.9150094696969697\n",
      "Best validation loss improved from 0.23751434683799744 to 0.23260648176074028\n",
      "\n",
      "\n",
      "Iteration 2/14 of epoch 48 complete. Loss : 0.09489869698882103 \n",
      "\n",
      "Iteration 4/14 of epoch 48 complete. Loss : 0.1042734794318676 \n",
      "\n",
      "Iteration 6/14 of epoch 48 complete. Loss : 0.09980924054980278 \n",
      "\n",
      "Iteration 8/14 of epoch 48 complete. Loss : 0.08447915688157082 \n",
      "\n",
      "Iteration 10/14 of epoch 48 complete. Loss : 0.1102374903857708 \n",
      "\n",
      "Iteration 12/14 of epoch 48 complete. Loss : 0.07991808652877808 \n",
      "\n",
      "Iteration 14/14 of epoch 48 complete. Loss : 0.12399019673466682 \n"
     ]
    },
    {
     "name": "stderr",
     "output_type": "stream",
     "text": [
      "100%|██████████| 4/4 [00:00<00:00, 138.41it/s]\n",
      "100%|██████████| 14/14 [00:00<00:00, 110.52it/s]\n",
      "100%|██████████| 4/4 [00:00<00:00, 153.37it/s]\n",
      "  0%|          | 0/14 [00:00<?, ?it/s]"
     ]
    },
    {
     "name": "stdout",
     "output_type": "stream",
     "text": [
      "\n",
      "Epoch 48 complete! Validation Loss : 0.23034822940826416\n",
      "Epoch 48 complete! Validation Accuracy : 0.9150094696969697\n",
      "Best validation loss improved from 0.23260648176074028 to 0.23034822940826416\n",
      "\n",
      "\n",
      "Iteration 2/14 of epoch 49 complete. Loss : 0.10943299159407616 \n",
      "\n",
      "Iteration 4/14 of epoch 49 complete. Loss : 0.08761494606733322 \n",
      "\n",
      "Iteration 6/14 of epoch 49 complete. Loss : 0.08641444146633148 \n",
      "\n",
      "Iteration 8/14 of epoch 49 complete. Loss : 0.10337156429886818 \n",
      "\n",
      "Iteration 10/14 of epoch 49 complete. Loss : 0.08575407415628433 \n",
      "\n",
      "Iteration 12/14 of epoch 49 complete. Loss : 0.08667837455868721 \n",
      "\n",
      "Iteration 14/14 of epoch 49 complete. Loss : 0.13351887464523315 \n",
      "\n",
      "Epoch 49 complete! Validation Loss : 0.22918802872300148\n",
      "Epoch 49 complete! Validation Accuracy : 0.9150094696969697\n",
      "Best validation loss improved from 0.23034822940826416 to 0.22918802872300148\n",
      "\n"
     ]
    },
    {
     "name": "stderr",
     "output_type": "stream",
     "text": [
      "100%|██████████| 14/14 [00:00<00:00, 105.18it/s]\n",
      "100%|██████████| 4/4 [00:00<00:00, 179.12it/s]\n",
      "  0%|          | 0/14 [00:00<?, ?it/s]"
     ]
    },
    {
     "name": "stdout",
     "output_type": "stream",
     "text": [
      "\n",
      "Iteration 2/14 of epoch 50 complete. Loss : 0.08719872683286667 \n",
      "\n",
      "Iteration 4/14 of epoch 50 complete. Loss : 0.09054071828722954 \n",
      "\n",
      "Iteration 6/14 of epoch 50 complete. Loss : 0.10581857711076736 \n",
      "\n",
      "Iteration 8/14 of epoch 50 complete. Loss : 0.10356828570365906 \n",
      "\n",
      "Iteration 10/14 of epoch 50 complete. Loss : 0.08075981587171555 \n",
      "\n",
      "Iteration 12/14 of epoch 50 complete. Loss : 0.0747619979083538 \n",
      "\n",
      "Iteration 14/14 of epoch 50 complete. Loss : 0.07625483348965645 \n",
      "\n",
      "Epoch 50 complete! Validation Loss : 0.22551792114973068\n",
      "Epoch 50 complete! Validation Accuracy : 0.9150094696969697\n",
      "Best validation loss improved from 0.22918802872300148 to 0.22551792114973068\n",
      "\n",
      "\n",
      "Iteration 2/14 of epoch 51 complete. Loss : 0.10196594148874283 \n"
     ]
    },
    {
     "name": "stderr",
     "output_type": "stream",
     "text": [
      "100%|██████████| 14/14 [00:00<00:00, 115.80it/s]\n",
      "100%|██████████| 4/4 [00:00<00:00, 148.20it/s]\n",
      "  0%|          | 0/14 [00:00<?, ?it/s]"
     ]
    },
    {
     "name": "stdout",
     "output_type": "stream",
     "text": [
      "\n",
      "Iteration 4/14 of epoch 51 complete. Loss : 0.09049398079514503 \n",
      "\n",
      "Iteration 6/14 of epoch 51 complete. Loss : 0.08567822352051735 \n",
      "\n",
      "Iteration 8/14 of epoch 51 complete. Loss : 0.09402909502387047 \n",
      "\n",
      "Iteration 10/14 of epoch 51 complete. Loss : 0.07147345319390297 \n",
      "\n",
      "Iteration 12/14 of epoch 51 complete. Loss : 0.08280130475759506 \n",
      "\n",
      "Iteration 14/14 of epoch 51 complete. Loss : 0.06626871973276138 \n",
      "\n",
      "Epoch 51 complete! Validation Loss : 0.22034788131713867\n",
      "Epoch 51 complete! Validation Accuracy : 0.9169625946969697\n",
      "Best validation loss improved from 0.22551792114973068 to 0.22034788131713867\n",
      "\n",
      "\n",
      "Iteration 2/14 of epoch 52 complete. Loss : 0.08207684010267258 \n",
      "\n",
      "Iteration 4/14 of epoch 52 complete. Loss : 0.09680699184536934 \n",
      "\n",
      "Iteration 6/14 of epoch 52 complete. Loss : 0.06549568474292755 \n"
     ]
    },
    {
     "name": "stderr",
     "output_type": "stream",
     "text": [
      "100%|██████████| 14/14 [00:00<00:00, 109.13it/s]\n",
      "100%|██████████| 4/4 [00:00<00:00, 171.60it/s]\n",
      "  0%|          | 0/14 [00:00<?, ?it/s]"
     ]
    },
    {
     "name": "stdout",
     "output_type": "stream",
     "text": [
      "\n",
      "Iteration 8/14 of epoch 52 complete. Loss : 0.08987729623913765 \n",
      "\n",
      "Iteration 10/14 of epoch 52 complete. Loss : 0.09207869693636894 \n",
      "\n",
      "Iteration 12/14 of epoch 52 complete. Loss : 0.10127532854676247 \n",
      "\n",
      "Iteration 14/14 of epoch 52 complete. Loss : 0.0636727400124073 \n",
      "\n",
      "Epoch 52 complete! Validation Loss : 0.21632511168718338\n",
      "Epoch 52 complete! Validation Accuracy : 0.9189157196969697\n",
      "Best validation loss improved from 0.22034788131713867 to 0.21632511168718338\n",
      "\n",
      "\n",
      "Iteration 2/14 of epoch 53 complete. Loss : 0.08185942471027374 \n",
      "\n",
      "Iteration 4/14 of epoch 53 complete. Loss : 0.0870831198990345 \n",
      "\n",
      "Iteration 6/14 of epoch 53 complete. Loss : 0.08848122879862785 \n",
      "\n",
      "Iteration 8/14 of epoch 53 complete. Loss : 0.08506092056632042 \n",
      "\n",
      "Iteration 10/14 of epoch 53 complete. Loss : 0.07970583811402321 \n"
     ]
    },
    {
     "name": "stderr",
     "output_type": "stream",
     "text": [
      "100%|██████████| 14/14 [00:00<00:00, 121.67it/s]\n",
      "100%|██████████| 4/4 [00:00<00:00, 174.89it/s]\n",
      "100%|██████████| 14/14 [00:00<00:00, 109.49it/s]"
     ]
    },
    {
     "name": "stdout",
     "output_type": "stream",
     "text": [
      "\n",
      "Iteration 12/14 of epoch 53 complete. Loss : 0.08402210101485252 \n",
      "\n",
      "Iteration 14/14 of epoch 53 complete. Loss : 0.07410446368157864 \n",
      "\n",
      "Epoch 53 complete! Validation Loss : 0.21287193149328232\n",
      "Epoch 53 complete! Validation Accuracy : 0.9189157196969697\n",
      "Best validation loss improved from 0.21632511168718338 to 0.21287193149328232\n",
      "\n",
      "\n",
      "Iteration 2/14 of epoch 54 complete. Loss : 0.0696638934314251 \n",
      "\n",
      "Iteration 4/14 of epoch 54 complete. Loss : 0.08789896219968796 \n",
      "\n",
      "Iteration 6/14 of epoch 54 complete. Loss : 0.09458206966519356 \n",
      "\n",
      "Iteration 8/14 of epoch 54 complete. Loss : 0.08549341559410095 \n",
      "\n",
      "Iteration 10/14 of epoch 54 complete. Loss : 0.08943381160497665 \n",
      "\n",
      "Iteration 12/14 of epoch 54 complete. Loss : 0.07611013576388359 \n",
      "\n",
      "Iteration 14/14 of epoch 54 complete. Loss : 0.10965890809893608 \n"
     ]
    },
    {
     "name": "stderr",
     "output_type": "stream",
     "text": [
      "\n",
      "100%|██████████| 4/4 [00:00<00:00, 209.10it/s]\n",
      "100%|██████████| 14/14 [00:00<00:00, 116.46it/s]\n",
      "100%|██████████| 4/4 [00:00<00:00, 159.73it/s]\n",
      "  0%|          | 0/14 [00:00<?, ?it/s]"
     ]
    },
    {
     "name": "stdout",
     "output_type": "stream",
     "text": [
      "\n",
      "Epoch 54 complete! Validation Loss : 0.20831142738461494\n",
      "Epoch 54 complete! Validation Accuracy : 0.9189157196969697\n",
      "Best validation loss improved from 0.21287193149328232 to 0.20831142738461494\n",
      "\n",
      "\n",
      "Iteration 2/14 of epoch 55 complete. Loss : 0.08695104718208313 \n",
      "\n",
      "Iteration 4/14 of epoch 55 complete. Loss : 0.0778949223458767 \n",
      "\n",
      "Iteration 6/14 of epoch 55 complete. Loss : 0.08328945189714432 \n",
      "\n",
      "Iteration 8/14 of epoch 55 complete. Loss : 0.08126559481024742 \n",
      "\n",
      "Iteration 10/14 of epoch 55 complete. Loss : 0.08200352266430855 \n",
      "\n",
      "Iteration 12/14 of epoch 55 complete. Loss : 0.07561131566762924 \n",
      "\n",
      "Iteration 14/14 of epoch 55 complete. Loss : 0.06021469831466675 \n",
      "\n",
      "Epoch 55 complete! Validation Loss : 0.2047448270022869\n",
      "Epoch 55 complete! Validation Accuracy : 0.9189157196969697\n",
      "Best validation loss improved from 0.20831142738461494 to 0.2047448270022869\n",
      "\n",
      "\n",
      "Iteration 2/14 of epoch 56 complete. Loss : 0.06671154499053955 \n"
     ]
    },
    {
     "name": "stderr",
     "output_type": "stream",
     "text": [
      "100%|██████████| 14/14 [00:00<00:00, 101.71it/s]\n",
      "100%|██████████| 4/4 [00:00<00:00, 194.88it/s]\n",
      "  0%|          | 0/14 [00:00<?, ?it/s]"
     ]
    },
    {
     "name": "stdout",
     "output_type": "stream",
     "text": [
      "\n",
      "Iteration 4/14 of epoch 56 complete. Loss : 0.08945456147193909 \n",
      "\n",
      "Iteration 6/14 of epoch 56 complete. Loss : 0.06388663128018379 \n",
      "\n",
      "Iteration 8/14 of epoch 56 complete. Loss : 0.08272312954068184 \n",
      "\n",
      "Iteration 10/14 of epoch 56 complete. Loss : 0.08073979988694191 \n",
      "\n",
      "Iteration 12/14 of epoch 56 complete. Loss : 0.08654873073101044 \n",
      "\n",
      "Iteration 14/14 of epoch 56 complete. Loss : 0.06779035925865173 \n",
      "\n",
      "Epoch 56 complete! Validation Loss : 0.20312727615237236\n",
      "Epoch 56 complete! Validation Accuracy : 0.9189157196969697\n",
      "Best validation loss improved from 0.2047448270022869 to 0.20312727615237236\n",
      "\n",
      "\n",
      "Iteration 2/14 of epoch 57 complete. Loss : 0.08247085288167 \n",
      "\n",
      "Iteration 4/14 of epoch 57 complete. Loss : 0.07785977050662041 \n"
     ]
    },
    {
     "name": "stderr",
     "output_type": "stream",
     "text": [
      "100%|██████████| 14/14 [00:00<00:00, 110.06it/s]\n",
      "100%|██████████| 4/4 [00:00<00:00, 153.68it/s]\n",
      "  0%|          | 0/14 [00:00<?, ?it/s]"
     ]
    },
    {
     "name": "stdout",
     "output_type": "stream",
     "text": [
      "\n",
      "Iteration 6/14 of epoch 57 complete. Loss : 0.06589700654149055 \n",
      "\n",
      "Iteration 8/14 of epoch 57 complete. Loss : 0.07077810913324356 \n",
      "\n",
      "Iteration 10/14 of epoch 57 complete. Loss : 0.08856098726391792 \n",
      "\n",
      "Iteration 12/14 of epoch 57 complete. Loss : 0.07639066502451897 \n",
      "\n",
      "Iteration 14/14 of epoch 57 complete. Loss : 0.10599410161376 \n",
      "\n",
      "Epoch 57 complete! Validation Loss : 0.19937816634774208\n",
      "Epoch 57 complete! Validation Accuracy : 0.9189157196969697\n",
      "Best validation loss improved from 0.20312727615237236 to 0.19937816634774208\n",
      "\n",
      "\n",
      "Iteration 2/14 of epoch 58 complete. Loss : 0.09154586493968964 \n",
      "\n",
      "Iteration 4/14 of epoch 58 complete. Loss : 0.07087825797498226 \n",
      "\n",
      "Iteration 6/14 of epoch 58 complete. Loss : 0.07469809055328369 \n",
      "\n",
      "Iteration 8/14 of epoch 58 complete. Loss : 0.06025494821369648 \n"
     ]
    },
    {
     "name": "stderr",
     "output_type": "stream",
     "text": [
      "100%|██████████| 14/14 [00:00<00:00, 108.03it/s]\n",
      "100%|██████████| 4/4 [00:00<00:00, 166.27it/s]\n",
      " 86%|████████▌ | 12/14 [00:00<00:00, 114.12it/s]"
     ]
    },
    {
     "name": "stdout",
     "output_type": "stream",
     "text": [
      "\n",
      "Iteration 10/14 of epoch 58 complete. Loss : 0.08394062891602516 \n",
      "\n",
      "Iteration 12/14 of epoch 58 complete. Loss : 0.07428774423897266 \n",
      "\n",
      "Iteration 14/14 of epoch 58 complete. Loss : 0.08877798914909363 \n",
      "\n",
      "Epoch 58 complete! Validation Loss : 0.1919037625193596\n",
      "Epoch 58 complete! Validation Accuracy : 0.9208688446969697\n",
      "Best validation loss improved from 0.19937816634774208 to 0.1919037625193596\n",
      "\n",
      "\n",
      "Iteration 2/14 of epoch 59 complete. Loss : 0.05577628128230572 \n",
      "\n",
      "Iteration 4/14 of epoch 59 complete. Loss : 0.08661406487226486 \n",
      "\n",
      "Iteration 6/14 of epoch 59 complete. Loss : 0.08146669343113899 \n",
      "\n",
      "Iteration 8/14 of epoch 59 complete. Loss : 0.06892073154449463 \n",
      "\n",
      "Iteration 10/14 of epoch 59 complete. Loss : 0.07230742648243904 \n",
      "\n",
      "Iteration 12/14 of epoch 59 complete. Loss : 0.07650308310985565 \n"
     ]
    },
    {
     "name": "stderr",
     "output_type": "stream",
     "text": [
      "100%|██████████| 14/14 [00:00<00:00, 106.53it/s]\n",
      "100%|██████████| 4/4 [00:00<00:00, 222.92it/s]\n",
      "100%|██████████| 14/14 [00:00<00:00, 102.66it/s]\n",
      "  0%|          | 0/4 [00:00<?, ?it/s]"
     ]
    },
    {
     "name": "stdout",
     "output_type": "stream",
     "text": [
      "\n",
      "Iteration 14/14 of epoch 59 complete. Loss : 0.12722940742969513 \n",
      "\n",
      "Epoch 59 complete! Validation Loss : 0.18943998590111732\n",
      "Epoch 59 complete! Validation Accuracy : 0.9247750946969697\n",
      "Best validation loss improved from 0.1919037625193596 to 0.18943998590111732\n",
      "\n",
      "\n",
      "Iteration 2/14 of epoch 60 complete. Loss : 0.07689861953258514 \n",
      "\n",
      "Iteration 4/14 of epoch 60 complete. Loss : 0.0652785673737526 \n",
      "\n",
      "Iteration 6/14 of epoch 60 complete. Loss : 0.0877973660826683 \n",
      "\n",
      "Iteration 8/14 of epoch 60 complete. Loss : 0.07399943098425865 \n",
      "\n",
      "Iteration 10/14 of epoch 60 complete. Loss : 0.05914943292737007 \n",
      "\n",
      "Iteration 12/14 of epoch 60 complete. Loss : 0.06575537659227848 \n",
      "\n",
      "Iteration 14/14 of epoch 60 complete. Loss : 0.06693283282220364 \n"
     ]
    },
    {
     "name": "stderr",
     "output_type": "stream",
     "text": [
      "100%|██████████| 4/4 [00:00<00:00, 188.13it/s]\n",
      "100%|██████████| 14/14 [00:00<00:00, 113.97it/s]\n",
      "100%|██████████| 4/4 [00:00<00:00, 190.22it/s]\n",
      "  0%|          | 0/14 [00:00<?, ?it/s]"
     ]
    },
    {
     "name": "stdout",
     "output_type": "stream",
     "text": [
      "\n",
      "Epoch 60 complete! Validation Loss : 0.18608371168375015\n",
      "Epoch 60 complete! Validation Accuracy : 0.9267282196969697\n",
      "Best validation loss improved from 0.18943998590111732 to 0.18608371168375015\n",
      "\n",
      "\n",
      "Iteration 2/14 of epoch 61 complete. Loss : 0.06960811838507652 \n",
      "\n",
      "Iteration 4/14 of epoch 61 complete. Loss : 0.0729447789490223 \n",
      "\n",
      "Iteration 6/14 of epoch 61 complete. Loss : 0.06913265585899353 \n",
      "\n",
      "Iteration 8/14 of epoch 61 complete. Loss : 0.07346430607140064 \n",
      "\n",
      "Iteration 10/14 of epoch 61 complete. Loss : 0.06184384599328041 \n",
      "\n",
      "Iteration 12/14 of epoch 61 complete. Loss : 0.06933550350368023 \n",
      "\n",
      "Iteration 14/14 of epoch 61 complete. Loss : 0.04266480728983879 \n",
      "\n",
      "Epoch 61 complete! Validation Loss : 0.18393328413367271\n",
      "Epoch 61 complete! Validation Accuracy : 0.9247750946969697\n",
      "Best validation loss improved from 0.18608371168375015 to 0.18393328413367271\n",
      "\n",
      "\n",
      "Iteration 2/14 of epoch 62 complete. Loss : 0.071432676166296 \n"
     ]
    },
    {
     "name": "stderr",
     "output_type": "stream",
     "text": [
      "100%|██████████| 14/14 [00:00<00:00, 118.51it/s]\n",
      "100%|██████████| 4/4 [00:00<00:00, 155.25it/s]\n",
      "  0%|          | 0/14 [00:00<?, ?it/s]"
     ]
    },
    {
     "name": "stdout",
     "output_type": "stream",
     "text": [
      "\n",
      "Iteration 4/14 of epoch 62 complete. Loss : 0.08310415223240852 \n",
      "\n",
      "Iteration 6/14 of epoch 62 complete. Loss : 0.06165216118097305 \n",
      "\n",
      "Iteration 8/14 of epoch 62 complete. Loss : 0.06220902130007744 \n",
      "\n",
      "Iteration 10/14 of epoch 62 complete. Loss : 0.0703423023223877 \n",
      "\n",
      "Iteration 12/14 of epoch 62 complete. Loss : 0.0633106678724289 \n",
      "\n",
      "Iteration 14/14 of epoch 62 complete. Loss : 0.04522904194891453 \n",
      "\n",
      "Epoch 62 complete! Validation Loss : 0.18242286145687103\n",
      "Epoch 62 complete! Validation Accuracy : 0.9228219696969697\n",
      "Best validation loss improved from 0.18393328413367271 to 0.18242286145687103\n",
      "\n",
      "\n",
      "Iteration 2/14 of epoch 63 complete. Loss : 0.061585137620568275 \n",
      "\n",
      "Iteration 4/14 of epoch 63 complete. Loss : 0.07298688590526581 \n",
      "\n",
      "Iteration 6/14 of epoch 63 complete. Loss : 0.059630777686834335 \n"
     ]
    },
    {
     "name": "stderr",
     "output_type": "stream",
     "text": [
      "100%|██████████| 14/14 [00:00<00:00, 115.29it/s]\n",
      "100%|██████████| 4/4 [00:00<00:00, 142.31it/s]\n",
      "  0%|          | 0/14 [00:00<?, ?it/s]"
     ]
    },
    {
     "name": "stdout",
     "output_type": "stream",
     "text": [
      "\n",
      "Iteration 8/14 of epoch 63 complete. Loss : 0.0578760989010334 \n",
      "\n",
      "Iteration 10/14 of epoch 63 complete. Loss : 0.06447533145546913 \n",
      "\n",
      "Iteration 12/14 of epoch 63 complete. Loss : 0.06524276733398438 \n",
      "\n",
      "Iteration 14/14 of epoch 63 complete. Loss : 0.1155550628900528 \n",
      "\n",
      "Epoch 63 complete! Validation Loss : 0.18033423647284508\n",
      "Epoch 63 complete! Validation Accuracy : 0.9228219696969697\n",
      "Best validation loss improved from 0.18242286145687103 to 0.18033423647284508\n",
      "\n",
      "\n",
      "Iteration 2/14 of epoch 64 complete. Loss : 0.07163996249437332 \n",
      "\n",
      "Iteration 4/14 of epoch 64 complete. Loss : 0.06406334228813648 \n",
      "\n",
      "Iteration 6/14 of epoch 64 complete. Loss : 0.06957409158349037 \n",
      "\n",
      "Iteration 8/14 of epoch 64 complete. Loss : 0.04966373182833195 \n",
      "\n",
      "Iteration 10/14 of epoch 64 complete. Loss : 0.06868043541908264 \n"
     ]
    },
    {
     "name": "stderr",
     "output_type": "stream",
     "text": [
      "100%|██████████| 14/14 [00:00<00:00, 112.60it/s]\n",
      "100%|██████████| 4/4 [00:00<00:00, 144.74it/s]\n",
      "100%|██████████| 14/14 [00:00<00:00, 116.59it/s]\n",
      "  0%|          | 0/4 [00:00<?, ?it/s]"
     ]
    },
    {
     "name": "stdout",
     "output_type": "stream",
     "text": [
      "\n",
      "Iteration 12/14 of epoch 64 complete. Loss : 0.06498259119689465 \n",
      "\n",
      "Iteration 14/14 of epoch 64 complete. Loss : 0.05790312401950359 \n",
      "\n",
      "Epoch 64 complete! Validation Loss : 0.17103516682982445\n",
      "Epoch 64 complete! Validation Accuracy : 0.9267282196969697\n",
      "Best validation loss improved from 0.18033423647284508 to 0.17103516682982445\n",
      "\n",
      "\n",
      "Iteration 2/14 of epoch 65 complete. Loss : 0.06021817587316036 \n",
      "\n",
      "Iteration 4/14 of epoch 65 complete. Loss : 0.06802305951714516 \n",
      "\n",
      "Iteration 6/14 of epoch 65 complete. Loss : 0.06076581031084061 \n",
      "\n",
      "Iteration 8/14 of epoch 65 complete. Loss : 0.07246531918644905 \n",
      "\n",
      "Iteration 10/14 of epoch 65 complete. Loss : 0.051904432475566864 \n",
      "\n",
      "Iteration 12/14 of epoch 65 complete. Loss : 0.06563696637749672 \n",
      "\n",
      "Iteration 14/14 of epoch 65 complete. Loss : 0.03564990218728781 \n"
     ]
    },
    {
     "name": "stderr",
     "output_type": "stream",
     "text": [
      "100%|██████████| 4/4 [00:00<00:00, 167.21it/s]\n",
      "100%|██████████| 14/14 [00:00<00:00, 101.29it/s]\n",
      "100%|██████████| 4/4 [00:00<00:00, 167.74it/s]\n",
      "  0%|          | 0/14 [00:00<?, ?it/s]"
     ]
    },
    {
     "name": "stdout",
     "output_type": "stream",
     "text": [
      "\n",
      "Epoch 65 complete! Validation Loss : 0.16912291571497917\n",
      "Epoch 65 complete! Validation Accuracy : 0.9286813446969697\n",
      "Best validation loss improved from 0.17103516682982445 to 0.16912291571497917\n",
      "\n",
      "\n",
      "Iteration 2/14 of epoch 66 complete. Loss : 0.05992736108601093 \n",
      "\n",
      "Iteration 4/14 of epoch 66 complete. Loss : 0.05183061212301254 \n",
      "\n",
      "Iteration 6/14 of epoch 66 complete. Loss : 0.06386779993772507 \n",
      "\n",
      "Iteration 8/14 of epoch 66 complete. Loss : 0.05155166611075401 \n",
      "\n",
      "Iteration 10/14 of epoch 66 complete. Loss : 0.06858040764927864 \n",
      "\n",
      "Iteration 12/14 of epoch 66 complete. Loss : 0.07796809822320938 \n",
      "\n",
      "Iteration 14/14 of epoch 66 complete. Loss : 0.049941111356019974 \n",
      "\n",
      "Epoch 66 complete! Validation Loss : 0.1701265461742878\n",
      "Epoch 66 complete! Validation Accuracy : 0.9247750946969697\n"
     ]
    },
    {
     "name": "stderr",
     "output_type": "stream",
     "text": [
      "100%|██████████| 14/14 [00:00<00:00, 111.51it/s]\n",
      "100%|██████████| 4/4 [00:00<00:00, 141.64it/s]\n",
      "  0%|          | 0/14 [00:00<?, ?it/s]"
     ]
    },
    {
     "name": "stdout",
     "output_type": "stream",
     "text": [
      "\n",
      "Iteration 2/14 of epoch 67 complete. Loss : 0.06537259556353092 \n",
      "\n",
      "Iteration 4/14 of epoch 67 complete. Loss : 0.06221397779881954 \n",
      "\n",
      "Iteration 6/14 of epoch 67 complete. Loss : 0.0560670867562294 \n",
      "\n",
      "Iteration 8/14 of epoch 67 complete. Loss : 0.05039926618337631 \n",
      "\n",
      "Iteration 10/14 of epoch 67 complete. Loss : 0.06894179433584213 \n",
      "\n",
      "Iteration 12/14 of epoch 67 complete. Loss : 0.05388488247990608 \n",
      "\n",
      "Iteration 14/14 of epoch 67 complete. Loss : 0.052877023816108704 \n",
      "\n",
      "Epoch 67 complete! Validation Loss : 0.16672076471149921\n",
      "Epoch 67 complete! Validation Accuracy : 0.9247750946969697\n",
      "Best validation loss improved from 0.16912291571497917 to 0.16672076471149921\n",
      "\n",
      "\n",
      "Iteration 2/14 of epoch 68 complete. Loss : 0.054074184969067574 \n"
     ]
    },
    {
     "name": "stderr",
     "output_type": "stream",
     "text": [
      "100%|██████████| 14/14 [00:00<00:00, 104.93it/s]\n",
      "100%|██████████| 4/4 [00:00<00:00, 144.99it/s]\n",
      "  0%|          | 0/14 [00:00<?, ?it/s]"
     ]
    },
    {
     "name": "stdout",
     "output_type": "stream",
     "text": [
      "\n",
      "Iteration 4/14 of epoch 68 complete. Loss : 0.055880216881632805 \n",
      "\n",
      "Iteration 6/14 of epoch 68 complete. Loss : 0.050366075709462166 \n",
      "\n",
      "Iteration 8/14 of epoch 68 complete. Loss : 0.06898577138781548 \n",
      "\n",
      "Iteration 10/14 of epoch 68 complete. Loss : 0.05537334829568863 \n",
      "\n",
      "Iteration 12/14 of epoch 68 complete. Loss : 0.06615937501192093 \n",
      "\n",
      "Iteration 14/14 of epoch 68 complete. Loss : 0.03973453305661678 \n",
      "\n",
      "Epoch 68 complete! Validation Loss : 0.16466956958174706\n",
      "Epoch 68 complete! Validation Accuracy : 0.9267282196969697\n",
      "Best validation loss improved from 0.16672076471149921 to 0.16466956958174706\n",
      "\n",
      "\n",
      "Iteration 2/14 of epoch 69 complete. Loss : 0.05256169103085995 \n",
      "\n",
      "Iteration 4/14 of epoch 69 complete. Loss : 0.04298796318471432 \n",
      "\n",
      "Iteration 6/14 of epoch 69 complete. Loss : 0.05728759430348873 \n"
     ]
    },
    {
     "name": "stderr",
     "output_type": "stream",
     "text": [
      "100%|██████████| 14/14 [00:00<00:00, 113.36it/s]\n",
      "100%|██████████| 4/4 [00:00<00:00, 164.03it/s]\n",
      "  0%|          | 0/14 [00:00<?, ?it/s]"
     ]
    },
    {
     "name": "stdout",
     "output_type": "stream",
     "text": [
      "\n",
      "Iteration 8/14 of epoch 69 complete. Loss : 0.072541244328022 \n",
      "\n",
      "Iteration 10/14 of epoch 69 complete. Loss : 0.060455191880464554 \n",
      "\n",
      "Iteration 12/14 of epoch 69 complete. Loss : 0.053104931488633156 \n",
      "\n",
      "Iteration 14/14 of epoch 69 complete. Loss : 0.03758497163653374 \n",
      "\n",
      "Epoch 69 complete! Validation Loss : 0.16112806275486946\n",
      "Epoch 69 complete! Validation Accuracy : 0.9286813446969697\n",
      "Best validation loss improved from 0.16466956958174706 to 0.16112806275486946\n",
      "\n",
      "\n",
      "Iteration 2/14 of epoch 70 complete. Loss : 0.06618275865912437 \n",
      "\n",
      "Iteration 4/14 of epoch 70 complete. Loss : 0.0570586659014225 \n",
      "\n",
      "Iteration 6/14 of epoch 70 complete. Loss : 0.051448361948132515 \n",
      "\n",
      "Iteration 8/14 of epoch 70 complete. Loss : 0.04831371642649174 \n",
      "\n",
      "Iteration 10/14 of epoch 70 complete. Loss : 0.05119130574166775 \n"
     ]
    },
    {
     "name": "stderr",
     "output_type": "stream",
     "text": [
      "100%|██████████| 14/14 [00:00<00:00, 105.32it/s]\n",
      "100%|██████████| 4/4 [00:00<00:00, 203.78it/s]\n",
      " 86%|████████▌ | 12/14 [00:00<00:00, 116.14it/s]"
     ]
    },
    {
     "name": "stdout",
     "output_type": "stream",
     "text": [
      "\n",
      "Iteration 12/14 of epoch 70 complete. Loss : 0.047244567424058914 \n",
      "\n",
      "Iteration 14/14 of epoch 70 complete. Loss : 0.04609991796314716 \n",
      "\n",
      "Epoch 70 complete! Validation Loss : 0.15687332302331924\n",
      "Epoch 70 complete! Validation Accuracy : 0.9382102272727273\n",
      "Best validation loss improved from 0.16112806275486946 to 0.15687332302331924\n",
      "\n",
      "\n",
      "Iteration 2/14 of epoch 71 complete. Loss : 0.05392897501587868 \n",
      "\n",
      "Iteration 4/14 of epoch 71 complete. Loss : 0.05430364049971104 \n",
      "\n",
      "Iteration 6/14 of epoch 71 complete. Loss : 0.05533919483423233 \n",
      "\n",
      "Iteration 8/14 of epoch 71 complete. Loss : 0.04567348025739193 \n",
      "\n",
      "Iteration 10/14 of epoch 71 complete. Loss : 0.049807729199528694 \n",
      "\n",
      "Iteration 12/14 of epoch 71 complete. Loss : 0.0594592597335577 \n"
     ]
    },
    {
     "name": "stderr",
     "output_type": "stream",
     "text": [
      "100%|██████████| 14/14 [00:00<00:00, 109.88it/s]\n",
      "100%|██████████| 4/4 [00:00<00:00, 148.13it/s]\n",
      "100%|██████████| 14/14 [00:00<00:00, 111.86it/s]\n",
      "  0%|          | 0/4 [00:00<?, ?it/s]"
     ]
    },
    {
     "name": "stdout",
     "output_type": "stream",
     "text": [
      "\n",
      "Iteration 14/14 of epoch 71 complete. Loss : 0.03257598169147968 \n",
      "\n",
      "Epoch 71 complete! Validation Loss : 0.15399280935525894\n",
      "Epoch 71 complete! Validation Accuracy : 0.9382102272727273\n",
      "Best validation loss improved from 0.15687332302331924 to 0.15399280935525894\n",
      "\n",
      "\n",
      "Iteration 2/14 of epoch 72 complete. Loss : 0.051055096089839935 \n",
      "\n",
      "Iteration 4/14 of epoch 72 complete. Loss : 0.06127421371638775 \n",
      "\n",
      "Iteration 6/14 of epoch 72 complete. Loss : 0.05173506587743759 \n",
      "\n",
      "Iteration 8/14 of epoch 72 complete. Loss : 0.04317368380725384 \n",
      "\n",
      "Iteration 10/14 of epoch 72 complete. Loss : 0.045977188274264336 \n",
      "\n",
      "Iteration 12/14 of epoch 72 complete. Loss : 0.04854751192033291 \n",
      "\n",
      "Iteration 14/14 of epoch 72 complete. Loss : 0.03655997524037957 \n"
     ]
    },
    {
     "name": "stderr",
     "output_type": "stream",
     "text": [
      "100%|██████████| 4/4 [00:00<00:00, 143.31it/s]\n",
      "100%|██████████| 14/14 [00:00<00:00, 110.13it/s]\n",
      "100%|██████████| 4/4 [00:00<00:00, 142.66it/s]\n",
      "  0%|          | 0/14 [00:00<?, ?it/s]"
     ]
    },
    {
     "name": "stdout",
     "output_type": "stream",
     "text": [
      "\n",
      "Epoch 72 complete! Validation Loss : 0.1504240445792675\n",
      "Epoch 72 complete! Validation Accuracy : 0.9382102272727273\n",
      "Best validation loss improved from 0.15399280935525894 to 0.1504240445792675\n",
      "\n",
      "\n",
      "Iteration 2/14 of epoch 73 complete. Loss : 0.05180740728974342 \n",
      "\n",
      "Iteration 4/14 of epoch 73 complete. Loss : 0.04763421416282654 \n",
      "\n",
      "Iteration 6/14 of epoch 73 complete. Loss : 0.04455709084868431 \n",
      "\n",
      "Iteration 8/14 of epoch 73 complete. Loss : 0.048094263300299644 \n",
      "\n",
      "Iteration 10/14 of epoch 73 complete. Loss : 0.04975002445280552 \n",
      "\n",
      "Iteration 12/14 of epoch 73 complete. Loss : 0.053065745159983635 \n",
      "\n",
      "Iteration 14/14 of epoch 73 complete. Loss : 0.0416730809956789 \n",
      "\n",
      "Epoch 73 complete! Validation Loss : 0.14919117279350758\n",
      "Epoch 73 complete! Validation Accuracy : 0.9382102272727273\n",
      "Best validation loss improved from 0.1504240445792675 to 0.14919117279350758\n",
      "\n"
     ]
    },
    {
     "name": "stderr",
     "output_type": "stream",
     "text": [
      "100%|██████████| 14/14 [00:00<00:00, 115.87it/s]\n",
      "100%|██████████| 4/4 [00:00<00:00, 168.17it/s]\n",
      "  0%|          | 0/14 [00:00<?, ?it/s]"
     ]
    },
    {
     "name": "stdout",
     "output_type": "stream",
     "text": [
      "\n",
      "Iteration 2/14 of epoch 74 complete. Loss : 0.049989016726613045 \n",
      "\n",
      "Iteration 4/14 of epoch 74 complete. Loss : 0.04786021634936333 \n",
      "\n",
      "Iteration 6/14 of epoch 74 complete. Loss : 0.04710291512310505 \n",
      "\n",
      "Iteration 8/14 of epoch 74 complete. Loss : 0.04164012894034386 \n",
      "\n",
      "Iteration 10/14 of epoch 74 complete. Loss : 0.05445684678852558 \n",
      "\n",
      "Iteration 12/14 of epoch 74 complete. Loss : 0.04350695759057999 \n",
      "\n",
      "Iteration 14/14 of epoch 74 complete. Loss : 0.04231160879135132 \n",
      "\n",
      "Epoch 74 complete! Validation Loss : 0.14713983610272408\n",
      "Epoch 74 complete! Validation Accuracy : 0.9382102272727273\n",
      "Best validation loss improved from 0.14919117279350758 to 0.14713983610272408\n",
      "\n",
      "\n",
      "Iteration 2/14 of epoch 75 complete. Loss : 0.035621851682662964 \n",
      "\n",
      "Iteration 4/14 of epoch 75 complete. Loss : 0.04325207881629467 \n"
     ]
    },
    {
     "name": "stderr",
     "output_type": "stream",
     "text": [
      "100%|██████████| 14/14 [00:00<00:00, 104.38it/s]\n",
      "100%|██████████| 4/4 [00:00<00:00, 194.00it/s]\n",
      "  0%|          | 0/14 [00:00<?, ?it/s]"
     ]
    },
    {
     "name": "stdout",
     "output_type": "stream",
     "text": [
      "\n",
      "Iteration 6/14 of epoch 75 complete. Loss : 0.044709788635373116 \n",
      "\n",
      "Iteration 8/14 of epoch 75 complete. Loss : 0.05961269326508045 \n",
      "\n",
      "Iteration 10/14 of epoch 75 complete. Loss : 0.052799101918935776 \n",
      "\n",
      "Iteration 12/14 of epoch 75 complete. Loss : 0.04425548389554024 \n",
      "\n",
      "Iteration 14/14 of epoch 75 complete. Loss : 0.029678385704755783 \n",
      "\n",
      "Epoch 75 complete! Validation Loss : 0.1453641690313816\n",
      "Epoch 75 complete! Validation Accuracy : 0.9382102272727273\n",
      "Best validation loss improved from 0.14713983610272408 to 0.1453641690313816\n",
      "\n",
      "\n",
      "Iteration 2/14 of epoch 76 complete. Loss : 0.038927845656871796 \n",
      "\n",
      "Iteration 4/14 of epoch 76 complete. Loss : 0.04924834333360195 \n",
      "\n",
      "Iteration 6/14 of epoch 76 complete. Loss : 0.04012521170079708 \n"
     ]
    },
    {
     "name": "stderr",
     "output_type": "stream",
     "text": [
      "100%|██████████| 14/14 [00:00<00:00, 104.75it/s]\n",
      "100%|██████████| 4/4 [00:00<00:00, 134.40it/s]\n",
      "  0%|          | 0/14 [00:00<?, ?it/s]"
     ]
    },
    {
     "name": "stdout",
     "output_type": "stream",
     "text": [
      "\n",
      "Iteration 8/14 of epoch 76 complete. Loss : 0.05522497743368149 \n",
      "\n",
      "Iteration 10/14 of epoch 76 complete. Loss : 0.042577795684337616 \n",
      "\n",
      "Iteration 12/14 of epoch 76 complete. Loss : 0.04547543451189995 \n",
      "\n",
      "Iteration 14/14 of epoch 76 complete. Loss : 0.031098262406885624 \n",
      "\n",
      "Epoch 76 complete! Validation Loss : 0.1395658701658249\n",
      "Epoch 76 complete! Validation Accuracy : 0.9421164772727273\n",
      "Best validation loss improved from 0.1453641690313816 to 0.1395658701658249\n",
      "\n",
      "\n",
      "Iteration 2/14 of epoch 77 complete. Loss : 0.04136454686522484 \n",
      "\n",
      "Iteration 4/14 of epoch 77 complete. Loss : 0.047363320365548134 \n",
      "\n",
      "Iteration 6/14 of epoch 77 complete. Loss : 0.04429043456912041 \n",
      "\n",
      "Iteration 8/14 of epoch 77 complete. Loss : 0.046968040987849236 \n"
     ]
    },
    {
     "name": "stderr",
     "output_type": "stream",
     "text": [
      "100%|██████████| 14/14 [00:00<00:00, 108.62it/s]\n",
      "100%|██████████| 4/4 [00:00<00:00, 145.18it/s]\n",
      "  0%|          | 0/14 [00:00<?, ?it/s]"
     ]
    },
    {
     "name": "stdout",
     "output_type": "stream",
     "text": [
      "\n",
      "Iteration 10/14 of epoch 77 complete. Loss : 0.042830292135477066 \n",
      "\n",
      "Iteration 12/14 of epoch 77 complete. Loss : 0.04231399670243263 \n",
      "\n",
      "Iteration 14/14 of epoch 77 complete. Loss : 0.028328636661171913 \n",
      "\n",
      "Epoch 77 complete! Validation Loss : 0.13778883032500744\n",
      "Epoch 77 complete! Validation Accuracy : 0.9421164772727273\n",
      "Best validation loss improved from 0.1395658701658249 to 0.13778883032500744\n",
      "\n",
      "\n",
      "Iteration 2/14 of epoch 78 complete. Loss : 0.03904386982321739 \n",
      "\n",
      "Iteration 4/14 of epoch 78 complete. Loss : 0.04090312495827675 \n",
      "\n",
      "Iteration 6/14 of epoch 78 complete. Loss : 0.046214429661631584 \n"
     ]
    },
    {
     "name": "stderr",
     "output_type": "stream",
     "text": [
      "100%|██████████| 14/14 [00:00<00:00, 56.09it/s]\n",
      "100%|██████████| 4/4 [00:00<00:00, 216.25it/s]\n",
      "  0%|          | 0/14 [00:00<?, ?it/s]"
     ]
    },
    {
     "name": "stdout",
     "output_type": "stream",
     "text": [
      "\n",
      "Iteration 8/14 of epoch 78 complete. Loss : 0.050979504361748695 \n",
      "\n",
      "Iteration 10/14 of epoch 78 complete. Loss : 0.04480386711657047 \n",
      "\n",
      "Iteration 12/14 of epoch 78 complete. Loss : 0.039097320288419724 \n",
      "\n",
      "Iteration 14/14 of epoch 78 complete. Loss : 0.028759771957993507 \n",
      "\n",
      "Epoch 78 complete! Validation Loss : 0.1378965824842453\n",
      "Epoch 78 complete! Validation Accuracy : 0.9401633522727273\n",
      "\n",
      "Iteration 2/14 of epoch 79 complete. Loss : 0.032511123456060886 \n",
      "\n",
      "Iteration 4/14 of epoch 79 complete. Loss : 0.04056297987699509 \n",
      "\n",
      "Iteration 6/14 of epoch 79 complete. Loss : 0.04339723847806454 \n",
      "\n",
      "Iteration 8/14 of epoch 79 complete. Loss : 0.041833601891994476 \n",
      "\n",
      "Iteration 10/14 of epoch 79 complete. Loss : 0.0426455345004797 \n"
     ]
    },
    {
     "name": "stderr",
     "output_type": "stream",
     "text": [
      "100%|██████████| 14/14 [00:00<00:00, 107.30it/s]\n",
      "100%|██████████| 4/4 [00:00<00:00, 201.95it/s]\n",
      "100%|██████████| 14/14 [00:00<00:00, 119.31it/s]\n",
      "  0%|          | 0/4 [00:00<?, ?it/s]"
     ]
    },
    {
     "name": "stdout",
     "output_type": "stream",
     "text": [
      "\n",
      "Iteration 12/14 of epoch 79 complete. Loss : 0.04578260891139507 \n",
      "\n",
      "Iteration 14/14 of epoch 79 complete. Loss : 0.022270031739026308 \n",
      "\n",
      "Epoch 79 complete! Validation Loss : 0.13286400772631168\n",
      "Epoch 79 complete! Validation Accuracy : 0.9421164772727273\n",
      "Best validation loss improved from 0.13778883032500744 to 0.13286400772631168\n",
      "\n",
      "\n",
      "Iteration 2/14 of epoch 80 complete. Loss : 0.03970985859632492 \n",
      "\n",
      "Iteration 4/14 of epoch 80 complete. Loss : 0.049004897475242615 \n",
      "\n",
      "Iteration 6/14 of epoch 80 complete. Loss : 0.04145814664661884 \n",
      "\n",
      "Iteration 8/14 of epoch 80 complete. Loss : 0.03622531518340111 \n",
      "\n",
      "Iteration 10/14 of epoch 80 complete. Loss : 0.04651268385350704 \n",
      "\n",
      "Iteration 12/14 of epoch 80 complete. Loss : 0.028144707903265953 \n",
      "\n",
      "Iteration 14/14 of epoch 80 complete. Loss : 0.05202836915850639 \n"
     ]
    },
    {
     "name": "stderr",
     "output_type": "stream",
     "text": [
      "100%|██████████| 4/4 [00:00<00:00, 148.80it/s]\n",
      "100%|██████████| 14/14 [00:00<00:00, 113.30it/s]\n",
      "100%|██████████| 4/4 [00:00<00:00, 140.26it/s]\n",
      "  0%|          | 0/14 [00:00<?, ?it/s]"
     ]
    },
    {
     "name": "stdout",
     "output_type": "stream",
     "text": [
      "\n",
      "Epoch 80 complete! Validation Loss : 0.12930233776569366\n",
      "Epoch 80 complete! Validation Accuracy : 0.9460227272727273\n",
      "Best validation loss improved from 0.13286400772631168 to 0.12930233776569366\n",
      "\n",
      "\n",
      "Iteration 2/14 of epoch 81 complete. Loss : 0.04642799682915211 \n",
      "\n",
      "Iteration 4/14 of epoch 81 complete. Loss : 0.04030025191605091 \n",
      "\n",
      "Iteration 6/14 of epoch 81 complete. Loss : 0.03402565233409405 \n",
      "\n",
      "Iteration 8/14 of epoch 81 complete. Loss : 0.04042764939367771 \n",
      "\n",
      "Iteration 10/14 of epoch 81 complete. Loss : 0.03783559054136276 \n",
      "\n",
      "Iteration 12/14 of epoch 81 complete. Loss : 0.036370471119880676 \n",
      "\n",
      "Iteration 14/14 of epoch 81 complete. Loss : 0.0673865657299757 \n",
      "\n",
      "Epoch 81 complete! Validation Loss : 0.12692010216414928\n",
      "Epoch 81 complete! Validation Accuracy : 0.9499289772727273\n",
      "Best validation loss improved from 0.12930233776569366 to 0.12692010216414928\n",
      "\n",
      "\n",
      "Iteration 2/14 of epoch 82 complete. Loss : 0.03321582078933716 \n"
     ]
    },
    {
     "name": "stderr",
     "output_type": "stream",
     "text": [
      "100%|██████████| 14/14 [00:00<00:00, 113.83it/s]\n",
      "100%|██████████| 4/4 [00:00<00:00, 148.27it/s]\n",
      "  0%|          | 0/14 [00:00<?, ?it/s]"
     ]
    },
    {
     "name": "stdout",
     "output_type": "stream",
     "text": [
      "\n",
      "Iteration 4/14 of epoch 82 complete. Loss : 0.03085706476122141 \n",
      "\n",
      "Iteration 6/14 of epoch 82 complete. Loss : 0.04226232133805752 \n",
      "\n",
      "Iteration 8/14 of epoch 82 complete. Loss : 0.03570536524057388 \n",
      "\n",
      "Iteration 10/14 of epoch 82 complete. Loss : 0.03581671789288521 \n",
      "\n",
      "Iteration 12/14 of epoch 82 complete. Loss : 0.048796650022268295 \n",
      "\n",
      "Iteration 14/14 of epoch 82 complete. Loss : 0.02521379478275776 \n",
      "\n",
      "Epoch 82 complete! Validation Loss : 0.12412952445447445\n",
      "Epoch 82 complete! Validation Accuracy : 0.9499289772727273\n",
      "Best validation loss improved from 0.12692010216414928 to 0.12412952445447445\n",
      "\n",
      "\n",
      "Iteration 2/14 of epoch 83 complete. Loss : 0.03564988076686859 \n",
      "\n",
      "Iteration 4/14 of epoch 83 complete. Loss : 0.0417760219424963 \n",
      "\n",
      "Iteration 6/14 of epoch 83 complete. Loss : 0.037049807608127594 \n"
     ]
    },
    {
     "name": "stderr",
     "output_type": "stream",
     "text": [
      "100%|██████████| 14/14 [00:00<00:00, 101.50it/s]\n",
      "100%|██████████| 4/4 [00:00<00:00, 191.37it/s]\n",
      "  0%|          | 0/14 [00:00<?, ?it/s]"
     ]
    },
    {
     "name": "stdout",
     "output_type": "stream",
     "text": [
      "\n",
      "Iteration 8/14 of epoch 83 complete. Loss : 0.03666531573981047 \n",
      "\n",
      "Iteration 10/14 of epoch 83 complete. Loss : 0.0440340880304575 \n",
      "\n",
      "Iteration 12/14 of epoch 83 complete. Loss : 0.02614330593496561 \n",
      "\n",
      "Iteration 14/14 of epoch 83 complete. Loss : 0.046318020671606064 \n",
      "\n",
      "Epoch 83 complete! Validation Loss : 0.11584134213626385\n",
      "Epoch 83 complete! Validation Accuracy : 0.9499289772727273\n",
      "Best validation loss improved from 0.12412952445447445 to 0.11584134213626385\n",
      "\n",
      "\n",
      "Iteration 2/14 of epoch 84 complete. Loss : 0.03468802943825722 \n",
      "\n",
      "Iteration 4/14 of epoch 84 complete. Loss : 0.031015832908451557 \n",
      "\n",
      "Iteration 6/14 of epoch 84 complete. Loss : 0.04294970445334911 \n",
      "\n",
      "Iteration 8/14 of epoch 84 complete. Loss : 0.045485617592930794 \n"
     ]
    },
    {
     "name": "stderr",
     "output_type": "stream",
     "text": [
      "100%|██████████| 14/14 [00:00<00:00, 105.88it/s]\n",
      "100%|██████████| 4/4 [00:00<00:00, 159.66it/s]\n",
      " 79%|███████▊  | 11/14 [00:00<00:00, 108.57it/s]"
     ]
    },
    {
     "name": "stdout",
     "output_type": "stream",
     "text": [
      "\n",
      "Iteration 10/14 of epoch 84 complete. Loss : 0.027972395531833172 \n",
      "\n",
      "Iteration 12/14 of epoch 84 complete. Loss : 0.03528476879000664 \n",
      "\n",
      "Iteration 14/14 of epoch 84 complete. Loss : 0.024674070067703724 \n",
      "\n",
      "Epoch 84 complete! Validation Loss : 0.11481229774653912\n",
      "Epoch 84 complete! Validation Accuracy : 0.9518821022727273\n",
      "Best validation loss improved from 0.11584134213626385 to 0.11481229774653912\n",
      "\n",
      "\n",
      "Iteration 2/14 of epoch 85 complete. Loss : 0.035579657182097435 \n",
      "\n",
      "Iteration 4/14 of epoch 85 complete. Loss : 0.03375172894448042 \n",
      "\n",
      "Iteration 6/14 of epoch 85 complete. Loss : 0.03759518451988697 \n",
      "\n",
      "Iteration 8/14 of epoch 85 complete. Loss : 0.031113154254853725 \n",
      "\n",
      "Iteration 10/14 of epoch 85 complete. Loss : 0.033783262595534325 \n"
     ]
    },
    {
     "name": "stderr",
     "output_type": "stream",
     "text": [
      "100%|██████████| 14/14 [00:00<00:00, 108.10it/s]\n",
      "100%|██████████| 4/4 [00:00<00:00, 139.86it/s]\n",
      " 79%|███████▊  | 11/14 [00:00<00:00, 106.37it/s]"
     ]
    },
    {
     "name": "stdout",
     "output_type": "stream",
     "text": [
      "\n",
      "Iteration 12/14 of epoch 85 complete. Loss : 0.030545330606400967 \n",
      "\n",
      "Iteration 14/14 of epoch 85 complete. Loss : 0.02792731299996376 \n",
      "\n",
      "Epoch 85 complete! Validation Loss : 0.1205779705196619\n",
      "Epoch 85 complete! Validation Accuracy : 0.9499289772727273\n",
      "\n",
      "Iteration 2/14 of epoch 86 complete. Loss : 0.030510657466948032 \n",
      "\n",
      "Iteration 4/14 of epoch 86 complete. Loss : 0.023320775479078293 \n",
      "\n",
      "Iteration 6/14 of epoch 86 complete. Loss : 0.031606486067175865 \n",
      "\n",
      "Iteration 8/14 of epoch 86 complete. Loss : 0.03710629977285862 \n",
      "\n",
      "Iteration 10/14 of epoch 86 complete. Loss : 0.044105904176831245 \n",
      "\n",
      "Iteration 12/14 of epoch 86 complete. Loss : 0.03608268033713102 \n"
     ]
    },
    {
     "name": "stderr",
     "output_type": "stream",
     "text": [
      "100%|██████████| 14/14 [00:00<00:00, 100.44it/s]\n",
      "100%|██████████| 4/4 [00:00<00:00, 169.48it/s]\n",
      "100%|██████████| 14/14 [00:00<00:00, 108.36it/s]\n",
      "  0%|          | 0/4 [00:00<?, ?it/s]"
     ]
    },
    {
     "name": "stdout",
     "output_type": "stream",
     "text": [
      "\n",
      "Iteration 14/14 of epoch 86 complete. Loss : 0.02011738531291485 \n",
      "\n",
      "Epoch 86 complete! Validation Loss : 0.11593635566532612\n",
      "Epoch 86 complete! Validation Accuracy : 0.9538352272727273\n",
      "\n",
      "Iteration 2/14 of epoch 87 complete. Loss : 0.027685999870300293 \n",
      "\n",
      "Iteration 4/14 of epoch 87 complete. Loss : 0.03795614466071129 \n",
      "\n",
      "Iteration 6/14 of epoch 87 complete. Loss : 0.03512513265013695 \n",
      "\n",
      "Iteration 8/14 of epoch 87 complete. Loss : 0.03497704491019249 \n",
      "\n",
      "Iteration 10/14 of epoch 87 complete. Loss : 0.024921820499002934 \n",
      "\n",
      "Iteration 12/14 of epoch 87 complete. Loss : 0.03074615728110075 \n",
      "\n",
      "Iteration 14/14 of epoch 87 complete. Loss : 0.022668051533401012 \n"
     ]
    },
    {
     "name": "stderr",
     "output_type": "stream",
     "text": [
      "100%|██████████| 4/4 [00:00<00:00, 191.94it/s]\n",
      "100%|██████████| 14/14 [00:00<00:00, 112.63it/s]\n",
      "100%|██████████| 4/4 [00:00<00:00, 147.57it/s]\n",
      "  0%|          | 0/14 [00:00<?, ?it/s]"
     ]
    },
    {
     "name": "stdout",
     "output_type": "stream",
     "text": [
      "\n",
      "Epoch 87 complete! Validation Loss : 0.11274797283113003\n",
      "Epoch 87 complete! Validation Accuracy : 0.9499289772727273\n",
      "Best validation loss improved from 0.11481229774653912 to 0.11274797283113003\n",
      "\n",
      "\n",
      "Iteration 2/14 of epoch 88 complete. Loss : 0.03726016916334629 \n",
      "\n",
      "Iteration 4/14 of epoch 88 complete. Loss : 0.032397433184087276 \n",
      "\n",
      "Iteration 6/14 of epoch 88 complete. Loss : 0.032261474058032036 \n",
      "\n",
      "Iteration 8/14 of epoch 88 complete. Loss : 0.02639282774180174 \n",
      "\n",
      "Iteration 10/14 of epoch 88 complete. Loss : 0.027556972578167915 \n",
      "\n",
      "Iteration 12/14 of epoch 88 complete. Loss : 0.029448270797729492 \n",
      "\n",
      "Iteration 14/14 of epoch 88 complete. Loss : 0.01352240506093949 \n",
      "\n",
      "Epoch 88 complete! Validation Loss : 0.11609301157295704\n",
      "Epoch 88 complete! Validation Accuracy : 0.9499289772727273\n"
     ]
    },
    {
     "name": "stderr",
     "output_type": "stream",
     "text": [
      "100%|██████████| 14/14 [00:00<00:00, 95.18it/s]\n",
      "100%|██████████| 4/4 [00:00<00:00, 152.48it/s]\n",
      "  0%|          | 0/14 [00:00<?, ?it/s]"
     ]
    },
    {
     "name": "stdout",
     "output_type": "stream",
     "text": [
      "\n",
      "Iteration 2/14 of epoch 89 complete. Loss : 0.033801138401031494 \n",
      "\n",
      "Iteration 4/14 of epoch 89 complete. Loss : 0.023875548504292965 \n",
      "\n",
      "Iteration 6/14 of epoch 89 complete. Loss : 0.030597837641835213 \n",
      "\n",
      "Iteration 8/14 of epoch 89 complete. Loss : 0.031164629384875298 \n",
      "\n",
      "Iteration 10/14 of epoch 89 complete. Loss : 0.03309050481766462 \n",
      "\n",
      "Iteration 12/14 of epoch 89 complete. Loss : 0.02545551210641861 \n",
      "\n",
      "Iteration 14/14 of epoch 89 complete. Loss : 0.014778013806790113 \n",
      "\n",
      "Epoch 89 complete! Validation Loss : 0.11279581673443317\n",
      "Epoch 89 complete! Validation Accuracy : 0.9518821022727273\n"
     ]
    },
    {
     "name": "stderr",
     "output_type": "stream",
     "text": [
      "100%|██████████| 14/14 [00:00<00:00, 95.83it/s]\n",
      "100%|██████████| 4/4 [00:00<00:00, 164.20it/s]\n",
      "  0%|          | 0/14 [00:00<?, ?it/s]"
     ]
    },
    {
     "name": "stdout",
     "output_type": "stream",
     "text": [
      "\n",
      "Iteration 2/14 of epoch 90 complete. Loss : 0.029795102775096893 \n",
      "\n",
      "Iteration 4/14 of epoch 90 complete. Loss : 0.028677474707365036 \n",
      "\n",
      "Iteration 6/14 of epoch 90 complete. Loss : 0.028213604353368282 \n",
      "\n",
      "Iteration 8/14 of epoch 90 complete. Loss : 0.02276180125772953 \n",
      "\n",
      "Iteration 10/14 of epoch 90 complete. Loss : 0.03286411240696907 \n",
      "\n",
      "Iteration 12/14 of epoch 90 complete. Loss : 0.02634037472307682 \n",
      "\n",
      "Iteration 14/14 of epoch 90 complete. Loss : 0.020943656098097563 \n",
      "\n",
      "Epoch 90 complete! Validation Loss : 0.11160229332745075\n",
      "Epoch 90 complete! Validation Accuracy : 0.9557883522727273\n",
      "Best validation loss improved from 0.11274797283113003 to 0.11160229332745075\n",
      "\n"
     ]
    },
    {
     "name": "stderr",
     "output_type": "stream",
     "text": [
      "100%|██████████| 14/14 [00:00<00:00, 96.00it/s]\n",
      "100%|██████████| 4/4 [00:00<00:00, 146.11it/s]\n",
      "  0%|          | 0/14 [00:00<?, ?it/s]"
     ]
    },
    {
     "name": "stdout",
     "output_type": "stream",
     "text": [
      "\n",
      "Iteration 2/14 of epoch 91 complete. Loss : 0.028495528735220432 \n",
      "\n",
      "Iteration 4/14 of epoch 91 complete. Loss : 0.0360831068828702 \n",
      "\n",
      "Iteration 6/14 of epoch 91 complete. Loss : 0.027648010291159153 \n",
      "\n",
      "Iteration 8/14 of epoch 91 complete. Loss : 0.022565447725355625 \n",
      "\n",
      "Iteration 10/14 of epoch 91 complete. Loss : 0.0220991438254714 \n",
      "\n",
      "Iteration 12/14 of epoch 91 complete. Loss : 0.03166672121733427 \n",
      "\n",
      "Iteration 14/14 of epoch 91 complete. Loss : 0.014650870114564896 \n",
      "\n",
      "Epoch 91 complete! Validation Loss : 0.11161003448069096\n",
      "Epoch 91 complete! Validation Accuracy : 0.9518821022727273\n"
     ]
    },
    {
     "name": "stderr",
     "output_type": "stream",
     "text": [
      "100%|██████████| 14/14 [00:00<00:00, 93.44it/s]\n",
      "100%|██████████| 4/4 [00:00<00:00, 134.93it/s]\n",
      "  0%|          | 0/14 [00:00<?, ?it/s]"
     ]
    },
    {
     "name": "stdout",
     "output_type": "stream",
     "text": [
      "\n",
      "Iteration 2/14 of epoch 92 complete. Loss : 0.03020358458161354 \n",
      "\n",
      "Iteration 4/14 of epoch 92 complete. Loss : 0.024088378995656967 \n",
      "\n",
      "Iteration 6/14 of epoch 92 complete. Loss : 0.02458860445767641 \n",
      "\n",
      "Iteration 8/14 of epoch 92 complete. Loss : 0.022467189468443394 \n",
      "\n",
      "Iteration 10/14 of epoch 92 complete. Loss : 0.023991110734641552 \n",
      "\n",
      "Iteration 12/14 of epoch 92 complete. Loss : 0.026712103746831417 \n",
      "\n",
      "Iteration 14/14 of epoch 92 complete. Loss : 0.12687013484537601 \n",
      "\n",
      "Epoch 92 complete! Validation Loss : 0.10640969313681126\n",
      "Epoch 92 complete! Validation Accuracy : 0.9518821022727273\n",
      "Best validation loss improved from 0.11160229332745075 to 0.10640969313681126\n",
      "\n"
     ]
    },
    {
     "name": "stderr",
     "output_type": "stream",
     "text": [
      "100%|██████████| 14/14 [00:00<00:00, 90.72it/s]\n",
      "100%|██████████| 4/4 [00:00<00:00, 153.22it/s]\n",
      "  0%|          | 0/14 [00:00<?, ?it/s]"
     ]
    },
    {
     "name": "stdout",
     "output_type": "stream",
     "text": [
      "\n",
      "Iteration 2/14 of epoch 93 complete. Loss : 0.02755079325288534 \n",
      "\n",
      "Iteration 4/14 of epoch 93 complete. Loss : 0.029950985684990883 \n",
      "\n",
      "Iteration 6/14 of epoch 93 complete. Loss : 0.025144011713564396 \n",
      "\n",
      "Iteration 8/14 of epoch 93 complete. Loss : 0.029110729694366455 \n",
      "\n",
      "Iteration 10/14 of epoch 93 complete. Loss : 0.030900022946298122 \n",
      "\n",
      "Iteration 12/14 of epoch 93 complete. Loss : 0.034376151859760284 \n",
      "\n",
      "Iteration 14/14 of epoch 93 complete. Loss : 0.021844479255378246 \n",
      "\n",
      "Epoch 93 complete! Validation Loss : 0.11072764545679092\n",
      "Epoch 93 complete! Validation Accuracy : 0.9499289772727273\n"
     ]
    },
    {
     "name": "stderr",
     "output_type": "stream",
     "text": [
      "100%|██████████| 14/14 [00:00<00:00, 91.74it/s]\n",
      "100%|██████████| 4/4 [00:00<00:00, 143.67it/s]\n",
      "  0%|          | 0/14 [00:00<?, ?it/s]"
     ]
    },
    {
     "name": "stdout",
     "output_type": "stream",
     "text": [
      "\n",
      "Iteration 2/14 of epoch 94 complete. Loss : 0.02781862858682871 \n",
      "\n",
      "Iteration 4/14 of epoch 94 complete. Loss : 0.02068446110934019 \n",
      "\n",
      "Iteration 6/14 of epoch 94 complete. Loss : 0.02155343908816576 \n",
      "\n",
      "Iteration 8/14 of epoch 94 complete. Loss : 0.03240594081580639 \n",
      "\n",
      "Iteration 10/14 of epoch 94 complete. Loss : 0.03612961247563362 \n",
      "\n",
      "Iteration 12/14 of epoch 94 complete. Loss : 0.028111466206610203 \n",
      "\n",
      "Iteration 14/14 of epoch 94 complete. Loss : 0.027706783264875412 \n",
      "\n",
      "Epoch 94 complete! Validation Loss : 0.11488723754882812\n",
      "Epoch 94 complete! Validation Accuracy : 0.9479758522727273\n"
     ]
    },
    {
     "name": "stderr",
     "output_type": "stream",
     "text": [
      "100%|██████████| 14/14 [00:00<00:00, 90.46it/s]\n",
      "100%|██████████| 4/4 [00:00<00:00, 150.66it/s]\n",
      "  0%|          | 0/14 [00:00<?, ?it/s]"
     ]
    },
    {
     "name": "stdout",
     "output_type": "stream",
     "text": [
      "\n",
      "Iteration 2/14 of epoch 95 complete. Loss : 0.031177702359855175 \n",
      "\n",
      "Iteration 4/14 of epoch 95 complete. Loss : 0.02384487260133028 \n",
      "\n",
      "Iteration 6/14 of epoch 95 complete. Loss : 0.025401173159480095 \n",
      "\n",
      "Iteration 8/14 of epoch 95 complete. Loss : 0.0279324259608984 \n",
      "\n",
      "Iteration 10/14 of epoch 95 complete. Loss : 0.02288608532398939 \n",
      "\n",
      "Iteration 12/14 of epoch 95 complete. Loss : 0.025547388009727 \n",
      "\n",
      "Iteration 14/14 of epoch 95 complete. Loss : 0.01716772560030222 \n",
      "\n",
      "Epoch 95 complete! Validation Loss : 0.10037253610789776\n",
      "Epoch 95 complete! Validation Accuracy : 0.9557883522727273\n",
      "Best validation loss improved from 0.10640969313681126 to 0.10037253610789776\n",
      "\n"
     ]
    },
    {
     "name": "stderr",
     "output_type": "stream",
     "text": [
      "100%|██████████| 14/14 [00:00<00:00, 92.43it/s]\n",
      "100%|██████████| 4/4 [00:00<00:00, 145.05it/s]\n",
      "  0%|          | 0/14 [00:00<?, ?it/s]"
     ]
    },
    {
     "name": "stdout",
     "output_type": "stream",
     "text": [
      "\n",
      "Iteration 2/14 of epoch 96 complete. Loss : 0.02026229538023472 \n",
      "\n",
      "Iteration 4/14 of epoch 96 complete. Loss : 0.022557316347956657 \n",
      "\n",
      "Iteration 6/14 of epoch 96 complete. Loss : 0.021078615449368954 \n",
      "\n",
      "Iteration 8/14 of epoch 96 complete. Loss : 0.028440912254154682 \n",
      "\n",
      "Iteration 10/14 of epoch 96 complete. Loss : 0.021584956906735897 \n",
      "\n",
      "Iteration 12/14 of epoch 96 complete. Loss : 0.028117520734667778 \n",
      "\n",
      "Iteration 14/14 of epoch 96 complete. Loss : 0.03846217133104801 \n",
      "\n",
      "Epoch 96 complete! Validation Loss : 0.10258539021015167\n",
      "Epoch 96 complete! Validation Accuracy : 0.9577414772727273\n",
      "\n",
      "Iteration 2/14 of epoch 97 complete. Loss : 0.024980747140944004 \n"
     ]
    },
    {
     "name": "stderr",
     "output_type": "stream",
     "text": [
      "100%|██████████| 14/14 [00:00<00:00, 86.39it/s]\n",
      "100%|██████████| 4/4 [00:00<00:00, 158.97it/s]\n",
      "  0%|          | 0/14 [00:00<?, ?it/s]"
     ]
    },
    {
     "name": "stdout",
     "output_type": "stream",
     "text": [
      "\n",
      "Iteration 4/14 of epoch 97 complete. Loss : 0.029697026126086712 \n",
      "\n",
      "Iteration 6/14 of epoch 97 complete. Loss : 0.024609233252704144 \n",
      "\n",
      "Iteration 8/14 of epoch 97 complete. Loss : 0.02344505675137043 \n",
      "\n",
      "Iteration 10/14 of epoch 97 complete. Loss : 0.016042507719248533 \n",
      "\n",
      "Iteration 12/14 of epoch 97 complete. Loss : 0.02037800569087267 \n",
      "\n",
      "Iteration 14/14 of epoch 97 complete. Loss : 0.020557216368615627 \n",
      "\n",
      "Epoch 97 complete! Validation Loss : 0.10308437049388885\n",
      "Epoch 97 complete! Validation Accuracy : 0.9577414772727273\n",
      "\n",
      "Iteration 2/14 of epoch 98 complete. Loss : 0.028039627708494663 \n"
     ]
    },
    {
     "name": "stderr",
     "output_type": "stream",
     "text": [
      "100%|██████████| 14/14 [00:00<00:00, 85.19it/s]\n",
      "100%|██████████| 4/4 [00:00<00:00, 168.39it/s]\n",
      "  0%|          | 0/14 [00:00<?, ?it/s]"
     ]
    },
    {
     "name": "stdout",
     "output_type": "stream",
     "text": [
      "\n",
      "Iteration 4/14 of epoch 98 complete. Loss : 0.024082674644887447 \n",
      "\n",
      "Iteration 6/14 of epoch 98 complete. Loss : 0.01841842755675316 \n",
      "\n",
      "Iteration 8/14 of epoch 98 complete. Loss : 0.017861430533230305 \n",
      "\n",
      "Iteration 10/14 of epoch 98 complete. Loss : 0.02147385012358427 \n",
      "\n",
      "Iteration 12/14 of epoch 98 complete. Loss : 0.022245733998715878 \n",
      "\n",
      "Iteration 14/14 of epoch 98 complete. Loss : 0.026208258233964443 \n",
      "\n",
      "Epoch 98 complete! Validation Loss : 0.09994675777852535\n",
      "Epoch 98 complete! Validation Accuracy : 0.9557883522727273\n",
      "Best validation loss improved from 0.10037253610789776 to 0.09994675777852535\n",
      "\n",
      "\n",
      "Iteration 2/14 of epoch 99 complete. Loss : 0.02034047432243824 \n"
     ]
    },
    {
     "name": "stderr",
     "output_type": "stream",
     "text": [
      "100%|██████████| 14/14 [00:00<00:00, 87.18it/s]\n",
      "100%|██████████| 4/4 [00:00<00:00, 172.46it/s]\n",
      "  0%|          | 0/14 [00:00<?, ?it/s]"
     ]
    },
    {
     "name": "stdout",
     "output_type": "stream",
     "text": [
      "\n",
      "Iteration 4/14 of epoch 99 complete. Loss : 0.020544255152344704 \n",
      "\n",
      "Iteration 6/14 of epoch 99 complete. Loss : 0.021745851263403893 \n",
      "\n",
      "Iteration 8/14 of epoch 99 complete. Loss : 0.018200024031102657 \n",
      "\n",
      "Iteration 10/14 of epoch 99 complete. Loss : 0.023535752668976784 \n",
      "\n",
      "Iteration 12/14 of epoch 99 complete. Loss : 0.020383626222610474 \n",
      "\n",
      "Iteration 14/14 of epoch 99 complete. Loss : 0.020844365004450083 \n",
      "\n",
      "Epoch 99 complete! Validation Loss : 0.10221736691892147\n",
      "Epoch 99 complete! Validation Accuracy : 0.9538352272727273\n",
      "\n",
      "Iteration 2/14 of epoch 100 complete. Loss : 0.0213006604462862 \n"
     ]
    },
    {
     "name": "stderr",
     "output_type": "stream",
     "text": [
      "100%|██████████| 14/14 [00:00<00:00, 110.36it/s]\n",
      "100%|██████████| 4/4 [00:00<00:00, 169.53it/s]\n"
     ]
    },
    {
     "name": "stdout",
     "output_type": "stream",
     "text": [
      "\n",
      "Iteration 4/14 of epoch 100 complete. Loss : 0.01989414356648922 \n",
      "\n",
      "Iteration 6/14 of epoch 100 complete. Loss : 0.020340668968856335 \n",
      "\n",
      "Iteration 8/14 of epoch 100 complete. Loss : 0.026303540915250778 \n",
      "\n",
      "Iteration 10/14 of epoch 100 complete. Loss : 0.017232130281627178 \n",
      "\n",
      "Iteration 12/14 of epoch 100 complete. Loss : 0.018556984141469002 \n",
      "\n",
      "Iteration 14/14 of epoch 100 complete. Loss : 0.013152670115232468 \n",
      "\n",
      "Epoch 100 complete! Validation Loss : 0.09972566179931164\n",
      "Epoch 100 complete! Validation Accuracy : 0.9577414772727273\n",
      "Best validation loss improved from 0.09994675777852535 to 0.09972566179931164\n",
      "\n",
      "The model has been saved in saved_models/nv_em_ce_rbert_recov_lr_3e-05_val_loss_0.09973_ep_100.pt\n"
     ]
    }
   ],
   "source": [
    "# Train the model\n",
    "model, model_name = train_model(class_model, criterion, optimizer, lr, scheduler, train_dataloader, test_dataloader, epochs, iters_to_accumulate)"
   ]
  },
  {
   "cell_type": "code",
   "execution_count": 29,
   "metadata": {},
   "outputs": [],
   "source": [
    "def evaluate(prediction_dataloader, model, path_to_model, load = False):\n",
    "\t# Prediction on test set\n",
    "\tif load:\n",
    "\t\tprint(\"Loading the weights of the model...\")\n",
    "\t\tmodel.load_state_dict(torch.load(path_to_model))\n",
    "\n",
    "\tprint('Evaluating on the testset')\n",
    "\n",
    "\t# Put model in evaluation mode\n",
    "\tmodel.eval()\n",
    "\n",
    "\t# Tracking variables \n",
    "\tpredictions , true_labels = [], []\n",
    "\n",
    "\t# Predict \n",
    "\tfor batch in prediction_dataloader:\n",
    "\t  # Add batch to GPU\n",
    "\t  batch = tuple(t.to(device) for t in batch)\n",
    "\t  \n",
    "\t  # Unpack the inputs from our dataloader\n",
    "\t  b_t_inputs, b_s_inputs, b_e_inputs, b_labels = batch\n",
    "\t  \n",
    "\t  # Telling the model not to compute or store gradients, saving memory and \n",
    "\t  # speeding up prediction\n",
    "\t  with torch.no_grad():\n",
    "\t      # Forward pass, calculate logit predictions\n",
    "\t      logits = model(b_t_inputs, b_s_inputs, b_e_inputs)\n",
    "\n",
    "\t  # Move logits and labels to CPU\n",
    "\t  logits = logits.detach().cpu().numpy()\n",
    "\t  label_ids = b_labels.to('cpu').numpy()\n",
    "\n",
    "\t  pred_flat = np.argmax(logits, axis=1).flatten()\n",
    "\t  labels_flat = label_ids.flatten()\n",
    "\t  \n",
    "\t  # Store predictions and true labels\n",
    "\t  predictions.extend(pred_flat)\n",
    "\t  true_labels.extend(labels_flat)\n",
    "\n",
    "\tprint('DONE.')\n",
    "\n",
    "\t# Code for result display\n",
    "\tprint(model_name, 'Multi-Modal Classification accuracy is')\n",
    "\tprint(metrics.accuracy_score(true_labels, predictions)*100)\n",
    "\tprint(classification_report(true_labels, predictions, target_names = ['fake', 'real']))\n",
    "\t# Converting to csv\n",
    "\t# Removed transpose - check if actually required\n",
    "\tclsf_report = pd.DataFrame(classification_report(y_true = true_labels, y_pred = predictions, output_dict=True, target_names = ['fake', 'real']))\n",
    "\tclsf_report.to_csv(str('saved_models/'+model_name+'.csv'), index= True)"
   ]
  },
  {
   "cell_type": "code",
   "execution_count": 30,
   "metadata": {},
   "outputs": [
    {
     "name": "stdout",
     "output_type": "stream",
     "text": [
      "Evaluating on the testset\n",
      "DONE.\n",
      "nv_em_ce_rbert_recov Multi-Modal Classification accuracy is\n",
      "96.88249400479616\n",
      "              precision    recall  f1-score   support\n",
      "\n",
      "        fake       0.96      0.91      0.93        96\n",
      "        real       0.97      0.99      0.98       321\n",
      "\n",
      "    accuracy                           0.97       417\n",
      "   macro avg       0.96      0.95      0.96       417\n",
      "weighted avg       0.97      0.97      0.97       417\n",
      "\n"
     ]
    }
   ],
   "source": [
    "path_to_model = 'saved_models/class_contrast_visualbert_lr_3e-05_val_loss_0.35285_ep_100.pt'\n",
    "evaluate(test_dataloader, model, path_to_model = path_to_model, load = False)"
   ]
  }
 ],
 "metadata": {
  "interpreter": {
   "hash": "112ac2046fa01f929d29fd747457323c8422411859b530c12136f6127f223c24"
  },
  "kernelspec": {
   "display_name": "Python 3.6.11 64-bit ('newnisbert': conda)",
   "name": "python3"
  },
  "language_info": {
   "codemirror_mode": {
    "name": "ipython",
    "version": 3
   },
   "file_extension": ".py",
   "mimetype": "text/x-python",
   "name": "python",
   "nbconvert_exporter": "python",
   "pygments_lexer": "ipython3",
   "version": "3.6.11"
  },
  "orig_nbformat": 4
 },
 "nbformat": 4,
 "nbformat_minor": 2
}
