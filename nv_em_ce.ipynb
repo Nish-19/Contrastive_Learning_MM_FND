{
 "cells": [
  {
   "cell_type": "code",
   "execution_count": 1,
   "source": [
    "import os\n",
    "gpu_number = \"0\" # Choose either 0 or 1\n",
    "os.environ['CUDA_ENVIRONMENT_DEVICES'] = gpu_number"
   ],
   "outputs": [],
   "metadata": {}
  },
  {
   "cell_type": "code",
   "execution_count": 2,
   "source": [
    "import os\n",
    "import sys\n",
    "import numpy as np\n",
    "from numpy import asarray,zeros\n",
    "import pandas as pd \n",
    "from sklearn.model_selection import train_test_split\n",
    "import torch\n",
    "from torch.utils.data import TensorDataset, DataLoader, RandomSampler, SequentialSampler, Dataset\n",
    "import torch.nn as nn\n",
    "import torch.nn.functional as F\n",
    "import torch.optim as optim\n",
    "from tqdm import tqdm\n",
    "import matplotlib.pyplot as plt\n",
    "import copy\n",
    "from sklearn.model_selection import train_test_split\n",
    "from sklearn import metrics\n",
    "from sklearn.metrics import classification_report\n",
    "import transformers\n",
    "from transformers import BertTokenizer\n",
    "from transformers import AdamW, get_linear_schedule_with_warmup\n",
    "from transformers import AutoTokenizer, AutoModel, AutoConfig, AdamW, get_linear_schedule_with_warmup\n",
    "from tensorflow.keras.preprocessing.text import Tokenizer\n",
    "from tensorflow.keras.preprocessing.sequence import pad_sequences\n",
    "import timm\n",
    "from losses import SupConLoss\n",
    "from torchlars import LARS"
   ],
   "outputs": [],
   "metadata": {}
  },
  {
   "cell_type": "code",
   "execution_count": 3,
   "source": [
    "if torch.cuda.is_available():\n",
    "    device_name = \"cuda:\" + gpu_number\n",
    "    device = torch.device(device_name)\n",
    "else:\n",
    "    device = torch.device(\"cpu\")\n",
    "# device = torch.device(\"cpu\") # Force CPU\n",
    "print(\"Using device\", device)"
   ],
   "outputs": [
    {
     "output_type": "stream",
     "name": "stdout",
     "text": [
      "Using device cuda:0\n"
     ]
    }
   ],
   "metadata": {}
  },
  {
   "cell_type": "code",
   "execution_count": 4,
   "source": [
    "# NOTE: Resnet+BERT Multimodal data\n",
    "source_multimodal_arr = np.load(\"../data/source_multimodal_out.npy\")\n",
    "target_multimodal_arr = np.load(\"../data/target_multimodal_out.npy\")\n",
    "print(\"Source shape\", source_multimodal_arr.shape)\n",
    "print(\"Target shape\", target_multimodal_arr.shape)"
   ],
   "outputs": [
    {
     "output_type": "stream",
     "name": "stdout",
     "text": [
      "Source shape (11766, 1280)\n",
      "Target shape (11766, 1280)\n"
     ]
    }
   ],
   "metadata": {}
  },
  {
   "cell_type": "code",
   "execution_count": 5,
   "source": [
    "# # NOTE: Import Visual BERT Multimodal data\n",
    "# source_multimodal_arr = np.load(\"../data/source_mm_vbert.npy\")\n",
    "# target_multimodal_arr = np.load(\"../data/target_mm_vbert.npy\")"
   ],
   "outputs": [],
   "metadata": {}
  },
  {
   "cell_type": "code",
   "execution_count": 6,
   "source": [
    "# NOTE: Import source data for emotion\n",
    "# img_data = np.load(\"../data/image_array.npy\")\n",
    "# num_images, sources, width, height, num_channels = img_data.shape\n",
    "# img_data_reshape = np.reshape(img_data, newshape=(num_images, sources, num_channels, width, height))\n",
    "# img_data_source = torch.tensor(img_data_reshape[:,1,:,:,:]) \n",
    "# print('New Source Shape', img_data_source.shape)\n",
    "emotion_arr = np.load('../data/emotion_reprs.npy')\n",
    "print('Emotion array shape', emotion_arr.shape)"
   ],
   "outputs": [
    {
     "output_type": "stream",
     "name": "stdout",
     "text": [
      "Emotion array shape (11766, 128)\n"
     ]
    }
   ],
   "metadata": {}
  },
  {
   "cell_type": "code",
   "execution_count": 7,
   "source": [
    "# # New features\n",
    "# diff_arr = source_multimodal_arr - target_multimodal_arr\n",
    "# mul_diff_arr = source_multimodal_arr * diff_arr\n",
    "# print(\"Source shape\", diff_arr.shape)\n",
    "# print(\"Target shape\", mul_diff_arr.shape)"
   ],
   "outputs": [],
   "metadata": {}
  },
  {
   "cell_type": "code",
   "execution_count": 8,
   "source": [
    "# # Considering only the text parts - #TODO: Comment if not necessary\n",
    "# source_multimodal_arr = source_multimodal_arr[:,768:] # Only BERT\n",
    "# target_multimodal_arr = target_multimodal_arr[:,768:] # Only BERT\n",
    "# print(\"Source shape\", source_multimodal_arr.shape)\n",
    "# print(\"Target shape\", target_multimodal_arr.shape)"
   ],
   "outputs": [],
   "metadata": {}
  },
  {
   "cell_type": "code",
   "execution_count": 9,
   "source": [
    "# NOTE: Old features\n",
    "source_multimodal_tensor = torch.tensor(source_multimodal_arr)\n",
    "target_multimodal_tensor = torch.tensor(target_multimodal_arr)\n",
    "emotion_source_tensor = torch.tensor(emotion_arr)\n",
    "print(\"Source shape\", source_multimodal_tensor.shape)\n",
    "print(\"Target shape\", target_multimodal_tensor.shape)\n",
    "print(\"Emotion Source shape\", emotion_source_tensor.shape)"
   ],
   "outputs": [
    {
     "output_type": "stream",
     "name": "stdout",
     "text": [
      "Source shape torch.Size([11766, 1280])\n",
      "Target shape torch.Size([11766, 1280])\n",
      "Emotion Source shape torch.Size([11766, 128])\n"
     ]
    }
   ],
   "metadata": {}
  },
  {
   "cell_type": "code",
   "execution_count": 10,
   "source": [
    "# #NOTE: New features (NOT GOOD)\n",
    "# diff_arr = torch.tensor(diff_arr, device=device)\n",
    "# mul_diff_arr = torch.tensor(mul_diff_arr, device=device)\n",
    "# print(\"Source shape\", diff_arr.shape)\n",
    "# print(\"Target shape\", mul_diff_arr.shape)"
   ],
   "outputs": [],
   "metadata": {}
  },
  {
   "cell_type": "code",
   "execution_count": 11,
   "source": [
    "# Loading the label\n",
    "labels_data = np.load(\"../data/labels.npy\")\n",
    "labels_tensor = torch.tensor(labels_data, dtype=torch.long).squeeze(-1)\n",
    "print('Labels tensor shape', labels_tensor.shape)"
   ],
   "outputs": [
    {
     "output_type": "stream",
     "name": "stdout",
     "text": [
      "Labels tensor shape torch.Size([11766])\n"
     ]
    }
   ],
   "metadata": {}
  },
  {
   "cell_type": "code",
   "execution_count": 12,
   "source": [
    "#TODO: Add Pytorch DataLoader\n",
    "def get_data_loader(batch_size, target_input, source_input, emotion_input, labels):\n",
    "\tdata = TensorDataset(target_input, source_input, emotion_input, labels)\n",
    "\tsampler = SequentialSampler(data)\n",
    "\tdataloader = DataLoader(data, sampler=sampler, batch_size=batch_size)\n",
    "\treturn data, sampler, dataloader"
   ],
   "outputs": [],
   "metadata": {}
  },
  {
   "cell_type": "code",
   "execution_count": 13,
   "source": [
    "# NOTE: Old features\n",
    "train_target, test_target, train_source, test_source, train_emotion, test_emotion, train_labels, test_labels = train_test_split(target_multimodal_tensor, source_multimodal_tensor, emotion_source_tensor, labels_tensor, test_size=0.2, random_state=43)"
   ],
   "outputs": [],
   "metadata": {}
  },
  {
   "cell_type": "code",
   "execution_count": 14,
   "source": [
    "batch_size = 128\n",
    "train_data, train_sampler, train_dataloader = get_data_loader(batch_size, train_target, train_source, train_emotion, train_labels)\n",
    "test_data, test_sampler, test_dataloader = get_data_loader(batch_size, test_target, test_source, test_emotion, test_labels)"
   ],
   "outputs": [],
   "metadata": {}
  },
  {
   "cell_type": "code",
   "execution_count": 15,
   "source": [
    "# Model imported from the previous network\n",
    "class ContrastiveModel(nn.Module):\n",
    "    def __init__(self, initial_dim):\n",
    "        super(ContrastiveModel, self).__init__()\n",
    "        self.project_1 = nn.Linear(initial_dim, 512, bias=True)\n",
    "        self.project_2 = nn.Linear(512, 128, bias=True)\n",
    "        self.dropout = nn.Dropout(0.2)\n",
    "    def forward(self, multimodal_input):\n",
    "        contrast_space = self.project_2(self.project_1(multimodal_input))\n",
    "        normalize_contrast = F.normalize(contrast_space, dim=2)\n",
    "        return normalize_contrast"
   ],
   "outputs": [],
   "metadata": {}
  },
  {
   "cell_type": "code",
   "execution_count": 16,
   "source": [
    "# NOTE: Novelty based Contrastive Model\n",
    "class NoveltyModule(nn.Module):\n",
    "    def __init__(self, initial_dim):\n",
    "        super(NoveltyModule, self).__init__()\n",
    "        self.contrastive_model = ContrastiveModel(initial_dim) # For generic model\n",
    "        # self.contrastive_model = ContrastiveModelVisualBERT(initial_dim) # For visual BERT only\n",
    "        # self.contrastive_model.load_state_dict(torch.load('saved_models/contrast_head_visualbert_lr_5_ep_1000.pt')) # For vbert\n",
    "        self.contrastive_model.load_state_dict(torch.load('saved_models/contrast_head_lr_5_ep_1000_old.pt')) # For rbert\n",
    "        for param in self.contrastive_model.parameters():\n",
    "            param.requires_grad = False\n",
    "        self.reduce_1 = nn.Linear((512)*3, 512)\n",
    "        self.tanh1 = nn.Tanh()\n",
    "        self.logits_layer = nn.Linear(512, 2)\n",
    "    def forward(self, target_input, source_input):\n",
    "        fixed_target = self.contrastive_model.project_1(target_input)\n",
    "        fixed_source = self.contrastive_model.project_1(source_input)\n",
    "        add_op = fixed_target + fixed_source\n",
    "        sub_op = fixed_target - fixed_source\n",
    "        mul_op = fixed_target * fixed_source\n",
    "        combine_t_s = torch.cat((add_op, sub_op, mul_op), 1)\n",
    "        reduce_output = self.tanh1(self.reduce_1(combine_t_s)) # 512 dimension\n",
    "        return reduce_output"
   ],
   "outputs": [],
   "metadata": {}
  },
  {
   "cell_type": "code",
   "execution_count": 17,
   "source": [
    "# NOTE: Emotion based Model\n",
    "class ResNetBottom(nn.Module):\n",
    "    def __init__(self, original_model):\n",
    "        super(ResNetBottom, self).__init__()\n",
    "        self.features = nn.Sequential(*list(original_model.children())[:-1])\n",
    "        \n",
    "    def forward(self, x):\n",
    "        x = self.features(x)\n",
    "        return x\n",
    "\n",
    "class EmotionModule(nn.Module):\n",
    "    def __init__(self):\n",
    "        super(EmotionModule, self).__init__()\n",
    "        self.vision_base_model = timm.create_model('resnet50', pretrained=True)\n",
    "        self.vision_model_head = ResNetBottom(self.vision_base_model)\n",
    "        self.project_1 = nn.Linear(2048, 1024, bias=True)\n",
    "        self.project_2 = nn.Linear(1024, 512, bias=True)\n",
    "        self.project_3 = nn.Linear(512, 128, bias=True)\n",
    "        self.tanh1 = nn.Tanh()\n",
    "        self.tanh2 = nn.Tanh()\n",
    "        self.tanh3 = nn.Tanh()\n",
    "        self.drop1 = nn.Dropout()\n",
    "        self.drop2 = nn.Dropout()\n",
    "        self.drop3 = nn.Dropout()\n",
    "        self.classification = nn.Linear(128, 2, bias=True)\n",
    "    def forward(self, img_features):\n",
    "        with torch.no_grad():\n",
    "            img_out = self.vision_model_head(img_features)\n",
    "        emotion_features = self.tanh3(self.project_3(self.tanh2(self.project_2(self.tanh1(self.project_1(img_out))))))\n",
    "        return emotion_features"
   ],
   "outputs": [],
   "metadata": {}
  },
  {
   "cell_type": "code",
   "execution_count": 18,
   "source": [
    "#TODO: Defin Combine Novelty-Emotion Model for classification\n",
    "class FinalClassifier(nn.Module):\n",
    "    def __init__(self, initial_dim):\n",
    "        super(FinalClassifier, self).__init__()\n",
    "        self.novelty_module = NoveltyModule(initial_dim) # For novelty model\n",
    "        # self.emotion_module = EmotionModule()\n",
    "        # self.emotion_module.load_state_dict(torch.load('../emotion/saved_models/emo_combine_res50_lr_3e-05_val_loss_0.59487_ep_61.pt'))\n",
    "        self.reduce_1 = nn.Linear(640, 512, bias=True)\n",
    "        self.tanh1 = nn.Tanh()\n",
    "        self.reduce_2 = nn.Linear(512, 128, bias=True)\n",
    "        self.tanh2 = nn.Tanh()\n",
    "        self.logits_layer = nn.Linear(128, 2)\n",
    "    def forward(self, target_input, source_input, emotion_input):\n",
    "        # Novelty Representations\n",
    "        novelty_reprs = self.novelty_module(target_input, source_input)\n",
    "        emotion_reprs = emotion_input\n",
    "        combine_n_e = torch.cat((novelty_reprs, emotion_reprs), 1) # 640\n",
    "        reduce_output_1 = self.tanh1(self.reduce_1(combine_n_e)) # 512 dimension\n",
    "        reduce_output_2 = self.tanh2(self.reduce_2(reduce_output_1)) # 128 dimension\n",
    "        logits = self.logits_layer(reduce_output_2) # 2 dimension\n",
    "        return logits"
   ],
   "outputs": [],
   "metadata": {}
  },
  {
   "cell_type": "code",
   "execution_count": 19,
   "source": [
    "# Dry-Run Classification model\n",
    "initial_dim = source_multimodal_tensor.shape[1]\n",
    "# initial_dim = diff_arr.shape[1]\n",
    "class_model = FinalClassifier(initial_dim).to(device) # For old model\n",
    "# class_model = ContrastiveClassificationNew(initial_dim).to(device) # For new model\n",
    "# class_out = class_model(target_multimodal_tensor[0:32])\n",
    "# print(class_out.shape)"
   ],
   "outputs": [],
   "metadata": {}
  },
  {
   "cell_type": "code",
   "execution_count": 20,
   "source": [
    "# Optimizer and scheduler\n",
    "def get_optimizer_scheduler(name, model, train_dataloader_len, epochs, lr_set):\n",
    "\tif name == \"Adam\":\n",
    "\t\toptimizer = AdamW(model.parameters(),\n",
    "                  lr = lr_set, # args.learning_rate - default is 5e-5, our notebook had 2e-5\n",
    "                  eps = 1e-8 # args.adam_epsilon  - default is 1e-8.\n",
    "\t\t)\n",
    "\telif name == \"LARS-SGD\":\n",
    "\t\tbase_optimizer = optim.SGD(model.parameters(), lr=lr_set, momentum=0.9)\n",
    "\t\toptimizer = LARS(optimizer=base_optimizer, eps=1e-8, trust_coef=0.001)\n",
    "\n",
    "\ttotal_steps = train_dataloader_len * epochs\n",
    "\n",
    "\t# Create the learning rate scheduler.\n",
    "\tscheduler = get_linear_schedule_with_warmup(optimizer, \n",
    "\t\t\t\t\t\t\t\t\t\t\t\tnum_warmup_steps = total_steps//2, # Default value in run_glue.py\n",
    "\t\t\t\t\t\t\t\t\t\t\t\tnum_training_steps = total_steps)\n",
    "\treturn optimizer, scheduler"
   ],
   "outputs": [],
   "metadata": {}
  },
  {
   "cell_type": "code",
   "execution_count": 21,
   "source": [
    "# Getting the optimizer and scheduler\n",
    "epochs = 100\n",
    "lr = 3e-5 # Less LR\n",
    "# lr = 0.5\n",
    "iters_to_accumulate = 2\n",
    "name = \"Adam\"\n",
    "# name = \"LARS-SGD\"\n",
    "criterion = nn.CrossEntropyLoss()\n",
    "optimizer, scheduler = get_optimizer_scheduler(name, class_model, len(train_dataloader), epochs, lr)"
   ],
   "outputs": [],
   "metadata": {}
  },
  {
   "cell_type": "code",
   "execution_count": 22,
   "source": [
    "################ Evaluating Loss ######################\n",
    "#######################################################\n",
    "def evaluate_loss(net, device, criterion, dataloader):\n",
    "    net.eval()\n",
    "    mean_loss = 0\n",
    "    count = 0\n",
    "    with torch.no_grad():\n",
    "        for it, (target_inputs, source_inputs, emotion_inputs, labels) in enumerate(tqdm(dataloader)):\n",
    "            target_inputs, source_inputs, emotion_inputs, labels = target_inputs.to(device), source_inputs.to(device), emotion_inputs.to(device), labels.to(device)\n",
    "            logits = net(target_inputs, source_inputs, emotion_inputs)\n",
    "            mean_loss += criterion(logits.squeeze(-1), labels).item() # initially it was logits.squeeze(-1)\n",
    "            count += 1\n",
    "    return mean_loss / count"
   ],
   "outputs": [],
   "metadata": {}
  },
  {
   "cell_type": "code",
   "execution_count": 23,
   "source": [
    "################ Flat Accuracy Calculation ####################\n",
    "###############################################################\n",
    "def flat_accuracy(preds, labels):\n",
    "    pred_flat = np.argmax(preds, axis=1).flatten()\n",
    "    labels_flat = labels.flatten()\n",
    "    return np.sum(pred_flat == labels_flat) / len(labels_flat)\n",
    "################ Validation Accuracy Calculation ####################\n",
    "###############################################################\n",
    "def evaluate_accuracy(model, device, validation_dataloader):\n",
    "\tmodel.eval()\n",
    "\t# Tracking variables \n",
    "\teval_loss, eval_accuracy = 0, 0\n",
    "\tnb_eval_steps, nb_eval_examples = 0, 0\n",
    "\t# Evaluate data for one epoch\n",
    "\tfor batch in validation_dataloader:\n",
    "\t    # Add batch to GPU\n",
    "\t    batch = tuple(t.to(device) for t in batch)\t    \n",
    "\t    # Unpack the inputs from our dataloader\n",
    "\t    b_t_inputs, b_s_inputs, b_e_inputs, b_labels = batch\t    \n",
    "\t    \n",
    "\t    # Telling the model not to compute or store gradients, saving memory and\n",
    "\t    # speeding up validation\n",
    "\t    with torch.no_grad(): \n",
    "\t    \t# Forward pass, calculate logit predictions.\n",
    "\t        # This will return the logits rather than the loss because we have\n",
    "\t        # not provided labels.\n",
    "\t    \tlogits = model(b_t_inputs, b_s_inputs, b_e_inputs)       \n",
    "\n",
    "\t    # Move logits and labels to CPU\n",
    "\t    logits = logits.detach().cpu().numpy()\n",
    "\t    label_ids = b_labels.to('cpu').numpy()\n",
    "\t    \n",
    "\t    # Calculate the accuracy for this batch of test sentences.\n",
    "\t    tmp_eval_accuracy = flat_accuracy(logits, label_ids)\n",
    "\t    \n",
    "\t    # Accumulate the total accuracy.\n",
    "\t    eval_accuracy += tmp_eval_accuracy\n",
    "\n",
    "\t    # Track the number of batches\n",
    "\t    nb_eval_steps += 1\n",
    "\taccuracy = eval_accuracy/nb_eval_steps\n",
    "\treturn accuracy"
   ],
   "outputs": [],
   "metadata": {}
  },
  {
   "cell_type": "code",
   "execution_count": 24,
   "source": [
    "def train_model(net, criterion, opti, lr, lr_scheduler, train_loader, val_loader, epochs, iters_to_accumulate):\n",
    "    best_loss = np.Inf\n",
    "    best_ep = 1\n",
    "    nb_iterations = len(train_loader)\n",
    "    print_every = nb_iterations // 5  # print the training loss 5 times per epoch\n",
    "    iters = []\n",
    "    train_losses = []\n",
    "    val_losses = []\n",
    "    # Iterating over all epochs\n",
    "    for ep in range(epochs):\n",
    "        net.train()\n",
    "        running_loss = 0.0\n",
    "        for it, (target_inputs, source_inputs, emotion_inputs, labels) in enumerate(tqdm(train_loader)):\n",
    "\n",
    "            # Converting to cuda tensors\n",
    "            target_inputs, source_inputs, emotion_inputs, labels = target_inputs.to(device), source_inputs.to(device), emotion_inputs.to(device), labels.to(device)\n",
    "    \t\t\n",
    "            # Obtaining the logits from the model\n",
    "            logits = net(target_inputs, source_inputs, emotion_inputs)\n",
    "            # print(logits.device)\n",
    "\n",
    "            # Computing loss\n",
    "            # print(logits.squeeze(-1).shape)\n",
    "            # print(labels.shape)\n",
    "            loss = criterion(logits.squeeze(-1), labels)\n",
    "            loss = loss / iters_to_accumulate  # Normalize the loss because it is averaged\n",
    "\n",
    "            # Backpropagating the gradients\n",
    "            # Calls backward()\n",
    "            loss.backward()\n",
    "\n",
    "            if (it + 1) % iters_to_accumulate == 0:\n",
    "                # Optimization step\n",
    "                # scaler.step() first unscales the gradients of the optimizer's assigned params.\n",
    "                # If these gradients do not contain infs or NaNs, opti.step() is then called,\n",
    "                # otherwise, opti.step() is skipped.\n",
    "                opti.step()\n",
    "                # Adjust the learning rate based on the number of iterations.\n",
    "                lr_scheduler.step()\n",
    "                # Clear gradients\n",
    "                net.zero_grad()\n",
    "\n",
    "\n",
    "            running_loss += loss.item()\n",
    "\n",
    "            if (it + 1) % print_every == 0:  # Print training loss information\n",
    "                print()\n",
    "                print(\"Iteration {}/{} of epoch {} complete. Loss : {} \"\n",
    "                      .format(it+1, nb_iterations, ep+1, running_loss / print_every))\n",
    "\n",
    "                running_loss = 0.0\n",
    "\n",
    "\n",
    "        val_loss = evaluate_loss(net, device, criterion, val_loader)  # Compute validation loss\n",
    "        val_accuracy = evaluate_accuracy(net, device, val_loader)\n",
    "        print()\n",
    "        print(\"Epoch {} complete! Validation Loss : {}\".format(ep+1, val_loss))\n",
    "        print(\"Epoch {} complete! Validation Accuracy : {}\".format(ep+1, val_accuracy))\n",
    "\n",
    "        if val_loss < best_loss:\n",
    "            print(\"Best validation loss improved from {} to {}\".format(best_loss, val_loss))\n",
    "            print()\n",
    "            net_copy = copy.deepcopy(net)  # save a copy of the model\n",
    "            best_loss = val_loss\n",
    "            best_ep = ep + 1\n",
    "\n",
    "    # Saving the model\n",
    "    model_name = 'ne_full_nv_em_full_rbert'\n",
    "    path_to_model='saved_models/{}_lr_{}_val_loss_{}_ep_{}.pt'.format(model_name, lr, round(best_loss, 5), best_ep)\n",
    "    torch.save(net_copy.state_dict(), path_to_model)\n",
    "    net.load_state_dict(torch.load(path_to_model)) # Re-Loading the best model\n",
    "    print(\"The model has been saved in {}\".format(path_to_model))\n",
    "\n",
    "    del loss\n",
    "    torch.cuda.empty_cache()\n",
    "    return net"
   ],
   "outputs": [],
   "metadata": {}
  },
  {
   "cell_type": "code",
   "execution_count": 25,
   "source": [
    "# Train the model\n",
    "model = train_model(class_model, criterion, optimizer, lr, scheduler, train_dataloader, test_dataloader, epochs, iters_to_accumulate)"
   ],
   "outputs": [
    {
     "output_type": "stream",
     "name": "stderr",
     "text": [
      " 54%|█████▍    | 40/74 [00:00<00:00, 126.58it/s]"
     ]
    },
    {
     "output_type": "stream",
     "name": "stdout",
     "text": [
      "\n",
      "Iteration 14/74 of epoch 1 complete. Loss : 0.3629037141799927 \n",
      "\n",
      "Iteration 28/74 of epoch 1 complete. Loss : 0.36374300505433765 \n"
     ]
    },
    {
     "output_type": "stream",
     "name": "stderr",
     "text": [
      " 92%|█████████▏| 68/74 [00:00<00:00, 132.00it/s]"
     ]
    },
    {
     "output_type": "stream",
     "name": "stdout",
     "text": [
      "\n",
      "Iteration 42/74 of epoch 1 complete. Loss : 0.36088602031980244 \n",
      "\n",
      "Iteration 56/74 of epoch 1 complete. Loss : 0.36058466136455536 \n"
     ]
    },
    {
     "output_type": "stream",
     "name": "stderr",
     "text": [
      "100%|██████████| 74/74 [00:00<00:00, 132.86it/s]\n",
      "100%|██████████| 19/19 [00:00<00:00, 239.61it/s]\n",
      "  0%|          | 0/74 [00:00<?, ?it/s]"
     ]
    },
    {
     "output_type": "stream",
     "name": "stdout",
     "text": [
      "\n",
      "Iteration 70/74 of epoch 1 complete. Loss : 0.36067062616348267 \n",
      "\n",
      "Epoch 1 complete! Validation Loss : 0.7125201946810672\n",
      "Epoch 1 complete! Validation Accuracy : 0.44123355263157893\n",
      "Best validation loss improved from inf to 0.7125201946810672\n",
      "\n"
     ]
    },
    {
     "output_type": "stream",
     "name": "stderr",
     "text": [
      " 38%|███▊      | 28/74 [00:00<00:00, 137.98it/s]"
     ]
    },
    {
     "output_type": "stream",
     "name": "stdout",
     "text": [
      "\n",
      "Iteration 14/74 of epoch 2 complete. Loss : 0.357653517808233 \n",
      "\n",
      "Iteration 28/74 of epoch 2 complete. Loss : 0.35649618080684115 \n"
     ]
    },
    {
     "output_type": "stream",
     "name": "stderr",
     "text": [
      " 76%|███████▌  | 56/74 [00:00<00:00, 136.29it/s]"
     ]
    },
    {
     "output_type": "stream",
     "name": "stdout",
     "text": [
      "\n",
      "Iteration 42/74 of epoch 2 complete. Loss : 0.3520971770797457 \n",
      "\n",
      "Iteration 56/74 of epoch 2 complete. Loss : 0.35023593263966696 \n"
     ]
    },
    {
     "output_type": "stream",
     "name": "stderr",
     "text": [
      "100%|██████████| 74/74 [00:00<00:00, 135.70it/s]\n",
      "100%|██████████| 19/19 [00:00<00:00, 243.60it/s]\n",
      "  0%|          | 0/74 [00:00<?, ?it/s]"
     ]
    },
    {
     "output_type": "stream",
     "name": "stdout",
     "text": [
      "\n",
      "Iteration 70/74 of epoch 2 complete. Loss : 0.3484215757676533 \n",
      "\n",
      "Epoch 2 complete! Validation Loss : 0.6868066379898473\n",
      "Epoch 2 complete! Validation Accuracy : 0.49355263157894735\n",
      "Best validation loss improved from 0.7125201946810672 to 0.6868066379898473\n",
      "\n"
     ]
    },
    {
     "output_type": "stream",
     "name": "stderr",
     "text": [
      " 38%|███▊      | 28/74 [00:00<00:00, 133.83it/s]"
     ]
    },
    {
     "output_type": "stream",
     "name": "stdout",
     "text": [
      "\n",
      "Iteration 14/74 of epoch 3 complete. Loss : 0.34384244680404663 \n",
      "\n",
      "Iteration 28/74 of epoch 3 complete. Loss : 0.3405687596116747 \n"
     ]
    },
    {
     "output_type": "stream",
     "name": "stderr",
     "text": [
      " 76%|███████▌  | 56/74 [00:00<00:00, 133.43it/s]"
     ]
    },
    {
     "output_type": "stream",
     "name": "stdout",
     "text": [
      "\n",
      "Iteration 42/74 of epoch 3 complete. Loss : 0.3351180297987802 \n",
      "\n",
      "Iteration 56/74 of epoch 3 complete. Loss : 0.33214624864714487 \n"
     ]
    },
    {
     "output_type": "stream",
     "name": "stderr",
     "text": [
      "100%|██████████| 74/74 [00:00<00:00, 133.59it/s]\n",
      "100%|██████████| 19/19 [00:00<00:00, 254.90it/s]\n",
      "  0%|          | 0/74 [00:00<?, ?it/s]"
     ]
    },
    {
     "output_type": "stream",
     "name": "stdout",
     "text": [
      "\n",
      "Iteration 70/74 of epoch 3 complete. Loss : 0.3285777419805527 \n",
      "\n",
      "Epoch 3 complete! Validation Loss : 0.6472475371862713\n",
      "Epoch 3 complete! Validation Accuracy : 0.7162006578947369\n",
      "Best validation loss improved from 0.6868066379898473 to 0.6472475371862713\n",
      "\n"
     ]
    },
    {
     "output_type": "stream",
     "name": "stderr",
     "text": [
      " 38%|███▊      | 28/74 [00:00<00:00, 137.70it/s]"
     ]
    },
    {
     "output_type": "stream",
     "name": "stdout",
     "text": [
      "\n",
      "Iteration 14/74 of epoch 4 complete. Loss : 0.3231592242206846 \n",
      "\n",
      "Iteration 28/74 of epoch 4 complete. Loss : 0.3178609290293285 \n"
     ]
    },
    {
     "output_type": "stream",
     "name": "stderr",
     "text": [
      " 76%|███████▌  | 56/74 [00:00<00:00, 135.27it/s]"
     ]
    },
    {
     "output_type": "stream",
     "name": "stdout",
     "text": [
      "\n",
      "Iteration 42/74 of epoch 4 complete. Loss : 0.3118701534611838 \n",
      "\n",
      "Iteration 56/74 of epoch 4 complete. Loss : 0.30835144008908955 \n"
     ]
    },
    {
     "output_type": "stream",
     "name": "stderr",
     "text": [
      "100%|██████████| 74/74 [00:00<00:00, 135.15it/s]\n",
      "100%|██████████| 19/19 [00:00<00:00, 243.48it/s]\n",
      "  0%|          | 0/74 [00:00<?, ?it/s]"
     ]
    },
    {
     "output_type": "stream",
     "name": "stdout",
     "text": [
      "\n",
      "Iteration 70/74 of epoch 4 complete. Loss : 0.30325181782245636 \n",
      "\n",
      "Epoch 4 complete! Validation Loss : 0.5977963554231744\n",
      "Epoch 4 complete! Validation Accuracy : 0.8604111842105263\n",
      "Best validation loss improved from 0.6472475371862713 to 0.5977963554231744\n",
      "\n"
     ]
    },
    {
     "output_type": "stream",
     "name": "stderr",
     "text": [
      " 38%|███▊      | 28/74 [00:00<00:00, 138.50it/s]"
     ]
    },
    {
     "output_type": "stream",
     "name": "stdout",
     "text": [
      "\n",
      "Iteration 14/74 of epoch 5 complete. Loss : 0.29769881282533917 \n",
      "\n",
      "Iteration 28/74 of epoch 5 complete. Loss : 0.29052046154226574 \n"
     ]
    },
    {
     "output_type": "stream",
     "name": "stderr",
     "text": [
      " 76%|███████▌  | 56/74 [00:00<00:00, 137.79it/s]"
     ]
    },
    {
     "output_type": "stream",
     "name": "stdout",
     "text": [
      "\n",
      "Iteration 42/74 of epoch 5 complete. Loss : 0.28449798694678713 \n",
      "\n",
      "Iteration 56/74 of epoch 5 complete. Loss : 0.28092060131686075 \n"
     ]
    },
    {
     "output_type": "stream",
     "name": "stderr",
     "text": [
      "100%|██████████| 74/74 [00:00<00:00, 137.42it/s]\n",
      "100%|██████████| 19/19 [00:00<00:00, 241.50it/s]\n",
      "  0%|          | 0/74 [00:00<?, ?it/s]"
     ]
    },
    {
     "output_type": "stream",
     "name": "stdout",
     "text": [
      "\n",
      "Iteration 70/74 of epoch 5 complete. Loss : 0.2746284965957914 \n",
      "\n",
      "Epoch 5 complete! Validation Loss : 0.5422879896665874\n",
      "Epoch 5 complete! Validation Accuracy : 0.8837664473684211\n",
      "Best validation loss improved from 0.5977963554231744 to 0.5422879896665874\n",
      "\n"
     ]
    },
    {
     "output_type": "stream",
     "name": "stderr",
     "text": [
      " 19%|█▉        | 14/74 [00:00<00:00, 139.92it/s]"
     ]
    },
    {
     "output_type": "stream",
     "name": "stdout",
     "text": [
      "\n",
      "Iteration 14/74 of epoch 6 complete. Loss : 0.2696444754089628 \n"
     ]
    },
    {
     "output_type": "stream",
     "name": "stderr",
     "text": [
      " 64%|██████▎   | 47/74 [00:00<00:00, 73.12it/s]"
     ]
    },
    {
     "output_type": "stream",
     "name": "stdout",
     "text": [
      "\n",
      "Iteration 28/74 of epoch 6 complete. Loss : 0.26073095202445984 \n",
      "\n",
      "Iteration 42/74 of epoch 6 complete. Loss : 0.25509651218141827 \n"
     ]
    },
    {
     "output_type": "stream",
     "name": "stderr",
     "text": [
      "100%|██████████| 74/74 [00:00<00:00, 97.53it/s]\n",
      "  0%|          | 0/19 [00:00<?, ?it/s]"
     ]
    },
    {
     "output_type": "stream",
     "name": "stdout",
     "text": [
      "\n",
      "Iteration 56/74 of epoch 6 complete. Loss : 0.25198415773255484 \n",
      "\n",
      "Iteration 70/74 of epoch 6 complete. Loss : 0.24494406368051255 \n"
     ]
    },
    {
     "output_type": "stream",
     "name": "stderr",
     "text": [
      "100%|██████████| 19/19 [00:00<00:00, 239.89it/s]\n",
      " 19%|█▉        | 14/74 [00:00<00:00, 140.00it/s]"
     ]
    },
    {
     "output_type": "stream",
     "name": "stdout",
     "text": [
      "\n",
      "Epoch 6 complete! Validation Loss : 0.4846286444287551\n",
      "Epoch 6 complete! Validation Accuracy : 0.885592105263158\n",
      "Best validation loss improved from 0.5422879896665874 to 0.4846286444287551\n",
      "\n",
      "\n",
      "Iteration 14/74 of epoch 7 complete. Loss : 0.24100565165281296 \n"
     ]
    },
    {
     "output_type": "stream",
     "name": "stderr",
     "text": [
      " 55%|█████▌    | 41/74 [00:00<00:00, 136.06it/s]"
     ]
    },
    {
     "output_type": "stream",
     "name": "stdout",
     "text": [
      "\n",
      "Iteration 28/74 of epoch 7 complete. Loss : 0.23063612622874125 \n",
      "\n",
      "Iteration 42/74 of epoch 7 complete. Loss : 0.2256390122430665 \n"
     ]
    },
    {
     "output_type": "stream",
     "name": "stderr",
     "text": [
      "100%|██████████| 74/74 [00:00<00:00, 133.48it/s]\n",
      "  0%|          | 0/19 [00:00<?, ?it/s]"
     ]
    },
    {
     "output_type": "stream",
     "name": "stdout",
     "text": [
      "\n",
      "Iteration 56/74 of epoch 7 complete. Loss : 0.22379829841000692 \n",
      "\n",
      "Iteration 70/74 of epoch 7 complete. Loss : 0.21594626988683427 \n"
     ]
    },
    {
     "output_type": "stream",
     "name": "stderr",
     "text": [
      "100%|██████████| 19/19 [00:00<00:00, 239.74it/s]\n",
      " 19%|█▉        | 14/74 [00:00<00:00, 136.60it/s]"
     ]
    },
    {
     "output_type": "stream",
     "name": "stdout",
     "text": [
      "\n",
      "Epoch 7 complete! Validation Loss : 0.4288565234134072\n",
      "Epoch 7 complete! Validation Accuracy : 0.8876480263157895\n",
      "Best validation loss improved from 0.4846286444287551 to 0.4288565234134072\n",
      "\n",
      "\n",
      "Iteration 14/74 of epoch 8 complete. Loss : 0.21357847537313188 \n"
     ]
    },
    {
     "output_type": "stream",
     "name": "stderr",
     "text": [
      " 57%|█████▋    | 42/74 [00:00<00:00, 135.91it/s]"
     ]
    },
    {
     "output_type": "stream",
     "name": "stdout",
     "text": [
      "\n",
      "Iteration 28/74 of epoch 8 complete. Loss : 0.20202412882021495 \n",
      "\n",
      "Iteration 42/74 of epoch 8 complete. Loss : 0.19797721718038833 \n"
     ]
    },
    {
     "output_type": "stream",
     "name": "stderr",
     "text": [
      "100%|██████████| 74/74 [00:00<00:00, 135.33it/s]\n",
      "  0%|          | 0/19 [00:00<?, ?it/s]"
     ]
    },
    {
     "output_type": "stream",
     "name": "stdout",
     "text": [
      "\n",
      "Iteration 56/74 of epoch 8 complete. Loss : 0.19786306577069418 \n",
      "\n",
      "Iteration 70/74 of epoch 8 complete. Loss : 0.18955106181757791 \n"
     ]
    },
    {
     "output_type": "stream",
     "name": "stderr",
     "text": [
      "100%|██████████| 19/19 [00:00<00:00, 241.89it/s]\n",
      " 19%|█▉        | 14/74 [00:00<00:00, 139.66it/s]"
     ]
    },
    {
     "output_type": "stream",
     "name": "stdout",
     "text": [
      "\n",
      "Epoch 8 complete! Validation Loss : 0.3783827345622213\n",
      "Epoch 8 complete! Validation Accuracy : 0.8888815789473685\n",
      "Best validation loss improved from 0.4288565234134072 to 0.3783827345622213\n",
      "\n",
      "\n",
      "Iteration 14/74 of epoch 9 complete. Loss : 0.18910385242530278 \n"
     ]
    },
    {
     "output_type": "stream",
     "name": "stderr",
     "text": [
      " 57%|█████▋    | 42/74 [00:00<00:00, 137.06it/s]"
     ]
    },
    {
     "output_type": "stream",
     "name": "stdout",
     "text": [
      "\n",
      "Iteration 28/74 of epoch 9 complete. Loss : 0.17685370572975703 \n",
      "\n",
      "Iteration 42/74 of epoch 9 complete. Loss : 0.17406239892755235 \n"
     ]
    },
    {
     "output_type": "stream",
     "name": "stderr",
     "text": [
      "100%|██████████| 74/74 [00:00<00:00, 133.24it/s]\n",
      "  0%|          | 0/19 [00:00<?, ?it/s]"
     ]
    },
    {
     "output_type": "stream",
     "name": "stdout",
     "text": [
      "\n",
      "Iteration 56/74 of epoch 9 complete. Loss : 0.17580901831388474 \n",
      "\n",
      "Iteration 70/74 of epoch 9 complete. Loss : 0.16780434123107366 \n"
     ]
    },
    {
     "output_type": "stream",
     "name": "stderr",
     "text": [
      "100%|██████████| 19/19 [00:00<00:00, 243.16it/s]\n",
      " 19%|█▉        | 14/74 [00:00<00:00, 136.11it/s]"
     ]
    },
    {
     "output_type": "stream",
     "name": "stdout",
     "text": [
      "\n",
      "Epoch 9 complete! Validation Loss : 0.337847711224305\n",
      "Epoch 9 complete! Validation Accuracy : 0.8888815789473685\n",
      "Best validation loss improved from 0.3783827345622213 to 0.337847711224305\n",
      "\n",
      "\n",
      "Iteration 14/74 of epoch 10 complete. Loss : 0.1696043536067009 \n"
     ]
    },
    {
     "output_type": "stream",
     "name": "stderr",
     "text": [
      " 57%|█████▋    | 42/74 [00:00<00:00, 135.18it/s]"
     ]
    },
    {
     "output_type": "stream",
     "name": "stdout",
     "text": [
      "\n",
      "Iteration 28/74 of epoch 10 complete. Loss : 0.1569935381412506 \n",
      "\n",
      "Iteration 42/74 of epoch 10 complete. Loss : 0.15560625067778996 \n"
     ]
    },
    {
     "output_type": "stream",
     "name": "stderr",
     "text": [
      "100%|██████████| 74/74 [00:00<00:00, 132.84it/s]\n",
      "  0%|          | 0/19 [00:00<?, ?it/s]"
     ]
    },
    {
     "output_type": "stream",
     "name": "stdout",
     "text": [
      "\n",
      "Iteration 56/74 of epoch 10 complete. Loss : 0.15954440512827464 \n",
      "\n",
      "Iteration 70/74 of epoch 10 complete. Loss : 0.1514770516327449 \n"
     ]
    },
    {
     "output_type": "stream",
     "name": "stderr",
     "text": [
      "100%|██████████| 19/19 [00:00<00:00, 244.58it/s]\n",
      " 19%|█▉        | 14/74 [00:00<00:00, 132.18it/s]"
     ]
    },
    {
     "output_type": "stream",
     "name": "stdout",
     "text": [
      "\n",
      "Epoch 10 complete! Validation Loss : 0.30837293831925644\n",
      "Epoch 10 complete! Validation Accuracy : 0.8915789473684211\n",
      "Best validation loss improved from 0.337847711224305 to 0.30837293831925644\n",
      "\n",
      "\n",
      "Iteration 14/74 of epoch 11 complete. Loss : 0.15565013140439987 \n"
     ]
    },
    {
     "output_type": "stream",
     "name": "stderr",
     "text": [
      " 57%|█████▋    | 42/74 [00:00<00:00, 134.09it/s]"
     ]
    },
    {
     "output_type": "stream",
     "name": "stdout",
     "text": [
      "\n",
      "Iteration 28/74 of epoch 11 complete. Loss : 0.1426028705068997 \n",
      "\n",
      "Iteration 42/74 of epoch 11 complete. Loss : 0.1426640355161258 \n"
     ]
    },
    {
     "output_type": "stream",
     "name": "stderr",
     "text": [
      "100%|██████████| 74/74 [00:00<00:00, 134.67it/s]\n",
      "  0%|          | 0/19 [00:00<?, ?it/s]"
     ]
    },
    {
     "output_type": "stream",
     "name": "stdout",
     "text": [
      "\n",
      "Iteration 56/74 of epoch 11 complete. Loss : 0.1488275591816221 \n",
      "\n",
      "Iteration 70/74 of epoch 11 complete. Loss : 0.1405196956225804 \n"
     ]
    },
    {
     "output_type": "stream",
     "name": "stderr",
     "text": [
      "100%|██████████| 19/19 [00:00<00:00, 224.68it/s]\n",
      " 19%|█▉        | 14/74 [00:00<00:00, 136.09it/s]"
     ]
    },
    {
     "output_type": "stream",
     "name": "stdout",
     "text": [
      "\n",
      "Epoch 11 complete! Validation Loss : 0.2894197733778703\n",
      "Epoch 11 complete! Validation Accuracy : 0.8907565789473685\n",
      "Best validation loss improved from 0.30837293831925644 to 0.2894197733778703\n",
      "\n",
      "\n",
      "Iteration 14/74 of epoch 12 complete. Loss : 0.1466436753315585 \n"
     ]
    },
    {
     "output_type": "stream",
     "name": "stderr",
     "text": [
      " 57%|█████▋    | 42/74 [00:00<00:00, 133.86it/s]"
     ]
    },
    {
     "output_type": "stream",
     "name": "stdout",
     "text": [
      "\n",
      "Iteration 28/74 of epoch 12 complete. Loss : 0.13322787252920015 \n",
      "\n",
      "Iteration 42/74 of epoch 12 complete. Loss : 0.13449088484048843 \n"
     ]
    },
    {
     "output_type": "stream",
     "name": "stderr",
     "text": [
      "100%|██████████| 74/74 [00:00<00:00, 132.41it/s]\n",
      "  0%|          | 0/19 [00:00<?, ?it/s]"
     ]
    },
    {
     "output_type": "stream",
     "name": "stdout",
     "text": [
      "\n",
      "Iteration 56/74 of epoch 12 complete. Loss : 0.1421289491866316 \n",
      "\n",
      "Iteration 70/74 of epoch 12 complete. Loss : 0.1329885455114501 \n"
     ]
    },
    {
     "output_type": "stream",
     "name": "stderr",
     "text": [
      "100%|██████████| 19/19 [00:00<00:00, 240.75it/s]\n",
      " 19%|█▉        | 14/74 [00:00<00:00, 135.92it/s]"
     ]
    },
    {
     "output_type": "stream",
     "name": "stdout",
     "text": [
      "\n",
      "Epoch 12 complete! Validation Loss : 0.27691492830452163\n",
      "Epoch 12 complete! Validation Accuracy : 0.8928125000000001\n",
      "Best validation loss improved from 0.2894197733778703 to 0.27691492830452163\n",
      "\n",
      "\n",
      "Iteration 14/74 of epoch 13 complete. Loss : 0.14065338405115263 \n"
     ]
    },
    {
     "output_type": "stream",
     "name": "stderr",
     "text": [
      " 74%|███████▍  | 55/74 [00:00<00:00, 133.43it/s]"
     ]
    },
    {
     "output_type": "stream",
     "name": "stdout",
     "text": [
      "\n",
      "Iteration 28/74 of epoch 13 complete. Loss : 0.12666697267975127 \n",
      "\n",
      "Iteration 42/74 of epoch 13 complete. Loss : 0.12866768134491785 \n"
     ]
    },
    {
     "output_type": "stream",
     "name": "stderr",
     "text": [
      "100%|██████████| 74/74 [00:00<00:00, 132.42it/s]\n",
      "  0%|          | 0/19 [00:00<?, ?it/s]"
     ]
    },
    {
     "output_type": "stream",
     "name": "stdout",
     "text": [
      "\n",
      "Iteration 56/74 of epoch 13 complete. Loss : 0.1373756155371666 \n",
      "\n",
      "Iteration 70/74 of epoch 13 complete. Loss : 0.12751497062189238 \n"
     ]
    },
    {
     "output_type": "stream",
     "name": "stderr",
     "text": [
      "100%|██████████| 19/19 [00:00<00:00, 240.88it/s]\n",
      " 18%|█▊        | 13/74 [00:00<00:00, 126.72it/s]"
     ]
    },
    {
     "output_type": "stream",
     "name": "stdout",
     "text": [
      "\n",
      "Epoch 13 complete! Validation Loss : 0.2675651860864539\n",
      "Epoch 13 complete! Validation Accuracy : 0.8936348684210527\n",
      "Best validation loss improved from 0.27691492830452163 to 0.2675651860864539\n",
      "\n",
      "\n",
      "Iteration 14/74 of epoch 14 complete. Loss : 0.13610767360244477 \n"
     ]
    },
    {
     "output_type": "stream",
     "name": "stderr",
     "text": [
      " 73%|███████▎  | 54/74 [00:00<00:00, 130.20it/s]"
     ]
    },
    {
     "output_type": "stream",
     "name": "stdout",
     "text": [
      "\n",
      "Iteration 28/74 of epoch 14 complete. Loss : 0.12155082928282875 \n",
      "\n",
      "Iteration 42/74 of epoch 14 complete. Loss : 0.12428280604737145 \n"
     ]
    },
    {
     "output_type": "stream",
     "name": "stderr",
     "text": [
      "100%|██████████| 74/74 [00:00<00:00, 129.78it/s]\n",
      "  0%|          | 0/19 [00:00<?, ?it/s]"
     ]
    },
    {
     "output_type": "stream",
     "name": "stdout",
     "text": [
      "\n",
      "Iteration 56/74 of epoch 14 complete. Loss : 0.13365678329552924 \n",
      "\n",
      "Iteration 70/74 of epoch 14 complete. Loss : 0.12345123078141894 \n"
     ]
    },
    {
     "output_type": "stream",
     "name": "stderr",
     "text": [
      "100%|██████████| 19/19 [00:00<00:00, 241.65it/s]\n",
      " 19%|█▉        | 14/74 [00:00<00:00, 135.49it/s]"
     ]
    },
    {
     "output_type": "stream",
     "name": "stdout",
     "text": [
      "\n",
      "Epoch 14 complete! Validation Loss : 0.26088318150294454\n",
      "Epoch 14 complete! Validation Accuracy : 0.8961019736842106\n",
      "Best validation loss improved from 0.2675651860864539 to 0.26088318150294454\n",
      "\n",
      "\n",
      "Iteration 14/74 of epoch 15 complete. Loss : 0.13288809252636774 \n"
     ]
    },
    {
     "output_type": "stream",
     "name": "stderr",
     "text": [
      " 57%|█████▋    | 42/74 [00:00<00:00, 133.32it/s]"
     ]
    },
    {
     "output_type": "stream",
     "name": "stdout",
     "text": [
      "\n",
      "Iteration 28/74 of epoch 15 complete. Loss : 0.11789052135178021 \n",
      "\n",
      "Iteration 42/74 of epoch 15 complete. Loss : 0.12114442139863968 \n"
     ]
    },
    {
     "output_type": "stream",
     "name": "stderr",
     "text": [
      "100%|██████████| 74/74 [00:00<00:00, 132.44it/s]\n",
      "  0%|          | 0/19 [00:00<?, ?it/s]"
     ]
    },
    {
     "output_type": "stream",
     "name": "stdout",
     "text": [
      "\n",
      "Iteration 56/74 of epoch 15 complete. Loss : 0.13098665113959992 \n",
      "\n",
      "Iteration 70/74 of epoch 15 complete. Loss : 0.12040928804448672 \n"
     ]
    },
    {
     "output_type": "stream",
     "name": "stderr",
     "text": [
      "100%|██████████| 19/19 [00:00<00:00, 239.30it/s]\n",
      " 19%|█▉        | 14/74 [00:00<00:00, 135.15it/s]"
     ]
    },
    {
     "output_type": "stream",
     "name": "stdout",
     "text": [
      "\n",
      "Epoch 15 complete! Validation Loss : 0.25588982748357875\n",
      "Epoch 15 complete! Validation Accuracy : 0.8981578947368422\n",
      "Best validation loss improved from 0.26088318150294454 to 0.25588982748357875\n",
      "\n",
      "\n",
      "Iteration 14/74 of epoch 16 complete. Loss : 0.13032289328319685 \n"
     ]
    },
    {
     "output_type": "stream",
     "name": "stderr",
     "text": [
      " 57%|█████▋    | 42/74 [00:00<00:00, 134.26it/s]"
     ]
    },
    {
     "output_type": "stream",
     "name": "stdout",
     "text": [
      "\n",
      "Iteration 28/74 of epoch 16 complete. Loss : 0.11500278753893715 \n",
      "\n",
      "Iteration 42/74 of epoch 16 complete. Loss : 0.11871708929538727 \n"
     ]
    },
    {
     "output_type": "stream",
     "name": "stderr",
     "text": [
      "100%|██████████| 74/74 [00:00<00:00, 133.68it/s]\n",
      "  0%|          | 0/19 [00:00<?, ?it/s]"
     ]
    },
    {
     "output_type": "stream",
     "name": "stdout",
     "text": [
      "\n",
      "Iteration 56/74 of epoch 16 complete. Loss : 0.12862673348614148 \n",
      "\n",
      "Iteration 70/74 of epoch 16 complete. Loss : 0.11790957621165685 \n"
     ]
    },
    {
     "output_type": "stream",
     "name": "stderr",
     "text": [
      "100%|██████████| 19/19 [00:00<00:00, 238.76it/s]\n",
      "  0%|          | 0/74 [00:00<?, ?it/s]"
     ]
    },
    {
     "output_type": "stream",
     "name": "stdout",
     "text": [
      "\n",
      "Epoch 16 complete! Validation Loss : 0.25168225012327494\n",
      "Epoch 16 complete! Validation Accuracy : 0.9006250000000001\n",
      "Best validation loss improved from 0.25588982748357875 to 0.25168225012327494\n",
      "\n"
     ]
    },
    {
     "output_type": "stream",
     "name": "stderr",
     "text": [
      " 42%|████▏     | 31/74 [00:00<00:01, 40.85it/s]"
     ]
    },
    {
     "output_type": "stream",
     "name": "stdout",
     "text": [
      "\n",
      "Iteration 14/74 of epoch 17 complete. Loss : 0.12813684610383852 \n",
      "\n",
      "Iteration 28/74 of epoch 17 complete. Loss : 0.11251617968082428 \n"
     ]
    },
    {
     "output_type": "stream",
     "name": "stderr",
     "text": [
      " 74%|███████▍  | 55/74 [00:00<00:00, 60.44it/s]"
     ]
    },
    {
     "output_type": "stream",
     "name": "stdout",
     "text": [
      "\n",
      "Iteration 42/74 of epoch 17 complete. Loss : 0.1166279065821852 \n",
      "\n",
      "Iteration 56/74 of epoch 17 complete. Loss : 0.12655270578605787 \n"
     ]
    },
    {
     "output_type": "stream",
     "name": "stderr",
     "text": [
      "100%|██████████| 74/74 [00:00<00:00, 93.16it/s]\n",
      "100%|██████████| 19/19 [00:00<00:00, 190.02it/s]\n"
     ]
    },
    {
     "output_type": "stream",
     "name": "stdout",
     "text": [
      "\n",
      "Iteration 70/74 of epoch 17 complete. Loss : 0.11580059145178113 \n"
     ]
    },
    {
     "output_type": "stream",
     "name": "stderr",
     "text": [
      " 16%|█▌        | 12/74 [00:00<00:00, 118.56it/s]"
     ]
    },
    {
     "output_type": "stream",
     "name": "stdout",
     "text": [
      "\n",
      "Epoch 17 complete! Validation Loss : 0.24818849171462812\n",
      "Epoch 17 complete! Validation Accuracy : 0.8998026315789475\n",
      "Best validation loss improved from 0.25168225012327494 to 0.24818849171462812\n",
      "\n",
      "\n",
      "Iteration 14/74 of epoch 18 complete. Loss : 0.12623722957713263 \n"
     ]
    },
    {
     "output_type": "stream",
     "name": "stderr",
     "text": [
      " 70%|███████   | 52/74 [00:00<00:00, 125.15it/s]"
     ]
    },
    {
     "output_type": "stream",
     "name": "stdout",
     "text": [
      "\n",
      "Iteration 28/74 of epoch 18 complete. Loss : 0.11042031007153648 \n",
      "\n",
      "Iteration 42/74 of epoch 18 complete. Loss : 0.11488751215594155 \n"
     ]
    },
    {
     "output_type": "stream",
     "name": "stderr",
     "text": [
      "100%|██████████| 74/74 [00:00<00:00, 126.77it/s]\n",
      "  0%|          | 0/19 [00:00<?, ?it/s]"
     ]
    },
    {
     "output_type": "stream",
     "name": "stdout",
     "text": [
      "\n",
      "Iteration 56/74 of epoch 18 complete. Loss : 0.1247633658349514 \n",
      "\n",
      "Iteration 70/74 of epoch 18 complete. Loss : 0.1140496049608503 \n"
     ]
    },
    {
     "output_type": "stream",
     "name": "stderr",
     "text": [
      "100%|██████████| 19/19 [00:00<00:00, 245.85it/s]\n",
      " 19%|█▉        | 14/74 [00:00<00:00, 137.17it/s]"
     ]
    },
    {
     "output_type": "stream",
     "name": "stdout",
     "text": [
      "\n",
      "Epoch 18 complete! Validation Loss : 0.2452865603723024\n",
      "Epoch 18 complete! Validation Accuracy : 0.9006250000000001\n",
      "Best validation loss improved from 0.24818849171462812 to 0.2452865603723024\n",
      "\n",
      "\n",
      "Iteration 14/74 of epoch 19 complete. Loss : 0.12452286960823196 \n"
     ]
    },
    {
     "output_type": "stream",
     "name": "stderr",
     "text": [
      " 57%|█████▋    | 42/74 [00:00<00:00, 135.58it/s]"
     ]
    },
    {
     "output_type": "stream",
     "name": "stdout",
     "text": [
      "\n",
      "Iteration 28/74 of epoch 19 complete. Loss : 0.10866328009537288 \n",
      "\n",
      "Iteration 42/74 of epoch 19 complete. Loss : 0.1133410350552627 \n"
     ]
    },
    {
     "output_type": "stream",
     "name": "stderr",
     "text": [
      "100%|██████████| 74/74 [00:00<00:00, 134.67it/s]\n",
      "  0%|          | 0/19 [00:00<?, ?it/s]"
     ]
    },
    {
     "output_type": "stream",
     "name": "stdout",
     "text": [
      "\n",
      "Iteration 56/74 of epoch 19 complete. Loss : 0.1231786949293954 \n",
      "\n",
      "Iteration 70/74 of epoch 19 complete. Loss : 0.11253190519554275 \n"
     ]
    },
    {
     "output_type": "stream",
     "name": "stderr",
     "text": [
      "100%|██████████| 19/19 [00:00<00:00, 246.55it/s]\n",
      " 19%|█▉        | 14/74 [00:00<00:00, 139.65it/s]"
     ]
    },
    {
     "output_type": "stream",
     "name": "stdout",
     "text": [
      "\n",
      "Epoch 19 complete! Validation Loss : 0.2428103473625685\n",
      "Epoch 19 complete! Validation Accuracy : 0.901858552631579\n",
      "Best validation loss improved from 0.2452865603723024 to 0.2428103473625685\n",
      "\n",
      "\n",
      "Iteration 14/74 of epoch 20 complete. Loss : 0.12300367440496172 \n"
     ]
    },
    {
     "output_type": "stream",
     "name": "stderr",
     "text": [
      " 57%|█████▋    | 42/74 [00:00<00:00, 136.78it/s]"
     ]
    },
    {
     "output_type": "stream",
     "name": "stdout",
     "text": [
      "\n",
      "Iteration 28/74 of epoch 20 complete. Loss : 0.10704920919878143 \n",
      "\n",
      "Iteration 42/74 of epoch 20 complete. Loss : 0.11196956038475037 \n"
     ]
    },
    {
     "output_type": "stream",
     "name": "stderr",
     "text": [
      "100%|██████████| 74/74 [00:00<00:00, 135.68it/s]\n",
      "  0%|          | 0/19 [00:00<?, ?it/s]"
     ]
    },
    {
     "output_type": "stream",
     "name": "stdout",
     "text": [
      "\n",
      "Iteration 56/74 of epoch 20 complete. Loss : 0.12171473354101181 \n",
      "\n",
      "Iteration 70/74 of epoch 20 complete. Loss : 0.11121945668544088 \n"
     ]
    },
    {
     "output_type": "stream",
     "name": "stderr",
     "text": [
      "100%|██████████| 19/19 [00:00<00:00, 245.74it/s]\n",
      " 19%|█▉        | 14/74 [00:00<00:00, 136.04it/s]"
     ]
    },
    {
     "output_type": "stream",
     "name": "stdout",
     "text": [
      "\n",
      "Epoch 20 complete! Validation Loss : 0.24073604062983864\n",
      "Epoch 20 complete! Validation Accuracy : 0.9039144736842106\n",
      "Best validation loss improved from 0.2428103473625685 to 0.24073604062983864\n",
      "\n",
      "\n",
      "Iteration 14/74 of epoch 21 complete. Loss : 0.12162954413465091 \n"
     ]
    },
    {
     "output_type": "stream",
     "name": "stderr",
     "text": [
      " 55%|█████▌    | 41/74 [00:00<00:00, 133.58it/s]"
     ]
    },
    {
     "output_type": "stream",
     "name": "stdout",
     "text": [
      "\n",
      "Iteration 28/74 of epoch 21 complete. Loss : 0.10554279014468193 \n",
      "\n",
      "Iteration 42/74 of epoch 21 complete. Loss : 0.11076745710202626 \n"
     ]
    },
    {
     "output_type": "stream",
     "name": "stderr",
     "text": [
      "100%|██████████| 74/74 [00:00<00:00, 133.72it/s]\n",
      "  0%|          | 0/19 [00:00<?, ?it/s]"
     ]
    },
    {
     "output_type": "stream",
     "name": "stdout",
     "text": [
      "\n",
      "Iteration 56/74 of epoch 21 complete. Loss : 0.12035048965896879 \n",
      "\n",
      "Iteration 70/74 of epoch 21 complete. Loss : 0.1100477943462985 \n"
     ]
    },
    {
     "output_type": "stream",
     "name": "stderr",
     "text": [
      "100%|██████████| 19/19 [00:00<00:00, 244.51it/s]\n",
      " 19%|█▉        | 14/74 [00:00<00:00, 137.50it/s]"
     ]
    },
    {
     "output_type": "stream",
     "name": "stdout",
     "text": [
      "\n",
      "Epoch 21 complete! Validation Loss : 0.2390035296741285\n",
      "Epoch 21 complete! Validation Accuracy : 0.9035032894736843\n",
      "Best validation loss improved from 0.24073604062983864 to 0.2390035296741285\n",
      "\n",
      "\n",
      "Iteration 14/74 of epoch 22 complete. Loss : 0.12031758736286845 \n"
     ]
    },
    {
     "output_type": "stream",
     "name": "stderr",
     "text": [
      " 57%|█████▋    | 42/74 [00:00<00:00, 136.24it/s]"
     ]
    },
    {
     "output_type": "stream",
     "name": "stdout",
     "text": [
      "\n",
      "Iteration 28/74 of epoch 22 complete. Loss : 0.10417865642479487 \n",
      "\n",
      "Iteration 42/74 of epoch 22 complete. Loss : 0.10970526614359447 \n"
     ]
    },
    {
     "output_type": "stream",
     "name": "stderr",
     "text": [
      "100%|██████████| 74/74 [00:00<00:00, 135.65it/s]\n",
      "  0%|          | 0/19 [00:00<?, ?it/s]"
     ]
    },
    {
     "output_type": "stream",
     "name": "stdout",
     "text": [
      "\n",
      "Iteration 56/74 of epoch 22 complete. Loss : 0.1190745255776814 \n",
      "\n",
      "Iteration 70/74 of epoch 22 complete. Loss : 0.10900368488260678 \n"
     ]
    },
    {
     "output_type": "stream",
     "name": "stderr",
     "text": [
      "100%|██████████| 19/19 [00:00<00:00, 245.40it/s]\n",
      " 19%|█▉        | 14/74 [00:00<00:00, 137.54it/s]"
     ]
    },
    {
     "output_type": "stream",
     "name": "stdout",
     "text": [
      "\n",
      "Epoch 22 complete! Validation Loss : 0.23740414333970924\n",
      "Epoch 22 complete! Validation Accuracy : 0.903092105263158\n",
      "Best validation loss improved from 0.2390035296741285 to 0.23740414333970924\n",
      "\n",
      "\n",
      "Iteration 14/74 of epoch 23 complete. Loss : 0.11910745341862951 \n"
     ]
    },
    {
     "output_type": "stream",
     "name": "stderr",
     "text": [
      " 57%|█████▋    | 42/74 [00:00<00:00, 136.10it/s]"
     ]
    },
    {
     "output_type": "stream",
     "name": "stdout",
     "text": [
      "\n",
      "Iteration 28/74 of epoch 23 complete. Loss : 0.10293309018015862 \n",
      "\n",
      "Iteration 42/74 of epoch 23 complete. Loss : 0.10864759396229472 \n"
     ]
    },
    {
     "output_type": "stream",
     "name": "stderr",
     "text": [
      "100%|██████████| 74/74 [00:00<00:00, 134.95it/s]\n",
      "  0%|          | 0/19 [00:00<?, ?it/s]"
     ]
    },
    {
     "output_type": "stream",
     "name": "stdout",
     "text": [
      "\n",
      "Iteration 56/74 of epoch 23 complete. Loss : 0.11785347919378962 \n",
      "\n",
      "Iteration 70/74 of epoch 23 complete. Loss : 0.10796514845320157 \n"
     ]
    },
    {
     "output_type": "stream",
     "name": "stderr",
     "text": [
      "100%|██████████| 19/19 [00:00<00:00, 242.74it/s]\n",
      " 19%|█▉        | 14/74 [00:00<00:00, 136.60it/s]"
     ]
    },
    {
     "output_type": "stream",
     "name": "stdout",
     "text": [
      "\n",
      "Epoch 23 complete! Validation Loss : 0.236043003828902\n",
      "Epoch 23 complete! Validation Accuracy : 0.903092105263158\n",
      "Best validation loss improved from 0.23740414333970924 to 0.236043003828902\n",
      "\n",
      "\n",
      "Iteration 14/74 of epoch 24 complete. Loss : 0.11799391731619835 \n"
     ]
    },
    {
     "output_type": "stream",
     "name": "stderr",
     "text": [
      " 55%|█████▌    | 41/74 [00:00<00:00, 132.07it/s]"
     ]
    },
    {
     "output_type": "stream",
     "name": "stdout",
     "text": [
      "\n",
      "Iteration 28/74 of epoch 24 complete. Loss : 0.10178029377545629 \n",
      "\n",
      "Iteration 42/74 of epoch 24 complete. Loss : 0.10768946313432284 \n"
     ]
    },
    {
     "output_type": "stream",
     "name": "stderr",
     "text": [
      "100%|██████████| 74/74 [00:00<00:00, 132.01it/s]\n",
      "  0%|          | 0/19 [00:00<?, ?it/s]"
     ]
    },
    {
     "output_type": "stream",
     "name": "stdout",
     "text": [
      "\n",
      "Iteration 56/74 of epoch 24 complete. Loss : 0.11672275832721166 \n",
      "\n",
      "Iteration 70/74 of epoch 24 complete. Loss : 0.10705667095524925 \n"
     ]
    },
    {
     "output_type": "stream",
     "name": "stderr",
     "text": [
      "100%|██████████| 19/19 [00:00<00:00, 241.20it/s]\n",
      " 19%|█▉        | 14/74 [00:00<00:00, 137.69it/s]"
     ]
    },
    {
     "output_type": "stream",
     "name": "stdout",
     "text": [
      "\n",
      "Epoch 24 complete! Validation Loss : 0.23487949763473712\n",
      "Epoch 24 complete! Validation Accuracy : 0.904325657894737\n",
      "Best validation loss improved from 0.236043003828902 to 0.23487949763473712\n",
      "\n",
      "\n",
      "Iteration 14/74 of epoch 25 complete. Loss : 0.1169601593698774 \n"
     ]
    },
    {
     "output_type": "stream",
     "name": "stderr",
     "text": [
      " 57%|█████▋    | 42/74 [00:00<00:00, 136.53it/s]"
     ]
    },
    {
     "output_type": "stream",
     "name": "stdout",
     "text": [
      "\n",
      "Iteration 28/74 of epoch 25 complete. Loss : 0.10065914051873344 \n",
      "\n",
      "Iteration 42/74 of epoch 25 complete. Loss : 0.10674188977905683 \n"
     ]
    },
    {
     "output_type": "stream",
     "name": "stderr",
     "text": [
      "100%|██████████| 74/74 [00:00<00:00, 135.45it/s]\n",
      "  0%|          | 0/19 [00:00<?, ?it/s]"
     ]
    },
    {
     "output_type": "stream",
     "name": "stdout",
     "text": [
      "\n",
      "Iteration 56/74 of epoch 25 complete. Loss : 0.11565675426806722 \n",
      "\n",
      "Iteration 70/74 of epoch 25 complete. Loss : 0.10623548978141376 \n"
     ]
    },
    {
     "output_type": "stream",
     "name": "stderr",
     "text": [
      "100%|██████████| 19/19 [00:00<00:00, 244.32it/s]\n",
      " 18%|█▊        | 13/74 [00:00<00:00, 127.28it/s]"
     ]
    },
    {
     "output_type": "stream",
     "name": "stdout",
     "text": [
      "\n",
      "Epoch 25 complete! Validation Loss : 0.2338561015693765\n",
      "Epoch 25 complete! Validation Accuracy : 0.9026809210526316\n",
      "Best validation loss improved from 0.23487949763473712 to 0.2338561015693765\n",
      "\n",
      "\n",
      "Iteration 14/74 of epoch 26 complete. Loss : 0.11597381691847529 \n"
     ]
    },
    {
     "output_type": "stream",
     "name": "stderr",
     "text": [
      " 74%|███████▍  | 55/74 [00:00<00:00, 131.66it/s]"
     ]
    },
    {
     "output_type": "stream",
     "name": "stdout",
     "text": [
      "\n",
      "Iteration 28/74 of epoch 26 complete. Loss : 0.09958532825112343 \n",
      "\n",
      "Iteration 42/74 of epoch 26 complete. Loss : 0.10585591250232287 \n"
     ]
    },
    {
     "output_type": "stream",
     "name": "stderr",
     "text": [
      "100%|██████████| 74/74 [00:00<00:00, 132.45it/s]\n",
      "  0%|          | 0/19 [00:00<?, ?it/s]"
     ]
    },
    {
     "output_type": "stream",
     "name": "stdout",
     "text": [
      "\n",
      "Iteration 56/74 of epoch 26 complete. Loss : 0.11460141039320401 \n",
      "\n",
      "Iteration 70/74 of epoch 26 complete. Loss : 0.10537551449877876 \n"
     ]
    },
    {
     "output_type": "stream",
     "name": "stderr",
     "text": [
      "100%|██████████| 19/19 [00:00<00:00, 246.28it/s]\n",
      " 19%|█▉        | 14/74 [00:00<00:00, 137.02it/s]"
     ]
    },
    {
     "output_type": "stream",
     "name": "stdout",
     "text": [
      "\n",
      "Epoch 26 complete! Validation Loss : 0.23278998152205818\n",
      "Epoch 26 complete! Validation Accuracy : 0.903092105263158\n",
      "Best validation loss improved from 0.2338561015693765 to 0.23278998152205818\n",
      "\n",
      "\n",
      "Iteration 14/74 of epoch 27 complete. Loss : 0.11504491312163216 \n"
     ]
    },
    {
     "output_type": "stream",
     "name": "stderr",
     "text": [
      " 57%|█████▋    | 42/74 [00:00<00:00, 135.41it/s]"
     ]
    },
    {
     "output_type": "stream",
     "name": "stdout",
     "text": [
      "\n",
      "Iteration 28/74 of epoch 27 complete. Loss : 0.09855464792677335 \n",
      "\n",
      "Iteration 42/74 of epoch 27 complete. Loss : 0.10499307034271103 \n"
     ]
    },
    {
     "output_type": "stream",
     "name": "stderr",
     "text": [
      "100%|██████████| 74/74 [00:00<00:00, 134.96it/s]\n",
      "  0%|          | 0/19 [00:00<?, ?it/s]"
     ]
    },
    {
     "output_type": "stream",
     "name": "stdout",
     "text": [
      "\n",
      "Iteration 56/74 of epoch 27 complete. Loss : 0.11354635443006243 \n",
      "\n",
      "Iteration 70/74 of epoch 27 complete. Loss : 0.10453784465789795 \n"
     ]
    },
    {
     "output_type": "stream",
     "name": "stderr",
     "text": [
      "100%|██████████| 19/19 [00:00<00:00, 246.14it/s]\n",
      " 19%|█▉        | 14/74 [00:00<00:00, 137.91it/s]"
     ]
    },
    {
     "output_type": "stream",
     "name": "stdout",
     "text": [
      "\n",
      "Epoch 27 complete! Validation Loss : 0.2318136652833537\n",
      "Epoch 27 complete! Validation Accuracy : 0.903092105263158\n",
      "Best validation loss improved from 0.23278998152205818 to 0.2318136652833537\n",
      "\n",
      "\n",
      "Iteration 14/74 of epoch 28 complete. Loss : 0.1141314267047814 \n"
     ]
    },
    {
     "output_type": "stream",
     "name": "stderr",
     "text": [
      " 57%|█████▋    | 42/74 [00:00<00:00, 136.43it/s]"
     ]
    },
    {
     "output_type": "stream",
     "name": "stdout",
     "text": [
      "\n",
      "Iteration 28/74 of epoch 28 complete. Loss : 0.09752285214407104 \n",
      "\n",
      "Iteration 42/74 of epoch 28 complete. Loss : 0.10409817684973989 \n"
     ]
    },
    {
     "output_type": "stream",
     "name": "stderr",
     "text": [
      "100%|██████████| 74/74 [00:00<00:00, 135.39it/s]\n",
      "  0%|          | 0/19 [00:00<?, ?it/s]"
     ]
    },
    {
     "output_type": "stream",
     "name": "stdout",
     "text": [
      "\n",
      "Iteration 56/74 of epoch 28 complete. Loss : 0.11245665326714516 \n",
      "\n",
      "Iteration 70/74 of epoch 28 complete. Loss : 0.10370036108153206 \n"
     ]
    },
    {
     "output_type": "stream",
     "name": "stderr",
     "text": [
      "100%|██████████| 19/19 [00:00<00:00, 244.12it/s]\n",
      " 19%|█▉        | 14/74 [00:00<00:00, 137.68it/s]"
     ]
    },
    {
     "output_type": "stream",
     "name": "stdout",
     "text": [
      "\n",
      "Epoch 28 complete! Validation Loss : 0.23087463174995623\n",
      "Epoch 28 complete! Validation Accuracy : 0.9039144736842106\n",
      "Best validation loss improved from 0.2318136652833537 to 0.23087463174995623\n",
      "\n",
      "\n",
      "Iteration 14/74 of epoch 29 complete. Loss : 0.1131952665746212 \n"
     ]
    },
    {
     "output_type": "stream",
     "name": "stderr",
     "text": [
      " 57%|█████▋    | 42/74 [00:00<00:00, 136.38it/s]"
     ]
    },
    {
     "output_type": "stream",
     "name": "stdout",
     "text": [
      "\n",
      "Iteration 28/74 of epoch 29 complete. Loss : 0.0964927433856896 \n",
      "\n",
      "Iteration 42/74 of epoch 29 complete. Loss : 0.10317623402391161 \n"
     ]
    },
    {
     "output_type": "stream",
     "name": "stderr",
     "text": [
      "100%|██████████| 74/74 [00:00<00:00, 135.42it/s]\n",
      "  0%|          | 0/19 [00:00<?, ?it/s]"
     ]
    },
    {
     "output_type": "stream",
     "name": "stdout",
     "text": [
      "\n",
      "Iteration 56/74 of epoch 29 complete. Loss : 0.11138467623719148 \n",
      "\n",
      "Iteration 70/74 of epoch 29 complete. Loss : 0.10285689575331551 \n"
     ]
    },
    {
     "output_type": "stream",
     "name": "stderr",
     "text": [
      "100%|██████████| 19/19 [00:00<00:00, 243.47it/s]\n",
      " 19%|█▉        | 14/74 [00:00<00:00, 137.26it/s]"
     ]
    },
    {
     "output_type": "stream",
     "name": "stdout",
     "text": [
      "\n",
      "Epoch 29 complete! Validation Loss : 0.22997748145931646\n",
      "Epoch 29 complete! Validation Accuracy : 0.9047368421052632\n",
      "Best validation loss improved from 0.23087463174995623 to 0.22997748145931646\n",
      "\n",
      "\n",
      "Iteration 14/74 of epoch 30 complete. Loss : 0.11227355471679143 \n"
     ]
    },
    {
     "output_type": "stream",
     "name": "stderr",
     "text": [
      " 57%|█████▋    | 42/74 [00:00<00:00, 136.27it/s]"
     ]
    },
    {
     "output_type": "stream",
     "name": "stdout",
     "text": [
      "\n",
      "Iteration 28/74 of epoch 30 complete. Loss : 0.09544530936649867 \n",
      "\n",
      "Iteration 42/74 of epoch 30 complete. Loss : 0.10222956697855677 \n"
     ]
    },
    {
     "output_type": "stream",
     "name": "stderr",
     "text": [
      "100%|██████████| 74/74 [00:00<00:00, 135.06it/s]\n",
      "  0%|          | 0/19 [00:00<?, ?it/s]"
     ]
    },
    {
     "output_type": "stream",
     "name": "stdout",
     "text": [
      "\n",
      "Iteration 56/74 of epoch 30 complete. Loss : 0.11030324947621141 \n",
      "\n",
      "Iteration 70/74 of epoch 30 complete. Loss : 0.10199937011514391 \n"
     ]
    },
    {
     "output_type": "stream",
     "name": "stderr",
     "text": [
      "100%|██████████| 19/19 [00:00<00:00, 245.38it/s]\n",
      " 19%|█▉        | 14/74 [00:00<00:00, 137.01it/s]"
     ]
    },
    {
     "output_type": "stream",
     "name": "stdout",
     "text": [
      "\n",
      "Epoch 30 complete! Validation Loss : 0.22918081518850827\n",
      "Epoch 30 complete! Validation Accuracy : 0.904325657894737\n",
      "Best validation loss improved from 0.22997748145931646 to 0.22918081518850827\n",
      "\n",
      "\n",
      "Iteration 14/74 of epoch 31 complete. Loss : 0.1113178777907576 \n"
     ]
    },
    {
     "output_type": "stream",
     "name": "stderr",
     "text": [
      " 74%|███████▍  | 55/74 [00:00<00:00, 133.40it/s]"
     ]
    },
    {
     "output_type": "stream",
     "name": "stdout",
     "text": [
      "\n",
      "Iteration 28/74 of epoch 31 complete. Loss : 0.09440999052354268 \n",
      "\n",
      "Iteration 42/74 of epoch 31 complete. Loss : 0.10124938456075532 \n"
     ]
    },
    {
     "output_type": "stream",
     "name": "stderr",
     "text": [
      "100%|██████████| 74/74 [00:00<00:00, 132.24it/s]\n",
      "  0%|          | 0/19 [00:00<?, ?it/s]"
     ]
    },
    {
     "output_type": "stream",
     "name": "stdout",
     "text": [
      "\n",
      "Iteration 56/74 of epoch 31 complete. Loss : 0.10918792230742318 \n",
      "\n",
      "Iteration 70/74 of epoch 31 complete. Loss : 0.10111266587461744 \n"
     ]
    },
    {
     "output_type": "stream",
     "name": "stderr",
     "text": [
      "100%|██████████| 19/19 [00:00<00:00, 241.47it/s]\n",
      " 19%|█▉        | 14/74 [00:00<00:00, 137.37it/s]"
     ]
    },
    {
     "output_type": "stream",
     "name": "stdout",
     "text": [
      "\n",
      "Epoch 31 complete! Validation Loss : 0.22828843562226547\n",
      "Epoch 31 complete! Validation Accuracy : 0.904325657894737\n",
      "Best validation loss improved from 0.22918081518850827 to 0.22828843562226547\n",
      "\n",
      "\n",
      "Iteration 14/74 of epoch 32 complete. Loss : 0.11033318457858902 \n"
     ]
    },
    {
     "output_type": "stream",
     "name": "stderr",
     "text": [
      " 57%|█████▋    | 42/74 [00:00<00:00, 135.68it/s]"
     ]
    },
    {
     "output_type": "stream",
     "name": "stdout",
     "text": [
      "\n",
      "Iteration 28/74 of epoch 32 complete. Loss : 0.09334260331732887 \n",
      "\n",
      "Iteration 42/74 of epoch 32 complete. Loss : 0.10026361952934947 \n"
     ]
    },
    {
     "output_type": "stream",
     "name": "stderr",
     "text": [
      "100%|██████████| 74/74 [00:00<00:00, 134.73it/s]\n",
      "  0%|          | 0/19 [00:00<?, ?it/s]"
     ]
    },
    {
     "output_type": "stream",
     "name": "stdout",
     "text": [
      "\n",
      "Iteration 56/74 of epoch 32 complete. Loss : 0.10801601489739758 \n",
      "\n",
      "Iteration 70/74 of epoch 32 complete. Loss : 0.10021613218954631 \n"
     ]
    },
    {
     "output_type": "stream",
     "name": "stderr",
     "text": [
      "100%|██████████| 19/19 [00:00<00:00, 241.66it/s]\n",
      " 19%|█▉        | 14/74 [00:00<00:00, 135.17it/s]"
     ]
    },
    {
     "output_type": "stream",
     "name": "stdout",
     "text": [
      "\n",
      "Epoch 32 complete! Validation Loss : 0.22745950520038605\n",
      "Epoch 32 complete! Validation Accuracy : 0.9051480263157895\n",
      "Best validation loss improved from 0.22828843562226547 to 0.22745950520038605\n",
      "\n",
      "\n",
      "Iteration 14/74 of epoch 33 complete. Loss : 0.10935162965740476 \n"
     ]
    },
    {
     "output_type": "stream",
     "name": "stderr",
     "text": [
      " 57%|█████▋    | 42/74 [00:00<00:00, 134.87it/s]"
     ]
    },
    {
     "output_type": "stream",
     "name": "stdout",
     "text": [
      "\n",
      "Iteration 28/74 of epoch 33 complete. Loss : 0.09224181409393038 \n",
      "\n",
      "Iteration 42/74 of epoch 33 complete. Loss : 0.09929996569241796 \n"
     ]
    },
    {
     "output_type": "stream",
     "name": "stderr",
     "text": [
      "100%|██████████| 74/74 [00:00<00:00, 134.36it/s]\n",
      "  0%|          | 0/19 [00:00<?, ?it/s]"
     ]
    },
    {
     "output_type": "stream",
     "name": "stdout",
     "text": [
      "\n",
      "Iteration 56/74 of epoch 33 complete. Loss : 0.10686241968401841 \n",
      "\n",
      "Iteration 70/74 of epoch 33 complete. Loss : 0.09929428329425198 \n"
     ]
    },
    {
     "output_type": "stream",
     "name": "stderr",
     "text": [
      "100%|██████████| 19/19 [00:00<00:00, 241.81it/s]\n",
      " 19%|█▉        | 14/74 [00:00<00:00, 139.26it/s]"
     ]
    },
    {
     "output_type": "stream",
     "name": "stdout",
     "text": [
      "\n",
      "Epoch 33 complete! Validation Loss : 0.2264959592568247\n",
      "Epoch 33 complete! Validation Accuracy : 0.9063815789473685\n",
      "Best validation loss improved from 0.22745950520038605 to 0.2264959592568247\n",
      "\n",
      "\n",
      "Iteration 14/74 of epoch 34 complete. Loss : 0.10836015482034002 \n"
     ]
    },
    {
     "output_type": "stream",
     "name": "stderr",
     "text": [
      " 58%|█████▊    | 43/74 [00:00<00:00, 138.33it/s]"
     ]
    },
    {
     "output_type": "stream",
     "name": "stdout",
     "text": [
      "\n",
      "Iteration 28/74 of epoch 34 complete. Loss : 0.09114222122090203 \n",
      "\n",
      "Iteration 42/74 of epoch 34 complete. Loss : 0.09827205698404994 \n"
     ]
    },
    {
     "output_type": "stream",
     "name": "stderr",
     "text": [
      "100%|██████████| 74/74 [00:00<00:00, 138.72it/s]\n",
      "  0%|          | 0/19 [00:00<?, ?it/s]"
     ]
    },
    {
     "output_type": "stream",
     "name": "stdout",
     "text": [
      "\n",
      "Iteration 56/74 of epoch 34 complete. Loss : 0.1056680650051151 \n",
      "\n",
      "Iteration 70/74 of epoch 34 complete. Loss : 0.09832985779004437 \n"
     ]
    },
    {
     "output_type": "stream",
     "name": "stderr",
     "text": [
      "100%|██████████| 19/19 [00:00<00:00, 259.94it/s]\n",
      " 19%|█▉        | 14/74 [00:00<00:00, 137.73it/s]"
     ]
    },
    {
     "output_type": "stream",
     "name": "stdout",
     "text": [
      "\n",
      "Epoch 34 complete! Validation Loss : 0.22570210695266724\n",
      "Epoch 34 complete! Validation Accuracy : 0.9072039473684211\n",
      "Best validation loss improved from 0.2264959592568247 to 0.22570210695266724\n",
      "\n",
      "\n",
      "Iteration 14/74 of epoch 35 complete. Loss : 0.10733844659158162 \n"
     ]
    },
    {
     "output_type": "stream",
     "name": "stderr",
     "text": [
      " 57%|█████▋    | 42/74 [00:00<00:00, 136.63it/s]"
     ]
    },
    {
     "output_type": "stream",
     "name": "stdout",
     "text": [
      "\n",
      "Iteration 28/74 of epoch 35 complete. Loss : 0.09002001849668366 \n",
      "\n",
      "Iteration 42/74 of epoch 35 complete. Loss : 0.09721194260886737 \n"
     ]
    },
    {
     "output_type": "stream",
     "name": "stderr",
     "text": [
      "100%|██████████| 74/74 [00:00<00:00, 134.96it/s]\n",
      "  0%|          | 0/19 [00:00<?, ?it/s]"
     ]
    },
    {
     "output_type": "stream",
     "name": "stdout",
     "text": [
      "\n",
      "Iteration 56/74 of epoch 35 complete. Loss : 0.10448348282703332 \n",
      "\n",
      "Iteration 70/74 of epoch 35 complete. Loss : 0.09733604559940952 \n"
     ]
    },
    {
     "output_type": "stream",
     "name": "stderr",
     "text": [
      "100%|██████████| 19/19 [00:00<00:00, 239.28it/s]\n",
      " 19%|█▉        | 14/74 [00:00<00:00, 130.85it/s]"
     ]
    },
    {
     "output_type": "stream",
     "name": "stdout",
     "text": [
      "\n",
      "Epoch 35 complete! Validation Loss : 0.2247935188444037\n",
      "Epoch 35 complete! Validation Accuracy : 0.9072039473684211\n",
      "Best validation loss improved from 0.22570210695266724 to 0.2247935188444037\n",
      "\n",
      "\n",
      "Iteration 14/74 of epoch 36 complete. Loss : 0.10626375675201416 \n"
     ]
    },
    {
     "output_type": "stream",
     "name": "stderr",
     "text": [
      " 57%|█████▋    | 42/74 [00:00<00:00, 133.50it/s]"
     ]
    },
    {
     "output_type": "stream",
     "name": "stdout",
     "text": [
      "\n",
      "Iteration 28/74 of epoch 36 complete. Loss : 0.08887834022087711 \n",
      "\n",
      "Iteration 42/74 of epoch 36 complete. Loss : 0.09609776469213623 \n"
     ]
    },
    {
     "output_type": "stream",
     "name": "stderr",
     "text": [
      "100%|██████████| 74/74 [00:00<00:00, 134.51it/s]\n",
      "  0%|          | 0/19 [00:00<?, ?it/s]"
     ]
    },
    {
     "output_type": "stream",
     "name": "stdout",
     "text": [
      "\n",
      "Iteration 56/74 of epoch 36 complete. Loss : 0.10322248190641403 \n",
      "\n",
      "Iteration 70/74 of epoch 36 complete. Loss : 0.0962925987052066 \n"
     ]
    },
    {
     "output_type": "stream",
     "name": "stderr",
     "text": [
      "100%|██████████| 19/19 [00:00<00:00, 245.08it/s]\n",
      " 19%|█▉        | 14/74 [00:00<00:00, 137.77it/s]"
     ]
    },
    {
     "output_type": "stream",
     "name": "stdout",
     "text": [
      "\n",
      "Epoch 36 complete! Validation Loss : 0.22396705260402278\n",
      "Epoch 36 complete! Validation Accuracy : 0.9076151315789475\n",
      "Best validation loss improved from 0.2247935188444037 to 0.22396705260402278\n",
      "\n",
      "\n",
      "Iteration 14/74 of epoch 37 complete. Loss : 0.10515838488936424 \n"
     ]
    },
    {
     "output_type": "stream",
     "name": "stderr",
     "text": [
      " 57%|█████▋    | 42/74 [00:00<00:00, 135.43it/s]"
     ]
    },
    {
     "output_type": "stream",
     "name": "stdout",
     "text": [
      "\n",
      "Iteration 28/74 of epoch 37 complete. Loss : 0.08771391824952193 \n",
      "\n",
      "Iteration 42/74 of epoch 37 complete. Loss : 0.09495952299662999 \n"
     ]
    },
    {
     "output_type": "stream",
     "name": "stderr",
     "text": [
      "100%|██████████| 74/74 [00:00<00:00, 133.61it/s]\n",
      "  0%|          | 0/19 [00:00<?, ?it/s]"
     ]
    },
    {
     "output_type": "stream",
     "name": "stdout",
     "text": [
      "\n",
      "Iteration 56/74 of epoch 37 complete. Loss : 0.10194164940289088 \n",
      "\n",
      "Iteration 70/74 of epoch 37 complete. Loss : 0.09521594164626938 \n"
     ]
    },
    {
     "output_type": "stream",
     "name": "stderr",
     "text": [
      "100%|██████████| 19/19 [00:00<00:00, 242.80it/s]\n",
      " 19%|█▉        | 14/74 [00:00<00:00, 135.78it/s]"
     ]
    },
    {
     "output_type": "stream",
     "name": "stdout",
     "text": [
      "\n",
      "Epoch 37 complete! Validation Loss : 0.2230142731415598\n",
      "Epoch 37 complete! Validation Accuracy : 0.9076151315789475\n",
      "Best validation loss improved from 0.22396705260402278 to 0.2230142731415598\n",
      "\n",
      "\n",
      "Iteration 14/74 of epoch 38 complete. Loss : 0.10398279449769429 \n"
     ]
    },
    {
     "output_type": "stream",
     "name": "stderr",
     "text": [
      " 57%|█████▋    | 42/74 [00:00<00:00, 135.83it/s]"
     ]
    },
    {
     "output_type": "stream",
     "name": "stdout",
     "text": [
      "\n",
      "Iteration 28/74 of epoch 38 complete. Loss : 0.08653292911393302 \n",
      "\n",
      "Iteration 42/74 of epoch 38 complete. Loss : 0.09378945721047265 \n"
     ]
    },
    {
     "output_type": "stream",
     "name": "stderr",
     "text": [
      "100%|██████████| 74/74 [00:00<00:00, 134.85it/s]\n",
      "  0%|          | 0/19 [00:00<?, ?it/s]"
     ]
    },
    {
     "output_type": "stream",
     "name": "stdout",
     "text": [
      "\n",
      "Iteration 56/74 of epoch 38 complete. Loss : 0.10057747310825757 \n",
      "\n",
      "Iteration 70/74 of epoch 38 complete. Loss : 0.09413463143365723 \n"
     ]
    },
    {
     "output_type": "stream",
     "name": "stderr",
     "text": [
      "100%|██████████| 19/19 [00:00<00:00, 243.91it/s]\n",
      " 19%|█▉        | 14/74 [00:00<00:00, 135.93it/s]"
     ]
    },
    {
     "output_type": "stream",
     "name": "stdout",
     "text": [
      "\n",
      "Epoch 38 complete! Validation Loss : 0.22213226399923625\n",
      "Epoch 38 complete! Validation Accuracy : 0.9076151315789475\n",
      "Best validation loss improved from 0.2230142731415598 to 0.22213226399923625\n",
      "\n",
      "\n",
      "Iteration 14/74 of epoch 39 complete. Loss : 0.10274280022297587 \n"
     ]
    },
    {
     "output_type": "stream",
     "name": "stderr",
     "text": [
      " 74%|███████▍  | 55/74 [00:00<00:00, 134.00it/s]"
     ]
    },
    {
     "output_type": "stream",
     "name": "stdout",
     "text": [
      "\n",
      "Iteration 28/74 of epoch 39 complete. Loss : 0.08531487387205873 \n",
      "\n",
      "Iteration 42/74 of epoch 39 complete. Loss : 0.09252677618392877 \n"
     ]
    },
    {
     "output_type": "stream",
     "name": "stderr",
     "text": [
      "100%|██████████| 74/74 [00:00<00:00, 133.12it/s]\n",
      "  0%|          | 0/19 [00:00<?, ?it/s]"
     ]
    },
    {
     "output_type": "stream",
     "name": "stdout",
     "text": [
      "\n",
      "Iteration 56/74 of epoch 39 complete. Loss : 0.09922417812049389 \n",
      "\n",
      "Iteration 70/74 of epoch 39 complete. Loss : 0.09299068046467644 \n"
     ]
    },
    {
     "output_type": "stream",
     "name": "stderr",
     "text": [
      "100%|██████████| 19/19 [00:00<00:00, 245.27it/s]\n",
      " 19%|█▉        | 14/74 [00:00<00:00, 130.96it/s]"
     ]
    },
    {
     "output_type": "stream",
     "name": "stdout",
     "text": [
      "\n",
      "Epoch 39 complete! Validation Loss : 0.22108589897030279\n",
      "Epoch 39 complete! Validation Accuracy : 0.9067927631578948\n",
      "Best validation loss improved from 0.22213226399923625 to 0.22108589897030279\n",
      "\n",
      "\n",
      "Iteration 14/74 of epoch 40 complete. Loss : 0.1014219346855368 \n"
     ]
    },
    {
     "output_type": "stream",
     "name": "stderr",
     "text": [
      " 57%|█████▋    | 42/74 [00:00<00:00, 131.95it/s]"
     ]
    },
    {
     "output_type": "stream",
     "name": "stdout",
     "text": [
      "\n",
      "Iteration 28/74 of epoch 40 complete. Loss : 0.08403164786951882 \n",
      "\n",
      "Iteration 42/74 of epoch 40 complete. Loss : 0.09120529996497291 \n"
     ]
    },
    {
     "output_type": "stream",
     "name": "stderr",
     "text": [
      "100%|██████████| 74/74 [00:00<00:00, 132.19it/s]\n",
      "  0%|          | 0/19 [00:00<?, ?it/s]"
     ]
    },
    {
     "output_type": "stream",
     "name": "stdout",
     "text": [
      "\n",
      "Iteration 56/74 of epoch 40 complete. Loss : 0.097798813400524 \n",
      "\n",
      "Iteration 70/74 of epoch 40 complete. Loss : 0.09183568400996071 \n"
     ]
    },
    {
     "output_type": "stream",
     "name": "stderr",
     "text": [
      "100%|██████████| 19/19 [00:00<00:00, 243.74it/s]\n",
      " 19%|█▉        | 14/74 [00:00<00:00, 136.85it/s]"
     ]
    },
    {
     "output_type": "stream",
     "name": "stdout",
     "text": [
      "\n",
      "Epoch 40 complete! Validation Loss : 0.22010286779780136\n",
      "Epoch 40 complete! Validation Accuracy : 0.9063815789473685\n",
      "Best validation loss improved from 0.22108589897030279 to 0.22010286779780136\n",
      "\n",
      "\n",
      "Iteration 14/74 of epoch 41 complete. Loss : 0.10001457003610474 \n"
     ]
    },
    {
     "output_type": "stream",
     "name": "stderr",
     "text": [
      " 57%|█████▋    | 42/74 [00:00<00:00, 134.48it/s]"
     ]
    },
    {
     "output_type": "stream",
     "name": "stdout",
     "text": [
      "\n",
      "Iteration 28/74 of epoch 41 complete. Loss : 0.08273783858333315 \n",
      "\n",
      "Iteration 42/74 of epoch 41 complete. Loss : 0.08985548732536179 \n"
     ]
    },
    {
     "output_type": "stream",
     "name": "stderr",
     "text": [
      "100%|██████████| 74/74 [00:00<00:00, 133.40it/s]\n",
      "  0%|          | 0/19 [00:00<?, ?it/s]"
     ]
    },
    {
     "output_type": "stream",
     "name": "stdout",
     "text": [
      "\n",
      "Iteration 56/74 of epoch 41 complete. Loss : 0.09635952194886548 \n",
      "\n",
      "Iteration 70/74 of epoch 41 complete. Loss : 0.09056117279188973 \n"
     ]
    },
    {
     "output_type": "stream",
     "name": "stderr",
     "text": [
      "100%|██████████| 19/19 [00:00<00:00, 240.50it/s]\n",
      " 19%|█▉        | 14/74 [00:00<00:00, 135.85it/s]"
     ]
    },
    {
     "output_type": "stream",
     "name": "stdout",
     "text": [
      "\n",
      "Epoch 41 complete! Validation Loss : 0.21901436777491318\n",
      "Epoch 41 complete! Validation Accuracy : 0.9063815789473685\n",
      "Best validation loss improved from 0.22010286779780136 to 0.21901436777491318\n",
      "\n",
      "\n",
      "Iteration 14/74 of epoch 42 complete. Loss : 0.09852751929845129 \n"
     ]
    },
    {
     "output_type": "stream",
     "name": "stderr",
     "text": [
      " 57%|█████▋    | 42/74 [00:00<00:00, 134.64it/s]"
     ]
    },
    {
     "output_type": "stream",
     "name": "stdout",
     "text": [
      "\n",
      "Iteration 28/74 of epoch 42 complete. Loss : 0.08138424370970045 \n",
      "\n",
      "Iteration 42/74 of epoch 42 complete. Loss : 0.08845677812184606 \n"
     ]
    },
    {
     "output_type": "stream",
     "name": "stderr",
     "text": [
      "100%|██████████| 74/74 [00:00<00:00, 134.12it/s]\n",
      "  0%|          | 0/19 [00:00<?, ?it/s]"
     ]
    },
    {
     "output_type": "stream",
     "name": "stdout",
     "text": [
      "\n",
      "Iteration 56/74 of epoch 42 complete. Loss : 0.09484031769846167 \n",
      "\n",
      "Iteration 70/74 of epoch 42 complete. Loss : 0.0892106220126152 \n"
     ]
    },
    {
     "output_type": "stream",
     "name": "stderr",
     "text": [
      "100%|██████████| 19/19 [00:00<00:00, 243.01it/s]\n",
      " 19%|█▉        | 14/74 [00:00<00:00, 132.36it/s]"
     ]
    },
    {
     "output_type": "stream",
     "name": "stdout",
     "text": [
      "\n",
      "Epoch 42 complete! Validation Loss : 0.21790161807286113\n",
      "Epoch 42 complete! Validation Accuracy : 0.9063815789473685\n",
      "Best validation loss improved from 0.21901436777491318 to 0.21790161807286113\n",
      "\n",
      "\n",
      "Iteration 14/74 of epoch 43 complete. Loss : 0.09698504369173731 \n"
     ]
    },
    {
     "output_type": "stream",
     "name": "stderr",
     "text": [
      " 57%|█████▋    | 42/74 [00:00<00:00, 132.52it/s]"
     ]
    },
    {
     "output_type": "stream",
     "name": "stdout",
     "text": [
      "\n",
      "Iteration 28/74 of epoch 43 complete. Loss : 0.07998176185148102 \n",
      "\n",
      "Iteration 42/74 of epoch 43 complete. Loss : 0.08697631715663842 \n"
     ]
    },
    {
     "output_type": "stream",
     "name": "stderr",
     "text": [
      "100%|██████████| 74/74 [00:00<00:00, 132.85it/s]\n",
      "  0%|          | 0/19 [00:00<?, ?it/s]"
     ]
    },
    {
     "output_type": "stream",
     "name": "stdout",
     "text": [
      "\n",
      "Iteration 56/74 of epoch 43 complete. Loss : 0.09323731384107045 \n",
      "\n",
      "Iteration 70/74 of epoch 43 complete. Loss : 0.08779190613755158 \n"
     ]
    },
    {
     "output_type": "stream",
     "name": "stderr",
     "text": [
      "100%|██████████| 19/19 [00:00<00:00, 242.69it/s]\n",
      " 19%|█▉        | 14/74 [00:00<00:00, 136.43it/s]"
     ]
    },
    {
     "output_type": "stream",
     "name": "stdout",
     "text": [
      "\n",
      "Epoch 43 complete! Validation Loss : 0.21663808273641685\n",
      "Epoch 43 complete! Validation Accuracy : 0.9063815789473685\n",
      "Best validation loss improved from 0.21790161807286113 to 0.21663808273641685\n",
      "\n",
      "\n",
      "Iteration 14/74 of epoch 44 complete. Loss : 0.09526423950280462 \n"
     ]
    },
    {
     "output_type": "stream",
     "name": "stderr",
     "text": [
      " 57%|█████▋    | 42/74 [00:00<00:00, 135.12it/s]"
     ]
    },
    {
     "output_type": "stream",
     "name": "stdout",
     "text": [
      "\n",
      "Iteration 28/74 of epoch 44 complete. Loss : 0.07855790560798985 \n",
      "\n",
      "Iteration 42/74 of epoch 44 complete. Loss : 0.08536648404385362 \n"
     ]
    },
    {
     "output_type": "stream",
     "name": "stderr",
     "text": [
      "100%|██████████| 74/74 [00:00<00:00, 134.17it/s]\n",
      "  0%|          | 0/19 [00:00<?, ?it/s]"
     ]
    },
    {
     "output_type": "stream",
     "name": "stdout",
     "text": [
      "\n",
      "Iteration 56/74 of epoch 44 complete. Loss : 0.09150340275040694 \n",
      "\n",
      "Iteration 70/74 of epoch 44 complete. Loss : 0.08632825261780194 \n"
     ]
    },
    {
     "output_type": "stream",
     "name": "stderr",
     "text": [
      "100%|██████████| 19/19 [00:00<00:00, 243.03it/s]\n",
      " 19%|█▉        | 14/74 [00:00<00:00, 135.15it/s]"
     ]
    },
    {
     "output_type": "stream",
     "name": "stdout",
     "text": [
      "\n",
      "Epoch 44 complete! Validation Loss : 0.2153091462034928\n",
      "Epoch 44 complete! Validation Accuracy : 0.9059703947368422\n",
      "Best validation loss improved from 0.21663808273641685 to 0.2153091462034928\n",
      "\n",
      "\n",
      "Iteration 14/74 of epoch 45 complete. Loss : 0.09344139748385974 \n"
     ]
    },
    {
     "output_type": "stream",
     "name": "stderr",
     "text": [
      " 57%|█████▋    | 42/74 [00:00<00:00, 133.12it/s]"
     ]
    },
    {
     "output_type": "stream",
     "name": "stdout",
     "text": [
      "\n",
      "Iteration 28/74 of epoch 45 complete. Loss : 0.07705407270363399 \n",
      "\n",
      "Iteration 42/74 of epoch 45 complete. Loss : 0.08371229389948505 \n"
     ]
    },
    {
     "output_type": "stream",
     "name": "stderr",
     "text": [
      "100%|██████████| 74/74 [00:00<00:00, 132.95it/s]\n",
      "  0%|          | 0/19 [00:00<?, ?it/s]"
     ]
    },
    {
     "output_type": "stream",
     "name": "stdout",
     "text": [
      "\n",
      "Iteration 56/74 of epoch 45 complete. Loss : 0.08971417242927211 \n",
      "\n",
      "Iteration 70/74 of epoch 45 complete. Loss : 0.08480692628238883 \n"
     ]
    },
    {
     "output_type": "stream",
     "name": "stderr",
     "text": [
      "100%|██████████| 19/19 [00:00<00:00, 239.05it/s]\n",
      " 19%|█▉        | 14/74 [00:00<00:00, 135.73it/s]"
     ]
    },
    {
     "output_type": "stream",
     "name": "stdout",
     "text": [
      "\n",
      "Epoch 45 complete! Validation Loss : 0.21386863369690745\n",
      "Epoch 45 complete! Validation Accuracy : 0.9063815789473685\n",
      "Best validation loss improved from 0.2153091462034928 to 0.21386863369690745\n",
      "\n",
      "\n",
      "Iteration 14/74 of epoch 46 complete. Loss : 0.0914289972611836 \n"
     ]
    },
    {
     "output_type": "stream",
     "name": "stderr",
     "text": [
      " 57%|█████▋    | 42/74 [00:00<00:00, 135.73it/s]"
     ]
    },
    {
     "output_type": "stream",
     "name": "stdout",
     "text": [
      "\n",
      "Iteration 28/74 of epoch 46 complete. Loss : 0.0754746680280992 \n",
      "\n",
      "Iteration 42/74 of epoch 46 complete. Loss : 0.08187666668423585 \n"
     ]
    },
    {
     "output_type": "stream",
     "name": "stderr",
     "text": [
      "100%|██████████| 74/74 [00:00<00:00, 134.83it/s]\n",
      "  0%|          | 0/19 [00:00<?, ?it/s]"
     ]
    },
    {
     "output_type": "stream",
     "name": "stdout",
     "text": [
      "\n",
      "Iteration 56/74 of epoch 46 complete. Loss : 0.0877757974501167 \n",
      "\n",
      "Iteration 70/74 of epoch 46 complete. Loss : 0.08330514202160495 \n"
     ]
    },
    {
     "output_type": "stream",
     "name": "stderr",
     "text": [
      "100%|██████████| 19/19 [00:00<00:00, 239.62it/s]\n",
      " 19%|█▉        | 14/74 [00:00<00:00, 137.79it/s]"
     ]
    },
    {
     "output_type": "stream",
     "name": "stdout",
     "text": [
      "\n",
      "Epoch 46 complete! Validation Loss : 0.21215914503524178\n",
      "Epoch 46 complete! Validation Accuracy : 0.9057401315789475\n",
      "Best validation loss improved from 0.21386863369690745 to 0.21215914503524178\n",
      "\n",
      "\n",
      "Iteration 14/74 of epoch 47 complete. Loss : 0.08921756063188825 \n"
     ]
    },
    {
     "output_type": "stream",
     "name": "stderr",
     "text": [
      " 57%|█████▋    | 42/74 [00:00<00:00, 135.59it/s]"
     ]
    },
    {
     "output_type": "stream",
     "name": "stdout",
     "text": [
      "\n",
      "Iteration 28/74 of epoch 47 complete. Loss : 0.07381000662488597 \n",
      "\n",
      "Iteration 42/74 of epoch 47 complete. Loss : 0.07994909158774785 \n"
     ]
    },
    {
     "output_type": "stream",
     "name": "stderr",
     "text": [
      "100%|██████████| 74/74 [00:00<00:00, 130.06it/s]\n",
      "  0%|          | 0/19 [00:00<?, ?it/s]"
     ]
    },
    {
     "output_type": "stream",
     "name": "stdout",
     "text": [
      "\n",
      "Iteration 56/74 of epoch 47 complete. Loss : 0.08570831295635019 \n",
      "\n",
      "Iteration 70/74 of epoch 47 complete. Loss : 0.08156465206827436 \n"
     ]
    },
    {
     "output_type": "stream",
     "name": "stderr",
     "text": [
      "100%|██████████| 19/19 [00:00<00:00, 200.62it/s]\n",
      " 18%|█▊        | 13/74 [00:00<00:00, 126.17it/s]"
     ]
    },
    {
     "output_type": "stream",
     "name": "stdout",
     "text": [
      "\n",
      "Epoch 47 complete! Validation Loss : 0.2105674806394075\n",
      "Epoch 47 complete! Validation Accuracy : 0.9065625\n",
      "Best validation loss improved from 0.21215914503524178 to 0.2105674806394075\n",
      "\n",
      "\n",
      "Iteration 14/74 of epoch 48 complete. Loss : 0.0868798659316131 \n"
     ]
    },
    {
     "output_type": "stream",
     "name": "stderr",
     "text": [
      " 70%|███████   | 52/74 [00:00<00:00, 124.58it/s]"
     ]
    },
    {
     "output_type": "stream",
     "name": "stdout",
     "text": [
      "\n",
      "Iteration 28/74 of epoch 48 complete. Loss : 0.07208625998880182 \n",
      "\n",
      "Iteration 42/74 of epoch 48 complete. Loss : 0.07790452587817397 \n"
     ]
    },
    {
     "output_type": "stream",
     "name": "stderr",
     "text": [
      "100%|██████████| 74/74 [00:00<00:00, 124.53it/s]\n",
      "  0%|          | 0/19 [00:00<?, ?it/s]"
     ]
    },
    {
     "output_type": "stream",
     "name": "stdout",
     "text": [
      "\n",
      "Iteration 56/74 of epoch 48 complete. Loss : 0.08348691223987512 \n",
      "\n",
      "Iteration 70/74 of epoch 48 complete. Loss : 0.07973988327596869 \n"
     ]
    },
    {
     "output_type": "stream",
     "name": "stderr",
     "text": [
      "100%|██████████| 19/19 [00:00<00:00, 239.02it/s]\n",
      " 19%|█▉        | 14/74 [00:00<00:00, 134.50it/s]"
     ]
    },
    {
     "output_type": "stream",
     "name": "stdout",
     "text": [
      "\n",
      "Epoch 48 complete! Validation Loss : 0.20882163628151543\n",
      "Epoch 48 complete! Validation Accuracy : 0.9073848684210527\n",
      "Best validation loss improved from 0.2105674806394075 to 0.20882163628151543\n",
      "\n",
      "\n",
      "Iteration 14/74 of epoch 49 complete. Loss : 0.0843517833522388 \n"
     ]
    },
    {
     "output_type": "stream",
     "name": "stderr",
     "text": [
      " 57%|█████▋    | 42/74 [00:00<00:00, 133.49it/s]"
     ]
    },
    {
     "output_type": "stream",
     "name": "stdout",
     "text": [
      "\n",
      "Iteration 28/74 of epoch 49 complete. Loss : 0.07035153146300997 \n",
      "\n",
      "Iteration 42/74 of epoch 49 complete. Loss : 0.07577665895223618 \n"
     ]
    },
    {
     "output_type": "stream",
     "name": "stderr",
     "text": [
      "100%|██████████| 74/74 [00:00<00:00, 133.55it/s]\n",
      "  0%|          | 0/19 [00:00<?, ?it/s]"
     ]
    },
    {
     "output_type": "stream",
     "name": "stdout",
     "text": [
      "\n",
      "Iteration 56/74 of epoch 49 complete. Loss : 0.0810373593121767 \n",
      "\n",
      "Iteration 70/74 of epoch 49 complete. Loss : 0.07775264472833701 \n"
     ]
    },
    {
     "output_type": "stream",
     "name": "stderr",
     "text": [
      "100%|██████████| 19/19 [00:00<00:00, 77.46it/s]\n",
      " 19%|█▉        | 14/74 [00:00<00:00, 134.73it/s]"
     ]
    },
    {
     "output_type": "stream",
     "name": "stdout",
     "text": [
      "\n",
      "Epoch 49 complete! Validation Loss : 0.20713623730759873\n",
      "Epoch 49 complete! Validation Accuracy : 0.907796052631579\n",
      "Best validation loss improved from 0.20882163628151543 to 0.20713623730759873\n",
      "\n",
      "\n",
      "Iteration 14/74 of epoch 50 complete. Loss : 0.0816873407789639 \n"
     ]
    },
    {
     "output_type": "stream",
     "name": "stderr",
     "text": [
      " 57%|█████▋    | 42/74 [00:00<00:00, 134.23it/s]"
     ]
    },
    {
     "output_type": "stream",
     "name": "stdout",
     "text": [
      "\n",
      "Iteration 28/74 of epoch 50 complete. Loss : 0.06841285633189338 \n",
      "\n",
      "Iteration 42/74 of epoch 50 complete. Loss : 0.07362964483244079 \n"
     ]
    },
    {
     "output_type": "stream",
     "name": "stderr",
     "text": [
      "100%|██████████| 74/74 [00:00<00:00, 133.69it/s]\n",
      "  0%|          | 0/19 [00:00<?, ?it/s]"
     ]
    },
    {
     "output_type": "stream",
     "name": "stdout",
     "text": [
      "\n",
      "Iteration 56/74 of epoch 50 complete. Loss : 0.0786218446280275 \n",
      "\n",
      "Iteration 70/74 of epoch 50 complete. Loss : 0.07552461911525045 \n"
     ]
    },
    {
     "output_type": "stream",
     "name": "stderr",
     "text": [
      "100%|██████████| 19/19 [00:00<00:00, 244.02it/s]\n",
      " 19%|█▉        | 14/74 [00:00<00:00, 137.36it/s]"
     ]
    },
    {
     "output_type": "stream",
     "name": "stdout",
     "text": [
      "\n",
      "Epoch 50 complete! Validation Loss : 0.2055777852472506\n",
      "Epoch 50 complete! Validation Accuracy : 0.9082072368421054\n",
      "Best validation loss improved from 0.20713623730759873 to 0.2055777852472506\n",
      "\n",
      "\n",
      "Iteration 14/74 of epoch 51 complete. Loss : 0.07891808769532613 \n"
     ]
    },
    {
     "output_type": "stream",
     "name": "stderr",
     "text": [
      " 57%|█████▋    | 42/74 [00:00<00:00, 134.75it/s]"
     ]
    },
    {
     "output_type": "stream",
     "name": "stdout",
     "text": [
      "\n",
      "Iteration 28/74 of epoch 51 complete. Loss : 0.06638437935284205 \n",
      "\n",
      "Iteration 42/74 of epoch 51 complete. Loss : 0.07138322054275445 \n"
     ]
    },
    {
     "output_type": "stream",
     "name": "stderr",
     "text": [
      "100%|██████████| 74/74 [00:00<00:00, 134.14it/s]\n",
      "  0%|          | 0/19 [00:00<?, ?it/s]"
     ]
    },
    {
     "output_type": "stream",
     "name": "stdout",
     "text": [
      "\n",
      "Iteration 56/74 of epoch 51 complete. Loss : 0.07606232352554798 \n",
      "\n",
      "Iteration 70/74 of epoch 51 complete. Loss : 0.07320313075823444 \n"
     ]
    },
    {
     "output_type": "stream",
     "name": "stderr",
     "text": [
      "100%|██████████| 19/19 [00:00<00:00, 244.47it/s]\n",
      " 19%|█▉        | 14/74 [00:00<00:00, 134.55it/s]"
     ]
    },
    {
     "output_type": "stream",
     "name": "stdout",
     "text": [
      "\n",
      "Epoch 51 complete! Validation Loss : 0.20401687135821894\n",
      "Epoch 51 complete! Validation Accuracy : 0.9082072368421054\n",
      "Best validation loss improved from 0.2055777852472506 to 0.20401687135821894\n",
      "\n",
      "\n",
      "Iteration 14/74 of epoch 52 complete. Loss : 0.07601265077080045 \n"
     ]
    },
    {
     "output_type": "stream",
     "name": "stderr",
     "text": [
      " 74%|███████▍  | 55/74 [00:00<00:00, 132.37it/s]"
     ]
    },
    {
     "output_type": "stream",
     "name": "stdout",
     "text": [
      "\n",
      "Iteration 28/74 of epoch 52 complete. Loss : 0.06414104146616799 \n",
      "\n",
      "Iteration 42/74 of epoch 52 complete. Loss : 0.06910808251372405 \n"
     ]
    },
    {
     "output_type": "stream",
     "name": "stderr",
     "text": [
      "100%|██████████| 74/74 [00:00<00:00, 131.67it/s]\n",
      "  0%|          | 0/19 [00:00<?, ?it/s]"
     ]
    },
    {
     "output_type": "stream",
     "name": "stdout",
     "text": [
      "\n",
      "Iteration 56/74 of epoch 52 complete. Loss : 0.07344339921006135 \n",
      "\n",
      "Iteration 70/74 of epoch 52 complete. Loss : 0.07073713093996048 \n"
     ]
    },
    {
     "output_type": "stream",
     "name": "stderr",
     "text": [
      "100%|██████████| 19/19 [00:00<00:00, 237.70it/s]\n",
      " 19%|█▉        | 14/74 [00:00<00:00, 134.34it/s]"
     ]
    },
    {
     "output_type": "stream",
     "name": "stdout",
     "text": [
      "\n",
      "Epoch 52 complete! Validation Loss : 0.20244912960027395\n",
      "Epoch 52 complete! Validation Accuracy : 0.907796052631579\n",
      "Best validation loss improved from 0.20401687135821894 to 0.20244912960027395\n",
      "\n",
      "\n",
      "Iteration 14/74 of epoch 53 complete. Loss : 0.07310433047158378 \n"
     ]
    },
    {
     "output_type": "stream",
     "name": "stderr",
     "text": [
      " 57%|█████▋    | 42/74 [00:00<00:00, 134.50it/s]"
     ]
    },
    {
     "output_type": "stream",
     "name": "stdout",
     "text": [
      "\n",
      "Iteration 28/74 of epoch 53 complete. Loss : 0.06181022498224463 \n",
      "\n",
      "Iteration 42/74 of epoch 53 complete. Loss : 0.06660325505903789 \n"
     ]
    },
    {
     "output_type": "stream",
     "name": "stderr",
     "text": [
      "100%|██████████| 74/74 [00:00<00:00, 131.68it/s]\n",
      "  0%|          | 0/19 [00:00<?, ?it/s]"
     ]
    },
    {
     "output_type": "stream",
     "name": "stdout",
     "text": [
      "\n",
      "Iteration 56/74 of epoch 53 complete. Loss : 0.07071799199495997 \n",
      "\n",
      "Iteration 70/74 of epoch 53 complete. Loss : 0.06816754090998854 \n"
     ]
    },
    {
     "output_type": "stream",
     "name": "stderr",
     "text": [
      "100%|██████████| 19/19 [00:00<00:00, 242.27it/s]\n",
      " 19%|█▉        | 14/74 [00:00<00:00, 133.63it/s]"
     ]
    },
    {
     "output_type": "stream",
     "name": "stdout",
     "text": [
      "\n",
      "Epoch 53 complete! Validation Loss : 0.20109643277369046\n",
      "Epoch 53 complete! Validation Accuracy : 0.909029605263158\n",
      "Best validation loss improved from 0.20244912960027395 to 0.20109643277369046\n",
      "\n",
      "\n",
      "Iteration 14/74 of epoch 54 complete. Loss : 0.07009012198873929 \n"
     ]
    },
    {
     "output_type": "stream",
     "name": "stderr",
     "text": [
      " 57%|█████▋    | 42/74 [00:00<00:00, 134.21it/s]"
     ]
    },
    {
     "output_type": "stream",
     "name": "stdout",
     "text": [
      "\n",
      "Iteration 28/74 of epoch 54 complete. Loss : 0.059408917490925105 \n",
      "\n",
      "Iteration 42/74 of epoch 54 complete. Loss : 0.0639549685376031 \n"
     ]
    },
    {
     "output_type": "stream",
     "name": "stderr",
     "text": [
      "100%|██████████| 74/74 [00:00<00:00, 134.13it/s]\n",
      "  0%|          | 0/19 [00:00<?, ?it/s]"
     ]
    },
    {
     "output_type": "stream",
     "name": "stdout",
     "text": [
      "\n",
      "Iteration 56/74 of epoch 54 complete. Loss : 0.06784927206380027 \n",
      "\n",
      "Iteration 70/74 of epoch 54 complete. Loss : 0.06559100587453161 \n"
     ]
    },
    {
     "output_type": "stream",
     "name": "stderr",
     "text": [
      "100%|██████████| 19/19 [00:00<00:00, 244.51it/s]\n",
      " 19%|█▉        | 14/74 [00:00<00:00, 137.29it/s]"
     ]
    },
    {
     "output_type": "stream",
     "name": "stdout",
     "text": [
      "\n",
      "Epoch 54 complete! Validation Loss : 0.20001970937377528\n",
      "Epoch 54 complete! Validation Accuracy : 0.9110855263157895\n",
      "Best validation loss improved from 0.20109643277369046 to 0.20001970937377528\n",
      "\n",
      "\n",
      "Iteration 14/74 of epoch 55 complete. Loss : 0.06681348596300397 \n"
     ]
    },
    {
     "output_type": "stream",
     "name": "stderr",
     "text": [
      " 57%|█████▋    | 42/74 [00:00<00:00, 134.99it/s]"
     ]
    },
    {
     "output_type": "stream",
     "name": "stdout",
     "text": [
      "\n",
      "Iteration 28/74 of epoch 55 complete. Loss : 0.05695137993565628 \n",
      "\n",
      "Iteration 42/74 of epoch 55 complete. Loss : 0.06124511121639183 \n"
     ]
    },
    {
     "output_type": "stream",
     "name": "stderr",
     "text": [
      "100%|██████████| 74/74 [00:00<00:00, 133.89it/s]\n",
      "  0%|          | 0/19 [00:00<?, ?it/s]"
     ]
    },
    {
     "output_type": "stream",
     "name": "stdout",
     "text": [
      "\n",
      "Iteration 56/74 of epoch 55 complete. Loss : 0.06486565140741211 \n",
      "\n",
      "Iteration 70/74 of epoch 55 complete. Loss : 0.06276694791657585 \n"
     ]
    },
    {
     "output_type": "stream",
     "name": "stderr",
     "text": [
      "100%|██████████| 19/19 [00:00<00:00, 242.73it/s]\n",
      " 19%|█▉        | 14/74 [00:00<00:00, 136.83it/s]"
     ]
    },
    {
     "output_type": "stream",
     "name": "stdout",
     "text": [
      "\n",
      "Epoch 55 complete! Validation Loss : 0.19911469989701322\n",
      "Epoch 55 complete! Validation Accuracy : 0.9110855263157895\n",
      "Best validation loss improved from 0.20001970937377528 to 0.19911469989701322\n",
      "\n",
      "\n",
      "Iteration 14/74 of epoch 56 complete. Loss : 0.06344373976545674 \n"
     ]
    },
    {
     "output_type": "stream",
     "name": "stderr",
     "text": [
      " 57%|█████▋    | 42/74 [00:00<00:00, 135.17it/s]"
     ]
    },
    {
     "output_type": "stream",
     "name": "stdout",
     "text": [
      "\n",
      "Iteration 28/74 of epoch 56 complete. Loss : 0.054360875327672274 \n",
      "\n",
      "Iteration 42/74 of epoch 56 complete. Loss : 0.058501772050346644 \n"
     ]
    },
    {
     "output_type": "stream",
     "name": "stderr",
     "text": [
      "100%|██████████| 74/74 [00:00<00:00, 134.67it/s]\n",
      "  0%|          | 0/19 [00:00<?, ?it/s]"
     ]
    },
    {
     "output_type": "stream",
     "name": "stdout",
     "text": [
      "\n",
      "Iteration 56/74 of epoch 56 complete. Loss : 0.06182698932077203 \n",
      "\n",
      "Iteration 70/74 of epoch 56 complete. Loss : 0.059859954352889745 \n"
     ]
    },
    {
     "output_type": "stream",
     "name": "stderr",
     "text": [
      "100%|██████████| 19/19 [00:00<00:00, 244.31it/s]\n",
      " 19%|█▉        | 14/74 [00:00<00:00, 138.67it/s]"
     ]
    },
    {
     "output_type": "stream",
     "name": "stdout",
     "text": [
      "\n",
      "Epoch 56 complete! Validation Loss : 0.19804059361156665\n",
      "Epoch 56 complete! Validation Accuracy : 0.9127302631578948\n",
      "Best validation loss improved from 0.19911469989701322 to 0.19804059361156665\n",
      "\n",
      "\n",
      "Iteration 14/74 of epoch 57 complete. Loss : 0.06011548319033214 \n"
     ]
    },
    {
     "output_type": "stream",
     "name": "stderr",
     "text": [
      " 57%|█████▋    | 42/74 [00:00<00:00, 135.19it/s]"
     ]
    },
    {
     "output_type": "stream",
     "name": "stdout",
     "text": [
      "\n",
      "Iteration 28/74 of epoch 57 complete. Loss : 0.051618212700954506 \n",
      "\n",
      "Iteration 42/74 of epoch 57 complete. Loss : 0.055580521268504005 \n"
     ]
    },
    {
     "output_type": "stream",
     "name": "stderr",
     "text": [
      "100%|██████████| 74/74 [00:00<00:00, 134.43it/s]\n",
      "  0%|          | 0/19 [00:00<?, ?it/s]"
     ]
    },
    {
     "output_type": "stream",
     "name": "stdout",
     "text": [
      "\n",
      "Iteration 56/74 of epoch 57 complete. Loss : 0.05858844678316798 \n",
      "\n",
      "Iteration 70/74 of epoch 57 complete. Loss : 0.05694823938288859 \n"
     ]
    },
    {
     "output_type": "stream",
     "name": "stderr",
     "text": [
      "100%|██████████| 19/19 [00:00<00:00, 242.56it/s]\n",
      " 19%|█▉        | 14/74 [00:00<00:00, 136.60it/s]"
     ]
    },
    {
     "output_type": "stream",
     "name": "stdout",
     "text": [
      "\n",
      "Epoch 57 complete! Validation Loss : 0.19757271361978432\n",
      "Epoch 57 complete! Validation Accuracy : 0.9133223684210525\n",
      "Best validation loss improved from 0.19804059361156665 to 0.19757271361978432\n",
      "\n",
      "\n",
      "Iteration 14/74 of epoch 58 complete. Loss : 0.056546441678489955 \n"
     ]
    },
    {
     "output_type": "stream",
     "name": "stderr",
     "text": [
      " 57%|█████▋    | 42/74 [00:00<00:00, 135.86it/s]"
     ]
    },
    {
     "output_type": "stream",
     "name": "stdout",
     "text": [
      "\n",
      "Iteration 28/74 of epoch 58 complete. Loss : 0.04891959950327873 \n",
      "\n",
      "Iteration 42/74 of epoch 58 complete. Loss : 0.052572520183665414 \n"
     ]
    },
    {
     "output_type": "stream",
     "name": "stderr",
     "text": [
      "100%|██████████| 74/74 [00:00<00:00, 135.26it/s]\n",
      "  0%|          | 0/19 [00:00<?, ?it/s]"
     ]
    },
    {
     "output_type": "stream",
     "name": "stdout",
     "text": [
      "\n",
      "Iteration 56/74 of epoch 58 complete. Loss : 0.0552738005561488 \n",
      "\n",
      "Iteration 70/74 of epoch 58 complete. Loss : 0.05406168515660933 \n"
     ]
    },
    {
     "output_type": "stream",
     "name": "stderr",
     "text": [
      "100%|██████████| 19/19 [00:00<00:00, 245.18it/s]\n",
      " 19%|█▉        | 14/74 [00:00<00:00, 135.71it/s]"
     ]
    },
    {
     "output_type": "stream",
     "name": "stdout",
     "text": [
      "\n",
      "Epoch 58 complete! Validation Loss : 0.1966917185406936\n",
      "Epoch 58 complete! Validation Accuracy : 0.9145559210526315\n",
      "Best validation loss improved from 0.19757271361978432 to 0.1966917185406936\n",
      "\n",
      "\n",
      "Iteration 14/74 of epoch 59 complete. Loss : 0.05303810430424554 \n"
     ]
    },
    {
     "output_type": "stream",
     "name": "stderr",
     "text": [
      " 57%|█████▋    | 42/74 [00:00<00:00, 134.74it/s]"
     ]
    },
    {
     "output_type": "stream",
     "name": "stdout",
     "text": [
      "\n",
      "Iteration 28/74 of epoch 59 complete. Loss : 0.046036805026233196 \n",
      "\n",
      "Iteration 42/74 of epoch 59 complete. Loss : 0.04957103755857263 \n"
     ]
    },
    {
     "output_type": "stream",
     "name": "stderr",
     "text": [
      "100%|██████████| 74/74 [00:00<00:00, 134.06it/s]\n",
      "  0%|          | 0/19 [00:00<?, ?it/s]"
     ]
    },
    {
     "output_type": "stream",
     "name": "stdout",
     "text": [
      "\n",
      "Iteration 56/74 of epoch 59 complete. Loss : 0.0518598026995148 \n",
      "\n",
      "Iteration 70/74 of epoch 59 complete. Loss : 0.05084069951304367 \n"
     ]
    },
    {
     "output_type": "stream",
     "name": "stderr",
     "text": [
      "100%|██████████| 19/19 [00:00<00:00, 244.04it/s]\n",
      " 19%|█▉        | 14/74 [00:00<00:00, 134.02it/s]"
     ]
    },
    {
     "output_type": "stream",
     "name": "stdout",
     "text": [
      "\n",
      "Epoch 59 complete! Validation Loss : 0.19553105768404508\n",
      "Epoch 59 complete! Validation Accuracy : 0.9149671052631578\n",
      "Best validation loss improved from 0.1966917185406936 to 0.19553105768404508\n",
      "\n",
      "\n",
      "Iteration 14/74 of epoch 60 complete. Loss : 0.04972226279122489 \n"
     ]
    },
    {
     "output_type": "stream",
     "name": "stderr",
     "text": [
      " 57%|█████▋    | 42/74 [00:00<00:00, 134.13it/s]"
     ]
    },
    {
     "output_type": "stream",
     "name": "stdout",
     "text": [
      "\n",
      "Iteration 28/74 of epoch 60 complete. Loss : 0.04326595073299749 \n",
      "\n",
      "Iteration 42/74 of epoch 60 complete. Loss : 0.046583582647144794 \n"
     ]
    },
    {
     "output_type": "stream",
     "name": "stderr",
     "text": [
      "100%|██████████| 74/74 [00:00<00:00, 133.68it/s]\n",
      "  0%|          | 0/19 [00:00<?, ?it/s]"
     ]
    },
    {
     "output_type": "stream",
     "name": "stdout",
     "text": [
      "\n",
      "Iteration 56/74 of epoch 60 complete. Loss : 0.04848994833550283 \n",
      "\n",
      "Iteration 70/74 of epoch 60 complete. Loss : 0.04758361593953201 \n"
     ]
    },
    {
     "output_type": "stream",
     "name": "stderr",
     "text": [
      "100%|██████████| 19/19 [00:00<00:00, 91.38it/s]\n",
      " 19%|█▉        | 14/74 [00:00<00:00, 137.75it/s]"
     ]
    },
    {
     "output_type": "stream",
     "name": "stdout",
     "text": [
      "\n",
      "Epoch 60 complete! Validation Loss : 0.1950697577313373\n",
      "Epoch 60 complete! Validation Accuracy : 0.9182565789473683\n",
      "Best validation loss improved from 0.19553105768404508 to 0.1950697577313373\n",
      "\n",
      "\n",
      "Iteration 14/74 of epoch 61 complete. Loss : 0.04632956587842533 \n"
     ]
    },
    {
     "output_type": "stream",
     "name": "stderr",
     "text": [
      " 57%|█████▋    | 42/74 [00:00<00:00, 136.43it/s]"
     ]
    },
    {
     "output_type": "stream",
     "name": "stdout",
     "text": [
      "\n",
      "Iteration 28/74 of epoch 61 complete. Loss : 0.04041889748935189 \n",
      "\n",
      "Iteration 42/74 of epoch 61 complete. Loss : 0.04337809288075992 \n"
     ]
    },
    {
     "output_type": "stream",
     "name": "stderr",
     "text": [
      "100%|██████████| 74/74 [00:00<00:00, 135.02it/s]\n",
      "  0%|          | 0/19 [00:00<?, ?it/s]"
     ]
    },
    {
     "output_type": "stream",
     "name": "stdout",
     "text": [
      "\n",
      "Iteration 56/74 of epoch 61 complete. Loss : 0.04510983997689826 \n",
      "\n",
      "Iteration 70/74 of epoch 61 complete. Loss : 0.04426296800374985 \n"
     ]
    },
    {
     "output_type": "stream",
     "name": "stderr",
     "text": [
      "100%|██████████| 19/19 [00:00<00:00, 240.89it/s]\n",
      " 19%|█▉        | 14/74 [00:00<00:00, 129.35it/s]"
     ]
    },
    {
     "output_type": "stream",
     "name": "stdout",
     "text": [
      "\n",
      "Epoch 61 complete! Validation Loss : 0.1950626043896926\n",
      "Epoch 61 complete! Validation Accuracy : 0.9182565789473683\n",
      "Best validation loss improved from 0.1950697577313373 to 0.1950626043896926\n",
      "\n",
      "\n",
      "Iteration 14/74 of epoch 62 complete. Loss : 0.04269079637846777 \n"
     ]
    },
    {
     "output_type": "stream",
     "name": "stderr",
     "text": [
      " 74%|███████▍  | 55/74 [00:00<00:00, 131.33it/s]"
     ]
    },
    {
     "output_type": "stream",
     "name": "stdout",
     "text": [
      "\n",
      "Iteration 28/74 of epoch 62 complete. Loss : 0.0375961573528392 \n",
      "\n",
      "Iteration 42/74 of epoch 62 complete. Loss : 0.040443014087421555 \n"
     ]
    },
    {
     "output_type": "stream",
     "name": "stderr",
     "text": [
      "100%|██████████| 74/74 [00:00<00:00, 131.13it/s]\n",
      "  0%|          | 0/19 [00:00<?, ?it/s]"
     ]
    },
    {
     "output_type": "stream",
     "name": "stdout",
     "text": [
      "\n",
      "Iteration 56/74 of epoch 62 complete. Loss : 0.041711416095495224 \n",
      "\n",
      "Iteration 70/74 of epoch 62 complete. Loss : 0.040940924148474424 \n"
     ]
    },
    {
     "output_type": "stream",
     "name": "stderr",
     "text": [
      "100%|██████████| 19/19 [00:00<00:00, 231.23it/s]\n",
      " 19%|█▉        | 14/74 [00:00<00:00, 132.45it/s]"
     ]
    },
    {
     "output_type": "stream",
     "name": "stdout",
     "text": [
      "\n",
      "Epoch 62 complete! Validation Loss : 0.1949635132362968\n",
      "Epoch 62 complete! Validation Accuracy : 0.9194901315789473\n",
      "Best validation loss improved from 0.1950626043896926 to 0.1949635132362968\n",
      "\n",
      "\n",
      "Iteration 14/74 of epoch 63 complete. Loss : 0.03907237042273794 \n"
     ]
    },
    {
     "output_type": "stream",
     "name": "stderr",
     "text": [
      " 57%|█████▋    | 42/74 [00:00<00:00, 133.03it/s]"
     ]
    },
    {
     "output_type": "stream",
     "name": "stdout",
     "text": [
      "\n",
      "Iteration 28/74 of epoch 63 complete. Loss : 0.03456298275185483 \n",
      "\n",
      "Iteration 42/74 of epoch 63 complete. Loss : 0.03714055222059999 \n"
     ]
    },
    {
     "output_type": "stream",
     "name": "stderr",
     "text": [
      "100%|██████████| 74/74 [00:00<00:00, 132.15it/s]\n",
      "  0%|          | 0/19 [00:00<?, ?it/s]"
     ]
    },
    {
     "output_type": "stream",
     "name": "stdout",
     "text": [
      "\n",
      "Iteration 56/74 of epoch 63 complete. Loss : 0.038221290335059166 \n",
      "\n",
      "Iteration 70/74 of epoch 63 complete. Loss : 0.03758612448083503 \n"
     ]
    },
    {
     "output_type": "stream",
     "name": "stderr",
     "text": [
      "100%|██████████| 19/19 [00:00<00:00, 243.52it/s]\n",
      " 19%|█▉        | 14/74 [00:00<00:00, 135.39it/s]"
     ]
    },
    {
     "output_type": "stream",
     "name": "stdout",
     "text": [
      "\n",
      "Epoch 63 complete! Validation Loss : 0.19556978540985206\n",
      "Epoch 63 complete! Validation Accuracy : 0.9217763157894737\n",
      "\n",
      "Iteration 14/74 of epoch 64 complete. Loss : 0.03554438653268984 \n"
     ]
    },
    {
     "output_type": "stream",
     "name": "stderr",
     "text": [
      " 57%|█████▋    | 42/74 [00:00<00:00, 134.54it/s]"
     ]
    },
    {
     "output_type": "stream",
     "name": "stdout",
     "text": [
      "\n",
      "Iteration 28/74 of epoch 64 complete. Loss : 0.03171201675598111 \n",
      "\n",
      "Iteration 42/74 of epoch 64 complete. Loss : 0.03414191358855793 \n"
     ]
    },
    {
     "output_type": "stream",
     "name": "stderr",
     "text": [
      "100%|██████████| 74/74 [00:00<00:00, 134.31it/s]\n",
      "  0%|          | 0/19 [00:00<?, ?it/s]"
     ]
    },
    {
     "output_type": "stream",
     "name": "stdout",
     "text": [
      "\n",
      "Iteration 56/74 of epoch 64 complete. Loss : 0.034943138515310626 \n",
      "\n",
      "Iteration 70/74 of epoch 64 complete. Loss : 0.03419942315667868 \n"
     ]
    },
    {
     "output_type": "stream",
     "name": "stderr",
     "text": [
      "100%|██████████| 19/19 [00:00<00:00, 245.80it/s]\n",
      " 18%|█▊        | 13/74 [00:00<00:00, 129.80it/s]"
     ]
    },
    {
     "output_type": "stream",
     "name": "stdout",
     "text": [
      "\n",
      "Epoch 64 complete! Validation Loss : 0.19647878251577677\n",
      "Epoch 64 complete! Validation Accuracy : 0.9209539473684212\n",
      "\n",
      "Iteration 14/74 of epoch 65 complete. Loss : 0.032209888632808416 \n"
     ]
    },
    {
     "output_type": "stream",
     "name": "stderr",
     "text": [
      " 73%|███████▎  | 54/74 [00:00<00:00, 132.55it/s]"
     ]
    },
    {
     "output_type": "stream",
     "name": "stdout",
     "text": [
      "\n",
      "Iteration 28/74 of epoch 65 complete. Loss : 0.02905440317200763 \n",
      "\n",
      "Iteration 42/74 of epoch 65 complete. Loss : 0.031060036404856613 \n"
     ]
    },
    {
     "output_type": "stream",
     "name": "stderr",
     "text": [
      "100%|██████████| 74/74 [00:00<00:00, 132.74it/s]\n",
      "  0%|          | 0/19 [00:00<?, ?it/s]"
     ]
    },
    {
     "output_type": "stream",
     "name": "stdout",
     "text": [
      "\n",
      "Iteration 56/74 of epoch 65 complete. Loss : 0.03173084929585457 \n",
      "\n",
      "Iteration 70/74 of epoch 65 complete. Loss : 0.031059244381529943 \n"
     ]
    },
    {
     "output_type": "stream",
     "name": "stderr",
     "text": [
      "100%|██████████| 19/19 [00:00<00:00, 240.88it/s]\n",
      " 19%|█▉        | 14/74 [00:00<00:00, 135.14it/s]"
     ]
    },
    {
     "output_type": "stream",
     "name": "stdout",
     "text": [
      "\n",
      "Epoch 65 complete! Validation Loss : 0.1973907343651119\n",
      "Epoch 65 complete! Validation Accuracy : 0.9213651315789475\n",
      "\n",
      "Iteration 14/74 of epoch 66 complete. Loss : 0.02879973846886839 \n"
     ]
    },
    {
     "output_type": "stream",
     "name": "stderr",
     "text": [
      " 57%|█████▋    | 42/74 [00:00<00:00, 134.87it/s]"
     ]
    },
    {
     "output_type": "stream",
     "name": "stdout",
     "text": [
      "\n",
      "Iteration 28/74 of epoch 66 complete. Loss : 0.02617396879941225 \n",
      "\n",
      "Iteration 42/74 of epoch 66 complete. Loss : 0.028263111798358814 \n"
     ]
    },
    {
     "output_type": "stream",
     "name": "stderr",
     "text": [
      "100%|██████████| 74/74 [00:00<00:00, 134.31it/s]\n",
      "  0%|          | 0/19 [00:00<?, ?it/s]"
     ]
    },
    {
     "output_type": "stream",
     "name": "stdout",
     "text": [
      "\n",
      "Iteration 56/74 of epoch 66 complete. Loss : 0.028407879040709565 \n",
      "\n",
      "Iteration 70/74 of epoch 66 complete. Loss : 0.02795903923522149 \n"
     ]
    },
    {
     "output_type": "stream",
     "name": "stderr",
     "text": [
      "100%|██████████| 19/19 [00:00<00:00, 246.00it/s]\n",
      " 19%|█▉        | 14/74 [00:00<00:00, 137.75it/s]"
     ]
    },
    {
     "output_type": "stream",
     "name": "stdout",
     "text": [
      "\n",
      "Epoch 66 complete! Validation Loss : 0.19862579201397143\n",
      "Epoch 66 complete! Validation Accuracy : 0.9209539473684212\n",
      "\n",
      "Iteration 14/74 of epoch 67 complete. Loss : 0.025666394137910435 \n"
     ]
    },
    {
     "output_type": "stream",
     "name": "stderr",
     "text": [
      " 57%|█████▋    | 42/74 [00:00<00:00, 136.19it/s]"
     ]
    },
    {
     "output_type": "stream",
     "name": "stdout",
     "text": [
      "\n",
      "Iteration 28/74 of epoch 67 complete. Loss : 0.023418704979121685 \n",
      "\n",
      "Iteration 42/74 of epoch 67 complete. Loss : 0.02558060861857874 \n"
     ]
    },
    {
     "output_type": "stream",
     "name": "stderr",
     "text": [
      "100%|██████████| 74/74 [00:00<00:00, 135.00it/s]\n",
      "  0%|          | 0/19 [00:00<?, ?it/s]"
     ]
    },
    {
     "output_type": "stream",
     "name": "stdout",
     "text": [
      "\n",
      "Iteration 56/74 of epoch 67 complete. Loss : 0.02556559237252389 \n",
      "\n",
      "Iteration 70/74 of epoch 67 complete. Loss : 0.024922077810125693 \n"
     ]
    },
    {
     "output_type": "stream",
     "name": "stderr",
     "text": [
      "100%|██████████| 19/19 [00:00<00:00, 244.91it/s]\n",
      " 19%|█▉        | 14/74 [00:00<00:00, 137.57it/s]"
     ]
    },
    {
     "output_type": "stream",
     "name": "stdout",
     "text": [
      "\n",
      "Epoch 67 complete! Validation Loss : 0.19981515917338824\n",
      "Epoch 67 complete! Validation Accuracy : 0.9213651315789475\n",
      "\n",
      "Iteration 14/74 of epoch 68 complete. Loss : 0.022871405551476136 \n"
     ]
    },
    {
     "output_type": "stream",
     "name": "stderr",
     "text": [
      " 57%|█████▋    | 42/74 [00:00<00:00, 135.71it/s]"
     ]
    },
    {
     "output_type": "stream",
     "name": "stdout",
     "text": [
      "\n",
      "Iteration 28/74 of epoch 68 complete. Loss : 0.021114395266132697 \n",
      "\n",
      "Iteration 42/74 of epoch 68 complete. Loss : 0.02288246720231005 \n"
     ]
    },
    {
     "output_type": "stream",
     "name": "stderr",
     "text": [
      "100%|██████████| 74/74 [00:00<00:00, 134.88it/s]\n",
      "  0%|          | 0/19 [00:00<?, ?it/s]"
     ]
    },
    {
     "output_type": "stream",
     "name": "stdout",
     "text": [
      "\n",
      "Iteration 56/74 of epoch 68 complete. Loss : 0.022677394561469555 \n",
      "\n",
      "Iteration 70/74 of epoch 68 complete. Loss : 0.022225876139210805 \n"
     ]
    },
    {
     "output_type": "stream",
     "name": "stderr",
     "text": [
      "100%|██████████| 19/19 [00:00<00:00, 247.80it/s]\n",
      " 19%|█▉        | 14/74 [00:00<00:00, 137.45it/s]"
     ]
    },
    {
     "output_type": "stream",
     "name": "stdout",
     "text": [
      "\n",
      "Epoch 68 complete! Validation Loss : 0.20225268171021812\n",
      "Epoch 68 complete! Validation Accuracy : 0.9217763157894737\n",
      "\n",
      "Iteration 14/74 of epoch 69 complete. Loss : 0.020149031587477242 \n"
     ]
    },
    {
     "output_type": "stream",
     "name": "stderr",
     "text": [
      " 57%|█████▋    | 42/74 [00:00<00:00, 136.28it/s]"
     ]
    },
    {
     "output_type": "stream",
     "name": "stdout",
     "text": [
      "\n",
      "Iteration 28/74 of epoch 69 complete. Loss : 0.018657672684639692 \n",
      "\n",
      "Iteration 42/74 of epoch 69 complete. Loss : 0.020183433579014882 \n"
     ]
    },
    {
     "output_type": "stream",
     "name": "stderr",
     "text": [
      "100%|██████████| 74/74 [00:00<00:00, 135.54it/s]\n",
      "  0%|          | 0/19 [00:00<?, ?it/s]"
     ]
    },
    {
     "output_type": "stream",
     "name": "stdout",
     "text": [
      "\n",
      "Iteration 56/74 of epoch 69 complete. Loss : 0.0199971979350916 \n",
      "\n",
      "Iteration 70/74 of epoch 69 complete. Loss : 0.019566661146070276 \n"
     ]
    },
    {
     "output_type": "stream",
     "name": "stderr",
     "text": [
      "100%|██████████| 19/19 [00:00<00:00, 242.62it/s]\n",
      " 19%|█▉        | 14/74 [00:00<00:00, 138.88it/s]"
     ]
    },
    {
     "output_type": "stream",
     "name": "stdout",
     "text": [
      "\n",
      "Epoch 69 complete! Validation Loss : 0.20469310134649277\n",
      "Epoch 69 complete! Validation Accuracy : 0.9213651315789475\n",
      "\n",
      "Iteration 14/74 of epoch 70 complete. Loss : 0.0176611250665571 \n"
     ]
    },
    {
     "output_type": "stream",
     "name": "stderr",
     "text": [
      " 57%|█████▋    | 42/74 [00:00<00:00, 135.11it/s]"
     ]
    },
    {
     "output_type": "stream",
     "name": "stdout",
     "text": [
      "\n",
      "Iteration 28/74 of epoch 70 complete. Loss : 0.01659780348251973 \n",
      "\n",
      "Iteration 42/74 of epoch 70 complete. Loss : 0.017835144618792192 \n"
     ]
    },
    {
     "output_type": "stream",
     "name": "stderr",
     "text": [
      "100%|██████████| 74/74 [00:00<00:00, 132.72it/s]\n",
      "  0%|          | 0/19 [00:00<?, ?it/s]"
     ]
    },
    {
     "output_type": "stream",
     "name": "stdout",
     "text": [
      "\n",
      "Iteration 56/74 of epoch 70 complete. Loss : 0.017530093368675028 \n",
      "\n",
      "Iteration 70/74 of epoch 70 complete. Loss : 0.017440078846578087 \n"
     ]
    },
    {
     "output_type": "stream",
     "name": "stderr",
     "text": [
      "100%|██████████| 19/19 [00:00<00:00, 244.53it/s]\n",
      " 19%|█▉        | 14/74 [00:00<00:00, 137.74it/s]"
     ]
    },
    {
     "output_type": "stream",
     "name": "stdout",
     "text": [
      "\n",
      "Epoch 70 complete! Validation Loss : 0.2070197584597688\n",
      "Epoch 70 complete! Validation Accuracy : 0.9221875\n",
      "\n",
      "Iteration 14/74 of epoch 71 complete. Loss : 0.015524588990956545 \n"
     ]
    },
    {
     "output_type": "stream",
     "name": "stderr",
     "text": [
      " 57%|█████▋    | 42/74 [00:00<00:00, 136.08it/s]"
     ]
    },
    {
     "output_type": "stream",
     "name": "stdout",
     "text": [
      "\n",
      "Iteration 28/74 of epoch 71 complete. Loss : 0.014744312169828586 \n",
      "\n",
      "Iteration 42/74 of epoch 71 complete. Loss : 0.015609574770288808 \n"
     ]
    },
    {
     "output_type": "stream",
     "name": "stderr",
     "text": [
      "100%|██████████| 74/74 [00:00<00:00, 135.38it/s]\n",
      "  0%|          | 0/19 [00:00<?, ?it/s]"
     ]
    },
    {
     "output_type": "stream",
     "name": "stdout",
     "text": [
      "\n",
      "Iteration 56/74 of epoch 71 complete. Loss : 0.015581859408744745 \n",
      "\n",
      "Iteration 70/74 of epoch 71 complete. Loss : 0.015305293391325645 \n"
     ]
    },
    {
     "output_type": "stream",
     "name": "stderr",
     "text": [
      "100%|██████████| 19/19 [00:00<00:00, 99.42it/s]\n",
      " 19%|█▉        | 14/74 [00:00<00:00, 137.47it/s]"
     ]
    },
    {
     "output_type": "stream",
     "name": "stdout",
     "text": [
      "\n",
      "Epoch 71 complete! Validation Loss : 0.20853149420336672\n",
      "Epoch 71 complete! Validation Accuracy : 0.9207236842105262\n",
      "\n",
      "Iteration 14/74 of epoch 72 complete. Loss : 0.013568592324320759 \n"
     ]
    },
    {
     "output_type": "stream",
     "name": "stderr",
     "text": [
      " 57%|█████▋    | 42/74 [00:00<00:00, 135.46it/s]"
     ]
    },
    {
     "output_type": "stream",
     "name": "stdout",
     "text": [
      "\n",
      "Iteration 28/74 of epoch 72 complete. Loss : 0.013071182450013501 \n",
      "\n",
      "Iteration 42/74 of epoch 72 complete. Loss : 0.013514966537643756 \n"
     ]
    },
    {
     "output_type": "stream",
     "name": "stderr",
     "text": [
      "100%|██████████| 74/74 [00:00<00:00, 135.01it/s]\n",
      "  0%|          | 0/19 [00:00<?, ?it/s]"
     ]
    },
    {
     "output_type": "stream",
     "name": "stdout",
     "text": [
      "\n",
      "Iteration 56/74 of epoch 72 complete. Loss : 0.013659691704171044 \n",
      "\n",
      "Iteration 70/74 of epoch 72 complete. Loss : 0.013714356713795237 \n"
     ]
    },
    {
     "output_type": "stream",
     "name": "stderr",
     "text": [
      "100%|██████████| 19/19 [00:00<00:00, 243.22it/s]\n",
      " 19%|█▉        | 14/74 [00:00<00:00, 135.49it/s]"
     ]
    },
    {
     "output_type": "stream",
     "name": "stdout",
     "text": [
      "\n",
      "Epoch 72 complete! Validation Loss : 0.21075543565185448\n",
      "Epoch 72 complete! Validation Accuracy : 0.9225986842105264\n",
      "\n",
      "Iteration 14/74 of epoch 73 complete. Loss : 0.01177200854622892 \n"
     ]
    },
    {
     "output_type": "stream",
     "name": "stderr",
     "text": [
      " 57%|█████▋    | 42/74 [00:00<00:00, 134.67it/s]"
     ]
    },
    {
     "output_type": "stream",
     "name": "stdout",
     "text": [
      "\n",
      "Iteration 28/74 of epoch 73 complete. Loss : 0.01142529391550592 \n",
      "\n",
      "Iteration 42/74 of epoch 73 complete. Loss : 0.011932372182075466 \n"
     ]
    },
    {
     "output_type": "stream",
     "name": "stderr",
     "text": [
      "100%|██████████| 74/74 [00:00<00:00, 135.32it/s]\n",
      "  0%|          | 0/19 [00:00<?, ?it/s]"
     ]
    },
    {
     "output_type": "stream",
     "name": "stdout",
     "text": [
      "\n",
      "Iteration 56/74 of epoch 73 complete. Loss : 0.011841365502082877 \n",
      "\n",
      "Iteration 70/74 of epoch 73 complete. Loss : 0.011947933551190155 \n"
     ]
    },
    {
     "output_type": "stream",
     "name": "stderr",
     "text": [
      "100%|██████████| 19/19 [00:00<00:00, 246.83it/s]\n",
      " 19%|█▉        | 14/74 [00:00<00:00, 139.15it/s]"
     ]
    },
    {
     "output_type": "stream",
     "name": "stdout",
     "text": [
      "\n",
      "Epoch 73 complete! Validation Loss : 0.21292451259336972\n",
      "Epoch 73 complete! Validation Accuracy : 0.9230098684210527\n",
      "\n",
      "Iteration 14/74 of epoch 74 complete. Loss : 0.010185501804309232 \n"
     ]
    },
    {
     "output_type": "stream",
     "name": "stderr",
     "text": [
      " 57%|█████▋    | 42/74 [00:00<00:00, 136.62it/s]"
     ]
    },
    {
     "output_type": "stream",
     "name": "stdout",
     "text": [
      "\n",
      "Iteration 28/74 of epoch 74 complete. Loss : 0.0099236967840365 \n",
      "\n",
      "Iteration 42/74 of epoch 74 complete. Loss : 0.010383016862241285 \n"
     ]
    },
    {
     "output_type": "stream",
     "name": "stderr",
     "text": [
      "100%|██████████| 74/74 [00:00<00:00, 135.59it/s]\n",
      "  0%|          | 0/19 [00:00<?, ?it/s]"
     ]
    },
    {
     "output_type": "stream",
     "name": "stdout",
     "text": [
      "\n",
      "Iteration 56/74 of epoch 74 complete. Loss : 0.010251211867268597 \n",
      "\n",
      "Iteration 70/74 of epoch 74 complete. Loss : 0.010364455037883349 \n"
     ]
    },
    {
     "output_type": "stream",
     "name": "stderr",
     "text": [
      "100%|██████████| 19/19 [00:00<00:00, 241.26it/s]\n",
      " 19%|█▉        | 14/74 [00:00<00:00, 137.61it/s]"
     ]
    },
    {
     "output_type": "stream",
     "name": "stdout",
     "text": [
      "\n",
      "Epoch 74 complete! Validation Loss : 0.21620185241887444\n",
      "Epoch 74 complete! Validation Accuracy : 0.9242434210526317\n",
      "\n",
      "Iteration 14/74 of epoch 75 complete. Loss : 0.00901187613739499 \n"
     ]
    },
    {
     "output_type": "stream",
     "name": "stderr",
     "text": [
      " 57%|█████▋    | 42/74 [00:00<00:00, 137.11it/s]"
     ]
    },
    {
     "output_type": "stream",
     "name": "stdout",
     "text": [
      "\n",
      "Iteration 28/74 of epoch 75 complete. Loss : 0.008543365568454777 \n",
      "\n",
      "Iteration 42/74 of epoch 75 complete. Loss : 0.009111368962164437 \n"
     ]
    },
    {
     "output_type": "stream",
     "name": "stderr",
     "text": [
      "100%|██████████| 74/74 [00:00<00:00, 137.13it/s]\n",
      "  0%|          | 0/19 [00:00<?, ?it/s]"
     ]
    },
    {
     "output_type": "stream",
     "name": "stdout",
     "text": [
      "\n",
      "Iteration 56/74 of epoch 75 complete. Loss : 0.008886404900944658 \n",
      "\n",
      "Iteration 70/74 of epoch 75 complete. Loss : 0.009045157648090805 \n"
     ]
    },
    {
     "output_type": "stream",
     "name": "stderr",
     "text": [
      "100%|██████████| 19/19 [00:00<00:00, 245.53it/s]\n",
      " 19%|█▉        | 14/74 [00:00<00:00, 137.27it/s]"
     ]
    },
    {
     "output_type": "stream",
     "name": "stdout",
     "text": [
      "\n",
      "Epoch 75 complete! Validation Loss : 0.2200542351132945\n",
      "Epoch 75 complete! Validation Accuracy : 0.9225986842105264\n",
      "\n",
      "Iteration 14/74 of epoch 76 complete. Loss : 0.00796479289419949 \n"
     ]
    },
    {
     "output_type": "stream",
     "name": "stderr",
     "text": [
      " 57%|█████▋    | 42/74 [00:00<00:00, 136.01it/s]"
     ]
    },
    {
     "output_type": "stream",
     "name": "stdout",
     "text": [
      "\n",
      "Iteration 28/74 of epoch 76 complete. Loss : 0.007531922842775073 \n",
      "\n",
      "Iteration 42/74 of epoch 76 complete. Loss : 0.00791449352566685 \n"
     ]
    },
    {
     "output_type": "stream",
     "name": "stderr",
     "text": [
      "100%|██████████| 74/74 [00:00<00:00, 135.16it/s]\n",
      "  0%|          | 0/19 [00:00<?, ?it/s]"
     ]
    },
    {
     "output_type": "stream",
     "name": "stdout",
     "text": [
      "\n",
      "Iteration 56/74 of epoch 76 complete. Loss : 0.007793576024206621 \n",
      "\n",
      "Iteration 70/74 of epoch 76 complete. Loss : 0.008063298550301365 \n"
     ]
    },
    {
     "output_type": "stream",
     "name": "stderr",
     "text": [
      "100%|██████████| 19/19 [00:00<00:00, 241.81it/s]\n",
      " 19%|█▉        | 14/74 [00:00<00:00, 136.82it/s]"
     ]
    },
    {
     "output_type": "stream",
     "name": "stdout",
     "text": [
      "\n",
      "Epoch 76 complete! Validation Loss : 0.22492911431350207\n",
      "Epoch 76 complete! Validation Accuracy : 0.9230098684210527\n",
      "\n",
      "Iteration 14/74 of epoch 77 complete. Loss : 0.007050661336896675 \n"
     ]
    },
    {
     "output_type": "stream",
     "name": "stderr",
     "text": [
      " 69%|██████▉   | 51/74 [00:00<00:00, 125.66it/s]"
     ]
    },
    {
     "output_type": "stream",
     "name": "stdout",
     "text": [
      "\n",
      "Iteration 28/74 of epoch 77 complete. Loss : 0.006633000914007425 \n",
      "\n",
      "Iteration 42/74 of epoch 77 complete. Loss : 0.006791215389966965 \n"
     ]
    },
    {
     "output_type": "stream",
     "name": "stderr",
     "text": [
      "100%|██████████| 74/74 [00:00<00:00, 124.21it/s]\n",
      "  0%|          | 0/19 [00:00<?, ?it/s]"
     ]
    },
    {
     "output_type": "stream",
     "name": "stdout",
     "text": [
      "\n",
      "Iteration 56/74 of epoch 77 complete. Loss : 0.0067945394299126095 \n",
      "\n",
      "Iteration 70/74 of epoch 77 complete. Loss : 0.0070493964677942654 \n"
     ]
    },
    {
     "output_type": "stream",
     "name": "stderr",
     "text": [
      "100%|██████████| 19/19 [00:00<00:00, 220.71it/s]\n",
      " 18%|█▊        | 13/74 [00:00<00:00, 121.99it/s]"
     ]
    },
    {
     "output_type": "stream",
     "name": "stdout",
     "text": [
      "\n",
      "Epoch 77 complete! Validation Loss : 0.23228711634874344\n",
      "Epoch 77 complete! Validation Accuracy : 0.9225986842105264\n",
      "\n",
      "Iteration 14/74 of epoch 78 complete. Loss : 0.0062904576770961285 \n"
     ]
    },
    {
     "output_type": "stream",
     "name": "stderr",
     "text": [
      " 73%|███████▎  | 54/74 [00:00<00:00, 128.94it/s]"
     ]
    },
    {
     "output_type": "stream",
     "name": "stdout",
     "text": [
      "\n",
      "Iteration 28/74 of epoch 78 complete. Loss : 0.0058262467251292294 \n",
      "\n",
      "Iteration 42/74 of epoch 78 complete. Loss : 0.005793220346926579 \n"
     ]
    },
    {
     "output_type": "stream",
     "name": "stderr",
     "text": [
      "100%|██████████| 74/74 [00:00<00:00, 130.40it/s]\n",
      "  0%|          | 0/19 [00:00<?, ?it/s]"
     ]
    },
    {
     "output_type": "stream",
     "name": "stdout",
     "text": [
      "\n",
      "Iteration 56/74 of epoch 78 complete. Loss : 0.006067349425783115 \n",
      "\n",
      "Iteration 70/74 of epoch 78 complete. Loss : 0.006264518730209342 \n"
     ]
    },
    {
     "output_type": "stream",
     "name": "stderr",
     "text": [
      "100%|██████████| 19/19 [00:00<00:00, 243.17it/s]\n",
      " 20%|██        | 15/74 [00:00<00:00, 143.48it/s]"
     ]
    },
    {
     "output_type": "stream",
     "name": "stdout",
     "text": [
      "\n",
      "Epoch 78 complete! Validation Loss : 0.24652648560310664\n",
      "Epoch 78 complete! Validation Accuracy : 0.9215460526315788\n",
      "\n",
      "Iteration 14/74 of epoch 79 complete. Loss : 0.006173946362520967 \n",
      "\n",
      "Iteration 28/74 of epoch 79 complete. Loss : 0.005393429376584079 \n"
     ]
    },
    {
     "output_type": "stream",
     "name": "stderr",
     "text": [
      " 77%|███████▋  | 57/74 [00:00<00:00, 140.10it/s]"
     ]
    },
    {
     "output_type": "stream",
     "name": "stdout",
     "text": [
      "\n",
      "Iteration 42/74 of epoch 79 complete. Loss : 0.00528243461823357 \n",
      "\n",
      "Iteration 56/74 of epoch 79 complete. Loss : 0.005741388287528285 \n",
      "\n",
      "Iteration 70/74 of epoch 79 complete. Loss : 0.005915854309153344 \n"
     ]
    },
    {
     "output_type": "stream",
     "name": "stderr",
     "text": [
      "100%|██████████| 74/74 [00:00<00:00, 139.15it/s]\n",
      "100%|██████████| 19/19 [00:00<00:00, 246.98it/s]\n",
      " 19%|█▉        | 14/74 [00:00<00:00, 138.75it/s]"
     ]
    },
    {
     "output_type": "stream",
     "name": "stdout",
     "text": [
      "\n",
      "Epoch 79 complete! Validation Loss : 0.26751285399261276\n",
      "Epoch 79 complete! Validation Accuracy : 0.9186677631578947\n",
      "\n",
      "Iteration 14/74 of epoch 80 complete. Loss : 0.006654312202174749 \n"
     ]
    },
    {
     "output_type": "stream",
     "name": "stderr",
     "text": [
      " 57%|█████▋    | 42/74 [00:00<00:00, 136.29it/s]"
     ]
    },
    {
     "output_type": "stream",
     "name": "stdout",
     "text": [
      "\n",
      "Iteration 28/74 of epoch 80 complete. Loss : 0.005340162099206022 \n",
      "\n",
      "Iteration 42/74 of epoch 80 complete. Loss : 0.00527119731330978 \n"
     ]
    },
    {
     "output_type": "stream",
     "name": "stderr",
     "text": [
      "100%|██████████| 74/74 [00:00<00:00, 135.26it/s]\n",
      "  0%|          | 0/19 [00:00<?, ?it/s]"
     ]
    },
    {
     "output_type": "stream",
     "name": "stdout",
     "text": [
      "\n",
      "Iteration 56/74 of epoch 80 complete. Loss : 0.0058511694660410285 \n",
      "\n",
      "Iteration 70/74 of epoch 80 complete. Loss : 0.0059561498762507525 \n"
     ]
    },
    {
     "output_type": "stream",
     "name": "stderr",
     "text": [
      "100%|██████████| 19/19 [00:00<00:00, 245.61it/s]\n",
      " 19%|█▉        | 14/74 [00:00<00:00, 138.13it/s]"
     ]
    },
    {
     "output_type": "stream",
     "name": "stdout",
     "text": [
      "\n",
      "Epoch 80 complete! Validation Loss : 0.2888299054221103\n",
      "Epoch 80 complete! Validation Accuracy : 0.9145559210526315\n",
      "\n",
      "Iteration 14/74 of epoch 81 complete. Loss : 0.007120967925792294 \n"
     ]
    },
    {
     "output_type": "stream",
     "name": "stderr",
     "text": [
      " 57%|█████▋    | 42/74 [00:00<00:00, 135.67it/s]"
     ]
    },
    {
     "output_type": "stream",
     "name": "stdout",
     "text": [
      "\n",
      "Iteration 28/74 of epoch 81 complete. Loss : 0.005274609945315335 \n",
      "\n",
      "Iteration 42/74 of epoch 81 complete. Loss : 0.005367486870714596 \n"
     ]
    },
    {
     "output_type": "stream",
     "name": "stderr",
     "text": [
      "100%|██████████| 74/74 [00:00<00:00, 132.06it/s]\n",
      "  0%|          | 0/19 [00:00<?, ?it/s]"
     ]
    },
    {
     "output_type": "stream",
     "name": "stdout",
     "text": [
      "\n",
      "Iteration 56/74 of epoch 81 complete. Loss : 0.0059487644383417705 \n",
      "\n",
      "Iteration 70/74 of epoch 81 complete. Loss : 0.006068311482002693 \n"
     ]
    },
    {
     "output_type": "stream",
     "name": "stderr",
     "text": [
      "100%|██████████| 19/19 [00:00<00:00, 243.82it/s]\n",
      " 19%|█▉        | 14/74 [00:00<00:00, 134.06it/s]"
     ]
    },
    {
     "output_type": "stream",
     "name": "stdout",
     "text": [
      "\n",
      "Epoch 81 complete! Validation Loss : 0.30904199653550196\n",
      "Epoch 81 complete! Validation Accuracy : 0.9104440789473683\n",
      "\n",
      "Iteration 14/74 of epoch 82 complete. Loss : 0.007751855383893209 \n"
     ]
    },
    {
     "output_type": "stream",
     "name": "stderr",
     "text": [
      " 57%|█████▋    | 42/74 [00:00<00:00, 134.35it/s]"
     ]
    },
    {
     "output_type": "stream",
     "name": "stdout",
     "text": [
      "\n",
      "Iteration 28/74 of epoch 82 complete. Loss : 0.005294566558274839 \n",
      "\n",
      "Iteration 42/74 of epoch 82 complete. Loss : 0.005887635085465652 \n"
     ]
    },
    {
     "output_type": "stream",
     "name": "stderr",
     "text": [
      "100%|██████████| 74/74 [00:00<00:00, 134.27it/s]\n",
      "  0%|          | 0/19 [00:00<?, ?it/s]"
     ]
    },
    {
     "output_type": "stream",
     "name": "stdout",
     "text": [
      "\n",
      "Iteration 56/74 of epoch 82 complete. Loss : 0.006237703940964171 \n",
      "\n",
      "Iteration 70/74 of epoch 82 complete. Loss : 0.006432398330486778 \n"
     ]
    },
    {
     "output_type": "stream",
     "name": "stderr",
     "text": [
      "100%|██████████| 19/19 [00:00<00:00, 243.02it/s]\n",
      "  0%|          | 0/74 [00:00<?, ?it/s]"
     ]
    },
    {
     "output_type": "stream",
     "name": "stdout",
     "text": [
      "\n",
      "Epoch 82 complete! Validation Loss : 0.32240336270708786\n",
      "Epoch 82 complete! Validation Accuracy : 0.908799342105263\n"
     ]
    },
    {
     "output_type": "stream",
     "name": "stderr",
     "text": [
      " 45%|████▍     | 33/74 [00:00<00:01, 40.63it/s]"
     ]
    },
    {
     "output_type": "stream",
     "name": "stdout",
     "text": [
      "\n",
      "Iteration 14/74 of epoch 83 complete. Loss : 0.008677878866105207 \n",
      "\n",
      "Iteration 28/74 of epoch 83 complete. Loss : 0.005678562098182738 \n"
     ]
    },
    {
     "output_type": "stream",
     "name": "stderr",
     "text": [
      " 81%|████████  | 60/74 [00:00<00:00, 62.40it/s]"
     ]
    },
    {
     "output_type": "stream",
     "name": "stdout",
     "text": [
      "\n",
      "Iteration 42/74 of epoch 83 complete. Loss : 0.006325437354722193 \n",
      "\n",
      "Iteration 56/74 of epoch 83 complete. Loss : 0.006237300661658602 \n"
     ]
    },
    {
     "output_type": "stream",
     "name": "stderr",
     "text": [
      "100%|██████████| 74/74 [00:00<00:00, 100.95it/s]\n",
      "100%|██████████| 19/19 [00:00<00:00, 242.34it/s]\n",
      "  0%|          | 0/74 [00:00<?, ?it/s]"
     ]
    },
    {
     "output_type": "stream",
     "name": "stdout",
     "text": [
      "\n",
      "Iteration 70/74 of epoch 83 complete. Loss : 0.007013587197954101 \n",
      "\n",
      "Epoch 83 complete! Validation Loss : 0.32992217023121684\n",
      "Epoch 83 complete! Validation Accuracy : 0.9092105263157894\n"
     ]
    },
    {
     "output_type": "stream",
     "name": "stderr",
     "text": [
      " 38%|███▊      | 28/74 [00:00<00:00, 136.68it/s]"
     ]
    },
    {
     "output_type": "stream",
     "name": "stdout",
     "text": [
      "\n",
      "Iteration 14/74 of epoch 84 complete. Loss : 0.010100924310141377 \n",
      "\n",
      "Iteration 28/74 of epoch 84 complete. Loss : 0.006929054157808423 \n"
     ]
    },
    {
     "output_type": "stream",
     "name": "stderr",
     "text": [
      " 74%|███████▍  | 55/74 [00:00<00:00, 133.33it/s]"
     ]
    },
    {
     "output_type": "stream",
     "name": "stdout",
     "text": [
      "\n",
      "Iteration 42/74 of epoch 84 complete. Loss : 0.007445052498951554 \n",
      "\n",
      "Iteration 56/74 of epoch 84 complete. Loss : 0.006600059252897543 \n"
     ]
    },
    {
     "output_type": "stream",
     "name": "stderr",
     "text": [
      "100%|██████████| 74/74 [00:00<00:00, 132.98it/s]\n",
      "100%|██████████| 19/19 [00:00<00:00, 244.50it/s]\n",
      "  0%|          | 0/74 [00:00<?, ?it/s]"
     ]
    },
    {
     "output_type": "stream",
     "name": "stdout",
     "text": [
      "\n",
      "Iteration 70/74 of epoch 84 complete. Loss : 0.006869214537021305 \n",
      "\n",
      "Epoch 84 complete! Validation Loss : 0.2987826035210961\n",
      "Epoch 84 complete! Validation Accuracy : 0.9170230263157894\n"
     ]
    },
    {
     "output_type": "stream",
     "name": "stderr",
     "text": [
      " 36%|███▋      | 27/74 [00:00<00:00, 132.96it/s]"
     ]
    },
    {
     "output_type": "stream",
     "name": "stdout",
     "text": [
      "\n",
      "Iteration 14/74 of epoch 85 complete. Loss : 0.010028993976967675 \n",
      "\n",
      "Iteration 28/74 of epoch 85 complete. Loss : 0.012828064783077155 \n"
     ]
    },
    {
     "output_type": "stream",
     "name": "stderr",
     "text": [
      " 92%|█████████▏| 68/74 [00:00<00:00, 131.29it/s]"
     ]
    },
    {
     "output_type": "stream",
     "name": "stdout",
     "text": [
      "\n",
      "Iteration 42/74 of epoch 85 complete. Loss : 0.009066260220216853 \n",
      "\n",
      "Iteration 56/74 of epoch 85 complete. Loss : 0.007421182801148721 \n"
     ]
    },
    {
     "output_type": "stream",
     "name": "stderr",
     "text": [
      "100%|██████████| 74/74 [00:00<00:00, 131.25it/s]\n",
      "100%|██████████| 19/19 [00:00<00:00, 243.15it/s]\n",
      "  0%|          | 0/74 [00:00<?, ?it/s]"
     ]
    },
    {
     "output_type": "stream",
     "name": "stdout",
     "text": [
      "\n",
      "Iteration 70/74 of epoch 85 complete. Loss : 0.005759467420700405 \n",
      "\n",
      "Epoch 85 complete! Validation Loss : 0.2725459674471303\n",
      "Epoch 85 complete! Validation Accuracy : 0.9205427631578948\n"
     ]
    },
    {
     "output_type": "stream",
     "name": "stderr",
     "text": [
      " 38%|███▊      | 28/74 [00:00<00:00, 134.15it/s]"
     ]
    },
    {
     "output_type": "stream",
     "name": "stdout",
     "text": [
      "\n",
      "Iteration 14/74 of epoch 86 complete. Loss : 0.005809314307823245 \n",
      "\n",
      "Iteration 28/74 of epoch 86 complete. Loss : 0.014755678778913404 \n"
     ]
    },
    {
     "output_type": "stream",
     "name": "stderr",
     "text": [
      " 76%|███████▌  | 56/74 [00:00<00:00, 133.50it/s]"
     ]
    },
    {
     "output_type": "stream",
     "name": "stdout",
     "text": [
      "\n",
      "Iteration 42/74 of epoch 86 complete. Loss : 0.0220646308735013 \n",
      "\n",
      "Iteration 56/74 of epoch 86 complete. Loss : 0.018812937462436303 \n"
     ]
    },
    {
     "output_type": "stream",
     "name": "stderr",
     "text": [
      "100%|██████████| 74/74 [00:00<00:00, 133.80it/s]\n",
      "100%|██████████| 19/19 [00:00<00:00, 244.29it/s]\n",
      "  0%|          | 0/74 [00:00<?, ?it/s]"
     ]
    },
    {
     "output_type": "stream",
     "name": "stdout",
     "text": [
      "\n",
      "Iteration 70/74 of epoch 86 complete. Loss : 0.011461472604423761 \n",
      "\n",
      "Epoch 86 complete! Validation Loss : 0.25624347242869827\n",
      "Epoch 86 complete! Validation Accuracy : 0.9236513157894738\n"
     ]
    },
    {
     "output_type": "stream",
     "name": "stderr",
     "text": [
      " 38%|███▊      | 28/74 [00:00<00:00, 132.89it/s]"
     ]
    },
    {
     "output_type": "stream",
     "name": "stdout",
     "text": [
      "\n",
      "Iteration 14/74 of epoch 87 complete. Loss : 0.010654956052478935 \n",
      "\n",
      "Iteration 28/74 of epoch 87 complete. Loss : 0.017721853252234205 \n"
     ]
    },
    {
     "output_type": "stream",
     "name": "stderr",
     "text": [
      " 76%|███████▌  | 56/74 [00:00<00:00, 133.10it/s]"
     ]
    },
    {
     "output_type": "stream",
     "name": "stdout",
     "text": [
      "\n",
      "Iteration 42/74 of epoch 87 complete. Loss : 0.02496647655165621 \n",
      "\n",
      "Iteration 56/74 of epoch 87 complete. Loss : 0.02876206537309502 \n"
     ]
    },
    {
     "output_type": "stream",
     "name": "stderr",
     "text": [
      "100%|██████████| 74/74 [00:00<00:00, 133.03it/s]\n",
      "100%|██████████| 19/19 [00:00<00:00, 241.99it/s]\n",
      "  0%|          | 0/74 [00:00<?, ?it/s]"
     ]
    },
    {
     "output_type": "stream",
     "name": "stdout",
     "text": [
      "\n",
      "Iteration 70/74 of epoch 87 complete. Loss : 0.015225796378217638 \n",
      "\n",
      "Epoch 87 complete! Validation Loss : 0.29685193770810175\n",
      "Epoch 87 complete! Validation Accuracy : 0.9133223684210525\n"
     ]
    },
    {
     "output_type": "stream",
     "name": "stderr",
     "text": [
      " 38%|███▊      | 28/74 [00:00<00:00, 133.66it/s]"
     ]
    },
    {
     "output_type": "stream",
     "name": "stdout",
     "text": [
      "\n",
      "Iteration 14/74 of epoch 88 complete. Loss : 0.008455628961590784 \n",
      "\n",
      "Iteration 28/74 of epoch 88 complete. Loss : 0.006737995194271207 \n"
     ]
    },
    {
     "output_type": "stream",
     "name": "stderr",
     "text": [
      " 76%|███████▌  | 56/74 [00:00<00:00, 133.58it/s]"
     ]
    },
    {
     "output_type": "stream",
     "name": "stdout",
     "text": [
      "\n",
      "Iteration 42/74 of epoch 88 complete. Loss : 0.011044751919273819 \n",
      "\n",
      "Iteration 56/74 of epoch 88 complete. Loss : 0.0135527052251356 \n"
     ]
    },
    {
     "output_type": "stream",
     "name": "stderr",
     "text": [
      "100%|██████████| 74/74 [00:00<00:00, 133.39it/s]\n",
      "100%|██████████| 19/19 [00:00<00:00, 241.87it/s]\n",
      "  0%|          | 0/74 [00:00<?, ?it/s]"
     ]
    },
    {
     "output_type": "stream",
     "name": "stdout",
     "text": [
      "\n",
      "Iteration 70/74 of epoch 88 complete. Loss : 0.011684115111295666 \n",
      "\n",
      "Epoch 88 complete! Validation Loss : 0.2809120902889653\n",
      "Epoch 88 complete! Validation Accuracy : 0.9205427631578948\n"
     ]
    },
    {
     "output_type": "stream",
     "name": "stderr",
     "text": [
      " 38%|███▊      | 28/74 [00:00<00:00, 133.12it/s]"
     ]
    },
    {
     "output_type": "stream",
     "name": "stdout",
     "text": [
      "\n",
      "Iteration 14/74 of epoch 89 complete. Loss : 0.011813545233703085 \n",
      "\n",
      "Iteration 28/74 of epoch 89 complete. Loss : 0.014738670234302325 \n"
     ]
    },
    {
     "output_type": "stream",
     "name": "stderr",
     "text": [
      " 76%|███████▌  | 56/74 [00:00<00:00, 133.25it/s]"
     ]
    },
    {
     "output_type": "stream",
     "name": "stdout",
     "text": [
      "\n",
      "Iteration 42/74 of epoch 89 complete. Loss : 0.015319782392387944 \n",
      "\n",
      "Iteration 56/74 of epoch 89 complete. Loss : 0.025203493307344615 \n"
     ]
    },
    {
     "output_type": "stream",
     "name": "stderr",
     "text": [
      "100%|██████████| 74/74 [00:00<00:00, 133.54it/s]\n",
      "100%|██████████| 19/19 [00:00<00:00, 243.98it/s]\n",
      "  0%|          | 0/74 [00:00<?, ?it/s]"
     ]
    },
    {
     "output_type": "stream",
     "name": "stdout",
     "text": [
      "\n",
      "Iteration 70/74 of epoch 89 complete. Loss : 0.015108456436012472 \n",
      "\n",
      "Epoch 89 complete! Validation Loss : 0.2917841225862503\n",
      "Epoch 89 complete! Validation Accuracy : 0.9170230263157894\n"
     ]
    },
    {
     "output_type": "stream",
     "name": "stderr",
     "text": [
      " 38%|███▊      | 28/74 [00:00<00:00, 134.36it/s]"
     ]
    },
    {
     "output_type": "stream",
     "name": "stdout",
     "text": [
      "\n",
      "Iteration 14/74 of epoch 90 complete. Loss : 0.016025184936422323 \n",
      "\n",
      "Iteration 28/74 of epoch 90 complete. Loss : 0.014685851887666754 \n"
     ]
    },
    {
     "output_type": "stream",
     "name": "stderr",
     "text": [
      " 76%|███████▌  | 56/74 [00:00<00:00, 133.04it/s]"
     ]
    },
    {
     "output_type": "stream",
     "name": "stdout",
     "text": [
      "\n",
      "Iteration 42/74 of epoch 90 complete. Loss : 0.019050515007360706 \n",
      "\n",
      "Iteration 56/74 of epoch 90 complete. Loss : 0.021664089024333016 \n"
     ]
    },
    {
     "output_type": "stream",
     "name": "stderr",
     "text": [
      "100%|██████████| 74/74 [00:00<00:00, 132.48it/s]\n",
      "100%|██████████| 19/19 [00:00<00:00, 242.17it/s]\n",
      "  0%|          | 0/74 [00:00<?, ?it/s]"
     ]
    },
    {
     "output_type": "stream",
     "name": "stdout",
     "text": [
      "\n",
      "Iteration 70/74 of epoch 90 complete. Loss : 0.0286846207288493 \n",
      "\n",
      "Epoch 90 complete! Validation Loss : 0.42568668409397725\n",
      "Epoch 90 complete! Validation Accuracy : 0.8941776315789474\n"
     ]
    },
    {
     "output_type": "stream",
     "name": "stderr",
     "text": [
      " 38%|███▊      | 28/74 [00:00<00:00, 135.37it/s]"
     ]
    },
    {
     "output_type": "stream",
     "name": "stdout",
     "text": [
      "\n",
      "Iteration 14/74 of epoch 91 complete. Loss : 0.044557205035484264 \n",
      "\n",
      "Iteration 28/74 of epoch 91 complete. Loss : 0.03491012688859233 \n"
     ]
    },
    {
     "output_type": "stream",
     "name": "stderr",
     "text": [
      " 76%|███████▌  | 56/74 [00:00<00:00, 134.23it/s]"
     ]
    },
    {
     "output_type": "stream",
     "name": "stdout",
     "text": [
      "\n",
      "Iteration 42/74 of epoch 91 complete. Loss : 0.022352166157881066 \n",
      "\n",
      "Iteration 56/74 of epoch 91 complete. Loss : 0.01999407328133072 \n"
     ]
    },
    {
     "output_type": "stream",
     "name": "stderr",
     "text": [
      "100%|██████████| 74/74 [00:00<00:00, 133.74it/s]\n",
      "100%|██████████| 19/19 [00:00<00:00, 239.49it/s]\n",
      "  0%|          | 0/74 [00:00<?, ?it/s]"
     ]
    },
    {
     "output_type": "stream",
     "name": "stdout",
     "text": [
      "\n",
      "Iteration 70/74 of epoch 91 complete. Loss : 0.020863545276889845 \n",
      "\n",
      "Epoch 91 complete! Validation Loss : 0.2642530296978198\n",
      "Epoch 91 complete! Validation Accuracy : 0.924654605263158\n"
     ]
    },
    {
     "output_type": "stream",
     "name": "stderr",
     "text": [
      " 38%|███▊      | 28/74 [00:00<00:00, 136.34it/s]"
     ]
    },
    {
     "output_type": "stream",
     "name": "stdout",
     "text": [
      "\n",
      "Iteration 14/74 of epoch 92 complete. Loss : 0.011251943302340806 \n",
      "\n",
      "Iteration 28/74 of epoch 92 complete. Loss : 0.009733321527684373 \n"
     ]
    },
    {
     "output_type": "stream",
     "name": "stderr",
     "text": [
      " 76%|███████▌  | 56/74 [00:00<00:00, 134.57it/s]"
     ]
    },
    {
     "output_type": "stream",
     "name": "stdout",
     "text": [
      "\n",
      "Iteration 42/74 of epoch 92 complete. Loss : 0.00768903860755797 \n",
      "\n",
      "Iteration 56/74 of epoch 92 complete. Loss : 0.00598382599751598 \n"
     ]
    },
    {
     "output_type": "stream",
     "name": "stderr",
     "text": [
      "100%|██████████| 74/74 [00:00<00:00, 132.93it/s]\n",
      "100%|██████████| 19/19 [00:00<00:00, 241.90it/s]"
     ]
    },
    {
     "output_type": "stream",
     "name": "stdout",
     "text": [
      "\n",
      "Iteration 70/74 of epoch 92 complete. Loss : 0.0032423355566736844 \n",
      "\n",
      "Epoch 92 complete! Validation Loss : 0.25908921815847097\n",
      "Epoch 92 complete! Validation Accuracy : 0.9211348684210525\n"
     ]
    },
    {
     "output_type": "stream",
     "name": "stderr",
     "text": [
      "\n",
      " 38%|███▊      | 28/74 [00:00<00:00, 133.77it/s]"
     ]
    },
    {
     "output_type": "stream",
     "name": "stdout",
     "text": [
      "\n",
      "Iteration 14/74 of epoch 93 complete. Loss : 0.003086329562523003 \n",
      "\n",
      "Iteration 28/74 of epoch 93 complete. Loss : 0.003184880579023489 \n"
     ]
    },
    {
     "output_type": "stream",
     "name": "stderr",
     "text": [
      " 76%|███████▌  | 56/74 [00:00<00:00, 132.74it/s]"
     ]
    },
    {
     "output_type": "stream",
     "name": "stdout",
     "text": [
      "\n",
      "Iteration 42/74 of epoch 93 complete. Loss : 0.0022726618252428515 \n",
      "\n",
      "Iteration 56/74 of epoch 93 complete. Loss : 0.0017982964220988964 \n"
     ]
    },
    {
     "output_type": "stream",
     "name": "stderr",
     "text": [
      "100%|██████████| 74/74 [00:00<00:00, 133.08it/s]\n",
      "100%|██████████| 19/19 [00:00<00:00, 245.17it/s]\n",
      "  0%|          | 0/74 [00:00<?, ?it/s]"
     ]
    },
    {
     "output_type": "stream",
     "name": "stdout",
     "text": [
      "\n",
      "Iteration 70/74 of epoch 93 complete. Loss : 0.0017578559137681232 \n",
      "\n",
      "Epoch 93 complete! Validation Loss : 0.26253656493990046\n",
      "Epoch 93 complete! Validation Accuracy : 0.9225986842105264\n"
     ]
    },
    {
     "output_type": "stream",
     "name": "stderr",
     "text": [
      " 38%|███▊      | 28/74 [00:00<00:00, 134.92it/s]"
     ]
    },
    {
     "output_type": "stream",
     "name": "stdout",
     "text": [
      "\n",
      "Iteration 14/74 of epoch 94 complete. Loss : 0.0016973880119621754 \n",
      "\n",
      "Iteration 28/74 of epoch 94 complete. Loss : 0.001555251153019656 \n"
     ]
    },
    {
     "output_type": "stream",
     "name": "stderr",
     "text": [
      " 85%|████████▌ | 63/74 [00:00<00:00, 101.02it/s]"
     ]
    },
    {
     "output_type": "stream",
     "name": "stdout",
     "text": [
      "\n",
      "Iteration 42/74 of epoch 94 complete. Loss : 0.0013927844826996858 \n",
      "\n",
      "Iteration 56/74 of epoch 94 complete. Loss : 0.0013747007137031428 \n"
     ]
    },
    {
     "output_type": "stream",
     "name": "stderr",
     "text": [
      "100%|██████████| 74/74 [00:00<00:00, 110.64it/s]\n",
      "100%|██████████| 19/19 [00:00<00:00, 234.94it/s]\n",
      "  0%|          | 0/74 [00:00<?, ?it/s]"
     ]
    },
    {
     "output_type": "stream",
     "name": "stdout",
     "text": [
      "\n",
      "Iteration 70/74 of epoch 94 complete. Loss : 0.001290540531044826 \n",
      "\n",
      "Epoch 94 complete! Validation Loss : 0.2676895245125419\n",
      "Epoch 94 complete! Validation Accuracy : 0.9225986842105264\n"
     ]
    },
    {
     "output_type": "stream",
     "name": "stderr",
     "text": [
      " 38%|███▊      | 28/74 [00:00<00:00, 133.31it/s]"
     ]
    },
    {
     "output_type": "stream",
     "name": "stdout",
     "text": [
      "\n",
      "Iteration 14/74 of epoch 95 complete. Loss : 0.0014588720140246941 \n",
      "\n",
      "Iteration 28/74 of epoch 95 complete. Loss : 0.001252115163619497 \n"
     ]
    },
    {
     "output_type": "stream",
     "name": "stderr",
     "text": [
      " 76%|███████▌  | 56/74 [00:00<00:00, 133.02it/s]"
     ]
    },
    {
     "output_type": "stream",
     "name": "stdout",
     "text": [
      "\n",
      "Iteration 42/74 of epoch 95 complete. Loss : 0.0012073821354923503 \n",
      "\n",
      "Iteration 56/74 of epoch 95 complete. Loss : 0.0011695773365707801 \n"
     ]
    },
    {
     "output_type": "stream",
     "name": "stderr",
     "text": [
      "100%|██████████| 74/74 [00:00<00:00, 132.60it/s]\n",
      "100%|██████████| 19/19 [00:00<00:00, 243.08it/s]\n",
      "  0%|          | 0/74 [00:00<?, ?it/s]"
     ]
    },
    {
     "output_type": "stream",
     "name": "stdout",
     "text": [
      "\n",
      "Iteration 70/74 of epoch 95 complete. Loss : 0.0011507202538528613 \n",
      "\n",
      "Epoch 95 complete! Validation Loss : 0.27002507212914917\n",
      "Epoch 95 complete! Validation Accuracy : 0.9221875\n"
     ]
    },
    {
     "output_type": "stream",
     "name": "stderr",
     "text": [
      " 38%|███▊      | 28/74 [00:00<00:00, 133.69it/s]"
     ]
    },
    {
     "output_type": "stream",
     "name": "stdout",
     "text": [
      "\n",
      "Iteration 14/74 of epoch 96 complete. Loss : 0.0012466076129515255 \n",
      "\n",
      "Iteration 28/74 of epoch 96 complete. Loss : 0.0011027603593122745 \n"
     ]
    },
    {
     "output_type": "stream",
     "name": "stderr",
     "text": [
      " 76%|███████▌  | 56/74 [00:00<00:00, 133.56it/s]"
     ]
    },
    {
     "output_type": "stream",
     "name": "stdout",
     "text": [
      "\n",
      "Iteration 42/74 of epoch 96 complete. Loss : 0.001090748144114124 \n",
      "\n",
      "Iteration 56/74 of epoch 96 complete. Loss : 0.0010697056422941387 \n"
     ]
    },
    {
     "output_type": "stream",
     "name": "stderr",
     "text": [
      "100%|██████████| 74/74 [00:00<00:00, 133.47it/s]\n",
      "100%|██████████| 19/19 [00:00<00:00, 241.72it/s]\n",
      "  0%|          | 0/74 [00:00<?, ?it/s]"
     ]
    },
    {
     "output_type": "stream",
     "name": "stdout",
     "text": [
      "\n",
      "Iteration 70/74 of epoch 96 complete. Loss : 0.0010615152298539346 \n",
      "\n",
      "Epoch 96 complete! Validation Loss : 0.27290562657933487\n",
      "Epoch 96 complete! Validation Accuracy : 0.9230098684210527\n"
     ]
    },
    {
     "output_type": "stream",
     "name": "stderr",
     "text": [
      " 38%|███▊      | 28/74 [00:00<00:00, 134.11it/s]"
     ]
    },
    {
     "output_type": "stream",
     "name": "stdout",
     "text": [
      "\n",
      "Iteration 14/74 of epoch 97 complete. Loss : 0.0011430912626175477 \n",
      "\n",
      "Iteration 28/74 of epoch 97 complete. Loss : 0.0009997408321526433 \n"
     ]
    },
    {
     "output_type": "stream",
     "name": "stderr",
     "text": [
      " 76%|███████▌  | 56/74 [00:00<00:00, 133.66it/s]"
     ]
    },
    {
     "output_type": "stream",
     "name": "stdout",
     "text": [
      "\n",
      "Iteration 42/74 of epoch 97 complete. Loss : 0.0010031337608649795 \n",
      "\n",
      "Iteration 56/74 of epoch 97 complete. Loss : 0.0009909682142149126 \n"
     ]
    },
    {
     "output_type": "stream",
     "name": "stderr",
     "text": [
      "100%|██████████| 74/74 [00:00<00:00, 132.87it/s]\n",
      "100%|██████████| 19/19 [00:00<00:00, 240.42it/s]\n",
      "  0%|          | 0/74 [00:00<?, ?it/s]"
     ]
    },
    {
     "output_type": "stream",
     "name": "stdout",
     "text": [
      "\n",
      "Iteration 70/74 of epoch 97 complete. Loss : 0.0009897112592755417 \n",
      "\n",
      "Epoch 97 complete! Validation Loss : 0.27535959842957947\n",
      "Epoch 97 complete! Validation Accuracy : 0.923421052631579\n"
     ]
    },
    {
     "output_type": "stream",
     "name": "stderr",
     "text": [
      " 38%|███▊      | 28/74 [00:00<00:00, 135.27it/s]"
     ]
    },
    {
     "output_type": "stream",
     "name": "stdout",
     "text": [
      "\n",
      "Iteration 14/74 of epoch 98 complete. Loss : 0.001059637962108744 \n",
      "\n",
      "Iteration 28/74 of epoch 98 complete. Loss : 0.0009234205645043403 \n"
     ]
    },
    {
     "output_type": "stream",
     "name": "stderr",
     "text": [
      " 76%|███████▌  | 56/74 [00:00<00:00, 134.43it/s]"
     ]
    },
    {
     "output_type": "stream",
     "name": "stdout",
     "text": [
      "\n",
      "Iteration 42/74 of epoch 98 complete. Loss : 0.0009331052299655442 \n",
      "\n",
      "Iteration 56/74 of epoch 98 complete. Loss : 0.0009255160818741258 \n"
     ]
    },
    {
     "output_type": "stream",
     "name": "stderr",
     "text": [
      "100%|██████████| 74/74 [00:00<00:00, 133.05it/s]\n",
      "100%|██████████| 19/19 [00:00<00:00, 244.27it/s]\n",
      "  0%|          | 0/74 [00:00<?, ?it/s]"
     ]
    },
    {
     "output_type": "stream",
     "name": "stdout",
     "text": [
      "\n",
      "Iteration 70/74 of epoch 98 complete. Loss : 0.0009289069691606398 \n",
      "\n",
      "Epoch 98 complete! Validation Loss : 0.2775486182225378\n",
      "Epoch 98 complete! Validation Accuracy : 0.9238322368421054\n"
     ]
    },
    {
     "output_type": "stream",
     "name": "stderr",
     "text": [
      " 38%|███▊      | 28/74 [00:00<00:00, 133.91it/s]"
     ]
    },
    {
     "output_type": "stream",
     "name": "stdout",
     "text": [
      "\n",
      "Iteration 14/74 of epoch 99 complete. Loss : 0.0009902876876627228 \n",
      "\n",
      "Iteration 28/74 of epoch 99 complete. Loss : 0.00085846459426518 \n"
     ]
    },
    {
     "output_type": "stream",
     "name": "stderr",
     "text": [
      " 76%|███████▌  | 56/74 [00:00<00:00, 133.87it/s]"
     ]
    },
    {
     "output_type": "stream",
     "name": "stdout",
     "text": [
      "\n",
      "Iteration 42/74 of epoch 99 complete. Loss : 0.0008715967456477561 \n",
      "\n",
      "Iteration 56/74 of epoch 99 complete. Loss : 0.0008671577940861296 \n"
     ]
    },
    {
     "output_type": "stream",
     "name": "stderr",
     "text": [
      "100%|██████████| 74/74 [00:00<00:00, 133.88it/s]\n",
      "100%|██████████| 19/19 [00:00<00:00, 247.24it/s]\n",
      "  0%|          | 0/74 [00:00<?, ?it/s]"
     ]
    },
    {
     "output_type": "stream",
     "name": "stdout",
     "text": [
      "\n",
      "Iteration 70/74 of epoch 99 complete. Loss : 0.0008740988040309665 \n",
      "\n",
      "Epoch 99 complete! Validation Loss : 0.27953575551509857\n",
      "Epoch 99 complete! Validation Accuracy : 0.9238322368421054\n"
     ]
    },
    {
     "output_type": "stream",
     "name": "stderr",
     "text": [
      " 38%|███▊      | 28/74 [00:00<00:00, 135.64it/s]"
     ]
    },
    {
     "output_type": "stream",
     "name": "stdout",
     "text": [
      "\n",
      "Iteration 14/74 of epoch 100 complete. Loss : 0.0009295221991903548 \n",
      "\n",
      "Iteration 28/74 of epoch 100 complete. Loss : 0.0008017878197798771 \n"
     ]
    },
    {
     "output_type": "stream",
     "name": "stderr",
     "text": [
      " 76%|███████▌  | 56/74 [00:00<00:00, 135.21it/s]"
     ]
    },
    {
     "output_type": "stream",
     "name": "stdout",
     "text": [
      "\n",
      "Iteration 42/74 of epoch 100 complete. Loss : 0.0008175605325959623 \n",
      "\n",
      "Iteration 56/74 of epoch 100 complete. Loss : 0.0008147472565594528 \n"
     ]
    },
    {
     "output_type": "stream",
     "name": "stderr",
     "text": [
      "100%|██████████| 74/74 [00:00<00:00, 134.74it/s]\n",
      "100%|██████████| 19/19 [00:00<00:00, 236.43it/s]"
     ]
    },
    {
     "output_type": "stream",
     "name": "stdout",
     "text": [
      "\n",
      "Iteration 70/74 of epoch 100 complete. Loss : 0.0008237751816133303 \n",
      "\n",
      "Epoch 100 complete! Validation Loss : 0.2814306334445351\n",
      "Epoch 100 complete! Validation Accuracy : 0.9238322368421054\n"
     ]
    },
    {
     "output_type": "stream",
     "name": "stderr",
     "text": [
      "\n"
     ]
    },
    {
     "output_type": "stream",
     "name": "stdout",
     "text": [
      "The model has been saved in saved_models/ne_full_nv_em_full_rbert_lr_3e-05_val_loss_0.19496_ep_62.pt\n"
     ]
    }
   ],
   "metadata": {}
  },
  {
   "cell_type": "code",
   "execution_count": 26,
   "source": [
    "def evaluate(prediction_dataloader, model, path_to_model, load = False):\n",
    "\t# Prediction on test set\n",
    "\tif load:\n",
    "\t\tprint(\"Loading the weights of the model...\")\n",
    "\t\tmodel.load_state_dict(torch.load(path_to_model))\n",
    "\n",
    "\tprint('Evaluating on the testset')\n",
    "\n",
    "\t# Put model in evaluation mode\n",
    "\tmodel.eval()\n",
    "\n",
    "\t# Tracking variables \n",
    "\tpredictions , true_labels = [], []\n",
    "\n",
    "\t# Predict \n",
    "\tfor batch in prediction_dataloader:\n",
    "\t  # Add batch to GPU\n",
    "\t  batch = tuple(t.to(device) for t in batch)\n",
    "\t  \n",
    "\t  # Unpack the inputs from our dataloader\n",
    "\t  b_t_inputs, b_s_inputs, b_e_inputs, b_labels = batch\n",
    "\t  \n",
    "\t  # Telling the model not to compute or store gradients, saving memory and \n",
    "\t  # speeding up prediction\n",
    "\t  with torch.no_grad():\n",
    "\t      # Forward pass, calculate logit predictions\n",
    "\t      logits = model(b_t_inputs, b_s_inputs, b_e_inputs)\n",
    "\n",
    "\t  # Move logits and labels to CPU\n",
    "\t  logits = logits.detach().cpu().numpy()\n",
    "\t  label_ids = b_labels.to('cpu').numpy()\n",
    "\n",
    "\t  pred_flat = np.argmax(logits, axis=1).flatten()\n",
    "\t  labels_flat = label_ids.flatten()\n",
    "\t  \n",
    "\t  # Store predictions and true labels\n",
    "\t  predictions.extend(pred_flat)\n",
    "\t  true_labels.extend(labels_flat)\n",
    "\n",
    "\tprint('DONE.')\n",
    "\n",
    "\t# Code for result display\n",
    "\tprint('NovFake Multi-Modal Classification accuracy is')\n",
    "\tprint(metrics.accuracy_score(true_labels, predictions)*100)\n",
    "\tprint(classification_report(true_labels, predictions, target_names = ['fake', 'real']))\n",
    "\t# Converting to csv\n",
    "\t# Removed transpose - check if actually required\n",
    "\tmodel_name = 'nv_em_full_rbert'\n",
    "\tclsf_report = pd.DataFrame(classification_report(y_true = true_labels, y_pred = predictions, output_dict=True, target_names = ['fake', 'real']))\n",
    "\tclsf_report.to_csv(str('saved_models/'+model_name+'.csv'), index= True)"
   ],
   "outputs": [],
   "metadata": {}
  },
  {
   "cell_type": "code",
   "execution_count": 27,
   "source": [
    "path_to_model = 'saved_models/class_contrast_visualbert_lr_3e-05_val_loss_0.35285_ep_100.pt'\n",
    "evaluate(test_dataloader, model, path_to_model = path_to_model, load = False)"
   ],
   "outputs": [
    {
     "output_type": "stream",
     "name": "stdout",
     "text": [
      "Evaluating on the testset\n",
      "DONE.\n",
      "NovFake Multi-Modal Classification accuracy is\n",
      "92.01359388275276\n",
      "              precision    recall  f1-score   support\n",
      "\n",
      "        fake       0.92      0.90      0.91      1031\n",
      "        real       0.92      0.94      0.93      1323\n",
      "\n",
      "    accuracy                           0.92      2354\n",
      "   macro avg       0.92      0.92      0.92      2354\n",
      "weighted avg       0.92      0.92      0.92      2354\n",
      "\n"
     ]
    }
   ],
   "metadata": {}
  }
 ],
 "metadata": {
  "orig_nbformat": 4,
  "language_info": {
   "name": "python",
   "version": "3.6.11",
   "mimetype": "text/x-python",
   "codemirror_mode": {
    "name": "ipython",
    "version": 3
   },
   "pygments_lexer": "ipython3",
   "nbconvert_exporter": "python",
   "file_extension": ".py"
  },
  "kernelspec": {
   "name": "python3",
   "display_name": "Python 3.6.11 64-bit ('newnisbert': conda)"
  },
  "interpreter": {
   "hash": "b4396559e1bf5c32d41ffba8c548c213f47855d2d4ac82024dddc5ba3ffea815"
  }
 },
 "nbformat": 4,
 "nbformat_minor": 2
}