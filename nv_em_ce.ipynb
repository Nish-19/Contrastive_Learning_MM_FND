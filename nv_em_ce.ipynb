{
 "cells": [
  {
   "cell_type": "code",
   "execution_count": 1,
   "metadata": {},
   "outputs": [],
   "source": [
    "import os\n",
    "gpu_number = \"0\" # Choose either 0 or 1\n",
    "os.environ['CUDA_ENVIRONMENT_DEVICES'] = gpu_number"
   ]
  },
  {
   "cell_type": "code",
   "execution_count": 2,
   "metadata": {},
   "outputs": [],
   "source": [
    "import os\n",
    "import sys\n",
    "import numpy as np\n",
    "from numpy import asarray,zeros\n",
    "import pandas as pd \n",
    "from sklearn.model_selection import train_test_split\n",
    "import torch\n",
    "from torch.utils.data import TensorDataset, DataLoader, RandomSampler, SequentialSampler, Dataset\n",
    "import torch.nn as nn\n",
    "import torch.nn.functional as F\n",
    "import torch.optim as optim\n",
    "from tqdm import tqdm\n",
    "import matplotlib.pyplot as plt\n",
    "import copy\n",
    "from sklearn.model_selection import train_test_split\n",
    "from sklearn import metrics\n",
    "from sklearn.metrics import classification_report\n",
    "import transformers\n",
    "from transformers import BertTokenizer\n",
    "from transformers import AdamW, get_linear_schedule_with_warmup\n",
    "from transformers import AutoTokenizer, AutoModel, AutoConfig, AdamW, get_linear_schedule_with_warmup\n",
    "from tensorflow.keras.preprocessing.text import Tokenizer\n",
    "from tensorflow.keras.preprocessing.sequence import pad_sequences\n",
    "import timm\n",
    "from losses import SupConLoss\n",
    "from torchlars import LARS"
   ]
  },
  {
   "cell_type": "code",
   "execution_count": 3,
   "metadata": {},
   "outputs": [
    {
     "name": "stdout",
     "output_type": "stream",
     "text": [
      "Using device cuda:0\n"
     ]
    }
   ],
   "source": [
    "if torch.cuda.is_available():\n",
    "    device_name = \"cuda:\" + gpu_number\n",
    "    device = torch.device(device_name)\n",
    "else:\n",
    "    device = torch.device(\"cpu\")\n",
    "# device = torch.device(\"cpu\") # Force CPU\n",
    "print(\"Using device\", device)"
   ]
  },
  {
   "cell_type": "markdown",
   "metadata": {},
   "source": [
    "# Load Dataset"
   ]
  },
  {
   "cell_type": "code",
   "execution_count": 4,
   "metadata": {},
   "outputs": [],
   "source": [
    "demark_dict = {'Snp':{'start':0, 'end':1663},\n",
    "                'Rtr':{'start':1664, 'end':2630},\n",
    "                'Rcv':{'start':2631, 'end':4716},\n",
    "                'Tcn':{'start':4717, 'end':11765}}"
   ]
  },
  {
   "cell_type": "code",
   "execution_count": 5,
   "metadata": {},
   "outputs": [
    {
     "name": "stdout",
     "output_type": "stream",
     "text": [
      "Model name nv_em_ce_vbert_full\n",
      "Source shape (11766, 768)\n",
      "Target shape (11766, 768)\n",
      "Emotion Shape (11766, 128)\n",
      "Labels shape (11766,)\n"
     ]
    }
   ],
   "source": [
    "# Loading Choice\n",
    "base_model_name = 'vbert' # choice 'vbert' or 'rbert'\n",
    "dataset_split = 'full' # 'full' or 'faux' or 'ticnn' or 'recov'\n",
    "model_name = ''\n",
    "if base_model_name =='rbert':\n",
    "    source_multimodal_data_full = np.load(\"../data/source_multimodal_out.npy\")\n",
    "    target_multimodal_data_full = np.load(\"../data/target_multimodal_out.npy\")\n",
    "    labels_data_full = np.load(\"../data/labels.npy\").squeeze(1)\n",
    "    contrastive_model_path = 'saved_models/contrast_head_rbert_lr_5_ep_1000.pt'\n",
    "    data_ids_full = np.load(\"../data/ids.npy\").squeeze(1)\n",
    "    model_name = 'nv_em_ce_rbert'\n",
    "elif base_model_name == 'vbert':\n",
    "    source_multimodal_data_full = np.load(\"../data/source_mm_vbert.npy\")\n",
    "    target_multimodal_data_full = np.load(\"../data/target_mm_vbert.npy\")\n",
    "    labels_data_full = np.load(\"../data/labels.npy\").squeeze(1)\n",
    "    contrastive_model_path = 'saved_models/contrast_head_vbert_lr_5_ep_1000.pt'\n",
    "    data_ids_full = np.load(\"../data/ids.npy\").squeeze(1)\n",
    "    model_name = 'nv_em_ce_vbert'\n",
    "\n",
    "emotion_arr = np.load('../data/emotion_reprs_new.npy')\n",
    "\n",
    "if dataset_split == 'full':\n",
    "    source_multimodal_data = source_multimodal_data_full\n",
    "    target_multimodal_data = target_multimodal_data_full\n",
    "    labels_data = labels_data_full\n",
    "    emotion_data = emotion_arr\n",
    "    data_ids = data_ids_full\n",
    "    model_name = model_name + '_full'\n",
    "elif dataset_split == 'faux':\n",
    "    src_snoopes = source_multimodal_data_full[demark_dict['Snp']['start']:demark_dict['Snp']['end'],:]\n",
    "    tar_snoopes = target_multimodal_data_full[demark_dict['Snp']['start']:demark_dict['Snp']['end'],:]\n",
    "    lab_snoopes = labels_data_full[demark_dict['Snp']['start']:demark_dict['Snp']['end']]\n",
    "    emotion_snoopes = emotion_arr[demark_dict['Snp']['start']:demark_dict['Snp']['end']]\n",
    "    src_rtr = source_multimodal_data_full[demark_dict['Rtr']['start']:demark_dict['Rtr']['end'],:]\n",
    "    tar_rtr = target_multimodal_data_full[demark_dict['Rtr']['start']:demark_dict['Rtr']['end'],:]\n",
    "    lab_tar = labels_data_full[demark_dict['Rtr']['start']:demark_dict['Rtr']['end']]\n",
    "    emotion_rtr = emotion_arr[demark_dict['Rtr']['start']:demark_dict['Rtr']['end']]\n",
    "    source_multimodal_data = np.concatenate((src_snoopes, src_rtr), axis=0)\n",
    "    target_multimodal_data = np.concatenate((tar_snoopes, tar_rtr), axis=0)\n",
    "    emotion_data = np.concatenate((emotion_snoopes, emotion_rtr), axis=0)\n",
    "    labels_data = np.concatenate((lab_snoopes, lab_tar), axis=0)\n",
    "    model_name = model_name + '_faux'\n",
    "elif dataset_split == 'recov':\n",
    "    source_multimodal_data = source_multimodal_data_full[demark_dict['Rcv']['start']:demark_dict['Rcv']['end'],:]\n",
    "    target_multimodal_data = target_multimodal_data_full[demark_dict['Rcv']['start']:demark_dict['Rcv']['end'],:]\n",
    "    labels_data = labels_data_full[demark_dict['Rcv']['start']:demark_dict['Rcv']['end']]\n",
    "    emotion_data = emotion_arr[demark_dict['Rcv']['start']:demark_dict['Rcv']['end']]\n",
    "    model_name = model_name + '_recov'\n",
    "elif dataset_split == 'ticnn':\n",
    "    source_multimodal_data = source_multimodal_data_full[demark_dict['Tcn']['start']:demark_dict['Tcn']['end'],:]\n",
    "    target_multimodal_data = target_multimodal_data_full[demark_dict['Tcn']['start']:demark_dict['Tcn']['end'],:]\n",
    "    labels_data = labels_data_full[demark_dict['Tcn']['start']:demark_dict['Tcn']['end']]\n",
    "    emotion_data = emotion_arr[demark_dict['Tcn']['start']:demark_dict['Tcn']['end']]\n",
    "    model_name = model_name + '_ticnn'\n",
    "\n",
    "#TODO: Printing the shape of the model\n",
    "print('Model name', model_name)\n",
    "print('Source shape', source_multimodal_data.shape)\n",
    "print('Target shape', target_multimodal_data.shape)\n",
    "print('Emotion Shape', emotion_data.shape)\n",
    "print('Labels shape', labels_data.shape)"
   ]
  },
  {
   "cell_type": "code",
   "execution_count": 6,
   "metadata": {},
   "outputs": [
    {
     "name": "stdout",
     "output_type": "stream",
     "text": [
      "tensor([0.5793, 0.4207], device='cuda:0')\n"
     ]
    }
   ],
   "source": [
    "#TODO: Get Class weights\n",
    "from collections import Counter \n",
    "weights = Counter(labels_data)\n",
    "fake_weight = weights[1]/(weights[0]+weights[1])\n",
    "real_weight = weights[0]/(weights[0]+weights[1])\n",
    "class_weights = torch.tensor([fake_weight, real_weight], device=device)\n",
    "print(class_weights)"
   ]
  },
  {
   "cell_type": "code",
   "execution_count": 7,
   "metadata": {},
   "outputs": [],
   "source": [
    "# # NOTE: Resnet+BERT Multimodal data\n",
    "# source_multimodal_arr = np.load(\"../data/source_multimodal_out.npy\")\n",
    "# target_multimodal_arr = np.load(\"../data/target_multimodal_out.npy\")\n",
    "# print(\"Source shape\", source_multimodal_arr.shape)\n",
    "# print(\"Target shape\", target_multimodal_arr.shape)"
   ]
  },
  {
   "cell_type": "code",
   "execution_count": 8,
   "metadata": {},
   "outputs": [],
   "source": [
    "# # NOTE: Import Visual BERT Multimodal data\n",
    "# source_multimodal_arr = np.load(\"../data/source_mm_vbert.npy\")\n",
    "# target_multimodal_arr = np.load(\"../data/target_mm_vbert.npy\")"
   ]
  },
  {
   "cell_type": "code",
   "execution_count": 9,
   "metadata": {},
   "outputs": [],
   "source": [
    "# # NOTE: Import source data for emotion\n",
    "# # img_data = np.load(\"../data/image_array.npy\")\n",
    "# # num_images, sources, width, height, num_channels = img_data.shape\n",
    "# # img_data_reshape = np.reshape(img_data, newshape=(num_images, sources, num_channels, width, height))\n",
    "# # img_data_source = torch.tensor(img_data_reshape[:,1,:,:,:]) \n",
    "# # print('New Source Shape', img_data_source.shape)\n",
    "# emotion_arr = np.load('../data/emotion_reprs_new.npy')\n",
    "# print('Emotion array shape', emotion_arr.shape)"
   ]
  },
  {
   "cell_type": "code",
   "execution_count": 10,
   "metadata": {},
   "outputs": [],
   "source": [
    "# # New features\n",
    "# diff_arr = source_multimodal_arr - target_multimodal_arr\n",
    "# mul_diff_arr = source_multimodal_arr * diff_arr\n",
    "# print(\"Source shape\", diff_arr.shape)\n",
    "# print(\"Target shape\", mul_diff_arr.shape)"
   ]
  },
  {
   "cell_type": "code",
   "execution_count": 11,
   "metadata": {},
   "outputs": [],
   "source": [
    "# # Considering only the text parts - #TODO: Comment if not necessary\n",
    "# source_multimodal_arr = source_multimodal_arr[:,768:] # Only BERT\n",
    "# target_multimodal_arr = target_multimodal_arr[:,768:] # Only BERT\n",
    "# print(\"Source shape\", source_multimodal_arr.shape)\n",
    "# print(\"Target shape\", target_multimodal_arr.shape)"
   ]
  },
  {
   "cell_type": "code",
   "execution_count": 12,
   "metadata": {},
   "outputs": [
    {
     "name": "stdout",
     "output_type": "stream",
     "text": [
      "Source shape torch.Size([11766, 768])\n",
      "Target shape torch.Size([11766, 768])\n",
      "Emotion Source shape torch.Size([11766, 128])\n",
      "Labels shape torch.Size([11766])\n"
     ]
    }
   ],
   "source": [
    "# NOTE: Old features\n",
    "source_multimodal_tensor = torch.tensor(source_multimodal_data)\n",
    "target_multimodal_tensor = torch.tensor(target_multimodal_data)\n",
    "emotion_source_tensor = torch.tensor(emotion_data)\n",
    "labels_tensor = torch.tensor(labels_data, dtype=torch.long)\n",
    "print(\"Source shape\", source_multimodal_tensor.shape)\n",
    "print(\"Target shape\", target_multimodal_tensor.shape)\n",
    "print(\"Emotion Source shape\", emotion_source_tensor.shape)\n",
    "print(\"Labels shape\", labels_tensor.shape)"
   ]
  },
  {
   "cell_type": "code",
   "execution_count": 13,
   "metadata": {},
   "outputs": [],
   "source": [
    "# #NOTE: New features (NOT GOOD)\n",
    "# diff_arr = torch.tensor(diff_arr, device=device)\n",
    "# mul_diff_arr = torch.tensor(mul_diff_arr, device=device)\n",
    "# print(\"Source shape\", diff_arr.shape)\n",
    "# print(\"Target shape\", mul_diff_arr.shape)"
   ]
  },
  {
   "cell_type": "code",
   "execution_count": 14,
   "metadata": {},
   "outputs": [],
   "source": [
    "# # Loading the label\n",
    "# labels_data = np.load(\"../data/labels.npy\")\n",
    "# labels_tensor = torch.tensor(labels_data, dtype=torch.long).squeeze(-1)\n",
    "# print('Labels tensor shape', labels_tensor.shape)"
   ]
  },
  {
   "cell_type": "code",
   "execution_count": 15,
   "metadata": {},
   "outputs": [],
   "source": [
    "#TODO: Add Pytorch DataLoader\n",
    "def get_data_loader(batch_size, target_input, source_input, emotion_input, labels, split_type='train'):\n",
    "\tdata = TensorDataset(target_input, source_input, emotion_input, labels)\n",
    "\tif split_type == 'train':\n",
    "\t\tsampler = RandomSampler(data)\n",
    "\telif split_type == 'val':\n",
    "\t\tsampler = SequentialSampler(data)\n",
    "\tdataloader = DataLoader(data, sampler=sampler, batch_size=batch_size)\n",
    "\treturn data, sampler, dataloader"
   ]
  },
  {
   "cell_type": "code",
   "execution_count": 16,
   "metadata": {},
   "outputs": [],
   "source": [
    "# NOTE: Old features\n",
    "train_tar, test_tar, train_src, test_src, train_emotion, test_emotion, train_labels, test_labels = train_test_split(target_multimodal_tensor, source_multimodal_tensor, emotion_source_tensor, labels_tensor, test_size=0.2, random_state=43)\n",
    "\n",
    "if dataset_split == 'full':\n",
    "    train_ids, test_ids = train_test_split(data_ids, test_size=0.2, random_state=43)"
   ]
  },
  {
   "cell_type": "code",
   "execution_count": 17,
   "metadata": {},
   "outputs": [
    {
     "name": "stdout",
     "output_type": "stream",
     "text": [
      "9412\n"
     ]
    }
   ],
   "source": [
    "print(len(train_tar))"
   ]
  },
  {
   "cell_type": "code",
   "execution_count": 18,
   "metadata": {},
   "outputs": [],
   "source": [
    "batch_size = 128\n",
    "train_data, train_sampler, train_dataloader = get_data_loader(batch_size, train_tar, train_src, train_emotion, train_labels, 'train')\n",
    "test_data, test_sampler, test_dataloader = get_data_loader(batch_size, test_tar, test_src, test_emotion, test_labels, 'val')"
   ]
  },
  {
   "cell_type": "code",
   "execution_count": 19,
   "metadata": {},
   "outputs": [
    {
     "name": "stdout",
     "output_type": "stream",
     "text": [
      "74\n"
     ]
    }
   ],
   "source": [
    "print(len(train_dataloader)) # --> ceil(len(train_set)/batch_size)"
   ]
  },
  {
   "cell_type": "code",
   "execution_count": 20,
   "metadata": {},
   "outputs": [],
   "source": [
    "# Model imported from the previous network\n",
    "class ContrastiveModel(nn.Module):\n",
    "    def __init__(self, initial_dim):\n",
    "        super(ContrastiveModel, self).__init__()\n",
    "        self.project_1 = nn.Linear(initial_dim, 512, bias=True)\n",
    "        self.project_2 = nn.Linear(512, 128, bias=True)\n",
    "        self.dropout = nn.Dropout(0.2)\n",
    "    def forward(self, multimodal_input):\n",
    "        contrast_space = self.project_2(self.project_1(multimodal_input))\n",
    "        normalize_contrast = F.normalize(contrast_space, dim=2)\n",
    "        return normalize_contrast"
   ]
  },
  {
   "cell_type": "code",
   "execution_count": 21,
   "metadata": {},
   "outputs": [],
   "source": [
    "# NOTE: Novelty based Contrastive Model\n",
    "class NoveltyModule(nn.Module):\n",
    "    def __init__(self, initial_dim):\n",
    "        super(NoveltyModule, self).__init__()\n",
    "        self.contrastive_model = ContrastiveModel(initial_dim) # For generic model\n",
    "        # self.contrastive_model = ContrastiveModelVisualBERT(initial_dim) # For visual BERT only\n",
    "        # self.contrastive_model.load_state_dict(torch.load('saved_models/contrast_head_visualbert_lr_5_ep_1000.pt')) # For vbert\n",
    "        # self.contrastive_model.load_state_dict(torch.load('saved_models/contrast_head_lr_5_ep_1000.pt')) # For rbert\n",
    "        self.contrastive_model.load_state_dict(torch.load(contrastive_model_path)) # For rbert\n",
    "        for param in self.contrastive_model.parameters():\n",
    "            param.requires_grad = False\n",
    "        self.reduce_1 = nn.Linear((512)*3, 512)\n",
    "        self.tanh1 = nn.Tanh()\n",
    "        self.logits_layer = nn.Linear(512, 2)\n",
    "    def forward(self, target_input, source_input):\n",
    "        fixed_target = self.contrastive_model.project_1(target_input)\n",
    "        fixed_source = self.contrastive_model.project_1(source_input)\n",
    "        add_op = fixed_target + fixed_source\n",
    "        sub_op = fixed_target - fixed_source\n",
    "        mul_op = fixed_target * fixed_source\n",
    "        combine_t_s = torch.cat((add_op, sub_op, mul_op), 1)\n",
    "        reduce_output = self.tanh1(self.reduce_1(combine_t_s)) # 512 dimension\n",
    "        return reduce_output"
   ]
  },
  {
   "cell_type": "code",
   "execution_count": 22,
   "metadata": {},
   "outputs": [],
   "source": [
    "# NOTE: Emotion based Model\n",
    "class ResNetBottom(nn.Module):\n",
    "    def __init__(self, original_model):\n",
    "        super(ResNetBottom, self).__init__()\n",
    "        self.features = nn.Sequential(*list(original_model.children())[:-1])\n",
    "        \n",
    "    def forward(self, x):\n",
    "        x = self.features(x)\n",
    "        return x\n",
    "\n",
    "class EmotionModule(nn.Module):\n",
    "    def __init__(self):\n",
    "        super(EmotionModule, self).__init__()\n",
    "        self.vision_base_model = timm.create_model('resnet50', pretrained=True)\n",
    "        self.vision_model_head = ResNetBottom(self.vision_base_model)\n",
    "        self.project_1 = nn.Linear(2048, 1024, bias=True)\n",
    "        self.project_2 = nn.Linear(1024, 512, bias=True)\n",
    "        self.project_3 = nn.Linear(512, 128, bias=True)\n",
    "        self.tanh1 = nn.Tanh()\n",
    "        self.tanh2 = nn.Tanh()\n",
    "        self.tanh3 = nn.Tanh()\n",
    "        self.drop1 = nn.Dropout()\n",
    "        self.drop2 = nn.Dropout()\n",
    "        self.drop3 = nn.Dropout()\n",
    "        self.classification = nn.Linear(128, 2, bias=True)\n",
    "    def forward(self, img_features):\n",
    "        with torch.no_grad():\n",
    "            img_out = self.vision_model_head(img_features)\n",
    "        emotion_features = self.tanh3(self.project_3(self.tanh2(self.project_2(self.tanh1(self.project_1(img_out))))))\n",
    "        return emotion_features"
   ]
  },
  {
   "cell_type": "code",
   "execution_count": 23,
   "metadata": {},
   "outputs": [],
   "source": [
    "#TODO: Defin Combine Novelty-Emotion Model for classification\n",
    "class FinalClassifier(nn.Module):\n",
    "    def __init__(self, initial_dim):\n",
    "        super(FinalClassifier, self).__init__()\n",
    "        self.novelty_module = NoveltyModule(initial_dim) # For novelty model\n",
    "        # self.emotion_module = EmotionModule()\n",
    "        # self.emotion_module.load_state_dict(torch.load('../emotion/saved_models/emo_combine_res50_lr_3e-05_val_loss_0.59487_ep_61.pt'))\n",
    "        self.reduce_1 = nn.Linear(640, 512, bias=True)\n",
    "        self.tanh1 = nn.Tanh()\n",
    "        self.reduce_2 = nn.Linear(512, 128, bias=True)\n",
    "        self.tanh2 = nn.Tanh()\n",
    "        self.logits_layer = nn.Linear(128, 2)\n",
    "    def forward(self, target_input, source_input, emotion_input):\n",
    "        # Novelty Representations\n",
    "        novelty_reprs = self.novelty_module(target_input, source_input)\n",
    "        emotion_reprs = emotion_input\n",
    "        combine_n_e = torch.cat((novelty_reprs, emotion_reprs), 1) # 640\n",
    "        reduce_output_1 = self.tanh1(self.reduce_1(combine_n_e.float())) # 512 dimension\n",
    "        reduce_output_2 = self.tanh2(self.reduce_2(reduce_output_1.float())) # 128 dimension\n",
    "        logits = self.logits_layer(reduce_output_2.float()) # 2 dimension\n",
    "        return logits"
   ]
  },
  {
   "cell_type": "code",
   "execution_count": 24,
   "metadata": {},
   "outputs": [],
   "source": [
    "# Dry-Run Classification model\n",
    "initial_dim = source_multimodal_tensor.shape[1]\n",
    "# initial_dim = diff_arr.shape[1]\n",
    "class_model = FinalClassifier(initial_dim).to(device) # For old model"
   ]
  },
  {
   "cell_type": "code",
   "execution_count": 25,
   "metadata": {},
   "outputs": [],
   "source": [
    "# Optimizer and scheduler\n",
    "def get_optimizer_scheduler(name, model, train_dataloader_len, epochs, lr_set):\n",
    "\tif name == \"Adam\":\n",
    "\t\toptimizer = AdamW(model.parameters(),\n",
    "                  lr = lr_set, # args.learning_rate - default is 5e-5, our notebook had 2e-5\n",
    "                  eps = 1e-8 # args.adam_epsilon  - default is 1e-8.\n",
    "\t\t)\n",
    "\telif name == \"LARS-SGD\":\n",
    "\t\tbase_optimizer = optim.SGD(model.parameters(), lr=lr_set, momentum=0.9)\n",
    "\t\toptimizer = LARS(optimizer=base_optimizer, eps=1e-8, trust_coef=0.001)\n",
    "\n",
    "\ttotal_steps = train_dataloader_len * epochs\n",
    "\n",
    "\t# Create the learning rate scheduler.\n",
    "\tscheduler = get_linear_schedule_with_warmup(optimizer, \n",
    "\t\t\t\t\t\t\t\t\t\t\t\tnum_warmup_steps = total_steps//2, # Default value in run_glue.py\n",
    "\t\t\t\t\t\t\t\t\t\t\t\tnum_training_steps = total_steps)\n",
    "\treturn optimizer, scheduler"
   ]
  },
  {
   "cell_type": "code",
   "execution_count": 26,
   "metadata": {},
   "outputs": [],
   "source": [
    "# Getting the optimizer and scheduler\n",
    "epochs = 100\n",
    "lr = 3e-5 # Less LR\n",
    "# lr = 0.5\n",
    "iters_to_accumulate = 2\n",
    "name = \"Adam\"\n",
    "# name = \"LARS-SGD\"\n",
    "if base_model_name == 'vbert' and dataset_split == 'recov':\n",
    "    criterion = nn.CrossEntropyLoss(class_weights)\n",
    "else:\n",
    "    criterion = nn.CrossEntropyLoss()\n",
    "optimizer, scheduler = get_optimizer_scheduler(name, class_model, len(train_dataloader), epochs, lr)"
   ]
  },
  {
   "cell_type": "code",
   "execution_count": 27,
   "metadata": {},
   "outputs": [],
   "source": [
    "################ Evaluating Loss ######################\n",
    "#######################################################\n",
    "def evaluate_loss(net, device, criterion, dataloader):\n",
    "    net.eval()\n",
    "    mean_loss = 0\n",
    "    count = 0\n",
    "    with torch.no_grad():\n",
    "        for it, (target_inputs, source_inputs, emotion_inputs, labels) in enumerate(tqdm(dataloader)):\n",
    "            target_inputs, source_inputs, emotion_inputs, labels = target_inputs.to(device), source_inputs.to(device), emotion_inputs.to(device), labels.to(device)\n",
    "            logits = net(target_inputs, source_inputs, emotion_inputs)\n",
    "            mean_loss += criterion(logits.squeeze(-1), labels).item() # initially it was logits.squeeze(-1)\n",
    "            count += 1\n",
    "    return mean_loss / count"
   ]
  },
  {
   "cell_type": "code",
   "execution_count": 28,
   "metadata": {},
   "outputs": [],
   "source": [
    "################ Flat Accuracy Calculation ####################\n",
    "###############################################################\n",
    "def flat_accuracy(preds, labels):\n",
    "    pred_flat = np.argmax(preds, axis=1).flatten()\n",
    "    labels_flat = labels.flatten()\n",
    "    return np.sum(pred_flat == labels_flat) / len(labels_flat)\n",
    "################ Validation Accuracy Calculation ####################\n",
    "###############################################################\n",
    "def evaluate_accuracy(model, device, validation_dataloader):\n",
    "\tmodel.eval()\n",
    "\t# Tracking variables \n",
    "\teval_loss, eval_accuracy = 0, 0\n",
    "\tnb_eval_steps, nb_eval_examples = 0, 0\n",
    "\t# Evaluate data for one epoch\n",
    "\tfor batch in validation_dataloader:\n",
    "\t    # Add batch to GPU\n",
    "\t    batch = tuple(t.to(device) for t in batch)\t    \n",
    "\t    # Unpack the inputs from our dataloader\n",
    "\t    b_t_inputs, b_s_inputs, b_e_inputs, b_labels = batch\t    \n",
    "\t    \n",
    "\t    # Telling the model not to compute or store gradients, saving memory and\n",
    "\t    # speeding up validation\n",
    "\t    with torch.no_grad(): \n",
    "\t    \t# Forward pass, calculate logit predictions.\n",
    "\t        # This will return the logits rather than the loss because we have\n",
    "\t        # not provided labels.\n",
    "\t    \tlogits = model(b_t_inputs, b_s_inputs, b_e_inputs)       \n",
    "\n",
    "\t    # Move logits and labels to CPU\n",
    "\t    logits = logits.detach().cpu().numpy()\n",
    "\t    label_ids = b_labels.to('cpu').numpy()\n",
    "\t    \n",
    "\t    # Calculate the accuracy for this batch of test sentences.\n",
    "\t    tmp_eval_accuracy = flat_accuracy(logits, label_ids)\n",
    "\t    \n",
    "\t    # Accumulate the total accuracy.\n",
    "\t    eval_accuracy += tmp_eval_accuracy\n",
    "\n",
    "\t    # Track the number of batches\n",
    "\t    nb_eval_steps += 1\n",
    "\taccuracy = eval_accuracy/nb_eval_steps\n",
    "\treturn accuracy"
   ]
  },
  {
   "cell_type": "code",
   "execution_count": 29,
   "metadata": {},
   "outputs": [],
   "source": [
    "def train_model(net, criterion, opti, lr, lr_scheduler, train_loader, val_loader, epochs, iters_to_accumulate):\n",
    "    best_loss = np.Inf\n",
    "    best_ep = 1\n",
    "    nb_iterations = len(train_loader)\n",
    "    print_every = nb_iterations // 5  # print the training loss 5 times per epoch\n",
    "    iters = []\n",
    "    train_losses = []\n",
    "    val_losses = []\n",
    "    # Iterating over all epochs\n",
    "    for ep in range(epochs):\n",
    "        net.train()\n",
    "        running_loss = 0.0\n",
    "        for it, (target_inputs, source_inputs, emotion_inputs, labels) in enumerate(tqdm(train_loader)):\n",
    "\n",
    "            # Converting to cuda tensors\n",
    "            target_inputs, source_inputs, emotion_inputs, labels = target_inputs.to(device), source_inputs.to(device), emotion_inputs.to(device), labels.to(device)\n",
    "    \t\t\n",
    "            # Obtaining the logits from the model\n",
    "            logits = net(target_inputs, source_inputs, emotion_inputs)\n",
    "            # print(logits.device)\n",
    "\n",
    "            # Computing loss\n",
    "            # print(logits.squeeze(-1).shape)\n",
    "            # print(labels.shape)\n",
    "            loss = criterion(logits.squeeze(-1), labels)\n",
    "            loss = loss / iters_to_accumulate  # Normalize the loss because it is averaged\n",
    "\n",
    "            # Backpropagating the gradients\n",
    "            # Calls backward()\n",
    "            loss.backward()\n",
    "\n",
    "            if (it + 1) % iters_to_accumulate == 0:\n",
    "                # Optimization step\n",
    "                # scaler.step() first unscales the gradients of the optimizer's assigned params.\n",
    "                # If these gradients do not contain infs or NaNs, opti.step() is then called,\n",
    "                # otherwise, opti.step() is skipped.\n",
    "                opti.step()\n",
    "                # Adjust the learning rate based on the number of iterations.\n",
    "                lr_scheduler.step()\n",
    "                # Clear gradients\n",
    "                net.zero_grad()\n",
    "\n",
    "\n",
    "            running_loss += loss.item()\n",
    "\n",
    "            if (it + 1) % print_every == 0:  # Print training loss information\n",
    "                print()\n",
    "                print(\"Iteration {}/{} of epoch {} complete. Loss : {} \"\n",
    "                      .format(it+1, nb_iterations, ep+1, running_loss / print_every))\n",
    "\n",
    "                running_loss = 0.0\n",
    "\n",
    "\n",
    "        val_loss = evaluate_loss(net, device, criterion, val_loader)  # Compute validation loss\n",
    "        val_accuracy = evaluate_accuracy(net, device, val_loader)\n",
    "        print()\n",
    "        print(\"Epoch {} complete! Validation Loss : {}\".format(ep+1, val_loss))\n",
    "        print(\"Epoch {} complete! Validation Accuracy : {}\".format(ep+1, val_accuracy))\n",
    "\n",
    "        if val_loss < best_loss:\n",
    "            print(\"Best validation loss improved from {} to {}\".format(best_loss, val_loss))\n",
    "            print()\n",
    "            net_copy = copy.deepcopy(net)  # save a copy of the model\n",
    "            best_loss = val_loss\n",
    "            best_ep = ep + 1\n",
    "\n",
    "    # Saving the model\n",
    "    path_to_model='saved_models/{}_lr_{}_val_loss_{}_ep_{}.pt'.format(model_name, lr, round(best_loss, 5), best_ep)\n",
    "    torch.save(net_copy.state_dict(), path_to_model)\n",
    "    net.load_state_dict(torch.load(path_to_model)) # Re-Loading the best model\n",
    "    print(\"The model has been saved in {}\".format(path_to_model))\n",
    "\n",
    "    del loss\n",
    "    torch.cuda.empty_cache()\n",
    "    return net, model_name"
   ]
  },
  {
   "cell_type": "code",
   "execution_count": 30,
   "metadata": {},
   "outputs": [
    {
     "name": "stderr",
     "output_type": "stream",
     "text": [
      " 43%|████▎     | 32/74 [00:00<00:00, 97.48it/s]"
     ]
    },
    {
     "name": "stdout",
     "output_type": "stream",
     "text": [
      "\n",
      "Iteration 14/74 of epoch 1 complete. Loss : 0.34268897771835327 \n",
      "\n",
      "Iteration 28/74 of epoch 1 complete. Loss : 0.34439404734543394 \n"
     ]
    },
    {
     "name": "stderr",
     "output_type": "stream",
     "text": [
      " 73%|███████▎  | 54/74 [00:00<00:00, 100.56it/s]"
     ]
    },
    {
     "name": "stdout",
     "output_type": "stream",
     "text": [
      "\n",
      "Iteration 42/74 of epoch 1 complete. Loss : 0.3433778967176165 \n",
      "\n",
      "Iteration 56/74 of epoch 1 complete. Loss : 0.34260601869651247 \n"
     ]
    },
    {
     "name": "stderr",
     "output_type": "stream",
     "text": [
      "100%|██████████| 74/74 [00:00<00:00, 106.27it/s]\n",
      "100%|██████████| 19/19 [00:00<00:00, 240.06it/s]\n",
      "  0%|          | 0/74 [00:00<?, ?it/s]"
     ]
    },
    {
     "name": "stdout",
     "output_type": "stream",
     "text": [
      "\n",
      "Iteration 70/74 of epoch 1 complete. Loss : 0.34438019565173555 \n",
      "\n",
      "Epoch 1 complete! Validation Loss : 0.6791463776638633\n",
      "Epoch 1 complete! Validation Accuracy : 0.44493421052631577\n",
      "Best validation loss improved from inf to 0.6791463776638633\n",
      "\n"
     ]
    },
    {
     "name": "stderr",
     "output_type": "stream",
     "text": [
      " 45%|████▍     | 33/74 [00:00<00:00, 105.49it/s]"
     ]
    },
    {
     "name": "stdout",
     "output_type": "stream",
     "text": [
      "\n",
      "Iteration 14/74 of epoch 2 complete. Loss : 0.3403769029038293 \n",
      "\n",
      "Iteration 28/74 of epoch 2 complete. Loss : 0.3389235479491098 \n"
     ]
    },
    {
     "name": "stderr",
     "output_type": "stream",
     "text": [
      " 78%|███████▊  | 58/74 [00:00<00:00, 111.54it/s]"
     ]
    },
    {
     "name": "stdout",
     "output_type": "stream",
     "text": [
      "\n",
      "Iteration 42/74 of epoch 2 complete. Loss : 0.3365802764892578 \n",
      "\n",
      "Iteration 56/74 of epoch 2 complete. Loss : 0.3346555233001709 \n"
     ]
    },
    {
     "name": "stderr",
     "output_type": "stream",
     "text": [
      "100%|██████████| 74/74 [00:00<00:00, 113.42it/s]\n",
      "100%|██████████| 19/19 [00:00<00:00, 234.28it/s]\n",
      "  0%|          | 0/74 [00:00<?, ?it/s]"
     ]
    },
    {
     "name": "stdout",
     "output_type": "stream",
     "text": [
      "\n",
      "Iteration 70/74 of epoch 2 complete. Loss : 0.33398696780204773 \n",
      "\n",
      "Epoch 2 complete! Validation Loss : 0.6602576375007629\n",
      "Epoch 2 complete! Validation Accuracy : 0.689703947368421\n",
      "Best validation loss improved from 0.6791463776638633 to 0.6602576375007629\n",
      "\n"
     ]
    },
    {
     "name": "stderr",
     "output_type": "stream",
     "text": [
      " 53%|█████▎    | 39/74 [00:00<00:00, 127.71it/s]"
     ]
    },
    {
     "name": "stdout",
     "output_type": "stream",
     "text": [
      "\n",
      "Iteration 14/74 of epoch 3 complete. Loss : 0.33050498153482166 \n",
      "\n",
      "Iteration 28/74 of epoch 3 complete. Loss : 0.32711238733359743 \n"
     ]
    },
    {
     "name": "stderr",
     "output_type": "stream",
     "text": [
      " 88%|████████▊ | 65/74 [00:00<00:00, 127.96it/s]"
     ]
    },
    {
     "name": "stdout",
     "output_type": "stream",
     "text": [
      "\n",
      "Iteration 42/74 of epoch 3 complete. Loss : 0.3245018060718264 \n",
      "\n",
      "Iteration 56/74 of epoch 3 complete. Loss : 0.32166181078978945 \n"
     ]
    },
    {
     "name": "stderr",
     "output_type": "stream",
     "text": [
      "100%|██████████| 74/74 [00:00<00:00, 127.14it/s]\n",
      "100%|██████████| 19/19 [00:00<00:00, 255.38it/s]\n",
      "  0%|          | 0/74 [00:00<?, ?it/s]"
     ]
    },
    {
     "name": "stdout",
     "output_type": "stream",
     "text": [
      "\n",
      "Iteration 70/74 of epoch 3 complete. Loss : 0.3183355906179973 \n",
      "\n",
      "Epoch 3 complete! Validation Loss : 0.6319394958646674\n",
      "Epoch 3 complete! Validation Accuracy : 0.9474506578947368\n",
      "Best validation loss improved from 0.6602576375007629 to 0.6319394958646674\n",
      "\n"
     ]
    },
    {
     "name": "stderr",
     "output_type": "stream",
     "text": [
      " 53%|█████▎    | 39/74 [00:00<00:00, 125.48it/s]"
     ]
    },
    {
     "name": "stdout",
     "output_type": "stream",
     "text": [
      "\n",
      "Iteration 14/74 of epoch 4 complete. Loss : 0.31392147498471396 \n",
      "\n",
      "Iteration 28/74 of epoch 4 complete. Loss : 0.3113758606570108 \n"
     ]
    },
    {
     "name": "stderr",
     "output_type": "stream",
     "text": [
      " 88%|████████▊ | 65/74 [00:00<00:00, 126.15it/s]"
     ]
    },
    {
     "name": "stdout",
     "output_type": "stream",
     "text": [
      "\n",
      "Iteration 42/74 of epoch 4 complete. Loss : 0.30816311282770975 \n",
      "\n",
      "Iteration 56/74 of epoch 4 complete. Loss : 0.30447631435734884 \n"
     ]
    },
    {
     "name": "stderr",
     "output_type": "stream",
     "text": [
      "100%|██████████| 74/74 [00:00<00:00, 125.48it/s]\n",
      "100%|██████████| 19/19 [00:00<00:00, 256.75it/s]\n",
      "  0%|          | 0/74 [00:00<?, ?it/s]"
     ]
    },
    {
     "name": "stdout",
     "output_type": "stream",
     "text": [
      "\n",
      "Iteration 70/74 of epoch 4 complete. Loss : 0.30128213337489534 \n",
      "\n",
      "Epoch 4 complete! Validation Loss : 0.5966596132830569\n",
      "Epoch 4 complete! Validation Accuracy : 0.934342105263158\n",
      "Best validation loss improved from 0.6319394958646674 to 0.5966596132830569\n",
      "\n"
     ]
    },
    {
     "name": "stderr",
     "output_type": "stream",
     "text": [
      " 18%|█▊        | 13/74 [00:00<00:00, 129.37it/s]"
     ]
    },
    {
     "name": "stdout",
     "output_type": "stream",
     "text": [
      "\n",
      "Iteration 14/74 of epoch 5 complete. Loss : 0.29623586578028543 \n"
     ]
    },
    {
     "name": "stderr",
     "output_type": "stream",
     "text": [
      " 70%|███████   | 52/74 [00:00<00:00, 101.69it/s]"
     ]
    },
    {
     "name": "stdout",
     "output_type": "stream",
     "text": [
      "\n",
      "Iteration 28/74 of epoch 5 complete. Loss : 0.2927615280662264 \n",
      "\n",
      "Iteration 42/74 of epoch 5 complete. Loss : 0.2877227110522134 \n"
     ]
    },
    {
     "name": "stderr",
     "output_type": "stream",
     "text": [
      "100%|██████████| 74/74 [00:00<00:00, 97.66it/s] \n",
      "  0%|          | 0/19 [00:00<?, ?it/s]"
     ]
    },
    {
     "name": "stdout",
     "output_type": "stream",
     "text": [
      "\n",
      "Iteration 56/74 of epoch 5 complete. Loss : 0.2838925038065229 \n",
      "\n",
      "Iteration 70/74 of epoch 5 complete. Loss : 0.2811270845787866 \n"
     ]
    },
    {
     "name": "stderr",
     "output_type": "stream",
     "text": [
      "100%|██████████| 19/19 [00:00<00:00, 247.16it/s]\n",
      " 18%|█▊        | 13/74 [00:00<00:00, 125.12it/s]"
     ]
    },
    {
     "name": "stdout",
     "output_type": "stream",
     "text": [
      "\n",
      "Epoch 5 complete! Validation Loss : 0.5562456312932467\n",
      "Epoch 5 complete! Validation Accuracy : 0.9076151315789475\n",
      "Best validation loss improved from 0.5966596132830569 to 0.5562456312932467\n",
      "\n",
      "\n",
      "Iteration 14/74 of epoch 6 complete. Loss : 0.27365039714745115 \n"
     ]
    },
    {
     "name": "stderr",
     "output_type": "stream",
     "text": [
      " 70%|███████   | 52/74 [00:00<00:00, 124.92it/s]"
     ]
    },
    {
     "name": "stdout",
     "output_type": "stream",
     "text": [
      "\n",
      "Iteration 28/74 of epoch 6 complete. Loss : 0.26996673217841555 \n",
      "\n",
      "Iteration 42/74 of epoch 6 complete. Loss : 0.26813630546842304 \n"
     ]
    },
    {
     "name": "stderr",
     "output_type": "stream",
     "text": [
      "100%|██████████| 74/74 [00:00<00:00, 124.58it/s]\n",
      "  0%|          | 0/19 [00:00<?, ?it/s]"
     ]
    },
    {
     "name": "stdout",
     "output_type": "stream",
     "text": [
      "\n",
      "Iteration 56/74 of epoch 6 complete. Loss : 0.2611853927373886 \n",
      "\n",
      "Iteration 70/74 of epoch 6 complete. Loss : 0.2604687831231526 \n"
     ]
    },
    {
     "name": "stderr",
     "output_type": "stream",
     "text": [
      "100%|██████████| 19/19 [00:00<00:00, 249.18it/s]\n",
      " 18%|█▊        | 13/74 [00:00<00:00, 128.97it/s]"
     ]
    },
    {
     "name": "stdout",
     "output_type": "stream",
     "text": [
      "\n",
      "Epoch 6 complete! Validation Loss : 0.5117799545589247\n",
      "Epoch 6 complete! Validation Accuracy : 0.9006250000000001\n",
      "Best validation loss improved from 0.5562456312932467 to 0.5117799545589247\n",
      "\n",
      "\n",
      "Iteration 14/74 of epoch 7 complete. Loss : 0.24883972853422165 \n"
     ]
    },
    {
     "name": "stderr",
     "output_type": "stream",
     "text": [
      " 70%|███████   | 52/74 [00:00<00:00, 128.03it/s]"
     ]
    },
    {
     "name": "stdout",
     "output_type": "stream",
     "text": [
      "\n",
      "Iteration 28/74 of epoch 7 complete. Loss : 0.24713537309850966 \n",
      "\n",
      "Iteration 42/74 of epoch 7 complete. Loss : 0.24370317586830684 \n"
     ]
    },
    {
     "name": "stderr",
     "output_type": "stream",
     "text": [
      "100%|██████████| 74/74 [00:00<00:00, 127.77it/s]\n",
      "  0%|          | 0/19 [00:00<?, ?it/s]"
     ]
    },
    {
     "name": "stdout",
     "output_type": "stream",
     "text": [
      "\n",
      "Iteration 56/74 of epoch 7 complete. Loss : 0.23997259778635843 \n",
      "\n",
      "Iteration 70/74 of epoch 7 complete. Loss : 0.23810166652713502 \n"
     ]
    },
    {
     "name": "stderr",
     "output_type": "stream",
     "text": [
      "100%|██████████| 19/19 [00:00<00:00, 239.12it/s]\n",
      " 18%|█▊        | 13/74 [00:00<00:00, 121.82it/s]"
     ]
    },
    {
     "name": "stdout",
     "output_type": "stream",
     "text": [
      "\n",
      "Epoch 7 complete! Validation Loss : 0.4655104075607501\n",
      "Epoch 7 complete! Validation Accuracy : 0.8975164473684212\n",
      "Best validation loss improved from 0.5117799545589247 to 0.4655104075607501\n",
      "\n",
      "\n",
      "Iteration 14/74 of epoch 8 complete. Loss : 0.22612635046243668 \n"
     ]
    },
    {
     "name": "stderr",
     "output_type": "stream",
     "text": [
      " 66%|██████▌   | 49/74 [00:00<00:00, 117.51it/s]"
     ]
    },
    {
     "name": "stdout",
     "output_type": "stream",
     "text": [
      "\n",
      "Iteration 28/74 of epoch 8 complete. Loss : 0.22382550899471557 \n",
      "\n",
      "Iteration 42/74 of epoch 8 complete. Loss : 0.21942441697631562 \n"
     ]
    },
    {
     "name": "stderr",
     "output_type": "stream",
     "text": [
      "100%|██████████| 74/74 [00:00<00:00, 118.95it/s]\n",
      "  0%|          | 0/19 [00:00<?, ?it/s]"
     ]
    },
    {
     "name": "stdout",
     "output_type": "stream",
     "text": [
      "\n",
      "Iteration 56/74 of epoch 8 complete. Loss : 0.21855284060750688 \n",
      "\n",
      "Iteration 70/74 of epoch 8 complete. Loss : 0.21401228329965047 \n"
     ]
    },
    {
     "name": "stderr",
     "output_type": "stream",
     "text": [
      "100%|██████████| 19/19 [00:00<00:00, 237.81it/s]\n",
      " 18%|█▊        | 13/74 [00:00<00:00, 129.28it/s]"
     ]
    },
    {
     "name": "stdout",
     "output_type": "stream",
     "text": [
      "\n",
      "Epoch 8 complete! Validation Loss : 0.4207723501481508\n",
      "Epoch 8 complete! Validation Accuracy : 0.8962828947368422\n",
      "Best validation loss improved from 0.4655104075607501 to 0.4207723501481508\n",
      "\n",
      "\n",
      "Iteration 14/74 of epoch 9 complete. Loss : 0.20730711413281305 \n"
     ]
    },
    {
     "name": "stderr",
     "output_type": "stream",
     "text": [
      " 70%|███████   | 52/74 [00:00<00:00, 127.17it/s]"
     ]
    },
    {
     "name": "stdout",
     "output_type": "stream",
     "text": [
      "\n",
      "Iteration 28/74 of epoch 9 complete. Loss : 0.19811356599841798 \n",
      "\n",
      "Iteration 42/74 of epoch 9 complete. Loss : 0.19980092559541976 \n"
     ]
    },
    {
     "name": "stderr",
     "output_type": "stream",
     "text": [
      "100%|██████████| 74/74 [00:00<00:00, 126.93it/s]\n",
      "  0%|          | 0/19 [00:00<?, ?it/s]"
     ]
    },
    {
     "name": "stdout",
     "output_type": "stream",
     "text": [
      "\n",
      "Iteration 56/74 of epoch 9 complete. Loss : 0.19395883913551057 \n",
      "\n",
      "Iteration 70/74 of epoch 9 complete. Loss : 0.1914765919957842 \n"
     ]
    },
    {
     "name": "stderr",
     "output_type": "stream",
     "text": [
      "100%|██████████| 19/19 [00:00<00:00, 249.24it/s]\n",
      " 18%|█▊        | 13/74 [00:00<00:00, 129.40it/s]"
     ]
    },
    {
     "name": "stdout",
     "output_type": "stream",
     "text": [
      "\n",
      "Epoch 9 complete! Validation Loss : 0.38087756853354604\n",
      "Epoch 9 complete! Validation Accuracy : 0.8942269736842107\n",
      "Best validation loss improved from 0.4207723501481508 to 0.38087756853354604\n",
      "\n",
      "\n",
      "Iteration 14/74 of epoch 10 complete. Loss : 0.18523794625486648 \n"
     ]
    },
    {
     "name": "stderr",
     "output_type": "stream",
     "text": [
      " 70%|███████   | 52/74 [00:00<00:00, 127.46it/s]"
     ]
    },
    {
     "name": "stdout",
     "output_type": "stream",
     "text": [
      "\n",
      "Iteration 28/74 of epoch 10 complete. Loss : 0.18024353682994843 \n",
      "\n",
      "Iteration 42/74 of epoch 10 complete. Loss : 0.18316421125616347 \n"
     ]
    },
    {
     "name": "stderr",
     "output_type": "stream",
     "text": [
      "100%|██████████| 74/74 [00:00<00:00, 126.78it/s]\n",
      "  0%|          | 0/19 [00:00<?, ?it/s]"
     ]
    },
    {
     "name": "stdout",
     "output_type": "stream",
     "text": [
      "\n",
      "Iteration 56/74 of epoch 10 complete. Loss : 0.18012778354542597 \n",
      "\n",
      "Iteration 70/74 of epoch 10 complete. Loss : 0.17193773921046937 \n"
     ]
    },
    {
     "name": "stderr",
     "output_type": "stream",
     "text": [
      "100%|██████████| 19/19 [00:00<00:00, 254.47it/s]\n",
      " 18%|█▊        | 13/74 [00:00<00:00, 126.22it/s]"
     ]
    },
    {
     "name": "stdout",
     "output_type": "stream",
     "text": [
      "\n",
      "Epoch 10 complete! Validation Loss : 0.34864472872332525\n",
      "Epoch 10 complete! Validation Accuracy : 0.8888815789473685\n",
      "Best validation loss improved from 0.38087756853354604 to 0.34864472872332525\n",
      "\n",
      "\n",
      "Iteration 14/74 of epoch 11 complete. Loss : 0.17370172164269856 \n"
     ]
    },
    {
     "name": "stderr",
     "output_type": "stream",
     "text": [
      " 70%|███████   | 52/74 [00:00<00:00, 124.49it/s]"
     ]
    },
    {
     "name": "stdout",
     "output_type": "stream",
     "text": [
      "\n",
      "Iteration 28/74 of epoch 11 complete. Loss : 0.1643433038677488 \n",
      "\n",
      "Iteration 42/74 of epoch 11 complete. Loss : 0.16782353073358536 \n"
     ]
    },
    {
     "name": "stderr",
     "output_type": "stream",
     "text": [
      "100%|██████████| 74/74 [00:00<00:00, 123.27it/s]\n",
      "  0%|          | 0/19 [00:00<?, ?it/s]"
     ]
    },
    {
     "name": "stdout",
     "output_type": "stream",
     "text": [
      "\n",
      "Iteration 56/74 of epoch 11 complete. Loss : 0.15901740959712438 \n",
      "\n",
      "Iteration 70/74 of epoch 11 complete. Loss : 0.16135845014027186 \n"
     ]
    },
    {
     "name": "stderr",
     "output_type": "stream",
     "text": [
      "100%|██████████| 19/19 [00:00<00:00, 252.25it/s]\n",
      " 18%|█▊        | 13/74 [00:00<00:00, 127.34it/s]"
     ]
    },
    {
     "name": "stdout",
     "output_type": "stream",
     "text": [
      "\n",
      "Epoch 11 complete! Validation Loss : 0.32477156425777237\n",
      "Epoch 11 complete! Validation Accuracy : 0.8876480263157895\n",
      "Best validation loss improved from 0.34864472872332525 to 0.32477156425777237\n",
      "\n",
      "\n",
      "Iteration 14/74 of epoch 12 complete. Loss : 0.15786597345556533 \n"
     ]
    },
    {
     "name": "stderr",
     "output_type": "stream",
     "text": [
      " 70%|███████   | 52/74 [00:00<00:00, 127.04it/s]"
     ]
    },
    {
     "name": "stdout",
     "output_type": "stream",
     "text": [
      "\n",
      "Iteration 28/74 of epoch 12 complete. Loss : 0.16096150981528418 \n",
      "\n",
      "Iteration 42/74 of epoch 12 complete. Loss : 0.15198467246123723 \n"
     ]
    },
    {
     "name": "stderr",
     "output_type": "stream",
     "text": [
      "100%|██████████| 74/74 [00:00<00:00, 126.68it/s]\n",
      "  0%|          | 0/19 [00:00<?, ?it/s]"
     ]
    },
    {
     "name": "stdout",
     "output_type": "stream",
     "text": [
      "\n",
      "Iteration 56/74 of epoch 12 complete. Loss : 0.1517407452421529 \n",
      "\n",
      "Iteration 70/74 of epoch 12 complete. Loss : 0.1498690444443907 \n"
     ]
    },
    {
     "name": "stderr",
     "output_type": "stream",
     "text": [
      "100%|██████████| 19/19 [00:00<00:00, 253.09it/s]\n",
      " 18%|█▊        | 13/74 [00:00<00:00, 129.76it/s]"
     ]
    },
    {
     "name": "stdout",
     "output_type": "stream",
     "text": [
      "\n",
      "Epoch 12 complete! Validation Loss : 0.30552070705514206\n",
      "Epoch 12 complete! Validation Accuracy : 0.8880592105263159\n",
      "Best validation loss improved from 0.32477156425777237 to 0.30552070705514206\n",
      "\n",
      "\n",
      "Iteration 14/74 of epoch 13 complete. Loss : 0.15476347931793757 \n"
     ]
    },
    {
     "name": "stderr",
     "output_type": "stream",
     "text": [
      " 70%|███████   | 52/74 [00:00<00:00, 127.72it/s]"
     ]
    },
    {
     "name": "stdout",
     "output_type": "stream",
     "text": [
      "\n",
      "Iteration 28/74 of epoch 13 complete. Loss : 0.13974925662790025 \n",
      "\n",
      "Iteration 42/74 of epoch 13 complete. Loss : 0.15383933005588396 \n"
     ]
    },
    {
     "name": "stderr",
     "output_type": "stream",
     "text": [
      "100%|██████████| 74/74 [00:00<00:00, 126.39it/s]\n",
      "  0%|          | 0/19 [00:00<?, ?it/s]"
     ]
    },
    {
     "name": "stdout",
     "output_type": "stream",
     "text": [
      "\n",
      "Iteration 56/74 of epoch 13 complete. Loss : 0.14073710250002996 \n",
      "\n",
      "Iteration 70/74 of epoch 13 complete. Loss : 0.13720051837818964 \n"
     ]
    },
    {
     "name": "stderr",
     "output_type": "stream",
     "text": [
      "100%|██████████| 19/19 [00:00<00:00, 251.72it/s]\n",
      " 18%|█▊        | 13/74 [00:00<00:00, 126.01it/s]"
     ]
    },
    {
     "name": "stdout",
     "output_type": "stream",
     "text": [
      "\n",
      "Epoch 13 complete! Validation Loss : 0.2898989664880853\n",
      "Epoch 13 complete! Validation Accuracy : 0.892171052631579\n",
      "Best validation loss improved from 0.30552070705514206 to 0.2898989664880853\n",
      "\n",
      "\n",
      "Iteration 14/74 of epoch 14 complete. Loss : 0.1332819653408868 \n"
     ]
    },
    {
     "name": "stderr",
     "output_type": "stream",
     "text": [
      " 70%|███████   | 52/74 [00:00<00:00, 124.63it/s]"
     ]
    },
    {
     "name": "stdout",
     "output_type": "stream",
     "text": [
      "\n",
      "Iteration 28/74 of epoch 14 complete. Loss : 0.14143644007188932 \n",
      "\n",
      "Iteration 42/74 of epoch 14 complete. Loss : 0.14150009996124677 \n"
     ]
    },
    {
     "name": "stderr",
     "output_type": "stream",
     "text": [
      "100%|██████████| 74/74 [00:00<00:00, 124.48it/s]\n",
      "  0%|          | 0/19 [00:00<?, ?it/s]"
     ]
    },
    {
     "name": "stdout",
     "output_type": "stream",
     "text": [
      "\n",
      "Iteration 56/74 of epoch 14 complete. Loss : 0.13743374017732485 \n",
      "\n",
      "Iteration 70/74 of epoch 14 complete. Loss : 0.1335513809961932 \n"
     ]
    },
    {
     "name": "stderr",
     "output_type": "stream",
     "text": [
      "100%|██████████| 19/19 [00:00<00:00, 252.48it/s]\n",
      " 18%|█▊        | 13/74 [00:00<00:00, 127.72it/s]"
     ]
    },
    {
     "name": "stdout",
     "output_type": "stream",
     "text": [
      "\n",
      "Epoch 14 complete! Validation Loss : 0.2755101519195657\n",
      "Epoch 14 complete! Validation Accuracy : 0.8975164473684212\n",
      "Best validation loss improved from 0.2898989664880853 to 0.2755101519195657\n",
      "\n",
      "\n",
      "Iteration 14/74 of epoch 15 complete. Loss : 0.13686523426856315 \n"
     ]
    },
    {
     "name": "stderr",
     "output_type": "stream",
     "text": [
      " 70%|███████   | 52/74 [00:00<00:00, 127.40it/s]"
     ]
    },
    {
     "name": "stdout",
     "output_type": "stream",
     "text": [
      "\n",
      "Iteration 28/74 of epoch 15 complete. Loss : 0.13094916939735413 \n",
      "\n",
      "Iteration 42/74 of epoch 15 complete. Loss : 0.13666439003178052 \n"
     ]
    },
    {
     "name": "stderr",
     "output_type": "stream",
     "text": [
      "100%|██████████| 74/74 [00:00<00:00, 126.90it/s]\n",
      "  0%|          | 0/19 [00:00<?, ?it/s]"
     ]
    },
    {
     "name": "stdout",
     "output_type": "stream",
     "text": [
      "\n",
      "Iteration 56/74 of epoch 15 complete. Loss : 0.12771454932434217 \n",
      "\n",
      "Iteration 70/74 of epoch 15 complete. Loss : 0.1245235348386424 \n"
     ]
    },
    {
     "name": "stderr",
     "output_type": "stream",
     "text": [
      "100%|██████████| 19/19 [00:00<00:00, 252.29it/s]\n",
      "  0%|          | 0/74 [00:00<?, ?it/s]"
     ]
    },
    {
     "name": "stdout",
     "output_type": "stream",
     "text": [
      "\n",
      "Epoch 15 complete! Validation Loss : 0.2619868258112355\n",
      "Epoch 15 complete! Validation Accuracy : 0.9063815789473685\n",
      "Best validation loss improved from 0.2755101519195657 to 0.2619868258112355\n",
      "\n"
     ]
    },
    {
     "name": "stderr",
     "output_type": "stream",
     "text": [
      " 43%|████▎     | 32/74 [00:00<00:01, 34.73it/s]"
     ]
    },
    {
     "name": "stdout",
     "output_type": "stream",
     "text": [
      "\n",
      "Iteration 14/74 of epoch 16 complete. Loss : 0.12621492519974709 \n",
      "\n",
      "Iteration 28/74 of epoch 16 complete. Loss : 0.1257068466927324 \n"
     ]
    },
    {
     "name": "stderr",
     "output_type": "stream",
     "text": [
      " 81%|████████  | 60/74 [00:00<00:00, 55.89it/s]"
     ]
    },
    {
     "name": "stdout",
     "output_type": "stream",
     "text": [
      "\n",
      "Iteration 42/74 of epoch 16 complete. Loss : 0.1225130632519722 \n",
      "\n",
      "Iteration 56/74 of epoch 16 complete. Loss : 0.12169285118579865 \n"
     ]
    },
    {
     "name": "stderr",
     "output_type": "stream",
     "text": [
      "100%|██████████| 74/74 [00:00<00:00, 102.27it/s]\n",
      "100%|██████████| 19/19 [00:00<00:00, 254.84it/s]\n",
      "  0%|          | 0/74 [00:00<?, ?it/s]"
     ]
    },
    {
     "name": "stdout",
     "output_type": "stream",
     "text": [
      "\n",
      "Iteration 70/74 of epoch 16 complete. Loss : 0.12278670445084572 \n",
      "\n",
      "Epoch 16 complete! Validation Loss : 0.2489282449609355\n",
      "Epoch 16 complete! Validation Accuracy : 0.9141940789473685\n",
      "Best validation loss improved from 0.2619868258112355 to 0.2489282449609355\n",
      "\n"
     ]
    },
    {
     "name": "stderr",
     "output_type": "stream",
     "text": [
      " 38%|███▊      | 28/74 [00:00<00:00, 135.25it/s]"
     ]
    },
    {
     "name": "stdout",
     "output_type": "stream",
     "text": [
      "\n",
      "Iteration 14/74 of epoch 17 complete. Loss : 0.11948338310633387 \n",
      "\n",
      "Iteration 28/74 of epoch 17 complete. Loss : 0.11497622515474047 \n"
     ]
    },
    {
     "name": "stderr",
     "output_type": "stream",
     "text": [
      " 76%|███████▌  | 56/74 [00:00<00:00, 133.63it/s]"
     ]
    },
    {
     "name": "stdout",
     "output_type": "stream",
     "text": [
      "\n",
      "Iteration 42/74 of epoch 17 complete. Loss : 0.11765098092811448 \n",
      "\n",
      "Iteration 56/74 of epoch 17 complete. Loss : 0.11907456602369036 \n"
     ]
    },
    {
     "name": "stderr",
     "output_type": "stream",
     "text": [
      "100%|██████████| 74/74 [00:00<00:00, 133.31it/s]\n",
      "100%|██████████| 19/19 [00:00<00:00, 255.20it/s]\n",
      "  0%|          | 0/74 [00:00<?, ?it/s]"
     ]
    },
    {
     "name": "stdout",
     "output_type": "stream",
     "text": [
      "\n",
      "Iteration 70/74 of epoch 17 complete. Loss : 0.11608205842120307 \n",
      "\n",
      "Epoch 17 complete! Validation Loss : 0.23602848774508425\n",
      "Epoch 17 complete! Validation Accuracy : 0.9240625000000001\n",
      "Best validation loss improved from 0.2489282449609355 to 0.23602848774508425\n",
      "\n"
     ]
    },
    {
     "name": "stderr",
     "output_type": "stream",
     "text": [
      " 38%|███▊      | 28/74 [00:00<00:00, 129.92it/s]"
     ]
    },
    {
     "name": "stdout",
     "output_type": "stream",
     "text": [
      "\n",
      "Iteration 14/74 of epoch 18 complete. Loss : 0.11585878740463938 \n",
      "\n",
      "Iteration 28/74 of epoch 18 complete. Loss : 0.11883046052285604 \n"
     ]
    },
    {
     "name": "stderr",
     "output_type": "stream",
     "text": [
      " 76%|███████▌  | 56/74 [00:00<00:00, 131.26it/s]"
     ]
    },
    {
     "name": "stdout",
     "output_type": "stream",
     "text": [
      "\n",
      "Iteration 42/74 of epoch 18 complete. Loss : 0.1086769567004272 \n",
      "\n",
      "Iteration 56/74 of epoch 18 complete. Loss : 0.11071679581488882 \n"
     ]
    },
    {
     "name": "stderr",
     "output_type": "stream",
     "text": [
      "100%|██████████| 74/74 [00:00<00:00, 131.88it/s]\n",
      "100%|██████████| 19/19 [00:00<00:00, 253.83it/s]\n",
      "  0%|          | 0/74 [00:00<?, ?it/s]"
     ]
    },
    {
     "name": "stdout",
     "output_type": "stream",
     "text": [
      "\n",
      "Iteration 70/74 of epoch 18 complete. Loss : 0.10849546215363912 \n",
      "\n",
      "Epoch 18 complete! Validation Loss : 0.22385422493282117\n",
      "Epoch 18 complete! Validation Accuracy : 0.933108552631579\n",
      "Best validation loss improved from 0.23602848774508425 to 0.22385422493282117\n",
      "\n"
     ]
    },
    {
     "name": "stderr",
     "output_type": "stream",
     "text": [
      " 38%|███▊      | 28/74 [00:00<00:00, 136.00it/s]"
     ]
    },
    {
     "name": "stdout",
     "output_type": "stream",
     "text": [
      "\n",
      "Iteration 14/74 of epoch 19 complete. Loss : 0.11214995437434741 \n",
      "\n",
      "Iteration 28/74 of epoch 19 complete. Loss : 0.10688088781067304 \n"
     ]
    },
    {
     "name": "stderr",
     "output_type": "stream",
     "text": [
      " 76%|███████▌  | 56/74 [00:00<00:00, 135.16it/s]"
     ]
    },
    {
     "name": "stdout",
     "output_type": "stream",
     "text": [
      "\n",
      "Iteration 42/74 of epoch 19 complete. Loss : 0.1041663336966719 \n",
      "\n",
      "Iteration 56/74 of epoch 19 complete. Loss : 0.10276759256209646 \n"
     ]
    },
    {
     "name": "stderr",
     "output_type": "stream",
     "text": [
      "100%|██████████| 74/74 [00:00<00:00, 134.99it/s]\n",
      "100%|██████████| 19/19 [00:00<00:00, 257.03it/s]\n",
      "  0%|          | 0/74 [00:00<?, ?it/s]"
     ]
    },
    {
     "name": "stdout",
     "output_type": "stream",
     "text": [
      "\n",
      "Iteration 70/74 of epoch 19 complete. Loss : 0.10393154355032104 \n",
      "\n",
      "Epoch 19 complete! Validation Loss : 0.2122031873778293\n",
      "Epoch 19 complete! Validation Accuracy : 0.9376315789473685\n",
      "Best validation loss improved from 0.22385422493282117 to 0.2122031873778293\n",
      "\n"
     ]
    },
    {
     "name": "stderr",
     "output_type": "stream",
     "text": [
      " 38%|███▊      | 28/74 [00:00<00:00, 131.78it/s]"
     ]
    },
    {
     "name": "stdout",
     "output_type": "stream",
     "text": [
      "\n",
      "Iteration 14/74 of epoch 20 complete. Loss : 0.10394016014678138 \n",
      "\n",
      "Iteration 28/74 of epoch 20 complete. Loss : 0.09737074481589454 \n"
     ]
    },
    {
     "name": "stderr",
     "output_type": "stream",
     "text": [
      " 76%|███████▌  | 56/74 [00:00<00:00, 131.41it/s]"
     ]
    },
    {
     "name": "stdout",
     "output_type": "stream",
     "text": [
      "\n",
      "Iteration 42/74 of epoch 20 complete. Loss : 0.10096076077648572 \n",
      "\n",
      "Iteration 56/74 of epoch 20 complete. Loss : 0.10488048781241689 \n"
     ]
    },
    {
     "name": "stderr",
     "output_type": "stream",
     "text": [
      "100%|██████████| 74/74 [00:00<00:00, 130.84it/s]\n",
      "100%|██████████| 19/19 [00:00<00:00, 255.20it/s]\n",
      "  0%|          | 0/74 [00:00<?, ?it/s]"
     ]
    },
    {
     "name": "stdout",
     "output_type": "stream",
     "text": [
      "\n",
      "Iteration 70/74 of epoch 20 complete. Loss : 0.0950674084680421 \n",
      "\n",
      "Epoch 20 complete! Validation Loss : 0.20046637638619072\n",
      "Epoch 20 complete! Validation Accuracy : 0.9423355263157895\n",
      "Best validation loss improved from 0.2122031873778293 to 0.20046637638619072\n",
      "\n"
     ]
    },
    {
     "name": "stderr",
     "output_type": "stream",
     "text": [
      " 38%|███▊      | 28/74 [00:00<00:00, 130.47it/s]"
     ]
    },
    {
     "name": "stdout",
     "output_type": "stream",
     "text": [
      "\n",
      "Iteration 14/74 of epoch 21 complete. Loss : 0.10330159004245486 \n",
      "\n",
      "Iteration 28/74 of epoch 21 complete. Loss : 0.09495886202369418 \n"
     ]
    },
    {
     "name": "stderr",
     "output_type": "stream",
     "text": [
      " 76%|███████▌  | 56/74 [00:00<00:00, 130.65it/s]"
     ]
    },
    {
     "name": "stdout",
     "output_type": "stream",
     "text": [
      "\n",
      "Iteration 42/74 of epoch 21 complete. Loss : 0.08938529235976082 \n",
      "\n",
      "Iteration 56/74 of epoch 21 complete. Loss : 0.09793209284543991 \n"
     ]
    },
    {
     "name": "stderr",
     "output_type": "stream",
     "text": [
      "100%|██████████| 74/74 [00:00<00:00, 130.35it/s]\n",
      "100%|██████████| 19/19 [00:00<00:00, 244.77it/s]\n",
      "  0%|          | 0/74 [00:00<?, ?it/s]"
     ]
    },
    {
     "name": "stdout",
     "output_type": "stream",
     "text": [
      "\n",
      "Iteration 70/74 of epoch 21 complete. Loss : 0.09029755315610341 \n",
      "\n",
      "Epoch 21 complete! Validation Loss : 0.18964069297439173\n",
      "Epoch 21 complete! Validation Accuracy : 0.9452138157894737\n",
      "Best validation loss improved from 0.20046637638619072 to 0.18964069297439173\n",
      "\n"
     ]
    },
    {
     "name": "stderr",
     "output_type": "stream",
     "text": [
      " 38%|███▊      | 28/74 [00:00<00:00, 132.46it/s]"
     ]
    },
    {
     "name": "stdout",
     "output_type": "stream",
     "text": [
      "\n",
      "Iteration 14/74 of epoch 22 complete. Loss : 0.09392676608903068 \n",
      "\n",
      "Iteration 28/74 of epoch 22 complete. Loss : 0.08896251661436898 \n"
     ]
    },
    {
     "name": "stderr",
     "output_type": "stream",
     "text": [
      " 73%|███████▎  | 54/74 [00:00<00:00, 126.24it/s]"
     ]
    },
    {
     "name": "stdout",
     "output_type": "stream",
     "text": [
      "\n",
      "Iteration 42/74 of epoch 22 complete. Loss : 0.09198999830654689 \n",
      "\n",
      "Iteration 56/74 of epoch 22 complete. Loss : 0.08697558992675372 \n"
     ]
    },
    {
     "name": "stderr",
     "output_type": "stream",
     "text": [
      "100%|██████████| 74/74 [00:00<00:00, 125.95it/s]\n",
      "100%|██████████| 19/19 [00:00<00:00, 242.33it/s]\n",
      "  0%|          | 0/74 [00:00<?, ?it/s]"
     ]
    },
    {
     "name": "stdout",
     "output_type": "stream",
     "text": [
      "\n",
      "Iteration 70/74 of epoch 22 complete. Loss : 0.08327993910227503 \n",
      "\n",
      "Epoch 22 complete! Validation Loss : 0.17942926679786883\n",
      "Epoch 22 complete! Validation Accuracy : 0.9528453947368422\n",
      "Best validation loss improved from 0.18964069297439173 to 0.17942926679786883\n",
      "\n"
     ]
    },
    {
     "name": "stderr",
     "output_type": "stream",
     "text": [
      " 53%|█████▎    | 39/74 [00:00<00:00, 127.45it/s]"
     ]
    },
    {
     "name": "stdout",
     "output_type": "stream",
     "text": [
      "\n",
      "Iteration 14/74 of epoch 23 complete. Loss : 0.08886981649058205 \n",
      "\n",
      "Iteration 28/74 of epoch 23 complete. Loss : 0.08877142359103475 \n"
     ]
    },
    {
     "name": "stderr",
     "output_type": "stream",
     "text": [
      " 89%|████████▉ | 66/74 [00:00<00:00, 129.01it/s]"
     ]
    },
    {
     "name": "stdout",
     "output_type": "stream",
     "text": [
      "\n",
      "Iteration 42/74 of epoch 23 complete. Loss : 0.07913317105599812 \n",
      "\n",
      "Iteration 56/74 of epoch 23 complete. Loss : 0.08356021131787982 \n"
     ]
    },
    {
     "name": "stderr",
     "output_type": "stream",
     "text": [
      "100%|██████████| 74/74 [00:00<00:00, 128.31it/s]\n",
      "100%|██████████| 19/19 [00:00<00:00, 254.53it/s]\n",
      "  0%|          | 0/74 [00:00<?, ?it/s]"
     ]
    },
    {
     "name": "stdout",
     "output_type": "stream",
     "text": [
      "\n",
      "Iteration 70/74 of epoch 23 complete. Loss : 0.08281860314309597 \n",
      "\n",
      "Epoch 23 complete! Validation Loss : 0.16957903692596837\n",
      "Epoch 23 complete! Validation Accuracy : 0.9553125000000001\n",
      "Best validation loss improved from 0.17942926679786883 to 0.16957903692596837\n",
      "\n"
     ]
    },
    {
     "name": "stderr",
     "output_type": "stream",
     "text": [
      " 38%|███▊      | 28/74 [00:00<00:00, 132.57it/s]"
     ]
    },
    {
     "name": "stdout",
     "output_type": "stream",
     "text": [
      "\n",
      "Iteration 14/74 of epoch 24 complete. Loss : 0.07949442363211087 \n",
      "\n",
      "Iteration 28/74 of epoch 24 complete. Loss : 0.07650479381637913 \n"
     ]
    },
    {
     "name": "stderr",
     "output_type": "stream",
     "text": [
      " 76%|███████▌  | 56/74 [00:00<00:00, 132.34it/s]"
     ]
    },
    {
     "name": "stdout",
     "output_type": "stream",
     "text": [
      "\n",
      "Iteration 42/74 of epoch 24 complete. Loss : 0.08416033004011426 \n",
      "\n",
      "Iteration 56/74 of epoch 24 complete. Loss : 0.0775486986551966 \n"
     ]
    },
    {
     "name": "stderr",
     "output_type": "stream",
     "text": [
      "100%|██████████| 74/74 [00:00<00:00, 131.91it/s]\n",
      "100%|██████████| 19/19 [00:00<00:00, 256.97it/s]\n",
      "  0%|          | 0/74 [00:00<?, ?it/s]"
     ]
    },
    {
     "name": "stdout",
     "output_type": "stream",
     "text": [
      "\n",
      "Iteration 70/74 of epoch 24 complete. Loss : 0.07944587112537452 \n",
      "\n",
      "Epoch 24 complete! Validation Loss : 0.15993391055809825\n",
      "Epoch 24 complete! Validation Accuracy : 0.9586019736842106\n",
      "Best validation loss improved from 0.16957903692596837 to 0.15993391055809825\n",
      "\n"
     ]
    },
    {
     "name": "stderr",
     "output_type": "stream",
     "text": [
      " 38%|███▊      | 28/74 [00:00<00:00, 130.35it/s]"
     ]
    },
    {
     "name": "stdout",
     "output_type": "stream",
     "text": [
      "\n",
      "Iteration 14/74 of epoch 25 complete. Loss : 0.07881215108292443 \n",
      "\n",
      "Iteration 28/74 of epoch 25 complete. Loss : 0.07199288771620818 \n"
     ]
    },
    {
     "name": "stderr",
     "output_type": "stream",
     "text": [
      " 92%|█████████▏| 68/74 [00:00<00:00, 130.28it/s]"
     ]
    },
    {
     "name": "stdout",
     "output_type": "stream",
     "text": [
      "\n",
      "Iteration 42/74 of epoch 25 complete. Loss : 0.0772681858922754 \n",
      "\n",
      "Iteration 56/74 of epoch 25 complete. Loss : 0.0738161142383303 \n"
     ]
    },
    {
     "name": "stderr",
     "output_type": "stream",
     "text": [
      "100%|██████████| 74/74 [00:00<00:00, 130.03it/s]\n",
      "100%|██████████| 19/19 [00:00<00:00, 253.88it/s]\n",
      "  0%|          | 0/74 [00:00<?, ?it/s]"
     ]
    },
    {
     "name": "stdout",
     "output_type": "stream",
     "text": [
      "\n",
      "Iteration 70/74 of epoch 25 complete. Loss : 0.07185965164431504 \n",
      "\n",
      "Epoch 25 complete! Validation Loss : 0.15108438934150495\n",
      "Epoch 25 complete! Validation Accuracy : 0.9614802631578948\n",
      "Best validation loss improved from 0.15993391055809825 to 0.15108438934150495\n",
      "\n"
     ]
    },
    {
     "name": "stderr",
     "output_type": "stream",
     "text": [
      " 38%|███▊      | 28/74 [00:00<00:00, 134.26it/s]"
     ]
    },
    {
     "name": "stdout",
     "output_type": "stream",
     "text": [
      "\n",
      "Iteration 14/74 of epoch 26 complete. Loss : 0.07040751326297011 \n",
      "\n",
      "Iteration 28/74 of epoch 26 complete. Loss : 0.07447800599038601 \n"
     ]
    },
    {
     "name": "stderr",
     "output_type": "stream",
     "text": [
      " 76%|███████▌  | 56/74 [00:00<00:00, 134.37it/s]"
     ]
    },
    {
     "name": "stdout",
     "output_type": "stream",
     "text": [
      "\n",
      "Iteration 42/74 of epoch 26 complete. Loss : 0.06989832195852484 \n",
      "\n",
      "Iteration 56/74 of epoch 26 complete. Loss : 0.06623874604701996 \n"
     ]
    },
    {
     "name": "stderr",
     "output_type": "stream",
     "text": [
      "100%|██████████| 74/74 [00:00<00:00, 133.95it/s]\n",
      "100%|██████████| 19/19 [00:00<00:00, 257.40it/s]"
     ]
    },
    {
     "name": "stdout",
     "output_type": "stream",
     "text": [
      "\n",
      "Iteration 70/74 of epoch 26 complete. Loss : 0.07299736009112426 \n"
     ]
    },
    {
     "name": "stderr",
     "output_type": "stream",
     "text": [
      "\n",
      " 18%|█▊        | 13/74 [00:00<00:00, 129.24it/s]"
     ]
    },
    {
     "name": "stdout",
     "output_type": "stream",
     "text": [
      "\n",
      "Epoch 26 complete! Validation Loss : 0.14269524459776126\n",
      "Epoch 26 complete! Validation Accuracy : 0.9645888157894738\n",
      "Best validation loss improved from 0.15108438934150495 to 0.14269524459776126\n",
      "\n",
      "\n",
      "Iteration 14/74 of epoch 27 complete. Loss : 0.06903109619660037 \n"
     ]
    },
    {
     "name": "stderr",
     "output_type": "stream",
     "text": [
      " 73%|███████▎  | 54/74 [00:00<00:00, 130.23it/s]"
     ]
    },
    {
     "name": "stdout",
     "output_type": "stream",
     "text": [
      "\n",
      "Iteration 28/74 of epoch 27 complete. Loss : 0.06582716533115932 \n",
      "\n",
      "Iteration 42/74 of epoch 27 complete. Loss : 0.06383394290293966 \n"
     ]
    },
    {
     "name": "stderr",
     "output_type": "stream",
     "text": [
      "100%|██████████| 74/74 [00:00<00:00, 130.48it/s]\n",
      "  0%|          | 0/19 [00:00<?, ?it/s]"
     ]
    },
    {
     "name": "stdout",
     "output_type": "stream",
     "text": [
      "\n",
      "Iteration 56/74 of epoch 27 complete. Loss : 0.06641901869859014 \n",
      "\n",
      "Iteration 70/74 of epoch 27 complete. Loss : 0.06527286022901535 \n"
     ]
    },
    {
     "name": "stderr",
     "output_type": "stream",
     "text": [
      "100%|██████████| 19/19 [00:00<00:00, 248.34it/s]\n",
      " 19%|█▉        | 14/74 [00:00<00:00, 135.20it/s]"
     ]
    },
    {
     "name": "stdout",
     "output_type": "stream",
     "text": [
      "\n",
      "Epoch 27 complete! Validation Loss : 0.13514273848972821\n",
      "Epoch 27 complete! Validation Accuracy : 0.966233552631579\n",
      "Best validation loss improved from 0.14269524459776126 to 0.13514273848972821\n",
      "\n",
      "\n",
      "Iteration 14/74 of epoch 28 complete. Loss : 0.059807476454547474 \n"
     ]
    },
    {
     "name": "stderr",
     "output_type": "stream",
     "text": [
      " 57%|█████▋    | 42/74 [00:00<00:00, 133.08it/s]"
     ]
    },
    {
     "name": "stdout",
     "output_type": "stream",
     "text": [
      "\n",
      "Iteration 28/74 of epoch 28 complete. Loss : 0.06526666773217064 \n",
      "\n",
      "Iteration 42/74 of epoch 28 complete. Loss : 0.06192114842789514 \n"
     ]
    },
    {
     "name": "stderr",
     "output_type": "stream",
     "text": [
      "100%|██████████| 74/74 [00:00<00:00, 132.03it/s]\n",
      "  0%|          | 0/19 [00:00<?, ?it/s]"
     ]
    },
    {
     "name": "stdout",
     "output_type": "stream",
     "text": [
      "\n",
      "Iteration 56/74 of epoch 28 complete. Loss : 0.06385433860123158 \n",
      "\n",
      "Iteration 70/74 of epoch 28 complete. Loss : 0.0627007968723774 \n"
     ]
    },
    {
     "name": "stderr",
     "output_type": "stream",
     "text": [
      "100%|██████████| 19/19 [00:00<00:00, 253.76it/s]\n",
      " 19%|█▉        | 14/74 [00:00<00:00, 131.38it/s]"
     ]
    },
    {
     "name": "stdout",
     "output_type": "stream",
     "text": [
      "\n",
      "Epoch 28 complete! Validation Loss : 0.1273207942906179\n",
      "Epoch 28 complete! Validation Accuracy : 0.9705263157894738\n",
      "Best validation loss improved from 0.13514273848972821 to 0.1273207942906179\n",
      "\n",
      "\n",
      "Iteration 14/74 of epoch 29 complete. Loss : 0.05939804097371442 \n"
     ]
    },
    {
     "name": "stderr",
     "output_type": "stream",
     "text": [
      " 57%|█████▋    | 42/74 [00:00<00:00, 131.46it/s]"
     ]
    },
    {
     "name": "stdout",
     "output_type": "stream",
     "text": [
      "\n",
      "Iteration 28/74 of epoch 29 complete. Loss : 0.06471001889024462 \n",
      "\n",
      "Iteration 42/74 of epoch 29 complete. Loss : 0.061701664701104164 \n"
     ]
    },
    {
     "name": "stderr",
     "output_type": "stream",
     "text": [
      "100%|██████████| 74/74 [00:00<00:00, 131.81it/s]\n",
      "  0%|          | 0/19 [00:00<?, ?it/s]"
     ]
    },
    {
     "name": "stdout",
     "output_type": "stream",
     "text": [
      "\n",
      "Iteration 56/74 of epoch 29 complete. Loss : 0.05709516257047653 \n",
      "\n",
      "Iteration 70/74 of epoch 29 complete. Loss : 0.05547533929347992 \n"
     ]
    },
    {
     "name": "stderr",
     "output_type": "stream",
     "text": [
      "100%|██████████| 19/19 [00:00<00:00, 254.60it/s]\n",
      " 19%|█▉        | 14/74 [00:00<00:00, 131.96it/s]"
     ]
    },
    {
     "name": "stdout",
     "output_type": "stream",
     "text": [
      "\n",
      "Epoch 29 complete! Validation Loss : 0.1206185802033073\n",
      "Epoch 29 complete! Validation Accuracy : 0.9724013157894738\n",
      "Best validation loss improved from 0.1273207942906179 to 0.1206185802033073\n",
      "\n",
      "\n",
      "Iteration 14/74 of epoch 30 complete. Loss : 0.05707955573286329 \n"
     ]
    },
    {
     "name": "stderr",
     "output_type": "stream",
     "text": [
      " 57%|█████▋    | 42/74 [00:00<00:00, 131.79it/s]"
     ]
    },
    {
     "name": "stdout",
     "output_type": "stream",
     "text": [
      "\n",
      "Iteration 28/74 of epoch 30 complete. Loss : 0.060264271550944874 \n",
      "\n",
      "Iteration 42/74 of epoch 30 complete. Loss : 0.05397693839456354 \n"
     ]
    },
    {
     "name": "stderr",
     "output_type": "stream",
     "text": [
      "100%|██████████| 74/74 [00:00<00:00, 132.02it/s]\n",
      "  0%|          | 0/19 [00:00<?, ?it/s]"
     ]
    },
    {
     "name": "stdout",
     "output_type": "stream",
     "text": [
      "\n",
      "Iteration 56/74 of epoch 30 complete. Loss : 0.05040362583739417 \n",
      "\n",
      "Iteration 70/74 of epoch 30 complete. Loss : 0.056652434702430456 \n"
     ]
    },
    {
     "name": "stderr",
     "output_type": "stream",
     "text": [
      "100%|██████████| 19/19 [00:00<00:00, 254.60it/s]\n",
      " 19%|█▉        | 14/74 [00:00<00:00, 138.41it/s]"
     ]
    },
    {
     "name": "stdout",
     "output_type": "stream",
     "text": [
      "\n",
      "Epoch 30 complete! Validation Loss : 0.11437584224500154\n",
      "Epoch 30 complete! Validation Accuracy : 0.9717598684210527\n",
      "Best validation loss improved from 0.1206185802033073 to 0.11437584224500154\n",
      "\n",
      "\n",
      "Iteration 14/74 of epoch 31 complete. Loss : 0.0540168575410332 \n"
     ]
    },
    {
     "name": "stderr",
     "output_type": "stream",
     "text": [
      " 57%|█████▋    | 42/74 [00:00<00:00, 135.56it/s]"
     ]
    },
    {
     "name": "stdout",
     "output_type": "stream",
     "text": [
      "\n",
      "Iteration 28/74 of epoch 31 complete. Loss : 0.053638189498867304 \n",
      "\n",
      "Iteration 42/74 of epoch 31 complete. Loss : 0.051737062366945405 \n"
     ]
    },
    {
     "name": "stderr",
     "output_type": "stream",
     "text": [
      "100%|██████████| 74/74 [00:00<00:00, 133.42it/s]\n",
      "  0%|          | 0/19 [00:00<?, ?it/s]"
     ]
    },
    {
     "name": "stdout",
     "output_type": "stream",
     "text": [
      "\n",
      "Iteration 56/74 of epoch 31 complete. Loss : 0.05199775232800415 \n",
      "\n",
      "Iteration 70/74 of epoch 31 complete. Loss : 0.05453079513141087 \n"
     ]
    },
    {
     "name": "stderr",
     "output_type": "stream",
     "text": [
      "100%|██████████| 19/19 [00:00<00:00, 252.32it/s]\n",
      " 19%|█▉        | 14/74 [00:00<00:00, 133.23it/s]"
     ]
    },
    {
     "name": "stdout",
     "output_type": "stream",
     "text": [
      "\n",
      "Epoch 31 complete! Validation Loss : 0.10825117206887196\n",
      "Epoch 31 complete! Validation Accuracy : 0.972171052631579\n",
      "Best validation loss improved from 0.11437584224500154 to 0.10825117206887196\n",
      "\n",
      "\n",
      "Iteration 14/74 of epoch 32 complete. Loss : 0.049660252939377515 \n"
     ]
    },
    {
     "name": "stderr",
     "output_type": "stream",
     "text": [
      " 57%|█████▋    | 42/74 [00:00<00:00, 132.77it/s]"
     ]
    },
    {
     "name": "stdout",
     "output_type": "stream",
     "text": [
      "\n",
      "Iteration 28/74 of epoch 32 complete. Loss : 0.05097479825573308 \n",
      "\n",
      "Iteration 42/74 of epoch 32 complete. Loss : 0.048857828602194786 \n"
     ]
    },
    {
     "name": "stderr",
     "output_type": "stream",
     "text": [
      "100%|██████████| 74/74 [00:00<00:00, 132.10it/s]\n",
      "  0%|          | 0/19 [00:00<?, ?it/s]"
     ]
    },
    {
     "name": "stdout",
     "output_type": "stream",
     "text": [
      "\n",
      "Iteration 56/74 of epoch 32 complete. Loss : 0.04866232882652964 \n",
      "\n",
      "Iteration 70/74 of epoch 32 complete. Loss : 0.052326678697552 \n"
     ]
    },
    {
     "name": "stderr",
     "output_type": "stream",
     "text": [
      "100%|██████████| 19/19 [00:00<00:00, 254.51it/s]\n",
      " 19%|█▉        | 14/74 [00:00<00:00, 134.72it/s]"
     ]
    },
    {
     "name": "stdout",
     "output_type": "stream",
     "text": [
      "\n",
      "Epoch 32 complete! Validation Loss : 0.10289741699632846\n",
      "Epoch 32 complete! Validation Accuracy : 0.9742269736842106\n",
      "Best validation loss improved from 0.10825117206887196 to 0.10289741699632846\n",
      "\n",
      "\n",
      "Iteration 14/74 of epoch 33 complete. Loss : 0.04831603728234768 \n"
     ]
    },
    {
     "name": "stderr",
     "output_type": "stream",
     "text": [
      " 57%|█████▋    | 42/74 [00:00<00:00, 133.73it/s]"
     ]
    },
    {
     "name": "stdout",
     "output_type": "stream",
     "text": [
      "\n",
      "Iteration 28/74 of epoch 33 complete. Loss : 0.04662704946739333 \n",
      "\n",
      "Iteration 42/74 of epoch 33 complete. Loss : 0.04643613685454641 \n"
     ]
    },
    {
     "name": "stderr",
     "output_type": "stream",
     "text": [
      "100%|██████████| 74/74 [00:00<00:00, 133.49it/s]\n",
      "  0%|          | 0/19 [00:00<?, ?it/s]"
     ]
    },
    {
     "name": "stdout",
     "output_type": "stream",
     "text": [
      "\n",
      "Iteration 56/74 of epoch 33 complete. Loss : 0.04726182722619602 \n",
      "\n",
      "Iteration 70/74 of epoch 33 complete. Loss : 0.049780367208378654 \n"
     ]
    },
    {
     "name": "stderr",
     "output_type": "stream",
     "text": [
      "100%|██████████| 19/19 [00:00<00:00, 252.62it/s]\n",
      " 19%|█▉        | 14/74 [00:00<00:00, 134.61it/s]"
     ]
    },
    {
     "name": "stdout",
     "output_type": "stream",
     "text": [
      "\n",
      "Epoch 33 complete! Validation Loss : 0.09783181783400084\n",
      "Epoch 33 complete! Validation Accuracy : 0.9738157894736843\n",
      "Best validation loss improved from 0.10289741699632846 to 0.09783181783400084\n",
      "\n",
      "\n",
      "Iteration 14/74 of epoch 34 complete. Loss : 0.04695049673318863 \n"
     ]
    },
    {
     "name": "stderr",
     "output_type": "stream",
     "text": [
      " 57%|█████▋    | 42/74 [00:00<00:00, 132.99it/s]"
     ]
    },
    {
     "name": "stdout",
     "output_type": "stream",
     "text": [
      "\n",
      "Iteration 28/74 of epoch 34 complete. Loss : 0.0448891996805157 \n",
      "\n",
      "Iteration 42/74 of epoch 34 complete. Loss : 0.04519620018878153 \n"
     ]
    },
    {
     "name": "stderr",
     "output_type": "stream",
     "text": [
      "100%|██████████| 74/74 [00:00<00:00, 131.88it/s]\n",
      "  0%|          | 0/19 [00:00<?, ?it/s]"
     ]
    },
    {
     "name": "stdout",
     "output_type": "stream",
     "text": [
      "\n",
      "Iteration 56/74 of epoch 34 complete. Loss : 0.043309208271758895 \n",
      "\n",
      "Iteration 70/74 of epoch 34 complete. Loss : 0.046275023104889054 \n"
     ]
    },
    {
     "name": "stderr",
     "output_type": "stream",
     "text": [
      "100%|██████████| 19/19 [00:00<00:00, 255.01it/s]\n",
      " 19%|█▉        | 14/74 [00:00<00:00, 131.38it/s]"
     ]
    },
    {
     "name": "stdout",
     "output_type": "stream",
     "text": [
      "\n",
      "Epoch 34 complete! Validation Loss : 0.09341936519271449\n",
      "Epoch 34 complete! Validation Accuracy : 0.9750493421052632\n",
      "Best validation loss improved from 0.09783181783400084 to 0.09341936519271449\n",
      "\n",
      "\n",
      "Iteration 14/74 of epoch 35 complete. Loss : 0.044921030955655236 \n"
     ]
    },
    {
     "name": "stderr",
     "output_type": "stream",
     "text": [
      " 57%|█████▋    | 42/74 [00:00<00:00, 131.71it/s]"
     ]
    },
    {
     "name": "stdout",
     "output_type": "stream",
     "text": [
      "\n",
      "Iteration 28/74 of epoch 35 complete. Loss : 0.045937791865851195 \n",
      "\n",
      "Iteration 42/74 of epoch 35 complete. Loss : 0.04307364206761122 \n"
     ]
    },
    {
     "name": "stderr",
     "output_type": "stream",
     "text": [
      "100%|██████████| 74/74 [00:00<00:00, 130.88it/s]\n",
      "  0%|          | 0/19 [00:00<?, ?it/s]"
     ]
    },
    {
     "name": "stdout",
     "output_type": "stream",
     "text": [
      "\n",
      "Iteration 56/74 of epoch 35 complete. Loss : 0.03748663155628102 \n",
      "\n",
      "Iteration 70/74 of epoch 35 complete. Loss : 0.04446052413965974 \n"
     ]
    },
    {
     "name": "stderr",
     "output_type": "stream",
     "text": [
      "100%|██████████| 19/19 [00:00<00:00, 254.80it/s]\n",
      " 19%|█▉        | 14/74 [00:00<00:00, 132.84it/s]"
     ]
    },
    {
     "name": "stdout",
     "output_type": "stream",
     "text": [
      "\n",
      "Epoch 35 complete! Validation Loss : 0.08901375806645344\n",
      "Epoch 35 complete! Validation Accuracy : 0.9750493421052632\n",
      "Best validation loss improved from 0.09341936519271449 to 0.08901375806645344\n",
      "\n",
      "\n",
      "Iteration 14/74 of epoch 36 complete. Loss : 0.04255761139627014 \n"
     ]
    },
    {
     "name": "stderr",
     "output_type": "stream",
     "text": [
      " 57%|█████▋    | 42/74 [00:00<00:00, 132.46it/s]"
     ]
    },
    {
     "name": "stdout",
     "output_type": "stream",
     "text": [
      "\n",
      "Iteration 28/74 of epoch 36 complete. Loss : 0.04173474386334419 \n",
      "\n",
      "Iteration 42/74 of epoch 36 complete. Loss : 0.04034406305955989 \n"
     ]
    },
    {
     "name": "stderr",
     "output_type": "stream",
     "text": [
      "100%|██████████| 74/74 [00:00<00:00, 132.08it/s]\n",
      "  0%|          | 0/19 [00:00<?, ?it/s]"
     ]
    },
    {
     "name": "stdout",
     "output_type": "stream",
     "text": [
      "\n",
      "Iteration 56/74 of epoch 36 complete. Loss : 0.04143367973821504 \n",
      "\n",
      "Iteration 70/74 of epoch 36 complete. Loss : 0.039596559080694406 \n"
     ]
    },
    {
     "name": "stderr",
     "output_type": "stream",
     "text": [
      "100%|██████████| 19/19 [00:00<00:00, 254.68it/s]\n",
      " 19%|█▉        | 14/74 [00:00<00:00, 132.55it/s]"
     ]
    },
    {
     "name": "stdout",
     "output_type": "stream",
     "text": [
      "\n",
      "Epoch 36 complete! Validation Loss : 0.08523665309736603\n",
      "Epoch 36 complete! Validation Accuracy : 0.9762828947368422\n",
      "Best validation loss improved from 0.08901375806645344 to 0.08523665309736603\n",
      "\n",
      "\n",
      "Iteration 14/74 of epoch 37 complete. Loss : 0.0428618835285306 \n"
     ]
    },
    {
     "name": "stderr",
     "output_type": "stream",
     "text": [
      " 57%|█████▋    | 42/74 [00:00<00:00, 132.33it/s]"
     ]
    },
    {
     "name": "stdout",
     "output_type": "stream",
     "text": [
      "\n",
      "Iteration 28/74 of epoch 37 complete. Loss : 0.03685792229537453 \n",
      "\n",
      "Iteration 42/74 of epoch 37 complete. Loss : 0.040050601320607324 \n"
     ]
    },
    {
     "name": "stderr",
     "output_type": "stream",
     "text": [
      "100%|██████████| 74/74 [00:00<00:00, 131.75it/s]\n",
      "  0%|          | 0/19 [00:00<?, ?it/s]"
     ]
    },
    {
     "name": "stdout",
     "output_type": "stream",
     "text": [
      "\n",
      "Iteration 56/74 of epoch 37 complete. Loss : 0.03839903684066875 \n",
      "\n",
      "Iteration 70/74 of epoch 37 complete. Loss : 0.03666630347392389 \n"
     ]
    },
    {
     "name": "stderr",
     "output_type": "stream",
     "text": [
      "100%|██████████| 19/19 [00:00<00:00, 253.85it/s]\n",
      " 19%|█▉        | 14/74 [00:00<00:00, 131.48it/s]"
     ]
    },
    {
     "name": "stdout",
     "output_type": "stream",
     "text": [
      "\n",
      "Epoch 37 complete! Validation Loss : 0.08219267996518236\n",
      "Epoch 37 complete! Validation Accuracy : 0.9750493421052632\n",
      "Best validation loss improved from 0.08523665309736603 to 0.08219267996518236\n",
      "\n",
      "\n",
      "Iteration 14/74 of epoch 38 complete. Loss : 0.037271853004183085 \n"
     ]
    },
    {
     "name": "stderr",
     "output_type": "stream",
     "text": [
      " 57%|█████▋    | 42/74 [00:00<00:00, 130.78it/s]"
     ]
    },
    {
     "name": "stdout",
     "output_type": "stream",
     "text": [
      "\n",
      "Iteration 28/74 of epoch 38 complete. Loss : 0.043817225843667984 \n",
      "\n",
      "Iteration 42/74 of epoch 38 complete. Loss : 0.03777865706277745 \n"
     ]
    },
    {
     "name": "stderr",
     "output_type": "stream",
     "text": [
      "100%|██████████| 74/74 [00:00<00:00, 130.60it/s]\n",
      "  0%|          | 0/19 [00:00<?, ?it/s]"
     ]
    },
    {
     "name": "stdout",
     "output_type": "stream",
     "text": [
      "\n",
      "Iteration 56/74 of epoch 38 complete. Loss : 0.03505228792450258 \n",
      "\n",
      "Iteration 70/74 of epoch 38 complete. Loss : 0.03333847291235413 \n"
     ]
    },
    {
     "name": "stderr",
     "output_type": "stream",
     "text": [
      "100%|██████████| 19/19 [00:00<00:00, 252.69it/s]\n",
      " 19%|█▉        | 14/74 [00:00<00:00, 131.98it/s]"
     ]
    },
    {
     "name": "stdout",
     "output_type": "stream",
     "text": [
      "\n",
      "Epoch 38 complete! Validation Loss : 0.07918723025604298\n",
      "Epoch 38 complete! Validation Accuracy : 0.9769243421052632\n",
      "Best validation loss improved from 0.08219267996518236 to 0.07918723025604298\n",
      "\n",
      "\n",
      "Iteration 14/74 of epoch 39 complete. Loss : 0.033517460604863505 \n"
     ]
    },
    {
     "name": "stderr",
     "output_type": "stream",
     "text": [
      " 57%|█████▋    | 42/74 [00:00<00:00, 131.52it/s]"
     ]
    },
    {
     "name": "stdout",
     "output_type": "stream",
     "text": [
      "\n",
      "Iteration 28/74 of epoch 39 complete. Loss : 0.03833222615399531 \n",
      "\n",
      "Iteration 42/74 of epoch 39 complete. Loss : 0.03330391552299261 \n"
     ]
    },
    {
     "name": "stderr",
     "output_type": "stream",
     "text": [
      "100%|██████████| 74/74 [00:00<00:00, 131.43it/s]\n",
      "  0%|          | 0/19 [00:00<?, ?it/s]"
     ]
    },
    {
     "name": "stdout",
     "output_type": "stream",
     "text": [
      "\n",
      "Iteration 56/74 of epoch 39 complete. Loss : 0.033564219783459394 \n",
      "\n",
      "Iteration 70/74 of epoch 39 complete. Loss : 0.03900237514504364 \n"
     ]
    },
    {
     "name": "stderr",
     "output_type": "stream",
     "text": [
      "100%|██████████| 19/19 [00:00<00:00, 255.16it/s]\n",
      " 19%|█▉        | 14/74 [00:00<00:00, 132.77it/s]"
     ]
    },
    {
     "name": "stdout",
     "output_type": "stream",
     "text": [
      "\n",
      "Epoch 39 complete! Validation Loss : 0.07567459246829937\n",
      "Epoch 39 complete! Validation Accuracy : 0.9779276315789475\n",
      "Best validation loss improved from 0.07918723025604298 to 0.07567459246829937\n",
      "\n",
      "\n",
      "Iteration 14/74 of epoch 40 complete. Loss : 0.03400751349649259 \n"
     ]
    },
    {
     "name": "stderr",
     "output_type": "stream",
     "text": [
      " 57%|█████▋    | 42/74 [00:00<00:00, 131.34it/s]"
     ]
    },
    {
     "name": "stdout",
     "output_type": "stream",
     "text": [
      "\n",
      "Iteration 28/74 of epoch 40 complete. Loss : 0.03473232327295201 \n",
      "\n",
      "Iteration 42/74 of epoch 40 complete. Loss : 0.03179450239986181 \n"
     ]
    },
    {
     "name": "stderr",
     "output_type": "stream",
     "text": [
      "100%|██████████| 74/74 [00:00<00:00, 125.10it/s]\n",
      "  0%|          | 0/19 [00:00<?, ?it/s]"
     ]
    },
    {
     "name": "stdout",
     "output_type": "stream",
     "text": [
      "\n",
      "Iteration 56/74 of epoch 40 complete. Loss : 0.03440473707658904 \n",
      "\n",
      "Iteration 70/74 of epoch 40 complete. Loss : 0.03551266701625926 \n"
     ]
    },
    {
     "name": "stderr",
     "output_type": "stream",
     "text": [
      "100%|██████████| 19/19 [00:00<00:00, 235.82it/s]\n",
      " 18%|█▊        | 13/74 [00:00<00:00, 126.37it/s]"
     ]
    },
    {
     "name": "stdout",
     "output_type": "stream",
     "text": [
      "\n",
      "Epoch 40 complete! Validation Loss : 0.07312438323309547\n",
      "Epoch 40 complete! Validation Accuracy : 0.9771052631578948\n",
      "Best validation loss improved from 0.07567459246829937 to 0.07312438323309547\n",
      "\n",
      "\n",
      "Iteration 14/74 of epoch 41 complete. Loss : 0.03171563521027565 \n"
     ]
    },
    {
     "name": "stderr",
     "output_type": "stream",
     "text": [
      " 70%|███████   | 52/74 [00:00<00:00, 126.90it/s]"
     ]
    },
    {
     "name": "stdout",
     "output_type": "stream",
     "text": [
      "\n",
      "Iteration 28/74 of epoch 41 complete. Loss : 0.03478568060589688 \n",
      "\n",
      "Iteration 42/74 of epoch 41 complete. Loss : 0.031124625488051345 \n"
     ]
    },
    {
     "name": "stderr",
     "output_type": "stream",
     "text": [
      "100%|██████████| 74/74 [00:00<00:00, 127.81it/s]\n",
      "  0%|          | 0/19 [00:00<?, ?it/s]"
     ]
    },
    {
     "name": "stdout",
     "output_type": "stream",
     "text": [
      "\n",
      "Iteration 56/74 of epoch 41 complete. Loss : 0.034249287364738326 \n",
      "\n",
      "Iteration 70/74 of epoch 41 complete. Loss : 0.03403709961899689 \n"
     ]
    },
    {
     "name": "stderr",
     "output_type": "stream",
     "text": [
      "100%|██████████| 19/19 [00:00<00:00, 250.06it/s]\n",
      " 18%|█▊        | 13/74 [00:00<00:00, 128.89it/s]"
     ]
    },
    {
     "name": "stdout",
     "output_type": "stream",
     "text": [
      "\n",
      "Epoch 41 complete! Validation Loss : 0.07274209296232775\n",
      "Epoch 41 complete! Validation Accuracy : 0.9785690789473684\n",
      "Best validation loss improved from 0.07312438323309547 to 0.07274209296232775\n",
      "\n",
      "\n",
      "Iteration 14/74 of epoch 42 complete. Loss : 0.03479123155453375 \n"
     ]
    },
    {
     "name": "stderr",
     "output_type": "stream",
     "text": [
      " 73%|███████▎  | 54/74 [00:00<00:00, 129.74it/s]"
     ]
    },
    {
     "name": "stdout",
     "output_type": "stream",
     "text": [
      "\n",
      "Iteration 28/74 of epoch 42 complete. Loss : 0.028140786769134656 \n",
      "\n",
      "Iteration 42/74 of epoch 42 complete. Loss : 0.030524832728718008 \n"
     ]
    },
    {
     "name": "stderr",
     "output_type": "stream",
     "text": [
      "100%|██████████| 74/74 [00:00<00:00, 129.69it/s]\n",
      "  0%|          | 0/19 [00:00<?, ?it/s]"
     ]
    },
    {
     "name": "stdout",
     "output_type": "stream",
     "text": [
      "\n",
      "Iteration 56/74 of epoch 42 complete. Loss : 0.03154758403875998 \n",
      "\n",
      "Iteration 70/74 of epoch 42 complete. Loss : 0.03445203509181738 \n"
     ]
    },
    {
     "name": "stderr",
     "output_type": "stream",
     "text": [
      "100%|██████████| 19/19 [00:00<00:00, 248.64it/s]\n",
      " 19%|█▉        | 14/74 [00:00<00:00, 134.14it/s]"
     ]
    },
    {
     "name": "stdout",
     "output_type": "stream",
     "text": [
      "\n",
      "Epoch 42 complete! Validation Loss : 0.0692989365442803\n",
      "Epoch 42 complete! Validation Accuracy : 0.9783388157894738\n",
      "Best validation loss improved from 0.07274209296232775 to 0.0692989365442803\n",
      "\n",
      "\n",
      "Iteration 14/74 of epoch 43 complete. Loss : 0.029747781609850272 \n"
     ]
    },
    {
     "name": "stderr",
     "output_type": "stream",
     "text": [
      " 57%|█████▋    | 42/74 [00:00<00:00, 132.50it/s]"
     ]
    },
    {
     "name": "stdout",
     "output_type": "stream",
     "text": [
      "\n",
      "Iteration 28/74 of epoch 43 complete. Loss : 0.03075881947630218 \n",
      "\n",
      "Iteration 42/74 of epoch 43 complete. Loss : 0.028467867789523944 \n"
     ]
    },
    {
     "name": "stderr",
     "output_type": "stream",
     "text": [
      "100%|██████████| 74/74 [00:00<00:00, 131.27it/s]\n",
      "  0%|          | 0/19 [00:00<?, ?it/s]"
     ]
    },
    {
     "name": "stdout",
     "output_type": "stream",
     "text": [
      "\n",
      "Iteration 56/74 of epoch 43 complete. Loss : 0.03273047520113843 \n",
      "\n",
      "Iteration 70/74 of epoch 43 complete. Loss : 0.03068997764161655 \n"
     ]
    },
    {
     "name": "stderr",
     "output_type": "stream",
     "text": [
      "100%|██████████| 19/19 [00:00<00:00, 247.43it/s]\n",
      " 19%|█▉        | 14/74 [00:00<00:00, 133.22it/s]"
     ]
    },
    {
     "name": "stdout",
     "output_type": "stream",
     "text": [
      "\n",
      "Epoch 43 complete! Validation Loss : 0.06651691955171134\n",
      "Epoch 43 complete! Validation Accuracy : 0.9795723684210527\n",
      "Best validation loss improved from 0.0692989365442803 to 0.06651691955171134\n",
      "\n",
      "\n",
      "Iteration 14/74 of epoch 44 complete. Loss : 0.02843379814709936 \n"
     ]
    },
    {
     "name": "stderr",
     "output_type": "stream",
     "text": [
      " 57%|█████▋    | 42/74 [00:00<00:00, 132.20it/s]"
     ]
    },
    {
     "name": "stdout",
     "output_type": "stream",
     "text": [
      "\n",
      "Iteration 28/74 of epoch 44 complete. Loss : 0.031106578319200447 \n",
      "\n",
      "Iteration 42/74 of epoch 44 complete. Loss : 0.03186287424926247 \n"
     ]
    },
    {
     "name": "stderr",
     "output_type": "stream",
     "text": [
      "100%|██████████| 74/74 [00:00<00:00, 131.20it/s]\n",
      "  0%|          | 0/19 [00:00<?, ?it/s]"
     ]
    },
    {
     "name": "stdout",
     "output_type": "stream",
     "text": [
      "\n",
      "Iteration 56/74 of epoch 44 complete. Loss : 0.028609047244702066 \n",
      "\n",
      "Iteration 70/74 of epoch 44 complete. Loss : 0.02943235688975879 \n"
     ]
    },
    {
     "name": "stderr",
     "output_type": "stream",
     "text": [
      "100%|██████████| 19/19 [00:00<00:00, 247.42it/s]\n",
      " 19%|█▉        | 14/74 [00:00<00:00, 131.10it/s]"
     ]
    },
    {
     "name": "stdout",
     "output_type": "stream",
     "text": [
      "\n",
      "Epoch 44 complete! Validation Loss : 0.06466950436956004\n",
      "Epoch 44 complete! Validation Accuracy : 0.9779276315789475\n",
      "Best validation loss improved from 0.06651691955171134 to 0.06466950436956004\n",
      "\n",
      "\n",
      "Iteration 14/74 of epoch 45 complete. Loss : 0.029938851217074052 \n"
     ]
    },
    {
     "name": "stderr",
     "output_type": "stream",
     "text": [
      " 57%|█████▋    | 42/74 [00:00<00:00, 131.46it/s]"
     ]
    },
    {
     "name": "stdout",
     "output_type": "stream",
     "text": [
      "\n",
      "Iteration 28/74 of epoch 45 complete. Loss : 0.02944243945447462 \n",
      "\n",
      "Iteration 42/74 of epoch 45 complete. Loss : 0.030208389008683816 \n"
     ]
    },
    {
     "name": "stderr",
     "output_type": "stream",
     "text": [
      "100%|██████████| 74/74 [00:00<00:00, 132.13it/s]\n",
      "  0%|          | 0/19 [00:00<?, ?it/s]"
     ]
    },
    {
     "name": "stdout",
     "output_type": "stream",
     "text": [
      "\n",
      "Iteration 56/74 of epoch 45 complete. Loss : 0.029144743191344396 \n",
      "\n",
      "Iteration 70/74 of epoch 45 complete. Loss : 0.025946557388773987 \n"
     ]
    },
    {
     "name": "stderr",
     "output_type": "stream",
     "text": [
      "100%|██████████| 19/19 [00:00<00:00, 247.32it/s]\n",
      " 19%|█▉        | 14/74 [00:00<00:00, 133.85it/s]"
     ]
    },
    {
     "name": "stdout",
     "output_type": "stream",
     "text": [
      "\n",
      "Epoch 45 complete! Validation Loss : 0.06306554082977145\n",
      "Epoch 45 complete! Validation Accuracy : 0.9803947368421053\n",
      "Best validation loss improved from 0.06466950436956004 to 0.06306554082977145\n",
      "\n",
      "\n",
      "Iteration 14/74 of epoch 46 complete. Loss : 0.024947484556053365 \n"
     ]
    },
    {
     "name": "stderr",
     "output_type": "stream",
     "text": [
      " 72%|███████▏  | 53/74 [00:00<00:00, 128.66it/s]"
     ]
    },
    {
     "name": "stdout",
     "output_type": "stream",
     "text": [
      "\n",
      "Iteration 28/74 of epoch 46 complete. Loss : 0.027883353177458048 \n",
      "\n",
      "Iteration 42/74 of epoch 46 complete. Loss : 0.02932624625308173 \n"
     ]
    },
    {
     "name": "stderr",
     "output_type": "stream",
     "text": [
      "100%|██████████| 74/74 [00:00<00:00, 128.76it/s]\n",
      "  0%|          | 0/19 [00:00<?, ?it/s]"
     ]
    },
    {
     "name": "stdout",
     "output_type": "stream",
     "text": [
      "\n",
      "Iteration 56/74 of epoch 46 complete. Loss : 0.026857195355530297 \n",
      "\n",
      "Iteration 70/74 of epoch 46 complete. Loss : 0.02976814497794424 \n"
     ]
    },
    {
     "name": "stderr",
     "output_type": "stream",
     "text": [
      "100%|██████████| 19/19 [00:00<00:00, 254.18it/s]\n",
      " 19%|█▉        | 14/74 [00:00<00:00, 133.73it/s]"
     ]
    },
    {
     "name": "stdout",
     "output_type": "stream",
     "text": [
      "\n",
      "Epoch 46 complete! Validation Loss : 0.06174124149899734\n",
      "Epoch 46 complete! Validation Accuracy : 0.9783388157894738\n",
      "Best validation loss improved from 0.06306554082977145 to 0.06174124149899734\n",
      "\n",
      "\n",
      "Iteration 14/74 of epoch 47 complete. Loss : 0.027406525199434588 \n"
     ]
    },
    {
     "name": "stderr",
     "output_type": "stream",
     "text": [
      " 57%|█████▋    | 42/74 [00:00<00:00, 132.60it/s]"
     ]
    },
    {
     "name": "stdout",
     "output_type": "stream",
     "text": [
      "\n",
      "Iteration 28/74 of epoch 47 complete. Loss : 0.024634670333138535 \n",
      "\n",
      "Iteration 42/74 of epoch 47 complete. Loss : 0.02717724781749504 \n"
     ]
    },
    {
     "name": "stderr",
     "output_type": "stream",
     "text": [
      "100%|██████████| 74/74 [00:00<00:00, 132.01it/s]\n",
      "  0%|          | 0/19 [00:00<?, ?it/s]"
     ]
    },
    {
     "name": "stdout",
     "output_type": "stream",
     "text": [
      "\n",
      "Iteration 56/74 of epoch 47 complete. Loss : 0.027547966422779218 \n",
      "\n",
      "Iteration 70/74 of epoch 47 complete. Loss : 0.029098247044852803 \n"
     ]
    },
    {
     "name": "stderr",
     "output_type": "stream",
     "text": [
      "100%|██████████| 19/19 [00:00<00:00, 251.24it/s]\n",
      " 19%|█▉        | 14/74 [00:00<00:00, 130.54it/s]"
     ]
    },
    {
     "name": "stdout",
     "output_type": "stream",
     "text": [
      "\n",
      "Epoch 47 complete! Validation Loss : 0.060488540091012656\n",
      "Epoch 47 complete! Validation Accuracy : 0.9787500000000001\n",
      "Best validation loss improved from 0.06174124149899734 to 0.060488540091012656\n",
      "\n",
      "\n",
      "Iteration 14/74 of epoch 48 complete. Loss : 0.025721173334334577 \n"
     ]
    },
    {
     "name": "stderr",
     "output_type": "stream",
     "text": [
      " 57%|█████▋    | 42/74 [00:00<00:00, 131.31it/s]"
     ]
    },
    {
     "name": "stdout",
     "output_type": "stream",
     "text": [
      "\n",
      "Iteration 28/74 of epoch 48 complete. Loss : 0.029415309096553495 \n",
      "\n",
      "Iteration 42/74 of epoch 48 complete. Loss : 0.02683865145913192 \n"
     ]
    },
    {
     "name": "stderr",
     "output_type": "stream",
     "text": [
      "100%|██████████| 74/74 [00:00<00:00, 131.61it/s]\n",
      "  0%|          | 0/19 [00:00<?, ?it/s]"
     ]
    },
    {
     "name": "stdout",
     "output_type": "stream",
     "text": [
      "\n",
      "Iteration 56/74 of epoch 48 complete. Loss : 0.02447142398783139 \n",
      "\n",
      "Iteration 70/74 of epoch 48 complete. Loss : 0.02605608877326761 \n"
     ]
    },
    {
     "name": "stderr",
     "output_type": "stream",
     "text": [
      "100%|██████████| 19/19 [00:00<00:00, 78.52it/s]\n",
      " 19%|█▉        | 14/74 [00:00<00:00, 131.83it/s]"
     ]
    },
    {
     "name": "stdout",
     "output_type": "stream",
     "text": [
      "\n",
      "Epoch 48 complete! Validation Loss : 0.05892336868533963\n",
      "Epoch 48 complete! Validation Accuracy : 0.9808059210526316\n",
      "Best validation loss improved from 0.060488540091012656 to 0.05892336868533963\n",
      "\n",
      "\n",
      "Iteration 14/74 of epoch 49 complete. Loss : 0.028919846019042388 \n"
     ]
    },
    {
     "name": "stderr",
     "output_type": "stream",
     "text": [
      " 57%|█████▋    | 42/74 [00:00<00:00, 131.46it/s]"
     ]
    },
    {
     "name": "stdout",
     "output_type": "stream",
     "text": [
      "\n",
      "Iteration 28/74 of epoch 49 complete. Loss : 0.024961833842098713 \n",
      "\n",
      "Iteration 42/74 of epoch 49 complete. Loss : 0.025466678531042168 \n"
     ]
    },
    {
     "name": "stderr",
     "output_type": "stream",
     "text": [
      "100%|██████████| 74/74 [00:00<00:00, 131.69it/s]\n",
      "  0%|          | 0/19 [00:00<?, ?it/s]"
     ]
    },
    {
     "name": "stdout",
     "output_type": "stream",
     "text": [
      "\n",
      "Iteration 56/74 of epoch 49 complete. Loss : 0.025722017910863672 \n",
      "\n",
      "Iteration 70/74 of epoch 49 complete. Loss : 0.02279150066897273 \n"
     ]
    },
    {
     "name": "stderr",
     "output_type": "stream",
     "text": [
      "100%|██████████| 19/19 [00:00<00:00, 253.85it/s]\n",
      " 19%|█▉        | 14/74 [00:00<00:00, 133.03it/s]"
     ]
    },
    {
     "name": "stdout",
     "output_type": "stream",
     "text": [
      "\n",
      "Epoch 49 complete! Validation Loss : 0.05797848870095454\n",
      "Epoch 49 complete! Validation Accuracy : 0.9783388157894738\n",
      "Best validation loss improved from 0.05892336868533963 to 0.05797848870095454\n",
      "\n",
      "\n",
      "Iteration 14/74 of epoch 50 complete. Loss : 0.023325185224946057 \n"
     ]
    },
    {
     "name": "stderr",
     "output_type": "stream",
     "text": [
      " 57%|█████▋    | 42/74 [00:00<00:00, 132.60it/s]"
     ]
    },
    {
     "name": "stdout",
     "output_type": "stream",
     "text": [
      "\n",
      "Iteration 28/74 of epoch 50 complete. Loss : 0.029419953801802227 \n",
      "\n",
      "Iteration 42/74 of epoch 50 complete. Loss : 0.023669353686273098 \n"
     ]
    },
    {
     "name": "stderr",
     "output_type": "stream",
     "text": [
      "100%|██████████| 74/74 [00:00<00:00, 132.22it/s]\n",
      "  0%|          | 0/19 [00:00<?, ?it/s]"
     ]
    },
    {
     "name": "stdout",
     "output_type": "stream",
     "text": [
      "\n",
      "Iteration 56/74 of epoch 50 complete. Loss : 0.023766225536486933 \n",
      "\n",
      "Iteration 70/74 of epoch 50 complete. Loss : 0.02474933722987771 \n"
     ]
    },
    {
     "name": "stderr",
     "output_type": "stream",
     "text": [
      "100%|██████████| 19/19 [00:00<00:00, 248.75it/s]\n",
      " 19%|█▉        | 14/74 [00:00<00:00, 134.90it/s]"
     ]
    },
    {
     "name": "stdout",
     "output_type": "stream",
     "text": [
      "\n",
      "Epoch 50 complete! Validation Loss : 0.05674403327468194\n",
      "Epoch 50 complete! Validation Accuracy : 0.9803947368421053\n",
      "Best validation loss improved from 0.05797848870095454 to 0.05674403327468194\n",
      "\n",
      "\n",
      "Iteration 14/74 of epoch 51 complete. Loss : 0.02347497661997165 \n"
     ]
    },
    {
     "name": "stderr",
     "output_type": "stream",
     "text": [
      " 57%|█████▋    | 42/74 [00:00<00:00, 133.55it/s]"
     ]
    },
    {
     "name": "stdout",
     "output_type": "stream",
     "text": [
      "\n",
      "Iteration 28/74 of epoch 51 complete. Loss : 0.023937039077281952 \n",
      "\n",
      "Iteration 42/74 of epoch 51 complete. Loss : 0.026129104795732667 \n"
     ]
    },
    {
     "name": "stderr",
     "output_type": "stream",
     "text": [
      "100%|██████████| 74/74 [00:00<00:00, 132.53it/s]\n",
      "  0%|          | 0/19 [00:00<?, ?it/s]"
     ]
    },
    {
     "name": "stdout",
     "output_type": "stream",
     "text": [
      "\n",
      "Iteration 56/74 of epoch 51 complete. Loss : 0.025548098741897514 \n",
      "\n",
      "Iteration 70/74 of epoch 51 complete. Loss : 0.025619752971189364 \n"
     ]
    },
    {
     "name": "stderr",
     "output_type": "stream",
     "text": [
      "100%|██████████| 19/19 [00:00<00:00, 250.87it/s]\n",
      " 19%|█▉        | 14/74 [00:00<00:00, 134.25it/s]"
     ]
    },
    {
     "name": "stdout",
     "output_type": "stream",
     "text": [
      "\n",
      "Epoch 51 complete! Validation Loss : 0.05776881759888247\n",
      "Epoch 51 complete! Validation Accuracy : 0.9789802631578948\n",
      "\n",
      "Iteration 14/74 of epoch 52 complete. Loss : 0.022371961269527674 \n"
     ]
    },
    {
     "name": "stderr",
     "output_type": "stream",
     "text": [
      " 57%|█████▋    | 42/74 [00:00<00:00, 132.82it/s]"
     ]
    },
    {
     "name": "stdout",
     "output_type": "stream",
     "text": [
      "\n",
      "Iteration 28/74 of epoch 52 complete. Loss : 0.02357216884515115 \n",
      "\n",
      "Iteration 42/74 of epoch 52 complete. Loss : 0.02301795088819095 \n"
     ]
    },
    {
     "name": "stderr",
     "output_type": "stream",
     "text": [
      "100%|██████████| 74/74 [00:00<00:00, 131.83it/s]\n",
      "  0%|          | 0/19 [00:00<?, ?it/s]"
     ]
    },
    {
     "name": "stdout",
     "output_type": "stream",
     "text": [
      "\n",
      "Iteration 56/74 of epoch 52 complete. Loss : 0.028142689128539393 \n",
      "\n",
      "Iteration 70/74 of epoch 52 complete. Loss : 0.024003991458032812 \n"
     ]
    },
    {
     "name": "stderr",
     "output_type": "stream",
     "text": [
      "100%|██████████| 19/19 [00:00<00:00, 253.36it/s]\n",
      " 19%|█▉        | 14/74 [00:00<00:00, 131.39it/s]"
     ]
    },
    {
     "name": "stdout",
     "output_type": "stream",
     "text": [
      "\n",
      "Epoch 52 complete! Validation Loss : 0.05515745282173157\n",
      "Epoch 52 complete! Validation Accuracy : 0.9791611842105263\n",
      "Best validation loss improved from 0.05674403327468194 to 0.05515745282173157\n",
      "\n",
      "\n",
      "Iteration 14/74 of epoch 53 complete. Loss : 0.025839661048459157 \n"
     ]
    },
    {
     "name": "stderr",
     "output_type": "stream",
     "text": [
      " 57%|█████▋    | 42/74 [00:00<00:00, 131.47it/s]"
     ]
    },
    {
     "name": "stdout",
     "output_type": "stream",
     "text": [
      "\n",
      "Iteration 28/74 of epoch 53 complete. Loss : 0.025565857333796366 \n",
      "\n",
      "Iteration 42/74 of epoch 53 complete. Loss : 0.02325404728097575 \n"
     ]
    },
    {
     "name": "stderr",
     "output_type": "stream",
     "text": [
      "100%|██████████| 74/74 [00:00<00:00, 131.63it/s]\n",
      "  0%|          | 0/19 [00:00<?, ?it/s]"
     ]
    },
    {
     "name": "stdout",
     "output_type": "stream",
     "text": [
      "\n",
      "Iteration 56/74 of epoch 53 complete. Loss : 0.023452216493231908 \n",
      "\n",
      "Iteration 70/74 of epoch 53 complete. Loss : 0.019625558517873287 \n"
     ]
    },
    {
     "name": "stderr",
     "output_type": "stream",
     "text": [
      "100%|██████████| 19/19 [00:00<00:00, 255.02it/s]\n",
      " 19%|█▉        | 14/74 [00:00<00:00, 134.58it/s]"
     ]
    },
    {
     "name": "stdout",
     "output_type": "stream",
     "text": [
      "\n",
      "Epoch 53 complete! Validation Loss : 0.05441457699788244\n",
      "Epoch 53 complete! Validation Accuracy : 0.9808059210526316\n",
      "Best validation loss improved from 0.05515745282173157 to 0.05441457699788244\n",
      "\n",
      "\n",
      "Iteration 14/74 of epoch 54 complete. Loss : 0.02351919554972223 \n"
     ]
    },
    {
     "name": "stderr",
     "output_type": "stream",
     "text": [
      " 57%|█████▋    | 42/74 [00:00<00:00, 133.41it/s]"
     ]
    },
    {
     "name": "stdout",
     "output_type": "stream",
     "text": [
      "\n",
      "Iteration 28/74 of epoch 54 complete. Loss : 0.02280969651682036 \n",
      "\n",
      "Iteration 42/74 of epoch 54 complete. Loss : 0.025239944591053894 \n"
     ]
    },
    {
     "name": "stderr",
     "output_type": "stream",
     "text": [
      "100%|██████████| 74/74 [00:00<00:00, 132.33it/s]\n",
      "  0%|          | 0/19 [00:00<?, ?it/s]"
     ]
    },
    {
     "name": "stdout",
     "output_type": "stream",
     "text": [
      "\n",
      "Iteration 56/74 of epoch 54 complete. Loss : 0.022321392449417284 \n",
      "\n",
      "Iteration 70/74 of epoch 54 complete. Loss : 0.020865208070193018 \n"
     ]
    },
    {
     "name": "stderr",
     "output_type": "stream",
     "text": [
      "100%|██████████| 19/19 [00:00<00:00, 250.57it/s]\n",
      " 19%|█▉        | 14/74 [00:00<00:00, 133.15it/s]"
     ]
    },
    {
     "name": "stdout",
     "output_type": "stream",
     "text": [
      "\n",
      "Epoch 54 complete! Validation Loss : 0.05326251362107302\n",
      "Epoch 54 complete! Validation Accuracy : 0.9803947368421053\n",
      "Best validation loss improved from 0.05441457699788244 to 0.05326251362107302\n",
      "\n",
      "\n",
      "Iteration 14/74 of epoch 55 complete. Loss : 0.022468293817447766 \n"
     ]
    },
    {
     "name": "stderr",
     "output_type": "stream",
     "text": [
      " 57%|█████▋    | 42/74 [00:00<00:00, 132.73it/s]"
     ]
    },
    {
     "name": "stdout",
     "output_type": "stream",
     "text": [
      "\n",
      "Iteration 28/74 of epoch 55 complete. Loss : 0.023512554687580893 \n",
      "\n",
      "Iteration 42/74 of epoch 55 complete. Loss : 0.024265435191669633 \n"
     ]
    },
    {
     "name": "stderr",
     "output_type": "stream",
     "text": [
      "100%|██████████| 74/74 [00:00<00:00, 131.14it/s]\n",
      "  0%|          | 0/19 [00:00<?, ?it/s]"
     ]
    },
    {
     "name": "stdout",
     "output_type": "stream",
     "text": [
      "\n",
      "Iteration 56/74 of epoch 55 complete. Loss : 0.02207162876480392 \n",
      "\n",
      "Iteration 70/74 of epoch 55 complete. Loss : 0.01973770432440298 \n"
     ]
    },
    {
     "name": "stderr",
     "output_type": "stream",
     "text": [
      "100%|██████████| 19/19 [00:00<00:00, 250.51it/s]\n",
      " 19%|█▉        | 14/74 [00:00<00:00, 132.05it/s]"
     ]
    },
    {
     "name": "stdout",
     "output_type": "stream",
     "text": [
      "\n",
      "Epoch 55 complete! Validation Loss : 0.0529364962130785\n",
      "Epoch 55 complete! Validation Accuracy : 0.9795723684210527\n",
      "Best validation loss improved from 0.05326251362107302 to 0.0529364962130785\n",
      "\n",
      "\n",
      "Iteration 14/74 of epoch 56 complete. Loss : 0.02140748906614525 \n"
     ]
    },
    {
     "name": "stderr",
     "output_type": "stream",
     "text": [
      " 57%|█████▋    | 42/74 [00:00<00:00, 131.46it/s]"
     ]
    },
    {
     "name": "stdout",
     "output_type": "stream",
     "text": [
      "\n",
      "Iteration 28/74 of epoch 56 complete. Loss : 0.02382430906540581 \n",
      "\n",
      "Iteration 42/74 of epoch 56 complete. Loss : 0.020071367966011167 \n"
     ]
    },
    {
     "name": "stderr",
     "output_type": "stream",
     "text": [
      "100%|██████████| 74/74 [00:00<00:00, 130.63it/s]\n",
      "  0%|          | 0/19 [00:00<?, ?it/s]"
     ]
    },
    {
     "name": "stdout",
     "output_type": "stream",
     "text": [
      "\n",
      "Iteration 56/74 of epoch 56 complete. Loss : 0.023120966340814317 \n",
      "\n",
      "Iteration 70/74 of epoch 56 complete. Loss : 0.023151003289967775 \n"
     ]
    },
    {
     "name": "stderr",
     "output_type": "stream",
     "text": [
      "100%|██████████| 19/19 [00:00<00:00, 249.72it/s]\n",
      " 20%|██        | 15/74 [00:00<00:00, 141.69it/s]"
     ]
    },
    {
     "name": "stdout",
     "output_type": "stream",
     "text": [
      "\n",
      "Epoch 56 complete! Validation Loss : 0.05591221565478727\n",
      "Epoch 56 complete! Validation Accuracy : 0.9789802631578948\n",
      "\n",
      "Iteration 14/74 of epoch 57 complete. Loss : 0.023957186045923402 \n"
     ]
    },
    {
     "name": "stderr",
     "output_type": "stream",
     "text": [
      " 58%|█████▊    | 43/74 [00:00<00:00, 138.21it/s]"
     ]
    },
    {
     "name": "stdout",
     "output_type": "stream",
     "text": [
      "\n",
      "Iteration 28/74 of epoch 57 complete. Loss : 0.026144794188439846 \n",
      "\n",
      "Iteration 42/74 of epoch 57 complete. Loss : 0.017657877012555088 \n"
     ]
    },
    {
     "name": "stderr",
     "output_type": "stream",
     "text": [
      "100%|██████████| 74/74 [00:00<00:00, 135.37it/s]\n",
      "  0%|          | 0/19 [00:00<?, ?it/s]"
     ]
    },
    {
     "name": "stdout",
     "output_type": "stream",
     "text": [
      "\n",
      "Iteration 56/74 of epoch 57 complete. Loss : 0.02270223672634789 \n",
      "\n",
      "Iteration 70/74 of epoch 57 complete. Loss : 0.019643986331565038 \n"
     ]
    },
    {
     "name": "stderr",
     "output_type": "stream",
     "text": [
      "100%|██████████| 19/19 [00:00<00:00, 250.65it/s]\n",
      " 19%|█▉        | 14/74 [00:00<00:00, 132.01it/s]"
     ]
    },
    {
     "name": "stdout",
     "output_type": "stream",
     "text": [
      "\n",
      "Epoch 57 complete! Validation Loss : 0.051526618533228576\n",
      "Epoch 57 complete! Validation Accuracy : 0.9795723684210527\n",
      "Best validation loss improved from 0.0529364962130785 to 0.051526618533228576\n",
      "\n",
      "\n",
      "Iteration 14/74 of epoch 58 complete. Loss : 0.01983085959883673 \n"
     ]
    },
    {
     "name": "stderr",
     "output_type": "stream",
     "text": [
      " 57%|█████▋    | 42/74 [00:00<00:00, 131.87it/s]"
     ]
    },
    {
     "name": "stdout",
     "output_type": "stream",
     "text": [
      "\n",
      "Iteration 28/74 of epoch 58 complete. Loss : 0.02282728547496455 \n",
      "\n",
      "Iteration 42/74 of epoch 58 complete. Loss : 0.024957857227751186 \n"
     ]
    },
    {
     "name": "stderr",
     "output_type": "stream",
     "text": [
      "100%|██████████| 74/74 [00:00<00:00, 131.21it/s]\n",
      "  0%|          | 0/19 [00:00<?, ?it/s]"
     ]
    },
    {
     "name": "stdout",
     "output_type": "stream",
     "text": [
      "\n",
      "Iteration 56/74 of epoch 58 complete. Loss : 0.020546343310603073 \n",
      "\n",
      "Iteration 70/74 of epoch 58 complete. Loss : 0.019472123655889715 \n"
     ]
    },
    {
     "name": "stderr",
     "output_type": "stream",
     "text": [
      "100%|██████████| 19/19 [00:00<00:00, 252.29it/s]\n",
      " 19%|█▉        | 14/74 [00:00<00:00, 132.12it/s]"
     ]
    },
    {
     "name": "stdout",
     "output_type": "stream",
     "text": [
      "\n",
      "Epoch 58 complete! Validation Loss : 0.050868622958660126\n",
      "Epoch 58 complete! Validation Accuracy : 0.979983552631579\n",
      "Best validation loss improved from 0.051526618533228576 to 0.050868622958660126\n",
      "\n",
      "\n",
      "Iteration 14/74 of epoch 59 complete. Loss : 0.022510769377861704 \n"
     ]
    },
    {
     "name": "stderr",
     "output_type": "stream",
     "text": [
      " 57%|█████▋    | 42/74 [00:00<00:00, 131.18it/s]"
     ]
    },
    {
     "name": "stdout",
     "output_type": "stream",
     "text": [
      "\n",
      "Iteration 28/74 of epoch 59 complete. Loss : 0.023318435930247818 \n",
      "\n",
      "Iteration 42/74 of epoch 59 complete. Loss : 0.01910139593694891 \n"
     ]
    },
    {
     "name": "stderr",
     "output_type": "stream",
     "text": [
      " 95%|█████████▍| 70/74 [00:00<00:00, 131.24it/s]"
     ]
    },
    {
     "name": "stdout",
     "output_type": "stream",
     "text": [
      "\n",
      "Iteration 56/74 of epoch 59 complete. Loss : 0.023227684465902194 \n",
      "\n",
      "Iteration 70/74 of epoch 59 complete. Loss : 0.017424006114846895 \n"
     ]
    },
    {
     "name": "stderr",
     "output_type": "stream",
     "text": [
      "100%|██████████| 74/74 [00:00<00:00, 109.02it/s]\n",
      "100%|██████████| 19/19 [00:00<00:00, 259.37it/s]\n",
      " 19%|█▉        | 14/74 [00:00<00:00, 130.21it/s]"
     ]
    },
    {
     "name": "stdout",
     "output_type": "stream",
     "text": [
      "\n",
      "Epoch 59 complete! Validation Loss : 0.050067841614547526\n",
      "Epoch 59 complete! Validation Accuracy : 0.979983552631579\n",
      "Best validation loss improved from 0.050868622958660126 to 0.050067841614547526\n",
      "\n",
      "\n",
      "Iteration 14/74 of epoch 60 complete. Loss : 0.0196485960789557 \n"
     ]
    },
    {
     "name": "stderr",
     "output_type": "stream",
     "text": [
      " 57%|█████▋    | 42/74 [00:00<00:00, 130.48it/s]"
     ]
    },
    {
     "name": "stdout",
     "output_type": "stream",
     "text": [
      "\n",
      "Iteration 28/74 of epoch 60 complete. Loss : 0.01941953180357814 \n",
      "\n",
      "Iteration 42/74 of epoch 60 complete. Loss : 0.020045447229806865 \n"
     ]
    },
    {
     "name": "stderr",
     "output_type": "stream",
     "text": [
      "100%|██████████| 74/74 [00:00<00:00, 130.23it/s]\n",
      "  0%|          | 0/19 [00:00<?, ?it/s]"
     ]
    },
    {
     "name": "stdout",
     "output_type": "stream",
     "text": [
      "\n",
      "Iteration 56/74 of epoch 60 complete. Loss : 0.019921085464635065 \n",
      "\n",
      "Iteration 70/74 of epoch 60 complete. Loss : 0.0240573869086802 \n"
     ]
    },
    {
     "name": "stderr",
     "output_type": "stream",
     "text": [
      "100%|██████████| 19/19 [00:00<00:00, 253.30it/s]\n",
      " 19%|█▉        | 14/74 [00:00<00:00, 133.98it/s]"
     ]
    },
    {
     "name": "stdout",
     "output_type": "stream",
     "text": [
      "\n",
      "Epoch 60 complete! Validation Loss : 0.05106302164494991\n",
      "Epoch 60 complete! Validation Accuracy : 0.9804440789473684\n",
      "\n",
      "Iteration 14/74 of epoch 61 complete. Loss : 0.021300435531884432 \n"
     ]
    },
    {
     "name": "stderr",
     "output_type": "stream",
     "text": [
      " 57%|█████▋    | 42/74 [00:00<00:00, 133.03it/s]"
     ]
    },
    {
     "name": "stdout",
     "output_type": "stream",
     "text": [
      "\n",
      "Iteration 28/74 of epoch 61 complete. Loss : 0.02010881860873529 \n",
      "\n",
      "Iteration 42/74 of epoch 61 complete. Loss : 0.01830899582377502 \n"
     ]
    },
    {
     "name": "stderr",
     "output_type": "stream",
     "text": [
      "100%|██████████| 74/74 [00:00<00:00, 131.60it/s]\n",
      "  0%|          | 0/19 [00:00<?, ?it/s]"
     ]
    },
    {
     "name": "stdout",
     "output_type": "stream",
     "text": [
      "\n",
      "Iteration 56/74 of epoch 61 complete. Loss : 0.027269943550761257 \n",
      "\n",
      "Iteration 70/74 of epoch 61 complete. Loss : 0.01929520456386464 \n"
     ]
    },
    {
     "name": "stderr",
     "output_type": "stream",
     "text": [
      "100%|██████████| 19/19 [00:00<00:00, 252.04it/s]\n",
      " 19%|█▉        | 14/74 [00:00<00:00, 130.52it/s]"
     ]
    },
    {
     "name": "stdout",
     "output_type": "stream",
     "text": [
      "\n",
      "Epoch 61 complete! Validation Loss : 0.05309421118152769\n",
      "Epoch 61 complete! Validation Accuracy : 0.9789802631578948\n",
      "\n",
      "Iteration 14/74 of epoch 62 complete. Loss : 0.016458946080612286 \n"
     ]
    },
    {
     "name": "stderr",
     "output_type": "stream",
     "text": [
      " 57%|█████▋    | 42/74 [00:00<00:00, 130.80it/s]"
     ]
    },
    {
     "name": "stdout",
     "output_type": "stream",
     "text": [
      "\n",
      "Iteration 28/74 of epoch 62 complete. Loss : 0.020903072053832666 \n",
      "\n",
      "Iteration 42/74 of epoch 62 complete. Loss : 0.020500635196055685 \n"
     ]
    },
    {
     "name": "stderr",
     "output_type": "stream",
     "text": [
      "100%|██████████| 74/74 [00:00<00:00, 131.70it/s]\n",
      "  0%|          | 0/19 [00:00<?, ?it/s]"
     ]
    },
    {
     "name": "stdout",
     "output_type": "stream",
     "text": [
      "\n",
      "Iteration 56/74 of epoch 62 complete. Loss : 0.025301585040454353 \n",
      "\n",
      "Iteration 70/74 of epoch 62 complete. Loss : 0.02032099012285471 \n"
     ]
    },
    {
     "name": "stderr",
     "output_type": "stream",
     "text": [
      "100%|██████████| 19/19 [00:00<00:00, 253.23it/s]\n",
      " 19%|█▉        | 14/74 [00:00<00:00, 130.30it/s]"
     ]
    },
    {
     "name": "stdout",
     "output_type": "stream",
     "text": [
      "\n",
      "Epoch 62 complete! Validation Loss : 0.04950079875753114\n",
      "Epoch 62 complete! Validation Accuracy : 0.9783388157894738\n",
      "Best validation loss improved from 0.050067841614547526 to 0.04950079875753114\n",
      "\n",
      "\n",
      "Iteration 14/74 of epoch 63 complete. Loss : 0.02069465767791761 \n"
     ]
    },
    {
     "name": "stderr",
     "output_type": "stream",
     "text": [
      " 57%|█████▋    | 42/74 [00:00<00:00, 130.79it/s]"
     ]
    },
    {
     "name": "stdout",
     "output_type": "stream",
     "text": [
      "\n",
      "Iteration 28/74 of epoch 63 complete. Loss : 0.019888882924403464 \n",
      "\n",
      "Iteration 42/74 of epoch 63 complete. Loss : 0.019111049926972816 \n"
     ]
    },
    {
     "name": "stderr",
     "output_type": "stream",
     "text": [
      "100%|██████████| 74/74 [00:00<00:00, 131.08it/s]\n",
      "  0%|          | 0/19 [00:00<?, ?it/s]"
     ]
    },
    {
     "name": "stdout",
     "output_type": "stream",
     "text": [
      "\n",
      "Iteration 56/74 of epoch 63 complete. Loss : 0.02048590962242867 \n",
      "\n",
      "Iteration 70/74 of epoch 63 complete. Loss : 0.019413138008011237 \n"
     ]
    },
    {
     "name": "stderr",
     "output_type": "stream",
     "text": [
      "100%|██████████| 19/19 [00:00<00:00, 241.90it/s]\n",
      " 19%|█▉        | 14/74 [00:00<00:00, 132.04it/s]"
     ]
    },
    {
     "name": "stdout",
     "output_type": "stream",
     "text": [
      "\n",
      "Epoch 63 complete! Validation Loss : 0.04829318934169255\n",
      "Epoch 63 complete! Validation Accuracy : 0.9795723684210527\n",
      "Best validation loss improved from 0.04950079875753114 to 0.04829318934169255\n",
      "\n",
      "\n",
      "Iteration 14/74 of epoch 64 complete. Loss : 0.021824940772993223 \n"
     ]
    },
    {
     "name": "stderr",
     "output_type": "stream",
     "text": [
      " 57%|█████▋    | 42/74 [00:00<00:00, 131.54it/s]"
     ]
    },
    {
     "name": "stdout",
     "output_type": "stream",
     "text": [
      "\n",
      "Iteration 28/74 of epoch 64 complete. Loss : 0.02041030808218888 \n",
      "\n",
      "Iteration 42/74 of epoch 64 complete. Loss : 0.01930923793198807 \n"
     ]
    },
    {
     "name": "stderr",
     "output_type": "stream",
     "text": [
      "100%|██████████| 74/74 [00:00<00:00, 131.14it/s]\n",
      "  0%|          | 0/19 [00:00<?, ?it/s]"
     ]
    },
    {
     "name": "stdout",
     "output_type": "stream",
     "text": [
      "\n",
      "Iteration 56/74 of epoch 64 complete. Loss : 0.020735388355595723 \n",
      "\n",
      "Iteration 70/74 of epoch 64 complete. Loss : 0.01651416891919715 \n"
     ]
    },
    {
     "name": "stderr",
     "output_type": "stream",
     "text": [
      "100%|██████████| 19/19 [00:00<00:00, 250.30it/s]\n",
      " 19%|█▉        | 14/74 [00:00<00:00, 132.29it/s]"
     ]
    },
    {
     "name": "stdout",
     "output_type": "stream",
     "text": [
      "\n",
      "Epoch 64 complete! Validation Loss : 0.05050436466148025\n",
      "Epoch 64 complete! Validation Accuracy : 0.9787500000000001\n",
      "\n",
      "Iteration 14/74 of epoch 65 complete. Loss : 0.019779844575428536 \n"
     ]
    },
    {
     "name": "stderr",
     "output_type": "stream",
     "text": [
      " 57%|█████▋    | 42/74 [00:00<00:00, 131.43it/s]"
     ]
    },
    {
     "name": "stdout",
     "output_type": "stream",
     "text": [
      "\n",
      "Iteration 28/74 of epoch 65 complete. Loss : 0.018720758613198996 \n",
      "\n",
      "Iteration 42/74 of epoch 65 complete. Loss : 0.02054061960162861 \n"
     ]
    },
    {
     "name": "stderr",
     "output_type": "stream",
     "text": [
      "100%|██████████| 74/74 [00:00<00:00, 131.02it/s]\n",
      "  0%|          | 0/19 [00:00<?, ?it/s]"
     ]
    },
    {
     "name": "stdout",
     "output_type": "stream",
     "text": [
      "\n",
      "Iteration 56/74 of epoch 65 complete. Loss : 0.016901845578104258 \n",
      "\n",
      "Iteration 70/74 of epoch 65 complete. Loss : 0.02137033375246184 \n"
     ]
    },
    {
     "name": "stderr",
     "output_type": "stream",
     "text": [
      "100%|██████████| 19/19 [00:00<00:00, 216.34it/s]\n",
      " 16%|█▌        | 12/74 [00:00<00:00, 117.61it/s]"
     ]
    },
    {
     "name": "stdout",
     "output_type": "stream",
     "text": [
      "\n",
      "Epoch 65 complete! Validation Loss : 0.04788753802054807\n",
      "Epoch 65 complete! Validation Accuracy : 0.9795723684210527\n",
      "Best validation loss improved from 0.04829318934169255 to 0.04788753802054807\n",
      "\n",
      "\n",
      "Iteration 14/74 of epoch 66 complete. Loss : 0.023196264635771513 \n"
     ]
    },
    {
     "name": "stderr",
     "output_type": "stream",
     "text": [
      " 69%|██████▉   | 51/74 [00:00<00:00, 122.78it/s]"
     ]
    },
    {
     "name": "stdout",
     "output_type": "stream",
     "text": [
      "\n",
      "Iteration 28/74 of epoch 66 complete. Loss : 0.016604076206151928 \n",
      "\n",
      "Iteration 42/74 of epoch 66 complete. Loss : 0.021514523375247206 \n"
     ]
    },
    {
     "name": "stderr",
     "output_type": "stream",
     "text": [
      "100%|██████████| 74/74 [00:00<00:00, 123.26it/s]\n",
      "  0%|          | 0/19 [00:00<?, ?it/s]"
     ]
    },
    {
     "name": "stdout",
     "output_type": "stream",
     "text": [
      "\n",
      "Iteration 56/74 of epoch 66 complete. Loss : 0.01925175853206643 \n",
      "\n",
      "Iteration 70/74 of epoch 66 complete. Loss : 0.015651460736989975 \n"
     ]
    },
    {
     "name": "stderr",
     "output_type": "stream",
     "text": [
      "100%|██████████| 19/19 [00:00<00:00, 252.62it/s]\n",
      " 19%|█▉        | 14/74 [00:00<00:00, 134.52it/s]"
     ]
    },
    {
     "name": "stdout",
     "output_type": "stream",
     "text": [
      "\n",
      "Epoch 66 complete! Validation Loss : 0.048326453537141024\n",
      "Epoch 66 complete! Validation Accuracy : 0.9804440789473684\n",
      "\n",
      "Iteration 14/74 of epoch 67 complete. Loss : 0.020893997512757778 \n"
     ]
    },
    {
     "name": "stderr",
     "output_type": "stream",
     "text": [
      " 57%|█████▋    | 42/74 [00:00<00:00, 132.81it/s]"
     ]
    },
    {
     "name": "stdout",
     "output_type": "stream",
     "text": [
      "\n",
      "Iteration 28/74 of epoch 67 complete. Loss : 0.019722748481269394 \n",
      "\n",
      "Iteration 42/74 of epoch 67 complete. Loss : 0.017198311164975166 \n"
     ]
    },
    {
     "name": "stderr",
     "output_type": "stream",
     "text": [
      "100%|██████████| 74/74 [00:00<00:00, 131.64it/s]\n",
      "  0%|          | 0/19 [00:00<?, ?it/s]"
     ]
    },
    {
     "name": "stdout",
     "output_type": "stream",
     "text": [
      "\n",
      "Iteration 56/74 of epoch 67 complete. Loss : 0.019552419494305338 \n",
      "\n",
      "Iteration 70/74 of epoch 67 complete. Loss : 0.017149480558665737 \n"
     ]
    },
    {
     "name": "stderr",
     "output_type": "stream",
     "text": [
      "100%|██████████| 19/19 [00:00<00:00, 247.55it/s]\n",
      " 19%|█▉        | 14/74 [00:00<00:00, 132.29it/s]"
     ]
    },
    {
     "name": "stdout",
     "output_type": "stream",
     "text": [
      "\n",
      "Epoch 67 complete! Validation Loss : 0.04778270344985159\n",
      "Epoch 67 complete! Validation Accuracy : 0.9791611842105263\n",
      "Best validation loss improved from 0.04788753802054807 to 0.04778270344985159\n",
      "\n",
      "\n",
      "Iteration 14/74 of epoch 68 complete. Loss : 0.017501208897946135 \n"
     ]
    },
    {
     "name": "stderr",
     "output_type": "stream",
     "text": [
      " 57%|█████▋    | 42/74 [00:00<00:00, 132.06it/s]"
     ]
    },
    {
     "name": "stdout",
     "output_type": "stream",
     "text": [
      "\n",
      "Iteration 28/74 of epoch 68 complete. Loss : 0.019757077230938842 \n",
      "\n",
      "Iteration 42/74 of epoch 68 complete. Loss : 0.018069828261754343 \n"
     ]
    },
    {
     "name": "stderr",
     "output_type": "stream",
     "text": [
      "100%|██████████| 74/74 [00:00<00:00, 130.52it/s]\n",
      "  0%|          | 0/19 [00:00<?, ?it/s]"
     ]
    },
    {
     "name": "stdout",
     "output_type": "stream",
     "text": [
      "\n",
      "Iteration 56/74 of epoch 68 complete. Loss : 0.01642212670828615 \n",
      "\n",
      "Iteration 70/74 of epoch 68 complete. Loss : 0.017111647774332335 \n"
     ]
    },
    {
     "name": "stderr",
     "output_type": "stream",
     "text": [
      "100%|██████████| 19/19 [00:00<00:00, 249.41it/s]\n",
      " 19%|█▉        | 14/74 [00:00<00:00, 131.81it/s]"
     ]
    },
    {
     "name": "stdout",
     "output_type": "stream",
     "text": [
      "\n",
      "Epoch 68 complete! Validation Loss : 0.047594511244249973\n",
      "Epoch 68 complete! Validation Accuracy : 0.9795723684210527\n",
      "Best validation loss improved from 0.04778270344985159 to 0.047594511244249973\n",
      "\n",
      "\n",
      "Iteration 14/74 of epoch 69 complete. Loss : 0.019946460479072163 \n"
     ]
    },
    {
     "name": "stderr",
     "output_type": "stream",
     "text": [
      " 57%|█████▋    | 42/74 [00:00<00:00, 130.91it/s]"
     ]
    },
    {
     "name": "stdout",
     "output_type": "stream",
     "text": [
      "\n",
      "Iteration 28/74 of epoch 69 complete. Loss : 0.017972449040306464 \n",
      "\n",
      "Iteration 42/74 of epoch 69 complete. Loss : 0.015236837756154793 \n"
     ]
    },
    {
     "name": "stderr",
     "output_type": "stream",
     "text": [
      "100%|██████████| 74/74 [00:00<00:00, 129.36it/s]\n",
      "  0%|          | 0/19 [00:00<?, ?it/s]"
     ]
    },
    {
     "name": "stdout",
     "output_type": "stream",
     "text": [
      "\n",
      "Iteration 56/74 of epoch 69 complete. Loss : 0.021143294671284302 \n",
      "\n",
      "Iteration 70/74 of epoch 69 complete. Loss : 0.01874813866535468 \n"
     ]
    },
    {
     "name": "stderr",
     "output_type": "stream",
     "text": [
      "100%|██████████| 19/19 [00:00<00:00, 249.78it/s]\n",
      " 19%|█▉        | 14/74 [00:00<00:00, 130.85it/s]"
     ]
    },
    {
     "name": "stdout",
     "output_type": "stream",
     "text": [
      "\n",
      "Epoch 69 complete! Validation Loss : 0.04666317097450558\n",
      "Epoch 69 complete! Validation Accuracy : 0.979983552631579\n",
      "Best validation loss improved from 0.047594511244249973 to 0.04666317097450558\n",
      "\n",
      "\n",
      "Iteration 14/74 of epoch 70 complete. Loss : 0.020892540724681958 \n"
     ]
    },
    {
     "name": "stderr",
     "output_type": "stream",
     "text": [
      " 57%|█████▋    | 42/74 [00:00<00:00, 130.74it/s]"
     ]
    },
    {
     "name": "stdout",
     "output_type": "stream",
     "text": [
      "\n",
      "Iteration 28/74 of epoch 70 complete. Loss : 0.014017722935282759 \n",
      "\n",
      "Iteration 42/74 of epoch 70 complete. Loss : 0.017111603370202438 \n"
     ]
    },
    {
     "name": "stderr",
     "output_type": "stream",
     "text": [
      "100%|██████████| 74/74 [00:00<00:00, 130.31it/s]\n",
      "  0%|          | 0/19 [00:00<?, ?it/s]"
     ]
    },
    {
     "name": "stdout",
     "output_type": "stream",
     "text": [
      "\n",
      "Iteration 56/74 of epoch 70 complete. Loss : 0.019890398053186282 \n",
      "\n",
      "Iteration 70/74 of epoch 70 complete. Loss : 0.021361939209912504 \n"
     ]
    },
    {
     "name": "stderr",
     "output_type": "stream",
     "text": [
      "100%|██████████| 19/19 [00:00<00:00, 76.91it/s]\n",
      " 19%|█▉        | 14/74 [00:00<00:00, 129.44it/s]"
     ]
    },
    {
     "name": "stdout",
     "output_type": "stream",
     "text": [
      "\n",
      "Epoch 70 complete! Validation Loss : 0.046257115802482554\n",
      "Epoch 70 complete! Validation Accuracy : 0.9808552631578947\n",
      "Best validation loss improved from 0.04666317097450558 to 0.046257115802482554\n",
      "\n",
      "\n",
      "Iteration 14/74 of epoch 71 complete. Loss : 0.017932902090251446 \n"
     ]
    },
    {
     "name": "stderr",
     "output_type": "stream",
     "text": [
      " 57%|█████▋    | 42/74 [00:00<00:00, 129.92it/s]"
     ]
    },
    {
     "name": "stdout",
     "output_type": "stream",
     "text": [
      "\n",
      "Iteration 28/74 of epoch 71 complete. Loss : 0.017747089100469435 \n",
      "\n",
      "Iteration 42/74 of epoch 71 complete. Loss : 0.017702148828123297 \n"
     ]
    },
    {
     "name": "stderr",
     "output_type": "stream",
     "text": [
      "100%|██████████| 74/74 [00:00<00:00, 130.07it/s]\n",
      "  0%|          | 0/19 [00:00<?, ?it/s]"
     ]
    },
    {
     "name": "stdout",
     "output_type": "stream",
     "text": [
      "\n",
      "Iteration 56/74 of epoch 71 complete. Loss : 0.019475872295775583 \n",
      "\n",
      "Iteration 70/74 of epoch 71 complete. Loss : 0.015999619516410997 \n"
     ]
    },
    {
     "name": "stderr",
     "output_type": "stream",
     "text": [
      "100%|██████████| 19/19 [00:00<00:00, 248.65it/s]\n",
      " 19%|█▉        | 14/74 [00:00<00:00, 129.97it/s]"
     ]
    },
    {
     "name": "stdout",
     "output_type": "stream",
     "text": [
      "\n",
      "Epoch 71 complete! Validation Loss : 0.04734586100829275\n",
      "Epoch 71 complete! Validation Accuracy : 0.9791611842105263\n",
      "\n",
      "Iteration 14/74 of epoch 72 complete. Loss : 0.01682421668166561 \n"
     ]
    },
    {
     "name": "stderr",
     "output_type": "stream",
     "text": [
      " 57%|█████▋    | 42/74 [00:00<00:00, 130.07it/s]"
     ]
    },
    {
     "name": "stdout",
     "output_type": "stream",
     "text": [
      "\n",
      "Iteration 28/74 of epoch 72 complete. Loss : 0.020747652809534754 \n",
      "\n",
      "Iteration 42/74 of epoch 72 complete. Loss : 0.014355229812541179 \n"
     ]
    },
    {
     "name": "stderr",
     "output_type": "stream",
     "text": [
      "100%|██████████| 74/74 [00:00<00:00, 129.90it/s]\n",
      "  0%|          | 0/19 [00:00<?, ?it/s]"
     ]
    },
    {
     "name": "stdout",
     "output_type": "stream",
     "text": [
      "\n",
      "Iteration 56/74 of epoch 72 complete. Loss : 0.01920101758358734 \n",
      "\n",
      "Iteration 70/74 of epoch 72 complete. Loss : 0.01641139281647546 \n"
     ]
    },
    {
     "name": "stderr",
     "output_type": "stream",
     "text": [
      "100%|██████████| 19/19 [00:00<00:00, 247.72it/s]\n",
      " 19%|█▉        | 14/74 [00:00<00:00, 131.38it/s]"
     ]
    },
    {
     "name": "stdout",
     "output_type": "stream",
     "text": [
      "\n",
      "Epoch 72 complete! Validation Loss : 0.04713564375905614\n",
      "Epoch 72 complete! Validation Accuracy : 0.9791611842105263\n",
      "\n",
      "Iteration 14/74 of epoch 73 complete. Loss : 0.017469259577670267 \n"
     ]
    },
    {
     "name": "stderr",
     "output_type": "stream",
     "text": [
      " 73%|███████▎  | 54/74 [00:00<00:00, 130.55it/s]"
     ]
    },
    {
     "name": "stdout",
     "output_type": "stream",
     "text": [
      "\n",
      "Iteration 28/74 of epoch 73 complete. Loss : 0.018783016595989466 \n",
      "\n",
      "Iteration 42/74 of epoch 73 complete. Loss : 0.017551134007849863 \n"
     ]
    },
    {
     "name": "stderr",
     "output_type": "stream",
     "text": [
      "100%|██████████| 74/74 [00:00<00:00, 130.03it/s]\n",
      "  0%|          | 0/19 [00:00<?, ?it/s]"
     ]
    },
    {
     "name": "stdout",
     "output_type": "stream",
     "text": [
      "\n",
      "Iteration 56/74 of epoch 73 complete. Loss : 0.015617624291085772 \n",
      "\n",
      "Iteration 70/74 of epoch 73 complete. Loss : 0.017602858931890557 \n"
     ]
    },
    {
     "name": "stderr",
     "output_type": "stream",
     "text": [
      "100%|██████████| 19/19 [00:00<00:00, 246.97it/s]\n",
      " 19%|█▉        | 14/74 [00:00<00:00, 131.02it/s]"
     ]
    },
    {
     "name": "stdout",
     "output_type": "stream",
     "text": [
      "\n",
      "Epoch 73 complete! Validation Loss : 0.04616991156025937\n",
      "Epoch 73 complete! Validation Accuracy : 0.9783388157894738\n",
      "Best validation loss improved from 0.046257115802482554 to 0.04616991156025937\n",
      "\n",
      "\n",
      "Iteration 14/74 of epoch 74 complete. Loss : 0.013662044856963413 \n"
     ]
    },
    {
     "name": "stderr",
     "output_type": "stream",
     "text": [
      " 57%|█████▋    | 42/74 [00:00<00:00, 130.60it/s]"
     ]
    },
    {
     "name": "stdout",
     "output_type": "stream",
     "text": [
      "\n",
      "Iteration 28/74 of epoch 74 complete. Loss : 0.018515339586883783 \n",
      "\n",
      "Iteration 42/74 of epoch 74 complete. Loss : 0.02064332226291299 \n"
     ]
    },
    {
     "name": "stderr",
     "output_type": "stream",
     "text": [
      "100%|██████████| 74/74 [00:00<00:00, 129.85it/s]\n",
      "  0%|          | 0/19 [00:00<?, ?it/s]"
     ]
    },
    {
     "name": "stdout",
     "output_type": "stream",
     "text": [
      "\n",
      "Iteration 56/74 of epoch 74 complete. Loss : 0.01525527867488563 \n",
      "\n",
      "Iteration 70/74 of epoch 74 complete. Loss : 0.0180558755860797 \n"
     ]
    },
    {
     "name": "stderr",
     "output_type": "stream",
     "text": [
      "100%|██████████| 19/19 [00:00<00:00, 249.90it/s]\n",
      " 19%|█▉        | 14/74 [00:00<00:00, 131.62it/s]"
     ]
    },
    {
     "name": "stdout",
     "output_type": "stream",
     "text": [
      "\n",
      "Epoch 74 complete! Validation Loss : 0.048296425246486537\n",
      "Epoch 74 complete! Validation Accuracy : 0.9803947368421053\n",
      "\n",
      "Iteration 14/74 of epoch 75 complete. Loss : 0.017306852004756883 \n"
     ]
    },
    {
     "name": "stderr",
     "output_type": "stream",
     "text": [
      " 73%|███████▎  | 54/74 [00:00<00:00, 130.94it/s]"
     ]
    },
    {
     "name": "stdout",
     "output_type": "stream",
     "text": [
      "\n",
      "Iteration 28/74 of epoch 75 complete. Loss : 0.018612850790045092 \n",
      "\n",
      "Iteration 42/74 of epoch 75 complete. Loss : 0.01904512070385473 \n"
     ]
    },
    {
     "name": "stderr",
     "output_type": "stream",
     "text": [
      "100%|██████████| 74/74 [00:00<00:00, 130.47it/s]\n",
      "  0%|          | 0/19 [00:00<?, ?it/s]"
     ]
    },
    {
     "name": "stdout",
     "output_type": "stream",
     "text": [
      "\n",
      "Iteration 56/74 of epoch 75 complete. Loss : 0.016149952542036772 \n",
      "\n",
      "Iteration 70/74 of epoch 75 complete. Loss : 0.015101064628522311 \n"
     ]
    },
    {
     "name": "stderr",
     "output_type": "stream",
     "text": [
      "100%|██████████| 19/19 [00:00<00:00, 246.57it/s]\n",
      " 18%|█▊        | 13/74 [00:00<00:00, 128.56it/s]"
     ]
    },
    {
     "name": "stdout",
     "output_type": "stream",
     "text": [
      "\n",
      "Epoch 75 complete! Validation Loss : 0.04688384256472713\n",
      "Epoch 75 complete! Validation Accuracy : 0.9795723684210527\n",
      "\n",
      "Iteration 14/74 of epoch 76 complete. Loss : 0.017071835729958757 \n"
     ]
    },
    {
     "name": "stderr",
     "output_type": "stream",
     "text": [
      " 73%|███████▎  | 54/74 [00:00<00:00, 129.77it/s]"
     ]
    },
    {
     "name": "stdout",
     "output_type": "stream",
     "text": [
      "\n",
      "Iteration 28/74 of epoch 76 complete. Loss : 0.017826495725395426 \n",
      "\n",
      "Iteration 42/74 of epoch 76 complete. Loss : 0.015045214011999113 \n"
     ]
    },
    {
     "name": "stderr",
     "output_type": "stream",
     "text": [
      "100%|██████████| 74/74 [00:00<00:00, 129.86it/s]\n",
      "  0%|          | 0/19 [00:00<?, ?it/s]"
     ]
    },
    {
     "name": "stdout",
     "output_type": "stream",
     "text": [
      "\n",
      "Iteration 56/74 of epoch 76 complete. Loss : 0.018833030281322344 \n",
      "\n",
      "Iteration 70/74 of epoch 76 complete. Loss : 0.0188931885308453 \n"
     ]
    },
    {
     "name": "stderr",
     "output_type": "stream",
     "text": [
      "100%|██████████| 19/19 [00:00<00:00, 246.94it/s]\n",
      " 19%|█▉        | 14/74 [00:00<00:00, 133.18it/s]"
     ]
    },
    {
     "name": "stdout",
     "output_type": "stream",
     "text": [
      "\n",
      "Epoch 76 complete! Validation Loss : 0.047231021533279044\n",
      "Epoch 76 complete! Validation Accuracy : 0.9800328947368421\n",
      "\n",
      "Iteration 14/74 of epoch 77 complete. Loss : 0.022073779521243914 \n"
     ]
    },
    {
     "name": "stderr",
     "output_type": "stream",
     "text": [
      " 73%|███████▎  | 54/74 [00:00<00:00, 130.46it/s]"
     ]
    },
    {
     "name": "stdout",
     "output_type": "stream",
     "text": [
      "\n",
      "Iteration 28/74 of epoch 77 complete. Loss : 0.015733418154663274 \n",
      "\n",
      "Iteration 42/74 of epoch 77 complete. Loss : 0.013285137513386351 \n"
     ]
    },
    {
     "name": "stderr",
     "output_type": "stream",
     "text": [
      "100%|██████████| 74/74 [00:00<00:00, 130.03it/s]\n",
      "  0%|          | 0/19 [00:00<?, ?it/s]"
     ]
    },
    {
     "name": "stdout",
     "output_type": "stream",
     "text": [
      "\n",
      "Iteration 56/74 of epoch 77 complete. Loss : 0.018294182073857104 \n",
      "\n",
      "Iteration 70/74 of epoch 77 complete. Loss : 0.015950453833543828 \n"
     ]
    },
    {
     "name": "stderr",
     "output_type": "stream",
     "text": [
      "100%|██████████| 19/19 [00:00<00:00, 245.95it/s]\n",
      " 19%|█▉        | 14/74 [00:00<00:00, 130.52it/s]"
     ]
    },
    {
     "name": "stdout",
     "output_type": "stream",
     "text": [
      "\n",
      "Epoch 77 complete! Validation Loss : 0.045435561553428046\n",
      "Epoch 77 complete! Validation Accuracy : 0.9775164473684211\n",
      "Best validation loss improved from 0.04616991156025937 to 0.045435561553428046\n",
      "\n",
      "\n",
      "Iteration 14/74 of epoch 78 complete. Loss : 0.015466250579005905 \n"
     ]
    },
    {
     "name": "stderr",
     "output_type": "stream",
     "text": [
      " 57%|█████▋    | 42/74 [00:00<00:00, 130.65it/s]"
     ]
    },
    {
     "name": "stdout",
     "output_type": "stream",
     "text": [
      "\n",
      "Iteration 28/74 of epoch 78 complete. Loss : 0.01794642778778715 \n",
      "\n",
      "Iteration 42/74 of epoch 78 complete. Loss : 0.015653149873417403 \n"
     ]
    },
    {
     "name": "stderr",
     "output_type": "stream",
     "text": [
      "100%|██████████| 74/74 [00:00<00:00, 129.14it/s]\n",
      "  0%|          | 0/19 [00:00<?, ?it/s]"
     ]
    },
    {
     "name": "stdout",
     "output_type": "stream",
     "text": [
      "\n",
      "Iteration 56/74 of epoch 78 complete. Loss : 0.01869175915739366 \n",
      "\n",
      "Iteration 70/74 of epoch 78 complete. Loss : 0.013373333079341267 \n"
     ]
    },
    {
     "name": "stderr",
     "output_type": "stream",
     "text": [
      "100%|██████████| 19/19 [00:00<00:00, 246.25it/s]\n",
      " 19%|█▉        | 14/74 [00:00<00:00, 130.88it/s]"
     ]
    },
    {
     "name": "stdout",
     "output_type": "stream",
     "text": [
      "\n",
      "Epoch 78 complete! Validation Loss : 0.045193546745730076\n",
      "Epoch 78 complete! Validation Accuracy : 0.9804440789473684\n",
      "Best validation loss improved from 0.045435561553428046 to 0.045193546745730076\n",
      "\n",
      "\n",
      "Iteration 14/74 of epoch 79 complete. Loss : 0.01828459873130279 \n"
     ]
    },
    {
     "name": "stderr",
     "output_type": "stream",
     "text": [
      " 74%|███████▍  | 55/74 [00:00<00:00, 130.03it/s]"
     ]
    },
    {
     "name": "stdout",
     "output_type": "stream",
     "text": [
      "\n",
      "Iteration 28/74 of epoch 79 complete. Loss : 0.013287288136780262 \n",
      "\n",
      "Iteration 42/74 of epoch 79 complete. Loss : 0.014751213436414088 \n"
     ]
    },
    {
     "name": "stderr",
     "output_type": "stream",
     "text": [
      "100%|██████████| 74/74 [00:00<00:00, 131.04it/s]\n",
      "100%|██████████| 19/19 [00:00<00:00, 252.27it/s]"
     ]
    },
    {
     "name": "stdout",
     "output_type": "stream",
     "text": [
      "\n",
      "Iteration 56/74 of epoch 79 complete. Loss : 0.01615652984141239 \n",
      "\n",
      "Iteration 70/74 of epoch 79 complete. Loss : 0.018553773406893015 \n"
     ]
    },
    {
     "name": "stderr",
     "output_type": "stream",
     "text": [
      "\n",
      " 22%|██▏       | 16/74 [00:00<00:00, 155.96it/s]"
     ]
    },
    {
     "name": "stdout",
     "output_type": "stream",
     "text": [
      "\n",
      "Epoch 79 complete! Validation Loss : 0.04519369198303474\n",
      "Epoch 79 complete! Validation Accuracy : 0.9787500000000001\n",
      "\n",
      "Iteration 14/74 of epoch 80 complete. Loss : 0.016439196686925634 \n",
      "\n",
      "Iteration 28/74 of epoch 80 complete. Loss : 0.017500491546733037 \n"
     ]
    },
    {
     "name": "stderr",
     "output_type": "stream",
     "text": [
      " 86%|████████▋ | 64/74 [00:00<00:00, 155.38it/s]"
     ]
    },
    {
     "name": "stdout",
     "output_type": "stream",
     "text": [
      "\n",
      "Iteration 42/74 of epoch 80 complete. Loss : 0.014552966591769032 \n",
      "\n",
      "Iteration 56/74 of epoch 80 complete. Loss : 0.014808501732269568 \n",
      "\n",
      "Iteration 70/74 of epoch 80 complete. Loss : 0.015714232743318592 \n"
     ]
    },
    {
     "name": "stderr",
     "output_type": "stream",
     "text": [
      "100%|██████████| 74/74 [00:00<00:00, 155.07it/s]\n",
      "100%|██████████| 19/19 [00:00<00:00, 251.26it/s]\n",
      " 22%|██▏       | 16/74 [00:00<00:00, 155.03it/s]"
     ]
    },
    {
     "name": "stdout",
     "output_type": "stream",
     "text": [
      "\n",
      "Epoch 80 complete! Validation Loss : 0.0462384968996048\n",
      "Epoch 80 complete! Validation Accuracy : 0.9795723684210527\n",
      "\n",
      "Iteration 14/74 of epoch 81 complete. Loss : 0.017648720182478428 \n",
      "\n",
      "Iteration 28/74 of epoch 81 complete. Loss : 0.012768730986863375 \n"
     ]
    },
    {
     "name": "stderr",
     "output_type": "stream",
     "text": [
      " 86%|████████▋ | 64/74 [00:00<00:00, 155.25it/s]"
     ]
    },
    {
     "name": "stdout",
     "output_type": "stream",
     "text": [
      "\n",
      "Iteration 42/74 of epoch 81 complete. Loss : 0.017763322485344752 \n",
      "\n",
      "Iteration 56/74 of epoch 81 complete. Loss : 0.015619058228496994 \n",
      "\n",
      "Iteration 70/74 of epoch 81 complete. Loss : 0.01771407694156681 \n"
     ]
    },
    {
     "name": "stderr",
     "output_type": "stream",
     "text": [
      "100%|██████████| 74/74 [00:00<00:00, 154.50it/s]\n",
      "100%|██████████| 19/19 [00:00<00:00, 101.55it/s]\n",
      " 22%|██▏       | 16/74 [00:00<00:00, 155.32it/s]"
     ]
    },
    {
     "name": "stdout",
     "output_type": "stream",
     "text": [
      "\n",
      "Epoch 81 complete! Validation Loss : 0.044525265007426866\n",
      "Epoch 81 complete! Validation Accuracy : 0.979983552631579\n",
      "Best validation loss improved from 0.045193546745730076 to 0.044525265007426866\n",
      "\n",
      "\n",
      "Iteration 14/74 of epoch 82 complete. Loss : 0.013941885022047375 \n",
      "\n",
      "Iteration 28/74 of epoch 82 complete. Loss : 0.013941701268777251 \n"
     ]
    },
    {
     "name": "stderr",
     "output_type": "stream",
     "text": [
      " 82%|████████▏ | 61/74 [00:00<00:00, 145.08it/s]"
     ]
    },
    {
     "name": "stdout",
     "output_type": "stream",
     "text": [
      "\n",
      "Iteration 42/74 of epoch 82 complete. Loss : 0.01651064499414393 \n",
      "\n",
      "Iteration 56/74 of epoch 82 complete. Loss : 0.014254284956093346 \n"
     ]
    },
    {
     "name": "stderr",
     "output_type": "stream",
     "text": [
      "100%|██████████| 74/74 [00:00<00:00, 144.63it/s]\n",
      "100%|██████████| 19/19 [00:00<00:00, 254.54it/s]\n",
      "  0%|          | 0/74 [00:00<?, ?it/s]"
     ]
    },
    {
     "name": "stdout",
     "output_type": "stream",
     "text": [
      "\n",
      "Iteration 70/74 of epoch 82 complete. Loss : 0.017254865129611323 \n",
      "\n",
      "Epoch 82 complete! Validation Loss : 0.04620966349581355\n",
      "Epoch 82 complete! Validation Accuracy : 0.9787993421052632\n"
     ]
    },
    {
     "name": "stderr",
     "output_type": "stream",
     "text": [
      " 36%|███▋      | 27/74 [00:00<00:00, 133.65it/s]"
     ]
    },
    {
     "name": "stdout",
     "output_type": "stream",
     "text": [
      "\n",
      "Iteration 14/74 of epoch 83 complete. Loss : 0.013435549934261612 \n",
      "\n",
      "Iteration 28/74 of epoch 83 complete. Loss : 0.016922913857602646 \n"
     ]
    },
    {
     "name": "stderr",
     "output_type": "stream",
     "text": [
      " 92%|█████████▏| 68/74 [00:00<00:00, 130.54it/s]"
     ]
    },
    {
     "name": "stdout",
     "output_type": "stream",
     "text": [
      "\n",
      "Iteration 42/74 of epoch 83 complete. Loss : 0.01430689450353384 \n",
      "\n",
      "Iteration 56/74 of epoch 83 complete. Loss : 0.014842372786785876 \n"
     ]
    },
    {
     "name": "stderr",
     "output_type": "stream",
     "text": [
      "100%|██████████| 74/74 [00:00<00:00, 130.72it/s]\n",
      "100%|██████████| 19/19 [00:00<00:00, 253.15it/s]\n",
      "  0%|          | 0/74 [00:00<?, ?it/s]"
     ]
    },
    {
     "name": "stdout",
     "output_type": "stream",
     "text": [
      "\n",
      "Iteration 70/74 of epoch 83 complete. Loss : 0.015487395526309098 \n",
      "\n",
      "Epoch 83 complete! Validation Loss : 0.04362708472303654\n",
      "Epoch 83 complete! Validation Accuracy : 0.9804440789473684\n",
      "Best validation loss improved from 0.044525265007426866 to 0.04362708472303654\n",
      "\n"
     ]
    },
    {
     "name": "stderr",
     "output_type": "stream",
     "text": [
      " 38%|███▊      | 28/74 [00:00<00:00, 131.40it/s]"
     ]
    },
    {
     "name": "stdout",
     "output_type": "stream",
     "text": [
      "\n",
      "Iteration 14/74 of epoch 84 complete. Loss : 0.015500392432191543 \n",
      "\n",
      "Iteration 28/74 of epoch 84 complete. Loss : 0.013995011237316899 \n"
     ]
    },
    {
     "name": "stderr",
     "output_type": "stream",
     "text": [
      " 76%|███████▌  | 56/74 [00:00<00:00, 131.51it/s]"
     ]
    },
    {
     "name": "stdout",
     "output_type": "stream",
     "text": [
      "\n",
      "Iteration 42/74 of epoch 84 complete. Loss : 0.015589522596980845 \n",
      "\n",
      "Iteration 56/74 of epoch 84 complete. Loss : 0.013176188138978822 \n"
     ]
    },
    {
     "name": "stderr",
     "output_type": "stream",
     "text": [
      "100%|██████████| 74/74 [00:00<00:00, 131.08it/s]\n",
      "100%|██████████| 19/19 [00:00<00:00, 253.13it/s]\n",
      "  0%|          | 0/74 [00:00<?, ?it/s]"
     ]
    },
    {
     "name": "stdout",
     "output_type": "stream",
     "text": [
      "\n",
      "Iteration 70/74 of epoch 84 complete. Loss : 0.012709695346919554 \n",
      "\n",
      "Epoch 84 complete! Validation Loss : 0.04750597119135292\n",
      "Epoch 84 complete! Validation Accuracy : 0.9792105263157895\n"
     ]
    },
    {
     "name": "stderr",
     "output_type": "stream",
     "text": [
      " 38%|███▊      | 28/74 [00:00<00:00, 132.66it/s]"
     ]
    },
    {
     "name": "stdout",
     "output_type": "stream",
     "text": [
      "\n",
      "Iteration 14/74 of epoch 85 complete. Loss : 0.013958241840425347 \n",
      "\n",
      "Iteration 28/74 of epoch 85 complete. Loss : 0.014751879631408624 \n"
     ]
    },
    {
     "name": "stderr",
     "output_type": "stream",
     "text": [
      " 74%|███████▍  | 55/74 [00:00<00:00, 131.95it/s]"
     ]
    },
    {
     "name": "stdout",
     "output_type": "stream",
     "text": [
      "\n",
      "Iteration 42/74 of epoch 85 complete. Loss : 0.01678394479677081 \n",
      "\n",
      "Iteration 56/74 of epoch 85 complete. Loss : 0.01694093637966684 \n"
     ]
    },
    {
     "name": "stderr",
     "output_type": "stream",
     "text": [
      "100%|██████████| 74/74 [00:00<00:00, 130.22it/s]\n",
      "100%|██████████| 19/19 [00:00<00:00, 250.82it/s]\n",
      "  0%|          | 0/74 [00:00<?, ?it/s]"
     ]
    },
    {
     "name": "stdout",
     "output_type": "stream",
     "text": [
      "\n",
      "Iteration 70/74 of epoch 85 complete. Loss : 0.01058399336346026 \n",
      "\n",
      "Epoch 85 complete! Validation Loss : 0.04388863720784062\n",
      "Epoch 85 complete! Validation Accuracy : 0.9787500000000001\n"
     ]
    },
    {
     "name": "stderr",
     "output_type": "stream",
     "text": [
      " 38%|███▊      | 28/74 [00:00<00:00, 131.42it/s]"
     ]
    },
    {
     "name": "stdout",
     "output_type": "stream",
     "text": [
      "\n",
      "Iteration 14/74 of epoch 86 complete. Loss : 0.015632142811747535 \n",
      "\n",
      "Iteration 28/74 of epoch 86 complete. Loss : 0.013745663820632867 \n"
     ]
    },
    {
     "name": "stderr",
     "output_type": "stream",
     "text": [
      " 76%|███████▌  | 56/74 [00:00<00:00, 131.03it/s]"
     ]
    },
    {
     "name": "stdout",
     "output_type": "stream",
     "text": [
      "\n",
      "Iteration 42/74 of epoch 86 complete. Loss : 0.01624927786178887 \n",
      "\n",
      "Iteration 56/74 of epoch 86 complete. Loss : 0.012908638288666095 \n"
     ]
    },
    {
     "name": "stderr",
     "output_type": "stream",
     "text": [
      "100%|██████████| 74/74 [00:00<00:00, 131.00it/s]\n",
      "100%|██████████| 19/19 [00:00<00:00, 250.31it/s]\n",
      "  0%|          | 0/74 [00:00<?, ?it/s]"
     ]
    },
    {
     "name": "stdout",
     "output_type": "stream",
     "text": [
      "\n",
      "Iteration 70/74 of epoch 86 complete. Loss : 0.013431991849626814 \n",
      "\n",
      "Epoch 86 complete! Validation Loss : 0.04743974670571716\n",
      "Epoch 86 complete! Validation Accuracy : 0.9792105263157895\n"
     ]
    },
    {
     "name": "stderr",
     "output_type": "stream",
     "text": [
      " 38%|███▊      | 28/74 [00:00<00:00, 129.58it/s]"
     ]
    },
    {
     "name": "stdout",
     "output_type": "stream",
     "text": [
      "\n",
      "Iteration 14/74 of epoch 87 complete. Loss : 0.014024574176541396 \n",
      "\n",
      "Iteration 28/74 of epoch 87 complete. Loss : 0.015079121138634426 \n"
     ]
    },
    {
     "name": "stderr",
     "output_type": "stream",
     "text": [
      " 76%|███████▌  | 56/74 [00:00<00:00, 129.81it/s]"
     ]
    },
    {
     "name": "stdout",
     "output_type": "stream",
     "text": [
      "\n",
      "Iteration 42/74 of epoch 87 complete. Loss : 0.016707044693508318 \n",
      "\n",
      "Iteration 56/74 of epoch 87 complete. Loss : 0.013859626670767154 \n"
     ]
    },
    {
     "name": "stderr",
     "output_type": "stream",
     "text": [
      "100%|██████████| 74/74 [00:00<00:00, 130.36it/s]\n",
      "100%|██████████| 19/19 [00:00<00:00, 251.82it/s]\n",
      "  0%|          | 0/74 [00:00<?, ?it/s]"
     ]
    },
    {
     "name": "stdout",
     "output_type": "stream",
     "text": [
      "\n",
      "Iteration 70/74 of epoch 87 complete. Loss : 0.014564464334398508 \n",
      "\n",
      "Epoch 87 complete! Validation Loss : 0.04473303969165212\n",
      "Epoch 87 complete! Validation Accuracy : 0.979983552631579\n"
     ]
    },
    {
     "name": "stderr",
     "output_type": "stream",
     "text": [
      " 38%|███▊      | 28/74 [00:00<00:00, 129.65it/s]"
     ]
    },
    {
     "name": "stdout",
     "output_type": "stream",
     "text": [
      "\n",
      "Iteration 14/74 of epoch 88 complete. Loss : 0.0122638518223539 \n",
      "\n",
      "Iteration 28/74 of epoch 88 complete. Loss : 0.012491527179788266 \n"
     ]
    },
    {
     "name": "stderr",
     "output_type": "stream",
     "text": [
      " 76%|███████▌  | 56/74 [00:00<00:00, 130.09it/s]"
     ]
    },
    {
     "name": "stdout",
     "output_type": "stream",
     "text": [
      "\n",
      "Iteration 42/74 of epoch 88 complete. Loss : 0.015263868662129556 \n",
      "\n",
      "Iteration 56/74 of epoch 88 complete. Loss : 0.01431499355073486 \n"
     ]
    },
    {
     "name": "stderr",
     "output_type": "stream",
     "text": [
      "100%|██████████| 74/74 [00:00<00:00, 130.20it/s]\n",
      "100%|██████████| 19/19 [00:00<00:00, 250.97it/s]\n",
      "  0%|          | 0/74 [00:00<?, ?it/s]"
     ]
    },
    {
     "name": "stdout",
     "output_type": "stream",
     "text": [
      "\n",
      "Iteration 70/74 of epoch 88 complete. Loss : 0.012562621576112829 \n",
      "\n",
      "Epoch 88 complete! Validation Loss : 0.04381429124623537\n",
      "Epoch 88 complete! Validation Accuracy : 0.9808059210526316\n"
     ]
    },
    {
     "name": "stderr",
     "output_type": "stream",
     "text": [
      " 38%|███▊      | 28/74 [00:00<00:00, 132.73it/s]"
     ]
    },
    {
     "name": "stdout",
     "output_type": "stream",
     "text": [
      "\n",
      "Iteration 14/74 of epoch 89 complete. Loss : 0.013658662592726094 \n",
      "\n",
      "Iteration 28/74 of epoch 89 complete. Loss : 0.013431645347736776 \n"
     ]
    },
    {
     "name": "stderr",
     "output_type": "stream",
     "text": [
      " 92%|█████████▏| 68/74 [00:00<00:00, 130.43it/s]"
     ]
    },
    {
     "name": "stdout",
     "output_type": "stream",
     "text": [
      "\n",
      "Iteration 42/74 of epoch 89 complete. Loss : 0.01175577801352899 \n",
      "\n",
      "Iteration 56/74 of epoch 89 complete. Loss : 0.015295769819723708 \n"
     ]
    },
    {
     "name": "stderr",
     "output_type": "stream",
     "text": [
      "100%|██████████| 74/74 [00:00<00:00, 129.99it/s]\n",
      "100%|██████████| 19/19 [00:00<00:00, 250.76it/s]\n",
      "  0%|          | 0/74 [00:00<?, ?it/s]"
     ]
    },
    {
     "name": "stdout",
     "output_type": "stream",
     "text": [
      "\n",
      "Iteration 70/74 of epoch 89 complete. Loss : 0.01577129933450903 \n",
      "\n",
      "Epoch 89 complete! Validation Loss : 0.04517172610289172\n",
      "Epoch 89 complete! Validation Accuracy : 0.981217105263158\n"
     ]
    },
    {
     "name": "stderr",
     "output_type": "stream",
     "text": [
      " 54%|█████▍    | 40/74 [00:00<00:00, 130.22it/s]"
     ]
    },
    {
     "name": "stdout",
     "output_type": "stream",
     "text": [
      "\n",
      "Iteration 14/74 of epoch 90 complete. Loss : 0.01794882384794099 \n",
      "\n",
      "Iteration 28/74 of epoch 90 complete. Loss : 0.010554565715470485 \n"
     ]
    },
    {
     "name": "stderr",
     "output_type": "stream",
     "text": [
      " 92%|█████████▏| 68/74 [00:00<00:00, 130.92it/s]"
     ]
    },
    {
     "name": "stdout",
     "output_type": "stream",
     "text": [
      "\n",
      "Iteration 42/74 of epoch 90 complete. Loss : 0.012059406177806003 \n",
      "\n",
      "Iteration 56/74 of epoch 90 complete. Loss : 0.017172541535858597 \n"
     ]
    },
    {
     "name": "stderr",
     "output_type": "stream",
     "text": [
      "100%|██████████| 74/74 [00:00<00:00, 130.42it/s]\n",
      "100%|██████████| 19/19 [00:00<00:00, 248.72it/s]\n",
      "  0%|          | 0/74 [00:00<?, ?it/s]"
     ]
    },
    {
     "name": "stdout",
     "output_type": "stream",
     "text": [
      "\n",
      "Iteration 70/74 of epoch 90 complete. Loss : 0.01244604610837996 \n",
      "\n",
      "Epoch 90 complete! Validation Loss : 0.042797784026908245\n",
      "Epoch 90 complete! Validation Accuracy : 0.9812664473684211\n",
      "Best validation loss improved from 0.04362708472303654 to 0.042797784026908245\n",
      "\n"
     ]
    },
    {
     "name": "stderr",
     "output_type": "stream",
     "text": [
      " 38%|███▊      | 28/74 [00:00<00:00, 130.29it/s]"
     ]
    },
    {
     "name": "stdout",
     "output_type": "stream",
     "text": [
      "\n",
      "Iteration 14/74 of epoch 91 complete. Loss : 0.01128625261065151 \n",
      "\n",
      "Iteration 28/74 of epoch 91 complete. Loss : 0.014105470451925482 \n"
     ]
    },
    {
     "name": "stderr",
     "output_type": "stream",
     "text": [
      " 76%|███████▌  | 56/74 [00:00<00:00, 130.31it/s]"
     ]
    },
    {
     "name": "stdout",
     "output_type": "stream",
     "text": [
      "\n",
      "Iteration 42/74 of epoch 91 complete. Loss : 0.01437057850749365 \n",
      "\n",
      "Iteration 56/74 of epoch 91 complete. Loss : 0.01604640906277512 \n"
     ]
    },
    {
     "name": "stderr",
     "output_type": "stream",
     "text": [
      "100%|██████████| 74/74 [00:00<00:00, 129.64it/s]\n",
      "100%|██████████| 19/19 [00:00<00:00, 241.57it/s]\n",
      "  0%|          | 0/74 [00:00<?, ?it/s]"
     ]
    },
    {
     "name": "stdout",
     "output_type": "stream",
     "text": [
      "\n",
      "Iteration 70/74 of epoch 91 complete. Loss : 0.010996354278177023 \n",
      "\n",
      "Epoch 91 complete! Validation Loss : 0.041918250683106874\n",
      "Epoch 91 complete! Validation Accuracy : 0.9775164473684211\n",
      "Best validation loss improved from 0.042797784026908245 to 0.041918250683106874\n",
      "\n"
     ]
    },
    {
     "name": "stderr",
     "output_type": "stream",
     "text": [
      " 38%|███▊      | 28/74 [00:00<00:00, 129.09it/s]"
     ]
    },
    {
     "name": "stdout",
     "output_type": "stream",
     "text": [
      "\n",
      "Iteration 14/74 of epoch 92 complete. Loss : 0.01200456531452281 \n",
      "\n",
      "Iteration 28/74 of epoch 92 complete. Loss : 0.014181217710886682 \n"
     ]
    },
    {
     "name": "stderr",
     "output_type": "stream",
     "text": [
      " 73%|███████▎  | 54/74 [00:00<00:00, 124.43it/s]"
     ]
    },
    {
     "name": "stdout",
     "output_type": "stream",
     "text": [
      "\n",
      "Iteration 42/74 of epoch 92 complete. Loss : 0.011924557953274675 \n",
      "\n",
      "Iteration 56/74 of epoch 92 complete. Loss : 0.014175448433629103 \n"
     ]
    },
    {
     "name": "stderr",
     "output_type": "stream",
     "text": [
      "100%|██████████| 74/74 [00:00<00:00, 124.52it/s]\n",
      "100%|██████████| 19/19 [00:00<00:00, 241.91it/s]\n"
     ]
    },
    {
     "name": "stdout",
     "output_type": "stream",
     "text": [
      "\n",
      "Iteration 70/74 of epoch 92 complete. Loss : 0.01194471980644656 \n"
     ]
    },
    {
     "name": "stderr",
     "output_type": "stream",
     "text": [
      " 19%|█▉        | 14/74 [00:00<00:00, 131.64it/s]"
     ]
    },
    {
     "name": "stdout",
     "output_type": "stream",
     "text": [
      "\n",
      "Epoch 92 complete! Validation Loss : 0.049555051679673945\n",
      "Epoch 92 complete! Validation Accuracy : 0.9771052631578948\n",
      "\n",
      "Iteration 14/74 of epoch 93 complete. Loss : 0.01342881191521883 \n"
     ]
    },
    {
     "name": "stderr",
     "output_type": "stream",
     "text": [
      " 73%|███████▎  | 54/74 [00:00<00:00, 129.97it/s]"
     ]
    },
    {
     "name": "stdout",
     "output_type": "stream",
     "text": [
      "\n",
      "Iteration 28/74 of epoch 93 complete. Loss : 0.012386835612622755 \n",
      "\n",
      "Iteration 42/74 of epoch 93 complete. Loss : 0.012004883095089878 \n"
     ]
    },
    {
     "name": "stderr",
     "output_type": "stream",
     "text": [
      "100%|██████████| 74/74 [00:00<00:00, 129.88it/s]\n",
      "  0%|          | 0/19 [00:00<?, ?it/s]"
     ]
    },
    {
     "name": "stdout",
     "output_type": "stream",
     "text": [
      "\n",
      "Iteration 56/74 of epoch 93 complete. Loss : 0.015335444527279054 \n",
      "\n",
      "Iteration 70/74 of epoch 93 complete. Loss : 0.011197956877627544 \n"
     ]
    },
    {
     "name": "stderr",
     "output_type": "stream",
     "text": [
      "100%|██████████| 19/19 [00:00<00:00, 247.47it/s]\n",
      " 19%|█▉        | 14/74 [00:00<00:00, 132.57it/s]"
     ]
    },
    {
     "name": "stdout",
     "output_type": "stream",
     "text": [
      "\n",
      "Epoch 93 complete! Validation Loss : 0.04770666132926157\n",
      "Epoch 93 complete! Validation Accuracy : 0.9789802631578948\n",
      "\n",
      "Iteration 14/74 of epoch 94 complete. Loss : 0.014712384502802576 \n"
     ]
    },
    {
     "name": "stderr",
     "output_type": "stream",
     "text": [
      " 57%|█████▋    | 42/74 [00:00<00:00, 131.54it/s]"
     ]
    },
    {
     "name": "stdout",
     "output_type": "stream",
     "text": [
      "\n",
      "Iteration 28/74 of epoch 94 complete. Loss : 0.015639747626015117 \n",
      "\n",
      "Iteration 42/74 of epoch 94 complete. Loss : 0.010729650035500526 \n"
     ]
    },
    {
     "name": "stderr",
     "output_type": "stream",
     "text": [
      "100%|██████████| 74/74 [00:00<00:00, 131.21it/s]\n",
      "  0%|          | 0/19 [00:00<?, ?it/s]"
     ]
    },
    {
     "name": "stdout",
     "output_type": "stream",
     "text": [
      "\n",
      "Iteration 56/74 of epoch 94 complete. Loss : 0.013695100205950439 \n",
      "\n",
      "Iteration 70/74 of epoch 94 complete. Loss : 0.009675633573871372 \n"
     ]
    },
    {
     "name": "stderr",
     "output_type": "stream",
     "text": [
      "100%|██████████| 19/19 [00:00<00:00, 245.54it/s]\n",
      " 19%|█▉        | 14/74 [00:00<00:00, 130.25it/s]"
     ]
    },
    {
     "name": "stdout",
     "output_type": "stream",
     "text": [
      "\n",
      "Epoch 94 complete! Validation Loss : 0.04552788669733625\n",
      "Epoch 94 complete! Validation Accuracy : 0.9791611842105263\n",
      "\n",
      "Iteration 14/74 of epoch 95 complete. Loss : 0.011233466378014003 \n"
     ]
    },
    {
     "name": "stderr",
     "output_type": "stream",
     "text": [
      " 73%|███████▎  | 54/74 [00:00<00:00, 129.93it/s]"
     ]
    },
    {
     "name": "stdout",
     "output_type": "stream",
     "text": [
      "\n",
      "Iteration 28/74 of epoch 95 complete. Loss : 0.011411779360579593 \n",
      "\n",
      "Iteration 42/74 of epoch 95 complete. Loss : 0.011720465662490045 \n"
     ]
    },
    {
     "name": "stderr",
     "output_type": "stream",
     "text": [
      "100%|██████████| 74/74 [00:00<00:00, 129.46it/s]\n",
      "  0%|          | 0/19 [00:00<?, ?it/s]"
     ]
    },
    {
     "name": "stdout",
     "output_type": "stream",
     "text": [
      "\n",
      "Iteration 56/74 of epoch 95 complete. Loss : 0.011277669076142567 \n",
      "\n",
      "Iteration 70/74 of epoch 95 complete. Loss : 0.013566649252814906 \n"
     ]
    },
    {
     "name": "stderr",
     "output_type": "stream",
     "text": [
      "100%|██████████| 19/19 [00:00<00:00, 244.37it/s]\n",
      " 19%|█▉        | 14/74 [00:00<00:00, 129.54it/s]"
     ]
    },
    {
     "name": "stdout",
     "output_type": "stream",
     "text": [
      "\n",
      "Epoch 95 complete! Validation Loss : 0.04625861621216724\n",
      "Epoch 95 complete! Validation Accuracy : 0.9804440789473684\n",
      "\n",
      "Iteration 14/74 of epoch 96 complete. Loss : 0.01607456913084856 \n"
     ]
    },
    {
     "name": "stderr",
     "output_type": "stream",
     "text": [
      " 73%|███████▎  | 54/74 [00:00<00:00, 130.05it/s]"
     ]
    },
    {
     "name": "stdout",
     "output_type": "stream",
     "text": [
      "\n",
      "Iteration 28/74 of epoch 96 complete. Loss : 0.012657920863213283 \n",
      "\n",
      "Iteration 42/74 of epoch 96 complete. Loss : 0.01278104429366067 \n"
     ]
    },
    {
     "name": "stderr",
     "output_type": "stream",
     "text": [
      "100%|██████████| 74/74 [00:00<00:00, 129.59it/s]\n",
      "  0%|          | 0/19 [00:00<?, ?it/s]"
     ]
    },
    {
     "name": "stdout",
     "output_type": "stream",
     "text": [
      "\n",
      "Iteration 56/74 of epoch 96 complete. Loss : 0.014065839616315705 \n",
      "\n",
      "Iteration 70/74 of epoch 96 complete. Loss : 0.015835107836340154 \n"
     ]
    },
    {
     "name": "stderr",
     "output_type": "stream",
     "text": [
      "100%|██████████| 19/19 [00:00<00:00, 249.20it/s]\n",
      " 19%|█▉        | 14/74 [00:00<00:00, 131.88it/s]"
     ]
    },
    {
     "name": "stdout",
     "output_type": "stream",
     "text": [
      "\n",
      "Epoch 96 complete! Validation Loss : 0.04320695577189326\n",
      "Epoch 96 complete! Validation Accuracy : 0.9795723684210527\n",
      "\n",
      "Iteration 14/74 of epoch 97 complete. Loss : 0.012920641273792301 \n"
     ]
    },
    {
     "name": "stderr",
     "output_type": "stream",
     "text": [
      " 73%|███████▎  | 54/74 [00:00<00:00, 130.22it/s]"
     ]
    },
    {
     "name": "stdout",
     "output_type": "stream",
     "text": [
      "\n",
      "Iteration 28/74 of epoch 97 complete. Loss : 0.010039543067770345 \n",
      "\n",
      "Iteration 42/74 of epoch 97 complete. Loss : 0.012977779593451746 \n"
     ]
    },
    {
     "name": "stderr",
     "output_type": "stream",
     "text": [
      "100%|██████████| 74/74 [00:00<00:00, 129.32it/s]\n",
      "  0%|          | 0/19 [00:00<?, ?it/s]"
     ]
    },
    {
     "name": "stdout",
     "output_type": "stream",
     "text": [
      "\n",
      "Iteration 56/74 of epoch 97 complete. Loss : 0.014373753752027239 \n",
      "\n",
      "Iteration 70/74 of epoch 97 complete. Loss : 0.00942628360020795 \n"
     ]
    },
    {
     "name": "stderr",
     "output_type": "stream",
     "text": [
      "100%|██████████| 19/19 [00:00<00:00, 228.05it/s]\n",
      " 19%|█▉        | 14/74 [00:00<00:00, 130.21it/s]"
     ]
    },
    {
     "name": "stdout",
     "output_type": "stream",
     "text": [
      "\n",
      "Epoch 97 complete! Validation Loss : 0.04474477950287493\n",
      "Epoch 97 complete! Validation Accuracy : 0.9791611842105263\n",
      "\n",
      "Iteration 14/74 of epoch 98 complete. Loss : 0.009745017326037799 \n"
     ]
    },
    {
     "name": "stderr",
     "output_type": "stream",
     "text": [
      " 57%|█████▋    | 42/74 [00:00<00:00, 129.70it/s]"
     ]
    },
    {
     "name": "stdout",
     "output_type": "stream",
     "text": [
      "\n",
      "Iteration 28/74 of epoch 98 complete. Loss : 0.013681393981512104 \n",
      "\n",
      "Iteration 42/74 of epoch 98 complete. Loss : 0.010492406369719123 \n"
     ]
    },
    {
     "name": "stderr",
     "output_type": "stream",
     "text": [
      "100%|██████████| 74/74 [00:00<00:00, 129.56it/s]\n",
      "  0%|          | 0/19 [00:00<?, ?it/s]"
     ]
    },
    {
     "name": "stdout",
     "output_type": "stream",
     "text": [
      "\n",
      "Iteration 56/74 of epoch 98 complete. Loss : 0.012520447839051485 \n",
      "\n",
      "Iteration 70/74 of epoch 98 complete. Loss : 0.010332623829266854 \n"
     ]
    },
    {
     "name": "stderr",
     "output_type": "stream",
     "text": [
      "100%|██████████| 19/19 [00:00<00:00, 247.29it/s]\n",
      " 19%|█▉        | 14/74 [00:00<00:00, 132.49it/s]"
     ]
    },
    {
     "name": "stdout",
     "output_type": "stream",
     "text": [
      "\n",
      "Epoch 98 complete! Validation Loss : 0.04211374382047277\n",
      "Epoch 98 complete! Validation Accuracy : 0.9795723684210527\n",
      "\n",
      "Iteration 14/74 of epoch 99 complete. Loss : 0.008907376522464412 \n"
     ]
    },
    {
     "name": "stderr",
     "output_type": "stream",
     "text": [
      " 72%|███████▏  | 53/74 [00:00<00:00, 130.26it/s]"
     ]
    },
    {
     "name": "stdout",
     "output_type": "stream",
     "text": [
      "\n",
      "Iteration 28/74 of epoch 99 complete. Loss : 0.01298530532845429 \n",
      "\n",
      "Iteration 42/74 of epoch 99 complete. Loss : 0.010137923311309091 \n"
     ]
    },
    {
     "name": "stderr",
     "output_type": "stream",
     "text": [
      "100%|██████████| 74/74 [00:00<00:00, 129.49it/s]\n",
      "  0%|          | 0/19 [00:00<?, ?it/s]"
     ]
    },
    {
     "name": "stdout",
     "output_type": "stream",
     "text": [
      "\n",
      "Iteration 56/74 of epoch 99 complete. Loss : 0.01183634321205318 \n",
      "\n",
      "Iteration 70/74 of epoch 99 complete. Loss : 0.01232322508336178 \n"
     ]
    },
    {
     "name": "stderr",
     "output_type": "stream",
     "text": [
      "100%|██████████| 19/19 [00:00<00:00, 244.50it/s]\n",
      " 19%|█▉        | 14/74 [00:00<00:00, 131.10it/s]"
     ]
    },
    {
     "name": "stdout",
     "output_type": "stream",
     "text": [
      "\n",
      "Epoch 99 complete! Validation Loss : 0.04235827947329534\n",
      "Epoch 99 complete! Validation Accuracy : 0.9808059210526316\n",
      "\n",
      "Iteration 14/74 of epoch 100 complete. Loss : 0.010513967185813402 \n"
     ]
    },
    {
     "name": "stderr",
     "output_type": "stream",
     "text": [
      " 73%|███████▎  | 54/74 [00:00<00:00, 130.10it/s]"
     ]
    },
    {
     "name": "stdout",
     "output_type": "stream",
     "text": [
      "\n",
      "Iteration 28/74 of epoch 100 complete. Loss : 0.008553059829864651 \n",
      "\n",
      "Iteration 42/74 of epoch 100 complete. Loss : 0.012815092191366213 \n"
     ]
    },
    {
     "name": "stderr",
     "output_type": "stream",
     "text": [
      "100%|██████████| 74/74 [00:00<00:00, 130.04it/s]\n",
      "  0%|          | 0/19 [00:00<?, ?it/s]"
     ]
    },
    {
     "name": "stdout",
     "output_type": "stream",
     "text": [
      "\n",
      "Iteration 56/74 of epoch 100 complete. Loss : 0.009244910923631064 \n",
      "\n",
      "Iteration 70/74 of epoch 100 complete. Loss : 0.01294556845511709 \n"
     ]
    },
    {
     "name": "stderr",
     "output_type": "stream",
     "text": [
      "100%|██████████| 19/19 [00:00<00:00, 248.02it/s]\n"
     ]
    },
    {
     "name": "stdout",
     "output_type": "stream",
     "text": [
      "\n",
      "Epoch 100 complete! Validation Loss : 0.04400256913351385\n",
      "Epoch 100 complete! Validation Accuracy : 0.9795723684210527\n",
      "The model has been saved in saved_models/nv_em_ce_vbert_full_lr_3e-05_val_loss_0.04192_ep_91.pt\n"
     ]
    }
   ],
   "source": [
    "# Train the model\n",
    "model, model_name = train_model(class_model, criterion, optimizer, lr, scheduler, train_dataloader, test_dataloader, epochs, iters_to_accumulate)"
   ]
  },
  {
   "cell_type": "code",
   "execution_count": 31,
   "metadata": {},
   "outputs": [],
   "source": [
    "def evaluate(prediction_dataloader, model, path_to_model, load = False):\n",
    "\t# Prediction on test set\n",
    "\tif load:\n",
    "\t\tprint(\"Loading the weights of the model...\")\n",
    "\t\tmodel.load_state_dict(torch.load(path_to_model))\n",
    "\n",
    "\tprint('Evaluating on the testset')\n",
    "\n",
    "\t# Put model in evaluation mode\n",
    "\tmodel.eval()\n",
    "\n",
    "\t# Tracking variables \n",
    "\tpredictions , true_labels = [], []\n",
    "\n",
    "\t# Predict \n",
    "\tfor batch in prediction_dataloader:\n",
    "\t  # Add batch to GPU\n",
    "\t  batch = tuple(t.to(device) for t in batch)\n",
    "\t  \n",
    "\t  # Unpack the inputs from our dataloader\n",
    "\t  b_t_inputs, b_s_inputs, b_e_inputs, b_labels = batch\n",
    "\t  \n",
    "\t  # Telling the model not to compute or store gradients, saving memory and \n",
    "\t  # speeding up prediction\n",
    "\t  with torch.no_grad():\n",
    "\t      # Forward pass, calculate logit predictions\n",
    "\t      logits = model(b_t_inputs, b_s_inputs, b_e_inputs)\n",
    "\n",
    "\t  # Move logits and labels to CPU\n",
    "\t  logits = logits.detach().cpu().numpy()\n",
    "\t  label_ids = b_labels.to('cpu').numpy()\n",
    "\n",
    "\t  pred_flat = np.argmax(logits, axis=1).flatten()\n",
    "\t  labels_flat = label_ids.flatten()\n",
    "\t  \n",
    "\t  # Store predictions and true labels\n",
    "\t  predictions.extend(pred_flat)\n",
    "\t  true_labels.extend(labels_flat)\n",
    "\n",
    "\tprint('DONE.')\n",
    "\n",
    "\t# Code for result display\n",
    "\tprint(model_name, 'Multi-Modal Classification accuracy is')\n",
    "\tprint(metrics.accuracy_score(true_labels, predictions)*100)\n",
    "\tprint(classification_report(true_labels, predictions, target_names = ['fake', 'real']))\n",
    "\t# For error analysis\n",
    "\tif dataset_split == 'full':\n",
    "\t\tnew_df = pd.DataFrame()\n",
    "\t\tnew_df['ids'], new_df['ground_truth'], new_df['predicted'] = test_ids, true_labels, predictions\n",
    "\t\tnew_df.to_csv(str('error_analysis/'+model_name+'.csv'), index=False)  \n",
    "\t# Converting to csv\n",
    "\t# Removed transpose - check if actually required\n",
    "\tclsf_report = pd.DataFrame(classification_report(y_true = true_labels, y_pred = predictions, output_dict=True, target_names = ['fake', 'real']))\n",
    "\tclsf_report.to_csv(str('saved_models/'+model_name+'.csv'), index= True)"
   ]
  },
  {
   "cell_type": "code",
   "execution_count": 32,
   "metadata": {},
   "outputs": [
    {
     "name": "stdout",
     "output_type": "stream",
     "text": [
      "Evaluating on the testset\n",
      "DONE.\n",
      "nv_em_ce_vbert_full Multi-Modal Classification accuracy is\n",
      "97.87595581988106\n",
      "              precision    recall  f1-score   support\n",
      "\n",
      "        fake       0.98      0.97      0.98      1031\n",
      "        real       0.98      0.98      0.98      1323\n",
      "\n",
      "    accuracy                           0.98      2354\n",
      "   macro avg       0.98      0.98      0.98      2354\n",
      "weighted avg       0.98      0.98      0.98      2354\n",
      "\n"
     ]
    }
   ],
   "source": [
    "path_to_model = 'saved_models/class_contrast_visualbert_lr_3e-05_val_loss_0.35285_ep_100.pt'\n",
    "evaluate(test_dataloader, model, path_to_model = path_to_model, load = False)"
   ]
  }
 ],
 "metadata": {
  "interpreter": {
   "hash": "112ac2046fa01f929d29fd747457323c8422411859b530c12136f6127f223c24"
  },
  "kernelspec": {
   "display_name": "Python 3.6.11 64-bit ('newnisbert': conda)",
   "name": "python3"
  },
  "language_info": {
   "codemirror_mode": {
    "name": "ipython",
    "version": 3
   },
   "file_extension": ".py",
   "mimetype": "text/x-python",
   "name": "python",
   "nbconvert_exporter": "python",
   "pygments_lexer": "ipython3",
   "version": "3.6.11"
  },
  "orig_nbformat": 4
 },
 "nbformat": 4,
 "nbformat_minor": 2
}
