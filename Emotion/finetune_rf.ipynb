{
 "cells": [
  {
   "cell_type": "code",
   "execution_count": 1,
   "source": [
    "# Loading data and label\n",
    "import numpy as np\n",
    "emotion_data = np.load('/sda/rina_1921cs13/Fake_Emo/UnBiasedEmo/data.npy')\n",
    "emotion_label = np.load('/sda/rina_1921cs13/Fake_Emo/UnBiasedEmo/label.npy')\n",
    "print('Emotion data shape', emotion_data.shape)\n",
    "print('Emotion label shape', emotion_label.shape)\n",
    "label_keys = {}\n",
    "item_lab = [\"anger\", \"fear\", \"joy\", \"love\", \"sadness\", \"surprise\"]\n",
    "for i, emotion in enumerate(item_lab):\n",
    "    label_keys[i] = emotion\n",
    "print(label_keys)"
   ],
   "outputs": [
    {
     "output_type": "stream",
     "name": "stdout",
     "text": [
      "Emotion data shape (3045, 224, 224, 3)\n",
      "Emotion label shape (3045,)\n",
      "{0: 'anger', 1: 'fear', 2: 'joy', 3: 'love', 4: 'sadness', 5: 'surprise'}\n"
     ]
    }
   ],
   "metadata": {}
  },
  {
   "cell_type": "code",
   "execution_count": 2,
   "source": [
    "# Create two labels - real(1), fake(0) (Multilabel classification)\n",
    "from collections import Counter\n",
    "combine_label = []\n",
    "for label in emotion_label:\n",
    "    # fear, surprise, anger - false emo\n",
    "    if label == 0 or label == 1 or label == 5:\n",
    "        combine_label.append(0)\n",
    "    elif label == 2 or label == 3 or label == 4:\n",
    "        combine_label.append(1)\n",
    "print('Fake-Real distribution', Counter(combine_label))\n",
    "combine_label = np.array(combine_label)\n",
    "print('Combine label shape', combine_label.shape)"
   ],
   "outputs": [
    {
     "output_type": "stream",
     "name": "stdout",
     "text": [
      "Fake-Real distribution Counter({1: 1995, 0: 1050})\n",
      "Combine label shape (3045,)\n"
     ]
    }
   ],
   "metadata": {}
  },
  {
   "cell_type": "code",
   "execution_count": 3,
   "source": [
    "#TODO: Fine-Tune on Imagenet-pre-trained ResNet-50 model\n",
    "import os\n",
    "import sys\n",
    "import numpy as np\n",
    "from numpy import asarray,zeros\n",
    "import pandas as pd \n",
    "from sklearn.model_selection import train_test_split\n",
    "import torch\n",
    "import torch.nn.functional as F\n",
    "from torch.utils.data import TensorDataset, DataLoader, RandomSampler, SequentialSampler, Dataset\n",
    "import torch.nn as nn\n",
    "import torch.optim as optim\n",
    "from tqdm import tqdm\n",
    "import matplotlib.pyplot as plt\n",
    "import copy\n",
    "from sklearn.model_selection import train_test_split\n",
    "from sklearn import metrics\n",
    "from sklearn.metrics import classification_report\n",
    "import transformers\n",
    "from transformers import BertTokenizer\n",
    "from transformers import AdamW, get_linear_schedule_with_warmup\n",
    "from transformers import AutoTokenizer, AutoModel, AutoConfig, AdamW, get_linear_schedule_with_warmup\n",
    "from tensorflow.keras.preprocessing.text import Tokenizer\n",
    "from tensorflow.keras.preprocessing.sequence import pad_sequences\n",
    "import timm"
   ],
   "outputs": [],
   "metadata": {}
  },
  {
   "cell_type": "code",
   "execution_count": 4,
   "source": [
    "if torch.cuda.is_available():\n",
    "    device = torch.device(\"cuda\")\n",
    "    os.environ['CUDA_ENVIRONMENT_DEVICES'] = \"0\"\n",
    "else:\n",
    "    device = torch.device(\"cpu\")\n",
    "print(\"Using device\", device)"
   ],
   "outputs": [
    {
     "output_type": "stream",
     "name": "stdout",
     "text": [
      "Using device cuda\n"
     ]
    }
   ],
   "metadata": {}
  },
  {
   "cell_type": "code",
   "execution_count": 5,
   "source": [
    "num_images, width, height, num_channels = emotion_data.shape\n",
    "emotion_data = np.reshape(emotion_data, newshape=(num_images, num_channels, width, height))\n",
    "print('Emotion data shape', emotion_data.shape)"
   ],
   "outputs": [
    {
     "output_type": "stream",
     "name": "stdout",
     "text": [
      "Emotion data shape (3045, 3, 224, 224)\n"
     ]
    }
   ],
   "metadata": {}
  },
  {
   "cell_type": "code",
   "execution_count": 6,
   "source": [
    "# Convert to tensor\n",
    "data_tensor = torch.tensor(emotion_data, device=device)\n",
    "labels_tensor = torch.tensor(combine_label, dtype=torch.long, device=device)\n",
    "print('data tensor shape', data_tensor.shape)\n",
    "print('Labels tensor shape', labels_tensor.shape)"
   ],
   "outputs": [
    {
     "output_type": "stream",
     "name": "stdout",
     "text": [
      "data tensor shape torch.Size([3045, 3, 224, 224])\n",
      "Labels tensor shape torch.Size([3045])\n"
     ]
    }
   ],
   "metadata": {}
  },
  {
   "cell_type": "code",
   "execution_count": 7,
   "source": [
    "# NOTE: Splitting data into train and test\n",
    "train_data, test_data, train_labels, test_labels = train_test_split(data_tensor, labels_tensor, test_size=0.2, random_state=43)"
   ],
   "outputs": [],
   "metadata": {}
  },
  {
   "cell_type": "code",
   "execution_count": 8,
   "source": [
    "#TODO: Add Pytorch DataLoader\n",
    "def get_data_loader(batch_size, data, labels, split_type='train'):\n",
    "\tdata = TensorDataset(data, labels)\n",
    "\tif split_type == 'train':\n",
    "\t\tsampler = RandomSampler(data)\n",
    "\t\tdataloader = DataLoader(data, sampler=sampler, batch_size=batch_size)\n",
    "\telif split_type == 'val':\n",
    "\t\tsampler = SequentialSampler(data)\n",
    "\t\tdataloader = DataLoader(data, sampler=sampler, batch_size=batch_size)\n",
    "\treturn data, sampler, dataloader"
   ],
   "outputs": [],
   "metadata": {}
  },
  {
   "cell_type": "code",
   "execution_count": 9,
   "source": [
    "# Getting the dataloader\n",
    "batch_size = 128\n",
    "train_data, train_sampler, train_dataloader = get_data_loader(batch_size, train_data, train_labels, 'train')\n",
    "test_data, test_sampler, test_dataloader = get_data_loader(batch_size, test_data, test_labels, 'val')"
   ],
   "outputs": [],
   "metadata": {}
  },
  {
   "cell_type": "code",
   "execution_count": 10,
   "source": [
    "# # TODO: Test the resnet-50 model\n",
    "# res50model = timm.create_model('resnet50', pretrained=True).to(device)\n",
    "# res50base = ResNetBottom(res50model).to(device) # Output-2048 dim\n",
    "# # Forward pass on the data\n",
    "# output = res50base(data_tensor[0:5,:,:,:])\n",
    "# print(output.shape)"
   ],
   "outputs": [],
   "metadata": {}
  },
  {
   "cell_type": "code",
   "execution_count": 11,
   "source": [
    "#TODO: Define Resent-50 model\n",
    "class ResNetBottom(nn.Module):\n",
    "    def __init__(self, original_model):\n",
    "        super(ResNetBottom, self).__init__()\n",
    "        self.features = nn.Sequential(*list(original_model.children())[:-1])\n",
    "        \n",
    "    def forward(self, x):\n",
    "        x = self.features(x)\n",
    "        return x\n",
    "\n",
    "class ResnetBased(nn.Module):\n",
    "    def __init__(self):\n",
    "        super(ResnetBased, self).__init__()\n",
    "        self.vision_base_model = timm.create_model('resnet50', pretrained=True)\n",
    "        self.vision_model_head = ResNetBottom(self.vision_base_model)\n",
    "        self.project_1 = nn.Linear(2048, 1024, bias=True)\n",
    "        self.project_2 = nn.Linear(1024, 512, bias=True)\n",
    "        self.project_3 = nn.Linear(512, 128, bias=True)\n",
    "        self.tanh1 = nn.Tanh()\n",
    "        self.tanh2 = nn.Tanh()\n",
    "        self.tanh3 = nn.Tanh()\n",
    "        self.drop1 = nn.Dropout()\n",
    "        self.drop2 = nn.Dropout()\n",
    "        self.drop3 = nn.Dropout()\n",
    "        self.classification = nn.Linear(128, 2, bias=True)\n",
    "    def forward(self, img_features):\n",
    "        with torch.no_grad():\n",
    "            img_out = self.vision_model_head(img_features)\n",
    "        emotion_features = self.tanh3(self.project_3(self.tanh2(self.project_2(self.tanh1(self.project_1(img_out))))))\n",
    "        class_out = self.classification(emotion_features)\n",
    "        return class_out"
   ],
   "outputs": [],
   "metadata": {}
  },
  {
   "cell_type": "code",
   "execution_count": 12,
   "source": [
    "# Optimizer and scheduler\n",
    "def get_optimizer_scheduler(name, model, train_dataloader_len, epochs, lr_set):\n",
    "\tif name == \"Adam\":\n",
    "\t\toptimizer = AdamW(model.parameters(),\n",
    "                  lr = lr_set, # args.learning_rate - default is 5e-5, our notebook had 2e-5\n",
    "                  eps = 1e-8 # args.adam_epsilon  - default is 1e-8.\n",
    "\t\t)\n",
    "\ttotal_steps = train_dataloader_len * epochs\n",
    "\n",
    "\t# Create the learning rate scheduler.\n",
    "\tscheduler = get_linear_schedule_with_warmup(optimizer, \n",
    "\t\t\t\t\t\t\t\t\t\t\t\tnum_warmup_steps = total_steps//2, # Default value in run_glue.py\n",
    "\t\t\t\t\t\t\t\t\t\t\t\tnum_training_steps = total_steps)\n",
    "\treturn optimizer, scheduler"
   ],
   "outputs": [],
   "metadata": {}
  },
  {
   "cell_type": "code",
   "execution_count": 13,
   "source": [
    "# Get the model\n",
    "emo_model = ResnetBased().to(device)\n",
    "# Getting the optimizer and scheduler\n",
    "epochs = 100\n",
    "lr = 3e-5 # Less LR\n",
    "iters_to_accumulate = 2\n",
    "name = \"Adam\"\n",
    "criterion = nn.CrossEntropyLoss()\n",
    "optimizer, scheduler = get_optimizer_scheduler(name, emo_model, len(train_dataloader), epochs, lr)"
   ],
   "outputs": [],
   "metadata": {}
  },
  {
   "cell_type": "code",
   "execution_count": 14,
   "source": [
    "################ Evaluating Loss ######################\n",
    "#######################################################\n",
    "def evaluate_loss(net, device, criterion, dataloader):\n",
    "    net.eval()\n",
    "    mean_loss = 0\n",
    "    count = 0\n",
    "    with torch.no_grad():\n",
    "        for it, (input_data, labels) in enumerate(tqdm(dataloader)):\n",
    "            input_data, labels = input_data.to(device), labels.to(device)\n",
    "            logits = net(input_data)\n",
    "            mean_loss += criterion(logits.squeeze(-1), labels).item() # initially it was logits.squeeze(-1)\n",
    "            count += 1\n",
    "    return mean_loss / count"
   ],
   "outputs": [],
   "metadata": {}
  },
  {
   "cell_type": "code",
   "execution_count": 15,
   "source": [
    "################ Flat Accuracy Calculation ####################\n",
    "###############################################################\n",
    "def flat_accuracy(preds, labels):\n",
    "    pred_flat = np.argmax(preds, axis=1).flatten()\n",
    "    labels_flat = labels.flatten()\n",
    "    return np.sum(pred_flat == labels_flat) / len(labels_flat)\n",
    "################ Validation Accuracy Calculation ####################\n",
    "###############################################################\n",
    "def evaluate_accuracy(model, device, validation_dataloader):\n",
    "\tmodel.eval()\n",
    "\t# Tracking variables \n",
    "\teval_loss, eval_accuracy = 0, 0\n",
    "\tnb_eval_steps, nb_eval_examples = 0, 0\n",
    "\t# Evaluate data for one epoch\n",
    "\tfor batch in validation_dataloader:\n",
    "\t    # Add batch to GPU\n",
    "\t    batch = tuple(t.to(device) for t in batch)\t    \n",
    "\t    # Unpack the inputs from our dataloader\n",
    "\t    b_inputs, b_labels = batch\t    \n",
    "\t    \n",
    "\t    # Telling the model not to compute or store gradients, saving memory and\n",
    "\t    # speeding up validation\n",
    "\t    with torch.no_grad(): \n",
    "\t    \t# Forward pass, calculate logit predictions.\n",
    "\t        # This will return the logits rather than the loss because we have\n",
    "\t        # not provided labels.\n",
    "\t    \tlogits = model(b_inputs)       \n",
    "\n",
    "\t    # Move logits and labels to CPU\n",
    "\t    logits = logits.detach().cpu().numpy()\n",
    "\t    label_ids = b_labels.to('cpu').numpy()\n",
    "\t    \n",
    "\t    # Calculate the accuracy for this batch of test sentences.\n",
    "\t    tmp_eval_accuracy = flat_accuracy(logits, label_ids)\n",
    "\t    \n",
    "\t    # Accumulate the total accuracy.\n",
    "\t    eval_accuracy += tmp_eval_accuracy\n",
    "\n",
    "\t    # Track the number of batches\n",
    "\t    nb_eval_steps += 1\n",
    "\taccuracy = eval_accuracy/nb_eval_steps\n",
    "\treturn accuracy"
   ],
   "outputs": [],
   "metadata": {}
  },
  {
   "cell_type": "code",
   "execution_count": 16,
   "source": [
    "def train_model(net, criterion, opti, lr, lr_scheduler, train_loader, val_loader, epochs, iters_to_accumulate):\n",
    "    best_loss = np.Inf\n",
    "    best_ep = 1\n",
    "    nb_iterations = len(train_loader)\n",
    "    print_every = nb_iterations // 5  # print the training loss 5 times per epoch\n",
    "    iters = []\n",
    "    train_losses = []\n",
    "    val_losses = []\n",
    "    # Iterating over all epochs\n",
    "    for ep in range(epochs):\n",
    "        net.train()\n",
    "        running_loss = 0.0\n",
    "        for it, (data_inputs, labels) in enumerate(tqdm(train_loader)):\n",
    "\n",
    "            # Converting to cuda tensors\n",
    "            data_inputs, labels = data_inputs.to(device), labels.to(device)\n",
    "    \t\t\n",
    "            # Obtaining the logits from the model\n",
    "            logits = net(data_inputs)\n",
    "            # print(logits.device)\n",
    "\n",
    "            # Computing loss\n",
    "            # print(logits.squeeze(-1).shape)\n",
    "            # print(labels.shape)\n",
    "            loss = criterion(logits.squeeze(-1), labels)\n",
    "            loss = loss / iters_to_accumulate  # Normalize the loss because it is averaged\n",
    "\n",
    "            # Backpropagating the gradients\n",
    "            # Calls backward()\n",
    "            loss.backward()\n",
    "\n",
    "            if (it + 1) % iters_to_accumulate == 0:\n",
    "                # Optimization step\n",
    "                # scaler.step() first unscales the gradients of the optimizer's assigned params.\n",
    "                # If these gradients do not contain infs or NaNs, opti.step() is then called,\n",
    "                # otherwise, opti.step() is skipped.\n",
    "                opti.step()\n",
    "                # Adjust the learning rate based on the number of iterations.\n",
    "                lr_scheduler.step()\n",
    "                # Clear gradients\n",
    "                net.zero_grad()\n",
    "\n",
    "\n",
    "            running_loss += loss.item()\n",
    "\n",
    "            if (it + 1) % print_every == 0:  # Print training loss information\n",
    "                print()\n",
    "                print(\"Iteration {}/{} of epoch {} complete. Loss : {} \"\n",
    "                      .format(it+1, nb_iterations, ep+1, running_loss / print_every))\n",
    "\n",
    "                running_loss = 0.0\n",
    "\n",
    "\n",
    "        val_loss = evaluate_loss(net, device, criterion, val_loader)  # Compute validation loss\n",
    "        val_accuracy = evaluate_accuracy(net, device, val_loader)\n",
    "        print()\n",
    "        print(\"Epoch {} complete! Validation Loss : {}\".format(ep+1, val_loss))\n",
    "        print(\"Epoch {} complete! Validation Accuracy : {}\".format(ep+1, val_accuracy))\n",
    "\n",
    "        if val_loss < best_loss:\n",
    "            print(\"Best validation loss improved from {} to {}\".format(best_loss, val_loss))\n",
    "            print()\n",
    "            net_copy = copy.deepcopy(net)  # save a copy of the model\n",
    "            best_loss = val_loss\n",
    "            best_ep = ep + 1\n",
    "\n",
    "    # Saving the model\n",
    "    model_name = 'emo_combine_res50'\n",
    "    path_to_model='saved_models/{}_lr_{}_val_loss_{}_ep_{}.pt'.format(model_name, lr, round(best_loss, 5), best_ep)\n",
    "    torch.save(net_copy.state_dict(), path_to_model)\n",
    "    net.load_state_dict(torch.load(path_to_model)) # Re-Loading the best model\n",
    "    print(\"The model has been saved in {}\".format(path_to_model))\n",
    "\n",
    "    del loss\n",
    "    torch.cuda.empty_cache()\n",
    "    return net"
   ],
   "outputs": [],
   "metadata": {}
  },
  {
   "cell_type": "code",
   "execution_count": 17,
   "source": [
    "# Train the model\n",
    "model = train_model(emo_model, criterion, optimizer, lr, scheduler, train_dataloader, test_dataloader, epochs, iters_to_accumulate)"
   ],
   "outputs": [
    {
     "output_type": "stream",
     "name": "stderr",
     "text": [
      " 25%|██▌       | 5/20 [00:00<00:02,  6.31it/s]"
     ]
    },
    {
     "output_type": "stream",
     "name": "stdout",
     "text": [
      "\n",
      "Iteration 4/20 of epoch 1 complete. Loss : 0.3460268974304199 \n"
     ]
    },
    {
     "output_type": "stream",
     "name": "stderr",
     "text": [
      " 45%|████▌     | 9/20 [00:01<00:01,  6.57it/s]"
     ]
    },
    {
     "output_type": "stream",
     "name": "stdout",
     "text": [
      "\n",
      "Iteration 8/20 of epoch 1 complete. Loss : 0.3459411635994911 \n"
     ]
    },
    {
     "output_type": "stream",
     "name": "stderr",
     "text": [
      " 65%|██████▌   | 13/20 [00:01<00:01,  6.63it/s]"
     ]
    },
    {
     "output_type": "stream",
     "name": "stdout",
     "text": [
      "\n",
      "Iteration 12/20 of epoch 1 complete. Loss : 0.3461635634303093 \n"
     ]
    },
    {
     "output_type": "stream",
     "name": "stderr",
     "text": [
      " 85%|████████▌ | 17/20 [00:02<00:00,  6.65it/s]"
     ]
    },
    {
     "output_type": "stream",
     "name": "stdout",
     "text": [
      "\n",
      "Iteration 16/20 of epoch 1 complete. Loss : 0.3458755388855934 \n"
     ]
    },
    {
     "output_type": "stream",
     "name": "stderr",
     "text": [
      "100%|██████████| 20/20 [00:02<00:00,  6.86it/s]\n",
      " 20%|██        | 1/5 [00:00<00:00,  7.29it/s]"
     ]
    },
    {
     "output_type": "stream",
     "name": "stdout",
     "text": [
      "\n",
      "Iteration 20/20 of epoch 1 complete. Loss : 0.34648577123880386 \n"
     ]
    },
    {
     "output_type": "stream",
     "name": "stderr",
     "text": [
      "100%|██████████| 5/5 [00:00<00:00,  7.57it/s]\n",
      "  5%|▌         | 1/20 [00:00<00:02,  6.73it/s]"
     ]
    },
    {
     "output_type": "stream",
     "name": "stdout",
     "text": [
      "\n",
      "Epoch 1 complete! Validation Loss : 0.6916736483573913\n",
      "Epoch 1 complete! Validation Accuracy : 0.5539626288659794\n",
      "Best validation loss improved from inf to 0.6916736483573913\n",
      "\n"
     ]
    },
    {
     "output_type": "stream",
     "name": "stderr",
     "text": [
      " 25%|██▌       | 5/20 [00:00<00:02,  6.68it/s]"
     ]
    },
    {
     "output_type": "stream",
     "name": "stdout",
     "text": [
      "\n",
      "Iteration 4/20 of epoch 2 complete. Loss : 0.3456992283463478 \n"
     ]
    },
    {
     "output_type": "stream",
     "name": "stderr",
     "text": [
      " 45%|████▌     | 9/20 [00:01<00:01,  6.69it/s]"
     ]
    },
    {
     "output_type": "stream",
     "name": "stdout",
     "text": [
      "\n",
      "Iteration 8/20 of epoch 2 complete. Loss : 0.34598566591739655 \n"
     ]
    },
    {
     "output_type": "stream",
     "name": "stderr",
     "text": [
      " 65%|██████▌   | 13/20 [00:01<00:01,  6.68it/s]"
     ]
    },
    {
     "output_type": "stream",
     "name": "stdout",
     "text": [
      "\n",
      "Iteration 12/20 of epoch 2 complete. Loss : 0.3456255868077278 \n"
     ]
    },
    {
     "output_type": "stream",
     "name": "stderr",
     "text": [
      " 85%|████████▌ | 17/20 [00:02<00:00,  6.68it/s]"
     ]
    },
    {
     "output_type": "stream",
     "name": "stdout",
     "text": [
      "\n",
      "Iteration 16/20 of epoch 2 complete. Loss : 0.34552469849586487 \n"
     ]
    },
    {
     "output_type": "stream",
     "name": "stderr",
     "text": [
      "100%|██████████| 20/20 [00:02<00:00,  6.98it/s]\n",
      " 20%|██        | 1/5 [00:00<00:00,  7.29it/s]"
     ]
    },
    {
     "output_type": "stream",
     "name": "stdout",
     "text": [
      "\n",
      "Iteration 20/20 of epoch 2 complete. Loss : 0.3457619249820709 \n"
     ]
    },
    {
     "output_type": "stream",
     "name": "stderr",
     "text": [
      "100%|██████████| 5/5 [00:00<00:00,  7.57it/s]\n",
      "  5%|▌         | 1/20 [00:00<00:02,  6.73it/s]"
     ]
    },
    {
     "output_type": "stream",
     "name": "stdout",
     "text": [
      "\n",
      "Epoch 2 complete! Validation Loss : 0.6907665967941284\n",
      "Epoch 2 complete! Validation Accuracy : 0.5874033505154639\n",
      "Best validation loss improved from 0.6916736483573913 to 0.6907665967941284\n",
      "\n"
     ]
    },
    {
     "output_type": "stream",
     "name": "stderr",
     "text": [
      " 25%|██▌       | 5/20 [00:00<00:02,  6.68it/s]"
     ]
    },
    {
     "output_type": "stream",
     "name": "stdout",
     "text": [
      "\n",
      "Iteration 4/20 of epoch 3 complete. Loss : 0.34545572847127914 \n"
     ]
    },
    {
     "output_type": "stream",
     "name": "stderr",
     "text": [
      " 45%|████▌     | 9/20 [00:01<00:01,  6.67it/s]"
     ]
    },
    {
     "output_type": "stream",
     "name": "stdout",
     "text": [
      "\n",
      "Iteration 8/20 of epoch 3 complete. Loss : 0.3446286842226982 \n"
     ]
    },
    {
     "output_type": "stream",
     "name": "stderr",
     "text": [
      " 65%|██████▌   | 13/20 [00:01<00:01,  6.66it/s]"
     ]
    },
    {
     "output_type": "stream",
     "name": "stdout",
     "text": [
      "\n",
      "Iteration 12/20 of epoch 3 complete. Loss : 0.344579242169857 \n"
     ]
    },
    {
     "output_type": "stream",
     "name": "stderr",
     "text": [
      " 85%|████████▌ | 17/20 [00:02<00:00,  6.67it/s]"
     ]
    },
    {
     "output_type": "stream",
     "name": "stdout",
     "text": [
      "\n",
      "Iteration 16/20 of epoch 3 complete. Loss : 0.3445681035518646 \n"
     ]
    },
    {
     "output_type": "stream",
     "name": "stderr",
     "text": [
      "100%|██████████| 20/20 [00:02<00:00,  6.97it/s]\n",
      " 20%|██        | 1/5 [00:00<00:00,  7.28it/s]"
     ]
    },
    {
     "output_type": "stream",
     "name": "stdout",
     "text": [
      "\n",
      "Iteration 20/20 of epoch 3 complete. Loss : 0.3469104468822479 \n"
     ]
    },
    {
     "output_type": "stream",
     "name": "stderr",
     "text": [
      "100%|██████████| 5/5 [00:00<00:00,  7.57it/s]\n",
      "  5%|▌         | 1/20 [00:00<00:02,  6.72it/s]"
     ]
    },
    {
     "output_type": "stream",
     "name": "stdout",
     "text": [
      "\n",
      "Epoch 3 complete! Validation Loss : 0.6884700655937195\n",
      "Epoch 3 complete! Validation Accuracy : 0.6215850515463918\n",
      "Best validation loss improved from 0.6907665967941284 to 0.6884700655937195\n",
      "\n"
     ]
    },
    {
     "output_type": "stream",
     "name": "stderr",
     "text": [
      " 25%|██▌       | 5/20 [00:00<00:02,  6.67it/s]"
     ]
    },
    {
     "output_type": "stream",
     "name": "stdout",
     "text": [
      "\n",
      "Iteration 4/20 of epoch 4 complete. Loss : 0.3443018049001694 \n"
     ]
    },
    {
     "output_type": "stream",
     "name": "stderr",
     "text": [
      " 45%|████▌     | 9/20 [00:01<00:01,  6.65it/s]"
     ]
    },
    {
     "output_type": "stream",
     "name": "stdout",
     "text": [
      "\n",
      "Iteration 8/20 of epoch 4 complete. Loss : 0.3444049432873726 \n"
     ]
    },
    {
     "output_type": "stream",
     "name": "stderr",
     "text": [
      " 65%|██████▌   | 13/20 [00:01<00:01,  6.66it/s]"
     ]
    },
    {
     "output_type": "stream",
     "name": "stdout",
     "text": [
      "\n",
      "Iteration 12/20 of epoch 4 complete. Loss : 0.34396059066057205 \n"
     ]
    },
    {
     "output_type": "stream",
     "name": "stderr",
     "text": [
      " 85%|████████▌ | 17/20 [00:02<00:00,  6.65it/s]"
     ]
    },
    {
     "output_type": "stream",
     "name": "stdout",
     "text": [
      "\n",
      "Iteration 16/20 of epoch 4 complete. Loss : 0.3432960659265518 \n"
     ]
    },
    {
     "output_type": "stream",
     "name": "stderr",
     "text": [
      "100%|██████████| 20/20 [00:02<00:00,  6.96it/s]\n",
      " 20%|██        | 1/5 [00:00<00:00,  7.25it/s]"
     ]
    },
    {
     "output_type": "stream",
     "name": "stdout",
     "text": [
      "\n",
      "Iteration 20/20 of epoch 4 complete. Loss : 0.34324928373098373 \n"
     ]
    },
    {
     "output_type": "stream",
     "name": "stderr",
     "text": [
      "100%|██████████| 5/5 [00:00<00:00,  7.55it/s]\n",
      "  5%|▌         | 1/20 [00:00<00:02,  6.70it/s]"
     ]
    },
    {
     "output_type": "stream",
     "name": "stdout",
     "text": [
      "\n",
      "Epoch 4 complete! Validation Loss : 0.6858670473098755\n",
      "Epoch 4 complete! Validation Accuracy : 0.666333762886598\n",
      "Best validation loss improved from 0.6884700655937195 to 0.6858670473098755\n",
      "\n"
     ]
    },
    {
     "output_type": "stream",
     "name": "stderr",
     "text": [
      " 25%|██▌       | 5/20 [00:00<00:02,  6.64it/s]"
     ]
    },
    {
     "output_type": "stream",
     "name": "stdout",
     "text": [
      "\n",
      "Iteration 4/20 of epoch 5 complete. Loss : 0.34268923103809357 \n"
     ]
    },
    {
     "output_type": "stream",
     "name": "stderr",
     "text": [
      " 45%|████▌     | 9/20 [00:01<00:01,  6.64it/s]"
     ]
    },
    {
     "output_type": "stream",
     "name": "stdout",
     "text": [
      "\n",
      "Iteration 8/20 of epoch 5 complete. Loss : 0.3421967476606369 \n"
     ]
    },
    {
     "output_type": "stream",
     "name": "stderr",
     "text": [
      " 65%|██████▌   | 13/20 [00:01<00:01,  6.64it/s]"
     ]
    },
    {
     "output_type": "stream",
     "name": "stdout",
     "text": [
      "\n",
      "Iteration 12/20 of epoch 5 complete. Loss : 0.34332992881536484 \n"
     ]
    },
    {
     "output_type": "stream",
     "name": "stderr",
     "text": [
      " 85%|████████▌ | 17/20 [00:02<00:00,  6.64it/s]"
     ]
    },
    {
     "output_type": "stream",
     "name": "stdout",
     "text": [
      "\n",
      "Iteration 16/20 of epoch 5 complete. Loss : 0.34307900071144104 \n"
     ]
    },
    {
     "output_type": "stream",
     "name": "stderr",
     "text": [
      "100%|██████████| 20/20 [00:02<00:00,  6.95it/s]\n",
      " 20%|██        | 1/5 [00:00<00:00,  7.20it/s]"
     ]
    },
    {
     "output_type": "stream",
     "name": "stdout",
     "text": [
      "\n",
      "Iteration 20/20 of epoch 5 complete. Loss : 0.34192878752946854 \n"
     ]
    },
    {
     "output_type": "stream",
     "name": "stderr",
     "text": [
      "100%|██████████| 5/5 [00:00<00:00,  7.54it/s]\n",
      "  5%|▌         | 1/20 [00:00<00:02,  6.69it/s]"
     ]
    },
    {
     "output_type": "stream",
     "name": "stdout",
     "text": [
      "\n",
      "Epoch 5 complete! Validation Loss : 0.682237160205841\n",
      "Epoch 5 complete! Validation Accuracy : 0.6694587628865979\n",
      "Best validation loss improved from 0.6858670473098755 to 0.682237160205841\n",
      "\n"
     ]
    },
    {
     "output_type": "stream",
     "name": "stderr",
     "text": [
      " 25%|██▌       | 5/20 [00:00<00:02,  6.65it/s]"
     ]
    },
    {
     "output_type": "stream",
     "name": "stdout",
     "text": [
      "\n",
      "Iteration 4/20 of epoch 6 complete. Loss : 0.3423917815089226 \n"
     ]
    },
    {
     "output_type": "stream",
     "name": "stderr",
     "text": [
      " 45%|████▌     | 9/20 [00:01<00:01,  6.62it/s]"
     ]
    },
    {
     "output_type": "stream",
     "name": "stdout",
     "text": [
      "\n",
      "Iteration 8/20 of epoch 6 complete. Loss : 0.3396083638072014 \n"
     ]
    },
    {
     "output_type": "stream",
     "name": "stderr",
     "text": [
      " 65%|██████▌   | 13/20 [00:01<00:01,  6.62it/s]"
     ]
    },
    {
     "output_type": "stream",
     "name": "stdout",
     "text": [
      "\n",
      "Iteration 12/20 of epoch 6 complete. Loss : 0.3410949558019638 \n"
     ]
    },
    {
     "output_type": "stream",
     "name": "stderr",
     "text": [
      " 85%|████████▌ | 17/20 [00:02<00:00,  6.62it/s]"
     ]
    },
    {
     "output_type": "stream",
     "name": "stdout",
     "text": [
      "\n",
      "Iteration 16/20 of epoch 6 complete. Loss : 0.3409072682261467 \n"
     ]
    },
    {
     "output_type": "stream",
     "name": "stderr",
     "text": [
      "100%|██████████| 20/20 [00:02<00:00,  6.93it/s]\n",
      " 20%|██        | 1/5 [00:00<00:00,  7.23it/s]"
     ]
    },
    {
     "output_type": "stream",
     "name": "stdout",
     "text": [
      "\n",
      "Iteration 20/20 of epoch 6 complete. Loss : 0.3441195487976074 \n"
     ]
    },
    {
     "output_type": "stream",
     "name": "stderr",
     "text": [
      "100%|██████████| 5/5 [00:00<00:00,  7.51it/s]\n",
      "  5%|▌         | 1/20 [00:00<00:02,  6.66it/s]"
     ]
    },
    {
     "output_type": "stream",
     "name": "stdout",
     "text": [
      "\n",
      "Epoch 6 complete! Validation Loss : 0.6779783725738525\n",
      "Epoch 6 complete! Validation Accuracy : 0.6757087628865979\n",
      "Best validation loss improved from 0.682237160205841 to 0.6779783725738525\n",
      "\n"
     ]
    },
    {
     "output_type": "stream",
     "name": "stderr",
     "text": [
      " 25%|██▌       | 5/20 [00:00<00:02,  6.62it/s]"
     ]
    },
    {
     "output_type": "stream",
     "name": "stdout",
     "text": [
      "\n",
      "Iteration 4/20 of epoch 7 complete. Loss : 0.34117254614830017 \n"
     ]
    },
    {
     "output_type": "stream",
     "name": "stderr",
     "text": [
      " 45%|████▌     | 9/20 [00:01<00:01,  6.62it/s]"
     ]
    },
    {
     "output_type": "stream",
     "name": "stdout",
     "text": [
      "\n",
      "Iteration 8/20 of epoch 7 complete. Loss : 0.3380730599164963 \n"
     ]
    },
    {
     "output_type": "stream",
     "name": "stderr",
     "text": [
      " 65%|██████▌   | 13/20 [00:01<00:01,  6.60it/s]"
     ]
    },
    {
     "output_type": "stream",
     "name": "stdout",
     "text": [
      "\n",
      "Iteration 12/20 of epoch 7 complete. Loss : 0.3385106027126312 \n"
     ]
    },
    {
     "output_type": "stream",
     "name": "stderr",
     "text": [
      " 85%|████████▌ | 17/20 [00:02<00:00,  6.60it/s]"
     ]
    },
    {
     "output_type": "stream",
     "name": "stdout",
     "text": [
      "\n",
      "Iteration 16/20 of epoch 7 complete. Loss : 0.3387262746691704 \n"
     ]
    },
    {
     "output_type": "stream",
     "name": "stderr",
     "text": [
      "100%|██████████| 20/20 [00:02<00:00,  6.90it/s]\n",
      " 20%|██        | 1/5 [00:00<00:00,  7.22it/s]"
     ]
    },
    {
     "output_type": "stream",
     "name": "stdout",
     "text": [
      "\n",
      "Iteration 20/20 of epoch 7 complete. Loss : 0.34381740540266037 \n"
     ]
    },
    {
     "output_type": "stream",
     "name": "stderr",
     "text": [
      "100%|██████████| 5/5 [00:00<00:00,  7.45it/s]\n",
      "  5%|▌         | 1/20 [00:00<00:02,  6.67it/s]"
     ]
    },
    {
     "output_type": "stream",
     "name": "stdout",
     "text": [
      "\n",
      "Epoch 7 complete! Validation Loss : 0.6737639904022217\n",
      "Epoch 7 complete! Validation Accuracy : 0.6757087628865979\n",
      "Best validation loss improved from 0.6779783725738525 to 0.6737639904022217\n",
      "\n"
     ]
    },
    {
     "output_type": "stream",
     "name": "stderr",
     "text": [
      " 25%|██▌       | 5/20 [00:00<00:02,  6.61it/s]"
     ]
    },
    {
     "output_type": "stream",
     "name": "stdout",
     "text": [
      "\n",
      "Iteration 4/20 of epoch 8 complete. Loss : 0.3384143337607384 \n"
     ]
    },
    {
     "output_type": "stream",
     "name": "stderr",
     "text": [
      " 45%|████▌     | 9/20 [00:01<00:01,  6.59it/s]"
     ]
    },
    {
     "output_type": "stream",
     "name": "stdout",
     "text": [
      "\n",
      "Iteration 8/20 of epoch 8 complete. Loss : 0.33755477517843246 \n"
     ]
    },
    {
     "output_type": "stream",
     "name": "stderr",
     "text": [
      " 65%|██████▌   | 13/20 [00:01<00:01,  6.56it/s]"
     ]
    },
    {
     "output_type": "stream",
     "name": "stdout",
     "text": [
      "\n",
      "Iteration 12/20 of epoch 8 complete. Loss : 0.337100014090538 \n"
     ]
    },
    {
     "output_type": "stream",
     "name": "stderr",
     "text": [
      " 85%|████████▌ | 17/20 [00:02<00:00,  6.56it/s]"
     ]
    },
    {
     "output_type": "stream",
     "name": "stdout",
     "text": [
      "\n",
      "Iteration 16/20 of epoch 8 complete. Loss : 0.33654116839170456 \n"
     ]
    },
    {
     "output_type": "stream",
     "name": "stderr",
     "text": [
      "100%|██████████| 20/20 [00:02<00:00,  6.86it/s]\n",
      " 20%|██        | 1/5 [00:00<00:00,  7.20it/s]"
     ]
    },
    {
     "output_type": "stream",
     "name": "stdout",
     "text": [
      "\n",
      "Iteration 20/20 of epoch 8 complete. Loss : 0.338848315179348 \n"
     ]
    },
    {
     "output_type": "stream",
     "name": "stderr",
     "text": [
      "100%|██████████| 5/5 [00:00<00:00,  7.44it/s]\n",
      "  5%|▌         | 1/20 [00:00<00:02,  6.65it/s]"
     ]
    },
    {
     "output_type": "stream",
     "name": "stdout",
     "text": [
      "\n",
      "Epoch 8 complete! Validation Loss : 0.6692647814750672\n",
      "Epoch 8 complete! Validation Accuracy : 0.6757087628865979\n",
      "Best validation loss improved from 0.6737639904022217 to 0.6692647814750672\n",
      "\n"
     ]
    },
    {
     "output_type": "stream",
     "name": "stderr",
     "text": [
      " 25%|██▌       | 5/20 [00:00<00:02,  6.58it/s]"
     ]
    },
    {
     "output_type": "stream",
     "name": "stdout",
     "text": [
      "\n",
      "Iteration 4/20 of epoch 9 complete. Loss : 0.3354448825120926 \n"
     ]
    },
    {
     "output_type": "stream",
     "name": "stderr",
     "text": [
      " 45%|████▌     | 9/20 [00:01<00:01,  6.56it/s]"
     ]
    },
    {
     "output_type": "stream",
     "name": "stdout",
     "text": [
      "\n",
      "Iteration 8/20 of epoch 9 complete. Loss : 0.3352264314889908 \n"
     ]
    },
    {
     "output_type": "stream",
     "name": "stderr",
     "text": [
      " 65%|██████▌   | 13/20 [00:01<00:01,  6.56it/s]"
     ]
    },
    {
     "output_type": "stream",
     "name": "stdout",
     "text": [
      "\n",
      "Iteration 12/20 of epoch 9 complete. Loss : 0.3398980125784874 \n"
     ]
    },
    {
     "output_type": "stream",
     "name": "stderr",
     "text": [
      " 85%|████████▌ | 17/20 [00:02<00:00,  6.54it/s]"
     ]
    },
    {
     "output_type": "stream",
     "name": "stdout",
     "text": [
      "\n",
      "Iteration 16/20 of epoch 9 complete. Loss : 0.33268503099679947 \n"
     ]
    },
    {
     "output_type": "stream",
     "name": "stderr",
     "text": [
      "100%|██████████| 20/20 [00:02<00:00,  6.85it/s]\n",
      " 20%|██        | 1/5 [00:00<00:00,  7.20it/s]"
     ]
    },
    {
     "output_type": "stream",
     "name": "stdout",
     "text": [
      "\n",
      "Iteration 20/20 of epoch 9 complete. Loss : 0.32609329372644424 \n"
     ]
    },
    {
     "output_type": "stream",
     "name": "stderr",
     "text": [
      "100%|██████████| 5/5 [00:00<00:00,  7.44it/s]\n",
      "  5%|▌         | 1/20 [00:00<00:02,  6.64it/s]"
     ]
    },
    {
     "output_type": "stream",
     "name": "stdout",
     "text": [
      "\n",
      "Epoch 9 complete! Validation Loss : 0.6643629312515259\n",
      "Epoch 9 complete! Validation Accuracy : 0.6757087628865979\n",
      "Best validation loss improved from 0.6692647814750672 to 0.6643629312515259\n",
      "\n"
     ]
    },
    {
     "output_type": "stream",
     "name": "stderr",
     "text": [
      " 25%|██▌       | 5/20 [00:00<00:02,  6.59it/s]"
     ]
    },
    {
     "output_type": "stream",
     "name": "stdout",
     "text": [
      "\n",
      "Iteration 4/20 of epoch 10 complete. Loss : 0.3343658372759819 \n"
     ]
    },
    {
     "output_type": "stream",
     "name": "stderr",
     "text": [
      " 45%|████▌     | 9/20 [00:01<00:01,  6.58it/s]"
     ]
    },
    {
     "output_type": "stream",
     "name": "stdout",
     "text": [
      "\n",
      "Iteration 8/20 of epoch 10 complete. Loss : 0.332712359726429 \n"
     ]
    },
    {
     "output_type": "stream",
     "name": "stderr",
     "text": [
      " 65%|██████▌   | 13/20 [00:01<00:01,  6.54it/s]"
     ]
    },
    {
     "output_type": "stream",
     "name": "stdout",
     "text": [
      "\n",
      "Iteration 12/20 of epoch 10 complete. Loss : 0.3377571403980255 \n"
     ]
    },
    {
     "output_type": "stream",
     "name": "stderr",
     "text": [
      " 85%|████████▌ | 17/20 [00:02<00:00,  6.55it/s]"
     ]
    },
    {
     "output_type": "stream",
     "name": "stdout",
     "text": [
      "\n",
      "Iteration 16/20 of epoch 10 complete. Loss : 0.33214815706014633 \n"
     ]
    },
    {
     "output_type": "stream",
     "name": "stderr",
     "text": [
      "100%|██████████| 20/20 [00:02<00:00,  6.85it/s]\n",
      " 20%|██        | 1/5 [00:00<00:00,  7.18it/s]"
     ]
    },
    {
     "output_type": "stream",
     "name": "stdout",
     "text": [
      "\n",
      "Iteration 20/20 of epoch 10 complete. Loss : 0.32783985137939453 \n"
     ]
    },
    {
     "output_type": "stream",
     "name": "stderr",
     "text": [
      "100%|██████████| 5/5 [00:00<00:00,  7.42it/s]\n",
      "  5%|▌         | 1/20 [00:00<00:02,  6.60it/s]"
     ]
    },
    {
     "output_type": "stream",
     "name": "stdout",
     "text": [
      "\n",
      "Epoch 10 complete! Validation Loss : 0.658754312992096\n",
      "Epoch 10 complete! Validation Accuracy : 0.6757087628865979\n",
      "Best validation loss improved from 0.6643629312515259 to 0.658754312992096\n",
      "\n"
     ]
    },
    {
     "output_type": "stream",
     "name": "stderr",
     "text": [
      " 25%|██▌       | 5/20 [00:00<00:02,  6.53it/s]"
     ]
    },
    {
     "output_type": "stream",
     "name": "stdout",
     "text": [
      "\n",
      "Iteration 4/20 of epoch 11 complete. Loss : 0.3386303260922432 \n"
     ]
    },
    {
     "output_type": "stream",
     "name": "stderr",
     "text": [
      " 45%|████▌     | 9/20 [00:01<00:01,  6.50it/s]"
     ]
    },
    {
     "output_type": "stream",
     "name": "stdout",
     "text": [
      "\n",
      "Iteration 8/20 of epoch 11 complete. Loss : 0.32824160903692245 \n"
     ]
    },
    {
     "output_type": "stream",
     "name": "stderr",
     "text": [
      " 65%|██████▌   | 13/20 [00:01<00:01,  6.51it/s]"
     ]
    },
    {
     "output_type": "stream",
     "name": "stdout",
     "text": [
      "\n",
      "Iteration 12/20 of epoch 11 complete. Loss : 0.3294171914458275 \n"
     ]
    },
    {
     "output_type": "stream",
     "name": "stderr",
     "text": [
      " 85%|████████▌ | 17/20 [00:02<00:00,  6.51it/s]"
     ]
    },
    {
     "output_type": "stream",
     "name": "stdout",
     "text": [
      "\n",
      "Iteration 16/20 of epoch 11 complete. Loss : 0.3257121592760086 \n"
     ]
    },
    {
     "output_type": "stream",
     "name": "stderr",
     "text": [
      "100%|██████████| 20/20 [00:02<00:00,  6.81it/s]\n",
      " 20%|██        | 1/5 [00:00<00:00,  7.16it/s]"
     ]
    },
    {
     "output_type": "stream",
     "name": "stdout",
     "text": [
      "\n",
      "Iteration 20/20 of epoch 11 complete. Loss : 0.33158446103334427 \n"
     ]
    },
    {
     "output_type": "stream",
     "name": "stderr",
     "text": [
      "100%|██████████| 5/5 [00:00<00:00,  7.41it/s]\n",
      "  5%|▌         | 1/20 [00:00<00:02,  6.61it/s]"
     ]
    },
    {
     "output_type": "stream",
     "name": "stdout",
     "text": [
      "\n",
      "Epoch 11 complete! Validation Loss : 0.6545115947723389\n",
      "Epoch 11 complete! Validation Accuracy : 0.6757087628865979\n",
      "Best validation loss improved from 0.658754312992096 to 0.6545115947723389\n",
      "\n"
     ]
    },
    {
     "output_type": "stream",
     "name": "stderr",
     "text": [
      " 25%|██▌       | 5/20 [00:00<00:02,  6.56it/s]"
     ]
    },
    {
     "output_type": "stream",
     "name": "stdout",
     "text": [
      "\n",
      "Iteration 4/20 of epoch 12 complete. Loss : 0.33030954003334045 \n"
     ]
    },
    {
     "output_type": "stream",
     "name": "stderr",
     "text": [
      " 45%|████▌     | 9/20 [00:01<00:01,  6.53it/s]"
     ]
    },
    {
     "output_type": "stream",
     "name": "stdout",
     "text": [
      "\n",
      "Iteration 8/20 of epoch 12 complete. Loss : 0.3337423726916313 \n"
     ]
    },
    {
     "output_type": "stream",
     "name": "stderr",
     "text": [
      " 65%|██████▌   | 13/20 [00:01<00:01,  6.53it/s]"
     ]
    },
    {
     "output_type": "stream",
     "name": "stdout",
     "text": [
      "\n",
      "Iteration 12/20 of epoch 12 complete. Loss : 0.33149199187755585 \n"
     ]
    },
    {
     "output_type": "stream",
     "name": "stderr",
     "text": [
      " 85%|████████▌ | 17/20 [00:02<00:00,  6.54it/s]"
     ]
    },
    {
     "output_type": "stream",
     "name": "stdout",
     "text": [
      "\n",
      "Iteration 16/20 of epoch 12 complete. Loss : 0.3206386938691139 \n"
     ]
    },
    {
     "output_type": "stream",
     "name": "stderr",
     "text": [
      "100%|██████████| 20/20 [00:02<00:00,  6.83it/s]\n",
      " 20%|██        | 1/5 [00:00<00:00,  7.10it/s]"
     ]
    },
    {
     "output_type": "stream",
     "name": "stdout",
     "text": [
      "\n",
      "Iteration 20/20 of epoch 12 complete. Loss : 0.31748002767562866 \n"
     ]
    },
    {
     "output_type": "stream",
     "name": "stderr",
     "text": [
      "100%|██████████| 5/5 [00:00<00:00,  7.41it/s]\n",
      "  5%|▌         | 1/20 [00:00<00:02,  6.60it/s]"
     ]
    },
    {
     "output_type": "stream",
     "name": "stdout",
     "text": [
      "\n",
      "Epoch 12 complete! Validation Loss : 0.6489754319190979\n",
      "Epoch 12 complete! Validation Accuracy : 0.6757087628865979\n",
      "Best validation loss improved from 0.6545115947723389 to 0.6489754319190979\n",
      "\n"
     ]
    },
    {
     "output_type": "stream",
     "name": "stderr",
     "text": [
      " 25%|██▌       | 5/20 [00:00<00:02,  6.54it/s]"
     ]
    },
    {
     "output_type": "stream",
     "name": "stdout",
     "text": [
      "\n",
      "Iteration 4/20 of epoch 13 complete. Loss : 0.32602252066135406 \n"
     ]
    },
    {
     "output_type": "stream",
     "name": "stderr",
     "text": [
      " 45%|████▌     | 9/20 [00:01<00:01,  6.54it/s]"
     ]
    },
    {
     "output_type": "stream",
     "name": "stdout",
     "text": [
      "\n",
      "Iteration 8/20 of epoch 13 complete. Loss : 0.3272722214460373 \n"
     ]
    },
    {
     "output_type": "stream",
     "name": "stderr",
     "text": [
      " 65%|██████▌   | 13/20 [00:01<00:01,  6.53it/s]"
     ]
    },
    {
     "output_type": "stream",
     "name": "stdout",
     "text": [
      "\n",
      "Iteration 12/20 of epoch 13 complete. Loss : 0.32965168356895447 \n"
     ]
    },
    {
     "output_type": "stream",
     "name": "stderr",
     "text": [
      " 85%|████████▌ | 17/20 [00:02<00:00,  6.54it/s]"
     ]
    },
    {
     "output_type": "stream",
     "name": "stdout",
     "text": [
      "\n",
      "Iteration 16/20 of epoch 13 complete. Loss : 0.3311418145895004 \n"
     ]
    },
    {
     "output_type": "stream",
     "name": "stderr",
     "text": [
      "100%|██████████| 20/20 [00:02<00:00,  6.83it/s]\n",
      " 20%|██        | 1/5 [00:00<00:00,  7.12it/s]"
     ]
    },
    {
     "output_type": "stream",
     "name": "stdout",
     "text": [
      "\n",
      "Iteration 20/20 of epoch 13 complete. Loss : 0.32381897419691086 \n"
     ]
    },
    {
     "output_type": "stream",
     "name": "stderr",
     "text": [
      "100%|██████████| 5/5 [00:00<00:00,  7.42it/s]\n",
      "  5%|▌         | 1/20 [00:00<00:02,  6.60it/s]"
     ]
    },
    {
     "output_type": "stream",
     "name": "stdout",
     "text": [
      "\n",
      "Epoch 13 complete! Validation Loss : 0.6437592029571533\n",
      "Epoch 13 complete! Validation Accuracy : 0.6757087628865979\n",
      "Best validation loss improved from 0.6489754319190979 to 0.6437592029571533\n",
      "\n"
     ]
    },
    {
     "output_type": "stream",
     "name": "stderr",
     "text": [
      " 25%|██▌       | 5/20 [00:00<00:02,  6.51it/s]"
     ]
    },
    {
     "output_type": "stream",
     "name": "stdout",
     "text": [
      "\n",
      "Iteration 4/20 of epoch 14 complete. Loss : 0.3320869505405426 \n"
     ]
    },
    {
     "output_type": "stream",
     "name": "stderr",
     "text": [
      " 45%|████▌     | 9/20 [00:01<00:01,  6.51it/s]"
     ]
    },
    {
     "output_type": "stream",
     "name": "stdout",
     "text": [
      "\n",
      "Iteration 8/20 of epoch 14 complete. Loss : 0.33272892981767654 \n"
     ]
    },
    {
     "output_type": "stream",
     "name": "stderr",
     "text": [
      " 65%|██████▌   | 13/20 [00:01<00:01,  6.48it/s]"
     ]
    },
    {
     "output_type": "stream",
     "name": "stdout",
     "text": [
      "\n",
      "Iteration 12/20 of epoch 14 complete. Loss : 0.3191155642271042 \n"
     ]
    },
    {
     "output_type": "stream",
     "name": "stderr",
     "text": [
      " 85%|████████▌ | 17/20 [00:02<00:00,  6.45it/s]"
     ]
    },
    {
     "output_type": "stream",
     "name": "stdout",
     "text": [
      "\n",
      "Iteration 16/20 of epoch 14 complete. Loss : 0.3215307295322418 \n"
     ]
    },
    {
     "output_type": "stream",
     "name": "stderr",
     "text": [
      "100%|██████████| 20/20 [00:02<00:00,  6.78it/s]\n",
      " 20%|██        | 1/5 [00:00<00:00,  7.04it/s]"
     ]
    },
    {
     "output_type": "stream",
     "name": "stdout",
     "text": [
      "\n",
      "Iteration 20/20 of epoch 14 complete. Loss : 0.34031225740909576 \n"
     ]
    },
    {
     "output_type": "stream",
     "name": "stderr",
     "text": [
      "100%|██████████| 5/5 [00:00<00:00,  7.26it/s]\n",
      "  5%|▌         | 1/20 [00:00<00:02,  6.47it/s]"
     ]
    },
    {
     "output_type": "stream",
     "name": "stdout",
     "text": [
      "\n",
      "Epoch 14 complete! Validation Loss : 0.6406434655189515\n",
      "Epoch 14 complete! Validation Accuracy : 0.6757087628865979\n",
      "Best validation loss improved from 0.6437592029571533 to 0.6406434655189515\n",
      "\n"
     ]
    },
    {
     "output_type": "stream",
     "name": "stderr",
     "text": [
      " 25%|██▌       | 5/20 [00:00<00:02,  6.39it/s]"
     ]
    },
    {
     "output_type": "stream",
     "name": "stdout",
     "text": [
      "\n",
      "Iteration 4/20 of epoch 15 complete. Loss : 0.32702335715293884 \n"
     ]
    },
    {
     "output_type": "stream",
     "name": "stderr",
     "text": [
      " 45%|████▌     | 9/20 [00:01<00:01,  6.34it/s]"
     ]
    },
    {
     "output_type": "stream",
     "name": "stdout",
     "text": [
      "\n",
      "Iteration 8/20 of epoch 15 complete. Loss : 0.32159239053726196 \n"
     ]
    },
    {
     "output_type": "stream",
     "name": "stderr",
     "text": [
      " 65%|██████▌   | 13/20 [00:02<00:01,  6.36it/s]"
     ]
    },
    {
     "output_type": "stream",
     "name": "stdout",
     "text": [
      "\n",
      "Iteration 12/20 of epoch 15 complete. Loss : 0.32970523089170456 \n"
     ]
    },
    {
     "output_type": "stream",
     "name": "stderr",
     "text": [
      " 85%|████████▌ | 17/20 [00:02<00:00,  6.26it/s]"
     ]
    },
    {
     "output_type": "stream",
     "name": "stdout",
     "text": [
      "\n",
      "Iteration 16/20 of epoch 15 complete. Loss : 0.3209415450692177 \n"
     ]
    },
    {
     "output_type": "stream",
     "name": "stderr",
     "text": [
      "100%|██████████| 20/20 [00:03<00:00,  6.63it/s]\n",
      " 20%|██        | 1/5 [00:00<00:00,  6.86it/s]"
     ]
    },
    {
     "output_type": "stream",
     "name": "stdout",
     "text": [
      "\n",
      "Iteration 20/20 of epoch 15 complete. Loss : 0.3328457847237587 \n"
     ]
    },
    {
     "output_type": "stream",
     "name": "stderr",
     "text": [
      "100%|██████████| 5/5 [00:00<00:00,  7.17it/s]\n",
      "  5%|▌         | 1/20 [00:00<00:02,  6.38it/s]"
     ]
    },
    {
     "output_type": "stream",
     "name": "stdout",
     "text": [
      "\n",
      "Epoch 15 complete! Validation Loss : 0.6394531011581421\n",
      "Epoch 15 complete! Validation Accuracy : 0.6757087628865979\n",
      "Best validation loss improved from 0.6406434655189515 to 0.6394531011581421\n",
      "\n"
     ]
    },
    {
     "output_type": "stream",
     "name": "stderr",
     "text": [
      " 25%|██▌       | 5/20 [00:00<00:02,  6.34it/s]"
     ]
    },
    {
     "output_type": "stream",
     "name": "stdout",
     "text": [
      "\n",
      "Iteration 4/20 of epoch 16 complete. Loss : 0.3190220668911934 \n"
     ]
    },
    {
     "output_type": "stream",
     "name": "stderr",
     "text": [
      " 45%|████▌     | 9/20 [00:01<00:01,  6.29it/s]"
     ]
    },
    {
     "output_type": "stream",
     "name": "stdout",
     "text": [
      "\n",
      "Iteration 8/20 of epoch 16 complete. Loss : 0.3232360929250717 \n"
     ]
    },
    {
     "output_type": "stream",
     "name": "stderr",
     "text": [
      " 65%|██████▌   | 13/20 [00:02<00:01,  6.30it/s]"
     ]
    },
    {
     "output_type": "stream",
     "name": "stdout",
     "text": [
      "\n",
      "Iteration 12/20 of epoch 16 complete. Loss : 0.3254050388932228 \n"
     ]
    },
    {
     "output_type": "stream",
     "name": "stderr",
     "text": [
      " 85%|████████▌ | 17/20 [00:02<00:00,  6.28it/s]"
     ]
    },
    {
     "output_type": "stream",
     "name": "stdout",
     "text": [
      "\n",
      "Iteration 16/20 of epoch 16 complete. Loss : 0.32941316068172455 \n"
     ]
    },
    {
     "output_type": "stream",
     "name": "stderr",
     "text": [
      "100%|██████████| 20/20 [00:03<00:00,  6.58it/s]\n",
      " 20%|██        | 1/5 [00:00<00:00,  6.87it/s]"
     ]
    },
    {
     "output_type": "stream",
     "name": "stdout",
     "text": [
      "\n",
      "Iteration 20/20 of epoch 16 complete. Loss : 0.34797295182943344 \n"
     ]
    },
    {
     "output_type": "stream",
     "name": "stderr",
     "text": [
      "100%|██████████| 5/5 [00:00<00:00,  7.11it/s]\n",
      "  5%|▌         | 1/20 [00:00<00:02,  6.34it/s]"
     ]
    },
    {
     "output_type": "stream",
     "name": "stdout",
     "text": [
      "\n",
      "Epoch 16 complete! Validation Loss : 0.637021791934967\n",
      "Epoch 16 complete! Validation Accuracy : 0.6757087628865979\n",
      "Best validation loss improved from 0.6394531011581421 to 0.637021791934967\n",
      "\n"
     ]
    },
    {
     "output_type": "stream",
     "name": "stderr",
     "text": [
      " 25%|██▌       | 5/20 [00:00<00:02,  6.33it/s]"
     ]
    },
    {
     "output_type": "stream",
     "name": "stdout",
     "text": [
      "\n",
      "Iteration 4/20 of epoch 17 complete. Loss : 0.32061636447906494 \n"
     ]
    },
    {
     "output_type": "stream",
     "name": "stderr",
     "text": [
      " 45%|████▌     | 9/20 [00:01<00:01,  6.32it/s]"
     ]
    },
    {
     "output_type": "stream",
     "name": "stdout",
     "text": [
      "\n",
      "Iteration 8/20 of epoch 17 complete. Loss : 0.3212091326713562 \n"
     ]
    },
    {
     "output_type": "stream",
     "name": "stderr",
     "text": [
      " 65%|██████▌   | 13/20 [00:02<00:01,  6.31it/s]"
     ]
    },
    {
     "output_type": "stream",
     "name": "stdout",
     "text": [
      "\n",
      "Iteration 12/20 of epoch 17 complete. Loss : 0.3230901286005974 \n"
     ]
    },
    {
     "output_type": "stream",
     "name": "stderr",
     "text": [
      " 85%|████████▌ | 17/20 [00:02<00:00,  6.30it/s]"
     ]
    },
    {
     "output_type": "stream",
     "name": "stdout",
     "text": [
      "\n",
      "Iteration 16/20 of epoch 17 complete. Loss : 0.3299998268485069 \n"
     ]
    },
    {
     "output_type": "stream",
     "name": "stderr",
     "text": [
      "100%|██████████| 20/20 [00:03<00:00,  6.59it/s]\n",
      " 20%|██        | 1/5 [00:00<00:00,  6.84it/s]"
     ]
    },
    {
     "output_type": "stream",
     "name": "stdout",
     "text": [
      "\n",
      "Iteration 20/20 of epoch 17 complete. Loss : 0.3201606348156929 \n"
     ]
    },
    {
     "output_type": "stream",
     "name": "stderr",
     "text": [
      "100%|██████████| 5/5 [00:00<00:00,  7.12it/s]\n",
      "  5%|▌         | 1/20 [00:00<00:03,  6.31it/s]"
     ]
    },
    {
     "output_type": "stream",
     "name": "stdout",
     "text": [
      "\n",
      "Epoch 17 complete! Validation Loss : 0.6344648361206054\n",
      "Epoch 17 complete! Validation Accuracy : 0.6757087628865979\n",
      "Best validation loss improved from 0.637021791934967 to 0.6344648361206054\n",
      "\n"
     ]
    },
    {
     "output_type": "stream",
     "name": "stderr",
     "text": [
      " 25%|██▌       | 5/20 [00:00<00:02,  6.27it/s]"
     ]
    },
    {
     "output_type": "stream",
     "name": "stdout",
     "text": [
      "\n",
      "Iteration 4/20 of epoch 18 complete. Loss : 0.3220868557691574 \n"
     ]
    },
    {
     "output_type": "stream",
     "name": "stderr",
     "text": [
      " 45%|████▌     | 9/20 [00:01<00:01,  6.26it/s]"
     ]
    },
    {
     "output_type": "stream",
     "name": "stdout",
     "text": [
      "\n",
      "Iteration 8/20 of epoch 18 complete. Loss : 0.3247353583574295 \n"
     ]
    },
    {
     "output_type": "stream",
     "name": "stderr",
     "text": [
      " 65%|██████▌   | 13/20 [00:02<00:01,  6.24it/s]"
     ]
    },
    {
     "output_type": "stream",
     "name": "stdout",
     "text": [
      "\n",
      "Iteration 12/20 of epoch 18 complete. Loss : 0.3168611004948616 \n"
     ]
    },
    {
     "output_type": "stream",
     "name": "stderr",
     "text": [
      " 85%|████████▌ | 17/20 [00:02<00:00,  6.25it/s]"
     ]
    },
    {
     "output_type": "stream",
     "name": "stdout",
     "text": [
      "\n",
      "Iteration 16/20 of epoch 18 complete. Loss : 0.3331283703446388 \n"
     ]
    },
    {
     "output_type": "stream",
     "name": "stderr",
     "text": [
      "100%|██████████| 20/20 [00:03<00:00,  6.54it/s]\n",
      " 20%|██        | 1/5 [00:00<00:00,  6.86it/s]"
     ]
    },
    {
     "output_type": "stream",
     "name": "stdout",
     "text": [
      "\n",
      "Iteration 20/20 of epoch 18 complete. Loss : 0.3354276716709137 \n"
     ]
    },
    {
     "output_type": "stream",
     "name": "stderr",
     "text": [
      "100%|██████████| 5/5 [00:00<00:00,  7.10it/s]\n",
      "  5%|▌         | 1/20 [00:00<00:03,  6.27it/s]"
     ]
    },
    {
     "output_type": "stream",
     "name": "stdout",
     "text": [
      "\n",
      "Epoch 18 complete! Validation Loss : 0.6352156877517701\n",
      "Epoch 18 complete! Validation Accuracy : 0.6757087628865979\n"
     ]
    },
    {
     "output_type": "stream",
     "name": "stderr",
     "text": [
      " 25%|██▌       | 5/20 [00:00<00:02,  6.22it/s]"
     ]
    },
    {
     "output_type": "stream",
     "name": "stdout",
     "text": [
      "\n",
      "Iteration 4/20 of epoch 19 complete. Loss : 0.3283480554819107 \n"
     ]
    },
    {
     "output_type": "stream",
     "name": "stderr",
     "text": [
      " 45%|████▌     | 9/20 [00:01<00:01,  6.20it/s]"
     ]
    },
    {
     "output_type": "stream",
     "name": "stdout",
     "text": [
      "\n",
      "Iteration 8/20 of epoch 19 complete. Loss : 0.3199828118085861 \n"
     ]
    },
    {
     "output_type": "stream",
     "name": "stderr",
     "text": [
      " 65%|██████▌   | 13/20 [00:02<00:01,  6.22it/s]"
     ]
    },
    {
     "output_type": "stream",
     "name": "stdout",
     "text": [
      "\n",
      "Iteration 12/20 of epoch 19 complete. Loss : 0.33183932304382324 \n"
     ]
    },
    {
     "output_type": "stream",
     "name": "stderr",
     "text": [
      " 85%|████████▌ | 17/20 [00:02<00:00,  6.22it/s]"
     ]
    },
    {
     "output_type": "stream",
     "name": "stdout",
     "text": [
      "\n",
      "Iteration 16/20 of epoch 19 complete. Loss : 0.31409694254398346 \n"
     ]
    },
    {
     "output_type": "stream",
     "name": "stderr",
     "text": [
      "100%|██████████| 20/20 [00:03<00:00,  6.50it/s]\n",
      " 20%|██        | 1/5 [00:00<00:00,  6.81it/s]"
     ]
    },
    {
     "output_type": "stream",
     "name": "stdout",
     "text": [
      "\n",
      "Iteration 20/20 of epoch 19 complete. Loss : 0.331016905605793 \n"
     ]
    },
    {
     "output_type": "stream",
     "name": "stderr",
     "text": [
      "100%|██████████| 5/5 [00:00<00:00,  7.03it/s]\n",
      "  5%|▌         | 1/20 [00:00<00:02,  6.34it/s]"
     ]
    },
    {
     "output_type": "stream",
     "name": "stdout",
     "text": [
      "\n",
      "Epoch 19 complete! Validation Loss : 0.6335874557495117\n",
      "Epoch 19 complete! Validation Accuracy : 0.6757087628865979\n",
      "Best validation loss improved from 0.6344648361206054 to 0.6335874557495117\n",
      "\n"
     ]
    },
    {
     "output_type": "stream",
     "name": "stderr",
     "text": [
      " 25%|██▌       | 5/20 [00:00<00:02,  6.18it/s]"
     ]
    },
    {
     "output_type": "stream",
     "name": "stdout",
     "text": [
      "\n",
      "Iteration 4/20 of epoch 20 complete. Loss : 0.3252253532409668 \n"
     ]
    },
    {
     "output_type": "stream",
     "name": "stderr",
     "text": [
      " 45%|████▌     | 9/20 [00:01<00:01,  6.17it/s]"
     ]
    },
    {
     "output_type": "stream",
     "name": "stdout",
     "text": [
      "\n",
      "Iteration 8/20 of epoch 20 complete. Loss : 0.3213236555457115 \n"
     ]
    },
    {
     "output_type": "stream",
     "name": "stderr",
     "text": [
      " 65%|██████▌   | 13/20 [00:02<00:01,  6.16it/s]"
     ]
    },
    {
     "output_type": "stream",
     "name": "stdout",
     "text": [
      "\n",
      "Iteration 12/20 of epoch 20 complete. Loss : 0.32900047302246094 \n"
     ]
    },
    {
     "output_type": "stream",
     "name": "stderr",
     "text": [
      " 85%|████████▌ | 17/20 [00:02<00:00,  6.15it/s]"
     ]
    },
    {
     "output_type": "stream",
     "name": "stdout",
     "text": [
      "\n",
      "Iteration 16/20 of epoch 20 complete. Loss : 0.3220019266009331 \n"
     ]
    },
    {
     "output_type": "stream",
     "name": "stderr",
     "text": [
      "100%|██████████| 20/20 [00:03<00:00,  6.44it/s]\n",
      " 20%|██        | 1/5 [00:00<00:00,  6.69it/s]"
     ]
    },
    {
     "output_type": "stream",
     "name": "stdout",
     "text": [
      "\n",
      "Iteration 20/20 of epoch 20 complete. Loss : 0.2934638410806656 \n"
     ]
    },
    {
     "output_type": "stream",
     "name": "stderr",
     "text": [
      "100%|██████████| 5/5 [00:00<00:00,  6.95it/s]\n",
      "  5%|▌         | 1/20 [00:00<00:03,  6.16it/s]"
     ]
    },
    {
     "output_type": "stream",
     "name": "stdout",
     "text": [
      "\n",
      "Epoch 20 complete! Validation Loss : 0.6327517032623291\n",
      "Epoch 20 complete! Validation Accuracy : 0.6757087628865979\n",
      "Best validation loss improved from 0.6335874557495117 to 0.6327517032623291\n",
      "\n"
     ]
    },
    {
     "output_type": "stream",
     "name": "stderr",
     "text": [
      " 25%|██▌       | 5/20 [00:00<00:02,  6.16it/s]"
     ]
    },
    {
     "output_type": "stream",
     "name": "stdout",
     "text": [
      "\n",
      "Iteration 4/20 of epoch 21 complete. Loss : 0.3197721466422081 \n"
     ]
    },
    {
     "output_type": "stream",
     "name": "stderr",
     "text": [
      " 45%|████▌     | 9/20 [00:01<00:01,  6.15it/s]"
     ]
    },
    {
     "output_type": "stream",
     "name": "stdout",
     "text": [
      "\n",
      "Iteration 8/20 of epoch 21 complete. Loss : 0.3243374302983284 \n"
     ]
    },
    {
     "output_type": "stream",
     "name": "stderr",
     "text": [
      " 65%|██████▌   | 13/20 [00:02<00:01,  6.16it/s]"
     ]
    },
    {
     "output_type": "stream",
     "name": "stdout",
     "text": [
      "\n",
      "Iteration 12/20 of epoch 21 complete. Loss : 0.3197757676243782 \n"
     ]
    },
    {
     "output_type": "stream",
     "name": "stderr",
     "text": [
      " 85%|████████▌ | 17/20 [00:02<00:00,  6.13it/s]"
     ]
    },
    {
     "output_type": "stream",
     "name": "stdout",
     "text": [
      "\n",
      "Iteration 16/20 of epoch 21 complete. Loss : 0.32717522233724594 \n"
     ]
    },
    {
     "output_type": "stream",
     "name": "stderr",
     "text": [
      "100%|██████████| 20/20 [00:03<00:00,  6.42it/s]\n",
      " 20%|██        | 1/5 [00:00<00:00,  6.68it/s]"
     ]
    },
    {
     "output_type": "stream",
     "name": "stdout",
     "text": [
      "\n",
      "Iteration 20/20 of epoch 21 complete. Loss : 0.31454209983348846 \n"
     ]
    },
    {
     "output_type": "stream",
     "name": "stderr",
     "text": [
      "100%|██████████| 5/5 [00:00<00:00,  6.95it/s]\n",
      "  5%|▌         | 1/20 [00:00<00:03,  6.20it/s]"
     ]
    },
    {
     "output_type": "stream",
     "name": "stdout",
     "text": [
      "\n",
      "Epoch 21 complete! Validation Loss : 0.6305280208587647\n",
      "Epoch 21 complete! Validation Accuracy : 0.6757087628865979\n",
      "Best validation loss improved from 0.6327517032623291 to 0.6305280208587647\n",
      "\n"
     ]
    },
    {
     "output_type": "stream",
     "name": "stderr",
     "text": [
      " 25%|██▌       | 5/20 [00:00<00:02,  6.15it/s]"
     ]
    },
    {
     "output_type": "stream",
     "name": "stdout",
     "text": [
      "\n",
      "Iteration 4/20 of epoch 22 complete. Loss : 0.31815456598997116 \n"
     ]
    },
    {
     "output_type": "stream",
     "name": "stderr",
     "text": [
      " 45%|████▌     | 9/20 [00:01<00:01,  6.14it/s]"
     ]
    },
    {
     "output_type": "stream",
     "name": "stdout",
     "text": [
      "\n",
      "Iteration 8/20 of epoch 22 complete. Loss : 0.3273484483361244 \n"
     ]
    },
    {
     "output_type": "stream",
     "name": "stderr",
     "text": [
      " 65%|██████▌   | 13/20 [00:02<00:01,  6.14it/s]"
     ]
    },
    {
     "output_type": "stream",
     "name": "stdout",
     "text": [
      "\n",
      "Iteration 12/20 of epoch 22 complete. Loss : 0.3222991153597832 \n"
     ]
    },
    {
     "output_type": "stream",
     "name": "stderr",
     "text": [
      " 85%|████████▌ | 17/20 [00:02<00:00,  6.10it/s]"
     ]
    },
    {
     "output_type": "stream",
     "name": "stdout",
     "text": [
      "\n",
      "Iteration 16/20 of epoch 22 complete. Loss : 0.32467474043369293 \n"
     ]
    },
    {
     "output_type": "stream",
     "name": "stderr",
     "text": [
      "100%|██████████| 20/20 [00:03<00:00,  6.40it/s]\n",
      " 20%|██        | 1/5 [00:00<00:00,  6.73it/s]"
     ]
    },
    {
     "output_type": "stream",
     "name": "stdout",
     "text": [
      "\n",
      "Iteration 20/20 of epoch 22 complete. Loss : 0.3256426155567169 \n"
     ]
    },
    {
     "output_type": "stream",
     "name": "stderr",
     "text": [
      "100%|██████████| 5/5 [00:00<00:00,  6.91it/s]\n",
      "  5%|▌         | 1/20 [00:00<00:03,  6.10it/s]"
     ]
    },
    {
     "output_type": "stream",
     "name": "stdout",
     "text": [
      "\n",
      "Epoch 22 complete! Validation Loss : 0.6307491660118103\n",
      "Epoch 22 complete! Validation Accuracy : 0.6757087628865979\n"
     ]
    },
    {
     "output_type": "stream",
     "name": "stderr",
     "text": [
      " 25%|██▌       | 5/20 [00:00<00:02,  6.11it/s]"
     ]
    },
    {
     "output_type": "stream",
     "name": "stdout",
     "text": [
      "\n",
      "Iteration 4/20 of epoch 23 complete. Loss : 0.32904890179634094 \n"
     ]
    },
    {
     "output_type": "stream",
     "name": "stderr",
     "text": [
      " 45%|████▌     | 9/20 [00:01<00:01,  6.11it/s]"
     ]
    },
    {
     "output_type": "stream",
     "name": "stdout",
     "text": [
      "\n",
      "Iteration 8/20 of epoch 23 complete. Loss : 0.31123045831918716 \n"
     ]
    },
    {
     "output_type": "stream",
     "name": "stderr",
     "text": [
      " 65%|██████▌   | 13/20 [00:02<00:01,  6.14it/s]"
     ]
    },
    {
     "output_type": "stream",
     "name": "stdout",
     "text": [
      "\n",
      "Iteration 12/20 of epoch 23 complete. Loss : 0.3145103380084038 \n"
     ]
    },
    {
     "output_type": "stream",
     "name": "stderr",
     "text": [
      " 85%|████████▌ | 17/20 [00:02<00:00,  6.09it/s]"
     ]
    },
    {
     "output_type": "stream",
     "name": "stdout",
     "text": [
      "\n",
      "Iteration 16/20 of epoch 23 complete. Loss : 0.3382646068930626 \n"
     ]
    },
    {
     "output_type": "stream",
     "name": "stderr",
     "text": [
      "100%|██████████| 20/20 [00:03<00:00,  6.39it/s]\n",
      " 20%|██        | 1/5 [00:00<00:00,  6.63it/s]"
     ]
    },
    {
     "output_type": "stream",
     "name": "stdout",
     "text": [
      "\n",
      "Iteration 20/20 of epoch 23 complete. Loss : 0.2934076339006424 \n"
     ]
    },
    {
     "output_type": "stream",
     "name": "stderr",
     "text": [
      "100%|██████████| 5/5 [00:00<00:00,  6.93it/s]\n",
      "  5%|▌         | 1/20 [00:00<00:03,  6.13it/s]"
     ]
    },
    {
     "output_type": "stream",
     "name": "stdout",
     "text": [
      "\n",
      "Epoch 23 complete! Validation Loss : 0.6307018876075745\n",
      "Epoch 23 complete! Validation Accuracy : 0.6757087628865979\n"
     ]
    },
    {
     "output_type": "stream",
     "name": "stderr",
     "text": [
      " 25%|██▌       | 5/20 [00:00<00:02,  6.08it/s]"
     ]
    },
    {
     "output_type": "stream",
     "name": "stdout",
     "text": [
      "\n",
      "Iteration 4/20 of epoch 24 complete. Loss : 0.31927701085805893 \n"
     ]
    },
    {
     "output_type": "stream",
     "name": "stderr",
     "text": [
      " 45%|████▌     | 9/20 [00:01<00:01,  6.03it/s]"
     ]
    },
    {
     "output_type": "stream",
     "name": "stdout",
     "text": [
      "\n",
      "Iteration 8/20 of epoch 24 complete. Loss : 0.32995327562093735 \n"
     ]
    },
    {
     "output_type": "stream",
     "name": "stderr",
     "text": [
      " 65%|██████▌   | 13/20 [00:02<00:01,  6.02it/s]"
     ]
    },
    {
     "output_type": "stream",
     "name": "stdout",
     "text": [
      "\n",
      "Iteration 12/20 of epoch 24 complete. Loss : 0.31958748400211334 \n"
     ]
    },
    {
     "output_type": "stream",
     "name": "stderr",
     "text": [
      " 85%|████████▌ | 17/20 [00:02<00:00,  6.02it/s]"
     ]
    },
    {
     "output_type": "stream",
     "name": "stdout",
     "text": [
      "\n",
      "Iteration 16/20 of epoch 24 complete. Loss : 0.31886401772499084 \n"
     ]
    },
    {
     "output_type": "stream",
     "name": "stderr",
     "text": [
      "100%|██████████| 20/20 [00:03<00:00,  6.29it/s]\n",
      " 20%|██        | 1/5 [00:00<00:00,  6.73it/s]"
     ]
    },
    {
     "output_type": "stream",
     "name": "stdout",
     "text": [
      "\n",
      "Iteration 20/20 of epoch 24 complete. Loss : 0.31211917847394943 \n"
     ]
    },
    {
     "output_type": "stream",
     "name": "stderr",
     "text": [
      "100%|██████████| 5/5 [00:00<00:00,  6.80it/s]\n",
      "  0%|          | 0/20 [00:00<?, ?it/s]"
     ]
    },
    {
     "output_type": "stream",
     "name": "stdout",
     "text": [
      "\n",
      "Epoch 24 complete! Validation Loss : 0.6286093354225158\n",
      "Epoch 24 complete! Validation Accuracy : 0.6757087628865979\n",
      "Best validation loss improved from 0.6305280208587647 to 0.6286093354225158\n",
      "\n"
     ]
    },
    {
     "output_type": "stream",
     "name": "stderr",
     "text": [
      " 25%|██▌       | 5/20 [00:00<00:02,  6.02it/s]"
     ]
    },
    {
     "output_type": "stream",
     "name": "stdout",
     "text": [
      "\n",
      "Iteration 4/20 of epoch 25 complete. Loss : 0.3147834539413452 \n"
     ]
    },
    {
     "output_type": "stream",
     "name": "stderr",
     "text": [
      " 45%|████▌     | 9/20 [00:01<00:01,  6.04it/s]"
     ]
    },
    {
     "output_type": "stream",
     "name": "stdout",
     "text": [
      "\n",
      "Iteration 8/20 of epoch 25 complete. Loss : 0.3245041146874428 \n"
     ]
    },
    {
     "output_type": "stream",
     "name": "stderr",
     "text": [
      " 65%|██████▌   | 13/20 [00:02<00:01,  6.03it/s]"
     ]
    },
    {
     "output_type": "stream",
     "name": "stdout",
     "text": [
      "\n",
      "Iteration 12/20 of epoch 25 complete. Loss : 0.31279849261045456 \n"
     ]
    },
    {
     "output_type": "stream",
     "name": "stderr",
     "text": [
      " 85%|████████▌ | 17/20 [00:02<00:00,  6.06it/s]"
     ]
    },
    {
     "output_type": "stream",
     "name": "stdout",
     "text": [
      "\n",
      "Iteration 16/20 of epoch 25 complete. Loss : 0.3375500217080116 \n"
     ]
    },
    {
     "output_type": "stream",
     "name": "stderr",
     "text": [
      "100%|██████████| 20/20 [00:03<00:00,  6.32it/s]\n",
      " 20%|██        | 1/5 [00:00<00:00,  6.63it/s]"
     ]
    },
    {
     "output_type": "stream",
     "name": "stdout",
     "text": [
      "\n",
      "Iteration 20/20 of epoch 25 complete. Loss : 0.28918567299842834 \n"
     ]
    },
    {
     "output_type": "stream",
     "name": "stderr",
     "text": [
      "100%|██████████| 5/5 [00:00<00:00,  6.82it/s]\n",
      "  5%|▌         | 1/20 [00:00<00:03,  6.10it/s]"
     ]
    },
    {
     "output_type": "stream",
     "name": "stdout",
     "text": [
      "\n",
      "Epoch 25 complete! Validation Loss : 0.6292280673980712\n",
      "Epoch 25 complete! Validation Accuracy : 0.6757087628865979\n"
     ]
    },
    {
     "output_type": "stream",
     "name": "stderr",
     "text": [
      " 25%|██▌       | 5/20 [00:00<00:02,  6.05it/s]"
     ]
    },
    {
     "output_type": "stream",
     "name": "stdout",
     "text": [
      "\n",
      "Iteration 4/20 of epoch 26 complete. Loss : 0.31923243403434753 \n"
     ]
    },
    {
     "output_type": "stream",
     "name": "stderr",
     "text": [
      " 45%|████▌     | 9/20 [00:01<00:01,  6.03it/s]"
     ]
    },
    {
     "output_type": "stream",
     "name": "stdout",
     "text": [
      "\n",
      "Iteration 8/20 of epoch 26 complete. Loss : 0.31549492478370667 \n"
     ]
    },
    {
     "output_type": "stream",
     "name": "stderr",
     "text": [
      " 65%|██████▌   | 13/20 [00:02<00:01,  6.01it/s]"
     ]
    },
    {
     "output_type": "stream",
     "name": "stdout",
     "text": [
      "\n",
      "Iteration 12/20 of epoch 26 complete. Loss : 0.3099272921681404 \n"
     ]
    },
    {
     "output_type": "stream",
     "name": "stderr",
     "text": [
      " 85%|████████▌ | 17/20 [00:02<00:00,  6.03it/s]"
     ]
    },
    {
     "output_type": "stream",
     "name": "stdout",
     "text": [
      "\n",
      "Iteration 16/20 of epoch 26 complete. Loss : 0.33352966606616974 \n"
     ]
    },
    {
     "output_type": "stream",
     "name": "stderr",
     "text": [
      "100%|██████████| 20/20 [00:03<00:00,  6.30it/s]\n",
      " 20%|██        | 1/5 [00:00<00:00,  6.58it/s]"
     ]
    },
    {
     "output_type": "stream",
     "name": "stdout",
     "text": [
      "\n",
      "Iteration 20/20 of epoch 26 complete. Loss : 0.3139719218015671 \n"
     ]
    },
    {
     "output_type": "stream",
     "name": "stderr",
     "text": [
      "100%|██████████| 5/5 [00:00<00:00,  6.85it/s]\n",
      "  5%|▌         | 1/20 [00:00<00:03,  6.13it/s]"
     ]
    },
    {
     "output_type": "stream",
     "name": "stdout",
     "text": [
      "\n",
      "Epoch 26 complete! Validation Loss : 0.6280010342597961\n",
      "Epoch 26 complete! Validation Accuracy : 0.6757087628865979\n",
      "Best validation loss improved from 0.6286093354225158 to 0.6280010342597961\n",
      "\n"
     ]
    },
    {
     "output_type": "stream",
     "name": "stderr",
     "text": [
      " 25%|██▌       | 5/20 [00:00<00:02,  6.04it/s]"
     ]
    },
    {
     "output_type": "stream",
     "name": "stdout",
     "text": [
      "\n",
      "Iteration 4/20 of epoch 27 complete. Loss : 0.3215509206056595 \n"
     ]
    },
    {
     "output_type": "stream",
     "name": "stderr",
     "text": [
      " 45%|████▌     | 9/20 [00:01<00:01,  6.04it/s]"
     ]
    },
    {
     "output_type": "stream",
     "name": "stdout",
     "text": [
      "\n",
      "Iteration 8/20 of epoch 27 complete. Loss : 0.31253837794065475 \n"
     ]
    },
    {
     "output_type": "stream",
     "name": "stderr",
     "text": [
      " 65%|██████▌   | 13/20 [00:02<00:01,  6.01it/s]"
     ]
    },
    {
     "output_type": "stream",
     "name": "stdout",
     "text": [
      "\n",
      "Iteration 12/20 of epoch 27 complete. Loss : 0.3185858950018883 \n"
     ]
    },
    {
     "output_type": "stream",
     "name": "stderr",
     "text": [
      " 85%|████████▌ | 17/20 [00:02<00:00,  6.01it/s]"
     ]
    },
    {
     "output_type": "stream",
     "name": "stdout",
     "text": [
      "\n",
      "Iteration 16/20 of epoch 27 complete. Loss : 0.32565661519765854 \n"
     ]
    },
    {
     "output_type": "stream",
     "name": "stderr",
     "text": [
      "100%|██████████| 20/20 [00:03<00:00,  6.28it/s]\n",
      " 20%|██        | 1/5 [00:00<00:00,  6.49it/s]"
     ]
    },
    {
     "output_type": "stream",
     "name": "stdout",
     "text": [
      "\n",
      "Iteration 20/20 of epoch 27 complete. Loss : 0.306931734085083 \n"
     ]
    },
    {
     "output_type": "stream",
     "name": "stderr",
     "text": [
      "100%|██████████| 5/5 [00:00<00:00,  6.77it/s]\n",
      "  5%|▌         | 1/20 [00:00<00:03,  6.16it/s]"
     ]
    },
    {
     "output_type": "stream",
     "name": "stdout",
     "text": [
      "\n",
      "Epoch 27 complete! Validation Loss : 0.6262081861495972\n",
      "Epoch 27 complete! Validation Accuracy : 0.6757087628865979\n",
      "Best validation loss improved from 0.6280010342597961 to 0.6262081861495972\n",
      "\n"
     ]
    },
    {
     "output_type": "stream",
     "name": "stderr",
     "text": [
      " 25%|██▌       | 5/20 [00:00<00:02,  6.01it/s]"
     ]
    },
    {
     "output_type": "stream",
     "name": "stdout",
     "text": [
      "\n",
      "Iteration 4/20 of epoch 28 complete. Loss : 0.31973710656166077 \n"
     ]
    },
    {
     "output_type": "stream",
     "name": "stderr",
     "text": [
      " 45%|████▌     | 9/20 [00:01<00:01,  6.02it/s]"
     ]
    },
    {
     "output_type": "stream",
     "name": "stdout",
     "text": [
      "\n",
      "Iteration 8/20 of epoch 28 complete. Loss : 0.32256682217121124 \n"
     ]
    },
    {
     "output_type": "stream",
     "name": "stderr",
     "text": [
      " 65%|██████▌   | 13/20 [00:02<00:01,  5.98it/s]"
     ]
    },
    {
     "output_type": "stream",
     "name": "stdout",
     "text": [
      "\n",
      "Iteration 12/20 of epoch 28 complete. Loss : 0.31961653381586075 \n"
     ]
    },
    {
     "output_type": "stream",
     "name": "stderr",
     "text": [
      " 85%|████████▌ | 17/20 [00:02<00:00,  5.94it/s]"
     ]
    },
    {
     "output_type": "stream",
     "name": "stdout",
     "text": [
      "\n",
      "Iteration 16/20 of epoch 28 complete. Loss : 0.3140910416841507 \n"
     ]
    },
    {
     "output_type": "stream",
     "name": "stderr",
     "text": [
      "100%|██████████| 20/20 [00:03<00:00,  6.26it/s]\n",
      " 20%|██        | 1/5 [00:00<00:00,  6.46it/s]"
     ]
    },
    {
     "output_type": "stream",
     "name": "stdout",
     "text": [
      "\n",
      "Iteration 20/20 of epoch 28 complete. Loss : 0.30933500826358795 \n"
     ]
    },
    {
     "output_type": "stream",
     "name": "stderr",
     "text": [
      "100%|██████████| 5/5 [00:00<00:00,  6.76it/s]\n",
      "  0%|          | 0/20 [00:00<?, ?it/s]"
     ]
    },
    {
     "output_type": "stream",
     "name": "stdout",
     "text": [
      "\n",
      "Epoch 28 complete! Validation Loss : 0.6261523604393006\n",
      "Epoch 28 complete! Validation Accuracy : 0.6757087628865979\n",
      "Best validation loss improved from 0.6262081861495972 to 0.6261523604393006\n",
      "\n"
     ]
    },
    {
     "output_type": "stream",
     "name": "stderr",
     "text": [
      " 25%|██▌       | 5/20 [00:00<00:02,  6.05it/s]"
     ]
    },
    {
     "output_type": "stream",
     "name": "stdout",
     "text": [
      "\n",
      "Iteration 4/20 of epoch 29 complete. Loss : 0.3397345691919327 \n"
     ]
    },
    {
     "output_type": "stream",
     "name": "stderr",
     "text": [
      " 45%|████▌     | 9/20 [00:01<00:01,  5.98it/s]"
     ]
    },
    {
     "output_type": "stream",
     "name": "stdout",
     "text": [
      "\n",
      "Iteration 8/20 of epoch 29 complete. Loss : 0.3065457195043564 \n"
     ]
    },
    {
     "output_type": "stream",
     "name": "stderr",
     "text": [
      " 65%|██████▌   | 13/20 [00:02<00:01,  6.00it/s]"
     ]
    },
    {
     "output_type": "stream",
     "name": "stdout",
     "text": [
      "\n",
      "Iteration 12/20 of epoch 29 complete. Loss : 0.31994591653347015 \n"
     ]
    },
    {
     "output_type": "stream",
     "name": "stderr",
     "text": [
      " 85%|████████▌ | 17/20 [00:02<00:00,  5.98it/s]"
     ]
    },
    {
     "output_type": "stream",
     "name": "stdout",
     "text": [
      "\n",
      "Iteration 16/20 of epoch 29 complete. Loss : 0.31182022392749786 \n"
     ]
    },
    {
     "output_type": "stream",
     "name": "stderr",
     "text": [
      "100%|██████████| 20/20 [00:03<00:00,  6.27it/s]\n",
      " 20%|██        | 1/5 [00:00<00:00,  6.29it/s]"
     ]
    },
    {
     "output_type": "stream",
     "name": "stdout",
     "text": [
      "\n",
      "Iteration 20/20 of epoch 29 complete. Loss : 0.2863153964281082 \n"
     ]
    },
    {
     "output_type": "stream",
     "name": "stderr",
     "text": [
      "100%|██████████| 5/5 [00:00<00:00,  6.69it/s]\n",
      "  0%|          | 0/20 [00:00<?, ?it/s]"
     ]
    },
    {
     "output_type": "stream",
     "name": "stdout",
     "text": [
      "\n",
      "Epoch 29 complete! Validation Loss : 0.6241353273391723\n",
      "Epoch 29 complete! Validation Accuracy : 0.6757087628865979\n",
      "Best validation loss improved from 0.6261523604393006 to 0.6241353273391723\n",
      "\n"
     ]
    },
    {
     "output_type": "stream",
     "name": "stderr",
     "text": [
      " 25%|██▌       | 5/20 [00:00<00:02,  5.95it/s]"
     ]
    },
    {
     "output_type": "stream",
     "name": "stdout",
     "text": [
      "\n",
      "Iteration 4/20 of epoch 30 complete. Loss : 0.3195514753460884 \n"
     ]
    },
    {
     "output_type": "stream",
     "name": "stderr",
     "text": [
      " 45%|████▌     | 9/20 [00:01<00:01,  5.96it/s]"
     ]
    },
    {
     "output_type": "stream",
     "name": "stdout",
     "text": [
      "\n",
      "Iteration 8/20 of epoch 30 complete. Loss : 0.3274066895246506 \n"
     ]
    },
    {
     "output_type": "stream",
     "name": "stderr",
     "text": [
      " 65%|██████▌   | 13/20 [00:02<00:01,  6.01it/s]"
     ]
    },
    {
     "output_type": "stream",
     "name": "stdout",
     "text": [
      "\n",
      "Iteration 12/20 of epoch 30 complete. Loss : 0.32004742324352264 \n"
     ]
    },
    {
     "output_type": "stream",
     "name": "stderr",
     "text": [
      " 85%|████████▌ | 17/20 [00:02<00:00,  5.97it/s]"
     ]
    },
    {
     "output_type": "stream",
     "name": "stdout",
     "text": [
      "\n",
      "Iteration 16/20 of epoch 30 complete. Loss : 0.31416407227516174 \n"
     ]
    },
    {
     "output_type": "stream",
     "name": "stderr",
     "text": [
      "100%|██████████| 20/20 [00:03<00:00,  6.25it/s]\n",
      " 20%|██        | 1/5 [00:00<00:00,  6.38it/s]"
     ]
    },
    {
     "output_type": "stream",
     "name": "stdout",
     "text": [
      "\n",
      "Iteration 20/20 of epoch 30 complete. Loss : 0.2940395921468735 \n"
     ]
    },
    {
     "output_type": "stream",
     "name": "stderr",
     "text": [
      "100%|██████████| 5/5 [00:00<00:00,  6.72it/s]\n",
      "  0%|          | 0/20 [00:00<?, ?it/s]"
     ]
    },
    {
     "output_type": "stream",
     "name": "stdout",
     "text": [
      "\n",
      "Epoch 30 complete! Validation Loss : 0.6239206671714783\n",
      "Epoch 30 complete! Validation Accuracy : 0.6757087628865979\n",
      "Best validation loss improved from 0.6241353273391723 to 0.6239206671714783\n",
      "\n"
     ]
    },
    {
     "output_type": "stream",
     "name": "stderr",
     "text": [
      " 25%|██▌       | 5/20 [00:00<00:02,  5.97it/s]"
     ]
    },
    {
     "output_type": "stream",
     "name": "stdout",
     "text": [
      "\n",
      "Iteration 4/20 of epoch 31 complete. Loss : 0.32013628631830215 \n"
     ]
    },
    {
     "output_type": "stream",
     "name": "stderr",
     "text": [
      " 45%|████▌     | 9/20 [00:01<00:01,  5.96it/s]"
     ]
    },
    {
     "output_type": "stream",
     "name": "stdout",
     "text": [
      "\n",
      "Iteration 8/20 of epoch 31 complete. Loss : 0.3148239031434059 \n"
     ]
    },
    {
     "output_type": "stream",
     "name": "stderr",
     "text": [
      " 65%|██████▌   | 13/20 [00:02<00:01,  5.92it/s]"
     ]
    },
    {
     "output_type": "stream",
     "name": "stdout",
     "text": [
      "\n",
      "Iteration 12/20 of epoch 31 complete. Loss : 0.3193526864051819 \n"
     ]
    },
    {
     "output_type": "stream",
     "name": "stderr",
     "text": [
      " 85%|████████▌ | 17/20 [00:02<00:00,  5.92it/s]"
     ]
    },
    {
     "output_type": "stream",
     "name": "stdout",
     "text": [
      "\n",
      "Iteration 16/20 of epoch 31 complete. Loss : 0.31819455325603485 \n"
     ]
    },
    {
     "output_type": "stream",
     "name": "stderr",
     "text": [
      "100%|██████████| 20/20 [00:03<00:00,  6.21it/s]\n",
      " 20%|██        | 1/5 [00:00<00:00,  6.46it/s]"
     ]
    },
    {
     "output_type": "stream",
     "name": "stdout",
     "text": [
      "\n",
      "Iteration 20/20 of epoch 31 complete. Loss : 0.2886703200638294 \n"
     ]
    },
    {
     "output_type": "stream",
     "name": "stderr",
     "text": [
      "100%|██████████| 5/5 [00:00<00:00,  6.72it/s]\n",
      "  5%|▌         | 1/20 [00:00<00:03,  6.25it/s]"
     ]
    },
    {
     "output_type": "stream",
     "name": "stdout",
     "text": [
      "\n",
      "Epoch 31 complete! Validation Loss : 0.6222525715827942\n",
      "Epoch 31 complete! Validation Accuracy : 0.6757087628865979\n",
      "Best validation loss improved from 0.6239206671714783 to 0.6222525715827942\n",
      "\n"
     ]
    },
    {
     "output_type": "stream",
     "name": "stderr",
     "text": [
      " 25%|██▌       | 5/20 [00:00<00:02,  6.00it/s]"
     ]
    },
    {
     "output_type": "stream",
     "name": "stdout",
     "text": [
      "\n",
      "Iteration 4/20 of epoch 32 complete. Loss : 0.313078835606575 \n"
     ]
    },
    {
     "output_type": "stream",
     "name": "stderr",
     "text": [
      " 45%|████▌     | 9/20 [00:01<00:01,  5.95it/s]"
     ]
    },
    {
     "output_type": "stream",
     "name": "stdout",
     "text": [
      "\n",
      "Iteration 8/20 of epoch 32 complete. Loss : 0.31665629893541336 \n"
     ]
    },
    {
     "output_type": "stream",
     "name": "stderr",
     "text": [
      " 65%|██████▌   | 13/20 [00:02<00:01,  5.91it/s]"
     ]
    },
    {
     "output_type": "stream",
     "name": "stdout",
     "text": [
      "\n",
      "Iteration 12/20 of epoch 32 complete. Loss : 0.3190661147236824 \n"
     ]
    },
    {
     "output_type": "stream",
     "name": "stderr",
     "text": [
      " 85%|████████▌ | 17/20 [00:02<00:00,  5.91it/s]"
     ]
    },
    {
     "output_type": "stream",
     "name": "stdout",
     "text": [
      "\n",
      "Iteration 16/20 of epoch 32 complete. Loss : 0.32192540913820267 \n"
     ]
    },
    {
     "output_type": "stream",
     "name": "stderr",
     "text": [
      "100%|██████████| 20/20 [00:03<00:00,  6.21it/s]\n",
      " 20%|██        | 1/5 [00:00<00:00,  6.42it/s]"
     ]
    },
    {
     "output_type": "stream",
     "name": "stdout",
     "text": [
      "\n",
      "Iteration 20/20 of epoch 32 complete. Loss : 0.320269450545311 \n"
     ]
    },
    {
     "output_type": "stream",
     "name": "stderr",
     "text": [
      "100%|██████████| 5/5 [00:00<00:00,  6.69it/s]\n",
      "  5%|▌         | 1/20 [00:00<00:03,  6.17it/s]"
     ]
    },
    {
     "output_type": "stream",
     "name": "stdout",
     "text": [
      "\n",
      "Epoch 32 complete! Validation Loss : 0.6213580369949341\n",
      "Epoch 32 complete! Validation Accuracy : 0.6757087628865979\n",
      "Best validation loss improved from 0.6222525715827942 to 0.6213580369949341\n",
      "\n"
     ]
    },
    {
     "output_type": "stream",
     "name": "stderr",
     "text": [
      " 25%|██▌       | 5/20 [00:00<00:02,  5.95it/s]"
     ]
    },
    {
     "output_type": "stream",
     "name": "stdout",
     "text": [
      "\n",
      "Iteration 4/20 of epoch 33 complete. Loss : 0.3128201887011528 \n"
     ]
    },
    {
     "output_type": "stream",
     "name": "stderr",
     "text": [
      " 45%|████▌     | 9/20 [00:01<00:01,  5.93it/s]"
     ]
    },
    {
     "output_type": "stream",
     "name": "stdout",
     "text": [
      "\n",
      "Iteration 8/20 of epoch 33 complete. Loss : 0.3216489627957344 \n"
     ]
    },
    {
     "output_type": "stream",
     "name": "stderr",
     "text": [
      " 65%|██████▌   | 13/20 [00:02<00:01,  5.91it/s]"
     ]
    },
    {
     "output_type": "stream",
     "name": "stdout",
     "text": [
      "\n",
      "Iteration 12/20 of epoch 33 complete. Loss : 0.311648853123188 \n"
     ]
    },
    {
     "output_type": "stream",
     "name": "stderr",
     "text": [
      " 85%|████████▌ | 17/20 [00:02<00:00,  5.95it/s]"
     ]
    },
    {
     "output_type": "stream",
     "name": "stdout",
     "text": [
      "\n",
      "Iteration 16/20 of epoch 33 complete. Loss : 0.31236279755830765 \n"
     ]
    },
    {
     "output_type": "stream",
     "name": "stderr",
     "text": [
      "100%|██████████| 20/20 [00:03<00:00,  6.21it/s]\n",
      " 20%|██        | 1/5 [00:00<00:00,  6.43it/s]"
     ]
    },
    {
     "output_type": "stream",
     "name": "stdout",
     "text": [
      "\n",
      "Iteration 20/20 of epoch 33 complete. Loss : 0.3402988091111183 \n"
     ]
    },
    {
     "output_type": "stream",
     "name": "stderr",
     "text": [
      "100%|██████████| 5/5 [00:00<00:00,  6.74it/s]\n",
      "  5%|▌         | 1/20 [00:00<00:03,  5.99it/s]"
     ]
    },
    {
     "output_type": "stream",
     "name": "stdout",
     "text": [
      "\n",
      "Epoch 33 complete! Validation Loss : 0.621927285194397\n",
      "Epoch 33 complete! Validation Accuracy : 0.6757087628865979\n"
     ]
    },
    {
     "output_type": "stream",
     "name": "stderr",
     "text": [
      " 25%|██▌       | 5/20 [00:00<00:02,  5.97it/s]"
     ]
    },
    {
     "output_type": "stream",
     "name": "stdout",
     "text": [
      "\n",
      "Iteration 4/20 of epoch 34 complete. Loss : 0.3109876960515976 \n"
     ]
    },
    {
     "output_type": "stream",
     "name": "stderr",
     "text": [
      " 45%|████▌     | 9/20 [00:01<00:01,  5.94it/s]"
     ]
    },
    {
     "output_type": "stream",
     "name": "stdout",
     "text": [
      "\n",
      "Iteration 8/20 of epoch 34 complete. Loss : 0.3101588785648346 \n"
     ]
    },
    {
     "output_type": "stream",
     "name": "stderr",
     "text": [
      " 65%|██████▌   | 13/20 [00:02<00:01,  5.89it/s]"
     ]
    },
    {
     "output_type": "stream",
     "name": "stdout",
     "text": [
      "\n",
      "Iteration 12/20 of epoch 34 complete. Loss : 0.32814737409353256 \n"
     ]
    },
    {
     "output_type": "stream",
     "name": "stderr",
     "text": [
      " 85%|████████▌ | 17/20 [00:02<00:00,  5.94it/s]"
     ]
    },
    {
     "output_type": "stream",
     "name": "stdout",
     "text": [
      "\n",
      "Iteration 16/20 of epoch 34 complete. Loss : 0.30878952890634537 \n"
     ]
    },
    {
     "output_type": "stream",
     "name": "stderr",
     "text": [
      "100%|██████████| 20/20 [00:03<00:00,  6.19it/s]\n",
      " 20%|██        | 1/5 [00:00<00:00,  6.45it/s]"
     ]
    },
    {
     "output_type": "stream",
     "name": "stdout",
     "text": [
      "\n",
      "Iteration 20/20 of epoch 34 complete. Loss : 0.30411119014024734 \n"
     ]
    },
    {
     "output_type": "stream",
     "name": "stderr",
     "text": [
      "100%|██████████| 5/5 [00:00<00:00,  6.66it/s]\n",
      "  5%|▌         | 1/20 [00:00<00:03,  5.82it/s]"
     ]
    },
    {
     "output_type": "stream",
     "name": "stdout",
     "text": [
      "\n",
      "Epoch 34 complete! Validation Loss : 0.6237587094306946\n",
      "Epoch 34 complete! Validation Accuracy : 0.6757087628865979\n"
     ]
    },
    {
     "output_type": "stream",
     "name": "stderr",
     "text": [
      " 25%|██▌       | 5/20 [00:00<00:02,  5.90it/s]"
     ]
    },
    {
     "output_type": "stream",
     "name": "stdout",
     "text": [
      "\n",
      "Iteration 4/20 of epoch 35 complete. Loss : 0.31930290162563324 \n"
     ]
    },
    {
     "output_type": "stream",
     "name": "stderr",
     "text": [
      " 45%|████▌     | 9/20 [00:01<00:01,  5.89it/s]"
     ]
    },
    {
     "output_type": "stream",
     "name": "stdout",
     "text": [
      "\n",
      "Iteration 8/20 of epoch 35 complete. Loss : 0.3084051236510277 \n"
     ]
    },
    {
     "output_type": "stream",
     "name": "stderr",
     "text": [
      " 65%|██████▌   | 13/20 [00:02<00:01,  5.87it/s]"
     ]
    },
    {
     "output_type": "stream",
     "name": "stdout",
     "text": [
      "\n",
      "Iteration 12/20 of epoch 35 complete. Loss : 0.3158125951886177 \n"
     ]
    },
    {
     "output_type": "stream",
     "name": "stderr",
     "text": [
      " 85%|████████▌ | 17/20 [00:02<00:00,  5.93it/s]"
     ]
    },
    {
     "output_type": "stream",
     "name": "stdout",
     "text": [
      "\n",
      "Iteration 16/20 of epoch 35 complete. Loss : 0.30687104910612106 \n"
     ]
    },
    {
     "output_type": "stream",
     "name": "stderr",
     "text": [
      "100%|██████████| 20/20 [00:03<00:00,  6.17it/s]\n",
      " 20%|██        | 1/5 [00:00<00:00,  6.58it/s]"
     ]
    },
    {
     "output_type": "stream",
     "name": "stdout",
     "text": [
      "\n",
      "Iteration 20/20 of epoch 35 complete. Loss : 0.35515813529491425 \n"
     ]
    },
    {
     "output_type": "stream",
     "name": "stderr",
     "text": [
      "100%|██████████| 5/5 [00:00<00:00,  6.70it/s]\n",
      "  5%|▌         | 1/20 [00:00<00:03,  5.90it/s]"
     ]
    },
    {
     "output_type": "stream",
     "name": "stdout",
     "text": [
      "\n",
      "Epoch 35 complete! Validation Loss : 0.6212938904762269\n",
      "Epoch 35 complete! Validation Accuracy : 0.6736469072164948\n",
      "Best validation loss improved from 0.6213580369949341 to 0.6212938904762269\n",
      "\n"
     ]
    },
    {
     "output_type": "stream",
     "name": "stderr",
     "text": [
      " 25%|██▌       | 5/20 [00:00<00:02,  5.90it/s]"
     ]
    },
    {
     "output_type": "stream",
     "name": "stdout",
     "text": [
      "\n",
      "Iteration 4/20 of epoch 36 complete. Loss : 0.3086632564663887 \n"
     ]
    },
    {
     "output_type": "stream",
     "name": "stderr",
     "text": [
      " 45%|████▌     | 9/20 [00:01<00:01,  5.89it/s]"
     ]
    },
    {
     "output_type": "stream",
     "name": "stdout",
     "text": [
      "\n",
      "Iteration 8/20 of epoch 36 complete. Loss : 0.309126153588295 \n"
     ]
    },
    {
     "output_type": "stream",
     "name": "stderr",
     "text": [
      " 65%|██████▌   | 13/20 [00:02<00:01,  5.87it/s]"
     ]
    },
    {
     "output_type": "stream",
     "name": "stdout",
     "text": [
      "\n",
      "Iteration 12/20 of epoch 36 complete. Loss : 0.3116345629096031 \n"
     ]
    },
    {
     "output_type": "stream",
     "name": "stderr",
     "text": [
      " 85%|████████▌ | 17/20 [00:02<00:00,  5.89it/s]"
     ]
    },
    {
     "output_type": "stream",
     "name": "stdout",
     "text": [
      "\n",
      "Iteration 16/20 of epoch 36 complete. Loss : 0.31436842679977417 \n"
     ]
    },
    {
     "output_type": "stream",
     "name": "stderr",
     "text": [
      "100%|██████████| 20/20 [00:03<00:00,  6.16it/s]\n",
      " 20%|██        | 1/5 [00:00<00:00,  6.31it/s]"
     ]
    },
    {
     "output_type": "stream",
     "name": "stdout",
     "text": [
      "\n",
      "Iteration 20/20 of epoch 36 complete. Loss : 0.3215552791953087 \n"
     ]
    },
    {
     "output_type": "stream",
     "name": "stderr",
     "text": [
      "100%|██████████| 5/5 [00:00<00:00,  6.62it/s]\n",
      "  0%|          | 0/20 [00:00<?, ?it/s]"
     ]
    },
    {
     "output_type": "stream",
     "name": "stdout",
     "text": [
      "\n",
      "Epoch 36 complete! Validation Loss : 0.6204787373542786\n",
      "Epoch 36 complete! Validation Accuracy : 0.6752094072164948\n",
      "Best validation loss improved from 0.6212938904762269 to 0.6204787373542786\n",
      "\n"
     ]
    },
    {
     "output_type": "stream",
     "name": "stderr",
     "text": [
      " 25%|██▌       | 5/20 [00:00<00:02,  5.91it/s]"
     ]
    },
    {
     "output_type": "stream",
     "name": "stdout",
     "text": [
      "\n",
      "Iteration 4/20 of epoch 37 complete. Loss : 0.30749181658029556 \n"
     ]
    },
    {
     "output_type": "stream",
     "name": "stderr",
     "text": [
      " 45%|████▌     | 9/20 [00:01<00:01,  5.90it/s]"
     ]
    },
    {
     "output_type": "stream",
     "name": "stdout",
     "text": [
      "\n",
      "Iteration 8/20 of epoch 37 complete. Loss : 0.31056540459394455 \n"
     ]
    },
    {
     "output_type": "stream",
     "name": "stderr",
     "text": [
      " 65%|██████▌   | 13/20 [00:02<00:01,  5.93it/s]"
     ]
    },
    {
     "output_type": "stream",
     "name": "stdout",
     "text": [
      "\n",
      "Iteration 12/20 of epoch 37 complete. Loss : 0.3107762485742569 \n"
     ]
    },
    {
     "output_type": "stream",
     "name": "stderr",
     "text": [
      " 85%|████████▌ | 17/20 [00:02<00:00,  5.92it/s]"
     ]
    },
    {
     "output_type": "stream",
     "name": "stdout",
     "text": [
      "\n",
      "Iteration 16/20 of epoch 37 complete. Loss : 0.3173815682530403 \n"
     ]
    },
    {
     "output_type": "stream",
     "name": "stderr",
     "text": [
      "100%|██████████| 20/20 [00:03<00:00,  6.18it/s]\n",
      " 20%|██        | 1/5 [00:00<00:00,  6.34it/s]"
     ]
    },
    {
     "output_type": "stream",
     "name": "stdout",
     "text": [
      "\n",
      "Iteration 20/20 of epoch 37 complete. Loss : 0.30429602414369583 \n"
     ]
    },
    {
     "output_type": "stream",
     "name": "stderr",
     "text": [
      "100%|██████████| 5/5 [00:00<00:00,  6.65it/s]\n",
      "  5%|▌         | 1/20 [00:00<00:03,  6.12it/s]"
     ]
    },
    {
     "output_type": "stream",
     "name": "stdout",
     "text": [
      "\n",
      "Epoch 37 complete! Validation Loss : 0.6197253108024597\n",
      "Epoch 37 complete! Validation Accuracy : 0.6767719072164948\n",
      "Best validation loss improved from 0.6204787373542786 to 0.6197253108024597\n",
      "\n"
     ]
    },
    {
     "output_type": "stream",
     "name": "stderr",
     "text": [
      " 25%|██▌       | 5/20 [00:00<00:02,  5.93it/s]"
     ]
    },
    {
     "output_type": "stream",
     "name": "stdout",
     "text": [
      "\n",
      "Iteration 4/20 of epoch 38 complete. Loss : 0.30386510491371155 \n"
     ]
    },
    {
     "output_type": "stream",
     "name": "stderr",
     "text": [
      " 45%|████▌     | 9/20 [00:01<00:01,  5.91it/s]"
     ]
    },
    {
     "output_type": "stream",
     "name": "stdout",
     "text": [
      "\n",
      "Iteration 8/20 of epoch 38 complete. Loss : 0.30976954847574234 \n"
     ]
    },
    {
     "output_type": "stream",
     "name": "stderr",
     "text": [
      " 65%|██████▌   | 13/20 [00:02<00:01,  5.90it/s]"
     ]
    },
    {
     "output_type": "stream",
     "name": "stdout",
     "text": [
      "\n",
      "Iteration 12/20 of epoch 38 complete. Loss : 0.3145211786031723 \n"
     ]
    },
    {
     "output_type": "stream",
     "name": "stderr",
     "text": [
      " 85%|████████▌ | 17/20 [00:02<00:00,  5.89it/s]"
     ]
    },
    {
     "output_type": "stream",
     "name": "stdout",
     "text": [
      "\n",
      "Iteration 16/20 of epoch 38 complete. Loss : 0.3106761500239372 \n"
     ]
    },
    {
     "output_type": "stream",
     "name": "stderr",
     "text": [
      "100%|██████████| 20/20 [00:03<00:00,  6.17it/s]\n",
      " 20%|██        | 1/5 [00:00<00:00,  6.48it/s]"
     ]
    },
    {
     "output_type": "stream",
     "name": "stdout",
     "text": [
      "\n",
      "Iteration 20/20 of epoch 38 complete. Loss : 0.2881322205066681 \n"
     ]
    },
    {
     "output_type": "stream",
     "name": "stderr",
     "text": [
      "100%|██████████| 5/5 [00:00<00:00,  6.67it/s]\n",
      "  0%|          | 0/20 [00:00<?, ?it/s]"
     ]
    },
    {
     "output_type": "stream",
     "name": "stdout",
     "text": [
      "\n",
      "Epoch 38 complete! Validation Loss : 0.6165288805961608\n",
      "Epoch 38 complete! Validation Accuracy : 0.6736469072164948\n",
      "Best validation loss improved from 0.6197253108024597 to 0.6165288805961608\n",
      "\n"
     ]
    },
    {
     "output_type": "stream",
     "name": "stderr",
     "text": [
      " 25%|██▌       | 5/20 [00:00<00:02,  5.87it/s]"
     ]
    },
    {
     "output_type": "stream",
     "name": "stdout",
     "text": [
      "\n",
      "Iteration 4/20 of epoch 39 complete. Loss : 0.30966276675462723 \n"
     ]
    },
    {
     "output_type": "stream",
     "name": "stderr",
     "text": [
      " 45%|████▌     | 9/20 [00:01<00:01,  5.90it/s]"
     ]
    },
    {
     "output_type": "stream",
     "name": "stdout",
     "text": [
      "\n",
      "Iteration 8/20 of epoch 39 complete. Loss : 0.29741109162569046 \n"
     ]
    },
    {
     "output_type": "stream",
     "name": "stderr",
     "text": [
      " 65%|██████▌   | 13/20 [00:02<00:01,  5.92it/s]"
     ]
    },
    {
     "output_type": "stream",
     "name": "stdout",
     "text": [
      "\n",
      "Iteration 12/20 of epoch 39 complete. Loss : 0.30656518787145615 \n"
     ]
    },
    {
     "output_type": "stream",
     "name": "stderr",
     "text": [
      " 85%|████████▌ | 17/20 [00:02<00:00,  5.88it/s]"
     ]
    },
    {
     "output_type": "stream",
     "name": "stdout",
     "text": [
      "\n",
      "Iteration 16/20 of epoch 39 complete. Loss : 0.315104678273201 \n"
     ]
    },
    {
     "output_type": "stream",
     "name": "stderr",
     "text": [
      "100%|██████████| 20/20 [00:03<00:00,  6.17it/s]\n",
      " 20%|██        | 1/5 [00:00<00:00,  6.29it/s]"
     ]
    },
    {
     "output_type": "stream",
     "name": "stdout",
     "text": [
      "\n",
      "Iteration 20/20 of epoch 39 complete. Loss : 0.33581139892339706 \n"
     ]
    },
    {
     "output_type": "stream",
     "name": "stderr",
     "text": [
      "100%|██████████| 5/5 [00:00<00:00,  6.65it/s]\n",
      "  0%|          | 0/20 [00:00<?, ?it/s]"
     ]
    },
    {
     "output_type": "stream",
     "name": "stdout",
     "text": [
      "\n",
      "Epoch 39 complete! Validation Loss : 0.6137731432914734\n",
      "Epoch 39 complete! Validation Accuracy : 0.6736469072164948\n",
      "Best validation loss improved from 0.6165288805961608 to 0.6137731432914734\n",
      "\n"
     ]
    },
    {
     "output_type": "stream",
     "name": "stderr",
     "text": [
      " 25%|██▌       | 5/20 [00:00<00:02,  5.89it/s]"
     ]
    },
    {
     "output_type": "stream",
     "name": "stdout",
     "text": [
      "\n",
      "Iteration 4/20 of epoch 40 complete. Loss : 0.3048725426197052 \n"
     ]
    },
    {
     "output_type": "stream",
     "name": "stderr",
     "text": [
      " 45%|████▌     | 9/20 [00:01<00:01,  5.90it/s]"
     ]
    },
    {
     "output_type": "stream",
     "name": "stdout",
     "text": [
      "\n",
      "Iteration 8/20 of epoch 40 complete. Loss : 0.3065367415547371 \n"
     ]
    },
    {
     "output_type": "stream",
     "name": "stderr",
     "text": [
      " 65%|██████▌   | 13/20 [00:02<00:01,  5.91it/s]"
     ]
    },
    {
     "output_type": "stream",
     "name": "stdout",
     "text": [
      "\n",
      "Iteration 12/20 of epoch 40 complete. Loss : 0.3100161477923393 \n"
     ]
    },
    {
     "output_type": "stream",
     "name": "stderr",
     "text": [
      " 85%|████████▌ | 17/20 [00:02<00:00,  5.93it/s]"
     ]
    },
    {
     "output_type": "stream",
     "name": "stdout",
     "text": [
      "\n",
      "Iteration 16/20 of epoch 40 complete. Loss : 0.3066571056842804 \n"
     ]
    },
    {
     "output_type": "stream",
     "name": "stderr",
     "text": [
      "100%|██████████| 20/20 [00:03<00:00,  6.18it/s]\n",
      " 20%|██        | 1/5 [00:00<00:00,  6.32it/s]"
     ]
    },
    {
     "output_type": "stream",
     "name": "stdout",
     "text": [
      "\n",
      "Iteration 20/20 of epoch 40 complete. Loss : 0.2860216312110424 \n"
     ]
    },
    {
     "output_type": "stream",
     "name": "stderr",
     "text": [
      "100%|██████████| 5/5 [00:00<00:00,  6.63it/s]\n",
      "  5%|▌         | 1/20 [00:00<00:03,  5.91it/s]"
     ]
    },
    {
     "output_type": "stream",
     "name": "stdout",
     "text": [
      "\n",
      "Epoch 40 complete! Validation Loss : 0.6140371799468994\n",
      "Epoch 40 complete! Validation Accuracy : 0.6731475515463917\n"
     ]
    },
    {
     "output_type": "stream",
     "name": "stderr",
     "text": [
      " 25%|██▌       | 5/20 [00:00<00:02,  5.90it/s]"
     ]
    },
    {
     "output_type": "stream",
     "name": "stdout",
     "text": [
      "\n",
      "Iteration 4/20 of epoch 41 complete. Loss : 0.29872363060712814 \n"
     ]
    },
    {
     "output_type": "stream",
     "name": "stderr",
     "text": [
      " 45%|████▌     | 9/20 [00:01<00:01,  5.92it/s]"
     ]
    },
    {
     "output_type": "stream",
     "name": "stdout",
     "text": [
      "\n",
      "Iteration 8/20 of epoch 41 complete. Loss : 0.3024303838610649 \n"
     ]
    },
    {
     "output_type": "stream",
     "name": "stderr",
     "text": [
      " 65%|██████▌   | 13/20 [00:02<00:01,  5.93it/s]"
     ]
    },
    {
     "output_type": "stream",
     "name": "stdout",
     "text": [
      "\n",
      "Iteration 12/20 of epoch 41 complete. Loss : 0.3110053464770317 \n"
     ]
    },
    {
     "output_type": "stream",
     "name": "stderr",
     "text": [
      " 85%|████████▌ | 17/20 [00:02<00:00,  5.92it/s]"
     ]
    },
    {
     "output_type": "stream",
     "name": "stdout",
     "text": [
      "\n",
      "Iteration 16/20 of epoch 41 complete. Loss : 0.302742674946785 \n"
     ]
    },
    {
     "output_type": "stream",
     "name": "stderr",
     "text": [
      "100%|██████████| 20/20 [00:03<00:00,  6.19it/s]\n",
      " 20%|██        | 1/5 [00:00<00:00,  6.34it/s]"
     ]
    },
    {
     "output_type": "stream",
     "name": "stdout",
     "text": [
      "\n",
      "Iteration 20/20 of epoch 41 complete. Loss : 0.3146691918373108 \n"
     ]
    },
    {
     "output_type": "stream",
     "name": "stderr",
     "text": [
      "100%|██████████| 5/5 [00:00<00:00,  6.66it/s]\n",
      "  0%|          | 0/20 [00:00<?, ?it/s]"
     ]
    },
    {
     "output_type": "stream",
     "name": "stdout",
     "text": [
      "\n",
      "Epoch 41 complete! Validation Loss : 0.6132113456726074\n",
      "Epoch 41 complete! Validation Accuracy : 0.6752094072164948\n",
      "Best validation loss improved from 0.6137731432914734 to 0.6132113456726074\n",
      "\n"
     ]
    },
    {
     "output_type": "stream",
     "name": "stderr",
     "text": [
      " 25%|██▌       | 5/20 [00:00<00:02,  5.92it/s]"
     ]
    },
    {
     "output_type": "stream",
     "name": "stdout",
     "text": [
      "\n",
      "Iteration 4/20 of epoch 42 complete. Loss : 0.31157128512859344 \n"
     ]
    },
    {
     "output_type": "stream",
     "name": "stderr",
     "text": [
      " 45%|████▌     | 9/20 [00:01<00:01,  5.93it/s]"
     ]
    },
    {
     "output_type": "stream",
     "name": "stdout",
     "text": [
      "\n",
      "Iteration 8/20 of epoch 42 complete. Loss : 0.29803430289030075 \n"
     ]
    },
    {
     "output_type": "stream",
     "name": "stderr",
     "text": [
      " 65%|██████▌   | 13/20 [00:02<00:01,  5.93it/s]"
     ]
    },
    {
     "output_type": "stream",
     "name": "stdout",
     "text": [
      "\n",
      "Iteration 12/20 of epoch 42 complete. Loss : 0.3002307862043381 \n"
     ]
    },
    {
     "output_type": "stream",
     "name": "stderr",
     "text": [
      " 85%|████████▌ | 17/20 [00:02<00:00,  5.93it/s]"
     ]
    },
    {
     "output_type": "stream",
     "name": "stdout",
     "text": [
      "\n",
      "Iteration 16/20 of epoch 42 complete. Loss : 0.30684270709753036 \n"
     ]
    },
    {
     "output_type": "stream",
     "name": "stderr",
     "text": [
      "100%|██████████| 20/20 [00:03<00:00,  6.20it/s]\n",
      " 20%|██        | 1/5 [00:00<00:00,  6.44it/s]"
     ]
    },
    {
     "output_type": "stream",
     "name": "stdout",
     "text": [
      "\n",
      "Iteration 20/20 of epoch 42 complete. Loss : 0.3099045306444168 \n"
     ]
    },
    {
     "output_type": "stream",
     "name": "stderr",
     "text": [
      "100%|██████████| 5/5 [00:00<00:00,  6.70it/s]\n",
      "  0%|          | 0/20 [00:00<?, ?it/s]"
     ]
    },
    {
     "output_type": "stream",
     "name": "stdout",
     "text": [
      "\n",
      "Epoch 42 complete! Validation Loss : 0.6122737884521484\n",
      "Epoch 42 complete! Validation Accuracy : 0.6772712628865979\n",
      "Best validation loss improved from 0.6132113456726074 to 0.6122737884521484\n",
      "\n"
     ]
    },
    {
     "output_type": "stream",
     "name": "stderr",
     "text": [
      " 25%|██▌       | 5/20 [00:00<00:02,  5.90it/s]"
     ]
    },
    {
     "output_type": "stream",
     "name": "stdout",
     "text": [
      "\n",
      "Iteration 4/20 of epoch 43 complete. Loss : 0.2935218811035156 \n"
     ]
    },
    {
     "output_type": "stream",
     "name": "stderr",
     "text": [
      " 45%|████▌     | 9/20 [00:01<00:01,  5.91it/s]"
     ]
    },
    {
     "output_type": "stream",
     "name": "stdout",
     "text": [
      "\n",
      "Iteration 8/20 of epoch 43 complete. Loss : 0.30886662751436234 \n"
     ]
    },
    {
     "output_type": "stream",
     "name": "stderr",
     "text": [
      " 65%|██████▌   | 13/20 [00:02<00:01,  5.92it/s]"
     ]
    },
    {
     "output_type": "stream",
     "name": "stdout",
     "text": [
      "\n",
      "Iteration 12/20 of epoch 43 complete. Loss : 0.2969021797180176 \n"
     ]
    },
    {
     "output_type": "stream",
     "name": "stderr",
     "text": [
      " 85%|████████▌ | 17/20 [00:02<00:00,  5.87it/s]"
     ]
    },
    {
     "output_type": "stream",
     "name": "stdout",
     "text": [
      "\n",
      "Iteration 16/20 of epoch 43 complete. Loss : 0.3006623387336731 \n"
     ]
    },
    {
     "output_type": "stream",
     "name": "stderr",
     "text": [
      "100%|██████████| 20/20 [00:03<00:00,  6.17it/s]\n",
      " 20%|██        | 1/5 [00:00<00:00,  6.32it/s]"
     ]
    },
    {
     "output_type": "stream",
     "name": "stdout",
     "text": [
      "\n",
      "Iteration 20/20 of epoch 43 complete. Loss : 0.32620205730199814 \n"
     ]
    },
    {
     "output_type": "stream",
     "name": "stderr",
     "text": [
      "100%|██████████| 5/5 [00:00<00:00,  6.68it/s]\n",
      "  0%|          | 0/20 [00:00<?, ?it/s]"
     ]
    },
    {
     "output_type": "stream",
     "name": "stdout",
     "text": [
      "\n",
      "Epoch 43 complete! Validation Loss : 0.6121639370918274\n",
      "Epoch 43 complete! Validation Accuracy : 0.6731475515463917\n",
      "Best validation loss improved from 0.6122737884521484 to 0.6121639370918274\n",
      "\n"
     ]
    },
    {
     "output_type": "stream",
     "name": "stderr",
     "text": [
      " 25%|██▌       | 5/20 [00:00<00:02,  5.89it/s]"
     ]
    },
    {
     "output_type": "stream",
     "name": "stdout",
     "text": [
      "\n",
      "Iteration 4/20 of epoch 44 complete. Loss : 0.2952639237046242 \n"
     ]
    },
    {
     "output_type": "stream",
     "name": "stderr",
     "text": [
      " 45%|████▌     | 9/20 [00:01<00:01,  5.91it/s]"
     ]
    },
    {
     "output_type": "stream",
     "name": "stdout",
     "text": [
      "\n",
      "Iteration 8/20 of epoch 44 complete. Loss : 0.3010598421096802 \n"
     ]
    },
    {
     "output_type": "stream",
     "name": "stderr",
     "text": [
      " 65%|██████▌   | 13/20 [00:02<00:01,  5.93it/s]"
     ]
    },
    {
     "output_type": "stream",
     "name": "stdout",
     "text": [
      "\n",
      "Iteration 12/20 of epoch 44 complete. Loss : 0.3059874475002289 \n"
     ]
    },
    {
     "output_type": "stream",
     "name": "stderr",
     "text": [
      " 85%|████████▌ | 17/20 [00:02<00:00,  5.94it/s]"
     ]
    },
    {
     "output_type": "stream",
     "name": "stdout",
     "text": [
      "\n",
      "Iteration 16/20 of epoch 44 complete. Loss : 0.3044036626815796 \n"
     ]
    },
    {
     "output_type": "stream",
     "name": "stderr",
     "text": [
      "100%|██████████| 20/20 [00:03<00:00,  6.19it/s]\n",
      " 20%|██        | 1/5 [00:00<00:00,  6.32it/s]"
     ]
    },
    {
     "output_type": "stream",
     "name": "stdout",
     "text": [
      "\n",
      "Iteration 20/20 of epoch 44 complete. Loss : 0.29720456153154373 \n"
     ]
    },
    {
     "output_type": "stream",
     "name": "stderr",
     "text": [
      "100%|██████████| 5/5 [00:00<00:00,  6.69it/s]\n",
      "  0%|          | 0/20 [00:00<?, ?it/s]"
     ]
    },
    {
     "output_type": "stream",
     "name": "stdout",
     "text": [
      "\n",
      "Epoch 44 complete! Validation Loss : 0.6103913187980652\n",
      "Epoch 44 complete! Validation Accuracy : 0.6783344072164949\n",
      "Best validation loss improved from 0.6121639370918274 to 0.6103913187980652\n",
      "\n"
     ]
    },
    {
     "output_type": "stream",
     "name": "stderr",
     "text": [
      " 25%|██▌       | 5/20 [00:00<00:02,  5.92it/s]"
     ]
    },
    {
     "output_type": "stream",
     "name": "stdout",
     "text": [
      "\n",
      "Iteration 4/20 of epoch 45 complete. Loss : 0.3063211515545845 \n"
     ]
    },
    {
     "output_type": "stream",
     "name": "stderr",
     "text": [
      " 45%|████▌     | 9/20 [00:01<00:01,  5.92it/s]"
     ]
    },
    {
     "output_type": "stream",
     "name": "stdout",
     "text": [
      "\n",
      "Iteration 8/20 of epoch 45 complete. Loss : 0.2965008243918419 \n"
     ]
    },
    {
     "output_type": "stream",
     "name": "stderr",
     "text": [
      " 65%|██████▌   | 13/20 [00:02<00:01,  5.91it/s]"
     ]
    },
    {
     "output_type": "stream",
     "name": "stdout",
     "text": [
      "\n",
      "Iteration 12/20 of epoch 45 complete. Loss : 0.2953725755214691 \n"
     ]
    },
    {
     "output_type": "stream",
     "name": "stderr",
     "text": [
      " 85%|████████▌ | 17/20 [00:02<00:00,  5.92it/s]"
     ]
    },
    {
     "output_type": "stream",
     "name": "stdout",
     "text": [
      "\n",
      "Iteration 16/20 of epoch 45 complete. Loss : 0.2986233979463577 \n"
     ]
    },
    {
     "output_type": "stream",
     "name": "stderr",
     "text": [
      "100%|██████████| 20/20 [00:03<00:00,  6.19it/s]\n",
      " 20%|██        | 1/5 [00:00<00:00,  6.35it/s]"
     ]
    },
    {
     "output_type": "stream",
     "name": "stdout",
     "text": [
      "\n",
      "Iteration 20/20 of epoch 45 complete. Loss : 0.3174424022436142 \n"
     ]
    },
    {
     "output_type": "stream",
     "name": "stderr",
     "text": [
      "100%|██████████| 5/5 [00:00<00:00,  6.66it/s]\n",
      "  0%|          | 0/20 [00:00<?, ?it/s]"
     ]
    },
    {
     "output_type": "stream",
     "name": "stdout",
     "text": [
      "\n",
      "Epoch 45 complete! Validation Loss : 0.60768141746521\n",
      "Epoch 45 complete! Validation Accuracy : 0.6793975515463917\n",
      "Best validation loss improved from 0.6103913187980652 to 0.60768141746521\n",
      "\n"
     ]
    },
    {
     "output_type": "stream",
     "name": "stderr",
     "text": [
      " 25%|██▌       | 5/20 [00:00<00:02,  5.91it/s]"
     ]
    },
    {
     "output_type": "stream",
     "name": "stdout",
     "text": [
      "\n",
      "Iteration 4/20 of epoch 46 complete. Loss : 0.29526469111442566 \n"
     ]
    },
    {
     "output_type": "stream",
     "name": "stderr",
     "text": [
      " 45%|████▌     | 9/20 [00:01<00:01,  5.91it/s]"
     ]
    },
    {
     "output_type": "stream",
     "name": "stdout",
     "text": [
      "\n",
      "Iteration 8/20 of epoch 46 complete. Loss : 0.3043382242321968 \n"
     ]
    },
    {
     "output_type": "stream",
     "name": "stderr",
     "text": [
      " 65%|██████▌   | 13/20 [00:02<00:01,  5.92it/s]"
     ]
    },
    {
     "output_type": "stream",
     "name": "stdout",
     "text": [
      "\n",
      "Iteration 12/20 of epoch 46 complete. Loss : 0.2917042076587677 \n"
     ]
    },
    {
     "output_type": "stream",
     "name": "stderr",
     "text": [
      " 85%|████████▌ | 17/20 [00:02<00:00,  5.92it/s]"
     ]
    },
    {
     "output_type": "stream",
     "name": "stdout",
     "text": [
      "\n",
      "Iteration 16/20 of epoch 46 complete. Loss : 0.2964821383357048 \n"
     ]
    },
    {
     "output_type": "stream",
     "name": "stderr",
     "text": [
      "100%|██████████| 20/20 [00:03<00:00,  6.19it/s]\n",
      " 20%|██        | 1/5 [00:00<00:00,  6.46it/s]"
     ]
    },
    {
     "output_type": "stream",
     "name": "stdout",
     "text": [
      "\n",
      "Iteration 20/20 of epoch 46 complete. Loss : 0.3305680975317955 \n"
     ]
    },
    {
     "output_type": "stream",
     "name": "stderr",
     "text": [
      "100%|██████████| 5/5 [00:00<00:00,  6.70it/s]\n",
      "  5%|▌         | 1/20 [00:00<00:03,  5.97it/s]"
     ]
    },
    {
     "output_type": "stream",
     "name": "stdout",
     "text": [
      "\n",
      "Epoch 46 complete! Validation Loss : 0.608800184726715\n",
      "Epoch 46 complete! Validation Accuracy : 0.6876449742268042\n"
     ]
    },
    {
     "output_type": "stream",
     "name": "stderr",
     "text": [
      " 25%|██▌       | 5/20 [00:00<00:02,  5.93it/s]"
     ]
    },
    {
     "output_type": "stream",
     "name": "stdout",
     "text": [
      "\n",
      "Iteration 4/20 of epoch 47 complete. Loss : 0.29402702301740646 \n"
     ]
    },
    {
     "output_type": "stream",
     "name": "stderr",
     "text": [
      " 45%|████▌     | 9/20 [00:01<00:01,  5.94it/s]"
     ]
    },
    {
     "output_type": "stream",
     "name": "stdout",
     "text": [
      "\n",
      "Iteration 8/20 of epoch 47 complete. Loss : 0.3008933812379837 \n"
     ]
    },
    {
     "output_type": "stream",
     "name": "stderr",
     "text": [
      " 65%|██████▌   | 13/20 [00:02<00:01,  5.93it/s]"
     ]
    },
    {
     "output_type": "stream",
     "name": "stdout",
     "text": [
      "\n",
      "Iteration 12/20 of epoch 47 complete. Loss : 0.2899535298347473 \n"
     ]
    },
    {
     "output_type": "stream",
     "name": "stderr",
     "text": [
      " 85%|████████▌ | 17/20 [00:02<00:00,  5.93it/s]"
     ]
    },
    {
     "output_type": "stream",
     "name": "stdout",
     "text": [
      "\n",
      "Iteration 16/20 of epoch 47 complete. Loss : 0.29218070954084396 \n"
     ]
    },
    {
     "output_type": "stream",
     "name": "stderr",
     "text": [
      "100%|██████████| 20/20 [00:03<00:00,  6.21it/s]\n",
      " 20%|██        | 1/5 [00:00<00:00,  6.40it/s]"
     ]
    },
    {
     "output_type": "stream",
     "name": "stdout",
     "text": [
      "\n",
      "Iteration 20/20 of epoch 47 complete. Loss : 0.2953393682837486 \n"
     ]
    },
    {
     "output_type": "stream",
     "name": "stderr",
     "text": [
      "100%|██████████| 5/5 [00:00<00:00,  6.66it/s]\n",
      "  0%|          | 0/20 [00:00<?, ?it/s]"
     ]
    },
    {
     "output_type": "stream",
     "name": "stdout",
     "text": [
      "\n",
      "Epoch 47 complete! Validation Loss : 0.6073208212852478\n",
      "Epoch 47 complete! Validation Accuracy : 0.696520618556701\n",
      "Best validation loss improved from 0.60768141746521 to 0.6073208212852478\n",
      "\n"
     ]
    },
    {
     "output_type": "stream",
     "name": "stderr",
     "text": [
      " 25%|██▌       | 5/20 [00:00<00:02,  5.86it/s]"
     ]
    },
    {
     "output_type": "stream",
     "name": "stdout",
     "text": [
      "\n",
      "Iteration 4/20 of epoch 48 complete. Loss : 0.2910827398300171 \n"
     ]
    },
    {
     "output_type": "stream",
     "name": "stderr",
     "text": [
      " 45%|████▌     | 9/20 [00:01<00:01,  5.92it/s]"
     ]
    },
    {
     "output_type": "stream",
     "name": "stdout",
     "text": [
      "\n",
      "Iteration 8/20 of epoch 48 complete. Loss : 0.2957025393843651 \n"
     ]
    },
    {
     "output_type": "stream",
     "name": "stderr",
     "text": [
      " 65%|██████▌   | 13/20 [00:02<00:01,  5.93it/s]"
     ]
    },
    {
     "output_type": "stream",
     "name": "stdout",
     "text": [
      "\n",
      "Iteration 12/20 of epoch 48 complete. Loss : 0.29302770644426346 \n"
     ]
    },
    {
     "output_type": "stream",
     "name": "stderr",
     "text": [
      " 85%|████████▌ | 17/20 [00:02<00:00,  5.92it/s]"
     ]
    },
    {
     "output_type": "stream",
     "name": "stdout",
     "text": [
      "\n",
      "Iteration 16/20 of epoch 48 complete. Loss : 0.29808031022548676 \n"
     ]
    },
    {
     "output_type": "stream",
     "name": "stderr",
     "text": [
      "100%|██████████| 20/20 [00:03<00:00,  6.19it/s]\n",
      " 20%|██        | 1/5 [00:00<00:00,  6.35it/s]"
     ]
    },
    {
     "output_type": "stream",
     "name": "stdout",
     "text": [
      "\n",
      "Iteration 20/20 of epoch 48 complete. Loss : 0.268304992467165 \n"
     ]
    },
    {
     "output_type": "stream",
     "name": "stderr",
     "text": [
      "100%|██████████| 5/5 [00:00<00:00,  6.68it/s]\n",
      "  0%|          | 0/20 [00:00<?, ?it/s]"
     ]
    },
    {
     "output_type": "stream",
     "name": "stdout",
     "text": [
      "\n",
      "Epoch 48 complete! Validation Loss : 0.6020674705505371\n",
      "Epoch 48 complete! Validation Accuracy : 0.685583118556701\n",
      "Best validation loss improved from 0.6073208212852478 to 0.6020674705505371\n",
      "\n"
     ]
    },
    {
     "output_type": "stream",
     "name": "stderr",
     "text": [
      " 25%|██▌       | 5/20 [00:00<00:02,  5.88it/s]"
     ]
    },
    {
     "output_type": "stream",
     "name": "stdout",
     "text": [
      "\n",
      "Iteration 4/20 of epoch 49 complete. Loss : 0.29105567187070847 \n"
     ]
    },
    {
     "output_type": "stream",
     "name": "stderr",
     "text": [
      " 45%|████▌     | 9/20 [00:01<00:01,  5.92it/s]"
     ]
    },
    {
     "output_type": "stream",
     "name": "stdout",
     "text": [
      "\n",
      "Iteration 8/20 of epoch 49 complete. Loss : 0.3082566484808922 \n"
     ]
    },
    {
     "output_type": "stream",
     "name": "stderr",
     "text": [
      " 65%|██████▌   | 13/20 [00:02<00:01,  5.93it/s]"
     ]
    },
    {
     "output_type": "stream",
     "name": "stdout",
     "text": [
      "\n",
      "Iteration 12/20 of epoch 49 complete. Loss : 0.28887246549129486 \n"
     ]
    },
    {
     "output_type": "stream",
     "name": "stderr",
     "text": [
      " 85%|████████▌ | 17/20 [00:02<00:00,  5.90it/s]"
     ]
    },
    {
     "output_type": "stream",
     "name": "stdout",
     "text": [
      "\n",
      "Iteration 16/20 of epoch 49 complete. Loss : 0.2853326126933098 \n"
     ]
    },
    {
     "output_type": "stream",
     "name": "stderr",
     "text": [
      "100%|██████████| 20/20 [00:03<00:00,  6.19it/s]\n",
      " 20%|██        | 1/5 [00:00<00:00,  6.32it/s]"
     ]
    },
    {
     "output_type": "stream",
     "name": "stdout",
     "text": [
      "\n",
      "Iteration 20/20 of epoch 49 complete. Loss : 0.30072617530822754 \n"
     ]
    },
    {
     "output_type": "stream",
     "name": "stderr",
     "text": [
      "100%|██████████| 5/5 [00:00<00:00,  6.68it/s]\n",
      "  5%|▌         | 1/20 [00:00<00:03,  5.97it/s]"
     ]
    },
    {
     "output_type": "stream",
     "name": "stdout",
     "text": [
      "\n",
      "Epoch 49 complete! Validation Loss : 0.6040336132049561\n",
      "Epoch 49 complete! Validation Accuracy : 0.690270618556701\n"
     ]
    },
    {
     "output_type": "stream",
     "name": "stderr",
     "text": [
      " 25%|██▌       | 5/20 [00:00<00:02,  5.94it/s]"
     ]
    },
    {
     "output_type": "stream",
     "name": "stdout",
     "text": [
      "\n",
      "Iteration 4/20 of epoch 50 complete. Loss : 0.2849315255880356 \n"
     ]
    },
    {
     "output_type": "stream",
     "name": "stderr",
     "text": [
      " 45%|████▌     | 9/20 [00:01<00:01,  5.91it/s]"
     ]
    },
    {
     "output_type": "stream",
     "name": "stdout",
     "text": [
      "\n",
      "Iteration 8/20 of epoch 50 complete. Loss : 0.28493114560842514 \n"
     ]
    },
    {
     "output_type": "stream",
     "name": "stderr",
     "text": [
      " 65%|██████▌   | 13/20 [00:02<00:01,  5.92it/s]"
     ]
    },
    {
     "output_type": "stream",
     "name": "stdout",
     "text": [
      "\n",
      "Iteration 12/20 of epoch 50 complete. Loss : 0.29170050472021103 \n"
     ]
    },
    {
     "output_type": "stream",
     "name": "stderr",
     "text": [
      " 85%|████████▌ | 17/20 [00:02<00:00,  5.91it/s]"
     ]
    },
    {
     "output_type": "stream",
     "name": "stdout",
     "text": [
      "\n",
      "Iteration 16/20 of epoch 50 complete. Loss : 0.30177660286426544 \n"
     ]
    },
    {
     "output_type": "stream",
     "name": "stderr",
     "text": [
      "100%|██████████| 20/20 [00:03<00:00,  6.18it/s]\n",
      " 20%|██        | 1/5 [00:00<00:00,  6.34it/s]"
     ]
    },
    {
     "output_type": "stream",
     "name": "stdout",
     "text": [
      "\n",
      "Iteration 20/20 of epoch 50 complete. Loss : 0.26312583312392235 \n"
     ]
    },
    {
     "output_type": "stream",
     "name": "stderr",
     "text": [
      "100%|██████████| 5/5 [00:00<00:00,  6.65it/s]\n",
      "  5%|▌         | 1/20 [00:00<00:03,  5.84it/s]"
     ]
    },
    {
     "output_type": "stream",
     "name": "stdout",
     "text": [
      "\n",
      "Epoch 50 complete! Validation Loss : 0.6042577743530273\n",
      "Epoch 50 complete! Validation Accuracy : 0.691833118556701\n"
     ]
    },
    {
     "output_type": "stream",
     "name": "stderr",
     "text": [
      " 25%|██▌       | 5/20 [00:00<00:02,  5.91it/s]"
     ]
    },
    {
     "output_type": "stream",
     "name": "stdout",
     "text": [
      "\n",
      "Iteration 4/20 of epoch 51 complete. Loss : 0.2955262362957001 \n"
     ]
    },
    {
     "output_type": "stream",
     "name": "stderr",
     "text": [
      " 45%|████▌     | 9/20 [00:01<00:01,  5.90it/s]"
     ]
    },
    {
     "output_type": "stream",
     "name": "stdout",
     "text": [
      "\n",
      "Iteration 8/20 of epoch 51 complete. Loss : 0.28394943475723267 \n"
     ]
    },
    {
     "output_type": "stream",
     "name": "stderr",
     "text": [
      " 65%|██████▌   | 13/20 [00:02<00:01,  5.90it/s]"
     ]
    },
    {
     "output_type": "stream",
     "name": "stdout",
     "text": [
      "\n",
      "Iteration 12/20 of epoch 51 complete. Loss : 0.28338996320962906 \n"
     ]
    },
    {
     "output_type": "stream",
     "name": "stderr",
     "text": [
      " 85%|████████▌ | 17/20 [00:02<00:00,  5.90it/s]"
     ]
    },
    {
     "output_type": "stream",
     "name": "stdout",
     "text": [
      "\n",
      "Iteration 16/20 of epoch 51 complete. Loss : 0.28450772911310196 \n"
     ]
    },
    {
     "output_type": "stream",
     "name": "stderr",
     "text": [
      "100%|██████████| 20/20 [00:03<00:00,  6.17it/s]\n",
      " 20%|██        | 1/5 [00:00<00:00,  6.33it/s]"
     ]
    },
    {
     "output_type": "stream",
     "name": "stdout",
     "text": [
      "\n",
      "Iteration 20/20 of epoch 51 complete. Loss : 0.2880872115492821 \n"
     ]
    },
    {
     "output_type": "stream",
     "name": "stderr",
     "text": [
      "100%|██████████| 5/5 [00:00<00:00,  6.64it/s]\n",
      "  0%|          | 0/20 [00:00<?, ?it/s]"
     ]
    },
    {
     "output_type": "stream",
     "name": "stdout",
     "text": [
      "\n",
      "Epoch 51 complete! Validation Loss : 0.5996932625770569\n",
      "Epoch 51 complete! Validation Accuracy : 0.6938949742268041\n",
      "Best validation loss improved from 0.6020674705505371 to 0.5996932625770569\n",
      "\n"
     ]
    },
    {
     "output_type": "stream",
     "name": "stderr",
     "text": [
      " 25%|██▌       | 5/20 [00:00<00:02,  5.90it/s]"
     ]
    },
    {
     "output_type": "stream",
     "name": "stdout",
     "text": [
      "\n",
      "Iteration 4/20 of epoch 52 complete. Loss : 0.2854575663805008 \n"
     ]
    },
    {
     "output_type": "stream",
     "name": "stderr",
     "text": [
      " 45%|████▌     | 9/20 [00:01<00:01,  5.90it/s]"
     ]
    },
    {
     "output_type": "stream",
     "name": "stdout",
     "text": [
      "\n",
      "Iteration 8/20 of epoch 52 complete. Loss : 0.2803945168852806 \n"
     ]
    },
    {
     "output_type": "stream",
     "name": "stderr",
     "text": [
      " 65%|██████▌   | 13/20 [00:02<00:01,  5.90it/s]"
     ]
    },
    {
     "output_type": "stream",
     "name": "stdout",
     "text": [
      "\n",
      "Iteration 12/20 of epoch 52 complete. Loss : 0.2729272358119488 \n"
     ]
    },
    {
     "output_type": "stream",
     "name": "stderr",
     "text": [
      " 85%|████████▌ | 17/20 [00:02<00:00,  5.90it/s]"
     ]
    },
    {
     "output_type": "stream",
     "name": "stdout",
     "text": [
      "\n",
      "Iteration 16/20 of epoch 52 complete. Loss : 0.29375144094228745 \n"
     ]
    },
    {
     "output_type": "stream",
     "name": "stderr",
     "text": [
      "100%|██████████| 20/20 [00:03<00:00,  6.17it/s]\n",
      " 20%|██        | 1/5 [00:00<00:00,  6.34it/s]"
     ]
    },
    {
     "output_type": "stream",
     "name": "stdout",
     "text": [
      "\n",
      "Iteration 20/20 of epoch 52 complete. Loss : 0.27853722497820854 \n"
     ]
    },
    {
     "output_type": "stream",
     "name": "stderr",
     "text": [
      "100%|██████████| 5/5 [00:00<00:00,  6.67it/s]\n",
      "  5%|▌         | 1/20 [00:00<00:03,  5.96it/s]"
     ]
    },
    {
     "output_type": "stream",
     "name": "stdout",
     "text": [
      "\n",
      "Epoch 52 complete! Validation Loss : 0.601235318183899\n",
      "Epoch 52 complete! Validation Accuracy : 0.6954574742268042\n"
     ]
    },
    {
     "output_type": "stream",
     "name": "stderr",
     "text": [
      " 25%|██▌       | 5/20 [00:00<00:02,  5.94it/s]"
     ]
    },
    {
     "output_type": "stream",
     "name": "stdout",
     "text": [
      "\n",
      "Iteration 4/20 of epoch 53 complete. Loss : 0.26558560132980347 \n"
     ]
    },
    {
     "output_type": "stream",
     "name": "stderr",
     "text": [
      " 45%|████▌     | 9/20 [00:01<00:01,  5.93it/s]"
     ]
    },
    {
     "output_type": "stream",
     "name": "stdout",
     "text": [
      "\n",
      "Iteration 8/20 of epoch 53 complete. Loss : 0.2896067053079605 \n"
     ]
    },
    {
     "output_type": "stream",
     "name": "stderr",
     "text": [
      " 65%|██████▌   | 13/20 [00:02<00:01,  5.93it/s]"
     ]
    },
    {
     "output_type": "stream",
     "name": "stdout",
     "text": [
      "\n",
      "Iteration 12/20 of epoch 53 complete. Loss : 0.283906489610672 \n"
     ]
    },
    {
     "output_type": "stream",
     "name": "stderr",
     "text": [
      " 85%|████████▌ | 17/20 [00:02<00:00,  5.93it/s]"
     ]
    },
    {
     "output_type": "stream",
     "name": "stdout",
     "text": [
      "\n",
      "Iteration 16/20 of epoch 53 complete. Loss : 0.28418736904859543 \n"
     ]
    },
    {
     "output_type": "stream",
     "name": "stderr",
     "text": [
      "100%|██████████| 20/20 [00:03<00:00,  6.21it/s]\n",
      " 20%|██        | 1/5 [00:00<00:00,  6.32it/s]"
     ]
    },
    {
     "output_type": "stream",
     "name": "stdout",
     "text": [
      "\n",
      "Iteration 20/20 of epoch 53 complete. Loss : 0.32240286469459534 \n"
     ]
    },
    {
     "output_type": "stream",
     "name": "stderr",
     "text": [
      "100%|██████████| 5/5 [00:00<00:00,  6.68it/s]\n",
      "  5%|▌         | 1/20 [00:00<00:03,  5.72it/s]"
     ]
    },
    {
     "output_type": "stream",
     "name": "stdout",
     "text": [
      "\n",
      "Epoch 53 complete! Validation Loss : 0.6016907572746277\n",
      "Epoch 53 complete! Validation Accuracy : 0.7047680412371135\n"
     ]
    },
    {
     "output_type": "stream",
     "name": "stderr",
     "text": [
      " 25%|██▌       | 5/20 [00:00<00:02,  5.86it/s]"
     ]
    },
    {
     "output_type": "stream",
     "name": "stdout",
     "text": [
      "\n",
      "Iteration 4/20 of epoch 54 complete. Loss : 0.27758698910474777 \n"
     ]
    },
    {
     "output_type": "stream",
     "name": "stderr",
     "text": [
      " 45%|████▌     | 9/20 [00:01<00:01,  5.89it/s]"
     ]
    },
    {
     "output_type": "stream",
     "name": "stdout",
     "text": [
      "\n",
      "Iteration 8/20 of epoch 54 complete. Loss : 0.27820339798927307 \n"
     ]
    },
    {
     "output_type": "stream",
     "name": "stderr",
     "text": [
      " 65%|██████▌   | 13/20 [00:02<00:01,  5.82it/s]"
     ]
    },
    {
     "output_type": "stream",
     "name": "stdout",
     "text": [
      "\n",
      "Iteration 12/20 of epoch 54 complete. Loss : 0.28108035027980804 \n"
     ]
    },
    {
     "output_type": "stream",
     "name": "stderr",
     "text": [
      " 85%|████████▌ | 17/20 [00:02<00:00,  5.85it/s]"
     ]
    },
    {
     "output_type": "stream",
     "name": "stdout",
     "text": [
      "\n",
      "Iteration 16/20 of epoch 54 complete. Loss : 0.28732725977897644 \n"
     ]
    },
    {
     "output_type": "stream",
     "name": "stderr",
     "text": [
      "100%|██████████| 20/20 [00:03<00:00,  6.13it/s]\n",
      " 20%|██        | 1/5 [00:00<00:00,  6.33it/s]"
     ]
    },
    {
     "output_type": "stream",
     "name": "stdout",
     "text": [
      "\n",
      "Iteration 20/20 of epoch 54 complete. Loss : 0.29874205589294434 \n"
     ]
    },
    {
     "output_type": "stream",
     "name": "stderr",
     "text": [
      "100%|██████████| 5/5 [00:00<00:00,  6.66it/s]\n",
      "  5%|▌         | 1/20 [00:00<00:03,  5.96it/s]"
     ]
    },
    {
     "output_type": "stream",
     "name": "stdout",
     "text": [
      "\n",
      "Epoch 54 complete! Validation Loss : 0.6067023515701294\n",
      "Epoch 54 complete! Validation Accuracy : 0.6933311855670103\n"
     ]
    },
    {
     "output_type": "stream",
     "name": "stderr",
     "text": [
      " 25%|██▌       | 5/20 [00:00<00:02,  5.94it/s]"
     ]
    },
    {
     "output_type": "stream",
     "name": "stdout",
     "text": [
      "\n",
      "Iteration 4/20 of epoch 55 complete. Loss : 0.267956867814064 \n"
     ]
    },
    {
     "output_type": "stream",
     "name": "stderr",
     "text": [
      " 45%|████▌     | 9/20 [00:01<00:01,  5.93it/s]"
     ]
    },
    {
     "output_type": "stream",
     "name": "stdout",
     "text": [
      "\n",
      "Iteration 8/20 of epoch 55 complete. Loss : 0.27773554623126984 \n"
     ]
    },
    {
     "output_type": "stream",
     "name": "stderr",
     "text": [
      " 65%|██████▌   | 13/20 [00:02<00:01,  5.92it/s]"
     ]
    },
    {
     "output_type": "stream",
     "name": "stdout",
     "text": [
      "\n",
      "Iteration 12/20 of epoch 55 complete. Loss : 0.28125807642936707 \n"
     ]
    },
    {
     "output_type": "stream",
     "name": "stderr",
     "text": [
      " 85%|████████▌ | 17/20 [00:02<00:00,  5.93it/s]"
     ]
    },
    {
     "output_type": "stream",
     "name": "stdout",
     "text": [
      "\n",
      "Iteration 16/20 of epoch 55 complete. Loss : 0.28436361998319626 \n"
     ]
    },
    {
     "output_type": "stream",
     "name": "stderr",
     "text": [
      "100%|██████████| 20/20 [00:03<00:00,  6.21it/s]\n",
      " 20%|██        | 1/5 [00:00<00:00,  6.31it/s]"
     ]
    },
    {
     "output_type": "stream",
     "name": "stdout",
     "text": [
      "\n",
      "Iteration 20/20 of epoch 55 complete. Loss : 0.3012964054942131 \n"
     ]
    },
    {
     "output_type": "stream",
     "name": "stderr",
     "text": [
      "100%|██████████| 5/5 [00:00<00:00,  6.67it/s]\n",
      "  0%|          | 0/20 [00:00<?, ?it/s]"
     ]
    },
    {
     "output_type": "stream",
     "name": "stdout",
     "text": [
      "\n",
      "Epoch 55 complete! Validation Loss : 0.5969119668006897\n",
      "Epoch 55 complete! Validation Accuracy : 0.7063949742268042\n",
      "Best validation loss improved from 0.5996932625770569 to 0.5969119668006897\n",
      "\n"
     ]
    },
    {
     "output_type": "stream",
     "name": "stderr",
     "text": [
      " 25%|██▌       | 5/20 [00:00<00:02,  5.94it/s]"
     ]
    },
    {
     "output_type": "stream",
     "name": "stdout",
     "text": [
      "\n",
      "Iteration 4/20 of epoch 56 complete. Loss : 0.2821807488799095 \n"
     ]
    },
    {
     "output_type": "stream",
     "name": "stderr",
     "text": [
      " 45%|████▌     | 9/20 [00:01<00:01,  5.92it/s]"
     ]
    },
    {
     "output_type": "stream",
     "name": "stdout",
     "text": [
      "\n",
      "Iteration 8/20 of epoch 56 complete. Loss : 0.28135842084884644 \n"
     ]
    },
    {
     "output_type": "stream",
     "name": "stderr",
     "text": [
      " 65%|██████▌   | 13/20 [00:02<00:01,  5.92it/s]"
     ]
    },
    {
     "output_type": "stream",
     "name": "stdout",
     "text": [
      "\n",
      "Iteration 12/20 of epoch 56 complete. Loss : 0.2725660055875778 \n"
     ]
    },
    {
     "output_type": "stream",
     "name": "stderr",
     "text": [
      " 85%|████████▌ | 17/20 [00:02<00:00,  5.93it/s]"
     ]
    },
    {
     "output_type": "stream",
     "name": "stdout",
     "text": [
      "\n",
      "Iteration 16/20 of epoch 56 complete. Loss : 0.27383530884981155 \n"
     ]
    },
    {
     "output_type": "stream",
     "name": "stderr",
     "text": [
      "100%|██████████| 20/20 [00:03<00:00,  6.19it/s]\n",
      " 20%|██        | 1/5 [00:00<00:00,  6.33it/s]"
     ]
    },
    {
     "output_type": "stream",
     "name": "stdout",
     "text": [
      "\n",
      "Iteration 20/20 of epoch 56 complete. Loss : 0.27523817121982574 \n"
     ]
    },
    {
     "output_type": "stream",
     "name": "stderr",
     "text": [
      "100%|██████████| 5/5 [00:00<00:00,  6.65it/s]\n",
      "  5%|▌         | 1/20 [00:00<00:03,  5.83it/s]"
     ]
    },
    {
     "output_type": "stream",
     "name": "stdout",
     "text": [
      "\n",
      "Epoch 56 complete! Validation Loss : 0.6019011259078979\n",
      "Epoch 56 complete! Validation Accuracy : 0.6990818298969073\n"
     ]
    },
    {
     "output_type": "stream",
     "name": "stderr",
     "text": [
      " 25%|██▌       | 5/20 [00:00<00:02,  5.88it/s]"
     ]
    },
    {
     "output_type": "stream",
     "name": "stdout",
     "text": [
      "\n",
      "Iteration 4/20 of epoch 57 complete. Loss : 0.29627249389886856 \n"
     ]
    },
    {
     "output_type": "stream",
     "name": "stderr",
     "text": [
      " 45%|████▌     | 9/20 [00:01<00:01,  5.90it/s]"
     ]
    },
    {
     "output_type": "stream",
     "name": "stdout",
     "text": [
      "\n",
      "Iteration 8/20 of epoch 57 complete. Loss : 0.2830648422241211 \n"
     ]
    },
    {
     "output_type": "stream",
     "name": "stderr",
     "text": [
      " 65%|██████▌   | 13/20 [00:02<00:01,  5.91it/s]"
     ]
    },
    {
     "output_type": "stream",
     "name": "stdout",
     "text": [
      "\n",
      "Iteration 12/20 of epoch 57 complete. Loss : 0.2623991444706917 \n"
     ]
    },
    {
     "output_type": "stream",
     "name": "stderr",
     "text": [
      " 85%|████████▌ | 17/20 [00:02<00:00,  5.91it/s]"
     ]
    },
    {
     "output_type": "stream",
     "name": "stdout",
     "text": [
      "\n",
      "Iteration 16/20 of epoch 57 complete. Loss : 0.26628558337688446 \n"
     ]
    },
    {
     "output_type": "stream",
     "name": "stderr",
     "text": [
      "100%|██████████| 20/20 [00:03<00:00,  6.18it/s]\n",
      " 20%|██        | 1/5 [00:00<00:00,  6.36it/s]"
     ]
    },
    {
     "output_type": "stream",
     "name": "stdout",
     "text": [
      "\n",
      "Iteration 20/20 of epoch 57 complete. Loss : 0.2546424902975559 \n"
     ]
    },
    {
     "output_type": "stream",
     "name": "stderr",
     "text": [
      "100%|██████████| 5/5 [00:00<00:00,  6.68it/s]\n",
      "  5%|▌         | 1/20 [00:00<00:03,  5.85it/s]"
     ]
    },
    {
     "output_type": "stream",
     "name": "stdout",
     "text": [
      "\n",
      "Epoch 57 complete! Validation Loss : 0.5980744123458862\n",
      "Epoch 57 complete! Validation Accuracy : 0.694958118556701\n"
     ]
    },
    {
     "output_type": "stream",
     "name": "stderr",
     "text": [
      " 25%|██▌       | 5/20 [00:00<00:02,  5.89it/s]"
     ]
    },
    {
     "output_type": "stream",
     "name": "stdout",
     "text": [
      "\n",
      "Iteration 4/20 of epoch 58 complete. Loss : 0.2866206243634224 \n"
     ]
    },
    {
     "output_type": "stream",
     "name": "stderr",
     "text": [
      " 45%|████▌     | 9/20 [00:01<00:01,  5.91it/s]"
     ]
    },
    {
     "output_type": "stream",
     "name": "stdout",
     "text": [
      "\n",
      "Iteration 8/20 of epoch 58 complete. Loss : 0.2684977799654007 \n"
     ]
    },
    {
     "output_type": "stream",
     "name": "stderr",
     "text": [
      " 65%|██████▌   | 13/20 [00:02<00:01,  5.90it/s]"
     ]
    },
    {
     "output_type": "stream",
     "name": "stdout",
     "text": [
      "\n",
      "Iteration 12/20 of epoch 58 complete. Loss : 0.26534758508205414 \n"
     ]
    },
    {
     "output_type": "stream",
     "name": "stderr",
     "text": [
      " 85%|████████▌ | 17/20 [00:02<00:00,  5.90it/s]"
     ]
    },
    {
     "output_type": "stream",
     "name": "stdout",
     "text": [
      "\n",
      "Iteration 16/20 of epoch 58 complete. Loss : 0.2650536224246025 \n"
     ]
    },
    {
     "output_type": "stream",
     "name": "stderr",
     "text": [
      "100%|██████████| 20/20 [00:03<00:00,  6.17it/s]\n",
      " 20%|██        | 1/5 [00:00<00:00,  6.35it/s]"
     ]
    },
    {
     "output_type": "stream",
     "name": "stdout",
     "text": [
      "\n",
      "Iteration 20/20 of epoch 58 complete. Loss : 0.27668680250644684 \n"
     ]
    },
    {
     "output_type": "stream",
     "name": "stderr",
     "text": [
      "100%|██████████| 5/5 [00:00<00:00,  6.66it/s]\n",
      "  5%|▌         | 1/20 [00:00<00:03,  5.96it/s]"
     ]
    },
    {
     "output_type": "stream",
     "name": "stdout",
     "text": [
      "\n",
      "Epoch 58 complete! Validation Loss : 0.601274824142456\n",
      "Epoch 58 complete! Validation Accuracy : 0.690270618556701\n"
     ]
    },
    {
     "output_type": "stream",
     "name": "stderr",
     "text": [
      " 25%|██▌       | 5/20 [00:00<00:02,  5.91it/s]"
     ]
    },
    {
     "output_type": "stream",
     "name": "stdout",
     "text": [
      "\n",
      "Iteration 4/20 of epoch 59 complete. Loss : 0.2575729452073574 \n"
     ]
    },
    {
     "output_type": "stream",
     "name": "stderr",
     "text": [
      " 45%|████▌     | 9/20 [00:01<00:01,  5.91it/s]"
     ]
    },
    {
     "output_type": "stream",
     "name": "stdout",
     "text": [
      "\n",
      "Iteration 8/20 of epoch 59 complete. Loss : 0.27289731055498123 \n"
     ]
    },
    {
     "output_type": "stream",
     "name": "stderr",
     "text": [
      " 65%|██████▌   | 13/20 [00:02<00:01,  5.92it/s]"
     ]
    },
    {
     "output_type": "stream",
     "name": "stdout",
     "text": [
      "\n",
      "Iteration 12/20 of epoch 59 complete. Loss : 0.2898474633693695 \n"
     ]
    },
    {
     "output_type": "stream",
     "name": "stderr",
     "text": [
      " 85%|████████▌ | 17/20 [00:02<00:00,  5.89it/s]"
     ]
    },
    {
     "output_type": "stream",
     "name": "stdout",
     "text": [
      "\n",
      "Iteration 16/20 of epoch 59 complete. Loss : 0.27774056792259216 \n"
     ]
    },
    {
     "output_type": "stream",
     "name": "stderr",
     "text": [
      "100%|██████████| 20/20 [00:03<00:00,  6.17it/s]\n",
      " 20%|██        | 1/5 [00:00<00:00,  6.33it/s]"
     ]
    },
    {
     "output_type": "stream",
     "name": "stdout",
     "text": [
      "\n",
      "Iteration 20/20 of epoch 59 complete. Loss : 0.23887166008353233 \n"
     ]
    },
    {
     "output_type": "stream",
     "name": "stderr",
     "text": [
      "100%|██████████| 5/5 [00:00<00:00,  6.69it/s]\n",
      "  5%|▌         | 1/20 [00:00<00:03,  5.96it/s]"
     ]
    },
    {
     "output_type": "stream",
     "name": "stdout",
     "text": [
      "\n",
      "Epoch 59 complete! Validation Loss : 0.6008566379547119\n",
      "Epoch 59 complete! Validation Accuracy : 0.6923969072164948\n"
     ]
    },
    {
     "output_type": "stream",
     "name": "stderr",
     "text": [
      " 25%|██▌       | 5/20 [00:00<00:02,  5.94it/s]"
     ]
    },
    {
     "output_type": "stream",
     "name": "stdout",
     "text": [
      "\n",
      "Iteration 4/20 of epoch 60 complete. Loss : 0.26234952732920647 \n"
     ]
    },
    {
     "output_type": "stream",
     "name": "stderr",
     "text": [
      " 45%|████▌     | 9/20 [00:01<00:01,  5.93it/s]"
     ]
    },
    {
     "output_type": "stream",
     "name": "stdout",
     "text": [
      "\n",
      "Iteration 8/20 of epoch 60 complete. Loss : 0.274802528321743 \n"
     ]
    },
    {
     "output_type": "stream",
     "name": "stderr",
     "text": [
      " 65%|██████▌   | 13/20 [00:02<00:01,  5.93it/s]"
     ]
    },
    {
     "output_type": "stream",
     "name": "stdout",
     "text": [
      "\n",
      "Iteration 12/20 of epoch 60 complete. Loss : 0.2660732567310333 \n"
     ]
    },
    {
     "output_type": "stream",
     "name": "stderr",
     "text": [
      " 85%|████████▌ | 17/20 [00:02<00:00,  5.93it/s]"
     ]
    },
    {
     "output_type": "stream",
     "name": "stdout",
     "text": [
      "\n",
      "Iteration 16/20 of epoch 60 complete. Loss : 0.26388660818338394 \n"
     ]
    },
    {
     "output_type": "stream",
     "name": "stderr",
     "text": [
      "100%|██████████| 20/20 [00:03<00:00,  6.21it/s]\n",
      " 20%|██        | 1/5 [00:00<00:00,  6.33it/s]"
     ]
    },
    {
     "output_type": "stream",
     "name": "stdout",
     "text": [
      "\n",
      "Iteration 20/20 of epoch 60 complete. Loss : 0.273436538875103 \n"
     ]
    },
    {
     "output_type": "stream",
     "name": "stderr",
     "text": [
      "100%|██████████| 5/5 [00:00<00:00,  6.69it/s]\n",
      "  0%|          | 0/20 [00:00<?, ?it/s]"
     ]
    },
    {
     "output_type": "stream",
     "name": "stdout",
     "text": [
      "\n",
      "Epoch 60 complete! Validation Loss : 0.595945143699646\n",
      "Epoch 60 complete! Validation Accuracy : 0.693395618556701\n",
      "Best validation loss improved from 0.5969119668006897 to 0.595945143699646\n",
      "\n"
     ]
    },
    {
     "output_type": "stream",
     "name": "stderr",
     "text": [
      " 25%|██▌       | 5/20 [00:00<00:02,  5.92it/s]"
     ]
    },
    {
     "output_type": "stream",
     "name": "stdout",
     "text": [
      "\n",
      "Iteration 4/20 of epoch 61 complete. Loss : 0.27420923113822937 \n"
     ]
    },
    {
     "output_type": "stream",
     "name": "stderr",
     "text": [
      " 45%|████▌     | 9/20 [00:01<00:01,  5.93it/s]"
     ]
    },
    {
     "output_type": "stream",
     "name": "stdout",
     "text": [
      "\n",
      "Iteration 8/20 of epoch 61 complete. Loss : 0.25761158019304276 \n"
     ]
    },
    {
     "output_type": "stream",
     "name": "stderr",
     "text": [
      " 65%|██████▌   | 13/20 [00:02<00:01,  5.92it/s]"
     ]
    },
    {
     "output_type": "stream",
     "name": "stdout",
     "text": [
      "\n",
      "Iteration 12/20 of epoch 61 complete. Loss : 0.2566509321331978 \n"
     ]
    },
    {
     "output_type": "stream",
     "name": "stderr",
     "text": [
      " 85%|████████▌ | 17/20 [00:02<00:00,  5.92it/s]"
     ]
    },
    {
     "output_type": "stream",
     "name": "stdout",
     "text": [
      "\n",
      "Iteration 16/20 of epoch 61 complete. Loss : 0.27381252497434616 \n"
     ]
    },
    {
     "output_type": "stream",
     "name": "stderr",
     "text": [
      "100%|██████████| 20/20 [00:03<00:00,  6.19it/s]\n",
      " 20%|██        | 1/5 [00:00<00:00,  6.30it/s]"
     ]
    },
    {
     "output_type": "stream",
     "name": "stdout",
     "text": [
      "\n",
      "Iteration 20/20 of epoch 61 complete. Loss : 0.27031121775507927 \n"
     ]
    },
    {
     "output_type": "stream",
     "name": "stderr",
     "text": [
      "100%|██████████| 5/5 [00:00<00:00,  6.65it/s]\n",
      "  5%|▌         | 1/20 [00:00<00:03,  6.03it/s]"
     ]
    },
    {
     "output_type": "stream",
     "name": "stdout",
     "text": [
      "\n",
      "Epoch 61 complete! Validation Loss : 0.594865906238556\n",
      "Epoch 61 complete! Validation Accuracy : 0.6943943298969073\n",
      "Best validation loss improved from 0.595945143699646 to 0.594865906238556\n",
      "\n"
     ]
    },
    {
     "output_type": "stream",
     "name": "stderr",
     "text": [
      " 25%|██▌       | 5/20 [00:00<00:02,  5.95it/s]"
     ]
    },
    {
     "output_type": "stream",
     "name": "stdout",
     "text": [
      "\n",
      "Iteration 4/20 of epoch 62 complete. Loss : 0.2665899023413658 \n"
     ]
    },
    {
     "output_type": "stream",
     "name": "stderr",
     "text": [
      " 45%|████▌     | 9/20 [00:01<00:01,  5.91it/s]"
     ]
    },
    {
     "output_type": "stream",
     "name": "stdout",
     "text": [
      "\n",
      "Iteration 8/20 of epoch 62 complete. Loss : 0.267987497150898 \n"
     ]
    },
    {
     "output_type": "stream",
     "name": "stderr",
     "text": [
      " 65%|██████▌   | 13/20 [00:02<00:01,  5.93it/s]"
     ]
    },
    {
     "output_type": "stream",
     "name": "stdout",
     "text": [
      "\n",
      "Iteration 12/20 of epoch 62 complete. Loss : 0.24737237766385078 \n"
     ]
    },
    {
     "output_type": "stream",
     "name": "stderr",
     "text": [
      " 85%|████████▌ | 17/20 [00:02<00:00,  5.93it/s]"
     ]
    },
    {
     "output_type": "stream",
     "name": "stdout",
     "text": [
      "\n",
      "Iteration 16/20 of epoch 62 complete. Loss : 0.2560332305729389 \n"
     ]
    },
    {
     "output_type": "stream",
     "name": "stderr",
     "text": [
      "100%|██████████| 20/20 [00:03<00:00,  6.20it/s]\n",
      " 20%|██        | 1/5 [00:00<00:00,  6.37it/s]"
     ]
    },
    {
     "output_type": "stream",
     "name": "stdout",
     "text": [
      "\n",
      "Iteration 20/20 of epoch 62 complete. Loss : 0.26083729416131973 \n"
     ]
    },
    {
     "output_type": "stream",
     "name": "stderr",
     "text": [
      "100%|██████████| 5/5 [00:00<00:00,  6.68it/s]\n",
      "  5%|▌         | 1/20 [00:00<00:03,  5.93it/s]"
     ]
    },
    {
     "output_type": "stream",
     "name": "stdout",
     "text": [
      "\n",
      "Epoch 62 complete! Validation Loss : 0.6030044674873352\n",
      "Epoch 62 complete! Validation Accuracy : 0.6923324742268042\n"
     ]
    },
    {
     "output_type": "stream",
     "name": "stderr",
     "text": [
      " 25%|██▌       | 5/20 [00:00<00:02,  5.93it/s]"
     ]
    },
    {
     "output_type": "stream",
     "name": "stdout",
     "text": [
      "\n",
      "Iteration 4/20 of epoch 63 complete. Loss : 0.258981816470623 \n"
     ]
    },
    {
     "output_type": "stream",
     "name": "stderr",
     "text": [
      " 45%|████▌     | 9/20 [00:01<00:01,  5.93it/s]"
     ]
    },
    {
     "output_type": "stream",
     "name": "stdout",
     "text": [
      "\n",
      "Iteration 8/20 of epoch 63 complete. Loss : 0.2473124824464321 \n"
     ]
    },
    {
     "output_type": "stream",
     "name": "stderr",
     "text": [
      " 65%|██████▌   | 13/20 [00:02<00:01,  5.90it/s]"
     ]
    },
    {
     "output_type": "stream",
     "name": "stdout",
     "text": [
      "\n",
      "Iteration 12/20 of epoch 63 complete. Loss : 0.25341932848095894 \n"
     ]
    },
    {
     "output_type": "stream",
     "name": "stderr",
     "text": [
      " 85%|████████▌ | 17/20 [00:02<00:00,  5.91it/s]"
     ]
    },
    {
     "output_type": "stream",
     "name": "stdout",
     "text": [
      "\n",
      "Iteration 16/20 of epoch 63 complete. Loss : 0.2714899033308029 \n"
     ]
    },
    {
     "output_type": "stream",
     "name": "stderr",
     "text": [
      "100%|██████████| 20/20 [00:03<00:00,  6.19it/s]\n",
      " 20%|██        | 1/5 [00:00<00:00,  6.32it/s]"
     ]
    },
    {
     "output_type": "stream",
     "name": "stdout",
     "text": [
      "\n",
      "Iteration 20/20 of epoch 63 complete. Loss : 0.295944981276989 \n"
     ]
    },
    {
     "output_type": "stream",
     "name": "stderr",
     "text": [
      "100%|██████████| 5/5 [00:00<00:00,  6.69it/s]\n",
      "  5%|▌         | 1/20 [00:00<00:03,  5.96it/s]"
     ]
    },
    {
     "output_type": "stream",
     "name": "stdout",
     "text": [
      "\n",
      "Epoch 63 complete! Validation Loss : 0.6063186168670655\n",
      "Epoch 63 complete! Validation Accuracy : 0.6881443298969072\n"
     ]
    },
    {
     "output_type": "stream",
     "name": "stderr",
     "text": [
      " 25%|██▌       | 5/20 [00:00<00:02,  5.93it/s]"
     ]
    },
    {
     "output_type": "stream",
     "name": "stdout",
     "text": [
      "\n",
      "Iteration 4/20 of epoch 64 complete. Loss : 0.2518935278058052 \n"
     ]
    },
    {
     "output_type": "stream",
     "name": "stderr",
     "text": [
      " 45%|████▌     | 9/20 [00:01<00:01,  5.93it/s]"
     ]
    },
    {
     "output_type": "stream",
     "name": "stdout",
     "text": [
      "\n",
      "Iteration 8/20 of epoch 64 complete. Loss : 0.2559098079800606 \n"
     ]
    },
    {
     "output_type": "stream",
     "name": "stderr",
     "text": [
      " 65%|██████▌   | 13/20 [00:02<00:01,  5.89it/s]"
     ]
    },
    {
     "output_type": "stream",
     "name": "stdout",
     "text": [
      "\n",
      "Iteration 12/20 of epoch 64 complete. Loss : 0.2529890686273575 \n"
     ]
    },
    {
     "output_type": "stream",
     "name": "stderr",
     "text": [
      " 85%|████████▌ | 17/20 [00:02<00:00,  5.92it/s]"
     ]
    },
    {
     "output_type": "stream",
     "name": "stdout",
     "text": [
      "\n",
      "Iteration 16/20 of epoch 64 complete. Loss : 0.26410236209630966 \n"
     ]
    },
    {
     "output_type": "stream",
     "name": "stderr",
     "text": [
      "100%|██████████| 20/20 [00:03<00:00,  6.20it/s]\n",
      " 20%|██        | 1/5 [00:00<00:00,  6.33it/s]"
     ]
    },
    {
     "output_type": "stream",
     "name": "stdout",
     "text": [
      "\n",
      "Iteration 20/20 of epoch 64 complete. Loss : 0.27219676226377487 \n"
     ]
    },
    {
     "output_type": "stream",
     "name": "stderr",
     "text": [
      "100%|██████████| 5/5 [00:00<00:00,  6.68it/s]\n",
      "  5%|▌         | 1/20 [00:00<00:03,  5.94it/s]"
     ]
    },
    {
     "output_type": "stream",
     "name": "stdout",
     "text": [
      "\n",
      "Epoch 64 complete! Validation Loss : 0.6050744771957397\n",
      "Epoch 64 complete! Validation Accuracy : 0.6818943298969072\n"
     ]
    },
    {
     "output_type": "stream",
     "name": "stderr",
     "text": [
      " 25%|██▌       | 5/20 [00:00<00:02,  5.94it/s]"
     ]
    },
    {
     "output_type": "stream",
     "name": "stdout",
     "text": [
      "\n",
      "Iteration 4/20 of epoch 65 complete. Loss : 0.23885685205459595 \n"
     ]
    },
    {
     "output_type": "stream",
     "name": "stderr",
     "text": [
      " 45%|████▌     | 9/20 [00:01<00:01,  5.93it/s]"
     ]
    },
    {
     "output_type": "stream",
     "name": "stdout",
     "text": [
      "\n",
      "Iteration 8/20 of epoch 65 complete. Loss : 0.2666916996240616 \n"
     ]
    },
    {
     "output_type": "stream",
     "name": "stderr",
     "text": [
      " 65%|██████▌   | 13/20 [00:02<00:01,  5.93it/s]"
     ]
    },
    {
     "output_type": "stream",
     "name": "stdout",
     "text": [
      "\n",
      "Iteration 12/20 of epoch 65 complete. Loss : 0.2442518286406994 \n"
     ]
    },
    {
     "output_type": "stream",
     "name": "stderr",
     "text": [
      " 85%|████████▌ | 17/20 [00:02<00:00,  5.93it/s]"
     ]
    },
    {
     "output_type": "stream",
     "name": "stdout",
     "text": [
      "\n",
      "Iteration 16/20 of epoch 65 complete. Loss : 0.2597552314400673 \n"
     ]
    },
    {
     "output_type": "stream",
     "name": "stderr",
     "text": [
      "100%|██████████| 20/20 [00:03<00:00,  6.21it/s]\n",
      " 20%|██        | 1/5 [00:00<00:00,  6.44it/s]"
     ]
    },
    {
     "output_type": "stream",
     "name": "stdout",
     "text": [
      "\n",
      "Iteration 20/20 of epoch 65 complete. Loss : 0.25711604580283165 \n"
     ]
    },
    {
     "output_type": "stream",
     "name": "stderr",
     "text": [
      "100%|██████████| 5/5 [00:00<00:00,  6.68it/s]\n",
      "  5%|▌         | 1/20 [00:00<00:03,  5.97it/s]"
     ]
    },
    {
     "output_type": "stream",
     "name": "stdout",
     "text": [
      "\n",
      "Epoch 65 complete! Validation Loss : 0.609147560596466\n",
      "Epoch 65 complete! Validation Accuracy : 0.6928318298969073\n"
     ]
    },
    {
     "output_type": "stream",
     "name": "stderr",
     "text": [
      " 25%|██▌       | 5/20 [00:00<00:02,  5.94it/s]"
     ]
    },
    {
     "output_type": "stream",
     "name": "stdout",
     "text": [
      "\n",
      "Iteration 4/20 of epoch 66 complete. Loss : 0.25155971199274063 \n"
     ]
    },
    {
     "output_type": "stream",
     "name": "stderr",
     "text": [
      " 45%|████▌     | 9/20 [00:01<00:01,  5.91it/s]"
     ]
    },
    {
     "output_type": "stream",
     "name": "stdout",
     "text": [
      "\n",
      "Iteration 8/20 of epoch 66 complete. Loss : 0.24800492078065872 \n"
     ]
    },
    {
     "output_type": "stream",
     "name": "stderr",
     "text": [
      " 65%|██████▌   | 13/20 [00:02<00:01,  5.93it/s]"
     ]
    },
    {
     "output_type": "stream",
     "name": "stdout",
     "text": [
      "\n",
      "Iteration 12/20 of epoch 66 complete. Loss : 0.2485198937356472 \n"
     ]
    },
    {
     "output_type": "stream",
     "name": "stderr",
     "text": [
      " 85%|████████▌ | 17/20 [00:02<00:00,  5.90it/s]"
     ]
    },
    {
     "output_type": "stream",
     "name": "stdout",
     "text": [
      "\n",
      "Iteration 16/20 of epoch 66 complete. Loss : 0.2595769949257374 \n"
     ]
    },
    {
     "output_type": "stream",
     "name": "stderr",
     "text": [
      "100%|██████████| 20/20 [00:03<00:00,  6.18it/s]\n",
      " 20%|██        | 1/5 [00:00<00:00,  6.35it/s]"
     ]
    },
    {
     "output_type": "stream",
     "name": "stdout",
     "text": [
      "\n",
      "Iteration 20/20 of epoch 66 complete. Loss : 0.29253365471959114 \n"
     ]
    },
    {
     "output_type": "stream",
     "name": "stderr",
     "text": [
      "100%|██████████| 5/5 [00:00<00:00,  6.69it/s]\n",
      "  5%|▌         | 1/20 [00:00<00:03,  5.96it/s]"
     ]
    },
    {
     "output_type": "stream",
     "name": "stdout",
     "text": [
      "\n",
      "Epoch 66 complete! Validation Loss : 0.6262067198753357\n",
      "Epoch 66 complete! Validation Accuracy : 0.663708118556701\n"
     ]
    },
    {
     "output_type": "stream",
     "name": "stderr",
     "text": [
      " 25%|██▌       | 5/20 [00:00<00:02,  5.93it/s]"
     ]
    },
    {
     "output_type": "stream",
     "name": "stdout",
     "text": [
      "\n",
      "Iteration 4/20 of epoch 67 complete. Loss : 0.2481599524617195 \n"
     ]
    },
    {
     "output_type": "stream",
     "name": "stderr",
     "text": [
      " 45%|████▌     | 9/20 [00:01<00:01,  5.93it/s]"
     ]
    },
    {
     "output_type": "stream",
     "name": "stdout",
     "text": [
      "\n",
      "Iteration 8/20 of epoch 67 complete. Loss : 0.24685806035995483 \n"
     ]
    },
    {
     "output_type": "stream",
     "name": "stderr",
     "text": [
      " 65%|██████▌   | 13/20 [00:02<00:01,  5.92it/s]"
     ]
    },
    {
     "output_type": "stream",
     "name": "stdout",
     "text": [
      "\n",
      "Iteration 12/20 of epoch 67 complete. Loss : 0.24599459767341614 \n"
     ]
    },
    {
     "output_type": "stream",
     "name": "stderr",
     "text": [
      " 85%|████████▌ | 17/20 [00:02<00:00,  5.90it/s]"
     ]
    },
    {
     "output_type": "stream",
     "name": "stdout",
     "text": [
      "\n",
      "Iteration 16/20 of epoch 67 complete. Loss : 0.2502127178013325 \n"
     ]
    },
    {
     "output_type": "stream",
     "name": "stderr",
     "text": [
      "100%|██████████| 20/20 [00:03<00:00,  6.19it/s]\n",
      " 20%|██        | 1/5 [00:00<00:00,  6.35it/s]"
     ]
    },
    {
     "output_type": "stream",
     "name": "stdout",
     "text": [
      "\n",
      "Iteration 20/20 of epoch 67 complete. Loss : 0.2942313738167286 \n"
     ]
    },
    {
     "output_type": "stream",
     "name": "stderr",
     "text": [
      "100%|██████████| 5/5 [00:00<00:00,  6.67it/s]\n",
      "  5%|▌         | 1/20 [00:00<00:03,  5.96it/s]"
     ]
    },
    {
     "output_type": "stream",
     "name": "stdout",
     "text": [
      "\n",
      "Epoch 67 complete! Validation Loss : 0.619365680217743\n",
      "Epoch 67 complete! Validation Accuracy : 0.677770618556701\n"
     ]
    },
    {
     "output_type": "stream",
     "name": "stderr",
     "text": [
      " 25%|██▌       | 5/20 [00:00<00:02,  5.92it/s]"
     ]
    },
    {
     "output_type": "stream",
     "name": "stdout",
     "text": [
      "\n",
      "Iteration 4/20 of epoch 68 complete. Loss : 0.23617199063301086 \n"
     ]
    },
    {
     "output_type": "stream",
     "name": "stderr",
     "text": [
      " 45%|████▌     | 9/20 [00:01<00:01,  5.93it/s]"
     ]
    },
    {
     "output_type": "stream",
     "name": "stdout",
     "text": [
      "\n",
      "Iteration 8/20 of epoch 68 complete. Loss : 0.2504722438752651 \n"
     ]
    },
    {
     "output_type": "stream",
     "name": "stderr",
     "text": [
      " 65%|██████▌   | 13/20 [00:02<00:01,  5.89it/s]"
     ]
    },
    {
     "output_type": "stream",
     "name": "stdout",
     "text": [
      "\n",
      "Iteration 12/20 of epoch 68 complete. Loss : 0.24699459224939346 \n"
     ]
    },
    {
     "output_type": "stream",
     "name": "stderr",
     "text": [
      " 85%|████████▌ | 17/20 [00:02<00:00,  5.92it/s]"
     ]
    },
    {
     "output_type": "stream",
     "name": "stdout",
     "text": [
      "\n",
      "Iteration 16/20 of epoch 68 complete. Loss : 0.254346814006567 \n"
     ]
    },
    {
     "output_type": "stream",
     "name": "stderr",
     "text": [
      "100%|██████████| 20/20 [00:03<00:00,  6.18it/s]\n",
      " 20%|██        | 1/5 [00:00<00:00,  6.34it/s]"
     ]
    },
    {
     "output_type": "stream",
     "name": "stdout",
     "text": [
      "\n",
      "Iteration 20/20 of epoch 68 complete. Loss : 0.24709201231598854 \n"
     ]
    },
    {
     "output_type": "stream",
     "name": "stderr",
     "text": [
      "100%|██████████| 5/5 [00:00<00:00,  6.69it/s]\n",
      "  5%|▌         | 1/20 [00:00<00:03,  5.81it/s]"
     ]
    },
    {
     "output_type": "stream",
     "name": "stdout",
     "text": [
      "\n",
      "Epoch 68 complete! Validation Loss : 0.6251302003860474\n",
      "Epoch 68 complete! Validation Accuracy : 0.6725837628865979\n"
     ]
    },
    {
     "output_type": "stream",
     "name": "stderr",
     "text": [
      " 25%|██▌       | 5/20 [00:00<00:02,  5.90it/s]"
     ]
    },
    {
     "output_type": "stream",
     "name": "stdout",
     "text": [
      "\n",
      "Iteration 4/20 of epoch 69 complete. Loss : 0.2423982471227646 \n"
     ]
    },
    {
     "output_type": "stream",
     "name": "stderr",
     "text": [
      " 45%|████▌     | 9/20 [00:01<00:01,  5.93it/s]"
     ]
    },
    {
     "output_type": "stream",
     "name": "stdout",
     "text": [
      "\n",
      "Iteration 8/20 of epoch 69 complete. Loss : 0.22684114426374435 \n"
     ]
    },
    {
     "output_type": "stream",
     "name": "stderr",
     "text": [
      " 65%|██████▌   | 13/20 [00:02<00:01,  5.91it/s]"
     ]
    },
    {
     "output_type": "stream",
     "name": "stdout",
     "text": [
      "\n",
      "Iteration 12/20 of epoch 69 complete. Loss : 0.24490190297365189 \n"
     ]
    },
    {
     "output_type": "stream",
     "name": "stderr",
     "text": [
      " 85%|████████▌ | 17/20 [00:02<00:00,  5.87it/s]"
     ]
    },
    {
     "output_type": "stream",
     "name": "stdout",
     "text": [
      "\n",
      "Iteration 16/20 of epoch 69 complete. Loss : 0.25028323754668236 \n"
     ]
    },
    {
     "output_type": "stream",
     "name": "stderr",
     "text": [
      "100%|██████████| 20/20 [00:03<00:00,  6.17it/s]\n",
      " 20%|██        | 1/5 [00:00<00:00,  6.28it/s]"
     ]
    },
    {
     "output_type": "stream",
     "name": "stdout",
     "text": [
      "\n",
      "Iteration 20/20 of epoch 69 complete. Loss : 0.24528181925415993 \n"
     ]
    },
    {
     "output_type": "stream",
     "name": "stderr",
     "text": [
      "100%|██████████| 5/5 [00:00<00:00,  6.62it/s]\n",
      "  5%|▌         | 1/20 [00:00<00:03,  5.95it/s]"
     ]
    },
    {
     "output_type": "stream",
     "name": "stdout",
     "text": [
      "\n",
      "Epoch 69 complete! Validation Loss : 0.614775025844574\n",
      "Epoch 69 complete! Validation Accuracy : 0.6917686855670103\n"
     ]
    },
    {
     "output_type": "stream",
     "name": "stderr",
     "text": [
      " 25%|██▌       | 5/20 [00:00<00:02,  5.91it/s]"
     ]
    },
    {
     "output_type": "stream",
     "name": "stdout",
     "text": [
      "\n",
      "Iteration 4/20 of epoch 70 complete. Loss : 0.24218663573265076 \n"
     ]
    },
    {
     "output_type": "stream",
     "name": "stderr",
     "text": [
      " 45%|████▌     | 9/20 [00:01<00:01,  5.91it/s]"
     ]
    },
    {
     "output_type": "stream",
     "name": "stdout",
     "text": [
      "\n",
      "Iteration 8/20 of epoch 70 complete. Loss : 0.24539729207754135 \n"
     ]
    },
    {
     "output_type": "stream",
     "name": "stderr",
     "text": [
      " 65%|██████▌   | 13/20 [00:02<00:01,  5.91it/s]"
     ]
    },
    {
     "output_type": "stream",
     "name": "stdout",
     "text": [
      "\n",
      "Iteration 12/20 of epoch 70 complete. Loss : 0.24128605797886848 \n"
     ]
    },
    {
     "output_type": "stream",
     "name": "stderr",
     "text": [
      " 85%|████████▌ | 17/20 [00:02<00:00,  5.88it/s]"
     ]
    },
    {
     "output_type": "stream",
     "name": "stdout",
     "text": [
      "\n",
      "Iteration 16/20 of epoch 70 complete. Loss : 0.22977272793650627 \n"
     ]
    },
    {
     "output_type": "stream",
     "name": "stderr",
     "text": [
      "100%|██████████| 20/20 [00:03<00:00,  6.16it/s]\n",
      " 20%|██        | 1/5 [00:00<00:00,  6.32it/s]"
     ]
    },
    {
     "output_type": "stream",
     "name": "stdout",
     "text": [
      "\n",
      "Iteration 20/20 of epoch 70 complete. Loss : 0.25248778611421585 \n"
     ]
    },
    {
     "output_type": "stream",
     "name": "stderr",
     "text": [
      "100%|██████████| 5/5 [00:00<00:00,  6.63it/s]\n",
      "  5%|▌         | 1/20 [00:00<00:03,  5.96it/s]"
     ]
    },
    {
     "output_type": "stream",
     "name": "stdout",
     "text": [
      "\n",
      "Epoch 70 complete! Validation Loss : 0.634771752357483\n",
      "Epoch 70 complete! Validation Accuracy : 0.6714561855670104\n"
     ]
    },
    {
     "output_type": "stream",
     "name": "stderr",
     "text": [
      " 25%|██▌       | 5/20 [00:00<00:02,  5.92it/s]"
     ]
    },
    {
     "output_type": "stream",
     "name": "stdout",
     "text": [
      "\n",
      "Iteration 4/20 of epoch 71 complete. Loss : 0.222796481102705 \n"
     ]
    },
    {
     "output_type": "stream",
     "name": "stderr",
     "text": [
      " 45%|████▌     | 9/20 [00:01<00:01,  5.85it/s]"
     ]
    },
    {
     "output_type": "stream",
     "name": "stdout",
     "text": [
      "\n",
      "Iteration 8/20 of epoch 71 complete. Loss : 0.24302027374505997 \n"
     ]
    },
    {
     "output_type": "stream",
     "name": "stderr",
     "text": [
      " 65%|██████▌   | 13/20 [00:02<00:01,  5.89it/s]"
     ]
    },
    {
     "output_type": "stream",
     "name": "stdout",
     "text": [
      "\n",
      "Iteration 12/20 of epoch 71 complete. Loss : 0.23489342257380486 \n"
     ]
    },
    {
     "output_type": "stream",
     "name": "stderr",
     "text": [
      " 85%|████████▌ | 17/20 [00:02<00:00,  5.90it/s]"
     ]
    },
    {
     "output_type": "stream",
     "name": "stdout",
     "text": [
      "\n",
      "Iteration 16/20 of epoch 71 complete. Loss : 0.23852965980768204 \n"
     ]
    },
    {
     "output_type": "stream",
     "name": "stderr",
     "text": [
      "100%|██████████| 20/20 [00:03<00:00,  6.16it/s]\n",
      " 20%|██        | 1/5 [00:00<00:00,  6.43it/s]"
     ]
    },
    {
     "output_type": "stream",
     "name": "stdout",
     "text": [
      "\n",
      "Iteration 20/20 of epoch 71 complete. Loss : 0.24741806089878082 \n"
     ]
    },
    {
     "output_type": "stream",
     "name": "stderr",
     "text": [
      "100%|██████████| 5/5 [00:00<00:00,  6.66it/s]\n",
      "  5%|▌         | 1/20 [00:00<00:03,  5.96it/s]"
     ]
    },
    {
     "output_type": "stream",
     "name": "stdout",
     "text": [
      "\n",
      "Epoch 71 complete! Validation Loss : 0.6265226125717163\n",
      "Epoch 71 complete! Validation Accuracy : 0.6813949742268042\n"
     ]
    },
    {
     "output_type": "stream",
     "name": "stderr",
     "text": [
      " 25%|██▌       | 5/20 [00:00<00:02,  5.93it/s]"
     ]
    },
    {
     "output_type": "stream",
     "name": "stdout",
     "text": [
      "\n",
      "Iteration 4/20 of epoch 72 complete. Loss : 0.2249382622539997 \n"
     ]
    },
    {
     "output_type": "stream",
     "name": "stderr",
     "text": [
      " 45%|████▌     | 9/20 [00:01<00:01,  5.86it/s]"
     ]
    },
    {
     "output_type": "stream",
     "name": "stdout",
     "text": [
      "\n",
      "Iteration 8/20 of epoch 72 complete. Loss : 0.2465284988284111 \n"
     ]
    },
    {
     "output_type": "stream",
     "name": "stderr",
     "text": [
      " 65%|██████▌   | 13/20 [00:02<00:01,  5.91it/s]"
     ]
    },
    {
     "output_type": "stream",
     "name": "stdout",
     "text": [
      "\n",
      "Iteration 12/20 of epoch 72 complete. Loss : 0.22996079176664352 \n"
     ]
    },
    {
     "output_type": "stream",
     "name": "stderr",
     "text": [
      " 85%|████████▌ | 17/20 [00:02<00:00,  5.90it/s]"
     ]
    },
    {
     "output_type": "stream",
     "name": "stdout",
     "text": [
      "\n",
      "Iteration 16/20 of epoch 72 complete. Loss : 0.2407582737505436 \n"
     ]
    },
    {
     "output_type": "stream",
     "name": "stderr",
     "text": [
      "100%|██████████| 20/20 [00:03<00:00,  6.17it/s]\n",
      " 20%|██        | 1/5 [00:00<00:00,  6.49it/s]"
     ]
    },
    {
     "output_type": "stream",
     "name": "stdout",
     "text": [
      "\n",
      "Iteration 20/20 of epoch 72 complete. Loss : 0.2827438786625862 \n"
     ]
    },
    {
     "output_type": "stream",
     "name": "stderr",
     "text": [
      "100%|██████████| 5/5 [00:00<00:00,  6.67it/s]\n",
      "  5%|▌         | 1/20 [00:00<00:03,  5.95it/s]"
     ]
    },
    {
     "output_type": "stream",
     "name": "stdout",
     "text": [
      "\n",
      "Epoch 72 complete! Validation Loss : 0.634553325176239\n",
      "Epoch 72 complete! Validation Accuracy : 0.6740818298969072\n"
     ]
    },
    {
     "output_type": "stream",
     "name": "stderr",
     "text": [
      " 25%|██▌       | 5/20 [00:00<00:02,  5.91it/s]"
     ]
    },
    {
     "output_type": "stream",
     "name": "stdout",
     "text": [
      "\n",
      "Iteration 4/20 of epoch 73 complete. Loss : 0.229108028113842 \n"
     ]
    },
    {
     "output_type": "stream",
     "name": "stderr",
     "text": [
      " 45%|████▌     | 9/20 [00:01<00:01,  5.84it/s]"
     ]
    },
    {
     "output_type": "stream",
     "name": "stdout",
     "text": [
      "\n",
      "Iteration 8/20 of epoch 73 complete. Loss : 0.2223476879298687 \n"
     ]
    },
    {
     "output_type": "stream",
     "name": "stderr",
     "text": [
      " 65%|██████▌   | 13/20 [00:02<00:01,  5.88it/s]"
     ]
    },
    {
     "output_type": "stream",
     "name": "stdout",
     "text": [
      "\n",
      "Iteration 12/20 of epoch 73 complete. Loss : 0.23074399679899216 \n"
     ]
    },
    {
     "output_type": "stream",
     "name": "stderr",
     "text": [
      " 85%|████████▌ | 17/20 [00:02<00:00,  5.85it/s]"
     ]
    },
    {
     "output_type": "stream",
     "name": "stdout",
     "text": [
      "\n",
      "Iteration 16/20 of epoch 73 complete. Loss : 0.25322818011045456 \n"
     ]
    },
    {
     "output_type": "stream",
     "name": "stderr",
     "text": [
      "100%|██████████| 20/20 [00:03<00:00,  6.14it/s]\n",
      " 20%|██        | 1/5 [00:00<00:00,  6.30it/s]"
     ]
    },
    {
     "output_type": "stream",
     "name": "stdout",
     "text": [
      "\n",
      "Iteration 20/20 of epoch 73 complete. Loss : 0.27733517810702324 \n"
     ]
    },
    {
     "output_type": "stream",
     "name": "stderr",
     "text": [
      "100%|██████████| 5/5 [00:00<00:00,  6.61it/s]\n",
      "  5%|▌         | 1/20 [00:00<00:03,  5.92it/s]"
     ]
    },
    {
     "output_type": "stream",
     "name": "stdout",
     "text": [
      "\n",
      "Epoch 73 complete! Validation Loss : 0.6402071595191956\n",
      "Epoch 73 complete! Validation Accuracy : 0.662145618556701\n"
     ]
    },
    {
     "output_type": "stream",
     "name": "stderr",
     "text": [
      " 25%|██▌       | 5/20 [00:00<00:02,  5.88it/s]"
     ]
    },
    {
     "output_type": "stream",
     "name": "stdout",
     "text": [
      "\n",
      "Iteration 4/20 of epoch 74 complete. Loss : 0.23614391312003136 \n"
     ]
    },
    {
     "output_type": "stream",
     "name": "stderr",
     "text": [
      " 45%|████▌     | 9/20 [00:01<00:01,  5.90it/s]"
     ]
    },
    {
     "output_type": "stream",
     "name": "stdout",
     "text": [
      "\n",
      "Iteration 8/20 of epoch 74 complete. Loss : 0.22731348872184753 \n"
     ]
    },
    {
     "output_type": "stream",
     "name": "stderr",
     "text": [
      " 65%|██████▌   | 13/20 [00:02<00:01,  5.90it/s]"
     ]
    },
    {
     "output_type": "stream",
     "name": "stdout",
     "text": [
      "\n",
      "Iteration 12/20 of epoch 74 complete. Loss : 0.251256562769413 \n"
     ]
    },
    {
     "output_type": "stream",
     "name": "stderr",
     "text": [
      " 85%|████████▌ | 17/20 [00:02<00:00,  5.91it/s]"
     ]
    },
    {
     "output_type": "stream",
     "name": "stdout",
     "text": [
      "\n",
      "Iteration 16/20 of epoch 74 complete. Loss : 0.2116122618317604 \n"
     ]
    },
    {
     "output_type": "stream",
     "name": "stderr",
     "text": [
      "100%|██████████| 20/20 [00:03<00:00,  6.16it/s]\n",
      " 20%|██        | 1/5 [00:00<00:00,  6.39it/s]"
     ]
    },
    {
     "output_type": "stream",
     "name": "stdout",
     "text": [
      "\n",
      "Iteration 20/20 of epoch 74 complete. Loss : 0.19566944614052773 \n"
     ]
    },
    {
     "output_type": "stream",
     "name": "stderr",
     "text": [
      "100%|██████████| 5/5 [00:00<00:00,  6.69it/s]\n",
      "  5%|▌         | 1/20 [00:00<00:03,  5.90it/s]"
     ]
    },
    {
     "output_type": "stream",
     "name": "stdout",
     "text": [
      "\n",
      "Epoch 74 complete! Validation Loss : 0.6404965639114379\n",
      "Epoch 74 complete! Validation Accuracy : 0.6709568298969073\n"
     ]
    },
    {
     "output_type": "stream",
     "name": "stderr",
     "text": [
      " 25%|██▌       | 5/20 [00:00<00:02,  5.88it/s]"
     ]
    },
    {
     "output_type": "stream",
     "name": "stdout",
     "text": [
      "\n",
      "Iteration 4/20 of epoch 75 complete. Loss : 0.20940429717302322 \n"
     ]
    },
    {
     "output_type": "stream",
     "name": "stderr",
     "text": [
      " 45%|████▌     | 9/20 [00:01<00:01,  5.86it/s]"
     ]
    },
    {
     "output_type": "stream",
     "name": "stdout",
     "text": [
      "\n",
      "Iteration 8/20 of epoch 75 complete. Loss : 0.24431390687823296 \n"
     ]
    },
    {
     "output_type": "stream",
     "name": "stderr",
     "text": [
      " 65%|██████▌   | 13/20 [00:02<00:01,  5.94it/s]"
     ]
    },
    {
     "output_type": "stream",
     "name": "stdout",
     "text": [
      "\n",
      "Iteration 12/20 of epoch 75 complete. Loss : 0.22851527482271194 \n"
     ]
    },
    {
     "output_type": "stream",
     "name": "stderr",
     "text": [
      " 85%|████████▌ | 17/20 [00:02<00:00,  5.86it/s]"
     ]
    },
    {
     "output_type": "stream",
     "name": "stdout",
     "text": [
      "\n",
      "Iteration 16/20 of epoch 75 complete. Loss : 0.22585368156433105 \n"
     ]
    },
    {
     "output_type": "stream",
     "name": "stderr",
     "text": [
      "100%|██████████| 20/20 [00:03<00:00,  6.15it/s]\n",
      " 20%|██        | 1/5 [00:00<00:00,  6.39it/s]"
     ]
    },
    {
     "output_type": "stream",
     "name": "stdout",
     "text": [
      "\n",
      "Iteration 20/20 of epoch 75 complete. Loss : 0.2424769289791584 \n"
     ]
    },
    {
     "output_type": "stream",
     "name": "stderr",
     "text": [
      "100%|██████████| 5/5 [00:00<00:00,  6.67it/s]\n",
      "  5%|▌         | 1/20 [00:00<00:03,  5.87it/s]"
     ]
    },
    {
     "output_type": "stream",
     "name": "stdout",
     "text": [
      "\n",
      "Epoch 75 complete! Validation Loss : 0.6767218351364136\n",
      "Epoch 75 complete! Validation Accuracy : 0.665270618556701\n"
     ]
    },
    {
     "output_type": "stream",
     "name": "stderr",
     "text": [
      " 25%|██▌       | 5/20 [00:00<00:02,  5.90it/s]"
     ]
    },
    {
     "output_type": "stream",
     "name": "stdout",
     "text": [
      "\n",
      "Iteration 4/20 of epoch 76 complete. Loss : 0.2383161075413227 \n"
     ]
    },
    {
     "output_type": "stream",
     "name": "stderr",
     "text": [
      " 45%|████▌     | 9/20 [00:01<00:01,  5.93it/s]"
     ]
    },
    {
     "output_type": "stream",
     "name": "stdout",
     "text": [
      "\n",
      "Iteration 8/20 of epoch 76 complete. Loss : 0.2356245070695877 \n"
     ]
    },
    {
     "output_type": "stream",
     "name": "stderr",
     "text": [
      " 65%|██████▌   | 13/20 [00:02<00:01,  5.89it/s]"
     ]
    },
    {
     "output_type": "stream",
     "name": "stdout",
     "text": [
      "\n",
      "Iteration 12/20 of epoch 76 complete. Loss : 0.21248429641127586 \n"
     ]
    },
    {
     "output_type": "stream",
     "name": "stderr",
     "text": [
      " 85%|████████▌ | 17/20 [00:02<00:00,  5.89it/s]"
     ]
    },
    {
     "output_type": "stream",
     "name": "stdout",
     "text": [
      "\n",
      "Iteration 16/20 of epoch 76 complete. Loss : 0.21510681882500648 \n"
     ]
    },
    {
     "output_type": "stream",
     "name": "stderr",
     "text": [
      "100%|██████████| 20/20 [00:03<00:00,  6.17it/s]\n",
      " 20%|██        | 1/5 [00:00<00:00,  6.46it/s]"
     ]
    },
    {
     "output_type": "stream",
     "name": "stdout",
     "text": [
      "\n",
      "Iteration 20/20 of epoch 76 complete. Loss : 0.23661649972200394 \n"
     ]
    },
    {
     "output_type": "stream",
     "name": "stderr",
     "text": [
      "100%|██████████| 5/5 [00:00<00:00,  6.67it/s]\n",
      "  5%|▌         | 1/20 [00:00<00:03,  6.03it/s]"
     ]
    },
    {
     "output_type": "stream",
     "name": "stdout",
     "text": [
      "\n",
      "Epoch 76 complete! Validation Loss : 0.6648156762123107\n",
      "Epoch 76 complete! Validation Accuracy : 0.6658344072164948\n"
     ]
    },
    {
     "output_type": "stream",
     "name": "stderr",
     "text": [
      " 25%|██▌       | 5/20 [00:00<00:02,  5.90it/s]"
     ]
    },
    {
     "output_type": "stream",
     "name": "stdout",
     "text": [
      "\n",
      "Iteration 4/20 of epoch 77 complete. Loss : 0.22396769747138023 \n"
     ]
    },
    {
     "output_type": "stream",
     "name": "stderr",
     "text": [
      " 45%|████▌     | 9/20 [00:01<00:01,  5.89it/s]"
     ]
    },
    {
     "output_type": "stream",
     "name": "stdout",
     "text": [
      "\n",
      "Iteration 8/20 of epoch 77 complete. Loss : 0.2191353589296341 \n"
     ]
    },
    {
     "output_type": "stream",
     "name": "stderr",
     "text": [
      " 65%|██████▌   | 13/20 [00:02<00:01,  5.86it/s]"
     ]
    },
    {
     "output_type": "stream",
     "name": "stdout",
     "text": [
      "\n",
      "Iteration 12/20 of epoch 77 complete. Loss : 0.22604123875498772 \n"
     ]
    },
    {
     "output_type": "stream",
     "name": "stderr",
     "text": [
      " 85%|████████▌ | 17/20 [00:02<00:00,  5.91it/s]"
     ]
    },
    {
     "output_type": "stream",
     "name": "stdout",
     "text": [
      "\n",
      "Iteration 16/20 of epoch 77 complete. Loss : 0.22558078542351723 \n"
     ]
    },
    {
     "output_type": "stream",
     "name": "stderr",
     "text": [
      "100%|██████████| 20/20 [00:03<00:00,  6.17it/s]\n",
      " 20%|██        | 1/5 [00:00<00:00,  6.57it/s]"
     ]
    },
    {
     "output_type": "stream",
     "name": "stdout",
     "text": [
      "\n",
      "Iteration 20/20 of epoch 77 complete. Loss : 0.23985087871551514 \n"
     ]
    },
    {
     "output_type": "stream",
     "name": "stderr",
     "text": [
      "100%|██████████| 5/5 [00:00<00:00,  6.69it/s]\n",
      "  5%|▌         | 1/20 [00:00<00:03,  5.90it/s]"
     ]
    },
    {
     "output_type": "stream",
     "name": "stdout",
     "text": [
      "\n",
      "Epoch 77 complete! Validation Loss : 0.6827131032943725\n",
      "Epoch 77 complete! Validation Accuracy : 0.6631443298969073\n"
     ]
    },
    {
     "output_type": "stream",
     "name": "stderr",
     "text": [
      " 25%|██▌       | 5/20 [00:00<00:02,  5.96it/s]"
     ]
    },
    {
     "output_type": "stream",
     "name": "stdout",
     "text": [
      "\n",
      "Iteration 4/20 of epoch 78 complete. Loss : 0.2141561023890972 \n"
     ]
    },
    {
     "output_type": "stream",
     "name": "stderr",
     "text": [
      " 45%|████▌     | 9/20 [00:01<00:01,  5.88it/s]"
     ]
    },
    {
     "output_type": "stream",
     "name": "stdout",
     "text": [
      "\n",
      "Iteration 8/20 of epoch 78 complete. Loss : 0.21974513679742813 \n"
     ]
    },
    {
     "output_type": "stream",
     "name": "stderr",
     "text": [
      " 65%|██████▌   | 13/20 [00:02<00:01,  5.91it/s]"
     ]
    },
    {
     "output_type": "stream",
     "name": "stdout",
     "text": [
      "\n",
      "Iteration 12/20 of epoch 78 complete. Loss : 0.2226412147283554 \n"
     ]
    },
    {
     "output_type": "stream",
     "name": "stderr",
     "text": [
      " 85%|████████▌ | 17/20 [00:02<00:00,  5.97it/s]"
     ]
    },
    {
     "output_type": "stream",
     "name": "stdout",
     "text": [
      "\n",
      "Iteration 16/20 of epoch 78 complete. Loss : 0.21164997294545174 \n"
     ]
    },
    {
     "output_type": "stream",
     "name": "stderr",
     "text": [
      "100%|██████████| 20/20 [00:03<00:00,  6.20it/s]\n",
      " 20%|██        | 1/5 [00:00<00:00,  6.45it/s]"
     ]
    },
    {
     "output_type": "stream",
     "name": "stdout",
     "text": [
      "\n",
      "Iteration 20/20 of epoch 78 complete. Loss : 0.30318794399499893 \n"
     ]
    },
    {
     "output_type": "stream",
     "name": "stderr",
     "text": [
      "100%|██████████| 5/5 [00:00<00:00,  6.72it/s]\n",
      "  5%|▌         | 1/20 [00:00<00:03,  5.95it/s]"
     ]
    },
    {
     "output_type": "stream",
     "name": "stdout",
     "text": [
      "\n",
      "Epoch 78 complete! Validation Loss : 0.7037856817245484\n",
      "Epoch 78 complete! Validation Accuracy : 0.6367106958762887\n"
     ]
    },
    {
     "output_type": "stream",
     "name": "stderr",
     "text": [
      " 25%|██▌       | 5/20 [00:00<00:02,  5.96it/s]"
     ]
    },
    {
     "output_type": "stream",
     "name": "stdout",
     "text": [
      "\n",
      "Iteration 4/20 of epoch 79 complete. Loss : 0.2266375571489334 \n"
     ]
    },
    {
     "output_type": "stream",
     "name": "stderr",
     "text": [
      " 45%|████▌     | 9/20 [00:01<00:01,  5.93it/s]"
     ]
    },
    {
     "output_type": "stream",
     "name": "stdout",
     "text": [
      "\n",
      "Iteration 8/20 of epoch 79 complete. Loss : 0.24895579740405083 \n"
     ]
    },
    {
     "output_type": "stream",
     "name": "stderr",
     "text": [
      " 65%|██████▌   | 13/20 [00:02<00:01,  5.92it/s]"
     ]
    },
    {
     "output_type": "stream",
     "name": "stdout",
     "text": [
      "\n",
      "Iteration 12/20 of epoch 79 complete. Loss : 0.20978287234902382 \n"
     ]
    },
    {
     "output_type": "stream",
     "name": "stderr",
     "text": [
      " 85%|████████▌ | 17/20 [00:02<00:00,  5.93it/s]"
     ]
    },
    {
     "output_type": "stream",
     "name": "stdout",
     "text": [
      "\n",
      "Iteration 16/20 of epoch 79 complete. Loss : 0.24763328582048416 \n"
     ]
    },
    {
     "output_type": "stream",
     "name": "stderr",
     "text": [
      "100%|██████████| 20/20 [00:03<00:00,  6.20it/s]\n",
      " 20%|██        | 1/5 [00:00<00:00,  6.31it/s]"
     ]
    },
    {
     "output_type": "stream",
     "name": "stdout",
     "text": [
      "\n",
      "Iteration 20/20 of epoch 79 complete. Loss : 0.2586347870528698 \n"
     ]
    },
    {
     "output_type": "stream",
     "name": "stderr",
     "text": [
      "100%|██████████| 5/5 [00:00<00:00,  6.63it/s]\n",
      "  5%|▌         | 1/20 [00:00<00:03,  5.96it/s]"
     ]
    },
    {
     "output_type": "stream",
     "name": "stdout",
     "text": [
      "\n",
      "Epoch 79 complete! Validation Loss : 0.7008078694343567\n",
      "Epoch 79 complete! Validation Accuracy : 0.6564594072164949\n"
     ]
    },
    {
     "output_type": "stream",
     "name": "stderr",
     "text": [
      " 25%|██▌       | 5/20 [00:00<00:02,  5.90it/s]"
     ]
    },
    {
     "output_type": "stream",
     "name": "stdout",
     "text": [
      "\n",
      "Iteration 4/20 of epoch 80 complete. Loss : 0.20912396162748337 \n"
     ]
    },
    {
     "output_type": "stream",
     "name": "stderr",
     "text": [
      " 45%|████▌     | 9/20 [00:01<00:01,  5.88it/s]"
     ]
    },
    {
     "output_type": "stream",
     "name": "stdout",
     "text": [
      "\n",
      "Iteration 8/20 of epoch 80 complete. Loss : 0.2145840972661972 \n"
     ]
    },
    {
     "output_type": "stream",
     "name": "stderr",
     "text": [
      " 65%|██████▌   | 13/20 [00:02<00:01,  5.89it/s]"
     ]
    },
    {
     "output_type": "stream",
     "name": "stdout",
     "text": [
      "\n",
      "Iteration 12/20 of epoch 80 complete. Loss : 0.22558637708425522 \n"
     ]
    },
    {
     "output_type": "stream",
     "name": "stderr",
     "text": [
      " 85%|████████▌ | 17/20 [00:02<00:00,  5.88it/s]"
     ]
    },
    {
     "output_type": "stream",
     "name": "stdout",
     "text": [
      "\n",
      "Iteration 16/20 of epoch 80 complete. Loss : 0.23143089562654495 \n"
     ]
    },
    {
     "output_type": "stream",
     "name": "stderr",
     "text": [
      "100%|██████████| 20/20 [00:03<00:00,  6.16it/s]\n",
      " 20%|██        | 1/5 [00:00<00:00,  6.44it/s]"
     ]
    },
    {
     "output_type": "stream",
     "name": "stdout",
     "text": [
      "\n",
      "Iteration 20/20 of epoch 80 complete. Loss : 0.2323475331068039 \n"
     ]
    },
    {
     "output_type": "stream",
     "name": "stderr",
     "text": [
      "100%|██████████| 5/5 [00:00<00:00,  6.71it/s]\n",
      "  5%|▌         | 1/20 [00:00<00:03,  5.97it/s]"
     ]
    },
    {
     "output_type": "stream",
     "name": "stdout",
     "text": [
      "\n",
      "Epoch 80 complete! Validation Loss : 0.7059327840805054\n",
      "Epoch 80 complete! Validation Accuracy : 0.6631443298969073\n"
     ]
    },
    {
     "output_type": "stream",
     "name": "stderr",
     "text": [
      " 25%|██▌       | 5/20 [00:00<00:02,  5.94it/s]"
     ]
    },
    {
     "output_type": "stream",
     "name": "stdout",
     "text": [
      "\n",
      "Iteration 4/20 of epoch 81 complete. Loss : 0.22343505918979645 \n"
     ]
    },
    {
     "output_type": "stream",
     "name": "stderr",
     "text": [
      " 45%|████▌     | 9/20 [00:01<00:01,  5.95it/s]"
     ]
    },
    {
     "output_type": "stream",
     "name": "stdout",
     "text": [
      "\n",
      "Iteration 8/20 of epoch 81 complete. Loss : 0.2302829697728157 \n"
     ]
    },
    {
     "output_type": "stream",
     "name": "stderr",
     "text": [
      " 65%|██████▌   | 13/20 [00:02<00:01,  5.96it/s]"
     ]
    },
    {
     "output_type": "stream",
     "name": "stdout",
     "text": [
      "\n",
      "Iteration 12/20 of epoch 81 complete. Loss : 0.22528710588812828 \n"
     ]
    },
    {
     "output_type": "stream",
     "name": "stderr",
     "text": [
      " 85%|████████▌ | 17/20 [00:02<00:00,  5.91it/s]"
     ]
    },
    {
     "output_type": "stream",
     "name": "stdout",
     "text": [
      "\n",
      "Iteration 16/20 of epoch 81 complete. Loss : 0.20619047060608864 \n"
     ]
    },
    {
     "output_type": "stream",
     "name": "stderr",
     "text": [
      "100%|██████████| 20/20 [00:03<00:00,  6.20it/s]\n",
      " 20%|██        | 1/5 [00:00<00:00,  6.35it/s]"
     ]
    },
    {
     "output_type": "stream",
     "name": "stdout",
     "text": [
      "\n",
      "Iteration 20/20 of epoch 81 complete. Loss : 0.2975449934601784 \n"
     ]
    },
    {
     "output_type": "stream",
     "name": "stderr",
     "text": [
      "100%|██████████| 5/5 [00:00<00:00,  6.65it/s]\n",
      "  5%|▌         | 1/20 [00:00<00:03,  5.96it/s]"
     ]
    },
    {
     "output_type": "stream",
     "name": "stdout",
     "text": [
      "\n",
      "Epoch 81 complete! Validation Loss : 0.7370662808418273\n",
      "Epoch 81 complete! Validation Accuracy : 0.6267719072164948\n"
     ]
    },
    {
     "output_type": "stream",
     "name": "stderr",
     "text": [
      " 25%|██▌       | 5/20 [00:00<00:02,  5.97it/s]"
     ]
    },
    {
     "output_type": "stream",
     "name": "stdout",
     "text": [
      "\n",
      "Iteration 4/20 of epoch 82 complete. Loss : 0.21190650016069412 \n"
     ]
    },
    {
     "output_type": "stream",
     "name": "stderr",
     "text": [
      " 45%|████▌     | 9/20 [00:01<00:01,  5.94it/s]"
     ]
    },
    {
     "output_type": "stream",
     "name": "stdout",
     "text": [
      "\n",
      "Iteration 8/20 of epoch 82 complete. Loss : 0.20650985836982727 \n"
     ]
    },
    {
     "output_type": "stream",
     "name": "stderr",
     "text": [
      " 65%|██████▌   | 13/20 [00:02<00:01,  5.91it/s]"
     ]
    },
    {
     "output_type": "stream",
     "name": "stdout",
     "text": [
      "\n",
      "Iteration 12/20 of epoch 82 complete. Loss : 0.19945557415485382 \n"
     ]
    },
    {
     "output_type": "stream",
     "name": "stderr",
     "text": [
      " 85%|████████▌ | 17/20 [00:02<00:00,  5.94it/s]"
     ]
    },
    {
     "output_type": "stream",
     "name": "stdout",
     "text": [
      "\n",
      "Iteration 16/20 of epoch 82 complete. Loss : 0.21854422613978386 \n"
     ]
    },
    {
     "output_type": "stream",
     "name": "stderr",
     "text": [
      "100%|██████████| 20/20 [00:03<00:00,  6.19it/s]\n",
      " 20%|██        | 1/5 [00:00<00:00,  6.42it/s]"
     ]
    },
    {
     "output_type": "stream",
     "name": "stdout",
     "text": [
      "\n",
      "Iteration 20/20 of epoch 82 complete. Loss : 0.21720578894019127 \n"
     ]
    },
    {
     "output_type": "stream",
     "name": "stderr",
     "text": [
      "100%|██████████| 5/5 [00:00<00:00,  6.65it/s]\n",
      "  5%|▌         | 1/20 [00:00<00:03,  5.96it/s]"
     ]
    },
    {
     "output_type": "stream",
     "name": "stdout",
     "text": [
      "\n",
      "Epoch 82 complete! Validation Loss : 0.69798583984375\n",
      "Epoch 82 complete! Validation Accuracy : 0.659020618556701\n"
     ]
    },
    {
     "output_type": "stream",
     "name": "stderr",
     "text": [
      " 25%|██▌       | 5/20 [00:00<00:02,  5.94it/s]"
     ]
    },
    {
     "output_type": "stream",
     "name": "stdout",
     "text": [
      "\n",
      "Iteration 4/20 of epoch 83 complete. Loss : 0.19936242699623108 \n"
     ]
    },
    {
     "output_type": "stream",
     "name": "stderr",
     "text": [
      " 45%|████▌     | 9/20 [00:01<00:01,  5.95it/s]"
     ]
    },
    {
     "output_type": "stream",
     "name": "stdout",
     "text": [
      "\n",
      "Iteration 8/20 of epoch 83 complete. Loss : 0.20602421462535858 \n"
     ]
    },
    {
     "output_type": "stream",
     "name": "stderr",
     "text": [
      " 65%|██████▌   | 13/20 [00:02<00:01,  5.94it/s]"
     ]
    },
    {
     "output_type": "stream",
     "name": "stdout",
     "text": [
      "\n",
      "Iteration 12/20 of epoch 83 complete. Loss : 0.1939731054008007 \n"
     ]
    },
    {
     "output_type": "stream",
     "name": "stderr",
     "text": [
      " 85%|████████▌ | 17/20 [00:02<00:00,  5.89it/s]"
     ]
    },
    {
     "output_type": "stream",
     "name": "stdout",
     "text": [
      "\n",
      "Iteration 16/20 of epoch 83 complete. Loss : 0.21997423842549324 \n"
     ]
    },
    {
     "output_type": "stream",
     "name": "stderr",
     "text": [
      "100%|██████████| 20/20 [00:03<00:00,  6.21it/s]\n",
      " 20%|██        | 1/5 [00:00<00:00,  6.42it/s]"
     ]
    },
    {
     "output_type": "stream",
     "name": "stdout",
     "text": [
      "\n",
      "Iteration 20/20 of epoch 83 complete. Loss : 0.21327002719044685 \n"
     ]
    },
    {
     "output_type": "stream",
     "name": "stderr",
     "text": [
      "100%|██████████| 5/5 [00:00<00:00,  6.68it/s]\n",
      "  5%|▌         | 1/20 [00:00<00:03,  5.94it/s]"
     ]
    },
    {
     "output_type": "stream",
     "name": "stdout",
     "text": [
      "\n",
      "Epoch 83 complete! Validation Loss : 0.6913126707077026\n",
      "Epoch 83 complete! Validation Accuracy : 0.6542686855670103\n"
     ]
    },
    {
     "output_type": "stream",
     "name": "stderr",
     "text": [
      " 25%|██▌       | 5/20 [00:00<00:02,  5.95it/s]"
     ]
    },
    {
     "output_type": "stream",
     "name": "stdout",
     "text": [
      "\n",
      "Iteration 4/20 of epoch 84 complete. Loss : 0.20380085334181786 \n"
     ]
    },
    {
     "output_type": "stream",
     "name": "stderr",
     "text": [
      " 45%|████▌     | 9/20 [00:01<00:01,  5.95it/s]"
     ]
    },
    {
     "output_type": "stream",
     "name": "stdout",
     "text": [
      "\n",
      "Iteration 8/20 of epoch 84 complete. Loss : 0.2070854753255844 \n"
     ]
    },
    {
     "output_type": "stream",
     "name": "stderr",
     "text": [
      " 65%|██████▌   | 13/20 [00:02<00:01,  5.90it/s]"
     ]
    },
    {
     "output_type": "stream",
     "name": "stdout",
     "text": [
      "\n",
      "Iteration 12/20 of epoch 84 complete. Loss : 0.18679679557681084 \n"
     ]
    },
    {
     "output_type": "stream",
     "name": "stderr",
     "text": [
      " 85%|████████▌ | 17/20 [00:02<00:00,  5.93it/s]"
     ]
    },
    {
     "output_type": "stream",
     "name": "stdout",
     "text": [
      "\n",
      "Iteration 16/20 of epoch 84 complete. Loss : 0.21713540330529213 \n"
     ]
    },
    {
     "output_type": "stream",
     "name": "stderr",
     "text": [
      "100%|██████████| 20/20 [00:03<00:00,  6.20it/s]\n",
      " 20%|██        | 1/5 [00:00<00:00,  6.53it/s]"
     ]
    },
    {
     "output_type": "stream",
     "name": "stdout",
     "text": [
      "\n",
      "Iteration 20/20 of epoch 84 complete. Loss : 0.2125510796904564 \n"
     ]
    },
    {
     "output_type": "stream",
     "name": "stderr",
     "text": [
      "100%|██████████| 5/5 [00:00<00:00,  6.66it/s]\n",
      "  5%|▌         | 1/20 [00:00<00:03,  6.03it/s]"
     ]
    },
    {
     "output_type": "stream",
     "name": "stdout",
     "text": [
      "\n",
      "Epoch 84 complete! Validation Loss : 0.724100661277771\n",
      "Epoch 84 complete! Validation Accuracy : 0.6309600515463918\n"
     ]
    },
    {
     "output_type": "stream",
     "name": "stderr",
     "text": [
      " 25%|██▌       | 5/20 [00:00<00:02,  5.98it/s]"
     ]
    },
    {
     "output_type": "stream",
     "name": "stdout",
     "text": [
      "\n",
      "Iteration 4/20 of epoch 85 complete. Loss : 0.19026892632246017 \n"
     ]
    },
    {
     "output_type": "stream",
     "name": "stderr",
     "text": [
      " 45%|████▌     | 9/20 [00:01<00:01,  5.94it/s]"
     ]
    },
    {
     "output_type": "stream",
     "name": "stdout",
     "text": [
      "\n",
      "Iteration 8/20 of epoch 85 complete. Loss : 0.2213285155594349 \n"
     ]
    },
    {
     "output_type": "stream",
     "name": "stderr",
     "text": [
      " 65%|██████▌   | 13/20 [00:02<00:01,  5.93it/s]"
     ]
    },
    {
     "output_type": "stream",
     "name": "stdout",
     "text": [
      "\n",
      "Iteration 12/20 of epoch 85 complete. Loss : 0.19913774728775024 \n"
     ]
    },
    {
     "output_type": "stream",
     "name": "stderr",
     "text": [
      " 85%|████████▌ | 17/20 [00:02<00:00,  5.96it/s]"
     ]
    },
    {
     "output_type": "stream",
     "name": "stdout",
     "text": [
      "\n",
      "Iteration 16/20 of epoch 85 complete. Loss : 0.20960665494203568 \n"
     ]
    },
    {
     "output_type": "stream",
     "name": "stderr",
     "text": [
      "100%|██████████| 20/20 [00:03<00:00,  6.21it/s]\n",
      " 20%|██        | 1/5 [00:00<00:00,  6.53it/s]"
     ]
    },
    {
     "output_type": "stream",
     "name": "stdout",
     "text": [
      "\n",
      "Iteration 20/20 of epoch 85 complete. Loss : 0.16199008002877235 \n"
     ]
    },
    {
     "output_type": "stream",
     "name": "stderr",
     "text": [
      "100%|██████████| 5/5 [00:00<00:00,  6.69it/s]\n",
      "  5%|▌         | 1/20 [00:00<00:03,  5.88it/s]"
     ]
    },
    {
     "output_type": "stream",
     "name": "stdout",
     "text": [
      "\n",
      "Epoch 85 complete! Validation Loss : 0.7190536499023438\n",
      "Epoch 85 complete! Validation Accuracy : 0.6429606958762887\n"
     ]
    },
    {
     "output_type": "stream",
     "name": "stderr",
     "text": [
      " 25%|██▌       | 5/20 [00:00<00:02,  5.94it/s]"
     ]
    },
    {
     "output_type": "stream",
     "name": "stdout",
     "text": [
      "\n",
      "Iteration 4/20 of epoch 86 complete. Loss : 0.22133909910917282 \n"
     ]
    },
    {
     "output_type": "stream",
     "name": "stderr",
     "text": [
      " 45%|████▌     | 9/20 [00:01<00:01,  5.93it/s]"
     ]
    },
    {
     "output_type": "stream",
     "name": "stdout",
     "text": [
      "\n",
      "Iteration 8/20 of epoch 86 complete. Loss : 0.19859043136239052 \n"
     ]
    },
    {
     "output_type": "stream",
     "name": "stderr",
     "text": [
      " 65%|██████▌   | 13/20 [00:02<00:01,  5.95it/s]"
     ]
    },
    {
     "output_type": "stream",
     "name": "stdout",
     "text": [
      "\n",
      "Iteration 12/20 of epoch 86 complete. Loss : 0.1907394714653492 \n"
     ]
    },
    {
     "output_type": "stream",
     "name": "stderr",
     "text": [
      " 85%|████████▌ | 17/20 [00:02<00:00,  5.94it/s]"
     ]
    },
    {
     "output_type": "stream",
     "name": "stdout",
     "text": [
      "\n",
      "Iteration 16/20 of epoch 86 complete. Loss : 0.19977550953626633 \n"
     ]
    },
    {
     "output_type": "stream",
     "name": "stderr",
     "text": [
      "100%|██████████| 20/20 [00:03<00:00,  6.20it/s]\n",
      " 20%|██        | 1/5 [00:00<00:00,  6.52it/s]"
     ]
    },
    {
     "output_type": "stream",
     "name": "stdout",
     "text": [
      "\n",
      "Iteration 20/20 of epoch 86 complete. Loss : 0.19404630362987518 \n"
     ]
    },
    {
     "output_type": "stream",
     "name": "stderr",
     "text": [
      "100%|██████████| 5/5 [00:00<00:00,  6.67it/s]\n",
      "  5%|▌         | 1/20 [00:00<00:03,  5.91it/s]"
     ]
    },
    {
     "output_type": "stream",
     "name": "stdout",
     "text": [
      "\n",
      "Epoch 86 complete! Validation Loss : 0.7234658360481262\n",
      "Epoch 86 complete! Validation Accuracy : 0.6454574742268042\n"
     ]
    },
    {
     "output_type": "stream",
     "name": "stderr",
     "text": [
      " 25%|██▌       | 5/20 [00:00<00:02,  5.94it/s]"
     ]
    },
    {
     "output_type": "stream",
     "name": "stdout",
     "text": [
      "\n",
      "Iteration 4/20 of epoch 87 complete. Loss : 0.19209504127502441 \n"
     ]
    },
    {
     "output_type": "stream",
     "name": "stderr",
     "text": [
      " 45%|████▌     | 9/20 [00:01<00:01,  5.90it/s]"
     ]
    },
    {
     "output_type": "stream",
     "name": "stdout",
     "text": [
      "\n",
      "Iteration 8/20 of epoch 87 complete. Loss : 0.20139089226722717 \n"
     ]
    },
    {
     "output_type": "stream",
     "name": "stderr",
     "text": [
      " 65%|██████▌   | 13/20 [00:02<00:01,  5.94it/s]"
     ]
    },
    {
     "output_type": "stream",
     "name": "stdout",
     "text": [
      "\n",
      "Iteration 12/20 of epoch 87 complete. Loss : 0.19856958463788033 \n"
     ]
    },
    {
     "output_type": "stream",
     "name": "stderr",
     "text": [
      " 85%|████████▌ | 17/20 [00:02<00:00,  5.93it/s]"
     ]
    },
    {
     "output_type": "stream",
     "name": "stdout",
     "text": [
      "\n",
      "Iteration 16/20 of epoch 87 complete. Loss : 0.1964629590511322 \n"
     ]
    },
    {
     "output_type": "stream",
     "name": "stderr",
     "text": [
      "100%|██████████| 20/20 [00:03<00:00,  6.20it/s]\n",
      " 20%|██        | 1/5 [00:00<00:00,  6.61it/s]"
     ]
    },
    {
     "output_type": "stream",
     "name": "stdout",
     "text": [
      "\n",
      "Iteration 20/20 of epoch 87 complete. Loss : 0.22114890068769455 \n"
     ]
    },
    {
     "output_type": "stream",
     "name": "stderr",
     "text": [
      "100%|██████████| 5/5 [00:00<00:00,  6.68it/s]\n",
      "  5%|▌         | 1/20 [00:00<00:03,  5.92it/s]"
     ]
    },
    {
     "output_type": "stream",
     "name": "stdout",
     "text": [
      "\n",
      "Epoch 87 complete! Validation Loss : 0.7335099458694458\n",
      "Epoch 87 complete! Validation Accuracy : 0.6522712628865979\n"
     ]
    },
    {
     "output_type": "stream",
     "name": "stderr",
     "text": [
      " 25%|██▌       | 5/20 [00:00<00:02,  5.92it/s]"
     ]
    },
    {
     "output_type": "stream",
     "name": "stdout",
     "text": [
      "\n",
      "Iteration 4/20 of epoch 88 complete. Loss : 0.20023902505636215 \n"
     ]
    },
    {
     "output_type": "stream",
     "name": "stderr",
     "text": [
      " 45%|████▌     | 9/20 [00:01<00:01,  5.95it/s]"
     ]
    },
    {
     "output_type": "stream",
     "name": "stdout",
     "text": [
      "\n",
      "Iteration 8/20 of epoch 88 complete. Loss : 0.19363003224134445 \n"
     ]
    },
    {
     "output_type": "stream",
     "name": "stderr",
     "text": [
      " 65%|██████▌   | 13/20 [00:02<00:01,  5.91it/s]"
     ]
    },
    {
     "output_type": "stream",
     "name": "stdout",
     "text": [
      "\n",
      "Iteration 12/20 of epoch 88 complete. Loss : 0.20439333096146584 \n"
     ]
    },
    {
     "output_type": "stream",
     "name": "stderr",
     "text": [
      " 85%|████████▌ | 17/20 [00:02<00:00,  5.95it/s]"
     ]
    },
    {
     "output_type": "stream",
     "name": "stdout",
     "text": [
      "\n",
      "Iteration 16/20 of epoch 88 complete. Loss : 0.17803602665662766 \n"
     ]
    },
    {
     "output_type": "stream",
     "name": "stderr",
     "text": [
      "100%|██████████| 20/20 [00:03<00:00,  6.20it/s]\n",
      " 20%|██        | 1/5 [00:00<00:00,  6.62it/s]"
     ]
    },
    {
     "output_type": "stream",
     "name": "stdout",
     "text": [
      "\n",
      "Iteration 20/20 of epoch 88 complete. Loss : 0.24047492071986198 \n"
     ]
    },
    {
     "output_type": "stream",
     "name": "stderr",
     "text": [
      "100%|██████████| 5/5 [00:00<00:00,  6.74it/s]\n",
      "  5%|▌         | 1/20 [00:00<00:03,  6.00it/s]"
     ]
    },
    {
     "output_type": "stream",
     "name": "stdout",
     "text": [
      "\n",
      "Epoch 88 complete! Validation Loss : 0.7648602604866028\n",
      "Epoch 88 complete! Validation Accuracy : 0.6475837628865979\n"
     ]
    },
    {
     "output_type": "stream",
     "name": "stderr",
     "text": [
      " 25%|██▌       | 5/20 [00:00<00:02,  5.96it/s]"
     ]
    },
    {
     "output_type": "stream",
     "name": "stdout",
     "text": [
      "\n",
      "Iteration 4/20 of epoch 89 complete. Loss : 0.18685216456651688 \n"
     ]
    },
    {
     "output_type": "stream",
     "name": "stderr",
     "text": [
      " 45%|████▌     | 9/20 [00:01<00:01,  5.97it/s]"
     ]
    },
    {
     "output_type": "stream",
     "name": "stdout",
     "text": [
      "\n",
      "Iteration 8/20 of epoch 89 complete. Loss : 0.18066198006272316 \n"
     ]
    },
    {
     "output_type": "stream",
     "name": "stderr",
     "text": [
      " 65%|██████▌   | 13/20 [00:02<00:01,  5.97it/s]"
     ]
    },
    {
     "output_type": "stream",
     "name": "stdout",
     "text": [
      "\n",
      "Iteration 12/20 of epoch 89 complete. Loss : 0.1879449337720871 \n"
     ]
    },
    {
     "output_type": "stream",
     "name": "stderr",
     "text": [
      " 85%|████████▌ | 17/20 [00:02<00:00,  5.93it/s]"
     ]
    },
    {
     "output_type": "stream",
     "name": "stdout",
     "text": [
      "\n",
      "Iteration 16/20 of epoch 89 complete. Loss : 0.18806323409080505 \n"
     ]
    },
    {
     "output_type": "stream",
     "name": "stderr",
     "text": [
      "100%|██████████| 20/20 [00:03<00:00,  6.22it/s]\n",
      " 20%|██        | 1/5 [00:00<00:00,  6.57it/s]"
     ]
    },
    {
     "output_type": "stream",
     "name": "stdout",
     "text": [
      "\n",
      "Iteration 20/20 of epoch 89 complete. Loss : 0.21437731012701988 \n"
     ]
    },
    {
     "output_type": "stream",
     "name": "stderr",
     "text": [
      "100%|██████████| 5/5 [00:00<00:00,  6.70it/s]\n",
      "  5%|▌         | 1/20 [00:00<00:03,  5.84it/s]"
     ]
    },
    {
     "output_type": "stream",
     "name": "stdout",
     "text": [
      "\n",
      "Epoch 89 complete! Validation Loss : 0.7686621665954589\n",
      "Epoch 89 complete! Validation Accuracy : 0.6132731958762887\n"
     ]
    },
    {
     "output_type": "stream",
     "name": "stderr",
     "text": [
      " 25%|██▌       | 5/20 [00:00<00:02,  5.90it/s]"
     ]
    },
    {
     "output_type": "stream",
     "name": "stdout",
     "text": [
      "\n",
      "Iteration 4/20 of epoch 90 complete. Loss : 0.19362260028719902 \n"
     ]
    },
    {
     "output_type": "stream",
     "name": "stderr",
     "text": [
      " 45%|████▌     | 9/20 [00:01<00:01,  5.92it/s]"
     ]
    },
    {
     "output_type": "stream",
     "name": "stdout",
     "text": [
      "\n",
      "Iteration 8/20 of epoch 90 complete. Loss : 0.1900293156504631 \n"
     ]
    },
    {
     "output_type": "stream",
     "name": "stderr",
     "text": [
      " 65%|██████▌   | 13/20 [00:02<00:01,  5.95it/s]"
     ]
    },
    {
     "output_type": "stream",
     "name": "stdout",
     "text": [
      "\n",
      "Iteration 12/20 of epoch 90 complete. Loss : 0.18154482170939445 \n"
     ]
    },
    {
     "output_type": "stream",
     "name": "stderr",
     "text": [
      " 85%|████████▌ | 17/20 [00:02<00:00,  5.92it/s]"
     ]
    },
    {
     "output_type": "stream",
     "name": "stdout",
     "text": [
      "\n",
      "Iteration 16/20 of epoch 90 complete. Loss : 0.18316175043582916 \n"
     ]
    },
    {
     "output_type": "stream",
     "name": "stderr",
     "text": [
      "100%|██████████| 20/20 [00:03<00:00,  6.20it/s]\n",
      " 20%|██        | 1/5 [00:00<00:00,  6.63it/s]"
     ]
    },
    {
     "output_type": "stream",
     "name": "stdout",
     "text": [
      "\n",
      "Iteration 20/20 of epoch 90 complete. Loss : 0.19411436468362808 \n"
     ]
    },
    {
     "output_type": "stream",
     "name": "stderr",
     "text": [
      "100%|██████████| 5/5 [00:00<00:00,  6.72it/s]\n",
      "  5%|▌         | 1/20 [00:00<00:03,  5.90it/s]"
     ]
    },
    {
     "output_type": "stream",
     "name": "stdout",
     "text": [
      "\n",
      "Epoch 90 complete! Validation Loss : 0.7646977782249451\n",
      "Epoch 90 complete! Validation Accuracy : 0.6361469072164948\n"
     ]
    },
    {
     "output_type": "stream",
     "name": "stderr",
     "text": [
      " 25%|██▌       | 5/20 [00:00<00:02,  5.91it/s]"
     ]
    },
    {
     "output_type": "stream",
     "name": "stdout",
     "text": [
      "\n",
      "Iteration 4/20 of epoch 91 complete. Loss : 0.19090081006288528 \n"
     ]
    },
    {
     "output_type": "stream",
     "name": "stderr",
     "text": [
      " 45%|████▌     | 9/20 [00:01<00:01,  5.95it/s]"
     ]
    },
    {
     "output_type": "stream",
     "name": "stdout",
     "text": [
      "\n",
      "Iteration 8/20 of epoch 91 complete. Loss : 0.17415077984333038 \n"
     ]
    },
    {
     "output_type": "stream",
     "name": "stderr",
     "text": [
      " 65%|██████▌   | 13/20 [00:02<00:01,  5.92it/s]"
     ]
    },
    {
     "output_type": "stream",
     "name": "stdout",
     "text": [
      "\n",
      "Iteration 12/20 of epoch 91 complete. Loss : 0.18125178292393684 \n"
     ]
    },
    {
     "output_type": "stream",
     "name": "stderr",
     "text": [
      " 85%|████████▌ | 17/20 [00:02<00:00,  5.93it/s]"
     ]
    },
    {
     "output_type": "stream",
     "name": "stdout",
     "text": [
      "\n",
      "Iteration 16/20 of epoch 91 complete. Loss : 0.1940256841480732 \n"
     ]
    },
    {
     "output_type": "stream",
     "name": "stderr",
     "text": [
      "100%|██████████| 20/20 [00:03<00:00,  6.20it/s]\n",
      " 20%|██        | 1/5 [00:00<00:00,  6.60it/s]"
     ]
    },
    {
     "output_type": "stream",
     "name": "stdout",
     "text": [
      "\n",
      "Iteration 20/20 of epoch 91 complete. Loss : 0.20125098526477814 \n"
     ]
    },
    {
     "output_type": "stream",
     "name": "stderr",
     "text": [
      "100%|██████████| 5/5 [00:00<00:00,  6.68it/s]\n",
      "  5%|▌         | 1/20 [00:00<00:03,  6.00it/s]"
     ]
    },
    {
     "output_type": "stream",
     "name": "stdout",
     "text": [
      "\n",
      "Epoch 91 complete! Validation Loss : 0.7931556344032288\n",
      "Epoch 91 complete! Validation Accuracy : 0.6153350515463918\n"
     ]
    },
    {
     "output_type": "stream",
     "name": "stderr",
     "text": [
      " 25%|██▌       | 5/20 [00:00<00:02,  6.00it/s]"
     ]
    },
    {
     "output_type": "stream",
     "name": "stdout",
     "text": [
      "\n",
      "Iteration 4/20 of epoch 92 complete. Loss : 0.18115194886922836 \n"
     ]
    },
    {
     "output_type": "stream",
     "name": "stderr",
     "text": [
      " 45%|████▌     | 9/20 [00:01<00:01,  5.95it/s]"
     ]
    },
    {
     "output_type": "stream",
     "name": "stdout",
     "text": [
      "\n",
      "Iteration 8/20 of epoch 92 complete. Loss : 0.16990556195378304 \n"
     ]
    },
    {
     "output_type": "stream",
     "name": "stderr",
     "text": [
      " 65%|██████▌   | 13/20 [00:02<00:01,  5.97it/s]"
     ]
    },
    {
     "output_type": "stream",
     "name": "stdout",
     "text": [
      "\n",
      "Iteration 12/20 of epoch 92 complete. Loss : 0.21589476615190506 \n"
     ]
    },
    {
     "output_type": "stream",
     "name": "stderr",
     "text": [
      " 85%|████████▌ | 17/20 [00:02<00:00,  5.96it/s]"
     ]
    },
    {
     "output_type": "stream",
     "name": "stdout",
     "text": [
      "\n",
      "Iteration 16/20 of epoch 92 complete. Loss : 0.1653820537030697 \n"
     ]
    },
    {
     "output_type": "stream",
     "name": "stderr",
     "text": [
      "100%|██████████| 20/20 [00:03<00:00,  6.24it/s]\n",
      " 20%|██        | 1/5 [00:00<00:00,  6.61it/s]"
     ]
    },
    {
     "output_type": "stream",
     "name": "stdout",
     "text": [
      "\n",
      "Iteration 20/20 of epoch 92 complete. Loss : 0.2206699401140213 \n"
     ]
    },
    {
     "output_type": "stream",
     "name": "stderr",
     "text": [
      "100%|██████████| 5/5 [00:00<00:00,  6.72it/s]\n",
      "  5%|▌         | 1/20 [00:00<00:03,  5.91it/s]"
     ]
    },
    {
     "output_type": "stream",
     "name": "stdout",
     "text": [
      "\n",
      "Epoch 92 complete! Validation Loss : 0.8075660467147827\n",
      "Epoch 92 complete! Validation Accuracy : 0.6242106958762886\n"
     ]
    },
    {
     "output_type": "stream",
     "name": "stderr",
     "text": [
      " 25%|██▌       | 5/20 [00:00<00:02,  5.96it/s]"
     ]
    },
    {
     "output_type": "stream",
     "name": "stdout",
     "text": [
      "\n",
      "Iteration 4/20 of epoch 93 complete. Loss : 0.1939125545322895 \n"
     ]
    },
    {
     "output_type": "stream",
     "name": "stderr",
     "text": [
      " 45%|████▌     | 9/20 [00:01<00:01,  5.94it/s]"
     ]
    },
    {
     "output_type": "stream",
     "name": "stdout",
     "text": [
      "\n",
      "Iteration 8/20 of epoch 93 complete. Loss : 0.17731144651770592 \n"
     ]
    },
    {
     "output_type": "stream",
     "name": "stderr",
     "text": [
      " 65%|██████▌   | 13/20 [00:02<00:01,  5.89it/s]"
     ]
    },
    {
     "output_type": "stream",
     "name": "stdout",
     "text": [
      "\n",
      "Iteration 12/20 of epoch 93 complete. Loss : 0.18442493677139282 \n"
     ]
    },
    {
     "output_type": "stream",
     "name": "stderr",
     "text": [
      " 85%|████████▌ | 17/20 [00:02<00:00,  5.88it/s]"
     ]
    },
    {
     "output_type": "stream",
     "name": "stdout",
     "text": [
      "\n",
      "Iteration 16/20 of epoch 93 complete. Loss : 0.19892854243516922 \n"
     ]
    },
    {
     "output_type": "stream",
     "name": "stderr",
     "text": [
      "100%|██████████| 20/20 [00:03<00:00,  6.18it/s]\n",
      " 20%|██        | 1/5 [00:00<00:00,  6.40it/s]"
     ]
    },
    {
     "output_type": "stream",
     "name": "stdout",
     "text": [
      "\n",
      "Iteration 20/20 of epoch 93 complete. Loss : 0.2977062314748764 \n"
     ]
    },
    {
     "output_type": "stream",
     "name": "stderr",
     "text": [
      "100%|██████████| 5/5 [00:00<00:00,  6.70it/s]\n",
      "  5%|▌         | 1/20 [00:00<00:03,  5.86it/s]"
     ]
    },
    {
     "output_type": "stream",
     "name": "stdout",
     "text": [
      "\n",
      "Epoch 93 complete! Validation Loss : 0.7975936651229858\n",
      "Epoch 93 complete! Validation Accuracy : 0.6454574742268042\n"
     ]
    },
    {
     "output_type": "stream",
     "name": "stderr",
     "text": [
      " 25%|██▌       | 5/20 [00:00<00:02,  5.94it/s]"
     ]
    },
    {
     "output_type": "stream",
     "name": "stdout",
     "text": [
      "\n",
      "Iteration 4/20 of epoch 94 complete. Loss : 0.19445940107107162 \n"
     ]
    },
    {
     "output_type": "stream",
     "name": "stderr",
     "text": [
      " 45%|████▌     | 9/20 [00:01<00:01,  5.91it/s]"
     ]
    },
    {
     "output_type": "stream",
     "name": "stdout",
     "text": [
      "\n",
      "Iteration 8/20 of epoch 94 complete. Loss : 0.1780766136944294 \n"
     ]
    },
    {
     "output_type": "stream",
     "name": "stderr",
     "text": [
      " 65%|██████▌   | 13/20 [00:02<00:01,  5.94it/s]"
     ]
    },
    {
     "output_type": "stream",
     "name": "stdout",
     "text": [
      "\n",
      "Iteration 12/20 of epoch 94 complete. Loss : 0.17984618991613388 \n"
     ]
    },
    {
     "output_type": "stream",
     "name": "stderr",
     "text": [
      " 85%|████████▌ | 17/20 [00:02<00:00,  5.94it/s]"
     ]
    },
    {
     "output_type": "stream",
     "name": "stdout",
     "text": [
      "\n",
      "Iteration 16/20 of epoch 94 complete. Loss : 0.17239847406744957 \n"
     ]
    },
    {
     "output_type": "stream",
     "name": "stderr",
     "text": [
      "100%|██████████| 20/20 [00:03<00:00,  6.20it/s]\n",
      " 20%|██        | 1/5 [00:00<00:00,  6.42it/s]"
     ]
    },
    {
     "output_type": "stream",
     "name": "stdout",
     "text": [
      "\n",
      "Iteration 20/20 of epoch 94 complete. Loss : 0.2112608626484871 \n"
     ]
    },
    {
     "output_type": "stream",
     "name": "stderr",
     "text": [
      "100%|██████████| 5/5 [00:00<00:00,  6.72it/s]\n",
      "  5%|▌         | 1/20 [00:00<00:03,  5.99it/s]"
     ]
    },
    {
     "output_type": "stream",
     "name": "stdout",
     "text": [
      "\n",
      "Epoch 94 complete! Validation Loss : 0.802619469165802\n",
      "Epoch 94 complete! Validation Accuracy : 0.6117106958762887\n"
     ]
    },
    {
     "output_type": "stream",
     "name": "stderr",
     "text": [
      " 25%|██▌       | 5/20 [00:00<00:02,  5.96it/s]"
     ]
    },
    {
     "output_type": "stream",
     "name": "stdout",
     "text": [
      "\n",
      "Iteration 4/20 of epoch 95 complete. Loss : 0.19313786551356316 \n"
     ]
    },
    {
     "output_type": "stream",
     "name": "stderr",
     "text": [
      " 45%|████▌     | 9/20 [00:01<00:01,  5.97it/s]"
     ]
    },
    {
     "output_type": "stream",
     "name": "stdout",
     "text": [
      "\n",
      "Iteration 8/20 of epoch 95 complete. Loss : 0.18470651283860207 \n"
     ]
    },
    {
     "output_type": "stream",
     "name": "stderr",
     "text": [
      " 65%|██████▌   | 13/20 [00:02<00:01,  5.96it/s]"
     ]
    },
    {
     "output_type": "stream",
     "name": "stdout",
     "text": [
      "\n",
      "Iteration 12/20 of epoch 95 complete. Loss : 0.17914754897356033 \n"
     ]
    },
    {
     "output_type": "stream",
     "name": "stderr",
     "text": [
      " 85%|████████▌ | 17/20 [00:02<00:00,  5.93it/s]"
     ]
    },
    {
     "output_type": "stream",
     "name": "stdout",
     "text": [
      "\n",
      "Iteration 16/20 of epoch 95 complete. Loss : 0.18373806774616241 \n"
     ]
    },
    {
     "output_type": "stream",
     "name": "stderr",
     "text": [
      "100%|██████████| 20/20 [00:03<00:00,  6.22it/s]\n",
      " 20%|██        | 1/5 [00:00<00:00,  6.46it/s]"
     ]
    },
    {
     "output_type": "stream",
     "name": "stdout",
     "text": [
      "\n",
      "Iteration 20/20 of epoch 95 complete. Loss : 0.18691882863640785 \n"
     ]
    },
    {
     "output_type": "stream",
     "name": "stderr",
     "text": [
      "100%|██████████| 5/5 [00:00<00:00,  6.68it/s]\n",
      "  5%|▌         | 1/20 [00:00<00:03,  6.01it/s]"
     ]
    },
    {
     "output_type": "stream",
     "name": "stdout",
     "text": [
      "\n",
      "Epoch 95 complete! Validation Loss : 0.8044183373451232\n",
      "Epoch 95 complete! Validation Accuracy : 0.6377738402061855\n"
     ]
    },
    {
     "output_type": "stream",
     "name": "stderr",
     "text": [
      " 25%|██▌       | 5/20 [00:00<00:02,  5.96it/s]"
     ]
    },
    {
     "output_type": "stream",
     "name": "stdout",
     "text": [
      "\n",
      "Iteration 4/20 of epoch 96 complete. Loss : 0.18061547353863716 \n"
     ]
    },
    {
     "output_type": "stream",
     "name": "stderr",
     "text": [
      " 45%|████▌     | 9/20 [00:01<00:01,  5.92it/s]"
     ]
    },
    {
     "output_type": "stream",
     "name": "stdout",
     "text": [
      "\n",
      "Iteration 8/20 of epoch 96 complete. Loss : 0.16866664960980415 \n"
     ]
    },
    {
     "output_type": "stream",
     "name": "stderr",
     "text": [
      " 65%|██████▌   | 13/20 [00:02<00:01,  5.93it/s]"
     ]
    },
    {
     "output_type": "stream",
     "name": "stdout",
     "text": [
      "\n",
      "Iteration 12/20 of epoch 96 complete. Loss : 0.17712432146072388 \n"
     ]
    },
    {
     "output_type": "stream",
     "name": "stderr",
     "text": [
      " 85%|████████▌ | 17/20 [00:02<00:00,  5.92it/s]"
     ]
    },
    {
     "output_type": "stream",
     "name": "stdout",
     "text": [
      "\n",
      "Iteration 16/20 of epoch 96 complete. Loss : 0.20655248314142227 \n"
     ]
    },
    {
     "output_type": "stream",
     "name": "stderr",
     "text": [
      "100%|██████████| 20/20 [00:03<00:00,  6.21it/s]\n",
      " 20%|██        | 1/5 [00:00<00:00,  6.48it/s]"
     ]
    },
    {
     "output_type": "stream",
     "name": "stdout",
     "text": [
      "\n",
      "Iteration 20/20 of epoch 96 complete. Loss : 0.15375785529613495 \n"
     ]
    },
    {
     "output_type": "stream",
     "name": "stderr",
     "text": [
      "100%|██████████| 5/5 [00:00<00:00,  6.76it/s]\n",
      "  5%|▌         | 1/20 [00:00<00:03,  5.97it/s]"
     ]
    },
    {
     "output_type": "stream",
     "name": "stdout",
     "text": [
      "\n",
      "Epoch 96 complete! Validation Loss : 0.817570686340332\n",
      "Epoch 96 complete! Validation Accuracy : 0.6293975515463918\n"
     ]
    },
    {
     "output_type": "stream",
     "name": "stderr",
     "text": [
      " 25%|██▌       | 5/20 [00:00<00:02,  5.98it/s]"
     ]
    },
    {
     "output_type": "stream",
     "name": "stdout",
     "text": [
      "\n",
      "Iteration 4/20 of epoch 97 complete. Loss : 0.18069208040833473 \n"
     ]
    },
    {
     "output_type": "stream",
     "name": "stderr",
     "text": [
      " 45%|████▌     | 9/20 [00:01<00:01,  5.96it/s]"
     ]
    },
    {
     "output_type": "stream",
     "name": "stdout",
     "text": [
      "\n",
      "Iteration 8/20 of epoch 97 complete. Loss : 0.19958118721842766 \n"
     ]
    },
    {
     "output_type": "stream",
     "name": "stderr",
     "text": [
      " 65%|██████▌   | 13/20 [00:02<00:01,  5.99it/s]"
     ]
    },
    {
     "output_type": "stream",
     "name": "stdout",
     "text": [
      "\n",
      "Iteration 12/20 of epoch 97 complete. Loss : 0.16411535069346428 \n"
     ]
    },
    {
     "output_type": "stream",
     "name": "stderr",
     "text": [
      " 85%|████████▌ | 17/20 [00:02<00:00,  5.96it/s]"
     ]
    },
    {
     "output_type": "stream",
     "name": "stdout",
     "text": [
      "\n",
      "Iteration 16/20 of epoch 97 complete. Loss : 0.17172375321388245 \n"
     ]
    },
    {
     "output_type": "stream",
     "name": "stderr",
     "text": [
      "100%|██████████| 20/20 [00:03<00:00,  6.24it/s]\n",
      " 20%|██        | 1/5 [00:00<00:00,  6.38it/s]"
     ]
    },
    {
     "output_type": "stream",
     "name": "stdout",
     "text": [
      "\n",
      "Iteration 20/20 of epoch 97 complete. Loss : 0.21561592817306519 \n"
     ]
    },
    {
     "output_type": "stream",
     "name": "stderr",
     "text": [
      "100%|██████████| 5/5 [00:00<00:00,  6.71it/s]\n",
      "  5%|▌         | 1/20 [00:00<00:03,  6.00it/s]"
     ]
    },
    {
     "output_type": "stream",
     "name": "stdout",
     "text": [
      "\n",
      "Epoch 97 complete! Validation Loss : 0.8458209991455078\n",
      "Epoch 97 complete! Validation Accuracy : 0.6444587628865979\n"
     ]
    },
    {
     "output_type": "stream",
     "name": "stderr",
     "text": [
      " 25%|██▌       | 5/20 [00:00<00:02,  5.99it/s]"
     ]
    },
    {
     "output_type": "stream",
     "name": "stdout",
     "text": [
      "\n",
      "Iteration 4/20 of epoch 98 complete. Loss : 0.19502116367220879 \n"
     ]
    },
    {
     "output_type": "stream",
     "name": "stderr",
     "text": [
      " 45%|████▌     | 9/20 [00:01<00:01,  5.98it/s]"
     ]
    },
    {
     "output_type": "stream",
     "name": "stdout",
     "text": [
      "\n",
      "Iteration 8/20 of epoch 98 complete. Loss : 0.19163764268159866 \n"
     ]
    },
    {
     "output_type": "stream",
     "name": "stderr",
     "text": [
      " 65%|██████▌   | 13/20 [00:02<00:01,  5.95it/s]"
     ]
    },
    {
     "output_type": "stream",
     "name": "stdout",
     "text": [
      "\n",
      "Iteration 12/20 of epoch 98 complete. Loss : 0.16088898852467537 \n"
     ]
    },
    {
     "output_type": "stream",
     "name": "stderr",
     "text": [
      " 85%|████████▌ | 17/20 [00:02<00:00,  5.96it/s]"
     ]
    },
    {
     "output_type": "stream",
     "name": "stdout",
     "text": [
      "\n",
      "Iteration 16/20 of epoch 98 complete. Loss : 0.17409338802099228 \n"
     ]
    },
    {
     "output_type": "stream",
     "name": "stderr",
     "text": [
      "100%|██████████| 20/20 [00:03<00:00,  6.25it/s]\n",
      " 20%|██        | 1/5 [00:00<00:00,  6.53it/s]"
     ]
    },
    {
     "output_type": "stream",
     "name": "stdout",
     "text": [
      "\n",
      "Iteration 20/20 of epoch 98 complete. Loss : 0.2304719090461731 \n"
     ]
    },
    {
     "output_type": "stream",
     "name": "stderr",
     "text": [
      "100%|██████████| 5/5 [00:00<00:00,  6.76it/s]\n",
      "  5%|▌         | 1/20 [00:00<00:03,  5.88it/s]"
     ]
    },
    {
     "output_type": "stream",
     "name": "stdout",
     "text": [
      "\n",
      "Epoch 98 complete! Validation Loss : 0.8317362308502197\n",
      "Epoch 98 complete! Validation Accuracy : 0.6351481958762887\n"
     ]
    },
    {
     "output_type": "stream",
     "name": "stderr",
     "text": [
      " 25%|██▌       | 5/20 [00:00<00:02,  5.90it/s]"
     ]
    },
    {
     "output_type": "stream",
     "name": "stdout",
     "text": [
      "\n",
      "Iteration 4/20 of epoch 99 complete. Loss : 0.17313269153237343 \n"
     ]
    },
    {
     "output_type": "stream",
     "name": "stderr",
     "text": [
      " 45%|████▌     | 9/20 [00:01<00:01,  5.96it/s]"
     ]
    },
    {
     "output_type": "stream",
     "name": "stdout",
     "text": [
      "\n",
      "Iteration 8/20 of epoch 99 complete. Loss : 0.16922907158732414 \n"
     ]
    },
    {
     "output_type": "stream",
     "name": "stderr",
     "text": [
      " 65%|██████▌   | 13/20 [00:02<00:01,  5.97it/s]"
     ]
    },
    {
     "output_type": "stream",
     "name": "stdout",
     "text": [
      "\n",
      "Iteration 12/20 of epoch 99 complete. Loss : 0.1645384021103382 \n"
     ]
    },
    {
     "output_type": "stream",
     "name": "stderr",
     "text": [
      " 85%|████████▌ | 17/20 [00:02<00:00,  5.92it/s]"
     ]
    },
    {
     "output_type": "stream",
     "name": "stdout",
     "text": [
      "\n",
      "Iteration 16/20 of epoch 99 complete. Loss : 0.17697792127728462 \n"
     ]
    },
    {
     "output_type": "stream",
     "name": "stderr",
     "text": [
      "100%|██████████| 20/20 [00:03<00:00,  6.20it/s]\n",
      " 20%|██        | 1/5 [00:00<00:00,  6.50it/s]"
     ]
    },
    {
     "output_type": "stream",
     "name": "stdout",
     "text": [
      "\n",
      "Iteration 20/20 of epoch 99 complete. Loss : 0.16720743849873543 \n"
     ]
    },
    {
     "output_type": "stream",
     "name": "stderr",
     "text": [
      "100%|██████████| 5/5 [00:00<00:00,  6.70it/s]\n",
      "  5%|▌         | 1/20 [00:00<00:03,  6.00it/s]"
     ]
    },
    {
     "output_type": "stream",
     "name": "stdout",
     "text": [
      "\n",
      "Epoch 99 complete! Validation Loss : 0.8255102276802063\n",
      "Epoch 99 complete! Validation Accuracy : 0.6491462628865979\n"
     ]
    },
    {
     "output_type": "stream",
     "name": "stderr",
     "text": [
      " 25%|██▌       | 5/20 [00:00<00:02,  5.99it/s]"
     ]
    },
    {
     "output_type": "stream",
     "name": "stdout",
     "text": [
      "\n",
      "Iteration 4/20 of epoch 100 complete. Loss : 0.1806539185345173 \n"
     ]
    },
    {
     "output_type": "stream",
     "name": "stderr",
     "text": [
      " 45%|████▌     | 9/20 [00:01<00:01,  5.98it/s]"
     ]
    },
    {
     "output_type": "stream",
     "name": "stdout",
     "text": [
      "\n",
      "Iteration 8/20 of epoch 100 complete. Loss : 0.18059004098176956 \n"
     ]
    },
    {
     "output_type": "stream",
     "name": "stderr",
     "text": [
      " 65%|██████▌   | 13/20 [00:02<00:01,  5.91it/s]"
     ]
    },
    {
     "output_type": "stream",
     "name": "stdout",
     "text": [
      "\n",
      "Iteration 12/20 of epoch 100 complete. Loss : 0.15496033430099487 \n"
     ]
    },
    {
     "output_type": "stream",
     "name": "stderr",
     "text": [
      " 85%|████████▌ | 17/20 [00:02<00:00,  5.89it/s]"
     ]
    },
    {
     "output_type": "stream",
     "name": "stdout",
     "text": [
      "\n",
      "Iteration 16/20 of epoch 100 complete. Loss : 0.1872265450656414 \n"
     ]
    },
    {
     "output_type": "stream",
     "name": "stderr",
     "text": [
      "100%|██████████| 20/20 [00:03<00:00,  6.19it/s]\n",
      " 20%|██        | 1/5 [00:00<00:00,  6.45it/s]"
     ]
    },
    {
     "output_type": "stream",
     "name": "stdout",
     "text": [
      "\n",
      "Iteration 20/20 of epoch 100 complete. Loss : 0.18672313913702965 \n"
     ]
    },
    {
     "output_type": "stream",
     "name": "stderr",
     "text": [
      "100%|██████████| 5/5 [00:00<00:00,  6.72it/s]\n"
     ]
    },
    {
     "output_type": "stream",
     "name": "stdout",
     "text": [
      "\n",
      "Epoch 100 complete! Validation Loss : 0.840787923336029\n",
      "Epoch 100 complete! Validation Accuracy : 0.6361469072164948\n",
      "The model has been saved in saved_models/emo_combine_res50_lr_3e-05_val_loss_0.59487_ep_61.pt\n"
     ]
    }
   ],
   "metadata": {}
  },
  {
   "cell_type": "code",
   "execution_count": 18,
   "source": [
    "def evaluate(prediction_dataloader, model, path_to_model, load = False):\n",
    "\t# Prediction on test set\n",
    "\tif load:\n",
    "\t\tprint(\"Loading the weights of the model...\")\n",
    "\t\tmodel.load_state_dict(torch.load(path_to_model))\n",
    "\n",
    "\tprint('Evaluating on the testset')\n",
    "\n",
    "\t# Put model in evaluation mode\n",
    "\tmodel.eval()\n",
    "\n",
    "\t# Tracking variables \n",
    "\tpredictions , true_labels = [], []\n",
    "\n",
    "\t# Predict \n",
    "\tfor batch in prediction_dataloader:\n",
    "\t  # Add batch to GPU\n",
    "\t  batch = tuple(t.to(device) for t in batch)\n",
    "\t  \n",
    "\t  # Unpack the inputs from our dataloader\n",
    "\t  b_inputs, b_labels = batch\n",
    "\t  \n",
    "\t  # Telling the model not to compute or store gradients, saving memory and \n",
    "\t  # speeding up prediction\n",
    "\t  with torch.no_grad():\n",
    "\t      # Forward pass, calculate logit predictions\n",
    "\t      logits = model(b_inputs)\n",
    "\n",
    "\t  # Move logits and labels to CPU\n",
    "\t  logits = logits.detach().cpu().numpy()\n",
    "\t  label_ids = b_labels.to('cpu').numpy()\n",
    "\n",
    "\t  pred_flat = np.argmax(logits, axis=1).flatten()\n",
    "\t  labels_flat = label_ids.flatten()\n",
    "\t  \n",
    "\t  # Store predictions and true labels\n",
    "\t  predictions.extend(pred_flat)\n",
    "\t  true_labels.extend(labels_flat)\n",
    "\n",
    "\tprint('DONE.')\n",
    "\n",
    "\t# Code for result display\n",
    "\tprint('Unbiased Emotion Classification accuracy is')\n",
    "\tprint(metrics.accuracy_score(true_labels, predictions)*100)\n",
    "\tprint(classification_report(true_labels, predictions, target_names = ['fake_emo', 'real_emo']))\n",
    "\t# Converting to csv\n",
    "\t# Removed transpose - check if actually required\n",
    "\tmodel_name = 'combine_emo'\n",
    "\tclsf_report = pd.DataFrame(classification_report(y_true = true_labels, y_pred = predictions, output_dict=True, target_names = ['fake_emo', 'real_emo']))\n",
    "\tclsf_report.to_csv(str('saved_models/'+model_name+'.csv'), index= True)"
   ],
   "outputs": [],
   "metadata": {}
  },
  {
   "cell_type": "code",
   "execution_count": 19,
   "source": [
    "path_to_model = 'saved_models/emo_combine_res50_lr_3e-05_val_loss_0.59487_ep_61.pt'\n",
    "evaluate(test_dataloader, model, path_to_model = path_to_model, load = False)"
   ],
   "outputs": [
    {
     "output_type": "stream",
     "name": "stdout",
     "text": [
      "Evaluating on the testset\n",
      "DONE.\n",
      "Unbiased Emotion Classification accuracy is\n",
      "69.45812807881774\n",
      "              precision    recall  f1-score   support\n",
      "\n",
      "    fake_emo       0.54      0.37      0.44       197\n",
      "    real_emo       0.74      0.85      0.79       412\n",
      "\n",
      "    accuracy                           0.69       609\n",
      "   macro avg       0.64      0.61      0.61       609\n",
      "weighted avg       0.67      0.69      0.68       609\n",
      "\n"
     ]
    }
   ],
   "metadata": {}
  }
 ],
 "metadata": {
  "orig_nbformat": 4,
  "language_info": {
   "name": "python",
   "version": "3.6.11",
   "mimetype": "text/x-python",
   "codemirror_mode": {
    "name": "ipython",
    "version": 3
   },
   "pygments_lexer": "ipython3",
   "nbconvert_exporter": "python",
   "file_extension": ".py"
  },
  "kernelspec": {
   "name": "python3",
   "display_name": "Python 3.6.11 64-bit ('newnisbert': conda)"
  },
  "interpreter": {
   "hash": "b4396559e1bf5c32d41ffba8c548c213f47855d2d4ac82024dddc5ba3ffea815"
  }
 },
 "nbformat": 4,
 "nbformat_minor": 2
}