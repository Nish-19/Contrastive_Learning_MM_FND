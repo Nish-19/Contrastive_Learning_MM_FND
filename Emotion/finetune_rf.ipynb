{
 "cells": [
  {
   "cell_type": "code",
   "execution_count": 1,
   "source": [
    "# Loading data and label\n",
    "import numpy as np\n",
    "emotion_data = np.load('/sda/rina_1921cs13/Fake_Emo/UnBiasedEmo/data.npy')\n",
    "emotion_label = np.load('/sda/rina_1921cs13/Fake_Emo/UnBiasedEmo/label.npy')\n",
    "print('Emotion data shape', emotion_data.shape)\n",
    "print('Emotion label shape', emotion_label.shape)\n",
    "label_keys = {}\n",
    "item_lab = [\"anger\", \"fear\", \"joy\", \"love\", \"sadness\", \"surprise\"]\n",
    "for i, emotion in enumerate(item_lab):\n",
    "    label_keys[i] = emotion\n",
    "print(label_keys)"
   ],
   "outputs": [
    {
     "output_type": "stream",
     "name": "stdout",
     "text": [
      "Emotion data shape (3045, 224, 224, 3)\n",
      "Emotion label shape (3045,)\n",
      "{0: 'anger', 1: 'fear', 2: 'joy', 3: 'love', 4: 'sadness', 5: 'surprise'}\n"
     ]
    }
   ],
   "metadata": {}
  },
  {
   "cell_type": "code",
   "execution_count": 3,
   "source": [
    "# Create two labels - real(1), fake(0) (Multilabel classification)\n",
    "from collections import Counter\n",
    "combine_label = []\n",
    "for label in emotion_label:\n",
    "    # fear, surprise, anger - false emo\n",
    "    if label == 0 or label == 1 or label == 5:\n",
    "        combine_label.append(0)\n",
    "    elif label == 2 or label == 3 or label == 4:\n",
    "        combine_label.append(1)\n",
    "print('Fake-Real distribution', Counter(combine_label))\n",
    "combine_label = np.array(combine_label)\n",
    "print('Combine label shape', combine_label.shape)"
   ],
   "outputs": [
    {
     "output_type": "stream",
     "name": "stdout",
     "text": [
      "Fake-Real distribution Counter({1: 1995, 0: 1050})\n",
      "Combine label shape (3045,)\n"
     ]
    }
   ],
   "metadata": {}
  },
  {
   "cell_type": "code",
   "execution_count": 4,
   "source": [
    "#TODO: Fine-Tune on Imagenet-pre-trained ResNet-50 model\n",
    "import os\n",
    "import sys\n",
    "import numpy as np\n",
    "from numpy import asarray,zeros\n",
    "import pandas as pd \n",
    "from sklearn.model_selection import train_test_split\n",
    "import torch\n",
    "import torch.nn.functional as F\n",
    "from torch.utils.data import TensorDataset, DataLoader, RandomSampler, SequentialSampler, Dataset\n",
    "import torch.nn as nn\n",
    "import torch.optim as optim\n",
    "from tqdm import tqdm\n",
    "import matplotlib.pyplot as plt\n",
    "import copy\n",
    "from sklearn.model_selection import train_test_split\n",
    "from sklearn import metrics\n",
    "from sklearn.metrics import classification_report\n",
    "import transformers\n",
    "from transformers import BertTokenizer\n",
    "from transformers import AdamW, get_linear_schedule_with_warmup\n",
    "from transformers import AutoTokenizer, AutoModel, AutoConfig, AdamW, get_linear_schedule_with_warmup\n",
    "from tensorflow.keras.preprocessing.text import Tokenizer\n",
    "from tensorflow.keras.preprocessing.sequence import pad_sequences\n",
    "import timm"
   ],
   "outputs": [],
   "metadata": {}
  },
  {
   "cell_type": "code",
   "execution_count": 5,
   "source": [
    "if torch.cuda.is_available():\n",
    "    device = torch.device(\"cuda\")\n",
    "    os.environ['CUDA_ENVIRONMENT_DEVICES'] = \"0\"\n",
    "else:\n",
    "    device = torch.device(\"cpu\")\n",
    "print(\"Using device\", device)"
   ],
   "outputs": [
    {
     "output_type": "stream",
     "name": "stdout",
     "text": [
      "Using device cuda\n"
     ]
    }
   ],
   "metadata": {}
  },
  {
   "cell_type": "code",
   "execution_count": 6,
   "source": [
    "num_images, width, height, num_channels = emotion_data.shape\n",
    "emotion_data = np.reshape(emotion_data, newshape=(num_images, num_channels, width, height))\n",
    "print('Emotion data shape', emotion_data.shape)"
   ],
   "outputs": [
    {
     "output_type": "stream",
     "name": "stdout",
     "text": [
      "Emotion data shape (3045, 3, 224, 224)\n"
     ]
    }
   ],
   "metadata": {}
  },
  {
   "cell_type": "code",
   "execution_count": 7,
   "source": [
    "# Convert to tensor\n",
    "data_tensor = torch.tensor(emotion_data, device=device)\n",
    "labels_tensor = torch.tensor(combine_label, dtype=torch.long, device=device)\n",
    "print('data tensor shape', data_tensor.shape)\n",
    "print('Labels tensor shape', labels_tensor.shape)"
   ],
   "outputs": [
    {
     "output_type": "stream",
     "name": "stdout",
     "text": [
      "data tensor shape torch.Size([3045, 3, 224, 224])\n",
      "Labels tensor shape torch.Size([3045])\n"
     ]
    }
   ],
   "metadata": {}
  },
  {
   "cell_type": "code",
   "execution_count": 8,
   "source": [
    "# NOTE: Splitting data into train and test\n",
    "train_data, test_data, train_labels, test_labels = train_test_split(data_tensor, labels_tensor, test_size=0.2, random_state=43)"
   ],
   "outputs": [],
   "metadata": {}
  },
  {
   "cell_type": "code",
   "execution_count": 9,
   "source": [
    "#TODO: Add Pytorch DataLoader\n",
    "def get_data_loader(batch_size, data, labels, split_type='train'):\n",
    "\tdata = TensorDataset(data, labels)\n",
    "\tif split_type == 'train':\n",
    "\t\tsampler = RandomSampler(data)\n",
    "\t\tdataloader = DataLoader(data, sampler=sampler, batch_size=batch_size)\n",
    "\telif split_type == 'val':\n",
    "\t\tsampler = SequentialSampler(data)\n",
    "\t\tdataloader = DataLoader(data, sampler=sampler, batch_size=batch_size)\n",
    "\treturn data, sampler, dataloader"
   ],
   "outputs": [],
   "metadata": {}
  },
  {
   "cell_type": "code",
   "execution_count": 10,
   "source": [
    "# Getting the dataloader\n",
    "batch_size = 128\n",
    "train_data, train_sampler, train_dataloader = get_data_loader(batch_size, train_data, train_labels, 'train')\n",
    "test_data, test_sampler, test_dataloader = get_data_loader(batch_size, test_data, test_labels, 'val')"
   ],
   "outputs": [],
   "metadata": {}
  },
  {
   "cell_type": "code",
   "execution_count": 9,
   "source": [
    "# # TODO: Test the resnet-50 model\n",
    "# res50model = timm.create_model('resnet50', pretrained=True).to(device)\n",
    "# res50base = ResNetBottom(res50model).to(device) # Output-2048 dim\n",
    "# # Forward pass on the data\n",
    "# output = res50base(data_tensor[0:5,:,:,:])\n",
    "# print(output.shape)"
   ],
   "outputs": [],
   "metadata": {}
  },
  {
   "cell_type": "code",
   "execution_count": 11,
   "source": [
    "#TODO: Define Resent-50 model\n",
    "class ResNetBottom(nn.Module):\n",
    "    def __init__(self, original_model):\n",
    "        super(ResNetBottom, self).__init__()\n",
    "        self.features = nn.Sequential(*list(original_model.children())[:-1])\n",
    "        \n",
    "    def forward(self, x):\n",
    "        x = self.features(x)\n",
    "        return x\n",
    "\n",
    "class ResnetBased(nn.Module):\n",
    "    def __init__(self):\n",
    "        super(ResnetBased, self).__init__()\n",
    "        self.vision_base_model = timm.create_model('resnet50', pretrained=True)\n",
    "        self.vision_model_head = ResNetBottom(self.vision_base_model)\n",
    "        self.project_1 = nn.Linear(2048, 1024, bias=True)\n",
    "        self.project_2 = nn.Linear(1024, 512, bias=True)\n",
    "        self.project_3 = nn.Linear(512, 128, bias=True)\n",
    "        self.tanh1 = nn.Tanh()\n",
    "        self.tanh2 = nn.Tanh()\n",
    "        self.tanh3 = nn.Tanh()\n",
    "        self.drop1 = nn.Dropout()\n",
    "        self.drop2 = nn.Dropout()\n",
    "        self.drop3 = nn.Dropout()\n",
    "        self.classification = nn.Linear(128, 6, bias=True)\n",
    "    def forward(self, img_features):\n",
    "        with torch.no_grad():\n",
    "            img_out = self.vision_model_head(img_features)\n",
    "        emotion_features = self.tanh3(self.project_3(self.tanh2(self.project_2(self.tanh1(self.project_1(img_out))))))\n",
    "        class_out = self.classification(emotion_features)\n",
    "        return class_out"
   ],
   "outputs": [],
   "metadata": {}
  },
  {
   "cell_type": "code",
   "execution_count": 12,
   "source": [
    "# Optimizer and scheduler\n",
    "def get_optimizer_scheduler(name, model, train_dataloader_len, epochs, lr_set):\n",
    "\tif name == \"Adam\":\n",
    "\t\toptimizer = AdamW(model.parameters(),\n",
    "                  lr = lr_set, # args.learning_rate - default is 5e-5, our notebook had 2e-5\n",
    "                  eps = 1e-8 # args.adam_epsilon  - default is 1e-8.\n",
    "\t\t)\n",
    "\ttotal_steps = train_dataloader_len * epochs\n",
    "\n",
    "\t# Create the learning rate scheduler.\n",
    "\tscheduler = get_linear_schedule_with_warmup(optimizer, \n",
    "\t\t\t\t\t\t\t\t\t\t\t\tnum_warmup_steps = total_steps//2, # Default value in run_glue.py\n",
    "\t\t\t\t\t\t\t\t\t\t\t\tnum_training_steps = total_steps)\n",
    "\treturn optimizer, scheduler"
   ],
   "outputs": [],
   "metadata": {}
  },
  {
   "cell_type": "code",
   "execution_count": 13,
   "source": [
    "# Get the model\n",
    "emo_model = ResnetBased().to(device)\n",
    "# Getting the optimizer and scheduler\n",
    "epochs = 100\n",
    "lr = 3e-5 # Less LR\n",
    "iters_to_accumulate = 2\n",
    "name = \"Adam\"\n",
    "criterion = nn.CrossEntropyLoss()\n",
    "optimizer, scheduler = get_optimizer_scheduler(name, emo_model, len(train_dataloader), epochs, lr)"
   ],
   "outputs": [],
   "metadata": {}
  },
  {
   "cell_type": "code",
   "execution_count": 14,
   "source": [
    "################ Evaluating Loss ######################\n",
    "#######################################################\n",
    "def evaluate_loss(net, device, criterion, dataloader):\n",
    "    net.eval()\n",
    "    mean_loss = 0\n",
    "    count = 0\n",
    "    with torch.no_grad():\n",
    "        for it, (input_data, labels) in enumerate(tqdm(dataloader)):\n",
    "            input_data, labels = input_data.to(device), labels.to(device)\n",
    "            logits = net(input_data)\n",
    "            mean_loss += criterion(logits.squeeze(-1), labels).item() # initially it was logits.squeeze(-1)\n",
    "            count += 1\n",
    "    return mean_loss / count"
   ],
   "outputs": [],
   "metadata": {}
  },
  {
   "cell_type": "code",
   "execution_count": 15,
   "source": [
    "################ Flat Accuracy Calculation ####################\n",
    "###############################################################\n",
    "def flat_accuracy(preds, labels):\n",
    "    pred_flat = np.argmax(preds, axis=1).flatten()\n",
    "    labels_flat = labels.flatten()\n",
    "    return np.sum(pred_flat == labels_flat) / len(labels_flat)\n",
    "################ Validation Accuracy Calculation ####################\n",
    "###############################################################\n",
    "def evaluate_accuracy(model, device, validation_dataloader):\n",
    "\tmodel.eval()\n",
    "\t# Tracking variables \n",
    "\teval_loss, eval_accuracy = 0, 0\n",
    "\tnb_eval_steps, nb_eval_examples = 0, 0\n",
    "\t# Evaluate data for one epoch\n",
    "\tfor batch in validation_dataloader:\n",
    "\t    # Add batch to GPU\n",
    "\t    batch = tuple(t.to(device) for t in batch)\t    \n",
    "\t    # Unpack the inputs from our dataloader\n",
    "\t    b_inputs, b_labels = batch\t    \n",
    "\t    \n",
    "\t    # Telling the model not to compute or store gradients, saving memory and\n",
    "\t    # speeding up validation\n",
    "\t    with torch.no_grad(): \n",
    "\t    \t# Forward pass, calculate logit predictions.\n",
    "\t        # This will return the logits rather than the loss because we have\n",
    "\t        # not provided labels.\n",
    "\t    \tlogits = model(b_inputs)       \n",
    "\n",
    "\t    # Move logits and labels to CPU\n",
    "\t    logits = logits.detach().cpu().numpy()\n",
    "\t    label_ids = b_labels.to('cpu').numpy()\n",
    "\t    \n",
    "\t    # Calculate the accuracy for this batch of test sentences.\n",
    "\t    tmp_eval_accuracy = flat_accuracy(logits, label_ids)\n",
    "\t    \n",
    "\t    # Accumulate the total accuracy.\n",
    "\t    eval_accuracy += tmp_eval_accuracy\n",
    "\n",
    "\t    # Track the number of batches\n",
    "\t    nb_eval_steps += 1\n",
    "\taccuracy = eval_accuracy/nb_eval_steps\n",
    "\treturn accuracy"
   ],
   "outputs": [],
   "metadata": {}
  },
  {
   "cell_type": "code",
   "execution_count": 16,
   "source": [
    "def train_model(net, criterion, opti, lr, lr_scheduler, train_loader, val_loader, epochs, iters_to_accumulate):\n",
    "    best_loss = np.Inf\n",
    "    best_ep = 1\n",
    "    nb_iterations = len(train_loader)\n",
    "    print_every = nb_iterations // 5  # print the training loss 5 times per epoch\n",
    "    iters = []\n",
    "    train_losses = []\n",
    "    val_losses = []\n",
    "    # Iterating over all epochs\n",
    "    for ep in range(epochs):\n",
    "        net.train()\n",
    "        running_loss = 0.0\n",
    "        for it, (data_inputs, labels) in enumerate(tqdm(train_loader)):\n",
    "\n",
    "            # Converting to cuda tensors\n",
    "            data_inputs, labels = data_inputs.to(device), labels.to(device)\n",
    "    \t\t\n",
    "            # Obtaining the logits from the model\n",
    "            logits = net(data_inputs)\n",
    "            # print(logits.device)\n",
    "\n",
    "            # Computing loss\n",
    "            # print(logits.squeeze(-1).shape)\n",
    "            # print(labels.shape)\n",
    "            loss = criterion(logits.squeeze(-1), labels)\n",
    "            loss = loss / iters_to_accumulate  # Normalize the loss because it is averaged\n",
    "\n",
    "            # Backpropagating the gradients\n",
    "            # Calls backward()\n",
    "            loss.backward()\n",
    "\n",
    "            if (it + 1) % iters_to_accumulate == 0:\n",
    "                # Optimization step\n",
    "                # scaler.step() first unscales the gradients of the optimizer's assigned params.\n",
    "                # If these gradients do not contain infs or NaNs, opti.step() is then called,\n",
    "                # otherwise, opti.step() is skipped.\n",
    "                opti.step()\n",
    "                # Adjust the learning rate based on the number of iterations.\n",
    "                lr_scheduler.step()\n",
    "                # Clear gradients\n",
    "                net.zero_grad()\n",
    "\n",
    "\n",
    "            running_loss += loss.item()\n",
    "\n",
    "            if (it + 1) % print_every == 0:  # Print training loss information\n",
    "                print()\n",
    "                print(\"Iteration {}/{} of epoch {} complete. Loss : {} \"\n",
    "                      .format(it+1, nb_iterations, ep+1, running_loss / print_every))\n",
    "\n",
    "                running_loss = 0.0\n",
    "\n",
    "\n",
    "        val_loss = evaluate_loss(net, device, criterion, val_loader)  # Compute validation loss\n",
    "        val_accuracy = evaluate_accuracy(net, device, val_loader)\n",
    "        print()\n",
    "        print(\"Epoch {} complete! Validation Loss : {}\".format(ep+1, val_loss))\n",
    "        print(\"Epoch {} complete! Validation Accuracy : {}\".format(ep+1, val_accuracy))\n",
    "\n",
    "        if val_loss < best_loss:\n",
    "            print(\"Best validation loss improved from {} to {}\".format(best_loss, val_loss))\n",
    "            print()\n",
    "            net_copy = copy.deepcopy(net)  # save a copy of the model\n",
    "            best_loss = val_loss\n",
    "            best_ep = ep + 1\n",
    "\n",
    "    # Saving the model\n",
    "    model_name = 'emo_combine_res50'\n",
    "    path_to_model='saved_models/{}_lr_{}_val_loss_{}_ep_{}.pt'.format(model_name, lr, round(best_loss, 5), best_ep)\n",
    "    torch.save(net_copy.state_dict(), path_to_model)\n",
    "    net.load_state_dict(torch.load(path_to_model)) # Re-Loading the best model\n",
    "    print(\"The model has been saved in {}\".format(path_to_model))\n",
    "\n",
    "    del loss\n",
    "    torch.cuda.empty_cache()\n",
    "    return net"
   ],
   "outputs": [],
   "metadata": {}
  },
  {
   "cell_type": "code",
   "execution_count": 17,
   "source": [
    "# Train the model\n",
    "model = train_model(emo_model, criterion, optimizer, lr, scheduler, train_dataloader, test_dataloader, epochs, iters_to_accumulate)"
   ],
   "outputs": [
    {
     "output_type": "stream",
     "name": "stderr",
     "text": [
      " 25%|██▌       | 5/20 [00:00<00:02,  6.12it/s]"
     ]
    },
    {
     "output_type": "stream",
     "name": "stdout",
     "text": [
      "\n",
      "Iteration 4/20 of epoch 1 complete. Loss : 0.8973053842782974 \n"
     ]
    },
    {
     "output_type": "stream",
     "name": "stderr",
     "text": [
      " 45%|████▌     | 9/20 [00:01<00:01,  6.53it/s]"
     ]
    },
    {
     "output_type": "stream",
     "name": "stdout",
     "text": [
      "\n",
      "Iteration 8/20 of epoch 1 complete. Loss : 0.8974790275096893 \n"
     ]
    },
    {
     "output_type": "stream",
     "name": "stderr",
     "text": [
      " 65%|██████▌   | 13/20 [00:02<00:01,  6.64it/s]"
     ]
    },
    {
     "output_type": "stream",
     "name": "stdout",
     "text": [
      "\n",
      "Iteration 12/20 of epoch 1 complete. Loss : 0.8975962996482849 \n"
     ]
    },
    {
     "output_type": "stream",
     "name": "stderr",
     "text": [
      " 85%|████████▌ | 17/20 [00:02<00:00,  6.67it/s]"
     ]
    },
    {
     "output_type": "stream",
     "name": "stdout",
     "text": [
      "\n",
      "Iteration 16/20 of epoch 1 complete. Loss : 0.8985453248023987 \n"
     ]
    },
    {
     "output_type": "stream",
     "name": "stderr",
     "text": [
      "100%|██████████| 20/20 [00:02<00:00,  6.83it/s]\n",
      " 20%|██        | 1/5 [00:00<00:00,  7.33it/s]"
     ]
    },
    {
     "output_type": "stream",
     "name": "stdout",
     "text": [
      "\n",
      "Iteration 20/20 of epoch 1 complete. Loss : 0.8973833918571472 \n"
     ]
    },
    {
     "output_type": "stream",
     "name": "stderr",
     "text": [
      "100%|██████████| 5/5 [00:00<00:00,  7.60it/s]\n",
      "  5%|▌         | 1/20 [00:00<00:02,  6.76it/s]"
     ]
    },
    {
     "output_type": "stream",
     "name": "stdout",
     "text": [
      "\n",
      "Epoch 1 complete! Validation Loss : 1.794388508796692\n",
      "Epoch 1 complete! Validation Accuracy : 0.03793492268041237\n",
      "Best validation loss improved from inf to 1.794388508796692\n",
      "\n"
     ]
    },
    {
     "output_type": "stream",
     "name": "stderr",
     "text": [
      " 25%|██▌       | 5/20 [00:00<00:02,  6.71it/s]"
     ]
    },
    {
     "output_type": "stream",
     "name": "stdout",
     "text": [
      "\n",
      "Iteration 4/20 of epoch 2 complete. Loss : 0.8965373635292053 \n"
     ]
    },
    {
     "output_type": "stream",
     "name": "stderr",
     "text": [
      " 45%|████▌     | 9/20 [00:01<00:01,  6.65it/s]"
     ]
    },
    {
     "output_type": "stream",
     "name": "stdout",
     "text": [
      "\n",
      "Iteration 8/20 of epoch 2 complete. Loss : 0.8970545530319214 \n"
     ]
    },
    {
     "output_type": "stream",
     "name": "stderr",
     "text": [
      " 65%|██████▌   | 13/20 [00:01<00:01,  6.65it/s]"
     ]
    },
    {
     "output_type": "stream",
     "name": "stdout",
     "text": [
      "\n",
      "Iteration 12/20 of epoch 2 complete. Loss : 0.8969254642724991 \n"
     ]
    },
    {
     "output_type": "stream",
     "name": "stderr",
     "text": [
      " 85%|████████▌ | 17/20 [00:02<00:00,  6.68it/s]"
     ]
    },
    {
     "output_type": "stream",
     "name": "stdout",
     "text": [
      "\n",
      "Iteration 16/20 of epoch 2 complete. Loss : 0.8959280699491501 \n"
     ]
    },
    {
     "output_type": "stream",
     "name": "stderr",
     "text": [
      "100%|██████████| 20/20 [00:02<00:00,  6.98it/s]\n",
      " 20%|██        | 1/5 [00:00<00:00,  7.30it/s]"
     ]
    },
    {
     "output_type": "stream",
     "name": "stdout",
     "text": [
      "\n",
      "Iteration 20/20 of epoch 2 complete. Loss : 0.8937813341617584 \n"
     ]
    },
    {
     "output_type": "stream",
     "name": "stderr",
     "text": [
      "100%|██████████| 5/5 [00:00<00:00,  7.61it/s]\n",
      "  5%|▌         | 1/20 [00:00<00:02,  6.74it/s]"
     ]
    },
    {
     "output_type": "stream",
     "name": "stdout",
     "text": [
      "\n",
      "Epoch 2 complete! Validation Loss : 1.7906208992004395\n",
      "Epoch 2 complete! Validation Accuracy : 0.02806056701030928\n",
      "Best validation loss improved from 1.794388508796692 to 1.7906208992004395\n",
      "\n"
     ]
    },
    {
     "output_type": "stream",
     "name": "stderr",
     "text": [
      " 25%|██▌       | 5/20 [00:00<00:02,  6.70it/s]"
     ]
    },
    {
     "output_type": "stream",
     "name": "stdout",
     "text": [
      "\n",
      "Iteration 4/20 of epoch 3 complete. Loss : 0.8957276195287704 \n"
     ]
    },
    {
     "output_type": "stream",
     "name": "stderr",
     "text": [
      " 45%|████▌     | 9/20 [00:01<00:01,  6.69it/s]"
     ]
    },
    {
     "output_type": "stream",
     "name": "stdout",
     "text": [
      "\n",
      "Iteration 8/20 of epoch 3 complete. Loss : 0.8945313096046448 \n"
     ]
    },
    {
     "output_type": "stream",
     "name": "stderr",
     "text": [
      " 65%|██████▌   | 13/20 [00:01<00:01,  6.69it/s]"
     ]
    },
    {
     "output_type": "stream",
     "name": "stdout",
     "text": [
      "\n",
      "Iteration 12/20 of epoch 3 complete. Loss : 0.8946373015642166 \n"
     ]
    },
    {
     "output_type": "stream",
     "name": "stderr",
     "text": [
      " 85%|████████▌ | 17/20 [00:02<00:00,  6.69it/s]"
     ]
    },
    {
     "output_type": "stream",
     "name": "stdout",
     "text": [
      "\n",
      "Iteration 16/20 of epoch 3 complete. Loss : 0.8925214558839798 \n"
     ]
    },
    {
     "output_type": "stream",
     "name": "stderr",
     "text": [
      "100%|██████████| 20/20 [00:02<00:00,  7.00it/s]\n",
      " 20%|██        | 1/5 [00:00<00:00,  7.30it/s]"
     ]
    },
    {
     "output_type": "stream",
     "name": "stdout",
     "text": [
      "\n",
      "Iteration 20/20 of epoch 3 complete. Loss : 0.8940802812576294 \n"
     ]
    },
    {
     "output_type": "stream",
     "name": "stderr",
     "text": [
      "100%|██████████| 5/5 [00:00<00:00,  7.60it/s]\n",
      "  5%|▌         | 1/20 [00:00<00:02,  6.73it/s]"
     ]
    },
    {
     "output_type": "stream",
     "name": "stdout",
     "text": [
      "\n",
      "Epoch 3 complete! Validation Loss : 1.7837377786636353\n",
      "Epoch 3 complete! Validation Accuracy : 0.04987113402061856\n",
      "Best validation loss improved from 1.7906208992004395 to 1.7837377786636353\n",
      "\n"
     ]
    },
    {
     "output_type": "stream",
     "name": "stderr",
     "text": [
      " 25%|██▌       | 5/20 [00:00<00:02,  6.67it/s]"
     ]
    },
    {
     "output_type": "stream",
     "name": "stdout",
     "text": [
      "\n",
      "Iteration 4/20 of epoch 4 complete. Loss : 0.8929390907287598 \n"
     ]
    },
    {
     "output_type": "stream",
     "name": "stderr",
     "text": [
      " 45%|████▌     | 9/20 [00:01<00:01,  6.67it/s]"
     ]
    },
    {
     "output_type": "stream",
     "name": "stdout",
     "text": [
      "\n",
      "Iteration 8/20 of epoch 4 complete. Loss : 0.8917410373687744 \n"
     ]
    },
    {
     "output_type": "stream",
     "name": "stderr",
     "text": [
      " 65%|██████▌   | 13/20 [00:01<00:01,  6.68it/s]"
     ]
    },
    {
     "output_type": "stream",
     "name": "stdout",
     "text": [
      "\n",
      "Iteration 12/20 of epoch 4 complete. Loss : 0.8891807347536087 \n"
     ]
    },
    {
     "output_type": "stream",
     "name": "stderr",
     "text": [
      " 85%|████████▌ | 17/20 [00:02<00:00,  6.67it/s]"
     ]
    },
    {
     "output_type": "stream",
     "name": "stdout",
     "text": [
      "\n",
      "Iteration 16/20 of epoch 4 complete. Loss : 0.8887563198804855 \n"
     ]
    },
    {
     "output_type": "stream",
     "name": "stderr",
     "text": [
      "100%|██████████| 20/20 [00:02<00:00,  6.97it/s]\n",
      " 20%|██        | 1/5 [00:00<00:00,  7.27it/s]"
     ]
    },
    {
     "output_type": "stream",
     "name": "stdout",
     "text": [
      "\n",
      "Iteration 20/20 of epoch 4 complete. Loss : 0.8865822851657867 \n"
     ]
    },
    {
     "output_type": "stream",
     "name": "stderr",
     "text": [
      "100%|██████████| 5/5 [00:00<00:00,  7.57it/s]\n",
      "  5%|▌         | 1/20 [00:00<00:02,  6.72it/s]"
     ]
    },
    {
     "output_type": "stream",
     "name": "stdout",
     "text": [
      "\n",
      "Epoch 4 complete! Validation Loss : 1.775195026397705\n",
      "Epoch 4 complete! Validation Accuracy : 0.08211984536082474\n",
      "Best validation loss improved from 1.7837377786636353 to 1.775195026397705\n",
      "\n"
     ]
    },
    {
     "output_type": "stream",
     "name": "stderr",
     "text": [
      " 25%|██▌       | 5/20 [00:00<00:02,  6.66it/s]"
     ]
    },
    {
     "output_type": "stream",
     "name": "stdout",
     "text": [
      "\n",
      "Iteration 4/20 of epoch 5 complete. Loss : 0.887192964553833 \n"
     ]
    },
    {
     "output_type": "stream",
     "name": "stderr",
     "text": [
      " 45%|████▌     | 9/20 [00:01<00:01,  6.62it/s]"
     ]
    },
    {
     "output_type": "stream",
     "name": "stdout",
     "text": [
      "\n",
      "Iteration 8/20 of epoch 5 complete. Loss : 0.8859907686710358 \n"
     ]
    },
    {
     "output_type": "stream",
     "name": "stderr",
     "text": [
      " 65%|██████▌   | 13/20 [00:01<00:01,  6.64it/s]"
     ]
    },
    {
     "output_type": "stream",
     "name": "stdout",
     "text": [
      "\n",
      "Iteration 12/20 of epoch 5 complete. Loss : 0.8858207017183304 \n"
     ]
    },
    {
     "output_type": "stream",
     "name": "stderr",
     "text": [
      " 85%|████████▌ | 17/20 [00:02<00:00,  6.64it/s]"
     ]
    },
    {
     "output_type": "stream",
     "name": "stdout",
     "text": [
      "\n",
      "Iteration 16/20 of epoch 5 complete. Loss : 0.884178638458252 \n"
     ]
    },
    {
     "output_type": "stream",
     "name": "stderr",
     "text": [
      "100%|██████████| 20/20 [00:02<00:00,  6.94it/s]\n",
      " 20%|██        | 1/5 [00:00<00:00,  7.28it/s]"
     ]
    },
    {
     "output_type": "stream",
     "name": "stdout",
     "text": [
      "\n",
      "Iteration 20/20 of epoch 5 complete. Loss : 0.8850440680980682 \n"
     ]
    },
    {
     "output_type": "stream",
     "name": "stderr",
     "text": [
      "100%|██████████| 5/5 [00:00<00:00,  7.53it/s]\n",
      "  5%|▌         | 1/20 [00:00<00:02,  6.69it/s]"
     ]
    },
    {
     "output_type": "stream",
     "name": "stdout",
     "text": [
      "\n",
      "Epoch 5 complete! Validation Loss : 1.7633931159973144\n",
      "Epoch 5 complete! Validation Accuracy : 0.15386597938144328\n",
      "Best validation loss improved from 1.775195026397705 to 1.7633931159973144\n",
      "\n"
     ]
    },
    {
     "output_type": "stream",
     "name": "stderr",
     "text": [
      " 25%|██▌       | 5/20 [00:00<00:02,  6.66it/s]"
     ]
    },
    {
     "output_type": "stream",
     "name": "stdout",
     "text": [
      "\n",
      "Iteration 4/20 of epoch 6 complete. Loss : 0.8819489479064941 \n"
     ]
    },
    {
     "output_type": "stream",
     "name": "stderr",
     "text": [
      " 45%|████▌     | 9/20 [00:01<00:01,  6.63it/s]"
     ]
    },
    {
     "output_type": "stream",
     "name": "stdout",
     "text": [
      "\n",
      "Iteration 8/20 of epoch 6 complete. Loss : 0.8806738704442978 \n"
     ]
    },
    {
     "output_type": "stream",
     "name": "stderr",
     "text": [
      " 65%|██████▌   | 13/20 [00:01<00:01,  6.59it/s]"
     ]
    },
    {
     "output_type": "stream",
     "name": "stdout",
     "text": [
      "\n",
      "Iteration 12/20 of epoch 6 complete. Loss : 0.878559410572052 \n"
     ]
    },
    {
     "output_type": "stream",
     "name": "stderr",
     "text": [
      " 85%|████████▌ | 17/20 [00:02<00:00,  6.58it/s]"
     ]
    },
    {
     "output_type": "stream",
     "name": "stdout",
     "text": [
      "\n",
      "Iteration 16/20 of epoch 6 complete. Loss : 0.877823606133461 \n"
     ]
    },
    {
     "output_type": "stream",
     "name": "stderr",
     "text": [
      "100%|██████████| 20/20 [00:02<00:00,  6.90it/s]\n",
      " 20%|██        | 1/5 [00:00<00:00,  7.26it/s]"
     ]
    },
    {
     "output_type": "stream",
     "name": "stdout",
     "text": [
      "\n",
      "Iteration 20/20 of epoch 6 complete. Loss : 0.878218024969101 \n"
     ]
    },
    {
     "output_type": "stream",
     "name": "stderr",
     "text": [
      "100%|██████████| 5/5 [00:00<00:00,  7.51it/s]\n",
      "  5%|▌         | 1/20 [00:00<00:02,  6.70it/s]"
     ]
    },
    {
     "output_type": "stream",
     "name": "stdout",
     "text": [
      "\n",
      "Epoch 6 complete! Validation Loss : 1.7495635271072387\n",
      "Epoch 6 complete! Validation Accuracy : 0.3129188144329897\n",
      "Best validation loss improved from 1.7633931159973144 to 1.7495635271072387\n",
      "\n"
     ]
    },
    {
     "output_type": "stream",
     "name": "stderr",
     "text": [
      " 25%|██▌       | 5/20 [00:00<00:02,  6.62it/s]"
     ]
    },
    {
     "output_type": "stream",
     "name": "stdout",
     "text": [
      "\n",
      "Iteration 4/20 of epoch 7 complete. Loss : 0.8748399615287781 \n"
     ]
    },
    {
     "output_type": "stream",
     "name": "stderr",
     "text": [
      " 45%|████▌     | 9/20 [00:01<00:01,  6.62it/s]"
     ]
    },
    {
     "output_type": "stream",
     "name": "stdout",
     "text": [
      "\n",
      "Iteration 8/20 of epoch 7 complete. Loss : 0.8732611685991287 \n"
     ]
    },
    {
     "output_type": "stream",
     "name": "stderr",
     "text": [
      " 65%|██████▌   | 13/20 [00:01<00:01,  6.38it/s]"
     ]
    },
    {
     "output_type": "stream",
     "name": "stdout",
     "text": [
      "\n",
      "Iteration 12/20 of epoch 7 complete. Loss : 0.8723525702953339 \n"
     ]
    },
    {
     "output_type": "stream",
     "name": "stderr",
     "text": [
      " 85%|████████▌ | 17/20 [00:02<00:00,  6.57it/s]"
     ]
    },
    {
     "output_type": "stream",
     "name": "stdout",
     "text": [
      "\n",
      "Iteration 16/20 of epoch 7 complete. Loss : 0.8704214245080948 \n"
     ]
    },
    {
     "output_type": "stream",
     "name": "stderr",
     "text": [
      "100%|██████████| 20/20 [00:02<00:00,  6.86it/s]\n",
      " 20%|██        | 1/5 [00:00<00:00,  7.22it/s]"
     ]
    },
    {
     "output_type": "stream",
     "name": "stdout",
     "text": [
      "\n",
      "Iteration 20/20 of epoch 7 complete. Loss : 0.8691055178642273 \n"
     ]
    },
    {
     "output_type": "stream",
     "name": "stderr",
     "text": [
      "100%|██████████| 5/5 [00:00<00:00,  7.51it/s]\n",
      "  5%|▌         | 1/20 [00:00<00:02,  6.68it/s]"
     ]
    },
    {
     "output_type": "stream",
     "name": "stdout",
     "text": [
      "\n",
      "Epoch 7 complete! Validation Loss : 1.731432318687439\n",
      "Epoch 7 complete! Validation Accuracy : 0.4673485824742268\n",
      "Best validation loss improved from 1.7495635271072387 to 1.731432318687439\n",
      "\n"
     ]
    },
    {
     "output_type": "stream",
     "name": "stderr",
     "text": [
      " 25%|██▌       | 5/20 [00:00<00:02,  6.64it/s]"
     ]
    },
    {
     "output_type": "stream",
     "name": "stdout",
     "text": [
      "\n",
      "Iteration 4/20 of epoch 8 complete. Loss : 0.8668865114450455 \n"
     ]
    },
    {
     "output_type": "stream",
     "name": "stderr",
     "text": [
      " 45%|████▌     | 9/20 [00:01<00:01,  6.62it/s]"
     ]
    },
    {
     "output_type": "stream",
     "name": "stdout",
     "text": [
      "\n",
      "Iteration 8/20 of epoch 8 complete. Loss : 0.8657234758138657 \n"
     ]
    },
    {
     "output_type": "stream",
     "name": "stderr",
     "text": [
      " 65%|██████▌   | 13/20 [00:01<00:01,  6.61it/s]"
     ]
    },
    {
     "output_type": "stream",
     "name": "stdout",
     "text": [
      "\n",
      "Iteration 12/20 of epoch 8 complete. Loss : 0.8628088384866714 \n"
     ]
    },
    {
     "output_type": "stream",
     "name": "stderr",
     "text": [
      " 85%|████████▌ | 17/20 [00:02<00:00,  6.52it/s]"
     ]
    },
    {
     "output_type": "stream",
     "name": "stdout",
     "text": [
      "\n",
      "Iteration 16/20 of epoch 8 complete. Loss : 0.8609257787466049 \n"
     ]
    },
    {
     "output_type": "stream",
     "name": "stderr",
     "text": [
      "100%|██████████| 20/20 [00:02<00:00,  6.87it/s]\n",
      " 20%|██        | 1/5 [00:00<00:00,  7.23it/s]"
     ]
    },
    {
     "output_type": "stream",
     "name": "stdout",
     "text": [
      "\n",
      "Iteration 20/20 of epoch 8 complete. Loss : 0.8573136478662491 \n"
     ]
    },
    {
     "output_type": "stream",
     "name": "stderr",
     "text": [
      "100%|██████████| 5/5 [00:00<00:00,  7.49it/s]\n",
      "  5%|▌         | 1/20 [00:00<00:02,  6.68it/s]"
     ]
    },
    {
     "output_type": "stream",
     "name": "stdout",
     "text": [
      "\n",
      "Epoch 8 complete! Validation Loss : 1.7085378170013428\n",
      "Epoch 8 complete! Validation Accuracy : 0.5791559278350515\n",
      "Best validation loss improved from 1.731432318687439 to 1.7085378170013428\n",
      "\n"
     ]
    },
    {
     "output_type": "stream",
     "name": "stderr",
     "text": [
      " 25%|██▌       | 5/20 [00:00<00:02,  6.63it/s]"
     ]
    },
    {
     "output_type": "stream",
     "name": "stdout",
     "text": [
      "\n",
      "Iteration 4/20 of epoch 9 complete. Loss : 0.8577154874801636 \n"
     ]
    },
    {
     "output_type": "stream",
     "name": "stderr",
     "text": [
      " 45%|████▌     | 9/20 [00:01<00:01,  6.61it/s]"
     ]
    },
    {
     "output_type": "stream",
     "name": "stdout",
     "text": [
      "\n",
      "Iteration 8/20 of epoch 9 complete. Loss : 0.8549123555421829 \n"
     ]
    },
    {
     "output_type": "stream",
     "name": "stderr",
     "text": [
      " 65%|██████▌   | 13/20 [00:01<00:01,  6.60it/s]"
     ]
    },
    {
     "output_type": "stream",
     "name": "stdout",
     "text": [
      "\n",
      "Iteration 12/20 of epoch 9 complete. Loss : 0.8522575050592422 \n"
     ]
    },
    {
     "output_type": "stream",
     "name": "stderr",
     "text": [
      " 85%|████████▌ | 17/20 [00:02<00:00,  6.61it/s]"
     ]
    },
    {
     "output_type": "stream",
     "name": "stdout",
     "text": [
      "\n",
      "Iteration 16/20 of epoch 9 complete. Loss : 0.8505974262952805 \n"
     ]
    },
    {
     "output_type": "stream",
     "name": "stderr",
     "text": [
      "100%|██████████| 20/20 [00:02<00:00,  6.91it/s]\n",
      " 20%|██        | 1/5 [00:00<00:00,  7.20it/s]"
     ]
    },
    {
     "output_type": "stream",
     "name": "stdout",
     "text": [
      "\n",
      "Iteration 20/20 of epoch 9 complete. Loss : 0.8485257178544998 \n"
     ]
    },
    {
     "output_type": "stream",
     "name": "stderr",
     "text": [
      "100%|██████████| 5/5 [00:00<00:00,  7.47it/s]\n",
      "  5%|▌         | 1/20 [00:00<00:02,  6.63it/s]"
     ]
    },
    {
     "output_type": "stream",
     "name": "stdout",
     "text": [
      "\n",
      "Epoch 9 complete! Validation Loss : 1.686661720275879\n",
      "Epoch 9 complete! Validation Accuracy : 0.6533344072164948\n",
      "Best validation loss improved from 1.7085378170013428 to 1.686661720275879\n",
      "\n"
     ]
    },
    {
     "output_type": "stream",
     "name": "stderr",
     "text": [
      " 25%|██▌       | 5/20 [00:00<00:02,  6.61it/s]"
     ]
    },
    {
     "output_type": "stream",
     "name": "stdout",
     "text": [
      "\n",
      "Iteration 4/20 of epoch 10 complete. Loss : 0.8448375314474106 \n"
     ]
    },
    {
     "output_type": "stream",
     "name": "stderr",
     "text": [
      " 45%|████▌     | 9/20 [00:01<00:01,  6.58it/s]"
     ]
    },
    {
     "output_type": "stream",
     "name": "stdout",
     "text": [
      "\n",
      "Iteration 8/20 of epoch 10 complete. Loss : 0.8433521836996078 \n"
     ]
    },
    {
     "output_type": "stream",
     "name": "stderr",
     "text": [
      " 65%|██████▌   | 13/20 [00:01<00:01,  6.59it/s]"
     ]
    },
    {
     "output_type": "stream",
     "name": "stdout",
     "text": [
      "\n",
      "Iteration 12/20 of epoch 10 complete. Loss : 0.8420366048812866 \n"
     ]
    },
    {
     "output_type": "stream",
     "name": "stderr",
     "text": [
      " 85%|████████▌ | 17/20 [00:02<00:00,  6.60it/s]"
     ]
    },
    {
     "output_type": "stream",
     "name": "stdout",
     "text": [
      "\n",
      "Iteration 16/20 of epoch 10 complete. Loss : 0.8371737897396088 \n"
     ]
    },
    {
     "output_type": "stream",
     "name": "stderr",
     "text": [
      "100%|██████████| 20/20 [00:02<00:00,  6.89it/s]\n",
      " 20%|██        | 1/5 [00:00<00:00,  7.21it/s]"
     ]
    },
    {
     "output_type": "stream",
     "name": "stdout",
     "text": [
      "\n",
      "Iteration 20/20 of epoch 10 complete. Loss : 0.8386937230825424 \n"
     ]
    },
    {
     "output_type": "stream",
     "name": "stderr",
     "text": [
      "100%|██████████| 5/5 [00:00<00:00,  7.48it/s]\n",
      "  5%|▌         | 1/20 [00:00<00:02,  6.65it/s]"
     ]
    },
    {
     "output_type": "stream",
     "name": "stdout",
     "text": [
      "\n",
      "Epoch 10 complete! Validation Loss : 1.6642154455184937\n",
      "Epoch 10 complete! Validation Accuracy : 0.6694587628865979\n",
      "Best validation loss improved from 1.686661720275879 to 1.6642154455184937\n",
      "\n"
     ]
    },
    {
     "output_type": "stream",
     "name": "stderr",
     "text": [
      " 25%|██▌       | 5/20 [00:00<00:02,  6.60it/s]"
     ]
    },
    {
     "output_type": "stream",
     "name": "stdout",
     "text": [
      "\n",
      "Iteration 4/20 of epoch 11 complete. Loss : 0.8323990404605865 \n"
     ]
    },
    {
     "output_type": "stream",
     "name": "stderr",
     "text": [
      " 45%|████▌     | 9/20 [00:01<00:01,  6.56it/s]"
     ]
    },
    {
     "output_type": "stream",
     "name": "stdout",
     "text": [
      "\n",
      "Iteration 8/20 of epoch 11 complete. Loss : 0.8298634886741638 \n"
     ]
    },
    {
     "output_type": "stream",
     "name": "stderr",
     "text": [
      " 65%|██████▌   | 13/20 [00:01<00:01,  6.58it/s]"
     ]
    },
    {
     "output_type": "stream",
     "name": "stdout",
     "text": [
      "\n",
      "Iteration 12/20 of epoch 11 complete. Loss : 0.8274469375610352 \n"
     ]
    },
    {
     "output_type": "stream",
     "name": "stderr",
     "text": [
      " 85%|████████▌ | 17/20 [00:02<00:00,  6.59it/s]"
     ]
    },
    {
     "output_type": "stream",
     "name": "stdout",
     "text": [
      "\n",
      "Iteration 16/20 of epoch 11 complete. Loss : 0.8233596533536911 \n"
     ]
    },
    {
     "output_type": "stream",
     "name": "stderr",
     "text": [
      "100%|██████████| 20/20 [00:02<00:00,  6.88it/s]\n",
      " 20%|██        | 1/5 [00:00<00:00,  7.23it/s]"
     ]
    },
    {
     "output_type": "stream",
     "name": "stdout",
     "text": [
      "\n",
      "Iteration 20/20 of epoch 11 complete. Loss : 0.8248928338289261 \n"
     ]
    },
    {
     "output_type": "stream",
     "name": "stderr",
     "text": [
      "100%|██████████| 5/5 [00:00<00:00,  7.47it/s]\n",
      "  5%|▌         | 1/20 [00:00<00:02,  6.63it/s]"
     ]
    },
    {
     "output_type": "stream",
     "name": "stdout",
     "text": [
      "\n",
      "Epoch 11 complete! Validation Loss : 1.6284131288528443\n",
      "Epoch 11 complete! Validation Accuracy : 0.6782699742268041\n",
      "Best validation loss improved from 1.6642154455184937 to 1.6284131288528443\n",
      "\n"
     ]
    },
    {
     "output_type": "stream",
     "name": "stderr",
     "text": [
      " 25%|██▌       | 5/20 [00:00<00:02,  6.47it/s]"
     ]
    },
    {
     "output_type": "stream",
     "name": "stdout",
     "text": [
      "\n",
      "Iteration 4/20 of epoch 12 complete. Loss : 0.8185582458972931 \n"
     ]
    },
    {
     "output_type": "stream",
     "name": "stderr",
     "text": [
      " 45%|████▌     | 9/20 [00:01<00:01,  6.53it/s]"
     ]
    },
    {
     "output_type": "stream",
     "name": "stdout",
     "text": [
      "\n",
      "Iteration 8/20 of epoch 12 complete. Loss : 0.8123289048671722 \n"
     ]
    },
    {
     "output_type": "stream",
     "name": "stderr",
     "text": [
      " 65%|██████▌   | 13/20 [00:01<00:01,  6.57it/s]"
     ]
    },
    {
     "output_type": "stream",
     "name": "stdout",
     "text": [
      "\n",
      "Iteration 12/20 of epoch 12 complete. Loss : 0.8125681728124619 \n"
     ]
    },
    {
     "output_type": "stream",
     "name": "stderr",
     "text": [
      " 85%|████████▌ | 17/20 [00:02<00:00,  6.58it/s]"
     ]
    },
    {
     "output_type": "stream",
     "name": "stdout",
     "text": [
      "\n",
      "Iteration 16/20 of epoch 12 complete. Loss : 0.8076887726783752 \n"
     ]
    },
    {
     "output_type": "stream",
     "name": "stderr",
     "text": [
      "100%|██████████| 20/20 [00:02<00:00,  6.84it/s]\n",
      " 20%|██        | 1/5 [00:00<00:00,  7.16it/s]"
     ]
    },
    {
     "output_type": "stream",
     "name": "stdout",
     "text": [
      "\n",
      "Iteration 20/20 of epoch 12 complete. Loss : 0.8113760501146317 \n"
     ]
    },
    {
     "output_type": "stream",
     "name": "stderr",
     "text": [
      "100%|██████████| 5/5 [00:00<00:00,  7.46it/s]\n",
      "  5%|▌         | 1/20 [00:00<00:02,  6.61it/s]"
     ]
    },
    {
     "output_type": "stream",
     "name": "stdout",
     "text": [
      "\n",
      "Epoch 12 complete! Validation Loss : 1.5894324064254761\n",
      "Epoch 12 complete! Validation Accuracy : 0.6757087628865979\n",
      "Best validation loss improved from 1.6284131288528443 to 1.5894324064254761\n",
      "\n"
     ]
    },
    {
     "output_type": "stream",
     "name": "stderr",
     "text": [
      " 25%|██▌       | 5/20 [00:00<00:02,  6.58it/s]"
     ]
    },
    {
     "output_type": "stream",
     "name": "stdout",
     "text": [
      "\n",
      "Iteration 4/20 of epoch 13 complete. Loss : 0.8023991137742996 \n"
     ]
    },
    {
     "output_type": "stream",
     "name": "stderr",
     "text": [
      " 45%|████▌     | 9/20 [00:01<00:01,  6.55it/s]"
     ]
    },
    {
     "output_type": "stream",
     "name": "stdout",
     "text": [
      "\n",
      "Iteration 8/20 of epoch 13 complete. Loss : 0.7962796241044998 \n"
     ]
    },
    {
     "output_type": "stream",
     "name": "stderr",
     "text": [
      " 65%|██████▌   | 13/20 [00:01<00:01,  6.51it/s]"
     ]
    },
    {
     "output_type": "stream",
     "name": "stdout",
     "text": [
      "\n",
      "Iteration 12/20 of epoch 13 complete. Loss : 0.7909051328897476 \n"
     ]
    },
    {
     "output_type": "stream",
     "name": "stderr",
     "text": [
      " 85%|████████▌ | 17/20 [00:02<00:00,  6.55it/s]"
     ]
    },
    {
     "output_type": "stream",
     "name": "stdout",
     "text": [
      "\n",
      "Iteration 16/20 of epoch 13 complete. Loss : 0.7897524982690811 \n"
     ]
    },
    {
     "output_type": "stream",
     "name": "stderr",
     "text": [
      "100%|██████████| 20/20 [00:02<00:00,  6.85it/s]\n",
      " 20%|██        | 1/5 [00:00<00:00,  7.19it/s]"
     ]
    },
    {
     "output_type": "stream",
     "name": "stdout",
     "text": [
      "\n",
      "Iteration 20/20 of epoch 13 complete. Loss : 0.7896679639816284 \n"
     ]
    },
    {
     "output_type": "stream",
     "name": "stderr",
     "text": [
      "100%|██████████| 5/5 [00:00<00:00,  7.44it/s]\n",
      "  5%|▌         | 1/20 [00:00<00:02,  6.61it/s]"
     ]
    },
    {
     "output_type": "stream",
     "name": "stdout",
     "text": [
      "\n",
      "Epoch 13 complete! Validation Loss : 1.5514991521835326\n",
      "Epoch 13 complete! Validation Accuracy : 0.6757087628865979\n",
      "Best validation loss improved from 1.5894324064254761 to 1.5514991521835326\n",
      "\n"
     ]
    },
    {
     "output_type": "stream",
     "name": "stderr",
     "text": [
      " 25%|██▌       | 5/20 [00:00<00:02,  6.55it/s]"
     ]
    },
    {
     "output_type": "stream",
     "name": "stdout",
     "text": [
      "\n",
      "Iteration 4/20 of epoch 14 complete. Loss : 0.7800933569669724 \n"
     ]
    },
    {
     "output_type": "stream",
     "name": "stderr",
     "text": [
      " 45%|████▌     | 9/20 [00:01<00:01,  6.50it/s]"
     ]
    },
    {
     "output_type": "stream",
     "name": "stdout",
     "text": [
      "\n",
      "Iteration 8/20 of epoch 14 complete. Loss : 0.7781087756156921 \n"
     ]
    },
    {
     "output_type": "stream",
     "name": "stderr",
     "text": [
      " 65%|██████▌   | 13/20 [00:01<00:01,  6.50it/s]"
     ]
    },
    {
     "output_type": "stream",
     "name": "stdout",
     "text": [
      "\n",
      "Iteration 12/20 of epoch 14 complete. Loss : 0.7696923017501831 \n"
     ]
    },
    {
     "output_type": "stream",
     "name": "stderr",
     "text": [
      " 85%|████████▌ | 17/20 [00:02<00:00,  6.52it/s]"
     ]
    },
    {
     "output_type": "stream",
     "name": "stdout",
     "text": [
      "\n",
      "Iteration 16/20 of epoch 14 complete. Loss : 0.7685669213533401 \n"
     ]
    },
    {
     "output_type": "stream",
     "name": "stderr",
     "text": [
      "100%|██████████| 20/20 [00:02<00:00,  6.81it/s]\n",
      " 20%|██        | 1/5 [00:00<00:00,  7.15it/s]"
     ]
    },
    {
     "output_type": "stream",
     "name": "stdout",
     "text": [
      "\n",
      "Iteration 20/20 of epoch 14 complete. Loss : 0.7698550969362259 \n"
     ]
    },
    {
     "output_type": "stream",
     "name": "stderr",
     "text": [
      "100%|██████████| 5/5 [00:00<00:00,  7.43it/s]\n",
      "  5%|▌         | 1/20 [00:00<00:02,  6.62it/s]"
     ]
    },
    {
     "output_type": "stream",
     "name": "stdout",
     "text": [
      "\n",
      "Epoch 14 complete! Validation Loss : 1.4990639209747314\n",
      "Epoch 14 complete! Validation Accuracy : 0.6757087628865979\n",
      "Best validation loss improved from 1.5514991521835326 to 1.4990639209747314\n",
      "\n"
     ]
    },
    {
     "output_type": "stream",
     "name": "stderr",
     "text": [
      " 25%|██▌       | 5/20 [00:00<00:02,  6.56it/s]"
     ]
    },
    {
     "output_type": "stream",
     "name": "stdout",
     "text": [
      "\n",
      "Iteration 4/20 of epoch 15 complete. Loss : 0.7585915923118591 \n"
     ]
    },
    {
     "output_type": "stream",
     "name": "stderr",
     "text": [
      " 45%|████▌     | 9/20 [00:01<00:01,  6.54it/s]"
     ]
    },
    {
     "output_type": "stream",
     "name": "stdout",
     "text": [
      "\n",
      "Iteration 8/20 of epoch 15 complete. Loss : 0.7558296322822571 \n"
     ]
    },
    {
     "output_type": "stream",
     "name": "stderr",
     "text": [
      " 65%|██████▌   | 13/20 [00:01<00:01,  6.54it/s]"
     ]
    },
    {
     "output_type": "stream",
     "name": "stdout",
     "text": [
      "\n",
      "Iteration 12/20 of epoch 15 complete. Loss : 0.7441040873527527 \n"
     ]
    },
    {
     "output_type": "stream",
     "name": "stderr",
     "text": [
      " 85%|████████▌ | 17/20 [00:02<00:00,  6.53it/s]"
     ]
    },
    {
     "output_type": "stream",
     "name": "stdout",
     "text": [
      "\n",
      "Iteration 16/20 of epoch 15 complete. Loss : 0.744861051440239 \n"
     ]
    },
    {
     "output_type": "stream",
     "name": "stderr",
     "text": [
      "100%|██████████| 20/20 [00:02<00:00,  6.84it/s]\n",
      " 20%|██        | 1/5 [00:00<00:00,  7.14it/s]"
     ]
    },
    {
     "output_type": "stream",
     "name": "stdout",
     "text": [
      "\n",
      "Iteration 20/20 of epoch 15 complete. Loss : 0.7343128323554993 \n"
     ]
    },
    {
     "output_type": "stream",
     "name": "stderr",
     "text": [
      "100%|██████████| 5/5 [00:00<00:00,  7.37it/s]\n",
      "  5%|▌         | 1/20 [00:00<00:02,  6.60it/s]"
     ]
    },
    {
     "output_type": "stream",
     "name": "stdout",
     "text": [
      "\n",
      "Epoch 15 complete! Validation Loss : 1.4494452238082887\n",
      "Epoch 15 complete! Validation Accuracy : 0.6757087628865979\n",
      "Best validation loss improved from 1.4990639209747314 to 1.4494452238082887\n",
      "\n"
     ]
    },
    {
     "output_type": "stream",
     "name": "stderr",
     "text": [
      " 25%|██▌       | 5/20 [00:00<00:02,  6.57it/s]"
     ]
    },
    {
     "output_type": "stream",
     "name": "stdout",
     "text": [
      "\n",
      "Iteration 4/20 of epoch 16 complete. Loss : 0.7332078367471695 \n"
     ]
    },
    {
     "output_type": "stream",
     "name": "stderr",
     "text": [
      " 45%|████▌     | 9/20 [00:01<00:01,  6.57it/s]"
     ]
    },
    {
     "output_type": "stream",
     "name": "stdout",
     "text": [
      "\n",
      "Iteration 8/20 of epoch 16 complete. Loss : 0.7227292656898499 \n"
     ]
    },
    {
     "output_type": "stream",
     "name": "stderr",
     "text": [
      " 65%|██████▌   | 13/20 [00:01<00:01,  6.56it/s]"
     ]
    },
    {
     "output_type": "stream",
     "name": "stdout",
     "text": [
      "\n",
      "Iteration 12/20 of epoch 16 complete. Loss : 0.7204688638448715 \n"
     ]
    },
    {
     "output_type": "stream",
     "name": "stderr",
     "text": [
      " 85%|████████▌ | 17/20 [00:02<00:00,  6.55it/s]"
     ]
    },
    {
     "output_type": "stream",
     "name": "stdout",
     "text": [
      "\n",
      "Iteration 16/20 of epoch 16 complete. Loss : 0.7116337716579437 \n"
     ]
    },
    {
     "output_type": "stream",
     "name": "stderr",
     "text": [
      "100%|██████████| 20/20 [00:02<00:00,  6.86it/s]\n",
      " 20%|██        | 1/5 [00:00<00:00,  7.13it/s]"
     ]
    },
    {
     "output_type": "stream",
     "name": "stdout",
     "text": [
      "\n",
      "Iteration 20/20 of epoch 16 complete. Loss : 0.711715430021286 \n"
     ]
    },
    {
     "output_type": "stream",
     "name": "stderr",
     "text": [
      "100%|██████████| 5/5 [00:00<00:00,  7.40it/s]\n",
      "  5%|▌         | 1/20 [00:00<00:02,  6.57it/s]"
     ]
    },
    {
     "output_type": "stream",
     "name": "stdout",
     "text": [
      "\n",
      "Epoch 16 complete! Validation Loss : 1.3890710830688477\n",
      "Epoch 16 complete! Validation Accuracy : 0.6757087628865979\n",
      "Best validation loss improved from 1.4494452238082887 to 1.3890710830688477\n",
      "\n"
     ]
    },
    {
     "output_type": "stream",
     "name": "stderr",
     "text": [
      " 25%|██▌       | 5/20 [00:00<00:02,  6.52it/s]"
     ]
    },
    {
     "output_type": "stream",
     "name": "stdout",
     "text": [
      "\n",
      "Iteration 4/20 of epoch 17 complete. Loss : 0.7013564854860306 \n"
     ]
    },
    {
     "output_type": "stream",
     "name": "stderr",
     "text": [
      " 45%|████▌     | 9/20 [00:01<00:01,  6.44it/s]"
     ]
    },
    {
     "output_type": "stream",
     "name": "stdout",
     "text": [
      "\n",
      "Iteration 8/20 of epoch 17 complete. Loss : 0.6981683224439621 \n"
     ]
    },
    {
     "output_type": "stream",
     "name": "stderr",
     "text": [
      " 65%|██████▌   | 13/20 [00:02<00:01,  6.44it/s]"
     ]
    },
    {
     "output_type": "stream",
     "name": "stdout",
     "text": [
      "\n",
      "Iteration 12/20 of epoch 17 complete. Loss : 0.691600501537323 \n"
     ]
    },
    {
     "output_type": "stream",
     "name": "stderr",
     "text": [
      " 85%|████████▌ | 17/20 [00:02<00:00,  6.45it/s]"
     ]
    },
    {
     "output_type": "stream",
     "name": "stdout",
     "text": [
      "\n",
      "Iteration 16/20 of epoch 17 complete. Loss : 0.6765557378530502 \n"
     ]
    },
    {
     "output_type": "stream",
     "name": "stderr",
     "text": [
      "100%|██████████| 20/20 [00:02<00:00,  6.78it/s]\n",
      " 20%|██        | 1/5 [00:00<00:00,  6.92it/s]"
     ]
    },
    {
     "output_type": "stream",
     "name": "stdout",
     "text": [
      "\n",
      "Iteration 20/20 of epoch 17 complete. Loss : 0.674014076590538 \n"
     ]
    },
    {
     "output_type": "stream",
     "name": "stderr",
     "text": [
      "100%|██████████| 5/5 [00:00<00:00,  7.22it/s]\n",
      "  5%|▌         | 1/20 [00:00<00:02,  6.36it/s]"
     ]
    },
    {
     "output_type": "stream",
     "name": "stdout",
     "text": [
      "\n",
      "Epoch 17 complete! Validation Loss : 1.3192093133926392\n",
      "Epoch 17 complete! Validation Accuracy : 0.6757087628865979\n",
      "Best validation loss improved from 1.3890710830688477 to 1.3192093133926392\n",
      "\n"
     ]
    },
    {
     "output_type": "stream",
     "name": "stderr",
     "text": [
      " 25%|██▌       | 5/20 [00:00<00:02,  6.35it/s]"
     ]
    },
    {
     "output_type": "stream",
     "name": "stdout",
     "text": [
      "\n",
      "Iteration 4/20 of epoch 18 complete. Loss : 0.6698108315467834 \n"
     ]
    },
    {
     "output_type": "stream",
     "name": "stderr",
     "text": [
      " 45%|████▌     | 9/20 [00:01<00:01,  6.36it/s]"
     ]
    },
    {
     "output_type": "stream",
     "name": "stdout",
     "text": [
      "\n",
      "Iteration 8/20 of epoch 18 complete. Loss : 0.6614033430814743 \n"
     ]
    },
    {
     "output_type": "stream",
     "name": "stderr",
     "text": [
      " 65%|██████▌   | 13/20 [00:02<00:01,  6.35it/s]"
     ]
    },
    {
     "output_type": "stream",
     "name": "stdout",
     "text": [
      "\n",
      "Iteration 12/20 of epoch 18 complete. Loss : 0.6585313677787781 \n"
     ]
    },
    {
     "output_type": "stream",
     "name": "stderr",
     "text": [
      " 85%|████████▌ | 17/20 [00:02<00:00,  6.30it/s]"
     ]
    },
    {
     "output_type": "stream",
     "name": "stdout",
     "text": [
      "\n",
      "Iteration 16/20 of epoch 18 complete. Loss : 0.6484469324350357 \n"
     ]
    },
    {
     "output_type": "stream",
     "name": "stderr",
     "text": [
      "100%|██████████| 20/20 [00:03<00:00,  6.63it/s]\n",
      " 20%|██        | 1/5 [00:00<00:00,  6.86it/s]"
     ]
    },
    {
     "output_type": "stream",
     "name": "stdout",
     "text": [
      "\n",
      "Iteration 20/20 of epoch 18 complete. Loss : 0.6750673800706863 \n"
     ]
    },
    {
     "output_type": "stream",
     "name": "stderr",
     "text": [
      "100%|██████████| 5/5 [00:00<00:00,  7.17it/s]\n",
      "  5%|▌         | 1/20 [00:00<00:02,  6.35it/s]"
     ]
    },
    {
     "output_type": "stream",
     "name": "stdout",
     "text": [
      "\n",
      "Epoch 18 complete! Validation Loss : 1.2470152378082275\n",
      "Epoch 18 complete! Validation Accuracy : 0.6757087628865979\n",
      "Best validation loss improved from 1.3192093133926392 to 1.2470152378082275\n",
      "\n"
     ]
    },
    {
     "output_type": "stream",
     "name": "stderr",
     "text": [
      " 25%|██▌       | 5/20 [00:00<00:02,  6.21it/s]"
     ]
    },
    {
     "output_type": "stream",
     "name": "stdout",
     "text": [
      "\n",
      "Iteration 4/20 of epoch 19 complete. Loss : 0.6303572356700897 \n"
     ]
    },
    {
     "output_type": "stream",
     "name": "stderr",
     "text": [
      " 45%|████▌     | 9/20 [00:01<00:01,  6.27it/s]"
     ]
    },
    {
     "output_type": "stream",
     "name": "stdout",
     "text": [
      "\n",
      "Iteration 8/20 of epoch 19 complete. Loss : 0.6280878633260727 \n"
     ]
    },
    {
     "output_type": "stream",
     "name": "stderr",
     "text": [
      " 65%|██████▌   | 13/20 [00:02<00:01,  6.31it/s]"
     ]
    },
    {
     "output_type": "stream",
     "name": "stdout",
     "text": [
      "\n",
      "Iteration 12/20 of epoch 19 complete. Loss : 0.6223755478858948 \n"
     ]
    },
    {
     "output_type": "stream",
     "name": "stderr",
     "text": [
      " 85%|████████▌ | 17/20 [00:02<00:00,  6.30it/s]"
     ]
    },
    {
     "output_type": "stream",
     "name": "stdout",
     "text": [
      "\n",
      "Iteration 16/20 of epoch 19 complete. Loss : 0.6064140349626541 \n"
     ]
    },
    {
     "output_type": "stream",
     "name": "stderr",
     "text": [
      "100%|██████████| 20/20 [00:03<00:00,  6.57it/s]\n",
      " 20%|██        | 1/5 [00:00<00:00,  6.86it/s]"
     ]
    },
    {
     "output_type": "stream",
     "name": "stdout",
     "text": [
      "\n",
      "Iteration 20/20 of epoch 19 complete. Loss : 0.5970286726951599 \n"
     ]
    },
    {
     "output_type": "stream",
     "name": "stderr",
     "text": [
      "100%|██████████| 5/5 [00:00<00:00,  7.17it/s]\n",
      "  0%|          | 0/20 [00:00<?, ?it/s]"
     ]
    },
    {
     "output_type": "stream",
     "name": "stdout",
     "text": [
      "\n",
      "Epoch 19 complete! Validation Loss : 1.1759912967681885\n",
      "Epoch 19 complete! Validation Accuracy : 0.6757087628865979\n",
      "Best validation loss improved from 1.2470152378082275 to 1.1759912967681885\n",
      "\n"
     ]
    },
    {
     "output_type": "stream",
     "name": "stderr",
     "text": [
      " 25%|██▌       | 5/20 [00:00<00:02,  6.37it/s]"
     ]
    },
    {
     "output_type": "stream",
     "name": "stdout",
     "text": [
      "\n",
      "Iteration 4/20 of epoch 20 complete. Loss : 0.5937672555446625 \n"
     ]
    },
    {
     "output_type": "stream",
     "name": "stderr",
     "text": [
      " 45%|████▌     | 9/20 [00:01<00:01,  6.31it/s]"
     ]
    },
    {
     "output_type": "stream",
     "name": "stdout",
     "text": [
      "\n",
      "Iteration 8/20 of epoch 20 complete. Loss : 0.599273681640625 \n"
     ]
    },
    {
     "output_type": "stream",
     "name": "stderr",
     "text": [
      " 65%|██████▌   | 13/20 [00:02<00:01,  5.87it/s]"
     ]
    },
    {
     "output_type": "stream",
     "name": "stdout",
     "text": [
      "\n",
      "Iteration 12/20 of epoch 20 complete. Loss : 0.5815574824810028 \n"
     ]
    },
    {
     "output_type": "stream",
     "name": "stderr",
     "text": [
      " 85%|████████▌ | 17/20 [00:02<00:00,  5.71it/s]"
     ]
    },
    {
     "output_type": "stream",
     "name": "stdout",
     "text": [
      "\n",
      "Iteration 16/20 of epoch 20 complete. Loss : 0.5749627500772476 \n"
     ]
    },
    {
     "output_type": "stream",
     "name": "stderr",
     "text": [
      "100%|██████████| 20/20 [00:03<00:00,  6.27it/s]\n",
      " 20%|██        | 1/5 [00:00<00:00,  6.12it/s]"
     ]
    },
    {
     "output_type": "stream",
     "name": "stdout",
     "text": [
      "\n",
      "Iteration 20/20 of epoch 20 complete. Loss : 0.5742299854755402 \n"
     ]
    },
    {
     "output_type": "stream",
     "name": "stderr",
     "text": [
      "100%|██████████| 5/5 [00:00<00:00,  6.41it/s]\n",
      "  0%|          | 0/20 [00:00<?, ?it/s]"
     ]
    },
    {
     "output_type": "stream",
     "name": "stdout",
     "text": [
      "\n",
      "Epoch 20 complete! Validation Loss : 1.1025044202804566\n",
      "Epoch 20 complete! Validation Accuracy : 0.6757087628865979\n",
      "Best validation loss improved from 1.1759912967681885 to 1.1025044202804566\n",
      "\n"
     ]
    },
    {
     "output_type": "stream",
     "name": "stderr",
     "text": [
      " 25%|██▌       | 5/20 [00:00<00:02,  5.75it/s]"
     ]
    },
    {
     "output_type": "stream",
     "name": "stdout",
     "text": [
      "\n",
      "Iteration 4/20 of epoch 21 complete. Loss : 0.5672731101512909 \n"
     ]
    },
    {
     "output_type": "stream",
     "name": "stderr",
     "text": [
      " 45%|████▌     | 9/20 [00:01<00:01,  5.87it/s]"
     ]
    },
    {
     "output_type": "stream",
     "name": "stdout",
     "text": [
      "\n",
      "Iteration 8/20 of epoch 21 complete. Loss : 0.5466714054346085 \n"
     ]
    },
    {
     "output_type": "stream",
     "name": "stderr",
     "text": [
      " 65%|██████▌   | 13/20 [00:02<00:01,  6.00it/s]"
     ]
    },
    {
     "output_type": "stream",
     "name": "stdout",
     "text": [
      "\n",
      "Iteration 12/20 of epoch 21 complete. Loss : 0.5570010840892792 \n"
     ]
    },
    {
     "output_type": "stream",
     "name": "stderr",
     "text": [
      " 85%|████████▌ | 17/20 [00:02<00:00,  6.21it/s]"
     ]
    },
    {
     "output_type": "stream",
     "name": "stdout",
     "text": [
      "\n",
      "Iteration 16/20 of epoch 21 complete. Loss : 0.5486529618501663 \n"
     ]
    },
    {
     "output_type": "stream",
     "name": "stderr",
     "text": [
      "100%|██████████| 20/20 [00:03<00:00,  6.24it/s]\n",
      " 20%|██        | 1/5 [00:00<00:00,  6.85it/s]"
     ]
    },
    {
     "output_type": "stream",
     "name": "stdout",
     "text": [
      "\n",
      "Iteration 20/20 of epoch 21 complete. Loss : 0.5579850822687149 \n"
     ]
    },
    {
     "output_type": "stream",
     "name": "stderr",
     "text": [
      "100%|██████████| 5/5 [00:00<00:00,  7.09it/s]\n",
      "  5%|▌         | 1/20 [00:00<00:03,  6.28it/s]"
     ]
    },
    {
     "output_type": "stream",
     "name": "stdout",
     "text": [
      "\n",
      "Epoch 21 complete! Validation Loss : 1.0496788024902344\n",
      "Epoch 21 complete! Validation Accuracy : 0.6757087628865979\n",
      "Best validation loss improved from 1.1025044202804566 to 1.0496788024902344\n",
      "\n"
     ]
    },
    {
     "output_type": "stream",
     "name": "stderr",
     "text": [
      " 25%|██▌       | 5/20 [00:00<00:02,  6.26it/s]"
     ]
    },
    {
     "output_type": "stream",
     "name": "stdout",
     "text": [
      "\n",
      "Iteration 4/20 of epoch 22 complete. Loss : 0.5227305442094803 \n"
     ]
    },
    {
     "output_type": "stream",
     "name": "stderr",
     "text": [
      " 45%|████▌     | 9/20 [00:01<00:01,  6.23it/s]"
     ]
    },
    {
     "output_type": "stream",
     "name": "stdout",
     "text": [
      "\n",
      "Iteration 8/20 of epoch 22 complete. Loss : 0.535359263420105 \n"
     ]
    },
    {
     "output_type": "stream",
     "name": "stderr",
     "text": [
      " 65%|██████▌   | 13/20 [00:02<00:01,  6.23it/s]"
     ]
    },
    {
     "output_type": "stream",
     "name": "stdout",
     "text": [
      "\n",
      "Iteration 12/20 of epoch 22 complete. Loss : 0.5208583325147629 \n"
     ]
    },
    {
     "output_type": "stream",
     "name": "stderr",
     "text": [
      " 85%|████████▌ | 17/20 [00:02<00:00,  6.22it/s]"
     ]
    },
    {
     "output_type": "stream",
     "name": "stdout",
     "text": [
      "\n",
      "Iteration 16/20 of epoch 22 complete. Loss : 0.5173346251249313 \n"
     ]
    },
    {
     "output_type": "stream",
     "name": "stderr",
     "text": [
      "100%|██████████| 20/20 [00:03<00:00,  6.53it/s]\n",
      " 20%|██        | 1/5 [00:00<00:00,  6.78it/s]"
     ]
    },
    {
     "output_type": "stream",
     "name": "stdout",
     "text": [
      "\n",
      "Iteration 20/20 of epoch 22 complete. Loss : 0.48839637637138367 \n"
     ]
    },
    {
     "output_type": "stream",
     "name": "stderr",
     "text": [
      "100%|██████████| 5/5 [00:00<00:00,  7.10it/s]\n",
      "  0%|          | 0/20 [00:00<?, ?it/s]"
     ]
    },
    {
     "output_type": "stream",
     "name": "stdout",
     "text": [
      "\n",
      "Epoch 22 complete! Validation Loss : 0.9802956461906434\n",
      "Epoch 22 complete! Validation Accuracy : 0.6757087628865979\n",
      "Best validation loss improved from 1.0496788024902344 to 0.9802956461906434\n",
      "\n"
     ]
    },
    {
     "output_type": "stream",
     "name": "stderr",
     "text": [
      " 25%|██▌       | 5/20 [00:00<00:02,  6.25it/s]"
     ]
    },
    {
     "output_type": "stream",
     "name": "stdout",
     "text": [
      "\n",
      "Iteration 4/20 of epoch 23 complete. Loss : 0.4969654753804207 \n"
     ]
    },
    {
     "output_type": "stream",
     "name": "stderr",
     "text": [
      " 40%|████      | 8/20 [00:01<00:02,  4.48it/s]"
     ]
    },
    {
     "output_type": "stream",
     "name": "stdout",
     "text": [
      "\n",
      "Iteration 8/20 of epoch 23 complete. Loss : 0.5222882926464081 \n"
     ]
    },
    {
     "output_type": "stream",
     "name": "stderr",
     "text": [
      " 60%|██████    | 12/20 [00:02<00:02,  3.39it/s]"
     ]
    },
    {
     "output_type": "stream",
     "name": "stdout",
     "text": [
      "\n",
      "Iteration 12/20 of epoch 23 complete. Loss : 0.49323300272226334 \n"
     ]
    },
    {
     "output_type": "stream",
     "name": "stderr",
     "text": [
      " 80%|████████  | 16/20 [00:04<00:01,  3.21it/s]"
     ]
    },
    {
     "output_type": "stream",
     "name": "stdout",
     "text": [
      "\n",
      "Iteration 16/20 of epoch 23 complete. Loss : 0.4803477004170418 \n"
     ]
    },
    {
     "output_type": "stream",
     "name": "stderr",
     "text": [
      "100%|██████████| 20/20 [00:05<00:00,  3.99it/s]\n",
      "  0%|          | 0/5 [00:00<?, ?it/s]"
     ]
    },
    {
     "output_type": "stream",
     "name": "stdout",
     "text": [
      "\n",
      "Iteration 20/20 of epoch 23 complete. Loss : 0.46894292533397675 \n"
     ]
    },
    {
     "output_type": "stream",
     "name": "stderr",
     "text": [
      "100%|██████████| 5/5 [00:01<00:00,  3.63it/s]\n",
      "  0%|          | 0/20 [00:00<?, ?it/s]"
     ]
    },
    {
     "output_type": "stream",
     "name": "stdout",
     "text": [
      "\n",
      "Epoch 23 complete! Validation Loss : 0.9258100867271424\n",
      "Epoch 23 complete! Validation Accuracy : 0.6757087628865979\n",
      "Best validation loss improved from 0.9802956461906434 to 0.9258100867271424\n",
      "\n"
     ]
    },
    {
     "output_type": "stream",
     "name": "stderr",
     "text": [
      " 20%|██        | 4/20 [00:01<00:05,  3.15it/s]"
     ]
    },
    {
     "output_type": "stream",
     "name": "stdout",
     "text": [
      "\n",
      "Iteration 4/20 of epoch 24 complete. Loss : 0.4722185581922531 \n"
     ]
    },
    {
     "output_type": "stream",
     "name": "stderr",
     "text": [
      " 40%|████      | 8/20 [00:02<00:03,  3.12it/s]"
     ]
    },
    {
     "output_type": "stream",
     "name": "stdout",
     "text": [
      "\n",
      "Iteration 8/20 of epoch 24 complete. Loss : 0.49352239072322845 \n"
     ]
    },
    {
     "output_type": "stream",
     "name": "stderr",
     "text": [
      " 60%|██████    | 12/20 [00:03<00:02,  3.13it/s]"
     ]
    },
    {
     "output_type": "stream",
     "name": "stdout",
     "text": [
      "\n",
      "Iteration 12/20 of epoch 24 complete. Loss : 0.468672513961792 \n"
     ]
    },
    {
     "output_type": "stream",
     "name": "stderr",
     "text": [
      " 80%|████████  | 16/20 [00:05<00:01,  3.09it/s]"
     ]
    },
    {
     "output_type": "stream",
     "name": "stdout",
     "text": [
      "\n",
      "Iteration 16/20 of epoch 24 complete. Loss : 0.4558265134692192 \n"
     ]
    },
    {
     "output_type": "stream",
     "name": "stderr",
     "text": [
      "100%|██████████| 20/20 [00:06<00:00,  3.26it/s]\n",
      "  0%|          | 0/5 [00:00<?, ?it/s]"
     ]
    },
    {
     "output_type": "stream",
     "name": "stdout",
     "text": [
      "\n",
      "Iteration 20/20 of epoch 24 complete. Loss : 0.4873792380094528 \n"
     ]
    },
    {
     "output_type": "stream",
     "name": "stderr",
     "text": [
      "100%|██████████| 5/5 [00:01<00:00,  3.51it/s]\n",
      "  0%|          | 0/20 [00:00<?, ?it/s]"
     ]
    },
    {
     "output_type": "stream",
     "name": "stdout",
     "text": [
      "\n",
      "Epoch 24 complete! Validation Loss : 0.8845453858375549\n",
      "Epoch 24 complete! Validation Accuracy : 0.6757087628865979\n",
      "Best validation loss improved from 0.9258100867271424 to 0.8845453858375549\n",
      "\n"
     ]
    },
    {
     "output_type": "stream",
     "name": "stderr",
     "text": [
      " 20%|██        | 4/20 [00:01<00:05,  3.13it/s]"
     ]
    },
    {
     "output_type": "stream",
     "name": "stdout",
     "text": [
      "\n",
      "Iteration 4/20 of epoch 25 complete. Loss : 0.4534693732857704 \n"
     ]
    },
    {
     "output_type": "stream",
     "name": "stderr",
     "text": [
      " 40%|████      | 8/20 [00:02<00:03,  3.09it/s]"
     ]
    },
    {
     "output_type": "stream",
     "name": "stdout",
     "text": [
      "\n",
      "Iteration 8/20 of epoch 25 complete. Loss : 0.45217034220695496 \n"
     ]
    },
    {
     "output_type": "stream",
     "name": "stderr",
     "text": [
      " 60%|██████    | 12/20 [00:03<00:02,  3.08it/s]"
     ]
    },
    {
     "output_type": "stream",
     "name": "stdout",
     "text": [
      "\n",
      "Iteration 12/20 of epoch 25 complete. Loss : 0.45116373896598816 \n"
     ]
    },
    {
     "output_type": "stream",
     "name": "stderr",
     "text": [
      " 80%|████████  | 16/20 [00:05<00:01,  3.10it/s]"
     ]
    },
    {
     "output_type": "stream",
     "name": "stdout",
     "text": [
      "\n",
      "Iteration 16/20 of epoch 25 complete. Loss : 0.4492114186286926 \n"
     ]
    },
    {
     "output_type": "stream",
     "name": "stderr",
     "text": [
      "100%|██████████| 20/20 [00:06<00:00,  3.29it/s]\n",
      "  0%|          | 0/5 [00:00<?, ?it/s]"
     ]
    },
    {
     "output_type": "stream",
     "name": "stdout",
     "text": [
      "\n",
      "Iteration 20/20 of epoch 25 complete. Loss : 0.4392988383769989 \n"
     ]
    },
    {
     "output_type": "stream",
     "name": "stderr",
     "text": [
      "100%|██████████| 5/5 [00:01<00:00,  3.49it/s]\n",
      "  0%|          | 0/20 [00:00<?, ?it/s]"
     ]
    },
    {
     "output_type": "stream",
     "name": "stdout",
     "text": [
      "\n",
      "Epoch 25 complete! Validation Loss : 0.850849962234497\n",
      "Epoch 25 complete! Validation Accuracy : 0.6757087628865979\n",
      "Best validation loss improved from 0.8845453858375549 to 0.850849962234497\n",
      "\n"
     ]
    },
    {
     "output_type": "stream",
     "name": "stderr",
     "text": [
      " 20%|██        | 4/20 [00:01<00:05,  3.09it/s]"
     ]
    },
    {
     "output_type": "stream",
     "name": "stdout",
     "text": [
      "\n",
      "Iteration 4/20 of epoch 26 complete. Loss : 0.4409560263156891 \n"
     ]
    },
    {
     "output_type": "stream",
     "name": "stderr",
     "text": [
      " 45%|████▌     | 9/20 [00:02<00:02,  4.77it/s]"
     ]
    },
    {
     "output_type": "stream",
     "name": "stdout",
     "text": [
      "\n",
      "Iteration 8/20 of epoch 26 complete. Loss : 0.4378329738974571 \n"
     ]
    },
    {
     "output_type": "stream",
     "name": "stderr",
     "text": [
      " 65%|██████▌   | 13/20 [00:03<00:01,  5.67it/s]"
     ]
    },
    {
     "output_type": "stream",
     "name": "stdout",
     "text": [
      "\n",
      "Iteration 12/20 of epoch 26 complete. Loss : 0.43351806700229645 \n"
     ]
    },
    {
     "output_type": "stream",
     "name": "stderr",
     "text": [
      " 85%|████████▌ | 17/20 [00:03<00:00,  5.95it/s]"
     ]
    },
    {
     "output_type": "stream",
     "name": "stdout",
     "text": [
      "\n",
      "Iteration 16/20 of epoch 26 complete. Loss : 0.43351444602012634 \n"
     ]
    },
    {
     "output_type": "stream",
     "name": "stderr",
     "text": [
      "100%|██████████| 20/20 [00:04<00:00,  4.99it/s]\n",
      " 20%|██        | 1/5 [00:00<00:00,  6.54it/s]"
     ]
    },
    {
     "output_type": "stream",
     "name": "stdout",
     "text": [
      "\n",
      "Iteration 20/20 of epoch 26 complete. Loss : 0.44235316663980484 \n"
     ]
    },
    {
     "output_type": "stream",
     "name": "stderr",
     "text": [
      "100%|██████████| 5/5 [00:00<00:00,  6.88it/s]\n",
      "  5%|▌         | 1/20 [00:00<00:03,  6.06it/s]"
     ]
    },
    {
     "output_type": "stream",
     "name": "stdout",
     "text": [
      "\n",
      "Epoch 26 complete! Validation Loss : 0.8244310617446899\n",
      "Epoch 26 complete! Validation Accuracy : 0.6757087628865979\n",
      "Best validation loss improved from 0.850849962234497 to 0.8244310617446899\n",
      "\n"
     ]
    },
    {
     "output_type": "stream",
     "name": "stderr",
     "text": [
      " 25%|██▌       | 5/20 [00:00<00:02,  6.07it/s]"
     ]
    },
    {
     "output_type": "stream",
     "name": "stdout",
     "text": [
      "\n",
      "Iteration 4/20 of epoch 27 complete. Loss : 0.4266590252518654 \n"
     ]
    },
    {
     "output_type": "stream",
     "name": "stderr",
     "text": [
      " 45%|████▌     | 9/20 [00:01<00:01,  6.08it/s]"
     ]
    },
    {
     "output_type": "stream",
     "name": "stdout",
     "text": [
      "\n",
      "Iteration 8/20 of epoch 27 complete. Loss : 0.4190591350197792 \n"
     ]
    },
    {
     "output_type": "stream",
     "name": "stderr",
     "text": [
      " 65%|██████▌   | 13/20 [00:02<00:01,  6.05it/s]"
     ]
    },
    {
     "output_type": "stream",
     "name": "stdout",
     "text": [
      "\n",
      "Iteration 12/20 of epoch 27 complete. Loss : 0.4209180772304535 \n"
     ]
    },
    {
     "output_type": "stream",
     "name": "stderr",
     "text": [
      " 85%|████████▌ | 17/20 [00:02<00:00,  6.06it/s]"
     ]
    },
    {
     "output_type": "stream",
     "name": "stdout",
     "text": [
      "\n",
      "Iteration 16/20 of epoch 27 complete. Loss : 0.42656227201223373 \n"
     ]
    },
    {
     "output_type": "stream",
     "name": "stderr",
     "text": [
      "100%|██████████| 20/20 [00:03<00:00,  6.34it/s]\n",
      " 20%|██        | 1/5 [00:00<00:00,  6.64it/s]"
     ]
    },
    {
     "output_type": "stream",
     "name": "stdout",
     "text": [
      "\n",
      "Iteration 20/20 of epoch 27 complete. Loss : 0.4468403682112694 \n"
     ]
    },
    {
     "output_type": "stream",
     "name": "stderr",
     "text": [
      "100%|██████████| 5/5 [00:00<00:00,  6.86it/s]\n",
      "  5%|▌         | 1/20 [00:00<00:03,  6.26it/s]"
     ]
    },
    {
     "output_type": "stream",
     "name": "stdout",
     "text": [
      "\n",
      "Epoch 27 complete! Validation Loss : 0.8030958652496338\n",
      "Epoch 27 complete! Validation Accuracy : 0.6757087628865979\n",
      "Best validation loss improved from 0.8244310617446899 to 0.8030958652496338\n",
      "\n"
     ]
    },
    {
     "output_type": "stream",
     "name": "stderr",
     "text": [
      " 25%|██▌       | 5/20 [00:00<00:02,  6.09it/s]"
     ]
    },
    {
     "output_type": "stream",
     "name": "stdout",
     "text": [
      "\n",
      "Iteration 4/20 of epoch 28 complete. Loss : 0.41726280748844147 \n"
     ]
    },
    {
     "output_type": "stream",
     "name": "stderr",
     "text": [
      " 45%|████▌     | 9/20 [00:01<00:01,  6.07it/s]"
     ]
    },
    {
     "output_type": "stream",
     "name": "stdout",
     "text": [
      "\n",
      "Iteration 8/20 of epoch 28 complete. Loss : 0.4115571230649948 \n"
     ]
    },
    {
     "output_type": "stream",
     "name": "stderr",
     "text": [
      " 65%|██████▌   | 13/20 [00:02<00:01,  6.05it/s]"
     ]
    },
    {
     "output_type": "stream",
     "name": "stdout",
     "text": [
      "\n",
      "Iteration 12/20 of epoch 28 complete. Loss : 0.40217146277427673 \n"
     ]
    },
    {
     "output_type": "stream",
     "name": "stderr",
     "text": [
      " 85%|████████▌ | 17/20 [00:02<00:00,  6.07it/s]"
     ]
    },
    {
     "output_type": "stream",
     "name": "stdout",
     "text": [
      "\n",
      "Iteration 16/20 of epoch 28 complete. Loss : 0.4014430269598961 \n"
     ]
    },
    {
     "output_type": "stream",
     "name": "stderr",
     "text": [
      "100%|██████████| 20/20 [00:03<00:00,  6.34it/s]\n",
      " 20%|██        | 1/5 [00:00<00:00,  6.55it/s]"
     ]
    },
    {
     "output_type": "stream",
     "name": "stdout",
     "text": [
      "\n",
      "Iteration 20/20 of epoch 28 complete. Loss : 0.39438222348690033 \n"
     ]
    },
    {
     "output_type": "stream",
     "name": "stderr",
     "text": [
      "100%|██████████| 5/5 [00:00<00:00,  6.87it/s]\n",
      "  5%|▌         | 1/20 [00:00<00:03,  6.07it/s]"
     ]
    },
    {
     "output_type": "stream",
     "name": "stdout",
     "text": [
      "\n",
      "Epoch 28 complete! Validation Loss : 0.7821717619895935\n",
      "Epoch 28 complete! Validation Accuracy : 0.6757087628865979\n",
      "Best validation loss improved from 0.8030958652496338 to 0.7821717619895935\n",
      "\n"
     ]
    },
    {
     "output_type": "stream",
     "name": "stderr",
     "text": [
      " 25%|██▌       | 5/20 [00:00<00:02,  6.08it/s]"
     ]
    },
    {
     "output_type": "stream",
     "name": "stdout",
     "text": [
      "\n",
      "Iteration 4/20 of epoch 29 complete. Loss : 0.3952069655060768 \n"
     ]
    },
    {
     "output_type": "stream",
     "name": "stderr",
     "text": [
      " 45%|████▌     | 9/20 [00:01<00:01,  6.04it/s]"
     ]
    },
    {
     "output_type": "stream",
     "name": "stdout",
     "text": [
      "\n",
      "Iteration 8/20 of epoch 29 complete. Loss : 0.39946448802948 \n"
     ]
    },
    {
     "output_type": "stream",
     "name": "stderr",
     "text": [
      " 65%|██████▌   | 13/20 [00:02<00:01,  6.03it/s]"
     ]
    },
    {
     "output_type": "stream",
     "name": "stdout",
     "text": [
      "\n",
      "Iteration 12/20 of epoch 29 complete. Loss : 0.3975493758916855 \n"
     ]
    },
    {
     "output_type": "stream",
     "name": "stderr",
     "text": [
      " 85%|████████▌ | 17/20 [00:02<00:00,  6.05it/s]"
     ]
    },
    {
     "output_type": "stream",
     "name": "stdout",
     "text": [
      "\n",
      "Iteration 16/20 of epoch 29 complete. Loss : 0.3997579365968704 \n"
     ]
    },
    {
     "output_type": "stream",
     "name": "stderr",
     "text": [
      "100%|██████████| 20/20 [00:03<00:00,  6.33it/s]\n",
      " 20%|██        | 1/5 [00:00<00:00,  6.53it/s]"
     ]
    },
    {
     "output_type": "stream",
     "name": "stdout",
     "text": [
      "\n",
      "Iteration 20/20 of epoch 29 complete. Loss : 0.4031592383980751 \n"
     ]
    },
    {
     "output_type": "stream",
     "name": "stderr",
     "text": [
      "100%|██████████| 5/5 [00:00<00:00,  6.85it/s]\n",
      "  5%|▌         | 1/20 [00:00<00:03,  6.08it/s]"
     ]
    },
    {
     "output_type": "stream",
     "name": "stdout",
     "text": [
      "\n",
      "Epoch 29 complete! Validation Loss : 0.7589527487754821\n",
      "Epoch 29 complete! Validation Accuracy : 0.6757087628865979\n",
      "Best validation loss improved from 0.7821717619895935 to 0.7589527487754821\n",
      "\n"
     ]
    },
    {
     "output_type": "stream",
     "name": "stderr",
     "text": [
      " 25%|██▌       | 5/20 [00:00<00:02,  6.02it/s]"
     ]
    },
    {
     "output_type": "stream",
     "name": "stdout",
     "text": [
      "\n",
      "Iteration 4/20 of epoch 30 complete. Loss : 0.4021024852991104 \n"
     ]
    },
    {
     "output_type": "stream",
     "name": "stderr",
     "text": [
      " 45%|████▌     | 9/20 [00:01<00:01,  6.04it/s]"
     ]
    },
    {
     "output_type": "stream",
     "name": "stdout",
     "text": [
      "\n",
      "Iteration 8/20 of epoch 30 complete. Loss : 0.3930206969380379 \n"
     ]
    },
    {
     "output_type": "stream",
     "name": "stderr",
     "text": [
      " 65%|██████▌   | 13/20 [00:02<00:01,  6.03it/s]"
     ]
    },
    {
     "output_type": "stream",
     "name": "stdout",
     "text": [
      "\n",
      "Iteration 12/20 of epoch 30 complete. Loss : 0.380372978746891 \n"
     ]
    },
    {
     "output_type": "stream",
     "name": "stderr",
     "text": [
      " 85%|████████▌ | 17/20 [00:02<00:00,  6.02it/s]"
     ]
    },
    {
     "output_type": "stream",
     "name": "stdout",
     "text": [
      "\n",
      "Iteration 16/20 of epoch 30 complete. Loss : 0.3832005709409714 \n"
     ]
    },
    {
     "output_type": "stream",
     "name": "stderr",
     "text": [
      "100%|██████████| 20/20 [00:03<00:00,  6.31it/s]\n",
      " 20%|██        | 1/5 [00:00<00:00,  6.72it/s]"
     ]
    },
    {
     "output_type": "stream",
     "name": "stdout",
     "text": [
      "\n",
      "Iteration 20/20 of epoch 30 complete. Loss : 0.38919467478990555 \n"
     ]
    },
    {
     "output_type": "stream",
     "name": "stderr",
     "text": [
      "100%|██████████| 5/5 [00:00<00:00,  6.84it/s]\n",
      "  0%|          | 0/20 [00:00<?, ?it/s]"
     ]
    },
    {
     "output_type": "stream",
     "name": "stdout",
     "text": [
      "\n",
      "Epoch 30 complete! Validation Loss : 0.7491702795028686\n",
      "Epoch 30 complete! Validation Accuracy : 0.6757087628865979\n",
      "Best validation loss improved from 0.7589527487754821 to 0.7491702795028686\n",
      "\n"
     ]
    },
    {
     "output_type": "stream",
     "name": "stderr",
     "text": [
      " 25%|██▌       | 5/20 [00:00<00:02,  6.04it/s]"
     ]
    },
    {
     "output_type": "stream",
     "name": "stdout",
     "text": [
      "\n",
      "Iteration 4/20 of epoch 31 complete. Loss : 0.39223358780145645 \n"
     ]
    },
    {
     "output_type": "stream",
     "name": "stderr",
     "text": [
      " 45%|████▌     | 9/20 [00:01<00:01,  6.01it/s]"
     ]
    },
    {
     "output_type": "stream",
     "name": "stdout",
     "text": [
      "\n",
      "Iteration 8/20 of epoch 31 complete. Loss : 0.3758049011230469 \n"
     ]
    },
    {
     "output_type": "stream",
     "name": "stderr",
     "text": [
      " 65%|██████▌   | 13/20 [00:02<00:01,  6.02it/s]"
     ]
    },
    {
     "output_type": "stream",
     "name": "stdout",
     "text": [
      "\n",
      "Iteration 12/20 of epoch 31 complete. Loss : 0.3847087174654007 \n"
     ]
    },
    {
     "output_type": "stream",
     "name": "stderr",
     "text": [
      " 85%|████████▌ | 17/20 [00:02<00:00,  6.05it/s]"
     ]
    },
    {
     "output_type": "stream",
     "name": "stdout",
     "text": [
      "\n",
      "Iteration 16/20 of epoch 31 complete. Loss : 0.38345281034708023 \n"
     ]
    },
    {
     "output_type": "stream",
     "name": "stderr",
     "text": [
      "100%|██████████| 20/20 [00:03<00:00,  6.32it/s]\n",
      " 20%|██        | 1/5 [00:00<00:00,  6.59it/s]"
     ]
    },
    {
     "output_type": "stream",
     "name": "stdout",
     "text": [
      "\n",
      "Iteration 20/20 of epoch 31 complete. Loss : 0.36504943668842316 \n"
     ]
    },
    {
     "output_type": "stream",
     "name": "stderr",
     "text": [
      "100%|██████████| 5/5 [00:00<00:00,  6.80it/s]\n",
      "  5%|▌         | 1/20 [00:00<00:03,  6.22it/s]"
     ]
    },
    {
     "output_type": "stream",
     "name": "stdout",
     "text": [
      "\n",
      "Epoch 31 complete! Validation Loss : 0.7439666986465454\n",
      "Epoch 31 complete! Validation Accuracy : 0.6757087628865979\n",
      "Best validation loss improved from 0.7491702795028686 to 0.7439666986465454\n",
      "\n"
     ]
    },
    {
     "output_type": "stream",
     "name": "stderr",
     "text": [
      " 25%|██▌       | 5/20 [00:00<00:02,  6.05it/s]"
     ]
    },
    {
     "output_type": "stream",
     "name": "stdout",
     "text": [
      "\n",
      "Iteration 4/20 of epoch 32 complete. Loss : 0.37945662438869476 \n"
     ]
    },
    {
     "output_type": "stream",
     "name": "stderr",
     "text": [
      " 45%|████▌     | 9/20 [00:01<00:01,  6.02it/s]"
     ]
    },
    {
     "output_type": "stream",
     "name": "stdout",
     "text": [
      "\n",
      "Iteration 8/20 of epoch 32 complete. Loss : 0.37496570497751236 \n"
     ]
    },
    {
     "output_type": "stream",
     "name": "stderr",
     "text": [
      " 65%|██████▌   | 13/20 [00:02<00:01,  6.02it/s]"
     ]
    },
    {
     "output_type": "stream",
     "name": "stdout",
     "text": [
      "\n",
      "Iteration 12/20 of epoch 32 complete. Loss : 0.38010287284851074 \n"
     ]
    },
    {
     "output_type": "stream",
     "name": "stderr",
     "text": [
      " 85%|████████▌ | 17/20 [00:02<00:00,  5.97it/s]"
     ]
    },
    {
     "output_type": "stream",
     "name": "stdout",
     "text": [
      "\n",
      "Iteration 16/20 of epoch 32 complete. Loss : 0.3775259554386139 \n"
     ]
    },
    {
     "output_type": "stream",
     "name": "stderr",
     "text": [
      "100%|██████████| 20/20 [00:03<00:00,  6.28it/s]\n",
      " 20%|██        | 1/5 [00:00<00:00,  6.52it/s]"
     ]
    },
    {
     "output_type": "stream",
     "name": "stdout",
     "text": [
      "\n",
      "Iteration 20/20 of epoch 32 complete. Loss : 0.34670356288552284 \n"
     ]
    },
    {
     "output_type": "stream",
     "name": "stderr",
     "text": [
      "100%|██████████| 5/5 [00:00<00:00,  6.77it/s]\n",
      "  5%|▌         | 1/20 [00:00<00:03,  6.24it/s]"
     ]
    },
    {
     "output_type": "stream",
     "name": "stdout",
     "text": [
      "\n",
      "Epoch 32 complete! Validation Loss : 0.7284776449203492\n",
      "Epoch 32 complete! Validation Accuracy : 0.6757087628865979\n",
      "Best validation loss improved from 0.7439666986465454 to 0.7284776449203492\n",
      "\n"
     ]
    },
    {
     "output_type": "stream",
     "name": "stderr",
     "text": [
      " 25%|██▌       | 5/20 [00:00<00:02,  6.06it/s]"
     ]
    },
    {
     "output_type": "stream",
     "name": "stdout",
     "text": [
      "\n",
      "Iteration 4/20 of epoch 33 complete. Loss : 0.37775715440511703 \n"
     ]
    },
    {
     "output_type": "stream",
     "name": "stderr",
     "text": [
      " 45%|████▌     | 9/20 [00:01<00:01,  6.04it/s]"
     ]
    },
    {
     "output_type": "stream",
     "name": "stdout",
     "text": [
      "\n",
      "Iteration 8/20 of epoch 33 complete. Loss : 0.37860093265771866 \n"
     ]
    },
    {
     "output_type": "stream",
     "name": "stderr",
     "text": [
      " 65%|██████▌   | 13/20 [00:02<00:01,  6.05it/s]"
     ]
    },
    {
     "output_type": "stream",
     "name": "stdout",
     "text": [
      "\n",
      "Iteration 12/20 of epoch 33 complete. Loss : 0.36764590442180634 \n"
     ]
    },
    {
     "output_type": "stream",
     "name": "stderr",
     "text": [
      " 85%|████████▌ | 17/20 [00:02<00:00,  6.00it/s]"
     ]
    },
    {
     "output_type": "stream",
     "name": "stdout",
     "text": [
      "\n",
      "Iteration 16/20 of epoch 33 complete. Loss : 0.37126994878053665 \n"
     ]
    },
    {
     "output_type": "stream",
     "name": "stderr",
     "text": [
      "100%|██████████| 20/20 [00:03<00:00,  6.31it/s]\n",
      " 20%|██        | 1/5 [00:00<00:00,  6.46it/s]"
     ]
    },
    {
     "output_type": "stream",
     "name": "stdout",
     "text": [
      "\n",
      "Iteration 20/20 of epoch 33 complete. Loss : 0.33745571225881577 \n"
     ]
    },
    {
     "output_type": "stream",
     "name": "stderr",
     "text": [
      "100%|██████████| 5/5 [00:00<00:00,  6.78it/s]\n",
      "  5%|▌         | 1/20 [00:00<00:03,  6.06it/s]"
     ]
    },
    {
     "output_type": "stream",
     "name": "stdout",
     "text": [
      "\n",
      "Epoch 33 complete! Validation Loss : 0.7188503980636597\n",
      "Epoch 33 complete! Validation Accuracy : 0.6757087628865979\n",
      "Best validation loss improved from 0.7284776449203492 to 0.7188503980636597\n",
      "\n"
     ]
    },
    {
     "output_type": "stream",
     "name": "stderr",
     "text": [
      " 25%|██▌       | 5/20 [00:00<00:02,  5.99it/s]"
     ]
    },
    {
     "output_type": "stream",
     "name": "stdout",
     "text": [
      "\n",
      "Iteration 4/20 of epoch 34 complete. Loss : 0.37905315309762955 \n"
     ]
    },
    {
     "output_type": "stream",
     "name": "stderr",
     "text": [
      " 45%|████▌     | 9/20 [00:01<00:01,  6.00it/s]"
     ]
    },
    {
     "output_type": "stream",
     "name": "stdout",
     "text": [
      "\n",
      "Iteration 8/20 of epoch 34 complete. Loss : 0.36278296262025833 \n"
     ]
    },
    {
     "output_type": "stream",
     "name": "stderr",
     "text": [
      " 65%|██████▌   | 13/20 [00:02<00:01,  5.99it/s]"
     ]
    },
    {
     "output_type": "stream",
     "name": "stdout",
     "text": [
      "\n",
      "Iteration 12/20 of epoch 34 complete. Loss : 0.3590307980775833 \n"
     ]
    },
    {
     "output_type": "stream",
     "name": "stderr",
     "text": [
      " 85%|████████▌ | 17/20 [00:02<00:00,  5.98it/s]"
     ]
    },
    {
     "output_type": "stream",
     "name": "stdout",
     "text": [
      "\n",
      "Iteration 16/20 of epoch 34 complete. Loss : 0.36893004924058914 \n"
     ]
    },
    {
     "output_type": "stream",
     "name": "stderr",
     "text": [
      "100%|██████████| 20/20 [00:03<00:00,  6.27it/s]\n",
      " 20%|██        | 1/5 [00:00<00:00,  6.44it/s]"
     ]
    },
    {
     "output_type": "stream",
     "name": "stdout",
     "text": [
      "\n",
      "Iteration 20/20 of epoch 34 complete. Loss : 0.39972706139087677 \n"
     ]
    },
    {
     "output_type": "stream",
     "name": "stderr",
     "text": [
      "100%|██████████| 5/5 [00:00<00:00,  6.79it/s]\n",
      "  5%|▌         | 1/20 [00:00<00:03,  6.10it/s]"
     ]
    },
    {
     "output_type": "stream",
     "name": "stdout",
     "text": [
      "\n",
      "Epoch 34 complete! Validation Loss : 0.7105255365371704\n",
      "Epoch 34 complete! Validation Accuracy : 0.6757087628865979\n",
      "Best validation loss improved from 0.7188503980636597 to 0.7105255365371704\n",
      "\n"
     ]
    },
    {
     "output_type": "stream",
     "name": "stderr",
     "text": [
      " 25%|██▌       | 5/20 [00:00<00:02,  6.04it/s]"
     ]
    },
    {
     "output_type": "stream",
     "name": "stdout",
     "text": [
      "\n",
      "Iteration 4/20 of epoch 35 complete. Loss : 0.3686034604907036 \n"
     ]
    },
    {
     "output_type": "stream",
     "name": "stderr",
     "text": [
      " 45%|████▌     | 9/20 [00:01<00:01,  6.01it/s]"
     ]
    },
    {
     "output_type": "stream",
     "name": "stdout",
     "text": [
      "\n",
      "Iteration 8/20 of epoch 35 complete. Loss : 0.353866383433342 \n"
     ]
    },
    {
     "output_type": "stream",
     "name": "stderr",
     "text": [
      " 65%|██████▌   | 13/20 [00:02<00:01,  5.98it/s]"
     ]
    },
    {
     "output_type": "stream",
     "name": "stdout",
     "text": [
      "\n",
      "Iteration 12/20 of epoch 35 complete. Loss : 0.37132325023412704 \n"
     ]
    },
    {
     "output_type": "stream",
     "name": "stderr",
     "text": [
      " 85%|████████▌ | 17/20 [00:02<00:00,  5.98it/s]"
     ]
    },
    {
     "output_type": "stream",
     "name": "stdout",
     "text": [
      "\n",
      "Iteration 16/20 of epoch 35 complete. Loss : 0.36356692016124725 \n"
     ]
    },
    {
     "output_type": "stream",
     "name": "stderr",
     "text": [
      "100%|██████████| 20/20 [00:03<00:00,  6.28it/s]\n",
      " 20%|██        | 1/5 [00:00<00:00,  6.51it/s]"
     ]
    },
    {
     "output_type": "stream",
     "name": "stdout",
     "text": [
      "\n",
      "Iteration 20/20 of epoch 35 complete. Loss : 0.3637905716896057 \n"
     ]
    },
    {
     "output_type": "stream",
     "name": "stderr",
     "text": [
      "100%|██████████| 5/5 [00:00<00:00,  6.78it/s]\n",
      "  5%|▌         | 1/20 [00:00<00:03,  6.22it/s]"
     ]
    },
    {
     "output_type": "stream",
     "name": "stdout",
     "text": [
      "\n",
      "Epoch 35 complete! Validation Loss : 0.7031393051147461\n",
      "Epoch 35 complete! Validation Accuracy : 0.6757087628865979\n",
      "Best validation loss improved from 0.7105255365371704 to 0.7031393051147461\n",
      "\n"
     ]
    },
    {
     "output_type": "stream",
     "name": "stderr",
     "text": [
      " 25%|██▌       | 5/20 [00:00<00:02,  6.05it/s]"
     ]
    },
    {
     "output_type": "stream",
     "name": "stdout",
     "text": [
      "\n",
      "Iteration 4/20 of epoch 36 complete. Loss : 0.34991036355495453 \n"
     ]
    },
    {
     "output_type": "stream",
     "name": "stderr",
     "text": [
      " 45%|████▌     | 9/20 [00:01<00:01,  6.01it/s]"
     ]
    },
    {
     "output_type": "stream",
     "name": "stdout",
     "text": [
      "\n",
      "Iteration 8/20 of epoch 36 complete. Loss : 0.3549608215689659 \n"
     ]
    },
    {
     "output_type": "stream",
     "name": "stderr",
     "text": [
      " 65%|██████▌   | 13/20 [00:02<00:01,  5.98it/s]"
     ]
    },
    {
     "output_type": "stream",
     "name": "stdout",
     "text": [
      "\n",
      "Iteration 12/20 of epoch 36 complete. Loss : 0.37346650660037994 \n"
     ]
    },
    {
     "output_type": "stream",
     "name": "stderr",
     "text": [
      " 85%|████████▌ | 17/20 [00:02<00:00,  5.94it/s]"
     ]
    },
    {
     "output_type": "stream",
     "name": "stdout",
     "text": [
      "\n",
      "Iteration 16/20 of epoch 36 complete. Loss : 0.3667519763112068 \n"
     ]
    },
    {
     "output_type": "stream",
     "name": "stderr",
     "text": [
      "100%|██████████| 20/20 [00:03<00:00,  6.26it/s]\n",
      " 20%|██        | 1/5 [00:00<00:00,  6.41it/s]"
     ]
    },
    {
     "output_type": "stream",
     "name": "stdout",
     "text": [
      "\n",
      "Iteration 20/20 of epoch 36 complete. Loss : 0.38121527433395386 \n"
     ]
    },
    {
     "output_type": "stream",
     "name": "stderr",
     "text": [
      "100%|██████████| 5/5 [00:00<00:00,  6.73it/s]\n",
      "  5%|▌         | 1/20 [00:00<00:03,  6.13it/s]"
     ]
    },
    {
     "output_type": "stream",
     "name": "stdout",
     "text": [
      "\n",
      "Epoch 36 complete! Validation Loss : 0.7025568127632141\n",
      "Epoch 36 complete! Validation Accuracy : 0.6757087628865979\n",
      "Best validation loss improved from 0.7031393051147461 to 0.7025568127632141\n",
      "\n"
     ]
    },
    {
     "output_type": "stream",
     "name": "stderr",
     "text": [
      " 25%|██▌       | 5/20 [00:00<00:02,  5.97it/s]"
     ]
    },
    {
     "output_type": "stream",
     "name": "stdout",
     "text": [
      "\n",
      "Iteration 4/20 of epoch 37 complete. Loss : 0.34792473167181015 \n"
     ]
    },
    {
     "output_type": "stream",
     "name": "stderr",
     "text": [
      " 45%|████▌     | 9/20 [00:01<00:01,  5.99it/s]"
     ]
    },
    {
     "output_type": "stream",
     "name": "stdout",
     "text": [
      "\n",
      "Iteration 8/20 of epoch 37 complete. Loss : 0.3584601879119873 \n"
     ]
    },
    {
     "output_type": "stream",
     "name": "stderr",
     "text": [
      " 65%|██████▌   | 13/20 [00:02<00:01,  5.98it/s]"
     ]
    },
    {
     "output_type": "stream",
     "name": "stdout",
     "text": [
      "\n",
      "Iteration 12/20 of epoch 37 complete. Loss : 0.3661120608448982 \n"
     ]
    },
    {
     "output_type": "stream",
     "name": "stderr",
     "text": [
      " 85%|████████▌ | 17/20 [00:02<00:00,  5.93it/s]"
     ]
    },
    {
     "output_type": "stream",
     "name": "stdout",
     "text": [
      "\n",
      "Iteration 16/20 of epoch 37 complete. Loss : 0.3571656718850136 \n"
     ]
    },
    {
     "output_type": "stream",
     "name": "stderr",
     "text": [
      "100%|██████████| 20/20 [00:03<00:00,  6.23it/s]\n",
      " 20%|██        | 1/5 [00:00<00:00,  6.44it/s]"
     ]
    },
    {
     "output_type": "stream",
     "name": "stdout",
     "text": [
      "\n",
      "Iteration 20/20 of epoch 37 complete. Loss : 0.35934603214263916 \n"
     ]
    },
    {
     "output_type": "stream",
     "name": "stderr",
     "text": [
      "100%|██████████| 5/5 [00:00<00:00,  6.73it/s]\n",
      "  5%|▌         | 1/20 [00:00<00:03,  6.15it/s]"
     ]
    },
    {
     "output_type": "stream",
     "name": "stdout",
     "text": [
      "\n",
      "Epoch 37 complete! Validation Loss : 0.6947299599647522\n",
      "Epoch 37 complete! Validation Accuracy : 0.6757087628865979\n",
      "Best validation loss improved from 0.7025568127632141 to 0.6947299599647522\n",
      "\n"
     ]
    },
    {
     "output_type": "stream",
     "name": "stderr",
     "text": [
      " 25%|██▌       | 5/20 [00:00<00:02,  6.01it/s]"
     ]
    },
    {
     "output_type": "stream",
     "name": "stdout",
     "text": [
      "\n",
      "Iteration 4/20 of epoch 38 complete. Loss : 0.3476192131638527 \n"
     ]
    },
    {
     "output_type": "stream",
     "name": "stderr",
     "text": [
      " 45%|████▌     | 9/20 [00:01<00:01,  5.96it/s]"
     ]
    },
    {
     "output_type": "stream",
     "name": "stdout",
     "text": [
      "\n",
      "Iteration 8/20 of epoch 38 complete. Loss : 0.35631241649389267 \n"
     ]
    },
    {
     "output_type": "stream",
     "name": "stderr",
     "text": [
      " 65%|██████▌   | 13/20 [00:02<00:01,  5.93it/s]"
     ]
    },
    {
     "output_type": "stream",
     "name": "stdout",
     "text": [
      "\n",
      "Iteration 12/20 of epoch 38 complete. Loss : 0.3541698306798935 \n"
     ]
    },
    {
     "output_type": "stream",
     "name": "stderr",
     "text": [
      " 85%|████████▌ | 17/20 [00:02<00:00,  5.93it/s]"
     ]
    },
    {
     "output_type": "stream",
     "name": "stdout",
     "text": [
      "\n",
      "Iteration 16/20 of epoch 38 complete. Loss : 0.3642424866557121 \n"
     ]
    },
    {
     "output_type": "stream",
     "name": "stderr",
     "text": [
      "100%|██████████| 20/20 [00:03<00:00,  6.22it/s]\n",
      " 20%|██        | 1/5 [00:00<00:00,  6.45it/s]"
     ]
    },
    {
     "output_type": "stream",
     "name": "stdout",
     "text": [
      "\n",
      "Iteration 20/20 of epoch 38 complete. Loss : 0.36876173317432404 \n"
     ]
    },
    {
     "output_type": "stream",
     "name": "stderr",
     "text": [
      "100%|██████████| 5/5 [00:00<00:00,  6.71it/s]\n",
      "  5%|▌         | 1/20 [00:00<00:03,  6.14it/s]"
     ]
    },
    {
     "output_type": "stream",
     "name": "stdout",
     "text": [
      "\n",
      "Epoch 38 complete! Validation Loss : 0.6902058839797973\n",
      "Epoch 38 complete! Validation Accuracy : 0.6757087628865979\n",
      "Best validation loss improved from 0.6947299599647522 to 0.6902058839797973\n",
      "\n"
     ]
    },
    {
     "output_type": "stream",
     "name": "stderr",
     "text": [
      " 25%|██▌       | 5/20 [00:00<00:02,  5.95it/s]"
     ]
    },
    {
     "output_type": "stream",
     "name": "stdout",
     "text": [
      "\n",
      "Iteration 4/20 of epoch 39 complete. Loss : 0.3579295426607132 \n"
     ]
    },
    {
     "output_type": "stream",
     "name": "stderr",
     "text": [
      " 45%|████▌     | 9/20 [00:01<00:01,  5.94it/s]"
     ]
    },
    {
     "output_type": "stream",
     "name": "stdout",
     "text": [
      "\n",
      "Iteration 8/20 of epoch 39 complete. Loss : 0.3506254255771637 \n"
     ]
    },
    {
     "output_type": "stream",
     "name": "stderr",
     "text": [
      " 65%|██████▌   | 13/20 [00:02<00:01,  5.94it/s]"
     ]
    },
    {
     "output_type": "stream",
     "name": "stdout",
     "text": [
      "\n",
      "Iteration 12/20 of epoch 39 complete. Loss : 0.3498818278312683 \n"
     ]
    },
    {
     "output_type": "stream",
     "name": "stderr",
     "text": [
      " 85%|████████▌ | 17/20 [00:02<00:00,  5.93it/s]"
     ]
    },
    {
     "output_type": "stream",
     "name": "stdout",
     "text": [
      "\n",
      "Iteration 16/20 of epoch 39 complete. Loss : 0.34681807458400726 \n"
     ]
    },
    {
     "output_type": "stream",
     "name": "stderr",
     "text": [
      "100%|██████████| 20/20 [00:03<00:00,  6.23it/s]\n",
      " 20%|██        | 1/5 [00:00<00:00,  6.47it/s]"
     ]
    },
    {
     "output_type": "stream",
     "name": "stdout",
     "text": [
      "\n",
      "Iteration 20/20 of epoch 39 complete. Loss : 0.3603306859731674 \n"
     ]
    },
    {
     "output_type": "stream",
     "name": "stderr",
     "text": [
      "100%|██████████| 5/5 [00:00<00:00,  6.75it/s]\n",
      "  0%|          | 0/20 [00:00<?, ?it/s]"
     ]
    },
    {
     "output_type": "stream",
     "name": "stdout",
     "text": [
      "\n",
      "Epoch 39 complete! Validation Loss : 0.6864538550376892\n",
      "Epoch 39 complete! Validation Accuracy : 0.6757087628865979\n",
      "Best validation loss improved from 0.6902058839797973 to 0.6864538550376892\n",
      "\n"
     ]
    },
    {
     "output_type": "stream",
     "name": "stderr",
     "text": [
      " 25%|██▌       | 5/20 [00:00<00:02,  5.93it/s]"
     ]
    },
    {
     "output_type": "stream",
     "name": "stdout",
     "text": [
      "\n",
      "Iteration 4/20 of epoch 40 complete. Loss : 0.3489951565861702 \n"
     ]
    },
    {
     "output_type": "stream",
     "name": "stderr",
     "text": [
      " 45%|████▌     | 9/20 [00:01<00:01,  5.97it/s]"
     ]
    },
    {
     "output_type": "stream",
     "name": "stdout",
     "text": [
      "\n",
      "Iteration 8/20 of epoch 40 complete. Loss : 0.35223840177059174 \n"
     ]
    },
    {
     "output_type": "stream",
     "name": "stderr",
     "text": [
      " 65%|██████▌   | 13/20 [00:02<00:01,  5.94it/s]"
     ]
    },
    {
     "output_type": "stream",
     "name": "stdout",
     "text": [
      "\n",
      "Iteration 12/20 of epoch 40 complete. Loss : 0.36252111196517944 \n"
     ]
    },
    {
     "output_type": "stream",
     "name": "stderr",
     "text": [
      " 85%|████████▌ | 17/20 [00:02<00:00,  5.96it/s]"
     ]
    },
    {
     "output_type": "stream",
     "name": "stdout",
     "text": [
      "\n",
      "Iteration 16/20 of epoch 40 complete. Loss : 0.3419715464115143 \n"
     ]
    },
    {
     "output_type": "stream",
     "name": "stderr",
     "text": [
      "100%|██████████| 20/20 [00:03<00:00,  6.23it/s]\n",
      " 20%|██        | 1/5 [00:00<00:00,  6.41it/s]"
     ]
    },
    {
     "output_type": "stream",
     "name": "stdout",
     "text": [
      "\n",
      "Iteration 20/20 of epoch 40 complete. Loss : 0.343617707490921 \n"
     ]
    },
    {
     "output_type": "stream",
     "name": "stderr",
     "text": [
      "100%|██████████| 5/5 [00:00<00:00,  6.75it/s]\n",
      "  0%|          | 0/20 [00:00<?, ?it/s]"
     ]
    },
    {
     "output_type": "stream",
     "name": "stdout",
     "text": [
      "\n",
      "Epoch 40 complete! Validation Loss : 0.6819326877593994\n",
      "Epoch 40 complete! Validation Accuracy : 0.6757087628865979\n",
      "Best validation loss improved from 0.6864538550376892 to 0.6819326877593994\n",
      "\n"
     ]
    },
    {
     "output_type": "stream",
     "name": "stderr",
     "text": [
      " 25%|██▌       | 5/20 [00:00<00:02,  5.94it/s]"
     ]
    },
    {
     "output_type": "stream",
     "name": "stdout",
     "text": [
      "\n",
      "Iteration 4/20 of epoch 41 complete. Loss : 0.3447427898645401 \n"
     ]
    },
    {
     "output_type": "stream",
     "name": "stderr",
     "text": [
      " 45%|████▌     | 9/20 [00:01<00:01,  5.91it/s]"
     ]
    },
    {
     "output_type": "stream",
     "name": "stdout",
     "text": [
      "\n",
      "Iteration 8/20 of epoch 41 complete. Loss : 0.3504951298236847 \n"
     ]
    },
    {
     "output_type": "stream",
     "name": "stderr",
     "text": [
      " 65%|██████▌   | 13/20 [00:02<00:01,  5.88it/s]"
     ]
    },
    {
     "output_type": "stream",
     "name": "stdout",
     "text": [
      "\n",
      "Iteration 12/20 of epoch 41 complete. Loss : 0.34907592087984085 \n"
     ]
    },
    {
     "output_type": "stream",
     "name": "stderr",
     "text": [
      " 85%|████████▌ | 17/20 [00:02<00:00,  5.92it/s]"
     ]
    },
    {
     "output_type": "stream",
     "name": "stdout",
     "text": [
      "\n",
      "Iteration 16/20 of epoch 41 complete. Loss : 0.3524003177881241 \n"
     ]
    },
    {
     "output_type": "stream",
     "name": "stderr",
     "text": [
      "100%|██████████| 20/20 [00:03<00:00,  6.19it/s]\n",
      " 20%|██        | 1/5 [00:00<00:00,  6.36it/s]"
     ]
    },
    {
     "output_type": "stream",
     "name": "stdout",
     "text": [
      "\n",
      "Iteration 20/20 of epoch 41 complete. Loss : 0.32721035927534103 \n"
     ]
    },
    {
     "output_type": "stream",
     "name": "stderr",
     "text": [
      "100%|██████████| 5/5 [00:00<00:00,  6.70it/s]\n",
      "  0%|          | 0/20 [00:00<?, ?it/s]"
     ]
    },
    {
     "output_type": "stream",
     "name": "stdout",
     "text": [
      "\n",
      "Epoch 41 complete! Validation Loss : 0.681800377368927\n",
      "Epoch 41 complete! Validation Accuracy : 0.6757087628865979\n",
      "Best validation loss improved from 0.6819326877593994 to 0.681800377368927\n",
      "\n"
     ]
    },
    {
     "output_type": "stream",
     "name": "stderr",
     "text": [
      " 25%|██▌       | 5/20 [00:00<00:02,  5.96it/s]"
     ]
    },
    {
     "output_type": "stream",
     "name": "stdout",
     "text": [
      "\n",
      "Iteration 4/20 of epoch 42 complete. Loss : 0.3602677062153816 \n"
     ]
    },
    {
     "output_type": "stream",
     "name": "stderr",
     "text": [
      " 45%|████▌     | 9/20 [00:01<00:01,  5.97it/s]"
     ]
    },
    {
     "output_type": "stream",
     "name": "stdout",
     "text": [
      "\n",
      "Iteration 8/20 of epoch 42 complete. Loss : 0.350800983607769 \n"
     ]
    },
    {
     "output_type": "stream",
     "name": "stderr",
     "text": [
      " 65%|██████▌   | 13/20 [00:02<00:01,  5.99it/s]"
     ]
    },
    {
     "output_type": "stream",
     "name": "stdout",
     "text": [
      "\n",
      "Iteration 12/20 of epoch 42 complete. Loss : 0.34008411318063736 \n"
     ]
    },
    {
     "output_type": "stream",
     "name": "stderr",
     "text": [
      " 85%|████████▌ | 17/20 [00:02<00:00,  5.95it/s]"
     ]
    },
    {
     "output_type": "stream",
     "name": "stdout",
     "text": [
      "\n",
      "Iteration 16/20 of epoch 42 complete. Loss : 0.3431323394179344 \n"
     ]
    },
    {
     "output_type": "stream",
     "name": "stderr",
     "text": [
      "100%|██████████| 20/20 [00:03<00:00,  6.24it/s]\n",
      " 20%|██        | 1/5 [00:00<00:00,  6.40it/s]"
     ]
    },
    {
     "output_type": "stream",
     "name": "stdout",
     "text": [
      "\n",
      "Iteration 20/20 of epoch 42 complete. Loss : 0.31382064521312714 \n"
     ]
    },
    {
     "output_type": "stream",
     "name": "stderr",
     "text": [
      "100%|██████████| 5/5 [00:00<00:00,  6.72it/s]\n",
      "  0%|          | 0/20 [00:00<?, ?it/s]"
     ]
    },
    {
     "output_type": "stream",
     "name": "stdout",
     "text": [
      "\n",
      "Epoch 42 complete! Validation Loss : 0.6754843592643738\n",
      "Epoch 42 complete! Validation Accuracy : 0.6757087628865979\n",
      "Best validation loss improved from 0.681800377368927 to 0.6754843592643738\n",
      "\n"
     ]
    },
    {
     "output_type": "stream",
     "name": "stderr",
     "text": [
      " 25%|██▌       | 5/20 [00:00<00:02,  5.90it/s]"
     ]
    },
    {
     "output_type": "stream",
     "name": "stdout",
     "text": [
      "\n",
      "Iteration 4/20 of epoch 43 complete. Loss : 0.35410281270742416 \n"
     ]
    },
    {
     "output_type": "stream",
     "name": "stderr",
     "text": [
      " 45%|████▌     | 9/20 [00:01<00:01,  5.93it/s]"
     ]
    },
    {
     "output_type": "stream",
     "name": "stdout",
     "text": [
      "\n",
      "Iteration 8/20 of epoch 43 complete. Loss : 0.34863290190696716 \n"
     ]
    },
    {
     "output_type": "stream",
     "name": "stderr",
     "text": [
      " 65%|██████▌   | 13/20 [00:02<00:01,  5.92it/s]"
     ]
    },
    {
     "output_type": "stream",
     "name": "stdout",
     "text": [
      "\n",
      "Iteration 12/20 of epoch 43 complete. Loss : 0.3376886397600174 \n"
     ]
    },
    {
     "output_type": "stream",
     "name": "stderr",
     "text": [
      " 85%|████████▌ | 17/20 [00:02<00:00,  5.93it/s]"
     ]
    },
    {
     "output_type": "stream",
     "name": "stdout",
     "text": [
      "\n",
      "Iteration 16/20 of epoch 43 complete. Loss : 0.348493330180645 \n"
     ]
    },
    {
     "output_type": "stream",
     "name": "stderr",
     "text": [
      "100%|██████████| 20/20 [00:03<00:00,  6.20it/s]\n",
      " 20%|██        | 1/5 [00:00<00:00,  6.46it/s]"
     ]
    },
    {
     "output_type": "stream",
     "name": "stdout",
     "text": [
      "\n",
      "Iteration 20/20 of epoch 43 complete. Loss : 0.3333103805780411 \n"
     ]
    },
    {
     "output_type": "stream",
     "name": "stderr",
     "text": [
      "100%|██████████| 5/5 [00:00<00:00,  6.76it/s]\n",
      "  0%|          | 0/20 [00:00<?, ?it/s]"
     ]
    },
    {
     "output_type": "stream",
     "name": "stdout",
     "text": [
      "\n",
      "Epoch 43 complete! Validation Loss : 0.6725752830505372\n",
      "Epoch 43 complete! Validation Accuracy : 0.6757087628865979\n",
      "Best validation loss improved from 0.6754843592643738 to 0.6725752830505372\n",
      "\n"
     ]
    },
    {
     "output_type": "stream",
     "name": "stderr",
     "text": [
      " 25%|██▌       | 5/20 [00:00<00:02,  5.93it/s]"
     ]
    },
    {
     "output_type": "stream",
     "name": "stdout",
     "text": [
      "\n",
      "Iteration 4/20 of epoch 44 complete. Loss : 0.35144487768411636 \n"
     ]
    },
    {
     "output_type": "stream",
     "name": "stderr",
     "text": [
      " 45%|████▌     | 9/20 [00:01<00:01,  5.92it/s]"
     ]
    },
    {
     "output_type": "stream",
     "name": "stdout",
     "text": [
      "\n",
      "Iteration 8/20 of epoch 44 complete. Loss : 0.3569541648030281 \n"
     ]
    },
    {
     "output_type": "stream",
     "name": "stderr",
     "text": [
      " 65%|██████▌   | 13/20 [00:02<00:01,  5.88it/s]"
     ]
    },
    {
     "output_type": "stream",
     "name": "stdout",
     "text": [
      "\n",
      "Iteration 12/20 of epoch 44 complete. Loss : 0.3507809713482857 \n"
     ]
    },
    {
     "output_type": "stream",
     "name": "stderr",
     "text": [
      " 85%|████████▌ | 17/20 [00:02<00:00,  5.88it/s]"
     ]
    },
    {
     "output_type": "stream",
     "name": "stdout",
     "text": [
      "\n",
      "Iteration 16/20 of epoch 44 complete. Loss : 0.33537936955690384 \n"
     ]
    },
    {
     "output_type": "stream",
     "name": "stderr",
     "text": [
      "100%|██████████| 20/20 [00:03<00:00,  6.17it/s]\n",
      " 20%|██        | 1/5 [00:00<00:00,  6.43it/s]"
     ]
    },
    {
     "output_type": "stream",
     "name": "stdout",
     "text": [
      "\n",
      "Iteration 20/20 of epoch 44 complete. Loss : 0.3331812843680382 \n"
     ]
    },
    {
     "output_type": "stream",
     "name": "stderr",
     "text": [
      "100%|██████████| 5/5 [00:00<00:00,  6.68it/s]\n",
      "  5%|▌         | 1/20 [00:00<00:03,  6.13it/s]"
     ]
    },
    {
     "output_type": "stream",
     "name": "stdout",
     "text": [
      "\n",
      "Epoch 44 complete! Validation Loss : 0.6700587868690491\n",
      "Epoch 44 complete! Validation Accuracy : 0.6757087628865979\n",
      "Best validation loss improved from 0.6725752830505372 to 0.6700587868690491\n",
      "\n"
     ]
    },
    {
     "output_type": "stream",
     "name": "stderr",
     "text": [
      " 25%|██▌       | 5/20 [00:00<00:02,  5.94it/s]"
     ]
    },
    {
     "output_type": "stream",
     "name": "stdout",
     "text": [
      "\n",
      "Iteration 4/20 of epoch 45 complete. Loss : 0.32249176502227783 \n"
     ]
    },
    {
     "output_type": "stream",
     "name": "stderr",
     "text": [
      " 45%|████▌     | 9/20 [00:01<00:01,  5.94it/s]"
     ]
    },
    {
     "output_type": "stream",
     "name": "stdout",
     "text": [
      "\n",
      "Iteration 8/20 of epoch 45 complete. Loss : 0.3471391648054123 \n"
     ]
    },
    {
     "output_type": "stream",
     "name": "stderr",
     "text": [
      " 65%|██████▌   | 13/20 [00:02<00:01,  5.94it/s]"
     ]
    },
    {
     "output_type": "stream",
     "name": "stdout",
     "text": [
      "\n",
      "Iteration 12/20 of epoch 45 complete. Loss : 0.3563521057367325 \n"
     ]
    },
    {
     "output_type": "stream",
     "name": "stderr",
     "text": [
      " 85%|████████▌ | 17/20 [00:02<00:00,  5.95it/s]"
     ]
    },
    {
     "output_type": "stream",
     "name": "stdout",
     "text": [
      "\n",
      "Iteration 16/20 of epoch 45 complete. Loss : 0.35614340007305145 \n"
     ]
    },
    {
     "output_type": "stream",
     "name": "stderr",
     "text": [
      "100%|██████████| 20/20 [00:03<00:00,  6.20it/s]\n",
      " 20%|██        | 1/5 [00:00<00:00,  6.50it/s]"
     ]
    },
    {
     "output_type": "stream",
     "name": "stdout",
     "text": [
      "\n",
      "Iteration 20/20 of epoch 45 complete. Loss : 0.30918146669864655 \n"
     ]
    },
    {
     "output_type": "stream",
     "name": "stderr",
     "text": [
      "100%|██████████| 5/5 [00:00<00:00,  6.70it/s]\n",
      "  0%|          | 0/20 [00:00<?, ?it/s]"
     ]
    },
    {
     "output_type": "stream",
     "name": "stdout",
     "text": [
      "\n",
      "Epoch 45 complete! Validation Loss : 0.6693424463272095\n",
      "Epoch 45 complete! Validation Accuracy : 0.6757087628865979\n",
      "Best validation loss improved from 0.6700587868690491 to 0.6693424463272095\n",
      "\n"
     ]
    },
    {
     "output_type": "stream",
     "name": "stderr",
     "text": [
      " 25%|██▌       | 5/20 [00:00<00:02,  5.91it/s]"
     ]
    },
    {
     "output_type": "stream",
     "name": "stdout",
     "text": [
      "\n",
      "Iteration 4/20 of epoch 46 complete. Loss : 0.34542226791381836 \n"
     ]
    },
    {
     "output_type": "stream",
     "name": "stderr",
     "text": [
      " 45%|████▌     | 9/20 [00:01<00:01,  5.96it/s]"
     ]
    },
    {
     "output_type": "stream",
     "name": "stdout",
     "text": [
      "\n",
      "Iteration 8/20 of epoch 46 complete. Loss : 0.34160223603248596 \n"
     ]
    },
    {
     "output_type": "stream",
     "name": "stderr",
     "text": [
      " 65%|██████▌   | 13/20 [00:02<00:01,  5.97it/s]"
     ]
    },
    {
     "output_type": "stream",
     "name": "stdout",
     "text": [
      "\n",
      "Iteration 12/20 of epoch 46 complete. Loss : 0.3410567492246628 \n"
     ]
    },
    {
     "output_type": "stream",
     "name": "stderr",
     "text": [
      " 85%|████████▌ | 17/20 [00:02<00:00,  5.96it/s]"
     ]
    },
    {
     "output_type": "stream",
     "name": "stdout",
     "text": [
      "\n",
      "Iteration 16/20 of epoch 46 complete. Loss : 0.340582512319088 \n"
     ]
    },
    {
     "output_type": "stream",
     "name": "stderr",
     "text": [
      "100%|██████████| 20/20 [00:03<00:00,  6.22it/s]\n",
      " 20%|██        | 1/5 [00:00<00:00,  6.50it/s]"
     ]
    },
    {
     "output_type": "stream",
     "name": "stdout",
     "text": [
      "\n",
      "Iteration 20/20 of epoch 46 complete. Loss : 0.3303016647696495 \n"
     ]
    },
    {
     "output_type": "stream",
     "name": "stderr",
     "text": [
      "100%|██████████| 5/5 [00:00<00:00,  6.71it/s]\n",
      "  0%|          | 0/20 [00:00<?, ?it/s]"
     ]
    },
    {
     "output_type": "stream",
     "name": "stdout",
     "text": [
      "\n",
      "Epoch 46 complete! Validation Loss : 0.6657764911651611\n",
      "Epoch 46 complete! Validation Accuracy : 0.6757087628865979\n",
      "Best validation loss improved from 0.6693424463272095 to 0.6657764911651611\n",
      "\n"
     ]
    },
    {
     "output_type": "stream",
     "name": "stderr",
     "text": [
      " 25%|██▌       | 5/20 [00:00<00:02,  5.90it/s]"
     ]
    },
    {
     "output_type": "stream",
     "name": "stdout",
     "text": [
      "\n",
      "Iteration 4/20 of epoch 47 complete. Loss : 0.3372461050748825 \n"
     ]
    },
    {
     "output_type": "stream",
     "name": "stderr",
     "text": [
      " 45%|████▌     | 9/20 [00:01<00:01,  5.86it/s]"
     ]
    },
    {
     "output_type": "stream",
     "name": "stdout",
     "text": [
      "\n",
      "Iteration 8/20 of epoch 47 complete. Loss : 0.33387909829616547 \n"
     ]
    },
    {
     "output_type": "stream",
     "name": "stderr",
     "text": [
      " 65%|██████▌   | 13/20 [00:02<00:01,  5.90it/s]"
     ]
    },
    {
     "output_type": "stream",
     "name": "stdout",
     "text": [
      "\n",
      "Iteration 12/20 of epoch 47 complete. Loss : 0.3556077182292938 \n"
     ]
    },
    {
     "output_type": "stream",
     "name": "stderr",
     "text": [
      " 85%|████████▌ | 17/20 [00:02<00:00,  5.93it/s]"
     ]
    },
    {
     "output_type": "stream",
     "name": "stdout",
     "text": [
      "\n",
      "Iteration 16/20 of epoch 47 complete. Loss : 0.3378419652581215 \n"
     ]
    },
    {
     "output_type": "stream",
     "name": "stderr",
     "text": [
      "100%|██████████| 20/20 [00:03<00:00,  6.18it/s]\n",
      " 20%|██        | 1/5 [00:00<00:00,  6.37it/s]"
     ]
    },
    {
     "output_type": "stream",
     "name": "stdout",
     "text": [
      "\n",
      "Iteration 20/20 of epoch 47 complete. Loss : 0.3553314357995987 \n"
     ]
    },
    {
     "output_type": "stream",
     "name": "stderr",
     "text": [
      "100%|██████████| 5/5 [00:00<00:00,  6.70it/s]\n",
      "  0%|          | 0/20 [00:00<?, ?it/s]"
     ]
    },
    {
     "output_type": "stream",
     "name": "stdout",
     "text": [
      "\n",
      "Epoch 47 complete! Validation Loss : 0.6639305233955384\n",
      "Epoch 47 complete! Validation Accuracy : 0.6757087628865979\n",
      "Best validation loss improved from 0.6657764911651611 to 0.6639305233955384\n",
      "\n"
     ]
    },
    {
     "output_type": "stream",
     "name": "stderr",
     "text": [
      " 25%|██▌       | 5/20 [00:00<00:02,  5.94it/s]"
     ]
    },
    {
     "output_type": "stream",
     "name": "stdout",
     "text": [
      "\n",
      "Iteration 4/20 of epoch 48 complete. Loss : 0.33594486117362976 \n"
     ]
    },
    {
     "output_type": "stream",
     "name": "stderr",
     "text": [
      " 45%|████▌     | 9/20 [00:01<00:01,  5.90it/s]"
     ]
    },
    {
     "output_type": "stream",
     "name": "stdout",
     "text": [
      "\n",
      "Iteration 8/20 of epoch 48 complete. Loss : 0.3431641757488251 \n"
     ]
    },
    {
     "output_type": "stream",
     "name": "stderr",
     "text": [
      " 65%|██████▌   | 13/20 [00:02<00:01,  5.95it/s]"
     ]
    },
    {
     "output_type": "stream",
     "name": "stdout",
     "text": [
      "\n",
      "Iteration 12/20 of epoch 48 complete. Loss : 0.3333693668246269 \n"
     ]
    },
    {
     "output_type": "stream",
     "name": "stderr",
     "text": [
      " 85%|████████▌ | 17/20 [00:02<00:00,  5.93it/s]"
     ]
    },
    {
     "output_type": "stream",
     "name": "stdout",
     "text": [
      "\n",
      "Iteration 16/20 of epoch 48 complete. Loss : 0.33826640993356705 \n"
     ]
    },
    {
     "output_type": "stream",
     "name": "stderr",
     "text": [
      "100%|██████████| 20/20 [00:03<00:00,  6.19it/s]\n",
      " 20%|██        | 1/5 [00:00<00:00,  6.39it/s]"
     ]
    },
    {
     "output_type": "stream",
     "name": "stdout",
     "text": [
      "\n",
      "Iteration 20/20 of epoch 48 complete. Loss : 0.34377818554639816 \n"
     ]
    },
    {
     "output_type": "stream",
     "name": "stderr",
     "text": [
      "100%|██████████| 5/5 [00:00<00:00,  6.66it/s]\n",
      "  5%|▌         | 1/20 [00:00<00:03,  6.17it/s]"
     ]
    },
    {
     "output_type": "stream",
     "name": "stdout",
     "text": [
      "\n",
      "Epoch 48 complete! Validation Loss : 0.6634747385978699\n",
      "Epoch 48 complete! Validation Accuracy : 0.6757087628865979\n",
      "Best validation loss improved from 0.6639305233955384 to 0.6634747385978699\n",
      "\n"
     ]
    },
    {
     "output_type": "stream",
     "name": "stderr",
     "text": [
      " 25%|██▌       | 5/20 [00:00<00:02,  6.00it/s]"
     ]
    },
    {
     "output_type": "stream",
     "name": "stdout",
     "text": [
      "\n",
      "Iteration 4/20 of epoch 49 complete. Loss : 0.33768875151872635 \n"
     ]
    },
    {
     "output_type": "stream",
     "name": "stderr",
     "text": [
      " 45%|████▌     | 9/20 [00:01<00:01,  5.96it/s]"
     ]
    },
    {
     "output_type": "stream",
     "name": "stdout",
     "text": [
      "\n",
      "Iteration 8/20 of epoch 49 complete. Loss : 0.3357507437467575 \n"
     ]
    },
    {
     "output_type": "stream",
     "name": "stderr",
     "text": [
      " 65%|██████▌   | 13/20 [00:02<00:01,  5.95it/s]"
     ]
    },
    {
     "output_type": "stream",
     "name": "stdout",
     "text": [
      "\n",
      "Iteration 12/20 of epoch 49 complete. Loss : 0.34576965123414993 \n"
     ]
    },
    {
     "output_type": "stream",
     "name": "stderr",
     "text": [
      " 85%|████████▌ | 17/20 [00:02<00:00,  5.94it/s]"
     ]
    },
    {
     "output_type": "stream",
     "name": "stdout",
     "text": [
      "\n",
      "Iteration 16/20 of epoch 49 complete. Loss : 0.33695921301841736 \n"
     ]
    },
    {
     "output_type": "stream",
     "name": "stderr",
     "text": [
      "100%|██████████| 20/20 [00:03<00:00,  6.22it/s]\n",
      " 20%|██        | 1/5 [00:00<00:00,  6.46it/s]"
     ]
    },
    {
     "output_type": "stream",
     "name": "stdout",
     "text": [
      "\n",
      "Iteration 20/20 of epoch 49 complete. Loss : 0.3314886912703514 \n"
     ]
    },
    {
     "output_type": "stream",
     "name": "stderr",
     "text": [
      "100%|██████████| 5/5 [00:00<00:00,  6.71it/s]\n",
      "  0%|          | 0/20 [00:00<?, ?it/s]"
     ]
    },
    {
     "output_type": "stream",
     "name": "stdout",
     "text": [
      "\n",
      "Epoch 49 complete! Validation Loss : 0.6620727419853211\n",
      "Epoch 49 complete! Validation Accuracy : 0.6757087628865979\n",
      "Best validation loss improved from 0.6634747385978699 to 0.6620727419853211\n",
      "\n"
     ]
    },
    {
     "output_type": "stream",
     "name": "stderr",
     "text": [
      " 25%|██▌       | 5/20 [00:00<00:02,  5.92it/s]"
     ]
    },
    {
     "output_type": "stream",
     "name": "stdout",
     "text": [
      "\n",
      "Iteration 4/20 of epoch 50 complete. Loss : 0.3270837366580963 \n"
     ]
    },
    {
     "output_type": "stream",
     "name": "stderr",
     "text": [
      " 45%|████▌     | 9/20 [00:01<00:01,  5.92it/s]"
     ]
    },
    {
     "output_type": "stream",
     "name": "stdout",
     "text": [
      "\n",
      "Iteration 8/20 of epoch 50 complete. Loss : 0.3423921689391136 \n"
     ]
    },
    {
     "output_type": "stream",
     "name": "stderr",
     "text": [
      " 65%|██████▌   | 13/20 [00:02<00:01,  5.89it/s]"
     ]
    },
    {
     "output_type": "stream",
     "name": "stdout",
     "text": [
      "\n",
      "Iteration 12/20 of epoch 50 complete. Loss : 0.33910299837589264 \n"
     ]
    },
    {
     "output_type": "stream",
     "name": "stderr",
     "text": [
      " 85%|████████▌ | 17/20 [00:02<00:00,  5.89it/s]"
     ]
    },
    {
     "output_type": "stream",
     "name": "stdout",
     "text": [
      "\n",
      "Iteration 16/20 of epoch 50 complete. Loss : 0.34162452816963196 \n"
     ]
    },
    {
     "output_type": "stream",
     "name": "stderr",
     "text": [
      "100%|██████████| 20/20 [00:03<00:00,  6.17it/s]\n",
      " 20%|██        | 1/5 [00:00<00:00,  6.55it/s]"
     ]
    },
    {
     "output_type": "stream",
     "name": "stdout",
     "text": [
      "\n",
      "Iteration 20/20 of epoch 50 complete. Loss : 0.3564339280128479 \n"
     ]
    },
    {
     "output_type": "stream",
     "name": "stderr",
     "text": [
      "100%|██████████| 5/5 [00:00<00:00,  6.70it/s]\n",
      "  0%|          | 0/20 [00:00<?, ?it/s]"
     ]
    },
    {
     "output_type": "stream",
     "name": "stdout",
     "text": [
      "\n",
      "Epoch 50 complete! Validation Loss : 0.6598329544067383\n",
      "Epoch 50 complete! Validation Accuracy : 0.6757087628865979\n",
      "Best validation loss improved from 0.6620727419853211 to 0.6598329544067383\n",
      "\n"
     ]
    },
    {
     "output_type": "stream",
     "name": "stderr",
     "text": [
      " 25%|██▌       | 5/20 [00:00<00:02,  5.89it/s]"
     ]
    },
    {
     "output_type": "stream",
     "name": "stdout",
     "text": [
      "\n",
      "Iteration 4/20 of epoch 51 complete. Loss : 0.3271647244691849 \n"
     ]
    },
    {
     "output_type": "stream",
     "name": "stderr",
     "text": [
      " 45%|████▌     | 9/20 [00:01<00:01,  5.88it/s]"
     ]
    },
    {
     "output_type": "stream",
     "name": "stdout",
     "text": [
      "\n",
      "Iteration 8/20 of epoch 51 complete. Loss : 0.3424694165587425 \n"
     ]
    },
    {
     "output_type": "stream",
     "name": "stderr",
     "text": [
      " 65%|██████▌   | 13/20 [00:02<00:01,  5.92it/s]"
     ]
    },
    {
     "output_type": "stream",
     "name": "stdout",
     "text": [
      "\n",
      "Iteration 12/20 of epoch 51 complete. Loss : 0.3457236662507057 \n"
     ]
    },
    {
     "output_type": "stream",
     "name": "stderr",
     "text": [
      " 85%|████████▌ | 17/20 [00:02<00:00,  5.90it/s]"
     ]
    },
    {
     "output_type": "stream",
     "name": "stdout",
     "text": [
      "\n",
      "Iteration 16/20 of epoch 51 complete. Loss : 0.33943507820367813 \n"
     ]
    },
    {
     "output_type": "stream",
     "name": "stderr",
     "text": [
      "100%|██████████| 20/20 [00:03<00:00,  6.18it/s]\n",
      " 20%|██        | 1/5 [00:00<00:00,  6.32it/s]"
     ]
    },
    {
     "output_type": "stream",
     "name": "stdout",
     "text": [
      "\n",
      "Iteration 20/20 of epoch 51 complete. Loss : 0.31081806868314743 \n"
     ]
    },
    {
     "output_type": "stream",
     "name": "stderr",
     "text": [
      "100%|██████████| 5/5 [00:00<00:00,  6.69it/s]\n",
      "  5%|▌         | 1/20 [00:00<00:03,  6.04it/s]"
     ]
    },
    {
     "output_type": "stream",
     "name": "stdout",
     "text": [
      "\n",
      "Epoch 51 complete! Validation Loss : 0.6605332732200623\n",
      "Epoch 51 complete! Validation Accuracy : 0.6757087628865979\n"
     ]
    },
    {
     "output_type": "stream",
     "name": "stderr",
     "text": [
      " 25%|██▌       | 5/20 [00:00<00:02,  5.97it/s]"
     ]
    },
    {
     "output_type": "stream",
     "name": "stdout",
     "text": [
      "\n",
      "Iteration 4/20 of epoch 52 complete. Loss : 0.3371230736374855 \n"
     ]
    },
    {
     "output_type": "stream",
     "name": "stderr",
     "text": [
      " 45%|████▌     | 9/20 [00:01<00:01,  5.92it/s]"
     ]
    },
    {
     "output_type": "stream",
     "name": "stdout",
     "text": [
      "\n",
      "Iteration 8/20 of epoch 52 complete. Loss : 0.34294528514146805 \n"
     ]
    },
    {
     "output_type": "stream",
     "name": "stderr",
     "text": [
      " 65%|██████▌   | 13/20 [00:02<00:01,  5.96it/s]"
     ]
    },
    {
     "output_type": "stream",
     "name": "stdout",
     "text": [
      "\n",
      "Iteration 12/20 of epoch 52 complete. Loss : 0.34311551600694656 \n"
     ]
    },
    {
     "output_type": "stream",
     "name": "stderr",
     "text": [
      " 85%|████████▌ | 17/20 [00:02<00:00,  5.95it/s]"
     ]
    },
    {
     "output_type": "stream",
     "name": "stdout",
     "text": [
      "\n",
      "Iteration 16/20 of epoch 52 complete. Loss : 0.3377482444047928 \n"
     ]
    },
    {
     "output_type": "stream",
     "name": "stderr",
     "text": [
      "100%|██████████| 20/20 [00:03<00:00,  6.23it/s]\n",
      " 20%|██        | 1/5 [00:00<00:00,  6.34it/s]"
     ]
    },
    {
     "output_type": "stream",
     "name": "stdout",
     "text": [
      "\n",
      "Iteration 20/20 of epoch 52 complete. Loss : 0.298672117292881 \n"
     ]
    },
    {
     "output_type": "stream",
     "name": "stderr",
     "text": [
      "100%|██████████| 5/5 [00:00<00:00,  6.72it/s]\n",
      "  0%|          | 0/20 [00:00<?, ?it/s]"
     ]
    },
    {
     "output_type": "stream",
     "name": "stdout",
     "text": [
      "\n",
      "Epoch 52 complete! Validation Loss : 0.6581659078598022\n",
      "Epoch 52 complete! Validation Accuracy : 0.6757087628865979\n",
      "Best validation loss improved from 0.6598329544067383 to 0.6581659078598022\n",
      "\n"
     ]
    },
    {
     "output_type": "stream",
     "name": "stderr",
     "text": [
      " 25%|██▌       | 5/20 [00:00<00:02,  5.92it/s]"
     ]
    },
    {
     "output_type": "stream",
     "name": "stdout",
     "text": [
      "\n",
      "Iteration 4/20 of epoch 53 complete. Loss : 0.3317316398024559 \n"
     ]
    },
    {
     "output_type": "stream",
     "name": "stderr",
     "text": [
      " 45%|████▌     | 9/20 [00:01<00:01,  5.94it/s]"
     ]
    },
    {
     "output_type": "stream",
     "name": "stdout",
     "text": [
      "\n",
      "Iteration 8/20 of epoch 53 complete. Loss : 0.3504646420478821 \n"
     ]
    },
    {
     "output_type": "stream",
     "name": "stderr",
     "text": [
      " 65%|██████▌   | 13/20 [00:02<00:01,  5.90it/s]"
     ]
    },
    {
     "output_type": "stream",
     "name": "stdout",
     "text": [
      "\n",
      "Iteration 12/20 of epoch 53 complete. Loss : 0.3322671502828598 \n"
     ]
    },
    {
     "output_type": "stream",
     "name": "stderr",
     "text": [
      " 85%|████████▌ | 17/20 [00:02<00:00,  5.92it/s]"
     ]
    },
    {
     "output_type": "stream",
     "name": "stdout",
     "text": [
      "\n",
      "Iteration 16/20 of epoch 53 complete. Loss : 0.3349955305457115 \n"
     ]
    },
    {
     "output_type": "stream",
     "name": "stderr",
     "text": [
      "100%|██████████| 20/20 [00:03<00:00,  6.20it/s]\n",
      " 20%|██        | 1/5 [00:00<00:00,  6.40it/s]"
     ]
    },
    {
     "output_type": "stream",
     "name": "stdout",
     "text": [
      "\n",
      "Iteration 20/20 of epoch 53 complete. Loss : 0.3844470679759979 \n"
     ]
    },
    {
     "output_type": "stream",
     "name": "stderr",
     "text": [
      "100%|██████████| 5/5 [00:00<00:00,  6.68it/s]\n",
      "  5%|▌         | 1/20 [00:00<00:03,  6.24it/s]"
     ]
    },
    {
     "output_type": "stream",
     "name": "stdout",
     "text": [
      "\n",
      "Epoch 53 complete! Validation Loss : 0.6563878297805786\n",
      "Epoch 53 complete! Validation Accuracy : 0.6757087628865979\n",
      "Best validation loss improved from 0.6581659078598022 to 0.6563878297805786\n",
      "\n"
     ]
    },
    {
     "output_type": "stream",
     "name": "stderr",
     "text": [
      " 25%|██▌       | 5/20 [00:00<00:02,  6.00it/s]"
     ]
    },
    {
     "output_type": "stream",
     "name": "stdout",
     "text": [
      "\n",
      "Iteration 4/20 of epoch 54 complete. Loss : 0.3310324400663376 \n"
     ]
    },
    {
     "output_type": "stream",
     "name": "stderr",
     "text": [
      " 45%|████▌     | 9/20 [00:01<00:01,  5.95it/s]"
     ]
    },
    {
     "output_type": "stream",
     "name": "stdout",
     "text": [
      "\n",
      "Iteration 8/20 of epoch 54 complete. Loss : 0.34188996255397797 \n"
     ]
    },
    {
     "output_type": "stream",
     "name": "stderr",
     "text": [
      " 65%|██████▌   | 13/20 [00:02<00:01,  5.90it/s]"
     ]
    },
    {
     "output_type": "stream",
     "name": "stdout",
     "text": [
      "\n",
      "Iteration 12/20 of epoch 54 complete. Loss : 0.33647169917821884 \n"
     ]
    },
    {
     "output_type": "stream",
     "name": "stderr",
     "text": [
      " 85%|████████▌ | 17/20 [00:02<00:00,  5.95it/s]"
     ]
    },
    {
     "output_type": "stream",
     "name": "stdout",
     "text": [
      "\n",
      "Iteration 16/20 of epoch 54 complete. Loss : 0.3416851684451103 \n"
     ]
    },
    {
     "output_type": "stream",
     "name": "stderr",
     "text": [
      "100%|██████████| 20/20 [00:03<00:00,  6.21it/s]\n",
      " 20%|██        | 1/5 [00:00<00:00,  6.44it/s]"
     ]
    },
    {
     "output_type": "stream",
     "name": "stdout",
     "text": [
      "\n",
      "Iteration 20/20 of epoch 54 complete. Loss : 0.33823642134666443 \n"
     ]
    },
    {
     "output_type": "stream",
     "name": "stderr",
     "text": [
      "100%|██████████| 5/5 [00:00<00:00,  6.70it/s]\n",
      "  5%|▌         | 1/20 [00:00<00:03,  5.94it/s]"
     ]
    },
    {
     "output_type": "stream",
     "name": "stdout",
     "text": [
      "\n",
      "Epoch 54 complete! Validation Loss : 0.6568389296531677\n",
      "Epoch 54 complete! Validation Accuracy : 0.6757087628865979\n"
     ]
    },
    {
     "output_type": "stream",
     "name": "stderr",
     "text": [
      " 25%|██▌       | 5/20 [00:00<00:02,  5.96it/s]"
     ]
    },
    {
     "output_type": "stream",
     "name": "stdout",
     "text": [
      "\n",
      "Iteration 4/20 of epoch 55 complete. Loss : 0.3330097645521164 \n"
     ]
    },
    {
     "output_type": "stream",
     "name": "stderr",
     "text": [
      " 45%|████▌     | 9/20 [00:01<00:01,  5.96it/s]"
     ]
    },
    {
     "output_type": "stream",
     "name": "stdout",
     "text": [
      "\n",
      "Iteration 8/20 of epoch 55 complete. Loss : 0.3294072076678276 \n"
     ]
    },
    {
     "output_type": "stream",
     "name": "stderr",
     "text": [
      " 65%|██████▌   | 13/20 [00:02<00:01,  5.91it/s]"
     ]
    },
    {
     "output_type": "stream",
     "name": "stdout",
     "text": [
      "\n",
      "Iteration 12/20 of epoch 55 complete. Loss : 0.3421563133597374 \n"
     ]
    },
    {
     "output_type": "stream",
     "name": "stderr",
     "text": [
      " 85%|████████▌ | 17/20 [00:02<00:00,  5.90it/s]"
     ]
    },
    {
     "output_type": "stream",
     "name": "stdout",
     "text": [
      "\n",
      "Iteration 16/20 of epoch 55 complete. Loss : 0.33736681938171387 \n"
     ]
    },
    {
     "output_type": "stream",
     "name": "stderr",
     "text": [
      "100%|██████████| 20/20 [00:03<00:00,  6.22it/s]\n",
      " 20%|██        | 1/5 [00:00<00:00,  6.42it/s]"
     ]
    },
    {
     "output_type": "stream",
     "name": "stdout",
     "text": [
      "\n",
      "Iteration 20/20 of epoch 55 complete. Loss : 0.3487124592065811 \n"
     ]
    },
    {
     "output_type": "stream",
     "name": "stderr",
     "text": [
      "100%|██████████| 5/5 [00:00<00:00,  6.71it/s]\n",
      "  5%|▌         | 1/20 [00:00<00:03,  5.87it/s]"
     ]
    },
    {
     "output_type": "stream",
     "name": "stdout",
     "text": [
      "\n",
      "Epoch 55 complete! Validation Loss : 0.6576186537742614\n",
      "Epoch 55 complete! Validation Accuracy : 0.6757087628865979\n"
     ]
    },
    {
     "output_type": "stream",
     "name": "stderr",
     "text": [
      " 25%|██▌       | 5/20 [00:00<00:02,  5.94it/s]"
     ]
    },
    {
     "output_type": "stream",
     "name": "stdout",
     "text": [
      "\n",
      "Iteration 4/20 of epoch 56 complete. Loss : 0.33911968022584915 \n"
     ]
    },
    {
     "output_type": "stream",
     "name": "stderr",
     "text": [
      " 45%|████▌     | 9/20 [00:01<00:01,  5.91it/s]"
     ]
    },
    {
     "output_type": "stream",
     "name": "stdout",
     "text": [
      "\n",
      "Iteration 8/20 of epoch 56 complete. Loss : 0.3295062780380249 \n"
     ]
    },
    {
     "output_type": "stream",
     "name": "stderr",
     "text": [
      " 65%|██████▌   | 13/20 [00:02<00:01,  5.87it/s]"
     ]
    },
    {
     "output_type": "stream",
     "name": "stdout",
     "text": [
      "\n",
      "Iteration 12/20 of epoch 56 complete. Loss : 0.3432617709040642 \n"
     ]
    },
    {
     "output_type": "stream",
     "name": "stderr",
     "text": [
      " 85%|████████▌ | 17/20 [00:02<00:00,  5.93it/s]"
     ]
    },
    {
     "output_type": "stream",
     "name": "stdout",
     "text": [
      "\n",
      "Iteration 16/20 of epoch 56 complete. Loss : 0.3271764814853668 \n"
     ]
    },
    {
     "output_type": "stream",
     "name": "stderr",
     "text": [
      "100%|██████████| 20/20 [00:03<00:00,  6.17it/s]\n",
      " 20%|██        | 1/5 [00:00<00:00,  6.45it/s]"
     ]
    },
    {
     "output_type": "stream",
     "name": "stdout",
     "text": [
      "\n",
      "Iteration 20/20 of epoch 56 complete. Loss : 0.3256308436393738 \n"
     ]
    },
    {
     "output_type": "stream",
     "name": "stderr",
     "text": [
      "100%|██████████| 5/5 [00:00<00:00,  6.73it/s]\n",
      "  0%|          | 0/20 [00:00<?, ?it/s]"
     ]
    },
    {
     "output_type": "stream",
     "name": "stdout",
     "text": [
      "\n",
      "Epoch 56 complete! Validation Loss : 0.6548378825187683\n",
      "Epoch 56 complete! Validation Accuracy : 0.6757087628865979\n",
      "Best validation loss improved from 0.6563878297805786 to 0.6548378825187683\n",
      "\n"
     ]
    },
    {
     "output_type": "stream",
     "name": "stderr",
     "text": [
      " 25%|██▌       | 5/20 [00:00<00:02,  5.94it/s]"
     ]
    },
    {
     "output_type": "stream",
     "name": "stdout",
     "text": [
      "\n",
      "Iteration 4/20 of epoch 57 complete. Loss : 0.32849518209695816 \n"
     ]
    },
    {
     "output_type": "stream",
     "name": "stderr",
     "text": [
      " 45%|████▌     | 9/20 [00:01<00:01,  5.91it/s]"
     ]
    },
    {
     "output_type": "stream",
     "name": "stdout",
     "text": [
      "\n",
      "Iteration 8/20 of epoch 57 complete. Loss : 0.3401890695095062 \n"
     ]
    },
    {
     "output_type": "stream",
     "name": "stderr",
     "text": [
      " 65%|██████▌   | 13/20 [00:02<00:01,  5.96it/s]"
     ]
    },
    {
     "output_type": "stream",
     "name": "stdout",
     "text": [
      "\n",
      "Iteration 12/20 of epoch 57 complete. Loss : 0.325051948428154 \n"
     ]
    },
    {
     "output_type": "stream",
     "name": "stderr",
     "text": [
      " 85%|████████▌ | 17/20 [00:02<00:00,  5.92it/s]"
     ]
    },
    {
     "output_type": "stream",
     "name": "stdout",
     "text": [
      "\n",
      "Iteration 16/20 of epoch 57 complete. Loss : 0.34600748121738434 \n"
     ]
    },
    {
     "output_type": "stream",
     "name": "stderr",
     "text": [
      "100%|██████████| 20/20 [00:03<00:00,  6.19it/s]\n",
      " 20%|██        | 1/5 [00:00<00:00,  6.40it/s]"
     ]
    },
    {
     "output_type": "stream",
     "name": "stdout",
     "text": [
      "\n",
      "Iteration 20/20 of epoch 57 complete. Loss : 0.3603482022881508 \n"
     ]
    },
    {
     "output_type": "stream",
     "name": "stderr",
     "text": [
      "100%|██████████| 5/5 [00:00<00:00,  6.65it/s]\n",
      "  0%|          | 0/20 [00:00<?, ?it/s]"
     ]
    },
    {
     "output_type": "stream",
     "name": "stdout",
     "text": [
      "\n",
      "Epoch 57 complete! Validation Loss : 0.652467942237854\n",
      "Epoch 57 complete! Validation Accuracy : 0.6757087628865979\n",
      "Best validation loss improved from 0.6548378825187683 to 0.652467942237854\n",
      "\n"
     ]
    },
    {
     "output_type": "stream",
     "name": "stderr",
     "text": [
      " 25%|██▌       | 5/20 [00:00<00:02,  5.96it/s]"
     ]
    },
    {
     "output_type": "stream",
     "name": "stdout",
     "text": [
      "\n",
      "Iteration 4/20 of epoch 58 complete. Loss : 0.3277169242501259 \n"
     ]
    },
    {
     "output_type": "stream",
     "name": "stderr",
     "text": [
      " 45%|████▌     | 9/20 [00:01<00:01,  5.93it/s]"
     ]
    },
    {
     "output_type": "stream",
     "name": "stdout",
     "text": [
      "\n",
      "Iteration 8/20 of epoch 58 complete. Loss : 0.3381328731775284 \n"
     ]
    },
    {
     "output_type": "stream",
     "name": "stderr",
     "text": [
      " 65%|██████▌   | 13/20 [00:02<00:01,  5.92it/s]"
     ]
    },
    {
     "output_type": "stream",
     "name": "stdout",
     "text": [
      "\n",
      "Iteration 12/20 of epoch 58 complete. Loss : 0.3334910348057747 \n"
     ]
    },
    {
     "output_type": "stream",
     "name": "stderr",
     "text": [
      " 85%|████████▌ | 17/20 [00:02<00:00,  5.89it/s]"
     ]
    },
    {
     "output_type": "stream",
     "name": "stdout",
     "text": [
      "\n",
      "Iteration 16/20 of epoch 58 complete. Loss : 0.33771631866693497 \n"
     ]
    },
    {
     "output_type": "stream",
     "name": "stderr",
     "text": [
      "100%|██████████| 20/20 [00:03<00:00,  6.19it/s]\n",
      " 20%|██        | 1/5 [00:00<00:00,  6.39it/s]"
     ]
    },
    {
     "output_type": "stream",
     "name": "stdout",
     "text": [
      "\n",
      "Iteration 20/20 of epoch 58 complete. Loss : 0.3335806652903557 \n"
     ]
    },
    {
     "output_type": "stream",
     "name": "stderr",
     "text": [
      "100%|██████████| 5/5 [00:00<00:00,  6.71it/s]\n",
      "  0%|          | 0/20 [00:00<?, ?it/s]"
     ]
    },
    {
     "output_type": "stream",
     "name": "stdout",
     "text": [
      "\n",
      "Epoch 58 complete! Validation Loss : 0.6520239472389221\n",
      "Epoch 58 complete! Validation Accuracy : 0.6757087628865979\n",
      "Best validation loss improved from 0.652467942237854 to 0.6520239472389221\n",
      "\n"
     ]
    },
    {
     "output_type": "stream",
     "name": "stderr",
     "text": [
      " 25%|██▌       | 5/20 [00:00<00:02,  5.97it/s]"
     ]
    },
    {
     "output_type": "stream",
     "name": "stdout",
     "text": [
      "\n",
      "Iteration 4/20 of epoch 59 complete. Loss : 0.33130184561014175 \n"
     ]
    },
    {
     "output_type": "stream",
     "name": "stderr",
     "text": [
      " 45%|████▌     | 9/20 [00:01<00:01,  5.91it/s]"
     ]
    },
    {
     "output_type": "stream",
     "name": "stdout",
     "text": [
      "\n",
      "Iteration 8/20 of epoch 59 complete. Loss : 0.32835372537374496 \n"
     ]
    },
    {
     "output_type": "stream",
     "name": "stderr",
     "text": [
      " 65%|██████▌   | 13/20 [00:02<00:01,  5.94it/s]"
     ]
    },
    {
     "output_type": "stream",
     "name": "stdout",
     "text": [
      "\n",
      "Iteration 12/20 of epoch 59 complete. Loss : 0.33728303015232086 \n"
     ]
    },
    {
     "output_type": "stream",
     "name": "stderr",
     "text": [
      " 85%|████████▌ | 17/20 [00:02<00:00,  5.96it/s]"
     ]
    },
    {
     "output_type": "stream",
     "name": "stdout",
     "text": [
      "\n",
      "Iteration 16/20 of epoch 59 complete. Loss : 0.3323663920164108 \n"
     ]
    },
    {
     "output_type": "stream",
     "name": "stderr",
     "text": [
      "100%|██████████| 20/20 [00:03<00:00,  6.21it/s]\n",
      " 20%|██        | 1/5 [00:00<00:00,  6.41it/s]"
     ]
    },
    {
     "output_type": "stream",
     "name": "stdout",
     "text": [
      "\n",
      "Iteration 20/20 of epoch 59 complete. Loss : 0.3800397887825966 \n"
     ]
    },
    {
     "output_type": "stream",
     "name": "stderr",
     "text": [
      "100%|██████████| 5/5 [00:00<00:00,  6.66it/s]\n",
      "  5%|▌         | 1/20 [00:00<00:03,  5.88it/s]"
     ]
    },
    {
     "output_type": "stream",
     "name": "stdout",
     "text": [
      "\n",
      "Epoch 59 complete! Validation Loss : 0.6533594608306885\n",
      "Epoch 59 complete! Validation Accuracy : 0.6757087628865979\n"
     ]
    },
    {
     "output_type": "stream",
     "name": "stderr",
     "text": [
      " 25%|██▌       | 5/20 [00:00<00:02,  5.93it/s]"
     ]
    },
    {
     "output_type": "stream",
     "name": "stdout",
     "text": [
      "\n",
      "Iteration 4/20 of epoch 60 complete. Loss : 0.33634842187166214 \n"
     ]
    },
    {
     "output_type": "stream",
     "name": "stderr",
     "text": [
      " 45%|████▌     | 9/20 [00:01<00:01,  5.94it/s]"
     ]
    },
    {
     "output_type": "stream",
     "name": "stdout",
     "text": [
      "\n",
      "Iteration 8/20 of epoch 60 complete. Loss : 0.3307218849658966 \n"
     ]
    },
    {
     "output_type": "stream",
     "name": "stderr",
     "text": [
      " 65%|██████▌   | 13/20 [00:02<00:01,  5.93it/s]"
     ]
    },
    {
     "output_type": "stream",
     "name": "stdout",
     "text": [
      "\n",
      "Iteration 12/20 of epoch 60 complete. Loss : 0.3367108926177025 \n"
     ]
    },
    {
     "output_type": "stream",
     "name": "stderr",
     "text": [
      " 85%|████████▌ | 17/20 [00:02<00:00,  5.96it/s]"
     ]
    },
    {
     "output_type": "stream",
     "name": "stdout",
     "text": [
      "\n",
      "Iteration 16/20 of epoch 60 complete. Loss : 0.32990043610334396 \n"
     ]
    },
    {
     "output_type": "stream",
     "name": "stderr",
     "text": [
      "100%|██████████| 20/20 [00:03<00:00,  6.21it/s]\n",
      " 20%|██        | 1/5 [00:00<00:00,  6.44it/s]"
     ]
    },
    {
     "output_type": "stream",
     "name": "stdout",
     "text": [
      "\n",
      "Iteration 20/20 of epoch 60 complete. Loss : 0.32739756256341934 \n"
     ]
    },
    {
     "output_type": "stream",
     "name": "stderr",
     "text": [
      "100%|██████████| 5/5 [00:00<00:00,  6.71it/s]\n",
      "  5%|▌         | 1/20 [00:00<00:03,  5.98it/s]"
     ]
    },
    {
     "output_type": "stream",
     "name": "stdout",
     "text": [
      "\n",
      "Epoch 60 complete! Validation Loss : 0.6535587906837463\n",
      "Epoch 60 complete! Validation Accuracy : 0.6757087628865979\n"
     ]
    },
    {
     "output_type": "stream",
     "name": "stderr",
     "text": [
      " 25%|██▌       | 5/20 [00:00<00:02,  5.95it/s]"
     ]
    },
    {
     "output_type": "stream",
     "name": "stdout",
     "text": [
      "\n",
      "Iteration 4/20 of epoch 61 complete. Loss : 0.32930804789066315 \n"
     ]
    },
    {
     "output_type": "stream",
     "name": "stderr",
     "text": [
      " 45%|████▌     | 9/20 [00:01<00:01,  5.87it/s]"
     ]
    },
    {
     "output_type": "stream",
     "name": "stdout",
     "text": [
      "\n",
      "Iteration 8/20 of epoch 61 complete. Loss : 0.32756952941417694 \n"
     ]
    },
    {
     "output_type": "stream",
     "name": "stderr",
     "text": [
      " 65%|██████▌   | 13/20 [00:02<00:01,  5.90it/s]"
     ]
    },
    {
     "output_type": "stream",
     "name": "stdout",
     "text": [
      "\n",
      "Iteration 12/20 of epoch 61 complete. Loss : 0.33451753854751587 \n"
     ]
    },
    {
     "output_type": "stream",
     "name": "stderr",
     "text": [
      " 85%|████████▌ | 17/20 [00:02<00:00,  5.95it/s]"
     ]
    },
    {
     "output_type": "stream",
     "name": "stdout",
     "text": [
      "\n",
      "Iteration 16/20 of epoch 61 complete. Loss : 0.3282323032617569 \n"
     ]
    },
    {
     "output_type": "stream",
     "name": "stderr",
     "text": [
      "100%|██████████| 20/20 [00:03<00:00,  6.18it/s]\n",
      " 20%|██        | 1/5 [00:00<00:00,  6.41it/s]"
     ]
    },
    {
     "output_type": "stream",
     "name": "stdout",
     "text": [
      "\n",
      "Iteration 20/20 of epoch 61 complete. Loss : 0.33137451112270355 \n"
     ]
    },
    {
     "output_type": "stream",
     "name": "stderr",
     "text": [
      "100%|██████████| 5/5 [00:00<00:00,  6.66it/s]\n",
      "  0%|          | 0/20 [00:00<?, ?it/s]"
     ]
    },
    {
     "output_type": "stream",
     "name": "stdout",
     "text": [
      "\n",
      "Epoch 61 complete! Validation Loss : 0.6471144676208496\n",
      "Epoch 61 complete! Validation Accuracy : 0.6757087628865979\n",
      "Best validation loss improved from 0.6520239472389221 to 0.6471144676208496\n",
      "\n"
     ]
    },
    {
     "output_type": "stream",
     "name": "stderr",
     "text": [
      " 25%|██▌       | 5/20 [00:00<00:02,  5.94it/s]"
     ]
    },
    {
     "output_type": "stream",
     "name": "stdout",
     "text": [
      "\n",
      "Iteration 4/20 of epoch 62 complete. Loss : 0.3289465233683586 \n"
     ]
    },
    {
     "output_type": "stream",
     "name": "stderr",
     "text": [
      " 45%|████▌     | 9/20 [00:01<00:01,  5.97it/s]"
     ]
    },
    {
     "output_type": "stream",
     "name": "stdout",
     "text": [
      "\n",
      "Iteration 8/20 of epoch 62 complete. Loss : 0.3452839106321335 \n"
     ]
    },
    {
     "output_type": "stream",
     "name": "stderr",
     "text": [
      " 65%|██████▌   | 13/20 [00:02<00:01,  5.92it/s]"
     ]
    },
    {
     "output_type": "stream",
     "name": "stdout",
     "text": [
      "\n",
      "Iteration 12/20 of epoch 62 complete. Loss : 0.31389709562063217 \n"
     ]
    },
    {
     "output_type": "stream",
     "name": "stderr",
     "text": [
      " 85%|████████▌ | 17/20 [00:02<00:00,  5.96it/s]"
     ]
    },
    {
     "output_type": "stream",
     "name": "stdout",
     "text": [
      "\n",
      "Iteration 16/20 of epoch 62 complete. Loss : 0.33830294013023376 \n"
     ]
    },
    {
     "output_type": "stream",
     "name": "stderr",
     "text": [
      "100%|██████████| 20/20 [00:03<00:00,  6.23it/s]\n",
      " 20%|██        | 1/5 [00:00<00:00,  6.62it/s]"
     ]
    },
    {
     "output_type": "stream",
     "name": "stdout",
     "text": [
      "\n",
      "Iteration 20/20 of epoch 62 complete. Loss : 0.3399299308657646 \n"
     ]
    },
    {
     "output_type": "stream",
     "name": "stderr",
     "text": [
      "100%|██████████| 5/5 [00:00<00:00,  6.71it/s]\n",
      "  0%|          | 0/20 [00:00<?, ?it/s]"
     ]
    },
    {
     "output_type": "stream",
     "name": "stdout",
     "text": [
      "\n",
      "Epoch 62 complete! Validation Loss : 0.6457587480545044\n",
      "Epoch 62 complete! Validation Accuracy : 0.6757087628865979\n",
      "Best validation loss improved from 0.6471144676208496 to 0.6457587480545044\n",
      "\n"
     ]
    },
    {
     "output_type": "stream",
     "name": "stderr",
     "text": [
      " 25%|██▌       | 5/20 [00:00<00:02,  5.94it/s]"
     ]
    },
    {
     "output_type": "stream",
     "name": "stdout",
     "text": [
      "\n",
      "Iteration 4/20 of epoch 63 complete. Loss : 0.3214530274271965 \n"
     ]
    },
    {
     "output_type": "stream",
     "name": "stderr",
     "text": [
      " 45%|████▌     | 9/20 [00:01<00:01,  5.91it/s]"
     ]
    },
    {
     "output_type": "stream",
     "name": "stdout",
     "text": [
      "\n",
      "Iteration 8/20 of epoch 63 complete. Loss : 0.3332250639796257 \n"
     ]
    },
    {
     "output_type": "stream",
     "name": "stderr",
     "text": [
      " 65%|██████▌   | 13/20 [00:02<00:01,  5.94it/s]"
     ]
    },
    {
     "output_type": "stream",
     "name": "stdout",
     "text": [
      "\n",
      "Iteration 12/20 of epoch 63 complete. Loss : 0.3252716362476349 \n"
     ]
    },
    {
     "output_type": "stream",
     "name": "stderr",
     "text": [
      " 85%|████████▌ | 17/20 [00:02<00:00,  5.92it/s]"
     ]
    },
    {
     "output_type": "stream",
     "name": "stdout",
     "text": [
      "\n",
      "Iteration 16/20 of epoch 63 complete. Loss : 0.3383987620472908 \n"
     ]
    },
    {
     "output_type": "stream",
     "name": "stderr",
     "text": [
      "100%|██████████| 20/20 [00:03<00:00,  6.19it/s]\n",
      " 20%|██        | 1/5 [00:00<00:00,  6.39it/s]"
     ]
    },
    {
     "output_type": "stream",
     "name": "stdout",
     "text": [
      "\n",
      "Iteration 20/20 of epoch 63 complete. Loss : 0.34259045124053955 \n"
     ]
    },
    {
     "output_type": "stream",
     "name": "stderr",
     "text": [
      "100%|██████████| 5/5 [00:00<00:00,  6.69it/s]\n",
      "  5%|▌         | 1/20 [00:00<00:03,  5.98it/s]"
     ]
    },
    {
     "output_type": "stream",
     "name": "stdout",
     "text": [
      "\n",
      "Epoch 63 complete! Validation Loss : 0.6467478513717652\n",
      "Epoch 63 complete! Validation Accuracy : 0.6757087628865979\n"
     ]
    },
    {
     "output_type": "stream",
     "name": "stderr",
     "text": [
      " 25%|██▌       | 5/20 [00:00<00:02,  5.92it/s]"
     ]
    },
    {
     "output_type": "stream",
     "name": "stdout",
     "text": [
      "\n",
      "Iteration 4/20 of epoch 64 complete. Loss : 0.3282827213406563 \n"
     ]
    },
    {
     "output_type": "stream",
     "name": "stderr",
     "text": [
      " 45%|████▌     | 9/20 [00:01<00:01,  5.92it/s]"
     ]
    },
    {
     "output_type": "stream",
     "name": "stdout",
     "text": [
      "\n",
      "Iteration 8/20 of epoch 64 complete. Loss : 0.3353635296225548 \n"
     ]
    },
    {
     "output_type": "stream",
     "name": "stderr",
     "text": [
      " 65%|██████▌   | 13/20 [00:02<00:01,  5.92it/s]"
     ]
    },
    {
     "output_type": "stream",
     "name": "stdout",
     "text": [
      "\n",
      "Iteration 12/20 of epoch 64 complete. Loss : 0.32749073952436447 \n"
     ]
    },
    {
     "output_type": "stream",
     "name": "stderr",
     "text": [
      " 85%|████████▌ | 17/20 [00:02<00:00,  5.91it/s]"
     ]
    },
    {
     "output_type": "stream",
     "name": "stdout",
     "text": [
      "\n",
      "Iteration 16/20 of epoch 64 complete. Loss : 0.3236292004585266 \n"
     ]
    },
    {
     "output_type": "stream",
     "name": "stderr",
     "text": [
      "100%|██████████| 20/20 [00:03<00:00,  6.21it/s]\n",
      " 20%|██        | 1/5 [00:00<00:00,  6.36it/s]"
     ]
    },
    {
     "output_type": "stream",
     "name": "stdout",
     "text": [
      "\n",
      "Iteration 20/20 of epoch 64 complete. Loss : 0.344453863799572 \n"
     ]
    },
    {
     "output_type": "stream",
     "name": "stderr",
     "text": [
      "100%|██████████| 5/5 [00:00<00:00,  6.76it/s]\n",
      "  5%|▌         | 1/20 [00:00<00:03,  5.91it/s]"
     ]
    },
    {
     "output_type": "stream",
     "name": "stdout",
     "text": [
      "\n",
      "Epoch 64 complete! Validation Loss : 0.6468317389488221\n",
      "Epoch 64 complete! Validation Accuracy : 0.6757087628865979\n"
     ]
    },
    {
     "output_type": "stream",
     "name": "stderr",
     "text": [
      " 25%|██▌       | 5/20 [00:00<00:02,  5.90it/s]"
     ]
    },
    {
     "output_type": "stream",
     "name": "stdout",
     "text": [
      "\n",
      "Iteration 4/20 of epoch 65 complete. Loss : 0.3246564492583275 \n"
     ]
    },
    {
     "output_type": "stream",
     "name": "stderr",
     "text": [
      " 45%|████▌     | 9/20 [00:01<00:01,  5.89it/s]"
     ]
    },
    {
     "output_type": "stream",
     "name": "stdout",
     "text": [
      "\n",
      "Iteration 8/20 of epoch 65 complete. Loss : 0.3354707732796669 \n"
     ]
    },
    {
     "output_type": "stream",
     "name": "stderr",
     "text": [
      " 65%|██████▌   | 13/20 [00:02<00:01,  5.89it/s]"
     ]
    },
    {
     "output_type": "stream",
     "name": "stdout",
     "text": [
      "\n",
      "Iteration 12/20 of epoch 65 complete. Loss : 0.3298470303416252 \n"
     ]
    },
    {
     "output_type": "stream",
     "name": "stderr",
     "text": [
      " 85%|████████▌ | 17/20 [00:02<00:00,  5.88it/s]"
     ]
    },
    {
     "output_type": "stream",
     "name": "stdout",
     "text": [
      "\n",
      "Iteration 16/20 of epoch 65 complete. Loss : 0.329860582947731 \n"
     ]
    },
    {
     "output_type": "stream",
     "name": "stderr",
     "text": [
      "100%|██████████| 20/20 [00:03<00:00,  6.18it/s]\n",
      " 20%|██        | 1/5 [00:00<00:00,  6.39it/s]"
     ]
    },
    {
     "output_type": "stream",
     "name": "stdout",
     "text": [
      "\n",
      "Iteration 20/20 of epoch 65 complete. Loss : 0.3034653104841709 \n"
     ]
    },
    {
     "output_type": "stream",
     "name": "stderr",
     "text": [
      "100%|██████████| 5/5 [00:00<00:00,  6.71it/s]\n",
      "  5%|▌         | 1/20 [00:00<00:03,  5.88it/s]"
     ]
    },
    {
     "output_type": "stream",
     "name": "stdout",
     "text": [
      "\n",
      "Epoch 65 complete! Validation Loss : 0.6461562871932983\n",
      "Epoch 65 complete! Validation Accuracy : 0.6757087628865979\n"
     ]
    },
    {
     "output_type": "stream",
     "name": "stderr",
     "text": [
      " 25%|██▌       | 5/20 [00:00<00:02,  5.95it/s]"
     ]
    },
    {
     "output_type": "stream",
     "name": "stdout",
     "text": [
      "\n",
      "Iteration 4/20 of epoch 66 complete. Loss : 0.32740598171949387 \n"
     ]
    },
    {
     "output_type": "stream",
     "name": "stderr",
     "text": [
      " 45%|████▌     | 9/20 [00:01<00:01,  5.93it/s]"
     ]
    },
    {
     "output_type": "stream",
     "name": "stdout",
     "text": [
      "\n",
      "Iteration 8/20 of epoch 66 complete. Loss : 0.34120048582553864 \n"
     ]
    },
    {
     "output_type": "stream",
     "name": "stderr",
     "text": [
      " 65%|██████▌   | 13/20 [00:02<00:01,  5.91it/s]"
     ]
    },
    {
     "output_type": "stream",
     "name": "stdout",
     "text": [
      "\n",
      "Iteration 12/20 of epoch 66 complete. Loss : 0.3272663429379463 \n"
     ]
    },
    {
     "output_type": "stream",
     "name": "stderr",
     "text": [
      " 85%|████████▌ | 17/20 [00:02<00:00,  5.91it/s]"
     ]
    },
    {
     "output_type": "stream",
     "name": "stdout",
     "text": [
      "\n",
      "Iteration 16/20 of epoch 66 complete. Loss : 0.32596082240343094 \n"
     ]
    },
    {
     "output_type": "stream",
     "name": "stderr",
     "text": [
      "100%|██████████| 20/20 [00:03<00:00,  6.20it/s]\n",
      " 20%|██        | 1/5 [00:00<00:00,  6.36it/s]"
     ]
    },
    {
     "output_type": "stream",
     "name": "stdout",
     "text": [
      "\n",
      "Iteration 20/20 of epoch 66 complete. Loss : 0.31248584389686584 \n"
     ]
    },
    {
     "output_type": "stream",
     "name": "stderr",
     "text": [
      "100%|██████████| 5/5 [00:00<00:00,  6.70it/s]\n",
      "  5%|▌         | 1/20 [00:00<00:03,  6.05it/s]"
     ]
    },
    {
     "output_type": "stream",
     "name": "stdout",
     "text": [
      "\n",
      "Epoch 66 complete! Validation Loss : 0.6421969175338745\n",
      "Epoch 66 complete! Validation Accuracy : 0.6757087628865979\n",
      "Best validation loss improved from 0.6457587480545044 to 0.6421969175338745\n",
      "\n"
     ]
    },
    {
     "output_type": "stream",
     "name": "stderr",
     "text": [
      " 25%|██▌       | 5/20 [00:00<00:02,  5.93it/s]"
     ]
    },
    {
     "output_type": "stream",
     "name": "stdout",
     "text": [
      "\n",
      "Iteration 4/20 of epoch 67 complete. Loss : 0.32476163655519485 \n"
     ]
    },
    {
     "output_type": "stream",
     "name": "stderr",
     "text": [
      " 45%|████▌     | 9/20 [00:01<00:01,  5.96it/s]"
     ]
    },
    {
     "output_type": "stream",
     "name": "stdout",
     "text": [
      "\n",
      "Iteration 8/20 of epoch 67 complete. Loss : 0.34010305255651474 \n"
     ]
    },
    {
     "output_type": "stream",
     "name": "stderr",
     "text": [
      " 65%|██████▌   | 13/20 [00:02<00:01,  5.91it/s]"
     ]
    },
    {
     "output_type": "stream",
     "name": "stdout",
     "text": [
      "\n",
      "Iteration 12/20 of epoch 67 complete. Loss : 0.3185499534010887 \n"
     ]
    },
    {
     "output_type": "stream",
     "name": "stderr",
     "text": [
      " 85%|████████▌ | 17/20 [00:02<00:00,  5.91it/s]"
     ]
    },
    {
     "output_type": "stream",
     "name": "stdout",
     "text": [
      "\n",
      "Iteration 16/20 of epoch 67 complete. Loss : 0.3304925858974457 \n"
     ]
    },
    {
     "output_type": "stream",
     "name": "stderr",
     "text": [
      "100%|██████████| 20/20 [00:03<00:00,  6.21it/s]\n",
      " 20%|██        | 1/5 [00:00<00:00,  6.40it/s]"
     ]
    },
    {
     "output_type": "stream",
     "name": "stdout",
     "text": [
      "\n",
      "Iteration 20/20 of epoch 67 complete. Loss : 0.3280022293329239 \n"
     ]
    },
    {
     "output_type": "stream",
     "name": "stderr",
     "text": [
      "100%|██████████| 5/5 [00:00<00:00,  6.68it/s]\n",
      "  5%|▌         | 1/20 [00:00<00:03,  6.12it/s]"
     ]
    },
    {
     "output_type": "stream",
     "name": "stdout",
     "text": [
      "\n",
      "Epoch 67 complete! Validation Loss : 0.6412851095199585\n",
      "Epoch 67 complete! Validation Accuracy : 0.6757087628865979\n",
      "Best validation loss improved from 0.6421969175338745 to 0.6412851095199585\n",
      "\n"
     ]
    },
    {
     "output_type": "stream",
     "name": "stderr",
     "text": [
      " 25%|██▌       | 5/20 [00:00<00:02,  5.97it/s]"
     ]
    },
    {
     "output_type": "stream",
     "name": "stdout",
     "text": [
      "\n",
      "Iteration 4/20 of epoch 68 complete. Loss : 0.32664256542921066 \n"
     ]
    },
    {
     "output_type": "stream",
     "name": "stderr",
     "text": [
      " 45%|████▌     | 9/20 [00:01<00:01,  5.93it/s]"
     ]
    },
    {
     "output_type": "stream",
     "name": "stdout",
     "text": [
      "\n",
      "Iteration 8/20 of epoch 68 complete. Loss : 0.32245322316884995 \n"
     ]
    },
    {
     "output_type": "stream",
     "name": "stderr",
     "text": [
      " 65%|██████▌   | 13/20 [00:02<00:01,  5.94it/s]"
     ]
    },
    {
     "output_type": "stream",
     "name": "stdout",
     "text": [
      "\n",
      "Iteration 12/20 of epoch 68 complete. Loss : 0.33826447278261185 \n"
     ]
    },
    {
     "output_type": "stream",
     "name": "stderr",
     "text": [
      " 85%|████████▌ | 17/20 [00:02<00:00,  5.97it/s]"
     ]
    },
    {
     "output_type": "stream",
     "name": "stdout",
     "text": [
      "\n",
      "Iteration 16/20 of epoch 68 complete. Loss : 0.3200248256325722 \n"
     ]
    },
    {
     "output_type": "stream",
     "name": "stderr",
     "text": [
      "100%|██████████| 20/20 [00:03<00:00,  6.23it/s]\n",
      " 20%|██        | 1/5 [00:00<00:00,  6.41it/s]"
     ]
    },
    {
     "output_type": "stream",
     "name": "stdout",
     "text": [
      "\n",
      "Iteration 20/20 of epoch 68 complete. Loss : 0.30450451746582985 \n"
     ]
    },
    {
     "output_type": "stream",
     "name": "stderr",
     "text": [
      "100%|██████████| 5/5 [00:00<00:00,  6.66it/s]\n",
      "  5%|▌         | 1/20 [00:00<00:03,  5.83it/s]"
     ]
    },
    {
     "output_type": "stream",
     "name": "stdout",
     "text": [
      "\n",
      "Epoch 68 complete! Validation Loss : 0.6413861989974976\n",
      "Epoch 68 complete! Validation Accuracy : 0.6757087628865979\n"
     ]
    },
    {
     "output_type": "stream",
     "name": "stderr",
     "text": [
      " 25%|██▌       | 5/20 [00:00<00:02,  5.91it/s]"
     ]
    },
    {
     "output_type": "stream",
     "name": "stdout",
     "text": [
      "\n",
      "Iteration 4/20 of epoch 69 complete. Loss : 0.3240378648042679 \n"
     ]
    },
    {
     "output_type": "stream",
     "name": "stderr",
     "text": [
      " 45%|████▌     | 9/20 [00:01<00:01,  5.94it/s]"
     ]
    },
    {
     "output_type": "stream",
     "name": "stdout",
     "text": [
      "\n",
      "Iteration 8/20 of epoch 69 complete. Loss : 0.32898329198360443 \n"
     ]
    },
    {
     "output_type": "stream",
     "name": "stderr",
     "text": [
      " 65%|██████▌   | 13/20 [00:02<00:01,  5.94it/s]"
     ]
    },
    {
     "output_type": "stream",
     "name": "stdout",
     "text": [
      "\n",
      "Iteration 12/20 of epoch 69 complete. Loss : 0.32945194095373154 \n"
     ]
    },
    {
     "output_type": "stream",
     "name": "stderr",
     "text": [
      " 85%|████████▌ | 17/20 [00:02<00:00,  5.94it/s]"
     ]
    },
    {
     "output_type": "stream",
     "name": "stdout",
     "text": [
      "\n",
      "Iteration 16/20 of epoch 69 complete. Loss : 0.3358403444290161 \n"
     ]
    },
    {
     "output_type": "stream",
     "name": "stderr",
     "text": [
      "100%|██████████| 20/20 [00:03<00:00,  6.20it/s]\n",
      " 20%|██        | 1/5 [00:00<00:00,  6.46it/s]"
     ]
    },
    {
     "output_type": "stream",
     "name": "stdout",
     "text": [
      "\n",
      "Iteration 20/20 of epoch 69 complete. Loss : 0.28955747932195663 \n"
     ]
    },
    {
     "output_type": "stream",
     "name": "stderr",
     "text": [
      "100%|██████████| 5/5 [00:00<00:00,  6.74it/s]\n",
      "  0%|          | 0/20 [00:00<?, ?it/s]"
     ]
    },
    {
     "output_type": "stream",
     "name": "stdout",
     "text": [
      "\n",
      "Epoch 69 complete! Validation Loss : 0.6400768637657166\n",
      "Epoch 69 complete! Validation Accuracy : 0.6757087628865979\n",
      "Best validation loss improved from 0.6412851095199585 to 0.6400768637657166\n",
      "\n"
     ]
    },
    {
     "output_type": "stream",
     "name": "stderr",
     "text": [
      " 25%|██▌       | 5/20 [00:00<00:02,  5.91it/s]"
     ]
    },
    {
     "output_type": "stream",
     "name": "stdout",
     "text": [
      "\n",
      "Iteration 4/20 of epoch 70 complete. Loss : 0.33083897829055786 \n"
     ]
    },
    {
     "output_type": "stream",
     "name": "stderr",
     "text": [
      " 45%|████▌     | 9/20 [00:01<00:01,  5.98it/s]"
     ]
    },
    {
     "output_type": "stream",
     "name": "stdout",
     "text": [
      "\n",
      "Iteration 8/20 of epoch 70 complete. Loss : 0.3317277878522873 \n"
     ]
    },
    {
     "output_type": "stream",
     "name": "stderr",
     "text": [
      " 65%|██████▌   | 13/20 [00:02<00:01,  6.00it/s]"
     ]
    },
    {
     "output_type": "stream",
     "name": "stdout",
     "text": [
      "\n",
      "Iteration 12/20 of epoch 70 complete. Loss : 0.325080968439579 \n"
     ]
    },
    {
     "output_type": "stream",
     "name": "stderr",
     "text": [
      " 85%|████████▌ | 17/20 [00:02<00:00,  5.97it/s]"
     ]
    },
    {
     "output_type": "stream",
     "name": "stdout",
     "text": [
      "\n",
      "Iteration 16/20 of epoch 70 complete. Loss : 0.319707915186882 \n"
     ]
    },
    {
     "output_type": "stream",
     "name": "stderr",
     "text": [
      "100%|██████████| 20/20 [00:03<00:00,  6.24it/s]\n",
      " 20%|██        | 1/5 [00:00<00:00,  6.62it/s]"
     ]
    },
    {
     "output_type": "stream",
     "name": "stdout",
     "text": [
      "\n",
      "Iteration 20/20 of epoch 70 complete. Loss : 0.3610742688179016 \n"
     ]
    },
    {
     "output_type": "stream",
     "name": "stderr",
     "text": [
      "100%|██████████| 5/5 [00:00<00:00,  6.75it/s]\n",
      "  0%|          | 0/20 [00:00<?, ?it/s]"
     ]
    },
    {
     "output_type": "stream",
     "name": "stdout",
     "text": [
      "\n",
      "Epoch 70 complete! Validation Loss : 0.6387928247451782\n",
      "Epoch 70 complete! Validation Accuracy : 0.6757087628865979\n",
      "Best validation loss improved from 0.6400768637657166 to 0.6387928247451782\n",
      "\n"
     ]
    },
    {
     "output_type": "stream",
     "name": "stderr",
     "text": [
      " 25%|██▌       | 5/20 [00:00<00:02,  5.93it/s]"
     ]
    },
    {
     "output_type": "stream",
     "name": "stdout",
     "text": [
      "\n",
      "Iteration 4/20 of epoch 71 complete. Loss : 0.32524269819259644 \n"
     ]
    },
    {
     "output_type": "stream",
     "name": "stderr",
     "text": [
      " 45%|████▌     | 9/20 [00:01<00:01,  5.94it/s]"
     ]
    },
    {
     "output_type": "stream",
     "name": "stdout",
     "text": [
      "\n",
      "Iteration 8/20 of epoch 71 complete. Loss : 0.3219001442193985 \n"
     ]
    },
    {
     "output_type": "stream",
     "name": "stderr",
     "text": [
      " 65%|██████▌   | 13/20 [00:02<00:01,  5.97it/s]"
     ]
    },
    {
     "output_type": "stream",
     "name": "stdout",
     "text": [
      "\n",
      "Iteration 12/20 of epoch 71 complete. Loss : 0.32282065600156784 \n"
     ]
    },
    {
     "output_type": "stream",
     "name": "stderr",
     "text": [
      " 85%|████████▌ | 17/20 [00:02<00:00,  5.95it/s]"
     ]
    },
    {
     "output_type": "stream",
     "name": "stdout",
     "text": [
      "\n",
      "Iteration 16/20 of epoch 71 complete. Loss : 0.3282596096396446 \n"
     ]
    },
    {
     "output_type": "stream",
     "name": "stderr",
     "text": [
      "100%|██████████| 20/20 [00:03<00:00,  6.23it/s]\n",
      " 20%|██        | 1/5 [00:00<00:00,  6.46it/s]"
     ]
    },
    {
     "output_type": "stream",
     "name": "stdout",
     "text": [
      "\n",
      "Iteration 20/20 of epoch 71 complete. Loss : 0.3467452898621559 \n"
     ]
    },
    {
     "output_type": "stream",
     "name": "stderr",
     "text": [
      "100%|██████████| 5/5 [00:00<00:00,  6.70it/s]\n",
      "  5%|▌         | 1/20 [00:00<00:03,  6.00it/s]"
     ]
    },
    {
     "output_type": "stream",
     "name": "stdout",
     "text": [
      "\n",
      "Epoch 71 complete! Validation Loss : 0.6416451811790467\n",
      "Epoch 71 complete! Validation Accuracy : 0.6757087628865979\n"
     ]
    },
    {
     "output_type": "stream",
     "name": "stderr",
     "text": [
      " 25%|██▌       | 5/20 [00:00<00:02,  5.96it/s]"
     ]
    },
    {
     "output_type": "stream",
     "name": "stdout",
     "text": [
      "\n",
      "Iteration 4/20 of epoch 72 complete. Loss : 0.3245541453361511 \n"
     ]
    },
    {
     "output_type": "stream",
     "name": "stderr",
     "text": [
      " 45%|████▌     | 9/20 [00:01<00:01,  5.97it/s]"
     ]
    },
    {
     "output_type": "stream",
     "name": "stdout",
     "text": [
      "\n",
      "Iteration 8/20 of epoch 72 complete. Loss : 0.33301950991153717 \n"
     ]
    },
    {
     "output_type": "stream",
     "name": "stderr",
     "text": [
      " 65%|██████▌   | 13/20 [00:02<00:01,  5.94it/s]"
     ]
    },
    {
     "output_type": "stream",
     "name": "stdout",
     "text": [
      "\n",
      "Iteration 12/20 of epoch 72 complete. Loss : 0.33569640666246414 \n"
     ]
    },
    {
     "output_type": "stream",
     "name": "stderr",
     "text": [
      " 85%|████████▌ | 17/20 [00:02<00:00,  5.97it/s]"
     ]
    },
    {
     "output_type": "stream",
     "name": "stdout",
     "text": [
      "\n",
      "Iteration 16/20 of epoch 72 complete. Loss : 0.3153967410326004 \n"
     ]
    },
    {
     "output_type": "stream",
     "name": "stderr",
     "text": [
      "100%|██████████| 20/20 [00:03<00:00,  6.24it/s]\n",
      " 20%|██        | 1/5 [00:00<00:00,  6.55it/s]"
     ]
    },
    {
     "output_type": "stream",
     "name": "stdout",
     "text": [
      "\n",
      "Iteration 20/20 of epoch 72 complete. Loss : 0.3025165870785713 \n"
     ]
    },
    {
     "output_type": "stream",
     "name": "stderr",
     "text": [
      "100%|██████████| 5/5 [00:00<00:00,  6.74it/s]\n",
      "  5%|▌         | 1/20 [00:00<00:03,  5.90it/s]"
     ]
    },
    {
     "output_type": "stream",
     "name": "stdout",
     "text": [
      "\n",
      "Epoch 72 complete! Validation Loss : 0.6401461124420166\n",
      "Epoch 72 complete! Validation Accuracy : 0.6757087628865979\n"
     ]
    },
    {
     "output_type": "stream",
     "name": "stderr",
     "text": [
      " 25%|██▌       | 5/20 [00:00<00:02,  5.92it/s]"
     ]
    },
    {
     "output_type": "stream",
     "name": "stdout",
     "text": [
      "\n",
      "Iteration 4/20 of epoch 73 complete. Loss : 0.3273896127939224 \n"
     ]
    },
    {
     "output_type": "stream",
     "name": "stderr",
     "text": [
      " 45%|████▌     | 9/20 [00:01<00:01,  5.90it/s]"
     ]
    },
    {
     "output_type": "stream",
     "name": "stdout",
     "text": [
      "\n",
      "Iteration 8/20 of epoch 73 complete. Loss : 0.32153087109327316 \n"
     ]
    },
    {
     "output_type": "stream",
     "name": "stderr",
     "text": [
      " 65%|██████▌   | 13/20 [00:02<00:01,  5.94it/s]"
     ]
    },
    {
     "output_type": "stream",
     "name": "stdout",
     "text": [
      "\n",
      "Iteration 12/20 of epoch 73 complete. Loss : 0.3343616873025894 \n"
     ]
    },
    {
     "output_type": "stream",
     "name": "stderr",
     "text": [
      " 85%|████████▌ | 17/20 [00:02<00:00,  5.97it/s]"
     ]
    },
    {
     "output_type": "stream",
     "name": "stdout",
     "text": [
      "\n",
      "Iteration 16/20 of epoch 73 complete. Loss : 0.31283050775527954 \n"
     ]
    },
    {
     "output_type": "stream",
     "name": "stderr",
     "text": [
      "100%|██████████| 20/20 [00:03<00:00,  6.21it/s]\n",
      " 20%|██        | 1/5 [00:00<00:00,  6.61it/s]"
     ]
    },
    {
     "output_type": "stream",
     "name": "stdout",
     "text": [
      "\n",
      "Iteration 20/20 of epoch 73 complete. Loss : 0.32598136365413666 \n"
     ]
    },
    {
     "output_type": "stream",
     "name": "stderr",
     "text": [
      "100%|██████████| 5/5 [00:00<00:00,  6.72it/s]\n",
      "  0%|          | 0/20 [00:00<?, ?it/s]"
     ]
    },
    {
     "output_type": "stream",
     "name": "stdout",
     "text": [
      "\n",
      "Epoch 73 complete! Validation Loss : 0.6356141924858093\n",
      "Epoch 73 complete! Validation Accuracy : 0.6757087628865979\n",
      "Best validation loss improved from 0.6387928247451782 to 0.6356141924858093\n",
      "\n"
     ]
    },
    {
     "output_type": "stream",
     "name": "stderr",
     "text": [
      " 25%|██▌       | 5/20 [00:00<00:02,  6.00it/s]"
     ]
    },
    {
     "output_type": "stream",
     "name": "stdout",
     "text": [
      "\n",
      "Iteration 4/20 of epoch 74 complete. Loss : 0.3204740136861801 \n"
     ]
    },
    {
     "output_type": "stream",
     "name": "stderr",
     "text": [
      " 45%|████▌     | 9/20 [00:01<00:01,  5.92it/s]"
     ]
    },
    {
     "output_type": "stream",
     "name": "stdout",
     "text": [
      "\n",
      "Iteration 8/20 of epoch 74 complete. Loss : 0.3254481330513954 \n"
     ]
    },
    {
     "output_type": "stream",
     "name": "stderr",
     "text": [
      " 65%|██████▌   | 13/20 [00:02<00:01,  5.95it/s]"
     ]
    },
    {
     "output_type": "stream",
     "name": "stdout",
     "text": [
      "\n",
      "Iteration 12/20 of epoch 74 complete. Loss : 0.3179536461830139 \n"
     ]
    },
    {
     "output_type": "stream",
     "name": "stderr",
     "text": [
      " 85%|████████▌ | 17/20 [00:02<00:00,  5.95it/s]"
     ]
    },
    {
     "output_type": "stream",
     "name": "stdout",
     "text": [
      "\n",
      "Iteration 16/20 of epoch 74 complete. Loss : 0.331305555999279 \n"
     ]
    },
    {
     "output_type": "stream",
     "name": "stderr",
     "text": [
      "100%|██████████| 20/20 [00:03<00:00,  6.23it/s]\n",
      " 20%|██        | 1/5 [00:00<00:00,  6.48it/s]"
     ]
    },
    {
     "output_type": "stream",
     "name": "stdout",
     "text": [
      "\n",
      "Iteration 20/20 of epoch 74 complete. Loss : 0.3227565661072731 \n"
     ]
    },
    {
     "output_type": "stream",
     "name": "stderr",
     "text": [
      "100%|██████████| 5/5 [00:00<00:00,  6.68it/s]\n",
      "  0%|          | 0/20 [00:00<?, ?it/s]"
     ]
    },
    {
     "output_type": "stream",
     "name": "stdout",
     "text": [
      "\n",
      "Epoch 74 complete! Validation Loss : 0.63530592918396\n",
      "Epoch 74 complete! Validation Accuracy : 0.6757087628865979\n",
      "Best validation loss improved from 0.6356141924858093 to 0.63530592918396\n",
      "\n"
     ]
    },
    {
     "output_type": "stream",
     "name": "stderr",
     "text": [
      " 25%|██▌       | 5/20 [00:00<00:02,  5.97it/s]"
     ]
    },
    {
     "output_type": "stream",
     "name": "stdout",
     "text": [
      "\n",
      "Iteration 4/20 of epoch 75 complete. Loss : 0.32236315310001373 \n"
     ]
    },
    {
     "output_type": "stream",
     "name": "stderr",
     "text": [
      " 45%|████▌     | 9/20 [00:01<00:01,  5.98it/s]"
     ]
    },
    {
     "output_type": "stream",
     "name": "stdout",
     "text": [
      "\n",
      "Iteration 8/20 of epoch 75 complete. Loss : 0.32343044877052307 \n"
     ]
    },
    {
     "output_type": "stream",
     "name": "stderr",
     "text": [
      " 65%|██████▌   | 13/20 [00:02<00:01,  5.93it/s]"
     ]
    },
    {
     "output_type": "stream",
     "name": "stdout",
     "text": [
      "\n",
      "Iteration 12/20 of epoch 75 complete. Loss : 0.32523534446954727 \n"
     ]
    },
    {
     "output_type": "stream",
     "name": "stderr",
     "text": [
      " 85%|████████▌ | 17/20 [00:02<00:00,  5.94it/s]"
     ]
    },
    {
     "output_type": "stream",
     "name": "stdout",
     "text": [
      "\n",
      "Iteration 16/20 of epoch 75 complete. Loss : 0.32368597388267517 \n"
     ]
    },
    {
     "output_type": "stream",
     "name": "stderr",
     "text": [
      "100%|██████████| 20/20 [00:03<00:00,  6.21it/s]\n",
      " 20%|██        | 1/5 [00:00<00:00,  6.64it/s]"
     ]
    },
    {
     "output_type": "stream",
     "name": "stdout",
     "text": [
      "\n",
      "Iteration 20/20 of epoch 75 complete. Loss : 0.33582714945077896 \n"
     ]
    },
    {
     "output_type": "stream",
     "name": "stderr",
     "text": [
      "100%|██████████| 5/5 [00:00<00:00,  6.76it/s]\n",
      "  5%|▌         | 1/20 [00:00<00:03,  5.98it/s]"
     ]
    },
    {
     "output_type": "stream",
     "name": "stdout",
     "text": [
      "\n",
      "Epoch 75 complete! Validation Loss : 0.636610746383667\n",
      "Epoch 75 complete! Validation Accuracy : 0.6757087628865979\n"
     ]
    },
    {
     "output_type": "stream",
     "name": "stderr",
     "text": [
      " 25%|██▌       | 5/20 [00:00<00:02,  5.90it/s]"
     ]
    },
    {
     "output_type": "stream",
     "name": "stdout",
     "text": [
      "\n",
      "Iteration 4/20 of epoch 76 complete. Loss : 0.32998017966747284 \n"
     ]
    },
    {
     "output_type": "stream",
     "name": "stderr",
     "text": [
      " 45%|████▌     | 9/20 [00:01<00:01,  5.95it/s]"
     ]
    },
    {
     "output_type": "stream",
     "name": "stdout",
     "text": [
      "\n",
      "Iteration 8/20 of epoch 76 complete. Loss : 0.3203839510679245 \n"
     ]
    },
    {
     "output_type": "stream",
     "name": "stderr",
     "text": [
      " 65%|██████▌   | 13/20 [00:02<00:01,  5.91it/s]"
     ]
    },
    {
     "output_type": "stream",
     "name": "stdout",
     "text": [
      "\n",
      "Iteration 12/20 of epoch 76 complete. Loss : 0.3248899430036545 \n"
     ]
    },
    {
     "output_type": "stream",
     "name": "stderr",
     "text": [
      " 85%|████████▌ | 17/20 [00:02<00:00,  5.95it/s]"
     ]
    },
    {
     "output_type": "stream",
     "name": "stdout",
     "text": [
      "\n",
      "Iteration 16/20 of epoch 76 complete. Loss : 0.3176845610141754 \n"
     ]
    },
    {
     "output_type": "stream",
     "name": "stderr",
     "text": [
      "100%|██████████| 20/20 [00:03<00:00,  6.21it/s]\n",
      " 20%|██        | 1/5 [00:00<00:00,  6.63it/s]"
     ]
    },
    {
     "output_type": "stream",
     "name": "stdout",
     "text": [
      "\n",
      "Iteration 20/20 of epoch 76 complete. Loss : 0.31128767877817154 \n"
     ]
    },
    {
     "output_type": "stream",
     "name": "stderr",
     "text": [
      "100%|██████████| 5/5 [00:00<00:00,  6.75it/s]\n",
      "  5%|▌         | 1/20 [00:00<00:03,  5.81it/s]"
     ]
    },
    {
     "output_type": "stream",
     "name": "stdout",
     "text": [
      "\n",
      "Epoch 76 complete! Validation Loss : 0.6369675040245056\n",
      "Epoch 76 complete! Validation Accuracy : 0.6757087628865979\n"
     ]
    },
    {
     "output_type": "stream",
     "name": "stderr",
     "text": [
      " 25%|██▌       | 5/20 [00:00<00:02,  5.90it/s]"
     ]
    },
    {
     "output_type": "stream",
     "name": "stdout",
     "text": [
      "\n",
      "Iteration 4/20 of epoch 77 complete. Loss : 0.32263343781232834 \n"
     ]
    },
    {
     "output_type": "stream",
     "name": "stderr",
     "text": [
      " 45%|████▌     | 9/20 [00:01<00:01,  5.93it/s]"
     ]
    },
    {
     "output_type": "stream",
     "name": "stdout",
     "text": [
      "\n",
      "Iteration 8/20 of epoch 77 complete. Loss : 0.3217449262738228 \n"
     ]
    },
    {
     "output_type": "stream",
     "name": "stderr",
     "text": [
      " 65%|██████▌   | 13/20 [00:02<00:01,  5.93it/s]"
     ]
    },
    {
     "output_type": "stream",
     "name": "stdout",
     "text": [
      "\n",
      "Iteration 12/20 of epoch 77 complete. Loss : 0.3153565898537636 \n"
     ]
    },
    {
     "output_type": "stream",
     "name": "stderr",
     "text": [
      " 85%|████████▌ | 17/20 [00:02<00:00,  5.93it/s]"
     ]
    },
    {
     "output_type": "stream",
     "name": "stdout",
     "text": [
      "\n",
      "Iteration 16/20 of epoch 77 complete. Loss : 0.31938499957323074 \n"
     ]
    },
    {
     "output_type": "stream",
     "name": "stderr",
     "text": [
      "100%|██████████| 20/20 [00:03<00:00,  6.20it/s]\n",
      " 20%|██        | 1/5 [00:00<00:00,  6.62it/s]"
     ]
    },
    {
     "output_type": "stream",
     "name": "stdout",
     "text": [
      "\n",
      "Iteration 20/20 of epoch 77 complete. Loss : 0.3169163465499878 \n"
     ]
    },
    {
     "output_type": "stream",
     "name": "stderr",
     "text": [
      "100%|██████████| 5/5 [00:00<00:00,  6.72it/s]\n",
      "  0%|          | 0/20 [00:00<?, ?it/s]"
     ]
    },
    {
     "output_type": "stream",
     "name": "stdout",
     "text": [
      "\n",
      "Epoch 77 complete! Validation Loss : 0.6321365833282471\n",
      "Epoch 77 complete! Validation Accuracy : 0.6757087628865979\n",
      "Best validation loss improved from 0.63530592918396 to 0.6321365833282471\n",
      "\n"
     ]
    },
    {
     "output_type": "stream",
     "name": "stderr",
     "text": [
      " 25%|██▌       | 5/20 [00:00<00:02,  5.93it/s]"
     ]
    },
    {
     "output_type": "stream",
     "name": "stdout",
     "text": [
      "\n",
      "Iteration 4/20 of epoch 78 complete. Loss : 0.32555463165044785 \n"
     ]
    },
    {
     "output_type": "stream",
     "name": "stderr",
     "text": [
      " 45%|████▌     | 9/20 [00:01<00:01,  5.92it/s]"
     ]
    },
    {
     "output_type": "stream",
     "name": "stdout",
     "text": [
      "\n",
      "Iteration 8/20 of epoch 78 complete. Loss : 0.3254735469818115 \n"
     ]
    },
    {
     "output_type": "stream",
     "name": "stderr",
     "text": [
      " 65%|██████▌   | 13/20 [00:02<00:01,  5.97it/s]"
     ]
    },
    {
     "output_type": "stream",
     "name": "stdout",
     "text": [
      "\n",
      "Iteration 12/20 of epoch 78 complete. Loss : 0.3303568586707115 \n"
     ]
    },
    {
     "output_type": "stream",
     "name": "stderr",
     "text": [
      " 85%|████████▌ | 17/20 [00:02<00:00,  5.96it/s]"
     ]
    },
    {
     "output_type": "stream",
     "name": "stdout",
     "text": [
      "\n",
      "Iteration 16/20 of epoch 78 complete. Loss : 0.30428875982761383 \n"
     ]
    },
    {
     "output_type": "stream",
     "name": "stderr",
     "text": [
      "100%|██████████| 20/20 [00:03<00:00,  6.23it/s]\n",
      " 20%|██        | 1/5 [00:00<00:00,  6.38it/s]"
     ]
    },
    {
     "output_type": "stream",
     "name": "stdout",
     "text": [
      "\n",
      "Iteration 20/20 of epoch 78 complete. Loss : 0.3108806014060974 \n"
     ]
    },
    {
     "output_type": "stream",
     "name": "stderr",
     "text": [
      "100%|██████████| 5/5 [00:00<00:00,  6.74it/s]\n",
      "  0%|          | 0/20 [00:00<?, ?it/s]"
     ]
    },
    {
     "output_type": "stream",
     "name": "stdout",
     "text": [
      "\n",
      "Epoch 78 complete! Validation Loss : 0.6312524795532226\n",
      "Epoch 78 complete! Validation Accuracy : 0.6757087628865979\n",
      "Best validation loss improved from 0.6321365833282471 to 0.6312524795532226\n",
      "\n"
     ]
    },
    {
     "output_type": "stream",
     "name": "stderr",
     "text": [
      " 25%|██▌       | 5/20 [00:00<00:02,  5.94it/s]"
     ]
    },
    {
     "output_type": "stream",
     "name": "stdout",
     "text": [
      "\n",
      "Iteration 4/20 of epoch 79 complete. Loss : 0.3274993747472763 \n"
     ]
    },
    {
     "output_type": "stream",
     "name": "stderr",
     "text": [
      " 45%|████▌     | 9/20 [00:01<00:01,  5.91it/s]"
     ]
    },
    {
     "output_type": "stream",
     "name": "stdout",
     "text": [
      "\n",
      "Iteration 8/20 of epoch 79 complete. Loss : 0.31822217255830765 \n"
     ]
    },
    {
     "output_type": "stream",
     "name": "stderr",
     "text": [
      " 65%|██████▌   | 13/20 [00:02<00:01,  5.83it/s]"
     ]
    },
    {
     "output_type": "stream",
     "name": "stdout",
     "text": [
      "\n",
      "Iteration 12/20 of epoch 79 complete. Loss : 0.32378286123275757 \n"
     ]
    },
    {
     "output_type": "stream",
     "name": "stderr",
     "text": [
      " 85%|████████▌ | 17/20 [00:02<00:00,  5.89it/s]"
     ]
    },
    {
     "output_type": "stream",
     "name": "stdout",
     "text": [
      "\n",
      "Iteration 16/20 of epoch 79 complete. Loss : 0.3172178864479065 \n"
     ]
    },
    {
     "output_type": "stream",
     "name": "stderr",
     "text": [
      "100%|██████████| 20/20 [00:03<00:00,  6.16it/s]\n",
      " 20%|██        | 1/5 [00:00<00:00,  6.39it/s]"
     ]
    },
    {
     "output_type": "stream",
     "name": "stdout",
     "text": [
      "\n",
      "Iteration 20/20 of epoch 79 complete. Loss : 0.3222047835588455 \n"
     ]
    },
    {
     "output_type": "stream",
     "name": "stderr",
     "text": [
      "100%|██████████| 5/5 [00:00<00:00,  6.68it/s]\n",
      "  5%|▌         | 1/20 [00:00<00:03,  5.95it/s]"
     ]
    },
    {
     "output_type": "stream",
     "name": "stdout",
     "text": [
      "\n",
      "Epoch 79 complete! Validation Loss : 0.6313508868217468\n",
      "Epoch 79 complete! Validation Accuracy : 0.6772712628865979\n"
     ]
    },
    {
     "output_type": "stream",
     "name": "stderr",
     "text": [
      " 25%|██▌       | 5/20 [00:00<00:02,  5.91it/s]"
     ]
    },
    {
     "output_type": "stream",
     "name": "stdout",
     "text": [
      "\n",
      "Iteration 4/20 of epoch 80 complete. Loss : 0.3258579671382904 \n"
     ]
    },
    {
     "output_type": "stream",
     "name": "stderr",
     "text": [
      " 45%|████▌     | 9/20 [00:01<00:01,  5.94it/s]"
     ]
    },
    {
     "output_type": "stream",
     "name": "stdout",
     "text": [
      "\n",
      "Iteration 8/20 of epoch 80 complete. Loss : 0.31637560576200485 \n"
     ]
    },
    {
     "output_type": "stream",
     "name": "stderr",
     "text": [
      " 65%|██████▌   | 13/20 [00:02<00:01,  5.44it/s]"
     ]
    },
    {
     "output_type": "stream",
     "name": "stdout",
     "text": [
      "\n",
      "Iteration 12/20 of epoch 80 complete. Loss : 0.3187020346522331 \n"
     ]
    },
    {
     "output_type": "stream",
     "name": "stderr",
     "text": [
      " 85%|████████▌ | 17/20 [00:03<00:00,  5.39it/s]"
     ]
    },
    {
     "output_type": "stream",
     "name": "stdout",
     "text": [
      "\n",
      "Iteration 16/20 of epoch 80 complete. Loss : 0.3188239485025406 \n"
     ]
    },
    {
     "output_type": "stream",
     "name": "stderr",
     "text": [
      "100%|██████████| 20/20 [00:03<00:00,  5.88it/s]\n",
      " 20%|██        | 1/5 [00:00<00:00,  6.45it/s]"
     ]
    },
    {
     "output_type": "stream",
     "name": "stdout",
     "text": [
      "\n",
      "Iteration 20/20 of epoch 80 complete. Loss : 0.3196139335632324 \n"
     ]
    },
    {
     "output_type": "stream",
     "name": "stderr",
     "text": [
      "100%|██████████| 5/5 [00:00<00:00,  6.62it/s]\n",
      "  5%|▌         | 1/20 [00:00<00:03,  5.90it/s]"
     ]
    },
    {
     "output_type": "stream",
     "name": "stdout",
     "text": [
      "\n",
      "Epoch 80 complete! Validation Loss : 0.6316226840019226\n",
      "Epoch 80 complete! Validation Accuracy : 0.6757087628865979\n"
     ]
    },
    {
     "output_type": "stream",
     "name": "stderr",
     "text": [
      " 25%|██▌       | 5/20 [00:00<00:02,  5.90it/s]"
     ]
    },
    {
     "output_type": "stream",
     "name": "stdout",
     "text": [
      "\n",
      "Iteration 4/20 of epoch 81 complete. Loss : 0.3203459307551384 \n"
     ]
    },
    {
     "output_type": "stream",
     "name": "stderr",
     "text": [
      " 45%|████▌     | 9/20 [00:01<00:01,  5.95it/s]"
     ]
    },
    {
     "output_type": "stream",
     "name": "stdout",
     "text": [
      "\n",
      "Iteration 8/20 of epoch 81 complete. Loss : 0.3178848698735237 \n"
     ]
    },
    {
     "output_type": "stream",
     "name": "stderr",
     "text": [
      " 65%|██████▌   | 13/20 [00:02<00:01,  5.94it/s]"
     ]
    },
    {
     "output_type": "stream",
     "name": "stdout",
     "text": [
      "\n",
      "Iteration 12/20 of epoch 81 complete. Loss : 0.3169219642877579 \n"
     ]
    },
    {
     "output_type": "stream",
     "name": "stderr",
     "text": [
      " 85%|████████▌ | 17/20 [00:02<00:00,  5.93it/s]"
     ]
    },
    {
     "output_type": "stream",
     "name": "stdout",
     "text": [
      "\n",
      "Iteration 16/20 of epoch 81 complete. Loss : 0.3182265982031822 \n"
     ]
    },
    {
     "output_type": "stream",
     "name": "stderr",
     "text": [
      "100%|██████████| 20/20 [00:03<00:00,  6.20it/s]\n",
      " 20%|██        | 1/5 [00:00<00:00,  6.43it/s]"
     ]
    },
    {
     "output_type": "stream",
     "name": "stdout",
     "text": [
      "\n",
      "Iteration 20/20 of epoch 81 complete. Loss : 0.3436378166079521 \n"
     ]
    },
    {
     "output_type": "stream",
     "name": "stderr",
     "text": [
      "100%|██████████| 5/5 [00:00<00:00,  6.72it/s]\n",
      "  5%|▌         | 1/20 [00:00<00:03,  6.05it/s]"
     ]
    },
    {
     "output_type": "stream",
     "name": "stdout",
     "text": [
      "\n",
      "Epoch 81 complete! Validation Loss : 0.6290765643119812\n",
      "Epoch 81 complete! Validation Accuracy : 0.6757087628865979\n",
      "Best validation loss improved from 0.6312524795532226 to 0.6290765643119812\n",
      "\n"
     ]
    },
    {
     "output_type": "stream",
     "name": "stderr",
     "text": [
      " 25%|██▌       | 5/20 [00:00<00:02,  5.94it/s]"
     ]
    },
    {
     "output_type": "stream",
     "name": "stdout",
     "text": [
      "\n",
      "Iteration 4/20 of epoch 82 complete. Loss : 0.3170509859919548 \n"
     ]
    },
    {
     "output_type": "stream",
     "name": "stderr",
     "text": [
      " 45%|████▌     | 9/20 [00:01<00:01,  5.96it/s]"
     ]
    },
    {
     "output_type": "stream",
     "name": "stdout",
     "text": [
      "\n",
      "Iteration 8/20 of epoch 82 complete. Loss : 0.3162689656019211 \n"
     ]
    },
    {
     "output_type": "stream",
     "name": "stderr",
     "text": [
      " 65%|██████▌   | 13/20 [00:02<00:01,  5.99it/s]"
     ]
    },
    {
     "output_type": "stream",
     "name": "stdout",
     "text": [
      "\n",
      "Iteration 12/20 of epoch 82 complete. Loss : 0.32185667008161545 \n"
     ]
    },
    {
     "output_type": "stream",
     "name": "stderr",
     "text": [
      " 85%|████████▌ | 17/20 [00:02<00:00,  5.94it/s]"
     ]
    },
    {
     "output_type": "stream",
     "name": "stdout",
     "text": [
      "\n",
      "Iteration 16/20 of epoch 82 complete. Loss : 0.31469056755304337 \n"
     ]
    },
    {
     "output_type": "stream",
     "name": "stderr",
     "text": [
      "100%|██████████| 20/20 [00:03<00:00,  6.23it/s]\n",
      " 20%|██        | 1/5 [00:00<00:00,  6.44it/s]"
     ]
    },
    {
     "output_type": "stream",
     "name": "stdout",
     "text": [
      "\n",
      "Iteration 20/20 of epoch 82 complete. Loss : 0.33320923894643784 \n"
     ]
    },
    {
     "output_type": "stream",
     "name": "stderr",
     "text": [
      "100%|██████████| 5/5 [00:00<00:00,  6.71it/s]\n",
      "  5%|▌         | 1/20 [00:00<00:03,  6.07it/s]"
     ]
    },
    {
     "output_type": "stream",
     "name": "stdout",
     "text": [
      "\n",
      "Epoch 82 complete! Validation Loss : 0.6291326403617858\n",
      "Epoch 82 complete! Validation Accuracy : 0.6752094072164948\n"
     ]
    },
    {
     "output_type": "stream",
     "name": "stderr",
     "text": [
      " 25%|██▌       | 5/20 [00:00<00:02,  5.96it/s]"
     ]
    },
    {
     "output_type": "stream",
     "name": "stdout",
     "text": [
      "\n",
      "Iteration 4/20 of epoch 83 complete. Loss : 0.3138852044939995 \n"
     ]
    },
    {
     "output_type": "stream",
     "name": "stderr",
     "text": [
      " 45%|████▌     | 9/20 [00:01<00:01,  6.00it/s]"
     ]
    },
    {
     "output_type": "stream",
     "name": "stdout",
     "text": [
      "\n",
      "Iteration 8/20 of epoch 83 complete. Loss : 0.31885406374931335 \n"
     ]
    },
    {
     "output_type": "stream",
     "name": "stderr",
     "text": [
      " 65%|██████▌   | 13/20 [00:02<00:01,  5.96it/s]"
     ]
    },
    {
     "output_type": "stream",
     "name": "stdout",
     "text": [
      "\n",
      "Iteration 12/20 of epoch 83 complete. Loss : 0.3116758242249489 \n"
     ]
    },
    {
     "output_type": "stream",
     "name": "stderr",
     "text": [
      " 85%|████████▌ | 17/20 [00:02<00:00,  5.97it/s]"
     ]
    },
    {
     "output_type": "stream",
     "name": "stdout",
     "text": [
      "\n",
      "Iteration 16/20 of epoch 83 complete. Loss : 0.3165600150823593 \n"
     ]
    },
    {
     "output_type": "stream",
     "name": "stderr",
     "text": [
      "100%|██████████| 20/20 [00:03<00:00,  6.25it/s]\n",
      " 20%|██        | 1/5 [00:00<00:00,  6.41it/s]"
     ]
    },
    {
     "output_type": "stream",
     "name": "stdout",
     "text": [
      "\n",
      "Iteration 20/20 of epoch 83 complete. Loss : 0.35367805510759354 \n"
     ]
    },
    {
     "output_type": "stream",
     "name": "stderr",
     "text": [
      "100%|██████████| 5/5 [00:00<00:00,  6.73it/s]\n",
      "  5%|▌         | 1/20 [00:00<00:03,  6.15it/s]"
     ]
    },
    {
     "output_type": "stream",
     "name": "stdout",
     "text": [
      "\n",
      "Epoch 83 complete! Validation Loss : 0.6287770867347717\n",
      "Epoch 83 complete! Validation Accuracy : 0.6752094072164948\n",
      "Best validation loss improved from 0.6290765643119812 to 0.6287770867347717\n",
      "\n"
     ]
    },
    {
     "output_type": "stream",
     "name": "stderr",
     "text": [
      " 25%|██▌       | 5/20 [00:00<00:02,  6.02it/s]"
     ]
    },
    {
     "output_type": "stream",
     "name": "stdout",
     "text": [
      "\n",
      "Iteration 4/20 of epoch 84 complete. Loss : 0.31131307780742645 \n"
     ]
    },
    {
     "output_type": "stream",
     "name": "stderr",
     "text": [
      " 45%|████▌     | 9/20 [00:01<00:01,  5.98it/s]"
     ]
    },
    {
     "output_type": "stream",
     "name": "stdout",
     "text": [
      "\n",
      "Iteration 8/20 of epoch 84 complete. Loss : 0.31769557297229767 \n"
     ]
    },
    {
     "output_type": "stream",
     "name": "stderr",
     "text": [
      " 65%|██████▌   | 13/20 [00:02<00:01,  5.96it/s]"
     ]
    },
    {
     "output_type": "stream",
     "name": "stdout",
     "text": [
      "\n",
      "Iteration 12/20 of epoch 84 complete. Loss : 0.31375354528427124 \n"
     ]
    },
    {
     "output_type": "stream",
     "name": "stderr",
     "text": [
      " 85%|████████▌ | 17/20 [00:02<00:00,  5.95it/s]"
     ]
    },
    {
     "output_type": "stream",
     "name": "stdout",
     "text": [
      "\n",
      "Iteration 16/20 of epoch 84 complete. Loss : 0.31889668107032776 \n"
     ]
    },
    {
     "output_type": "stream",
     "name": "stderr",
     "text": [
      "100%|██████████| 20/20 [00:03<00:00,  6.24it/s]\n",
      " 20%|██        | 1/5 [00:00<00:00,  6.44it/s]"
     ]
    },
    {
     "output_type": "stream",
     "name": "stdout",
     "text": [
      "\n",
      "Iteration 20/20 of epoch 84 complete. Loss : 0.3495524451136589 \n"
     ]
    },
    {
     "output_type": "stream",
     "name": "stderr",
     "text": [
      "100%|██████████| 5/5 [00:00<00:00,  6.73it/s]\n",
      "  5%|▌         | 1/20 [00:00<00:03,  6.00it/s]"
     ]
    },
    {
     "output_type": "stream",
     "name": "stdout",
     "text": [
      "\n",
      "Epoch 84 complete! Validation Loss : 0.6301414370536804\n",
      "Epoch 84 complete! Validation Accuracy : 0.6700225515463918\n"
     ]
    },
    {
     "output_type": "stream",
     "name": "stderr",
     "text": [
      " 25%|██▌       | 5/20 [00:00<00:02,  5.96it/s]"
     ]
    },
    {
     "output_type": "stream",
     "name": "stdout",
     "text": [
      "\n",
      "Iteration 4/20 of epoch 85 complete. Loss : 0.3118688762187958 \n"
     ]
    },
    {
     "output_type": "stream",
     "name": "stderr",
     "text": [
      " 45%|████▌     | 9/20 [00:01<00:01,  5.97it/s]"
     ]
    },
    {
     "output_type": "stream",
     "name": "stdout",
     "text": [
      "\n",
      "Iteration 8/20 of epoch 85 complete. Loss : 0.3171006366610527 \n"
     ]
    },
    {
     "output_type": "stream",
     "name": "stderr",
     "text": [
      " 65%|██████▌   | 13/20 [00:02<00:01,  5.96it/s]"
     ]
    },
    {
     "output_type": "stream",
     "name": "stdout",
     "text": [
      "\n",
      "Iteration 12/20 of epoch 85 complete. Loss : 0.314723864197731 \n"
     ]
    },
    {
     "output_type": "stream",
     "name": "stderr",
     "text": [
      " 85%|████████▌ | 17/20 [00:02<00:00,  5.97it/s]"
     ]
    },
    {
     "output_type": "stream",
     "name": "stdout",
     "text": [
      "\n",
      "Iteration 16/20 of epoch 85 complete. Loss : 0.3206700310111046 \n"
     ]
    },
    {
     "output_type": "stream",
     "name": "stderr",
     "text": [
      "100%|██████████| 20/20 [00:03<00:00,  6.25it/s]\n",
      " 20%|██        | 1/5 [00:00<00:00,  6.44it/s]"
     ]
    },
    {
     "output_type": "stream",
     "name": "stdout",
     "text": [
      "\n",
      "Iteration 20/20 of epoch 85 complete. Loss : 0.3061814084649086 \n"
     ]
    },
    {
     "output_type": "stream",
     "name": "stderr",
     "text": [
      "100%|██████████| 5/5 [00:00<00:00,  6.74it/s]\n",
      "  5%|▌         | 1/20 [00:00<00:03,  6.18it/s]"
     ]
    },
    {
     "output_type": "stream",
     "name": "stdout",
     "text": [
      "\n",
      "Epoch 85 complete! Validation Loss : 0.6266586065292359\n",
      "Epoch 85 complete! Validation Accuracy : 0.6752094072164948\n",
      "Best validation loss improved from 0.6287770867347717 to 0.6266586065292359\n",
      "\n"
     ]
    },
    {
     "output_type": "stream",
     "name": "stderr",
     "text": [
      " 25%|██▌       | 5/20 [00:00<00:02,  5.97it/s]"
     ]
    },
    {
     "output_type": "stream",
     "name": "stdout",
     "text": [
      "\n",
      "Iteration 4/20 of epoch 86 complete. Loss : 0.3224697485566139 \n"
     ]
    },
    {
     "output_type": "stream",
     "name": "stderr",
     "text": [
      " 45%|████▌     | 9/20 [00:01<00:01,  5.98it/s]"
     ]
    },
    {
     "output_type": "stream",
     "name": "stdout",
     "text": [
      "\n",
      "Iteration 8/20 of epoch 86 complete. Loss : 0.3122844398021698 \n"
     ]
    },
    {
     "output_type": "stream",
     "name": "stderr",
     "text": [
      " 65%|██████▌   | 13/20 [00:02<00:01,  5.95it/s]"
     ]
    },
    {
     "output_type": "stream",
     "name": "stdout",
     "text": [
      "\n",
      "Iteration 12/20 of epoch 86 complete. Loss : 0.31502827256917953 \n"
     ]
    },
    {
     "output_type": "stream",
     "name": "stderr",
     "text": [
      " 85%|████████▌ | 17/20 [00:02<00:00,  5.96it/s]"
     ]
    },
    {
     "output_type": "stream",
     "name": "stdout",
     "text": [
      "\n",
      "Iteration 16/20 of epoch 86 complete. Loss : 0.30484361201524734 \n"
     ]
    },
    {
     "output_type": "stream",
     "name": "stderr",
     "text": [
      "100%|██████████| 20/20 [00:03<00:00,  6.24it/s]\n",
      " 20%|██        | 1/5 [00:00<00:00,  6.51it/s]"
     ]
    },
    {
     "output_type": "stream",
     "name": "stdout",
     "text": [
      "\n",
      "Iteration 20/20 of epoch 86 complete. Loss : 0.37187736481428146 \n"
     ]
    },
    {
     "output_type": "stream",
     "name": "stderr",
     "text": [
      "100%|██████████| 5/5 [00:00<00:00,  6.76it/s]\n",
      "  5%|▌         | 1/20 [00:00<00:03,  6.23it/s]"
     ]
    },
    {
     "output_type": "stream",
     "name": "stdout",
     "text": [
      "\n",
      "Epoch 86 complete! Validation Loss : 0.6224259018898011\n",
      "Epoch 86 complete! Validation Accuracy : 0.6798969072164949\n",
      "Best validation loss improved from 0.6266586065292359 to 0.6224259018898011\n",
      "\n"
     ]
    },
    {
     "output_type": "stream",
     "name": "stderr",
     "text": [
      " 25%|██▌       | 5/20 [00:00<00:02,  6.01it/s]"
     ]
    },
    {
     "output_type": "stream",
     "name": "stdout",
     "text": [
      "\n",
      "Iteration 4/20 of epoch 87 complete. Loss : 0.3202120214700699 \n"
     ]
    },
    {
     "output_type": "stream",
     "name": "stderr",
     "text": [
      " 45%|████▌     | 9/20 [00:01<00:01,  5.98it/s]"
     ]
    },
    {
     "output_type": "stream",
     "name": "stdout",
     "text": [
      "\n",
      "Iteration 8/20 of epoch 87 complete. Loss : 0.3226534128189087 \n"
     ]
    },
    {
     "output_type": "stream",
     "name": "stderr",
     "text": [
      " 65%|██████▌   | 13/20 [00:02<00:01,  5.95it/s]"
     ]
    },
    {
     "output_type": "stream",
     "name": "stdout",
     "text": [
      "\n",
      "Iteration 12/20 of epoch 87 complete. Loss : 0.30822911113500595 \n"
     ]
    },
    {
     "output_type": "stream",
     "name": "stderr",
     "text": [
      " 85%|████████▌ | 17/20 [00:02<00:00,  5.97it/s]"
     ]
    },
    {
     "output_type": "stream",
     "name": "stdout",
     "text": [
      "\n",
      "Iteration 16/20 of epoch 87 complete. Loss : 0.31533854454755783 \n"
     ]
    },
    {
     "output_type": "stream",
     "name": "stderr",
     "text": [
      "100%|██████████| 20/20 [00:03<00:00,  6.25it/s]\n",
      " 20%|██        | 1/5 [00:00<00:00,  6.50it/s]"
     ]
    },
    {
     "output_type": "stream",
     "name": "stdout",
     "text": [
      "\n",
      "Iteration 20/20 of epoch 87 complete. Loss : 0.29231902956962585 \n"
     ]
    },
    {
     "output_type": "stream",
     "name": "stderr",
     "text": [
      "100%|██████████| 5/5 [00:00<00:00,  6.76it/s]\n",
      "  5%|▌         | 1/20 [00:00<00:03,  5.99it/s]"
     ]
    },
    {
     "output_type": "stream",
     "name": "stdout",
     "text": [
      "\n",
      "Epoch 87 complete! Validation Loss : 0.6279020071029663\n",
      "Epoch 87 complete! Validation Accuracy : 0.680895618556701\n"
     ]
    },
    {
     "output_type": "stream",
     "name": "stderr",
     "text": [
      " 25%|██▌       | 5/20 [00:00<00:02,  5.99it/s]"
     ]
    },
    {
     "output_type": "stream",
     "name": "stdout",
     "text": [
      "\n",
      "Iteration 4/20 of epoch 88 complete. Loss : 0.31737305223941803 \n"
     ]
    },
    {
     "output_type": "stream",
     "name": "stderr",
     "text": [
      " 45%|████▌     | 9/20 [00:01<00:01,  5.96it/s]"
     ]
    },
    {
     "output_type": "stream",
     "name": "stdout",
     "text": [
      "\n",
      "Iteration 8/20 of epoch 88 complete. Loss : 0.3098904937505722 \n"
     ]
    },
    {
     "output_type": "stream",
     "name": "stderr",
     "text": [
      " 65%|██████▌   | 13/20 [00:02<00:01,  5.95it/s]"
     ]
    },
    {
     "output_type": "stream",
     "name": "stdout",
     "text": [
      "\n",
      "Iteration 12/20 of epoch 88 complete. Loss : 0.31961385905742645 \n"
     ]
    },
    {
     "output_type": "stream",
     "name": "stderr",
     "text": [
      " 85%|████████▌ | 17/20 [00:02<00:00,  5.97it/s]"
     ]
    },
    {
     "output_type": "stream",
     "name": "stdout",
     "text": [
      "\n",
      "Iteration 16/20 of epoch 88 complete. Loss : 0.3063041642308235 \n"
     ]
    },
    {
     "output_type": "stream",
     "name": "stderr",
     "text": [
      "100%|██████████| 20/20 [00:03<00:00,  6.24it/s]\n",
      " 20%|██        | 1/5 [00:00<00:00,  6.45it/s]"
     ]
    },
    {
     "output_type": "stream",
     "name": "stdout",
     "text": [
      "\n",
      "Iteration 20/20 of epoch 88 complete. Loss : 0.30778931826353073 \n"
     ]
    },
    {
     "output_type": "stream",
     "name": "stderr",
     "text": [
      "100%|██████████| 5/5 [00:00<00:00,  6.73it/s]\n",
      "  5%|▌         | 1/20 [00:00<00:03,  6.21it/s]"
     ]
    },
    {
     "output_type": "stream",
     "name": "stdout",
     "text": [
      "\n",
      "Epoch 88 complete! Validation Loss : 0.6193300724029541\n",
      "Epoch 88 complete! Validation Accuracy : 0.6783344072164949\n",
      "Best validation loss improved from 0.6224259018898011 to 0.6193300724029541\n",
      "\n"
     ]
    },
    {
     "output_type": "stream",
     "name": "stderr",
     "text": [
      " 25%|██▌       | 5/20 [00:00<00:02,  6.04it/s]"
     ]
    },
    {
     "output_type": "stream",
     "name": "stdout",
     "text": [
      "\n",
      "Iteration 4/20 of epoch 89 complete. Loss : 0.3122687190771103 \n"
     ]
    },
    {
     "output_type": "stream",
     "name": "stderr",
     "text": [
      " 45%|████▌     | 9/20 [00:01<00:01,  5.97it/s]"
     ]
    },
    {
     "output_type": "stream",
     "name": "stdout",
     "text": [
      "\n",
      "Iteration 8/20 of epoch 89 complete. Loss : 0.3204651549458504 \n"
     ]
    },
    {
     "output_type": "stream",
     "name": "stderr",
     "text": [
      " 65%|██████▌   | 13/20 [00:02<00:01,  5.97it/s]"
     ]
    },
    {
     "output_type": "stream",
     "name": "stdout",
     "text": [
      "\n",
      "Iteration 12/20 of epoch 89 complete. Loss : 0.3075486943125725 \n"
     ]
    },
    {
     "output_type": "stream",
     "name": "stderr",
     "text": [
      " 85%|████████▌ | 17/20 [00:02<00:00,  5.98it/s]"
     ]
    },
    {
     "output_type": "stream",
     "name": "stdout",
     "text": [
      "\n",
      "Iteration 16/20 of epoch 89 complete. Loss : 0.30860909819602966 \n"
     ]
    },
    {
     "output_type": "stream",
     "name": "stderr",
     "text": [
      "100%|██████████| 20/20 [00:03<00:00,  6.25it/s]\n",
      " 20%|██        | 1/5 [00:00<00:00,  6.45it/s]"
     ]
    },
    {
     "output_type": "stream",
     "name": "stdout",
     "text": [
      "\n",
      "Iteration 20/20 of epoch 89 complete. Loss : 0.28545263782143593 \n"
     ]
    },
    {
     "output_type": "stream",
     "name": "stderr",
     "text": [
      "100%|██████████| 5/5 [00:00<00:00,  6.72it/s]\n",
      "  5%|▌         | 1/20 [00:00<00:03,  6.16it/s]"
     ]
    },
    {
     "output_type": "stream",
     "name": "stdout",
     "text": [
      "\n",
      "Epoch 89 complete! Validation Loss : 0.6190298557281494\n",
      "Epoch 89 complete! Validation Accuracy : 0.674146262886598\n",
      "Best validation loss improved from 0.6193300724029541 to 0.6190298557281494\n",
      "\n"
     ]
    },
    {
     "output_type": "stream",
     "name": "stderr",
     "text": [
      " 25%|██▌       | 5/20 [00:00<00:02,  6.03it/s]"
     ]
    },
    {
     "output_type": "stream",
     "name": "stdout",
     "text": [
      "\n",
      "Iteration 4/20 of epoch 90 complete. Loss : 0.31102438271045685 \n"
     ]
    },
    {
     "output_type": "stream",
     "name": "stderr",
     "text": [
      " 45%|████▌     | 9/20 [00:01<00:01,  5.96it/s]"
     ]
    },
    {
     "output_type": "stream",
     "name": "stdout",
     "text": [
      "\n",
      "Iteration 8/20 of epoch 90 complete. Loss : 0.3121534213423729 \n"
     ]
    },
    {
     "output_type": "stream",
     "name": "stderr",
     "text": [
      " 65%|██████▌   | 13/20 [00:02<00:01,  5.94it/s]"
     ]
    },
    {
     "output_type": "stream",
     "name": "stdout",
     "text": [
      "\n",
      "Iteration 12/20 of epoch 90 complete. Loss : 0.3077036663889885 \n"
     ]
    },
    {
     "output_type": "stream",
     "name": "stderr",
     "text": [
      " 85%|████████▌ | 17/20 [00:02<00:00,  5.96it/s]"
     ]
    },
    {
     "output_type": "stream",
     "name": "stdout",
     "text": [
      "\n",
      "Iteration 16/20 of epoch 90 complete. Loss : 0.30840250104665756 \n"
     ]
    },
    {
     "output_type": "stream",
     "name": "stderr",
     "text": [
      "100%|██████████| 20/20 [00:03<00:00,  6.24it/s]\n",
      " 20%|██        | 1/5 [00:00<00:00,  6.45it/s]"
     ]
    },
    {
     "output_type": "stream",
     "name": "stdout",
     "text": [
      "\n",
      "Iteration 20/20 of epoch 90 complete. Loss : 0.30828139930963516 \n"
     ]
    },
    {
     "output_type": "stream",
     "name": "stderr",
     "text": [
      "100%|██████████| 5/5 [00:00<00:00,  6.76it/s]\n",
      "  5%|▌         | 1/20 [00:00<00:03,  5.94it/s]"
     ]
    },
    {
     "output_type": "stream",
     "name": "stdout",
     "text": [
      "\n",
      "Epoch 90 complete! Validation Loss : 0.619079077243805\n",
      "Epoch 90 complete! Validation Accuracy : 0.6757087628865979\n"
     ]
    },
    {
     "output_type": "stream",
     "name": "stderr",
     "text": [
      " 25%|██▌       | 5/20 [00:00<00:02,  5.97it/s]"
     ]
    },
    {
     "output_type": "stream",
     "name": "stdout",
     "text": [
      "\n",
      "Iteration 4/20 of epoch 91 complete. Loss : 0.3038971722126007 \n"
     ]
    },
    {
     "output_type": "stream",
     "name": "stderr",
     "text": [
      " 45%|████▌     | 9/20 [00:01<00:01,  5.95it/s]"
     ]
    },
    {
     "output_type": "stream",
     "name": "stdout",
     "text": [
      "\n",
      "Iteration 8/20 of epoch 91 complete. Loss : 0.3038451001048088 \n"
     ]
    },
    {
     "output_type": "stream",
     "name": "stderr",
     "text": [
      " 65%|██████▌   | 13/20 [00:02<00:01,  5.92it/s]"
     ]
    },
    {
     "output_type": "stream",
     "name": "stdout",
     "text": [
      "\n",
      "Iteration 12/20 of epoch 91 complete. Loss : 0.325212299823761 \n"
     ]
    },
    {
     "output_type": "stream",
     "name": "stderr",
     "text": [
      " 85%|████████▌ | 17/20 [00:02<00:00,  5.92it/s]"
     ]
    },
    {
     "output_type": "stream",
     "name": "stdout",
     "text": [
      "\n",
      "Iteration 16/20 of epoch 91 complete. Loss : 0.3016808480024338 \n"
     ]
    },
    {
     "output_type": "stream",
     "name": "stderr",
     "text": [
      "100%|██████████| 20/20 [00:03<00:00,  6.21it/s]\n",
      " 20%|██        | 1/5 [00:00<00:00,  6.47it/s]"
     ]
    },
    {
     "output_type": "stream",
     "name": "stdout",
     "text": [
      "\n",
      "Iteration 20/20 of epoch 91 complete. Loss : 0.31326015293598175 \n"
     ]
    },
    {
     "output_type": "stream",
     "name": "stderr",
     "text": [
      "100%|██████████| 5/5 [00:00<00:00,  6.74it/s]\n",
      "  5%|▌         | 1/20 [00:00<00:03,  6.02it/s]"
     ]
    },
    {
     "output_type": "stream",
     "name": "stdout",
     "text": [
      "\n",
      "Epoch 91 complete! Validation Loss : 0.6201184630393982\n",
      "Epoch 91 complete! Validation Accuracy : 0.6882087628865979\n"
     ]
    },
    {
     "output_type": "stream",
     "name": "stderr",
     "text": [
      " 25%|██▌       | 5/20 [00:00<00:02,  6.00it/s]"
     ]
    },
    {
     "output_type": "stream",
     "name": "stdout",
     "text": [
      "\n",
      "Iteration 4/20 of epoch 92 complete. Loss : 0.3104252815246582 \n"
     ]
    },
    {
     "output_type": "stream",
     "name": "stderr",
     "text": [
      " 45%|████▌     | 9/20 [00:01<00:01,  5.98it/s]"
     ]
    },
    {
     "output_type": "stream",
     "name": "stdout",
     "text": [
      "\n",
      "Iteration 8/20 of epoch 92 complete. Loss : 0.30243173241615295 \n"
     ]
    },
    {
     "output_type": "stream",
     "name": "stderr",
     "text": [
      " 65%|██████▌   | 13/20 [00:02<00:01,  5.96it/s]"
     ]
    },
    {
     "output_type": "stream",
     "name": "stdout",
     "text": [
      "\n",
      "Iteration 12/20 of epoch 92 complete. Loss : 0.2990514487028122 \n"
     ]
    },
    {
     "output_type": "stream",
     "name": "stderr",
     "text": [
      " 85%|████████▌ | 17/20 [00:02<00:00,  5.98it/s]"
     ]
    },
    {
     "output_type": "stream",
     "name": "stdout",
     "text": [
      "\n",
      "Iteration 16/20 of epoch 92 complete. Loss : 0.3155522793531418 \n"
     ]
    },
    {
     "output_type": "stream",
     "name": "stderr",
     "text": [
      "100%|██████████| 20/20 [00:03<00:00,  6.25it/s]\n",
      " 20%|██        | 1/5 [00:00<00:00,  6.46it/s]"
     ]
    },
    {
     "output_type": "stream",
     "name": "stdout",
     "text": [
      "\n",
      "Iteration 20/20 of epoch 92 complete. Loss : 0.286368228495121 \n"
     ]
    },
    {
     "output_type": "stream",
     "name": "stderr",
     "text": [
      "100%|██████████| 5/5 [00:00<00:00,  6.73it/s]\n",
      "  5%|▌         | 1/20 [00:00<00:03,  6.22it/s]"
     ]
    },
    {
     "output_type": "stream",
     "name": "stdout",
     "text": [
      "\n",
      "Epoch 92 complete! Validation Loss : 0.6169414639472961\n",
      "Epoch 92 complete! Validation Accuracy : 0.6835212628865979\n",
      "Best validation loss improved from 0.6190298557281494 to 0.6169414639472961\n",
      "\n"
     ]
    },
    {
     "output_type": "stream",
     "name": "stderr",
     "text": [
      " 25%|██▌       | 5/20 [00:00<00:02,  5.98it/s]"
     ]
    },
    {
     "output_type": "stream",
     "name": "stdout",
     "text": [
      "\n",
      "Iteration 4/20 of epoch 93 complete. Loss : 0.31036075204610825 \n"
     ]
    },
    {
     "output_type": "stream",
     "name": "stderr",
     "text": [
      " 45%|████▌     | 9/20 [00:01<00:01,  5.96it/s]"
     ]
    },
    {
     "output_type": "stream",
     "name": "stdout",
     "text": [
      "\n",
      "Iteration 8/20 of epoch 93 complete. Loss : 0.3130147159099579 \n"
     ]
    },
    {
     "output_type": "stream",
     "name": "stderr",
     "text": [
      " 65%|██████▌   | 13/20 [00:02<00:01,  5.94it/s]"
     ]
    },
    {
     "output_type": "stream",
     "name": "stdout",
     "text": [
      "\n",
      "Iteration 12/20 of epoch 93 complete. Loss : 0.2993447631597519 \n"
     ]
    },
    {
     "output_type": "stream",
     "name": "stderr",
     "text": [
      " 85%|████████▌ | 17/20 [00:02<00:00,  5.94it/s]"
     ]
    },
    {
     "output_type": "stream",
     "name": "stdout",
     "text": [
      "\n",
      "Iteration 16/20 of epoch 93 complete. Loss : 0.3008289709687233 \n"
     ]
    },
    {
     "output_type": "stream",
     "name": "stderr",
     "text": [
      "100%|██████████| 20/20 [00:03<00:00,  6.21it/s]\n",
      " 20%|██        | 1/5 [00:00<00:00,  6.50it/s]"
     ]
    },
    {
     "output_type": "stream",
     "name": "stdout",
     "text": [
      "\n",
      "Iteration 20/20 of epoch 93 complete. Loss : 0.29843882471323013 \n"
     ]
    },
    {
     "output_type": "stream",
     "name": "stderr",
     "text": [
      "100%|██████████| 5/5 [00:00<00:00,  6.74it/s]\n",
      "  5%|▌         | 1/20 [00:00<00:03,  6.04it/s]"
     ]
    },
    {
     "output_type": "stream",
     "name": "stdout",
     "text": [
      "\n",
      "Epoch 93 complete! Validation Loss : 0.6126675367355346\n",
      "Epoch 93 complete! Validation Accuracy : 0.6736469072164948\n",
      "Best validation loss improved from 0.6169414639472961 to 0.6126675367355346\n",
      "\n"
     ]
    },
    {
     "output_type": "stream",
     "name": "stderr",
     "text": [
      " 25%|██▌       | 5/20 [00:00<00:02,  5.92it/s]"
     ]
    },
    {
     "output_type": "stream",
     "name": "stdout",
     "text": [
      "\n",
      "Iteration 4/20 of epoch 94 complete. Loss : 0.3006921485066414 \n"
     ]
    },
    {
     "output_type": "stream",
     "name": "stderr",
     "text": [
      " 45%|████▌     | 9/20 [00:01<00:01,  5.92it/s]"
     ]
    },
    {
     "output_type": "stream",
     "name": "stdout",
     "text": [
      "\n",
      "Iteration 8/20 of epoch 94 complete. Loss : 0.2951376363635063 \n"
     ]
    },
    {
     "output_type": "stream",
     "name": "stderr",
     "text": [
      " 65%|██████▌   | 13/20 [00:02<00:01,  5.93it/s]"
     ]
    },
    {
     "output_type": "stream",
     "name": "stdout",
     "text": [
      "\n",
      "Iteration 12/20 of epoch 94 complete. Loss : 0.312365785241127 \n"
     ]
    },
    {
     "output_type": "stream",
     "name": "stderr",
     "text": [
      " 85%|████████▌ | 17/20 [00:02<00:00,  5.91it/s]"
     ]
    },
    {
     "output_type": "stream",
     "name": "stdout",
     "text": [
      "\n",
      "Iteration 16/20 of epoch 94 complete. Loss : 0.29903432726860046 \n"
     ]
    },
    {
     "output_type": "stream",
     "name": "stderr",
     "text": [
      "100%|██████████| 20/20 [00:03<00:00,  6.20it/s]\n",
      " 20%|██        | 1/5 [00:00<00:00,  6.62it/s]"
     ]
    },
    {
     "output_type": "stream",
     "name": "stdout",
     "text": [
      "\n",
      "Iteration 20/20 of epoch 94 complete. Loss : 0.30436433106660843 \n"
     ]
    },
    {
     "output_type": "stream",
     "name": "stderr",
     "text": [
      "100%|██████████| 5/5 [00:00<00:00,  6.70it/s]\n",
      "  5%|▌         | 1/20 [00:00<00:03,  5.97it/s]"
     ]
    },
    {
     "output_type": "stream",
     "name": "stdout",
     "text": [
      "\n",
      "Epoch 94 complete! Validation Loss : 0.615878427028656\n",
      "Epoch 94 complete! Validation Accuracy : 0.689771262886598\n"
     ]
    },
    {
     "output_type": "stream",
     "name": "stderr",
     "text": [
      " 25%|██▌       | 5/20 [00:00<00:02,  5.98it/s]"
     ]
    },
    {
     "output_type": "stream",
     "name": "stdout",
     "text": [
      "\n",
      "Iteration 4/20 of epoch 95 complete. Loss : 0.30307918787002563 \n"
     ]
    },
    {
     "output_type": "stream",
     "name": "stderr",
     "text": [
      " 45%|████▌     | 9/20 [00:01<00:01,  5.98it/s]"
     ]
    },
    {
     "output_type": "stream",
     "name": "stdout",
     "text": [
      "\n",
      "Iteration 8/20 of epoch 95 complete. Loss : 0.31663525104522705 \n"
     ]
    },
    {
     "output_type": "stream",
     "name": "stderr",
     "text": [
      " 65%|██████▌   | 13/20 [00:02<00:01,  5.96it/s]"
     ]
    },
    {
     "output_type": "stream",
     "name": "stdout",
     "text": [
      "\n",
      "Iteration 12/20 of epoch 95 complete. Loss : 0.30226515978574753 \n"
     ]
    },
    {
     "output_type": "stream",
     "name": "stderr",
     "text": [
      " 85%|████████▌ | 17/20 [00:02<00:00,  5.96it/s]"
     ]
    },
    {
     "output_type": "stream",
     "name": "stdout",
     "text": [
      "\n",
      "Iteration 16/20 of epoch 95 complete. Loss : 0.30408909916877747 \n"
     ]
    },
    {
     "output_type": "stream",
     "name": "stderr",
     "text": [
      "100%|██████████| 20/20 [00:03<00:00,  6.24it/s]\n",
      " 20%|██        | 1/5 [00:00<00:00,  6.53it/s]"
     ]
    },
    {
     "output_type": "stream",
     "name": "stdout",
     "text": [
      "\n",
      "Iteration 20/20 of epoch 95 complete. Loss : 0.2923886254429817 \n"
     ]
    },
    {
     "output_type": "stream",
     "name": "stderr",
     "text": [
      "100%|██████████| 5/5 [00:00<00:00,  6.70it/s]\n",
      "  5%|▌         | 1/20 [00:00<00:03,  5.88it/s]"
     ]
    },
    {
     "output_type": "stream",
     "name": "stdout",
     "text": [
      "\n",
      "Epoch 95 complete! Validation Loss : 0.6177678346633911\n",
      "Epoch 95 complete! Validation Accuracy : 0.690270618556701\n"
     ]
    },
    {
     "output_type": "stream",
     "name": "stderr",
     "text": [
      " 25%|██▌       | 5/20 [00:00<00:02,  5.97it/s]"
     ]
    },
    {
     "output_type": "stream",
     "name": "stdout",
     "text": [
      "\n",
      "Iteration 4/20 of epoch 96 complete. Loss : 0.29729948937892914 \n"
     ]
    },
    {
     "output_type": "stream",
     "name": "stderr",
     "text": [
      " 45%|████▌     | 9/20 [00:01<00:01,  5.99it/s]"
     ]
    },
    {
     "output_type": "stream",
     "name": "stdout",
     "text": [
      "\n",
      "Iteration 8/20 of epoch 96 complete. Loss : 0.30555305629968643 \n"
     ]
    },
    {
     "output_type": "stream",
     "name": "stderr",
     "text": [
      " 65%|██████▌   | 13/20 [00:02<00:01,  5.95it/s]"
     ]
    },
    {
     "output_type": "stream",
     "name": "stdout",
     "text": [
      "\n",
      "Iteration 12/20 of epoch 96 complete. Loss : 0.29123447090387344 \n"
     ]
    },
    {
     "output_type": "stream",
     "name": "stderr",
     "text": [
      " 85%|████████▌ | 17/20 [00:02<00:00,  6.00it/s]"
     ]
    },
    {
     "output_type": "stream",
     "name": "stdout",
     "text": [
      "\n",
      "Iteration 16/20 of epoch 96 complete. Loss : 0.3194331154227257 \n"
     ]
    },
    {
     "output_type": "stream",
     "name": "stderr",
     "text": [
      "100%|██████████| 20/20 [00:03<00:00,  6.24it/s]\n",
      " 20%|██        | 1/5 [00:00<00:00,  6.53it/s]"
     ]
    },
    {
     "output_type": "stream",
     "name": "stdout",
     "text": [
      "\n",
      "Iteration 20/20 of epoch 96 complete. Loss : 0.30381614714860916 \n"
     ]
    },
    {
     "output_type": "stream",
     "name": "stderr",
     "text": [
      "100%|██████████| 5/5 [00:00<00:00,  6.75it/s]\n",
      "  0%|          | 0/20 [00:00<?, ?it/s]"
     ]
    },
    {
     "output_type": "stream",
     "name": "stdout",
     "text": [
      "\n",
      "Epoch 96 complete! Validation Loss : 0.6102910995483398\n",
      "Epoch 96 complete! Validation Accuracy : 0.6866462628865979\n",
      "Best validation loss improved from 0.6126675367355346 to 0.6102910995483398\n",
      "\n"
     ]
    },
    {
     "output_type": "stream",
     "name": "stderr",
     "text": [
      " 25%|██▌       | 5/20 [00:00<00:02,  6.00it/s]"
     ]
    },
    {
     "output_type": "stream",
     "name": "stdout",
     "text": [
      "\n",
      "Iteration 4/20 of epoch 97 complete. Loss : 0.2897345572710037 \n"
     ]
    },
    {
     "output_type": "stream",
     "name": "stderr",
     "text": [
      " 45%|████▌     | 9/20 [00:01<00:01,  5.99it/s]"
     ]
    },
    {
     "output_type": "stream",
     "name": "stdout",
     "text": [
      "\n",
      "Iteration 8/20 of epoch 97 complete. Loss : 0.3002081960439682 \n"
     ]
    },
    {
     "output_type": "stream",
     "name": "stderr",
     "text": [
      " 65%|██████▌   | 13/20 [00:02<00:01,  5.98it/s]"
     ]
    },
    {
     "output_type": "stream",
     "name": "stdout",
     "text": [
      "\n",
      "Iteration 12/20 of epoch 97 complete. Loss : 0.2968328297138214 \n"
     ]
    },
    {
     "output_type": "stream",
     "name": "stderr",
     "text": [
      " 85%|████████▌ | 17/20 [00:02<00:00,  6.00it/s]"
     ]
    },
    {
     "output_type": "stream",
     "name": "stdout",
     "text": [
      "\n",
      "Iteration 16/20 of epoch 97 complete. Loss : 0.30336838960647583 \n"
     ]
    },
    {
     "output_type": "stream",
     "name": "stderr",
     "text": [
      "100%|██████████| 20/20 [00:03<00:00,  6.26it/s]\n",
      " 20%|██        | 1/5 [00:00<00:00,  6.53it/s]"
     ]
    },
    {
     "output_type": "stream",
     "name": "stdout",
     "text": [
      "\n",
      "Iteration 20/20 of epoch 97 complete. Loss : 0.30300796031951904 \n"
     ]
    },
    {
     "output_type": "stream",
     "name": "stderr",
     "text": [
      "100%|██████████| 5/5 [00:00<00:00,  6.74it/s]\n",
      "  5%|▌         | 1/20 [00:00<00:03,  5.93it/s]"
     ]
    },
    {
     "output_type": "stream",
     "name": "stdout",
     "text": [
      "\n",
      "Epoch 97 complete! Validation Loss : 0.6149134755134582\n",
      "Epoch 97 complete! Validation Accuracy : 0.6923324742268042\n"
     ]
    },
    {
     "output_type": "stream",
     "name": "stderr",
     "text": [
      " 25%|██▌       | 5/20 [00:00<00:02,  5.97it/s]"
     ]
    },
    {
     "output_type": "stream",
     "name": "stdout",
     "text": [
      "\n",
      "Iteration 4/20 of epoch 98 complete. Loss : 0.30587510764598846 \n"
     ]
    },
    {
     "output_type": "stream",
     "name": "stderr",
     "text": [
      " 45%|████▌     | 9/20 [00:01<00:01,  5.96it/s]"
     ]
    },
    {
     "output_type": "stream",
     "name": "stdout",
     "text": [
      "\n",
      "Iteration 8/20 of epoch 98 complete. Loss : 0.2929479107260704 \n"
     ]
    },
    {
     "output_type": "stream",
     "name": "stderr",
     "text": [
      " 65%|██████▌   | 13/20 [00:02<00:01,  5.96it/s]"
     ]
    },
    {
     "output_type": "stream",
     "name": "stdout",
     "text": [
      "\n",
      "Iteration 12/20 of epoch 98 complete. Loss : 0.296347439289093 \n"
     ]
    },
    {
     "output_type": "stream",
     "name": "stderr",
     "text": [
      " 85%|████████▌ | 17/20 [00:02<00:00,  5.84it/s]"
     ]
    },
    {
     "output_type": "stream",
     "name": "stdout",
     "text": [
      "\n",
      "Iteration 16/20 of epoch 98 complete. Loss : 0.28912579268217087 \n"
     ]
    },
    {
     "output_type": "stream",
     "name": "stderr",
     "text": [
      "100%|██████████| 20/20 [00:03<00:00,  6.22it/s]\n",
      " 20%|██        | 1/5 [00:00<00:00,  6.45it/s]"
     ]
    },
    {
     "output_type": "stream",
     "name": "stdout",
     "text": [
      "\n",
      "Iteration 20/20 of epoch 98 complete. Loss : 0.2975095212459564 \n"
     ]
    },
    {
     "output_type": "stream",
     "name": "stderr",
     "text": [
      "100%|██████████| 5/5 [00:00<00:00,  6.73it/s]\n",
      "  0%|          | 0/20 [00:00<?, ?it/s]"
     ]
    },
    {
     "output_type": "stream",
     "name": "stdout",
     "text": [
      "\n",
      "Epoch 98 complete! Validation Loss : 0.6069624543190002\n",
      "Epoch 98 complete! Validation Accuracy : 0.691833118556701\n",
      "Best validation loss improved from 0.6102910995483398 to 0.6069624543190002\n",
      "\n"
     ]
    },
    {
     "output_type": "stream",
     "name": "stderr",
     "text": [
      " 25%|██▌       | 5/20 [00:00<00:02,  6.01it/s]"
     ]
    },
    {
     "output_type": "stream",
     "name": "stdout",
     "text": [
      "\n",
      "Iteration 4/20 of epoch 99 complete. Loss : 0.301638126373291 \n"
     ]
    },
    {
     "output_type": "stream",
     "name": "stderr",
     "text": [
      " 45%|████▌     | 9/20 [00:01<00:01,  5.96it/s]"
     ]
    },
    {
     "output_type": "stream",
     "name": "stdout",
     "text": [
      "\n",
      "Iteration 8/20 of epoch 99 complete. Loss : 0.29860182106494904 \n"
     ]
    },
    {
     "output_type": "stream",
     "name": "stderr",
     "text": [
      " 65%|██████▌   | 13/20 [00:02<00:01,  5.99it/s]"
     ]
    },
    {
     "output_type": "stream",
     "name": "stdout",
     "text": [
      "\n",
      "Iteration 12/20 of epoch 99 complete. Loss : 0.28509756177663803 \n"
     ]
    },
    {
     "output_type": "stream",
     "name": "stderr",
     "text": [
      " 85%|████████▌ | 17/20 [00:02<00:00,  5.54it/s]"
     ]
    },
    {
     "output_type": "stream",
     "name": "stdout",
     "text": [
      "\n",
      "Iteration 16/20 of epoch 99 complete. Loss : 0.2919885963201523 \n"
     ]
    },
    {
     "output_type": "stream",
     "name": "stderr",
     "text": [
      "100%|██████████| 20/20 [00:03<00:00,  6.07it/s]\n",
      " 20%|██        | 1/5 [00:00<00:00,  5.61it/s]"
     ]
    },
    {
     "output_type": "stream",
     "name": "stdout",
     "text": [
      "\n",
      "Iteration 20/20 of epoch 99 complete. Loss : 0.29546719044446945 \n"
     ]
    },
    {
     "output_type": "stream",
     "name": "stderr",
     "text": [
      "100%|██████████| 5/5 [00:00<00:00,  6.17it/s]\n",
      "  5%|▌         | 1/20 [00:00<00:03,  6.07it/s]"
     ]
    },
    {
     "output_type": "stream",
     "name": "stdout",
     "text": [
      "\n",
      "Epoch 99 complete! Validation Loss : 0.6113919258117676\n",
      "Epoch 99 complete! Validation Accuracy : 0.7053318298969072\n"
     ]
    },
    {
     "output_type": "stream",
     "name": "stderr",
     "text": [
      " 25%|██▌       | 5/20 [00:00<00:02,  5.93it/s]"
     ]
    },
    {
     "output_type": "stream",
     "name": "stdout",
     "text": [
      "\n",
      "Iteration 4/20 of epoch 100 complete. Loss : 0.2983821928501129 \n"
     ]
    },
    {
     "output_type": "stream",
     "name": "stderr",
     "text": [
      " 45%|████▌     | 9/20 [00:01<00:02,  5.48it/s]"
     ]
    },
    {
     "output_type": "stream",
     "name": "stdout",
     "text": [
      "\n",
      "Iteration 8/20 of epoch 100 complete. Loss : 0.29072029143571854 \n"
     ]
    },
    {
     "output_type": "stream",
     "name": "stderr",
     "text": [
      " 65%|██████▌   | 13/20 [00:02<00:01,  5.63it/s]"
     ]
    },
    {
     "output_type": "stream",
     "name": "stdout",
     "text": [
      "\n",
      "Iteration 12/20 of epoch 100 complete. Loss : 0.29441093653440475 \n"
     ]
    },
    {
     "output_type": "stream",
     "name": "stderr",
     "text": [
      " 85%|████████▌ | 17/20 [00:02<00:00,  5.75it/s]"
     ]
    },
    {
     "output_type": "stream",
     "name": "stdout",
     "text": [
      "\n",
      "Iteration 16/20 of epoch 100 complete. Loss : 0.2908206582069397 \n"
     ]
    },
    {
     "output_type": "stream",
     "name": "stderr",
     "text": [
      "100%|██████████| 20/20 [00:03<00:00,  5.97it/s]\n",
      " 20%|██        | 1/5 [00:00<00:00,  6.34it/s]"
     ]
    },
    {
     "output_type": "stream",
     "name": "stdout",
     "text": [
      "\n",
      "Iteration 20/20 of epoch 100 complete. Loss : 0.2777697518467903 \n"
     ]
    },
    {
     "output_type": "stream",
     "name": "stderr",
     "text": [
      "100%|██████████| 5/5 [00:00<00:00,  6.53it/s]\n"
     ]
    },
    {
     "output_type": "stream",
     "name": "stdout",
     "text": [
      "\n",
      "Epoch 100 complete! Validation Loss : 0.6095451354980469\n",
      "Epoch 100 complete! Validation Accuracy : 0.7006443298969073\n",
      "The model has been saved in saved_models/emo_res50_lr_3e-05_val_loss_0.60696_ep_98.pt\n"
     ]
    }
   ],
   "metadata": {}
  },
  {
   "cell_type": "code",
   "execution_count": 18,
   "source": [
    "def evaluate(prediction_dataloader, model, path_to_model, load = False):\n",
    "\t# Prediction on test set\n",
    "\tif load:\n",
    "\t\tprint(\"Loading the weights of the model...\")\n",
    "\t\tmodel.load_state_dict(torch.load(path_to_model))\n",
    "\n",
    "\tprint('Evaluating on the testset')\n",
    "\n",
    "\t# Put model in evaluation mode\n",
    "\tmodel.eval()\n",
    "\n",
    "\t# Tracking variables \n",
    "\tpredictions , true_labels = [], []\n",
    "\n",
    "\t# Predict \n",
    "\tfor batch in prediction_dataloader:\n",
    "\t  # Add batch to GPU\n",
    "\t  batch = tuple(t.to(device) for t in batch)\n",
    "\t  \n",
    "\t  # Unpack the inputs from our dataloader\n",
    "\t  b_inputs, b_labels = batch\n",
    "\t  \n",
    "\t  # Telling the model not to compute or store gradients, saving memory and \n",
    "\t  # speeding up prediction\n",
    "\t  with torch.no_grad():\n",
    "\t      # Forward pass, calculate logit predictions\n",
    "\t      logits = model(b_inputs)\n",
    "\n",
    "\t  # Move logits and labels to CPU\n",
    "\t  logits = logits.detach().cpu().numpy()\n",
    "\t  label_ids = b_labels.to('cpu').numpy()\n",
    "\n",
    "\t  pred_flat = np.argmax(logits, axis=1).flatten()\n",
    "\t  labels_flat = label_ids.flatten()\n",
    "\t  \n",
    "\t  # Store predictions and true labels\n",
    "\t  predictions.extend(pred_flat)\n",
    "\t  true_labels.extend(labels_flat)\n",
    "\n",
    "\tprint('DONE.')\n",
    "\n",
    "\t# Code for result display\n",
    "\tprint('Unbiased Emotion Classification accuracy is')\n",
    "\tprint(metrics.accuracy_score(true_labels, predictions)*100)\n",
    "\tprint(classification_report(true_labels, predictions, target_names = ['fake_emo', 'real_emo']))\n",
    "\t# Converting to csv\n",
    "\t# Removed transpose - check if actually required\n",
    "\tmodel_name = 'combine_emo'\n",
    "\tclsf_report = pd.DataFrame(classification_report(y_true = true_labels, y_pred = predictions, output_dict=True, target_names = ['fake_emo', 'real_emo']))\n",
    "\tclsf_report.to_csv(str('saved_models/'+model_name+'.csv'), index= True)"
   ],
   "outputs": [],
   "metadata": {}
  },
  {
   "cell_type": "code",
   "execution_count": 19,
   "source": [
    "path_to_model = 'saved_models/emo_res50_lr_3e-05_val_loss_1.48489_ep_76.pt'\n",
    "evaluate(test_dataloader, model, path_to_model = path_to_model, load = False)"
   ],
   "outputs": [
    {
     "output_type": "stream",
     "name": "stdout",
     "text": [
      "Evaluating on the testset\n",
      "DONE.\n",
      "Unbiased Emotion Classification accuracy is\n",
      "69.29392446633827\n",
      "              precision    recall  f1-score   support\n",
      "\n",
      "    fake_emo       0.61      0.14      0.22       197\n",
      "    real_emo       0.70      0.96      0.81       412\n",
      "\n",
      "    accuracy                           0.69       609\n",
      "   macro avg       0.66      0.55      0.52       609\n",
      "weighted avg       0.67      0.69      0.62       609\n",
      "\n"
     ]
    }
   ],
   "metadata": {}
  }
 ],
 "metadata": {
  "orig_nbformat": 4,
  "language_info": {
   "name": "python",
   "version": "3.6.11",
   "mimetype": "text/x-python",
   "codemirror_mode": {
    "name": "ipython",
    "version": 3
   },
   "pygments_lexer": "ipython3",
   "nbconvert_exporter": "python",
   "file_extension": ".py"
  },
  "kernelspec": {
   "name": "python3",
   "display_name": "Python 3.6.11 64-bit ('newnisbert': conda)"
  },
  "interpreter": {
   "hash": "b4396559e1bf5c32d41ffba8c548c213f47855d2d4ac82024dddc5ba3ffea815"
  }
 },
 "nbformat": 4,
 "nbformat_minor": 2
}