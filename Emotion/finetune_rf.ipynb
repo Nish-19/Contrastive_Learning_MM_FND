{
 "cells": [
  {
   "cell_type": "code",
   "execution_count": 1,
   "source": [
    "# Loading data and label\n",
    "import numpy as np\n",
    "emotion_data = np.load('/sda/rina_1921cs13/Fake_Emo/UnBiasedEmo/data.npy')\n",
    "emotion_label = np.load('/sda/rina_1921cs13/Fake_Emo/UnBiasedEmo/label.npy')\n",
    "print('Emotion data shape', emotion_data.shape)\n",
    "print('Emotion label shape', emotion_label.shape)\n",
    "label_keys = {}\n",
    "item_lab = [\"anger\", \"fear\", \"joy\", \"love\", \"sadness\", \"surprise\"]\n",
    "for i, emotion in enumerate(item_lab):\n",
    "    label_keys[i] = emotion\n",
    "print(label_keys)"
   ],
   "outputs": [
    {
     "output_type": "stream",
     "name": "stdout",
     "text": [
      "Emotion data shape (3045, 224, 224, 3)\n",
      "Emotion label shape (3045,)\n",
      "{0: 'anger', 1: 'fear', 2: 'joy', 3: 'love', 4: 'sadness', 5: 'surprise'}\n"
     ]
    }
   ],
   "metadata": {}
  },
  {
   "cell_type": "code",
   "execution_count": 2,
   "source": [
    "# Create two labels - real(1), fake(0) (Multilabel classification)\n",
    "from collections import Counter\n",
    "combine_label = []\n",
    "for label in emotion_label:\n",
    "    # fear, surprise, anger - false emo\n",
    "    if label == 0 or label == 1 or label == 5:\n",
    "        combine_label.append(0)\n",
    "    elif label == 2 or label == 3 or label == 4:\n",
    "        combine_label.append(1)\n",
    "count_labels = Counter(combine_label)\n",
    "fake_count, real_count = count_labels[0], count_labels[1]\n",
    "print('Fake-Real distribution', count_labels)\n",
    "combine_label = np.array(combine_label)\n",
    "print('Combine label shape', combine_label.shape)"
   ],
   "outputs": [
    {
     "output_type": "stream",
     "name": "stdout",
     "text": [
      "Fake-Real distribution Counter({1: 1995, 0: 1050})\n",
      "Combine label shape (3045,)\n"
     ]
    }
   ],
   "metadata": {}
  },
  {
   "cell_type": "code",
   "execution_count": 3,
   "source": [
    "#TODO: Fine-Tune on Imagenet-pre-trained ResNet-50 model\n",
    "import os\n",
    "import sys\n",
    "import numpy as np\n",
    "from numpy import asarray,zeros\n",
    "import pandas as pd \n",
    "from sklearn.model_selection import train_test_split\n",
    "import torch\n",
    "import torch.nn.functional as F\n",
    "from torch.utils.data import TensorDataset, DataLoader, RandomSampler, SequentialSampler, Dataset\n",
    "import torch.nn as nn\n",
    "import torch.optim as optim\n",
    "from tqdm import tqdm\n",
    "import matplotlib.pyplot as plt\n",
    "import copy\n",
    "from sklearn.model_selection import train_test_split\n",
    "from sklearn import metrics\n",
    "from sklearn.metrics import classification_report\n",
    "import transformers\n",
    "from transformers import BertTokenizer\n",
    "from transformers import AdamW, get_linear_schedule_with_warmup\n",
    "from transformers import AutoTokenizer, AutoModel, AutoConfig, AdamW, get_linear_schedule_with_warmup\n",
    "from tensorflow.keras.preprocessing.text import Tokenizer\n",
    "from tensorflow.keras.preprocessing.sequence import pad_sequences\n",
    "import timm"
   ],
   "outputs": [],
   "metadata": {}
  },
  {
   "cell_type": "code",
   "execution_count": 4,
   "source": [
    "if torch.cuda.is_available():\n",
    "    device = torch.device(\"cuda\")\n",
    "    os.environ['CUDA_ENVIRONMENT_DEVICES'] = \"0\"\n",
    "else:\n",
    "    device = torch.device(\"cpu\")\n",
    "print(\"Using device\", device)"
   ],
   "outputs": [
    {
     "output_type": "stream",
     "name": "stdout",
     "text": [
      "Using device cuda\n"
     ]
    }
   ],
   "metadata": {}
  },
  {
   "cell_type": "code",
   "execution_count": 5,
   "source": [
    "# Getting the class weights\n",
    "fake_weight = real_count/(fake_count+real_count)\n",
    "real_weight = fake_count/(fake_count+real_count)\n",
    "class_weights = torch.tensor([fake_weight, real_weight], device=device)\n",
    "print(class_weights)"
   ],
   "outputs": [
    {
     "output_type": "stream",
     "name": "stdout",
     "text": [
      "tensor([0.6552, 0.3448], device='cuda:0')\n"
     ]
    }
   ],
   "metadata": {}
  },
  {
   "cell_type": "code",
   "execution_count": 6,
   "source": [
    "num_images, width, height, num_channels = emotion_data.shape\n",
    "emotion_data = np.reshape(emotion_data, newshape=(num_images, num_channels, width, height))\n",
    "print('Emotion data shape', emotion_data.shape)"
   ],
   "outputs": [
    {
     "output_type": "stream",
     "name": "stdout",
     "text": [
      "Emotion data shape (3045, 3, 224, 224)\n"
     ]
    }
   ],
   "metadata": {}
  },
  {
   "cell_type": "code",
   "execution_count": 7,
   "source": [
    "# Convert to tensor\n",
    "data_tensor = torch.tensor(emotion_data, device=device)\n",
    "labels_tensor = torch.tensor(combine_label, dtype=torch.long, device=device)\n",
    "print('data tensor shape', data_tensor.shape)\n",
    "print('Labels tensor shape', labels_tensor.shape)"
   ],
   "outputs": [
    {
     "output_type": "stream",
     "name": "stdout",
     "text": [
      "data tensor shape torch.Size([3045, 3, 224, 224])\n",
      "Labels tensor shape torch.Size([3045])\n"
     ]
    }
   ],
   "metadata": {}
  },
  {
   "cell_type": "code",
   "execution_count": 8,
   "source": [
    "# NOTE: Splitting data into train and test\n",
    "train_data, test_data, train_labels, test_labels = train_test_split(data_tensor, labels_tensor, test_size=0.2, random_state=43)"
   ],
   "outputs": [],
   "metadata": {}
  },
  {
   "cell_type": "code",
   "execution_count": 9,
   "source": [
    "#TODO: Add Pytorch DataLoader\n",
    "def get_data_loader(batch_size, data, labels, split_type='train'):\n",
    "\tdata = TensorDataset(data, labels)\n",
    "\tif split_type == 'train':\n",
    "\t\tsampler = RandomSampler(data)\n",
    "\t\tdataloader = DataLoader(data, sampler=sampler, batch_size=batch_size)\n",
    "\telif split_type == 'val':\n",
    "\t\tsampler = SequentialSampler(data)\n",
    "\t\tdataloader = DataLoader(data, sampler=sampler, batch_size=batch_size)\n",
    "\treturn data, sampler, dataloader"
   ],
   "outputs": [],
   "metadata": {}
  },
  {
   "cell_type": "code",
   "execution_count": 10,
   "source": [
    "# Getting the dataloader\n",
    "batch_size = 128\n",
    "train_data, train_sampler, train_dataloader = get_data_loader(batch_size, train_data, train_labels, 'train')\n",
    "test_data, test_sampler, test_dataloader = get_data_loader(batch_size, test_data, test_labels, 'val')"
   ],
   "outputs": [],
   "metadata": {}
  },
  {
   "cell_type": "code",
   "execution_count": 10,
   "source": [
    "# # TODO: Test the resnet-50 model\n",
    "# res50model = timm.create_model('resnet50', pretrained=True).to(device)\n",
    "# res50base = ResNetBottom(res50model).to(device) # Output-2048 dim\n",
    "# # Forward pass on the data\n",
    "# output = res50base(data_tensor[0:5,:,:,:])\n",
    "# print(output.shape)"
   ],
   "outputs": [],
   "metadata": {}
  },
  {
   "cell_type": "code",
   "execution_count": 11,
   "source": [
    "#TODO: Define Resent-50 model\n",
    "class ResNetBottom(nn.Module):\n",
    "    def __init__(self, original_model):\n",
    "        super(ResNetBottom, self).__init__()\n",
    "        self.features = nn.Sequential(*list(original_model.children())[:-1])\n",
    "        \n",
    "    def forward(self, x):\n",
    "        x = self.features(x)\n",
    "        return x\n",
    "\n",
    "class ResnetBased(nn.Module):\n",
    "    def __init__(self):\n",
    "        super(ResnetBased, self).__init__()\n",
    "        self.vision_base_model = timm.create_model('resnet50', pretrained=True)\n",
    "        self.vision_model_head = ResNetBottom(self.vision_base_model)\n",
    "        self.project_1 = nn.Linear(2048, 1024, bias=True)\n",
    "        self.project_2 = nn.Linear(1024, 512, bias=True)\n",
    "        self.project_3 = nn.Linear(512, 128, bias=True)\n",
    "        self.tanh1 = nn.Tanh()\n",
    "        self.tanh2 = nn.Tanh()\n",
    "        self.tanh3 = nn.Tanh()\n",
    "        self.drop1 = nn.Dropout()\n",
    "        self.drop2 = nn.Dropout()\n",
    "        self.drop3 = nn.Dropout()\n",
    "        self.classification = nn.Linear(128, 2, bias=True)\n",
    "    def forward(self, img_features):\n",
    "        with torch.no_grad():\n",
    "            img_out = self.vision_model_head(img_features)\n",
    "        emotion_features = self.tanh3(self.project_3(self.tanh2(self.project_2(self.tanh1(self.project_1(img_out))))))\n",
    "        class_out = self.classification(emotion_features)\n",
    "        return class_out"
   ],
   "outputs": [],
   "metadata": {}
  },
  {
   "cell_type": "code",
   "execution_count": 12,
   "source": [
    "# Optimizer and scheduler\n",
    "def get_optimizer_scheduler(name, model, train_dataloader_len, epochs, lr_set):\n",
    "\tif name == \"Adam\":\n",
    "\t\toptimizer = AdamW(model.parameters(),\n",
    "                  lr = lr_set, # args.learning_rate - default is 5e-5, our notebook had 2e-5\n",
    "                  eps = 1e-8 # args.adam_epsilon  - default is 1e-8.\n",
    "\t\t)\n",
    "\ttotal_steps = train_dataloader_len * epochs\n",
    "\n",
    "\t# Create the learning rate scheduler.\n",
    "\tscheduler = get_linear_schedule_with_warmup(optimizer, \n",
    "\t\t\t\t\t\t\t\t\t\t\t\tnum_warmup_steps = total_steps//2, # Default value in run_glue.py\n",
    "\t\t\t\t\t\t\t\t\t\t\t\tnum_training_steps = total_steps)\n",
    "\treturn optimizer, scheduler"
   ],
   "outputs": [],
   "metadata": {}
  },
  {
   "cell_type": "code",
   "execution_count": 13,
   "source": [
    "# Get the model\n",
    "emo_model = ResnetBased().to(device)\n",
    "# Getting the optimizer and scheduler\n",
    "epochs = 100\n",
    "lr = 3e-5 # Less LR\n",
    "iters_to_accumulate = 2\n",
    "name = \"Adam\"\n",
    "# criterion = nn.CrossEntropyLoss(weight=class_weights) # with class weights\n",
    "criterion = nn.CrossEntropyLoss() # without weights \n",
    "optimizer, scheduler = get_optimizer_scheduler(name, emo_model, len(train_dataloader), epochs, lr)"
   ],
   "outputs": [],
   "metadata": {}
  },
  {
   "cell_type": "code",
   "execution_count": 14,
   "source": [
    "################ Evaluating Loss ######################\n",
    "#######################################################\n",
    "def evaluate_loss(net, device, criterion, dataloader):\n",
    "    net.eval()\n",
    "    mean_loss = 0\n",
    "    count = 0\n",
    "    with torch.no_grad():\n",
    "        for it, (input_data, labels) in enumerate(tqdm(dataloader)):\n",
    "            input_data, labels = input_data.to(device), labels.to(device)\n",
    "            logits = net(input_data)\n",
    "            mean_loss += criterion(logits.squeeze(-1), labels).item() # initially it was logits.squeeze(-1)\n",
    "            count += 1\n",
    "    return mean_loss / count"
   ],
   "outputs": [],
   "metadata": {}
  },
  {
   "cell_type": "code",
   "execution_count": 17,
   "source": [
    "################ Flat Accuracy Calculation ####################\n",
    "###############################################################\n",
    "def flat_accuracy(preds, labels):\n",
    "    pred_flat = np.argmax(preds, axis=1).flatten()\n",
    "    labels_flat = labels.flatten()\n",
    "    return np.sum(pred_flat == labels_flat) / len(labels_flat)\n",
    "################ Validation Accuracy Calculation ####################\n",
    "###############################################################\n",
    "def evaluate_accuracy(model, device, validation_dataloader):\n",
    "\tmodel.eval()\n",
    "\t# Tracking variables \n",
    "\teval_loss, eval_accuracy = 0, 0\n",
    "\tnb_eval_steps, nb_eval_examples = 0, 0\n",
    "\t# Evaluate data for one epoch\n",
    "\tfor batch in validation_dataloader:\n",
    "\t    # Add batch to GPU\n",
    "\t    batch = tuple(t.to(device) for t in batch)\t    \n",
    "\t    # Unpack the inputs from our dataloader\n",
    "\t    b_inputs, b_labels = batch\t    \n",
    "\t    \n",
    "\t    # Telling the model not to compute or store gradients, saving memory and\n",
    "\t    # speeding up validation\n",
    "\t    with torch.no_grad(): \n",
    "\t    \t# Forward pass, calculate logit predictions.\n",
    "\t        # This will return the logits rather than the loss because we have\n",
    "\t        # not provided labels.\n",
    "\t    \tlogits = model(b_inputs)       \n",
    "\n",
    "\t    # Move logits and labels to CPU\n",
    "\t    logits = logits.detach().cpu().numpy()\n",
    "\t    label_ids = b_labels.to('cpu').numpy()\n",
    "\t    \n",
    "\t    # Calculate the accuracy for this batch of test sentences.\n",
    "\t    tmp_eval_accuracy = flat_accuracy(logits, label_ids)\n",
    "\t    \n",
    "\t    # Accumulate the total accuracy.\n",
    "\t    eval_accuracy += tmp_eval_accuracy\n",
    "\n",
    "\t    # Track the number of batches\n",
    "\t    nb_eval_steps += 1\n",
    "\taccuracy = eval_accuracy/nb_eval_steps\n",
    "\treturn accuracy"
   ],
   "outputs": [],
   "metadata": {}
  },
  {
   "cell_type": "code",
   "execution_count": 18,
   "source": [
    "def train_model(net, criterion, opti, lr, lr_scheduler, train_loader, val_loader, epochs, iters_to_accumulate):\n",
    "    best_loss = np.Inf\n",
    "    best_ep = 1\n",
    "    nb_iterations = len(train_loader)\n",
    "    print_every = nb_iterations // 5  # print the training loss 5 times per epoch\n",
    "    iters = []\n",
    "    train_losses = []\n",
    "    val_losses = []\n",
    "    # Iterating over all epochs\n",
    "    for ep in range(epochs):\n",
    "        net.train()\n",
    "        running_loss = 0.0\n",
    "        for it, (data_inputs, labels) in enumerate(tqdm(train_loader)):\n",
    "\n",
    "            # Converting to cuda tensors\n",
    "            data_inputs, labels = data_inputs.to(device), labels.to(device)\n",
    "    \t\t\n",
    "            # Obtaining the logits from the model\n",
    "            logits = net(data_inputs)\n",
    "            # print(logits.device)\n",
    "\n",
    "            # Computing loss\n",
    "            # print(logits.squeeze(-1).shape)\n",
    "            # print(labels.shape)\n",
    "            loss = criterion(logits.squeeze(-1), labels)\n",
    "            loss = loss / iters_to_accumulate  # Normalize the loss because it is averaged\n",
    "\n",
    "            # Backpropagating the gradients\n",
    "            # Calls backward()\n",
    "            loss.backward()\n",
    "\n",
    "            if (it + 1) % iters_to_accumulate == 0:\n",
    "                # Optimization step\n",
    "                # scaler.step() first unscales the gradients of the optimizer's assigned params.\n",
    "                # If these gradients do not contain infs or NaNs, opti.step() is then called,\n",
    "                # otherwise, opti.step() is skipped.\n",
    "                opti.step()\n",
    "                # Adjust the learning rate based on the number of iterations.\n",
    "                lr_scheduler.step()\n",
    "                # Clear gradients\n",
    "                net.zero_grad()\n",
    "\n",
    "\n",
    "            running_loss += loss.item()\n",
    "\n",
    "            if (it + 1) % print_every == 0:  # Print training loss information\n",
    "                print()\n",
    "                print(\"Iteration {}/{} of epoch {} complete. Loss : {} \"\n",
    "                      .format(it+1, nb_iterations, ep+1, running_loss / print_every))\n",
    "\n",
    "                running_loss = 0.0\n",
    "\n",
    "\n",
    "        val_loss = evaluate_loss(net, device, criterion, val_loader)  # Compute validation loss\n",
    "        val_accuracy = evaluate_accuracy(net, device, val_loader)\n",
    "        print()\n",
    "        print(\"Epoch {} complete! Validation Loss : {}\".format(ep+1, val_loss))\n",
    "        print(\"Epoch {} complete! Validation Accuracy : {}\".format(ep+1, val_accuracy))\n",
    "\n",
    "        if val_loss < best_loss:\n",
    "            print(\"Best validation loss improved from {} to {}\".format(best_loss, val_loss))\n",
    "            print()\n",
    "            net_copy = copy.deepcopy(net)  # save a copy of the model\n",
    "            best_loss = val_loss\n",
    "            best_ep = ep + 1\n",
    "\n",
    "    # Saving the model\n",
    "    model_name = 'emo_combine_res50'\n",
    "    path_to_model='saved_models/{}_lr_{}_val_loss_{}_ep_{}.pt'.format(model_name, lr, round(best_loss, 5), best_ep)\n",
    "    torch.save(net_copy.state_dict(), path_to_model)\n",
    "    net.load_state_dict(torch.load(path_to_model)) # Re-Loading the best model\n",
    "    print(\"The model has been saved in {}\".format(path_to_model))\n",
    "\n",
    "    del loss\n",
    "    torch.cuda.empty_cache()\n",
    "    return net, path_to_model"
   ],
   "outputs": [],
   "metadata": {}
  },
  {
   "cell_type": "code",
   "execution_count": 19,
   "source": [
    "# Train the model\n",
    "model, path_to_model = train_model(emo_model, criterion, optimizer, lr, scheduler, train_dataloader, test_dataloader, epochs, iters_to_accumulate)"
   ],
   "outputs": [
    {
     "output_type": "stream",
     "name": "stderr",
     "text": [
      " 25%|██▌       | 5/20 [00:00<00:02,  6.27it/s]"
     ]
    },
    {
     "output_type": "stream",
     "name": "stdout",
     "text": [
      "\n",
      "Iteration 4/20 of epoch 1 complete. Loss : 0.3472112640738487 \n"
     ]
    },
    {
     "output_type": "stream",
     "name": "stderr",
     "text": [
      " 45%|████▌     | 9/20 [00:01<00:01,  6.55it/s]"
     ]
    },
    {
     "output_type": "stream",
     "name": "stdout",
     "text": [
      "\n",
      "Iteration 8/20 of epoch 1 complete. Loss : 0.3473539724946022 \n"
     ]
    },
    {
     "output_type": "stream",
     "name": "stderr",
     "text": [
      " 65%|██████▌   | 13/20 [00:01<00:01,  6.60it/s]"
     ]
    },
    {
     "output_type": "stream",
     "name": "stdout",
     "text": [
      "\n",
      "Iteration 12/20 of epoch 1 complete. Loss : 0.34729429334402084 \n"
     ]
    },
    {
     "output_type": "stream",
     "name": "stderr",
     "text": [
      " 85%|████████▌ | 17/20 [00:02<00:00,  6.63it/s]"
     ]
    },
    {
     "output_type": "stream",
     "name": "stdout",
     "text": [
      "\n",
      "Iteration 16/20 of epoch 1 complete. Loss : 0.34808599948883057 \n"
     ]
    },
    {
     "output_type": "stream",
     "name": "stderr",
     "text": [
      "100%|██████████| 20/20 [00:02<00:00,  6.84it/s]\n",
      " 20%|██        | 1/5 [00:00<00:00,  7.29it/s]"
     ]
    },
    {
     "output_type": "stream",
     "name": "stdout",
     "text": [
      "\n",
      "Iteration 20/20 of epoch 1 complete. Loss : 0.3462291955947876 \n"
     ]
    },
    {
     "output_type": "stream",
     "name": "stderr",
     "text": [
      "100%|██████████| 5/5 [00:00<00:00,  7.54it/s]\n",
      "  5%|▌         | 1/20 [00:00<00:02,  6.72it/s]"
     ]
    },
    {
     "output_type": "stream",
     "name": "stdout",
     "text": [
      "\n",
      "Epoch 1 complete! Validation Loss : 0.6935193061828613\n",
      "Epoch 1 complete! Validation Accuracy : 0.584777706185567\n",
      "Best validation loss improved from inf to 0.6935193061828613\n",
      "\n"
     ]
    },
    {
     "output_type": "stream",
     "name": "stderr",
     "text": [
      " 25%|██▌       | 5/20 [00:00<00:02,  6.68it/s]"
     ]
    },
    {
     "output_type": "stream",
     "name": "stdout",
     "text": [
      "\n",
      "Iteration 4/20 of epoch 2 complete. Loss : 0.34711895138025284 \n"
     ]
    },
    {
     "output_type": "stream",
     "name": "stderr",
     "text": [
      " 45%|████▌     | 9/20 [00:01<00:01,  6.63it/s]"
     ]
    },
    {
     "output_type": "stream",
     "name": "stdout",
     "text": [
      "\n",
      "Iteration 8/20 of epoch 2 complete. Loss : 0.34665048122406006 \n"
     ]
    },
    {
     "output_type": "stream",
     "name": "stderr",
     "text": [
      " 65%|██████▌   | 13/20 [00:01<00:01,  6.66it/s]"
     ]
    },
    {
     "output_type": "stream",
     "name": "stdout",
     "text": [
      "\n",
      "Iteration 12/20 of epoch 2 complete. Loss : 0.3472909852862358 \n"
     ]
    },
    {
     "output_type": "stream",
     "name": "stderr",
     "text": [
      " 85%|████████▌ | 17/20 [00:02<00:00,  6.66it/s]"
     ]
    },
    {
     "output_type": "stream",
     "name": "stdout",
     "text": [
      "\n",
      "Iteration 16/20 of epoch 2 complete. Loss : 0.34772954136133194 \n"
     ]
    },
    {
     "output_type": "stream",
     "name": "stderr",
     "text": [
      "100%|██████████| 20/20 [00:02<00:00,  6.95it/s]\n",
      " 20%|██        | 1/5 [00:00<00:00,  7.30it/s]"
     ]
    },
    {
     "output_type": "stream",
     "name": "stdout",
     "text": [
      "\n",
      "Iteration 20/20 of epoch 2 complete. Loss : 0.34751638770103455 \n"
     ]
    },
    {
     "output_type": "stream",
     "name": "stderr",
     "text": [
      "100%|██████████| 5/5 [00:00<00:00,  7.51it/s]\n",
      "  5%|▌         | 1/20 [00:00<00:02,  6.70it/s]"
     ]
    },
    {
     "output_type": "stream",
     "name": "stdout",
     "text": [
      "\n",
      "Epoch 2 complete! Validation Loss : 0.6935263037681579\n",
      "Epoch 2 complete! Validation Accuracy : 0.592590206185567\n"
     ]
    },
    {
     "output_type": "stream",
     "name": "stderr",
     "text": [
      " 25%|██▌       | 5/20 [00:00<00:02,  6.65it/s]"
     ]
    },
    {
     "output_type": "stream",
     "name": "stdout",
     "text": [
      "\n",
      "Iteration 4/20 of epoch 3 complete. Loss : 0.3475581333041191 \n"
     ]
    },
    {
     "output_type": "stream",
     "name": "stderr",
     "text": [
      " 45%|████▌     | 9/20 [00:01<00:01,  6.62it/s]"
     ]
    },
    {
     "output_type": "stream",
     "name": "stdout",
     "text": [
      "\n",
      "Iteration 8/20 of epoch 3 complete. Loss : 0.3466913476586342 \n"
     ]
    },
    {
     "output_type": "stream",
     "name": "stderr",
     "text": [
      " 65%|██████▌   | 13/20 [00:01<00:01,  6.62it/s]"
     ]
    },
    {
     "output_type": "stream",
     "name": "stdout",
     "text": [
      "\n",
      "Iteration 12/20 of epoch 3 complete. Loss : 0.3471759781241417 \n"
     ]
    },
    {
     "output_type": "stream",
     "name": "stderr",
     "text": [
      " 85%|████████▌ | 17/20 [00:02<00:00,  6.62it/s]"
     ]
    },
    {
     "output_type": "stream",
     "name": "stdout",
     "text": [
      "\n",
      "Iteration 16/20 of epoch 3 complete. Loss : 0.3468460142612457 \n"
     ]
    },
    {
     "output_type": "stream",
     "name": "stderr",
     "text": [
      "100%|██████████| 20/20 [00:02<00:00,  6.92it/s]\n",
      " 20%|██        | 1/5 [00:00<00:00,  7.25it/s]"
     ]
    },
    {
     "output_type": "stream",
     "name": "stdout",
     "text": [
      "\n",
      "Iteration 20/20 of epoch 3 complete. Loss : 0.34675804525613785 \n"
     ]
    },
    {
     "output_type": "stream",
     "name": "stderr",
     "text": [
      "100%|██████████| 5/5 [00:00<00:00,  7.49it/s]\n",
      "  5%|▌         | 1/20 [00:00<00:02,  6.71it/s]"
     ]
    },
    {
     "output_type": "stream",
     "name": "stdout",
     "text": [
      "\n",
      "Epoch 3 complete! Validation Loss : 0.6932724952697754\n",
      "Epoch 3 complete! Validation Accuracy : 0.5920908505154638\n",
      "Best validation loss improved from 0.6935193061828613 to 0.6932724952697754\n",
      "\n"
     ]
    },
    {
     "output_type": "stream",
     "name": "stderr",
     "text": [
      " 25%|██▌       | 5/20 [00:00<00:02,  6.64it/s]"
     ]
    },
    {
     "output_type": "stream",
     "name": "stdout",
     "text": [
      "\n",
      "Iteration 4/20 of epoch 4 complete. Loss : 0.34720076620578766 \n"
     ]
    },
    {
     "output_type": "stream",
     "name": "stderr",
     "text": [
      " 45%|████▌     | 9/20 [00:01<00:01,  6.61it/s]"
     ]
    },
    {
     "output_type": "stream",
     "name": "stdout",
     "text": [
      "\n",
      "Iteration 8/20 of epoch 4 complete. Loss : 0.34658119082450867 \n"
     ]
    },
    {
     "output_type": "stream",
     "name": "stderr",
     "text": [
      " 65%|██████▌   | 13/20 [00:01<00:01,  6.61it/s]"
     ]
    },
    {
     "output_type": "stream",
     "name": "stdout",
     "text": [
      "\n",
      "Iteration 12/20 of epoch 4 complete. Loss : 0.3474702462553978 \n"
     ]
    },
    {
     "output_type": "stream",
     "name": "stderr",
     "text": [
      " 85%|████████▌ | 17/20 [00:02<00:00,  6.59it/s]"
     ]
    },
    {
     "output_type": "stream",
     "name": "stdout",
     "text": [
      "\n",
      "Iteration 16/20 of epoch 4 complete. Loss : 0.346848763525486 \n"
     ]
    },
    {
     "output_type": "stream",
     "name": "stderr",
     "text": [
      "100%|██████████| 20/20 [00:02<00:00,  6.91it/s]\n",
      " 20%|██        | 1/5 [00:00<00:00,  7.28it/s]"
     ]
    },
    {
     "output_type": "stream",
     "name": "stdout",
     "text": [
      "\n",
      "Iteration 20/20 of epoch 4 complete. Loss : 0.3470650911331177 \n"
     ]
    },
    {
     "output_type": "stream",
     "name": "stderr",
     "text": [
      "100%|██████████| 5/5 [00:00<00:00,  7.48it/s]\n",
      "  5%|▌         | 1/20 [00:00<00:02,  6.68it/s]"
     ]
    },
    {
     "output_type": "stream",
     "name": "stdout",
     "text": [
      "\n",
      "Epoch 4 complete! Validation Loss : 0.6932717204093933\n",
      "Epoch 4 complete! Validation Accuracy : 0.5750322164948454\n",
      "Best validation loss improved from 0.6932724952697754 to 0.6932717204093933\n",
      "\n"
     ]
    },
    {
     "output_type": "stream",
     "name": "stderr",
     "text": [
      " 25%|██▌       | 5/20 [00:00<00:02,  6.63it/s]"
     ]
    },
    {
     "output_type": "stream",
     "name": "stdout",
     "text": [
      "\n",
      "Iteration 4/20 of epoch 5 complete. Loss : 0.3467988073825836 \n"
     ]
    },
    {
     "output_type": "stream",
     "name": "stderr",
     "text": [
      " 45%|████▌     | 9/20 [00:01<00:01,  6.60it/s]"
     ]
    },
    {
     "output_type": "stream",
     "name": "stdout",
     "text": [
      "\n",
      "Iteration 8/20 of epoch 5 complete. Loss : 0.34687358886003494 \n"
     ]
    },
    {
     "output_type": "stream",
     "name": "stderr",
     "text": [
      " 65%|██████▌   | 13/20 [00:01<00:01,  6.61it/s]"
     ]
    },
    {
     "output_type": "stream",
     "name": "stdout",
     "text": [
      "\n",
      "Iteration 12/20 of epoch 5 complete. Loss : 0.34710608422756195 \n"
     ]
    },
    {
     "output_type": "stream",
     "name": "stderr",
     "text": [
      " 85%|████████▌ | 17/20 [00:02<00:00,  6.62it/s]"
     ]
    },
    {
     "output_type": "stream",
     "name": "stdout",
     "text": [
      "\n",
      "Iteration 16/20 of epoch 5 complete. Loss : 0.3461267128586769 \n"
     ]
    },
    {
     "output_type": "stream",
     "name": "stderr",
     "text": [
      "100%|██████████| 20/20 [00:02<00:00,  6.92it/s]\n",
      " 20%|██        | 1/5 [00:00<00:00,  7.24it/s]"
     ]
    },
    {
     "output_type": "stream",
     "name": "stdout",
     "text": [
      "\n",
      "Iteration 20/20 of epoch 5 complete. Loss : 0.3467203602194786 \n"
     ]
    },
    {
     "output_type": "stream",
     "name": "stderr",
     "text": [
      "100%|██████████| 5/5 [00:00<00:00,  7.48it/s]\n",
      "  5%|▌         | 1/20 [00:00<00:02,  6.66it/s]"
     ]
    },
    {
     "output_type": "stream",
     "name": "stdout",
     "text": [
      "\n",
      "Epoch 5 complete! Validation Loss : 0.6932958960533142\n",
      "Epoch 5 complete! Validation Accuracy : 0.5411565721649485\n"
     ]
    },
    {
     "output_type": "stream",
     "name": "stderr",
     "text": [
      " 25%|██▌       | 5/20 [00:00<00:02,  6.61it/s]"
     ]
    },
    {
     "output_type": "stream",
     "name": "stdout",
     "text": [
      "\n",
      "Iteration 4/20 of epoch 6 complete. Loss : 0.3463677018880844 \n"
     ]
    },
    {
     "output_type": "stream",
     "name": "stderr",
     "text": [
      " 45%|████▌     | 9/20 [00:01<00:01,  6.60it/s]"
     ]
    },
    {
     "output_type": "stream",
     "name": "stdout",
     "text": [
      "\n",
      "Iteration 8/20 of epoch 6 complete. Loss : 0.3468609005212784 \n"
     ]
    },
    {
     "output_type": "stream",
     "name": "stderr",
     "text": [
      " 65%|██████▌   | 13/20 [00:01<00:01,  6.60it/s]"
     ]
    },
    {
     "output_type": "stream",
     "name": "stdout",
     "text": [
      "\n",
      "Iteration 12/20 of epoch 6 complete. Loss : 0.3464085981249809 \n"
     ]
    },
    {
     "output_type": "stream",
     "name": "stderr",
     "text": [
      " 85%|████████▌ | 17/20 [00:02<00:00,  6.59it/s]"
     ]
    },
    {
     "output_type": "stream",
     "name": "stdout",
     "text": [
      "\n",
      "Iteration 16/20 of epoch 6 complete. Loss : 0.3465862572193146 \n"
     ]
    },
    {
     "output_type": "stream",
     "name": "stderr",
     "text": [
      "100%|██████████| 20/20 [00:02<00:00,  6.89it/s]\n",
      " 20%|██        | 1/5 [00:00<00:00,  7.23it/s]"
     ]
    },
    {
     "output_type": "stream",
     "name": "stdout",
     "text": [
      "\n",
      "Iteration 20/20 of epoch 6 complete. Loss : 0.3458020016551018 \n"
     ]
    },
    {
     "output_type": "stream",
     "name": "stderr",
     "text": [
      "100%|██████████| 5/5 [00:00<00:00,  7.46it/s]\n",
      "  5%|▌         | 1/20 [00:00<00:02,  6.63it/s]"
     ]
    },
    {
     "output_type": "stream",
     "name": "stdout",
     "text": [
      "\n",
      "Epoch 6 complete! Validation Loss : 0.6933366298675537\n",
      "Epoch 6 complete! Validation Accuracy : 0.501159793814433\n"
     ]
    },
    {
     "output_type": "stream",
     "name": "stderr",
     "text": [
      " 25%|██▌       | 5/20 [00:00<00:02,  6.59it/s]"
     ]
    },
    {
     "output_type": "stream",
     "name": "stdout",
     "text": [
      "\n",
      "Iteration 4/20 of epoch 7 complete. Loss : 0.3467467278242111 \n"
     ]
    },
    {
     "output_type": "stream",
     "name": "stderr",
     "text": [
      " 45%|████▌     | 9/20 [00:01<00:01,  6.59it/s]"
     ]
    },
    {
     "output_type": "stream",
     "name": "stdout",
     "text": [
      "\n",
      "Iteration 8/20 of epoch 7 complete. Loss : 0.346116304397583 \n"
     ]
    },
    {
     "output_type": "stream",
     "name": "stderr",
     "text": [
      " 65%|██████▌   | 13/20 [00:01<00:01,  6.58it/s]"
     ]
    },
    {
     "output_type": "stream",
     "name": "stdout",
     "text": [
      "\n",
      "Iteration 12/20 of epoch 7 complete. Loss : 0.34624458104372025 \n"
     ]
    },
    {
     "output_type": "stream",
     "name": "stderr",
     "text": [
      " 85%|████████▌ | 17/20 [00:02<00:00,  6.58it/s]"
     ]
    },
    {
     "output_type": "stream",
     "name": "stdout",
     "text": [
      "\n",
      "Iteration 16/20 of epoch 7 complete. Loss : 0.34664537012577057 \n"
     ]
    },
    {
     "output_type": "stream",
     "name": "stderr",
     "text": [
      "100%|██████████| 20/20 [00:02<00:00,  6.88it/s]\n",
      " 20%|██        | 1/5 [00:00<00:00,  7.22it/s]"
     ]
    },
    {
     "output_type": "stream",
     "name": "stdout",
     "text": [
      "\n",
      "Iteration 20/20 of epoch 7 complete. Loss : 0.34762074798345566 \n"
     ]
    },
    {
     "output_type": "stream",
     "name": "stderr",
     "text": [
      "100%|██████████| 5/5 [00:00<00:00,  7.47it/s]\n",
      "  5%|▌         | 1/20 [00:00<00:02,  6.66it/s]"
     ]
    },
    {
     "output_type": "stream",
     "name": "stdout",
     "text": [
      "\n",
      "Epoch 7 complete! Validation Loss : 0.6929171204566955\n",
      "Epoch 7 complete! Validation Accuracy : 0.476159793814433\n",
      "Best validation loss improved from 0.6932717204093933 to 0.6929171204566955\n",
      "\n"
     ]
    },
    {
     "output_type": "stream",
     "name": "stderr",
     "text": [
      " 25%|██▌       | 5/20 [00:00<00:02,  6.61it/s]"
     ]
    },
    {
     "output_type": "stream",
     "name": "stdout",
     "text": [
      "\n",
      "Iteration 4/20 of epoch 8 complete. Loss : 0.34617486596107483 \n"
     ]
    },
    {
     "output_type": "stream",
     "name": "stderr",
     "text": [
      " 45%|████▌     | 9/20 [00:01<00:01,  6.59it/s]"
     ]
    },
    {
     "output_type": "stream",
     "name": "stdout",
     "text": [
      "\n",
      "Iteration 8/20 of epoch 8 complete. Loss : 0.34570668637752533 \n"
     ]
    },
    {
     "output_type": "stream",
     "name": "stderr",
     "text": [
      " 65%|██████▌   | 13/20 [00:01<00:01,  6.58it/s]"
     ]
    },
    {
     "output_type": "stream",
     "name": "stdout",
     "text": [
      "\n",
      "Iteration 12/20 of epoch 8 complete. Loss : 0.3462403863668442 \n"
     ]
    },
    {
     "output_type": "stream",
     "name": "stderr",
     "text": [
      " 85%|████████▌ | 17/20 [00:02<00:00,  6.58it/s]"
     ]
    },
    {
     "output_type": "stream",
     "name": "stdout",
     "text": [
      "\n",
      "Iteration 16/20 of epoch 8 complete. Loss : 0.3455371856689453 \n"
     ]
    },
    {
     "output_type": "stream",
     "name": "stderr",
     "text": [
      "100%|██████████| 20/20 [00:02<00:00,  6.89it/s]\n",
      " 20%|██        | 1/5 [00:00<00:00,  7.22it/s]"
     ]
    },
    {
     "output_type": "stream",
     "name": "stdout",
     "text": [
      "\n",
      "Iteration 20/20 of epoch 8 complete. Loss : 0.34675078839063644 \n"
     ]
    },
    {
     "output_type": "stream",
     "name": "stderr",
     "text": [
      "100%|██████████| 5/5 [00:00<00:00,  7.45it/s]\n",
      "  5%|▌         | 1/20 [00:00<00:02,  6.65it/s]"
     ]
    },
    {
     "output_type": "stream",
     "name": "stdout",
     "text": [
      "\n",
      "Epoch 8 complete! Validation Loss : 0.6927069664001465\n",
      "Epoch 8 complete! Validation Accuracy : 0.4876610824742268\n",
      "Best validation loss improved from 0.6929171204566955 to 0.6927069664001465\n",
      "\n"
     ]
    },
    {
     "output_type": "stream",
     "name": "stderr",
     "text": [
      " 25%|██▌       | 5/20 [00:00<00:02,  6.60it/s]"
     ]
    },
    {
     "output_type": "stream",
     "name": "stdout",
     "text": [
      "\n",
      "Iteration 4/20 of epoch 9 complete. Loss : 0.3464200720191002 \n"
     ]
    },
    {
     "output_type": "stream",
     "name": "stderr",
     "text": [
      " 45%|████▌     | 9/20 [00:01<00:01,  6.58it/s]"
     ]
    },
    {
     "output_type": "stream",
     "name": "stdout",
     "text": [
      "\n",
      "Iteration 8/20 of epoch 9 complete. Loss : 0.3456517457962036 \n"
     ]
    },
    {
     "output_type": "stream",
     "name": "stderr",
     "text": [
      " 65%|██████▌   | 13/20 [00:01<00:01,  6.57it/s]"
     ]
    },
    {
     "output_type": "stream",
     "name": "stdout",
     "text": [
      "\n",
      "Iteration 12/20 of epoch 9 complete. Loss : 0.34575869888067245 \n"
     ]
    },
    {
     "output_type": "stream",
     "name": "stderr",
     "text": [
      " 85%|████████▌ | 17/20 [00:02<00:00,  6.55it/s]"
     ]
    },
    {
     "output_type": "stream",
     "name": "stdout",
     "text": [
      "\n",
      "Iteration 16/20 of epoch 9 complete. Loss : 0.3457004278898239 \n"
     ]
    },
    {
     "output_type": "stream",
     "name": "stderr",
     "text": [
      "100%|██████████| 20/20 [00:02<00:00,  6.86it/s]\n",
      " 20%|██        | 1/5 [00:00<00:00,  7.19it/s]"
     ]
    },
    {
     "output_type": "stream",
     "name": "stdout",
     "text": [
      "\n",
      "Iteration 20/20 of epoch 9 complete. Loss : 0.3477746620774269 \n"
     ]
    },
    {
     "output_type": "stream",
     "name": "stderr",
     "text": [
      "100%|██████████| 5/5 [00:00<00:00,  7.41it/s]\n",
      "  5%|▌         | 1/20 [00:00<00:02,  6.62it/s]"
     ]
    },
    {
     "output_type": "stream",
     "name": "stdout",
     "text": [
      "\n",
      "Epoch 9 complete! Validation Loss : 0.6925493717193604\n",
      "Epoch 9 complete! Validation Accuracy : 0.5110341494845361\n",
      "Best validation loss improved from 0.6927069664001465 to 0.6925493717193604\n",
      "\n"
     ]
    },
    {
     "output_type": "stream",
     "name": "stderr",
     "text": [
      " 25%|██▌       | 5/20 [00:00<00:02,  6.56it/s]"
     ]
    },
    {
     "output_type": "stream",
     "name": "stdout",
     "text": [
      "\n",
      "Iteration 4/20 of epoch 10 complete. Loss : 0.3459807336330414 \n"
     ]
    },
    {
     "output_type": "stream",
     "name": "stderr",
     "text": [
      " 45%|████▌     | 9/20 [00:01<00:01,  6.55it/s]"
     ]
    },
    {
     "output_type": "stream",
     "name": "stdout",
     "text": [
      "\n",
      "Iteration 8/20 of epoch 10 complete. Loss : 0.3458206281065941 \n"
     ]
    },
    {
     "output_type": "stream",
     "name": "stderr",
     "text": [
      " 65%|██████▌   | 13/20 [00:01<00:01,  6.55it/s]"
     ]
    },
    {
     "output_type": "stream",
     "name": "stdout",
     "text": [
      "\n",
      "Iteration 12/20 of epoch 10 complete. Loss : 0.3450549468398094 \n"
     ]
    },
    {
     "output_type": "stream",
     "name": "stderr",
     "text": [
      " 85%|████████▌ | 17/20 [00:02<00:00,  6.56it/s]"
     ]
    },
    {
     "output_type": "stream",
     "name": "stdout",
     "text": [
      "\n",
      "Iteration 16/20 of epoch 10 complete. Loss : 0.3452809527516365 \n"
     ]
    },
    {
     "output_type": "stream",
     "name": "stderr",
     "text": [
      "100%|██████████| 20/20 [00:02<00:00,  6.86it/s]\n",
      " 20%|██        | 1/5 [00:00<00:00,  7.22it/s]"
     ]
    },
    {
     "output_type": "stream",
     "name": "stdout",
     "text": [
      "\n",
      "Iteration 20/20 of epoch 10 complete. Loss : 0.3448673039674759 \n"
     ]
    },
    {
     "output_type": "stream",
     "name": "stderr",
     "text": [
      "100%|██████████| 5/5 [00:00<00:00,  7.42it/s]\n",
      "  5%|▌         | 1/20 [00:00<00:02,  6.61it/s]"
     ]
    },
    {
     "output_type": "stream",
     "name": "stdout",
     "text": [
      "\n",
      "Epoch 10 complete! Validation Loss : 0.6917599201202392\n",
      "Epoch 10 complete! Validation Accuracy : 0.5593427835051547\n",
      "Best validation loss improved from 0.6925493717193604 to 0.6917599201202392\n",
      "\n"
     ]
    },
    {
     "output_type": "stream",
     "name": "stderr",
     "text": [
      " 25%|██▌       | 5/20 [00:00<00:02,  6.57it/s]"
     ]
    },
    {
     "output_type": "stream",
     "name": "stdout",
     "text": [
      "\n",
      "Iteration 4/20 of epoch 11 complete. Loss : 0.3458740562200546 \n"
     ]
    },
    {
     "output_type": "stream",
     "name": "stderr",
     "text": [
      " 45%|████▌     | 9/20 [00:01<00:01,  6.54it/s]"
     ]
    },
    {
     "output_type": "stream",
     "name": "stdout",
     "text": [
      "\n",
      "Iteration 8/20 of epoch 11 complete. Loss : 0.3445790335536003 \n"
     ]
    },
    {
     "output_type": "stream",
     "name": "stderr",
     "text": [
      " 65%|██████▌   | 13/20 [00:01<00:01,  6.53it/s]"
     ]
    },
    {
     "output_type": "stream",
     "name": "stdout",
     "text": [
      "\n",
      "Iteration 12/20 of epoch 11 complete. Loss : 0.3453184887766838 \n"
     ]
    },
    {
     "output_type": "stream",
     "name": "stderr",
     "text": [
      " 85%|████████▌ | 17/20 [00:02<00:00,  6.52it/s]"
     ]
    },
    {
     "output_type": "stream",
     "name": "stdout",
     "text": [
      "\n",
      "Iteration 16/20 of epoch 11 complete. Loss : 0.3452153429389 \n"
     ]
    },
    {
     "output_type": "stream",
     "name": "stderr",
     "text": [
      "100%|██████████| 20/20 [00:02<00:00,  6.82it/s]\n",
      " 20%|██        | 1/5 [00:00<00:00,  7.15it/s]"
     ]
    },
    {
     "output_type": "stream",
     "name": "stdout",
     "text": [
      "\n",
      "Iteration 20/20 of epoch 11 complete. Loss : 0.34656422585248947 \n"
     ]
    },
    {
     "output_type": "stream",
     "name": "stderr",
     "text": [
      "100%|██████████| 5/5 [00:00<00:00,  7.38it/s]\n",
      "  5%|▌         | 1/20 [00:00<00:02,  6.63it/s]"
     ]
    },
    {
     "output_type": "stream",
     "name": "stdout",
     "text": [
      "\n",
      "Epoch 11 complete! Validation Loss : 0.6911383867263794\n",
      "Epoch 11 complete! Validation Accuracy : 0.5468427835051546\n",
      "Best validation loss improved from 0.6917599201202392 to 0.6911383867263794\n",
      "\n"
     ]
    },
    {
     "output_type": "stream",
     "name": "stderr",
     "text": [
      " 25%|██▌       | 5/20 [00:00<00:02,  6.56it/s]"
     ]
    },
    {
     "output_type": "stream",
     "name": "stdout",
     "text": [
      "\n",
      "Iteration 4/20 of epoch 12 complete. Loss : 0.34568842500448227 \n"
     ]
    },
    {
     "output_type": "stream",
     "name": "stderr",
     "text": [
      " 45%|████▌     | 9/20 [00:01<00:01,  6.54it/s]"
     ]
    },
    {
     "output_type": "stream",
     "name": "stdout",
     "text": [
      "\n",
      "Iteration 8/20 of epoch 12 complete. Loss : 0.3445335254073143 \n"
     ]
    },
    {
     "output_type": "stream",
     "name": "stderr",
     "text": [
      " 65%|██████▌   | 13/20 [00:01<00:01,  6.53it/s]"
     ]
    },
    {
     "output_type": "stream",
     "name": "stdout",
     "text": [
      "\n",
      "Iteration 12/20 of epoch 12 complete. Loss : 0.34488239139318466 \n"
     ]
    },
    {
     "output_type": "stream",
     "name": "stderr",
     "text": [
      " 85%|████████▌ | 17/20 [00:02<00:00,  6.54it/s]"
     ]
    },
    {
     "output_type": "stream",
     "name": "stdout",
     "text": [
      "\n",
      "Iteration 16/20 of epoch 12 complete. Loss : 0.3448013439774513 \n"
     ]
    },
    {
     "output_type": "stream",
     "name": "stderr",
     "text": [
      "100%|██████████| 20/20 [00:02<00:00,  6.83it/s]\n",
      " 20%|██        | 1/5 [00:00<00:00,  7.16it/s]"
     ]
    },
    {
     "output_type": "stream",
     "name": "stdout",
     "text": [
      "\n",
      "Iteration 20/20 of epoch 12 complete. Loss : 0.3441126048564911 \n"
     ]
    },
    {
     "output_type": "stream",
     "name": "stderr",
     "text": [
      "100%|██████████| 5/5 [00:00<00:00,  7.39it/s]\n",
      "  5%|▌         | 1/20 [00:00<00:02,  6.59it/s]"
     ]
    },
    {
     "output_type": "stream",
     "name": "stdout",
     "text": [
      "\n",
      "Epoch 12 complete! Validation Loss : 0.6911599159240722\n",
      "Epoch 12 complete! Validation Accuracy : 0.5295908505154638\n"
     ]
    },
    {
     "output_type": "stream",
     "name": "stderr",
     "text": [
      " 25%|██▌       | 5/20 [00:00<00:02,  6.51it/s]"
     ]
    },
    {
     "output_type": "stream",
     "name": "stdout",
     "text": [
      "\n",
      "Iteration 4/20 of epoch 13 complete. Loss : 0.34442711621522903 \n"
     ]
    },
    {
     "output_type": "stream",
     "name": "stderr",
     "text": [
      " 45%|████▌     | 9/20 [00:01<00:01,  6.51it/s]"
     ]
    },
    {
     "output_type": "stream",
     "name": "stdout",
     "text": [
      "\n",
      "Iteration 8/20 of epoch 13 complete. Loss : 0.3449048697948456 \n"
     ]
    },
    {
     "output_type": "stream",
     "name": "stderr",
     "text": [
      " 65%|██████▌   | 13/20 [00:01<00:01,  6.50it/s]"
     ]
    },
    {
     "output_type": "stream",
     "name": "stdout",
     "text": [
      "\n",
      "Iteration 12/20 of epoch 13 complete. Loss : 0.3444674164056778 \n"
     ]
    },
    {
     "output_type": "stream",
     "name": "stderr",
     "text": [
      " 85%|████████▌ | 17/20 [00:02<00:00,  6.50it/s]"
     ]
    },
    {
     "output_type": "stream",
     "name": "stdout",
     "text": [
      "\n",
      "Iteration 16/20 of epoch 13 complete. Loss : 0.3445296138525009 \n"
     ]
    },
    {
     "output_type": "stream",
     "name": "stderr",
     "text": [
      "100%|██████████| 20/20 [00:02<00:00,  6.79it/s]\n",
      " 20%|██        | 1/5 [00:00<00:00,  7.11it/s]"
     ]
    },
    {
     "output_type": "stream",
     "name": "stdout",
     "text": [
      "\n",
      "Iteration 20/20 of epoch 13 complete. Loss : 0.34334908425807953 \n"
     ]
    },
    {
     "output_type": "stream",
     "name": "stderr",
     "text": [
      "100%|██████████| 5/5 [00:00<00:00,  7.35it/s]\n",
      "  5%|▌         | 1/20 [00:00<00:02,  6.59it/s]"
     ]
    },
    {
     "output_type": "stream",
     "name": "stdout",
     "text": [
      "\n",
      "Epoch 13 complete! Validation Loss : 0.6909236073493957\n",
      "Epoch 13 complete! Validation Accuracy : 0.5119684278350516\n",
      "Best validation loss improved from 0.6911383867263794 to 0.6909236073493957\n",
      "\n"
     ]
    },
    {
     "output_type": "stream",
     "name": "stderr",
     "text": [
      " 25%|██▌       | 5/20 [00:00<00:02,  6.54it/s]"
     ]
    },
    {
     "output_type": "stream",
     "name": "stdout",
     "text": [
      "\n",
      "Iteration 4/20 of epoch 14 complete. Loss : 0.3437362164258957 \n"
     ]
    },
    {
     "output_type": "stream",
     "name": "stderr",
     "text": [
      " 45%|████▌     | 9/20 [00:01<00:01,  6.51it/s]"
     ]
    },
    {
     "output_type": "stream",
     "name": "stdout",
     "text": [
      "\n",
      "Iteration 8/20 of epoch 14 complete. Loss : 0.3446153700351715 \n"
     ]
    },
    {
     "output_type": "stream",
     "name": "stderr",
     "text": [
      " 65%|██████▌   | 13/20 [00:01<00:01,  6.50it/s]"
     ]
    },
    {
     "output_type": "stream",
     "name": "stdout",
     "text": [
      "\n",
      "Iteration 12/20 of epoch 14 complete. Loss : 0.343673512339592 \n"
     ]
    },
    {
     "output_type": "stream",
     "name": "stderr",
     "text": [
      " 85%|████████▌ | 17/20 [00:02<00:00,  6.50it/s]"
     ]
    },
    {
     "output_type": "stream",
     "name": "stdout",
     "text": [
      "\n",
      "Iteration 16/20 of epoch 14 complete. Loss : 0.344381146132946 \n"
     ]
    },
    {
     "output_type": "stream",
     "name": "stderr",
     "text": [
      "100%|██████████| 20/20 [00:02<00:00,  6.80it/s]\n",
      " 20%|██        | 1/5 [00:00<00:00,  7.08it/s]"
     ]
    },
    {
     "output_type": "stream",
     "name": "stdout",
     "text": [
      "\n",
      "Iteration 20/20 of epoch 14 complete. Loss : 0.3443662151694298 \n"
     ]
    },
    {
     "output_type": "stream",
     "name": "stderr",
     "text": [
      "100%|██████████| 5/5 [00:00<00:00,  7.32it/s]\n",
      "  5%|▌         | 1/20 [00:00<00:02,  6.57it/s]"
     ]
    },
    {
     "output_type": "stream",
     "name": "stdout",
     "text": [
      "\n",
      "Epoch 14 complete! Validation Loss : 0.6904432058334351\n",
      "Epoch 14 complete! Validation Accuracy : 0.47303479381443303\n",
      "Best validation loss improved from 0.6909236073493957 to 0.6904432058334351\n",
      "\n"
     ]
    },
    {
     "output_type": "stream",
     "name": "stderr",
     "text": [
      " 25%|██▌       | 5/20 [00:00<00:02,  6.48it/s]"
     ]
    },
    {
     "output_type": "stream",
     "name": "stdout",
     "text": [
      "\n",
      "Iteration 4/20 of epoch 15 complete. Loss : 0.3439195081591606 \n"
     ]
    },
    {
     "output_type": "stream",
     "name": "stderr",
     "text": [
      " 45%|████▌     | 9/20 [00:01<00:01,  6.47it/s]"
     ]
    },
    {
     "output_type": "stream",
     "name": "stdout",
     "text": [
      "\n",
      "Iteration 8/20 of epoch 15 complete. Loss : 0.34374212473630905 \n"
     ]
    },
    {
     "output_type": "stream",
     "name": "stderr",
     "text": [
      " 65%|██████▌   | 13/20 [00:02<00:01,  6.43it/s]"
     ]
    },
    {
     "output_type": "stream",
     "name": "stdout",
     "text": [
      "\n",
      "Iteration 12/20 of epoch 15 complete. Loss : 0.34356507658958435 \n"
     ]
    },
    {
     "output_type": "stream",
     "name": "stderr",
     "text": [
      " 85%|████████▌ | 17/20 [00:02<00:00,  6.42it/s]"
     ]
    },
    {
     "output_type": "stream",
     "name": "stdout",
     "text": [
      "\n",
      "Iteration 16/20 of epoch 15 complete. Loss : 0.3437846004962921 \n"
     ]
    },
    {
     "output_type": "stream",
     "name": "stderr",
     "text": [
      "100%|██████████| 20/20 [00:02<00:00,  6.72it/s]\n",
      " 20%|██        | 1/5 [00:00<00:00,  6.89it/s]"
     ]
    },
    {
     "output_type": "stream",
     "name": "stdout",
     "text": [
      "\n",
      "Iteration 20/20 of epoch 15 complete. Loss : 0.3461168333888054 \n"
     ]
    },
    {
     "output_type": "stream",
     "name": "stderr",
     "text": [
      "100%|██████████| 5/5 [00:00<00:00,  7.21it/s]\n",
      "  5%|▌         | 1/20 [00:00<00:03,  6.32it/s]"
     ]
    },
    {
     "output_type": "stream",
     "name": "stdout",
     "text": [
      "\n",
      "Epoch 15 complete! Validation Loss : 0.6901608228683471\n",
      "Epoch 15 complete! Validation Accuracy : 0.4755960051546392\n",
      "Best validation loss improved from 0.6904432058334351 to 0.6901608228683471\n",
      "\n"
     ]
    },
    {
     "output_type": "stream",
     "name": "stderr",
     "text": [
      " 25%|██▌       | 5/20 [00:00<00:02,  6.28it/s]"
     ]
    },
    {
     "output_type": "stream",
     "name": "stdout",
     "text": [
      "\n",
      "Iteration 4/20 of epoch 16 complete. Loss : 0.3436860740184784 \n"
     ]
    },
    {
     "output_type": "stream",
     "name": "stderr",
     "text": [
      " 45%|████▌     | 9/20 [00:01<00:01,  6.27it/s]"
     ]
    },
    {
     "output_type": "stream",
     "name": "stdout",
     "text": [
      "\n",
      "Iteration 8/20 of epoch 16 complete. Loss : 0.34358032792806625 \n"
     ]
    },
    {
     "output_type": "stream",
     "name": "stderr",
     "text": [
      " 65%|██████▌   | 13/20 [00:02<00:01,  6.28it/s]"
     ]
    },
    {
     "output_type": "stream",
     "name": "stdout",
     "text": [
      "\n",
      "Iteration 12/20 of epoch 16 complete. Loss : 0.34282274544239044 \n"
     ]
    },
    {
     "output_type": "stream",
     "name": "stderr",
     "text": [
      " 85%|████████▌ | 17/20 [00:02<00:00,  6.25it/s]"
     ]
    },
    {
     "output_type": "stream",
     "name": "stdout",
     "text": [
      "\n",
      "Iteration 16/20 of epoch 16 complete. Loss : 0.344270795583725 \n"
     ]
    },
    {
     "output_type": "stream",
     "name": "stderr",
     "text": [
      "100%|██████████| 20/20 [00:03<00:00,  6.56it/s]\n",
      " 20%|██        | 1/5 [00:00<00:00,  6.80it/s]"
     ]
    },
    {
     "output_type": "stream",
     "name": "stdout",
     "text": [
      "\n",
      "Iteration 20/20 of epoch 16 complete. Loss : 0.3442334085702896 \n"
     ]
    },
    {
     "output_type": "stream",
     "name": "stderr",
     "text": [
      "100%|██████████| 5/5 [00:00<00:00,  7.11it/s]\n",
      "  5%|▌         | 1/20 [00:00<00:03,  6.33it/s]"
     ]
    },
    {
     "output_type": "stream",
     "name": "stdout",
     "text": [
      "\n",
      "Epoch 16 complete! Validation Loss : 0.6893243551254272\n",
      "Epoch 16 complete! Validation Accuracy : 0.5572164948453608\n",
      "Best validation loss improved from 0.6901608228683471 to 0.6893243551254272\n",
      "\n"
     ]
    },
    {
     "output_type": "stream",
     "name": "stderr",
     "text": [
      " 25%|██▌       | 5/20 [00:00<00:02,  6.30it/s]"
     ]
    },
    {
     "output_type": "stream",
     "name": "stdout",
     "text": [
      "\n",
      "Iteration 4/20 of epoch 17 complete. Loss : 0.3423682823777199 \n"
     ]
    },
    {
     "output_type": "stream",
     "name": "stderr",
     "text": [
      " 45%|████▌     | 9/20 [00:01<00:01,  6.27it/s]"
     ]
    },
    {
     "output_type": "stream",
     "name": "stdout",
     "text": [
      "\n",
      "Iteration 8/20 of epoch 17 complete. Loss : 0.34333278238773346 \n"
     ]
    },
    {
     "output_type": "stream",
     "name": "stderr",
     "text": [
      " 65%|██████▌   | 13/20 [00:02<00:01,  6.28it/s]"
     ]
    },
    {
     "output_type": "stream",
     "name": "stdout",
     "text": [
      "\n",
      "Iteration 12/20 of epoch 17 complete. Loss : 0.3445058986544609 \n"
     ]
    },
    {
     "output_type": "stream",
     "name": "stderr",
     "text": [
      " 85%|████████▌ | 17/20 [00:02<00:00,  6.28it/s]"
     ]
    },
    {
     "output_type": "stream",
     "name": "stdout",
     "text": [
      "\n",
      "Iteration 16/20 of epoch 17 complete. Loss : 0.34375520050525665 \n"
     ]
    },
    {
     "output_type": "stream",
     "name": "stderr",
     "text": [
      "100%|██████████| 20/20 [00:03<00:00,  6.57it/s]\n",
      " 20%|██        | 1/5 [00:00<00:00,  6.82it/s]"
     ]
    },
    {
     "output_type": "stream",
     "name": "stdout",
     "text": [
      "\n",
      "Iteration 20/20 of epoch 17 complete. Loss : 0.33986616134643555 \n"
     ]
    },
    {
     "output_type": "stream",
     "name": "stderr",
     "text": [
      "100%|██████████| 5/5 [00:00<00:00,  7.13it/s]\n",
      "  5%|▌         | 1/20 [00:00<00:03,  6.32it/s]"
     ]
    },
    {
     "output_type": "stream",
     "name": "stdout",
     "text": [
      "\n",
      "Epoch 17 complete! Validation Loss : 0.6879962682723999\n",
      "Epoch 17 complete! Validation Accuracy : 0.5868395618556701\n",
      "Best validation loss improved from 0.6893243551254272 to 0.6879962682723999\n",
      "\n"
     ]
    },
    {
     "output_type": "stream",
     "name": "stderr",
     "text": [
      " 25%|██▌       | 5/20 [00:00<00:02,  6.29it/s]"
     ]
    },
    {
     "output_type": "stream",
     "name": "stdout",
     "text": [
      "\n",
      "Iteration 4/20 of epoch 18 complete. Loss : 0.3421875163912773 \n"
     ]
    },
    {
     "output_type": "stream",
     "name": "stderr",
     "text": [
      " 45%|████▌     | 9/20 [00:01<00:01,  6.24it/s]"
     ]
    },
    {
     "output_type": "stream",
     "name": "stdout",
     "text": [
      "\n",
      "Iteration 8/20 of epoch 18 complete. Loss : 0.34224076569080353 \n"
     ]
    },
    {
     "output_type": "stream",
     "name": "stderr",
     "text": [
      " 65%|██████▌   | 13/20 [00:02<00:01,  6.25it/s]"
     ]
    },
    {
     "output_type": "stream",
     "name": "stdout",
     "text": [
      "\n",
      "Iteration 12/20 of epoch 18 complete. Loss : 0.34184984862804413 \n"
     ]
    },
    {
     "output_type": "stream",
     "name": "stderr",
     "text": [
      " 85%|████████▌ | 17/20 [00:02<00:00,  6.28it/s]"
     ]
    },
    {
     "output_type": "stream",
     "name": "stdout",
     "text": [
      "\n",
      "Iteration 16/20 of epoch 18 complete. Loss : 0.3424513339996338 \n"
     ]
    },
    {
     "output_type": "stream",
     "name": "stderr",
     "text": [
      "100%|██████████| 20/20 [00:03<00:00,  6.55it/s]\n",
      " 20%|██        | 1/5 [00:00<00:00,  6.83it/s]"
     ]
    },
    {
     "output_type": "stream",
     "name": "stdout",
     "text": [
      "\n",
      "Iteration 20/20 of epoch 18 complete. Loss : 0.34198181331157684 \n"
     ]
    },
    {
     "output_type": "stream",
     "name": "stderr",
     "text": [
      "100%|██████████| 5/5 [00:00<00:00,  7.12it/s]\n",
      "  5%|▌         | 1/20 [00:00<00:03,  6.33it/s]"
     ]
    },
    {
     "output_type": "stream",
     "name": "stdout",
     "text": [
      "\n",
      "Epoch 18 complete! Validation Loss : 0.6871455073356628\n",
      "Epoch 18 complete! Validation Accuracy : 0.6034632731958763\n",
      "Best validation loss improved from 0.6879962682723999 to 0.6871455073356628\n",
      "\n"
     ]
    },
    {
     "output_type": "stream",
     "name": "stderr",
     "text": [
      " 25%|██▌       | 5/20 [00:00<00:02,  6.29it/s]"
     ]
    },
    {
     "output_type": "stream",
     "name": "stdout",
     "text": [
      "\n",
      "Iteration 4/20 of epoch 19 complete. Loss : 0.3438108488917351 \n"
     ]
    },
    {
     "output_type": "stream",
     "name": "stderr",
     "text": [
      " 45%|████▌     | 9/20 [00:01<00:01,  6.28it/s]"
     ]
    },
    {
     "output_type": "stream",
     "name": "stdout",
     "text": [
      "\n",
      "Iteration 8/20 of epoch 19 complete. Loss : 0.34114445000886917 \n"
     ]
    },
    {
     "output_type": "stream",
     "name": "stderr",
     "text": [
      " 65%|██████▌   | 13/20 [00:02<00:01,  6.26it/s]"
     ]
    },
    {
     "output_type": "stream",
     "name": "stdout",
     "text": [
      "\n",
      "Iteration 12/20 of epoch 19 complete. Loss : 0.3423789218068123 \n"
     ]
    },
    {
     "output_type": "stream",
     "name": "stderr",
     "text": [
      " 85%|████████▌ | 17/20 [00:02<00:00,  6.26it/s]"
     ]
    },
    {
     "output_type": "stream",
     "name": "stdout",
     "text": [
      "\n",
      "Iteration 16/20 of epoch 19 complete. Loss : 0.34056929498910904 \n"
     ]
    },
    {
     "output_type": "stream",
     "name": "stderr",
     "text": [
      "100%|██████████| 20/20 [00:03<00:00,  6.56it/s]\n",
      " 20%|██        | 1/5 [00:00<00:00,  6.87it/s]"
     ]
    },
    {
     "output_type": "stream",
     "name": "stdout",
     "text": [
      "\n",
      "Iteration 20/20 of epoch 19 complete. Loss : 0.3434583321213722 \n"
     ]
    },
    {
     "output_type": "stream",
     "name": "stderr",
     "text": [
      "100%|██████████| 5/5 [00:00<00:00,  7.07it/s]\n",
      "  5%|▌         | 1/20 [00:00<00:03,  6.30it/s]"
     ]
    },
    {
     "output_type": "stream",
     "name": "stdout",
     "text": [
      "\n",
      "Epoch 19 complete! Validation Loss : 0.6858653545379638\n",
      "Epoch 19 complete! Validation Accuracy : 0.6065882731958763\n",
      "Best validation loss improved from 0.6871455073356628 to 0.6858653545379638\n",
      "\n"
     ]
    },
    {
     "output_type": "stream",
     "name": "stderr",
     "text": [
      " 25%|██▌       | 5/20 [00:00<00:02,  6.25it/s]"
     ]
    },
    {
     "output_type": "stream",
     "name": "stdout",
     "text": [
      "\n",
      "Iteration 4/20 of epoch 20 complete. Loss : 0.34247399121522903 \n"
     ]
    },
    {
     "output_type": "stream",
     "name": "stderr",
     "text": [
      " 45%|████▌     | 9/20 [00:01<00:01,  6.24it/s]"
     ]
    },
    {
     "output_type": "stream",
     "name": "stdout",
     "text": [
      "\n",
      "Iteration 8/20 of epoch 20 complete. Loss : 0.3416549116373062 \n"
     ]
    },
    {
     "output_type": "stream",
     "name": "stderr",
     "text": [
      " 65%|██████▌   | 13/20 [00:02<00:01,  6.21it/s]"
     ]
    },
    {
     "output_type": "stream",
     "name": "stdout",
     "text": [
      "\n",
      "Iteration 12/20 of epoch 20 complete. Loss : 0.33800438046455383 \n"
     ]
    },
    {
     "output_type": "stream",
     "name": "stderr",
     "text": [
      " 85%|████████▌ | 17/20 [00:02<00:00,  6.20it/s]"
     ]
    },
    {
     "output_type": "stream",
     "name": "stdout",
     "text": [
      "\n",
      "Iteration 16/20 of epoch 20 complete. Loss : 0.34179841727018356 \n"
     ]
    },
    {
     "output_type": "stream",
     "name": "stderr",
     "text": [
      "100%|██████████| 20/20 [00:03<00:00,  6.50it/s]\n",
      " 20%|██        | 1/5 [00:00<00:00,  6.81it/s]"
     ]
    },
    {
     "output_type": "stream",
     "name": "stdout",
     "text": [
      "\n",
      "Iteration 20/20 of epoch 20 complete. Loss : 0.34061045199632645 \n"
     ]
    },
    {
     "output_type": "stream",
     "name": "stderr",
     "text": [
      "100%|██████████| 5/5 [00:00<00:00,  7.03it/s]\n",
      "  5%|▌         | 1/20 [00:00<00:03,  6.23it/s]"
     ]
    },
    {
     "output_type": "stream",
     "name": "stdout",
     "text": [
      "\n",
      "Epoch 20 complete! Validation Loss : 0.6866759300231934\n",
      "Epoch 20 complete! Validation Accuracy : 0.567590206185567\n"
     ]
    },
    {
     "output_type": "stream",
     "name": "stderr",
     "text": [
      " 25%|██▌       | 5/20 [00:00<00:02,  6.21it/s]"
     ]
    },
    {
     "output_type": "stream",
     "name": "stdout",
     "text": [
      "\n",
      "Iteration 4/20 of epoch 21 complete. Loss : 0.34030913561582565 \n"
     ]
    },
    {
     "output_type": "stream",
     "name": "stderr",
     "text": [
      " 45%|████▌     | 9/20 [00:01<00:01,  6.19it/s]"
     ]
    },
    {
     "output_type": "stream",
     "name": "stdout",
     "text": [
      "\n",
      "Iteration 8/20 of epoch 21 complete. Loss : 0.339959517121315 \n"
     ]
    },
    {
     "output_type": "stream",
     "name": "stderr",
     "text": [
      " 65%|██████▌   | 13/20 [00:02<00:01,  6.18it/s]"
     ]
    },
    {
     "output_type": "stream",
     "name": "stdout",
     "text": [
      "\n",
      "Iteration 12/20 of epoch 21 complete. Loss : 0.3426716476678848 \n"
     ]
    },
    {
     "output_type": "stream",
     "name": "stderr",
     "text": [
      " 85%|████████▌ | 17/20 [00:02<00:00,  6.14it/s]"
     ]
    },
    {
     "output_type": "stream",
     "name": "stdout",
     "text": [
      "\n",
      "Iteration 16/20 of epoch 21 complete. Loss : 0.34008390456438065 \n"
     ]
    },
    {
     "output_type": "stream",
     "name": "stderr",
     "text": [
      "100%|██████████| 20/20 [00:03<00:00,  6.45it/s]\n",
      " 20%|██        | 1/5 [00:00<00:00,  6.73it/s]"
     ]
    },
    {
     "output_type": "stream",
     "name": "stdout",
     "text": [
      "\n",
      "Iteration 20/20 of epoch 21 complete. Loss : 0.3437666893005371 \n"
     ]
    },
    {
     "output_type": "stream",
     "name": "stderr",
     "text": [
      "100%|██████████| 5/5 [00:00<00:00,  6.99it/s]\n",
      "  5%|▌         | 1/20 [00:00<00:03,  6.23it/s]"
     ]
    },
    {
     "output_type": "stream",
     "name": "stdout",
     "text": [
      "\n",
      "Epoch 21 complete! Validation Loss : 0.6858871579170227\n",
      "Epoch 21 complete! Validation Accuracy : 0.5489046391752577\n"
     ]
    },
    {
     "output_type": "stream",
     "name": "stderr",
     "text": [
      " 25%|██▌       | 5/20 [00:00<00:02,  6.20it/s]"
     ]
    },
    {
     "output_type": "stream",
     "name": "stdout",
     "text": [
      "\n",
      "Iteration 4/20 of epoch 22 complete. Loss : 0.3412804529070854 \n"
     ]
    },
    {
     "output_type": "stream",
     "name": "stderr",
     "text": [
      " 45%|████▌     | 9/20 [00:01<00:01,  6.17it/s]"
     ]
    },
    {
     "output_type": "stream",
     "name": "stdout",
     "text": [
      "\n",
      "Iteration 8/20 of epoch 22 complete. Loss : 0.3404253348708153 \n"
     ]
    },
    {
     "output_type": "stream",
     "name": "stderr",
     "text": [
      " 65%|██████▌   | 13/20 [00:02<00:01,  6.17it/s]"
     ]
    },
    {
     "output_type": "stream",
     "name": "stdout",
     "text": [
      "\n",
      "Iteration 12/20 of epoch 22 complete. Loss : 0.3402697220444679 \n"
     ]
    },
    {
     "output_type": "stream",
     "name": "stderr",
     "text": [
      " 85%|████████▌ | 17/20 [00:02<00:00,  6.15it/s]"
     ]
    },
    {
     "output_type": "stream",
     "name": "stdout",
     "text": [
      "\n",
      "Iteration 16/20 of epoch 22 complete. Loss : 0.33851707726716995 \n"
     ]
    },
    {
     "output_type": "stream",
     "name": "stderr",
     "text": [
      "100%|██████████| 20/20 [00:03<00:00,  6.45it/s]\n",
      " 20%|██        | 1/5 [00:00<00:00,  6.74it/s]"
     ]
    },
    {
     "output_type": "stream",
     "name": "stdout",
     "text": [
      "\n",
      "Iteration 20/20 of epoch 22 complete. Loss : 0.3368985503911972 \n"
     ]
    },
    {
     "output_type": "stream",
     "name": "stderr",
     "text": [
      "100%|██████████| 5/5 [00:00<00:00,  6.98it/s]\n",
      "  5%|▌         | 1/20 [00:00<00:03,  6.24it/s]"
     ]
    },
    {
     "output_type": "stream",
     "name": "stdout",
     "text": [
      "\n",
      "Epoch 22 complete! Validation Loss : 0.6847639203071594\n",
      "Epoch 22 complete! Validation Accuracy : 0.6019007731958763\n",
      "Best validation loss improved from 0.6858653545379638 to 0.6847639203071594\n",
      "\n"
     ]
    },
    {
     "output_type": "stream",
     "name": "stderr",
     "text": [
      " 25%|██▌       | 5/20 [00:00<00:02,  6.17it/s]"
     ]
    },
    {
     "output_type": "stream",
     "name": "stdout",
     "text": [
      "\n",
      "Iteration 4/20 of epoch 23 complete. Loss : 0.34127602726221085 \n"
     ]
    },
    {
     "output_type": "stream",
     "name": "stderr",
     "text": [
      " 45%|████▌     | 9/20 [00:01<00:01,  6.16it/s]"
     ]
    },
    {
     "output_type": "stream",
     "name": "stdout",
     "text": [
      "\n",
      "Iteration 8/20 of epoch 23 complete. Loss : 0.33990559726953506 \n"
     ]
    },
    {
     "output_type": "stream",
     "name": "stderr",
     "text": [
      " 65%|██████▌   | 13/20 [00:02<00:01,  6.14it/s]"
     ]
    },
    {
     "output_type": "stream",
     "name": "stdout",
     "text": [
      "\n",
      "Iteration 12/20 of epoch 23 complete. Loss : 0.3387506231665611 \n"
     ]
    },
    {
     "output_type": "stream",
     "name": "stderr",
     "text": [
      " 85%|████████▌ | 17/20 [00:02<00:00,  6.14it/s]"
     ]
    },
    {
     "output_type": "stream",
     "name": "stdout",
     "text": [
      "\n",
      "Iteration 16/20 of epoch 23 complete. Loss : 0.33662984520196915 \n"
     ]
    },
    {
     "output_type": "stream",
     "name": "stderr",
     "text": [
      "100%|██████████| 20/20 [00:03<00:00,  6.43it/s]\n",
      " 20%|██        | 1/5 [00:00<00:00,  6.68it/s]"
     ]
    },
    {
     "output_type": "stream",
     "name": "stdout",
     "text": [
      "\n",
      "Iteration 20/20 of epoch 23 complete. Loss : 0.3383246436715126 \n"
     ]
    },
    {
     "output_type": "stream",
     "name": "stderr",
     "text": [
      "100%|██████████| 5/5 [00:00<00:00,  6.97it/s]\n",
      "  0%|          | 0/20 [00:00<?, ?it/s]"
     ]
    },
    {
     "output_type": "stream",
     "name": "stdout",
     "text": [
      "\n",
      "Epoch 23 complete! Validation Loss : 0.6831971168518066\n",
      "Epoch 23 complete! Validation Accuracy : 0.6060244845360825\n",
      "Best validation loss improved from 0.6847639203071594 to 0.6831971168518066\n",
      "\n"
     ]
    },
    {
     "output_type": "stream",
     "name": "stderr",
     "text": [
      " 25%|██▌       | 5/20 [00:00<00:02,  6.20it/s]"
     ]
    },
    {
     "output_type": "stream",
     "name": "stdout",
     "text": [
      "\n",
      "Iteration 4/20 of epoch 24 complete. Loss : 0.3390359953045845 \n"
     ]
    },
    {
     "output_type": "stream",
     "name": "stderr",
     "text": [
      " 45%|████▌     | 9/20 [00:01<00:01,  6.16it/s]"
     ]
    },
    {
     "output_type": "stream",
     "name": "stdout",
     "text": [
      "\n",
      "Iteration 8/20 of epoch 24 complete. Loss : 0.3384023383259773 \n"
     ]
    },
    {
     "output_type": "stream",
     "name": "stderr",
     "text": [
      " 65%|██████▌   | 13/20 [00:02<00:01,  6.13it/s]"
     ]
    },
    {
     "output_type": "stream",
     "name": "stdout",
     "text": [
      "\n",
      "Iteration 12/20 of epoch 24 complete. Loss : 0.33875367045402527 \n"
     ]
    },
    {
     "output_type": "stream",
     "name": "stderr",
     "text": [
      " 85%|████████▌ | 17/20 [00:02<00:00,  6.13it/s]"
     ]
    },
    {
     "output_type": "stream",
     "name": "stdout",
     "text": [
      "\n",
      "Iteration 16/20 of epoch 24 complete. Loss : 0.33732572197914124 \n"
     ]
    },
    {
     "output_type": "stream",
     "name": "stderr",
     "text": [
      "100%|██████████| 20/20 [00:03<00:00,  6.43it/s]\n",
      " 20%|██        | 1/5 [00:00<00:00,  6.67it/s]"
     ]
    },
    {
     "output_type": "stream",
     "name": "stdout",
     "text": [
      "\n",
      "Iteration 20/20 of epoch 24 complete. Loss : 0.3461518809199333 \n"
     ]
    },
    {
     "output_type": "stream",
     "name": "stderr",
     "text": [
      "100%|██████████| 5/5 [00:00<00:00,  6.96it/s]\n",
      "  5%|▌         | 1/20 [00:00<00:03,  6.12it/s]"
     ]
    },
    {
     "output_type": "stream",
     "name": "stdout",
     "text": [
      "\n",
      "Epoch 24 complete! Validation Loss : 0.6837150573730468\n",
      "Epoch 24 complete! Validation Accuracy : 0.6013369845360825\n"
     ]
    },
    {
     "output_type": "stream",
     "name": "stderr",
     "text": [
      " 25%|██▌       | 5/20 [00:00<00:02,  6.15it/s]"
     ]
    },
    {
     "output_type": "stream",
     "name": "stdout",
     "text": [
      "\n",
      "Iteration 4/20 of epoch 25 complete. Loss : 0.3375244289636612 \n"
     ]
    },
    {
     "output_type": "stream",
     "name": "stderr",
     "text": [
      " 45%|████▌     | 9/20 [00:01<00:01,  6.15it/s]"
     ]
    },
    {
     "output_type": "stream",
     "name": "stdout",
     "text": [
      "\n",
      "Iteration 8/20 of epoch 25 complete. Loss : 0.3387547582387924 \n"
     ]
    },
    {
     "output_type": "stream",
     "name": "stderr",
     "text": [
      " 65%|██████▌   | 13/20 [00:02<00:01,  6.12it/s]"
     ]
    },
    {
     "output_type": "stream",
     "name": "stdout",
     "text": [
      "\n",
      "Iteration 12/20 of epoch 25 complete. Loss : 0.33799994736909866 \n"
     ]
    },
    {
     "output_type": "stream",
     "name": "stderr",
     "text": [
      " 85%|████████▌ | 17/20 [00:02<00:00,  6.10it/s]"
     ]
    },
    {
     "output_type": "stream",
     "name": "stdout",
     "text": [
      "\n",
      "Iteration 16/20 of epoch 25 complete. Loss : 0.3371555730700493 \n"
     ]
    },
    {
     "output_type": "stream",
     "name": "stderr",
     "text": [
      "100%|██████████| 20/20 [00:03<00:00,  6.41it/s]\n",
      " 20%|██        | 1/5 [00:00<00:00,  6.62it/s]"
     ]
    },
    {
     "output_type": "stream",
     "name": "stdout",
     "text": [
      "\n",
      "Iteration 20/20 of epoch 25 complete. Loss : 0.33568164706230164 \n"
     ]
    },
    {
     "output_type": "stream",
     "name": "stderr",
     "text": [
      "100%|██████████| 5/5 [00:00<00:00,  6.91it/s]\n",
      "  5%|▌         | 1/20 [00:00<00:03,  6.16it/s]"
     ]
    },
    {
     "output_type": "stream",
     "name": "stdout",
     "text": [
      "\n",
      "Epoch 25 complete! Validation Loss : 0.6832680940628052\n",
      "Epoch 25 complete! Validation Accuracy : 0.5410921391752577\n"
     ]
    },
    {
     "output_type": "stream",
     "name": "stderr",
     "text": [
      " 25%|██▌       | 5/20 [00:00<00:02,  6.11it/s]"
     ]
    },
    {
     "output_type": "stream",
     "name": "stdout",
     "text": [
      "\n",
      "Iteration 4/20 of epoch 26 complete. Loss : 0.33707858622074127 \n"
     ]
    },
    {
     "output_type": "stream",
     "name": "stderr",
     "text": [
      " 45%|████▌     | 9/20 [00:01<00:01,  6.09it/s]"
     ]
    },
    {
     "output_type": "stream",
     "name": "stdout",
     "text": [
      "\n",
      "Iteration 8/20 of epoch 26 complete. Loss : 0.3375496491789818 \n"
     ]
    },
    {
     "output_type": "stream",
     "name": "stderr",
     "text": [
      " 65%|██████▌   | 13/20 [00:02<00:01,  6.10it/s]"
     ]
    },
    {
     "output_type": "stream",
     "name": "stdout",
     "text": [
      "\n",
      "Iteration 12/20 of epoch 26 complete. Loss : 0.3345639556646347 \n"
     ]
    },
    {
     "output_type": "stream",
     "name": "stderr",
     "text": [
      " 85%|████████▌ | 17/20 [00:02<00:00,  6.10it/s]"
     ]
    },
    {
     "output_type": "stream",
     "name": "stdout",
     "text": [
      "\n",
      "Iteration 16/20 of epoch 26 complete. Loss : 0.3375155180692673 \n"
     ]
    },
    {
     "output_type": "stream",
     "name": "stderr",
     "text": [
      "100%|██████████| 20/20 [00:03<00:00,  6.37it/s]\n",
      " 20%|██        | 1/5 [00:00<00:00,  6.66it/s]"
     ]
    },
    {
     "output_type": "stream",
     "name": "stdout",
     "text": [
      "\n",
      "Iteration 20/20 of epoch 26 complete. Loss : 0.33872438967227936 \n"
     ]
    },
    {
     "output_type": "stream",
     "name": "stderr",
     "text": [
      "100%|██████████| 5/5 [00:00<00:00,  6.88it/s]\n",
      "  5%|▌         | 1/20 [00:00<00:03,  6.13it/s]"
     ]
    },
    {
     "output_type": "stream",
     "name": "stdout",
     "text": [
      "\n",
      "Epoch 26 complete! Validation Loss : 0.683755075931549\n",
      "Epoch 26 complete! Validation Accuracy : 0.5192815721649484\n"
     ]
    },
    {
     "output_type": "stream",
     "name": "stderr",
     "text": [
      " 25%|██▌       | 5/20 [00:00<00:02,  6.09it/s]"
     ]
    },
    {
     "output_type": "stream",
     "name": "stdout",
     "text": [
      "\n",
      "Iteration 4/20 of epoch 27 complete. Loss : 0.33644022047519684 \n"
     ]
    },
    {
     "output_type": "stream",
     "name": "stderr",
     "text": [
      " 45%|████▌     | 9/20 [00:01<00:01,  6.09it/s]"
     ]
    },
    {
     "output_type": "stream",
     "name": "stdout",
     "text": [
      "\n",
      "Iteration 8/20 of epoch 27 complete. Loss : 0.3377872332930565 \n"
     ]
    },
    {
     "output_type": "stream",
     "name": "stderr",
     "text": [
      " 65%|██████▌   | 13/20 [00:02<00:01,  6.10it/s]"
     ]
    },
    {
     "output_type": "stream",
     "name": "stdout",
     "text": [
      "\n",
      "Iteration 12/20 of epoch 27 complete. Loss : 0.3357711657881737 \n"
     ]
    },
    {
     "output_type": "stream",
     "name": "stderr",
     "text": [
      " 85%|████████▌ | 17/20 [00:02<00:00,  6.07it/s]"
     ]
    },
    {
     "output_type": "stream",
     "name": "stdout",
     "text": [
      "\n",
      "Iteration 16/20 of epoch 27 complete. Loss : 0.3351828083395958 \n"
     ]
    },
    {
     "output_type": "stream",
     "name": "stderr",
     "text": [
      "100%|██████████| 20/20 [00:03<00:00,  6.37it/s]\n",
      " 20%|██        | 1/5 [00:00<00:00,  6.60it/s]"
     ]
    },
    {
     "output_type": "stream",
     "name": "stdout",
     "text": [
      "\n",
      "Iteration 20/20 of epoch 27 complete. Loss : 0.32818716764450073 \n"
     ]
    },
    {
     "output_type": "stream",
     "name": "stderr",
     "text": [
      "100%|██████████| 5/5 [00:00<00:00,  6.86it/s]\n",
      "  5%|▌         | 1/20 [00:00<00:03,  6.13it/s]"
     ]
    },
    {
     "output_type": "stream",
     "name": "stdout",
     "text": [
      "\n",
      "Epoch 27 complete! Validation Loss : 0.6824361085891724\n",
      "Epoch 27 complete! Validation Accuracy : 0.5265302835051546\n",
      "Best validation loss improved from 0.6831971168518066 to 0.6824361085891724\n",
      "\n"
     ]
    },
    {
     "output_type": "stream",
     "name": "stderr",
     "text": [
      " 25%|██▌       | 5/20 [00:00<00:02,  6.10it/s]"
     ]
    },
    {
     "output_type": "stream",
     "name": "stdout",
     "text": [
      "\n",
      "Iteration 4/20 of epoch 28 complete. Loss : 0.33759482204914093 \n"
     ]
    },
    {
     "output_type": "stream",
     "name": "stderr",
     "text": [
      " 45%|████▌     | 9/20 [00:01<00:01,  6.03it/s]"
     ]
    },
    {
     "output_type": "stream",
     "name": "stdout",
     "text": [
      "\n",
      "Iteration 8/20 of epoch 28 complete. Loss : 0.3339025229215622 \n"
     ]
    },
    {
     "output_type": "stream",
     "name": "stderr",
     "text": [
      " 65%|██████▌   | 13/20 [00:02<00:01,  6.05it/s]"
     ]
    },
    {
     "output_type": "stream",
     "name": "stdout",
     "text": [
      "\n",
      "Iteration 12/20 of epoch 28 complete. Loss : 0.3324570208787918 \n"
     ]
    },
    {
     "output_type": "stream",
     "name": "stderr",
     "text": [
      " 85%|████████▌ | 17/20 [00:02<00:00,  5.98it/s]"
     ]
    },
    {
     "output_type": "stream",
     "name": "stdout",
     "text": [
      "\n",
      "Iteration 16/20 of epoch 28 complete. Loss : 0.3342292532324791 \n"
     ]
    },
    {
     "output_type": "stream",
     "name": "stderr",
     "text": [
      "100%|██████████| 20/20 [00:03<00:00,  6.31it/s]\n",
      " 20%|██        | 1/5 [00:00<00:00,  6.75it/s]"
     ]
    },
    {
     "output_type": "stream",
     "name": "stdout",
     "text": [
      "\n",
      "Iteration 20/20 of epoch 28 complete. Loss : 0.3428758904337883 \n"
     ]
    },
    {
     "output_type": "stream",
     "name": "stderr",
     "text": [
      "100%|██████████| 5/5 [00:00<00:00,  6.84it/s]\n",
      "  0%|          | 0/20 [00:00<?, ?it/s]"
     ]
    },
    {
     "output_type": "stream",
     "name": "stdout",
     "text": [
      "\n",
      "Epoch 28 complete! Validation Loss : 0.6786323428153992\n",
      "Epoch 28 complete! Validation Accuracy : 0.6075869845360825\n",
      "Best validation loss improved from 0.6824361085891724 to 0.6786323428153992\n",
      "\n"
     ]
    },
    {
     "output_type": "stream",
     "name": "stderr",
     "text": [
      " 25%|██▌       | 5/20 [00:00<00:02,  6.03it/s]"
     ]
    },
    {
     "output_type": "stream",
     "name": "stdout",
     "text": [
      "\n",
      "Iteration 4/20 of epoch 29 complete. Loss : 0.3323068618774414 \n"
     ]
    },
    {
     "output_type": "stream",
     "name": "stderr",
     "text": [
      " 45%|████▌     | 9/20 [00:01<00:01,  6.03it/s]"
     ]
    },
    {
     "output_type": "stream",
     "name": "stdout",
     "text": [
      "\n",
      "Iteration 8/20 of epoch 29 complete. Loss : 0.3350878432393074 \n"
     ]
    },
    {
     "output_type": "stream",
     "name": "stderr",
     "text": [
      " 65%|██████▌   | 13/20 [00:02<00:01,  6.05it/s]"
     ]
    },
    {
     "output_type": "stream",
     "name": "stdout",
     "text": [
      "\n",
      "Iteration 12/20 of epoch 29 complete. Loss : 0.33579933643341064 \n"
     ]
    },
    {
     "output_type": "stream",
     "name": "stderr",
     "text": [
      " 85%|████████▌ | 17/20 [00:02<00:00,  6.06it/s]"
     ]
    },
    {
     "output_type": "stream",
     "name": "stdout",
     "text": [
      "\n",
      "Iteration 16/20 of epoch 29 complete. Loss : 0.3309156447649002 \n"
     ]
    },
    {
     "output_type": "stream",
     "name": "stderr",
     "text": [
      "100%|██████████| 20/20 [00:03<00:00,  6.32it/s]\n",
      " 20%|██        | 1/5 [00:00<00:00,  6.66it/s]"
     ]
    },
    {
     "output_type": "stream",
     "name": "stdout",
     "text": [
      "\n",
      "Iteration 20/20 of epoch 29 complete. Loss : 0.3361552506685257 \n"
     ]
    },
    {
     "output_type": "stream",
     "name": "stderr",
     "text": [
      "100%|██████████| 5/5 [00:00<00:00,  6.83it/s]\n",
      "  5%|▌         | 1/20 [00:00<00:03,  6.23it/s]"
     ]
    },
    {
     "output_type": "stream",
     "name": "stdout",
     "text": [
      "\n",
      "Epoch 29 complete! Validation Loss : 0.6765340685844421\n",
      "Epoch 29 complete! Validation Accuracy : 0.6325225515463917\n",
      "Best validation loss improved from 0.6786323428153992 to 0.6765340685844421\n",
      "\n"
     ]
    },
    {
     "output_type": "stream",
     "name": "stderr",
     "text": [
      " 25%|██▌       | 5/20 [00:00<00:02,  6.10it/s]"
     ]
    },
    {
     "output_type": "stream",
     "name": "stdout",
     "text": [
      "\n",
      "Iteration 4/20 of epoch 30 complete. Loss : 0.3324844166636467 \n"
     ]
    },
    {
     "output_type": "stream",
     "name": "stderr",
     "text": [
      " 45%|████▌     | 9/20 [00:01<00:01,  6.08it/s]"
     ]
    },
    {
     "output_type": "stream",
     "name": "stdout",
     "text": [
      "\n",
      "Iteration 8/20 of epoch 30 complete. Loss : 0.3337394967675209 \n"
     ]
    },
    {
     "output_type": "stream",
     "name": "stderr",
     "text": [
      " 65%|██████▌   | 13/20 [00:02<00:01,  6.07it/s]"
     ]
    },
    {
     "output_type": "stream",
     "name": "stdout",
     "text": [
      "\n",
      "Iteration 12/20 of epoch 30 complete. Loss : 0.3323286473751068 \n"
     ]
    },
    {
     "output_type": "stream",
     "name": "stderr",
     "text": [
      " 85%|████████▌ | 17/20 [00:02<00:00,  6.05it/s]"
     ]
    },
    {
     "output_type": "stream",
     "name": "stdout",
     "text": [
      "\n",
      "Iteration 16/20 of epoch 30 complete. Loss : 0.33250056952238083 \n"
     ]
    },
    {
     "output_type": "stream",
     "name": "stderr",
     "text": [
      "100%|██████████| 20/20 [00:03<00:00,  6.35it/s]\n",
      " 20%|██        | 1/5 [00:00<00:00,  6.58it/s]"
     ]
    },
    {
     "output_type": "stream",
     "name": "stdout",
     "text": [
      "\n",
      "Iteration 20/20 of epoch 30 complete. Loss : 0.3347804546356201 \n"
     ]
    },
    {
     "output_type": "stream",
     "name": "stderr",
     "text": [
      "100%|██████████| 5/5 [00:00<00:00,  6.84it/s]\n",
      "  5%|▌         | 1/20 [00:00<00:03,  6.07it/s]"
     ]
    },
    {
     "output_type": "stream",
     "name": "stdout",
     "text": [
      "\n",
      "Epoch 30 complete! Validation Loss : 0.6766403794288636\n",
      "Epoch 30 complete! Validation Accuracy : 0.569152706185567\n"
     ]
    },
    {
     "output_type": "stream",
     "name": "stderr",
     "text": [
      " 25%|██▌       | 5/20 [00:00<00:02,  6.09it/s]"
     ]
    },
    {
     "output_type": "stream",
     "name": "stdout",
     "text": [
      "\n",
      "Iteration 4/20 of epoch 31 complete. Loss : 0.3293118104338646 \n"
     ]
    },
    {
     "output_type": "stream",
     "name": "stderr",
     "text": [
      " 45%|████▌     | 9/20 [00:01<00:01,  6.06it/s]"
     ]
    },
    {
     "output_type": "stream",
     "name": "stdout",
     "text": [
      "\n",
      "Iteration 8/20 of epoch 31 complete. Loss : 0.3321309760212898 \n"
     ]
    },
    {
     "output_type": "stream",
     "name": "stderr",
     "text": [
      " 65%|██████▌   | 13/20 [00:02<00:01,  6.07it/s]"
     ]
    },
    {
     "output_type": "stream",
     "name": "stdout",
     "text": [
      "\n",
      "Iteration 12/20 of epoch 31 complete. Loss : 0.33295511454343796 \n"
     ]
    },
    {
     "output_type": "stream",
     "name": "stderr",
     "text": [
      " 85%|████████▌ | 17/20 [00:02<00:00,  6.05it/s]"
     ]
    },
    {
     "output_type": "stream",
     "name": "stdout",
     "text": [
      "\n",
      "Iteration 16/20 of epoch 31 complete. Loss : 0.33143194764852524 \n"
     ]
    },
    {
     "output_type": "stream",
     "name": "stderr",
     "text": [
      "100%|██████████| 20/20 [00:03<00:00,  6.33it/s]\n",
      " 20%|██        | 1/5 [00:00<00:00,  6.62it/s]"
     ]
    },
    {
     "output_type": "stream",
     "name": "stdout",
     "text": [
      "\n",
      "Iteration 20/20 of epoch 31 complete. Loss : 0.32742518186569214 \n"
     ]
    },
    {
     "output_type": "stream",
     "name": "stderr",
     "text": [
      "100%|██████████| 5/5 [00:00<00:00,  6.83it/s]\n",
      "  5%|▌         | 1/20 [00:00<00:03,  6.02it/s]"
     ]
    },
    {
     "output_type": "stream",
     "name": "stdout",
     "text": [
      "\n",
      "Epoch 31 complete! Validation Loss : 0.6736597657203675\n",
      "Epoch 31 complete! Validation Accuracy : 0.6320231958762886\n",
      "Best validation loss improved from 0.6765340685844421 to 0.6736597657203675\n",
      "\n"
     ]
    },
    {
     "output_type": "stream",
     "name": "stderr",
     "text": [
      " 25%|██▌       | 5/20 [00:00<00:02,  6.02it/s]"
     ]
    },
    {
     "output_type": "stream",
     "name": "stdout",
     "text": [
      "\n",
      "Iteration 4/20 of epoch 32 complete. Loss : 0.33316895365715027 \n"
     ]
    },
    {
     "output_type": "stream",
     "name": "stderr",
     "text": [
      " 45%|████▌     | 9/20 [00:01<00:01,  6.00it/s]"
     ]
    },
    {
     "output_type": "stream",
     "name": "stdout",
     "text": [
      "\n",
      "Iteration 8/20 of epoch 32 complete. Loss : 0.3301639258861542 \n"
     ]
    },
    {
     "output_type": "stream",
     "name": "stderr",
     "text": [
      " 65%|██████▌   | 13/20 [00:02<00:01,  6.00it/s]"
     ]
    },
    {
     "output_type": "stream",
     "name": "stdout",
     "text": [
      "\n",
      "Iteration 12/20 of epoch 32 complete. Loss : 0.3272843509912491 \n"
     ]
    },
    {
     "output_type": "stream",
     "name": "stderr",
     "text": [
      " 85%|████████▌ | 17/20 [00:02<00:00,  6.05it/s]"
     ]
    },
    {
     "output_type": "stream",
     "name": "stdout",
     "text": [
      "\n",
      "Iteration 16/20 of epoch 32 complete. Loss : 0.3300984725356102 \n"
     ]
    },
    {
     "output_type": "stream",
     "name": "stderr",
     "text": [
      "100%|██████████| 20/20 [00:03<00:00,  6.30it/s]\n",
      " 20%|██        | 1/5 [00:00<00:00,  6.63it/s]"
     ]
    },
    {
     "output_type": "stream",
     "name": "stdout",
     "text": [
      "\n",
      "Iteration 20/20 of epoch 32 complete. Loss : 0.32847241312265396 \n"
     ]
    },
    {
     "output_type": "stream",
     "name": "stderr",
     "text": [
      "100%|██████████| 5/5 [00:00<00:00,  6.81it/s]\n",
      "  0%|          | 0/20 [00:00<?, ?it/s]"
     ]
    },
    {
     "output_type": "stream",
     "name": "stdout",
     "text": [
      "\n",
      "Epoch 32 complete! Validation Loss : 0.6719767808914184\n",
      "Epoch 32 complete! Validation Accuracy : 0.6081507731958763\n",
      "Best validation loss improved from 0.6736597657203675 to 0.6719767808914184\n",
      "\n"
     ]
    },
    {
     "output_type": "stream",
     "name": "stderr",
     "text": [
      " 25%|██▌       | 5/20 [00:00<00:02,  6.02it/s]"
     ]
    },
    {
     "output_type": "stream",
     "name": "stdout",
     "text": [
      "\n",
      "Iteration 4/20 of epoch 33 complete. Loss : 0.3248658627271652 \n"
     ]
    },
    {
     "output_type": "stream",
     "name": "stderr",
     "text": [
      " 45%|████▌     | 9/20 [00:01<00:01,  6.05it/s]"
     ]
    },
    {
     "output_type": "stream",
     "name": "stdout",
     "text": [
      "\n",
      "Iteration 8/20 of epoch 33 complete. Loss : 0.3271457105875015 \n"
     ]
    },
    {
     "output_type": "stream",
     "name": "stderr",
     "text": [
      " 65%|██████▌   | 13/20 [00:02<00:01,  6.02it/s]"
     ]
    },
    {
     "output_type": "stream",
     "name": "stdout",
     "text": [
      "\n",
      "Iteration 12/20 of epoch 33 complete. Loss : 0.3354937359690666 \n"
     ]
    },
    {
     "output_type": "stream",
     "name": "stderr",
     "text": [
      " 85%|████████▌ | 17/20 [00:02<00:00,  6.03it/s]"
     ]
    },
    {
     "output_type": "stream",
     "name": "stdout",
     "text": [
      "\n",
      "Iteration 16/20 of epoch 33 complete. Loss : 0.3265843167901039 \n"
     ]
    },
    {
     "output_type": "stream",
     "name": "stderr",
     "text": [
      "100%|██████████| 20/20 [00:03<00:00,  6.28it/s]\n",
      " 20%|██        | 1/5 [00:00<00:00,  6.60it/s]"
     ]
    },
    {
     "output_type": "stream",
     "name": "stdout",
     "text": [
      "\n",
      "Iteration 20/20 of epoch 33 complete. Loss : 0.33908382058143616 \n"
     ]
    },
    {
     "output_type": "stream",
     "name": "stderr",
     "text": [
      "100%|██████████| 5/5 [00:00<00:00,  6.76it/s]\n",
      "  5%|▌         | 1/20 [00:00<00:03,  6.10it/s]"
     ]
    },
    {
     "output_type": "stream",
     "name": "stdout",
     "text": [
      "\n",
      "Epoch 33 complete! Validation Loss : 0.671503210067749\n",
      "Epoch 33 complete! Validation Accuracy : 0.6403350515463917\n",
      "Best validation loss improved from 0.6719767808914184 to 0.671503210067749\n",
      "\n"
     ]
    },
    {
     "output_type": "stream",
     "name": "stderr",
     "text": [
      " 25%|██▌       | 5/20 [00:00<00:02,  6.01it/s]"
     ]
    },
    {
     "output_type": "stream",
     "name": "stdout",
     "text": [
      "\n",
      "Iteration 4/20 of epoch 34 complete. Loss : 0.3224950358271599 \n"
     ]
    },
    {
     "output_type": "stream",
     "name": "stderr",
     "text": [
      " 45%|████▌     | 9/20 [00:01<00:01,  6.00it/s]"
     ]
    },
    {
     "output_type": "stream",
     "name": "stdout",
     "text": [
      "\n",
      "Iteration 8/20 of epoch 34 complete. Loss : 0.32429155707359314 \n"
     ]
    },
    {
     "output_type": "stream",
     "name": "stderr",
     "text": [
      " 65%|██████▌   | 13/20 [00:02<00:01,  5.99it/s]"
     ]
    },
    {
     "output_type": "stream",
     "name": "stdout",
     "text": [
      "\n",
      "Iteration 12/20 of epoch 34 complete. Loss : 0.3327226862311363 \n"
     ]
    },
    {
     "output_type": "stream",
     "name": "stderr",
     "text": [
      " 85%|████████▌ | 17/20 [00:02<00:00,  5.99it/s]"
     ]
    },
    {
     "output_type": "stream",
     "name": "stdout",
     "text": [
      "\n",
      "Iteration 16/20 of epoch 34 complete. Loss : 0.32761698961257935 \n"
     ]
    },
    {
     "output_type": "stream",
     "name": "stderr",
     "text": [
      "100%|██████████| 20/20 [00:03<00:00,  6.27it/s]\n",
      " 20%|██        | 1/5 [00:00<00:00,  6.61it/s]"
     ]
    },
    {
     "output_type": "stream",
     "name": "stdout",
     "text": [
      "\n",
      "Iteration 20/20 of epoch 34 complete. Loss : 0.3397642970085144 \n"
     ]
    },
    {
     "output_type": "stream",
     "name": "stderr",
     "text": [
      "100%|██████████| 5/5 [00:00<00:00,  6.79it/s]\n",
      "  5%|▌         | 1/20 [00:00<00:03,  6.06it/s]"
     ]
    },
    {
     "output_type": "stream",
     "name": "stdout",
     "text": [
      "\n",
      "Epoch 34 complete! Validation Loss : 0.6724788069725036\n",
      "Epoch 34 complete! Validation Accuracy : 0.5842139175257731\n"
     ]
    },
    {
     "output_type": "stream",
     "name": "stderr",
     "text": [
      " 25%|██▌       | 5/20 [00:00<00:02,  5.98it/s]"
     ]
    },
    {
     "output_type": "stream",
     "name": "stdout",
     "text": [
      "\n",
      "Iteration 4/20 of epoch 35 complete. Loss : 0.32770417630672455 \n"
     ]
    },
    {
     "output_type": "stream",
     "name": "stderr",
     "text": [
      " 45%|████▌     | 9/20 [00:01<00:01,  5.99it/s]"
     ]
    },
    {
     "output_type": "stream",
     "name": "stdout",
     "text": [
      "\n",
      "Iteration 8/20 of epoch 35 complete. Loss : 0.3231344595551491 \n"
     ]
    },
    {
     "output_type": "stream",
     "name": "stderr",
     "text": [
      " 65%|██████▌   | 13/20 [00:02<00:01,  5.99it/s]"
     ]
    },
    {
     "output_type": "stream",
     "name": "stdout",
     "text": [
      "\n",
      "Iteration 12/20 of epoch 35 complete. Loss : 0.32949212193489075 \n"
     ]
    },
    {
     "output_type": "stream",
     "name": "stderr",
     "text": [
      " 85%|████████▌ | 17/20 [00:02<00:00,  6.00it/s]"
     ]
    },
    {
     "output_type": "stream",
     "name": "stdout",
     "text": [
      "\n",
      "Iteration 16/20 of epoch 35 complete. Loss : 0.3201470747590065 \n"
     ]
    },
    {
     "output_type": "stream",
     "name": "stderr",
     "text": [
      "100%|██████████| 20/20 [00:03<00:00,  6.27it/s]\n",
      " 20%|██        | 1/5 [00:00<00:00,  6.54it/s]"
     ]
    },
    {
     "output_type": "stream",
     "name": "stdout",
     "text": [
      "\n",
      "Iteration 20/20 of epoch 35 complete. Loss : 0.3434689864516258 \n"
     ]
    },
    {
     "output_type": "stream",
     "name": "stderr",
     "text": [
      "100%|██████████| 5/5 [00:00<00:00,  6.81it/s]\n",
      "  5%|▌         | 1/20 [00:00<00:03,  6.04it/s]"
     ]
    },
    {
     "output_type": "stream",
     "name": "stdout",
     "text": [
      "\n",
      "Epoch 35 complete! Validation Loss : 0.6721992015838623\n",
      "Epoch 35 complete! Validation Accuracy : 0.5764014175257731\n"
     ]
    },
    {
     "output_type": "stream",
     "name": "stderr",
     "text": [
      " 25%|██▌       | 5/20 [00:00<00:02,  6.01it/s]"
     ]
    },
    {
     "output_type": "stream",
     "name": "stdout",
     "text": [
      "\n",
      "Iteration 4/20 of epoch 36 complete. Loss : 0.3273538798093796 \n"
     ]
    },
    {
     "output_type": "stream",
     "name": "stderr",
     "text": [
      " 45%|████▌     | 9/20 [00:01<00:01,  6.00it/s]"
     ]
    },
    {
     "output_type": "stream",
     "name": "stdout",
     "text": [
      "\n",
      "Iteration 8/20 of epoch 36 complete. Loss : 0.3212195411324501 \n"
     ]
    },
    {
     "output_type": "stream",
     "name": "stderr",
     "text": [
      " 65%|██████▌   | 13/20 [00:02<00:01,  5.99it/s]"
     ]
    },
    {
     "output_type": "stream",
     "name": "stdout",
     "text": [
      "\n",
      "Iteration 12/20 of epoch 36 complete. Loss : 0.32287903875112534 \n"
     ]
    },
    {
     "output_type": "stream",
     "name": "stderr",
     "text": [
      " 85%|████████▌ | 17/20 [00:02<00:00,  6.02it/s]"
     ]
    },
    {
     "output_type": "stream",
     "name": "stdout",
     "text": [
      "\n",
      "Iteration 16/20 of epoch 36 complete. Loss : 0.32612916082143784 \n"
     ]
    },
    {
     "output_type": "stream",
     "name": "stderr",
     "text": [
      "100%|██████████| 20/20 [00:03<00:00,  6.27it/s]\n",
      " 20%|██        | 1/5 [00:00<00:00,  6.62it/s]"
     ]
    },
    {
     "output_type": "stream",
     "name": "stdout",
     "text": [
      "\n",
      "Iteration 20/20 of epoch 36 complete. Loss : 0.3263574093580246 \n"
     ]
    },
    {
     "output_type": "stream",
     "name": "stderr",
     "text": [
      "100%|██████████| 5/5 [00:00<00:00,  6.77it/s]\n",
      "  0%|          | 0/20 [00:00<?, ?it/s]"
     ]
    },
    {
     "output_type": "stream",
     "name": "stdout",
     "text": [
      "\n",
      "Epoch 36 complete! Validation Loss : 0.6678316354751587\n",
      "Epoch 36 complete! Validation Accuracy : 0.5826514175257731\n",
      "Best validation loss improved from 0.671503210067749 to 0.6678316354751587\n",
      "\n"
     ]
    },
    {
     "output_type": "stream",
     "name": "stderr",
     "text": [
      " 25%|██▌       | 5/20 [00:00<00:02,  6.01it/s]"
     ]
    },
    {
     "output_type": "stream",
     "name": "stdout",
     "text": [
      "\n",
      "Iteration 4/20 of epoch 37 complete. Loss : 0.3213860020041466 \n"
     ]
    },
    {
     "output_type": "stream",
     "name": "stderr",
     "text": [
      " 45%|████▌     | 9/20 [00:01<00:01,  5.97it/s]"
     ]
    },
    {
     "output_type": "stream",
     "name": "stdout",
     "text": [
      "\n",
      "Iteration 8/20 of epoch 37 complete. Loss : 0.3191935271024704 \n"
     ]
    },
    {
     "output_type": "stream",
     "name": "stderr",
     "text": [
      " 65%|██████▌   | 13/20 [00:02<00:01,  5.99it/s]"
     ]
    },
    {
     "output_type": "stream",
     "name": "stdout",
     "text": [
      "\n",
      "Iteration 12/20 of epoch 37 complete. Loss : 0.3213157504796982 \n"
     ]
    },
    {
     "output_type": "stream",
     "name": "stderr",
     "text": [
      " 85%|████████▌ | 17/20 [00:02<00:00,  5.98it/s]"
     ]
    },
    {
     "output_type": "stream",
     "name": "stdout",
     "text": [
      "\n",
      "Iteration 16/20 of epoch 37 complete. Loss : 0.3259657248854637 \n"
     ]
    },
    {
     "output_type": "stream",
     "name": "stderr",
     "text": [
      "100%|██████████| 20/20 [00:03<00:00,  6.26it/s]\n",
      " 20%|██        | 1/5 [00:00<00:00,  6.47it/s]"
     ]
    },
    {
     "output_type": "stream",
     "name": "stdout",
     "text": [
      "\n",
      "Iteration 20/20 of epoch 37 complete. Loss : 0.33410006016492844 \n"
     ]
    },
    {
     "output_type": "stream",
     "name": "stderr",
     "text": [
      "100%|██████████| 5/5 [00:00<00:00,  6.75it/s]\n",
      "  5%|▌         | 1/20 [00:00<00:03,  6.05it/s]"
     ]
    },
    {
     "output_type": "stream",
     "name": "stdout",
     "text": [
      "\n",
      "Epoch 37 complete! Validation Loss : 0.6702283143997192\n",
      "Epoch 37 complete! Validation Accuracy : 0.5484052835051546\n"
     ]
    },
    {
     "output_type": "stream",
     "name": "stderr",
     "text": [
      " 25%|██▌       | 5/20 [00:00<00:02,  6.00it/s]"
     ]
    },
    {
     "output_type": "stream",
     "name": "stdout",
     "text": [
      "\n",
      "Iteration 4/20 of epoch 38 complete. Loss : 0.3203464597463608 \n"
     ]
    },
    {
     "output_type": "stream",
     "name": "stderr",
     "text": [
      " 45%|████▌     | 9/20 [00:01<00:01,  5.99it/s]"
     ]
    },
    {
     "output_type": "stream",
     "name": "stdout",
     "text": [
      "\n",
      "Iteration 8/20 of epoch 38 complete. Loss : 0.32071516662836075 \n"
     ]
    },
    {
     "output_type": "stream",
     "name": "stderr",
     "text": [
      " 65%|██████▌   | 13/20 [00:02<00:01,  5.93it/s]"
     ]
    },
    {
     "output_type": "stream",
     "name": "stdout",
     "text": [
      "\n",
      "Iteration 12/20 of epoch 38 complete. Loss : 0.31924477964639664 \n"
     ]
    },
    {
     "output_type": "stream",
     "name": "stderr",
     "text": [
      " 85%|████████▌ | 17/20 [00:02<00:00,  5.97it/s]"
     ]
    },
    {
     "output_type": "stream",
     "name": "stdout",
     "text": [
      "\n",
      "Iteration 16/20 of epoch 38 complete. Loss : 0.3159514293074608 \n"
     ]
    },
    {
     "output_type": "stream",
     "name": "stderr",
     "text": [
      "100%|██████████| 20/20 [00:03<00:00,  6.25it/s]\n",
      " 20%|██        | 1/5 [00:00<00:00,  6.48it/s]"
     ]
    },
    {
     "output_type": "stream",
     "name": "stdout",
     "text": [
      "\n",
      "Iteration 20/20 of epoch 38 complete. Loss : 0.3304530754685402 \n"
     ]
    },
    {
     "output_type": "stream",
     "name": "stderr",
     "text": [
      "100%|██████████| 5/5 [00:00<00:00,  6.74it/s]\n",
      "  0%|          | 0/20 [00:00<?, ?it/s]"
     ]
    },
    {
     "output_type": "stream",
     "name": "stdout",
     "text": [
      "\n",
      "Epoch 38 complete! Validation Loss : 0.6644556164741516\n",
      "Epoch 38 complete! Validation Accuracy : 0.6190238402061856\n",
      "Best validation loss improved from 0.6678316354751587 to 0.6644556164741516\n",
      "\n"
     ]
    },
    {
     "output_type": "stream",
     "name": "stderr",
     "text": [
      " 25%|██▌       | 5/20 [00:00<00:02,  5.97it/s]"
     ]
    },
    {
     "output_type": "stream",
     "name": "stdout",
     "text": [
      "\n",
      "Iteration 4/20 of epoch 39 complete. Loss : 0.32088183611631393 \n"
     ]
    },
    {
     "output_type": "stream",
     "name": "stderr",
     "text": [
      " 45%|████▌     | 9/20 [00:01<00:01,  6.00it/s]"
     ]
    },
    {
     "output_type": "stream",
     "name": "stdout",
     "text": [
      "\n",
      "Iteration 8/20 of epoch 39 complete. Loss : 0.3167637065052986 \n"
     ]
    },
    {
     "output_type": "stream",
     "name": "stderr",
     "text": [
      " 65%|██████▌   | 13/20 [00:02<00:01,  6.03it/s]"
     ]
    },
    {
     "output_type": "stream",
     "name": "stdout",
     "text": [
      "\n",
      "Iteration 12/20 of epoch 39 complete. Loss : 0.31770841032266617 \n"
     ]
    },
    {
     "output_type": "stream",
     "name": "stderr",
     "text": [
      " 85%|████████▌ | 17/20 [00:02<00:00,  6.00it/s]"
     ]
    },
    {
     "output_type": "stream",
     "name": "stdout",
     "text": [
      "\n",
      "Iteration 16/20 of epoch 39 complete. Loss : 0.31652000546455383 \n"
     ]
    },
    {
     "output_type": "stream",
     "name": "stderr",
     "text": [
      "100%|██████████| 20/20 [00:03<00:00,  6.26it/s]\n",
      " 20%|██        | 1/5 [00:00<00:00,  6.55it/s]"
     ]
    },
    {
     "output_type": "stream",
     "name": "stdout",
     "text": [
      "\n",
      "Iteration 20/20 of epoch 39 complete. Loss : 0.31960317492485046 \n"
     ]
    },
    {
     "output_type": "stream",
     "name": "stderr",
     "text": [
      "100%|██████████| 5/5 [00:00<00:00,  6.76it/s]\n",
      "  5%|▌         | 1/20 [00:00<00:03,  6.04it/s]"
     ]
    },
    {
     "output_type": "stream",
     "name": "stdout",
     "text": [
      "\n",
      "Epoch 39 complete! Validation Loss : 0.6658419966697693\n",
      "Epoch 39 complete! Validation Accuracy : 0.6335856958762887\n"
     ]
    },
    {
     "output_type": "stream",
     "name": "stderr",
     "text": [
      " 25%|██▌       | 5/20 [00:00<00:02,  5.99it/s]"
     ]
    },
    {
     "output_type": "stream",
     "name": "stdout",
     "text": [
      "\n",
      "Iteration 4/20 of epoch 40 complete. Loss : 0.3139185681939125 \n"
     ]
    },
    {
     "output_type": "stream",
     "name": "stderr",
     "text": [
      " 45%|████▌     | 9/20 [00:01<00:01,  6.02it/s]"
     ]
    },
    {
     "output_type": "stream",
     "name": "stdout",
     "text": [
      "\n",
      "Iteration 8/20 of epoch 40 complete. Loss : 0.3191044107079506 \n"
     ]
    },
    {
     "output_type": "stream",
     "name": "stderr",
     "text": [
      " 65%|██████▌   | 13/20 [00:02<00:01,  5.99it/s]"
     ]
    },
    {
     "output_type": "stream",
     "name": "stdout",
     "text": [
      "\n",
      "Iteration 12/20 of epoch 40 complete. Loss : 0.3110891133546829 \n"
     ]
    },
    {
     "output_type": "stream",
     "name": "stderr",
     "text": [
      " 85%|████████▌ | 17/20 [00:02<00:00,  5.98it/s]"
     ]
    },
    {
     "output_type": "stream",
     "name": "stdout",
     "text": [
      "\n",
      "Iteration 16/20 of epoch 40 complete. Loss : 0.3167233243584633 \n"
     ]
    },
    {
     "output_type": "stream",
     "name": "stderr",
     "text": [
      "100%|██████████| 20/20 [00:03<00:00,  6.26it/s]\n",
      " 20%|██        | 1/5 [00:00<00:00,  6.62it/s]"
     ]
    },
    {
     "output_type": "stream",
     "name": "stdout",
     "text": [
      "\n",
      "Iteration 20/20 of epoch 40 complete. Loss : 0.30724769085645676 \n"
     ]
    },
    {
     "output_type": "stream",
     "name": "stderr",
     "text": [
      "100%|██████████| 5/5 [00:00<00:00,  6.74it/s]\n",
      "  5%|▌         | 1/20 [00:00<00:03,  5.87it/s]"
     ]
    },
    {
     "output_type": "stream",
     "name": "stdout",
     "text": [
      "\n",
      "Epoch 40 complete! Validation Loss : 0.6653054475784301\n",
      "Epoch 40 complete! Validation Accuracy : 0.5950869845360824\n"
     ]
    },
    {
     "output_type": "stream",
     "name": "stderr",
     "text": [
      " 25%|██▌       | 5/20 [00:00<00:02,  5.97it/s]"
     ]
    },
    {
     "output_type": "stream",
     "name": "stdout",
     "text": [
      "\n",
      "Iteration 4/20 of epoch 41 complete. Loss : 0.3094760328531265 \n"
     ]
    },
    {
     "output_type": "stream",
     "name": "stderr",
     "text": [
      " 45%|████▌     | 9/20 [00:01<00:01,  5.95it/s]"
     ]
    },
    {
     "output_type": "stream",
     "name": "stdout",
     "text": [
      "\n",
      "Iteration 8/20 of epoch 41 complete. Loss : 0.3144327327609062 \n"
     ]
    },
    {
     "output_type": "stream",
     "name": "stderr",
     "text": [
      " 65%|██████▌   | 13/20 [00:02<00:01,  5.97it/s]"
     ]
    },
    {
     "output_type": "stream",
     "name": "stdout",
     "text": [
      "\n",
      "Iteration 12/20 of epoch 41 complete. Loss : 0.31470082700252533 \n"
     ]
    },
    {
     "output_type": "stream",
     "name": "stderr",
     "text": [
      " 85%|████████▌ | 17/20 [00:02<00:00,  5.96it/s]"
     ]
    },
    {
     "output_type": "stream",
     "name": "stdout",
     "text": [
      "\n",
      "Iteration 16/20 of epoch 41 complete. Loss : 0.3223670870065689 \n"
     ]
    },
    {
     "output_type": "stream",
     "name": "stderr",
     "text": [
      "100%|██████████| 20/20 [00:03<00:00,  6.24it/s]\n",
      " 20%|██        | 1/5 [00:00<00:00,  6.56it/s]"
     ]
    },
    {
     "output_type": "stream",
     "name": "stdout",
     "text": [
      "\n",
      "Iteration 20/20 of epoch 41 complete. Loss : 0.30596281588077545 \n"
     ]
    },
    {
     "output_type": "stream",
     "name": "stderr",
     "text": [
      "100%|██████████| 5/5 [00:00<00:00,  6.77it/s]\n",
      "  5%|▌         | 1/20 [00:00<00:03,  5.88it/s]"
     ]
    },
    {
     "output_type": "stream",
     "name": "stdout",
     "text": [
      "\n",
      "Epoch 41 complete! Validation Loss : 0.6699780106544495\n",
      "Epoch 41 complete! Validation Accuracy : 0.5670908505154639\n"
     ]
    },
    {
     "output_type": "stream",
     "name": "stderr",
     "text": [
      " 25%|██▌       | 5/20 [00:00<00:02,  5.96it/s]"
     ]
    },
    {
     "output_type": "stream",
     "name": "stdout",
     "text": [
      "\n",
      "Iteration 4/20 of epoch 42 complete. Loss : 0.31336510181427 \n"
     ]
    },
    {
     "output_type": "stream",
     "name": "stderr",
     "text": [
      " 45%|████▌     | 9/20 [00:01<00:01,  5.93it/s]"
     ]
    },
    {
     "output_type": "stream",
     "name": "stdout",
     "text": [
      "\n",
      "Iteration 8/20 of epoch 42 complete. Loss : 0.3059571385383606 \n"
     ]
    },
    {
     "output_type": "stream",
     "name": "stderr",
     "text": [
      " 65%|██████▌   | 13/20 [00:02<00:01,  5.94it/s]"
     ]
    },
    {
     "output_type": "stream",
     "name": "stdout",
     "text": [
      "\n",
      "Iteration 12/20 of epoch 42 complete. Loss : 0.3078782856464386 \n"
     ]
    },
    {
     "output_type": "stream",
     "name": "stderr",
     "text": [
      " 85%|████████▌ | 17/20 [00:02<00:00,  5.96it/s]"
     ]
    },
    {
     "output_type": "stream",
     "name": "stdout",
     "text": [
      "\n",
      "Iteration 16/20 of epoch 42 complete. Loss : 0.317368820309639 \n"
     ]
    },
    {
     "output_type": "stream",
     "name": "stderr",
     "text": [
      "100%|██████████| 20/20 [00:03<00:00,  6.23it/s]\n",
      " 20%|██        | 1/5 [00:00<00:00,  6.52it/s]"
     ]
    },
    {
     "output_type": "stream",
     "name": "stdout",
     "text": [
      "\n",
      "Iteration 20/20 of epoch 42 complete. Loss : 0.32306599617004395 \n"
     ]
    },
    {
     "output_type": "stream",
     "name": "stderr",
     "text": [
      "100%|██████████| 5/5 [00:00<00:00,  6.72it/s]\n",
      "  5%|▌         | 1/20 [00:00<00:03,  5.91it/s]"
     ]
    },
    {
     "output_type": "stream",
     "name": "stdout",
     "text": [
      "\n",
      "Epoch 42 complete! Validation Loss : 0.6667395949363708\n",
      "Epoch 42 complete! Validation Accuracy : 0.5951514175257732\n"
     ]
    },
    {
     "output_type": "stream",
     "name": "stderr",
     "text": [
      " 25%|██▌       | 5/20 [00:00<00:02,  5.95it/s]"
     ]
    },
    {
     "output_type": "stream",
     "name": "stdout",
     "text": [
      "\n",
      "Iteration 4/20 of epoch 43 complete. Loss : 0.3081117197871208 \n"
     ]
    },
    {
     "output_type": "stream",
     "name": "stderr",
     "text": [
      " 45%|████▌     | 9/20 [00:01<00:01,  5.93it/s]"
     ]
    },
    {
     "output_type": "stream",
     "name": "stdout",
     "text": [
      "\n",
      "Iteration 8/20 of epoch 43 complete. Loss : 0.31230027228593826 \n"
     ]
    },
    {
     "output_type": "stream",
     "name": "stderr",
     "text": [
      " 65%|██████▌   | 13/20 [00:02<00:01,  5.94it/s]"
     ]
    },
    {
     "output_type": "stream",
     "name": "stdout",
     "text": [
      "\n",
      "Iteration 12/20 of epoch 43 complete. Loss : 0.305266410112381 \n"
     ]
    },
    {
     "output_type": "stream",
     "name": "stderr",
     "text": [
      " 85%|████████▌ | 17/20 [00:02<00:00,  5.93it/s]"
     ]
    },
    {
     "output_type": "stream",
     "name": "stdout",
     "text": [
      "\n",
      "Iteration 16/20 of epoch 43 complete. Loss : 0.3118833601474762 \n"
     ]
    },
    {
     "output_type": "stream",
     "name": "stderr",
     "text": [
      "100%|██████████| 20/20 [00:03<00:00,  6.21it/s]\n",
      " 20%|██        | 1/5 [00:00<00:00,  6.51it/s]"
     ]
    },
    {
     "output_type": "stream",
     "name": "stdout",
     "text": [
      "\n",
      "Iteration 20/20 of epoch 43 complete. Loss : 0.30407270044088364 \n"
     ]
    },
    {
     "output_type": "stream",
     "name": "stderr",
     "text": [
      "100%|██████████| 5/5 [00:00<00:00,  6.73it/s]\n",
      "  5%|▌         | 1/20 [00:00<00:03,  5.99it/s]"
     ]
    },
    {
     "output_type": "stream",
     "name": "stdout",
     "text": [
      "\n",
      "Epoch 43 complete! Validation Loss : 0.6656634449958801\n",
      "Epoch 43 complete! Validation Accuracy : 0.5920264175257731\n"
     ]
    },
    {
     "output_type": "stream",
     "name": "stderr",
     "text": [
      " 25%|██▌       | 5/20 [00:00<00:02,  5.95it/s]"
     ]
    },
    {
     "output_type": "stream",
     "name": "stdout",
     "text": [
      "\n",
      "Iteration 4/20 of epoch 44 complete. Loss : 0.31285957247018814 \n"
     ]
    },
    {
     "output_type": "stream",
     "name": "stderr",
     "text": [
      " 45%|████▌     | 9/20 [00:01<00:01,  5.95it/s]"
     ]
    },
    {
     "output_type": "stream",
     "name": "stdout",
     "text": [
      "\n",
      "Iteration 8/20 of epoch 44 complete. Loss : 0.3020421639084816 \n"
     ]
    },
    {
     "output_type": "stream",
     "name": "stderr",
     "text": [
      " 65%|██████▌   | 13/20 [00:02<00:01,  5.95it/s]"
     ]
    },
    {
     "output_type": "stream",
     "name": "stdout",
     "text": [
      "\n",
      "Iteration 12/20 of epoch 44 complete. Loss : 0.30561134964227676 \n"
     ]
    },
    {
     "output_type": "stream",
     "name": "stderr",
     "text": [
      " 85%|████████▌ | 17/20 [00:02<00:00,  5.97it/s]"
     ]
    },
    {
     "output_type": "stream",
     "name": "stdout",
     "text": [
      "\n",
      "Iteration 16/20 of epoch 44 complete. Loss : 0.3064001351594925 \n"
     ]
    },
    {
     "output_type": "stream",
     "name": "stderr",
     "text": [
      "100%|██████████| 20/20 [00:03<00:00,  6.22it/s]\n",
      " 20%|██        | 1/5 [00:00<00:00,  6.52it/s]"
     ]
    },
    {
     "output_type": "stream",
     "name": "stdout",
     "text": [
      "\n",
      "Iteration 20/20 of epoch 44 complete. Loss : 0.34946078807115555 \n"
     ]
    },
    {
     "output_type": "stream",
     "name": "stderr",
     "text": [
      "100%|██████████| 5/5 [00:00<00:00,  6.70it/s]\n",
      "  5%|▌         | 1/20 [00:00<00:03,  5.81it/s]"
     ]
    },
    {
     "output_type": "stream",
     "name": "stdout",
     "text": [
      "\n",
      "Epoch 44 complete! Validation Loss : 0.6656140446662903\n",
      "Epoch 44 complete! Validation Accuracy : 0.5883376288659794\n"
     ]
    },
    {
     "output_type": "stream",
     "name": "stderr",
     "text": [
      " 25%|██▌       | 5/20 [00:00<00:02,  5.90it/s]"
     ]
    },
    {
     "output_type": "stream",
     "name": "stdout",
     "text": [
      "\n",
      "Iteration 4/20 of epoch 45 complete. Loss : 0.31040170043706894 \n"
     ]
    },
    {
     "output_type": "stream",
     "name": "stderr",
     "text": [
      " 45%|████▌     | 9/20 [00:01<00:01,  5.91it/s]"
     ]
    },
    {
     "output_type": "stream",
     "name": "stdout",
     "text": [
      "\n",
      "Iteration 8/20 of epoch 45 complete. Loss : 0.3054945766925812 \n"
     ]
    },
    {
     "output_type": "stream",
     "name": "stderr",
     "text": [
      " 65%|██████▌   | 13/20 [00:02<00:01,  5.92it/s]"
     ]
    },
    {
     "output_type": "stream",
     "name": "stdout",
     "text": [
      "\n",
      "Iteration 12/20 of epoch 45 complete. Loss : 0.29869069159030914 \n"
     ]
    },
    {
     "output_type": "stream",
     "name": "stderr",
     "text": [
      " 85%|████████▌ | 17/20 [00:02<00:00,  5.91it/s]"
     ]
    },
    {
     "output_type": "stream",
     "name": "stdout",
     "text": [
      "\n",
      "Iteration 16/20 of epoch 45 complete. Loss : 0.29866620153188705 \n"
     ]
    },
    {
     "output_type": "stream",
     "name": "stderr",
     "text": [
      "100%|██████████| 20/20 [00:03<00:00,  6.19it/s]\n",
      " 20%|██        | 1/5 [00:00<00:00,  6.54it/s]"
     ]
    },
    {
     "output_type": "stream",
     "name": "stdout",
     "text": [
      "\n",
      "Iteration 20/20 of epoch 45 complete. Loss : 0.31518319994211197 \n"
     ]
    },
    {
     "output_type": "stream",
     "name": "stderr",
     "text": [
      "100%|██████████| 5/5 [00:00<00:00,  6.67it/s]\n",
      "  0%|          | 0/20 [00:00<?, ?it/s]"
     ]
    },
    {
     "output_type": "stream",
     "name": "stdout",
     "text": [
      "\n",
      "Epoch 45 complete! Validation Loss : 0.6587579488754273\n",
      "Epoch 45 complete! Validation Accuracy : 0.619458762886598\n",
      "Best validation loss improved from 0.6644556164741516 to 0.6587579488754273\n",
      "\n"
     ]
    },
    {
     "output_type": "stream",
     "name": "stderr",
     "text": [
      " 25%|██▌       | 5/20 [00:00<00:02,  5.93it/s]"
     ]
    },
    {
     "output_type": "stream",
     "name": "stdout",
     "text": [
      "\n",
      "Iteration 4/20 of epoch 46 complete. Loss : 0.30823996663093567 \n"
     ]
    },
    {
     "output_type": "stream",
     "name": "stderr",
     "text": [
      " 45%|████▌     | 9/20 [00:01<00:01,  5.95it/s]"
     ]
    },
    {
     "output_type": "stream",
     "name": "stdout",
     "text": [
      "\n",
      "Iteration 8/20 of epoch 46 complete. Loss : 0.301772765815258 \n"
     ]
    },
    {
     "output_type": "stream",
     "name": "stderr",
     "text": [
      " 65%|██████▌   | 13/20 [00:02<00:01,  5.97it/s]"
     ]
    },
    {
     "output_type": "stream",
     "name": "stdout",
     "text": [
      "\n",
      "Iteration 12/20 of epoch 46 complete. Loss : 0.29939135909080505 \n"
     ]
    },
    {
     "output_type": "stream",
     "name": "stderr",
     "text": [
      " 85%|████████▌ | 17/20 [00:02<00:00,  5.94it/s]"
     ]
    },
    {
     "output_type": "stream",
     "name": "stdout",
     "text": [
      "\n",
      "Iteration 16/20 of epoch 46 complete. Loss : 0.30246464163064957 \n"
     ]
    },
    {
     "output_type": "stream",
     "name": "stderr",
     "text": [
      "100%|██████████| 20/20 [00:03<00:00,  6.22it/s]\n",
      " 20%|██        | 1/5 [00:00<00:00,  6.57it/s]"
     ]
    },
    {
     "output_type": "stream",
     "name": "stdout",
     "text": [
      "\n",
      "Iteration 20/20 of epoch 46 complete. Loss : 0.29935843497514725 \n"
     ]
    },
    {
     "output_type": "stream",
     "name": "stderr",
     "text": [
      "100%|██████████| 5/5 [00:00<00:00,  6.67it/s]\n",
      "  5%|▌         | 1/20 [00:00<00:03,  6.02it/s]"
     ]
    },
    {
     "output_type": "stream",
     "name": "stdout",
     "text": [
      "\n",
      "Epoch 46 complete! Validation Loss : 0.6645033597946167\n",
      "Epoch 46 complete! Validation Accuracy : 0.5894007731958764\n"
     ]
    },
    {
     "output_type": "stream",
     "name": "stderr",
     "text": [
      " 25%|██▌       | 5/20 [00:00<00:02,  5.93it/s]"
     ]
    },
    {
     "output_type": "stream",
     "name": "stdout",
     "text": [
      "\n",
      "Iteration 4/20 of epoch 47 complete. Loss : 0.29608825594186783 \n"
     ]
    },
    {
     "output_type": "stream",
     "name": "stderr",
     "text": [
      " 45%|████▌     | 9/20 [00:01<00:01,  5.91it/s]"
     ]
    },
    {
     "output_type": "stream",
     "name": "stdout",
     "text": [
      "\n",
      "Iteration 8/20 of epoch 47 complete. Loss : 0.29521743953227997 \n"
     ]
    },
    {
     "output_type": "stream",
     "name": "stderr",
     "text": [
      " 65%|██████▌   | 13/20 [00:02<00:01,  5.93it/s]"
     ]
    },
    {
     "output_type": "stream",
     "name": "stdout",
     "text": [
      "\n",
      "Iteration 12/20 of epoch 47 complete. Loss : 0.3050987049937248 \n"
     ]
    },
    {
     "output_type": "stream",
     "name": "stderr",
     "text": [
      " 85%|████████▌ | 17/20 [00:02<00:00,  5.94it/s]"
     ]
    },
    {
     "output_type": "stream",
     "name": "stdout",
     "text": [
      "\n",
      "Iteration 16/20 of epoch 47 complete. Loss : 0.3006531521677971 \n"
     ]
    },
    {
     "output_type": "stream",
     "name": "stderr",
     "text": [
      "100%|██████████| 20/20 [00:03<00:00,  6.21it/s]\n",
      " 20%|██        | 1/5 [00:00<00:00,  6.62it/s]"
     ]
    },
    {
     "output_type": "stream",
     "name": "stdout",
     "text": [
      "\n",
      "Iteration 20/20 of epoch 47 complete. Loss : 0.3041422367095947 \n"
     ]
    },
    {
     "output_type": "stream",
     "name": "stderr",
     "text": [
      "100%|██████████| 5/5 [00:00<00:00,  6.73it/s]\n",
      "  5%|▌         | 1/20 [00:00<00:03,  6.00it/s]"
     ]
    },
    {
     "output_type": "stream",
     "name": "stdout",
     "text": [
      "\n",
      "Epoch 47 complete! Validation Loss : 0.6595009922981262\n",
      "Epoch 47 complete! Validation Accuracy : 0.6102126288659794\n"
     ]
    },
    {
     "output_type": "stream",
     "name": "stderr",
     "text": [
      " 25%|██▌       | 5/20 [00:00<00:02,  5.98it/s]"
     ]
    },
    {
     "output_type": "stream",
     "name": "stdout",
     "text": [
      "\n",
      "Iteration 4/20 of epoch 48 complete. Loss : 0.2861451357603073 \n"
     ]
    },
    {
     "output_type": "stream",
     "name": "stderr",
     "text": [
      " 45%|████▌     | 9/20 [00:01<00:01,  5.95it/s]"
     ]
    },
    {
     "output_type": "stream",
     "name": "stdout",
     "text": [
      "\n",
      "Iteration 8/20 of epoch 48 complete. Loss : 0.3002827912569046 \n"
     ]
    },
    {
     "output_type": "stream",
     "name": "stderr",
     "text": [
      " 65%|██████▌   | 13/20 [00:02<00:01,  5.97it/s]"
     ]
    },
    {
     "output_type": "stream",
     "name": "stdout",
     "text": [
      "\n",
      "Iteration 12/20 of epoch 48 complete. Loss : 0.29909007251262665 \n"
     ]
    },
    {
     "output_type": "stream",
     "name": "stderr",
     "text": [
      " 85%|████████▌ | 17/20 [00:02<00:00,  5.99it/s]"
     ]
    },
    {
     "output_type": "stream",
     "name": "stdout",
     "text": [
      "\n",
      "Iteration 16/20 of epoch 48 complete. Loss : 0.2946472689509392 \n"
     ]
    },
    {
     "output_type": "stream",
     "name": "stderr",
     "text": [
      "100%|██████████| 20/20 [00:03<00:00,  6.25it/s]\n",
      " 20%|██        | 1/5 [00:00<00:00,  6.45it/s]"
     ]
    },
    {
     "output_type": "stream",
     "name": "stdout",
     "text": [
      "\n",
      "Iteration 20/20 of epoch 48 complete. Loss : 0.30543114989995956 \n"
     ]
    },
    {
     "output_type": "stream",
     "name": "stderr",
     "text": [
      "100%|██████████| 5/5 [00:00<00:00,  6.66it/s]\n",
      "  5%|▌         | 1/20 [00:00<00:03,  5.82it/s]"
     ]
    },
    {
     "output_type": "stream",
     "name": "stdout",
     "text": [
      "\n",
      "Epoch 48 complete! Validation Loss : 0.6587868809700013\n",
      "Epoch 48 complete! Validation Accuracy : 0.5956507731958763\n"
     ]
    },
    {
     "output_type": "stream",
     "name": "stderr",
     "text": [
      " 25%|██▌       | 5/20 [00:00<00:02,  5.93it/s]"
     ]
    },
    {
     "output_type": "stream",
     "name": "stdout",
     "text": [
      "\n",
      "Iteration 4/20 of epoch 49 complete. Loss : 0.2882704883813858 \n"
     ]
    },
    {
     "output_type": "stream",
     "name": "stderr",
     "text": [
      " 45%|████▌     | 9/20 [00:01<00:01,  5.92it/s]"
     ]
    },
    {
     "output_type": "stream",
     "name": "stdout",
     "text": [
      "\n",
      "Iteration 8/20 of epoch 49 complete. Loss : 0.29509197175502777 \n"
     ]
    },
    {
     "output_type": "stream",
     "name": "stderr",
     "text": [
      " 65%|██████▌   | 13/20 [00:02<00:01,  5.94it/s]"
     ]
    },
    {
     "output_type": "stream",
     "name": "stdout",
     "text": [
      "\n",
      "Iteration 12/20 of epoch 49 complete. Loss : 0.289731502532959 \n"
     ]
    },
    {
     "output_type": "stream",
     "name": "stderr",
     "text": [
      " 85%|████████▌ | 17/20 [00:02<00:00,  5.92it/s]"
     ]
    },
    {
     "output_type": "stream",
     "name": "stdout",
     "text": [
      "\n",
      "Iteration 16/20 of epoch 49 complete. Loss : 0.3028406649827957 \n"
     ]
    },
    {
     "output_type": "stream",
     "name": "stderr",
     "text": [
      "100%|██████████| 20/20 [00:03<00:00,  6.19it/s]\n",
      " 20%|██        | 1/5 [00:00<00:00,  6.64it/s]"
     ]
    },
    {
     "output_type": "stream",
     "name": "stdout",
     "text": [
      "\n",
      "Iteration 20/20 of epoch 49 complete. Loss : 0.2805314213037491 \n"
     ]
    },
    {
     "output_type": "stream",
     "name": "stderr",
     "text": [
      "100%|██████████| 5/5 [00:00<00:00,  6.74it/s]\n",
      "  5%|▌         | 1/20 [00:00<00:03,  5.82it/s]"
     ]
    },
    {
     "output_type": "stream",
     "name": "stdout",
     "text": [
      "\n",
      "Epoch 49 complete! Validation Loss : 0.6606494188308716\n",
      "Epoch 49 complete! Validation Accuracy : 0.6024001288659794\n"
     ]
    },
    {
     "output_type": "stream",
     "name": "stderr",
     "text": [
      " 25%|██▌       | 5/20 [00:00<00:02,  5.91it/s]"
     ]
    },
    {
     "output_type": "stream",
     "name": "stdout",
     "text": [
      "\n",
      "Iteration 4/20 of epoch 50 complete. Loss : 0.28747187554836273 \n"
     ]
    },
    {
     "output_type": "stream",
     "name": "stderr",
     "text": [
      " 45%|████▌     | 9/20 [00:01<00:01,  5.94it/s]"
     ]
    },
    {
     "output_type": "stream",
     "name": "stdout",
     "text": [
      "\n",
      "Iteration 8/20 of epoch 50 complete. Loss : 0.2904198095202446 \n"
     ]
    },
    {
     "output_type": "stream",
     "name": "stderr",
     "text": [
      " 65%|██████▌   | 13/20 [00:02<00:01,  5.90it/s]"
     ]
    },
    {
     "output_type": "stream",
     "name": "stdout",
     "text": [
      "\n",
      "Iteration 12/20 of epoch 50 complete. Loss : 0.2992381826043129 \n"
     ]
    },
    {
     "output_type": "stream",
     "name": "stderr",
     "text": [
      " 85%|████████▌ | 17/20 [00:02<00:00,  5.94it/s]"
     ]
    },
    {
     "output_type": "stream",
     "name": "stdout",
     "text": [
      "\n",
      "Iteration 16/20 of epoch 50 complete. Loss : 0.29566799104213715 \n"
     ]
    },
    {
     "output_type": "stream",
     "name": "stderr",
     "text": [
      "100%|██████████| 20/20 [00:03<00:00,  6.20it/s]\n",
      " 20%|██        | 1/5 [00:00<00:00,  6.59it/s]"
     ]
    },
    {
     "output_type": "stream",
     "name": "stdout",
     "text": [
      "\n",
      "Iteration 20/20 of epoch 50 complete. Loss : 0.29533548653125763 \n"
     ]
    },
    {
     "output_type": "stream",
     "name": "stderr",
     "text": [
      "100%|██████████| 5/5 [00:00<00:00,  6.74it/s]\n",
      "  5%|▌         | 1/20 [00:00<00:03,  5.89it/s]"
     ]
    },
    {
     "output_type": "stream",
     "name": "stdout",
     "text": [
      "\n",
      "Epoch 50 complete! Validation Loss : 0.668474304676056\n",
      "Epoch 50 complete! Validation Accuracy : 0.576965206185567\n"
     ]
    },
    {
     "output_type": "stream",
     "name": "stderr",
     "text": [
      " 25%|██▌       | 5/20 [00:00<00:02,  5.92it/s]"
     ]
    },
    {
     "output_type": "stream",
     "name": "stdout",
     "text": [
      "\n",
      "Iteration 4/20 of epoch 51 complete. Loss : 0.29416215419769287 \n"
     ]
    },
    {
     "output_type": "stream",
     "name": "stderr",
     "text": [
      " 45%|████▌     | 9/20 [00:01<00:01,  5.96it/s]"
     ]
    },
    {
     "output_type": "stream",
     "name": "stdout",
     "text": [
      "\n",
      "Iteration 8/20 of epoch 51 complete. Loss : 0.2913365438580513 \n"
     ]
    },
    {
     "output_type": "stream",
     "name": "stderr",
     "text": [
      " 65%|██████▌   | 13/20 [00:02<00:01,  5.91it/s]"
     ]
    },
    {
     "output_type": "stream",
     "name": "stdout",
     "text": [
      "\n",
      "Iteration 12/20 of epoch 51 complete. Loss : 0.28795329481363297 \n"
     ]
    },
    {
     "output_type": "stream",
     "name": "stderr",
     "text": [
      " 85%|████████▌ | 17/20 [00:02<00:00,  5.92it/s]"
     ]
    },
    {
     "output_type": "stream",
     "name": "stdout",
     "text": [
      "\n",
      "Iteration 16/20 of epoch 51 complete. Loss : 0.2794414460659027 \n"
     ]
    },
    {
     "output_type": "stream",
     "name": "stderr",
     "text": [
      "100%|██████████| 20/20 [00:03<00:00,  6.21it/s]\n",
      " 20%|██        | 1/5 [00:00<00:00,  6.45it/s]"
     ]
    },
    {
     "output_type": "stream",
     "name": "stdout",
     "text": [
      "\n",
      "Iteration 20/20 of epoch 51 complete. Loss : 0.3066455125808716 \n"
     ]
    },
    {
     "output_type": "stream",
     "name": "stderr",
     "text": [
      "100%|██████████| 5/5 [00:00<00:00,  6.73it/s]\n",
      "  5%|▌         | 1/20 [00:00<00:03,  5.75it/s]"
     ]
    },
    {
     "output_type": "stream",
     "name": "stdout",
     "text": [
      "\n",
      "Epoch 51 complete! Validation Loss : 0.6608363270759583\n",
      "Epoch 51 complete! Validation Accuracy : 0.6232119845360825\n"
     ]
    },
    {
     "output_type": "stream",
     "name": "stderr",
     "text": [
      " 25%|██▌       | 5/20 [00:00<00:02,  5.87it/s]"
     ]
    },
    {
     "output_type": "stream",
     "name": "stdout",
     "text": [
      "\n",
      "Iteration 4/20 of epoch 52 complete. Loss : 0.294931098818779 \n"
     ]
    },
    {
     "output_type": "stream",
     "name": "stderr",
     "text": [
      " 45%|████▌     | 9/20 [00:01<00:01,  5.91it/s]"
     ]
    },
    {
     "output_type": "stream",
     "name": "stdout",
     "text": [
      "\n",
      "Iteration 8/20 of epoch 52 complete. Loss : 0.28441811352968216 \n"
     ]
    },
    {
     "output_type": "stream",
     "name": "stderr",
     "text": [
      " 65%|██████▌   | 13/20 [00:02<00:01,  5.90it/s]"
     ]
    },
    {
     "output_type": "stream",
     "name": "stdout",
     "text": [
      "\n",
      "Iteration 12/20 of epoch 52 complete. Loss : 0.2852925658226013 \n"
     ]
    },
    {
     "output_type": "stream",
     "name": "stderr",
     "text": [
      " 85%|████████▌ | 17/20 [00:02<00:00,  5.93it/s]"
     ]
    },
    {
     "output_type": "stream",
     "name": "stdout",
     "text": [
      "\n",
      "Iteration 16/20 of epoch 52 complete. Loss : 0.2867637574672699 \n"
     ]
    },
    {
     "output_type": "stream",
     "name": "stderr",
     "text": [
      "100%|██████████| 20/20 [00:03<00:00,  6.18it/s]\n",
      " 20%|██        | 1/5 [00:00<00:00,  6.42it/s]"
     ]
    },
    {
     "output_type": "stream",
     "name": "stdout",
     "text": [
      "\n",
      "Iteration 20/20 of epoch 52 complete. Loss : 0.27397147566080093 \n"
     ]
    },
    {
     "output_type": "stream",
     "name": "stderr",
     "text": [
      "100%|██████████| 5/5 [00:00<00:00,  6.70it/s]\n",
      "  5%|▌         | 1/20 [00:00<00:03,  6.03it/s]"
     ]
    },
    {
     "output_type": "stream",
     "name": "stdout",
     "text": [
      "\n",
      "Epoch 52 complete! Validation Loss : 0.6588896036148071\n",
      "Epoch 52 complete! Validation Accuracy : 0.6195876288659794\n"
     ]
    },
    {
     "output_type": "stream",
     "name": "stderr",
     "text": [
      " 25%|██▌       | 5/20 [00:00<00:02,  5.98it/s]"
     ]
    },
    {
     "output_type": "stream",
     "name": "stdout",
     "text": [
      "\n",
      "Iteration 4/20 of epoch 53 complete. Loss : 0.2934838607907295 \n"
     ]
    },
    {
     "output_type": "stream",
     "name": "stderr",
     "text": [
      " 45%|████▌     | 9/20 [00:01<00:01,  5.94it/s]"
     ]
    },
    {
     "output_type": "stream",
     "name": "stdout",
     "text": [
      "\n",
      "Iteration 8/20 of epoch 53 complete. Loss : 0.29050806909799576 \n"
     ]
    },
    {
     "output_type": "stream",
     "name": "stderr",
     "text": [
      " 65%|██████▌   | 13/20 [00:02<00:01,  5.94it/s]"
     ]
    },
    {
     "output_type": "stream",
     "name": "stdout",
     "text": [
      "\n",
      "Iteration 12/20 of epoch 53 complete. Loss : 0.27357227355241776 \n"
     ]
    },
    {
     "output_type": "stream",
     "name": "stderr",
     "text": [
      " 85%|████████▌ | 17/20 [00:02<00:00,  5.95it/s]"
     ]
    },
    {
     "output_type": "stream",
     "name": "stdout",
     "text": [
      "\n",
      "Iteration 16/20 of epoch 53 complete. Loss : 0.27749253809452057 \n"
     ]
    },
    {
     "output_type": "stream",
     "name": "stderr",
     "text": [
      "100%|██████████| 20/20 [00:03<00:00,  6.23it/s]\n",
      " 20%|██        | 1/5 [00:00<00:00,  6.36it/s]"
     ]
    },
    {
     "output_type": "stream",
     "name": "stdout",
     "text": [
      "\n",
      "Iteration 20/20 of epoch 53 complete. Loss : 0.3179543539881706 \n"
     ]
    },
    {
     "output_type": "stream",
     "name": "stderr",
     "text": [
      "100%|██████████| 5/5 [00:00<00:00,  6.68it/s]\n",
      "  0%|          | 0/20 [00:00<?, ?it/s]"
     ]
    },
    {
     "output_type": "stream",
     "name": "stdout",
     "text": [
      "\n",
      "Epoch 53 complete! Validation Loss : 0.6571520328521728\n",
      "Epoch 53 complete! Validation Accuracy : 0.6184600515463917\n",
      "Best validation loss improved from 0.6587579488754273 to 0.6571520328521728\n",
      "\n"
     ]
    },
    {
     "output_type": "stream",
     "name": "stderr",
     "text": [
      " 25%|██▌       | 5/20 [00:00<00:02,  5.96it/s]"
     ]
    },
    {
     "output_type": "stream",
     "name": "stdout",
     "text": [
      "\n",
      "Iteration 4/20 of epoch 54 complete. Loss : 0.2775939330458641 \n"
     ]
    },
    {
     "output_type": "stream",
     "name": "stderr",
     "text": [
      " 45%|████▌     | 9/20 [00:01<00:01,  5.91it/s]"
     ]
    },
    {
     "output_type": "stream",
     "name": "stdout",
     "text": [
      "\n",
      "Iteration 8/20 of epoch 54 complete. Loss : 0.2729644253849983 \n"
     ]
    },
    {
     "output_type": "stream",
     "name": "stderr",
     "text": [
      " 65%|██████▌   | 13/20 [00:02<00:01,  5.95it/s]"
     ]
    },
    {
     "output_type": "stream",
     "name": "stdout",
     "text": [
      "\n",
      "Iteration 12/20 of epoch 54 complete. Loss : 0.2729010805487633 \n"
     ]
    },
    {
     "output_type": "stream",
     "name": "stderr",
     "text": [
      " 85%|████████▌ | 17/20 [00:02<00:00,  5.96it/s]"
     ]
    },
    {
     "output_type": "stream",
     "name": "stdout",
     "text": [
      "\n",
      "Iteration 16/20 of epoch 54 complete. Loss : 0.2836121767759323 \n"
     ]
    },
    {
     "output_type": "stream",
     "name": "stderr",
     "text": [
      "100%|██████████| 20/20 [00:03<00:00,  6.22it/s]\n",
      " 20%|██        | 1/5 [00:00<00:00,  6.39it/s]"
     ]
    },
    {
     "output_type": "stream",
     "name": "stdout",
     "text": [
      "\n",
      "Iteration 20/20 of epoch 54 complete. Loss : 0.2973155900835991 \n"
     ]
    },
    {
     "output_type": "stream",
     "name": "stderr",
     "text": [
      "100%|██████████| 5/5 [00:00<00:00,  6.71it/s]\n",
      "  5%|▌         | 1/20 [00:00<00:03,  5.96it/s]"
     ]
    },
    {
     "output_type": "stream",
     "name": "stdout",
     "text": [
      "\n",
      "Epoch 54 complete! Validation Loss : 0.6641498446464539\n",
      "Epoch 54 complete! Validation Accuracy : 0.6143363402061855\n"
     ]
    },
    {
     "output_type": "stream",
     "name": "stderr",
     "text": [
      " 25%|██▌       | 5/20 [00:00<00:02,  5.93it/s]"
     ]
    },
    {
     "output_type": "stream",
     "name": "stdout",
     "text": [
      "\n",
      "Iteration 4/20 of epoch 55 complete. Loss : 0.2780560106039047 \n"
     ]
    },
    {
     "output_type": "stream",
     "name": "stderr",
     "text": [
      " 45%|████▌     | 9/20 [00:01<00:01,  5.90it/s]"
     ]
    },
    {
     "output_type": "stream",
     "name": "stdout",
     "text": [
      "\n",
      "Iteration 8/20 of epoch 55 complete. Loss : 0.27655766904354095 \n"
     ]
    },
    {
     "output_type": "stream",
     "name": "stderr",
     "text": [
      " 65%|██████▌   | 13/20 [00:02<00:01,  5.94it/s]"
     ]
    },
    {
     "output_type": "stream",
     "name": "stdout",
     "text": [
      "\n",
      "Iteration 12/20 of epoch 55 complete. Loss : 0.2823852226138115 \n"
     ]
    },
    {
     "output_type": "stream",
     "name": "stderr",
     "text": [
      " 85%|████████▌ | 17/20 [00:02<00:00,  5.95it/s]"
     ]
    },
    {
     "output_type": "stream",
     "name": "stdout",
     "text": [
      "\n",
      "Iteration 16/20 of epoch 55 complete. Loss : 0.27667975425720215 \n"
     ]
    },
    {
     "output_type": "stream",
     "name": "stderr",
     "text": [
      "100%|██████████| 20/20 [00:03<00:00,  6.22it/s]\n",
      " 20%|██        | 1/5 [00:00<00:00,  6.37it/s]"
     ]
    },
    {
     "output_type": "stream",
     "name": "stdout",
     "text": [
      "\n",
      "Iteration 20/20 of epoch 55 complete. Loss : 0.2998087778687477 \n"
     ]
    },
    {
     "output_type": "stream",
     "name": "stderr",
     "text": [
      "100%|██████████| 5/5 [00:00<00:00,  6.71it/s]\n",
      "  5%|▌         | 1/20 [00:00<00:03,  5.96it/s]"
     ]
    },
    {
     "output_type": "stream",
     "name": "stdout",
     "text": [
      "\n",
      "Epoch 55 complete! Validation Loss : 0.6646843075752258\n",
      "Epoch 55 complete! Validation Accuracy : 0.6164626288659794\n"
     ]
    },
    {
     "output_type": "stream",
     "name": "stderr",
     "text": [
      " 25%|██▌       | 5/20 [00:00<00:02,  5.94it/s]"
     ]
    },
    {
     "output_type": "stream",
     "name": "stdout",
     "text": [
      "\n",
      "Iteration 4/20 of epoch 56 complete. Loss : 0.2764109969139099 \n"
     ]
    },
    {
     "output_type": "stream",
     "name": "stderr",
     "text": [
      " 45%|████▌     | 9/20 [00:01<00:01,  5.91it/s]"
     ]
    },
    {
     "output_type": "stream",
     "name": "stdout",
     "text": [
      "\n",
      "Iteration 8/20 of epoch 56 complete. Loss : 0.2812483012676239 \n"
     ]
    },
    {
     "output_type": "stream",
     "name": "stderr",
     "text": [
      " 65%|██████▌   | 13/20 [00:02<00:01,  5.93it/s]"
     ]
    },
    {
     "output_type": "stream",
     "name": "stdout",
     "text": [
      "\n",
      "Iteration 12/20 of epoch 56 complete. Loss : 0.2816591262817383 \n"
     ]
    },
    {
     "output_type": "stream",
     "name": "stderr",
     "text": [
      " 85%|████████▌ | 17/20 [00:02<00:00,  5.97it/s]"
     ]
    },
    {
     "output_type": "stream",
     "name": "stdout",
     "text": [
      "\n",
      "Iteration 16/20 of epoch 56 complete. Loss : 0.27785880863666534 \n"
     ]
    },
    {
     "output_type": "stream",
     "name": "stderr",
     "text": [
      "100%|██████████| 20/20 [00:03<00:00,  6.21it/s]\n",
      " 20%|██        | 1/5 [00:00<00:00,  6.46it/s]"
     ]
    },
    {
     "output_type": "stream",
     "name": "stdout",
     "text": [
      "\n",
      "Iteration 20/20 of epoch 56 complete. Loss : 0.260334774851799 \n"
     ]
    },
    {
     "output_type": "stream",
     "name": "stderr",
     "text": [
      "100%|██████████| 5/5 [00:00<00:00,  6.74it/s]\n",
      "  5%|▌         | 1/20 [00:00<00:03,  5.96it/s]"
     ]
    },
    {
     "output_type": "stream",
     "name": "stdout",
     "text": [
      "\n",
      "Epoch 56 complete! Validation Loss : 0.6696255803108215\n",
      "Epoch 56 complete! Validation Accuracy : 0.6398356958762886\n"
     ]
    },
    {
     "output_type": "stream",
     "name": "stderr",
     "text": [
      " 25%|██▌       | 5/20 [00:00<00:02,  5.93it/s]"
     ]
    },
    {
     "output_type": "stream",
     "name": "stdout",
     "text": [
      "\n",
      "Iteration 4/20 of epoch 57 complete. Loss : 0.27482882514595985 \n"
     ]
    },
    {
     "output_type": "stream",
     "name": "stderr",
     "text": [
      " 45%|████▌     | 9/20 [00:01<00:01,  5.92it/s]"
     ]
    },
    {
     "output_type": "stream",
     "name": "stdout",
     "text": [
      "\n",
      "Iteration 8/20 of epoch 57 complete. Loss : 0.27645426988601685 \n"
     ]
    },
    {
     "output_type": "stream",
     "name": "stderr",
     "text": [
      " 65%|██████▌   | 13/20 [00:02<00:01,  5.92it/s]"
     ]
    },
    {
     "output_type": "stream",
     "name": "stdout",
     "text": [
      "\n",
      "Iteration 12/20 of epoch 57 complete. Loss : 0.2674533277750015 \n"
     ]
    },
    {
     "output_type": "stream",
     "name": "stderr",
     "text": [
      " 85%|████████▌ | 17/20 [00:02<00:00,  5.93it/s]"
     ]
    },
    {
     "output_type": "stream",
     "name": "stdout",
     "text": [
      "\n",
      "Iteration 16/20 of epoch 57 complete. Loss : 0.28700578957796097 \n"
     ]
    },
    {
     "output_type": "stream",
     "name": "stderr",
     "text": [
      "100%|██████████| 20/20 [00:03<00:00,  6.19it/s]\n",
      " 20%|██        | 1/5 [00:00<00:00,  6.39it/s]"
     ]
    },
    {
     "output_type": "stream",
     "name": "stdout",
     "text": [
      "\n",
      "Iteration 20/20 of epoch 57 complete. Loss : 0.2981617972254753 \n"
     ]
    },
    {
     "output_type": "stream",
     "name": "stderr",
     "text": [
      "100%|██████████| 5/5 [00:00<00:00,  6.71it/s]\n",
      "  5%|▌         | 1/20 [00:00<00:03,  5.93it/s]"
     ]
    },
    {
     "output_type": "stream",
     "name": "stdout",
     "text": [
      "\n",
      "Epoch 57 complete! Validation Loss : 0.7046944975852967\n",
      "Epoch 57 complete! Validation Accuracy : 0.5197164948453608\n"
     ]
    },
    {
     "output_type": "stream",
     "name": "stderr",
     "text": [
      " 25%|██▌       | 5/20 [00:00<00:02,  5.94it/s]"
     ]
    },
    {
     "output_type": "stream",
     "name": "stdout",
     "text": [
      "\n",
      "Iteration 4/20 of epoch 58 complete. Loss : 0.2799350172281265 \n"
     ]
    },
    {
     "output_type": "stream",
     "name": "stderr",
     "text": [
      " 45%|████▌     | 9/20 [00:01<00:01,  5.97it/s]"
     ]
    },
    {
     "output_type": "stream",
     "name": "stdout",
     "text": [
      "\n",
      "Iteration 8/20 of epoch 58 complete. Loss : 0.2983952760696411 \n"
     ]
    },
    {
     "output_type": "stream",
     "name": "stderr",
     "text": [
      " 65%|██████▌   | 13/20 [00:02<00:01,  5.94it/s]"
     ]
    },
    {
     "output_type": "stream",
     "name": "stdout",
     "text": [
      "\n",
      "Iteration 12/20 of epoch 58 complete. Loss : 0.2790084183216095 \n"
     ]
    },
    {
     "output_type": "stream",
     "name": "stderr",
     "text": [
      " 85%|████████▌ | 17/20 [00:02<00:00,  5.95it/s]"
     ]
    },
    {
     "output_type": "stream",
     "name": "stdout",
     "text": [
      "\n",
      "Iteration 16/20 of epoch 58 complete. Loss : 0.2648504339158535 \n"
     ]
    },
    {
     "output_type": "stream",
     "name": "stderr",
     "text": [
      "100%|██████████| 20/20 [00:03<00:00,  6.22it/s]\n",
      " 20%|██        | 1/5 [00:00<00:00,  6.41it/s]"
     ]
    },
    {
     "output_type": "stream",
     "name": "stdout",
     "text": [
      "\n",
      "Iteration 20/20 of epoch 58 complete. Loss : 0.2678610347211361 \n"
     ]
    },
    {
     "output_type": "stream",
     "name": "stderr",
     "text": [
      "100%|██████████| 5/5 [00:00<00:00,  6.69it/s]\n",
      "  5%|▌         | 1/20 [00:00<00:03,  6.02it/s]"
     ]
    },
    {
     "output_type": "stream",
     "name": "stdout",
     "text": [
      "\n",
      "Epoch 58 complete! Validation Loss : 0.6921773552894592\n",
      "Epoch 58 complete! Validation Accuracy : 0.6704574742268041\n"
     ]
    },
    {
     "output_type": "stream",
     "name": "stderr",
     "text": [
      " 25%|██▌       | 5/20 [00:00<00:02,  5.99it/s]"
     ]
    },
    {
     "output_type": "stream",
     "name": "stdout",
     "text": [
      "\n",
      "Iteration 4/20 of epoch 59 complete. Loss : 0.27303677052259445 \n"
     ]
    },
    {
     "output_type": "stream",
     "name": "stderr",
     "text": [
      " 45%|████▌     | 9/20 [00:01<00:01,  5.99it/s]"
     ]
    },
    {
     "output_type": "stream",
     "name": "stdout",
     "text": [
      "\n",
      "Iteration 8/20 of epoch 59 complete. Loss : 0.2944570332765579 \n"
     ]
    },
    {
     "output_type": "stream",
     "name": "stderr",
     "text": [
      " 65%|██████▌   | 13/20 [00:02<00:01,  5.96it/s]"
     ]
    },
    {
     "output_type": "stream",
     "name": "stdout",
     "text": [
      "\n",
      "Iteration 12/20 of epoch 59 complete. Loss : 0.2632596045732498 \n"
     ]
    },
    {
     "output_type": "stream",
     "name": "stderr",
     "text": [
      " 85%|████████▌ | 17/20 [00:02<00:00,  5.94it/s]"
     ]
    },
    {
     "output_type": "stream",
     "name": "stdout",
     "text": [
      "\n",
      "Iteration 16/20 of epoch 59 complete. Loss : 0.25319188833236694 \n"
     ]
    },
    {
     "output_type": "stream",
     "name": "stderr",
     "text": [
      "100%|██████████| 20/20 [00:03<00:00,  6.25it/s]\n",
      " 20%|██        | 1/5 [00:00<00:00,  6.40it/s]"
     ]
    },
    {
     "output_type": "stream",
     "name": "stdout",
     "text": [
      "\n",
      "Iteration 20/20 of epoch 59 complete. Loss : 0.2982926443219185 \n"
     ]
    },
    {
     "output_type": "stream",
     "name": "stderr",
     "text": [
      "100%|██████████| 5/5 [00:00<00:00,  6.69it/s]\n",
      "  5%|▌         | 1/20 [00:00<00:03,  6.02it/s]"
     ]
    },
    {
     "output_type": "stream",
     "name": "stdout",
     "text": [
      "\n",
      "Epoch 59 complete! Validation Loss : 0.6815491199493409\n",
      "Epoch 59 complete! Validation Accuracy : 0.5908988402061855\n"
     ]
    },
    {
     "output_type": "stream",
     "name": "stderr",
     "text": [
      " 25%|██▌       | 5/20 [00:00<00:02,  5.99it/s]"
     ]
    },
    {
     "output_type": "stream",
     "name": "stdout",
     "text": [
      "\n",
      "Iteration 4/20 of epoch 60 complete. Loss : 0.2753414213657379 \n"
     ]
    },
    {
     "output_type": "stream",
     "name": "stderr",
     "text": [
      " 45%|████▌     | 9/20 [00:01<00:01,  5.97it/s]"
     ]
    },
    {
     "output_type": "stream",
     "name": "stdout",
     "text": [
      "\n",
      "Iteration 8/20 of epoch 60 complete. Loss : 0.26022951304912567 \n"
     ]
    },
    {
     "output_type": "stream",
     "name": "stderr",
     "text": [
      " 65%|██████▌   | 13/20 [00:02<00:01,  5.96it/s]"
     ]
    },
    {
     "output_type": "stream",
     "name": "stdout",
     "text": [
      "\n",
      "Iteration 12/20 of epoch 60 complete. Loss : 0.26690252125263214 \n"
     ]
    },
    {
     "output_type": "stream",
     "name": "stderr",
     "text": [
      " 85%|████████▌ | 17/20 [00:02<00:00,  5.94it/s]"
     ]
    },
    {
     "output_type": "stream",
     "name": "stdout",
     "text": [
      "\n",
      "Iteration 16/20 of epoch 60 complete. Loss : 0.27128878235816956 \n"
     ]
    },
    {
     "output_type": "stream",
     "name": "stderr",
     "text": [
      "100%|██████████| 20/20 [00:03<00:00,  6.23it/s]\n",
      " 20%|██        | 1/5 [00:00<00:00,  6.45it/s]"
     ]
    },
    {
     "output_type": "stream",
     "name": "stdout",
     "text": [
      "\n",
      "Iteration 20/20 of epoch 60 complete. Loss : 0.26628246903419495 \n"
     ]
    },
    {
     "output_type": "stream",
     "name": "stderr",
     "text": [
      "100%|██████████| 5/5 [00:00<00:00,  6.74it/s]\n",
      "  5%|▌         | 1/20 [00:00<00:03,  5.99it/s]"
     ]
    },
    {
     "output_type": "stream",
     "name": "stdout",
     "text": [
      "\n",
      "Epoch 60 complete! Validation Loss : 0.6844826459884643\n",
      "Epoch 60 complete! Validation Accuracy : 0.6122744845360825\n"
     ]
    },
    {
     "output_type": "stream",
     "name": "stderr",
     "text": [
      " 25%|██▌       | 5/20 [00:00<00:02,  5.97it/s]"
     ]
    },
    {
     "output_type": "stream",
     "name": "stdout",
     "text": [
      "\n",
      "Iteration 4/20 of epoch 61 complete. Loss : 0.26500246301293373 \n"
     ]
    },
    {
     "output_type": "stream",
     "name": "stderr",
     "text": [
      " 45%|████▌     | 9/20 [00:01<00:01,  5.93it/s]"
     ]
    },
    {
     "output_type": "stream",
     "name": "stdout",
     "text": [
      "\n",
      "Iteration 8/20 of epoch 61 complete. Loss : 0.2677289620041847 \n"
     ]
    },
    {
     "output_type": "stream",
     "name": "stderr",
     "text": [
      " 65%|██████▌   | 13/20 [00:02<00:01,  5.95it/s]"
     ]
    },
    {
     "output_type": "stream",
     "name": "stdout",
     "text": [
      "\n",
      "Iteration 12/20 of epoch 61 complete. Loss : 0.25312260165810585 \n"
     ]
    },
    {
     "output_type": "stream",
     "name": "stderr",
     "text": [
      " 85%|████████▌ | 17/20 [00:02<00:00,  5.95it/s]"
     ]
    },
    {
     "output_type": "stream",
     "name": "stdout",
     "text": [
      "\n",
      "Iteration 16/20 of epoch 61 complete. Loss : 0.26476673781871796 \n"
     ]
    },
    {
     "output_type": "stream",
     "name": "stderr",
     "text": [
      "100%|██████████| 20/20 [00:03<00:00,  6.23it/s]\n",
      " 20%|██        | 1/5 [00:00<00:00,  6.39it/s]"
     ]
    },
    {
     "output_type": "stream",
     "name": "stdout",
     "text": [
      "\n",
      "Iteration 20/20 of epoch 61 complete. Loss : 0.2907189019024372 \n"
     ]
    },
    {
     "output_type": "stream",
     "name": "stderr",
     "text": [
      "100%|██████████| 5/5 [00:00<00:00,  6.69it/s]\n",
      "  5%|▌         | 1/20 [00:00<00:03,  6.03it/s]"
     ]
    },
    {
     "output_type": "stream",
     "name": "stdout",
     "text": [
      "\n",
      "Epoch 61 complete! Validation Loss : 0.6740264177322388\n",
      "Epoch 61 complete! Validation Accuracy : 0.6408344072164949\n"
     ]
    },
    {
     "output_type": "stream",
     "name": "stderr",
     "text": [
      " 25%|██▌       | 5/20 [00:00<00:02,  5.96it/s]"
     ]
    },
    {
     "output_type": "stream",
     "name": "stdout",
     "text": [
      "\n",
      "Iteration 4/20 of epoch 62 complete. Loss : 0.24667539820075035 \n"
     ]
    },
    {
     "output_type": "stream",
     "name": "stderr",
     "text": [
      " 45%|████▌     | 9/20 [00:01<00:01,  5.93it/s]"
     ]
    },
    {
     "output_type": "stream",
     "name": "stdout",
     "text": [
      "\n",
      "Iteration 8/20 of epoch 62 complete. Loss : 0.25888510048389435 \n"
     ]
    },
    {
     "output_type": "stream",
     "name": "stderr",
     "text": [
      " 65%|██████▌   | 13/20 [00:02<00:01,  5.96it/s]"
     ]
    },
    {
     "output_type": "stream",
     "name": "stdout",
     "text": [
      "\n",
      "Iteration 12/20 of epoch 62 complete. Loss : 0.2604110538959503 \n"
     ]
    },
    {
     "output_type": "stream",
     "name": "stderr",
     "text": [
      " 85%|████████▌ | 17/20 [00:02<00:00,  5.92it/s]"
     ]
    },
    {
     "output_type": "stream",
     "name": "stdout",
     "text": [
      "\n",
      "Iteration 16/20 of epoch 62 complete. Loss : 0.26073435321450233 \n"
     ]
    },
    {
     "output_type": "stream",
     "name": "stderr",
     "text": [
      "100%|██████████| 20/20 [00:03<00:00,  6.22it/s]\n",
      " 20%|██        | 1/5 [00:00<00:00,  6.39it/s]"
     ]
    },
    {
     "output_type": "stream",
     "name": "stdout",
     "text": [
      "\n",
      "Iteration 20/20 of epoch 62 complete. Loss : 0.3126029446721077 \n"
     ]
    },
    {
     "output_type": "stream",
     "name": "stderr",
     "text": [
      "100%|██████████| 5/5 [00:00<00:00,  6.70it/s]\n",
      "  5%|▌         | 1/20 [00:00<00:03,  6.00it/s]"
     ]
    },
    {
     "output_type": "stream",
     "name": "stdout",
     "text": [
      "\n",
      "Epoch 62 complete! Validation Loss : 0.6808112859725952\n",
      "Epoch 62 complete! Validation Accuracy : 0.6168975515463917\n"
     ]
    },
    {
     "output_type": "stream",
     "name": "stderr",
     "text": [
      " 25%|██▌       | 5/20 [00:00<00:02,  5.94it/s]"
     ]
    },
    {
     "output_type": "stream",
     "name": "stdout",
     "text": [
      "\n",
      "Iteration 4/20 of epoch 63 complete. Loss : 0.258028045296669 \n"
     ]
    },
    {
     "output_type": "stream",
     "name": "stderr",
     "text": [
      " 45%|████▌     | 9/20 [00:01<00:01,  5.95it/s]"
     ]
    },
    {
     "output_type": "stream",
     "name": "stdout",
     "text": [
      "\n",
      "Iteration 8/20 of epoch 63 complete. Loss : 0.24409737437963486 \n"
     ]
    },
    {
     "output_type": "stream",
     "name": "stderr",
     "text": [
      " 65%|██████▌   | 13/20 [00:02<00:01,  5.93it/s]"
     ]
    },
    {
     "output_type": "stream",
     "name": "stdout",
     "text": [
      "\n",
      "Iteration 12/20 of epoch 63 complete. Loss : 0.25536303222179413 \n"
     ]
    },
    {
     "output_type": "stream",
     "name": "stderr",
     "text": [
      " 85%|████████▌ | 17/20 [00:02<00:00,  5.93it/s]"
     ]
    },
    {
     "output_type": "stream",
     "name": "stdout",
     "text": [
      "\n",
      "Iteration 16/20 of epoch 63 complete. Loss : 0.25958698987960815 \n"
     ]
    },
    {
     "output_type": "stream",
     "name": "stderr",
     "text": [
      "100%|██████████| 20/20 [00:03<00:00,  6.21it/s]\n",
      " 20%|██        | 1/5 [00:00<00:00,  6.38it/s]"
     ]
    },
    {
     "output_type": "stream",
     "name": "stdout",
     "text": [
      "\n",
      "Iteration 20/20 of epoch 63 complete. Loss : 0.27666720747947693 \n"
     ]
    },
    {
     "output_type": "stream",
     "name": "stderr",
     "text": [
      "100%|██████████| 5/5 [00:00<00:00,  6.71it/s]\n",
      "  5%|▌         | 1/20 [00:00<00:03,  5.98it/s]"
     ]
    },
    {
     "output_type": "stream",
     "name": "stdout",
     "text": [
      "\n",
      "Epoch 63 complete! Validation Loss : 0.6822481274604797\n",
      "Epoch 63 complete! Validation Accuracy : 0.6143363402061855\n"
     ]
    },
    {
     "output_type": "stream",
     "name": "stderr",
     "text": [
      " 25%|██▌       | 5/20 [00:00<00:02,  5.97it/s]"
     ]
    },
    {
     "output_type": "stream",
     "name": "stdout",
     "text": [
      "\n",
      "Iteration 4/20 of epoch 64 complete. Loss : 0.25598565489053726 \n"
     ]
    },
    {
     "output_type": "stream",
     "name": "stderr",
     "text": [
      " 45%|████▌     | 9/20 [00:01<00:01,  5.94it/s]"
     ]
    },
    {
     "output_type": "stream",
     "name": "stdout",
     "text": [
      "\n",
      "Iteration 8/20 of epoch 64 complete. Loss : 0.24003328010439873 \n"
     ]
    },
    {
     "output_type": "stream",
     "name": "stderr",
     "text": [
      " 65%|██████▌   | 13/20 [00:02<00:01,  5.95it/s]"
     ]
    },
    {
     "output_type": "stream",
     "name": "stdout",
     "text": [
      "\n",
      "Iteration 12/20 of epoch 64 complete. Loss : 0.2599972002208233 \n"
     ]
    },
    {
     "output_type": "stream",
     "name": "stderr",
     "text": [
      " 85%|████████▌ | 17/20 [00:02<00:00,  5.98it/s]"
     ]
    },
    {
     "output_type": "stream",
     "name": "stdout",
     "text": [
      "\n",
      "Iteration 16/20 of epoch 64 complete. Loss : 0.26350682973861694 \n"
     ]
    },
    {
     "output_type": "stream",
     "name": "stderr",
     "text": [
      "100%|██████████| 20/20 [00:03<00:00,  6.23it/s]\n",
      " 20%|██        | 1/5 [00:00<00:00,  6.40it/s]"
     ]
    },
    {
     "output_type": "stream",
     "name": "stdout",
     "text": [
      "\n",
      "Iteration 20/20 of epoch 64 complete. Loss : 0.2657543234527111 \n"
     ]
    },
    {
     "output_type": "stream",
     "name": "stderr",
     "text": [
      "100%|██████████| 5/5 [00:00<00:00,  6.70it/s]\n",
      "  5%|▌         | 1/20 [00:00<00:03,  5.98it/s]"
     ]
    },
    {
     "output_type": "stream",
     "name": "stdout",
     "text": [
      "\n",
      "Epoch 64 complete! Validation Loss : 0.6968658447265625\n",
      "Epoch 64 complete! Validation Accuracy : 0.6018363402061856\n"
     ]
    },
    {
     "output_type": "stream",
     "name": "stderr",
     "text": [
      " 25%|██▌       | 5/20 [00:00<00:02,  5.98it/s]"
     ]
    },
    {
     "output_type": "stream",
     "name": "stdout",
     "text": [
      "\n",
      "Iteration 4/20 of epoch 65 complete. Loss : 0.24649567157030106 \n"
     ]
    },
    {
     "output_type": "stream",
     "name": "stderr",
     "text": [
      " 45%|████▌     | 9/20 [00:01<00:01,  5.94it/s]"
     ]
    },
    {
     "output_type": "stream",
     "name": "stdout",
     "text": [
      "\n",
      "Iteration 8/20 of epoch 65 complete. Loss : 0.25988833233714104 \n"
     ]
    },
    {
     "output_type": "stream",
     "name": "stderr",
     "text": [
      " 65%|██████▌   | 13/20 [00:02<00:01,  5.95it/s]"
     ]
    },
    {
     "output_type": "stream",
     "name": "stdout",
     "text": [
      "\n",
      "Iteration 12/20 of epoch 65 complete. Loss : 0.2504549212753773 \n"
     ]
    },
    {
     "output_type": "stream",
     "name": "stderr",
     "text": [
      " 85%|████████▌ | 17/20 [00:02<00:00,  5.98it/s]"
     ]
    },
    {
     "output_type": "stream",
     "name": "stdout",
     "text": [
      "\n",
      "Iteration 16/20 of epoch 65 complete. Loss : 0.25856104493141174 \n"
     ]
    },
    {
     "output_type": "stream",
     "name": "stderr",
     "text": [
      "100%|██████████| 20/20 [00:03<00:00,  6.24it/s]\n",
      " 20%|██        | 1/5 [00:00<00:00,  6.45it/s]"
     ]
    },
    {
     "output_type": "stream",
     "name": "stdout",
     "text": [
      "\n",
      "Iteration 20/20 of epoch 65 complete. Loss : 0.2777771055698395 \n"
     ]
    },
    {
     "output_type": "stream",
     "name": "stderr",
     "text": [
      "100%|██████████| 5/5 [00:00<00:00,  6.71it/s]\n",
      "  5%|▌         | 1/20 [00:00<00:03,  6.00it/s]"
     ]
    },
    {
     "output_type": "stream",
     "name": "stdout",
     "text": [
      "\n",
      "Epoch 65 complete! Validation Loss : 0.7038495182991028\n",
      "Epoch 65 complete! Validation Accuracy : 0.6407699742268042\n"
     ]
    },
    {
     "output_type": "stream",
     "name": "stderr",
     "text": [
      " 25%|██▌       | 5/20 [00:00<00:02,  5.93it/s]"
     ]
    },
    {
     "output_type": "stream",
     "name": "stdout",
     "text": [
      "\n",
      "Iteration 4/20 of epoch 66 complete. Loss : 0.26131902262568474 \n"
     ]
    },
    {
     "output_type": "stream",
     "name": "stderr",
     "text": [
      " 45%|████▌     | 9/20 [00:01<00:01,  5.95it/s]"
     ]
    },
    {
     "output_type": "stream",
     "name": "stdout",
     "text": [
      "\n",
      "Iteration 8/20 of epoch 66 complete. Loss : 0.24145587533712387 \n"
     ]
    },
    {
     "output_type": "stream",
     "name": "stderr",
     "text": [
      " 65%|██████▌   | 13/20 [00:02<00:01,  5.96it/s]"
     ]
    },
    {
     "output_type": "stream",
     "name": "stdout",
     "text": [
      "\n",
      "Iteration 12/20 of epoch 66 complete. Loss : 0.24009337648749352 \n"
     ]
    },
    {
     "output_type": "stream",
     "name": "stderr",
     "text": [
      " 85%|████████▌ | 17/20 [00:02<00:00,  6.00it/s]"
     ]
    },
    {
     "output_type": "stream",
     "name": "stdout",
     "text": [
      "\n",
      "Iteration 16/20 of epoch 66 complete. Loss : 0.23948844149708748 \n"
     ]
    },
    {
     "output_type": "stream",
     "name": "stderr",
     "text": [
      "100%|██████████| 20/20 [00:03<00:00,  6.23it/s]\n",
      " 20%|██        | 1/5 [00:00<00:00,  6.59it/s]"
     ]
    },
    {
     "output_type": "stream",
     "name": "stdout",
     "text": [
      "\n",
      "Iteration 20/20 of epoch 66 complete. Loss : 0.232769425958395 \n"
     ]
    },
    {
     "output_type": "stream",
     "name": "stderr",
     "text": [
      "100%|██████████| 5/5 [00:00<00:00,  6.71it/s]\n",
      "  5%|▌         | 1/20 [00:00<00:03,  5.88it/s]"
     ]
    },
    {
     "output_type": "stream",
     "name": "stdout",
     "text": [
      "\n",
      "Epoch 66 complete! Validation Loss : 0.7136175394058227\n",
      "Epoch 66 complete! Validation Accuracy : 0.6278350515463917\n"
     ]
    },
    {
     "output_type": "stream",
     "name": "stderr",
     "text": [
      " 25%|██▌       | 5/20 [00:00<00:02,  5.91it/s]"
     ]
    },
    {
     "output_type": "stream",
     "name": "stdout",
     "text": [
      "\n",
      "Iteration 4/20 of epoch 67 complete. Loss : 0.24659433588385582 \n"
     ]
    },
    {
     "output_type": "stream",
     "name": "stderr",
     "text": [
      " 45%|████▌     | 9/20 [00:01<00:01,  5.94it/s]"
     ]
    },
    {
     "output_type": "stream",
     "name": "stdout",
     "text": [
      "\n",
      "Iteration 8/20 of epoch 67 complete. Loss : 0.23139328882098198 \n"
     ]
    },
    {
     "output_type": "stream",
     "name": "stderr",
     "text": [
      " 65%|██████▌   | 13/20 [00:02<00:01,  5.96it/s]"
     ]
    },
    {
     "output_type": "stream",
     "name": "stdout",
     "text": [
      "\n",
      "Iteration 12/20 of epoch 67 complete. Loss : 0.23731989786028862 \n"
     ]
    },
    {
     "output_type": "stream",
     "name": "stderr",
     "text": [
      " 85%|████████▌ | 17/20 [00:02<00:00,  5.97it/s]"
     ]
    },
    {
     "output_type": "stream",
     "name": "stdout",
     "text": [
      "\n",
      "Iteration 16/20 of epoch 67 complete. Loss : 0.24643436446785927 \n"
     ]
    },
    {
     "output_type": "stream",
     "name": "stderr",
     "text": [
      "100%|██████████| 20/20 [00:03<00:00,  6.22it/s]\n",
      " 20%|██        | 1/5 [00:00<00:00,  6.48it/s]"
     ]
    },
    {
     "output_type": "stream",
     "name": "stdout",
     "text": [
      "\n",
      "Iteration 20/20 of epoch 67 complete. Loss : 0.2313392274081707 \n"
     ]
    },
    {
     "output_type": "stream",
     "name": "stderr",
     "text": [
      "100%|██████████| 5/5 [00:00<00:00,  6.74it/s]\n",
      "  5%|▌         | 1/20 [00:00<00:03,  5.97it/s]"
     ]
    },
    {
     "output_type": "stream",
     "name": "stdout",
     "text": [
      "\n",
      "Epoch 67 complete! Validation Loss : 0.715155827999115\n",
      "Epoch 67 complete! Validation Accuracy : 0.6053962628865979\n"
     ]
    },
    {
     "output_type": "stream",
     "name": "stderr",
     "text": [
      " 25%|██▌       | 5/20 [00:00<00:02,  5.92it/s]"
     ]
    },
    {
     "output_type": "stream",
     "name": "stdout",
     "text": [
      "\n",
      "Iteration 4/20 of epoch 68 complete. Loss : 0.23420250415802002 \n"
     ]
    },
    {
     "output_type": "stream",
     "name": "stderr",
     "text": [
      " 45%|████▌     | 9/20 [00:01<00:01,  5.93it/s]"
     ]
    },
    {
     "output_type": "stream",
     "name": "stdout",
     "text": [
      "\n",
      "Iteration 8/20 of epoch 68 complete. Loss : 0.253839161247015 \n"
     ]
    },
    {
     "output_type": "stream",
     "name": "stderr",
     "text": [
      " 65%|██████▌   | 13/20 [00:02<00:01,  5.94it/s]"
     ]
    },
    {
     "output_type": "stream",
     "name": "stdout",
     "text": [
      "\n",
      "Iteration 12/20 of epoch 68 complete. Loss : 0.2409355491399765 \n"
     ]
    },
    {
     "output_type": "stream",
     "name": "stderr",
     "text": [
      " 85%|████████▌ | 17/20 [00:02<00:00,  5.92it/s]"
     ]
    },
    {
     "output_type": "stream",
     "name": "stdout",
     "text": [
      "\n",
      "Iteration 16/20 of epoch 68 complete. Loss : 0.23001555353403091 \n"
     ]
    },
    {
     "output_type": "stream",
     "name": "stderr",
     "text": [
      "100%|██████████| 20/20 [00:03<00:00,  6.21it/s]\n",
      " 20%|██        | 1/5 [00:00<00:00,  6.46it/s]"
     ]
    },
    {
     "output_type": "stream",
     "name": "stdout",
     "text": [
      "\n",
      "Iteration 20/20 of epoch 68 complete. Loss : 0.2409340851008892 \n"
     ]
    },
    {
     "output_type": "stream",
     "name": "stderr",
     "text": [
      "100%|██████████| 5/5 [00:00<00:00,  6.75it/s]\n",
      "  5%|▌         | 1/20 [00:00<00:03,  5.83it/s]"
     ]
    },
    {
     "output_type": "stream",
     "name": "stdout",
     "text": [
      "\n",
      "Epoch 68 complete! Validation Loss : 0.7248492956161499\n",
      "Epoch 68 complete! Validation Accuracy : 0.6122744845360825\n"
     ]
    },
    {
     "output_type": "stream",
     "name": "stderr",
     "text": [
      " 25%|██▌       | 5/20 [00:00<00:02,  5.92it/s]"
     ]
    },
    {
     "output_type": "stream",
     "name": "stdout",
     "text": [
      "\n",
      "Iteration 4/20 of epoch 69 complete. Loss : 0.23415232077240944 \n"
     ]
    },
    {
     "output_type": "stream",
     "name": "stderr",
     "text": [
      " 45%|████▌     | 9/20 [00:01<00:01,  5.95it/s]"
     ]
    },
    {
     "output_type": "stream",
     "name": "stdout",
     "text": [
      "\n",
      "Iteration 8/20 of epoch 69 complete. Loss : 0.25931933894753456 \n"
     ]
    },
    {
     "output_type": "stream",
     "name": "stderr",
     "text": [
      " 65%|██████▌   | 13/20 [00:02<00:01,  5.97it/s]"
     ]
    },
    {
     "output_type": "stream",
     "name": "stdout",
     "text": [
      "\n",
      "Iteration 12/20 of epoch 69 complete. Loss : 0.22440500184893608 \n"
     ]
    },
    {
     "output_type": "stream",
     "name": "stderr",
     "text": [
      " 85%|████████▌ | 17/20 [00:02<00:00,  5.97it/s]"
     ]
    },
    {
     "output_type": "stream",
     "name": "stdout",
     "text": [
      "\n",
      "Iteration 16/20 of epoch 69 complete. Loss : 0.23835567012429237 \n"
     ]
    },
    {
     "output_type": "stream",
     "name": "stderr",
     "text": [
      "100%|██████████| 20/20 [00:03<00:00,  6.22it/s]\n",
      " 20%|██        | 1/5 [00:00<00:00,  6.61it/s]"
     ]
    },
    {
     "output_type": "stream",
     "name": "stdout",
     "text": [
      "\n",
      "Iteration 20/20 of epoch 69 complete. Loss : 0.24934761226177216 \n"
     ]
    },
    {
     "output_type": "stream",
     "name": "stderr",
     "text": [
      "100%|██████████| 5/5 [00:00<00:00,  6.72it/s]\n",
      "  5%|▌         | 1/20 [00:00<00:03,  5.98it/s]"
     ]
    },
    {
     "output_type": "stream",
     "name": "stdout",
     "text": [
      "\n",
      "Epoch 69 complete! Validation Loss : 0.7338679313659668\n",
      "Epoch 69 complete! Validation Accuracy : 0.6392719072164949\n"
     ]
    },
    {
     "output_type": "stream",
     "name": "stderr",
     "text": [
      " 25%|██▌       | 5/20 [00:00<00:02,  5.95it/s]"
     ]
    },
    {
     "output_type": "stream",
     "name": "stdout",
     "text": [
      "\n",
      "Iteration 4/20 of epoch 70 complete. Loss : 0.23044660687446594 \n"
     ]
    },
    {
     "output_type": "stream",
     "name": "stderr",
     "text": [
      " 45%|████▌     | 9/20 [00:01<00:01,  5.95it/s]"
     ]
    },
    {
     "output_type": "stream",
     "name": "stdout",
     "text": [
      "\n",
      "Iteration 8/20 of epoch 70 complete. Loss : 0.22815586254000664 \n"
     ]
    },
    {
     "output_type": "stream",
     "name": "stderr",
     "text": [
      " 65%|██████▌   | 13/20 [00:02<00:01,  5.97it/s]"
     ]
    },
    {
     "output_type": "stream",
     "name": "stdout",
     "text": [
      "\n",
      "Iteration 12/20 of epoch 70 complete. Loss : 0.22485125064849854 \n"
     ]
    },
    {
     "output_type": "stream",
     "name": "stderr",
     "text": [
      " 85%|████████▌ | 17/20 [00:02<00:00,  5.95it/s]"
     ]
    },
    {
     "output_type": "stream",
     "name": "stdout",
     "text": [
      "\n",
      "Iteration 16/20 of epoch 70 complete. Loss : 0.24370231479406357 \n"
     ]
    },
    {
     "output_type": "stream",
     "name": "stderr",
     "text": [
      "100%|██████████| 20/20 [00:03<00:00,  6.22it/s]\n",
      " 20%|██        | 1/5 [00:00<00:00,  6.59it/s]"
     ]
    },
    {
     "output_type": "stream",
     "name": "stdout",
     "text": [
      "\n",
      "Iteration 20/20 of epoch 70 complete. Loss : 0.25837572664022446 \n"
     ]
    },
    {
     "output_type": "stream",
     "name": "stderr",
     "text": [
      "100%|██████████| 5/5 [00:00<00:00,  6.70it/s]\n",
      "  5%|▌         | 1/20 [00:00<00:03,  5.89it/s]"
     ]
    },
    {
     "output_type": "stream",
     "name": "stdout",
     "text": [
      "\n",
      "Epoch 70 complete! Validation Loss : 0.7427430629730225\n",
      "Epoch 70 complete! Validation Accuracy : 0.6137725515463918\n"
     ]
    },
    {
     "output_type": "stream",
     "name": "stderr",
     "text": [
      " 25%|██▌       | 5/20 [00:00<00:02,  5.93it/s]"
     ]
    },
    {
     "output_type": "stream",
     "name": "stdout",
     "text": [
      "\n",
      "Iteration 4/20 of epoch 71 complete. Loss : 0.22286314889788628 \n"
     ]
    },
    {
     "output_type": "stream",
     "name": "stderr",
     "text": [
      " 45%|████▌     | 9/20 [00:01<00:01,  5.94it/s]"
     ]
    },
    {
     "output_type": "stream",
     "name": "stdout",
     "text": [
      "\n",
      "Iteration 8/20 of epoch 71 complete. Loss : 0.2438526339828968 \n"
     ]
    },
    {
     "output_type": "stream",
     "name": "stderr",
     "text": [
      " 65%|██████▌   | 13/20 [00:02<00:01,  5.93it/s]"
     ]
    },
    {
     "output_type": "stream",
     "name": "stdout",
     "text": [
      "\n",
      "Iteration 12/20 of epoch 71 complete. Loss : 0.21586114540696144 \n"
     ]
    },
    {
     "output_type": "stream",
     "name": "stderr",
     "text": [
      " 85%|████████▌ | 17/20 [00:02<00:00,  5.97it/s]"
     ]
    },
    {
     "output_type": "stream",
     "name": "stdout",
     "text": [
      "\n",
      "Iteration 16/20 of epoch 71 complete. Loss : 0.23457978665828705 \n"
     ]
    },
    {
     "output_type": "stream",
     "name": "stderr",
     "text": [
      "100%|██████████| 20/20 [00:03<00:00,  6.22it/s]\n",
      " 20%|██        | 1/5 [00:00<00:00,  6.61it/s]"
     ]
    },
    {
     "output_type": "stream",
     "name": "stdout",
     "text": [
      "\n",
      "Iteration 20/20 of epoch 71 complete. Loss : 0.22442740201950073 \n"
     ]
    },
    {
     "output_type": "stream",
     "name": "stderr",
     "text": [
      "100%|██████████| 5/5 [00:00<00:00,  6.71it/s]\n",
      "  5%|▌         | 1/20 [00:00<00:03,  5.87it/s]"
     ]
    },
    {
     "output_type": "stream",
     "name": "stdout",
     "text": [
      "\n",
      "Epoch 71 complete! Validation Loss : 0.7532624840736389\n",
      "Epoch 71 complete! Validation Accuracy : 0.6278994845360825\n"
     ]
    },
    {
     "output_type": "stream",
     "name": "stderr",
     "text": [
      " 25%|██▌       | 5/20 [00:00<00:02,  5.93it/s]"
     ]
    },
    {
     "output_type": "stream",
     "name": "stdout",
     "text": [
      "\n",
      "Iteration 4/20 of epoch 72 complete. Loss : 0.24595511704683304 \n"
     ]
    },
    {
     "output_type": "stream",
     "name": "stderr",
     "text": [
      " 45%|████▌     | 9/20 [00:01<00:01,  5.97it/s]"
     ]
    },
    {
     "output_type": "stream",
     "name": "stdout",
     "text": [
      "\n",
      "Iteration 8/20 of epoch 72 complete. Loss : 0.23103898391127586 \n"
     ]
    },
    {
     "output_type": "stream",
     "name": "stderr",
     "text": [
      " 65%|██████▌   | 13/20 [00:02<00:01,  5.92it/s]"
     ]
    },
    {
     "output_type": "stream",
     "name": "stdout",
     "text": [
      "\n",
      "Iteration 12/20 of epoch 72 complete. Loss : 0.22176890075206757 \n"
     ]
    },
    {
     "output_type": "stream",
     "name": "stderr",
     "text": [
      " 85%|████████▌ | 17/20 [00:02<00:00,  5.96it/s]"
     ]
    },
    {
     "output_type": "stream",
     "name": "stdout",
     "text": [
      "\n",
      "Iteration 16/20 of epoch 72 complete. Loss : 0.23086367547512054 \n"
     ]
    },
    {
     "output_type": "stream",
     "name": "stderr",
     "text": [
      "100%|██████████| 20/20 [00:03<00:00,  6.22it/s]\n",
      " 20%|██        | 1/5 [00:00<00:00,  6.62it/s]"
     ]
    },
    {
     "output_type": "stream",
     "name": "stdout",
     "text": [
      "\n",
      "Iteration 20/20 of epoch 72 complete. Loss : 0.23370174318552017 \n"
     ]
    },
    {
     "output_type": "stream",
     "name": "stderr",
     "text": [
      "100%|██████████| 5/5 [00:00<00:00,  6.72it/s]\n",
      "  5%|▌         | 1/20 [00:00<00:03,  5.90it/s]"
     ]
    },
    {
     "output_type": "stream",
     "name": "stdout",
     "text": [
      "\n",
      "Epoch 72 complete! Validation Loss : 0.791646420955658\n",
      "Epoch 72 complete! Validation Accuracy : 0.6497100515463917\n"
     ]
    },
    {
     "output_type": "stream",
     "name": "stderr",
     "text": [
      " 25%|██▌       | 5/20 [00:00<00:02,  5.95it/s]"
     ]
    },
    {
     "output_type": "stream",
     "name": "stdout",
     "text": [
      "\n",
      "Iteration 4/20 of epoch 73 complete. Loss : 0.23828059434890747 \n"
     ]
    },
    {
     "output_type": "stream",
     "name": "stderr",
     "text": [
      " 45%|████▌     | 9/20 [00:01<00:01,  5.94it/s]"
     ]
    },
    {
     "output_type": "stream",
     "name": "stdout",
     "text": [
      "\n",
      "Iteration 8/20 of epoch 73 complete. Loss : 0.26622916385531425 \n"
     ]
    },
    {
     "output_type": "stream",
     "name": "stderr",
     "text": [
      " 65%|██████▌   | 13/20 [00:02<00:01,  5.95it/s]"
     ]
    },
    {
     "output_type": "stream",
     "name": "stdout",
     "text": [
      "\n",
      "Iteration 12/20 of epoch 73 complete. Loss : 0.2360684871673584 \n"
     ]
    },
    {
     "output_type": "stream",
     "name": "stderr",
     "text": [
      " 85%|████████▌ | 17/20 [00:02<00:00,  5.99it/s]"
     ]
    },
    {
     "output_type": "stream",
     "name": "stdout",
     "text": [
      "\n",
      "Iteration 16/20 of epoch 73 complete. Loss : 0.23481324687600136 \n"
     ]
    },
    {
     "output_type": "stream",
     "name": "stderr",
     "text": [
      "100%|██████████| 20/20 [00:03<00:00,  6.24it/s]\n",
      " 20%|██        | 1/5 [00:00<00:00,  6.61it/s]"
     ]
    },
    {
     "output_type": "stream",
     "name": "stdout",
     "text": [
      "\n",
      "Iteration 20/20 of epoch 73 complete. Loss : 0.3539322130382061 \n"
     ]
    },
    {
     "output_type": "stream",
     "name": "stderr",
     "text": [
      "100%|██████████| 5/5 [00:00<00:00,  6.78it/s]\n",
      "  5%|▌         | 1/20 [00:00<00:03,  5.83it/s]"
     ]
    },
    {
     "output_type": "stream",
     "name": "stdout",
     "text": [
      "\n",
      "Epoch 73 complete! Validation Loss : 0.7826972961425781\n",
      "Epoch 73 complete! Validation Accuracy : 0.544152706185567\n"
     ]
    },
    {
     "output_type": "stream",
     "name": "stderr",
     "text": [
      " 25%|██▌       | 5/20 [00:00<00:02,  5.95it/s]"
     ]
    },
    {
     "output_type": "stream",
     "name": "stdout",
     "text": [
      "\n",
      "Iteration 4/20 of epoch 74 complete. Loss : 0.2345966249704361 \n"
     ]
    },
    {
     "output_type": "stream",
     "name": "stderr",
     "text": [
      " 45%|████▌     | 9/20 [00:01<00:01,  5.98it/s]"
     ]
    },
    {
     "output_type": "stream",
     "name": "stdout",
     "text": [
      "\n",
      "Iteration 8/20 of epoch 74 complete. Loss : 0.2166125886142254 \n"
     ]
    },
    {
     "output_type": "stream",
     "name": "stderr",
     "text": [
      " 65%|██████▌   | 13/20 [00:02<00:01,  5.95it/s]"
     ]
    },
    {
     "output_type": "stream",
     "name": "stdout",
     "text": [
      "\n",
      "Iteration 12/20 of epoch 74 complete. Loss : 0.20959056541323662 \n"
     ]
    },
    {
     "output_type": "stream",
     "name": "stderr",
     "text": [
      " 85%|████████▌ | 17/20 [00:02<00:00,  5.92it/s]"
     ]
    },
    {
     "output_type": "stream",
     "name": "stdout",
     "text": [
      "\n",
      "Iteration 16/20 of epoch 74 complete. Loss : 0.23844119161367416 \n"
     ]
    },
    {
     "output_type": "stream",
     "name": "stderr",
     "text": [
      "100%|██████████| 20/20 [00:03<00:00,  6.23it/s]\n",
      " 20%|██        | 1/5 [00:00<00:00,  6.57it/s]"
     ]
    },
    {
     "output_type": "stream",
     "name": "stdout",
     "text": [
      "\n",
      "Iteration 20/20 of epoch 74 complete. Loss : 0.2660953141748905 \n"
     ]
    },
    {
     "output_type": "stream",
     "name": "stderr",
     "text": [
      "100%|██████████| 5/5 [00:00<00:00,  6.72it/s]\n",
      "  5%|▌         | 1/20 [00:00<00:03,  5.88it/s]"
     ]
    },
    {
     "output_type": "stream",
     "name": "stdout",
     "text": [
      "\n",
      "Epoch 74 complete! Validation Loss : 0.7848302960395813\n",
      "Epoch 74 complete! Validation Accuracy : 0.5539626288659794\n"
     ]
    },
    {
     "output_type": "stream",
     "name": "stderr",
     "text": [
      " 25%|██▌       | 5/20 [00:00<00:02,  5.92it/s]"
     ]
    },
    {
     "output_type": "stream",
     "name": "stdout",
     "text": [
      "\n",
      "Iteration 4/20 of epoch 75 complete. Loss : 0.25334862247109413 \n"
     ]
    },
    {
     "output_type": "stream",
     "name": "stderr",
     "text": [
      " 45%|████▌     | 9/20 [00:01<00:01,  5.94it/s]"
     ]
    },
    {
     "output_type": "stream",
     "name": "stdout",
     "text": [
      "\n",
      "Iteration 8/20 of epoch 75 complete. Loss : 0.2549290843307972 \n"
     ]
    },
    {
     "output_type": "stream",
     "name": "stderr",
     "text": [
      " 65%|██████▌   | 13/20 [00:02<00:01,  5.99it/s]"
     ]
    },
    {
     "output_type": "stream",
     "name": "stdout",
     "text": [
      "\n",
      "Iteration 12/20 of epoch 75 complete. Loss : 0.23701564222574234 \n"
     ]
    },
    {
     "output_type": "stream",
     "name": "stderr",
     "text": [
      " 85%|████████▌ | 17/20 [00:02<00:00,  6.01it/s]"
     ]
    },
    {
     "output_type": "stream",
     "name": "stdout",
     "text": [
      "\n",
      "Iteration 16/20 of epoch 75 complete. Loss : 0.2349465824663639 \n"
     ]
    },
    {
     "output_type": "stream",
     "name": "stderr",
     "text": [
      "100%|██████████| 20/20 [00:03<00:00,  6.25it/s]\n",
      " 20%|██        | 1/5 [00:00<00:00,  6.56it/s]"
     ]
    },
    {
     "output_type": "stream",
     "name": "stdout",
     "text": [
      "\n",
      "Iteration 20/20 of epoch 75 complete. Loss : 0.27564430236816406 \n"
     ]
    },
    {
     "output_type": "stream",
     "name": "stderr",
     "text": [
      "100%|██████████| 5/5 [00:00<00:00,  6.75it/s]\n",
      "  5%|▌         | 1/20 [00:00<00:03,  6.06it/s]"
     ]
    },
    {
     "output_type": "stream",
     "name": "stdout",
     "text": [
      "\n",
      "Epoch 75 complete! Validation Loss : 0.7513242244720459\n",
      "Epoch 75 complete! Validation Accuracy : 0.6293975515463918\n"
     ]
    },
    {
     "output_type": "stream",
     "name": "stderr",
     "text": [
      " 25%|██▌       | 5/20 [00:00<00:02,  5.96it/s]"
     ]
    },
    {
     "output_type": "stream",
     "name": "stdout",
     "text": [
      "\n",
      "Iteration 4/20 of epoch 76 complete. Loss : 0.22529049590229988 \n"
     ]
    },
    {
     "output_type": "stream",
     "name": "stderr",
     "text": [
      " 45%|████▌     | 9/20 [00:01<00:01,  5.99it/s]"
     ]
    },
    {
     "output_type": "stream",
     "name": "stdout",
     "text": [
      "\n",
      "Iteration 8/20 of epoch 76 complete. Loss : 0.24403420090675354 \n"
     ]
    },
    {
     "output_type": "stream",
     "name": "stderr",
     "text": [
      " 65%|██████▌   | 13/20 [00:02<00:01,  5.96it/s]"
     ]
    },
    {
     "output_type": "stream",
     "name": "stdout",
     "text": [
      "\n",
      "Iteration 12/20 of epoch 76 complete. Loss : 0.24127516150474548 \n"
     ]
    },
    {
     "output_type": "stream",
     "name": "stderr",
     "text": [
      " 85%|████████▌ | 17/20 [00:02<00:00,  5.98it/s]"
     ]
    },
    {
     "output_type": "stream",
     "name": "stdout",
     "text": [
      "\n",
      "Iteration 16/20 of epoch 76 complete. Loss : 0.21574312821030617 \n"
     ]
    },
    {
     "output_type": "stream",
     "name": "stderr",
     "text": [
      "100%|██████████| 20/20 [00:03<00:00,  6.24it/s]\n",
      " 20%|██        | 1/5 [00:00<00:00,  6.56it/s]"
     ]
    },
    {
     "output_type": "stream",
     "name": "stdout",
     "text": [
      "\n",
      "Iteration 20/20 of epoch 76 complete. Loss : 0.25547777488827705 \n"
     ]
    },
    {
     "output_type": "stream",
     "name": "stderr",
     "text": [
      "100%|██████████| 5/5 [00:00<00:00,  6.74it/s]\n",
      "  5%|▌         | 1/20 [00:00<00:03,  6.05it/s]"
     ]
    },
    {
     "output_type": "stream",
     "name": "stdout",
     "text": [
      "\n",
      "Epoch 76 complete! Validation Loss : 0.7664420127868652\n",
      "Epoch 76 complete! Validation Accuracy : 0.6460212628865979\n"
     ]
    },
    {
     "output_type": "stream",
     "name": "stderr",
     "text": [
      " 25%|██▌       | 5/20 [00:00<00:02,  5.95it/s]"
     ]
    },
    {
     "output_type": "stream",
     "name": "stdout",
     "text": [
      "\n",
      "Iteration 4/20 of epoch 77 complete. Loss : 0.21212642639875412 \n"
     ]
    },
    {
     "output_type": "stream",
     "name": "stderr",
     "text": [
      " 45%|████▌     | 9/20 [00:01<00:01,  5.95it/s]"
     ]
    },
    {
     "output_type": "stream",
     "name": "stdout",
     "text": [
      "\n",
      "Iteration 8/20 of epoch 77 complete. Loss : 0.20491115748882294 \n"
     ]
    },
    {
     "output_type": "stream",
     "name": "stderr",
     "text": [
      " 65%|██████▌   | 13/20 [00:02<00:01,  5.95it/s]"
     ]
    },
    {
     "output_type": "stream",
     "name": "stdout",
     "text": [
      "\n",
      "Iteration 12/20 of epoch 77 complete. Loss : 0.2274327129125595 \n"
     ]
    },
    {
     "output_type": "stream",
     "name": "stderr",
     "text": [
      " 85%|████████▌ | 17/20 [00:02<00:00,  5.95it/s]"
     ]
    },
    {
     "output_type": "stream",
     "name": "stdout",
     "text": [
      "\n",
      "Iteration 16/20 of epoch 77 complete. Loss : 0.22224346548318863 \n"
     ]
    },
    {
     "output_type": "stream",
     "name": "stderr",
     "text": [
      "100%|██████████| 20/20 [00:03<00:00,  6.23it/s]\n",
      " 20%|██        | 1/5 [00:00<00:00,  6.50it/s]"
     ]
    },
    {
     "output_type": "stream",
     "name": "stdout",
     "text": [
      "\n",
      "Iteration 20/20 of epoch 77 complete. Loss : 0.216945081949234 \n"
     ]
    },
    {
     "output_type": "stream",
     "name": "stderr",
     "text": [
      "100%|██████████| 5/5 [00:00<00:00,  6.77it/s]\n",
      "  5%|▌         | 1/20 [00:00<00:03,  6.05it/s]"
     ]
    },
    {
     "output_type": "stream",
     "name": "stdout",
     "text": [
      "\n",
      "Epoch 77 complete! Validation Loss : 0.7658220767974854\n",
      "Epoch 77 complete! Validation Accuracy : 0.635583118556701\n"
     ]
    },
    {
     "output_type": "stream",
     "name": "stderr",
     "text": [
      " 25%|██▌       | 5/20 [00:00<00:02,  5.96it/s]"
     ]
    },
    {
     "output_type": "stream",
     "name": "stdout",
     "text": [
      "\n",
      "Iteration 4/20 of epoch 78 complete. Loss : 0.22718387469649315 \n"
     ]
    },
    {
     "output_type": "stream",
     "name": "stderr",
     "text": [
      " 45%|████▌     | 9/20 [00:01<00:01,  5.99it/s]"
     ]
    },
    {
     "output_type": "stream",
     "name": "stdout",
     "text": [
      "\n",
      "Iteration 8/20 of epoch 78 complete. Loss : 0.21653689816594124 \n"
     ]
    },
    {
     "output_type": "stream",
     "name": "stderr",
     "text": [
      " 65%|██████▌   | 13/20 [00:02<00:01,  5.96it/s]"
     ]
    },
    {
     "output_type": "stream",
     "name": "stdout",
     "text": [
      "\n",
      "Iteration 12/20 of epoch 78 complete. Loss : 0.21083136647939682 \n"
     ]
    },
    {
     "output_type": "stream",
     "name": "stderr",
     "text": [
      " 85%|████████▌ | 17/20 [00:02<00:00,  5.98it/s]"
     ]
    },
    {
     "output_type": "stream",
     "name": "stdout",
     "text": [
      "\n",
      "Iteration 16/20 of epoch 78 complete. Loss : 0.21495170891284943 \n"
     ]
    },
    {
     "output_type": "stream",
     "name": "stderr",
     "text": [
      "100%|██████████| 20/20 [00:03<00:00,  6.24it/s]\n",
      " 20%|██        | 1/5 [00:00<00:00,  6.48it/s]"
     ]
    },
    {
     "output_type": "stream",
     "name": "stdout",
     "text": [
      "\n",
      "Iteration 20/20 of epoch 78 complete. Loss : 0.22842258214950562 \n"
     ]
    },
    {
     "output_type": "stream",
     "name": "stderr",
     "text": [
      "100%|██████████| 5/5 [00:00<00:00,  6.75it/s]\n",
      "  5%|▌         | 1/20 [00:00<00:03,  5.99it/s]"
     ]
    },
    {
     "output_type": "stream",
     "name": "stdout",
     "text": [
      "\n",
      "Epoch 78 complete! Validation Loss : 0.7931692957878113\n",
      "Epoch 78 complete! Validation Accuracy : 0.6470199742268041\n"
     ]
    },
    {
     "output_type": "stream",
     "name": "stderr",
     "text": [
      " 25%|██▌       | 5/20 [00:00<00:02,  5.97it/s]"
     ]
    },
    {
     "output_type": "stream",
     "name": "stdout",
     "text": [
      "\n",
      "Iteration 4/20 of epoch 79 complete. Loss : 0.21293725073337555 \n"
     ]
    },
    {
     "output_type": "stream",
     "name": "stderr",
     "text": [
      " 45%|████▌     | 9/20 [00:01<00:01,  5.98it/s]"
     ]
    },
    {
     "output_type": "stream",
     "name": "stdout",
     "text": [
      "\n",
      "Iteration 8/20 of epoch 79 complete. Loss : 0.2081703171133995 \n"
     ]
    },
    {
     "output_type": "stream",
     "name": "stderr",
     "text": [
      " 65%|██████▌   | 13/20 [00:02<00:01,  5.95it/s]"
     ]
    },
    {
     "output_type": "stream",
     "name": "stdout",
     "text": [
      "\n",
      "Iteration 12/20 of epoch 79 complete. Loss : 0.21148717030882835 \n"
     ]
    },
    {
     "output_type": "stream",
     "name": "stderr",
     "text": [
      " 85%|████████▌ | 17/20 [00:02<00:00,  5.95it/s]"
     ]
    },
    {
     "output_type": "stream",
     "name": "stdout",
     "text": [
      "\n",
      "Iteration 16/20 of epoch 79 complete. Loss : 0.22384484112262726 \n"
     ]
    },
    {
     "output_type": "stream",
     "name": "stderr",
     "text": [
      "100%|██████████| 20/20 [00:03<00:00,  6.22it/s]\n",
      " 20%|██        | 1/5 [00:00<00:00,  6.43it/s]"
     ]
    },
    {
     "output_type": "stream",
     "name": "stdout",
     "text": [
      "\n",
      "Iteration 20/20 of epoch 79 complete. Loss : 0.19662810117006302 \n"
     ]
    },
    {
     "output_type": "stream",
     "name": "stderr",
     "text": [
      "100%|██████████| 5/5 [00:00<00:00,  6.73it/s]\n",
      "  5%|▌         | 1/20 [00:00<00:03,  5.99it/s]"
     ]
    },
    {
     "output_type": "stream",
     "name": "stdout",
     "text": [
      "\n",
      "Epoch 79 complete! Validation Loss : 0.7911466121673584\n",
      "Epoch 79 complete! Validation Accuracy : 0.6247100515463917\n"
     ]
    },
    {
     "output_type": "stream",
     "name": "stderr",
     "text": [
      " 25%|██▌       | 5/20 [00:00<00:02,  5.97it/s]"
     ]
    },
    {
     "output_type": "stream",
     "name": "stdout",
     "text": [
      "\n",
      "Iteration 4/20 of epoch 80 complete. Loss : 0.19910188391804695 \n"
     ]
    },
    {
     "output_type": "stream",
     "name": "stderr",
     "text": [
      " 45%|████▌     | 9/20 [00:01<00:01,  5.97it/s]"
     ]
    },
    {
     "output_type": "stream",
     "name": "stdout",
     "text": [
      "\n",
      "Iteration 8/20 of epoch 80 complete. Loss : 0.21656718477606773 \n"
     ]
    },
    {
     "output_type": "stream",
     "name": "stderr",
     "text": [
      " 65%|██████▌   | 13/20 [00:02<00:01,  5.96it/s]"
     ]
    },
    {
     "output_type": "stream",
     "name": "stdout",
     "text": [
      "\n",
      "Iteration 12/20 of epoch 80 complete. Loss : 0.20504387095570564 \n"
     ]
    },
    {
     "output_type": "stream",
     "name": "stderr",
     "text": [
      " 85%|████████▌ | 17/20 [00:02<00:00,  5.97it/s]"
     ]
    },
    {
     "output_type": "stream",
     "name": "stdout",
     "text": [
      "\n",
      "Iteration 16/20 of epoch 80 complete. Loss : 0.21913476660847664 \n"
     ]
    },
    {
     "output_type": "stream",
     "name": "stderr",
     "text": [
      "100%|██████████| 20/20 [00:03<00:00,  6.23it/s]\n",
      " 20%|██        | 1/5 [00:00<00:00,  6.54it/s]"
     ]
    },
    {
     "output_type": "stream",
     "name": "stdout",
     "text": [
      "\n",
      "Iteration 20/20 of epoch 80 complete. Loss : 0.2326451800763607 \n"
     ]
    },
    {
     "output_type": "stream",
     "name": "stderr",
     "text": [
      "100%|██████████| 5/5 [00:00<00:00,  6.73it/s]\n",
      "  5%|▌         | 1/20 [00:00<00:03,  6.05it/s]"
     ]
    },
    {
     "output_type": "stream",
     "name": "stdout",
     "text": [
      "\n",
      "Epoch 80 complete! Validation Loss : 0.7926997303962707\n",
      "Epoch 80 complete! Validation Accuracy : 0.6049613402061855\n"
     ]
    },
    {
     "output_type": "stream",
     "name": "stderr",
     "text": [
      " 25%|██▌       | 5/20 [00:00<00:02,  5.97it/s]"
     ]
    },
    {
     "output_type": "stream",
     "name": "stdout",
     "text": [
      "\n",
      "Iteration 4/20 of epoch 81 complete. Loss : 0.1964372582733631 \n"
     ]
    },
    {
     "output_type": "stream",
     "name": "stderr",
     "text": [
      " 45%|████▌     | 9/20 [00:01<00:01,  5.93it/s]"
     ]
    },
    {
     "output_type": "stream",
     "name": "stdout",
     "text": [
      "\n",
      "Iteration 8/20 of epoch 81 complete. Loss : 0.21705738827586174 \n"
     ]
    },
    {
     "output_type": "stream",
     "name": "stderr",
     "text": [
      " 65%|██████▌   | 13/20 [00:02<00:01,  5.96it/s]"
     ]
    },
    {
     "output_type": "stream",
     "name": "stdout",
     "text": [
      "\n",
      "Iteration 12/20 of epoch 81 complete. Loss : 0.21156984195113182 \n"
     ]
    },
    {
     "output_type": "stream",
     "name": "stderr",
     "text": [
      " 85%|████████▌ | 17/20 [00:02<00:00,  6.00it/s]"
     ]
    },
    {
     "output_type": "stream",
     "name": "stdout",
     "text": [
      "\n",
      "Iteration 16/20 of epoch 81 complete. Loss : 0.20563649013638496 \n"
     ]
    },
    {
     "output_type": "stream",
     "name": "stderr",
     "text": [
      "100%|██████████| 20/20 [00:03<00:00,  6.24it/s]\n",
      " 20%|██        | 1/5 [00:00<00:00,  6.45it/s]"
     ]
    },
    {
     "output_type": "stream",
     "name": "stdout",
     "text": [
      "\n",
      "Iteration 20/20 of epoch 81 complete. Loss : 0.23012103140354156 \n"
     ]
    },
    {
     "output_type": "stream",
     "name": "stderr",
     "text": [
      "100%|██████████| 5/5 [00:00<00:00,  6.75it/s]\n",
      "  5%|▌         | 1/20 [00:00<00:03,  5.96it/s]"
     ]
    },
    {
     "output_type": "stream",
     "name": "stdout",
     "text": [
      "\n",
      "Epoch 81 complete! Validation Loss : 0.8015059113502503\n",
      "Epoch 81 complete! Validation Accuracy : 0.6126449742268042\n"
     ]
    },
    {
     "output_type": "stream",
     "name": "stderr",
     "text": [
      " 25%|██▌       | 5/20 [00:00<00:02,  5.95it/s]"
     ]
    },
    {
     "output_type": "stream",
     "name": "stdout",
     "text": [
      "\n",
      "Iteration 4/20 of epoch 82 complete. Loss : 0.19819558411836624 \n"
     ]
    },
    {
     "output_type": "stream",
     "name": "stderr",
     "text": [
      " 45%|████▌     | 9/20 [00:01<00:01,  5.91it/s]"
     ]
    },
    {
     "output_type": "stream",
     "name": "stdout",
     "text": [
      "\n",
      "Iteration 8/20 of epoch 82 complete. Loss : 0.21418070793151855 \n"
     ]
    },
    {
     "output_type": "stream",
     "name": "stderr",
     "text": [
      " 65%|██████▌   | 13/20 [00:02<00:01,  5.93it/s]"
     ]
    },
    {
     "output_type": "stream",
     "name": "stdout",
     "text": [
      "\n",
      "Iteration 12/20 of epoch 82 complete. Loss : 0.20494411513209343 \n"
     ]
    },
    {
     "output_type": "stream",
     "name": "stderr",
     "text": [
      " 85%|████████▌ | 17/20 [00:02<00:00,  5.95it/s]"
     ]
    },
    {
     "output_type": "stream",
     "name": "stdout",
     "text": [
      "\n",
      "Iteration 16/20 of epoch 82 complete. Loss : 0.20716065540909767 \n"
     ]
    },
    {
     "output_type": "stream",
     "name": "stderr",
     "text": [
      "100%|██████████| 20/20 [00:03<00:00,  6.20it/s]\n",
      " 20%|██        | 1/5 [00:00<00:00,  6.56it/s]"
     ]
    },
    {
     "output_type": "stream",
     "name": "stdout",
     "text": [
      "\n",
      "Iteration 20/20 of epoch 82 complete. Loss : 0.2619098797440529 \n"
     ]
    },
    {
     "output_type": "stream",
     "name": "stderr",
     "text": [
      "100%|██████████| 5/5 [00:00<00:00,  6.73it/s]\n",
      "  5%|▌         | 1/20 [00:00<00:03,  5.97it/s]"
     ]
    },
    {
     "output_type": "stream",
     "name": "stdout",
     "text": [
      "\n",
      "Epoch 82 complete! Validation Loss : 0.8123775124549866\n",
      "Epoch 82 complete! Validation Accuracy : 0.5767719072164949\n"
     ]
    },
    {
     "output_type": "stream",
     "name": "stderr",
     "text": [
      " 25%|██▌       | 5/20 [00:00<00:02,  5.92it/s]"
     ]
    },
    {
     "output_type": "stream",
     "name": "stdout",
     "text": [
      "\n",
      "Iteration 4/20 of epoch 83 complete. Loss : 0.20046717673540115 \n"
     ]
    },
    {
     "output_type": "stream",
     "name": "stderr",
     "text": [
      " 45%|████▌     | 9/20 [00:01<00:01,  5.90it/s]"
     ]
    },
    {
     "output_type": "stream",
     "name": "stdout",
     "text": [
      "\n",
      "Iteration 8/20 of epoch 83 complete. Loss : 0.19357480481266975 \n"
     ]
    },
    {
     "output_type": "stream",
     "name": "stderr",
     "text": [
      " 65%|██████▌   | 13/20 [00:02<00:01,  5.96it/s]"
     ]
    },
    {
     "output_type": "stream",
     "name": "stdout",
     "text": [
      "\n",
      "Iteration 12/20 of epoch 83 complete. Loss : 0.19848350808024406 \n"
     ]
    },
    {
     "output_type": "stream",
     "name": "stderr",
     "text": [
      " 85%|████████▌ | 17/20 [00:02<00:00,  5.94it/s]"
     ]
    },
    {
     "output_type": "stream",
     "name": "stdout",
     "text": [
      "\n",
      "Iteration 16/20 of epoch 83 complete. Loss : 0.19793785363435745 \n"
     ]
    },
    {
     "output_type": "stream",
     "name": "stderr",
     "text": [
      "100%|██████████| 20/20 [00:03<00:00,  6.20it/s]\n",
      " 20%|██        | 1/5 [00:00<00:00,  6.42it/s]"
     ]
    },
    {
     "output_type": "stream",
     "name": "stdout",
     "text": [
      "\n",
      "Iteration 20/20 of epoch 83 complete. Loss : 0.26344335824251175 \n"
     ]
    },
    {
     "output_type": "stream",
     "name": "stderr",
     "text": [
      "100%|██████████| 5/5 [00:00<00:00,  6.75it/s]\n",
      "  5%|▌         | 1/20 [00:00<00:03,  5.99it/s]"
     ]
    },
    {
     "output_type": "stream",
     "name": "stdout",
     "text": [
      "\n",
      "Epoch 83 complete! Validation Loss : 0.8611952900886536\n",
      "Epoch 83 complete! Validation Accuracy : 0.6252094072164949\n"
     ]
    },
    {
     "output_type": "stream",
     "name": "stderr",
     "text": [
      " 25%|██▌       | 5/20 [00:00<00:02,  5.96it/s]"
     ]
    },
    {
     "output_type": "stream",
     "name": "stdout",
     "text": [
      "\n",
      "Iteration 4/20 of epoch 84 complete. Loss : 0.19526921957731247 \n"
     ]
    },
    {
     "output_type": "stream",
     "name": "stderr",
     "text": [
      " 45%|████▌     | 9/20 [00:01<00:01,  5.96it/s]"
     ]
    },
    {
     "output_type": "stream",
     "name": "stdout",
     "text": [
      "\n",
      "Iteration 8/20 of epoch 84 complete. Loss : 0.22457115352153778 \n"
     ]
    },
    {
     "output_type": "stream",
     "name": "stderr",
     "text": [
      " 65%|██████▌   | 13/20 [00:02<00:01,  6.00it/s]"
     ]
    },
    {
     "output_type": "stream",
     "name": "stdout",
     "text": [
      "\n",
      "Iteration 12/20 of epoch 84 complete. Loss : 0.1935494728386402 \n"
     ]
    },
    {
     "output_type": "stream",
     "name": "stderr",
     "text": [
      " 85%|████████▌ | 17/20 [00:02<00:00,  5.96it/s]"
     ]
    },
    {
     "output_type": "stream",
     "name": "stdout",
     "text": [
      "\n",
      "Iteration 16/20 of epoch 84 complete. Loss : 0.19503744319081306 \n"
     ]
    },
    {
     "output_type": "stream",
     "name": "stderr",
     "text": [
      "100%|██████████| 20/20 [00:03<00:00,  6.25it/s]\n",
      " 20%|██        | 1/5 [00:00<00:00,  6.45it/s]"
     ]
    },
    {
     "output_type": "stream",
     "name": "stdout",
     "text": [
      "\n",
      "Iteration 20/20 of epoch 84 complete. Loss : 0.21810658276081085 \n"
     ]
    },
    {
     "output_type": "stream",
     "name": "stderr",
     "text": [
      "100%|██████████| 5/5 [00:00<00:00,  6.72it/s]\n",
      "  5%|▌         | 1/20 [00:00<00:03,  6.07it/s]"
     ]
    },
    {
     "output_type": "stream",
     "name": "stdout",
     "text": [
      "\n",
      "Epoch 84 complete! Validation Loss : 0.8381766200065612\n",
      "Epoch 84 complete! Validation Accuracy : 0.6080863402061856\n"
     ]
    },
    {
     "output_type": "stream",
     "name": "stderr",
     "text": [
      " 25%|██▌       | 5/20 [00:00<00:02,  5.98it/s]"
     ]
    },
    {
     "output_type": "stream",
     "name": "stdout",
     "text": [
      "\n",
      "Iteration 4/20 of epoch 85 complete. Loss : 0.2050422951579094 \n"
     ]
    },
    {
     "output_type": "stream",
     "name": "stderr",
     "text": [
      " 45%|████▌     | 9/20 [00:01<00:01,  6.01it/s]"
     ]
    },
    {
     "output_type": "stream",
     "name": "stdout",
     "text": [
      "\n",
      "Iteration 8/20 of epoch 85 complete. Loss : 0.18669357150793076 \n"
     ]
    },
    {
     "output_type": "stream",
     "name": "stderr",
     "text": [
      " 65%|██████▌   | 13/20 [00:02<00:01,  5.97it/s]"
     ]
    },
    {
     "output_type": "stream",
     "name": "stdout",
     "text": [
      "\n",
      "Iteration 12/20 of epoch 85 complete. Loss : 0.2011966034770012 \n"
     ]
    },
    {
     "output_type": "stream",
     "name": "stderr",
     "text": [
      " 85%|████████▌ | 17/20 [00:02<00:00,  5.95it/s]"
     ]
    },
    {
     "output_type": "stream",
     "name": "stdout",
     "text": [
      "\n",
      "Iteration 16/20 of epoch 85 complete. Loss : 0.20174042135477066 \n"
     ]
    },
    {
     "output_type": "stream",
     "name": "stderr",
     "text": [
      "100%|██████████| 20/20 [00:03<00:00,  6.25it/s]\n",
      " 20%|██        | 1/5 [00:00<00:00,  6.55it/s]"
     ]
    },
    {
     "output_type": "stream",
     "name": "stdout",
     "text": [
      "\n",
      "Iteration 20/20 of epoch 85 complete. Loss : 0.19824696704745293 \n"
     ]
    },
    {
     "output_type": "stream",
     "name": "stderr",
     "text": [
      "100%|██████████| 5/5 [00:00<00:00,  6.75it/s]\n",
      "  5%|▌         | 1/20 [00:00<00:03,  5.98it/s]"
     ]
    },
    {
     "output_type": "stream",
     "name": "stdout",
     "text": [
      "\n",
      "Epoch 85 complete! Validation Loss : 0.846108901500702\n",
      "Epoch 85 complete! Validation Accuracy : 0.5670264175257731\n"
     ]
    },
    {
     "output_type": "stream",
     "name": "stderr",
     "text": [
      " 25%|██▌       | 5/20 [00:00<00:02,  5.96it/s]"
     ]
    },
    {
     "output_type": "stream",
     "name": "stdout",
     "text": [
      "\n",
      "Iteration 4/20 of epoch 86 complete. Loss : 0.20505159348249435 \n"
     ]
    },
    {
     "output_type": "stream",
     "name": "stderr",
     "text": [
      " 45%|████▌     | 9/20 [00:01<00:01,  5.97it/s]"
     ]
    },
    {
     "output_type": "stream",
     "name": "stdout",
     "text": [
      "\n",
      "Iteration 8/20 of epoch 86 complete. Loss : 0.18287795037031174 \n"
     ]
    },
    {
     "output_type": "stream",
     "name": "stderr",
     "text": [
      " 65%|██████▌   | 13/20 [00:02<00:01,  5.97it/s]"
     ]
    },
    {
     "output_type": "stream",
     "name": "stdout",
     "text": [
      "\n",
      "Iteration 12/20 of epoch 86 complete. Loss : 0.19766507670283318 \n"
     ]
    },
    {
     "output_type": "stream",
     "name": "stderr",
     "text": [
      " 85%|████████▌ | 17/20 [00:02<00:00,  5.98it/s]"
     ]
    },
    {
     "output_type": "stream",
     "name": "stdout",
     "text": [
      "\n",
      "Iteration 16/20 of epoch 86 complete. Loss : 0.1933416873216629 \n"
     ]
    },
    {
     "output_type": "stream",
     "name": "stderr",
     "text": [
      "100%|██████████| 20/20 [00:03<00:00,  6.25it/s]\n",
      " 20%|██        | 1/5 [00:00<00:00,  6.65it/s]"
     ]
    },
    {
     "output_type": "stream",
     "name": "stdout",
     "text": [
      "\n",
      "Iteration 20/20 of epoch 86 complete. Loss : 0.18806849606335163 \n"
     ]
    },
    {
     "output_type": "stream",
     "name": "stderr",
     "text": [
      "100%|██████████| 5/5 [00:00<00:00,  6.75it/s]\n",
      "  5%|▌         | 1/20 [00:00<00:03,  5.83it/s]"
     ]
    },
    {
     "output_type": "stream",
     "name": "stdout",
     "text": [
      "\n",
      "Epoch 86 complete! Validation Loss : 0.8744144439697266\n",
      "Epoch 86 complete! Validation Accuracy : 0.58215206185567\n"
     ]
    },
    {
     "output_type": "stream",
     "name": "stderr",
     "text": [
      " 25%|██▌       | 5/20 [00:00<00:02,  5.97it/s]"
     ]
    },
    {
     "output_type": "stream",
     "name": "stdout",
     "text": [
      "\n",
      "Iteration 4/20 of epoch 87 complete. Loss : 0.19855722784996033 \n"
     ]
    },
    {
     "output_type": "stream",
     "name": "stderr",
     "text": [
      " 45%|████▌     | 9/20 [00:01<00:01,  5.96it/s]"
     ]
    },
    {
     "output_type": "stream",
     "name": "stdout",
     "text": [
      "\n",
      "Iteration 8/20 of epoch 87 complete. Loss : 0.18993105739355087 \n"
     ]
    },
    {
     "output_type": "stream",
     "name": "stderr",
     "text": [
      " 65%|██████▌   | 13/20 [00:02<00:01,  5.98it/s]"
     ]
    },
    {
     "output_type": "stream",
     "name": "stdout",
     "text": [
      "\n",
      "Iteration 12/20 of epoch 87 complete. Loss : 0.19089052081108093 \n"
     ]
    },
    {
     "output_type": "stream",
     "name": "stderr",
     "text": [
      " 85%|████████▌ | 17/20 [00:02<00:00,  5.99it/s]"
     ]
    },
    {
     "output_type": "stream",
     "name": "stdout",
     "text": [
      "\n",
      "Iteration 16/20 of epoch 87 complete. Loss : 0.20328021049499512 \n"
     ]
    },
    {
     "output_type": "stream",
     "name": "stderr",
     "text": [
      "100%|██████████| 20/20 [00:03<00:00,  6.25it/s]\n",
      " 20%|██        | 1/5 [00:00<00:00,  6.53it/s]"
     ]
    },
    {
     "output_type": "stream",
     "name": "stdout",
     "text": [
      "\n",
      "Iteration 20/20 of epoch 87 complete. Loss : 0.22074956819415092 \n"
     ]
    },
    {
     "output_type": "stream",
     "name": "stderr",
     "text": [
      "100%|██████████| 5/5 [00:00<00:00,  6.72it/s]\n",
      "  5%|▌         | 1/20 [00:00<00:03,  5.86it/s]"
     ]
    },
    {
     "output_type": "stream",
     "name": "stdout",
     "text": [
      "\n",
      "Epoch 87 complete! Validation Loss : 0.866256034374237\n",
      "Epoch 87 complete! Validation Accuracy : 0.5841494845360825\n"
     ]
    },
    {
     "output_type": "stream",
     "name": "stderr",
     "text": [
      " 25%|██▌       | 5/20 [00:00<00:02,  5.94it/s]"
     ]
    },
    {
     "output_type": "stream",
     "name": "stdout",
     "text": [
      "\n",
      "Iteration 4/20 of epoch 88 complete. Loss : 0.19602162763476372 \n"
     ]
    },
    {
     "output_type": "stream",
     "name": "stderr",
     "text": [
      " 45%|████▌     | 9/20 [00:01<00:01,  5.98it/s]"
     ]
    },
    {
     "output_type": "stream",
     "name": "stdout",
     "text": [
      "\n",
      "Iteration 8/20 of epoch 88 complete. Loss : 0.18464180082082748 \n"
     ]
    },
    {
     "output_type": "stream",
     "name": "stderr",
     "text": [
      " 65%|██████▌   | 13/20 [00:02<00:01,  6.01it/s]"
     ]
    },
    {
     "output_type": "stream",
     "name": "stdout",
     "text": [
      "\n",
      "Iteration 12/20 of epoch 88 complete. Loss : 0.19297759979963303 \n"
     ]
    },
    {
     "output_type": "stream",
     "name": "stderr",
     "text": [
      " 85%|████████▌ | 17/20 [00:02<00:00,  5.95it/s]"
     ]
    },
    {
     "output_type": "stream",
     "name": "stdout",
     "text": [
      "\n",
      "Iteration 16/20 of epoch 88 complete. Loss : 0.1734687052667141 \n"
     ]
    },
    {
     "output_type": "stream",
     "name": "stderr",
     "text": [
      "100%|██████████| 20/20 [00:03<00:00,  6.25it/s]\n",
      " 20%|██        | 1/5 [00:00<00:00,  6.56it/s]"
     ]
    },
    {
     "output_type": "stream",
     "name": "stdout",
     "text": [
      "\n",
      "Iteration 20/20 of epoch 88 complete. Loss : 0.22500967979431152 \n"
     ]
    },
    {
     "output_type": "stream",
     "name": "stderr",
     "text": [
      "100%|██████████| 5/5 [00:00<00:00,  6.73it/s]\n",
      "  5%|▌         | 1/20 [00:00<00:03,  6.07it/s]"
     ]
    },
    {
     "output_type": "stream",
     "name": "stdout",
     "text": [
      "\n",
      "Epoch 88 complete! Validation Loss : 0.8855401039123535\n",
      "Epoch 88 complete! Validation Accuracy : 0.6023356958762887\n"
     ]
    },
    {
     "output_type": "stream",
     "name": "stderr",
     "text": [
      " 25%|██▌       | 5/20 [00:00<00:02,  6.02it/s]"
     ]
    },
    {
     "output_type": "stream",
     "name": "stdout",
     "text": [
      "\n",
      "Iteration 4/20 of epoch 89 complete. Loss : 0.18822209537029266 \n"
     ]
    },
    {
     "output_type": "stream",
     "name": "stderr",
     "text": [
      " 45%|████▌     | 9/20 [00:01<00:01,  6.02it/s]"
     ]
    },
    {
     "output_type": "stream",
     "name": "stdout",
     "text": [
      "\n",
      "Iteration 8/20 of epoch 89 complete. Loss : 0.2065507061779499 \n"
     ]
    },
    {
     "output_type": "stream",
     "name": "stderr",
     "text": [
      " 65%|██████▌   | 13/20 [00:02<00:01,  5.98it/s]"
     ]
    },
    {
     "output_type": "stream",
     "name": "stdout",
     "text": [
      "\n",
      "Iteration 12/20 of epoch 89 complete. Loss : 0.19895195215940475 \n"
     ]
    },
    {
     "output_type": "stream",
     "name": "stderr",
     "text": [
      " 85%|████████▌ | 17/20 [00:02<00:00,  5.97it/s]"
     ]
    },
    {
     "output_type": "stream",
     "name": "stdout",
     "text": [
      "\n",
      "Iteration 16/20 of epoch 89 complete. Loss : 0.18652180954813957 \n"
     ]
    },
    {
     "output_type": "stream",
     "name": "stderr",
     "text": [
      "100%|██████████| 20/20 [00:03<00:00,  6.27it/s]\n",
      " 20%|██        | 1/5 [00:00<00:00,  6.51it/s]"
     ]
    },
    {
     "output_type": "stream",
     "name": "stdout",
     "text": [
      "\n",
      "Iteration 20/20 of epoch 89 complete. Loss : 0.30447356030344963 \n"
     ]
    },
    {
     "output_type": "stream",
     "name": "stderr",
     "text": [
      "100%|██████████| 5/5 [00:00<00:00,  6.75it/s]\n",
      "  5%|▌         | 1/20 [00:00<00:03,  6.03it/s]"
     ]
    },
    {
     "output_type": "stream",
     "name": "stdout",
     "text": [
      "\n",
      "Epoch 89 complete! Validation Loss : 0.8730387568473816\n",
      "Epoch 89 complete! Validation Accuracy : 0.5903994845360825\n"
     ]
    },
    {
     "output_type": "stream",
     "name": "stderr",
     "text": [
      " 25%|██▌       | 5/20 [00:00<00:02,  5.96it/s]"
     ]
    },
    {
     "output_type": "stream",
     "name": "stdout",
     "text": [
      "\n",
      "Iteration 4/20 of epoch 90 complete. Loss : 0.1773914359509945 \n"
     ]
    },
    {
     "output_type": "stream",
     "name": "stderr",
     "text": [
      " 45%|████▌     | 9/20 [00:01<00:01,  6.00it/s]"
     ]
    },
    {
     "output_type": "stream",
     "name": "stdout",
     "text": [
      "\n",
      "Iteration 8/20 of epoch 90 complete. Loss : 0.19027303531765938 \n"
     ]
    },
    {
     "output_type": "stream",
     "name": "stderr",
     "text": [
      " 65%|██████▌   | 13/20 [00:02<00:01,  5.97it/s]"
     ]
    },
    {
     "output_type": "stream",
     "name": "stdout",
     "text": [
      "\n",
      "Iteration 12/20 of epoch 90 complete. Loss : 0.18178964033722878 \n"
     ]
    },
    {
     "output_type": "stream",
     "name": "stderr",
     "text": [
      " 85%|████████▌ | 17/20 [00:02<00:00,  5.98it/s]"
     ]
    },
    {
     "output_type": "stream",
     "name": "stdout",
     "text": [
      "\n",
      "Iteration 16/20 of epoch 90 complete. Loss : 0.1836179904639721 \n"
     ]
    },
    {
     "output_type": "stream",
     "name": "stderr",
     "text": [
      "100%|██████████| 20/20 [00:03<00:00,  6.25it/s]\n",
      " 20%|██        | 1/5 [00:00<00:00,  6.55it/s]"
     ]
    },
    {
     "output_type": "stream",
     "name": "stdout",
     "text": [
      "\n",
      "Iteration 20/20 of epoch 90 complete. Loss : 0.19355253502726555 \n"
     ]
    },
    {
     "output_type": "stream",
     "name": "stderr",
     "text": [
      "100%|██████████| 5/5 [00:00<00:00,  6.80it/s]\n",
      "  5%|▌         | 1/20 [00:00<00:03,  5.98it/s]"
     ]
    },
    {
     "output_type": "stream",
     "name": "stdout",
     "text": [
      "\n",
      "Epoch 90 complete! Validation Loss : 0.8911852955818176\n",
      "Epoch 90 complete! Validation Accuracy : 0.5925257731958763\n"
     ]
    },
    {
     "output_type": "stream",
     "name": "stderr",
     "text": [
      " 25%|██▌       | 5/20 [00:00<00:02,  5.97it/s]"
     ]
    },
    {
     "output_type": "stream",
     "name": "stdout",
     "text": [
      "\n",
      "Iteration 4/20 of epoch 91 complete. Loss : 0.1620486043393612 \n"
     ]
    },
    {
     "output_type": "stream",
     "name": "stderr",
     "text": [
      " 45%|████▌     | 9/20 [00:01<00:01,  5.97it/s]"
     ]
    },
    {
     "output_type": "stream",
     "name": "stdout",
     "text": [
      "\n",
      "Iteration 8/20 of epoch 91 complete. Loss : 0.1863482967019081 \n"
     ]
    },
    {
     "output_type": "stream",
     "name": "stderr",
     "text": [
      " 65%|██████▌   | 13/20 [00:02<00:01,  5.99it/s]"
     ]
    },
    {
     "output_type": "stream",
     "name": "stdout",
     "text": [
      "\n",
      "Iteration 12/20 of epoch 91 complete. Loss : 0.18625787645578384 \n"
     ]
    },
    {
     "output_type": "stream",
     "name": "stderr",
     "text": [
      " 85%|████████▌ | 17/20 [00:02<00:00,  6.01it/s]"
     ]
    },
    {
     "output_type": "stream",
     "name": "stdout",
     "text": [
      "\n",
      "Iteration 16/20 of epoch 91 complete. Loss : 0.18166138231754303 \n"
     ]
    },
    {
     "output_type": "stream",
     "name": "stderr",
     "text": [
      "100%|██████████| 20/20 [00:03<00:00,  6.25it/s]\n",
      " 20%|██        | 1/5 [00:00<00:00,  6.55it/s]"
     ]
    },
    {
     "output_type": "stream",
     "name": "stdout",
     "text": [
      "\n",
      "Iteration 20/20 of epoch 91 complete. Loss : 0.1948009878396988 \n"
     ]
    },
    {
     "output_type": "stream",
     "name": "stderr",
     "text": [
      "100%|██████████| 5/5 [00:00<00:00,  6.74it/s]\n",
      "  5%|▌         | 1/20 [00:00<00:03,  6.00it/s]"
     ]
    },
    {
     "output_type": "stream",
     "name": "stdout",
     "text": [
      "\n",
      "Epoch 91 complete! Validation Loss : 0.9066537857055664\n",
      "Epoch 91 complete! Validation Accuracy : 0.5846488402061856\n"
     ]
    },
    {
     "output_type": "stream",
     "name": "stderr",
     "text": [
      " 25%|██▌       | 5/20 [00:00<00:02,  5.95it/s]"
     ]
    },
    {
     "output_type": "stream",
     "name": "stdout",
     "text": [
      "\n",
      "Iteration 4/20 of epoch 92 complete. Loss : 0.19966939464211464 \n"
     ]
    },
    {
     "output_type": "stream",
     "name": "stderr",
     "text": [
      " 45%|████▌     | 9/20 [00:01<00:01,  5.97it/s]"
     ]
    },
    {
     "output_type": "stream",
     "name": "stdout",
     "text": [
      "\n",
      "Iteration 8/20 of epoch 92 complete. Loss : 0.18063219636678696 \n"
     ]
    },
    {
     "output_type": "stream",
     "name": "stderr",
     "text": [
      " 65%|██████▌   | 13/20 [00:02<00:01,  5.97it/s]"
     ]
    },
    {
     "output_type": "stream",
     "name": "stdout",
     "text": [
      "\n",
      "Iteration 12/20 of epoch 92 complete. Loss : 0.181582722812891 \n"
     ]
    },
    {
     "output_type": "stream",
     "name": "stderr",
     "text": [
      " 85%|████████▌ | 17/20 [00:02<00:00,  5.94it/s]"
     ]
    },
    {
     "output_type": "stream",
     "name": "stdout",
     "text": [
      "\n",
      "Iteration 16/20 of epoch 92 complete. Loss : 0.18621383234858513 \n"
     ]
    },
    {
     "output_type": "stream",
     "name": "stderr",
     "text": [
      "100%|██████████| 20/20 [00:03<00:00,  6.22it/s]\n",
      " 20%|██        | 1/5 [00:00<00:00,  6.54it/s]"
     ]
    },
    {
     "output_type": "stream",
     "name": "stdout",
     "text": [
      "\n",
      "Iteration 20/20 of epoch 92 complete. Loss : 0.1868276111781597 \n"
     ]
    },
    {
     "output_type": "stream",
     "name": "stderr",
     "text": [
      "100%|██████████| 5/5 [00:00<00:00,  6.74it/s]\n",
      "  5%|▌         | 1/20 [00:00<00:03,  5.98it/s]"
     ]
    },
    {
     "output_type": "stream",
     "name": "stdout",
     "text": [
      "\n",
      "Epoch 92 complete! Validation Loss : 0.9202148199081421\n",
      "Epoch 92 complete! Validation Accuracy : 0.5690882731958763\n"
     ]
    },
    {
     "output_type": "stream",
     "name": "stderr",
     "text": [
      " 25%|██▌       | 5/20 [00:00<00:02,  6.00it/s]"
     ]
    },
    {
     "output_type": "stream",
     "name": "stdout",
     "text": [
      "\n",
      "Iteration 4/20 of epoch 93 complete. Loss : 0.18273163959383965 \n"
     ]
    },
    {
     "output_type": "stream",
     "name": "stderr",
     "text": [
      " 45%|████▌     | 9/20 [00:01<00:01,  5.97it/s]"
     ]
    },
    {
     "output_type": "stream",
     "name": "stdout",
     "text": [
      "\n",
      "Iteration 8/20 of epoch 93 complete. Loss : 0.17590436711907387 \n"
     ]
    },
    {
     "output_type": "stream",
     "name": "stderr",
     "text": [
      " 65%|██████▌   | 13/20 [00:02<00:01,  6.01it/s]"
     ]
    },
    {
     "output_type": "stream",
     "name": "stdout",
     "text": [
      "\n",
      "Iteration 12/20 of epoch 93 complete. Loss : 0.18179506435990334 \n"
     ]
    },
    {
     "output_type": "stream",
     "name": "stderr",
     "text": [
      " 85%|████████▌ | 17/20 [00:02<00:00,  6.00it/s]"
     ]
    },
    {
     "output_type": "stream",
     "name": "stdout",
     "text": [
      "\n",
      "Iteration 16/20 of epoch 93 complete. Loss : 0.18453513830900192 \n"
     ]
    },
    {
     "output_type": "stream",
     "name": "stderr",
     "text": [
      "100%|██████████| 20/20 [00:03<00:00,  6.26it/s]\n",
      " 20%|██        | 1/5 [00:00<00:00,  6.39it/s]"
     ]
    },
    {
     "output_type": "stream",
     "name": "stdout",
     "text": [
      "\n",
      "Iteration 20/20 of epoch 93 complete. Loss : 0.29890481755137444 \n"
     ]
    },
    {
     "output_type": "stream",
     "name": "stderr",
     "text": [
      "100%|██████████| 5/5 [00:00<00:00,  6.73it/s]\n",
      "  5%|▌         | 1/20 [00:00<00:03,  6.07it/s]"
     ]
    },
    {
     "output_type": "stream",
     "name": "stdout",
     "text": [
      "\n",
      "Epoch 93 complete! Validation Loss : 0.9235832452774048\n",
      "Epoch 93 complete! Validation Accuracy : 0.5857119845360825\n"
     ]
    },
    {
     "output_type": "stream",
     "name": "stderr",
     "text": [
      " 25%|██▌       | 5/20 [00:00<00:02,  6.01it/s]"
     ]
    },
    {
     "output_type": "stream",
     "name": "stdout",
     "text": [
      "\n",
      "Iteration 4/20 of epoch 94 complete. Loss : 0.18571211770176888 \n"
     ]
    },
    {
     "output_type": "stream",
     "name": "stderr",
     "text": [
      " 45%|████▌     | 9/20 [00:01<00:01,  6.02it/s]"
     ]
    },
    {
     "output_type": "stream",
     "name": "stdout",
     "text": [
      "\n",
      "Iteration 8/20 of epoch 94 complete. Loss : 0.18016786873340607 \n"
     ]
    },
    {
     "output_type": "stream",
     "name": "stderr",
     "text": [
      " 65%|██████▌   | 13/20 [00:02<00:01,  5.99it/s]"
     ]
    },
    {
     "output_type": "stream",
     "name": "stdout",
     "text": [
      "\n",
      "Iteration 12/20 of epoch 94 complete. Loss : 0.17828287184238434 \n"
     ]
    },
    {
     "output_type": "stream",
     "name": "stderr",
     "text": [
      " 85%|████████▌ | 17/20 [00:02<00:00,  6.01it/s]"
     ]
    },
    {
     "output_type": "stream",
     "name": "stdout",
     "text": [
      "\n",
      "Iteration 16/20 of epoch 94 complete. Loss : 0.16991176456212997 \n"
     ]
    },
    {
     "output_type": "stream",
     "name": "stderr",
     "text": [
      "100%|██████████| 20/20 [00:03<00:00,  6.28it/s]\n",
      " 20%|██        | 1/5 [00:00<00:00,  6.59it/s]"
     ]
    },
    {
     "output_type": "stream",
     "name": "stdout",
     "text": [
      "\n",
      "Iteration 20/20 of epoch 94 complete. Loss : 0.19609636813402176 \n"
     ]
    },
    {
     "output_type": "stream",
     "name": "stderr",
     "text": [
      "100%|██████████| 5/5 [00:00<00:00,  6.78it/s]\n",
      "  5%|▌         | 1/20 [00:00<00:03,  5.90it/s]"
     ]
    },
    {
     "output_type": "stream",
     "name": "stdout",
     "text": [
      "\n",
      "Epoch 94 complete! Validation Loss : 0.9399856686592102\n",
      "Epoch 94 complete! Validation Accuracy : 0.5851481958762886\n"
     ]
    },
    {
     "output_type": "stream",
     "name": "stderr",
     "text": [
      " 25%|██▌       | 5/20 [00:00<00:02,  5.96it/s]"
     ]
    },
    {
     "output_type": "stream",
     "name": "stdout",
     "text": [
      "\n",
      "Iteration 4/20 of epoch 95 complete. Loss : 0.17897414043545723 \n"
     ]
    },
    {
     "output_type": "stream",
     "name": "stderr",
     "text": [
      " 45%|████▌     | 9/20 [00:01<00:01,  5.97it/s]"
     ]
    },
    {
     "output_type": "stream",
     "name": "stdout",
     "text": [
      "\n",
      "Iteration 8/20 of epoch 95 complete. Loss : 0.1894977167248726 \n"
     ]
    },
    {
     "output_type": "stream",
     "name": "stderr",
     "text": [
      " 65%|██████▌   | 13/20 [00:02<00:01,  6.01it/s]"
     ]
    },
    {
     "output_type": "stream",
     "name": "stdout",
     "text": [
      "\n",
      "Iteration 12/20 of epoch 95 complete. Loss : 0.17621618881821632 \n"
     ]
    },
    {
     "output_type": "stream",
     "name": "stderr",
     "text": [
      " 85%|████████▌ | 17/20 [00:02<00:00,  5.98it/s]"
     ]
    },
    {
     "output_type": "stream",
     "name": "stdout",
     "text": [
      "\n",
      "Iteration 16/20 of epoch 95 complete. Loss : 0.16899865493178368 \n"
     ]
    },
    {
     "output_type": "stream",
     "name": "stderr",
     "text": [
      "100%|██████████| 20/20 [00:03<00:00,  6.25it/s]\n",
      " 20%|██        | 1/5 [00:00<00:00,  6.61it/s]"
     ]
    },
    {
     "output_type": "stream",
     "name": "stdout",
     "text": [
      "\n",
      "Iteration 20/20 of epoch 95 complete. Loss : 0.27681199461221695 \n"
     ]
    },
    {
     "output_type": "stream",
     "name": "stderr",
     "text": [
      "100%|██████████| 5/5 [00:00<00:00,  6.79it/s]\n",
      "  5%|▌         | 1/20 [00:00<00:03,  6.06it/s]"
     ]
    },
    {
     "output_type": "stream",
     "name": "stdout",
     "text": [
      "\n",
      "Epoch 95 complete! Validation Loss : 0.9634296298027039\n",
      "Epoch 95 complete! Validation Accuracy : 0.5727126288659794\n"
     ]
    },
    {
     "output_type": "stream",
     "name": "stderr",
     "text": [
      " 25%|██▌       | 5/20 [00:00<00:02,  5.98it/s]"
     ]
    },
    {
     "output_type": "stream",
     "name": "stdout",
     "text": [
      "\n",
      "Iteration 4/20 of epoch 96 complete. Loss : 0.1925644464790821 \n"
     ]
    },
    {
     "output_type": "stream",
     "name": "stderr",
     "text": [
      " 45%|████▌     | 9/20 [00:01<00:01,  5.98it/s]"
     ]
    },
    {
     "output_type": "stream",
     "name": "stdout",
     "text": [
      "\n",
      "Iteration 8/20 of epoch 96 complete. Loss : 0.18218211829662323 \n"
     ]
    },
    {
     "output_type": "stream",
     "name": "stderr",
     "text": [
      " 65%|██████▌   | 13/20 [00:02<00:01,  5.97it/s]"
     ]
    },
    {
     "output_type": "stream",
     "name": "stdout",
     "text": [
      "\n",
      "Iteration 12/20 of epoch 96 complete. Loss : 0.17828213050961494 \n"
     ]
    },
    {
     "output_type": "stream",
     "name": "stderr",
     "text": [
      " 85%|████████▌ | 17/20 [00:02<00:00,  5.94it/s]"
     ]
    },
    {
     "output_type": "stream",
     "name": "stdout",
     "text": [
      "\n",
      "Iteration 16/20 of epoch 96 complete. Loss : 0.17129361256957054 \n"
     ]
    },
    {
     "output_type": "stream",
     "name": "stderr",
     "text": [
      "100%|██████████| 20/20 [00:03<00:00,  6.24it/s]\n",
      " 20%|██        | 1/5 [00:00<00:00,  6.48it/s]"
     ]
    },
    {
     "output_type": "stream",
     "name": "stdout",
     "text": [
      "\n",
      "Iteration 20/20 of epoch 96 complete. Loss : 0.17742040753364563 \n"
     ]
    },
    {
     "output_type": "stream",
     "name": "stderr",
     "text": [
      "100%|██████████| 5/5 [00:00<00:00,  6.74it/s]\n",
      "  5%|▌         | 1/20 [00:00<00:03,  6.04it/s]"
     ]
    },
    {
     "output_type": "stream",
     "name": "stdout",
     "text": [
      "\n",
      "Epoch 96 complete! Validation Loss : 0.9424741625785827\n",
      "Epoch 96 complete! Validation Accuracy : 0.5612113402061856\n"
     ]
    },
    {
     "output_type": "stream",
     "name": "stderr",
     "text": [
      " 25%|██▌       | 5/20 [00:00<00:02,  6.02it/s]"
     ]
    },
    {
     "output_type": "stream",
     "name": "stdout",
     "text": [
      "\n",
      "Iteration 4/20 of epoch 97 complete. Loss : 0.17906080186367035 \n"
     ]
    },
    {
     "output_type": "stream",
     "name": "stderr",
     "text": [
      " 45%|████▌     | 9/20 [00:01<00:01,  6.01it/s]"
     ]
    },
    {
     "output_type": "stream",
     "name": "stdout",
     "text": [
      "\n",
      "Iteration 8/20 of epoch 97 complete. Loss : 0.16649540327489376 \n"
     ]
    },
    {
     "output_type": "stream",
     "name": "stderr",
     "text": [
      " 65%|██████▌   | 13/20 [00:02<00:01,  5.99it/s]"
     ]
    },
    {
     "output_type": "stream",
     "name": "stdout",
     "text": [
      "\n",
      "Iteration 12/20 of epoch 97 complete. Loss : 0.17964287474751472 \n"
     ]
    },
    {
     "output_type": "stream",
     "name": "stderr",
     "text": [
      " 85%|████████▌ | 17/20 [00:02<00:00,  6.01it/s]"
     ]
    },
    {
     "output_type": "stream",
     "name": "stdout",
     "text": [
      "\n",
      "Iteration 16/20 of epoch 97 complete. Loss : 0.18646766245365143 \n"
     ]
    },
    {
     "output_type": "stream",
     "name": "stderr",
     "text": [
      "100%|██████████| 20/20 [00:03<00:00,  6.28it/s]\n",
      " 20%|██        | 1/5 [00:00<00:00,  6.45it/s]"
     ]
    },
    {
     "output_type": "stream",
     "name": "stdout",
     "text": [
      "\n",
      "Iteration 20/20 of epoch 97 complete. Loss : 0.2648979313671589 \n"
     ]
    },
    {
     "output_type": "stream",
     "name": "stderr",
     "text": [
      "100%|██████████| 5/5 [00:00<00:00,  6.80it/s]\n",
      "  5%|▌         | 1/20 [00:00<00:03,  6.05it/s]"
     ]
    },
    {
     "output_type": "stream",
     "name": "stdout",
     "text": [
      "\n",
      "Epoch 97 complete! Validation Loss : 1.0485244989395142\n",
      "Epoch 97 complete! Validation Accuracy : 0.48853092783505153\n"
     ]
    },
    {
     "output_type": "stream",
     "name": "stderr",
     "text": [
      " 25%|██▌       | 5/20 [00:00<00:02,  6.00it/s]"
     ]
    },
    {
     "output_type": "stream",
     "name": "stdout",
     "text": [
      "\n",
      "Iteration 4/20 of epoch 98 complete. Loss : 0.26395779848098755 \n"
     ]
    },
    {
     "output_type": "stream",
     "name": "stderr",
     "text": [
      " 45%|████▌     | 9/20 [00:01<00:01,  5.96it/s]"
     ]
    },
    {
     "output_type": "stream",
     "name": "stdout",
     "text": [
      "\n",
      "Iteration 8/20 of epoch 98 complete. Loss : 0.20236307382583618 \n"
     ]
    },
    {
     "output_type": "stream",
     "name": "stderr",
     "text": [
      " 65%|██████▌   | 13/20 [00:02<00:01,  5.98it/s]"
     ]
    },
    {
     "output_type": "stream",
     "name": "stdout",
     "text": [
      "\n",
      "Iteration 12/20 of epoch 98 complete. Loss : 0.1895170994102955 \n"
     ]
    },
    {
     "output_type": "stream",
     "name": "stderr",
     "text": [
      " 85%|████████▌ | 17/20 [00:02<00:00,  5.96it/s]"
     ]
    },
    {
     "output_type": "stream",
     "name": "stdout",
     "text": [
      "\n",
      "Iteration 16/20 of epoch 98 complete. Loss : 0.22277133539319038 \n"
     ]
    },
    {
     "output_type": "stream",
     "name": "stderr",
     "text": [
      "100%|██████████| 20/20 [00:03<00:00,  6.25it/s]\n",
      " 20%|██        | 1/5 [00:00<00:00,  6.54it/s]"
     ]
    },
    {
     "output_type": "stream",
     "name": "stdout",
     "text": [
      "\n",
      "Iteration 20/20 of epoch 98 complete. Loss : 0.16911594942212105 \n"
     ]
    },
    {
     "output_type": "stream",
     "name": "stderr",
     "text": [
      "100%|██████████| 5/5 [00:00<00:00,  6.80it/s]\n",
      "  5%|▌         | 1/20 [00:00<00:03,  6.04it/s]"
     ]
    },
    {
     "output_type": "stream",
     "name": "stdout",
     "text": [
      "\n",
      "Epoch 98 complete! Validation Loss : 0.9903740048408508\n",
      "Epoch 98 complete! Validation Accuracy : 0.5456507731958763\n"
     ]
    },
    {
     "output_type": "stream",
     "name": "stderr",
     "text": [
      " 25%|██▌       | 5/20 [00:00<00:02,  5.99it/s]"
     ]
    },
    {
     "output_type": "stream",
     "name": "stdout",
     "text": [
      "\n",
      "Iteration 4/20 of epoch 99 complete. Loss : 0.2053265944123268 \n"
     ]
    },
    {
     "output_type": "stream",
     "name": "stderr",
     "text": [
      " 45%|████▌     | 9/20 [00:01<00:01,  5.99it/s]"
     ]
    },
    {
     "output_type": "stream",
     "name": "stdout",
     "text": [
      "\n",
      "Iteration 8/20 of epoch 99 complete. Loss : 0.18554671108722687 \n"
     ]
    },
    {
     "output_type": "stream",
     "name": "stderr",
     "text": [
      " 65%|██████▌   | 13/20 [00:02<00:01,  6.03it/s]"
     ]
    },
    {
     "output_type": "stream",
     "name": "stdout",
     "text": [
      "\n",
      "Iteration 12/20 of epoch 99 complete. Loss : 0.18976883217692375 \n"
     ]
    },
    {
     "output_type": "stream",
     "name": "stderr",
     "text": [
      " 85%|████████▌ | 17/20 [00:02<00:00,  6.00it/s]"
     ]
    },
    {
     "output_type": "stream",
     "name": "stdout",
     "text": [
      "\n",
      "Iteration 16/20 of epoch 99 complete. Loss : 0.19607322290539742 \n"
     ]
    },
    {
     "output_type": "stream",
     "name": "stderr",
     "text": [
      "100%|██████████| 20/20 [00:03<00:00,  6.26it/s]\n",
      " 20%|██        | 1/5 [00:00<00:00,  6.63it/s]"
     ]
    },
    {
     "output_type": "stream",
     "name": "stdout",
     "text": [
      "\n",
      "Iteration 20/20 of epoch 99 complete. Loss : 0.1956094317138195 \n"
     ]
    },
    {
     "output_type": "stream",
     "name": "stderr",
     "text": [
      "100%|██████████| 5/5 [00:00<00:00,  6.80it/s]\n",
      "  5%|▌         | 1/20 [00:00<00:03,  5.95it/s]"
     ]
    },
    {
     "output_type": "stream",
     "name": "stdout",
     "text": [
      "\n",
      "Epoch 99 complete! Validation Loss : 0.9672158718109131\n",
      "Epoch 99 complete! Validation Accuracy : 0.5514658505154639\n"
     ]
    },
    {
     "output_type": "stream",
     "name": "stderr",
     "text": [
      " 25%|██▌       | 5/20 [00:00<00:02,  5.99it/s]"
     ]
    },
    {
     "output_type": "stream",
     "name": "stdout",
     "text": [
      "\n",
      "Iteration 4/20 of epoch 100 complete. Loss : 0.1840018443763256 \n"
     ]
    },
    {
     "output_type": "stream",
     "name": "stderr",
     "text": [
      " 45%|████▌     | 9/20 [00:01<00:01,  6.01it/s]"
     ]
    },
    {
     "output_type": "stream",
     "name": "stdout",
     "text": [
      "\n",
      "Iteration 8/20 of epoch 100 complete. Loss : 0.16477534174919128 \n"
     ]
    },
    {
     "output_type": "stream",
     "name": "stderr",
     "text": [
      " 65%|██████▌   | 13/20 [00:02<00:01,  5.96it/s]"
     ]
    },
    {
     "output_type": "stream",
     "name": "stdout",
     "text": [
      "\n",
      "Iteration 12/20 of epoch 100 complete. Loss : 0.17424509674310684 \n"
     ]
    },
    {
     "output_type": "stream",
     "name": "stderr",
     "text": [
      " 85%|████████▌ | 17/20 [00:02<00:00,  6.00it/s]"
     ]
    },
    {
     "output_type": "stream",
     "name": "stdout",
     "text": [
      "\n",
      "Iteration 16/20 of epoch 100 complete. Loss : 0.18533603847026825 \n"
     ]
    },
    {
     "output_type": "stream",
     "name": "stderr",
     "text": [
      "100%|██████████| 20/20 [00:03<00:00,  6.26it/s]\n",
      " 20%|██        | 1/5 [00:00<00:00,  6.59it/s]"
     ]
    },
    {
     "output_type": "stream",
     "name": "stdout",
     "text": [
      "\n",
      "Iteration 20/20 of epoch 100 complete. Loss : 0.1496083978563547 \n"
     ]
    },
    {
     "output_type": "stream",
     "name": "stderr",
     "text": [
      "100%|██████████| 5/5 [00:00<00:00,  6.82it/s]\n"
     ]
    },
    {
     "output_type": "stream",
     "name": "stdout",
     "text": [
      "\n",
      "Epoch 100 complete! Validation Loss : 0.96158367395401\n",
      "Epoch 100 complete! Validation Accuracy : 0.5800257731958763\n",
      "The model has been saved in saved_models/emo_combine_res50_lr_3e-05_val_loss_0.65715_ep_53.pt\n"
     ]
    }
   ],
   "metadata": {}
  },
  {
   "cell_type": "code",
   "execution_count": 20,
   "source": [
    "def evaluate(prediction_dataloader, model, path_to_model, load = False):\n",
    "\t# Prediction on test set\n",
    "\tif load:\n",
    "\t\tprint(\"Loading the weights of the model...\")\n",
    "\t\tmodel.load_state_dict(torch.load(path_to_model))\n",
    "\n",
    "\tprint('Evaluating on the testset')\n",
    "\n",
    "\t# Put model in evaluation mode\n",
    "\tmodel.eval()\n",
    "\n",
    "\t# Tracking variables \n",
    "\tpredictions , true_labels = [], []\n",
    "\n",
    "\t# Predict \n",
    "\tfor batch in prediction_dataloader:\n",
    "\t  # Add batch to GPU\n",
    "\t  batch = tuple(t.to(device) for t in batch)\n",
    "\t  \n",
    "\t  # Unpack the inputs from our dataloader\n",
    "\t  b_inputs, b_labels = batch\n",
    "\t  \n",
    "\t  # Telling the model not to compute or store gradients, saving memory and \n",
    "\t  # speeding up prediction\n",
    "\t  with torch.no_grad():\n",
    "\t      # Forward pass, calculate logit predictions\n",
    "\t      logits = model(b_inputs)\n",
    "\n",
    "\t  # Move logits and labels to CPU\n",
    "\t  logits = logits.detach().cpu().numpy()\n",
    "\t  label_ids = b_labels.to('cpu').numpy()\n",
    "\n",
    "\t  pred_flat = np.argmax(logits, axis=1).flatten()\n",
    "\t  labels_flat = label_ids.flatten()\n",
    "\t  \n",
    "\t  # Store predictions and true labels\n",
    "\t  predictions.extend(pred_flat)\n",
    "\t  true_labels.extend(labels_flat)\n",
    "\n",
    "\tprint('DONE.')\n",
    "\n",
    "\t# Code for result display\n",
    "\tprint('Unbiased Emotion Classification accuracy is')\n",
    "\tprint(metrics.accuracy_score(true_labels, predictions)*100)\n",
    "\tprint(classification_report(true_labels, predictions, target_names = ['fake_emo', 'real_emo']))\n",
    "\t# Converting to csv\n",
    "\t# Removed transpose - check if actually required\n",
    "\tmodel_name = 'combine_emo'\n",
    "\tclsf_report = pd.DataFrame(classification_report(y_true = true_labels, y_pred = predictions, output_dict=True, target_names = ['fake_emo', 'real_emo']))\n",
    "\tclsf_report.to_csv(str('saved_models/'+model_name+'.csv'), index= True)"
   ],
   "outputs": [],
   "metadata": {}
  },
  {
   "cell_type": "code",
   "execution_count": 22,
   "source": [
    "# Path model\n",
    "print(path_to_model)"
   ],
   "outputs": [
    {
     "output_type": "error",
     "ename": "NameError",
     "evalue": "name 'path_to_model' is not defined",
     "traceback": [
      "\u001b[0;31m---------------------------------------------------------------------------\u001b[0m",
      "\u001b[0;31mNameError\u001b[0m                                 Traceback (most recent call last)",
      "\u001b[0;32m<ipython-input-22-baedc063bd5b>\u001b[0m in \u001b[0;36m<module>\u001b[0;34m()\u001b[0m\n\u001b[1;32m      1\u001b[0m \u001b[0;31m# Path model\u001b[0m\u001b[0;34m\u001b[0m\u001b[0;34m\u001b[0m\u001b[0;34m\u001b[0m\u001b[0m\n\u001b[0;32m----> 2\u001b[0;31m \u001b[0mprint\u001b[0m\u001b[0;34m(\u001b[0m\u001b[0mpath_to_model\u001b[0m\u001b[0;34m)\u001b[0m\u001b[0;34m\u001b[0m\u001b[0;34m\u001b[0m\u001b[0m\n\u001b[0m",
      "\u001b[0;31mNameError\u001b[0m: name 'path_to_model' is not defined"
     ]
    }
   ],
   "metadata": {}
  },
  {
   "cell_type": "code",
   "execution_count": 23,
   "source": [
    "path_to_model = 'saved_models/emo_combine_res50_lr_3e-05_val_loss_0.65715_ep_53.pt'\n",
    "evaluate(test_dataloader, model, path_to_model = path_to_model, load = False)"
   ],
   "outputs": [
    {
     "output_type": "stream",
     "name": "stdout",
     "text": [
      "Evaluating on the testset\n",
      "DONE.\n",
      "Unbiased Emotion Classification accuracy is\n",
      "61.74055829228243\n",
      "              precision    recall  f1-score   support\n",
      "\n",
      "    fake_emo       0.44      0.64      0.52       197\n",
      "    real_emo       0.78      0.60      0.68       412\n",
      "\n",
      "    accuracy                           0.62       609\n",
      "   macro avg       0.61      0.62      0.60       609\n",
      "weighted avg       0.67      0.62      0.63       609\n",
      "\n"
     ]
    }
   ],
   "metadata": {}
  }
 ],
 "metadata": {
  "orig_nbformat": 4,
  "language_info": {
   "name": "python",
   "version": "3.6.11",
   "mimetype": "text/x-python",
   "codemirror_mode": {
    "name": "ipython",
    "version": 3
   },
   "pygments_lexer": "ipython3",
   "nbconvert_exporter": "python",
   "file_extension": ".py"
  },
  "kernelspec": {
   "name": "python3",
   "display_name": "Python 3.6.11 64-bit ('newnisbert': conda)"
  },
  "interpreter": {
   "hash": "b4396559e1bf5c32d41ffba8c548c213f47855d2d4ac82024dddc5ba3ffea815"
  }
 },
 "nbformat": 4,
 "nbformat_minor": 2
}