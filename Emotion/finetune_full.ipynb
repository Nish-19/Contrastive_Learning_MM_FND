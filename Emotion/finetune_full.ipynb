{
 "cells": [
  {
   "cell_type": "code",
   "execution_count": 1,
   "source": [
    "# Loading data and label\n",
    "import numpy as np\n",
    "emotion_data = np.load('/sda/rina_1921cs13/Fake_Emo/UnBiasedEmo/data.npy')\n",
    "emotion_label = np.load('/sda/rina_1921cs13/Fake_Emo/UnBiasedEmo/label.npy')\n",
    "print('Emotion data shape', emotion_data.shape)\n",
    "print('Emotion label shape', emotion_label.shape)\n",
    "label_keys = {}\n",
    "item_lab = [\"anger\", \"fear\", \"joy\", \"love\", \"sadness\", \"surprise\"]\n",
    "for i, emotion in enumerate(item_lab):\n",
    "    label_keys[i] = emotion\n",
    "print(label_keys)"
   ],
   "outputs": [
    {
     "output_type": "stream",
     "name": "stdout",
     "text": [
      "Emotion data shape (3045, 224, 224, 3)\n",
      "Emotion label shape (3045,)\n",
      "{0: 'anger', 1: 'fear', 2: 'joy', 3: 'love', 4: 'sadness', 5: 'surprise'}\n"
     ]
    }
   ],
   "metadata": {}
  },
  {
   "cell_type": "code",
   "execution_count": 2,
   "source": [
    "#TODO: Fine-Tune on Imagenet-pre-trained ResNet-50 model\n",
    "import os\n",
    "import sys\n",
    "import numpy as np\n",
    "from numpy import asarray,zeros\n",
    "import pandas as pd \n",
    "from sklearn.model_selection import train_test_split\n",
    "import torch\n",
    "import torch.nn.functional as F\n",
    "from torch.utils.data import TensorDataset, DataLoader, RandomSampler, SequentialSampler, Dataset\n",
    "import torch.nn as nn\n",
    "import torch.optim as optim\n",
    "from tqdm import tqdm\n",
    "import matplotlib.pyplot as plt\n",
    "import copy\n",
    "from sklearn.model_selection import train_test_split\n",
    "from sklearn import metrics\n",
    "from sklearn.metrics import classification_report\n",
    "import transformers\n",
    "from transformers import BertTokenizer\n",
    "from transformers import AdamW, get_linear_schedule_with_warmup\n",
    "from transformers import AutoTokenizer, AutoModel, AutoConfig, AdamW, get_linear_schedule_with_warmup\n",
    "from tensorflow.keras.preprocessing.text import Tokenizer\n",
    "from tensorflow.keras.preprocessing.sequence import pad_sequences\n",
    "import timm"
   ],
   "outputs": [],
   "metadata": {}
  },
  {
   "cell_type": "code",
   "execution_count": 3,
   "source": [
    "if torch.cuda.is_available():\n",
    "    device = torch.device(\"cuda\")\n",
    "    os.environ['CUDA_ENVIRONMENT_DEVICES'] = \"0\"\n",
    "else:\n",
    "    device = torch.device(\"cpu\")\n",
    "print(\"Using device\", device)"
   ],
   "outputs": [
    {
     "output_type": "stream",
     "name": "stdout",
     "text": [
      "Using device cuda\n"
     ]
    }
   ],
   "metadata": {}
  },
  {
   "cell_type": "code",
   "execution_count": 4,
   "source": [
    "num_images, width, height, num_channels = emotion_data.shape\n",
    "emotion_data = np.reshape(emotion_data, newshape=(num_images, num_channels, width, height))\n",
    "print('Emotion data shape', emotion_data.shape)"
   ],
   "outputs": [
    {
     "output_type": "stream",
     "name": "stdout",
     "text": [
      "Emotion data shape (3045, 3, 224, 224)\n"
     ]
    }
   ],
   "metadata": {}
  },
  {
   "cell_type": "code",
   "execution_count": 5,
   "source": [
    "# Convert to tensor\n",
    "data_tensor = torch.tensor(emotion_data, device=device)\n",
    "labels_tensor = torch.tensor(emotion_label, dtype=torch.long, device=device)\n",
    "print('data tensor shape', data_tensor.shape)\n",
    "print('Labels tensor shape', labels_tensor.shape)"
   ],
   "outputs": [
    {
     "output_type": "stream",
     "name": "stdout",
     "text": [
      "data tensor shape torch.Size([3045, 3, 224, 224])\n",
      "Labels tensor shape torch.Size([3045])\n"
     ]
    }
   ],
   "metadata": {}
  },
  {
   "cell_type": "code",
   "execution_count": 6,
   "source": [
    "# NOTE: Splitting data into train and test\n",
    "train_data, test_data, train_labels, test_labels = train_test_split(data_tensor, labels_tensor, test_size=0.2, random_state=43)"
   ],
   "outputs": [],
   "metadata": {}
  },
  {
   "cell_type": "code",
   "execution_count": 7,
   "source": [
    "#TODO: Add Pytorch DataLoader\n",
    "def get_data_loader(batch_size, data, labels):\n",
    "\tdata = TensorDataset(data, labels)\n",
    "\tsampler = SequentialSampler(data)\n",
    "\tdataloader = DataLoader(data, sampler=sampler, batch_size=batch_size)\n",
    "\treturn data, sampler, dataloader"
   ],
   "outputs": [],
   "metadata": {}
  },
  {
   "cell_type": "code",
   "execution_count": 8,
   "source": [
    "# Getting the dataloader\n",
    "batch_size = 128\n",
    "train_data, train_sampler, train_dataloader = get_data_loader(batch_size, train_data, train_labels)\n",
    "test_data, test_sampler, test_dataloader = get_data_loader(batch_size, test_data, test_labels)"
   ],
   "outputs": [],
   "metadata": {}
  },
  {
   "cell_type": "code",
   "execution_count": 9,
   "source": [
    "# # TODO: Test the resnet-50 model\n",
    "# res50model = timm.create_model('resnet50', pretrained=True).to(device)\n",
    "# res50base = ResNetBottom(res50model).to(device) # Output-2048 dim\n",
    "# # Forward pass on the data\n",
    "# output = res50base(data_tensor[0:5,:,:,:])\n",
    "# print(output.shape)"
   ],
   "outputs": [],
   "metadata": {}
  },
  {
   "cell_type": "code",
   "execution_count": 10,
   "source": [
    "#TODO: Define Resent-50 model\n",
    "class ResNetBottom(nn.Module):\n",
    "    def __init__(self, original_model):\n",
    "        super(ResNetBottom, self).__init__()\n",
    "        self.features = nn.Sequential(*list(original_model.children())[:-1])\n",
    "        \n",
    "    def forward(self, x):\n",
    "        x = self.features(x)\n",
    "        return x\n",
    "\n",
    "class ResnetBased(nn.Module):\n",
    "    def __init__(self):\n",
    "        super(ResnetBased, self).__init__()\n",
    "        self.vision_base_model = timm.create_model('resnet50', pretrained=True)\n",
    "        self.vision_model_head = ResNetBottom(self.vision_base_model)\n",
    "        self.project_1 = nn.Linear(2048, 1024, bias=True)\n",
    "        self.project_2 = nn.Linear(1024, 512, bias=True)\n",
    "        self.project_3 = nn.Linear(512, 128, bias=True)\n",
    "        self.tanh1 = nn.Tanh()\n",
    "        self.tanh2 = nn.Tanh()\n",
    "        self.tanh3 = nn.Tanh()\n",
    "        self.drop1 = nn.Dropout()\n",
    "        self.drop2 = nn.Dropout()\n",
    "        self.drop3 = nn.Dropout()\n",
    "        self.classification = nn.Linear(128, 6, bias=True)\n",
    "    def forward(self, img_features):\n",
    "        with torch.no_grad():\n",
    "            img_out = self.vision_model_head(img_features)\n",
    "        emotion_features = self.tanh3(self.project_3(self.tanh2(self.project_2(self.tanh1(self.project_1(img_out))))))\n",
    "        class_out = self.classification(emotion_features)\n",
    "        return class_out"
   ],
   "outputs": [],
   "metadata": {}
  },
  {
   "cell_type": "code",
   "execution_count": 11,
   "source": [
    "# Optimizer and scheduler\n",
    "def get_optimizer_scheduler(name, model, train_dataloader_len, epochs, lr_set):\n",
    "\tif name == \"Adam\":\n",
    "\t\toptimizer = AdamW(model.parameters(),\n",
    "                  lr = lr_set, # args.learning_rate - default is 5e-5, our notebook had 2e-5\n",
    "                  eps = 1e-8 # args.adam_epsilon  - default is 1e-8.\n",
    "\t\t)\n",
    "\ttotal_steps = train_dataloader_len * epochs\n",
    "\n",
    "\t# Create the learning rate scheduler.\n",
    "\tscheduler = get_linear_schedule_with_warmup(optimizer, \n",
    "\t\t\t\t\t\t\t\t\t\t\t\tnum_warmup_steps = total_steps//2, # Default value in run_glue.py\n",
    "\t\t\t\t\t\t\t\t\t\t\t\tnum_training_steps = total_steps)\n",
    "\treturn optimizer, scheduler"
   ],
   "outputs": [],
   "metadata": {}
  },
  {
   "cell_type": "code",
   "execution_count": 12,
   "source": [
    "# Get the model\n",
    "emo_model = ResnetBased().to(device)\n",
    "# Getting the optimizer and scheduler\n",
    "epochs = 100\n",
    "lr = 3e-5 # Less LR\n",
    "iters_to_accumulate = 2\n",
    "name = \"Adam\"\n",
    "criterion = nn.CrossEntropyLoss()\n",
    "optimizer, scheduler = get_optimizer_scheduler(name, emo_model, len(train_dataloader), epochs, lr)"
   ],
   "outputs": [],
   "metadata": {}
  },
  {
   "cell_type": "code",
   "execution_count": 13,
   "source": [
    "################ Evaluating Loss ######################\n",
    "#######################################################\n",
    "def evaluate_loss(net, device, criterion, dataloader):\n",
    "    net.eval()\n",
    "    mean_loss = 0\n",
    "    count = 0\n",
    "    with torch.no_grad():\n",
    "        for it, (input_data, labels) in enumerate(tqdm(dataloader)):\n",
    "            input_data, labels = input_data.to(device), labels.to(device)\n",
    "            logits = net(input_data)\n",
    "            mean_loss += criterion(logits.squeeze(-1), labels).item() # initially it was logits.squeeze(-1)\n",
    "            count += 1\n",
    "    return mean_loss / count"
   ],
   "outputs": [],
   "metadata": {}
  },
  {
   "cell_type": "code",
   "execution_count": 14,
   "source": [
    "################ Flat Accuracy Calculation ####################\n",
    "###############################################################\n",
    "def flat_accuracy(preds, labels):\n",
    "    pred_flat = np.argmax(preds, axis=1).flatten()\n",
    "    labels_flat = labels.flatten()\n",
    "    return np.sum(pred_flat == labels_flat) / len(labels_flat)\n",
    "################ Validation Accuracy Calculation ####################\n",
    "###############################################################\n",
    "def evaluate_accuracy(model, device, validation_dataloader):\n",
    "\tmodel.eval()\n",
    "\t# Tracking variables \n",
    "\teval_loss, eval_accuracy = 0, 0\n",
    "\tnb_eval_steps, nb_eval_examples = 0, 0\n",
    "\t# Evaluate data for one epoch\n",
    "\tfor batch in validation_dataloader:\n",
    "\t    # Add batch to GPU\n",
    "\t    batch = tuple(t.to(device) for t in batch)\t    \n",
    "\t    # Unpack the inputs from our dataloader\n",
    "\t    b_inputs, b_labels = batch\t    \n",
    "\t    \n",
    "\t    # Telling the model not to compute or store gradients, saving memory and\n",
    "\t    # speeding up validation\n",
    "\t    with torch.no_grad(): \n",
    "\t    \t# Forward pass, calculate logit predictions.\n",
    "\t        # This will return the logits rather than the loss because we have\n",
    "\t        # not provided labels.\n",
    "\t    \tlogits = model(b_inputs)       \n",
    "\n",
    "\t    # Move logits and labels to CPU\n",
    "\t    logits = logits.detach().cpu().numpy()\n",
    "\t    label_ids = b_labels.to('cpu').numpy()\n",
    "\t    \n",
    "\t    # Calculate the accuracy for this batch of test sentences.\n",
    "\t    tmp_eval_accuracy = flat_accuracy(logits, label_ids)\n",
    "\t    \n",
    "\t    # Accumulate the total accuracy.\n",
    "\t    eval_accuracy += tmp_eval_accuracy\n",
    "\n",
    "\t    # Track the number of batches\n",
    "\t    nb_eval_steps += 1\n",
    "\taccuracy = eval_accuracy/nb_eval_steps\n",
    "\treturn accuracy"
   ],
   "outputs": [],
   "metadata": {}
  },
  {
   "cell_type": "code",
   "execution_count": 15,
   "source": [
    "def train_model(net, criterion, opti, lr, lr_scheduler, train_loader, val_loader, epochs, iters_to_accumulate):\n",
    "    best_loss = np.Inf\n",
    "    best_ep = 1\n",
    "    nb_iterations = len(train_loader)\n",
    "    print_every = nb_iterations // 5  # print the training loss 5 times per epoch\n",
    "    iters = []\n",
    "    train_losses = []\n",
    "    val_losses = []\n",
    "    # Iterating over all epochs\n",
    "    for ep in range(epochs):\n",
    "        net.train()\n",
    "        running_loss = 0.0\n",
    "        for it, (data_inputs, labels) in enumerate(tqdm(train_loader)):\n",
    "\n",
    "            # Converting to cuda tensors\n",
    "            data_inputs, labels = data_inputs.to(device), labels.to(device)\n",
    "    \t\t\n",
    "            # Obtaining the logits from the model\n",
    "            logits = net(data_inputs)\n",
    "            # print(logits.device)\n",
    "\n",
    "            # Computing loss\n",
    "            # print(logits.squeeze(-1).shape)\n",
    "            # print(labels.shape)\n",
    "            loss = criterion(logits.squeeze(-1), labels)\n",
    "            loss = loss / iters_to_accumulate  # Normalize the loss because it is averaged\n",
    "\n",
    "            # Backpropagating the gradients\n",
    "            # Calls backward()\n",
    "            loss.backward()\n",
    "\n",
    "            if (it + 1) % iters_to_accumulate == 0:\n",
    "                # Optimization step\n",
    "                # scaler.step() first unscales the gradients of the optimizer's assigned params.\n",
    "                # If these gradients do not contain infs or NaNs, opti.step() is then called,\n",
    "                # otherwise, opti.step() is skipped.\n",
    "                opti.step()\n",
    "                # Adjust the learning rate based on the number of iterations.\n",
    "                lr_scheduler.step()\n",
    "                # Clear gradients\n",
    "                net.zero_grad()\n",
    "\n",
    "\n",
    "            running_loss += loss.item()\n",
    "\n",
    "            if (it + 1) % print_every == 0:  # Print training loss information\n",
    "                print()\n",
    "                print(\"Iteration {}/{} of epoch {} complete. Loss : {} \"\n",
    "                      .format(it+1, nb_iterations, ep+1, running_loss / print_every))\n",
    "\n",
    "                running_loss = 0.0\n",
    "\n",
    "\n",
    "        val_loss = evaluate_loss(net, device, criterion, val_loader)  # Compute validation loss\n",
    "        val_accuracy = evaluate_accuracy(net, device, val_loader)\n",
    "        print()\n",
    "        print(\"Epoch {} complete! Validation Loss : {}\".format(ep+1, val_loss))\n",
    "        print(\"Epoch {} complete! Validation Accuracy : {}\".format(ep+1, val_accuracy))\n",
    "\n",
    "        if val_loss < best_loss:\n",
    "            print(\"Best validation loss improved from {} to {}\".format(best_loss, val_loss))\n",
    "            print()\n",
    "            net_copy = copy.deepcopy(net)  # save a copy of the model\n",
    "            best_loss = val_loss\n",
    "            best_ep = ep + 1\n",
    "\n",
    "    # Saving the model\n",
    "    model_name = 'emo_res50'\n",
    "    path_to_model='saved_models/{}_lr_{}_val_loss_{}_ep_{}.pt'.format(model_name, lr, round(best_loss, 5), best_ep)\n",
    "    torch.save(net_copy.state_dict(), path_to_model)\n",
    "    net.load_state_dict(torch.load(path_to_model)) # Re-Loading the best model\n",
    "    print(\"The model has been saved in {}\".format(path_to_model))\n",
    "\n",
    "    del loss\n",
    "    torch.cuda.empty_cache()\n",
    "    return net"
   ],
   "outputs": [],
   "metadata": {}
  },
  {
   "cell_type": "code",
   "execution_count": 16,
   "source": [
    "# Train the model\n",
    "model = train_model(emo_model, criterion, optimizer, lr, scheduler, train_dataloader, test_dataloader, epochs, iters_to_accumulate)"
   ],
   "outputs": [
    {
     "output_type": "stream",
     "name": "stderr",
     "text": [
      " 18%|█▊        | 7/39 [00:01<00:08,  3.85it/s]"
     ]
    },
    {
     "output_type": "stream",
     "name": "stdout",
     "text": [
      "\n",
      "Iteration 7/39 of epoch 1 complete. Loss : 0.9041493790490287 \n"
     ]
    },
    {
     "output_type": "stream",
     "name": "stderr",
     "text": [
      " 36%|███▌      | 14/39 [00:03<00:06,  4.15it/s]"
     ]
    },
    {
     "output_type": "stream",
     "name": "stdout",
     "text": [
      "\n",
      "Iteration 14/39 of epoch 1 complete. Loss : 0.8987769058772496 \n"
     ]
    },
    {
     "output_type": "stream",
     "name": "stderr",
     "text": [
      " 54%|█████▍    | 21/39 [00:05<00:04,  4.21it/s]"
     ]
    },
    {
     "output_type": "stream",
     "name": "stdout",
     "text": [
      "\n",
      "Iteration 21/39 of epoch 1 complete. Loss : 0.9001173547336033 \n"
     ]
    },
    {
     "output_type": "stream",
     "name": "stderr",
     "text": [
      " 72%|███████▏  | 28/39 [00:06<00:02,  4.17it/s]"
     ]
    },
    {
     "output_type": "stream",
     "name": "stdout",
     "text": [
      "\n",
      "Iteration 28/39 of epoch 1 complete. Loss : 0.8988782337733677 \n"
     ]
    },
    {
     "output_type": "stream",
     "name": "stderr",
     "text": [
      " 90%|████████▉ | 35/39 [00:08<00:00,  4.20it/s]"
     ]
    },
    {
     "output_type": "stream",
     "name": "stdout",
     "text": [
      "\n",
      "Iteration 35/39 of epoch 1 complete. Loss : 0.8964954444340297 \n"
     ]
    },
    {
     "output_type": "stream",
     "name": "stderr",
     "text": [
      "100%|██████████| 39/39 [00:09<00:00,  4.19it/s]\n",
      "100%|██████████| 10/10 [00:00<00:00, 14.86it/s]\n",
      "  0%|          | 0/39 [00:00<?, ?it/s]"
     ]
    },
    {
     "output_type": "stream",
     "name": "stdout",
     "text": [
      "\n",
      "Epoch 1 complete! Validation Loss : 1.7953848123550415\n",
      "Epoch 1 complete! Validation Accuracy : 0.2183712121212121\n",
      "Best validation loss improved from inf to 1.7953848123550415\n",
      "\n"
     ]
    },
    {
     "output_type": "stream",
     "name": "stderr",
     "text": [
      " 18%|█▊        | 7/39 [00:01<00:07,  4.20it/s]"
     ]
    },
    {
     "output_type": "stream",
     "name": "stdout",
     "text": [
      "\n",
      "Iteration 7/39 of epoch 2 complete. Loss : 0.9023604137556893 \n"
     ]
    },
    {
     "output_type": "stream",
     "name": "stderr",
     "text": [
      " 36%|███▌      | 14/39 [00:03<00:06,  4.16it/s]"
     ]
    },
    {
     "output_type": "stream",
     "name": "stdout",
     "text": [
      "\n",
      "Iteration 14/39 of epoch 2 complete. Loss : 0.8992424011230469 \n"
     ]
    },
    {
     "output_type": "stream",
     "name": "stderr",
     "text": [
      " 54%|█████▍    | 21/39 [00:05<00:04,  4.18it/s]"
     ]
    },
    {
     "output_type": "stream",
     "name": "stdout",
     "text": [
      "\n",
      "Iteration 21/39 of epoch 2 complete. Loss : 0.903522789478302 \n"
     ]
    },
    {
     "output_type": "stream",
     "name": "stderr",
     "text": [
      " 72%|███████▏  | 28/39 [00:06<00:02,  4.15it/s]"
     ]
    },
    {
     "output_type": "stream",
     "name": "stdout",
     "text": [
      "\n",
      "Iteration 28/39 of epoch 2 complete. Loss : 0.900200435093471 \n"
     ]
    },
    {
     "output_type": "stream",
     "name": "stderr",
     "text": [
      " 90%|████████▉ | 35/39 [00:08<00:00,  4.18it/s]"
     ]
    },
    {
     "output_type": "stream",
     "name": "stdout",
     "text": [
      "\n",
      "Iteration 35/39 of epoch 2 complete. Loss : 0.8982524275779724 \n"
     ]
    },
    {
     "output_type": "stream",
     "name": "stderr",
     "text": [
      "100%|██████████| 39/39 [00:09<00:00,  4.26it/s]\n",
      "100%|██████████| 10/10 [00:00<00:00, 14.83it/s]\n",
      "  0%|          | 0/39 [00:00<?, ?it/s]"
     ]
    },
    {
     "output_type": "stream",
     "name": "stdout",
     "text": [
      "\n",
      "Epoch 2 complete! Validation Loss : 1.7943078517913817\n",
      "Epoch 2 complete! Validation Accuracy : 0.23712121212121212\n",
      "Best validation loss improved from 1.7953848123550415 to 1.7943078517913817\n",
      "\n"
     ]
    },
    {
     "output_type": "stream",
     "name": "stderr",
     "text": [
      " 18%|█▊        | 7/39 [00:01<00:07,  4.18it/s]"
     ]
    },
    {
     "output_type": "stream",
     "name": "stdout",
     "text": [
      "\n",
      "Iteration 7/39 of epoch 3 complete. Loss : 0.9026834113257272 \n"
     ]
    },
    {
     "output_type": "stream",
     "name": "stderr",
     "text": [
      " 36%|███▌      | 14/39 [00:03<00:06,  4.15it/s]"
     ]
    },
    {
     "output_type": "stream",
     "name": "stdout",
     "text": [
      "\n",
      "Iteration 14/39 of epoch 3 complete. Loss : 0.8983810033117022 \n"
     ]
    },
    {
     "output_type": "stream",
     "name": "stderr",
     "text": [
      " 54%|█████▍    | 21/39 [00:05<00:04,  4.12it/s]"
     ]
    },
    {
     "output_type": "stream",
     "name": "stdout",
     "text": [
      "\n",
      "Iteration 21/39 of epoch 3 complete. Loss : 0.8991461055619376 \n"
     ]
    },
    {
     "output_type": "stream",
     "name": "stderr",
     "text": [
      " 72%|███████▏  | 28/39 [00:06<00:02,  4.12it/s]"
     ]
    },
    {
     "output_type": "stream",
     "name": "stdout",
     "text": [
      "\n",
      "Iteration 28/39 of epoch 3 complete. Loss : 0.8980538674763271 \n"
     ]
    },
    {
     "output_type": "stream",
     "name": "stderr",
     "text": [
      " 90%|████████▉ | 35/39 [00:08<00:00,  4.16it/s]"
     ]
    },
    {
     "output_type": "stream",
     "name": "stdout",
     "text": [
      "\n",
      "Iteration 35/39 of epoch 3 complete. Loss : 0.8958808524268014 \n"
     ]
    },
    {
     "output_type": "stream",
     "name": "stderr",
     "text": [
      "100%|██████████| 39/39 [00:09<00:00,  4.24it/s]\n",
      "100%|██████████| 10/10 [00:00<00:00, 14.75it/s]\n",
      "  0%|          | 0/39 [00:00<?, ?it/s]"
     ]
    },
    {
     "output_type": "stream",
     "name": "stdout",
     "text": [
      "\n",
      "Epoch 3 complete! Validation Loss : 1.7923551440238952\n",
      "Epoch 3 complete! Validation Accuracy : 0.2618371212121212\n",
      "Best validation loss improved from 1.7943078517913817 to 1.7923551440238952\n",
      "\n"
     ]
    },
    {
     "output_type": "stream",
     "name": "stderr",
     "text": [
      " 18%|█▊        | 7/39 [00:01<00:07,  4.15it/s]"
     ]
    },
    {
     "output_type": "stream",
     "name": "stdout",
     "text": [
      "\n",
      "Iteration 7/39 of epoch 4 complete. Loss : 0.9029721873147147 \n"
     ]
    },
    {
     "output_type": "stream",
     "name": "stderr",
     "text": [
      " 36%|███▌      | 14/39 [00:03<00:06,  4.11it/s]"
     ]
    },
    {
     "output_type": "stream",
     "name": "stdout",
     "text": [
      "\n",
      "Iteration 14/39 of epoch 4 complete. Loss : 0.9013379386493138 \n"
     ]
    },
    {
     "output_type": "stream",
     "name": "stderr",
     "text": [
      " 54%|█████▍    | 21/39 [00:05<00:04,  4.13it/s]"
     ]
    },
    {
     "output_type": "stream",
     "name": "stdout",
     "text": [
      "\n",
      "Iteration 21/39 of epoch 4 complete. Loss : 0.8998061333383832 \n"
     ]
    },
    {
     "output_type": "stream",
     "name": "stderr",
     "text": [
      " 72%|███████▏  | 28/39 [00:06<00:02,  4.10it/s]"
     ]
    },
    {
     "output_type": "stream",
     "name": "stdout",
     "text": [
      "\n",
      "Iteration 28/39 of epoch 4 complete. Loss : 0.8999108501843044 \n"
     ]
    },
    {
     "output_type": "stream",
     "name": "stderr",
     "text": [
      " 90%|████████▉ | 35/39 [00:08<00:00,  4.12it/s]"
     ]
    },
    {
     "output_type": "stream",
     "name": "stdout",
     "text": [
      "\n",
      "Iteration 35/39 of epoch 4 complete. Loss : 0.8958081943648202 \n"
     ]
    },
    {
     "output_type": "stream",
     "name": "stderr",
     "text": [
      "100%|██████████| 39/39 [00:09<00:00,  4.21it/s]\n",
      "100%|██████████| 10/10 [00:00<00:00, 14.64it/s]\n",
      "  0%|          | 0/39 [00:00<?, ?it/s]"
     ]
    },
    {
     "output_type": "stream",
     "name": "stdout",
     "text": [
      "\n",
      "Epoch 4 complete! Validation Loss : 1.789769220352173\n",
      "Epoch 4 complete! Validation Accuracy : 0.2712121212121212\n",
      "Best validation loss improved from 1.7923551440238952 to 1.789769220352173\n",
      "\n"
     ]
    },
    {
     "output_type": "stream",
     "name": "stderr",
     "text": [
      " 18%|█▊        | 7/39 [00:01<00:07,  4.12it/s]"
     ]
    },
    {
     "output_type": "stream",
     "name": "stdout",
     "text": [
      "\n",
      "Iteration 7/39 of epoch 5 complete. Loss : 0.9017977884837559 \n"
     ]
    },
    {
     "output_type": "stream",
     "name": "stderr",
     "text": [
      " 36%|███▌      | 14/39 [00:03<00:06,  4.09it/s]"
     ]
    },
    {
     "output_type": "stream",
     "name": "stdout",
     "text": [
      "\n",
      "Iteration 14/39 of epoch 5 complete. Loss : 0.8944624832698277 \n"
     ]
    },
    {
     "output_type": "stream",
     "name": "stderr",
     "text": [
      " 54%|█████▍    | 21/39 [00:05<00:04,  4.10it/s]"
     ]
    },
    {
     "output_type": "stream",
     "name": "stdout",
     "text": [
      "\n",
      "Iteration 21/39 of epoch 5 complete. Loss : 0.8945096560886928 \n"
     ]
    },
    {
     "output_type": "stream",
     "name": "stderr",
     "text": [
      " 72%|███████▏  | 28/39 [00:06<00:02,  4.06it/s]"
     ]
    },
    {
     "output_type": "stream",
     "name": "stdout",
     "text": [
      "\n",
      "Iteration 28/39 of epoch 5 complete. Loss : 0.8942374416760036 \n"
     ]
    },
    {
     "output_type": "stream",
     "name": "stderr",
     "text": [
      " 90%|████████▉ | 35/39 [00:08<00:00,  4.08it/s]"
     ]
    },
    {
     "output_type": "stream",
     "name": "stdout",
     "text": [
      "\n",
      "Iteration 35/39 of epoch 5 complete. Loss : 0.8935542617525373 \n"
     ]
    },
    {
     "output_type": "stream",
     "name": "stderr",
     "text": [
      "100%|██████████| 39/39 [00:09<00:00,  4.18it/s]\n",
      "100%|██████████| 10/10 [00:00<00:00, 14.59it/s]\n",
      "  0%|          | 0/39 [00:00<?, ?it/s]"
     ]
    },
    {
     "output_type": "stream",
     "name": "stdout",
     "text": [
      "\n",
      "Epoch 5 complete! Validation Loss : 1.7864779353141784\n",
      "Epoch 5 complete! Validation Accuracy : 0.2712121212121212\n",
      "Best validation loss improved from 1.789769220352173 to 1.7864779353141784\n",
      "\n"
     ]
    },
    {
     "output_type": "stream",
     "name": "stderr",
     "text": [
      " 18%|█▊        | 7/39 [00:01<00:07,  4.10it/s]"
     ]
    },
    {
     "output_type": "stream",
     "name": "stdout",
     "text": [
      "\n",
      "Iteration 7/39 of epoch 6 complete. Loss : 0.8963424989155361 \n"
     ]
    },
    {
     "output_type": "stream",
     "name": "stderr",
     "text": [
      " 36%|███▌      | 14/39 [00:03<00:06,  4.07it/s]"
     ]
    },
    {
     "output_type": "stream",
     "name": "stdout",
     "text": [
      "\n",
      "Iteration 14/39 of epoch 6 complete. Loss : 0.8928404876164028 \n"
     ]
    },
    {
     "output_type": "stream",
     "name": "stderr",
     "text": [
      " 54%|█████▍    | 21/39 [00:05<00:04,  4.09it/s]"
     ]
    },
    {
     "output_type": "stream",
     "name": "stdout",
     "text": [
      "\n",
      "Iteration 21/39 of epoch 6 complete. Loss : 0.8938502328736442 \n"
     ]
    },
    {
     "output_type": "stream",
     "name": "stderr",
     "text": [
      " 72%|███████▏  | 28/39 [00:06<00:02,  4.04it/s]"
     ]
    },
    {
     "output_type": "stream",
     "name": "stdout",
     "text": [
      "\n",
      "Iteration 28/39 of epoch 6 complete. Loss : 0.8924193126814706 \n"
     ]
    },
    {
     "output_type": "stream",
     "name": "stderr",
     "text": [
      " 90%|████████▉ | 35/39 [00:08<00:00,  4.05it/s]"
     ]
    },
    {
     "output_type": "stream",
     "name": "stdout",
     "text": [
      "\n",
      "Iteration 35/39 of epoch 6 complete. Loss : 0.8895378708839417 \n"
     ]
    },
    {
     "output_type": "stream",
     "name": "stderr",
     "text": [
      "100%|██████████| 39/39 [00:09<00:00,  4.15it/s]\n",
      "100%|██████████| 10/10 [00:00<00:00, 14.17it/s]\n",
      "  0%|          | 0/39 [00:00<?, ?it/s]"
     ]
    },
    {
     "output_type": "stream",
     "name": "stdout",
     "text": [
      "\n",
      "Epoch 6 complete! Validation Loss : 1.7825185894966125\n",
      "Epoch 6 complete! Validation Accuracy : 0.2712121212121212\n",
      "Best validation loss improved from 1.7864779353141784 to 1.7825185894966125\n",
      "\n"
     ]
    },
    {
     "output_type": "stream",
     "name": "stderr",
     "text": [
      " 18%|█▊        | 7/39 [00:01<00:08,  3.94it/s]"
     ]
    },
    {
     "output_type": "stream",
     "name": "stdout",
     "text": [
      "\n",
      "Iteration 7/39 of epoch 7 complete. Loss : 0.8968725289617266 \n"
     ]
    },
    {
     "output_type": "stream",
     "name": "stderr",
     "text": [
      " 36%|███▌      | 14/39 [00:03<00:06,  3.90it/s]"
     ]
    },
    {
     "output_type": "stream",
     "name": "stdout",
     "text": [
      "\n",
      "Iteration 14/39 of epoch 7 complete. Loss : 0.8918794393539429 \n"
     ]
    },
    {
     "output_type": "stream",
     "name": "stderr",
     "text": [
      " 54%|█████▍    | 21/39 [00:05<00:04,  3.91it/s]"
     ]
    },
    {
     "output_type": "stream",
     "name": "stdout",
     "text": [
      "\n",
      "Iteration 21/39 of epoch 7 complete. Loss : 0.8920380643435887 \n"
     ]
    },
    {
     "output_type": "stream",
     "name": "stderr",
     "text": [
      " 72%|███████▏  | 28/39 [00:07<00:02,  3.90it/s]"
     ]
    },
    {
     "output_type": "stream",
     "name": "stdout",
     "text": [
      "\n",
      "Iteration 28/39 of epoch 7 complete. Loss : 0.8911850537572589 \n"
     ]
    },
    {
     "output_type": "stream",
     "name": "stderr",
     "text": [
      " 90%|████████▉ | 35/39 [00:08<00:01,  3.90it/s]"
     ]
    },
    {
     "output_type": "stream",
     "name": "stdout",
     "text": [
      "\n",
      "Iteration 35/39 of epoch 7 complete. Loss : 0.8878341317176819 \n"
     ]
    },
    {
     "output_type": "stream",
     "name": "stderr",
     "text": [
      "100%|██████████| 39/39 [00:09<00:00,  3.99it/s]\n",
      "100%|██████████| 10/10 [00:00<00:00, 14.06it/s]\n",
      "  0%|          | 0/39 [00:00<?, ?it/s]"
     ]
    },
    {
     "output_type": "stream",
     "name": "stdout",
     "text": [
      "\n",
      "Epoch 7 complete! Validation Loss : 1.7778555870056152\n",
      "Epoch 7 complete! Validation Accuracy : 0.2712121212121212\n",
      "Best validation loss improved from 1.7825185894966125 to 1.7778555870056152\n",
      "\n"
     ]
    },
    {
     "output_type": "stream",
     "name": "stderr",
     "text": [
      " 18%|█▊        | 7/39 [00:01<00:08,  3.90it/s]"
     ]
    },
    {
     "output_type": "stream",
     "name": "stdout",
     "text": [
      "\n",
      "Iteration 7/39 of epoch 8 complete. Loss : 0.8942471657480512 \n"
     ]
    },
    {
     "output_type": "stream",
     "name": "stderr",
     "text": [
      " 36%|███▌      | 14/39 [00:03<00:06,  3.86it/s]"
     ]
    },
    {
     "output_type": "stream",
     "name": "stdout",
     "text": [
      "\n",
      "Iteration 14/39 of epoch 8 complete. Loss : 0.8914522443498883 \n"
     ]
    },
    {
     "output_type": "stream",
     "name": "stderr",
     "text": [
      " 54%|█████▍    | 21/39 [00:05<00:04,  3.87it/s]"
     ]
    },
    {
     "output_type": "stream",
     "name": "stdout",
     "text": [
      "\n",
      "Iteration 21/39 of epoch 8 complete. Loss : 0.8890496236937386 \n"
     ]
    },
    {
     "output_type": "stream",
     "name": "stderr",
     "text": [
      " 72%|███████▏  | 28/39 [00:07<00:02,  3.84it/s]"
     ]
    },
    {
     "output_type": "stream",
     "name": "stdout",
     "text": [
      "\n",
      "Iteration 28/39 of epoch 8 complete. Loss : 0.8879824110439846 \n"
     ]
    },
    {
     "output_type": "stream",
     "name": "stderr",
     "text": [
      " 90%|████████▉ | 35/39 [00:09<00:01,  3.85it/s]"
     ]
    },
    {
     "output_type": "stream",
     "name": "stdout",
     "text": [
      "\n",
      "Iteration 35/39 of epoch 8 complete. Loss : 0.8853227410997663 \n"
     ]
    },
    {
     "output_type": "stream",
     "name": "stderr",
     "text": [
      "100%|██████████| 39/39 [00:09<00:00,  3.95it/s]\n",
      "100%|██████████| 10/10 [00:00<00:00, 13.79it/s]\n",
      "  0%|          | 0/39 [00:00<?, ?it/s]"
     ]
    },
    {
     "output_type": "stream",
     "name": "stdout",
     "text": [
      "\n",
      "Epoch 8 complete! Validation Loss : 1.7721829175949098\n",
      "Epoch 8 complete! Validation Accuracy : 0.2712121212121212\n",
      "Best validation loss improved from 1.7778555870056152 to 1.7721829175949098\n",
      "\n"
     ]
    },
    {
     "output_type": "stream",
     "name": "stderr",
     "text": [
      " 18%|█▊        | 7/39 [00:01<00:08,  3.83it/s]"
     ]
    },
    {
     "output_type": "stream",
     "name": "stdout",
     "text": [
      "\n",
      "Iteration 7/39 of epoch 9 complete. Loss : 0.8931454249790737 \n"
     ]
    },
    {
     "output_type": "stream",
     "name": "stderr",
     "text": [
      " 36%|███▌      | 14/39 [00:03<00:06,  3.80it/s]"
     ]
    },
    {
     "output_type": "stream",
     "name": "stdout",
     "text": [
      "\n",
      "Iteration 14/39 of epoch 9 complete. Loss : 0.8855546627725873 \n"
     ]
    },
    {
     "output_type": "stream",
     "name": "stderr",
     "text": [
      " 54%|█████▍    | 21/39 [00:05<00:04,  3.80it/s]"
     ]
    },
    {
     "output_type": "stream",
     "name": "stdout",
     "text": [
      "\n",
      "Iteration 21/39 of epoch 9 complete. Loss : 0.8853173426219395 \n"
     ]
    },
    {
     "output_type": "stream",
     "name": "stderr",
     "text": [
      " 72%|███████▏  | 28/39 [00:07<00:02,  3.79it/s]"
     ]
    },
    {
     "output_type": "stream",
     "name": "stdout",
     "text": [
      "\n",
      "Iteration 28/39 of epoch 9 complete. Loss : 0.885983577796391 \n"
     ]
    },
    {
     "output_type": "stream",
     "name": "stderr",
     "text": [
      " 90%|████████▉ | 35/39 [00:09<00:01,  3.80it/s]"
     ]
    },
    {
     "output_type": "stream",
     "name": "stdout",
     "text": [
      "\n",
      "Iteration 35/39 of epoch 9 complete. Loss : 0.8797114746911185 \n"
     ]
    },
    {
     "output_type": "stream",
     "name": "stderr",
     "text": [
      "100%|██████████| 39/39 [00:10<00:00,  3.89it/s]\n",
      "100%|██████████| 10/10 [00:00<00:00, 13.59it/s]\n",
      "  0%|          | 0/39 [00:00<?, ?it/s]"
     ]
    },
    {
     "output_type": "stream",
     "name": "stdout",
     "text": [
      "\n",
      "Epoch 9 complete! Validation Loss : 1.7656273007392884\n",
      "Epoch 9 complete! Validation Accuracy : 0.2712121212121212\n",
      "Best validation loss improved from 1.7721829175949098 to 1.7656273007392884\n",
      "\n"
     ]
    },
    {
     "output_type": "stream",
     "name": "stderr",
     "text": [
      " 18%|█▊        | 7/39 [00:01<00:08,  3.79it/s]"
     ]
    },
    {
     "output_type": "stream",
     "name": "stdout",
     "text": [
      "\n",
      "Iteration 7/39 of epoch 10 complete. Loss : 0.8882931045123509 \n"
     ]
    },
    {
     "output_type": "stream",
     "name": "stderr",
     "text": [
      " 36%|███▌      | 14/39 [00:03<00:06,  3.76it/s]"
     ]
    },
    {
     "output_type": "stream",
     "name": "stdout",
     "text": [
      "\n",
      "Iteration 14/39 of epoch 10 complete. Loss : 0.8801135165350777 \n"
     ]
    },
    {
     "output_type": "stream",
     "name": "stderr",
     "text": [
      " 54%|█████▍    | 21/39 [00:05<00:04,  3.77it/s]"
     ]
    },
    {
     "output_type": "stream",
     "name": "stdout",
     "text": [
      "\n",
      "Iteration 21/39 of epoch 10 complete. Loss : 0.880574643611908 \n"
     ]
    },
    {
     "output_type": "stream",
     "name": "stderr",
     "text": [
      " 72%|███████▏  | 28/39 [00:07<00:02,  3.73it/s]"
     ]
    },
    {
     "output_type": "stream",
     "name": "stdout",
     "text": [
      "\n",
      "Iteration 28/39 of epoch 10 complete. Loss : 0.8827630536896842 \n"
     ]
    },
    {
     "output_type": "stream",
     "name": "stderr",
     "text": [
      " 90%|████████▉ | 35/39 [00:09<00:01,  3.76it/s]"
     ]
    },
    {
     "output_type": "stream",
     "name": "stdout",
     "text": [
      "\n",
      "Iteration 35/39 of epoch 10 complete. Loss : 0.8745082020759583 \n"
     ]
    },
    {
     "output_type": "stream",
     "name": "stderr",
     "text": [
      "100%|██████████| 39/39 [00:10<00:00,  3.84it/s]\n",
      "100%|██████████| 10/10 [00:00<00:00, 13.49it/s]\n",
      "  0%|          | 0/39 [00:00<?, ?it/s]"
     ]
    },
    {
     "output_type": "stream",
     "name": "stdout",
     "text": [
      "\n",
      "Epoch 10 complete! Validation Loss : 1.7577885508537292\n",
      "Epoch 10 complete! Validation Accuracy : 0.2712121212121212\n",
      "Best validation loss improved from 1.7656273007392884 to 1.7577885508537292\n",
      "\n"
     ]
    },
    {
     "output_type": "stream",
     "name": "stderr",
     "text": [
      " 18%|█▊        | 7/39 [00:01<00:08,  3.75it/s]"
     ]
    },
    {
     "output_type": "stream",
     "name": "stdout",
     "text": [
      "\n",
      "Iteration 7/39 of epoch 11 complete. Loss : 0.880281959261213 \n"
     ]
    },
    {
     "output_type": "stream",
     "name": "stderr",
     "text": [
      " 36%|███▌      | 14/39 [00:03<00:06,  3.70it/s]"
     ]
    },
    {
     "output_type": "stream",
     "name": "stdout",
     "text": [
      "\n",
      "Iteration 14/39 of epoch 11 complete. Loss : 0.8778831533023289 \n"
     ]
    },
    {
     "output_type": "stream",
     "name": "stderr",
     "text": [
      " 54%|█████▍    | 21/39 [00:05<00:04,  3.72it/s]"
     ]
    },
    {
     "output_type": "stream",
     "name": "stdout",
     "text": [
      "\n",
      "Iteration 21/39 of epoch 11 complete. Loss : 0.8751465252467564 \n"
     ]
    },
    {
     "output_type": "stream",
     "name": "stderr",
     "text": [
      " 72%|███████▏  | 28/39 [00:07<00:02,  3.69it/s]"
     ]
    },
    {
     "output_type": "stream",
     "name": "stdout",
     "text": [
      "\n",
      "Iteration 28/39 of epoch 11 complete. Loss : 0.8741526177951268 \n"
     ]
    },
    {
     "output_type": "stream",
     "name": "stderr",
     "text": [
      " 90%|████████▉ | 35/39 [00:09<00:01,  3.73it/s]"
     ]
    },
    {
     "output_type": "stream",
     "name": "stdout",
     "text": [
      "\n",
      "Iteration 35/39 of epoch 11 complete. Loss : 0.8671902929033551 \n"
     ]
    },
    {
     "output_type": "stream",
     "name": "stderr",
     "text": [
      "100%|██████████| 39/39 [00:10<00:00,  3.80it/s]\n",
      "100%|██████████| 10/10 [00:00<00:00, 13.41it/s]\n",
      "  0%|          | 0/39 [00:00<?, ?it/s]"
     ]
    },
    {
     "output_type": "stream",
     "name": "stdout",
     "text": [
      "\n",
      "Epoch 11 complete! Validation Loss : 1.7485651850700379\n",
      "Epoch 11 complete! Validation Accuracy : 0.2712121212121212\n",
      "Best validation loss improved from 1.7577885508537292 to 1.7485651850700379\n",
      "\n"
     ]
    },
    {
     "output_type": "stream",
     "name": "stderr",
     "text": [
      " 18%|█▊        | 7/39 [00:01<00:08,  3.73it/s]"
     ]
    },
    {
     "output_type": "stream",
     "name": "stdout",
     "text": [
      "\n",
      "Iteration 7/39 of epoch 12 complete. Loss : 0.876539775303432 \n"
     ]
    },
    {
     "output_type": "stream",
     "name": "stderr",
     "text": [
      " 36%|███▌      | 14/39 [00:03<00:06,  3.69it/s]"
     ]
    },
    {
     "output_type": "stream",
     "name": "stdout",
     "text": [
      "\n",
      "Iteration 14/39 of epoch 12 complete. Loss : 0.869868312563215 \n"
     ]
    },
    {
     "output_type": "stream",
     "name": "stderr",
     "text": [
      " 54%|█████▍    | 21/39 [00:05<00:04,  3.70it/s]"
     ]
    },
    {
     "output_type": "stream",
     "name": "stdout",
     "text": [
      "\n",
      "Iteration 21/39 of epoch 12 complete. Loss : 0.8660973140171596 \n"
     ]
    },
    {
     "output_type": "stream",
     "name": "stderr",
     "text": [
      " 72%|███████▏  | 28/39 [00:07<00:02,  3.67it/s]"
     ]
    },
    {
     "output_type": "stream",
     "name": "stdout",
     "text": [
      "\n",
      "Iteration 28/39 of epoch 12 complete. Loss : 0.8682116866111755 \n"
     ]
    },
    {
     "output_type": "stream",
     "name": "stderr",
     "text": [
      " 90%|████████▉ | 35/39 [00:09<00:01,  3.71it/s]"
     ]
    },
    {
     "output_type": "stream",
     "name": "stdout",
     "text": [
      "\n",
      "Iteration 35/39 of epoch 12 complete. Loss : 0.8616613660539899 \n"
     ]
    },
    {
     "output_type": "stream",
     "name": "stderr",
     "text": [
      "100%|██████████| 39/39 [00:10<00:00,  3.78it/s]\n",
      "100%|██████████| 10/10 [00:00<00:00, 13.37it/s]\n",
      "  0%|          | 0/39 [00:00<?, ?it/s]"
     ]
    },
    {
     "output_type": "stream",
     "name": "stdout",
     "text": [
      "\n",
      "Epoch 12 complete! Validation Loss : 1.7381432771682739\n",
      "Epoch 12 complete! Validation Accuracy : 0.2712121212121212\n",
      "Best validation loss improved from 1.7485651850700379 to 1.7381432771682739\n",
      "\n"
     ]
    },
    {
     "output_type": "stream",
     "name": "stderr",
     "text": [
      " 18%|█▊        | 7/39 [00:01<00:08,  3.71it/s]"
     ]
    },
    {
     "output_type": "stream",
     "name": "stdout",
     "text": [
      "\n",
      "Iteration 7/39 of epoch 13 complete. Loss : 0.8702694007328579 \n"
     ]
    },
    {
     "output_type": "stream",
     "name": "stderr",
     "text": [
      " 36%|███▌      | 14/39 [00:03<00:06,  3.67it/s]"
     ]
    },
    {
     "output_type": "stream",
     "name": "stdout",
     "text": [
      "\n",
      "Iteration 14/39 of epoch 13 complete. Loss : 0.8595472829682487 \n"
     ]
    },
    {
     "output_type": "stream",
     "name": "stderr",
     "text": [
      " 54%|█████▍    | 21/39 [00:05<00:04,  3.69it/s]"
     ]
    },
    {
     "output_type": "stream",
     "name": "stdout",
     "text": [
      "\n",
      "Iteration 21/39 of epoch 13 complete. Loss : 0.85503260578428 \n"
     ]
    },
    {
     "output_type": "stream",
     "name": "stderr",
     "text": [
      " 72%|███████▏  | 28/39 [00:07<00:03,  3.64it/s]"
     ]
    },
    {
     "output_type": "stream",
     "name": "stdout",
     "text": [
      "\n",
      "Iteration 28/39 of epoch 13 complete. Loss : 0.8593452743121556 \n"
     ]
    },
    {
     "output_type": "stream",
     "name": "stderr",
     "text": [
      " 90%|████████▉ | 35/39 [00:09<00:01,  3.66it/s]"
     ]
    },
    {
     "output_type": "stream",
     "name": "stdout",
     "text": [
      "\n",
      "Iteration 35/39 of epoch 13 complete. Loss : 0.8516525285584586 \n"
     ]
    },
    {
     "output_type": "stream",
     "name": "stderr",
     "text": [
      "100%|██████████| 39/39 [00:10<00:00,  3.76it/s]\n",
      "100%|██████████| 10/10 [00:00<00:00, 13.17it/s]\n",
      "  0%|          | 0/39 [00:00<?, ?it/s]"
     ]
    },
    {
     "output_type": "stream",
     "name": "stdout",
     "text": [
      "\n",
      "Epoch 13 complete! Validation Loss : 1.727252447605133\n",
      "Epoch 13 complete! Validation Accuracy : 0.2712121212121212\n",
      "Best validation loss improved from 1.7381432771682739 to 1.727252447605133\n",
      "\n"
     ]
    },
    {
     "output_type": "stream",
     "name": "stderr",
     "text": [
      " 18%|█▊        | 7/39 [00:01<00:08,  3.68it/s]"
     ]
    },
    {
     "output_type": "stream",
     "name": "stdout",
     "text": [
      "\n",
      "Iteration 7/39 of epoch 14 complete. Loss : 0.857913042817797 \n"
     ]
    },
    {
     "output_type": "stream",
     "name": "stderr",
     "text": [
      " 36%|███▌      | 14/39 [00:03<00:06,  3.63it/s]"
     ]
    },
    {
     "output_type": "stream",
     "name": "stdout",
     "text": [
      "\n",
      "Iteration 14/39 of epoch 14 complete. Loss : 0.8499622004372733 \n"
     ]
    },
    {
     "output_type": "stream",
     "name": "stderr",
     "text": [
      " 54%|█████▍    | 21/39 [00:05<00:04,  3.65it/s]"
     ]
    },
    {
     "output_type": "stream",
     "name": "stdout",
     "text": [
      "\n",
      "Iteration 21/39 of epoch 14 complete. Loss : 0.8456101587840489 \n"
     ]
    },
    {
     "output_type": "stream",
     "name": "stderr",
     "text": [
      " 72%|███████▏  | 28/39 [00:07<00:03,  3.62it/s]"
     ]
    },
    {
     "output_type": "stream",
     "name": "stdout",
     "text": [
      "\n",
      "Iteration 28/39 of epoch 14 complete. Loss : 0.8462973833084106 \n"
     ]
    },
    {
     "output_type": "stream",
     "name": "stderr",
     "text": [
      " 90%|████████▉ | 35/39 [00:09<00:01,  3.65it/s]"
     ]
    },
    {
     "output_type": "stream",
     "name": "stdout",
     "text": [
      "\n",
      "Iteration 35/39 of epoch 14 complete. Loss : 0.8391670073781695 \n"
     ]
    },
    {
     "output_type": "stream",
     "name": "stderr",
     "text": [
      "100%|██████████| 39/39 [00:10<00:00,  3.73it/s]\n",
      "100%|██████████| 10/10 [00:00<00:00, 13.13it/s]\n",
      "  0%|          | 0/39 [00:00<?, ?it/s]"
     ]
    },
    {
     "output_type": "stream",
     "name": "stdout",
     "text": [
      "\n",
      "Epoch 14 complete! Validation Loss : 1.7155976057052613\n",
      "Epoch 14 complete! Validation Accuracy : 0.2712121212121212\n",
      "Best validation loss improved from 1.727252447605133 to 1.7155976057052613\n",
      "\n"
     ]
    },
    {
     "output_type": "stream",
     "name": "stderr",
     "text": [
      " 18%|█▊        | 7/39 [00:01<00:08,  3.67it/s]"
     ]
    },
    {
     "output_type": "stream",
     "name": "stdout",
     "text": [
      "\n",
      "Iteration 7/39 of epoch 15 complete. Loss : 0.8447952015059335 \n"
     ]
    },
    {
     "output_type": "stream",
     "name": "stderr",
     "text": [
      " 36%|███▌      | 14/39 [00:03<00:06,  3.61it/s]"
     ]
    },
    {
     "output_type": "stream",
     "name": "stdout",
     "text": [
      "\n",
      "Iteration 14/39 of epoch 15 complete. Loss : 0.8356926185744149 \n"
     ]
    },
    {
     "output_type": "stream",
     "name": "stderr",
     "text": [
      " 54%|█████▍    | 21/39 [00:05<00:04,  3.63it/s]"
     ]
    },
    {
     "output_type": "stream",
     "name": "stdout",
     "text": [
      "\n",
      "Iteration 21/39 of epoch 15 complete. Loss : 0.8254117965698242 \n"
     ]
    },
    {
     "output_type": "stream",
     "name": "stderr",
     "text": [
      " 72%|███████▏  | 28/39 [00:07<00:03,  3.62it/s]"
     ]
    },
    {
     "output_type": "stream",
     "name": "stdout",
     "text": [
      "\n",
      "Iteration 28/39 of epoch 15 complete. Loss : 0.8292686002595084 \n"
     ]
    },
    {
     "output_type": "stream",
     "name": "stderr",
     "text": [
      " 90%|████████▉ | 35/39 [00:09<00:01,  3.62it/s]"
     ]
    },
    {
     "output_type": "stream",
     "name": "stdout",
     "text": [
      "\n",
      "Iteration 35/39 of epoch 15 complete. Loss : 0.8197445273399353 \n"
     ]
    },
    {
     "output_type": "stream",
     "name": "stderr",
     "text": [
      "100%|██████████| 39/39 [00:10<00:00,  3.71it/s]\n",
      "100%|██████████| 10/10 [00:00<00:00, 13.11it/s]\n",
      "  0%|          | 0/39 [00:00<?, ?it/s]"
     ]
    },
    {
     "output_type": "stream",
     "name": "stdout",
     "text": [
      "\n",
      "Epoch 15 complete! Validation Loss : 1.7044681072235108\n",
      "Epoch 15 complete! Validation Accuracy : 0.2712121212121212\n",
      "Best validation loss improved from 1.7155976057052613 to 1.7044681072235108\n",
      "\n"
     ]
    },
    {
     "output_type": "stream",
     "name": "stderr",
     "text": [
      " 18%|█▊        | 7/39 [00:01<00:08,  3.65it/s]"
     ]
    },
    {
     "output_type": "stream",
     "name": "stdout",
     "text": [
      "\n",
      "Iteration 7/39 of epoch 16 complete. Loss : 0.8299364617892674 \n"
     ]
    },
    {
     "output_type": "stream",
     "name": "stderr",
     "text": [
      " 36%|███▌      | 14/39 [00:03<00:06,  3.61it/s]"
     ]
    },
    {
     "output_type": "stream",
     "name": "stdout",
     "text": [
      "\n",
      "Iteration 14/39 of epoch 16 complete. Loss : 0.8192881771496364 \n"
     ]
    },
    {
     "output_type": "stream",
     "name": "stderr",
     "text": [
      " 54%|█████▍    | 21/39 [00:05<00:04,  3.63it/s]"
     ]
    },
    {
     "output_type": "stream",
     "name": "stdout",
     "text": [
      "\n",
      "Iteration 21/39 of epoch 16 complete. Loss : 0.8065130199704852 \n"
     ]
    },
    {
     "output_type": "stream",
     "name": "stderr",
     "text": [
      " 72%|███████▏  | 28/39 [00:07<00:03,  3.61it/s]"
     ]
    },
    {
     "output_type": "stream",
     "name": "stdout",
     "text": [
      "\n",
      "Iteration 28/39 of epoch 16 complete. Loss : 0.8117553165980748 \n"
     ]
    },
    {
     "output_type": "stream",
     "name": "stderr",
     "text": [
      " 90%|████████▉ | 35/39 [00:09<00:01,  3.61it/s]"
     ]
    },
    {
     "output_type": "stream",
     "name": "stdout",
     "text": [
      "\n",
      "Iteration 35/39 of epoch 16 complete. Loss : 0.7970344083649772 \n"
     ]
    },
    {
     "output_type": "stream",
     "name": "stderr",
     "text": [
      "100%|██████████| 39/39 [00:10<00:00,  3.70it/s]\n",
      "100%|██████████| 10/10 [00:00<00:00, 13.04it/s]\n",
      "  0%|          | 0/39 [00:00<?, ?it/s]"
     ]
    },
    {
     "output_type": "stream",
     "name": "stdout",
     "text": [
      "\n",
      "Epoch 16 complete! Validation Loss : 1.6931064248085022\n",
      "Epoch 16 complete! Validation Accuracy : 0.2727746212121212\n",
      "Best validation loss improved from 1.7044681072235108 to 1.6931064248085022\n",
      "\n"
     ]
    },
    {
     "output_type": "stream",
     "name": "stderr",
     "text": [
      " 18%|█▊        | 7/39 [00:01<00:08,  3.63it/s]"
     ]
    },
    {
     "output_type": "stream",
     "name": "stdout",
     "text": [
      "\n",
      "Iteration 7/39 of epoch 17 complete. Loss : 0.8157703706196376 \n"
     ]
    },
    {
     "output_type": "stream",
     "name": "stderr",
     "text": [
      " 36%|███▌      | 14/39 [00:03<00:06,  3.59it/s]"
     ]
    },
    {
     "output_type": "stream",
     "name": "stdout",
     "text": [
      "\n",
      "Iteration 14/39 of epoch 17 complete. Loss : 0.7939713767596653 \n"
     ]
    },
    {
     "output_type": "stream",
     "name": "stderr",
     "text": [
      " 54%|█████▍    | 21/39 [00:05<00:04,  3.63it/s]"
     ]
    },
    {
     "output_type": "stream",
     "name": "stdout",
     "text": [
      "\n",
      "Iteration 21/39 of epoch 17 complete. Loss : 0.7866253427096775 \n"
     ]
    },
    {
     "output_type": "stream",
     "name": "stderr",
     "text": [
      " 72%|███████▏  | 28/39 [00:07<00:03,  3.61it/s]"
     ]
    },
    {
     "output_type": "stream",
     "name": "stdout",
     "text": [
      "\n",
      "Iteration 28/39 of epoch 17 complete. Loss : 0.792483253138406 \n"
     ]
    },
    {
     "output_type": "stream",
     "name": "stderr",
     "text": [
      " 90%|████████▉ | 35/39 [00:09<00:01,  3.65it/s]"
     ]
    },
    {
     "output_type": "stream",
     "name": "stdout",
     "text": [
      "\n",
      "Iteration 35/39 of epoch 17 complete. Loss : 0.7737656491143363 \n"
     ]
    },
    {
     "output_type": "stream",
     "name": "stderr",
     "text": [
      "100%|██████████| 39/39 [00:10<00:00,  3.70it/s]\n",
      "100%|██████████| 10/10 [00:00<00:00, 13.06it/s]\n",
      "  0%|          | 0/39 [00:00<?, ?it/s]"
     ]
    },
    {
     "output_type": "stream",
     "name": "stdout",
     "text": [
      "\n",
      "Epoch 17 complete! Validation Loss : 1.6832027554512023\n",
      "Epoch 17 complete! Validation Accuracy : 0.27433712121212117\n",
      "Best validation loss improved from 1.6931064248085022 to 1.6832027554512023\n",
      "\n"
     ]
    },
    {
     "output_type": "stream",
     "name": "stderr",
     "text": [
      " 18%|█▊        | 7/39 [00:01<00:08,  3.62it/s]"
     ]
    },
    {
     "output_type": "stream",
     "name": "stdout",
     "text": [
      "\n",
      "Iteration 7/39 of epoch 18 complete. Loss : 0.7951392531394958 \n"
     ]
    },
    {
     "output_type": "stream",
     "name": "stderr",
     "text": [
      " 36%|███▌      | 14/39 [00:03<00:06,  3.59it/s]"
     ]
    },
    {
     "output_type": "stream",
     "name": "stdout",
     "text": [
      "\n",
      "Iteration 14/39 of epoch 18 complete. Loss : 0.7750623822212219 \n"
     ]
    },
    {
     "output_type": "stream",
     "name": "stderr",
     "text": [
      " 54%|█████▍    | 21/39 [00:05<00:04,  3.63it/s]"
     ]
    },
    {
     "output_type": "stream",
     "name": "stdout",
     "text": [
      "\n",
      "Iteration 21/39 of epoch 18 complete. Loss : 0.7588503616196769 \n"
     ]
    },
    {
     "output_type": "stream",
     "name": "stderr",
     "text": [
      " 72%|███████▏  | 28/39 [00:07<00:03,  3.60it/s]"
     ]
    },
    {
     "output_type": "stream",
     "name": "stdout",
     "text": [
      "\n",
      "Iteration 28/39 of epoch 18 complete. Loss : 0.7678077476365226 \n"
     ]
    },
    {
     "output_type": "stream",
     "name": "stderr",
     "text": [
      " 90%|████████▉ | 35/39 [00:09<00:01,  3.63it/s]"
     ]
    },
    {
     "output_type": "stream",
     "name": "stdout",
     "text": [
      "\n",
      "Iteration 35/39 of epoch 18 complete. Loss : 0.7480991738183158 \n"
     ]
    },
    {
     "output_type": "stream",
     "name": "stderr",
     "text": [
      "100%|██████████| 39/39 [00:10<00:00,  3.70it/s]\n",
      "100%|██████████| 10/10 [00:00<00:00, 13.03it/s]\n",
      "  0%|          | 0/39 [00:00<?, ?it/s]"
     ]
    },
    {
     "output_type": "stream",
     "name": "stdout",
     "text": [
      "\n",
      "Epoch 18 complete! Validation Loss : 1.6753501772880555\n",
      "Epoch 18 complete! Validation Accuracy : 0.2696496212121212\n",
      "Best validation loss improved from 1.6832027554512023 to 1.6753501772880555\n",
      "\n"
     ]
    },
    {
     "output_type": "stream",
     "name": "stderr",
     "text": [
      " 18%|█▊        | 7/39 [00:01<00:08,  3.63it/s]"
     ]
    },
    {
     "output_type": "stream",
     "name": "stdout",
     "text": [
      "\n",
      "Iteration 7/39 of epoch 19 complete. Loss : 0.7708776252610343 \n"
     ]
    },
    {
     "output_type": "stream",
     "name": "stderr",
     "text": [
      " 36%|███▌      | 14/39 [00:03<00:06,  3.60it/s]"
     ]
    },
    {
     "output_type": "stream",
     "name": "stdout",
     "text": [
      "\n",
      "Iteration 14/39 of epoch 19 complete. Loss : 0.7533198339598519 \n"
     ]
    },
    {
     "output_type": "stream",
     "name": "stderr",
     "text": [
      " 54%|█████▍    | 21/39 [00:05<00:04,  3.62it/s]"
     ]
    },
    {
     "output_type": "stream",
     "name": "stdout",
     "text": [
      "\n",
      "Iteration 21/39 of epoch 19 complete. Loss : 0.7328133668218341 \n"
     ]
    },
    {
     "output_type": "stream",
     "name": "stderr",
     "text": [
      " 72%|███████▏  | 28/39 [00:07<00:03,  3.61it/s]"
     ]
    },
    {
     "output_type": "stream",
     "name": "stdout",
     "text": [
      "\n",
      "Iteration 28/39 of epoch 19 complete. Loss : 0.7487629907471793 \n"
     ]
    },
    {
     "output_type": "stream",
     "name": "stderr",
     "text": [
      " 90%|████████▉ | 35/39 [00:09<00:01,  3.61it/s]"
     ]
    },
    {
     "output_type": "stream",
     "name": "stdout",
     "text": [
      "\n",
      "Iteration 35/39 of epoch 19 complete. Loss : 0.7248466781207493 \n"
     ]
    },
    {
     "output_type": "stream",
     "name": "stderr",
     "text": [
      "100%|██████████| 39/39 [00:10<00:00,  3.69it/s]\n",
      "100%|██████████| 10/10 [00:00<00:00, 13.13it/s]\n"
     ]
    },
    {
     "output_type": "stream",
     "name": "stdout",
     "text": [
      "\n",
      "Epoch 19 complete! Validation Loss : 1.668991994857788\n",
      "Epoch 19 complete! Validation Accuracy : 0.2837121212121212\n",
      "Best validation loss improved from 1.6753501772880555 to 1.668991994857788\n",
      "\n"
     ]
    },
    {
     "output_type": "stream",
     "name": "stderr",
     "text": [
      " 18%|█▊        | 7/39 [00:01<00:08,  3.64it/s]"
     ]
    },
    {
     "output_type": "stream",
     "name": "stdout",
     "text": [
      "\n",
      "Iteration 7/39 of epoch 20 complete. Loss : 0.751508184841701 \n"
     ]
    },
    {
     "output_type": "stream",
     "name": "stderr",
     "text": [
      " 36%|███▌      | 14/39 [00:03<00:06,  3.60it/s]"
     ]
    },
    {
     "output_type": "stream",
     "name": "stdout",
     "text": [
      "\n",
      "Iteration 14/39 of epoch 20 complete. Loss : 0.7327538217817035 \n"
     ]
    },
    {
     "output_type": "stream",
     "name": "stderr",
     "text": [
      " 54%|█████▍    | 21/39 [00:05<00:04,  3.62it/s]"
     ]
    },
    {
     "output_type": "stream",
     "name": "stdout",
     "text": [
      "\n",
      "Iteration 21/39 of epoch 20 complete. Loss : 0.7139020987919399 \n"
     ]
    },
    {
     "output_type": "stream",
     "name": "stderr",
     "text": [
      " 72%|███████▏  | 28/39 [00:07<00:03,  3.61it/s]"
     ]
    },
    {
     "output_type": "stream",
     "name": "stdout",
     "text": [
      "\n",
      "Iteration 28/39 of epoch 20 complete. Loss : 0.7243818044662476 \n"
     ]
    },
    {
     "output_type": "stream",
     "name": "stderr",
     "text": [
      " 90%|████████▉ | 35/39 [00:09<00:01,  3.62it/s]"
     ]
    },
    {
     "output_type": "stream",
     "name": "stdout",
     "text": [
      "\n",
      "Iteration 35/39 of epoch 20 complete. Loss : 0.7042164972850254 \n"
     ]
    },
    {
     "output_type": "stream",
     "name": "stderr",
     "text": [
      "100%|██████████| 39/39 [00:10<00:00,  3.70it/s]\n",
      "100%|██████████| 10/10 [00:00<00:00, 13.02it/s]\n",
      "  0%|          | 0/39 [00:00<?, ?it/s]"
     ]
    },
    {
     "output_type": "stream",
     "name": "stdout",
     "text": [
      "\n",
      "Epoch 20 complete! Validation Loss : 1.6607829451560974\n",
      "Epoch 20 complete! Validation Accuracy : 0.30227272727272725\n",
      "Best validation loss improved from 1.668991994857788 to 1.6607829451560974\n",
      "\n"
     ]
    },
    {
     "output_type": "stream",
     "name": "stderr",
     "text": [
      " 18%|█▊        | 7/39 [00:01<00:08,  3.57it/s]"
     ]
    },
    {
     "output_type": "stream",
     "name": "stdout",
     "text": [
      "\n",
      "Iteration 7/39 of epoch 21 complete. Loss : 0.7330429809434074 \n"
     ]
    },
    {
     "output_type": "stream",
     "name": "stderr",
     "text": [
      " 36%|███▌      | 14/39 [00:03<00:06,  3.60it/s]"
     ]
    },
    {
     "output_type": "stream",
     "name": "stdout",
     "text": [
      "\n",
      "Iteration 14/39 of epoch 21 complete. Loss : 0.7118698699133736 \n"
     ]
    },
    {
     "output_type": "stream",
     "name": "stderr",
     "text": [
      " 54%|█████▍    | 21/39 [00:05<00:04,  3.62it/s]"
     ]
    },
    {
     "output_type": "stream",
     "name": "stdout",
     "text": [
      "\n",
      "Iteration 21/39 of epoch 21 complete. Loss : 0.6966930457523891 \n"
     ]
    },
    {
     "output_type": "stream",
     "name": "stderr",
     "text": [
      " 72%|███████▏  | 28/39 [00:07<00:03,  3.60it/s]"
     ]
    },
    {
     "output_type": "stream",
     "name": "stdout",
     "text": [
      "\n",
      "Iteration 28/39 of epoch 21 complete. Loss : 0.7002886193139213 \n"
     ]
    },
    {
     "output_type": "stream",
     "name": "stderr",
     "text": [
      " 90%|████████▉ | 35/39 [00:09<00:01,  3.64it/s]"
     ]
    },
    {
     "output_type": "stream",
     "name": "stdout",
     "text": [
      "\n",
      "Iteration 35/39 of epoch 21 complete. Loss : 0.6797878827367511 \n"
     ]
    },
    {
     "output_type": "stream",
     "name": "stderr",
     "text": [
      "100%|██████████| 39/39 [00:10<00:00,  3.69it/s]\n",
      "100%|██████████| 10/10 [00:00<00:00, 13.12it/s]\n",
      "  0%|          | 0/39 [00:00<?, ?it/s]"
     ]
    },
    {
     "output_type": "stream",
     "name": "stdout",
     "text": [
      "\n",
      "Epoch 21 complete! Validation Loss : 1.6526861190795898\n",
      "Epoch 21 complete! Validation Accuracy : 0.3146780303030303\n",
      "Best validation loss improved from 1.6607829451560974 to 1.6526861190795898\n",
      "\n"
     ]
    },
    {
     "output_type": "stream",
     "name": "stderr",
     "text": [
      " 18%|█▊        | 7/39 [00:01<00:08,  3.61it/s]"
     ]
    },
    {
     "output_type": "stream",
     "name": "stdout",
     "text": [
      "\n",
      "Iteration 7/39 of epoch 22 complete. Loss : 0.7073225634438651 \n"
     ]
    },
    {
     "output_type": "stream",
     "name": "stderr",
     "text": [
      " 36%|███▌      | 14/39 [00:03<00:06,  3.61it/s]"
     ]
    },
    {
     "output_type": "stream",
     "name": "stdout",
     "text": [
      "\n",
      "Iteration 14/39 of epoch 22 complete. Loss : 0.6842497502054486 \n"
     ]
    },
    {
     "output_type": "stream",
     "name": "stderr",
     "text": [
      " 54%|█████▍    | 21/39 [00:05<00:04,  3.61it/s]"
     ]
    },
    {
     "output_type": "stream",
     "name": "stdout",
     "text": [
      "\n",
      "Iteration 21/39 of epoch 22 complete. Loss : 0.6620127132960728 \n"
     ]
    },
    {
     "output_type": "stream",
     "name": "stderr",
     "text": [
      " 72%|███████▏  | 28/39 [00:07<00:03,  3.60it/s]"
     ]
    },
    {
     "output_type": "stream",
     "name": "stdout",
     "text": [
      "\n",
      "Iteration 28/39 of epoch 22 complete. Loss : 0.6778530223029 \n"
     ]
    },
    {
     "output_type": "stream",
     "name": "stderr",
     "text": [
      " 90%|████████▉ | 35/39 [00:09<00:01,  3.64it/s]"
     ]
    },
    {
     "output_type": "stream",
     "name": "stdout",
     "text": [
      "\n",
      "Iteration 35/39 of epoch 22 complete. Loss : 0.6527483974184308 \n"
     ]
    },
    {
     "output_type": "stream",
     "name": "stderr",
     "text": [
      "100%|██████████| 39/39 [00:10<00:00,  3.69it/s]\n",
      "100%|██████████| 10/10 [00:00<00:00, 13.11it/s]\n",
      "  0%|          | 0/39 [00:00<?, ?it/s]"
     ]
    },
    {
     "output_type": "stream",
     "name": "stdout",
     "text": [
      "\n",
      "Epoch 22 complete! Validation Loss : 1.643328022956848\n",
      "Epoch 22 complete! Validation Accuracy : 0.33333333333333337\n",
      "Best validation loss improved from 1.6526861190795898 to 1.643328022956848\n",
      "\n"
     ]
    },
    {
     "output_type": "stream",
     "name": "stderr",
     "text": [
      " 18%|█▊        | 7/39 [00:01<00:08,  3.63it/s]"
     ]
    },
    {
     "output_type": "stream",
     "name": "stdout",
     "text": [
      "\n",
      "Iteration 7/39 of epoch 23 complete. Loss : 0.6775158217975071 \n"
     ]
    },
    {
     "output_type": "stream",
     "name": "stderr",
     "text": [
      " 36%|███▌      | 14/39 [00:03<00:06,  3.62it/s]"
     ]
    },
    {
     "output_type": "stream",
     "name": "stdout",
     "text": [
      "\n",
      "Iteration 14/39 of epoch 23 complete. Loss : 0.6633365835462298 \n"
     ]
    },
    {
     "output_type": "stream",
     "name": "stderr",
     "text": [
      " 54%|█████▍    | 21/39 [00:05<00:04,  3.62it/s]"
     ]
    },
    {
     "output_type": "stream",
     "name": "stdout",
     "text": [
      "\n",
      "Iteration 21/39 of epoch 23 complete. Loss : 0.6359421014785767 \n"
     ]
    },
    {
     "output_type": "stream",
     "name": "stderr",
     "text": [
      " 72%|███████▏  | 28/39 [00:07<00:03,  3.60it/s]"
     ]
    },
    {
     "output_type": "stream",
     "name": "stdout",
     "text": [
      "\n",
      "Iteration 28/39 of epoch 23 complete. Loss : 0.6505552615438189 \n"
     ]
    },
    {
     "output_type": "stream",
     "name": "stderr",
     "text": [
      " 90%|████████▉ | 35/39 [00:09<00:01,  3.62it/s]"
     ]
    },
    {
     "output_type": "stream",
     "name": "stdout",
     "text": [
      "\n",
      "Iteration 35/39 of epoch 23 complete. Loss : 0.6236083081790379 \n"
     ]
    },
    {
     "output_type": "stream",
     "name": "stderr",
     "text": [
      "100%|██████████| 39/39 [00:10<00:00,  3.69it/s]\n",
      "100%|██████████| 10/10 [00:00<00:00, 13.18it/s]\n",
      "  0%|          | 0/39 [00:00<?, ?it/s]"
     ]
    },
    {
     "output_type": "stream",
     "name": "stdout",
     "text": [
      "\n",
      "Epoch 23 complete! Validation Loss : 1.6387071371078492\n",
      "Epoch 23 complete! Validation Accuracy : 0.3332386363636364\n",
      "Best validation loss improved from 1.643328022956848 to 1.6387071371078492\n",
      "\n"
     ]
    },
    {
     "output_type": "stream",
     "name": "stderr",
     "text": [
      " 18%|█▊        | 7/39 [00:01<00:08,  3.63it/s]"
     ]
    },
    {
     "output_type": "stream",
     "name": "stdout",
     "text": [
      "\n",
      "Iteration 7/39 of epoch 24 complete. Loss : 0.6451629059655326 \n"
     ]
    },
    {
     "output_type": "stream",
     "name": "stderr",
     "text": [
      " 36%|███▌      | 14/39 [00:03<00:06,  3.61it/s]"
     ]
    },
    {
     "output_type": "stream",
     "name": "stdout",
     "text": [
      "\n",
      "Iteration 14/39 of epoch 24 complete. Loss : 0.6334210549082074 \n"
     ]
    },
    {
     "output_type": "stream",
     "name": "stderr",
     "text": [
      " 54%|█████▍    | 21/39 [00:05<00:04,  3.61it/s]"
     ]
    },
    {
     "output_type": "stream",
     "name": "stdout",
     "text": [
      "\n",
      "Iteration 21/39 of epoch 24 complete. Loss : 0.60438186781747 \n"
     ]
    },
    {
     "output_type": "stream",
     "name": "stderr",
     "text": [
      " 72%|███████▏  | 28/39 [00:07<00:03,  3.61it/s]"
     ]
    },
    {
     "output_type": "stream",
     "name": "stdout",
     "text": [
      "\n",
      "Iteration 28/39 of epoch 24 complete. Loss : 0.6156264288084847 \n"
     ]
    },
    {
     "output_type": "stream",
     "name": "stderr",
     "text": [
      " 90%|████████▉ | 35/39 [00:09<00:01,  3.62it/s]"
     ]
    },
    {
     "output_type": "stream",
     "name": "stdout",
     "text": [
      "\n",
      "Iteration 35/39 of epoch 24 complete. Loss : 0.593637832573482 \n"
     ]
    },
    {
     "output_type": "stream",
     "name": "stderr",
     "text": [
      "100%|██████████| 39/39 [00:10<00:00,  3.69it/s]\n",
      "100%|██████████| 10/10 [00:00<00:00, 13.10it/s]\n",
      "  0%|          | 0/39 [00:00<?, ?it/s]"
     ]
    },
    {
     "output_type": "stream",
     "name": "stdout",
     "text": [
      "\n",
      "Epoch 24 complete! Validation Loss : 1.6446609973907471\n",
      "Epoch 24 complete! Validation Accuracy : 0.34270833333333334\n"
     ]
    },
    {
     "output_type": "stream",
     "name": "stderr",
     "text": [
      " 18%|█▊        | 7/39 [00:01<00:08,  3.64it/s]"
     ]
    },
    {
     "output_type": "stream",
     "name": "stdout",
     "text": [
      "\n",
      "Iteration 7/39 of epoch 25 complete. Loss : 0.6108980689729963 \n"
     ]
    },
    {
     "output_type": "stream",
     "name": "stderr",
     "text": [
      " 36%|███▌      | 14/39 [00:03<00:06,  3.62it/s]"
     ]
    },
    {
     "output_type": "stream",
     "name": "stdout",
     "text": [
      "\n",
      "Iteration 14/39 of epoch 25 complete. Loss : 0.5996549384934562 \n"
     ]
    },
    {
     "output_type": "stream",
     "name": "stderr",
     "text": [
      " 54%|█████▍    | 21/39 [00:05<00:04,  3.63it/s]"
     ]
    },
    {
     "output_type": "stream",
     "name": "stdout",
     "text": [
      "\n",
      "Iteration 21/39 of epoch 25 complete. Loss : 0.5689054897853306 \n"
     ]
    },
    {
     "output_type": "stream",
     "name": "stderr",
     "text": [
      " 72%|███████▏  | 28/39 [00:07<00:03,  3.64it/s]"
     ]
    },
    {
     "output_type": "stream",
     "name": "stdout",
     "text": [
      "\n",
      "Iteration 28/39 of epoch 25 complete. Loss : 0.5895501630646842 \n"
     ]
    },
    {
     "output_type": "stream",
     "name": "stderr",
     "text": [
      " 90%|████████▉ | 35/39 [00:09<00:01,  3.64it/s]"
     ]
    },
    {
     "output_type": "stream",
     "name": "stdout",
     "text": [
      "\n",
      "Iteration 35/39 of epoch 25 complete. Loss : 0.557313825402941 \n"
     ]
    },
    {
     "output_type": "stream",
     "name": "stderr",
     "text": [
      "100%|██████████| 39/39 [00:10<00:00,  3.71it/s]\n",
      "100%|██████████| 10/10 [00:00<00:00, 13.18it/s]\n",
      "  0%|          | 0/39 [00:00<?, ?it/s]"
     ]
    },
    {
     "output_type": "stream",
     "name": "stdout",
     "text": [
      "\n",
      "Epoch 25 complete! Validation Loss : 1.6501824736595154\n",
      "Epoch 25 complete! Validation Accuracy : 0.3504261363636364\n"
     ]
    },
    {
     "output_type": "stream",
     "name": "stderr",
     "text": [
      " 18%|█▊        | 7/39 [00:01<00:08,  3.63it/s]"
     ]
    },
    {
     "output_type": "stream",
     "name": "stdout",
     "text": [
      "\n",
      "Iteration 7/39 of epoch 26 complete. Loss : 0.5753537671906608 \n"
     ]
    },
    {
     "output_type": "stream",
     "name": "stderr",
     "text": [
      " 36%|███▌      | 14/39 [00:03<00:06,  3.62it/s]"
     ]
    },
    {
     "output_type": "stream",
     "name": "stdout",
     "text": [
      "\n",
      "Iteration 14/39 of epoch 26 complete. Loss : 0.5752722110067096 \n"
     ]
    },
    {
     "output_type": "stream",
     "name": "stderr",
     "text": [
      " 54%|█████▍    | 21/39 [00:05<00:04,  3.63it/s]"
     ]
    },
    {
     "output_type": "stream",
     "name": "stdout",
     "text": [
      "\n",
      "Iteration 21/39 of epoch 26 complete. Loss : 0.5400181029524121 \n"
     ]
    },
    {
     "output_type": "stream",
     "name": "stderr",
     "text": [
      " 72%|███████▏  | 28/39 [00:07<00:03,  3.61it/s]"
     ]
    },
    {
     "output_type": "stream",
     "name": "stdout",
     "text": [
      "\n",
      "Iteration 28/39 of epoch 26 complete. Loss : 0.5561175346374512 \n"
     ]
    },
    {
     "output_type": "stream",
     "name": "stderr",
     "text": [
      " 90%|████████▉ | 35/39 [00:09<00:01,  3.62it/s]"
     ]
    },
    {
     "output_type": "stream",
     "name": "stdout",
     "text": [
      "\n",
      "Iteration 35/39 of epoch 26 complete. Loss : 0.5345196042742048 \n"
     ]
    },
    {
     "output_type": "stream",
     "name": "stderr",
     "text": [
      "100%|██████████| 39/39 [00:10<00:00,  3.70it/s]\n",
      "100%|██████████| 10/10 [00:00<00:00, 13.13it/s]\n",
      "  0%|          | 0/39 [00:00<?, ?it/s]"
     ]
    },
    {
     "output_type": "stream",
     "name": "stdout",
     "text": [
      "\n",
      "Epoch 26 complete! Validation Loss : 1.6551947832107543\n",
      "Epoch 26 complete! Validation Accuracy : 0.3315814393939394\n"
     ]
    },
    {
     "output_type": "stream",
     "name": "stderr",
     "text": [
      " 18%|█▊        | 7/39 [00:01<00:08,  3.63it/s]"
     ]
    },
    {
     "output_type": "stream",
     "name": "stdout",
     "text": [
      "\n",
      "Iteration 7/39 of epoch 27 complete. Loss : 0.5427419415542057 \n"
     ]
    },
    {
     "output_type": "stream",
     "name": "stderr",
     "text": [
      " 36%|███▌      | 14/39 [00:03<00:06,  3.61it/s]"
     ]
    },
    {
     "output_type": "stream",
     "name": "stdout",
     "text": [
      "\n",
      "Iteration 14/39 of epoch 27 complete. Loss : 0.5389184100287301 \n"
     ]
    },
    {
     "output_type": "stream",
     "name": "stderr",
     "text": [
      " 54%|█████▍    | 21/39 [00:05<00:04,  3.64it/s]"
     ]
    },
    {
     "output_type": "stream",
     "name": "stdout",
     "text": [
      "\n",
      "Iteration 21/39 of epoch 27 complete. Loss : 0.5074846276215145 \n"
     ]
    },
    {
     "output_type": "stream",
     "name": "stderr",
     "text": [
      " 72%|███████▏  | 28/39 [00:07<00:03,  3.63it/s]"
     ]
    },
    {
     "output_type": "stream",
     "name": "stdout",
     "text": [
      "\n",
      "Iteration 28/39 of epoch 27 complete. Loss : 0.5328600576945713 \n"
     ]
    },
    {
     "output_type": "stream",
     "name": "stderr",
     "text": [
      " 90%|████████▉ | 35/39 [00:09<00:01,  3.63it/s]"
     ]
    },
    {
     "output_type": "stream",
     "name": "stdout",
     "text": [
      "\n",
      "Iteration 35/39 of epoch 27 complete. Loss : 0.5091481081077031 \n"
     ]
    },
    {
     "output_type": "stream",
     "name": "stderr",
     "text": [
      "100%|██████████| 39/39 [00:10<00:00,  3.71it/s]\n",
      "100%|██████████| 10/10 [00:00<00:00, 13.06it/s]\n",
      "  0%|          | 0/39 [00:00<?, ?it/s]"
     ]
    },
    {
     "output_type": "stream",
     "name": "stdout",
     "text": [
      "\n",
      "Epoch 27 complete! Validation Loss : 1.6596907138824464\n",
      "Epoch 27 complete! Validation Accuracy : 0.33948863636363635\n"
     ]
    },
    {
     "output_type": "stream",
     "name": "stderr",
     "text": [
      " 18%|█▊        | 7/39 [00:01<00:08,  3.63it/s]"
     ]
    },
    {
     "output_type": "stream",
     "name": "stdout",
     "text": [
      "\n",
      "Iteration 7/39 of epoch 28 complete. Loss : 0.5140117917742048 \n"
     ]
    },
    {
     "output_type": "stream",
     "name": "stderr",
     "text": [
      " 36%|███▌      | 14/39 [00:03<00:06,  3.63it/s]"
     ]
    },
    {
     "output_type": "stream",
     "name": "stdout",
     "text": [
      "\n",
      "Iteration 14/39 of epoch 28 complete. Loss : 0.5124416308743613 \n"
     ]
    },
    {
     "output_type": "stream",
     "name": "stderr",
     "text": [
      " 54%|█████▍    | 21/39 [00:05<00:04,  3.62it/s]"
     ]
    },
    {
     "output_type": "stream",
     "name": "stdout",
     "text": [
      "\n",
      "Iteration 21/39 of epoch 28 complete. Loss : 0.4853436393397195 \n"
     ]
    },
    {
     "output_type": "stream",
     "name": "stderr",
     "text": [
      " 72%|███████▏  | 28/39 [00:07<00:03,  3.62it/s]"
     ]
    },
    {
     "output_type": "stream",
     "name": "stdout",
     "text": [
      "\n",
      "Iteration 28/39 of epoch 28 complete. Loss : 0.49599702443395344 \n"
     ]
    },
    {
     "output_type": "stream",
     "name": "stderr",
     "text": [
      " 90%|████████▉ | 35/39 [00:09<00:01,  3.65it/s]"
     ]
    },
    {
     "output_type": "stream",
     "name": "stdout",
     "text": [
      "\n",
      "Iteration 35/39 of epoch 28 complete. Loss : 0.484969824552536 \n"
     ]
    },
    {
     "output_type": "stream",
     "name": "stderr",
     "text": [
      "100%|██████████| 39/39 [00:10<00:00,  3.71it/s]\n",
      "100%|██████████| 10/10 [00:00<00:00, 13.13it/s]\n",
      "  0%|          | 0/39 [00:00<?, ?it/s]"
     ]
    },
    {
     "output_type": "stream",
     "name": "stdout",
     "text": [
      "\n",
      "Epoch 28 complete! Validation Loss : 1.6718387126922607\n",
      "Epoch 28 complete! Validation Accuracy : 0.31770833333333337\n"
     ]
    },
    {
     "output_type": "stream",
     "name": "stderr",
     "text": [
      " 18%|█▊        | 7/39 [00:01<00:08,  3.61it/s]"
     ]
    },
    {
     "output_type": "stream",
     "name": "stdout",
     "text": [
      "\n",
      "Iteration 7/39 of epoch 29 complete. Loss : 0.48849337867328096 \n"
     ]
    },
    {
     "output_type": "stream",
     "name": "stderr",
     "text": [
      " 36%|███▌      | 14/39 [00:03<00:06,  3.60it/s]"
     ]
    },
    {
     "output_type": "stream",
     "name": "stdout",
     "text": [
      "\n",
      "Iteration 14/39 of epoch 29 complete. Loss : 0.48644530347415377 \n"
     ]
    },
    {
     "output_type": "stream",
     "name": "stderr",
     "text": [
      " 54%|█████▍    | 21/39 [00:05<00:04,  3.62it/s]"
     ]
    },
    {
     "output_type": "stream",
     "name": "stdout",
     "text": [
      "\n",
      "Iteration 21/39 of epoch 29 complete. Loss : 0.44947807277951923 \n"
     ]
    },
    {
     "output_type": "stream",
     "name": "stderr",
     "text": [
      " 72%|███████▏  | 28/39 [00:07<00:03,  3.59it/s]"
     ]
    },
    {
     "output_type": "stream",
     "name": "stdout",
     "text": [
      "\n",
      "Iteration 28/39 of epoch 29 complete. Loss : 0.4664582780429295 \n"
     ]
    },
    {
     "output_type": "stream",
     "name": "stderr",
     "text": [
      " 90%|████████▉ | 35/39 [00:09<00:01,  3.63it/s]"
     ]
    },
    {
     "output_type": "stream",
     "name": "stdout",
     "text": [
      "\n",
      "Iteration 35/39 of epoch 29 complete. Loss : 0.45012739300727844 \n"
     ]
    },
    {
     "output_type": "stream",
     "name": "stderr",
     "text": [
      "100%|██████████| 39/39 [00:10<00:00,  3.70it/s]\n",
      "100%|██████████| 10/10 [00:00<00:00, 13.04it/s]\n",
      "  0%|          | 0/39 [00:00<?, ?it/s]"
     ]
    },
    {
     "output_type": "stream",
     "name": "stdout",
     "text": [
      "\n",
      "Epoch 29 complete! Validation Loss : 1.6774739384651185\n",
      "Epoch 29 complete! Validation Accuracy : 0.3269886363636364\n"
     ]
    },
    {
     "output_type": "stream",
     "name": "stderr",
     "text": [
      " 18%|█▊        | 7/39 [00:01<00:08,  3.64it/s]"
     ]
    },
    {
     "output_type": "stream",
     "name": "stdout",
     "text": [
      "\n",
      "Iteration 7/39 of epoch 30 complete. Loss : 0.4517339680876051 \n"
     ]
    },
    {
     "output_type": "stream",
     "name": "stderr",
     "text": [
      " 36%|███▌      | 14/39 [00:03<00:06,  3.59it/s]"
     ]
    },
    {
     "output_type": "stream",
     "name": "stdout",
     "text": [
      "\n",
      "Iteration 14/39 of epoch 30 complete. Loss : 0.4552707374095917 \n"
     ]
    },
    {
     "output_type": "stream",
     "name": "stderr",
     "text": [
      " 54%|█████▍    | 21/39 [00:05<00:04,  3.64it/s]"
     ]
    },
    {
     "output_type": "stream",
     "name": "stdout",
     "text": [
      "\n",
      "Iteration 21/39 of epoch 30 complete. Loss : 0.4185897707939148 \n"
     ]
    },
    {
     "output_type": "stream",
     "name": "stderr",
     "text": [
      " 72%|███████▏  | 28/39 [00:07<00:03,  3.62it/s]"
     ]
    },
    {
     "output_type": "stream",
     "name": "stdout",
     "text": [
      "\n",
      "Iteration 28/39 of epoch 30 complete. Loss : 0.43462241121700834 \n"
     ]
    },
    {
     "output_type": "stream",
     "name": "stderr",
     "text": [
      " 90%|████████▉ | 35/39 [00:09<00:01,  3.65it/s]"
     ]
    },
    {
     "output_type": "stream",
     "name": "stdout",
     "text": [
      "\n",
      "Iteration 35/39 of epoch 30 complete. Loss : 0.4215722850390843 \n"
     ]
    },
    {
     "output_type": "stream",
     "name": "stderr",
     "text": [
      "100%|██████████| 39/39 [00:10<00:00,  3.71it/s]\n",
      "100%|██████████| 10/10 [00:00<00:00, 13.04it/s]\n",
      "  0%|          | 0/39 [00:00<?, ?it/s]"
     ]
    },
    {
     "output_type": "stream",
     "name": "stdout",
     "text": [
      "\n",
      "Epoch 30 complete! Validation Loss : 1.6977487325668335\n",
      "Epoch 30 complete! Validation Accuracy : 0.32855113636363636\n"
     ]
    },
    {
     "output_type": "stream",
     "name": "stderr",
     "text": [
      " 18%|█▊        | 7/39 [00:01<00:08,  3.64it/s]"
     ]
    },
    {
     "output_type": "stream",
     "name": "stdout",
     "text": [
      "\n",
      "Iteration 7/39 of epoch 31 complete. Loss : 0.42118313908576965 \n"
     ]
    },
    {
     "output_type": "stream",
     "name": "stderr",
     "text": [
      " 36%|███▌      | 14/39 [00:03<00:06,  3.60it/s]"
     ]
    },
    {
     "output_type": "stream",
     "name": "stdout",
     "text": [
      "\n",
      "Iteration 14/39 of epoch 31 complete. Loss : 0.4219226198537009 \n"
     ]
    },
    {
     "output_type": "stream",
     "name": "stderr",
     "text": [
      " 54%|█████▍    | 21/39 [00:05<00:04,  3.64it/s]"
     ]
    },
    {
     "output_type": "stream",
     "name": "stdout",
     "text": [
      "\n",
      "Iteration 21/39 of epoch 31 complete. Loss : 0.3943845885140555 \n"
     ]
    },
    {
     "output_type": "stream",
     "name": "stderr",
     "text": [
      " 72%|███████▏  | 28/39 [00:07<00:03,  3.62it/s]"
     ]
    },
    {
     "output_type": "stream",
     "name": "stdout",
     "text": [
      "\n",
      "Iteration 28/39 of epoch 31 complete. Loss : 0.39600944093295504 \n"
     ]
    },
    {
     "output_type": "stream",
     "name": "stderr",
     "text": [
      " 90%|████████▉ | 35/39 [00:09<00:01,  3.66it/s]"
     ]
    },
    {
     "output_type": "stream",
     "name": "stdout",
     "text": [
      "\n",
      "Iteration 35/39 of epoch 31 complete. Loss : 0.3840692937374115 \n"
     ]
    },
    {
     "output_type": "stream",
     "name": "stderr",
     "text": [
      "100%|██████████| 39/39 [00:10<00:00,  3.71it/s]\n",
      "100%|██████████| 10/10 [00:00<00:00, 13.06it/s]\n",
      "  0%|          | 0/39 [00:00<?, ?it/s]"
     ]
    },
    {
     "output_type": "stream",
     "name": "stdout",
     "text": [
      "\n",
      "Epoch 31 complete! Validation Loss : 1.7114263772964478\n",
      "Epoch 31 complete! Validation Accuracy : 0.33636363636363636\n"
     ]
    },
    {
     "output_type": "stream",
     "name": "stderr",
     "text": [
      " 18%|█▊        | 7/39 [00:01<00:08,  3.65it/s]"
     ]
    },
    {
     "output_type": "stream",
     "name": "stdout",
     "text": [
      "\n",
      "Iteration 7/39 of epoch 32 complete. Loss : 0.39138380118778776 \n"
     ]
    },
    {
     "output_type": "stream",
     "name": "stderr",
     "text": [
      " 36%|███▌      | 14/39 [00:03<00:06,  3.62it/s]"
     ]
    },
    {
     "output_type": "stream",
     "name": "stdout",
     "text": [
      "\n",
      "Iteration 14/39 of epoch 32 complete. Loss : 0.3837026570524488 \n"
     ]
    },
    {
     "output_type": "stream",
     "name": "stderr",
     "text": [
      " 54%|█████▍    | 21/39 [00:05<00:04,  3.64it/s]"
     ]
    },
    {
     "output_type": "stream",
     "name": "stdout",
     "text": [
      "\n",
      "Iteration 21/39 of epoch 32 complete. Loss : 0.3610709863049643 \n"
     ]
    },
    {
     "output_type": "stream",
     "name": "stderr",
     "text": [
      " 72%|███████▏  | 28/39 [00:07<00:03,  3.64it/s]"
     ]
    },
    {
     "output_type": "stream",
     "name": "stdout",
     "text": [
      "\n",
      "Iteration 28/39 of epoch 32 complete. Loss : 0.3676011306898935 \n"
     ]
    },
    {
     "output_type": "stream",
     "name": "stderr",
     "text": [
      " 90%|████████▉ | 35/39 [00:09<00:01,  3.64it/s]"
     ]
    },
    {
     "output_type": "stream",
     "name": "stdout",
     "text": [
      "\n",
      "Iteration 35/39 of epoch 32 complete. Loss : 0.3451286767210279 \n"
     ]
    },
    {
     "output_type": "stream",
     "name": "stderr",
     "text": [
      "100%|██████████| 39/39 [00:10<00:00,  3.72it/s]\n",
      "100%|██████████| 10/10 [00:00<00:00, 13.18it/s]\n",
      "  0%|          | 0/39 [00:00<?, ?it/s]"
     ]
    },
    {
     "output_type": "stream",
     "name": "stdout",
     "text": [
      "\n",
      "Epoch 32 complete! Validation Loss : 1.730401885509491\n",
      "Epoch 32 complete! Validation Accuracy : 0.32883522727272724\n"
     ]
    },
    {
     "output_type": "stream",
     "name": "stderr",
     "text": [
      " 18%|█▊        | 7/39 [00:01<00:08,  3.64it/s]"
     ]
    },
    {
     "output_type": "stream",
     "name": "stdout",
     "text": [
      "\n",
      "Iteration 7/39 of epoch 33 complete. Loss : 0.35524603724479675 \n"
     ]
    },
    {
     "output_type": "stream",
     "name": "stderr",
     "text": [
      " 36%|███▌      | 14/39 [00:03<00:06,  3.63it/s]"
     ]
    },
    {
     "output_type": "stream",
     "name": "stdout",
     "text": [
      "\n",
      "Iteration 14/39 of epoch 33 complete. Loss : 0.35026279943329947 \n"
     ]
    },
    {
     "output_type": "stream",
     "name": "stderr",
     "text": [
      " 54%|█████▍    | 21/39 [00:05<00:04,  3.64it/s]"
     ]
    },
    {
     "output_type": "stream",
     "name": "stdout",
     "text": [
      "\n",
      "Iteration 21/39 of epoch 33 complete. Loss : 0.31748091748782564 \n"
     ]
    },
    {
     "output_type": "stream",
     "name": "stderr",
     "text": [
      " 72%|███████▏  | 28/39 [00:07<00:03,  3.62it/s]"
     ]
    },
    {
     "output_type": "stream",
     "name": "stdout",
     "text": [
      "\n",
      "Iteration 28/39 of epoch 33 complete. Loss : 0.33073102150644573 \n"
     ]
    },
    {
     "output_type": "stream",
     "name": "stderr",
     "text": [
      " 90%|████████▉ | 35/39 [00:09<00:01,  3.64it/s]"
     ]
    },
    {
     "output_type": "stream",
     "name": "stdout",
     "text": [
      "\n",
      "Iteration 35/39 of epoch 33 complete. Loss : 0.32554235202925547 \n"
     ]
    },
    {
     "output_type": "stream",
     "name": "stderr",
     "text": [
      "100%|██████████| 39/39 [00:10<00:00,  3.71it/s]\n",
      "100%|██████████| 10/10 [00:00<00:00, 13.17it/s]\n",
      "  0%|          | 0/39 [00:00<?, ?it/s]"
     ]
    },
    {
     "output_type": "stream",
     "name": "stdout",
     "text": [
      "\n",
      "Epoch 33 complete! Validation Loss : 1.7323134660720825\n",
      "Epoch 33 complete! Validation Accuracy : 0.32121212121212117\n"
     ]
    },
    {
     "output_type": "stream",
     "name": "stderr",
     "text": [
      " 18%|█▊        | 7/39 [00:01<00:08,  3.65it/s]"
     ]
    },
    {
     "output_type": "stream",
     "name": "stdout",
     "text": [
      "\n",
      "Iteration 7/39 of epoch 34 complete. Loss : 0.3204463720321655 \n"
     ]
    },
    {
     "output_type": "stream",
     "name": "stderr",
     "text": [
      " 36%|███▌      | 14/39 [00:03<00:06,  3.63it/s]"
     ]
    },
    {
     "output_type": "stream",
     "name": "stdout",
     "text": [
      "\n",
      "Iteration 14/39 of epoch 34 complete. Loss : 0.31849522250039236 \n"
     ]
    },
    {
     "output_type": "stream",
     "name": "stderr",
     "text": [
      " 54%|█████▍    | 21/39 [00:05<00:04,  3.63it/s]"
     ]
    },
    {
     "output_type": "stream",
     "name": "stdout",
     "text": [
      "\n",
      "Iteration 21/39 of epoch 34 complete. Loss : 0.29940020399434225 \n"
     ]
    },
    {
     "output_type": "stream",
     "name": "stderr",
     "text": [
      " 72%|███████▏  | 28/39 [00:07<00:03,  3.62it/s]"
     ]
    },
    {
     "output_type": "stream",
     "name": "stdout",
     "text": [
      "\n",
      "Iteration 28/39 of epoch 34 complete. Loss : 0.30526766180992126 \n"
     ]
    },
    {
     "output_type": "stream",
     "name": "stderr",
     "text": [
      " 90%|████████▉ | 35/39 [00:09<00:01,  3.64it/s]"
     ]
    },
    {
     "output_type": "stream",
     "name": "stdout",
     "text": [
      "\n",
      "Iteration 35/39 of epoch 34 complete. Loss : 0.2907911794526236 \n"
     ]
    },
    {
     "output_type": "stream",
     "name": "stderr",
     "text": [
      "100%|██████████| 39/39 [00:10<00:00,  3.72it/s]\n",
      "100%|██████████| 10/10 [00:00<00:00, 13.06it/s]\n",
      "  0%|          | 0/39 [00:00<?, ?it/s]"
     ]
    },
    {
     "output_type": "stream",
     "name": "stdout",
     "text": [
      "\n",
      "Epoch 34 complete! Validation Loss : 1.7096148371696471\n",
      "Epoch 34 complete! Validation Accuracy : 0.3258996212121212\n"
     ]
    },
    {
     "output_type": "stream",
     "name": "stderr",
     "text": [
      " 18%|█▊        | 7/39 [00:01<00:08,  3.63it/s]"
     ]
    },
    {
     "output_type": "stream",
     "name": "stdout",
     "text": [
      "\n",
      "Iteration 7/39 of epoch 35 complete. Loss : 0.3023936322757176 \n"
     ]
    },
    {
     "output_type": "stream",
     "name": "stderr",
     "text": [
      " 36%|███▌      | 14/39 [00:03<00:06,  3.60it/s]"
     ]
    },
    {
     "output_type": "stream",
     "name": "stdout",
     "text": [
      "\n",
      "Iteration 14/39 of epoch 35 complete. Loss : 0.2879213775907244 \n"
     ]
    },
    {
     "output_type": "stream",
     "name": "stderr",
     "text": [
      " 54%|█████▍    | 21/39 [00:05<00:04,  3.66it/s]"
     ]
    },
    {
     "output_type": "stream",
     "name": "stdout",
     "text": [
      "\n",
      "Iteration 21/39 of epoch 35 complete. Loss : 0.2604986195053373 \n"
     ]
    },
    {
     "output_type": "stream",
     "name": "stderr",
     "text": [
      " 72%|███████▏  | 28/39 [00:07<00:03,  3.63it/s]"
     ]
    },
    {
     "output_type": "stream",
     "name": "stdout",
     "text": [
      "\n",
      "Iteration 28/39 of epoch 35 complete. Loss : 0.27459689336163656 \n"
     ]
    },
    {
     "output_type": "stream",
     "name": "stderr",
     "text": [
      " 90%|████████▉ | 35/39 [00:09<00:01,  3.66it/s]"
     ]
    },
    {
     "output_type": "stream",
     "name": "stdout",
     "text": [
      "\n",
      "Iteration 35/39 of epoch 35 complete. Loss : 0.27179362731320517 \n"
     ]
    },
    {
     "output_type": "stream",
     "name": "stderr",
     "text": [
      "100%|██████████| 39/39 [00:10<00:00,  3.72it/s]\n",
      "100%|██████████| 10/10 [00:00<00:00, 13.10it/s]\n",
      "  0%|          | 0/39 [00:00<?, ?it/s]"
     ]
    },
    {
     "output_type": "stream",
     "name": "stdout",
     "text": [
      "\n",
      "Epoch 35 complete! Validation Loss : 1.753984308242798\n",
      "Epoch 35 complete! Validation Accuracy : 0.3241477272727272\n"
     ]
    },
    {
     "output_type": "stream",
     "name": "stderr",
     "text": [
      " 18%|█▊        | 7/39 [00:01<00:08,  3.67it/s]"
     ]
    },
    {
     "output_type": "stream",
     "name": "stdout",
     "text": [
      "\n",
      "Iteration 7/39 of epoch 36 complete. Loss : 0.25889414123126436 \n"
     ]
    },
    {
     "output_type": "stream",
     "name": "stderr",
     "text": [
      " 36%|███▌      | 14/39 [00:03<00:06,  3.61it/s]"
     ]
    },
    {
     "output_type": "stream",
     "name": "stdout",
     "text": [
      "\n",
      "Iteration 14/39 of epoch 36 complete. Loss : 0.25688292511871885 \n"
     ]
    },
    {
     "output_type": "stream",
     "name": "stderr",
     "text": [
      " 54%|█████▍    | 21/39 [00:05<00:04,  3.67it/s]"
     ]
    },
    {
     "output_type": "stream",
     "name": "stdout",
     "text": [
      "\n",
      "Iteration 21/39 of epoch 36 complete. Loss : 0.24348396701472147 \n"
     ]
    },
    {
     "output_type": "stream",
     "name": "stderr",
     "text": [
      " 72%|███████▏  | 28/39 [00:07<00:03,  3.65it/s]"
     ]
    },
    {
     "output_type": "stream",
     "name": "stdout",
     "text": [
      "\n",
      "Iteration 28/39 of epoch 36 complete. Loss : 0.24398802433695113 \n"
     ]
    },
    {
     "output_type": "stream",
     "name": "stderr",
     "text": [
      " 90%|████████▉ | 35/39 [00:09<00:01,  3.66it/s]"
     ]
    },
    {
     "output_type": "stream",
     "name": "stdout",
     "text": [
      "\n",
      "Iteration 35/39 of epoch 36 complete. Loss : 0.22706740030220576 \n"
     ]
    },
    {
     "output_type": "stream",
     "name": "stderr",
     "text": [
      "100%|██████████| 39/39 [00:10<00:00,  3.73it/s]\n",
      "100%|██████████| 10/10 [00:00<00:00, 13.17it/s]\n",
      "  0%|          | 0/39 [00:00<?, ?it/s]"
     ]
    },
    {
     "output_type": "stream",
     "name": "stdout",
     "text": [
      "\n",
      "Epoch 36 complete! Validation Loss : 1.784333920478821\n",
      "Epoch 36 complete! Validation Accuracy : 0.31339962121212117\n"
     ]
    },
    {
     "output_type": "stream",
     "name": "stderr",
     "text": [
      " 18%|█▊        | 7/39 [00:01<00:08,  3.65it/s]"
     ]
    },
    {
     "output_type": "stream",
     "name": "stdout",
     "text": [
      "\n",
      "Iteration 7/39 of epoch 37 complete. Loss : 0.23386971652507782 \n"
     ]
    },
    {
     "output_type": "stream",
     "name": "stderr",
     "text": [
      " 36%|███▌      | 14/39 [00:03<00:06,  3.63it/s]"
     ]
    },
    {
     "output_type": "stream",
     "name": "stdout",
     "text": [
      "\n",
      "Iteration 14/39 of epoch 37 complete. Loss : 0.22683979783739364 \n"
     ]
    },
    {
     "output_type": "stream",
     "name": "stderr",
     "text": [
      " 54%|█████▍    | 21/39 [00:05<00:04,  3.64it/s]"
     ]
    },
    {
     "output_type": "stream",
     "name": "stdout",
     "text": [
      "\n",
      "Iteration 21/39 of epoch 37 complete. Loss : 0.20777077760015214 \n"
     ]
    },
    {
     "output_type": "stream",
     "name": "stderr",
     "text": [
      " 72%|███████▏  | 28/39 [00:07<00:03,  3.62it/s]"
     ]
    },
    {
     "output_type": "stream",
     "name": "stdout",
     "text": [
      "\n",
      "Iteration 28/39 of epoch 37 complete. Loss : 0.21489920573575155 \n"
     ]
    },
    {
     "output_type": "stream",
     "name": "stderr",
     "text": [
      " 90%|████████▉ | 35/39 [00:09<00:01,  3.65it/s]"
     ]
    },
    {
     "output_type": "stream",
     "name": "stdout",
     "text": [
      "\n",
      "Iteration 35/39 of epoch 37 complete. Loss : 0.20700785730566298 \n"
     ]
    },
    {
     "output_type": "stream",
     "name": "stderr",
     "text": [
      "100%|██████████| 39/39 [00:10<00:00,  3.72it/s]\n",
      "100%|██████████| 10/10 [00:00<00:00, 13.08it/s]\n",
      "  0%|          | 0/39 [00:00<?, ?it/s]"
     ]
    },
    {
     "output_type": "stream",
     "name": "stdout",
     "text": [
      "\n",
      "Epoch 37 complete! Validation Loss : 1.7687876224517822\n",
      "Epoch 37 complete! Validation Accuracy : 0.32111742424242423\n"
     ]
    },
    {
     "output_type": "stream",
     "name": "stderr",
     "text": [
      " 18%|█▊        | 7/39 [00:01<00:08,  3.66it/s]"
     ]
    },
    {
     "output_type": "stream",
     "name": "stdout",
     "text": [
      "\n",
      "Iteration 7/39 of epoch 38 complete. Loss : 0.2082644679716655 \n"
     ]
    },
    {
     "output_type": "stream",
     "name": "stderr",
     "text": [
      " 36%|███▌      | 14/39 [00:03<00:06,  3.62it/s]"
     ]
    },
    {
     "output_type": "stream",
     "name": "stdout",
     "text": [
      "\n",
      "Iteration 14/39 of epoch 38 complete. Loss : 0.1964116713830403 \n"
     ]
    },
    {
     "output_type": "stream",
     "name": "stderr",
     "text": [
      " 54%|█████▍    | 21/39 [00:05<00:04,  3.65it/s]"
     ]
    },
    {
     "output_type": "stream",
     "name": "stdout",
     "text": [
      "\n",
      "Iteration 21/39 of epoch 38 complete. Loss : 0.18259607468332564 \n"
     ]
    },
    {
     "output_type": "stream",
     "name": "stderr",
     "text": [
      " 72%|███████▏  | 28/39 [00:07<00:03,  3.62it/s]"
     ]
    },
    {
     "output_type": "stream",
     "name": "stdout",
     "text": [
      "\n",
      "Iteration 28/39 of epoch 38 complete. Loss : 0.19075310230255127 \n"
     ]
    },
    {
     "output_type": "stream",
     "name": "stderr",
     "text": [
      " 90%|████████▉ | 35/39 [00:09<00:01,  3.66it/s]"
     ]
    },
    {
     "output_type": "stream",
     "name": "stdout",
     "text": [
      "\n",
      "Iteration 35/39 of epoch 38 complete. Loss : 0.18483319027083261 \n"
     ]
    },
    {
     "output_type": "stream",
     "name": "stderr",
     "text": [
      "100%|██████████| 39/39 [00:10<00:00,  3.72it/s]\n",
      "100%|██████████| 10/10 [00:00<00:00, 13.09it/s]\n",
      "  0%|          | 0/39 [00:00<?, ?it/s]"
     ]
    },
    {
     "output_type": "stream",
     "name": "stdout",
     "text": [
      "\n",
      "Epoch 38 complete! Validation Loss : 1.8016125440597535\n",
      "Epoch 38 complete! Validation Accuracy : 0.32717803030303033\n"
     ]
    },
    {
     "output_type": "stream",
     "name": "stderr",
     "text": [
      " 18%|█▊        | 7/39 [00:01<00:08,  3.68it/s]"
     ]
    },
    {
     "output_type": "stream",
     "name": "stdout",
     "text": [
      "\n",
      "Iteration 7/39 of epoch 39 complete. Loss : 0.18278471486909048 \n"
     ]
    },
    {
     "output_type": "stream",
     "name": "stderr",
     "text": [
      " 36%|███▌      | 14/39 [00:03<00:06,  3.62it/s]"
     ]
    },
    {
     "output_type": "stream",
     "name": "stdout",
     "text": [
      "\n",
      "Iteration 14/39 of epoch 39 complete. Loss : 0.17563944629260472 \n"
     ]
    },
    {
     "output_type": "stream",
     "name": "stderr",
     "text": [
      " 54%|█████▍    | 21/39 [00:05<00:04,  3.66it/s]"
     ]
    },
    {
     "output_type": "stream",
     "name": "stdout",
     "text": [
      "\n",
      "Iteration 21/39 of epoch 39 complete. Loss : 0.16502144506999425 \n"
     ]
    },
    {
     "output_type": "stream",
     "name": "stderr",
     "text": [
      " 72%|███████▏  | 28/39 [00:07<00:03,  3.64it/s]"
     ]
    },
    {
     "output_type": "stream",
     "name": "stdout",
     "text": [
      "\n",
      "Iteration 28/39 of epoch 39 complete. Loss : 0.16634544943060195 \n"
     ]
    },
    {
     "output_type": "stream",
     "name": "stderr",
     "text": [
      " 90%|████████▉ | 35/39 [00:09<00:01,  3.65it/s]"
     ]
    },
    {
     "output_type": "stream",
     "name": "stdout",
     "text": [
      "\n",
      "Iteration 35/39 of epoch 39 complete. Loss : 0.16411520114966802 \n"
     ]
    },
    {
     "output_type": "stream",
     "name": "stderr",
     "text": [
      "100%|██████████| 39/39 [00:10<00:00,  3.72it/s]\n",
      "100%|██████████| 10/10 [00:00<00:00, 13.17it/s]\n",
      "  0%|          | 0/39 [00:00<?, ?it/s]"
     ]
    },
    {
     "output_type": "stream",
     "name": "stdout",
     "text": [
      "\n",
      "Epoch 39 complete! Validation Loss : 1.8145400881767273\n",
      "Epoch 39 complete! Validation Accuracy : 0.33177083333333335\n"
     ]
    },
    {
     "output_type": "stream",
     "name": "stderr",
     "text": [
      " 18%|█▊        | 7/39 [00:01<00:08,  3.66it/s]"
     ]
    },
    {
     "output_type": "stream",
     "name": "stdout",
     "text": [
      "\n",
      "Iteration 7/39 of epoch 40 complete. Loss : 0.16014730504580907 \n"
     ]
    },
    {
     "output_type": "stream",
     "name": "stderr",
     "text": [
      " 36%|███▌      | 14/39 [00:03<00:06,  3.63it/s]"
     ]
    },
    {
     "output_type": "stream",
     "name": "stdout",
     "text": [
      "\n",
      "Iteration 14/39 of epoch 40 complete. Loss : 0.15387444623879024 \n"
     ]
    },
    {
     "output_type": "stream",
     "name": "stderr",
     "text": [
      " 54%|█████▍    | 21/39 [00:05<00:04,  3.64it/s]"
     ]
    },
    {
     "output_type": "stream",
     "name": "stdout",
     "text": [
      "\n",
      "Iteration 21/39 of epoch 40 complete. Loss : 0.1454885761652674 \n"
     ]
    },
    {
     "output_type": "stream",
     "name": "stderr",
     "text": [
      " 72%|███████▏  | 28/39 [00:07<00:03,  3.62it/s]"
     ]
    },
    {
     "output_type": "stream",
     "name": "stdout",
     "text": [
      "\n",
      "Iteration 28/39 of epoch 40 complete. Loss : 0.14891849351780756 \n"
     ]
    },
    {
     "output_type": "stream",
     "name": "stderr",
     "text": [
      " 90%|████████▉ | 35/39 [00:09<00:01,  3.66it/s]"
     ]
    },
    {
     "output_type": "stream",
     "name": "stdout",
     "text": [
      "\n",
      "Iteration 35/39 of epoch 40 complete. Loss : 0.14128716077123368 \n"
     ]
    },
    {
     "output_type": "stream",
     "name": "stderr",
     "text": [
      "100%|██████████| 39/39 [00:10<00:00,  3.72it/s]\n",
      "100%|██████████| 10/10 [00:00<00:00, 13.15it/s]\n",
      "  0%|          | 0/39 [00:00<?, ?it/s]"
     ]
    },
    {
     "output_type": "stream",
     "name": "stdout",
     "text": [
      "\n",
      "Epoch 40 complete! Validation Loss : 1.8209797620773316\n",
      "Epoch 40 complete! Validation Accuracy : 0.34739583333333335\n"
     ]
    },
    {
     "output_type": "stream",
     "name": "stderr",
     "text": [
      " 18%|█▊        | 7/39 [00:01<00:08,  3.66it/s]"
     ]
    },
    {
     "output_type": "stream",
     "name": "stdout",
     "text": [
      "\n",
      "Iteration 7/39 of epoch 41 complete. Loss : 0.14174728308405196 \n"
     ]
    },
    {
     "output_type": "stream",
     "name": "stderr",
     "text": [
      " 36%|███▌      | 14/39 [00:03<00:06,  3.64it/s]"
     ]
    },
    {
     "output_type": "stream",
     "name": "stdout",
     "text": [
      "\n",
      "Iteration 14/39 of epoch 41 complete. Loss : 0.14052490890026093 \n"
     ]
    },
    {
     "output_type": "stream",
     "name": "stderr",
     "text": [
      " 54%|█████▍    | 21/39 [00:05<00:04,  3.67it/s]"
     ]
    },
    {
     "output_type": "stream",
     "name": "stdout",
     "text": [
      "\n",
      "Iteration 21/39 of epoch 41 complete. Loss : 0.13061515986919403 \n"
     ]
    },
    {
     "output_type": "stream",
     "name": "stderr",
     "text": [
      " 72%|███████▏  | 28/39 [00:07<00:03,  3.61it/s]"
     ]
    },
    {
     "output_type": "stream",
     "name": "stdout",
     "text": [
      "\n",
      "Iteration 28/39 of epoch 41 complete. Loss : 0.1285624344434057 \n"
     ]
    },
    {
     "output_type": "stream",
     "name": "stderr",
     "text": [
      " 90%|████████▉ | 35/39 [00:09<00:01,  3.66it/s]"
     ]
    },
    {
     "output_type": "stream",
     "name": "stdout",
     "text": [
      "\n",
      "Iteration 35/39 of epoch 41 complete. Loss : 0.12657682491200312 \n"
     ]
    },
    {
     "output_type": "stream",
     "name": "stderr",
     "text": [
      "100%|██████████| 39/39 [00:10<00:00,  3.73it/s]\n",
      "100%|██████████| 10/10 [00:00<00:00, 13.12it/s]\n",
      "  0%|          | 0/39 [00:00<?, ?it/s]"
     ]
    },
    {
     "output_type": "stream",
     "name": "stdout",
     "text": [
      "\n",
      "Epoch 41 complete! Validation Loss : 1.8315409660339355\n",
      "Epoch 41 complete! Validation Accuracy : 0.3565814393939394\n"
     ]
    },
    {
     "output_type": "stream",
     "name": "stderr",
     "text": [
      " 18%|█▊        | 7/39 [00:01<00:08,  3.68it/s]"
     ]
    },
    {
     "output_type": "stream",
     "name": "stdout",
     "text": [
      "\n",
      "Iteration 7/39 of epoch 42 complete. Loss : 0.13004919993025915 \n"
     ]
    },
    {
     "output_type": "stream",
     "name": "stderr",
     "text": [
      " 36%|███▌      | 14/39 [00:03<00:06,  3.65it/s]"
     ]
    },
    {
     "output_type": "stream",
     "name": "stdout",
     "text": [
      "\n",
      "Iteration 14/39 of epoch 42 complete. Loss : 0.12388395198753901 \n"
     ]
    },
    {
     "output_type": "stream",
     "name": "stderr",
     "text": [
      " 54%|█████▍    | 21/39 [00:05<00:04,  3.64it/s]"
     ]
    },
    {
     "output_type": "stream",
     "name": "stdout",
     "text": [
      "\n",
      "Iteration 21/39 of epoch 42 complete. Loss : 0.11565572023391724 \n"
     ]
    },
    {
     "output_type": "stream",
     "name": "stderr",
     "text": [
      " 72%|███████▏  | 28/39 [00:07<00:03,  3.64it/s]"
     ]
    },
    {
     "output_type": "stream",
     "name": "stdout",
     "text": [
      "\n",
      "Iteration 28/39 of epoch 42 complete. Loss : 0.12364124080964498 \n"
     ]
    },
    {
     "output_type": "stream",
     "name": "stderr",
     "text": [
      " 90%|████████▉ | 35/39 [00:09<00:01,  3.64it/s]"
     ]
    },
    {
     "output_type": "stream",
     "name": "stdout",
     "text": [
      "\n",
      "Iteration 35/39 of epoch 42 complete. Loss : 0.11746262652533394 \n"
     ]
    },
    {
     "output_type": "stream",
     "name": "stderr",
     "text": [
      "100%|██████████| 39/39 [00:10<00:00,  3.73it/s]\n",
      "100%|██████████| 10/10 [00:00<00:00, 13.16it/s]\n",
      "  0%|          | 0/39 [00:00<?, ?it/s]"
     ]
    },
    {
     "output_type": "stream",
     "name": "stdout",
     "text": [
      "\n",
      "Epoch 42 complete! Validation Loss : 1.8418917059898376\n",
      "Epoch 42 complete! Validation Accuracy : 0.3566761363636364\n"
     ]
    },
    {
     "output_type": "stream",
     "name": "stderr",
     "text": [
      " 18%|█▊        | 7/39 [00:01<00:08,  3.65it/s]"
     ]
    },
    {
     "output_type": "stream",
     "name": "stdout",
     "text": [
      "\n",
      "Iteration 7/39 of epoch 43 complete. Loss : 0.11991418791668755 \n"
     ]
    },
    {
     "output_type": "stream",
     "name": "stderr",
     "text": [
      " 36%|███▌      | 14/39 [00:03<00:06,  3.63it/s]"
     ]
    },
    {
     "output_type": "stream",
     "name": "stdout",
     "text": [
      "\n",
      "Iteration 14/39 of epoch 43 complete. Loss : 0.10694791270153862 \n"
     ]
    },
    {
     "output_type": "stream",
     "name": "stderr",
     "text": [
      " 54%|█████▍    | 21/39 [00:05<00:04,  3.69it/s]"
     ]
    },
    {
     "output_type": "stream",
     "name": "stdout",
     "text": [
      "\n",
      "Iteration 21/39 of epoch 43 complete. Loss : 0.10656701560531344 \n"
     ]
    },
    {
     "output_type": "stream",
     "name": "stderr",
     "text": [
      " 72%|███████▏  | 28/39 [00:07<00:03,  3.63it/s]"
     ]
    },
    {
     "output_type": "stream",
     "name": "stdout",
     "text": [
      "\n",
      "Iteration 28/39 of epoch 43 complete. Loss : 0.10726699020181384 \n"
     ]
    },
    {
     "output_type": "stream",
     "name": "stderr",
     "text": [
      " 90%|████████▉ | 35/39 [00:09<00:01,  3.66it/s]"
     ]
    },
    {
     "output_type": "stream",
     "name": "stdout",
     "text": [
      "\n",
      "Iteration 35/39 of epoch 43 complete. Loss : 0.10120712646416255 \n"
     ]
    },
    {
     "output_type": "stream",
     "name": "stderr",
     "text": [
      "100%|██████████| 39/39 [00:10<00:00,  3.73it/s]\n",
      "100%|██████████| 10/10 [00:00<00:00, 13.17it/s]\n",
      "  0%|          | 0/39 [00:00<?, ?it/s]"
     ]
    },
    {
     "output_type": "stream",
     "name": "stdout",
     "text": [
      "\n",
      "Epoch 43 complete! Validation Loss : 1.8525508165359497\n",
      "Epoch 43 complete! Validation Accuracy : 0.35989583333333336\n"
     ]
    },
    {
     "output_type": "stream",
     "name": "stderr",
     "text": [
      " 18%|█▊        | 7/39 [00:01<00:08,  3.68it/s]"
     ]
    },
    {
     "output_type": "stream",
     "name": "stdout",
     "text": [
      "\n",
      "Iteration 7/39 of epoch 44 complete. Loss : 0.10597312131098338 \n"
     ]
    },
    {
     "output_type": "stream",
     "name": "stderr",
     "text": [
      " 36%|███▌      | 14/39 [00:03<00:06,  3.64it/s]"
     ]
    },
    {
     "output_type": "stream",
     "name": "stdout",
     "text": [
      "\n",
      "Iteration 14/39 of epoch 44 complete. Loss : 0.09253398648330144 \n"
     ]
    },
    {
     "output_type": "stream",
     "name": "stderr",
     "text": [
      " 54%|█████▍    | 21/39 [00:05<00:04,  3.64it/s]"
     ]
    },
    {
     "output_type": "stream",
     "name": "stdout",
     "text": [
      "\n",
      "Iteration 21/39 of epoch 44 complete. Loss : 0.09251020848751068 \n"
     ]
    },
    {
     "output_type": "stream",
     "name": "stderr",
     "text": [
      " 72%|███████▏  | 28/39 [00:07<00:03,  3.63it/s]"
     ]
    },
    {
     "output_type": "stream",
     "name": "stdout",
     "text": [
      "\n",
      "Iteration 28/39 of epoch 44 complete. Loss : 0.09803099717412676 \n"
     ]
    },
    {
     "output_type": "stream",
     "name": "stderr",
     "text": [
      " 90%|████████▉ | 35/39 [00:09<00:01,  3.66it/s]"
     ]
    },
    {
     "output_type": "stream",
     "name": "stdout",
     "text": [
      "\n",
      "Iteration 35/39 of epoch 44 complete. Loss : 0.09761204570531845 \n"
     ]
    },
    {
     "output_type": "stream",
     "name": "stderr",
     "text": [
      "100%|██████████| 39/39 [00:10<00:00,  3.73it/s]\n",
      "100%|██████████| 10/10 [00:00<00:00, 13.12it/s]\n",
      "  0%|          | 0/39 [00:00<?, ?it/s]"
     ]
    },
    {
     "output_type": "stream",
     "name": "stdout",
     "text": [
      "\n",
      "Epoch 44 complete! Validation Loss : 1.8729715824127198\n",
      "Epoch 44 complete! Validation Accuracy : 0.3599905303030303\n"
     ]
    },
    {
     "output_type": "stream",
     "name": "stderr",
     "text": [
      " 18%|█▊        | 7/39 [00:01<00:08,  3.66it/s]"
     ]
    },
    {
     "output_type": "stream",
     "name": "stdout",
     "text": [
      "\n",
      "Iteration 7/39 of epoch 45 complete. Loss : 0.09684848998274122 \n"
     ]
    },
    {
     "output_type": "stream",
     "name": "stderr",
     "text": [
      " 36%|███▌      | 14/39 [00:03<00:06,  3.64it/s]"
     ]
    },
    {
     "output_type": "stream",
     "name": "stdout",
     "text": [
      "\n",
      "Iteration 14/39 of epoch 45 complete. Loss : 0.08724660852125712 \n"
     ]
    },
    {
     "output_type": "stream",
     "name": "stderr",
     "text": [
      " 54%|█████▍    | 21/39 [00:05<00:04,  3.66it/s]"
     ]
    },
    {
     "output_type": "stream",
     "name": "stdout",
     "text": [
      "\n",
      "Iteration 21/39 of epoch 45 complete. Loss : 0.08634291163512639 \n"
     ]
    },
    {
     "output_type": "stream",
     "name": "stderr",
     "text": [
      " 72%|███████▏  | 28/39 [00:07<00:03,  3.64it/s]"
     ]
    },
    {
     "output_type": "stream",
     "name": "stdout",
     "text": [
      "\n",
      "Iteration 28/39 of epoch 45 complete. Loss : 0.08685882602419172 \n"
     ]
    },
    {
     "output_type": "stream",
     "name": "stderr",
     "text": [
      " 90%|████████▉ | 35/39 [00:09<00:01,  3.68it/s]"
     ]
    },
    {
     "output_type": "stream",
     "name": "stdout",
     "text": [
      "\n",
      "Iteration 35/39 of epoch 45 complete. Loss : 0.08259075986487525 \n"
     ]
    },
    {
     "output_type": "stream",
     "name": "stderr",
     "text": [
      "100%|██████████| 39/39 [00:10<00:00,  3.74it/s]\n",
      "100%|██████████| 10/10 [00:00<00:00, 13.16it/s]\n",
      "  0%|          | 0/39 [00:00<?, ?it/s]"
     ]
    },
    {
     "output_type": "stream",
     "name": "stdout",
     "text": [
      "\n",
      "Epoch 45 complete! Validation Loss : 1.891132152080536\n",
      "Epoch 45 complete! Validation Accuracy : 0.36624053030303033\n"
     ]
    },
    {
     "output_type": "stream",
     "name": "stderr",
     "text": [
      " 18%|█▊        | 7/39 [00:01<00:08,  3.67it/s]"
     ]
    },
    {
     "output_type": "stream",
     "name": "stdout",
     "text": [
      "\n",
      "Iteration 7/39 of epoch 46 complete. Loss : 0.08559635387999671 \n"
     ]
    },
    {
     "output_type": "stream",
     "name": "stderr",
     "text": [
      " 36%|███▌      | 14/39 [00:03<00:06,  3.65it/s]"
     ]
    },
    {
     "output_type": "stream",
     "name": "stdout",
     "text": [
      "\n",
      "Iteration 14/39 of epoch 46 complete. Loss : 0.07501076800482613 \n"
     ]
    },
    {
     "output_type": "stream",
     "name": "stderr",
     "text": [
      " 54%|█████▍    | 21/39 [00:05<00:04,  3.67it/s]"
     ]
    },
    {
     "output_type": "stream",
     "name": "stdout",
     "text": [
      "\n",
      "Iteration 21/39 of epoch 46 complete. Loss : 0.07563710053052221 \n"
     ]
    },
    {
     "output_type": "stream",
     "name": "stderr",
     "text": [
      " 72%|███████▏  | 28/39 [00:07<00:03,  3.66it/s]"
     ]
    },
    {
     "output_type": "stream",
     "name": "stdout",
     "text": [
      "\n",
      "Iteration 28/39 of epoch 46 complete. Loss : 0.079883802149977 \n"
     ]
    },
    {
     "output_type": "stream",
     "name": "stderr",
     "text": [
      " 90%|████████▉ | 35/39 [00:09<00:01,  3.66it/s]"
     ]
    },
    {
     "output_type": "stream",
     "name": "stdout",
     "text": [
      "\n",
      "Iteration 35/39 of epoch 46 complete. Loss : 0.07473594056708473 \n"
     ]
    },
    {
     "output_type": "stream",
     "name": "stderr",
     "text": [
      "100%|██████████| 39/39 [00:10<00:00,  3.74it/s]\n",
      "100%|██████████| 10/10 [00:00<00:00, 13.11it/s]\n",
      "  0%|          | 0/39 [00:00<?, ?it/s]"
     ]
    },
    {
     "output_type": "stream",
     "name": "stdout",
     "text": [
      "\n",
      "Epoch 46 complete! Validation Loss : 1.9057747364044189\n",
      "Epoch 46 complete! Validation Accuracy : 0.3632102272727272\n"
     ]
    },
    {
     "output_type": "stream",
     "name": "stderr",
     "text": [
      " 18%|█▊        | 7/39 [00:01<00:08,  3.66it/s]"
     ]
    },
    {
     "output_type": "stream",
     "name": "stdout",
     "text": [
      "\n",
      "Iteration 7/39 of epoch 47 complete. Loss : 0.07772357974733625 \n"
     ]
    },
    {
     "output_type": "stream",
     "name": "stderr",
     "text": [
      " 36%|███▌      | 14/39 [00:03<00:06,  3.62it/s]"
     ]
    },
    {
     "output_type": "stream",
     "name": "stdout",
     "text": [
      "\n",
      "Iteration 14/39 of epoch 47 complete. Loss : 0.07075110929352897 \n"
     ]
    },
    {
     "output_type": "stream",
     "name": "stderr",
     "text": [
      " 54%|█████▍    | 21/39 [00:05<00:04,  3.66it/s]"
     ]
    },
    {
     "output_type": "stream",
     "name": "stdout",
     "text": [
      "\n",
      "Iteration 21/39 of epoch 47 complete. Loss : 0.06697471812367439 \n"
     ]
    },
    {
     "output_type": "stream",
     "name": "stderr",
     "text": [
      " 72%|███████▏  | 28/39 [00:07<00:03,  3.65it/s]"
     ]
    },
    {
     "output_type": "stream",
     "name": "stdout",
     "text": [
      "\n",
      "Iteration 28/39 of epoch 47 complete. Loss : 0.06891198722379548 \n"
     ]
    },
    {
     "output_type": "stream",
     "name": "stderr",
     "text": [
      " 90%|████████▉ | 35/39 [00:09<00:01,  3.65it/s]"
     ]
    },
    {
     "output_type": "stream",
     "name": "stdout",
     "text": [
      "\n",
      "Iteration 35/39 of epoch 47 complete. Loss : 0.06885161197611264 \n"
     ]
    },
    {
     "output_type": "stream",
     "name": "stderr",
     "text": [
      "100%|██████████| 39/39 [00:10<00:00,  3.72it/s]\n",
      "100%|██████████| 10/10 [00:00<00:00, 13.09it/s]\n",
      "  0%|          | 0/39 [00:00<?, ?it/s]"
     ]
    },
    {
     "output_type": "stream",
     "name": "stdout",
     "text": [
      "\n",
      "Epoch 47 complete! Validation Loss : 1.9241572499275208\n",
      "Epoch 47 complete! Validation Accuracy : 0.3693655303030303\n"
     ]
    },
    {
     "output_type": "stream",
     "name": "stderr",
     "text": [
      " 18%|█▊        | 7/39 [00:01<00:08,  3.68it/s]"
     ]
    },
    {
     "output_type": "stream",
     "name": "stdout",
     "text": [
      "\n",
      "Iteration 7/39 of epoch 48 complete. Loss : 0.06843023693987302 \n"
     ]
    },
    {
     "output_type": "stream",
     "name": "stderr",
     "text": [
      " 36%|███▌      | 14/39 [00:03<00:06,  3.66it/s]"
     ]
    },
    {
     "output_type": "stream",
     "name": "stdout",
     "text": [
      "\n",
      "Iteration 14/39 of epoch 48 complete. Loss : 0.06057754797594888 \n"
     ]
    },
    {
     "output_type": "stream",
     "name": "stderr",
     "text": [
      " 54%|█████▍    | 21/39 [00:05<00:04,  3.66it/s]"
     ]
    },
    {
     "output_type": "stream",
     "name": "stdout",
     "text": [
      "\n",
      "Iteration 21/39 of epoch 48 complete. Loss : 0.05899715263928686 \n"
     ]
    },
    {
     "output_type": "stream",
     "name": "stderr",
     "text": [
      " 72%|███████▏  | 28/39 [00:07<00:03,  3.63it/s]"
     ]
    },
    {
     "output_type": "stream",
     "name": "stdout",
     "text": [
      "\n",
      "Iteration 28/39 of epoch 48 complete. Loss : 0.061330308339425495 \n"
     ]
    },
    {
     "output_type": "stream",
     "name": "stderr",
     "text": [
      " 90%|████████▉ | 35/39 [00:09<00:01,  3.65it/s]"
     ]
    },
    {
     "output_type": "stream",
     "name": "stdout",
     "text": [
      "\n",
      "Iteration 35/39 of epoch 48 complete. Loss : 0.05790297846708979 \n"
     ]
    },
    {
     "output_type": "stream",
     "name": "stderr",
     "text": [
      "100%|██████████| 39/39 [00:10<00:00,  3.74it/s]\n",
      "100%|██████████| 10/10 [00:00<00:00, 13.07it/s]\n",
      "  0%|          | 0/39 [00:00<?, ?it/s]"
     ]
    },
    {
     "output_type": "stream",
     "name": "stdout",
     "text": [
      "\n",
      "Epoch 48 complete! Validation Loss : 1.9457543730735778\n",
      "Epoch 48 complete! Validation Accuracy : 0.3614583333333333\n"
     ]
    },
    {
     "output_type": "stream",
     "name": "stderr",
     "text": [
      " 18%|█▊        | 7/39 [00:01<00:08,  3.65it/s]"
     ]
    },
    {
     "output_type": "stream",
     "name": "stdout",
     "text": [
      "\n",
      "Iteration 7/39 of epoch 49 complete. Loss : 0.05977311730384827 \n"
     ]
    },
    {
     "output_type": "stream",
     "name": "stderr",
     "text": [
      " 36%|███▌      | 14/39 [00:03<00:06,  3.63it/s]"
     ]
    },
    {
     "output_type": "stream",
     "name": "stdout",
     "text": [
      "\n",
      "Iteration 14/39 of epoch 49 complete. Loss : 0.053975091981036324 \n"
     ]
    },
    {
     "output_type": "stream",
     "name": "stderr",
     "text": [
      " 54%|█████▍    | 21/39 [00:05<00:04,  3.65it/s]"
     ]
    },
    {
     "output_type": "stream",
     "name": "stdout",
     "text": [
      "\n",
      "Iteration 21/39 of epoch 49 complete. Loss : 0.05525562273604529 \n"
     ]
    },
    {
     "output_type": "stream",
     "name": "stderr",
     "text": [
      " 72%|███████▏  | 28/39 [00:07<00:03,  3.64it/s]"
     ]
    },
    {
     "output_type": "stream",
     "name": "stdout",
     "text": [
      "\n",
      "Iteration 28/39 of epoch 49 complete. Loss : 0.05493493165288653 \n"
     ]
    },
    {
     "output_type": "stream",
     "name": "stderr",
     "text": [
      " 90%|████████▉ | 35/39 [00:09<00:01,  3.65it/s]"
     ]
    },
    {
     "output_type": "stream",
     "name": "stdout",
     "text": [
      "\n",
      "Iteration 35/39 of epoch 49 complete. Loss : 0.05388171012912478 \n"
     ]
    },
    {
     "output_type": "stream",
     "name": "stderr",
     "text": [
      "100%|██████████| 39/39 [00:10<00:00,  3.73it/s]\n",
      "100%|██████████| 10/10 [00:00<00:00, 13.11it/s]\n",
      "  0%|          | 0/39 [00:00<?, ?it/s]"
     ]
    },
    {
     "output_type": "stream",
     "name": "stdout",
     "text": [
      "\n",
      "Epoch 49 complete! Validation Loss : 1.9663581848144531\n",
      "Epoch 49 complete! Validation Accuracy : 0.36311553030303034\n"
     ]
    },
    {
     "output_type": "stream",
     "name": "stderr",
     "text": [
      " 18%|█▊        | 7/39 [00:01<00:08,  3.67it/s]"
     ]
    },
    {
     "output_type": "stream",
     "name": "stdout",
     "text": [
      "\n",
      "Iteration 7/39 of epoch 50 complete. Loss : 0.05493881127664021 \n"
     ]
    },
    {
     "output_type": "stream",
     "name": "stderr",
     "text": [
      " 36%|███▌      | 14/39 [00:03<00:06,  3.68it/s]"
     ]
    },
    {
     "output_type": "stream",
     "name": "stdout",
     "text": [
      "\n",
      "Iteration 14/39 of epoch 50 complete. Loss : 0.04636296204158238 \n"
     ]
    },
    {
     "output_type": "stream",
     "name": "stderr",
     "text": [
      " 54%|█████▍    | 21/39 [00:05<00:04,  3.67it/s]"
     ]
    },
    {
     "output_type": "stream",
     "name": "stdout",
     "text": [
      "\n",
      "Iteration 21/39 of epoch 50 complete. Loss : 0.047730761979307444 \n"
     ]
    },
    {
     "output_type": "stream",
     "name": "stderr",
     "text": [
      " 72%|███████▏  | 28/39 [00:07<00:03,  3.63it/s]"
     ]
    },
    {
     "output_type": "stream",
     "name": "stdout",
     "text": [
      "\n",
      "Iteration 28/39 of epoch 50 complete. Loss : 0.047194370201655796 \n"
     ]
    },
    {
     "output_type": "stream",
     "name": "stderr",
     "text": [
      " 90%|████████▉ | 35/39 [00:09<00:01,  3.67it/s]"
     ]
    },
    {
     "output_type": "stream",
     "name": "stdout",
     "text": [
      "\n",
      "Iteration 35/39 of epoch 50 complete. Loss : 0.04571148274200303 \n"
     ]
    },
    {
     "output_type": "stream",
     "name": "stderr",
     "text": [
      "100%|██████████| 39/39 [00:10<00:00,  3.75it/s]\n",
      "100%|██████████| 10/10 [00:00<00:00, 13.15it/s]\n",
      "  0%|          | 0/39 [00:00<?, ?it/s]"
     ]
    },
    {
     "output_type": "stream",
     "name": "stdout",
     "text": [
      "\n",
      "Epoch 50 complete! Validation Loss : 1.9834359169006348\n",
      "Epoch 50 complete! Validation Accuracy : 0.36302083333333335\n"
     ]
    },
    {
     "output_type": "stream",
     "name": "stderr",
     "text": [
      " 18%|█▊        | 7/39 [00:01<00:08,  3.67it/s]"
     ]
    },
    {
     "output_type": "stream",
     "name": "stdout",
     "text": [
      "\n",
      "Iteration 7/39 of epoch 51 complete. Loss : 0.04734712413379124 \n"
     ]
    },
    {
     "output_type": "stream",
     "name": "stderr",
     "text": [
      " 36%|███▌      | 14/39 [00:03<00:06,  3.63it/s]"
     ]
    },
    {
     "output_type": "stream",
     "name": "stdout",
     "text": [
      "\n",
      "Iteration 14/39 of epoch 51 complete. Loss : 0.04552798664995602 \n"
     ]
    },
    {
     "output_type": "stream",
     "name": "stderr",
     "text": [
      " 54%|█████▍    | 21/39 [00:05<00:04,  3.68it/s]"
     ]
    },
    {
     "output_type": "stream",
     "name": "stdout",
     "text": [
      "\n",
      "Iteration 21/39 of epoch 51 complete. Loss : 0.043143979140690396 \n"
     ]
    },
    {
     "output_type": "stream",
     "name": "stderr",
     "text": [
      " 72%|███████▏  | 28/39 [00:07<00:03,  3.66it/s]"
     ]
    },
    {
     "output_type": "stream",
     "name": "stdout",
     "text": [
      "\n",
      "Iteration 28/39 of epoch 51 complete. Loss : 0.04453500732779503 \n"
     ]
    },
    {
     "output_type": "stream",
     "name": "stderr",
     "text": [
      " 90%|████████▉ | 35/39 [00:09<00:01,  3.67it/s]"
     ]
    },
    {
     "output_type": "stream",
     "name": "stdout",
     "text": [
      "\n",
      "Iteration 35/39 of epoch 51 complete. Loss : 0.0419632616852011 \n"
     ]
    },
    {
     "output_type": "stream",
     "name": "stderr",
     "text": [
      "100%|██████████| 39/39 [00:10<00:00,  3.74it/s]\n",
      "100%|██████████| 10/10 [00:00<00:00, 13.19it/s]\n",
      "  0%|          | 0/39 [00:00<?, ?it/s]"
     ]
    },
    {
     "output_type": "stream",
     "name": "stdout",
     "text": [
      "\n",
      "Epoch 51 complete! Validation Loss : 2.009346568584442\n",
      "Epoch 51 complete! Validation Accuracy : 0.36458333333333337\n"
     ]
    },
    {
     "output_type": "stream",
     "name": "stderr",
     "text": [
      " 18%|█▊        | 7/39 [00:01<00:08,  3.66it/s]"
     ]
    },
    {
     "output_type": "stream",
     "name": "stdout",
     "text": [
      "\n",
      "Iteration 7/39 of epoch 52 complete. Loss : 0.04218857469303267 \n"
     ]
    },
    {
     "output_type": "stream",
     "name": "stderr",
     "text": [
      " 36%|███▌      | 14/39 [00:03<00:06,  3.63it/s]"
     ]
    },
    {
     "output_type": "stream",
     "name": "stdout",
     "text": [
      "\n",
      "Iteration 14/39 of epoch 52 complete. Loss : 0.04092875069805554 \n"
     ]
    },
    {
     "output_type": "stream",
     "name": "stderr",
     "text": [
      " 54%|█████▍    | 21/39 [00:05<00:04,  3.68it/s]"
     ]
    },
    {
     "output_type": "stream",
     "name": "stdout",
     "text": [
      "\n",
      "Iteration 21/39 of epoch 52 complete. Loss : 0.04093537586075919 \n"
     ]
    },
    {
     "output_type": "stream",
     "name": "stderr",
     "text": [
      " 72%|███████▏  | 28/39 [00:07<00:03,  3.64it/s]"
     ]
    },
    {
     "output_type": "stream",
     "name": "stdout",
     "text": [
      "\n",
      "Iteration 28/39 of epoch 52 complete. Loss : 0.03987721300550869 \n"
     ]
    },
    {
     "output_type": "stream",
     "name": "stderr",
     "text": [
      " 90%|████████▉ | 35/39 [00:09<00:01,  3.67it/s]"
     ]
    },
    {
     "output_type": "stream",
     "name": "stdout",
     "text": [
      "\n",
      "Iteration 35/39 of epoch 52 complete. Loss : 0.03849303615944726 \n"
     ]
    },
    {
     "output_type": "stream",
     "name": "stderr",
     "text": [
      "100%|██████████| 39/39 [00:10<00:00,  3.73it/s]\n",
      "100%|██████████| 10/10 [00:00<00:00, 13.20it/s]\n",
      "  0%|          | 0/39 [00:00<?, ?it/s]"
     ]
    },
    {
     "output_type": "stream",
     "name": "stdout",
     "text": [
      "\n",
      "Epoch 52 complete! Validation Loss : 2.037584459781647\n",
      "Epoch 52 complete! Validation Accuracy : 0.36761363636363636\n"
     ]
    },
    {
     "output_type": "stream",
     "name": "stderr",
     "text": [
      " 18%|█▊        | 7/39 [00:01<00:08,  3.68it/s]"
     ]
    },
    {
     "output_type": "stream",
     "name": "stdout",
     "text": [
      "\n",
      "Iteration 7/39 of epoch 53 complete. Loss : 0.03797291086188385 \n"
     ]
    },
    {
     "output_type": "stream",
     "name": "stderr",
     "text": [
      " 36%|███▌      | 14/39 [00:03<00:06,  3.63it/s]"
     ]
    },
    {
     "output_type": "stream",
     "name": "stdout",
     "text": [
      "\n",
      "Iteration 14/39 of epoch 53 complete. Loss : 0.03519050218164921 \n"
     ]
    },
    {
     "output_type": "stream",
     "name": "stderr",
     "text": [
      " 54%|█████▍    | 21/39 [00:05<00:04,  3.67it/s]"
     ]
    },
    {
     "output_type": "stream",
     "name": "stdout",
     "text": [
      "\n",
      "Iteration 21/39 of epoch 53 complete. Loss : 0.0373415643615382 \n"
     ]
    },
    {
     "output_type": "stream",
     "name": "stderr",
     "text": [
      " 72%|███████▏  | 28/39 [00:07<00:03,  3.64it/s]"
     ]
    },
    {
     "output_type": "stream",
     "name": "stdout",
     "text": [
      "\n",
      "Iteration 28/39 of epoch 53 complete. Loss : 0.03505093205188002 \n"
     ]
    },
    {
     "output_type": "stream",
     "name": "stderr",
     "text": [
      " 90%|████████▉ | 35/39 [00:09<00:01,  3.65it/s]"
     ]
    },
    {
     "output_type": "stream",
     "name": "stdout",
     "text": [
      "\n",
      "Iteration 35/39 of epoch 53 complete. Loss : 0.03534433511751039 \n"
     ]
    },
    {
     "output_type": "stream",
     "name": "stderr",
     "text": [
      "100%|██████████| 39/39 [00:10<00:00,  3.73it/s]\n",
      "100%|██████████| 10/10 [00:00<00:00, 13.18it/s]\n",
      "  0%|          | 0/39 [00:00<?, ?it/s]"
     ]
    },
    {
     "output_type": "stream",
     "name": "stdout",
     "text": [
      "\n",
      "Epoch 53 complete! Validation Loss : 2.05640949010849\n",
      "Epoch 53 complete! Validation Accuracy : 0.35989583333333336\n"
     ]
    },
    {
     "output_type": "stream",
     "name": "stderr",
     "text": [
      " 18%|█▊        | 7/39 [00:01<00:08,  3.66it/s]"
     ]
    },
    {
     "output_type": "stream",
     "name": "stdout",
     "text": [
      "\n",
      "Iteration 7/39 of epoch 54 complete. Loss : 0.03570488281548023 \n"
     ]
    },
    {
     "output_type": "stream",
     "name": "stderr",
     "text": [
      " 36%|███▌      | 14/39 [00:03<00:06,  3.62it/s]"
     ]
    },
    {
     "output_type": "stream",
     "name": "stdout",
     "text": [
      "\n",
      "Iteration 14/39 of epoch 54 complete. Loss : 0.032809852223311155 \n"
     ]
    },
    {
     "output_type": "stream",
     "name": "stderr",
     "text": [
      " 54%|█████▍    | 21/39 [00:05<00:04,  3.67it/s]"
     ]
    },
    {
     "output_type": "stream",
     "name": "stdout",
     "text": [
      "\n",
      "Iteration 21/39 of epoch 54 complete. Loss : 0.034032929954784255 \n"
     ]
    },
    {
     "output_type": "stream",
     "name": "stderr",
     "text": [
      " 72%|███████▏  | 28/39 [00:07<00:03,  3.64it/s]"
     ]
    },
    {
     "output_type": "stream",
     "name": "stdout",
     "text": [
      "\n",
      "Iteration 28/39 of epoch 54 complete. Loss : 0.03723343514970371 \n"
     ]
    },
    {
     "output_type": "stream",
     "name": "stderr",
     "text": [
      " 90%|████████▉ | 35/39 [00:09<00:01,  3.67it/s]"
     ]
    },
    {
     "output_type": "stream",
     "name": "stdout",
     "text": [
      "\n",
      "Iteration 35/39 of epoch 54 complete. Loss : 0.03370723208146436 \n"
     ]
    },
    {
     "output_type": "stream",
     "name": "stderr",
     "text": [
      "100%|██████████| 39/39 [00:10<00:00,  3.73it/s]\n",
      "100%|██████████| 10/10 [00:00<00:00, 13.22it/s]\n",
      "  0%|          | 0/39 [00:00<?, ?it/s]"
     ]
    },
    {
     "output_type": "stream",
     "name": "stdout",
     "text": [
      "\n",
      "Epoch 54 complete! Validation Loss : 2.08180718421936\n",
      "Epoch 54 complete! Validation Accuracy : 0.3614583333333333\n"
     ]
    },
    {
     "output_type": "stream",
     "name": "stderr",
     "text": [
      " 18%|█▊        | 7/39 [00:01<00:08,  3.67it/s]"
     ]
    },
    {
     "output_type": "stream",
     "name": "stdout",
     "text": [
      "\n",
      "Iteration 7/39 of epoch 55 complete. Loss : 0.034964342202459066 \n"
     ]
    },
    {
     "output_type": "stream",
     "name": "stderr",
     "text": [
      " 36%|███▌      | 14/39 [00:03<00:06,  3.64it/s]"
     ]
    },
    {
     "output_type": "stream",
     "name": "stdout",
     "text": [
      "\n",
      "Iteration 14/39 of epoch 55 complete. Loss : 0.03103595120566232 \n"
     ]
    },
    {
     "output_type": "stream",
     "name": "stderr",
     "text": [
      " 54%|█████▍    | 21/39 [00:05<00:04,  3.67it/s]"
     ]
    },
    {
     "output_type": "stream",
     "name": "stdout",
     "text": [
      "\n",
      "Iteration 21/39 of epoch 55 complete. Loss : 0.031226629657404765 \n"
     ]
    },
    {
     "output_type": "stream",
     "name": "stderr",
     "text": [
      " 72%|███████▏  | 28/39 [00:07<00:03,  3.64it/s]"
     ]
    },
    {
     "output_type": "stream",
     "name": "stdout",
     "text": [
      "\n",
      "Iteration 28/39 of epoch 55 complete. Loss : 0.03010433805840356 \n"
     ]
    },
    {
     "output_type": "stream",
     "name": "stderr",
     "text": [
      " 90%|████████▉ | 35/39 [00:09<00:01,  3.68it/s]"
     ]
    },
    {
     "output_type": "stream",
     "name": "stdout",
     "text": [
      "\n",
      "Iteration 35/39 of epoch 55 complete. Loss : 0.029467580573899404 \n"
     ]
    },
    {
     "output_type": "stream",
     "name": "stderr",
     "text": [
      "100%|██████████| 39/39 [00:10<00:00,  3.74it/s]\n",
      "100%|██████████| 10/10 [00:00<00:00, 13.17it/s]\n",
      "  0%|          | 0/39 [00:00<?, ?it/s]"
     ]
    },
    {
     "output_type": "stream",
     "name": "stdout",
     "text": [
      "\n",
      "Epoch 55 complete! Validation Loss : 2.105630946159363\n",
      "Epoch 55 complete! Validation Accuracy : 0.35677083333333337\n"
     ]
    },
    {
     "output_type": "stream",
     "name": "stderr",
     "text": [
      " 18%|█▊        | 7/39 [00:01<00:08,  3.67it/s]"
     ]
    },
    {
     "output_type": "stream",
     "name": "stdout",
     "text": [
      "\n",
      "Iteration 7/39 of epoch 56 complete. Loss : 0.03177861257323197 \n"
     ]
    },
    {
     "output_type": "stream",
     "name": "stderr",
     "text": [
      " 36%|███▌      | 14/39 [00:03<00:06,  3.63it/s]"
     ]
    },
    {
     "output_type": "stream",
     "name": "stdout",
     "text": [
      "\n",
      "Iteration 14/39 of epoch 56 complete. Loss : 0.030706333528671945 \n"
     ]
    },
    {
     "output_type": "stream",
     "name": "stderr",
     "text": [
      " 54%|█████▍    | 21/39 [00:05<00:04,  3.68it/s]"
     ]
    },
    {
     "output_type": "stream",
     "name": "stdout",
     "text": [
      "\n",
      "Iteration 21/39 of epoch 56 complete. Loss : 0.029298450531704084 \n"
     ]
    },
    {
     "output_type": "stream",
     "name": "stderr",
     "text": [
      " 72%|███████▏  | 28/39 [00:07<00:03,  3.66it/s]"
     ]
    },
    {
     "output_type": "stream",
     "name": "stdout",
     "text": [
      "\n",
      "Iteration 28/39 of epoch 56 complete. Loss : 0.027860847967011586 \n"
     ]
    },
    {
     "output_type": "stream",
     "name": "stderr",
     "text": [
      " 90%|████████▉ | 35/39 [00:09<00:01,  3.66it/s]"
     ]
    },
    {
     "output_type": "stream",
     "name": "stdout",
     "text": [
      "\n",
      "Iteration 35/39 of epoch 56 complete. Loss : 0.02783098125032016 \n"
     ]
    },
    {
     "output_type": "stream",
     "name": "stderr",
     "text": [
      "100%|██████████| 39/39 [00:10<00:00,  3.75it/s]\n",
      "100%|██████████| 10/10 [00:00<00:00, 13.22it/s]\n",
      "  0%|          | 0/39 [00:00<?, ?it/s]"
     ]
    },
    {
     "output_type": "stream",
     "name": "stdout",
     "text": [
      "\n",
      "Epoch 56 complete! Validation Loss : 2.122183692455292\n",
      "Epoch 56 complete! Validation Accuracy : 0.36614583333333334\n"
     ]
    },
    {
     "output_type": "stream",
     "name": "stderr",
     "text": [
      " 18%|█▊        | 7/39 [00:01<00:08,  3.68it/s]"
     ]
    },
    {
     "output_type": "stream",
     "name": "stdout",
     "text": [
      "\n",
      "Iteration 7/39 of epoch 57 complete. Loss : 0.028997720884425298 \n"
     ]
    },
    {
     "output_type": "stream",
     "name": "stderr",
     "text": [
      " 36%|███▌      | 14/39 [00:03<00:06,  3.63it/s]"
     ]
    },
    {
     "output_type": "stream",
     "name": "stdout",
     "text": [
      "\n",
      "Iteration 14/39 of epoch 57 complete. Loss : 0.02851068095437118 \n"
     ]
    },
    {
     "output_type": "stream",
     "name": "stderr",
     "text": [
      " 54%|█████▍    | 21/39 [00:05<00:04,  3.69it/s]"
     ]
    },
    {
     "output_type": "stream",
     "name": "stdout",
     "text": [
      "\n",
      "Iteration 21/39 of epoch 57 complete. Loss : 0.025795999382223402 \n"
     ]
    },
    {
     "output_type": "stream",
     "name": "stderr",
     "text": [
      " 72%|███████▏  | 28/39 [00:07<00:03,  3.63it/s]"
     ]
    },
    {
     "output_type": "stream",
     "name": "stdout",
     "text": [
      "\n",
      "Iteration 28/39 of epoch 57 complete. Loss : 0.0269826278090477 \n"
     ]
    },
    {
     "output_type": "stream",
     "name": "stderr",
     "text": [
      " 90%|████████▉ | 35/39 [00:09<00:01,  3.68it/s]"
     ]
    },
    {
     "output_type": "stream",
     "name": "stdout",
     "text": [
      "\n",
      "Iteration 35/39 of epoch 57 complete. Loss : 0.02664577668266637 \n"
     ]
    },
    {
     "output_type": "stream",
     "name": "stderr",
     "text": [
      "100%|██████████| 39/39 [00:10<00:00,  3.75it/s]\n",
      "100%|██████████| 10/10 [00:00<00:00, 13.08it/s]\n",
      "  0%|          | 0/39 [00:00<?, ?it/s]"
     ]
    },
    {
     "output_type": "stream",
     "name": "stdout",
     "text": [
      "\n",
      "Epoch 57 complete! Validation Loss : 2.1470268964767456\n",
      "Epoch 57 complete! Validation Accuracy : 0.3568655303030303\n"
     ]
    },
    {
     "output_type": "stream",
     "name": "stderr",
     "text": [
      " 18%|█▊        | 7/39 [00:01<00:08,  3.67it/s]"
     ]
    },
    {
     "output_type": "stream",
     "name": "stdout",
     "text": [
      "\n",
      "Iteration 7/39 of epoch 58 complete. Loss : 0.02721987371998174 \n"
     ]
    },
    {
     "output_type": "stream",
     "name": "stderr",
     "text": [
      " 36%|███▌      | 14/39 [00:03<00:06,  3.66it/s]"
     ]
    },
    {
     "output_type": "stream",
     "name": "stdout",
     "text": [
      "\n",
      "Iteration 14/39 of epoch 58 complete. Loss : 0.02473432384431362 \n"
     ]
    },
    {
     "output_type": "stream",
     "name": "stderr",
     "text": [
      " 54%|█████▍    | 21/39 [00:05<00:04,  3.68it/s]"
     ]
    },
    {
     "output_type": "stream",
     "name": "stdout",
     "text": [
      "\n",
      "Iteration 21/39 of epoch 58 complete. Loss : 0.025167720392346382 \n"
     ]
    },
    {
     "output_type": "stream",
     "name": "stderr",
     "text": [
      " 72%|███████▏  | 28/39 [00:07<00:03,  3.65it/s]"
     ]
    },
    {
     "output_type": "stream",
     "name": "stdout",
     "text": [
      "\n",
      "Iteration 28/39 of epoch 58 complete. Loss : 0.0250478953655277 \n"
     ]
    },
    {
     "output_type": "stream",
     "name": "stderr",
     "text": [
      " 90%|████████▉ | 35/39 [00:09<00:01,  3.68it/s]"
     ]
    },
    {
     "output_type": "stream",
     "name": "stdout",
     "text": [
      "\n",
      "Iteration 35/39 of epoch 58 complete. Loss : 0.024872253515890667 \n"
     ]
    },
    {
     "output_type": "stream",
     "name": "stderr",
     "text": [
      "100%|██████████| 39/39 [00:10<00:00,  3.75it/s]\n",
      "100%|██████████| 10/10 [00:00<00:00, 13.17it/s]\n",
      "  0%|          | 0/39 [00:00<?, ?it/s]"
     ]
    },
    {
     "output_type": "stream",
     "name": "stdout",
     "text": [
      "\n",
      "Epoch 58 complete! Validation Loss : 2.1694499135017393\n",
      "Epoch 58 complete! Validation Accuracy : 0.3599905303030303\n"
     ]
    },
    {
     "output_type": "stream",
     "name": "stderr",
     "text": [
      " 18%|█▊        | 7/39 [00:01<00:08,  3.69it/s]"
     ]
    },
    {
     "output_type": "stream",
     "name": "stdout",
     "text": [
      "\n",
      "Iteration 7/39 of epoch 59 complete. Loss : 0.025597887113690376 \n"
     ]
    },
    {
     "output_type": "stream",
     "name": "stderr",
     "text": [
      " 36%|███▌      | 14/39 [00:03<00:06,  3.65it/s]"
     ]
    },
    {
     "output_type": "stream",
     "name": "stdout",
     "text": [
      "\n",
      "Iteration 14/39 of epoch 59 complete. Loss : 0.023107299847262248 \n"
     ]
    },
    {
     "output_type": "stream",
     "name": "stderr",
     "text": [
      " 54%|█████▍    | 21/39 [00:05<00:04,  3.65it/s]"
     ]
    },
    {
     "output_type": "stream",
     "name": "stdout",
     "text": [
      "\n",
      "Iteration 21/39 of epoch 59 complete. Loss : 0.02354252471455506 \n"
     ]
    },
    {
     "output_type": "stream",
     "name": "stderr",
     "text": [
      " 72%|███████▏  | 28/39 [00:07<00:03,  3.66it/s]"
     ]
    },
    {
     "output_type": "stream",
     "name": "stdout",
     "text": [
      "\n",
      "Iteration 28/39 of epoch 59 complete. Loss : 0.023926668667367527 \n"
     ]
    },
    {
     "output_type": "stream",
     "name": "stderr",
     "text": [
      " 90%|████████▉ | 35/39 [00:09<00:01,  3.65it/s]"
     ]
    },
    {
     "output_type": "stream",
     "name": "stdout",
     "text": [
      "\n",
      "Iteration 35/39 of epoch 59 complete. Loss : 0.02340075932443142 \n"
     ]
    },
    {
     "output_type": "stream",
     "name": "stderr",
     "text": [
      "100%|██████████| 39/39 [00:10<00:00,  3.74it/s]\n",
      "100%|██████████| 10/10 [00:00<00:00, 13.16it/s]\n",
      "  0%|          | 0/39 [00:00<?, ?it/s]"
     ]
    },
    {
     "output_type": "stream",
     "name": "stdout",
     "text": [
      "\n",
      "Epoch 59 complete! Validation Loss : 2.1899214506149294\n",
      "Epoch 59 complete! Validation Accuracy : 0.35989583333333336\n"
     ]
    },
    {
     "output_type": "stream",
     "name": "stderr",
     "text": [
      " 18%|█▊        | 7/39 [00:01<00:08,  3.66it/s]"
     ]
    },
    {
     "output_type": "stream",
     "name": "stdout",
     "text": [
      "\n",
      "Iteration 7/39 of epoch 60 complete. Loss : 0.023304266056844165 \n"
     ]
    },
    {
     "output_type": "stream",
     "name": "stderr",
     "text": [
      " 36%|███▌      | 14/39 [00:03<00:06,  3.65it/s]"
     ]
    },
    {
     "output_type": "stream",
     "name": "stdout",
     "text": [
      "\n",
      "Iteration 14/39 of epoch 60 complete. Loss : 0.023229009870971953 \n"
     ]
    },
    {
     "output_type": "stream",
     "name": "stderr",
     "text": [
      " 54%|█████▍    | 21/39 [00:05<00:04,  3.67it/s]"
     ]
    },
    {
     "output_type": "stream",
     "name": "stdout",
     "text": [
      "\n",
      "Iteration 21/39 of epoch 60 complete. Loss : 0.022348271682858467 \n"
     ]
    },
    {
     "output_type": "stream",
     "name": "stderr",
     "text": [
      " 72%|███████▏  | 28/39 [00:07<00:03,  3.65it/s]"
     ]
    },
    {
     "output_type": "stream",
     "name": "stdout",
     "text": [
      "\n",
      "Iteration 28/39 of epoch 60 complete. Loss : 0.021729341308985437 \n"
     ]
    },
    {
     "output_type": "stream",
     "name": "stderr",
     "text": [
      " 90%|████████▉ | 35/39 [00:09<00:01,  3.66it/s]"
     ]
    },
    {
     "output_type": "stream",
     "name": "stdout",
     "text": [
      "\n",
      "Iteration 35/39 of epoch 60 complete. Loss : 0.022357807095561708 \n"
     ]
    },
    {
     "output_type": "stream",
     "name": "stderr",
     "text": [
      "100%|██████████| 39/39 [00:10<00:00,  3.74it/s]\n",
      "100%|██████████| 10/10 [00:00<00:00, 13.25it/s]\n",
      "  0%|          | 0/39 [00:00<?, ?it/s]"
     ]
    },
    {
     "output_type": "stream",
     "name": "stdout",
     "text": [
      "\n",
      "Epoch 60 complete! Validation Loss : 2.208816945552826\n",
      "Epoch 60 complete! Validation Accuracy : 0.36311553030303034\n"
     ]
    },
    {
     "output_type": "stream",
     "name": "stderr",
     "text": [
      " 18%|█▊        | 7/39 [00:01<00:08,  3.67it/s]"
     ]
    },
    {
     "output_type": "stream",
     "name": "stdout",
     "text": [
      "\n",
      "Iteration 7/39 of epoch 61 complete. Loss : 0.022287069154637202 \n"
     ]
    },
    {
     "output_type": "stream",
     "name": "stderr",
     "text": [
      " 36%|███▌      | 14/39 [00:03<00:06,  3.65it/s]"
     ]
    },
    {
     "output_type": "stream",
     "name": "stdout",
     "text": [
      "\n",
      "Iteration 14/39 of epoch 61 complete. Loss : 0.021939147795949663 \n"
     ]
    },
    {
     "output_type": "stream",
     "name": "stderr",
     "text": [
      " 54%|█████▍    | 21/39 [00:05<00:04,  3.66it/s]"
     ]
    },
    {
     "output_type": "stream",
     "name": "stdout",
     "text": [
      "\n",
      "Iteration 21/39 of epoch 61 complete. Loss : 0.021460422979933873 \n"
     ]
    },
    {
     "output_type": "stream",
     "name": "stderr",
     "text": [
      " 72%|███████▏  | 28/39 [00:07<00:03,  3.66it/s]"
     ]
    },
    {
     "output_type": "stream",
     "name": "stdout",
     "text": [
      "\n",
      "Iteration 28/39 of epoch 61 complete. Loss : 0.020006350108555386 \n"
     ]
    },
    {
     "output_type": "stream",
     "name": "stderr",
     "text": [
      " 90%|████████▉ | 35/39 [00:09<00:01,  3.66it/s]"
     ]
    },
    {
     "output_type": "stream",
     "name": "stdout",
     "text": [
      "\n",
      "Iteration 35/39 of epoch 61 complete. Loss : 0.020119661731379374 \n"
     ]
    },
    {
     "output_type": "stream",
     "name": "stderr",
     "text": [
      "100%|██████████| 39/39 [00:10<00:00,  3.73it/s]\n",
      "100%|██████████| 10/10 [00:00<00:00, 13.06it/s]\n",
      "  0%|          | 0/39 [00:00<?, ?it/s]"
     ]
    },
    {
     "output_type": "stream",
     "name": "stdout",
     "text": [
      "\n",
      "Epoch 61 complete! Validation Loss : 2.231039810180664\n",
      "Epoch 61 complete! Validation Accuracy : 0.3615530303030303\n"
     ]
    },
    {
     "output_type": "stream",
     "name": "stderr",
     "text": [
      " 18%|█▊        | 7/39 [00:01<00:08,  3.70it/s]"
     ]
    },
    {
     "output_type": "stream",
     "name": "stdout",
     "text": [
      "\n",
      "Iteration 7/39 of epoch 62 complete. Loss : 0.020730430526392802 \n"
     ]
    },
    {
     "output_type": "stream",
     "name": "stderr",
     "text": [
      " 36%|███▌      | 14/39 [00:03<00:06,  3.64it/s]"
     ]
    },
    {
     "output_type": "stream",
     "name": "stdout",
     "text": [
      "\n",
      "Iteration 14/39 of epoch 62 complete. Loss : 0.02070298737713269 \n"
     ]
    },
    {
     "output_type": "stream",
     "name": "stderr",
     "text": [
      " 54%|█████▍    | 21/39 [00:05<00:04,  3.69it/s]"
     ]
    },
    {
     "output_type": "stream",
     "name": "stdout",
     "text": [
      "\n",
      "Iteration 21/39 of epoch 62 complete. Loss : 0.020174272092325345 \n"
     ]
    },
    {
     "output_type": "stream",
     "name": "stderr",
     "text": [
      " 72%|███████▏  | 28/39 [00:07<00:03,  3.66it/s]"
     ]
    },
    {
     "output_type": "stream",
     "name": "stdout",
     "text": [
      "\n",
      "Iteration 28/39 of epoch 62 complete. Loss : 0.020226195188505307 \n"
     ]
    },
    {
     "output_type": "stream",
     "name": "stderr",
     "text": [
      " 90%|████████▉ | 35/39 [00:09<00:01,  3.65it/s]"
     ]
    },
    {
     "output_type": "stream",
     "name": "stdout",
     "text": [
      "\n",
      "Iteration 35/39 of epoch 62 complete. Loss : 0.019411877063768252 \n"
     ]
    },
    {
     "output_type": "stream",
     "name": "stderr",
     "text": [
      "100%|██████████| 39/39 [00:10<00:00,  3.74it/s]\n",
      "100%|██████████| 10/10 [00:00<00:00, 13.17it/s]\n",
      "  0%|          | 0/39 [00:00<?, ?it/s]"
     ]
    },
    {
     "output_type": "stream",
     "name": "stdout",
     "text": [
      "\n",
      "Epoch 62 complete! Validation Loss : 2.253044939041138\n",
      "Epoch 62 complete! Validation Accuracy : 0.35530303030303034\n"
     ]
    },
    {
     "output_type": "stream",
     "name": "stderr",
     "text": [
      " 18%|█▊        | 7/39 [00:01<00:08,  3.64it/s]"
     ]
    },
    {
     "output_type": "stream",
     "name": "stdout",
     "text": [
      "\n",
      "Iteration 7/39 of epoch 63 complete. Loss : 0.019476371950336864 \n"
     ]
    },
    {
     "output_type": "stream",
     "name": "stderr",
     "text": [
      " 36%|███▌      | 14/39 [00:03<00:06,  3.64it/s]"
     ]
    },
    {
     "output_type": "stream",
     "name": "stdout",
     "text": [
      "\n",
      "Iteration 14/39 of epoch 63 complete. Loss : 0.019499780610203743 \n"
     ]
    },
    {
     "output_type": "stream",
     "name": "stderr",
     "text": [
      " 54%|█████▍    | 21/39 [00:05<00:04,  3.67it/s]"
     ]
    },
    {
     "output_type": "stream",
     "name": "stdout",
     "text": [
      "\n",
      "Iteration 21/39 of epoch 63 complete. Loss : 0.018955894878932407 \n"
     ]
    },
    {
     "output_type": "stream",
     "name": "stderr",
     "text": [
      " 72%|███████▏  | 28/39 [00:07<00:03,  3.63it/s]"
     ]
    },
    {
     "output_type": "stream",
     "name": "stdout",
     "text": [
      "\n",
      "Iteration 28/39 of epoch 63 complete. Loss : 0.019004215885485922 \n"
     ]
    },
    {
     "output_type": "stream",
     "name": "stderr",
     "text": [
      " 90%|████████▉ | 35/39 [00:09<00:01,  3.66it/s]"
     ]
    },
    {
     "output_type": "stream",
     "name": "stdout",
     "text": [
      "\n",
      "Iteration 35/39 of epoch 63 complete. Loss : 0.01957011329276221 \n"
     ]
    },
    {
     "output_type": "stream",
     "name": "stderr",
     "text": [
      "100%|██████████| 39/39 [00:10<00:00,  3.73it/s]\n",
      "100%|██████████| 10/10 [00:00<00:00, 13.21it/s]\n",
      "  0%|          | 0/39 [00:00<?, ?it/s]"
     ]
    },
    {
     "output_type": "stream",
     "name": "stdout",
     "text": [
      "\n",
      "Epoch 63 complete! Validation Loss : 2.276484179496765\n",
      "Epoch 63 complete! Validation Accuracy : 0.3537405303030303\n"
     ]
    },
    {
     "output_type": "stream",
     "name": "stderr",
     "text": [
      " 18%|█▊        | 7/39 [00:01<00:08,  3.66it/s]"
     ]
    },
    {
     "output_type": "stream",
     "name": "stdout",
     "text": [
      "\n",
      "Iteration 7/39 of epoch 64 complete. Loss : 0.01876788746033396 \n"
     ]
    },
    {
     "output_type": "stream",
     "name": "stderr",
     "text": [
      " 36%|███▌      | 14/39 [00:03<00:06,  3.63it/s]"
     ]
    },
    {
     "output_type": "stream",
     "name": "stdout",
     "text": [
      "\n",
      "Iteration 14/39 of epoch 64 complete. Loss : 0.017867596287812506 \n"
     ]
    },
    {
     "output_type": "stream",
     "name": "stderr",
     "text": [
      " 54%|█████▍    | 21/39 [00:05<00:04,  3.67it/s]"
     ]
    },
    {
     "output_type": "stream",
     "name": "stdout",
     "text": [
      "\n",
      "Iteration 21/39 of epoch 64 complete. Loss : 0.019733811861702373 \n"
     ]
    },
    {
     "output_type": "stream",
     "name": "stderr",
     "text": [
      " 72%|███████▏  | 28/39 [00:07<00:02,  3.68it/s]"
     ]
    },
    {
     "output_type": "stream",
     "name": "stdout",
     "text": [
      "\n",
      "Iteration 28/39 of epoch 64 complete. Loss : 0.019180751272610257 \n"
     ]
    },
    {
     "output_type": "stream",
     "name": "stderr",
     "text": [
      " 90%|████████▉ | 35/39 [00:09<00:01,  3.67it/s]"
     ]
    },
    {
     "output_type": "stream",
     "name": "stdout",
     "text": [
      "\n",
      "Iteration 35/39 of epoch 64 complete. Loss : 0.01883712237966912 \n"
     ]
    },
    {
     "output_type": "stream",
     "name": "stderr",
     "text": [
      "100%|██████████| 39/39 [00:10<00:00,  3.74it/s]\n",
      "100%|██████████| 10/10 [00:00<00:00, 13.15it/s]\n",
      "  0%|          | 0/39 [00:00<?, ?it/s]"
     ]
    },
    {
     "output_type": "stream",
     "name": "stdout",
     "text": [
      "\n",
      "Epoch 64 complete! Validation Loss : 2.2994524478912353\n",
      "Epoch 64 complete! Validation Accuracy : 0.3537405303030303\n"
     ]
    },
    {
     "output_type": "stream",
     "name": "stderr",
     "text": [
      " 18%|█▊        | 7/39 [00:01<00:08,  3.66it/s]"
     ]
    },
    {
     "output_type": "stream",
     "name": "stdout",
     "text": [
      "\n",
      "Iteration 7/39 of epoch 65 complete. Loss : 0.01885254042489188 \n"
     ]
    },
    {
     "output_type": "stream",
     "name": "stderr",
     "text": [
      " 36%|███▌      | 14/39 [00:03<00:06,  3.63it/s]"
     ]
    },
    {
     "output_type": "stream",
     "name": "stdout",
     "text": [
      "\n",
      "Iteration 14/39 of epoch 65 complete. Loss : 0.016993704917175428 \n"
     ]
    },
    {
     "output_type": "stream",
     "name": "stderr",
     "text": [
      " 54%|█████▍    | 21/39 [00:05<00:04,  3.67it/s]"
     ]
    },
    {
     "output_type": "stream",
     "name": "stdout",
     "text": [
      "\n",
      "Iteration 21/39 of epoch 65 complete. Loss : 0.016493819520941803 \n"
     ]
    },
    {
     "output_type": "stream",
     "name": "stderr",
     "text": [
      " 72%|███████▏  | 28/39 [00:07<00:03,  3.64it/s]"
     ]
    },
    {
     "output_type": "stream",
     "name": "stdout",
     "text": [
      "\n",
      "Iteration 28/39 of epoch 65 complete. Loss : 0.017451275805277482 \n"
     ]
    },
    {
     "output_type": "stream",
     "name": "stderr",
     "text": [
      " 90%|████████▉ | 35/39 [00:09<00:01,  3.68it/s]"
     ]
    },
    {
     "output_type": "stream",
     "name": "stdout",
     "text": [
      "\n",
      "Iteration 35/39 of epoch 65 complete. Loss : 0.01731031241693667 \n"
     ]
    },
    {
     "output_type": "stream",
     "name": "stderr",
     "text": [
      "100%|██████████| 39/39 [00:10<00:00,  3.74it/s]\n",
      "100%|██████████| 10/10 [00:00<00:00, 13.14it/s]\n",
      "  0%|          | 0/39 [00:00<?, ?it/s]"
     ]
    },
    {
     "output_type": "stream",
     "name": "stdout",
     "text": [
      "\n",
      "Epoch 65 complete! Validation Loss : 2.318207597732544\n",
      "Epoch 65 complete! Validation Accuracy : 0.3568655303030303\n"
     ]
    },
    {
     "output_type": "stream",
     "name": "stderr",
     "text": [
      " 18%|█▊        | 7/39 [00:01<00:08,  3.67it/s]"
     ]
    },
    {
     "output_type": "stream",
     "name": "stdout",
     "text": [
      "\n",
      "Iteration 7/39 of epoch 66 complete. Loss : 0.017140457406640053 \n"
     ]
    },
    {
     "output_type": "stream",
     "name": "stderr",
     "text": [
      " 36%|███▌      | 14/39 [00:03<00:06,  3.64it/s]"
     ]
    },
    {
     "output_type": "stream",
     "name": "stdout",
     "text": [
      "\n",
      "Iteration 14/39 of epoch 66 complete. Loss : 0.016790554991790226 \n"
     ]
    },
    {
     "output_type": "stream",
     "name": "stderr",
     "text": [
      " 54%|█████▍    | 21/39 [00:05<00:04,  3.66it/s]"
     ]
    },
    {
     "output_type": "stream",
     "name": "stdout",
     "text": [
      "\n",
      "Iteration 21/39 of epoch 66 complete. Loss : 0.016644330828317573 \n"
     ]
    },
    {
     "output_type": "stream",
     "name": "stderr",
     "text": [
      " 72%|███████▏  | 28/39 [00:07<00:03,  3.66it/s]"
     ]
    },
    {
     "output_type": "stream",
     "name": "stdout",
     "text": [
      "\n",
      "Iteration 28/39 of epoch 66 complete. Loss : 0.01686982810497284 \n"
     ]
    },
    {
     "output_type": "stream",
     "name": "stderr",
     "text": [
      " 90%|████████▉ | 35/39 [00:09<00:01,  3.67it/s]"
     ]
    },
    {
     "output_type": "stream",
     "name": "stdout",
     "text": [
      "\n",
      "Iteration 35/39 of epoch 66 complete. Loss : 0.015970201763723577 \n"
     ]
    },
    {
     "output_type": "stream",
     "name": "stderr",
     "text": [
      "100%|██████████| 39/39 [00:10<00:00,  3.74it/s]\n",
      "100%|██████████| 10/10 [00:00<00:00, 13.12it/s]\n",
      "  0%|          | 0/39 [00:00<?, ?it/s]"
     ]
    },
    {
     "output_type": "stream",
     "name": "stdout",
     "text": [
      "\n",
      "Epoch 66 complete! Validation Loss : 2.339323616027832\n",
      "Epoch 66 complete! Validation Accuracy : 0.35383522727272726\n"
     ]
    },
    {
     "output_type": "stream",
     "name": "stderr",
     "text": [
      " 18%|█▊        | 7/39 [00:01<00:08,  3.64it/s]"
     ]
    },
    {
     "output_type": "stream",
     "name": "stdout",
     "text": [
      "\n",
      "Iteration 7/39 of epoch 67 complete. Loss : 0.01634172722697258 \n"
     ]
    },
    {
     "output_type": "stream",
     "name": "stderr",
     "text": [
      " 36%|███▌      | 14/39 [00:03<00:06,  3.62it/s]"
     ]
    },
    {
     "output_type": "stream",
     "name": "stdout",
     "text": [
      "\n",
      "Iteration 14/39 of epoch 67 complete. Loss : 0.014392521365412645 \n"
     ]
    },
    {
     "output_type": "stream",
     "name": "stderr",
     "text": [
      " 54%|█████▍    | 21/39 [00:05<00:04,  3.66it/s]"
     ]
    },
    {
     "output_type": "stream",
     "name": "stdout",
     "text": [
      "\n",
      "Iteration 21/39 of epoch 67 complete. Loss : 0.015395691618323326 \n"
     ]
    },
    {
     "output_type": "stream",
     "name": "stderr",
     "text": [
      " 72%|███████▏  | 28/39 [00:07<00:03,  3.64it/s]"
     ]
    },
    {
     "output_type": "stream",
     "name": "stdout",
     "text": [
      "\n",
      "Iteration 28/39 of epoch 67 complete. Loss : 0.016291286796331406 \n"
     ]
    },
    {
     "output_type": "stream",
     "name": "stderr",
     "text": [
      " 90%|████████▉ | 35/39 [00:09<00:01,  3.67it/s]"
     ]
    },
    {
     "output_type": "stream",
     "name": "stdout",
     "text": [
      "\n",
      "Iteration 35/39 of epoch 67 complete. Loss : 0.014701982427920614 \n"
     ]
    },
    {
     "output_type": "stream",
     "name": "stderr",
     "text": [
      "100%|██████████| 39/39 [00:10<00:00,  3.73it/s]\n",
      "100%|██████████| 10/10 [00:00<00:00, 13.22it/s]\n",
      "  0%|          | 0/39 [00:00<?, ?it/s]"
     ]
    },
    {
     "output_type": "stream",
     "name": "stdout",
     "text": [
      "\n",
      "Epoch 67 complete! Validation Loss : 2.3600164890289306\n",
      "Epoch 67 complete! Validation Accuracy : 0.35227272727272724\n"
     ]
    },
    {
     "output_type": "stream",
     "name": "stderr",
     "text": [
      " 18%|█▊        | 7/39 [00:01<00:08,  3.67it/s]"
     ]
    },
    {
     "output_type": "stream",
     "name": "stdout",
     "text": [
      "\n",
      "Iteration 7/39 of epoch 68 complete. Loss : 0.01639683890555586 \n"
     ]
    },
    {
     "output_type": "stream",
     "name": "stderr",
     "text": [
      " 36%|███▌      | 14/39 [00:03<00:06,  3.65it/s]"
     ]
    },
    {
     "output_type": "stream",
     "name": "stdout",
     "text": [
      "\n",
      "Iteration 14/39 of epoch 68 complete. Loss : 0.01557375437447003 \n"
     ]
    },
    {
     "output_type": "stream",
     "name": "stderr",
     "text": [
      " 54%|█████▍    | 21/39 [00:05<00:04,  3.67it/s]"
     ]
    },
    {
     "output_type": "stream",
     "name": "stdout",
     "text": [
      "\n",
      "Iteration 21/39 of epoch 68 complete. Loss : 0.014828069800777095 \n"
     ]
    },
    {
     "output_type": "stream",
     "name": "stderr",
     "text": [
      " 72%|███████▏  | 28/39 [00:07<00:03,  3.66it/s]"
     ]
    },
    {
     "output_type": "stream",
     "name": "stdout",
     "text": [
      "\n",
      "Iteration 28/39 of epoch 68 complete. Loss : 0.015353402788085597 \n"
     ]
    },
    {
     "output_type": "stream",
     "name": "stderr",
     "text": [
      " 90%|████████▉ | 35/39 [00:09<00:01,  3.67it/s]"
     ]
    },
    {
     "output_type": "stream",
     "name": "stdout",
     "text": [
      "\n",
      "Iteration 35/39 of epoch 68 complete. Loss : 0.013969729255352701 \n"
     ]
    },
    {
     "output_type": "stream",
     "name": "stderr",
     "text": [
      "100%|██████████| 39/39 [00:10<00:00,  3.75it/s]\n",
      "100%|██████████| 10/10 [00:00<00:00, 13.17it/s]\n",
      "  0%|          | 0/39 [00:00<?, ?it/s]"
     ]
    },
    {
     "output_type": "stream",
     "name": "stdout",
     "text": [
      "\n",
      "Epoch 68 complete! Validation Loss : 2.378053402900696\n",
      "Epoch 68 complete! Validation Accuracy : 0.35530303030303034\n"
     ]
    },
    {
     "output_type": "stream",
     "name": "stderr",
     "text": [
      " 18%|█▊        | 7/39 [00:01<00:08,  3.66it/s]"
     ]
    },
    {
     "output_type": "stream",
     "name": "stdout",
     "text": [
      "\n",
      "Iteration 7/39 of epoch 69 complete. Loss : 0.01472448610833713 \n"
     ]
    },
    {
     "output_type": "stream",
     "name": "stderr",
     "text": [
      " 36%|███▌      | 14/39 [00:03<00:06,  3.64it/s]"
     ]
    },
    {
     "output_type": "stream",
     "name": "stdout",
     "text": [
      "\n",
      "Iteration 14/39 of epoch 69 complete. Loss : 0.014310436456331186 \n"
     ]
    },
    {
     "output_type": "stream",
     "name": "stderr",
     "text": [
      " 54%|█████▍    | 21/39 [00:05<00:04,  3.66it/s]"
     ]
    },
    {
     "output_type": "stream",
     "name": "stdout",
     "text": [
      "\n",
      "Iteration 21/39 of epoch 69 complete. Loss : 0.014613707549870014 \n"
     ]
    },
    {
     "output_type": "stream",
     "name": "stderr",
     "text": [
      " 72%|███████▏  | 28/39 [00:07<00:03,  3.66it/s]"
     ]
    },
    {
     "output_type": "stream",
     "name": "stdout",
     "text": [
      "\n",
      "Iteration 28/39 of epoch 69 complete. Loss : 0.015064020508102008 \n"
     ]
    },
    {
     "output_type": "stream",
     "name": "stderr",
     "text": [
      " 90%|████████▉ | 35/39 [00:09<00:01,  3.67it/s]"
     ]
    },
    {
     "output_type": "stream",
     "name": "stdout",
     "text": [
      "\n",
      "Iteration 35/39 of epoch 69 complete. Loss : 0.014080808497965336 \n"
     ]
    },
    {
     "output_type": "stream",
     "name": "stderr",
     "text": [
      "100%|██████████| 39/39 [00:10<00:00,  3.74it/s]\n",
      "100%|██████████| 10/10 [00:00<00:00, 13.20it/s]\n",
      "  0%|          | 0/39 [00:00<?, ?it/s]"
     ]
    },
    {
     "output_type": "stream",
     "name": "stdout",
     "text": [
      "\n",
      "Epoch 69 complete! Validation Loss : 2.396150493621826\n",
      "Epoch 69 complete! Validation Accuracy : 0.35071022727272727\n"
     ]
    },
    {
     "output_type": "stream",
     "name": "stderr",
     "text": [
      " 18%|█▊        | 7/39 [00:01<00:08,  3.67it/s]"
     ]
    },
    {
     "output_type": "stream",
     "name": "stdout",
     "text": [
      "\n",
      "Iteration 7/39 of epoch 70 complete. Loss : 0.01382814281220947 \n"
     ]
    },
    {
     "output_type": "stream",
     "name": "stderr",
     "text": [
      " 36%|███▌      | 14/39 [00:03<00:06,  3.65it/s]"
     ]
    },
    {
     "output_type": "stream",
     "name": "stdout",
     "text": [
      "\n",
      "Iteration 14/39 of epoch 70 complete. Loss : 0.013718921425087112 \n"
     ]
    },
    {
     "output_type": "stream",
     "name": "stderr",
     "text": [
      " 54%|█████▍    | 21/39 [00:05<00:04,  3.66it/s]"
     ]
    },
    {
     "output_type": "stream",
     "name": "stdout",
     "text": [
      "\n",
      "Iteration 21/39 of epoch 70 complete. Loss : 0.014305044098624162 \n"
     ]
    },
    {
     "output_type": "stream",
     "name": "stderr",
     "text": [
      " 72%|███████▏  | 28/39 [00:07<00:03,  3.65it/s]"
     ]
    },
    {
     "output_type": "stream",
     "name": "stdout",
     "text": [
      "\n",
      "Iteration 28/39 of epoch 70 complete. Loss : 0.014169256468968732 \n"
     ]
    },
    {
     "output_type": "stream",
     "name": "stderr",
     "text": [
      " 90%|████████▉ | 35/39 [00:09<00:01,  3.67it/s]"
     ]
    },
    {
     "output_type": "stream",
     "name": "stdout",
     "text": [
      "\n",
      "Iteration 35/39 of epoch 70 complete. Loss : 0.01349127066454717 \n"
     ]
    },
    {
     "output_type": "stream",
     "name": "stderr",
     "text": [
      "100%|██████████| 39/39 [00:10<00:00,  3.74it/s]\n",
      "100%|██████████| 10/10 [00:00<00:00, 13.13it/s]\n",
      "  0%|          | 0/39 [00:00<?, ?it/s]"
     ]
    },
    {
     "output_type": "stream",
     "name": "stdout",
     "text": [
      "\n",
      "Epoch 70 complete! Validation Loss : 2.4159531116485597\n",
      "Epoch 70 complete! Validation Accuracy : 0.35383522727272726\n"
     ]
    },
    {
     "output_type": "stream",
     "name": "stderr",
     "text": [
      " 18%|█▊        | 7/39 [00:01<00:08,  3.67it/s]"
     ]
    },
    {
     "output_type": "stream",
     "name": "stdout",
     "text": [
      "\n",
      "Iteration 7/39 of epoch 71 complete. Loss : 0.013960197700985841 \n"
     ]
    },
    {
     "output_type": "stream",
     "name": "stderr",
     "text": [
      " 36%|███▌      | 14/39 [00:03<00:06,  3.64it/s]"
     ]
    },
    {
     "output_type": "stream",
     "name": "stdout",
     "text": [
      "\n",
      "Iteration 14/39 of epoch 71 complete. Loss : 0.013154351285525731 \n"
     ]
    },
    {
     "output_type": "stream",
     "name": "stderr",
     "text": [
      " 54%|█████▍    | 21/39 [00:05<00:04,  3.66it/s]"
     ]
    },
    {
     "output_type": "stream",
     "name": "stdout",
     "text": [
      "\n",
      "Iteration 21/39 of epoch 71 complete. Loss : 0.012604761336530958 \n"
     ]
    },
    {
     "output_type": "stream",
     "name": "stderr",
     "text": [
      " 72%|███████▏  | 28/39 [00:07<00:03,  3.66it/s]"
     ]
    },
    {
     "output_type": "stream",
     "name": "stdout",
     "text": [
      "\n",
      "Iteration 28/39 of epoch 71 complete. Loss : 0.013600031712225505 \n"
     ]
    },
    {
     "output_type": "stream",
     "name": "stderr",
     "text": [
      " 90%|████████▉ | 35/39 [00:09<00:01,  3.66it/s]"
     ]
    },
    {
     "output_type": "stream",
     "name": "stdout",
     "text": [
      "\n",
      "Iteration 35/39 of epoch 71 complete. Loss : 0.012364267371594906 \n"
     ]
    },
    {
     "output_type": "stream",
     "name": "stderr",
     "text": [
      "100%|██████████| 39/39 [00:10<00:00,  3.73it/s]\n",
      "100%|██████████| 10/10 [00:00<00:00, 13.23it/s]\n",
      "  0%|          | 0/39 [00:00<?, ?it/s]"
     ]
    },
    {
     "output_type": "stream",
     "name": "stdout",
     "text": [
      "\n",
      "Epoch 71 complete! Validation Loss : 2.4366621494293215\n",
      "Epoch 71 complete! Validation Accuracy : 0.35227272727272724\n"
     ]
    },
    {
     "output_type": "stream",
     "name": "stderr",
     "text": [
      " 18%|█▊        | 7/39 [00:01<00:08,  3.66it/s]"
     ]
    },
    {
     "output_type": "stream",
     "name": "stdout",
     "text": [
      "\n",
      "Iteration 7/39 of epoch 72 complete. Loss : 0.01323275055204119 \n"
     ]
    },
    {
     "output_type": "stream",
     "name": "stderr",
     "text": [
      " 36%|███▌      | 14/39 [00:03<00:06,  3.62it/s]"
     ]
    },
    {
     "output_type": "stream",
     "name": "stdout",
     "text": [
      "\n",
      "Iteration 14/39 of epoch 72 complete. Loss : 0.013026619330048561 \n"
     ]
    },
    {
     "output_type": "stream",
     "name": "stderr",
     "text": [
      " 54%|█████▍    | 21/39 [00:05<00:04,  3.66it/s]"
     ]
    },
    {
     "output_type": "stream",
     "name": "stdout",
     "text": [
      "\n",
      "Iteration 21/39 of epoch 72 complete. Loss : 0.012919171846338682 \n"
     ]
    },
    {
     "output_type": "stream",
     "name": "stderr",
     "text": [
      " 72%|███████▏  | 28/39 [00:07<00:03,  3.63it/s]"
     ]
    },
    {
     "output_type": "stream",
     "name": "stdout",
     "text": [
      "\n",
      "Iteration 28/39 of epoch 72 complete. Loss : 0.012366602995565959 \n"
     ]
    },
    {
     "output_type": "stream",
     "name": "stderr",
     "text": [
      " 90%|████████▉ | 35/39 [00:09<00:01,  3.67it/s]"
     ]
    },
    {
     "output_type": "stream",
     "name": "stdout",
     "text": [
      "\n",
      "Iteration 35/39 of epoch 72 complete. Loss : 0.012434103526175022 \n"
     ]
    },
    {
     "output_type": "stream",
     "name": "stderr",
     "text": [
      "100%|██████████| 39/39 [00:10<00:00,  3.73it/s]\n",
      "100%|██████████| 10/10 [00:00<00:00, 13.26it/s]\n",
      "  0%|          | 0/39 [00:00<?, ?it/s]"
     ]
    },
    {
     "output_type": "stream",
     "name": "stdout",
     "text": [
      "\n",
      "Epoch 72 complete! Validation Loss : 2.4548880815505982\n",
      "Epoch 72 complete! Validation Accuracy : 0.34602272727272726\n"
     ]
    },
    {
     "output_type": "stream",
     "name": "stderr",
     "text": [
      " 18%|█▊        | 7/39 [00:01<00:08,  3.67it/s]"
     ]
    },
    {
     "output_type": "stream",
     "name": "stdout",
     "text": [
      "\n",
      "Iteration 7/39 of epoch 73 complete. Loss : 0.012489364349416323 \n"
     ]
    },
    {
     "output_type": "stream",
     "name": "stderr",
     "text": [
      " 36%|███▌      | 14/39 [00:03<00:06,  3.65it/s]"
     ]
    },
    {
     "output_type": "stream",
     "name": "stdout",
     "text": [
      "\n",
      "Iteration 14/39 of epoch 73 complete. Loss : 0.01275408627199275 \n"
     ]
    },
    {
     "output_type": "stream",
     "name": "stderr",
     "text": [
      " 54%|█████▍    | 21/39 [00:05<00:04,  3.66it/s]"
     ]
    },
    {
     "output_type": "stream",
     "name": "stdout",
     "text": [
      "\n",
      "Iteration 21/39 of epoch 73 complete. Loss : 0.012449059901492936 \n"
     ]
    },
    {
     "output_type": "stream",
     "name": "stderr",
     "text": [
      " 72%|███████▏  | 28/39 [00:07<00:03,  3.63it/s]"
     ]
    },
    {
     "output_type": "stream",
     "name": "stdout",
     "text": [
      "\n",
      "Iteration 28/39 of epoch 73 complete. Loss : 0.012306282296776772 \n"
     ]
    },
    {
     "output_type": "stream",
     "name": "stderr",
     "text": [
      " 90%|████████▉ | 35/39 [00:09<00:01,  3.69it/s]"
     ]
    },
    {
     "output_type": "stream",
     "name": "stdout",
     "text": [
      "\n",
      "Iteration 35/39 of epoch 73 complete. Loss : 0.01196953867162977 \n"
     ]
    },
    {
     "output_type": "stream",
     "name": "stderr",
     "text": [
      "100%|██████████| 39/39 [00:10<00:00,  3.74it/s]\n",
      "100%|██████████| 10/10 [00:00<00:00, 13.10it/s]\n",
      "  0%|          | 0/39 [00:00<?, ?it/s]"
     ]
    },
    {
     "output_type": "stream",
     "name": "stdout",
     "text": [
      "\n",
      "Epoch 73 complete! Validation Loss : 2.475202941894531\n",
      "Epoch 73 complete! Validation Accuracy : 0.3461174242424242\n"
     ]
    },
    {
     "output_type": "stream",
     "name": "stderr",
     "text": [
      " 18%|█▊        | 7/39 [00:01<00:08,  3.67it/s]"
     ]
    },
    {
     "output_type": "stream",
     "name": "stdout",
     "text": [
      "\n",
      "Iteration 7/39 of epoch 74 complete. Loss : 0.011898402257689409 \n"
     ]
    },
    {
     "output_type": "stream",
     "name": "stderr",
     "text": [
      " 36%|███▌      | 14/39 [00:03<00:06,  3.64it/s]"
     ]
    },
    {
     "output_type": "stream",
     "name": "stdout",
     "text": [
      "\n",
      "Iteration 14/39 of epoch 74 complete. Loss : 0.011455601613436426 \n"
     ]
    },
    {
     "output_type": "stream",
     "name": "stderr",
     "text": [
      " 54%|█████▍    | 21/39 [00:05<00:04,  3.69it/s]"
     ]
    },
    {
     "output_type": "stream",
     "name": "stdout",
     "text": [
      "\n",
      "Iteration 21/39 of epoch 74 complete. Loss : 0.011674935131200723 \n"
     ]
    },
    {
     "output_type": "stream",
     "name": "stderr",
     "text": [
      " 72%|███████▏  | 28/39 [00:07<00:03,  3.66it/s]"
     ]
    },
    {
     "output_type": "stream",
     "name": "stdout",
     "text": [
      "\n",
      "Iteration 28/39 of epoch 74 complete. Loss : 0.011873832903802395 \n"
     ]
    },
    {
     "output_type": "stream",
     "name": "stderr",
     "text": [
      " 90%|████████▉ | 35/39 [00:09<00:01,  3.66it/s]"
     ]
    },
    {
     "output_type": "stream",
     "name": "stdout",
     "text": [
      "\n",
      "Iteration 35/39 of epoch 74 complete. Loss : 0.01180502399802208 \n"
     ]
    },
    {
     "output_type": "stream",
     "name": "stderr",
     "text": [
      "100%|██████████| 39/39 [00:10<00:00,  3.74it/s]\n",
      "100%|██████████| 10/10 [00:00<00:00, 13.19it/s]\n",
      "  0%|          | 0/39 [00:00<?, ?it/s]"
     ]
    },
    {
     "output_type": "stream",
     "name": "stdout",
     "text": [
      "\n",
      "Epoch 74 complete! Validation Loss : 2.4902620792388914\n",
      "Epoch 74 complete! Validation Accuracy : 0.34914772727272725\n"
     ]
    },
    {
     "output_type": "stream",
     "name": "stderr",
     "text": [
      " 18%|█▊        | 7/39 [00:01<00:08,  3.68it/s]"
     ]
    },
    {
     "output_type": "stream",
     "name": "stdout",
     "text": [
      "\n",
      "Iteration 7/39 of epoch 75 complete. Loss : 0.01117261459252664 \n"
     ]
    },
    {
     "output_type": "stream",
     "name": "stderr",
     "text": [
      " 36%|███▌      | 14/39 [00:03<00:06,  3.64it/s]"
     ]
    },
    {
     "output_type": "stream",
     "name": "stdout",
     "text": [
      "\n",
      "Iteration 14/39 of epoch 75 complete. Loss : 0.011849415355495043 \n"
     ]
    },
    {
     "output_type": "stream",
     "name": "stderr",
     "text": [
      " 54%|█████▍    | 21/39 [00:05<00:04,  3.66it/s]"
     ]
    },
    {
     "output_type": "stream",
     "name": "stdout",
     "text": [
      "\n",
      "Iteration 21/39 of epoch 75 complete. Loss : 0.01186517799007041 \n"
     ]
    },
    {
     "output_type": "stream",
     "name": "stderr",
     "text": [
      " 72%|███████▏  | 28/39 [00:07<00:03,  3.63it/s]"
     ]
    },
    {
     "output_type": "stream",
     "name": "stdout",
     "text": [
      "\n",
      "Iteration 28/39 of epoch 75 complete. Loss : 0.010887788475624152 \n"
     ]
    },
    {
     "output_type": "stream",
     "name": "stderr",
     "text": [
      " 90%|████████▉ | 35/39 [00:09<00:01,  3.66it/s]"
     ]
    },
    {
     "output_type": "stream",
     "name": "stdout",
     "text": [
      "\n",
      "Iteration 35/39 of epoch 75 complete. Loss : 0.01160160731524229 \n"
     ]
    },
    {
     "output_type": "stream",
     "name": "stderr",
     "text": [
      "100%|██████████| 39/39 [00:10<00:00,  3.73it/s]\n",
      "100%|██████████| 10/10 [00:00<00:00, 13.14it/s]\n",
      "  0%|          | 0/39 [00:00<?, ?it/s]"
     ]
    },
    {
     "output_type": "stream",
     "name": "stdout",
     "text": [
      "\n",
      "Epoch 75 complete! Validation Loss : 2.5056997299194337\n",
      "Epoch 75 complete! Validation Accuracy : 0.3461174242424242\n"
     ]
    },
    {
     "output_type": "stream",
     "name": "stderr",
     "text": [
      " 18%|█▊        | 7/39 [00:01<00:08,  3.67it/s]"
     ]
    },
    {
     "output_type": "stream",
     "name": "stdout",
     "text": [
      "\n",
      "Iteration 7/39 of epoch 76 complete. Loss : 0.010990040110690253 \n"
     ]
    },
    {
     "output_type": "stream",
     "name": "stderr",
     "text": [
      " 36%|███▌      | 14/39 [00:03<00:06,  3.63it/s]"
     ]
    },
    {
     "output_type": "stream",
     "name": "stdout",
     "text": [
      "\n",
      "Iteration 14/39 of epoch 76 complete. Loss : 0.011315248640520232 \n"
     ]
    },
    {
     "output_type": "stream",
     "name": "stderr",
     "text": [
      " 54%|█████▍    | 21/39 [00:05<00:04,  3.65it/s]"
     ]
    },
    {
     "output_type": "stream",
     "name": "stdout",
     "text": [
      "\n",
      "Iteration 21/39 of epoch 76 complete. Loss : 0.010719880594738893 \n"
     ]
    },
    {
     "output_type": "stream",
     "name": "stderr",
     "text": [
      " 72%|███████▏  | 28/39 [00:07<00:03,  3.66it/s]"
     ]
    },
    {
     "output_type": "stream",
     "name": "stdout",
     "text": [
      "\n",
      "Iteration 28/39 of epoch 76 complete. Loss : 0.011137973384133406 \n"
     ]
    },
    {
     "output_type": "stream",
     "name": "stderr",
     "text": [
      " 90%|████████▉ | 35/39 [00:09<00:01,  3.67it/s]"
     ]
    },
    {
     "output_type": "stream",
     "name": "stdout",
     "text": [
      "\n",
      "Iteration 35/39 of epoch 76 complete. Loss : 0.010931023928735937 \n"
     ]
    },
    {
     "output_type": "stream",
     "name": "stderr",
     "text": [
      "100%|██████████| 39/39 [00:10<00:00,  3.73it/s]\n",
      "100%|██████████| 10/10 [00:00<00:00, 13.20it/s]\n",
      "  0%|          | 0/39 [00:00<?, ?it/s]"
     ]
    },
    {
     "output_type": "stream",
     "name": "stdout",
     "text": [
      "\n",
      "Epoch 76 complete! Validation Loss : 2.5229583024978637\n",
      "Epoch 76 complete! Validation Accuracy : 0.34455492424242423\n"
     ]
    },
    {
     "output_type": "stream",
     "name": "stderr",
     "text": [
      " 18%|█▊        | 7/39 [00:01<00:08,  3.67it/s]"
     ]
    },
    {
     "output_type": "stream",
     "name": "stdout",
     "text": [
      "\n",
      "Iteration 7/39 of epoch 77 complete. Loss : 0.01062905482415642 \n"
     ]
    },
    {
     "output_type": "stream",
     "name": "stderr",
     "text": [
      " 36%|███▌      | 14/39 [00:03<00:06,  3.64it/s]"
     ]
    },
    {
     "output_type": "stream",
     "name": "stdout",
     "text": [
      "\n",
      "Iteration 14/39 of epoch 77 complete. Loss : 0.0109553173450487 \n"
     ]
    },
    {
     "output_type": "stream",
     "name": "stderr",
     "text": [
      " 54%|█████▍    | 21/39 [00:05<00:04,  3.69it/s]"
     ]
    },
    {
     "output_type": "stream",
     "name": "stdout",
     "text": [
      "\n",
      "Iteration 21/39 of epoch 77 complete. Loss : 0.010402658422078406 \n"
     ]
    },
    {
     "output_type": "stream",
     "name": "stderr",
     "text": [
      " 72%|███████▏  | 28/39 [00:07<00:03,  3.64it/s]"
     ]
    },
    {
     "output_type": "stream",
     "name": "stdout",
     "text": [
      "\n",
      "Iteration 28/39 of epoch 77 complete. Loss : 0.010163657367229462 \n"
     ]
    },
    {
     "output_type": "stream",
     "name": "stderr",
     "text": [
      " 90%|████████▉ | 35/39 [00:09<00:01,  3.67it/s]"
     ]
    },
    {
     "output_type": "stream",
     "name": "stdout",
     "text": [
      "\n",
      "Iteration 35/39 of epoch 77 complete. Loss : 0.010463663776006018 \n"
     ]
    },
    {
     "output_type": "stream",
     "name": "stderr",
     "text": [
      "100%|██████████| 39/39 [00:10<00:00,  3.74it/s]\n",
      "100%|██████████| 10/10 [00:00<00:00, 13.12it/s]\n",
      "  0%|          | 0/39 [00:00<?, ?it/s]"
     ]
    },
    {
     "output_type": "stream",
     "name": "stdout",
     "text": [
      "\n",
      "Epoch 77 complete! Validation Loss : 2.539303183555603\n",
      "Epoch 77 complete! Validation Accuracy : 0.34602272727272726\n"
     ]
    },
    {
     "output_type": "stream",
     "name": "stderr",
     "text": [
      " 18%|█▊        | 7/39 [00:01<00:08,  3.68it/s]"
     ]
    },
    {
     "output_type": "stream",
     "name": "stdout",
     "text": [
      "\n",
      "Iteration 7/39 of epoch 78 complete. Loss : 0.010257797315716743 \n"
     ]
    },
    {
     "output_type": "stream",
     "name": "stderr",
     "text": [
      " 36%|███▌      | 14/39 [00:03<00:06,  3.64it/s]"
     ]
    },
    {
     "output_type": "stream",
     "name": "stdout",
     "text": [
      "\n",
      "Iteration 14/39 of epoch 78 complete. Loss : 0.010950000557516302 \n"
     ]
    },
    {
     "output_type": "stream",
     "name": "stderr",
     "text": [
      " 54%|█████▍    | 21/39 [00:05<00:04,  3.68it/s]"
     ]
    },
    {
     "output_type": "stream",
     "name": "stdout",
     "text": [
      "\n",
      "Iteration 21/39 of epoch 78 complete. Loss : 0.009887112570660455 \n"
     ]
    },
    {
     "output_type": "stream",
     "name": "stderr",
     "text": [
      " 72%|███████▏  | 28/39 [00:07<00:02,  3.68it/s]"
     ]
    },
    {
     "output_type": "stream",
     "name": "stdout",
     "text": [
      "\n",
      "Iteration 28/39 of epoch 78 complete. Loss : 0.010661719366908073 \n"
     ]
    },
    {
     "output_type": "stream",
     "name": "stderr",
     "text": [
      " 90%|████████▉ | 35/39 [00:09<00:01,  3.69it/s]"
     ]
    },
    {
     "output_type": "stream",
     "name": "stdout",
     "text": [
      "\n",
      "Iteration 35/39 of epoch 78 complete. Loss : 0.009996790838028704 \n"
     ]
    },
    {
     "output_type": "stream",
     "name": "stderr",
     "text": [
      "100%|██████████| 39/39 [00:10<00:00,  3.75it/s]\n",
      "100%|██████████| 10/10 [00:00<00:00, 13.20it/s]\n",
      "  0%|          | 0/39 [00:00<?, ?it/s]"
     ]
    },
    {
     "output_type": "stream",
     "name": "stdout",
     "text": [
      "\n",
      "Epoch 78 complete! Validation Loss : 2.556189513206482\n",
      "Epoch 78 complete! Validation Accuracy : 0.3429924242424242\n"
     ]
    },
    {
     "output_type": "stream",
     "name": "stderr",
     "text": [
      " 18%|█▊        | 7/39 [00:01<00:08,  3.66it/s]"
     ]
    },
    {
     "output_type": "stream",
     "name": "stdout",
     "text": [
      "\n",
      "Iteration 7/39 of epoch 79 complete. Loss : 0.010378755362970489 \n"
     ]
    },
    {
     "output_type": "stream",
     "name": "stderr",
     "text": [
      " 36%|███▌      | 14/39 [00:03<00:06,  3.64it/s]"
     ]
    },
    {
     "output_type": "stream",
     "name": "stdout",
     "text": [
      "\n",
      "Iteration 14/39 of epoch 79 complete. Loss : 0.010539865653429712 \n"
     ]
    },
    {
     "output_type": "stream",
     "name": "stderr",
     "text": [
      " 54%|█████▍    | 21/39 [00:05<00:04,  3.67it/s]"
     ]
    },
    {
     "output_type": "stream",
     "name": "stdout",
     "text": [
      "\n",
      "Iteration 21/39 of epoch 79 complete. Loss : 0.010219690389931202 \n"
     ]
    },
    {
     "output_type": "stream",
     "name": "stderr",
     "text": [
      " 72%|███████▏  | 28/39 [00:07<00:03,  3.65it/s]"
     ]
    },
    {
     "output_type": "stream",
     "name": "stdout",
     "text": [
      "\n",
      "Iteration 28/39 of epoch 79 complete. Loss : 0.010276723120893751 \n"
     ]
    },
    {
     "output_type": "stream",
     "name": "stderr",
     "text": [
      " 90%|████████▉ | 35/39 [00:09<00:01,  3.66it/s]"
     ]
    },
    {
     "output_type": "stream",
     "name": "stdout",
     "text": [
      "\n",
      "Iteration 35/39 of epoch 79 complete. Loss : 0.009412247820624284 \n"
     ]
    },
    {
     "output_type": "stream",
     "name": "stderr",
     "text": [
      "100%|██████████| 39/39 [00:10<00:00,  3.74it/s]\n",
      "100%|██████████| 10/10 [00:00<00:00, 13.17it/s]\n",
      "  0%|          | 0/39 [00:00<?, ?it/s]"
     ]
    },
    {
     "output_type": "stream",
     "name": "stdout",
     "text": [
      "\n",
      "Epoch 79 complete! Validation Loss : 2.5749480009078978\n",
      "Epoch 79 complete! Validation Accuracy : 0.3383049242424242\n"
     ]
    },
    {
     "output_type": "stream",
     "name": "stderr",
     "text": [
      " 18%|█▊        | 7/39 [00:01<00:08,  3.66it/s]"
     ]
    },
    {
     "output_type": "stream",
     "name": "stdout",
     "text": [
      "\n",
      "Iteration 7/39 of epoch 80 complete. Loss : 0.010234681623322623 \n"
     ]
    },
    {
     "output_type": "stream",
     "name": "stderr",
     "text": [
      " 36%|███▌      | 14/39 [00:03<00:06,  3.64it/s]"
     ]
    },
    {
     "output_type": "stream",
     "name": "stdout",
     "text": [
      "\n",
      "Iteration 14/39 of epoch 80 complete. Loss : 0.00954427250794002 \n"
     ]
    },
    {
     "output_type": "stream",
     "name": "stderr",
     "text": [
      " 54%|█████▍    | 21/39 [00:05<00:04,  3.65it/s]"
     ]
    },
    {
     "output_type": "stream",
     "name": "stdout",
     "text": [
      "\n",
      "Iteration 21/39 of epoch 80 complete. Loss : 0.009796778671443462 \n"
     ]
    },
    {
     "output_type": "stream",
     "name": "stderr",
     "text": [
      " 72%|███████▏  | 28/39 [00:07<00:03,  3.64it/s]"
     ]
    },
    {
     "output_type": "stream",
     "name": "stdout",
     "text": [
      "\n",
      "Iteration 28/39 of epoch 80 complete. Loss : 0.009734601713716984 \n"
     ]
    },
    {
     "output_type": "stream",
     "name": "stderr",
     "text": [
      " 90%|████████▉ | 35/39 [00:09<00:01,  3.67it/s]"
     ]
    },
    {
     "output_type": "stream",
     "name": "stdout",
     "text": [
      "\n",
      "Iteration 35/39 of epoch 80 complete. Loss : 0.009964923241308756 \n"
     ]
    },
    {
     "output_type": "stream",
     "name": "stderr",
     "text": [
      "100%|██████████| 39/39 [00:10<00:00,  3.73it/s]\n",
      "100%|██████████| 10/10 [00:00<00:00, 13.14it/s]\n",
      "  0%|          | 0/39 [00:00<?, ?it/s]"
     ]
    },
    {
     "output_type": "stream",
     "name": "stdout",
     "text": [
      "\n",
      "Epoch 80 complete! Validation Loss : 2.5900184154510497\n",
      "Epoch 80 complete! Validation Accuracy : 0.3398674242424242\n"
     ]
    },
    {
     "output_type": "stream",
     "name": "stderr",
     "text": [
      " 18%|█▊        | 7/39 [00:01<00:08,  3.67it/s]"
     ]
    },
    {
     "output_type": "stream",
     "name": "stdout",
     "text": [
      "\n",
      "Iteration 7/39 of epoch 81 complete. Loss : 0.00939536267625434 \n"
     ]
    },
    {
     "output_type": "stream",
     "name": "stderr",
     "text": [
      " 36%|███▌      | 14/39 [00:03<00:06,  3.64it/s]"
     ]
    },
    {
     "output_type": "stream",
     "name": "stdout",
     "text": [
      "\n",
      "Iteration 14/39 of epoch 81 complete. Loss : 0.009105661351765906 \n"
     ]
    },
    {
     "output_type": "stream",
     "name": "stderr",
     "text": [
      " 54%|█████▍    | 21/39 [00:05<00:04,  3.65it/s]"
     ]
    },
    {
     "output_type": "stream",
     "name": "stdout",
     "text": [
      "\n",
      "Iteration 21/39 of epoch 81 complete. Loss : 0.009109732495354754 \n"
     ]
    },
    {
     "output_type": "stream",
     "name": "stderr",
     "text": [
      " 72%|███████▏  | 28/39 [00:07<00:03,  3.66it/s]"
     ]
    },
    {
     "output_type": "stream",
     "name": "stdout",
     "text": [
      "\n",
      "Iteration 28/39 of epoch 81 complete. Loss : 0.009103052451142244 \n"
     ]
    },
    {
     "output_type": "stream",
     "name": "stderr",
     "text": [
      " 90%|████████▉ | 35/39 [00:09<00:01,  3.67it/s]"
     ]
    },
    {
     "output_type": "stream",
     "name": "stdout",
     "text": [
      "\n",
      "Iteration 35/39 of epoch 81 complete. Loss : 0.009319787978061609 \n"
     ]
    },
    {
     "output_type": "stream",
     "name": "stderr",
     "text": [
      "100%|██████████| 39/39 [00:10<00:00,  3.74it/s]\n",
      "100%|██████████| 10/10 [00:00<00:00, 13.16it/s]\n",
      "  0%|          | 0/39 [00:00<?, ?it/s]"
     ]
    },
    {
     "output_type": "stream",
     "name": "stdout",
     "text": [
      "\n",
      "Epoch 81 complete! Validation Loss : 2.6070485353469848\n",
      "Epoch 81 complete! Validation Accuracy : 0.34446022727272724\n"
     ]
    },
    {
     "output_type": "stream",
     "name": "stderr",
     "text": [
      " 18%|█▊        | 7/39 [00:01<00:08,  3.68it/s]"
     ]
    },
    {
     "output_type": "stream",
     "name": "stdout",
     "text": [
      "\n",
      "Iteration 7/39 of epoch 82 complete. Loss : 0.009388630344931568 \n"
     ]
    },
    {
     "output_type": "stream",
     "name": "stderr",
     "text": [
      " 36%|███▌      | 14/39 [00:03<00:06,  3.64it/s]"
     ]
    },
    {
     "output_type": "stream",
     "name": "stdout",
     "text": [
      "\n",
      "Iteration 14/39 of epoch 82 complete. Loss : 0.00941920533244099 \n"
     ]
    },
    {
     "output_type": "stream",
     "name": "stderr",
     "text": [
      " 54%|█████▍    | 21/39 [00:05<00:04,  3.66it/s]"
     ]
    },
    {
     "output_type": "stream",
     "name": "stdout",
     "text": [
      "\n",
      "Iteration 21/39 of epoch 82 complete. Loss : 0.009200805399034704 \n"
     ]
    },
    {
     "output_type": "stream",
     "name": "stderr",
     "text": [
      " 72%|███████▏  | 28/39 [00:07<00:03,  3.64it/s]"
     ]
    },
    {
     "output_type": "stream",
     "name": "stdout",
     "text": [
      "\n",
      "Iteration 28/39 of epoch 82 complete. Loss : 0.00970035498695714 \n"
     ]
    },
    {
     "output_type": "stream",
     "name": "stderr",
     "text": [
      " 90%|████████▉ | 35/39 [00:09<00:01,  3.67it/s]"
     ]
    },
    {
     "output_type": "stream",
     "name": "stdout",
     "text": [
      "\n",
      "Iteration 35/39 of epoch 82 complete. Loss : 0.009054312748568398 \n"
     ]
    },
    {
     "output_type": "stream",
     "name": "stderr",
     "text": [
      "100%|██████████| 39/39 [00:10<00:00,  3.74it/s]\n",
      "100%|██████████| 10/10 [00:00<00:00, 13.22it/s]\n",
      "  0%|          | 0/39 [00:00<?, ?it/s]"
     ]
    },
    {
     "output_type": "stream",
     "name": "stdout",
     "text": [
      "\n",
      "Epoch 82 complete! Validation Loss : 2.620933723449707\n",
      "Epoch 82 complete! Validation Accuracy : 0.34289772727272727\n"
     ]
    },
    {
     "output_type": "stream",
     "name": "stderr",
     "text": [
      " 18%|█▊        | 7/39 [00:01<00:08,  3.67it/s]"
     ]
    },
    {
     "output_type": "stream",
     "name": "stdout",
     "text": [
      "\n",
      "Iteration 7/39 of epoch 83 complete. Loss : 0.008791885604815823 \n"
     ]
    },
    {
     "output_type": "stream",
     "name": "stderr",
     "text": [
      " 36%|███▌      | 14/39 [00:03<00:06,  3.66it/s]"
     ]
    },
    {
     "output_type": "stream",
     "name": "stdout",
     "text": [
      "\n",
      "Iteration 14/39 of epoch 83 complete. Loss : 0.008636601003152984 \n"
     ]
    },
    {
     "output_type": "stream",
     "name": "stderr",
     "text": [
      " 54%|█████▍    | 21/39 [00:05<00:04,  3.65it/s]"
     ]
    },
    {
     "output_type": "stream",
     "name": "stdout",
     "text": [
      "\n",
      "Iteration 21/39 of epoch 83 complete. Loss : 0.008824040714119161 \n"
     ]
    },
    {
     "output_type": "stream",
     "name": "stderr",
     "text": [
      " 72%|███████▏  | 28/39 [00:07<00:02,  3.67it/s]"
     ]
    },
    {
     "output_type": "stream",
     "name": "stdout",
     "text": [
      "\n",
      "Iteration 28/39 of epoch 83 complete. Loss : 0.009220172518065997 \n"
     ]
    },
    {
     "output_type": "stream",
     "name": "stderr",
     "text": [
      " 90%|████████▉ | 35/39 [00:09<00:01,  3.67it/s]"
     ]
    },
    {
     "output_type": "stream",
     "name": "stdout",
     "text": [
      "\n",
      "Iteration 35/39 of epoch 83 complete. Loss : 0.008694709145597048 \n"
     ]
    },
    {
     "output_type": "stream",
     "name": "stderr",
     "text": [
      "100%|██████████| 39/39 [00:10<00:00,  3.75it/s]\n",
      "100%|██████████| 10/10 [00:00<00:00, 13.08it/s]\n",
      "  0%|          | 0/39 [00:00<?, ?it/s]"
     ]
    },
    {
     "output_type": "stream",
     "name": "stdout",
     "text": [
      "\n",
      "Epoch 83 complete! Validation Loss : 2.6369556188583374\n",
      "Epoch 83 complete! Validation Accuracy : 0.34289772727272727\n"
     ]
    },
    {
     "output_type": "stream",
     "name": "stderr",
     "text": [
      " 18%|█▊        | 7/39 [00:01<00:08,  3.68it/s]"
     ]
    },
    {
     "output_type": "stream",
     "name": "stdout",
     "text": [
      "\n",
      "Iteration 7/39 of epoch 84 complete. Loss : 0.008615895107920681 \n"
     ]
    },
    {
     "output_type": "stream",
     "name": "stderr",
     "text": [
      " 36%|███▌      | 14/39 [00:03<00:06,  3.64it/s]"
     ]
    },
    {
     "output_type": "stream",
     "name": "stdout",
     "text": [
      "\n",
      "Iteration 14/39 of epoch 84 complete. Loss : 0.008143781551292964 \n"
     ]
    },
    {
     "output_type": "stream",
     "name": "stderr",
     "text": [
      " 54%|█████▍    | 21/39 [00:05<00:04,  3.67it/s]"
     ]
    },
    {
     "output_type": "stream",
     "name": "stdout",
     "text": [
      "\n",
      "Iteration 21/39 of epoch 84 complete. Loss : 0.008844488167337008 \n"
     ]
    },
    {
     "output_type": "stream",
     "name": "stderr",
     "text": [
      " 72%|███████▏  | 28/39 [00:07<00:03,  3.64it/s]"
     ]
    },
    {
     "output_type": "stream",
     "name": "stdout",
     "text": [
      "\n",
      "Iteration 28/39 of epoch 84 complete. Loss : 0.008833641984633036 \n"
     ]
    },
    {
     "output_type": "stream",
     "name": "stderr",
     "text": [
      " 90%|████████▉ | 35/39 [00:09<00:01,  3.66it/s]"
     ]
    },
    {
     "output_type": "stream",
     "name": "stdout",
     "text": [
      "\n",
      "Iteration 35/39 of epoch 84 complete. Loss : 0.008525771288467305 \n"
     ]
    },
    {
     "output_type": "stream",
     "name": "stderr",
     "text": [
      "100%|██████████| 39/39 [00:10<00:00,  3.74it/s]\n",
      "100%|██████████| 10/10 [00:00<00:00, 13.15it/s]\n",
      "  0%|          | 0/39 [00:00<?, ?it/s]"
     ]
    },
    {
     "output_type": "stream",
     "name": "stdout",
     "text": [
      "\n",
      "Epoch 84 complete! Validation Loss : 2.6545836687088014\n",
      "Epoch 84 complete! Validation Accuracy : 0.34289772727272727\n"
     ]
    },
    {
     "output_type": "stream",
     "name": "stderr",
     "text": [
      " 18%|█▊        | 7/39 [00:01<00:08,  3.67it/s]"
     ]
    },
    {
     "output_type": "stream",
     "name": "stdout",
     "text": [
      "\n",
      "Iteration 7/39 of epoch 85 complete. Loss : 0.008436627486454589 \n"
     ]
    },
    {
     "output_type": "stream",
     "name": "stderr",
     "text": [
      " 36%|███▌      | 14/39 [00:03<00:06,  3.67it/s]"
     ]
    },
    {
     "output_type": "stream",
     "name": "stdout",
     "text": [
      "\n",
      "Iteration 14/39 of epoch 85 complete. Loss : 0.00832467878769551 \n"
     ]
    },
    {
     "output_type": "stream",
     "name": "stderr",
     "text": [
      " 54%|█████▍    | 21/39 [00:05<00:04,  3.66it/s]"
     ]
    },
    {
     "output_type": "stream",
     "name": "stdout",
     "text": [
      "\n",
      "Iteration 21/39 of epoch 85 complete. Loss : 0.008571350015699863 \n"
     ]
    },
    {
     "output_type": "stream",
     "name": "stderr",
     "text": [
      " 72%|███████▏  | 28/39 [00:07<00:03,  3.64it/s]"
     ]
    },
    {
     "output_type": "stream",
     "name": "stdout",
     "text": [
      "\n",
      "Iteration 28/39 of epoch 85 complete. Loss : 0.008195273312074798 \n"
     ]
    },
    {
     "output_type": "stream",
     "name": "stderr",
     "text": [
      " 90%|████████▉ | 35/39 [00:09<00:01,  3.66it/s]"
     ]
    },
    {
     "output_type": "stream",
     "name": "stdout",
     "text": [
      "\n",
      "Iteration 35/39 of epoch 85 complete. Loss : 0.00844282517209649 \n"
     ]
    },
    {
     "output_type": "stream",
     "name": "stderr",
     "text": [
      "100%|██████████| 39/39 [00:10<00:00,  3.74it/s]\n",
      "100%|██████████| 10/10 [00:00<00:00, 13.18it/s]\n",
      "  0%|          | 0/39 [00:00<?, ?it/s]"
     ]
    },
    {
     "output_type": "stream",
     "name": "stdout",
     "text": [
      "\n",
      "Epoch 85 complete! Validation Loss : 2.6699879646301268\n",
      "Epoch 85 complete! Validation Accuracy : 0.3397727272727272\n"
     ]
    },
    {
     "output_type": "stream",
     "name": "stderr",
     "text": [
      " 18%|█▊        | 7/39 [00:01<00:08,  3.66it/s]"
     ]
    },
    {
     "output_type": "stream",
     "name": "stdout",
     "text": [
      "\n",
      "Iteration 7/39 of epoch 86 complete. Loss : 0.00830425860892449 \n"
     ]
    },
    {
     "output_type": "stream",
     "name": "stderr",
     "text": [
      " 36%|███▌      | 14/39 [00:03<00:06,  3.64it/s]"
     ]
    },
    {
     "output_type": "stream",
     "name": "stdout",
     "text": [
      "\n",
      "Iteration 14/39 of epoch 86 complete. Loss : 0.008231435370232378 \n"
     ]
    },
    {
     "output_type": "stream",
     "name": "stderr",
     "text": [
      " 54%|█████▍    | 21/39 [00:05<00:04,  3.68it/s]"
     ]
    },
    {
     "output_type": "stream",
     "name": "stdout",
     "text": [
      "\n",
      "Iteration 21/39 of epoch 86 complete. Loss : 0.008055844477244787 \n"
     ]
    },
    {
     "output_type": "stream",
     "name": "stderr",
     "text": [
      " 72%|███████▏  | 28/39 [00:07<00:03,  3.66it/s]"
     ]
    },
    {
     "output_type": "stream",
     "name": "stdout",
     "text": [
      "\n",
      "Iteration 28/39 of epoch 86 complete. Loss : 0.008492849434592895 \n"
     ]
    },
    {
     "output_type": "stream",
     "name": "stderr",
     "text": [
      " 90%|████████▉ | 35/39 [00:09<00:01,  3.66it/s]"
     ]
    },
    {
     "output_type": "stream",
     "name": "stdout",
     "text": [
      "\n",
      "Iteration 35/39 of epoch 86 complete. Loss : 0.007965376201484884 \n"
     ]
    },
    {
     "output_type": "stream",
     "name": "stderr",
     "text": [
      "100%|██████████| 39/39 [00:10<00:00,  3.74it/s]\n",
      "100%|██████████| 10/10 [00:00<00:00, 13.18it/s]\n",
      "  0%|          | 0/39 [00:00<?, ?it/s]"
     ]
    },
    {
     "output_type": "stream",
     "name": "stdout",
     "text": [
      "\n",
      "Epoch 86 complete! Validation Loss : 2.6858458280563355\n",
      "Epoch 86 complete! Validation Accuracy : 0.34289772727272727\n"
     ]
    },
    {
     "output_type": "stream",
     "name": "stderr",
     "text": [
      " 18%|█▊        | 7/39 [00:01<00:08,  3.68it/s]"
     ]
    },
    {
     "output_type": "stream",
     "name": "stdout",
     "text": [
      "\n",
      "Iteration 7/39 of epoch 87 complete. Loss : 0.008397416278187717 \n"
     ]
    },
    {
     "output_type": "stream",
     "name": "stderr",
     "text": [
      " 36%|███▌      | 14/39 [00:03<00:06,  3.64it/s]"
     ]
    },
    {
     "output_type": "stream",
     "name": "stdout",
     "text": [
      "\n",
      "Iteration 14/39 of epoch 87 complete. Loss : 0.008616889826953411 \n"
     ]
    },
    {
     "output_type": "stream",
     "name": "stderr",
     "text": [
      " 54%|█████▍    | 21/39 [00:05<00:04,  3.66it/s]"
     ]
    },
    {
     "output_type": "stream",
     "name": "stdout",
     "text": [
      "\n",
      "Iteration 21/39 of epoch 87 complete. Loss : 0.00854564125516585 \n"
     ]
    },
    {
     "output_type": "stream",
     "name": "stderr",
     "text": [
      " 72%|███████▏  | 28/39 [00:07<00:03,  3.65it/s]"
     ]
    },
    {
     "output_type": "stream",
     "name": "stdout",
     "text": [
      "\n",
      "Iteration 28/39 of epoch 87 complete. Loss : 0.008236699870654516 \n"
     ]
    },
    {
     "output_type": "stream",
     "name": "stderr",
     "text": [
      " 90%|████████▉ | 35/39 [00:09<00:01,  3.68it/s]"
     ]
    },
    {
     "output_type": "stream",
     "name": "stdout",
     "text": [
      "\n",
      "Iteration 35/39 of epoch 87 complete. Loss : 0.007957040930965118 \n"
     ]
    },
    {
     "output_type": "stream",
     "name": "stderr",
     "text": [
      "100%|██████████| 39/39 [00:10<00:00,  3.75it/s]\n",
      "100%|██████████| 10/10 [00:00<00:00, 13.23it/s]\n",
      "  0%|          | 0/39 [00:00<?, ?it/s]"
     ]
    },
    {
     "output_type": "stream",
     "name": "stdout",
     "text": [
      "\n",
      "Epoch 87 complete! Validation Loss : 2.702702760696411\n",
      "Epoch 87 complete! Validation Accuracy : 0.34133522727272725\n"
     ]
    },
    {
     "output_type": "stream",
     "name": "stderr",
     "text": [
      " 18%|█▊        | 7/39 [00:01<00:08,  3.65it/s]"
     ]
    },
    {
     "output_type": "stream",
     "name": "stdout",
     "text": [
      "\n",
      "Iteration 7/39 of epoch 88 complete. Loss : 0.007868146789925439 \n"
     ]
    },
    {
     "output_type": "stream",
     "name": "stderr",
     "text": [
      " 36%|███▌      | 14/39 [00:03<00:06,  3.66it/s]"
     ]
    },
    {
     "output_type": "stream",
     "name": "stdout",
     "text": [
      "\n",
      "Iteration 14/39 of epoch 88 complete. Loss : 0.007233324327639171 \n"
     ]
    },
    {
     "output_type": "stream",
     "name": "stderr",
     "text": [
      " 54%|█████▍    | 21/39 [00:05<00:04,  3.66it/s]"
     ]
    },
    {
     "output_type": "stream",
     "name": "stdout",
     "text": [
      "\n",
      "Iteration 21/39 of epoch 88 complete. Loss : 0.007465245867414134 \n"
     ]
    },
    {
     "output_type": "stream",
     "name": "stderr",
     "text": [
      " 72%|███████▏  | 28/39 [00:07<00:03,  3.65it/s]"
     ]
    },
    {
     "output_type": "stream",
     "name": "stdout",
     "text": [
      "\n",
      "Iteration 28/39 of epoch 88 complete. Loss : 0.007463779233928237 \n"
     ]
    },
    {
     "output_type": "stream",
     "name": "stderr",
     "text": [
      " 90%|████████▉ | 35/39 [00:09<00:01,  3.69it/s]"
     ]
    },
    {
     "output_type": "stream",
     "name": "stdout",
     "text": [
      "\n",
      "Iteration 35/39 of epoch 88 complete. Loss : 0.007041941130799907 \n"
     ]
    },
    {
     "output_type": "stream",
     "name": "stderr",
     "text": [
      "100%|██████████| 39/39 [00:10<00:00,  3.74it/s]\n",
      "100%|██████████| 10/10 [00:00<00:00, 13.09it/s]\n",
      "  0%|          | 0/39 [00:00<?, ?it/s]"
     ]
    },
    {
     "output_type": "stream",
     "name": "stdout",
     "text": [
      "\n",
      "Epoch 88 complete! Validation Loss : 2.7185906648635862\n",
      "Epoch 88 complete! Validation Accuracy : 0.34749053030303034\n"
     ]
    },
    {
     "output_type": "stream",
     "name": "stderr",
     "text": [
      " 18%|█▊        | 7/39 [00:01<00:08,  3.67it/s]"
     ]
    },
    {
     "output_type": "stream",
     "name": "stdout",
     "text": [
      "\n",
      "Iteration 7/39 of epoch 89 complete. Loss : 0.0072882150832031456 \n"
     ]
    },
    {
     "output_type": "stream",
     "name": "stderr",
     "text": [
      " 36%|███▌      | 14/39 [00:03<00:06,  3.64it/s]"
     ]
    },
    {
     "output_type": "stream",
     "name": "stdout",
     "text": [
      "\n",
      "Iteration 14/39 of epoch 89 complete. Loss : 0.007668348627963236 \n"
     ]
    },
    {
     "output_type": "stream",
     "name": "stderr",
     "text": [
      " 54%|█████▍    | 21/39 [00:05<00:04,  3.68it/s]"
     ]
    },
    {
     "output_type": "stream",
     "name": "stdout",
     "text": [
      "\n",
      "Iteration 21/39 of epoch 89 complete. Loss : 0.007284317830843585 \n"
     ]
    },
    {
     "output_type": "stream",
     "name": "stderr",
     "text": [
      " 72%|███████▏  | 28/39 [00:07<00:03,  3.67it/s]"
     ]
    },
    {
     "output_type": "stream",
     "name": "stdout",
     "text": [
      "\n",
      "Iteration 28/39 of epoch 89 complete. Loss : 0.007229686648185764 \n"
     ]
    },
    {
     "output_type": "stream",
     "name": "stderr",
     "text": [
      " 90%|████████▉ | 35/39 [00:09<00:01,  3.66it/s]"
     ]
    },
    {
     "output_type": "stream",
     "name": "stdout",
     "text": [
      "\n",
      "Iteration 35/39 of epoch 89 complete. Loss : 0.006728448372866426 \n"
     ]
    },
    {
     "output_type": "stream",
     "name": "stderr",
     "text": [
      "100%|██████████| 39/39 [00:10<00:00,  3.74it/s]\n",
      "100%|██████████| 10/10 [00:00<00:00, 13.11it/s]\n",
      "  0%|          | 0/39 [00:00<?, ?it/s]"
     ]
    },
    {
     "output_type": "stream",
     "name": "stdout",
     "text": [
      "\n",
      "Epoch 89 complete! Validation Loss : 2.735958623886108\n",
      "Epoch 89 complete! Validation Accuracy : 0.34289772727272727\n"
     ]
    },
    {
     "output_type": "stream",
     "name": "stderr",
     "text": [
      " 18%|█▊        | 7/39 [00:01<00:08,  3.66it/s]"
     ]
    },
    {
     "output_type": "stream",
     "name": "stdout",
     "text": [
      "\n",
      "Iteration 7/39 of epoch 90 complete. Loss : 0.00765203930703657 \n"
     ]
    },
    {
     "output_type": "stream",
     "name": "stderr",
     "text": [
      " 36%|███▌      | 14/39 [00:03<00:06,  3.65it/s]"
     ]
    },
    {
     "output_type": "stream",
     "name": "stdout",
     "text": [
      "\n",
      "Iteration 14/39 of epoch 90 complete. Loss : 0.00722039391153625 \n"
     ]
    },
    {
     "output_type": "stream",
     "name": "stderr",
     "text": [
      " 54%|█████▍    | 21/39 [00:05<00:04,  3.69it/s]"
     ]
    },
    {
     "output_type": "stream",
     "name": "stdout",
     "text": [
      "\n",
      "Iteration 21/39 of epoch 90 complete. Loss : 0.007335953547486237 \n"
     ]
    },
    {
     "output_type": "stream",
     "name": "stderr",
     "text": [
      " 72%|███████▏  | 28/39 [00:07<00:03,  3.65it/s]"
     ]
    },
    {
     "output_type": "stream",
     "name": "stdout",
     "text": [
      "\n",
      "Iteration 28/39 of epoch 90 complete. Loss : 0.006933363088007484 \n"
     ]
    },
    {
     "output_type": "stream",
     "name": "stderr",
     "text": [
      " 90%|████████▉ | 35/39 [00:09<00:01,  3.69it/s]"
     ]
    },
    {
     "output_type": "stream",
     "name": "stdout",
     "text": [
      "\n",
      "Iteration 35/39 of epoch 90 complete. Loss : 0.00743625991578613 \n"
     ]
    },
    {
     "output_type": "stream",
     "name": "stderr",
     "text": [
      "100%|██████████| 39/39 [00:10<00:00,  3.75it/s]\n",
      "100%|██████████| 10/10 [00:00<00:00, 13.09it/s]\n",
      "  0%|          | 0/39 [00:00<?, ?it/s]"
     ]
    },
    {
     "output_type": "stream",
     "name": "stdout",
     "text": [
      "\n",
      "Epoch 90 complete! Validation Loss : 2.7512107372283934\n",
      "Epoch 90 complete! Validation Accuracy : 0.34289772727272727\n"
     ]
    },
    {
     "output_type": "stream",
     "name": "stderr",
     "text": [
      " 18%|█▊        | 7/39 [00:01<00:08,  3.67it/s]"
     ]
    },
    {
     "output_type": "stream",
     "name": "stdout",
     "text": [
      "\n",
      "Iteration 7/39 of epoch 91 complete. Loss : 0.007098378214452948 \n"
     ]
    },
    {
     "output_type": "stream",
     "name": "stderr",
     "text": [
      " 36%|███▌      | 14/39 [00:03<00:06,  3.67it/s]"
     ]
    },
    {
     "output_type": "stream",
     "name": "stdout",
     "text": [
      "\n",
      "Iteration 14/39 of epoch 91 complete. Loss : 0.006994756005172219 \n"
     ]
    },
    {
     "output_type": "stream",
     "name": "stderr",
     "text": [
      " 54%|█████▍    | 21/39 [00:05<00:04,  3.66it/s]"
     ]
    },
    {
     "output_type": "stream",
     "name": "stdout",
     "text": [
      "\n",
      "Iteration 21/39 of epoch 91 complete. Loss : 0.007032851156379495 \n"
     ]
    },
    {
     "output_type": "stream",
     "name": "stderr",
     "text": [
      " 72%|███████▏  | 28/39 [00:07<00:03,  3.64it/s]"
     ]
    },
    {
     "output_type": "stream",
     "name": "stdout",
     "text": [
      "\n",
      "Iteration 28/39 of epoch 91 complete. Loss : 0.006524785089173487 \n"
     ]
    },
    {
     "output_type": "stream",
     "name": "stderr",
     "text": [
      " 90%|████████▉ | 35/39 [00:09<00:01,  3.68it/s]"
     ]
    },
    {
     "output_type": "stream",
     "name": "stdout",
     "text": [
      "\n",
      "Iteration 35/39 of epoch 91 complete. Loss : 0.007432354614138603 \n"
     ]
    },
    {
     "output_type": "stream",
     "name": "stderr",
     "text": [
      "100%|██████████| 39/39 [00:10<00:00,  3.74it/s]\n",
      "100%|██████████| 10/10 [00:00<00:00, 13.14it/s]\n",
      "  0%|          | 0/39 [00:00<?, ?it/s]"
     ]
    },
    {
     "output_type": "stream",
     "name": "stdout",
     "text": [
      "\n",
      "Epoch 91 complete! Validation Loss : 2.7667441368103027\n",
      "Epoch 91 complete! Validation Accuracy : 0.34133522727272725\n"
     ]
    },
    {
     "output_type": "stream",
     "name": "stderr",
     "text": [
      " 18%|█▊        | 7/39 [00:01<00:08,  3.68it/s]"
     ]
    },
    {
     "output_type": "stream",
     "name": "stdout",
     "text": [
      "\n",
      "Iteration 7/39 of epoch 92 complete. Loss : 0.006754157931676933 \n"
     ]
    },
    {
     "output_type": "stream",
     "name": "stderr",
     "text": [
      " 36%|███▌      | 14/39 [00:03<00:06,  3.63it/s]"
     ]
    },
    {
     "output_type": "stream",
     "name": "stdout",
     "text": [
      "\n",
      "Iteration 14/39 of epoch 92 complete. Loss : 0.006901711757693972 \n"
     ]
    },
    {
     "output_type": "stream",
     "name": "stderr",
     "text": [
      " 54%|█████▍    | 21/39 [00:05<00:04,  3.66it/s]"
     ]
    },
    {
     "output_type": "stream",
     "name": "stdout",
     "text": [
      "\n",
      "Iteration 21/39 of epoch 92 complete. Loss : 0.006724341972065824 \n"
     ]
    },
    {
     "output_type": "stream",
     "name": "stderr",
     "text": [
      " 72%|███████▏  | 28/39 [00:07<00:03,  3.65it/s]"
     ]
    },
    {
     "output_type": "stream",
     "name": "stdout",
     "text": [
      "\n",
      "Iteration 28/39 of epoch 92 complete. Loss : 0.006820943605686937 \n"
     ]
    },
    {
     "output_type": "stream",
     "name": "stderr",
     "text": [
      " 90%|████████▉ | 35/39 [00:09<00:01,  3.66it/s]"
     ]
    },
    {
     "output_type": "stream",
     "name": "stdout",
     "text": [
      "\n",
      "Iteration 35/39 of epoch 92 complete. Loss : 0.006626202658350978 \n"
     ]
    },
    {
     "output_type": "stream",
     "name": "stderr",
     "text": [
      "100%|██████████| 39/39 [00:10<00:00,  3.73it/s]\n",
      "100%|██████████| 10/10 [00:00<00:00, 13.19it/s]\n",
      "  0%|          | 0/39 [00:00<?, ?it/s]"
     ]
    },
    {
     "output_type": "stream",
     "name": "stdout",
     "text": [
      "\n",
      "Epoch 92 complete! Validation Loss : 2.781185007095337\n",
      "Epoch 92 complete! Validation Accuracy : 0.3397727272727272\n"
     ]
    },
    {
     "output_type": "stream",
     "name": "stderr",
     "text": [
      " 18%|█▊        | 7/39 [00:01<00:08,  3.67it/s]"
     ]
    },
    {
     "output_type": "stream",
     "name": "stdout",
     "text": [
      "\n",
      "Iteration 7/39 of epoch 93 complete. Loss : 0.006986403704753944 \n"
     ]
    },
    {
     "output_type": "stream",
     "name": "stderr",
     "text": [
      " 36%|███▌      | 14/39 [00:03<00:06,  3.66it/s]"
     ]
    },
    {
     "output_type": "stream",
     "name": "stdout",
     "text": [
      "\n",
      "Iteration 14/39 of epoch 93 complete. Loss : 0.006192351225763559 \n"
     ]
    },
    {
     "output_type": "stream",
     "name": "stderr",
     "text": [
      " 54%|█████▍    | 21/39 [00:05<00:04,  3.65it/s]"
     ]
    },
    {
     "output_type": "stream",
     "name": "stdout",
     "text": [
      "\n",
      "Iteration 21/39 of epoch 93 complete. Loss : 0.006558168280337538 \n"
     ]
    },
    {
     "output_type": "stream",
     "name": "stderr",
     "text": [
      " 72%|███████▏  | 28/39 [00:07<00:03,  3.63it/s]"
     ]
    },
    {
     "output_type": "stream",
     "name": "stdout",
     "text": [
      "\n",
      "Iteration 28/39 of epoch 93 complete. Loss : 0.0065733893508357665 \n"
     ]
    },
    {
     "output_type": "stream",
     "name": "stderr",
     "text": [
      " 90%|████████▉ | 35/39 [00:09<00:01,  3.66it/s]"
     ]
    },
    {
     "output_type": "stream",
     "name": "stdout",
     "text": [
      "\n",
      "Iteration 35/39 of epoch 93 complete. Loss : 0.006509194217090096 \n"
     ]
    },
    {
     "output_type": "stream",
     "name": "stderr",
     "text": [
      "100%|██████████| 39/39 [00:10<00:00,  3.73it/s]\n",
      "100%|██████████| 10/10 [00:00<00:00, 13.18it/s]\n",
      "  0%|          | 0/39 [00:00<?, ?it/s]"
     ]
    },
    {
     "output_type": "stream",
     "name": "stdout",
     "text": [
      "\n",
      "Epoch 93 complete! Validation Loss : 2.796695113182068\n",
      "Epoch 93 complete! Validation Accuracy : 0.3397727272727272\n"
     ]
    },
    {
     "output_type": "stream",
     "name": "stderr",
     "text": [
      " 18%|█▊        | 7/39 [00:01<00:08,  3.66it/s]"
     ]
    },
    {
     "output_type": "stream",
     "name": "stdout",
     "text": [
      "\n",
      "Iteration 7/39 of epoch 94 complete. Loss : 0.006577975848423583 \n"
     ]
    },
    {
     "output_type": "stream",
     "name": "stderr",
     "text": [
      " 36%|███▌      | 14/39 [00:03<00:06,  3.63it/s]"
     ]
    },
    {
     "output_type": "stream",
     "name": "stdout",
     "text": [
      "\n",
      "Iteration 14/39 of epoch 94 complete. Loss : 0.00630203474845205 \n"
     ]
    },
    {
     "output_type": "stream",
     "name": "stderr",
     "text": [
      " 54%|█████▍    | 21/39 [00:05<00:04,  3.65it/s]"
     ]
    },
    {
     "output_type": "stream",
     "name": "stdout",
     "text": [
      "\n",
      "Iteration 21/39 of epoch 94 complete. Loss : 0.006607640068978071 \n"
     ]
    },
    {
     "output_type": "stream",
     "name": "stderr",
     "text": [
      " 72%|███████▏  | 28/39 [00:07<00:03,  3.65it/s]"
     ]
    },
    {
     "output_type": "stream",
     "name": "stdout",
     "text": [
      "\n",
      "Iteration 28/39 of epoch 94 complete. Loss : 0.006578040575342519 \n"
     ]
    },
    {
     "output_type": "stream",
     "name": "stderr",
     "text": [
      " 90%|████████▉ | 35/39 [00:09<00:01,  3.66it/s]"
     ]
    },
    {
     "output_type": "stream",
     "name": "stdout",
     "text": [
      "\n",
      "Iteration 35/39 of epoch 94 complete. Loss : 0.006349244354558843 \n"
     ]
    },
    {
     "output_type": "stream",
     "name": "stderr",
     "text": [
      "100%|██████████| 39/39 [00:10<00:00,  3.73it/s]\n",
      "100%|██████████| 10/10 [00:00<00:00, 13.16it/s]\n",
      "  0%|          | 0/39 [00:00<?, ?it/s]"
     ]
    },
    {
     "output_type": "stream",
     "name": "stdout",
     "text": [
      "\n",
      "Epoch 94 complete! Validation Loss : 2.810168242454529\n",
      "Epoch 94 complete! Validation Accuracy : 0.33821022727272726\n"
     ]
    },
    {
     "output_type": "stream",
     "name": "stderr",
     "text": [
      " 18%|█▊        | 7/39 [00:01<00:08,  3.65it/s]"
     ]
    },
    {
     "output_type": "stream",
     "name": "stdout",
     "text": [
      "\n",
      "Iteration 7/39 of epoch 95 complete. Loss : 0.006070093118718692 \n"
     ]
    },
    {
     "output_type": "stream",
     "name": "stderr",
     "text": [
      " 36%|███▌      | 14/39 [00:03<00:06,  3.64it/s]"
     ]
    },
    {
     "output_type": "stream",
     "name": "stdout",
     "text": [
      "\n",
      "Iteration 14/39 of epoch 95 complete. Loss : 0.006843456798898322 \n"
     ]
    },
    {
     "output_type": "stream",
     "name": "stderr",
     "text": [
      " 54%|█████▍    | 21/39 [00:05<00:04,  3.66it/s]"
     ]
    },
    {
     "output_type": "stream",
     "name": "stdout",
     "text": [
      "\n",
      "Iteration 21/39 of epoch 95 complete. Loss : 0.006246848297970635 \n"
     ]
    },
    {
     "output_type": "stream",
     "name": "stderr",
     "text": [
      " 72%|███████▏  | 28/39 [00:07<00:03,  3.64it/s]"
     ]
    },
    {
     "output_type": "stream",
     "name": "stdout",
     "text": [
      "\n",
      "Iteration 28/39 of epoch 95 complete. Loss : 0.006341666116246155 \n"
     ]
    },
    {
     "output_type": "stream",
     "name": "stderr",
     "text": [
      " 90%|████████▉ | 35/39 [00:09<00:01,  3.68it/s]"
     ]
    },
    {
     "output_type": "stream",
     "name": "stdout",
     "text": [
      "\n",
      "Iteration 35/39 of epoch 95 complete. Loss : 0.006153811035411698 \n"
     ]
    },
    {
     "output_type": "stream",
     "name": "stderr",
     "text": [
      "100%|██████████| 39/39 [00:10<00:00,  3.73it/s]\n",
      "100%|██████████| 10/10 [00:00<00:00, 13.22it/s]\n",
      "  0%|          | 0/39 [00:00<?, ?it/s]"
     ]
    },
    {
     "output_type": "stream",
     "name": "stdout",
     "text": [
      "\n",
      "Epoch 95 complete! Validation Loss : 2.8259839534759523\n",
      "Epoch 95 complete! Validation Accuracy : 0.33821022727272726\n"
     ]
    },
    {
     "output_type": "stream",
     "name": "stderr",
     "text": [
      " 18%|█▊        | 7/39 [00:01<00:08,  3.67it/s]"
     ]
    },
    {
     "output_type": "stream",
     "name": "stdout",
     "text": [
      "\n",
      "Iteration 7/39 of epoch 96 complete. Loss : 0.006432243356747287 \n"
     ]
    },
    {
     "output_type": "stream",
     "name": "stderr",
     "text": [
      " 36%|███▌      | 14/39 [00:03<00:06,  3.65it/s]"
     ]
    },
    {
     "output_type": "stream",
     "name": "stdout",
     "text": [
      "\n",
      "Iteration 14/39 of epoch 96 complete. Loss : 0.006266679880874497 \n"
     ]
    },
    {
     "output_type": "stream",
     "name": "stderr",
     "text": [
      " 54%|█████▍    | 21/39 [00:05<00:04,  3.67it/s]"
     ]
    },
    {
     "output_type": "stream",
     "name": "stdout",
     "text": [
      "\n",
      "Iteration 21/39 of epoch 96 complete. Loss : 0.0061055876846824375 \n"
     ]
    },
    {
     "output_type": "stream",
     "name": "stderr",
     "text": [
      " 72%|███████▏  | 28/39 [00:07<00:03,  3.66it/s]"
     ]
    },
    {
     "output_type": "stream",
     "name": "stdout",
     "text": [
      "\n",
      "Iteration 28/39 of epoch 96 complete. Loss : 0.0058337111425186905 \n"
     ]
    },
    {
     "output_type": "stream",
     "name": "stderr",
     "text": [
      " 90%|████████▉ | 35/39 [00:09<00:01,  3.66it/s]"
     ]
    },
    {
     "output_type": "stream",
     "name": "stdout",
     "text": [
      "\n",
      "Iteration 35/39 of epoch 96 complete. Loss : 0.006122661887535027 \n"
     ]
    },
    {
     "output_type": "stream",
     "name": "stderr",
     "text": [
      "100%|██████████| 39/39 [00:10<00:00,  3.74it/s]\n",
      "100%|██████████| 10/10 [00:00<00:00, 13.19it/s]\n",
      "  0%|          | 0/39 [00:00<?, ?it/s]"
     ]
    },
    {
     "output_type": "stream",
     "name": "stdout",
     "text": [
      "\n",
      "Epoch 96 complete! Validation Loss : 2.8434485673904417\n",
      "Epoch 96 complete! Validation Accuracy : 0.33821022727272726\n"
     ]
    },
    {
     "output_type": "stream",
     "name": "stderr",
     "text": [
      " 18%|█▊        | 7/39 [00:01<00:08,  3.66it/s]"
     ]
    },
    {
     "output_type": "stream",
     "name": "stdout",
     "text": [
      "\n",
      "Iteration 7/39 of epoch 97 complete. Loss : 0.006317357732249158 \n"
     ]
    },
    {
     "output_type": "stream",
     "name": "stderr",
     "text": [
      " 36%|███▌      | 14/39 [00:03<00:06,  3.64it/s]"
     ]
    },
    {
     "output_type": "stream",
     "name": "stdout",
     "text": [
      "\n",
      "Iteration 14/39 of epoch 97 complete. Loss : 0.005681447019534451 \n"
     ]
    },
    {
     "output_type": "stream",
     "name": "stderr",
     "text": [
      " 54%|█████▍    | 21/39 [00:05<00:04,  3.67it/s]"
     ]
    },
    {
     "output_type": "stream",
     "name": "stdout",
     "text": [
      "\n",
      "Iteration 21/39 of epoch 97 complete. Loss : 0.005976197642407247 \n"
     ]
    },
    {
     "output_type": "stream",
     "name": "stderr",
     "text": [
      " 72%|███████▏  | 28/39 [00:07<00:03,  3.66it/s]"
     ]
    },
    {
     "output_type": "stream",
     "name": "stdout",
     "text": [
      "\n",
      "Iteration 28/39 of epoch 97 complete. Loss : 0.005729809070804289 \n"
     ]
    },
    {
     "output_type": "stream",
     "name": "stderr",
     "text": [
      " 90%|████████▉ | 35/39 [00:09<00:01,  3.68it/s]"
     ]
    },
    {
     "output_type": "stream",
     "name": "stdout",
     "text": [
      "\n",
      "Iteration 35/39 of epoch 97 complete. Loss : 0.005905314880822386 \n"
     ]
    },
    {
     "output_type": "stream",
     "name": "stderr",
     "text": [
      "100%|██████████| 39/39 [00:10<00:00,  3.74it/s]\n",
      "100%|██████████| 10/10 [00:00<00:00, 13.15it/s]\n",
      "  0%|          | 0/39 [00:00<?, ?it/s]"
     ]
    },
    {
     "output_type": "stream",
     "name": "stdout",
     "text": [
      "\n",
      "Epoch 97 complete! Validation Loss : 2.8576051712036135\n",
      "Epoch 97 complete! Validation Accuracy : 0.3397727272727272\n"
     ]
    },
    {
     "output_type": "stream",
     "name": "stderr",
     "text": [
      " 18%|█▊        | 7/39 [00:01<00:08,  3.68it/s]"
     ]
    },
    {
     "output_type": "stream",
     "name": "stdout",
     "text": [
      "\n",
      "Iteration 7/39 of epoch 98 complete. Loss : 0.005671754412885223 \n"
     ]
    },
    {
     "output_type": "stream",
     "name": "stderr",
     "text": [
      " 36%|███▌      | 14/39 [00:03<00:06,  3.65it/s]"
     ]
    },
    {
     "output_type": "stream",
     "name": "stdout",
     "text": [
      "\n",
      "Iteration 14/39 of epoch 98 complete. Loss : 0.0057657818709100995 \n"
     ]
    },
    {
     "output_type": "stream",
     "name": "stderr",
     "text": [
      " 54%|█████▍    | 21/39 [00:05<00:04,  3.67it/s]"
     ]
    },
    {
     "output_type": "stream",
     "name": "stdout",
     "text": [
      "\n",
      "Iteration 21/39 of epoch 98 complete. Loss : 0.005800813569554261 \n"
     ]
    },
    {
     "output_type": "stream",
     "name": "stderr",
     "text": [
      " 72%|███████▏  | 28/39 [00:07<00:02,  3.67it/s]"
     ]
    },
    {
     "output_type": "stream",
     "name": "stdout",
     "text": [
      "\n",
      "Iteration 28/39 of epoch 98 complete. Loss : 0.005857837319906268 \n"
     ]
    },
    {
     "output_type": "stream",
     "name": "stderr",
     "text": [
      " 90%|████████▉ | 35/39 [00:09<00:01,  3.67it/s]"
     ]
    },
    {
     "output_type": "stream",
     "name": "stdout",
     "text": [
      "\n",
      "Iteration 35/39 of epoch 98 complete. Loss : 0.005388357543519565 \n"
     ]
    },
    {
     "output_type": "stream",
     "name": "stderr",
     "text": [
      "100%|██████████| 39/39 [00:10<00:00,  3.74it/s]\n",
      "100%|██████████| 10/10 [00:00<00:00, 13.14it/s]\n",
      "  0%|          | 0/39 [00:00<?, ?it/s]"
     ]
    },
    {
     "output_type": "stream",
     "name": "stdout",
     "text": [
      "\n",
      "Epoch 98 complete! Validation Loss : 2.8734443187713623\n",
      "Epoch 98 complete! Validation Accuracy : 0.33821022727272726\n"
     ]
    },
    {
     "output_type": "stream",
     "name": "stderr",
     "text": [
      " 18%|█▊        | 7/39 [00:01<00:08,  3.67it/s]"
     ]
    },
    {
     "output_type": "stream",
     "name": "stdout",
     "text": [
      "\n",
      "Iteration 7/39 of epoch 99 complete. Loss : 0.0057344525786382815 \n"
     ]
    },
    {
     "output_type": "stream",
     "name": "stderr",
     "text": [
      " 36%|███▌      | 14/39 [00:03<00:06,  3.66it/s]"
     ]
    },
    {
     "output_type": "stream",
     "name": "stdout",
     "text": [
      "\n",
      "Iteration 14/39 of epoch 99 complete. Loss : 0.005836389360151121 \n"
     ]
    },
    {
     "output_type": "stream",
     "name": "stderr",
     "text": [
      " 54%|█████▍    | 21/39 [00:05<00:04,  3.67it/s]"
     ]
    },
    {
     "output_type": "stream",
     "name": "stdout",
     "text": [
      "\n",
      "Iteration 21/39 of epoch 99 complete. Loss : 0.0058339862152934074 \n"
     ]
    },
    {
     "output_type": "stream",
     "name": "stderr",
     "text": [
      " 72%|███████▏  | 28/39 [00:07<00:02,  3.67it/s]"
     ]
    },
    {
     "output_type": "stream",
     "name": "stdout",
     "text": [
      "\n",
      "Iteration 28/39 of epoch 99 complete. Loss : 0.005738441167133195 \n"
     ]
    },
    {
     "output_type": "stream",
     "name": "stderr",
     "text": [
      " 90%|████████▉ | 35/39 [00:09<00:01,  3.65it/s]"
     ]
    },
    {
     "output_type": "stream",
     "name": "stdout",
     "text": [
      "\n",
      "Iteration 35/39 of epoch 99 complete. Loss : 0.005558660054313285 \n"
     ]
    },
    {
     "output_type": "stream",
     "name": "stderr",
     "text": [
      "100%|██████████| 39/39 [00:10<00:00,  3.74it/s]\n",
      "100%|██████████| 10/10 [00:00<00:00, 13.14it/s]\n",
      "  0%|          | 0/39 [00:00<?, ?it/s]"
     ]
    },
    {
     "output_type": "stream",
     "name": "stdout",
     "text": [
      "\n",
      "Epoch 99 complete! Validation Loss : 2.886598801612854\n",
      "Epoch 99 complete! Validation Accuracy : 0.3397727272727272\n"
     ]
    },
    {
     "output_type": "stream",
     "name": "stderr",
     "text": [
      " 18%|█▊        | 7/39 [00:01<00:08,  3.67it/s]"
     ]
    },
    {
     "output_type": "stream",
     "name": "stdout",
     "text": [
      "\n",
      "Iteration 7/39 of epoch 100 complete. Loss : 0.005508331515427146 \n"
     ]
    },
    {
     "output_type": "stream",
     "name": "stderr",
     "text": [
      " 36%|███▌      | 14/39 [00:03<00:06,  3.66it/s]"
     ]
    },
    {
     "output_type": "stream",
     "name": "stdout",
     "text": [
      "\n",
      "Iteration 14/39 of epoch 100 complete. Loss : 0.005647137960685151 \n"
     ]
    },
    {
     "output_type": "stream",
     "name": "stderr",
     "text": [
      " 54%|█████▍    | 21/39 [00:05<00:04,  3.67it/s]"
     ]
    },
    {
     "output_type": "stream",
     "name": "stdout",
     "text": [
      "\n",
      "Iteration 21/39 of epoch 100 complete. Loss : 0.005495228205940553 \n"
     ]
    },
    {
     "output_type": "stream",
     "name": "stderr",
     "text": [
      " 72%|███████▏  | 28/39 [00:07<00:03,  3.63it/s]"
     ]
    },
    {
     "output_type": "stream",
     "name": "stdout",
     "text": [
      "\n",
      "Iteration 28/39 of epoch 100 complete. Loss : 0.0059978582763246125 \n"
     ]
    },
    {
     "output_type": "stream",
     "name": "stderr",
     "text": [
      " 90%|████████▉ | 35/39 [00:09<00:01,  3.68it/s]"
     ]
    },
    {
     "output_type": "stream",
     "name": "stdout",
     "text": [
      "\n",
      "Iteration 35/39 of epoch 100 complete. Loss : 0.004881175567529031 \n"
     ]
    },
    {
     "output_type": "stream",
     "name": "stderr",
     "text": [
      "100%|██████████| 39/39 [00:10<00:00,  3.74it/s]\n",
      "100%|██████████| 10/10 [00:00<00:00, 13.21it/s]\n"
     ]
    },
    {
     "output_type": "stream",
     "name": "stdout",
     "text": [
      "\n",
      "Epoch 100 complete! Validation Loss : 2.898014950752258\n",
      "Epoch 100 complete! Validation Accuracy : 0.34280303030303033\n",
      "The model has been saved in saved_models/emo_res50_lr_3e-05_val_loss_1.63871_ep_23.pt\n"
     ]
    }
   ],
   "metadata": {}
  },
  {
   "cell_type": "code",
   "execution_count": 17,
   "source": [
    "def evaluate(prediction_dataloader, model, path_to_model, load = False):\n",
    "\t# Prediction on test set\n",
    "\tif load:\n",
    "\t\tprint(\"Loading the weights of the model...\")\n",
    "\t\tmodel.load_state_dict(torch.load(path_to_model))\n",
    "\n",
    "\tprint('Evaluating on the testset')\n",
    "\n",
    "\t# Put model in evaluation mode\n",
    "\tmodel.eval()\n",
    "\n",
    "\t# Tracking variables \n",
    "\tpredictions , true_labels = [], []\n",
    "\n",
    "\t# Predict \n",
    "\tfor batch in prediction_dataloader:\n",
    "\t  # Add batch to GPU\n",
    "\t  batch = tuple(t.to(device) for t in batch)\n",
    "\t  \n",
    "\t  # Unpack the inputs from our dataloader\n",
    "\t  b_inputs, b_labels = batch\n",
    "\t  \n",
    "\t  # Telling the model not to compute or store gradients, saving memory and \n",
    "\t  # speeding up prediction\n",
    "\t  with torch.no_grad():\n",
    "\t      # Forward pass, calculate logit predictions\n",
    "\t      logits = model(b_inputs)\n",
    "\n",
    "\t  # Move logits and labels to CPU\n",
    "\t  logits = logits.detach().cpu().numpy()\n",
    "\t  label_ids = b_labels.to('cpu').numpy()\n",
    "\n",
    "\t  pred_flat = np.argmax(logits, axis=1).flatten()\n",
    "\t  labels_flat = label_ids.flatten()\n",
    "\t  \n",
    "\t  # Store predictions and true labels\n",
    "\t  predictions.extend(pred_flat)\n",
    "\t  true_labels.extend(labels_flat)\n",
    "\n",
    "\tprint('DONE.')\n",
    "\n",
    "\t# Code for result display\n",
    "\tprint('Unbiased Emotion Classification accuracy is')\n",
    "\tprint(metrics.accuracy_score(true_labels, predictions)*100)\n",
    "\tprint(classification_report(true_labels, predictions, target_names = item_lab))\n",
    "\t# Converting to csv\n",
    "\t# Removed transpose - check if actually required\n",
    "\tmodel_name = 'class_contrast'\n",
    "\tclsf_report = pd.DataFrame(classification_report(y_true = true_labels, y_pred = predictions, output_dict=True, target_names = item_lab))\n",
    "\tclsf_report.to_csv(str('saved_models/'+model_name+'.csv'), index= True)"
   ],
   "outputs": [],
   "metadata": {}
  },
  {
   "cell_type": "code",
   "execution_count": 18,
   "source": [
    "path_to_model = 'saved_models/emo_res50_lr_3e-05_val_loss_1.48489_ep_76.pt'\n",
    "evaluate(test_dataloader, model, path_to_model = path_to_model, load = False)"
   ],
   "outputs": [
    {
     "output_type": "stream",
     "name": "stdout",
     "text": [
      "Evaluating on the testset\n",
      "DONE.\n",
      "Unbiased Emotion Classification accuracy is\n",
      "33.16912972085386\n",
      "              precision    recall  f1-score   support\n",
      "\n",
      "       anger       0.00      0.00      0.00        72\n",
      "        fear       0.00      0.00      0.00        28\n",
      "         joy       0.38      0.04      0.08       120\n",
      "        love       0.34      0.61      0.44       125\n",
      "     sadness       0.32      0.72      0.45       167\n",
      "    surprise       0.00      0.00      0.00        97\n",
      "\n",
      "    accuracy                           0.33       609\n",
      "   macro avg       0.17      0.23      0.16       609\n",
      "weighted avg       0.23      0.33      0.23       609\n",
      "\n"
     ]
    },
    {
     "output_type": "stream",
     "name": "stderr",
     "text": [
      "/sda/rina_1921cs13/anaconda3/envs/newnisbert/lib/python3.6/site-packages/sklearn/metrics/_classification.py:1221: UndefinedMetricWarning: Precision and F-score are ill-defined and being set to 0.0 in labels with no predicted samples. Use `zero_division` parameter to control this behavior.\n",
      "  _warn_prf(average, modifier, msg_start, len(result))\n"
     ]
    }
   ],
   "metadata": {}
  }
 ],
 "metadata": {
  "orig_nbformat": 4,
  "language_info": {
   "name": "python",
   "version": "3.6.11",
   "mimetype": "text/x-python",
   "codemirror_mode": {
    "name": "ipython",
    "version": 3
   },
   "pygments_lexer": "ipython3",
   "nbconvert_exporter": "python",
   "file_extension": ".py"
  },
  "kernelspec": {
   "name": "python3",
   "display_name": "Python 3.6.11 64-bit ('newnisbert': conda)"
  },
  "interpreter": {
   "hash": "b4396559e1bf5c32d41ffba8c548c213f47855d2d4ac82024dddc5ba3ffea815"
  }
 },
 "nbformat": 4,
 "nbformat_minor": 2
}