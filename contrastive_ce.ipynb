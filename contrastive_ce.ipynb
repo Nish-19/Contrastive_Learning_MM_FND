{
 "cells": [
  {
   "cell_type": "code",
   "execution_count": 1,
   "source": [
    "import os\n",
    "gpu_number = \"1\" # Choose either 0 or 1\n",
    "os.environ['CUDA_ENVIRONMENT_DEVICES'] = gpu_number"
   ],
   "outputs": [],
   "metadata": {}
  },
  {
   "cell_type": "code",
   "execution_count": 2,
   "source": [
    "import os\n",
    "import sys\n",
    "import numpy as np\n",
    "from numpy import asarray,zeros\n",
    "import pandas as pd \n",
    "from sklearn.model_selection import train_test_split\n",
    "import torch\n",
    "from torch.utils.data import TensorDataset, DataLoader, RandomSampler, SequentialSampler, Dataset\n",
    "import torch.nn as nn\n",
    "import torch.nn.functional as F\n",
    "import torch.optim as optim\n",
    "from tqdm import tqdm\n",
    "import matplotlib.pyplot as plt\n",
    "import copy\n",
    "from sklearn.model_selection import train_test_split\n",
    "from sklearn import metrics\n",
    "from sklearn.metrics import classification_report\n",
    "import transformers\n",
    "from transformers import BertTokenizer\n",
    "from transformers import AdamW, get_linear_schedule_with_warmup\n",
    "from transformers import AutoTokenizer, AutoModel, AutoConfig, AdamW, get_linear_schedule_with_warmup\n",
    "from tensorflow.keras.preprocessing.text import Tokenizer\n",
    "from tensorflow.keras.preprocessing.sequence import pad_sequences\n",
    "import timm\n",
    "from losses import SupConLoss\n",
    "from torchlars import LARS"
   ],
   "outputs": [],
   "metadata": {}
  },
  {
   "cell_type": "code",
   "execution_count": 3,
   "source": [
    "if torch.cuda.is_available():\n",
    "    device_name = \"cuda:\" + gpu_number\n",
    "    device = torch.device(device_name)\n",
    "else:\n",
    "    device = torch.device(\"cpu\")\n",
    "# device = torch.device(\"cpu\") # Force CPU\n",
    "print(\"Using device\", device)"
   ],
   "outputs": [
    {
     "output_type": "stream",
     "name": "stdout",
     "text": [
      "Using device cuda:1\n"
     ]
    }
   ],
   "metadata": {}
  },
  {
   "cell_type": "code",
   "execution_count": 4,
   "source": [
    "# # NOTE: Resnet+BERT Multimodal data\n",
    "# source_multimodal_arr = np.load(\"../data/source_multimodal_out.npy\")\n",
    "# target_multimodal_arr = np.load(\"../data/target_multimodal_out.npy\")\n",
    "# print(\"Source shape\", source_multimodal_arr.shape)\n",
    "# print(\"Target shape\", target_multimodal_arr.shape)"
   ],
   "outputs": [],
   "metadata": {}
  },
  {
   "cell_type": "code",
   "execution_count": 5,
   "source": [
    "# NOTE: Import Visual BERT Multimodal data\n",
    "source_multimodal_arr = np.load(\"../data/vbert_old/source_mm_vbert.npy\")\n",
    "target_multimodal_arr = np.load(\"../data/vbert_old/target_mm_vbert.npy\")"
   ],
   "outputs": [],
   "metadata": {}
  },
  {
   "cell_type": "code",
   "execution_count": 6,
   "source": [
    "# # New features\n",
    "# diff_arr = source_multimodal_arr - target_multimodal_arr\n",
    "# mul_diff_arr = source_multimodal_arr * diff_arr\n",
    "# print(\"Source shape\", diff_arr.shape)\n",
    "# print(\"Target shape\", mul_diff_arr.shape)"
   ],
   "outputs": [],
   "metadata": {}
  },
  {
   "cell_type": "code",
   "execution_count": 7,
   "source": [
    "# # Considering only the text parts - #TODO: Comment if not necessary\n",
    "# source_multimodal_arr = source_multimodal_arr[:,768:] # Only BERT\n",
    "# target_multimodal_arr = target_multimodal_arr[:,768:] # Only BERT\n",
    "# print(\"Source shape\", source_multimodal_arr.shape)\n",
    "# print(\"Target shape\", target_multimodal_arr.shape)"
   ],
   "outputs": [],
   "metadata": {}
  },
  {
   "cell_type": "code",
   "execution_count": 8,
   "source": [
    "# NOTE: Old features\n",
    "source_multimodal_tensor = torch.tensor(source_multimodal_arr, device=device)\n",
    "target_multimodal_tensor = torch.tensor(target_multimodal_arr, device=device)\n",
    "print(\"Source shape\", source_multimodal_tensor.shape)\n",
    "print(\"Target shape\", target_multimodal_tensor.shape)"
   ],
   "outputs": [
    {
     "output_type": "stream",
     "name": "stdout",
     "text": [
      "Source shape torch.Size([11766, 768])\n",
      "Target shape torch.Size([11766, 768])\n"
     ]
    }
   ],
   "metadata": {}
  },
  {
   "cell_type": "code",
   "execution_count": 9,
   "source": [
    "# #NOTE: New features (NOT GOOD)\n",
    "# diff_arr = torch.tensor(diff_arr, device=device)\n",
    "# mul_diff_arr = torch.tensor(mul_diff_arr, device=device)\n",
    "# print(\"Source shape\", diff_arr.shape)\n",
    "# print(\"Target shape\", mul_diff_arr.shape)"
   ],
   "outputs": [],
   "metadata": {}
  },
  {
   "cell_type": "code",
   "execution_count": 10,
   "source": [
    "# Loading the label\n",
    "labels_data = np.load(\"../data/labels.npy\")\n",
    "labels_tensor = torch.tensor(labels_data, dtype=torch.long, device=device).squeeze(-1)\n",
    "print('Labels tensor shape', labels_tensor.shape)"
   ],
   "outputs": [
    {
     "output_type": "stream",
     "name": "stdout",
     "text": [
      "Labels tensor shape torch.Size([11766])\n"
     ]
    }
   ],
   "metadata": {}
  },
  {
   "cell_type": "code",
   "execution_count": 11,
   "source": [
    "#TODO: Add Pytorch DataLoader\n",
    "def get_data_loader(batch_size, target_input, source_input, labels):\n",
    "\tdata = TensorDataset(target_input, source_input, labels)\n",
    "\tsampler = SequentialSampler(data)\n",
    "\tdataloader = DataLoader(data, sampler=sampler, batch_size=batch_size)\n",
    "\treturn data, sampler, dataloader"
   ],
   "outputs": [],
   "metadata": {}
  },
  {
   "cell_type": "code",
   "execution_count": 12,
   "source": [
    "# NOTE: Old features\n",
    "train_target, test_target, train_source, test_source, train_labels, test_labels = train_test_split(target_multimodal_tensor, source_multimodal_tensor, labels_tensor, test_size=0.2, random_state=43)"
   ],
   "outputs": [],
   "metadata": {}
  },
  {
   "cell_type": "code",
   "execution_count": 13,
   "source": [
    "# # NOTE: New features (Not working well)\n",
    "# train_target, test_target, train_source, test_source, train_labels, test_labels = train_test_split(mul_diff_arr, diff_arr, labels_tensor, test_size=0.2, random_state=43)"
   ],
   "outputs": [],
   "metadata": {}
  },
  {
   "cell_type": "code",
   "execution_count": 14,
   "source": [
    "# # NOTE: New features (Not working well)\n",
    "# train_target, test_target, train_source, test_source, train_labels, test_labels = train_test_split(diff_arr, source_multimodal_tensor, labels_tensor, test_size=0.2, random_state=43)"
   ],
   "outputs": [],
   "metadata": {}
  },
  {
   "cell_type": "code",
   "execution_count": 15,
   "source": [
    "batch_size = 128\n",
    "train_labels = torch.tensor(train_labels, dtype=torch.long, device =device)\n",
    "test_labels = torch.tensor(test_labels, dtype=torch.long, device =device)\n",
    "train_data, train_sampler, train_dataloader = get_data_loader(batch_size, train_target, train_source, train_labels)\n",
    "test_data, test_sampler, test_dataloader = get_data_loader(batch_size, test_target, test_source, test_labels)"
   ],
   "outputs": [
    {
     "output_type": "stream",
     "name": "stderr",
     "text": [
      "/sda/rina_1921cs13/anaconda3/envs/nischalbert/lib/python3.6/site-packages/ipykernel_launcher.py:2: UserWarning: To copy construct from a tensor, it is recommended to use sourceTensor.clone().detach() or sourceTensor.clone().detach().requires_grad_(True), rather than torch.tensor(sourceTensor).\n",
      "  \n",
      "/sda/rina_1921cs13/anaconda3/envs/nischalbert/lib/python3.6/site-packages/ipykernel_launcher.py:3: UserWarning: To copy construct from a tensor, it is recommended to use sourceTensor.clone().detach() or sourceTensor.clone().detach().requires_grad_(True), rather than torch.tensor(sourceTensor).\n",
      "  This is separate from the ipykernel package so we can avoid doing imports until\n"
     ]
    }
   ],
   "metadata": {}
  },
  {
   "cell_type": "code",
   "execution_count": 16,
   "source": [
    "# For Visual BERT only (Expt)\n",
    "class ContrastiveModelVisualBERT(nn.Module):\n",
    "    def __init__(self, initial_dim):\n",
    "        super(ContrastiveModelVisualBERT, self).__init__()\n",
    "        self.project_1 = nn.Linear(initial_dim, 512, bias=True)\n",
    "        # self.project_2 = nn.Linear(512, 128, bias=True)\n",
    "        # self.dropout = nn.Dropout(0.2)\n",
    "    def forward(self, multimodal_input):\n",
    "        contrast_space = self.project_1(multimodal_input)\n",
    "        normalize_contrast = F.normalize(contrast_space, dim=2)\n",
    "        return normalize_contrast"
   ],
   "outputs": [],
   "metadata": {}
  },
  {
   "cell_type": "code",
   "execution_count": 17,
   "source": [
    "# Model imported from the previous network\n",
    "class ContrastiveModel(nn.Module):\n",
    "    def __init__(self, initial_dim):\n",
    "        super(ContrastiveModel, self).__init__()\n",
    "        self.project_1 = nn.Linear(initial_dim, 512, bias=True)\n",
    "        self.project_2 = nn.Linear(512, 128, bias=True)\n",
    "        self.dropout = nn.Dropout(0.2)\n",
    "    def forward(self, multimodal_input):\n",
    "        contrast_space = self.project_2(self.project_1(multimodal_input))\n",
    "        normalize_contrast = F.normalize(contrast_space, dim=2)\n",
    "        return normalize_contrast"
   ],
   "outputs": [],
   "metadata": {}
  },
  {
   "cell_type": "code",
   "execution_count": 18,
   "source": [
    "# Define classification model\n",
    "class ContrastiveClassification(nn.Module):\n",
    "    def __init__(self, initial_dim):\n",
    "        super(ContrastiveClassification, self).__init__()\n",
    "        self.contrastive_model = ContrastiveModel(initial_dim) # For generic model\n",
    "        # self.contrastive_model = ContrastiveModelVisualBERT(initial_dim) # For visual BERT only\n",
    "        self.contrastive_model.load_state_dict(torch.load('saved_models/contrast_head_visualbert_lr_5_ep_1000.pt'))\n",
    "        for param in self.contrastive_model.parameters():\n",
    "            param.requires_grad = False\n",
    "        self.reduce_1 = nn.Linear((512)*3, 512)\n",
    "        self.tanh1 = nn.Tanh()\n",
    "        self.logits_layer = nn.Linear(512, 2)\n",
    "    def forward(self, target_input, source_input):\n",
    "        fixed_target = self.contrastive_model.project_1(target_input)\n",
    "        fixed_source = self.contrastive_model.project_1(source_input)\n",
    "        add_op = fixed_target + fixed_source\n",
    "        sub_op = fixed_target - fixed_source\n",
    "        mul_op = fixed_target * fixed_source\n",
    "        combine_t_s = torch.cat((add_op, sub_op, mul_op), 1)\n",
    "        reduce_output = self.tanh1(self.reduce_1(combine_t_s))\n",
    "        logits = self.logits_layer(reduce_output)\n",
    "        return logits"
   ],
   "outputs": [],
   "metadata": {}
  },
  {
   "cell_type": "code",
   "execution_count": 19,
   "source": [
    "# #NOTE: For New Classification Features (Not used) Define classification model\n",
    "# class ContrastiveClassificationNew(nn.Module):\n",
    "#     def __init__(self, initial_dim):\n",
    "#         super(ContrastiveClassificationNew, self).__init__()\n",
    "#         self.contrastive_model = ContrastiveModel(initial_dim) # For generic model\n",
    "#         # self.contrastive_model = ContrastiveModelVisualBERT(initial_dim) # For visual BERT only\n",
    "#         self.contrastive_model.load_state_dict(torch.load('saved_models/contrast_head_rbert_lr_5_ep_1000.pt'))\n",
    "#         for param in self.contrastive_model.parameters():\n",
    "#             param.requires_grad = False\n",
    "#         self.reduce_1 = nn.Linear((512)*3, 512, bias=True)\n",
    "#         self.tanh1 = nn.Tanh()\n",
    "#         self.logits_layer = nn.Linear(512, 2)\n",
    "#     def forward(self, target_input, source_input):\n",
    "#         # target -> s-t, and source -> s\n",
    "#         fixed_target = self.contrastive_model.project_1(target_input)\n",
    "#         fixed_source = self.contrastive_model.project_1(source_input)\n",
    "#         add_op = (fixed_source+fixed_source) - fixed_target\n",
    "#         sub_op = fixed_target\n",
    "#         mul_op = fixed_source * (fixed_source - fixed_target)\n",
    "#         combine_t_s = torch.cat((add_op, sub_op, mul_op), 1)\n",
    "#         reduce_output = self.tanh1(self.reduce_1(combine_t_s))\n",
    "#         logits = self.logits_layer(reduce_output)\n",
    "#         return logits"
   ],
   "outputs": [],
   "metadata": {}
  },
  {
   "cell_type": "code",
   "execution_count": 20,
   "source": [
    "# Dry-Run Classification model\n",
    "initial_dim = source_multimodal_tensor.shape[1]\n",
    "# initial_dim = diff_arr.shape[1]\n",
    "class_model = ContrastiveClassification(initial_dim).to(device) # For old model\n",
    "# class_model = ContrastiveClassificationNew(initial_dim).to(device) # For new model\n",
    "# class_out = class_model(target_multimodal_tensor[0:32])\n",
    "# print(class_out.shape)"
   ],
   "outputs": [],
   "metadata": {}
  },
  {
   "cell_type": "code",
   "execution_count": 21,
   "source": [
    "# Optimizer and scheduler\n",
    "def get_optimizer_scheduler(name, model, train_dataloader_len, epochs, lr_set):\n",
    "\tif name == \"Adam\":\n",
    "\t\toptimizer = AdamW(model.parameters(),\n",
    "                  lr = lr_set, # args.learning_rate - default is 5e-5, our notebook had 2e-5\n",
    "                  eps = 1e-8 # args.adam_epsilon  - default is 1e-8.\n",
    "\t\t)\n",
    "\telif name == \"LARS-SGD\":\n",
    "\t\tbase_optimizer = optim.SGD(model.parameters(), lr=lr_set, momentum=0.9)\n",
    "\t\toptimizer = LARS(optimizer=base_optimizer, eps=1e-8, trust_coef=0.001)\n",
    "\n",
    "\ttotal_steps = train_dataloader_len * epochs\n",
    "\n",
    "\t# Create the learning rate scheduler.\n",
    "\tscheduler = get_linear_schedule_with_warmup(optimizer, \n",
    "\t\t\t\t\t\t\t\t\t\t\t\tnum_warmup_steps = total_steps//2, # Default value in run_glue.py\n",
    "\t\t\t\t\t\t\t\t\t\t\t\tnum_training_steps = total_steps)\n",
    "\treturn optimizer, scheduler"
   ],
   "outputs": [],
   "metadata": {}
  },
  {
   "cell_type": "code",
   "execution_count": 22,
   "source": [
    "# Getting the optimizer and scheduler\n",
    "epochs = 100\n",
    "lr = 3e-5 # Less LR\n",
    "# lr = 0.5\n",
    "iters_to_accumulate = 2\n",
    "name = \"Adam\"\n",
    "# name = \"LARS-SGD\"\n",
    "criterion = nn.CrossEntropyLoss()\n",
    "optimizer, scheduler = get_optimizer_scheduler(name, class_model, len(train_dataloader), epochs, lr)"
   ],
   "outputs": [],
   "metadata": {}
  },
  {
   "cell_type": "code",
   "execution_count": 23,
   "source": [
    "################ Evaluating Loss ######################\n",
    "#######################################################\n",
    "def evaluate_loss(net, device, criterion, dataloader):\n",
    "    net.eval()\n",
    "    mean_loss = 0\n",
    "    count = 0\n",
    "    with torch.no_grad():\n",
    "        for it, (target_inputs, source_inputs, labels) in enumerate(tqdm(dataloader)):\n",
    "            target_inputs, source_inputs, labels = target_inputs.to(device), source_inputs.to(device), labels.to(device)\n",
    "            logits = net(target_inputs, source_inputs)\n",
    "            mean_loss += criterion(logits.squeeze(-1), labels).item() # initially it was logits.squeeze(-1)\n",
    "            count += 1\n",
    "    return mean_loss / count"
   ],
   "outputs": [],
   "metadata": {}
  },
  {
   "cell_type": "code",
   "execution_count": 24,
   "source": [
    "################ Flat Accuracy Calculation ####################\n",
    "###############################################################\n",
    "def flat_accuracy(preds, labels):\n",
    "    pred_flat = np.argmax(preds, axis=1).flatten()\n",
    "    labels_flat = labels.flatten()\n",
    "    return np.sum(pred_flat == labels_flat) / len(labels_flat)\n",
    "################ Validation Accuracy Calculation ####################\n",
    "###############################################################\n",
    "def evaluate_accuracy(model, device, validation_dataloader):\n",
    "\tmodel.eval()\n",
    "\t# Tracking variables \n",
    "\teval_loss, eval_accuracy = 0, 0\n",
    "\tnb_eval_steps, nb_eval_examples = 0, 0\n",
    "\t# Evaluate data for one epoch\n",
    "\tfor batch in validation_dataloader:\n",
    "\t    # Add batch to GPU\n",
    "\t    batch = tuple(t.to(device) for t in batch)\t    \n",
    "\t    # Unpack the inputs from our dataloader\n",
    "\t    b_t_inputs, b_s_inputs, b_labels = batch\t    \n",
    "\t    \n",
    "\t    # Telling the model not to compute or store gradients, saving memory and\n",
    "\t    # speeding up validation\n",
    "\t    with torch.no_grad(): \n",
    "\t    \t# Forward pass, calculate logit predictions.\n",
    "\t        # This will return the logits rather than the loss because we have\n",
    "\t        # not provided labels.\n",
    "\t    \tlogits = model(b_t_inputs, b_s_inputs)       \n",
    "\n",
    "\t    # Move logits and labels to CPU\n",
    "\t    logits = logits.detach().cpu().numpy()\n",
    "\t    label_ids = b_labels.to('cpu').numpy()\n",
    "\t    \n",
    "\t    # Calculate the accuracy for this batch of test sentences.\n",
    "\t    tmp_eval_accuracy = flat_accuracy(logits, label_ids)\n",
    "\t    \n",
    "\t    # Accumulate the total accuracy.\n",
    "\t    eval_accuracy += tmp_eval_accuracy\n",
    "\n",
    "\t    # Track the number of batches\n",
    "\t    nb_eval_steps += 1\n",
    "\taccuracy = eval_accuracy/nb_eval_steps\n",
    "\treturn accuracy"
   ],
   "outputs": [],
   "metadata": {}
  },
  {
   "cell_type": "code",
   "execution_count": 25,
   "source": [
    "def train_model(net, criterion, opti, lr, lr_scheduler, train_loader, val_loader, epochs, iters_to_accumulate):\n",
    "    best_loss = np.Inf\n",
    "    best_ep = 1\n",
    "    nb_iterations = len(train_loader)\n",
    "    print_every = nb_iterations // 5  # print the training loss 5 times per epoch\n",
    "    iters = []\n",
    "    train_losses = []\n",
    "    val_losses = []\n",
    "    # Iterating over all epochs\n",
    "    for ep in range(epochs):\n",
    "        net.train()\n",
    "        running_loss = 0.0\n",
    "        for it, (target_inputs, source_inputs, labels) in enumerate(tqdm(train_loader)):\n",
    "\n",
    "            # Converting to cuda tensors\n",
    "            target_inputs, source_inputs, labels = target_inputs.to(device), source_inputs.to(device), labels.to(device)\n",
    "    \t\t\n",
    "            # Obtaining the logits from the model\n",
    "            logits = net(target_inputs, source_inputs)\n",
    "            # print(logits.device)\n",
    "\n",
    "            # Computing loss\n",
    "            # print(logits.squeeze(-1).shape)\n",
    "            # print(labels.shape)\n",
    "            loss = criterion(logits.squeeze(-1), labels)\n",
    "            loss = loss / iters_to_accumulate  # Normalize the loss because it is averaged\n",
    "\n",
    "            # Backpropagating the gradients\n",
    "            # Calls backward()\n",
    "            loss.backward()\n",
    "\n",
    "            if (it + 1) % iters_to_accumulate == 0:\n",
    "                # Optimization step\n",
    "                # scaler.step() first unscales the gradients of the optimizer's assigned params.\n",
    "                # If these gradients do not contain infs or NaNs, opti.step() is then called,\n",
    "                # otherwise, opti.step() is skipped.\n",
    "                opti.step()\n",
    "                # Adjust the learning rate based on the number of iterations.\n",
    "                lr_scheduler.step()\n",
    "                # Clear gradients\n",
    "                net.zero_grad()\n",
    "\n",
    "\n",
    "            running_loss += loss.item()\n",
    "\n",
    "            if (it + 1) % print_every == 0:  # Print training loss information\n",
    "                print()\n",
    "                print(\"Iteration {}/{} of epoch {} complete. Loss : {} \"\n",
    "                      .format(it+1, nb_iterations, ep+1, running_loss / print_every))\n",
    "\n",
    "                running_loss = 0.0\n",
    "\n",
    "\n",
    "        val_loss = evaluate_loss(net, device, criterion, val_loader)  # Compute validation loss\n",
    "        val_accuracy = evaluate_accuracy(net, device, val_loader)\n",
    "        print()\n",
    "        print(\"Epoch {} complete! Validation Loss : {}\".format(ep+1, val_loss))\n",
    "        print(\"Epoch {} complete! Validation Accuracy : {}\".format(ep+1, val_accuracy))\n",
    "\n",
    "        if val_loss < best_loss:\n",
    "            print(\"Best validation loss improved from {} to {}\".format(best_loss, val_loss))\n",
    "            print()\n",
    "            net_copy = copy.deepcopy(net)  # save a copy of the model\n",
    "            best_loss = val_loss\n",
    "            best_ep = ep + 1\n",
    "\n",
    "    # Saving the model\n",
    "    model_name = 'class_contrast_vbert'\n",
    "    path_to_model='saved_models/{}_lr_{}_val_loss_{}_ep_{}.pt'.format(model_name, lr, round(best_loss, 5), best_ep)\n",
    "    torch.save(net_copy.state_dict(), path_to_model)\n",
    "    net.load_state_dict(torch.load(path_to_model)) # Re-Loading the best model\n",
    "    print(\"The model has been saved in {}\".format(path_to_model))\n",
    "\n",
    "    del loss\n",
    "    torch.cuda.empty_cache()\n",
    "    return net"
   ],
   "outputs": [],
   "metadata": {}
  },
  {
   "cell_type": "code",
   "execution_count": 26,
   "source": [
    "# Train the model\n",
    "model = train_model(class_model, criterion, optimizer, lr, scheduler, train_dataloader, test_dataloader, epochs, iters_to_accumulate)"
   ],
   "outputs": [
    {
     "output_type": "stream",
     "name": "stderr",
     "text": [
      " 26%|██▌       | 19/74 [00:00<00:00, 85.10it/s] "
     ]
    },
    {
     "output_type": "stream",
     "name": "stdout",
     "text": [
      "\n",
      "Iteration 14/74 of epoch 1 complete. Loss : 0.40465000697544645 \n",
      "\n",
      "Iteration 28/74 of epoch 1 complete. Loss : 0.40226278986249653 \n"
     ]
    },
    {
     "output_type": "stream",
     "name": "stderr",
     "text": [
      " 72%|███████▏  | 53/74 [00:00<00:00, 93.90it/s]"
     ]
    },
    {
     "output_type": "stream",
     "name": "stdout",
     "text": [
      "\n",
      "Iteration 42/74 of epoch 1 complete. Loss : 0.40501568572861807 \n",
      "\n",
      "Iteration 56/74 of epoch 1 complete. Loss : 0.40220753635678974 \n"
     ]
    },
    {
     "output_type": "stream",
     "name": "stderr",
     "text": [
      "100%|██████████| 74/74 [00:00<00:00, 99.73it/s]\n",
      " 47%|████▋     | 9/19 [00:00<00:00, 86.15it/s]"
     ]
    },
    {
     "output_type": "stream",
     "name": "stdout",
     "text": [
      "\n",
      "Iteration 70/74 of epoch 1 complete. Loss : 0.39435609536511557 \n"
     ]
    },
    {
     "output_type": "stream",
     "name": "stderr",
     "text": [
      "100%|██████████| 19/19 [00:00<00:00, 85.79it/s]\n",
      " 18%|█▊        | 13/74 [00:00<00:00, 128.85it/s]"
     ]
    },
    {
     "output_type": "stream",
     "name": "stdout",
     "text": [
      "\n",
      "Epoch 1 complete! Validation Loss : 0.8103663105713693\n",
      "Epoch 1 complete! Validation Accuracy : 0.5651644736842105\n",
      "Best validation loss improved from inf to 0.8103663105713693\n",
      "\n",
      "\n",
      "Iteration 14/74 of epoch 2 complete. Loss : 0.3946237244776317 \n"
     ]
    },
    {
     "output_type": "stream",
     "name": "stderr",
     "text": [
      " 66%|██████▌   | 49/74 [00:00<00:00, 118.53it/s]"
     ]
    },
    {
     "output_type": "stream",
     "name": "stdout",
     "text": [
      "\n",
      "Iteration 28/74 of epoch 2 complete. Loss : 0.38929170795849394 \n",
      "\n",
      "Iteration 42/74 of epoch 2 complete. Loss : 0.3885906083243234 \n"
     ]
    },
    {
     "output_type": "stream",
     "name": "stderr",
     "text": [
      "100%|██████████| 74/74 [00:00<00:00, 121.65it/s]\n",
      "100%|██████████| 19/19 [00:00<00:00, 360.94it/s]"
     ]
    },
    {
     "output_type": "stream",
     "name": "stdout",
     "text": [
      "\n",
      "Iteration 56/74 of epoch 2 complete. Loss : 0.3823266987289701 \n",
      "\n",
      "Iteration 70/74 of epoch 2 complete. Loss : 0.37226577528885435 \n"
     ]
    },
    {
     "output_type": "stream",
     "name": "stderr",
     "text": [
      "\n",
      " 16%|█▌        | 12/74 [00:00<00:00, 113.64it/s]"
     ]
    },
    {
     "output_type": "stream",
     "name": "stdout",
     "text": [
      "\n",
      "Epoch 2 complete! Validation Loss : 0.7585121550058064\n",
      "Epoch 2 complete! Validation Accuracy : 0.5651644736842105\n",
      "Best validation loss improved from 0.8103663105713693 to 0.7585121550058064\n",
      "\n",
      "\n",
      "Iteration 14/74 of epoch 3 complete. Loss : 0.36884379174028126 \n"
     ]
    },
    {
     "output_type": "stream",
     "name": "stderr",
     "text": [
      " 62%|██████▏   | 46/74 [00:00<00:00, 133.13it/s]"
     ]
    },
    {
     "output_type": "stream",
     "name": "stdout",
     "text": [
      "\n",
      "Iteration 28/74 of epoch 3 complete. Loss : 0.36165609530040194 \n",
      "\n",
      "Iteration 42/74 of epoch 3 complete. Loss : 0.357944375702313 \n",
      "\n",
      "Iteration 56/74 of epoch 3 complete. Loss : 0.34901375004223417 \n"
     ]
    },
    {
     "output_type": "stream",
     "name": "stderr",
     "text": [
      "100%|██████████| 74/74 [00:00<00:00, 168.42it/s]\n",
      "100%|██████████| 19/19 [00:00<00:00, 289.91it/s]\n",
      "  0%|          | 0/74 [00:00<?, ?it/s]"
     ]
    },
    {
     "output_type": "stream",
     "name": "stdout",
     "text": [
      "\n",
      "Iteration 70/74 of epoch 3 complete. Loss : 0.33819974958896637 \n",
      "\n",
      "Epoch 3 complete! Validation Loss : 0.6835633328086451\n",
      "Epoch 3 complete! Validation Accuracy : 0.5651644736842105\n",
      "Best validation loss improved from 0.7585121550058064 to 0.6835633328086451\n",
      "\n"
     ]
    },
    {
     "output_type": "stream",
     "name": "stderr",
     "text": [
      " 57%|█████▋    | 42/74 [00:00<00:00, 97.03it/s]"
     ]
    },
    {
     "output_type": "stream",
     "name": "stdout",
     "text": [
      "\n",
      "Iteration 14/74 of epoch 4 complete. Loss : 0.33247707571302143 \n",
      "\n",
      "Iteration 28/74 of epoch 4 complete. Loss : 0.3248096151011331 \n",
      "\n",
      "Iteration 42/74 of epoch 4 complete. Loss : 0.31904350434030804 \n"
     ]
    },
    {
     "output_type": "stream",
     "name": "stderr",
     "text": [
      "100%|██████████| 74/74 [00:00<00:00, 133.10it/s]\n",
      "  0%|          | 0/19 [00:00<?, ?it/s]"
     ]
    },
    {
     "output_type": "stream",
     "name": "stdout",
     "text": [
      "\n",
      "Iteration 56/74 of epoch 4 complete. Loss : 0.30876693555286955 \n",
      "\n",
      "Iteration 70/74 of epoch 4 complete. Loss : 0.29859654179641176 \n"
     ]
    },
    {
     "output_type": "stream",
     "name": "stderr",
     "text": [
      "100%|██████████| 19/19 [00:00<00:00, 285.24it/s]\n",
      " 19%|█▉        | 14/74 [00:00<00:00, 136.58it/s]"
     ]
    },
    {
     "output_type": "stream",
     "name": "stdout",
     "text": [
      "\n",
      "Epoch 4 complete! Validation Loss : 0.600019771801798\n",
      "Epoch 4 complete! Validation Accuracy : 0.602171052631579\n",
      "Best validation loss improved from 0.6835633328086451 to 0.600019771801798\n",
      "\n",
      "\n",
      "Iteration 14/74 of epoch 5 complete. Loss : 0.29243754914828707 \n",
      "\n"
     ]
    },
    {
     "output_type": "stream",
     "name": "stderr",
     "text": [
      " 66%|██████▌   | 49/74 [00:00<00:00, 149.56it/s]"
     ]
    },
    {
     "output_type": "stream",
     "name": "stdout",
     "text": [
      "Iteration 28/74 of epoch 5 complete. Loss : 0.2853913222040449 \n",
      "\n",
      "Iteration 42/74 of epoch 5 complete. Loss : 0.27867267174380167 \n",
      "\n",
      "Iteration 56/74 of epoch 5 complete. Loss : 0.26851246505975723 \n"
     ]
    },
    {
     "output_type": "stream",
     "name": "stderr",
     "text": [
      "100%|██████████| 74/74 [00:00<00:00, 128.76it/s]\n",
      " 89%|████████▉ | 17/19 [00:00<00:00, 165.07it/s]"
     ]
    },
    {
     "output_type": "stream",
     "name": "stdout",
     "text": [
      "\n",
      "Iteration 70/74 of epoch 5 complete. Loss : 0.25983209908008575 \n"
     ]
    },
    {
     "output_type": "stream",
     "name": "stderr",
     "text": [
      "100%|██████████| 19/19 [00:00<00:00, 149.53it/s]\n",
      " 14%|█▎        | 10/74 [00:00<00:00, 94.64it/s]"
     ]
    },
    {
     "output_type": "stream",
     "name": "stdout",
     "text": [
      "\n",
      "Epoch 5 complete! Validation Loss : 0.5211926181065408\n",
      "Epoch 5 complete! Validation Accuracy : 0.7819243421052632\n",
      "Best validation loss improved from 0.600019771801798 to 0.5211926181065408\n",
      "\n",
      "\n",
      "Iteration 14/74 of epoch 6 complete. Loss : 0.25501386501959394 \n"
     ]
    },
    {
     "output_type": "stream",
     "name": "stderr",
     "text": [
      " 50%|█████     | 37/74 [00:00<00:00, 106.66it/s]"
     ]
    },
    {
     "output_type": "stream",
     "name": "stdout",
     "text": [
      "\n",
      "Iteration 28/74 of epoch 6 complete. Loss : 0.2486776060291699 \n",
      "\n",
      "Iteration 42/74 of epoch 6 complete. Loss : 0.24189387474741256 \n"
     ]
    },
    {
     "output_type": "stream",
     "name": "stderr",
     "text": [
      "100%|██████████| 74/74 [00:00<00:00, 119.34it/s]\n",
      "  0%|          | 0/19 [00:00<?, ?it/s]"
     ]
    },
    {
     "output_type": "stream",
     "name": "stdout",
     "text": [
      "\n",
      "Iteration 56/74 of epoch 6 complete. Loss : 0.23273032903671265 \n",
      "\n",
      "Iteration 70/74 of epoch 6 complete. Loss : 0.2257372396332877 \n"
     ]
    },
    {
     "output_type": "stream",
     "name": "stderr",
     "text": [
      "100%|██████████| 19/19 [00:00<00:00, 352.10it/s]\n",
      " 18%|█▊        | 13/74 [00:00<00:00, 121.67it/s]"
     ]
    },
    {
     "output_type": "stream",
     "name": "stdout",
     "text": [
      "\n",
      "Epoch 6 complete! Validation Loss : 0.4545358811554156\n",
      "Epoch 6 complete! Validation Accuracy : 0.8156414473684211\n",
      "Best validation loss improved from 0.5211926181065408 to 0.4545358811554156\n",
      "\n",
      "\n",
      "Iteration 14/74 of epoch 7 complete. Loss : 0.2238441056438855 \n"
     ]
    },
    {
     "output_type": "stream",
     "name": "stderr",
     "text": [
      " 58%|█████▊    | 43/74 [00:00<00:00, 103.63it/s]"
     ]
    },
    {
     "output_type": "stream",
     "name": "stdout",
     "text": [
      "\n",
      "Iteration 28/74 of epoch 7 complete. Loss : 0.2179954360638346 \n",
      "\n",
      "Iteration 42/74 of epoch 7 complete. Loss : 0.21213978209665843 \n",
      "\n",
      "Iteration 56/74 of epoch 7 complete. Loss : 0.20480863111359732 \n"
     ]
    },
    {
     "output_type": "stream",
     "name": "stderr",
     "text": [
      "100%|██████████| 74/74 [00:00<00:00, 121.86it/s]\n",
      "100%|██████████| 19/19 [00:00<00:00, 242.22it/s]\n"
     ]
    },
    {
     "output_type": "stream",
     "name": "stdout",
     "text": [
      "\n",
      "Iteration 70/74 of epoch 7 complete. Loss : 0.20057313144207 \n"
     ]
    },
    {
     "output_type": "stream",
     "name": "stderr",
     "text": [
      " 26%|██▌       | 19/74 [00:00<00:00, 156.27it/s]"
     ]
    },
    {
     "output_type": "stream",
     "name": "stdout",
     "text": [
      "\n",
      "Epoch 7 complete! Validation Loss : 0.40944120758458186\n",
      "Epoch 7 complete! Validation Accuracy : 0.8172368421052632\n",
      "Best validation loss improved from 0.4545358811554156 to 0.40944120758458186\n",
      "\n",
      "\n",
      "Iteration 14/74 of epoch 8 complete. Loss : 0.20358274983508245 \n",
      "\n",
      "Iteration 28/74 of epoch 8 complete. Loss : 0.19907930386917932 \n"
     ]
    },
    {
     "output_type": "stream",
     "name": "stderr",
     "text": [
      " 73%|███████▎  | 54/74 [00:00<00:00, 121.75it/s]"
     ]
    },
    {
     "output_type": "stream",
     "name": "stdout",
     "text": [
      "\n",
      "Iteration 42/74 of epoch 8 complete. Loss : 0.19490926287003926 \n",
      "\n",
      "Iteration 56/74 of epoch 8 complete. Loss : 0.19045219251087733 \n"
     ]
    },
    {
     "output_type": "stream",
     "name": "stderr",
     "text": [
      "100%|██████████| 74/74 [00:00<00:00, 111.03it/s]\n",
      "100%|██████████| 19/19 [00:00<00:00, 205.07it/s]"
     ]
    },
    {
     "output_type": "stream",
     "name": "stdout",
     "text": [
      "\n",
      "Iteration 70/74 of epoch 8 complete. Loss : 0.18861697614192963 \n"
     ]
    },
    {
     "output_type": "stream",
     "name": "stderr",
     "text": [
      "\n",
      " 15%|█▍        | 11/74 [00:00<00:00, 106.49it/s]"
     ]
    },
    {
     "output_type": "stream",
     "name": "stdout",
     "text": [
      "\n",
      "Epoch 8 complete! Validation Loss : 0.3921125860590684\n",
      "Epoch 8 complete! Validation Accuracy : 0.8224013157894736\n",
      "Best validation loss improved from 0.40944120758458186 to 0.3921125860590684\n",
      "\n",
      "\n",
      "Iteration 14/74 of epoch 9 complete. Loss : 0.1960922862802233 \n"
     ]
    },
    {
     "output_type": "stream",
     "name": "stderr",
     "text": [
      " 51%|█████▏    | 38/74 [00:00<00:00, 90.31it/s] "
     ]
    },
    {
     "output_type": "stream",
     "name": "stdout",
     "text": [
      "\n",
      "Iteration 28/74 of epoch 9 complete. Loss : 0.1919742492692811 \n"
     ]
    },
    {
     "output_type": "stream",
     "name": "stderr",
     "text": [
      " 80%|███████▉  | 59/74 [00:00<00:00, 94.23it/s]"
     ]
    },
    {
     "output_type": "stream",
     "name": "stdout",
     "text": [
      "\n",
      "Iteration 42/74 of epoch 9 complete. Loss : 0.18878785095044545 \n",
      "\n",
      "Iteration 56/74 of epoch 9 complete. Loss : 0.18604077718087605 \n"
     ]
    },
    {
     "output_type": "stream",
     "name": "stderr",
     "text": [
      "100%|██████████| 74/74 [00:00<00:00, 92.06it/s]\n",
      "100%|██████████| 19/19 [00:00<00:00, 269.76it/s]"
     ]
    },
    {
     "output_type": "stream",
     "name": "stdout",
     "text": [
      "\n",
      "Iteration 70/74 of epoch 9 complete. Loss : 0.18394973235470907 \n"
     ]
    },
    {
     "output_type": "stream",
     "name": "stderr",
     "text": [
      "\n",
      " 22%|██▏       | 16/74 [00:00<00:00, 152.99it/s]"
     ]
    },
    {
     "output_type": "stream",
     "name": "stdout",
     "text": [
      "\n",
      "Epoch 9 complete! Validation Loss : 0.38630880807575424\n",
      "Epoch 9 complete! Validation Accuracy : 0.8250986842105263\n",
      "Best validation loss improved from 0.3921125860590684 to 0.38630880807575424\n",
      "\n",
      "\n",
      "Iteration 14/74 of epoch 10 complete. Loss : 0.19339323150260107 \n",
      "\n",
      "Iteration 28/74 of epoch 10 complete. Loss : 0.18904020637273788 \n"
     ]
    },
    {
     "output_type": "stream",
     "name": "stderr",
     "text": [
      " 73%|███████▎  | 54/74 [00:00<00:00, 115.80it/s]"
     ]
    },
    {
     "output_type": "stream",
     "name": "stdout",
     "text": [
      "\n",
      "Iteration 42/74 of epoch 10 complete. Loss : 0.18624363307441985 \n",
      "\n",
      "Iteration 56/74 of epoch 10 complete. Loss : 0.1840037852525711 \n"
     ]
    },
    {
     "output_type": "stream",
     "name": "stderr",
     "text": [
      "100%|██████████| 74/74 [00:00<00:00, 115.87it/s]\n",
      " 58%|█████▊    | 11/19 [00:00<00:00, 105.64it/s]"
     ]
    },
    {
     "output_type": "stream",
     "name": "stdout",
     "text": [
      "\n",
      "Iteration 70/74 of epoch 10 complete. Loss : 0.18128697680575506 \n"
     ]
    },
    {
     "output_type": "stream",
     "name": "stderr",
     "text": [
      "100%|██████████| 19/19 [00:00<00:00, 113.94it/s]\n",
      " 11%|█         | 8/74 [00:00<00:00, 74.94it/s]"
     ]
    },
    {
     "output_type": "stream",
     "name": "stdout",
     "text": [
      "\n",
      "Epoch 10 complete! Validation Loss : 0.38255821717412847\n",
      "Epoch 10 complete! Validation Accuracy : 0.8230427631578948\n",
      "Best validation loss improved from 0.38630880807575424 to 0.38255821717412847\n",
      "\n"
     ]
    },
    {
     "output_type": "stream",
     "name": "stderr",
     "text": [
      " 38%|███▊      | 28/74 [00:00<00:00, 82.88it/s]"
     ]
    },
    {
     "output_type": "stream",
     "name": "stdout",
     "text": [
      "\n",
      "Iteration 14/74 of epoch 11 complete. Loss : 0.19114856209073747 \n",
      "\n",
      "Iteration 28/74 of epoch 11 complete. Loss : 0.18713856488466263 \n"
     ]
    },
    {
     "output_type": "stream",
     "name": "stderr",
     "text": [
      " 85%|████████▌ | 63/74 [00:00<00:00, 98.97it/s]"
     ]
    },
    {
     "output_type": "stream",
     "name": "stdout",
     "text": [
      "\n",
      "Iteration 42/74 of epoch 11 complete. Loss : 0.18435727485588618 \n",
      "\n",
      "Iteration 56/74 of epoch 11 complete. Loss : 0.18241790628858975 \n",
      "\n",
      "Iteration 70/74 of epoch 11 complete. Loss : 0.17962511096681869 \n"
     ]
    },
    {
     "output_type": "stream",
     "name": "stderr",
     "text": [
      "100%|██████████| 74/74 [00:00<00:00, 107.65it/s]\n",
      "100%|██████████| 19/19 [00:00<00:00, 174.07it/s]\n",
      " 20%|██        | 15/74 [00:00<00:00, 148.06it/s]"
     ]
    },
    {
     "output_type": "stream",
     "name": "stdout",
     "text": [
      "\n",
      "Epoch 11 complete! Validation Loss : 0.3795930304025349\n",
      "Epoch 11 complete! Validation Accuracy : 0.8230427631578948\n",
      "Best validation loss improved from 0.38255821717412847 to 0.3795930304025349\n",
      "\n",
      "\n",
      "Iteration 14/74 of epoch 12 complete. Loss : 0.18953860231808253 \n",
      "\n",
      "Iteration 28/74 of epoch 12 complete. Loss : 0.18562234512397222 \n"
     ]
    },
    {
     "output_type": "stream",
     "name": "stderr",
     "text": [
      " 82%|████████▏ | 61/74 [00:00<00:00, 140.67it/s]"
     ]
    },
    {
     "output_type": "stream",
     "name": "stdout",
     "text": [
      "\n",
      "Iteration 42/74 of epoch 12 complete. Loss : 0.1830865889787674 \n",
      "\n",
      "Iteration 56/74 of epoch 12 complete. Loss : 0.1813230434698718 \n",
      "\n",
      "Iteration 70/74 of epoch 12 complete. Loss : 0.17836299964359828 \n"
     ]
    },
    {
     "output_type": "stream",
     "name": "stderr",
     "text": [
      "100%|██████████| 74/74 [00:00<00:00, 150.35it/s]\n",
      "100%|██████████| 19/19 [00:00<00:00, 244.12it/s]\n",
      "  8%|▊         | 6/74 [00:00<00:01, 55.82it/s]"
     ]
    },
    {
     "output_type": "stream",
     "name": "stdout",
     "text": [
      "\n",
      "Epoch 12 complete! Validation Loss : 0.3776351197769767\n",
      "Epoch 12 complete! Validation Accuracy : 0.8242763157894737\n",
      "Best validation loss improved from 0.3795930304025349 to 0.3776351197769767\n",
      "\n",
      "\n",
      "Iteration 14/74 of epoch 13 complete. Loss : 0.1883448702948434 \n"
     ]
    },
    {
     "output_type": "stream",
     "name": "stderr",
     "text": [
      " 49%|████▊     | 36/74 [00:00<00:00, 73.03it/s]"
     ]
    },
    {
     "output_type": "stream",
     "name": "stdout",
     "text": [
      "\n",
      "Iteration 28/74 of epoch 13 complete. Loss : 0.18467417359352112 \n",
      "\n",
      "Iteration 42/74 of epoch 13 complete. Loss : 0.18215912793363845 \n"
     ]
    },
    {
     "output_type": "stream",
     "name": "stderr",
     "text": [
      " 89%|████████▉ | 66/74 [00:00<00:00, 82.49it/s]"
     ]
    },
    {
     "output_type": "stream",
     "name": "stdout",
     "text": [
      "\n",
      "Iteration 56/74 of epoch 13 complete. Loss : 0.18046542310288974 \n",
      "\n",
      "Iteration 70/74 of epoch 13 complete. Loss : 0.17738723009824753 \n"
     ]
    },
    {
     "output_type": "stream",
     "name": "stderr",
     "text": [
      "100%|██████████| 74/74 [00:00<00:00, 84.66it/s]\n",
      "100%|██████████| 19/19 [00:00<00:00, 208.15it/s]\n",
      " 16%|█▌        | 12/74 [00:00<00:00, 104.97it/s]"
     ]
    },
    {
     "output_type": "stream",
     "name": "stdout",
     "text": [
      "\n",
      "Epoch 13 complete! Validation Loss : 0.37626456430083827\n",
      "Epoch 13 complete! Validation Accuracy : 0.825921052631579\n",
      "Best validation loss improved from 0.3776351197769767 to 0.37626456430083827\n",
      "\n",
      "\n",
      "Iteration 14/74 of epoch 14 complete. Loss : 0.18736491671630315 \n"
     ]
    },
    {
     "output_type": "stream",
     "name": "stderr",
     "text": [
      " 58%|█████▊    | 43/74 [00:00<00:00, 122.80it/s]"
     ]
    },
    {
     "output_type": "stream",
     "name": "stdout",
     "text": [
      "\n",
      "Iteration 28/74 of epoch 14 complete. Loss : 0.18388741995607102 \n",
      "\n",
      "Iteration 42/74 of epoch 14 complete. Loss : 0.18139837575810297 \n"
     ]
    },
    {
     "output_type": "stream",
     "name": "stderr",
     "text": [
      "100%|██████████| 74/74 [00:00<00:00, 119.42it/s]\n",
      "  0%|          | 0/19 [00:00<?, ?it/s]"
     ]
    },
    {
     "output_type": "stream",
     "name": "stdout",
     "text": [
      "\n",
      "Iteration 56/74 of epoch 14 complete. Loss : 0.17974283599427768 \n",
      "\n",
      "Iteration 70/74 of epoch 14 complete. Loss : 0.17654279619455338 \n"
     ]
    },
    {
     "output_type": "stream",
     "name": "stderr",
     "text": [
      "100%|██████████| 19/19 [00:00<00:00, 165.79it/s]\n",
      " 12%|█▏        | 9/74 [00:00<00:00, 85.26it/s]"
     ]
    },
    {
     "output_type": "stream",
     "name": "stdout",
     "text": [
      "\n",
      "Epoch 14 complete! Validation Loss : 0.3751036054209659\n",
      "Epoch 14 complete! Validation Accuracy : 0.8263322368421053\n",
      "Best validation loss improved from 0.37626456430083827 to 0.3751036054209659\n",
      "\n",
      "\n",
      "Iteration 14/74 of epoch 15 complete. Loss : 0.18649919437510626 \n"
     ]
    },
    {
     "output_type": "stream",
     "name": "stderr",
     "text": [
      " 59%|█████▉    | 44/74 [00:00<00:00, 97.40it/s] "
     ]
    },
    {
     "output_type": "stream",
     "name": "stdout",
     "text": [
      "\n",
      "Iteration 28/74 of epoch 15 complete. Loss : 0.1831486714737756 \n",
      "\n",
      "Iteration 42/74 of epoch 15 complete. Loss : 0.1806742793747357 \n"
     ]
    },
    {
     "output_type": "stream",
     "name": "stderr",
     "text": [
      "100%|██████████| 74/74 [00:00<00:00, 127.65it/s]\n",
      "100%|██████████| 19/19 [00:00<00:00, 288.35it/s]"
     ]
    },
    {
     "output_type": "stream",
     "name": "stdout",
     "text": [
      "\n",
      "Iteration 56/74 of epoch 15 complete. Loss : 0.17907395799245154 \n",
      "\n",
      "Iteration 70/74 of epoch 15 complete. Loss : 0.17579177767038345 \n"
     ]
    },
    {
     "output_type": "stream",
     "name": "stderr",
     "text": [
      "\n",
      " 24%|██▍       | 18/74 [00:00<00:00, 173.17it/s]"
     ]
    },
    {
     "output_type": "stream",
     "name": "stdout",
     "text": [
      "\n",
      "Epoch 15 complete! Validation Loss : 0.37399764751133163\n",
      "Epoch 15 complete! Validation Accuracy : 0.8275657894736842\n",
      "Best validation loss improved from 0.3751036054209659 to 0.37399764751133163\n",
      "\n",
      "\n",
      "Iteration 14/74 of epoch 16 complete. Loss : 0.1856676670057433 \n",
      "\n",
      "Iteration 28/74 of epoch 16 complete. Loss : 0.1824918964079448 \n"
     ]
    },
    {
     "output_type": "stream",
     "name": "stderr",
     "text": [
      "100%|██████████| 74/74 [00:00<00:00, 173.51it/s]\n",
      "  0%|          | 0/19 [00:00<?, ?it/s]"
     ]
    },
    {
     "output_type": "stream",
     "name": "stdout",
     "text": [
      "\n",
      "Iteration 42/74 of epoch 16 complete. Loss : 0.17999311962297984 \n",
      "\n",
      "Iteration 56/74 of epoch 16 complete. Loss : 0.17847818934491702 \n",
      "\n",
      "Iteration 70/74 of epoch 16 complete. Loss : 0.17512040798153197 \n"
     ]
    },
    {
     "output_type": "stream",
     "name": "stderr",
     "text": [
      "100%|██████████| 19/19 [00:00<00:00, 309.00it/s]\n",
      " 22%|██▏       | 16/74 [00:00<00:00, 151.51it/s]"
     ]
    },
    {
     "output_type": "stream",
     "name": "stdout",
     "text": [
      "\n",
      "Epoch 16 complete! Validation Loss : 0.37293488257809687\n",
      "Epoch 16 complete! Validation Accuracy : 0.8267434210526317\n",
      "Best validation loss improved from 0.37399764751133163 to 0.37293488257809687\n",
      "\n",
      "\n",
      "Iteration 14/74 of epoch 17 complete. Loss : 0.18480066422905242 \n"
     ]
    },
    {
     "output_type": "stream",
     "name": "stderr",
     "text": [
      " 68%|██████▊   | 50/74 [00:00<00:00, 121.35it/s]"
     ]
    },
    {
     "output_type": "stream",
     "name": "stdout",
     "text": [
      "\n",
      "Iteration 28/74 of epoch 17 complete. Loss : 0.18173042684793472 \n",
      "\n",
      "Iteration 42/74 of epoch 17 complete. Loss : 0.1792174737368311 \n"
     ]
    },
    {
     "output_type": "stream",
     "name": "stderr",
     "text": [
      "100%|██████████| 74/74 [00:00<00:00, 122.06it/s]\n",
      "  0%|          | 0/19 [00:00<?, ?it/s]"
     ]
    },
    {
     "output_type": "stream",
     "name": "stdout",
     "text": [
      "\n",
      "Iteration 56/74 of epoch 17 complete. Loss : 0.17782962694764137 \n",
      "\n",
      "Iteration 70/74 of epoch 17 complete. Loss : 0.174547050680433 \n"
     ]
    },
    {
     "output_type": "stream",
     "name": "stderr",
     "text": [
      "100%|██████████| 19/19 [00:00<00:00, 124.65it/s]\n",
      "  7%|▋         | 5/74 [00:00<00:01, 48.96it/s]"
     ]
    },
    {
     "output_type": "stream",
     "name": "stdout",
     "text": [
      "\n",
      "Epoch 17 complete! Validation Loss : 0.37176212825273214\n",
      "Epoch 17 complete! Validation Accuracy : 0.8250986842105263\n",
      "Best validation loss improved from 0.37293488257809687 to 0.37176212825273214\n",
      "\n",
      "\n",
      "Iteration 14/74 of epoch 18 complete. Loss : 0.18409432683672225 \n"
     ]
    },
    {
     "output_type": "stream",
     "name": "stderr",
     "text": [
      " 55%|█████▌    | 41/74 [00:00<00:00, 74.57it/s]"
     ]
    },
    {
     "output_type": "stream",
     "name": "stdout",
     "text": [
      "\n",
      "Iteration 28/74 of epoch 18 complete. Loss : 0.18112260422536305 \n",
      "\n",
      "Iteration 42/74 of epoch 18 complete. Loss : 0.1786180372749056 \n"
     ]
    },
    {
     "output_type": "stream",
     "name": "stderr",
     "text": [
      "100%|██████████| 74/74 [00:00<00:00, 124.86it/s]\n",
      "  0%|          | 0/19 [00:00<?, ?it/s]"
     ]
    },
    {
     "output_type": "stream",
     "name": "stdout",
     "text": [
      "\n",
      "Iteration 56/74 of epoch 18 complete. Loss : 0.17736482567020825 \n",
      "\n",
      "Iteration 70/74 of epoch 18 complete. Loss : 0.1739570594259671 \n"
     ]
    },
    {
     "output_type": "stream",
     "name": "stderr",
     "text": [
      "100%|██████████| 19/19 [00:00<00:00, 171.16it/s]\n",
      " 14%|█▎        | 10/74 [00:00<00:00, 95.99it/s]"
     ]
    },
    {
     "output_type": "stream",
     "name": "stdout",
     "text": [
      "\n",
      "Epoch 18 complete! Validation Loss : 0.3705718564359765\n",
      "Epoch 18 complete! Validation Accuracy : 0.8261019736842105\n",
      "Best validation loss improved from 0.37176212825273214 to 0.3705718564359765\n",
      "\n",
      "\n",
      "Iteration 14/74 of epoch 19 complete. Loss : 0.18329480503286635 \n"
     ]
    },
    {
     "output_type": "stream",
     "name": "stderr",
     "text": [
      " 81%|████████  | 60/74 [00:00<00:00, 130.43it/s]"
     ]
    },
    {
     "output_type": "stream",
     "name": "stdout",
     "text": [
      "\n",
      "Iteration 28/74 of epoch 19 complete. Loss : 0.18053932275090898 \n",
      "\n",
      "Iteration 42/74 of epoch 19 complete. Loss : 0.17798778734036855 \n",
      "\n",
      "Iteration 56/74 of epoch 19 complete. Loss : 0.1768297255039215 \n"
     ]
    },
    {
     "output_type": "stream",
     "name": "stderr",
     "text": [
      "100%|██████████| 74/74 [00:00<00:00, 146.74it/s]\n",
      "100%|██████████| 19/19 [00:00<00:00, 279.04it/s]\n",
      "  0%|          | 0/74 [00:00<?, ?it/s]"
     ]
    },
    {
     "output_type": "stream",
     "name": "stdout",
     "text": [
      "\n",
      "Iteration 70/74 of epoch 19 complete. Loss : 0.17343668320349284 \n",
      "\n",
      "Epoch 19 complete! Validation Loss : 0.3694743843455064\n",
      "Epoch 19 complete! Validation Accuracy : 0.8277467105263158\n",
      "Best validation loss improved from 0.3705718564359765 to 0.3694743843455064\n",
      "\n"
     ]
    },
    {
     "output_type": "stream",
     "name": "stderr",
     "text": [
      " 43%|████▎     | 32/74 [00:00<00:00, 139.99it/s]"
     ]
    },
    {
     "output_type": "stream",
     "name": "stdout",
     "text": [
      "\n",
      "Iteration 14/74 of epoch 20 complete. Loss : 0.18259085980909212 \n",
      "\n",
      "Iteration 28/74 of epoch 20 complete. Loss : 0.18010310935122625 \n",
      "\n",
      "Iteration 42/74 of epoch 20 complete. Loss : 0.17739873911653245 \n"
     ]
    },
    {
     "output_type": "stream",
     "name": "stderr",
     "text": [
      " 95%|█████████▍| 70/74 [00:00<00:00, 98.53it/s] "
     ]
    },
    {
     "output_type": "stream",
     "name": "stdout",
     "text": [
      "\n",
      "Iteration 56/74 of epoch 20 complete. Loss : 0.1763706345643316 \n",
      "\n",
      "Iteration 70/74 of epoch 20 complete. Loss : 0.17304545960256032 \n"
     ]
    },
    {
     "output_type": "stream",
     "name": "stderr",
     "text": [
      "100%|██████████| 74/74 [00:00<00:00, 118.22it/s]\n",
      "100%|██████████| 19/19 [00:00<00:00, 280.78it/s]\n",
      " 31%|███       | 23/74 [00:00<00:00, 214.54it/s]"
     ]
    },
    {
     "output_type": "stream",
     "name": "stdout",
     "text": [
      "\n",
      "Epoch 20 complete! Validation Loss : 0.368636197165439\n",
      "Epoch 20 complete! Validation Accuracy : 0.8285690789473684\n",
      "Best validation loss improved from 0.3694743843455064 to 0.368636197165439\n",
      "\n",
      "\n",
      "Iteration 14/74 of epoch 21 complete. Loss : 0.18204409735543386 \n",
      "\n",
      "Iteration 28/74 of epoch 21 complete. Loss : 0.17969671849693572 \n"
     ]
    },
    {
     "output_type": "stream",
     "name": "stderr",
     "text": [
      " 78%|███████▊  | 58/74 [00:00<00:00, 133.42it/s]"
     ]
    },
    {
     "output_type": "stream",
     "name": "stdout",
     "text": [
      "\n",
      "Iteration 42/74 of epoch 21 complete. Loss : 0.1768803351691791 \n",
      "\n",
      "Iteration 56/74 of epoch 21 complete. Loss : 0.17601476024304116 \n"
     ]
    },
    {
     "output_type": "stream",
     "name": "stderr",
     "text": [
      "100%|██████████| 74/74 [00:00<00:00, 130.73it/s]\n",
      "100%|██████████| 19/19 [00:00<00:00, 164.29it/s]"
     ]
    },
    {
     "output_type": "stream",
     "name": "stdout",
     "text": [
      "\n",
      "Iteration 70/74 of epoch 21 complete. Loss : 0.17266116823468888 \n"
     ]
    },
    {
     "output_type": "stream",
     "name": "stderr",
     "text": [
      "\n",
      " 20%|██        | 15/74 [00:00<00:00, 138.22it/s]"
     ]
    },
    {
     "output_type": "stream",
     "name": "stdout",
     "text": [
      "\n",
      "Epoch 21 complete! Validation Loss : 0.3679750781310232\n",
      "Epoch 21 complete! Validation Accuracy : 0.8289802631578947\n",
      "Best validation loss improved from 0.368636197165439 to 0.3679750781310232\n",
      "\n",
      "\n",
      "Iteration 14/74 of epoch 22 complete. Loss : 0.18165775122387068 \n",
      "\n",
      "Iteration 28/74 of epoch 22 complete. Loss : 0.17932392018181936 \n"
     ]
    },
    {
     "output_type": "stream",
     "name": "stderr",
     "text": [
      "100%|██████████| 74/74 [00:00<00:00, 141.52it/s]"
     ]
    },
    {
     "output_type": "stream",
     "name": "stdout",
     "text": [
      "\n",
      "Iteration 42/74 of epoch 22 complete. Loss : 0.176480304981981 \n",
      "\n",
      "Iteration 56/74 of epoch 22 complete. Loss : 0.17571795359253883 \n",
      "\n",
      "Iteration 70/74 of epoch 22 complete. Loss : 0.1723167481166976 \n"
     ]
    },
    {
     "output_type": "stream",
     "name": "stderr",
     "text": [
      "\n",
      "100%|██████████| 19/19 [00:00<00:00, 162.07it/s]\n",
      " 15%|█▍        | 11/74 [00:00<00:00, 102.48it/s]"
     ]
    },
    {
     "output_type": "stream",
     "name": "stdout",
     "text": [
      "\n",
      "Epoch 22 complete! Validation Loss : 0.36744780132645055\n",
      "Epoch 22 complete! Validation Accuracy : 0.8285690789473684\n",
      "Best validation loss improved from 0.3679750781310232 to 0.36744780132645055\n",
      "\n",
      "\n",
      "Iteration 14/74 of epoch 23 complete. Loss : 0.1812467665544578 \n"
     ]
    },
    {
     "output_type": "stream",
     "name": "stderr",
     "text": [
      " 73%|███████▎  | 54/74 [00:00<00:00, 124.26it/s]"
     ]
    },
    {
     "output_type": "stream",
     "name": "stdout",
     "text": [
      "\n",
      "Iteration 28/74 of epoch 23 complete. Loss : 0.17896436687026704 \n",
      "\n",
      "Iteration 42/74 of epoch 23 complete. Loss : 0.17613392642566136 \n",
      "\n",
      "Iteration 56/74 of epoch 23 complete. Loss : 0.17540784659130232 \n"
     ]
    },
    {
     "output_type": "stream",
     "name": "stderr",
     "text": [
      "100%|██████████| 74/74 [00:00<00:00, 137.49it/s]\n",
      "100%|██████████| 19/19 [00:00<00:00, 393.36it/s]\n",
      "  0%|          | 0/74 [00:00<?, ?it/s]"
     ]
    },
    {
     "output_type": "stream",
     "name": "stdout",
     "text": [
      "\n",
      "Iteration 70/74 of epoch 23 complete. Loss : 0.17206535275493348 \n",
      "\n",
      "Epoch 23 complete! Validation Loss : 0.36679130322054815\n",
      "Epoch 23 complete! Validation Accuracy : 0.8293914473684211\n",
      "Best validation loss improved from 0.36744780132645055 to 0.36679130322054815\n",
      "\n",
      "\n",
      "Iteration 14/74 of epoch 24 complete. Loss : 0.18086869003517286 \n"
     ]
    },
    {
     "output_type": "stream",
     "name": "stderr",
     "text": [
      " 53%|█████▎    | 39/74 [00:00<00:00, 81.99it/s]"
     ]
    },
    {
     "output_type": "stream",
     "name": "stdout",
     "text": [
      "\n",
      "Iteration 28/74 of epoch 24 complete. Loss : 0.17864160984754562 \n"
     ]
    },
    {
     "output_type": "stream",
     "name": "stderr",
     "text": [
      " 89%|████████▉ | 66/74 [00:00<00:00, 100.46it/s]"
     ]
    },
    {
     "output_type": "stream",
     "name": "stdout",
     "text": [
      "\n",
      "Iteration 42/74 of epoch 24 complete. Loss : 0.17573603349072592 \n",
      "\n",
      "Iteration 56/74 of epoch 24 complete. Loss : 0.17510279374463217 \n",
      "\n",
      "Iteration 70/74 of epoch 24 complete. Loss : 0.1717538663319179 \n"
     ]
    },
    {
     "output_type": "stream",
     "name": "stderr",
     "text": [
      "100%|██████████| 74/74 [00:00<00:00, 106.20it/s]\n",
      "100%|██████████| 19/19 [00:00<00:00, 233.02it/s]\n",
      " 35%|███▌      | 26/74 [00:00<00:00, 241.72it/s]"
     ]
    },
    {
     "output_type": "stream",
     "name": "stdout",
     "text": [
      "\n",
      "Epoch 24 complete! Validation Loss : 0.36619114248376144\n",
      "Epoch 24 complete! Validation Accuracy : 0.8293914473684211\n",
      "Best validation loss improved from 0.36679130322054815 to 0.36619114248376144\n",
      "\n",
      "\n",
      "Iteration 14/74 of epoch 25 complete. Loss : 0.1805046104959079 \n",
      "\n",
      "Iteration 28/74 of epoch 25 complete. Loss : 0.1783738679119519 \n"
     ]
    },
    {
     "output_type": "stream",
     "name": "stderr",
     "text": [
      " 68%|██████▊   | 50/74 [00:00<00:00, 152.65it/s]"
     ]
    },
    {
     "output_type": "stream",
     "name": "stdout",
     "text": [
      "\n",
      "Iteration 42/74 of epoch 25 complete. Loss : 0.17541580966540746 \n",
      "\n",
      "Iteration 56/74 of epoch 25 complete. Loss : 0.17476867405431612 \n"
     ]
    },
    {
     "output_type": "stream",
     "name": "stderr",
     "text": [
      "100%|██████████| 74/74 [00:00<00:00, 124.80it/s]\n",
      "100%|██████████| 19/19 [00:00<00:00, 289.41it/s]"
     ]
    },
    {
     "output_type": "stream",
     "name": "stdout",
     "text": [
      "\n",
      "Iteration 70/74 of epoch 25 complete. Loss : 0.17148109631878988 \n"
     ]
    },
    {
     "output_type": "stream",
     "name": "stderr",
     "text": [
      "\n",
      " 12%|█▏        | 9/74 [00:00<00:00, 85.79it/s]"
     ]
    },
    {
     "output_type": "stream",
     "name": "stdout",
     "text": [
      "\n",
      "Epoch 25 complete! Validation Loss : 0.36557606646889135\n",
      "Epoch 25 complete! Validation Accuracy : 0.8285690789473684\n",
      "Best validation loss improved from 0.36619114248376144 to 0.36557606646889135\n",
      "\n",
      "\n",
      "Iteration 14/74 of epoch 26 complete. Loss : 0.18031746308718408 \n"
     ]
    },
    {
     "output_type": "stream",
     "name": "stderr",
     "text": [
      " 50%|█████     | 37/74 [00:00<00:00, 77.96it/s]"
     ]
    },
    {
     "output_type": "stream",
     "name": "stdout",
     "text": [
      "\n",
      "Iteration 28/74 of epoch 26 complete. Loss : 0.17806224950722285 \n"
     ]
    },
    {
     "output_type": "stream",
     "name": "stderr",
     "text": [
      " 70%|███████   | 52/74 [00:00<00:00, 71.11it/s]"
     ]
    },
    {
     "output_type": "stream",
     "name": "stdout",
     "text": [
      "\n",
      "Iteration 42/74 of epoch 26 complete. Loss : 0.1751262950045722 \n",
      "\n",
      "Iteration 56/74 of epoch 26 complete. Loss : 0.17453738461647714 \n"
     ]
    },
    {
     "output_type": "stream",
     "name": "stderr",
     "text": [
      "100%|██████████| 74/74 [00:00<00:00, 84.84it/s]\n",
      "100%|██████████| 19/19 [00:00<00:00, 147.06it/s]"
     ]
    },
    {
     "output_type": "stream",
     "name": "stdout",
     "text": [
      "\n",
      "Iteration 70/74 of epoch 26 complete. Loss : 0.17121638570513045 \n"
     ]
    },
    {
     "output_type": "stream",
     "name": "stderr",
     "text": [
      "\n",
      " 16%|█▌        | 12/74 [00:00<00:00, 114.55it/s]"
     ]
    },
    {
     "output_type": "stream",
     "name": "stdout",
     "text": [
      "\n",
      "Epoch 26 complete! Validation Loss : 0.3652133518143704\n",
      "Epoch 26 complete! Validation Accuracy : 0.8289802631578947\n",
      "Best validation loss improved from 0.36557606646889135 to 0.3652133518143704\n",
      "\n",
      "\n",
      "Iteration 14/74 of epoch 27 complete. Loss : 0.17993969044515065 \n"
     ]
    },
    {
     "output_type": "stream",
     "name": "stderr",
     "text": [
      " 62%|██████▏   | 46/74 [00:00<00:00, 111.45it/s]"
     ]
    },
    {
     "output_type": "stream",
     "name": "stdout",
     "text": [
      "\n",
      "Iteration 28/74 of epoch 27 complete. Loss : 0.1778345565710749 \n",
      "\n",
      "Iteration 42/74 of epoch 27 complete. Loss : 0.17478223783629282 \n"
     ]
    },
    {
     "output_type": "stream",
     "name": "stderr",
     "text": [
      "100%|██████████| 74/74 [00:00<00:00, 111.20it/s]\n",
      "  0%|          | 0/19 [00:00<?, ?it/s]"
     ]
    },
    {
     "output_type": "stream",
     "name": "stdout",
     "text": [
      "\n",
      "Iteration 56/74 of epoch 27 complete. Loss : 0.1742807493678161 \n",
      "\n",
      "Iteration 70/74 of epoch 27 complete. Loss : 0.17102418839931488 \n"
     ]
    },
    {
     "output_type": "stream",
     "name": "stderr",
     "text": [
      "100%|██████████| 19/19 [00:00<00:00, 147.87it/s]\n",
      " 16%|█▌        | 12/74 [00:00<00:00, 111.01it/s]"
     ]
    },
    {
     "output_type": "stream",
     "name": "stdout",
     "text": [
      "\n",
      "Epoch 27 complete! Validation Loss : 0.36475851033863266\n",
      "Epoch 27 complete! Validation Accuracy : 0.8289802631578947\n",
      "Best validation loss improved from 0.3652133518143704 to 0.36475851033863266\n",
      "\n",
      "\n",
      "Iteration 14/74 of epoch 28 complete. Loss : 0.1796401882810252 \n"
     ]
    },
    {
     "output_type": "stream",
     "name": "stderr",
     "text": [
      " 62%|██████▏   | 46/74 [00:00<00:00, 108.57it/s]"
     ]
    },
    {
     "output_type": "stream",
     "name": "stdout",
     "text": [
      "\n",
      "Iteration 28/74 of epoch 28 complete. Loss : 0.1775898944054331 \n",
      "\n",
      "Iteration 42/74 of epoch 28 complete. Loss : 0.17449333731617248 \n"
     ]
    },
    {
     "output_type": "stream",
     "name": "stderr",
     "text": [
      "100%|██████████| 74/74 [00:00<00:00, 109.75it/s]\n",
      "  0%|          | 0/19 [00:00<?, ?it/s]"
     ]
    },
    {
     "output_type": "stream",
     "name": "stdout",
     "text": [
      "\n",
      "Iteration 56/74 of epoch 28 complete. Loss : 0.1740220854324954 \n",
      "\n",
      "Iteration 70/74 of epoch 28 complete. Loss : 0.1707150521022933 \n"
     ]
    },
    {
     "output_type": "stream",
     "name": "stderr",
     "text": [
      "100%|██████████| 19/19 [00:00<00:00, 395.94it/s]\n",
      " 31%|███       | 23/74 [00:00<00:00, 224.26it/s]"
     ]
    },
    {
     "output_type": "stream",
     "name": "stdout",
     "text": [
      "\n",
      "Epoch 28 complete! Validation Loss : 0.36441085369963394\n",
      "Epoch 28 complete! Validation Accuracy : 0.8289802631578947\n",
      "Best validation loss improved from 0.36475851033863266 to 0.36441085369963394\n",
      "\n",
      "\n",
      "Iteration 14/74 of epoch 29 complete. Loss : 0.17927774680512293 \n",
      "\n",
      "Iteration 28/74 of epoch 29 complete. Loss : 0.17738020313637598 \n"
     ]
    },
    {
     "output_type": "stream",
     "name": "stderr",
     "text": [
      "100%|██████████| 74/74 [00:00<00:00, 183.02it/s]\n",
      "  0%|          | 0/19 [00:00<?, ?it/s]"
     ]
    },
    {
     "output_type": "stream",
     "name": "stdout",
     "text": [
      "\n",
      "Iteration 42/74 of epoch 29 complete. Loss : 0.1742346159049443 \n",
      "\n",
      "Iteration 56/74 of epoch 29 complete. Loss : 0.17377486558897154 \n",
      "\n",
      "Iteration 70/74 of epoch 29 complete. Loss : 0.17049752175807953 \n"
     ]
    },
    {
     "output_type": "stream",
     "name": "stderr",
     "text": [
      "100%|██████████| 19/19 [00:00<00:00, 359.25it/s]\n",
      " 30%|██▉       | 22/74 [00:00<00:00, 219.28it/s]"
     ]
    },
    {
     "output_type": "stream",
     "name": "stdout",
     "text": [
      "\n",
      "Epoch 29 complete! Validation Loss : 0.3640213734225223\n",
      "Epoch 29 complete! Validation Accuracy : 0.8289802631578947\n",
      "Best validation loss improved from 0.36441085369963394 to 0.3640213734225223\n",
      "\n",
      "\n",
      "Iteration 14/74 of epoch 30 complete. Loss : 0.1789737886616162 \n",
      "\n",
      "Iteration 28/74 of epoch 30 complete. Loss : 0.17716156478439057 \n"
     ]
    },
    {
     "output_type": "stream",
     "name": "stderr",
     "text": [
      "100%|██████████| 74/74 [00:00<00:00, 193.69it/s]\n",
      "  0%|          | 0/19 [00:00<?, ?it/s]"
     ]
    },
    {
     "output_type": "stream",
     "name": "stdout",
     "text": [
      "\n",
      "Iteration 42/74 of epoch 30 complete. Loss : 0.17402488312550954 \n",
      "\n",
      "Iteration 56/74 of epoch 30 complete. Loss : 0.173550512109484 \n",
      "\n",
      "Iteration 70/74 of epoch 30 complete. Loss : 0.17028743880135672 \n"
     ]
    },
    {
     "output_type": "stream",
     "name": "stderr",
     "text": [
      "100%|██████████| 19/19 [00:00<00:00, 76.41it/s]\n",
      " 12%|█▏        | 9/74 [00:00<00:00, 86.11it/s]"
     ]
    },
    {
     "output_type": "stream",
     "name": "stdout",
     "text": [
      "\n",
      "Epoch 30 complete! Validation Loss : 0.3637356852230273\n",
      "Epoch 30 complete! Validation Accuracy : 0.8289802631578947\n",
      "Best validation loss improved from 0.3640213734225223 to 0.3637356852230273\n",
      "\n",
      "\n",
      "Iteration 14/74 of epoch 31 complete. Loss : 0.17873386559741838 \n"
     ]
    },
    {
     "output_type": "stream",
     "name": "stderr",
     "text": [
      "100%|██████████| 74/74 [00:00<00:00, 153.83it/s]\n",
      "  0%|          | 0/19 [00:00<?, ?it/s]"
     ]
    },
    {
     "output_type": "stream",
     "name": "stdout",
     "text": [
      "\n",
      "Iteration 28/74 of epoch 31 complete. Loss : 0.17695553920098714 \n",
      "\n",
      "Iteration 42/74 of epoch 31 complete. Loss : 0.17381315039736883 \n",
      "\n",
      "Iteration 56/74 of epoch 31 complete. Loss : 0.17333388913955008 \n",
      "\n",
      "Iteration 70/74 of epoch 31 complete. Loss : 0.1701016053557396 \n"
     ]
    },
    {
     "output_type": "stream",
     "name": "stderr",
     "text": [
      "100%|██████████| 19/19 [00:00<00:00, 479.91it/s]\n",
      " 38%|███▊      | 28/74 [00:00<00:00, 275.58it/s]"
     ]
    },
    {
     "output_type": "stream",
     "name": "stdout",
     "text": [
      "\n",
      "Epoch 31 complete! Validation Loss : 0.3634265018136878\n",
      "Epoch 31 complete! Validation Accuracy : 0.8298026315789473\n",
      "Best validation loss improved from 0.3637356852230273 to 0.3634265018136878\n",
      "\n",
      "\n",
      "Iteration 14/74 of epoch 32 complete. Loss : 0.17851821812135832 \n",
      "\n",
      "Iteration 28/74 of epoch 32 complete. Loss : 0.1767630342926298 \n",
      "\n",
      "Iteration 42/74 of epoch 32 complete. Loss : 0.17361098208597728 \n"
     ]
    },
    {
     "output_type": "stream",
     "name": "stderr",
     "text": [
      "100%|██████████| 74/74 [00:00<00:00, 193.01it/s]\n",
      "  0%|          | 0/19 [00:00<?, ?it/s]"
     ]
    },
    {
     "output_type": "stream",
     "name": "stdout",
     "text": [
      "\n",
      "Iteration 56/74 of epoch 32 complete. Loss : 0.1731304627444063 \n",
      "\n",
      "Iteration 70/74 of epoch 32 complete. Loss : 0.1699174546769687 \n"
     ]
    },
    {
     "output_type": "stream",
     "name": "stderr",
     "text": [
      "100%|██████████| 19/19 [00:00<00:00, 149.09it/s]\n",
      " 16%|█▌        | 12/74 [00:00<00:00, 113.97it/s]"
     ]
    },
    {
     "output_type": "stream",
     "name": "stdout",
     "text": [
      "\n",
      "Epoch 32 complete! Validation Loss : 0.36311151636274236\n",
      "Epoch 32 complete! Validation Accuracy : 0.8310361842105263\n",
      "Best validation loss improved from 0.3634265018136878 to 0.36311151636274236\n",
      "\n",
      "\n",
      "Iteration 14/74 of epoch 33 complete. Loss : 0.17829900979995728 \n"
     ]
    },
    {
     "output_type": "stream",
     "name": "stderr",
     "text": [
      " 62%|██████▏   | 46/74 [00:00<00:00, 110.71it/s]"
     ]
    },
    {
     "output_type": "stream",
     "name": "stdout",
     "text": [
      "\n",
      "Iteration 28/74 of epoch 33 complete. Loss : 0.17657525411673955 \n",
      "\n",
      "Iteration 42/74 of epoch 33 complete. Loss : 0.17337206431797572 \n"
     ]
    },
    {
     "output_type": "stream",
     "name": "stderr",
     "text": [
      "100%|██████████| 74/74 [00:00<00:00, 110.49it/s]\n",
      "  0%|          | 0/19 [00:00<?, ?it/s]"
     ]
    },
    {
     "output_type": "stream",
     "name": "stdout",
     "text": [
      "\n",
      "Iteration 56/74 of epoch 33 complete. Loss : 0.1729143884565149 \n",
      "\n",
      "Iteration 70/74 of epoch 33 complete. Loss : 0.16966064274311066 \n"
     ]
    },
    {
     "output_type": "stream",
     "name": "stderr",
     "text": [
      "100%|██████████| 19/19 [00:00<00:00, 139.11it/s]\n",
      " 15%|█▍        | 11/74 [00:00<00:00, 102.40it/s]"
     ]
    },
    {
     "output_type": "stream",
     "name": "stdout",
     "text": [
      "\n",
      "Epoch 33 complete! Validation Loss : 0.36277935536284195\n",
      "Epoch 33 complete! Validation Accuracy : 0.8310361842105263\n",
      "Best validation loss improved from 0.36311151636274236 to 0.36277935536284195\n",
      "\n",
      "\n",
      "Iteration 14/74 of epoch 34 complete. Loss : 0.178090723497527 \n"
     ]
    },
    {
     "output_type": "stream",
     "name": "stderr",
     "text": [
      " 57%|█████▋    | 42/74 [00:00<00:00, 93.46it/s] "
     ]
    },
    {
     "output_type": "stream",
     "name": "stdout",
     "text": [
      "\n",
      "Iteration 28/74 of epoch 34 complete. Loss : 0.17638721849237168 \n",
      "\n",
      "Iteration 42/74 of epoch 34 complete. Loss : 0.17317359468766622 \n"
     ]
    },
    {
     "output_type": "stream",
     "name": "stderr",
     "text": [
      "100%|██████████| 74/74 [00:00<00:00, 89.47it/s]\n",
      "  0%|          | 0/19 [00:00<?, ?it/s]"
     ]
    },
    {
     "output_type": "stream",
     "name": "stdout",
     "text": [
      "\n",
      "Iteration 56/74 of epoch 34 complete. Loss : 0.17271321852292335 \n",
      "\n",
      "Iteration 70/74 of epoch 34 complete. Loss : 0.16951869428157806 \n"
     ]
    },
    {
     "output_type": "stream",
     "name": "stderr",
     "text": [
      "100%|██████████| 19/19 [00:00<00:00, 120.37it/s]\n",
      " 15%|█▍        | 11/74 [00:00<00:00, 107.53it/s]"
     ]
    },
    {
     "output_type": "stream",
     "name": "stdout",
     "text": [
      "\n",
      "Epoch 34 complete! Validation Loss : 0.3625018235884215\n",
      "Epoch 34 complete! Validation Accuracy : 0.8310361842105263\n",
      "Best validation loss improved from 0.36277935536284195 to 0.3625018235884215\n",
      "\n",
      "\n",
      "Iteration 14/74 of epoch 35 complete. Loss : 0.17790536050285613 \n"
     ]
    },
    {
     "output_type": "stream",
     "name": "stderr",
     "text": [
      " 68%|██████▊   | 50/74 [00:00<00:00, 118.89it/s]"
     ]
    },
    {
     "output_type": "stream",
     "name": "stdout",
     "text": [
      "\n",
      "Iteration 28/74 of epoch 35 complete. Loss : 0.17617836807455337 \n",
      "\n",
      "Iteration 42/74 of epoch 35 complete. Loss : 0.1729765965470246 \n",
      "\n",
      "Iteration 56/74 of epoch 35 complete. Loss : 0.17252777516841888 \n"
     ]
    },
    {
     "output_type": "stream",
     "name": "stderr",
     "text": [
      "100%|██████████| 74/74 [00:00<00:00, 133.02it/s]\n",
      "100%|██████████| 19/19 [00:00<00:00, 293.49it/s]"
     ]
    },
    {
     "output_type": "stream",
     "name": "stdout",
     "text": [
      "\n",
      "Iteration 70/74 of epoch 35 complete. Loss : 0.16932164345468795 \n"
     ]
    },
    {
     "output_type": "stream",
     "name": "stderr",
     "text": [
      "\n",
      " 34%|███▍      | 25/74 [00:00<00:00, 238.47it/s]"
     ]
    },
    {
     "output_type": "stream",
     "name": "stdout",
     "text": [
      "\n",
      "Epoch 35 complete! Validation Loss : 0.3622548642911409\n",
      "Epoch 35 complete! Validation Accuracy : 0.8310361842105263\n",
      "Best validation loss improved from 0.3625018235884215 to 0.3622548642911409\n",
      "\n",
      "\n",
      "Iteration 14/74 of epoch 36 complete. Loss : 0.17770838471395628 \n",
      "\n",
      "Iteration 28/74 of epoch 36 complete. Loss : 0.17599477831806457 \n"
     ]
    },
    {
     "output_type": "stream",
     "name": "stderr",
     "text": [
      "100%|██████████| 74/74 [00:00<00:00, 208.16it/s]\n",
      "100%|██████████| 19/19 [00:00<00:00, 372.25it/s]"
     ]
    },
    {
     "output_type": "stream",
     "name": "stdout",
     "text": [
      "\n",
      "Iteration 42/74 of epoch 36 complete. Loss : 0.1728279904595443 \n",
      "\n",
      "Iteration 56/74 of epoch 36 complete. Loss : 0.17235530274254934 \n",
      "\n",
      "Iteration 70/74 of epoch 36 complete. Loss : 0.16915565196956908 \n"
     ]
    },
    {
     "output_type": "stream",
     "name": "stderr",
     "text": [
      "\n",
      " 15%|█▍        | 11/74 [00:00<00:00, 98.24it/s]"
     ]
    },
    {
     "output_type": "stream",
     "name": "stdout",
     "text": [
      "\n",
      "Epoch 36 complete! Validation Loss : 0.3620425211755853\n",
      "Epoch 36 complete! Validation Accuracy : 0.8318585526315789\n",
      "Best validation loss improved from 0.3622548642911409 to 0.3620425211755853\n",
      "\n",
      "\n",
      "Iteration 14/74 of epoch 37 complete. Loss : 0.1775215779032026 \n"
     ]
    },
    {
     "output_type": "stream",
     "name": "stderr",
     "text": [
      " 51%|█████▏    | 38/74 [00:00<00:00, 65.84it/s]"
     ]
    },
    {
     "output_type": "stream",
     "name": "stdout",
     "text": [
      "\n",
      "Iteration 28/74 of epoch 37 complete. Loss : 0.175836053277765 \n",
      "\n",
      "Iteration 42/74 of epoch 37 complete. Loss : 0.172637049640928 \n"
     ]
    },
    {
     "output_type": "stream",
     "name": "stderr",
     "text": [
      "100%|██████████| 74/74 [00:00<00:00, 91.92it/s]\n",
      "100%|██████████| 19/19 [00:00<00:00, 430.03it/s]\n"
     ]
    },
    {
     "output_type": "stream",
     "name": "stdout",
     "text": [
      "\n",
      "Iteration 56/74 of epoch 37 complete. Loss : 0.17225588272724832 \n",
      "\n",
      "Iteration 70/74 of epoch 37 complete. Loss : 0.16895761234419687 \n"
     ]
    },
    {
     "output_type": "stream",
     "name": "stderr",
     "text": [
      " 14%|█▎        | 10/74 [00:00<00:00, 90.58it/s]"
     ]
    },
    {
     "output_type": "stream",
     "name": "stdout",
     "text": [
      "\n",
      "Epoch 37 complete! Validation Loss : 0.3617847357925616\n",
      "Epoch 37 complete! Validation Accuracy : 0.8318585526315789\n",
      "Best validation loss improved from 0.3620425211755853 to 0.3617847357925616\n",
      "\n",
      "\n",
      "Iteration 14/74 of epoch 38 complete. Loss : 0.17733333366257803 \n"
     ]
    },
    {
     "output_type": "stream",
     "name": "stderr",
     "text": [
      " 59%|█████▉    | 44/74 [00:00<00:00, 99.97it/s]"
     ]
    },
    {
     "output_type": "stream",
     "name": "stdout",
     "text": [
      "\n",
      "Iteration 28/74 of epoch 38 complete. Loss : 0.17570599913597107 \n",
      "\n",
      "Iteration 42/74 of epoch 38 complete. Loss : 0.17252082750201225 \n",
      "\n",
      "Iteration 56/74 of epoch 38 complete. Loss : 0.1720897683075496 \n"
     ]
    },
    {
     "output_type": "stream",
     "name": "stderr",
     "text": [
      "100%|██████████| 74/74 [00:00<00:00, 121.64it/s]\n",
      "100%|██████████| 19/19 [00:00<00:00, 478.63it/s]\n",
      "  0%|          | 0/74 [00:00<?, ?it/s]"
     ]
    },
    {
     "output_type": "stream",
     "name": "stdout",
     "text": [
      "\n",
      "Iteration 70/74 of epoch 38 complete. Loss : 0.16881634507860457 \n",
      "\n",
      "Epoch 38 complete! Validation Loss : 0.3615959302375191\n",
      "Epoch 38 complete! Validation Accuracy : 0.8322697368421053\n",
      "Best validation loss improved from 0.3617847357925616 to 0.3615959302375191\n",
      "\n"
     ]
    },
    {
     "output_type": "stream",
     "name": "stderr",
     "text": [
      " 61%|██████    | 45/74 [00:00<00:00, 118.86it/s]"
     ]
    },
    {
     "output_type": "stream",
     "name": "stdout",
     "text": [
      "\n",
      "Iteration 14/74 of epoch 39 complete. Loss : 0.17714811435767583 \n",
      "\n",
      "Iteration 28/74 of epoch 39 complete. Loss : 0.17552180268934794 \n",
      "\n",
      "Iteration 42/74 of epoch 39 complete. Loss : 0.1724256096141679 \n"
     ]
    },
    {
     "output_type": "stream",
     "name": "stderr",
     "text": [
      "100%|██████████| 74/74 [00:00<00:00, 152.82it/s]\n",
      " 89%|████████▉ | 17/19 [00:00<00:00, 163.53it/s]"
     ]
    },
    {
     "output_type": "stream",
     "name": "stdout",
     "text": [
      "\n",
      "Iteration 56/74 of epoch 39 complete. Loss : 0.1719659667994295 \n",
      "\n",
      "Iteration 70/74 of epoch 39 complete. Loss : 0.16861433961561748 \n"
     ]
    },
    {
     "output_type": "stream",
     "name": "stderr",
     "text": [
      "100%|██████████| 19/19 [00:00<00:00, 158.48it/s]\n",
      "  9%|▉         | 7/74 [00:00<00:01, 61.28it/s]"
     ]
    },
    {
     "output_type": "stream",
     "name": "stdout",
     "text": [
      "\n",
      "Epoch 39 complete! Validation Loss : 0.3614129769174676\n",
      "Epoch 39 complete! Validation Accuracy : 0.8312171052631578\n",
      "Best validation loss improved from 0.3615959302375191 to 0.3614129769174676\n",
      "\n"
     ]
    },
    {
     "output_type": "stream",
     "name": "stderr",
     "text": [
      " 36%|███▋      | 27/74 [00:00<00:00, 73.04it/s]"
     ]
    },
    {
     "output_type": "stream",
     "name": "stdout",
     "text": [
      "\n",
      "Iteration 14/74 of epoch 40 complete. Loss : 0.1769768042223794 \n",
      "\n",
      "Iteration 28/74 of epoch 40 complete. Loss : 0.17541772233588354 \n"
     ]
    },
    {
     "output_type": "stream",
     "name": "stderr",
     "text": [
      "100%|██████████| 74/74 [00:00<00:00, 111.78it/s]\n",
      "  0%|          | 0/19 [00:00<?, ?it/s]"
     ]
    },
    {
     "output_type": "stream",
     "name": "stdout",
     "text": [
      "\n",
      "Iteration 42/74 of epoch 40 complete. Loss : 0.17216006719640323 \n",
      "\n",
      "Iteration 56/74 of epoch 40 complete. Loss : 0.17175829410552979 \n",
      "\n",
      "Iteration 70/74 of epoch 40 complete. Loss : 0.16847233367817743 \n"
     ]
    },
    {
     "output_type": "stream",
     "name": "stderr",
     "text": [
      "100%|██████████| 19/19 [00:00<00:00, 379.65it/s]\n",
      " 28%|██▊       | 21/74 [00:00<00:00, 198.31it/s]"
     ]
    },
    {
     "output_type": "stream",
     "name": "stdout",
     "text": [
      "\n",
      "Epoch 40 complete! Validation Loss : 0.3612518310546875\n",
      "Epoch 40 complete! Validation Accuracy : 0.8312171052631578\n",
      "Best validation loss improved from 0.3614129769174676 to 0.3612518310546875\n",
      "\n",
      "\n",
      "Iteration 14/74 of epoch 41 complete. Loss : 0.1768010322536741 \n"
     ]
    },
    {
     "output_type": "stream",
     "name": "stderr",
     "text": [
      " 55%|█████▌    | 41/74 [00:00<00:00, 116.58it/s]"
     ]
    },
    {
     "output_type": "stream",
     "name": "stdout",
     "text": [
      "\n",
      "Iteration 28/74 of epoch 41 complete. Loss : 0.17524232821805136 \n",
      "\n",
      "Iteration 42/74 of epoch 41 complete. Loss : 0.17203684896230698 \n",
      "\n",
      "Iteration 56/74 of epoch 41 complete. Loss : 0.17164823891861097 \n"
     ]
    },
    {
     "output_type": "stream",
     "name": "stderr",
     "text": [
      "100%|██████████| 74/74 [00:00<00:00, 148.68it/s]\n",
      "  0%|          | 0/19 [00:00<?, ?it/s]"
     ]
    },
    {
     "output_type": "stream",
     "name": "stdout",
     "text": [
      "\n",
      "Iteration 70/74 of epoch 41 complete. Loss : 0.16831144796950476 \n"
     ]
    },
    {
     "output_type": "stream",
     "name": "stderr",
     "text": [
      "100%|██████████| 19/19 [00:00<00:00, 53.29it/s]\n",
      " 15%|█▍        | 11/74 [00:00<00:00, 102.72it/s]"
     ]
    },
    {
     "output_type": "stream",
     "name": "stdout",
     "text": [
      "\n",
      "Epoch 41 complete! Validation Loss : 0.3610512300541526\n",
      "Epoch 41 complete! Validation Accuracy : 0.8324506578947368\n",
      "Best validation loss improved from 0.3612518310546875 to 0.3610512300541526\n",
      "\n",
      "\n",
      "Iteration 14/74 of epoch 42 complete. Loss : 0.1766817175916263 \n"
     ]
    },
    {
     "output_type": "stream",
     "name": "stderr",
     "text": [
      " 64%|██████▎   | 47/74 [00:00<00:00, 110.29it/s]"
     ]
    },
    {
     "output_type": "stream",
     "name": "stdout",
     "text": [
      "\n",
      "Iteration 28/74 of epoch 42 complete. Loss : 0.1751596044216837 \n",
      "\n",
      "Iteration 42/74 of epoch 42 complete. Loss : 0.1718662322631904 \n"
     ]
    },
    {
     "output_type": "stream",
     "name": "stderr",
     "text": [
      " 93%|█████████▎| 69/74 [00:00<00:00, 98.87it/s] "
     ]
    },
    {
     "output_type": "stream",
     "name": "stdout",
     "text": [
      "\n",
      "Iteration 56/74 of epoch 42 complete. Loss : 0.17152214955006326 \n",
      "\n",
      "Iteration 70/74 of epoch 42 complete. Loss : 0.16814935207366943 \n"
     ]
    },
    {
     "output_type": "stream",
     "name": "stderr",
     "text": [
      "100%|██████████| 74/74 [00:00<00:00, 105.05it/s]\n",
      "100%|██████████| 19/19 [00:00<00:00, 481.06it/s]\n",
      " 34%|███▍      | 25/74 [00:00<00:00, 243.59it/s]"
     ]
    },
    {
     "output_type": "stream",
     "name": "stdout",
     "text": [
      "\n",
      "Epoch 42 complete! Validation Loss : 0.36094189003894206\n",
      "Epoch 42 complete! Validation Accuracy : 0.8316282894736842\n",
      "Best validation loss improved from 0.3610512300541526 to 0.36094189003894206\n",
      "\n",
      "\n",
      "Iteration 14/74 of epoch 43 complete. Loss : 0.17650697912488664 \n",
      "\n",
      "Iteration 28/74 of epoch 43 complete. Loss : 0.17500522626297815 \n",
      "\n",
      "Iteration 42/74 of epoch 43 complete. Loss : 0.1716977565416268 \n"
     ]
    },
    {
     "output_type": "stream",
     "name": "stderr",
     "text": [
      "100%|██████████| 74/74 [00:00<00:00, 204.05it/s]\n",
      "100%|██████████| 19/19 [00:00<00:00, 283.94it/s]"
     ]
    },
    {
     "output_type": "stream",
     "name": "stdout",
     "text": [
      "\n",
      "Iteration 56/74 of epoch 43 complete. Loss : 0.17137675253408297 \n",
      "\n",
      "Iteration 70/74 of epoch 43 complete. Loss : 0.16800313230071748 \n"
     ]
    },
    {
     "output_type": "stream",
     "name": "stderr",
     "text": [
      "\n",
      " 32%|███▏      | 24/74 [00:00<00:00, 223.47it/s]"
     ]
    },
    {
     "output_type": "stream",
     "name": "stdout",
     "text": [
      "\n",
      "Epoch 43 complete! Validation Loss : 0.36077940150311116\n",
      "Epoch 43 complete! Validation Accuracy : 0.8316282894736842\n",
      "Best validation loss improved from 0.36094189003894206 to 0.36077940150311116\n",
      "\n",
      "\n",
      "Iteration 14/74 of epoch 44 complete. Loss : 0.1763728739959853 \n",
      "\n",
      "Iteration 28/74 of epoch 44 complete. Loss : 0.17491538396903447 \n"
     ]
    },
    {
     "output_type": "stream",
     "name": "stderr",
     "text": [
      "100%|██████████| 74/74 [00:00<00:00, 187.41it/s]\n",
      "  0%|          | 0/19 [00:00<?, ?it/s]"
     ]
    },
    {
     "output_type": "stream",
     "name": "stdout",
     "text": [
      "\n",
      "Iteration 42/74 of epoch 44 complete. Loss : 0.17152594828179904 \n",
      "\n",
      "Iteration 56/74 of epoch 44 complete. Loss : 0.17125062005860464 \n",
      "\n",
      "Iteration 70/74 of epoch 44 complete. Loss : 0.16783294826745987 \n"
     ]
    },
    {
     "output_type": "stream",
     "name": "stderr",
     "text": [
      "100%|██████████| 19/19 [00:00<00:00, 381.08it/s]\n",
      " 35%|███▌      | 26/74 [00:00<00:00, 256.84it/s]"
     ]
    },
    {
     "output_type": "stream",
     "name": "stdout",
     "text": [
      "\n",
      "Epoch 44 complete! Validation Loss : 0.3606686592102051\n",
      "Epoch 44 complete! Validation Accuracy : 0.8328618421052632\n",
      "Best validation loss improved from 0.36077940150311116 to 0.3606686592102051\n",
      "\n",
      "\n",
      "Iteration 14/74 of epoch 45 complete. Loss : 0.17622086512190954 \n",
      "\n",
      "Iteration 28/74 of epoch 45 complete. Loss : 0.17478437083108084 \n",
      "\n",
      "Iteration 42/74 of epoch 45 complete. Loss : 0.17134156876376697 \n"
     ]
    },
    {
     "output_type": "stream",
     "name": "stderr",
     "text": [
      "100%|██████████| 74/74 [00:00<00:00, 245.30it/s]\n",
      "100%|██████████| 19/19 [00:00<00:00, 340.06it/s]\n",
      "  0%|          | 0/74 [00:00<?, ?it/s]"
     ]
    },
    {
     "output_type": "stream",
     "name": "stdout",
     "text": [
      "\n",
      "Iteration 56/74 of epoch 45 complete. Loss : 0.17111600296837942 \n",
      "\n",
      "Iteration 70/74 of epoch 45 complete. Loss : 0.16767752383436477 \n",
      "\n",
      "Epoch 45 complete! Validation Loss : 0.3605352200959858\n",
      "Epoch 45 complete! Validation Accuracy : 0.8328618421052632\n",
      "Best validation loss improved from 0.3606686592102051 to 0.3605352200959858\n",
      "\n"
     ]
    },
    {
     "output_type": "stream",
     "name": "stderr",
     "text": [
      " 50%|█████     | 37/74 [00:00<00:00, 174.56it/s]"
     ]
    },
    {
     "output_type": "stream",
     "name": "stdout",
     "text": [
      "\n",
      "Iteration 14/74 of epoch 46 complete. Loss : 0.1760718673467636 \n",
      "\n",
      "Iteration 28/74 of epoch 46 complete. Loss : 0.17467477917671204 \n",
      "\n",
      "Iteration 42/74 of epoch 46 complete. Loss : 0.17115677573851176 \n"
     ]
    },
    {
     "output_type": "stream",
     "name": "stderr",
     "text": [
      "100%|██████████| 74/74 [00:00<00:00, 193.62it/s]\n",
      "100%|██████████| 19/19 [00:00<00:00, 431.31it/s]"
     ]
    },
    {
     "output_type": "stream",
     "name": "stdout",
     "text": [
      "\n",
      "Iteration 56/74 of epoch 46 complete. Loss : 0.17096188717654773 \n",
      "\n",
      "Iteration 70/74 of epoch 46 complete. Loss : 0.16752185885395324 \n"
     ]
    },
    {
     "output_type": "stream",
     "name": "stderr",
     "text": [
      "\n",
      " 19%|█▉        | 14/74 [00:00<00:00, 132.48it/s]"
     ]
    },
    {
     "output_type": "stream",
     "name": "stdout",
     "text": [
      "\n",
      "Epoch 46 complete! Validation Loss : 0.36043854763633326\n",
      "Epoch 46 complete! Validation Accuracy : 0.8328618421052632\n",
      "Best validation loss improved from 0.3605352200959858 to 0.36043854763633326\n",
      "\n",
      "\n",
      "Iteration 14/74 of epoch 47 complete. Loss : 0.17591553926467896 \n"
     ]
    },
    {
     "output_type": "stream",
     "name": "stderr",
     "text": [
      " 61%|██████    | 45/74 [00:00<00:00, 141.62it/s]"
     ]
    },
    {
     "output_type": "stream",
     "name": "stdout",
     "text": [
      "\n",
      "Iteration 28/74 of epoch 47 complete. Loss : 0.1745359269636018 \n",
      "\n",
      "Iteration 42/74 of epoch 47 complete. Loss : 0.170952385025365 \n",
      "\n",
      "Iteration 56/74 of epoch 47 complete. Loss : 0.17080799277339662 \n"
     ]
    },
    {
     "output_type": "stream",
     "name": "stderr",
     "text": [
      "100%|██████████| 74/74 [00:00<00:00, 130.68it/s]\n",
      "100%|██████████| 19/19 [00:00<00:00, 146.30it/s]\n"
     ]
    },
    {
     "output_type": "stream",
     "name": "stdout",
     "text": [
      "\n",
      "Iteration 70/74 of epoch 47 complete. Loss : 0.1673829225557191 \n"
     ]
    },
    {
     "output_type": "stream",
     "name": "stderr",
     "text": [
      " 16%|█▌        | 12/74 [00:00<00:00, 114.21it/s]"
     ]
    },
    {
     "output_type": "stream",
     "name": "stdout",
     "text": [
      "\n",
      "Epoch 47 complete! Validation Loss : 0.36031392687245417\n",
      "Epoch 47 complete! Validation Accuracy : 0.8332730263157895\n",
      "Best validation loss improved from 0.36043854763633326 to 0.36031392687245417\n",
      "\n",
      "\n",
      "Iteration 14/74 of epoch 48 complete. Loss : 0.17577052009957178 \n"
     ]
    },
    {
     "output_type": "stream",
     "name": "stderr",
     "text": [
      " 64%|██████▎   | 47/74 [00:00<00:00, 110.89it/s]"
     ]
    },
    {
     "output_type": "stream",
     "name": "stdout",
     "text": [
      "\n",
      "Iteration 28/74 of epoch 48 complete. Loss : 0.17439805503402436 \n",
      "\n",
      "Iteration 42/74 of epoch 48 complete. Loss : 0.17073637087430274 \n"
     ]
    },
    {
     "output_type": "stream",
     "name": "stderr",
     "text": [
      "100%|██████████| 74/74 [00:00<00:00, 111.77it/s]\n",
      "  0%|          | 0/19 [00:00<?, ?it/s]"
     ]
    },
    {
     "output_type": "stream",
     "name": "stdout",
     "text": [
      "\n",
      "Iteration 56/74 of epoch 48 complete. Loss : 0.17064877918788365 \n",
      "\n",
      "Iteration 70/74 of epoch 48 complete. Loss : 0.16725955371345794 \n"
     ]
    },
    {
     "output_type": "stream",
     "name": "stderr",
     "text": [
      "100%|██████████| 19/19 [00:00<00:00, 150.31it/s]\n",
      " 35%|███▌      | 26/74 [00:00<00:00, 241.31it/s]"
     ]
    },
    {
     "output_type": "stream",
     "name": "stdout",
     "text": [
      "\n",
      "Epoch 48 complete! Validation Loss : 0.36019766173864665\n",
      "Epoch 48 complete! Validation Accuracy : 0.8332730263157895\n",
      "Best validation loss improved from 0.36031392687245417 to 0.36019766173864665\n",
      "\n",
      "\n",
      "Iteration 14/74 of epoch 49 complete. Loss : 0.17562207686049597 \n",
      "\n",
      "Iteration 28/74 of epoch 49 complete. Loss : 0.1742503760116441 \n"
     ]
    },
    {
     "output_type": "stream",
     "name": "stderr",
     "text": [
      "100%|██████████| 74/74 [00:00<00:00, 192.43it/s]\n",
      "  0%|          | 0/19 [00:00<?, ?it/s]"
     ]
    },
    {
     "output_type": "stream",
     "name": "stdout",
     "text": [
      "\n",
      "Iteration 42/74 of epoch 49 complete. Loss : 0.17052109379853522 \n",
      "\n",
      "Iteration 56/74 of epoch 49 complete. Loss : 0.17049085668155126 \n",
      "\n",
      "Iteration 70/74 of epoch 49 complete. Loss : 0.16713876064334596 \n"
     ]
    },
    {
     "output_type": "stream",
     "name": "stderr",
     "text": [
      "100%|██████████| 19/19 [00:00<00:00, 98.16it/s]\n",
      " 38%|███▊      | 28/74 [00:00<00:00, 279.26it/s]"
     ]
    },
    {
     "output_type": "stream",
     "name": "stdout",
     "text": [
      "\n",
      "Epoch 49 complete! Validation Loss : 0.3600635544249886\n",
      "Epoch 49 complete! Validation Accuracy : 0.8340953947368421\n",
      "Best validation loss improved from 0.36019766173864665 to 0.3600635544249886\n",
      "\n",
      "\n",
      "Iteration 14/74 of epoch 50 complete. Loss : 0.1754844609115805 \n",
      "\n",
      "Iteration 28/74 of epoch 50 complete. Loss : 0.17411591644798005 \n",
      "\n",
      "Iteration 42/74 of epoch 50 complete. Loss : 0.17030315260801995 \n"
     ]
    },
    {
     "output_type": "stream",
     "name": "stderr",
     "text": [
      "100%|██████████| 74/74 [00:00<00:00, 209.59it/s]\n",
      "  0%|          | 0/19 [00:00<?, ?it/s]"
     ]
    },
    {
     "output_type": "stream",
     "name": "stdout",
     "text": [
      "\n",
      "Iteration 56/74 of epoch 50 complete. Loss : 0.17034121549555234 \n",
      "\n",
      "Iteration 70/74 of epoch 50 complete. Loss : 0.1670231478554862 \n"
     ]
    },
    {
     "output_type": "stream",
     "name": "stderr",
     "text": [
      "100%|██████████| 19/19 [00:00<00:00, 207.44it/s]\n",
      " 26%|██▌       | 19/74 [00:00<00:00, 185.45it/s]"
     ]
    },
    {
     "output_type": "stream",
     "name": "stdout",
     "text": [
      "\n",
      "Epoch 50 complete! Validation Loss : 0.3599436487022199\n",
      "Epoch 50 complete! Validation Accuracy : 0.8340953947368421\n",
      "Best validation loss improved from 0.3600635544249886 to 0.3599436487022199\n",
      "\n",
      "\n",
      "Iteration 14/74 of epoch 51 complete. Loss : 0.17532725685409137 \n",
      "\n",
      "Iteration 28/74 of epoch 51 complete. Loss : 0.17400323067392623 \n"
     ]
    },
    {
     "output_type": "stream",
     "name": "stderr",
     "text": [
      "100%|██████████| 74/74 [00:00<00:00, 197.25it/s]\n",
      "100%|██████████| 19/19 [00:00<00:00, 447.20it/s]"
     ]
    },
    {
     "output_type": "stream",
     "name": "stdout",
     "text": [
      "\n",
      "Iteration 42/74 of epoch 51 complete. Loss : 0.17008795802082335 \n",
      "\n",
      "Iteration 56/74 of epoch 51 complete. Loss : 0.17019358383757727 \n",
      "\n",
      "Iteration 70/74 of epoch 51 complete. Loss : 0.1668969105396952 \n"
     ]
    },
    {
     "output_type": "stream",
     "name": "stderr",
     "text": [
      "\n",
      " 26%|██▌       | 19/74 [00:00<00:00, 184.70it/s]"
     ]
    },
    {
     "output_type": "stream",
     "name": "stdout",
     "text": [
      "\n",
      "Epoch 51 complete! Validation Loss : 0.3598282478357616\n",
      "Epoch 51 complete! Validation Accuracy : 0.8340953947368421\n",
      "Best validation loss improved from 0.3599436487022199 to 0.3598282478357616\n",
      "\n",
      "\n",
      "Iteration 14/74 of epoch 52 complete. Loss : 0.1751712230699403 \n",
      "\n",
      "Iteration 28/74 of epoch 52 complete. Loss : 0.17389240860939026 \n"
     ]
    },
    {
     "output_type": "stream",
     "name": "stderr",
     "text": [
      " 77%|███████▋  | 57/74 [00:00<00:00, 177.89it/s]"
     ]
    },
    {
     "output_type": "stream",
     "name": "stdout",
     "text": [
      "\n",
      "Iteration 42/74 of epoch 52 complete. Loss : 0.1698724175138133 \n",
      "\n",
      "Iteration 56/74 of epoch 52 complete. Loss : 0.17004285060933658 \n"
     ]
    },
    {
     "output_type": "stream",
     "name": "stderr",
     "text": [
      "100%|██████████| 74/74 [00:00<00:00, 158.43it/s]\n",
      "100%|██████████| 19/19 [00:00<00:00, 149.78it/s]\n"
     ]
    },
    {
     "output_type": "stream",
     "name": "stdout",
     "text": [
      "\n",
      "Iteration 70/74 of epoch 52 complete. Loss : 0.16677913069725037 \n"
     ]
    },
    {
     "output_type": "stream",
     "name": "stderr",
     "text": [
      " 16%|█▌        | 12/74 [00:00<00:00, 111.41it/s]"
     ]
    },
    {
     "output_type": "stream",
     "name": "stdout",
     "text": [
      "\n",
      "Epoch 52 complete! Validation Loss : 0.359718183153554\n",
      "Epoch 52 complete! Validation Accuracy : 0.8340953947368421\n",
      "Best validation loss improved from 0.3598282478357616 to 0.359718183153554\n",
      "\n",
      "\n",
      "Iteration 14/74 of epoch 53 complete. Loss : 0.17499182053974696 \n"
     ]
    },
    {
     "output_type": "stream",
     "name": "stderr",
     "text": [
      " 61%|██████    | 45/74 [00:00<00:00, 104.49it/s]"
     ]
    },
    {
     "output_type": "stream",
     "name": "stdout",
     "text": [
      "\n",
      "Iteration 28/74 of epoch 53 complete. Loss : 0.17378170362540654 \n",
      "\n",
      "Iteration 42/74 of epoch 53 complete. Loss : 0.16964490019849368 \n",
      "\n",
      "Iteration 56/74 of epoch 53 complete. Loss : 0.16986597276159696 \n"
     ]
    },
    {
     "output_type": "stream",
     "name": "stderr",
     "text": [
      "100%|██████████| 74/74 [00:00<00:00, 126.62it/s]\n",
      "100%|██████████| 19/19 [00:00<00:00, 281.31it/s]\n",
      "  0%|          | 0/74 [00:00<?, ?it/s]"
     ]
    },
    {
     "output_type": "stream",
     "name": "stdout",
     "text": [
      "\n",
      "Iteration 70/74 of epoch 53 complete. Loss : 0.16664601330246245 \n",
      "\n",
      "Epoch 53 complete! Validation Loss : 0.35964620583935786\n",
      "Epoch 53 complete! Validation Accuracy : 0.835328947368421\n",
      "Best validation loss improved from 0.359718183153554 to 0.35964620583935786\n",
      "\n"
     ]
    },
    {
     "output_type": "stream",
     "name": "stderr",
     "text": [
      " 49%|████▊     | 36/74 [00:00<00:00, 173.98it/s]"
     ]
    },
    {
     "output_type": "stream",
     "name": "stdout",
     "text": [
      "\n",
      "Iteration 14/74 of epoch 54 complete. Loss : 0.17482761666178703 \n",
      "\n",
      "Iteration 28/74 of epoch 54 complete. Loss : 0.1736867151090077 \n",
      "\n",
      "Iteration 42/74 of epoch 54 complete. Loss : 0.16941489917891367 \n"
     ]
    },
    {
     "output_type": "stream",
     "name": "stderr",
     "text": [
      "100%|██████████| 74/74 [00:00<00:00, 176.23it/s]\n",
      "  0%|          | 0/19 [00:00<?, ?it/s]"
     ]
    },
    {
     "output_type": "stream",
     "name": "stdout",
     "text": [
      "\n",
      "Iteration 56/74 of epoch 54 complete. Loss : 0.16971069467919214 \n",
      "\n",
      "Iteration 70/74 of epoch 54 complete. Loss : 0.16653483361005783 \n"
     ]
    },
    {
     "output_type": "stream",
     "name": "stderr",
     "text": [
      "100%|██████████| 19/19 [00:00<00:00, 151.56it/s]\n",
      " 12%|█▏        | 9/74 [00:00<00:00, 87.50it/s]"
     ]
    },
    {
     "output_type": "stream",
     "name": "stdout",
     "text": [
      "\n",
      "Epoch 54 complete! Validation Loss : 0.35956015084919174\n",
      "Epoch 54 complete! Validation Accuracy : 0.835328947368421\n",
      "Best validation loss improved from 0.35964620583935786 to 0.35956015084919174\n",
      "\n",
      "\n",
      "Iteration 14/74 of epoch 55 complete. Loss : 0.1746571542961257 \n"
     ]
    },
    {
     "output_type": "stream",
     "name": "stderr",
     "text": [
      " 59%|█████▉    | 44/74 [00:00<00:00, 101.44it/s]"
     ]
    },
    {
     "output_type": "stream",
     "name": "stdout",
     "text": [
      "\n",
      "Iteration 28/74 of epoch 55 complete. Loss : 0.17356270338807786 \n",
      "\n",
      "Iteration 42/74 of epoch 55 complete. Loss : 0.1692064947315625 \n"
     ]
    },
    {
     "output_type": "stream",
     "name": "stderr",
     "text": [
      "100%|██████████| 74/74 [00:00<00:00, 110.77it/s]\n",
      "100%|██████████| 19/19 [00:00<00:00, 432.49it/s]"
     ]
    },
    {
     "output_type": "stream",
     "name": "stdout",
     "text": [
      "\n",
      "Iteration 56/74 of epoch 55 complete. Loss : 0.1695375799068383 \n",
      "\n",
      "Iteration 70/74 of epoch 55 complete. Loss : 0.1664022324340684 \n"
     ]
    },
    {
     "output_type": "stream",
     "name": "stderr",
     "text": [
      "\n",
      " 41%|████      | 30/74 [00:00<00:00, 296.08it/s]"
     ]
    },
    {
     "output_type": "stream",
     "name": "stdout",
     "text": [
      "\n",
      "Epoch 55 complete! Validation Loss : 0.359470944655569\n",
      "Epoch 55 complete! Validation Accuracy : 0.8345065789473685\n",
      "Best validation loss improved from 0.35956015084919174 to 0.359470944655569\n",
      "\n",
      "\n",
      "Iteration 14/74 of epoch 56 complete. Loss : 0.1744784489274025 \n",
      "\n",
      "Iteration 28/74 of epoch 56 complete. Loss : 0.17345967356647765 \n",
      "\n",
      "Iteration 42/74 of epoch 56 complete. Loss : 0.16895844521267073 \n",
      "\n",
      "Iteration 56/74 of epoch 56 complete. Loss : 0.169337874012334 \n"
     ]
    },
    {
     "output_type": "stream",
     "name": "stderr",
     "text": [
      "100%|██████████| 74/74 [00:00<00:00, 305.38it/s]\n",
      "100%|██████████| 19/19 [00:00<00:00, 476.96it/s]\n",
      "  0%|          | 0/74 [00:00<?, ?it/s]"
     ]
    },
    {
     "output_type": "stream",
     "name": "stdout",
     "text": [
      "\n",
      "Iteration 70/74 of epoch 56 complete. Loss : 0.16627870819398335 \n",
      "\n",
      "Epoch 56 complete! Validation Loss : 0.35943394115096644\n",
      "Epoch 56 complete! Validation Accuracy : 0.8336842105263158\n",
      "Best validation loss improved from 0.359470944655569 to 0.35943394115096644\n",
      "\n",
      "\n",
      "Iteration 14/74 of epoch 57 complete. Loss : 0.17428645119071007 \n"
     ]
    },
    {
     "output_type": "stream",
     "name": "stderr",
     "text": [
      " 49%|████▊     | 36/74 [00:00<00:00, 139.70it/s]"
     ]
    },
    {
     "output_type": "stream",
     "name": "stdout",
     "text": [
      "\n",
      "Iteration 28/74 of epoch 57 complete. Loss : 0.17335305043629237 \n",
      "\n",
      "Iteration 42/74 of epoch 57 complete. Loss : 0.1687330316220011 \n"
     ]
    },
    {
     "output_type": "stream",
     "name": "stderr",
     "text": [
      "100%|██████████| 74/74 [00:00<00:00, 131.88it/s]\n",
      "100%|██████████| 19/19 [00:00<00:00, 314.59it/s]\n"
     ]
    },
    {
     "output_type": "stream",
     "name": "stdout",
     "text": [
      "\n",
      "Iteration 56/74 of epoch 57 complete. Loss : 0.1691550426185131 \n",
      "\n",
      "Iteration 70/74 of epoch 57 complete. Loss : 0.16616383727107728 \n"
     ]
    },
    {
     "output_type": "stream",
     "name": "stderr",
     "text": [
      " 20%|██        | 15/74 [00:00<00:00, 141.52it/s]"
     ]
    },
    {
     "output_type": "stream",
     "name": "stdout",
     "text": [
      "\n",
      "Epoch 57 complete! Validation Loss : 0.3593931872593729\n",
      "Epoch 57 complete! Validation Accuracy : 0.8345065789473685\n",
      "Best validation loss improved from 0.35943394115096644 to 0.3593931872593729\n",
      "\n",
      "\n",
      "Iteration 14/74 of epoch 58 complete. Loss : 0.1740949670118945 \n"
     ]
    },
    {
     "output_type": "stream",
     "name": "stderr",
     "text": [
      " 59%|█████▉    | 44/74 [00:00<00:00, 138.67it/s]"
     ]
    },
    {
     "output_type": "stream",
     "name": "stdout",
     "text": [
      "\n",
      "Iteration 28/74 of epoch 58 complete. Loss : 0.17323864357812063 \n",
      "\n",
      "Iteration 42/74 of epoch 58 complete. Loss : 0.16850248830659048 \n",
      "\n",
      "Iteration 56/74 of epoch 58 complete. Loss : 0.1689497706081186 \n"
     ]
    },
    {
     "output_type": "stream",
     "name": "stderr",
     "text": [
      "100%|██████████| 74/74 [00:00<00:00, 158.86it/s]\n",
      "100%|██████████| 19/19 [00:00<00:00, 211.14it/s]\n"
     ]
    },
    {
     "output_type": "stream",
     "name": "stdout",
     "text": [
      "\n",
      "Iteration 70/74 of epoch 58 complete. Loss : 0.1660458498767444 \n"
     ]
    },
    {
     "output_type": "stream",
     "name": "stderr",
     "text": [
      " 27%|██▋       | 20/74 [00:00<00:00, 199.49it/s]"
     ]
    },
    {
     "output_type": "stream",
     "name": "stdout",
     "text": [
      "\n",
      "Epoch 58 complete! Validation Loss : 0.35940145348247726\n",
      "Epoch 58 complete! Validation Accuracy : 0.8324506578947368\n",
      "\n",
      "Iteration 14/74 of epoch 59 complete. Loss : 0.17387314406888826 \n",
      "\n",
      "Iteration 28/74 of epoch 59 complete. Loss : 0.17314234695264272 \n"
     ]
    },
    {
     "output_type": "stream",
     "name": "stderr",
     "text": [
      " 72%|███████▏  | 53/74 [00:00<00:00, 125.34it/s]"
     ]
    },
    {
     "output_type": "stream",
     "name": "stdout",
     "text": [
      "\n",
      "Iteration 42/74 of epoch 59 complete. Loss : 0.1682390496134758 \n",
      "\n",
      "Iteration 56/74 of epoch 59 complete. Loss : 0.1685962410909789 \n"
     ]
    },
    {
     "output_type": "stream",
     "name": "stderr",
     "text": [
      "100%|██████████| 74/74 [00:00<00:00, 126.72it/s]\n",
      "100%|██████████| 19/19 [00:00<00:00, 402.56it/s]\n",
      "  0%|          | 0/74 [00:00<?, ?it/s]"
     ]
    },
    {
     "output_type": "stream",
     "name": "stdout",
     "text": [
      "\n",
      "Iteration 70/74 of epoch 59 complete. Loss : 0.16585017634289606 \n",
      "\n",
      "Epoch 59 complete! Validation Loss : 0.3593889380756177\n",
      "Epoch 59 complete! Validation Accuracy : 0.8332730263157895\n",
      "Best validation loss improved from 0.3593931872593729 to 0.3593889380756177\n",
      "\n",
      "\n",
      "Iteration 14/74 of epoch 60 complete. Loss : 0.17362714452402933 \n"
     ]
    },
    {
     "output_type": "stream",
     "name": "stderr",
     "text": [
      " 85%|████████▌ | 63/74 [00:00<00:00, 191.65it/s]"
     ]
    },
    {
     "output_type": "stream",
     "name": "stdout",
     "text": [
      "\n",
      "Iteration 28/74 of epoch 60 complete. Loss : 0.17299565992185048 \n",
      "\n",
      "Iteration 42/74 of epoch 60 complete. Loss : 0.1680291694189821 \n",
      "\n",
      "Iteration 56/74 of epoch 60 complete. Loss : 0.16852365168077604 \n"
     ]
    },
    {
     "output_type": "stream",
     "name": "stderr",
     "text": [
      "100%|██████████| 74/74 [00:00<00:00, 191.70it/s]\n",
      "100%|██████████| 19/19 [00:00<00:00, 237.70it/s]\n"
     ]
    },
    {
     "output_type": "stream",
     "name": "stdout",
     "text": [
      "\n",
      "Iteration 70/74 of epoch 60 complete. Loss : 0.16579298355749675 \n"
     ]
    },
    {
     "output_type": "stream",
     "name": "stderr",
     "text": [
      " 22%|██▏       | 16/74 [00:00<00:00, 159.06it/s]"
     ]
    },
    {
     "output_type": "stream",
     "name": "stdout",
     "text": [
      "\n",
      "Epoch 60 complete! Validation Loss : 0.35937971033548055\n",
      "Epoch 60 complete! Validation Accuracy : 0.8328618421052632\n",
      "Best validation loss improved from 0.3593889380756177 to 0.35937971033548055\n",
      "\n",
      "\n",
      "Iteration 14/74 of epoch 61 complete. Loss : 0.17347367107868195 \n",
      "\n",
      "Iteration 28/74 of epoch 61 complete. Loss : 0.17290351752723968 \n"
     ]
    },
    {
     "output_type": "stream",
     "name": "stderr",
     "text": [
      "100%|██████████| 74/74 [00:00<00:00, 181.69it/s]\n",
      "  0%|          | 0/19 [00:00<?, ?it/s]"
     ]
    },
    {
     "output_type": "stream",
     "name": "stdout",
     "text": [
      "\n",
      "Iteration 42/74 of epoch 61 complete. Loss : 0.16784384740250452 \n",
      "\n",
      "Iteration 56/74 of epoch 61 complete. Loss : 0.16833654046058655 \n",
      "\n",
      "Iteration 70/74 of epoch 61 complete. Loss : 0.16565264016389847 \n"
     ]
    },
    {
     "output_type": "stream",
     "name": "stderr",
     "text": [
      "100%|██████████| 19/19 [00:00<00:00, 281.75it/s]\n",
      " 32%|███▏      | 24/74 [00:00<00:00, 230.12it/s]"
     ]
    },
    {
     "output_type": "stream",
     "name": "stdout",
     "text": [
      "\n",
      "Epoch 61 complete! Validation Loss : 0.35937405887402984\n",
      "Epoch 61 complete! Validation Accuracy : 0.8332730263157895\n",
      "Best validation loss improved from 0.35937971033548055 to 0.35937405887402984\n",
      "\n",
      "\n",
      "Iteration 14/74 of epoch 62 complete. Loss : 0.17326802920017922 \n",
      "\n",
      "Iteration 28/74 of epoch 62 complete. Loss : 0.1727838111775262 \n",
      "\n",
      "Iteration 42/74 of epoch 62 complete. Loss : 0.16761730504887445 \n"
     ]
    },
    {
     "output_type": "stream",
     "name": "stderr",
     "text": [
      "100%|██████████| 74/74 [00:00<00:00, 227.05it/s]\n",
      "100%|██████████| 19/19 [00:00<00:00, 395.13it/s]\n",
      "  0%|          | 0/74 [00:00<?, ?it/s]"
     ]
    },
    {
     "output_type": "stream",
     "name": "stdout",
     "text": [
      "\n",
      "Iteration 56/74 of epoch 62 complete. Loss : 0.16811621135899 \n",
      "\n",
      "Iteration 70/74 of epoch 62 complete. Loss : 0.16555393487215042 \n",
      "\n",
      "Epoch 62 complete! Validation Loss : 0.35937409965615524\n",
      "Epoch 62 complete! Validation Accuracy : 0.8332730263157895\n"
     ]
    },
    {
     "output_type": "stream",
     "name": "stderr",
     "text": [
      " 77%|███████▋  | 57/74 [00:00<00:00, 276.19it/s]"
     ]
    },
    {
     "output_type": "stream",
     "name": "stdout",
     "text": [
      "\n",
      "Iteration 14/74 of epoch 63 complete. Loss : 0.1730032494025571 \n",
      "\n",
      "Iteration 28/74 of epoch 63 complete. Loss : 0.17268417882067816 \n",
      "\n",
      "Iteration 42/74 of epoch 63 complete. Loss : 0.16740568088633673 \n",
      "\n",
      "Iteration 56/74 of epoch 63 complete. Loss : 0.167890443865742 \n",
      "\n",
      "Iteration 70/74 of epoch 63 complete. Loss : 0.16538315372807638 \n"
     ]
    },
    {
     "output_type": "stream",
     "name": "stderr",
     "text": [
      "100%|██████████| 74/74 [00:00<00:00, 275.01it/s]\n",
      "100%|██████████| 19/19 [00:00<00:00, 414.37it/s]\n",
      " 32%|███▏      | 24/74 [00:00<00:00, 230.26it/s]"
     ]
    },
    {
     "output_type": "stream",
     "name": "stdout",
     "text": [
      "\n",
      "Epoch 63 complete! Validation Loss : 0.35935432503097936\n",
      "Epoch 63 complete! Validation Accuracy : 0.8336842105263158\n",
      "Best validation loss improved from 0.35937405887402984 to 0.35935432503097936\n",
      "\n",
      "\n",
      "Iteration 14/74 of epoch 64 complete. Loss : 0.1728420928120613 \n",
      "\n",
      "Iteration 28/74 of epoch 64 complete. Loss : 0.1725560032895633 \n",
      "\n",
      "Iteration 42/74 of epoch 64 complete. Loss : 0.16721428345356668 \n"
     ]
    },
    {
     "output_type": "stream",
     "name": "stderr",
     "text": [
      "100%|██████████| 74/74 [00:00<00:00, 232.73it/s]\n",
      "100%|██████████| 19/19 [00:00<00:00, 359.73it/s]\n",
      "  0%|          | 0/74 [00:00<?, ?it/s]"
     ]
    },
    {
     "output_type": "stream",
     "name": "stdout",
     "text": [
      "\n",
      "Iteration 56/74 of epoch 64 complete. Loss : 0.16769257932901382 \n",
      "\n",
      "Iteration 70/74 of epoch 64 complete. Loss : 0.16525146790913173 \n",
      "\n",
      "Epoch 64 complete! Validation Loss : 0.3593399493317855\n",
      "Epoch 64 complete! Validation Accuracy : 0.8340953947368421\n",
      "Best validation loss improved from 0.35935432503097936 to 0.3593399493317855\n",
      "\n"
     ]
    },
    {
     "output_type": "stream",
     "name": "stderr",
     "text": [
      " 62%|██████▏   | 46/74 [00:00<00:00, 225.07it/s]"
     ]
    },
    {
     "output_type": "stream",
     "name": "stdout",
     "text": [
      "\n",
      "Iteration 14/74 of epoch 65 complete. Loss : 0.1726160523082529 \n",
      "\n",
      "Iteration 28/74 of epoch 65 complete. Loss : 0.17242624078478133 \n",
      "\n",
      "Iteration 42/74 of epoch 65 complete. Loss : 0.1670323589018413 \n",
      "\n",
      "Iteration 56/74 of epoch 65 complete. Loss : 0.16748200463397162 \n"
     ]
    },
    {
     "output_type": "stream",
     "name": "stderr",
     "text": [
      "100%|██████████| 74/74 [00:00<00:00, 239.73it/s]\n",
      "100%|██████████| 19/19 [00:00<00:00, 394.91it/s]\n",
      "  0%|          | 0/74 [00:00<?, ?it/s]"
     ]
    },
    {
     "output_type": "stream",
     "name": "stdout",
     "text": [
      "\n",
      "Iteration 70/74 of epoch 65 complete. Loss : 0.1650935017636844 \n",
      "\n",
      "Epoch 65 complete! Validation Loss : 0.3593289287466752\n",
      "Epoch 65 complete! Validation Accuracy : 0.8345065789473685\n",
      "Best validation loss improved from 0.3593399493317855 to 0.3593289287466752\n",
      "\n",
      "\n",
      "Iteration 14/74 of epoch 66 complete. Loss : 0.1724194266966411 \n"
     ]
    },
    {
     "output_type": "stream",
     "name": "stderr",
     "text": [
      "100%|██████████| 74/74 [00:00<00:00, 266.07it/s]\n",
      "  0%|          | 0/19 [00:00<?, ?it/s]"
     ]
    },
    {
     "output_type": "stream",
     "name": "stdout",
     "text": [
      "\n",
      "Iteration 28/74 of epoch 66 complete. Loss : 0.17230970306055887 \n",
      "\n",
      "Iteration 42/74 of epoch 66 complete. Loss : 0.1668380488242422 \n",
      "\n",
      "Iteration 56/74 of epoch 66 complete. Loss : 0.16728231523718154 \n",
      "\n",
      "Iteration 70/74 of epoch 66 complete. Loss : 0.16494874443326676 \n"
     ]
    },
    {
     "output_type": "stream",
     "name": "stderr",
     "text": [
      "100%|██████████| 19/19 [00:00<00:00, 378.82it/s]\n",
      " 35%|███▌      | 26/74 [00:00<00:00, 251.40it/s]"
     ]
    },
    {
     "output_type": "stream",
     "name": "stdout",
     "text": [
      "\n",
      "Epoch 66 complete! Validation Loss : 0.35927976903162506\n",
      "Epoch 66 complete! Validation Accuracy : 0.8345065789473685\n",
      "Best validation loss improved from 0.3593289287466752 to 0.35927976903162506\n",
      "\n",
      "\n",
      "Iteration 14/74 of epoch 67 complete. Loss : 0.17217367089220456 \n",
      "\n",
      "Iteration 28/74 of epoch 67 complete. Loss : 0.17212814944131033 \n",
      "\n",
      "Iteration 42/74 of epoch 67 complete. Loss : 0.1667300345642226 \n"
     ]
    },
    {
     "output_type": "stream",
     "name": "stderr",
     "text": [
      "100%|██████████| 74/74 [00:00<00:00, 225.60it/s]\n",
      "100%|██████████| 19/19 [00:00<00:00, 438.67it/s]\n",
      "  0%|          | 0/74 [00:00<?, ?it/s]"
     ]
    },
    {
     "output_type": "stream",
     "name": "stdout",
     "text": [
      "\n",
      "Iteration 56/74 of epoch 67 complete. Loss : 0.1670960480613368 \n",
      "\n",
      "Iteration 70/74 of epoch 67 complete. Loss : 0.16477929800748825 \n",
      "\n",
      "Epoch 67 complete! Validation Loss : 0.3591414988040924\n",
      "Epoch 67 complete! Validation Accuracy : 0.8336842105263158\n",
      "Best validation loss improved from 0.35927976903162506 to 0.3591414988040924\n",
      "\n"
     ]
    },
    {
     "output_type": "stream",
     "name": "stderr",
     "text": [
      " 61%|██████    | 45/74 [00:00<00:00, 223.55it/s]"
     ]
    },
    {
     "output_type": "stream",
     "name": "stdout",
     "text": [
      "\n",
      "Iteration 14/74 of epoch 68 complete. Loss : 0.17188530841044017 \n",
      "\n",
      "Iteration 28/74 of epoch 68 complete. Loss : 0.17202221282890864 \n",
      "\n",
      "Iteration 42/74 of epoch 68 complete. Loss : 0.16645852103829384 \n",
      "\n",
      "Iteration 56/74 of epoch 68 complete. Loss : 0.16687987904463494 \n"
     ]
    },
    {
     "output_type": "stream",
     "name": "stderr",
     "text": [
      "100%|██████████| 74/74 [00:00<00:00, 222.15it/s]\n",
      "100%|██████████| 19/19 [00:00<00:00, 421.41it/s]\n",
      "  0%|          | 0/74 [00:00<?, ?it/s]"
     ]
    },
    {
     "output_type": "stream",
     "name": "stdout",
     "text": [
      "\n",
      "Iteration 70/74 of epoch 68 complete. Loss : 0.16466208334480012 \n",
      "\n",
      "Epoch 68 complete! Validation Loss : 0.3594065010547638\n",
      "Epoch 68 complete! Validation Accuracy : 0.8349177631578947\n",
      "\n",
      "Iteration 14/74 of epoch 69 complete. Loss : 0.17159361764788628 \n"
     ]
    },
    {
     "output_type": "stream",
     "name": "stderr",
     "text": [
      " 92%|█████████▏| 68/74 [00:00<00:00, 217.15it/s]"
     ]
    },
    {
     "output_type": "stream",
     "name": "stdout",
     "text": [
      "\n",
      "Iteration 28/74 of epoch 69 complete. Loss : 0.1719209583742278 \n",
      "\n",
      "Iteration 42/74 of epoch 69 complete. Loss : 0.16626633597271784 \n",
      "\n",
      "Iteration 56/74 of epoch 69 complete. Loss : 0.1667037084698677 \n",
      "\n",
      "Iteration 70/74 of epoch 69 complete. Loss : 0.16447672141449793 \n"
     ]
    },
    {
     "output_type": "stream",
     "name": "stderr",
     "text": [
      "100%|██████████| 74/74 [00:00<00:00, 218.76it/s]\n",
      "100%|██████████| 19/19 [00:00<00:00, 371.34it/s]\n",
      " 31%|███       | 23/74 [00:00<00:00, 224.96it/s]"
     ]
    },
    {
     "output_type": "stream",
     "name": "stdout",
     "text": [
      "\n",
      "Epoch 69 complete! Validation Loss : 0.3590458255065115\n",
      "Epoch 69 complete! Validation Accuracy : 0.8345065789473685\n",
      "Best validation loss improved from 0.3591414988040924 to 0.3590458255065115\n",
      "\n",
      "\n",
      "Iteration 14/74 of epoch 70 complete. Loss : 0.17157225576894625 \n",
      "\n",
      "Iteration 28/74 of epoch 70 complete. Loss : 0.17177649161645345 \n",
      "\n",
      "Iteration 42/74 of epoch 70 complete. Loss : 0.1661088408104011 \n"
     ]
    },
    {
     "output_type": "stream",
     "name": "stderr",
     "text": [
      "100%|██████████| 74/74 [00:00<00:00, 219.40it/s]\n",
      "100%|██████████| 19/19 [00:00<00:00, 372.13it/s]\n",
      "  0%|          | 0/74 [00:00<?, ?it/s]"
     ]
    },
    {
     "output_type": "stream",
     "name": "stdout",
     "text": [
      "\n",
      "Iteration 56/74 of epoch 70 complete. Loss : 0.16649081398333823 \n",
      "\n",
      "Iteration 70/74 of epoch 70 complete. Loss : 0.1643307145152773 \n",
      "\n",
      "Epoch 70 complete! Validation Loss : 0.35902203070489985\n",
      "Epoch 70 complete! Validation Accuracy : 0.8357401315789473\n",
      "Best validation loss improved from 0.3590458255065115 to 0.35902203070489985\n",
      "\n"
     ]
    },
    {
     "output_type": "stream",
     "name": "stderr",
     "text": [
      " 66%|██████▌   | 49/74 [00:00<00:00, 242.02it/s]"
     ]
    },
    {
     "output_type": "stream",
     "name": "stdout",
     "text": [
      "\n",
      "Iteration 14/74 of epoch 71 complete. Loss : 0.17135287768074445 \n",
      "\n",
      "Iteration 28/74 of epoch 71 complete. Loss : 0.17164228005068644 \n",
      "\n",
      "Iteration 42/74 of epoch 71 complete. Loss : 0.1659350214259965 \n",
      "\n",
      "Iteration 56/74 of epoch 71 complete. Loss : 0.16629819784845626 \n"
     ]
    },
    {
     "output_type": "stream",
     "name": "stderr",
     "text": [
      "100%|██████████| 74/74 [00:00<00:00, 242.39it/s]\n",
      "100%|██████████| 19/19 [00:00<00:00, 369.06it/s]\n",
      "  0%|          | 0/74 [00:00<?, ?it/s]"
     ]
    },
    {
     "output_type": "stream",
     "name": "stdout",
     "text": [
      "\n",
      "Iteration 70/74 of epoch 71 complete. Loss : 0.16419739701918193 \n",
      "\n",
      "Epoch 71 complete! Validation Loss : 0.3589664132971513\n",
      "Epoch 71 complete! Validation Accuracy : 0.835328947368421\n",
      "Best validation loss improved from 0.35902203070489985 to 0.3589664132971513\n",
      "\n",
      "\n",
      "Iteration 14/74 of epoch 72 complete. Loss : 0.17112507192151888 \n"
     ]
    },
    {
     "output_type": "stream",
     "name": "stderr",
     "text": [
      " 89%|████████▉ | 66/74 [00:00<00:00, 209.89it/s]"
     ]
    },
    {
     "output_type": "stream",
     "name": "stdout",
     "text": [
      "\n",
      "Iteration 28/74 of epoch 72 complete. Loss : 0.17149858070271357 \n",
      "\n",
      "Iteration 42/74 of epoch 72 complete. Loss : 0.165781134473426 \n",
      "\n",
      "Iteration 56/74 of epoch 72 complete. Loss : 0.16611479808177268 \n"
     ]
    },
    {
     "output_type": "stream",
     "name": "stderr",
     "text": [
      "100%|██████████| 74/74 [00:00<00:00, 202.67it/s]\n",
      "100%|██████████| 19/19 [00:00<00:00, 285.33it/s]\n",
      "  0%|          | 0/74 [00:00<?, ?it/s]"
     ]
    },
    {
     "output_type": "stream",
     "name": "stdout",
     "text": [
      "\n",
      "Iteration 70/74 of epoch 72 complete. Loss : 0.16404984039919718 \n",
      "\n",
      "Epoch 72 complete! Validation Loss : 0.35883875269638865\n",
      "Epoch 72 complete! Validation Accuracy : 0.8349177631578947\n",
      "Best validation loss improved from 0.3589664132971513 to 0.35883875269638865\n",
      "\n",
      "\n",
      "Iteration 14/74 of epoch 73 complete. Loss : 0.17097552014248713 \n"
     ]
    },
    {
     "output_type": "stream",
     "name": "stderr",
     "text": [
      "100%|██████████| 74/74 [00:00<00:00, 301.63it/s]\n",
      "100%|██████████| 19/19 [00:00<00:00, 491.24it/s]"
     ]
    },
    {
     "output_type": "stream",
     "name": "stdout",
     "text": [
      "\n",
      "Iteration 28/74 of epoch 73 complete. Loss : 0.17137467754738672 \n",
      "\n",
      "Iteration 42/74 of epoch 73 complete. Loss : 0.1656039176242692 \n",
      "\n",
      "Iteration 56/74 of epoch 73 complete. Loss : 0.16592000052332878 \n",
      "\n",
      "Iteration 70/74 of epoch 73 complete. Loss : 0.16387802468878881 \n"
     ]
    },
    {
     "output_type": "stream",
     "name": "stderr",
     "text": [
      "\n",
      " 41%|████      | 30/74 [00:00<00:00, 291.63it/s]"
     ]
    },
    {
     "output_type": "stream",
     "name": "stdout",
     "text": [
      "\n",
      "Epoch 73 complete! Validation Loss : 0.35877234527939245\n",
      "Epoch 73 complete! Validation Accuracy : 0.835328947368421\n",
      "Best validation loss improved from 0.35883875269638865 to 0.35877234527939245\n",
      "\n",
      "\n",
      "Iteration 14/74 of epoch 74 complete. Loss : 0.17077524960041046 \n",
      "\n",
      "Iteration 28/74 of epoch 74 complete. Loss : 0.1712238703455244 \n",
      "\n",
      "Iteration 42/74 of epoch 74 complete. Loss : 0.16543589585593768 \n"
     ]
    },
    {
     "output_type": "stream",
     "name": "stderr",
     "text": [
      "100%|██████████| 74/74 [00:00<00:00, 251.57it/s]\n",
      "100%|██████████| 19/19 [00:00<00:00, 401.82it/s]\n",
      "  0%|          | 0/74 [00:00<?, ?it/s]"
     ]
    },
    {
     "output_type": "stream",
     "name": "stdout",
     "text": [
      "\n",
      "Iteration 56/74 of epoch 74 complete. Loss : 0.16573380519236838 \n",
      "\n",
      "Iteration 70/74 of epoch 74 complete. Loss : 0.16373651794024877 \n",
      "\n",
      "Epoch 74 complete! Validation Loss : 0.3586780099492324\n",
      "Epoch 74 complete! Validation Accuracy : 0.835328947368421\n",
      "Best validation loss improved from 0.35877234527939245 to 0.3586780099492324\n",
      "\n"
     ]
    },
    {
     "output_type": "stream",
     "name": "stderr",
     "text": [
      " 64%|██████▎   | 47/74 [00:00<00:00, 229.69it/s]"
     ]
    },
    {
     "output_type": "stream",
     "name": "stdout",
     "text": [
      "\n",
      "Iteration 14/74 of epoch 75 complete. Loss : 0.17054151105029242 \n",
      "\n",
      "Iteration 28/74 of epoch 75 complete. Loss : 0.17108766095978872 \n",
      "\n",
      "Iteration 42/74 of epoch 75 complete. Loss : 0.16525982692837715 \n",
      "\n",
      "Iteration 56/74 of epoch 75 complete. Loss : 0.16554511657782964 \n"
     ]
    },
    {
     "output_type": "stream",
     "name": "stderr",
     "text": [
      "100%|██████████| 74/74 [00:00<00:00, 224.64it/s]\n",
      "100%|██████████| 19/19 [00:00<00:00, 420.21it/s]\n",
      "  0%|          | 0/74 [00:00<?, ?it/s]"
     ]
    },
    {
     "output_type": "stream",
     "name": "stdout",
     "text": [
      "\n",
      "Iteration 70/74 of epoch 75 complete. Loss : 0.16356669047049113 \n",
      "\n",
      "Epoch 75 complete! Validation Loss : 0.35860222578048706\n",
      "Epoch 75 complete! Validation Accuracy : 0.8345065789473685\n",
      "Best validation loss improved from 0.3586780099492324 to 0.35860222578048706\n",
      "\n",
      "\n",
      "Iteration 14/74 of epoch 76 complete. Loss : 0.1703654027410916 \n"
     ]
    },
    {
     "output_type": "stream",
     "name": "stderr",
     "text": [
      " 92%|█████████▏| 68/74 [00:00<00:00, 223.36it/s]"
     ]
    },
    {
     "output_type": "stream",
     "name": "stdout",
     "text": [
      "\n",
      "Iteration 28/74 of epoch 76 complete. Loss : 0.17093345310006822 \n",
      "\n",
      "Iteration 42/74 of epoch 76 complete. Loss : 0.16511385196021625 \n",
      "\n",
      "Iteration 56/74 of epoch 76 complete. Loss : 0.16535243870956556 \n",
      "\n",
      "Iteration 70/74 of epoch 76 complete. Loss : 0.1634095385670662 \n"
     ]
    },
    {
     "output_type": "stream",
     "name": "stderr",
     "text": [
      "100%|██████████| 74/74 [00:00<00:00, 220.93it/s]\n",
      "100%|██████████| 19/19 [00:00<00:00, 413.05it/s]\n",
      " 31%|███       | 23/74 [00:00<00:00, 227.03it/s]"
     ]
    },
    {
     "output_type": "stream",
     "name": "stdout",
     "text": [
      "\n",
      "Epoch 76 complete! Validation Loss : 0.35847966765102585\n",
      "Epoch 76 complete! Validation Accuracy : 0.8345065789473685\n",
      "Best validation loss improved from 0.35860222578048706 to 0.35847966765102585\n",
      "\n",
      "\n",
      "Iteration 14/74 of epoch 77 complete. Loss : 0.17012951789157732 \n",
      "\n",
      "Iteration 28/74 of epoch 77 complete. Loss : 0.17078556971890585 \n",
      "\n",
      "Iteration 42/74 of epoch 77 complete. Loss : 0.16495055119906152 \n"
     ]
    },
    {
     "output_type": "stream",
     "name": "stderr",
     "text": [
      "100%|██████████| 74/74 [00:00<00:00, 207.11it/s]\n",
      "100%|██████████| 19/19 [00:00<00:00, 384.79it/s]\n",
      "  0%|          | 0/74 [00:00<?, ?it/s]"
     ]
    },
    {
     "output_type": "stream",
     "name": "stdout",
     "text": [
      "\n",
      "Iteration 56/74 of epoch 77 complete. Loss : 0.1651564889720508 \n",
      "\n",
      "Iteration 70/74 of epoch 77 complete. Loss : 0.16322738890136992 \n",
      "\n",
      "Epoch 77 complete! Validation Loss : 0.35845429803195755\n",
      "Epoch 77 complete! Validation Accuracy : 0.835328947368421\n",
      "Best validation loss improved from 0.35847966765102585 to 0.35845429803195755\n",
      "\n"
     ]
    },
    {
     "output_type": "stream",
     "name": "stderr",
     "text": [
      " 73%|███████▎  | 54/74 [00:00<00:00, 262.62it/s]"
     ]
    },
    {
     "output_type": "stream",
     "name": "stdout",
     "text": [
      "\n",
      "Iteration 14/74 of epoch 78 complete. Loss : 0.16997696086764336 \n",
      "\n",
      "Iteration 28/74 of epoch 78 complete. Loss : 0.17065765921558654 \n",
      "\n",
      "Iteration 42/74 of epoch 78 complete. Loss : 0.16481627151370049 \n",
      "\n",
      "Iteration 56/74 of epoch 78 complete. Loss : 0.16498943897230284 \n"
     ]
    },
    {
     "output_type": "stream",
     "name": "stderr",
     "text": [
      "100%|██████████| 74/74 [00:00<00:00, 259.38it/s]\n",
      "100%|██████████| 19/19 [00:00<00:00, 373.99it/s]\n",
      "  0%|          | 0/74 [00:00<?, ?it/s]"
     ]
    },
    {
     "output_type": "stream",
     "name": "stdout",
     "text": [
      "\n",
      "Iteration 70/74 of epoch 78 complete. Loss : 0.16307539812156133 \n",
      "\n",
      "Epoch 78 complete! Validation Loss : 0.3583034951435892\n",
      "Epoch 78 complete! Validation Accuracy : 0.8349177631578947\n",
      "Best validation loss improved from 0.35845429803195755 to 0.3583034951435892\n",
      "\n",
      "\n",
      "Iteration 14/74 of epoch 79 complete. Loss : 0.16971820273569652 \n"
     ]
    },
    {
     "output_type": "stream",
     "name": "stderr",
     "text": [
      "100%|██████████| 74/74 [00:00<00:00, 261.31it/s]\n",
      "  0%|          | 0/19 [00:00<?, ?it/s]"
     ]
    },
    {
     "output_type": "stream",
     "name": "stdout",
     "text": [
      "\n",
      "Iteration 28/74 of epoch 79 complete. Loss : 0.17048500052520207 \n",
      "\n",
      "Iteration 42/74 of epoch 79 complete. Loss : 0.16463847990546907 \n",
      "\n",
      "Iteration 56/74 of epoch 79 complete. Loss : 0.16480565709727152 \n",
      "\n",
      "Iteration 70/74 of epoch 79 complete. Loss : 0.16291598975658417 \n"
     ]
    },
    {
     "output_type": "stream",
     "name": "stderr",
     "text": [
      "100%|██████████| 19/19 [00:00<00:00, 454.75it/s]\n",
      " 31%|███       | 23/74 [00:00<00:00, 224.24it/s]"
     ]
    },
    {
     "output_type": "stream",
     "name": "stdout",
     "text": [
      "\n",
      "Epoch 79 complete! Validation Loss : 0.35833034860460383\n",
      "Epoch 79 complete! Validation Accuracy : 0.8357401315789473\n",
      "\n",
      "Iteration 14/74 of epoch 80 complete. Loss : 0.16957612921084678 \n",
      "\n",
      "Iteration 28/74 of epoch 80 complete. Loss : 0.17037232645920344 \n",
      "\n",
      "Iteration 42/74 of epoch 80 complete. Loss : 0.1644962408712932 \n"
     ]
    },
    {
     "output_type": "stream",
     "name": "stderr",
     "text": [
      "100%|██████████| 74/74 [00:00<00:00, 217.68it/s]\n",
      "100%|██████████| 19/19 [00:00<00:00, 206.17it/s]"
     ]
    },
    {
     "output_type": "stream",
     "name": "stdout",
     "text": [
      "\n",
      "Iteration 56/74 of epoch 80 complete. Loss : 0.1646390115576131 \n",
      "\n",
      "Iteration 70/74 of epoch 80 complete. Loss : 0.16274196654558182 \n"
     ]
    },
    {
     "output_type": "stream",
     "name": "stderr",
     "text": [
      "\n",
      " 31%|███       | 23/74 [00:00<00:00, 222.44it/s]"
     ]
    },
    {
     "output_type": "stream",
     "name": "stdout",
     "text": [
      "\n",
      "Epoch 80 complete! Validation Loss : 0.35815518937612834\n",
      "Epoch 80 complete! Validation Accuracy : 0.8357401315789473\n",
      "Best validation loss improved from 0.3583034951435892 to 0.35815518937612834\n",
      "\n",
      "\n",
      "Iteration 14/74 of epoch 81 complete. Loss : 0.1693187499684947 \n",
      "\n",
      "Iteration 28/74 of epoch 81 complete. Loss : 0.17018273366349085 \n",
      "\n",
      "Iteration 42/74 of epoch 81 complete. Loss : 0.16434590997440474 \n"
     ]
    },
    {
     "output_type": "stream",
     "name": "stderr",
     "text": [
      "100%|██████████| 74/74 [00:00<00:00, 248.55it/s]\n",
      "100%|██████████| 19/19 [00:00<00:00, 397.05it/s]\n",
      "  0%|          | 0/74 [00:00<?, ?it/s]"
     ]
    },
    {
     "output_type": "stream",
     "name": "stdout",
     "text": [
      "\n",
      "Iteration 56/74 of epoch 81 complete. Loss : 0.16443632330213273 \n",
      "\n",
      "Iteration 70/74 of epoch 81 complete. Loss : 0.1626003874199731 \n",
      "\n",
      "Epoch 81 complete! Validation Loss : 0.3582505254369033\n",
      "Epoch 81 complete! Validation Accuracy : 0.8345065789473685\n"
     ]
    },
    {
     "output_type": "stream",
     "name": "stderr",
     "text": [
      " 62%|██████▏   | 46/74 [00:00<00:00, 230.06it/s]"
     ]
    },
    {
     "output_type": "stream",
     "name": "stdout",
     "text": [
      "\n",
      "Iteration 14/74 of epoch 82 complete. Loss : 0.16911756513374193 \n",
      "\n",
      "Iteration 28/74 of epoch 82 complete. Loss : 0.17003014790160315 \n",
      "\n",
      "Iteration 42/74 of epoch 82 complete. Loss : 0.16422796355826513 \n",
      "\n",
      "Iteration 56/74 of epoch 82 complete. Loss : 0.16429615073970386 \n"
     ]
    },
    {
     "output_type": "stream",
     "name": "stderr",
     "text": [
      "100%|██████████| 74/74 [00:00<00:00, 225.26it/s]\n",
      "100%|██████████| 19/19 [00:00<00:00, 372.07it/s]\n",
      "  0%|          | 0/74 [00:00<?, ?it/s]"
     ]
    },
    {
     "output_type": "stream",
     "name": "stdout",
     "text": [
      "\n",
      "Iteration 70/74 of epoch 82 complete. Loss : 0.16243123369557516 \n",
      "\n",
      "Epoch 82 complete! Validation Loss : 0.358125029425872\n",
      "Epoch 82 complete! Validation Accuracy : 0.835328947368421\n",
      "Best validation loss improved from 0.35815518937612834 to 0.358125029425872\n",
      "\n"
     ]
    },
    {
     "output_type": "stream",
     "name": "stderr",
     "text": [
      " 55%|█████▌    | 41/74 [00:00<00:00, 176.87it/s]"
     ]
    },
    {
     "output_type": "stream",
     "name": "stdout",
     "text": [
      "\n",
      "Iteration 14/74 of epoch 83 complete. Loss : 0.1688981865133558 \n",
      "\n",
      "Iteration 28/74 of epoch 83 complete. Loss : 0.1698597158704485 \n",
      "\n",
      "Iteration 42/74 of epoch 83 complete. Loss : 0.16407151786344393 \n",
      "\n",
      "Iteration 56/74 of epoch 83 complete. Loss : 0.16409742033907346 \n"
     ]
    },
    {
     "output_type": "stream",
     "name": "stderr",
     "text": [
      "100%|██████████| 74/74 [00:00<00:00, 199.04it/s]\n",
      "100%|██████████| 19/19 [00:00<00:00, 328.98it/s]\n",
      "  0%|          | 0/74 [00:00<?, ?it/s]"
     ]
    },
    {
     "output_type": "stream",
     "name": "stdout",
     "text": [
      "\n",
      "Iteration 70/74 of epoch 83 complete. Loss : 0.16229393865380967 \n",
      "\n",
      "Epoch 83 complete! Validation Loss : 0.3582636368902106\n",
      "Epoch 83 complete! Validation Accuracy : 0.835328947368421\n",
      "\n",
      "Iteration 14/74 of epoch 84 complete. Loss : 0.1686413176357746 \n"
     ]
    },
    {
     "output_type": "stream",
     "name": "stderr",
     "text": [
      "100%|██████████| 74/74 [00:00<00:00, 247.39it/s]\n",
      "  0%|          | 0/19 [00:00<?, ?it/s]"
     ]
    },
    {
     "output_type": "stream",
     "name": "stdout",
     "text": [
      "\n",
      "Iteration 28/74 of epoch 84 complete. Loss : 0.1697046458721161 \n",
      "\n",
      "Iteration 42/74 of epoch 84 complete. Loss : 0.1639500249709402 \n",
      "\n",
      "Iteration 56/74 of epoch 84 complete. Loss : 0.1639252762709345 \n",
      "\n",
      "Iteration 70/74 of epoch 84 complete. Loss : 0.1621313499552863 \n"
     ]
    },
    {
     "output_type": "stream",
     "name": "stderr",
     "text": [
      "100%|██████████| 19/19 [00:00<00:00, 366.06it/s]\n",
      " 34%|███▍      | 25/74 [00:00<00:00, 248.28it/s]"
     ]
    },
    {
     "output_type": "stream",
     "name": "stdout",
     "text": [
      "\n",
      "Epoch 84 complete! Validation Loss : 0.35829742017545196\n",
      "Epoch 84 complete! Validation Accuracy : 0.835328947368421\n",
      "\n",
      "Iteration 14/74 of epoch 85 complete. Loss : 0.16843323462775775 \n",
      "\n",
      "Iteration 28/74 of epoch 85 complete. Loss : 0.16951525211334229 \n",
      "\n",
      "Iteration 42/74 of epoch 85 complete. Loss : 0.16383611197982514 \n"
     ]
    },
    {
     "output_type": "stream",
     "name": "stderr",
     "text": [
      "100%|██████████| 74/74 [00:00<00:00, 243.33it/s]\n",
      "100%|██████████| 19/19 [00:00<00:00, 350.33it/s]\n",
      "  0%|          | 0/74 [00:00<?, ?it/s]"
     ]
    },
    {
     "output_type": "stream",
     "name": "stdout",
     "text": [
      "\n",
      "Iteration 56/74 of epoch 85 complete. Loss : 0.16376506111451558 \n",
      "\n",
      "Iteration 70/74 of epoch 85 complete. Loss : 0.16195942887238093 \n",
      "\n",
      "Epoch 85 complete! Validation Loss : 0.35824062322315414\n",
      "Epoch 85 complete! Validation Accuracy : 0.835328947368421\n"
     ]
    },
    {
     "output_type": "stream",
     "name": "stderr",
     "text": [
      " 68%|██████▊   | 50/74 [00:00<00:00, 241.66it/s]"
     ]
    },
    {
     "output_type": "stream",
     "name": "stdout",
     "text": [
      "\n",
      "Iteration 14/74 of epoch 86 complete. Loss : 0.1682606845029763 \n",
      "\n",
      "Iteration 28/74 of epoch 86 complete. Loss : 0.1693468764424324 \n",
      "\n",
      "Iteration 42/74 of epoch 86 complete. Loss : 0.1637154711144311 \n",
      "\n",
      "Iteration 56/74 of epoch 86 complete. Loss : 0.16360249955739295 \n"
     ]
    },
    {
     "output_type": "stream",
     "name": "stderr",
     "text": [
      "100%|██████████| 74/74 [00:00<00:00, 234.57it/s]\n",
      "100%|██████████| 19/19 [00:00<00:00, 363.25it/s]\n",
      "  0%|          | 0/74 [00:00<?, ?it/s]"
     ]
    },
    {
     "output_type": "stream",
     "name": "stdout",
     "text": [
      "\n",
      "Iteration 70/74 of epoch 86 complete. Loss : 0.1618098435657365 \n",
      "\n",
      "Epoch 86 complete! Validation Loss : 0.35827984778504623\n",
      "Epoch 86 complete! Validation Accuracy : 0.835328947368421\n",
      "\n",
      "Iteration 14/74 of epoch 87 complete. Loss : 0.16802666176642692 \n"
     ]
    },
    {
     "output_type": "stream",
     "name": "stderr",
     "text": [
      "100%|██████████| 74/74 [00:00<00:00, 239.21it/s]\n",
      "  0%|          | 0/19 [00:00<?, ?it/s]"
     ]
    },
    {
     "output_type": "stream",
     "name": "stdout",
     "text": [
      "\n",
      "Iteration 28/74 of epoch 87 complete. Loss : 0.1691545620560646 \n",
      "\n",
      "Iteration 42/74 of epoch 87 complete. Loss : 0.16359668650797435 \n",
      "\n",
      "Iteration 56/74 of epoch 87 complete. Loss : 0.1633918716439179 \n",
      "\n",
      "Iteration 70/74 of epoch 87 complete. Loss : 0.1616472133568355 \n"
     ]
    },
    {
     "output_type": "stream",
     "name": "stderr",
     "text": [
      "100%|██████████| 19/19 [00:00<00:00, 372.48it/s]\n",
      " 35%|███▌      | 26/74 [00:00<00:00, 250.01it/s]"
     ]
    },
    {
     "output_type": "stream",
     "name": "stdout",
     "text": [
      "\n",
      "Epoch 87 complete! Validation Loss : 0.3584075460308476\n",
      "Epoch 87 complete! Validation Accuracy : 0.8361513157894737\n",
      "\n",
      "Iteration 14/74 of epoch 88 complete. Loss : 0.1677837728389672 \n",
      "\n",
      "Iteration 28/74 of epoch 88 complete. Loss : 0.16896012957606996 \n",
      "\n",
      "Iteration 42/74 of epoch 88 complete. Loss : 0.16341643461159297 \n"
     ]
    },
    {
     "output_type": "stream",
     "name": "stderr",
     "text": [
      "100%|██████████| 74/74 [00:00<00:00, 233.77it/s]\n",
      "100%|██████████| 19/19 [00:00<00:00, 374.03it/s]\n",
      "  0%|          | 0/74 [00:00<?, ?it/s]"
     ]
    },
    {
     "output_type": "stream",
     "name": "stdout",
     "text": [
      "\n",
      "Iteration 56/74 of epoch 88 complete. Loss : 0.16319503475512778 \n",
      "\n",
      "Iteration 70/74 of epoch 88 complete. Loss : 0.1615050584077835 \n",
      "\n",
      "Epoch 88 complete! Validation Loss : 0.35864445410276713\n",
      "Epoch 88 complete! Validation Accuracy : 0.8365625\n"
     ]
    },
    {
     "output_type": "stream",
     "name": "stderr",
     "text": [
      " 62%|██████▏   | 46/74 [00:00<00:00, 227.88it/s]"
     ]
    },
    {
     "output_type": "stream",
     "name": "stdout",
     "text": [
      "\n",
      "Iteration 14/74 of epoch 89 complete. Loss : 0.16749767693025724 \n",
      "\n",
      "Iteration 28/74 of epoch 89 complete. Loss : 0.16874457682882035 \n",
      "\n",
      "Iteration 42/74 of epoch 89 complete. Loss : 0.1632902090038572 \n",
      "\n",
      "Iteration 56/74 of epoch 89 complete. Loss : 0.1630095610661166 \n"
     ]
    },
    {
     "output_type": "stream",
     "name": "stderr",
     "text": [
      "100%|██████████| 74/74 [00:00<00:00, 204.39it/s]\n",
      "100%|██████████| 19/19 [00:00<00:00, 332.51it/s]\n",
      "  0%|          | 0/74 [00:00<?, ?it/s]"
     ]
    },
    {
     "output_type": "stream",
     "name": "stdout",
     "text": [
      "\n",
      "Iteration 70/74 of epoch 89 complete. Loss : 0.1613264616046633 \n",
      "\n",
      "Epoch 89 complete! Validation Loss : 0.35868300262250397\n",
      "Epoch 89 complete! Validation Accuracy : 0.8373848684210526\n",
      "\n",
      "Iteration 14/74 of epoch 90 complete. Loss : 0.16729758254119328 \n"
     ]
    },
    {
     "output_type": "stream",
     "name": "stderr",
     "text": [
      "100%|██████████| 74/74 [00:00<00:00, 222.29it/s]\n",
      "  0%|          | 0/19 [00:00<?, ?it/s]"
     ]
    },
    {
     "output_type": "stream",
     "name": "stdout",
     "text": [
      "\n",
      "Iteration 28/74 of epoch 90 complete. Loss : 0.16854242022548402 \n",
      "\n",
      "Iteration 42/74 of epoch 90 complete. Loss : 0.16311696118542127 \n",
      "\n",
      "Iteration 56/74 of epoch 90 complete. Loss : 0.16279183487807 \n",
      "\n",
      "Iteration 70/74 of epoch 90 complete. Loss : 0.16115372734410421 \n"
     ]
    },
    {
     "output_type": "stream",
     "name": "stderr",
     "text": [
      "100%|██████████| 19/19 [00:00<00:00, 387.46it/s]\n",
      " 16%|█▌        | 12/74 [00:00<00:00, 116.26it/s]"
     ]
    },
    {
     "output_type": "stream",
     "name": "stdout",
     "text": [
      "\n",
      "Epoch 90 complete! Validation Loss : 0.3588035937986876\n",
      "Epoch 90 complete! Validation Accuracy : 0.8386184210526316\n",
      "\n",
      "Iteration 14/74 of epoch 91 complete. Loss : 0.16704072643603599 \n"
     ]
    },
    {
     "output_type": "stream",
     "name": "stderr",
     "text": [
      " 65%|██████▍   | 48/74 [00:00<00:00, 112.41it/s]"
     ]
    },
    {
     "output_type": "stream",
     "name": "stdout",
     "text": [
      "\n",
      "Iteration 28/74 of epoch 91 complete. Loss : 0.16834371111222676 \n",
      "\n",
      "Iteration 42/74 of epoch 91 complete. Loss : 0.1635340377688408 \n",
      "\n",
      "Iteration 56/74 of epoch 91 complete. Loss : 0.16255238599010877 \n"
     ]
    },
    {
     "output_type": "stream",
     "name": "stderr",
     "text": [
      "100%|██████████| 74/74 [00:00<00:00, 148.95it/s]\n",
      "100%|██████████| 19/19 [00:00<00:00, 488.52it/s]\n",
      "  0%|          | 0/74 [00:00<?, ?it/s]"
     ]
    },
    {
     "output_type": "stream",
     "name": "stdout",
     "text": [
      "\n",
      "Iteration 70/74 of epoch 91 complete. Loss : 0.1610580182501248 \n",
      "\n",
      "Epoch 91 complete! Validation Loss : 0.3592935518214577\n",
      "Epoch 91 complete! Validation Accuracy : 0.837796052631579\n",
      "\n",
      "Iteration 14/74 of epoch 92 complete. Loss : 0.1668431152190481 \n",
      "\n",
      "Iteration 28/74 of epoch 92 complete. Loss : 0.1680187178509576 \n"
     ]
    },
    {
     "output_type": "stream",
     "name": "stderr",
     "text": [
      "100%|██████████| 74/74 [00:00<00:00, 238.27it/s]\n",
      "  0%|          | 0/19 [00:00<?, ?it/s]"
     ]
    },
    {
     "output_type": "stream",
     "name": "stdout",
     "text": [
      "\n",
      "Iteration 42/74 of epoch 92 complete. Loss : 0.1627247099365507 \n",
      "\n",
      "Iteration 56/74 of epoch 92 complete. Loss : 0.1623173159148012 \n",
      "\n",
      "Iteration 70/74 of epoch 92 complete. Loss : 0.16075757039444788 \n"
     ]
    },
    {
     "output_type": "stream",
     "name": "stderr",
     "text": [
      "100%|██████████| 19/19 [00:00<00:00, 475.77it/s]\n",
      " 32%|███▏      | 24/74 [00:00<00:00, 234.22it/s]"
     ]
    },
    {
     "output_type": "stream",
     "name": "stdout",
     "text": [
      "\n",
      "Epoch 92 complete! Validation Loss : 0.3588121909844248\n",
      "Epoch 92 complete! Validation Accuracy : 0.8394407894736842\n",
      "\n",
      "Iteration 14/74 of epoch 93 complete. Loss : 0.16654941279973304 \n",
      "\n",
      "Iteration 28/74 of epoch 93 complete. Loss : 0.16783562302589417 \n",
      "\n",
      "Iteration 42/74 of epoch 93 complete. Loss : 0.16246361657977104 \n"
     ]
    },
    {
     "output_type": "stream",
     "name": "stderr",
     "text": [
      "100%|██████████| 74/74 [00:00<00:00, 233.20it/s]\n",
      " 63%|██████▎   | 12/19 [00:00<00:00, 119.34it/s]"
     ]
    },
    {
     "output_type": "stream",
     "name": "stdout",
     "text": [
      "\n",
      "Iteration 56/74 of epoch 93 complete. Loss : 0.16208744634475028 \n",
      "\n",
      "Iteration 70/74 of epoch 93 complete. Loss : 0.16061050977025712 \n"
     ]
    },
    {
     "output_type": "stream",
     "name": "stderr",
     "text": [
      "100%|██████████| 19/19 [00:00<00:00, 113.34it/s]\n",
      " 41%|████      | 30/74 [00:00<00:00, 289.80it/s]"
     ]
    },
    {
     "output_type": "stream",
     "name": "stdout",
     "text": [
      "\n",
      "Epoch 93 complete! Validation Loss : 0.3588644626893495\n",
      "Epoch 93 complete! Validation Accuracy : 0.8382072368421053\n",
      "\n",
      "Iteration 14/74 of epoch 94 complete. Loss : 0.16628410134996688 \n",
      "\n",
      "Iteration 28/74 of epoch 94 complete. Loss : 0.16760460606643132 \n",
      "\n",
      "Iteration 42/74 of epoch 94 complete. Loss : 0.16229738614388875 \n"
     ]
    },
    {
     "output_type": "stream",
     "name": "stderr",
     "text": [
      "100%|██████████| 74/74 [00:00<00:00, 252.56it/s]\n",
      "  0%|          | 0/19 [00:00<?, ?it/s]"
     ]
    },
    {
     "output_type": "stream",
     "name": "stdout",
     "text": [
      "\n",
      "Iteration 56/74 of epoch 94 complete. Loss : 0.1618515205170427 \n",
      "\n",
      "Iteration 70/74 of epoch 94 complete. Loss : 0.16043228549616678 \n"
     ]
    },
    {
     "output_type": "stream",
     "name": "stderr",
     "text": [
      "100%|██████████| 19/19 [00:00<00:00, 102.67it/s]\n",
      " 15%|█▍        | 11/74 [00:00<00:00, 105.31it/s]"
     ]
    },
    {
     "output_type": "stream",
     "name": "stdout",
     "text": [
      "\n",
      "Epoch 94 complete! Validation Loss : 0.35869312286376953\n",
      "Epoch 94 complete! Validation Accuracy : 0.8384375\n",
      "\n",
      "Iteration 14/74 of epoch 95 complete. Loss : 0.16607590285795076 \n",
      "\n",
      "Iteration 28/74 of epoch 95 complete. Loss : 0.16738396776574 \n"
     ]
    },
    {
     "output_type": "stream",
     "name": "stderr",
     "text": [
      "100%|██████████| 74/74 [00:00<00:00, 169.09it/s]\n",
      "  0%|          | 0/19 [00:00<?, ?it/s]"
     ]
    },
    {
     "output_type": "stream",
     "name": "stdout",
     "text": [
      "\n",
      "Iteration 42/74 of epoch 95 complete. Loss : 0.162031034805945 \n",
      "\n",
      "Iteration 56/74 of epoch 95 complete. Loss : 0.16160369451556886 \n",
      "\n",
      "Iteration 70/74 of epoch 95 complete. Loss : 0.1602480262517929 \n"
     ]
    },
    {
     "output_type": "stream",
     "name": "stderr",
     "text": [
      "100%|██████████| 19/19 [00:00<00:00, 496.31it/s]\n",
      " 35%|███▌      | 26/74 [00:00<00:00, 251.44it/s]"
     ]
    },
    {
     "output_type": "stream",
     "name": "stdout",
     "text": [
      "\n",
      "Epoch 95 complete! Validation Loss : 0.35857490489357396\n",
      "Epoch 95 complete! Validation Accuracy : 0.8388486842105263\n",
      "\n",
      "Iteration 14/74 of epoch 96 complete. Loss : 0.1658274760203702 \n",
      "\n",
      "Iteration 28/74 of epoch 96 complete. Loss : 0.1671514766556876 \n",
      "\n",
      "Iteration 42/74 of epoch 96 complete. Loss : 0.16180127646241868 \n"
     ]
    },
    {
     "output_type": "stream",
     "name": "stderr",
     "text": [
      "100%|██████████| 74/74 [00:00<00:00, 225.62it/s]\n",
      "100%|██████████| 19/19 [00:00<00:00, 316.71it/s]\n"
     ]
    },
    {
     "output_type": "stream",
     "name": "stdout",
     "text": [
      "\n",
      "Iteration 56/74 of epoch 96 complete. Loss : 0.1613226719200611 \n",
      "\n",
      "Iteration 70/74 of epoch 96 complete. Loss : 0.1600498535803386 \n"
     ]
    },
    {
     "output_type": "stream",
     "name": "stderr",
     "text": [
      " 30%|██▉       | 22/74 [00:00<00:00, 215.83it/s]"
     ]
    },
    {
     "output_type": "stream",
     "name": "stdout",
     "text": [
      "\n",
      "Epoch 96 complete! Validation Loss : 0.3582855839478342\n",
      "Epoch 96 complete! Validation Accuracy : 0.8388486842105263\n",
      "\n",
      "Iteration 14/74 of epoch 97 complete. Loss : 0.16561333356159075 \n",
      "\n",
      "Iteration 28/74 of epoch 97 complete. Loss : 0.1669279932975769 \n"
     ]
    },
    {
     "output_type": "stream",
     "name": "stderr",
     "text": [
      "100%|██████████| 74/74 [00:00<00:00, 192.02it/s]\n",
      "  0%|          | 0/19 [00:00<?, ?it/s]"
     ]
    },
    {
     "output_type": "stream",
     "name": "stdout",
     "text": [
      "\n",
      "Iteration 42/74 of epoch 97 complete. Loss : 0.16158520323889597 \n",
      "\n",
      "Iteration 56/74 of epoch 97 complete. Loss : 0.16108718514442444 \n",
      "\n",
      "Iteration 70/74 of epoch 97 complete. Loss : 0.1598780591573034 \n"
     ]
    },
    {
     "output_type": "stream",
     "name": "stderr",
     "text": [
      "100%|██████████| 19/19 [00:00<00:00, 200.55it/s]\n",
      " 18%|█▊        | 13/74 [00:00<00:00, 123.68it/s]"
     ]
    },
    {
     "output_type": "stream",
     "name": "stdout",
     "text": [
      "\n",
      "Epoch 97 complete! Validation Loss : 0.3580300980492642\n",
      "Epoch 97 complete! Validation Accuracy : 0.8380263157894736\n",
      "Best validation loss improved from 0.358125029425872 to 0.3580300980492642\n",
      "\n",
      "\n",
      "Iteration 14/74 of epoch 98 complete. Loss : 0.16537602405462945 \n"
     ]
    },
    {
     "output_type": "stream",
     "name": "stderr",
     "text": [
      " 72%|███████▏  | 53/74 [00:00<00:00, 127.08it/s]"
     ]
    },
    {
     "output_type": "stream",
     "name": "stdout",
     "text": [
      "\n",
      "Iteration 28/74 of epoch 98 complete. Loss : 0.1666830682328769 \n",
      "\n",
      "Iteration 42/74 of epoch 98 complete. Loss : 0.16133400425314903 \n"
     ]
    },
    {
     "output_type": "stream",
     "name": "stderr",
     "text": [
      "100%|██████████| 74/74 [00:00<00:00, 130.12it/s]\n",
      "  0%|          | 0/19 [00:00<?, ?it/s]"
     ]
    },
    {
     "output_type": "stream",
     "name": "stdout",
     "text": [
      "\n",
      "Iteration 56/74 of epoch 98 complete. Loss : 0.1608208529651165 \n",
      "\n",
      "Iteration 70/74 of epoch 98 complete. Loss : 0.15965462156704494 \n"
     ]
    },
    {
     "output_type": "stream",
     "name": "stderr",
     "text": [
      "100%|██████████| 19/19 [00:00<00:00, 171.91it/s]\n",
      " 14%|█▎        | 10/74 [00:00<00:00, 98.80it/s]"
     ]
    },
    {
     "output_type": "stream",
     "name": "stdout",
     "text": [
      "\n",
      "Epoch 98 complete! Validation Loss : 0.3576485546011674\n",
      "Epoch 98 complete! Validation Accuracy : 0.8372039473684211\n",
      "Best validation loss improved from 0.3580300980492642 to 0.3576485546011674\n",
      "\n",
      "\n",
      "Iteration 14/74 of epoch 99 complete. Loss : 0.16516973291124618 \n"
     ]
    },
    {
     "output_type": "stream",
     "name": "stderr",
     "text": [
      " 62%|██████▏   | 46/74 [00:00<00:00, 111.64it/s]"
     ]
    },
    {
     "output_type": "stream",
     "name": "stdout",
     "text": [
      "\n",
      "Iteration 28/74 of epoch 99 complete. Loss : 0.16645547321864537 \n",
      "\n",
      "Iteration 42/74 of epoch 99 complete. Loss : 0.16108821917857444 \n"
     ]
    },
    {
     "output_type": "stream",
     "name": "stderr",
     "text": [
      "100%|██████████| 74/74 [00:00<00:00, 122.50it/s]\n",
      "100%|██████████| 19/19 [00:00<00:00, 490.52it/s]"
     ]
    },
    {
     "output_type": "stream",
     "name": "stdout",
     "text": [
      "\n",
      "Iteration 56/74 of epoch 99 complete. Loss : 0.16056258071746146 \n",
      "\n",
      "Iteration 70/74 of epoch 99 complete. Loss : 0.15946637306894576 \n"
     ]
    },
    {
     "output_type": "stream",
     "name": "stderr",
     "text": [
      "\n",
      " 14%|█▎        | 10/74 [00:00<00:00, 93.79it/s]"
     ]
    },
    {
     "output_type": "stream",
     "name": "stdout",
     "text": [
      "\n",
      "Epoch 99 complete! Validation Loss : 0.35736283816789327\n",
      "Epoch 99 complete! Validation Accuracy : 0.8372039473684211\n",
      "Best validation loss improved from 0.3576485546011674 to 0.35736283816789327\n",
      "\n",
      "\n",
      "Iteration 14/74 of epoch 100 complete. Loss : 0.1649753334266799 \n"
     ]
    },
    {
     "output_type": "stream",
     "name": "stderr",
     "text": [
      "100%|██████████| 74/74 [00:00<00:00, 186.02it/s]\n",
      "  0%|          | 0/19 [00:00<?, ?it/s]"
     ]
    },
    {
     "output_type": "stream",
     "name": "stdout",
     "text": [
      "\n",
      "Iteration 28/74 of epoch 100 complete. Loss : 0.1662306051169123 \n",
      "\n",
      "Iteration 42/74 of epoch 100 complete. Loss : 0.160834651440382 \n",
      "\n",
      "Iteration 56/74 of epoch 100 complete. Loss : 0.16030529460736684 \n",
      "\n",
      "Iteration 70/74 of epoch 100 complete. Loss : 0.1592474952340126 \n"
     ]
    },
    {
     "output_type": "stream",
     "name": "stderr",
     "text": [
      "100%|██████████| 19/19 [00:00<00:00, 430.06it/s]\n"
     ]
    },
    {
     "output_type": "stream",
     "name": "stdout",
     "text": [
      "\n",
      "Epoch 100 complete! Validation Loss : 0.3570247010180825\n",
      "Epoch 100 complete! Validation Accuracy : 0.8376151315789473\n",
      "Best validation loss improved from 0.35736283816789327 to 0.3570247010180825\n",
      "\n",
      "The model has been saved in saved_models/class_contrast_vbert_lr_3e-05_val_loss_0.35702_ep_100.pt\n"
     ]
    }
   ],
   "metadata": {}
  },
  {
   "cell_type": "code",
   "execution_count": 27,
   "source": [
    "def evaluate(prediction_dataloader, model, path_to_model, load = False):\n",
    "\t# Prediction on test set\n",
    "\tif load:\n",
    "\t\tprint(\"Loading the weights of the model...\")\n",
    "\t\tmodel.load_state_dict(torch.load(path_to_model))\n",
    "\n",
    "\tprint('Evaluating on the testset')\n",
    "\n",
    "\t# Put model in evaluation mode\n",
    "\tmodel.eval()\n",
    "\n",
    "\t# Tracking variables \n",
    "\tpredictions , true_labels = [], []\n",
    "\n",
    "\t# Predict \n",
    "\tfor batch in prediction_dataloader:\n",
    "\t  # Add batch to GPU\n",
    "\t  batch = tuple(t.to(device) for t in batch)\n",
    "\t  \n",
    "\t  # Unpack the inputs from our dataloader\n",
    "\t  b_t_inputs, b_s_inputs, b_labels = batch\n",
    "\t  \n",
    "\t  # Telling the model not to compute or store gradients, saving memory and \n",
    "\t  # speeding up prediction\n",
    "\t  with torch.no_grad():\n",
    "\t      # Forward pass, calculate logit predictions\n",
    "\t      logits = model(b_t_inputs, b_s_inputs)\n",
    "\n",
    "\t  # Move logits and labels to CPU\n",
    "\t  logits = logits.detach().cpu().numpy()\n",
    "\t  label_ids = b_labels.to('cpu').numpy()\n",
    "\n",
    "\t  pred_flat = np.argmax(logits, axis=1).flatten()\n",
    "\t  labels_flat = label_ids.flatten()\n",
    "\t  \n",
    "\t  # Store predictions and true labels\n",
    "\t  predictions.extend(pred_flat)\n",
    "\t  true_labels.extend(labels_flat)\n",
    "\n",
    "\tprint('DONE.')\n",
    "\n",
    "\t# Code for result display\n",
    "\tprint('NovFake Multi-Modal Classification accuracy is')\n",
    "\tprint(metrics.accuracy_score(true_labels, predictions)*100)\n",
    "\tprint(classification_report(true_labels, predictions, target_names = ['fake', 'real']))\n",
    "\t# Converting to csv\n",
    "\t# Removed transpose - check if actually required\n",
    "\tmodel_name = 'class_contrast'\n",
    "\tclsf_report = pd.DataFrame(classification_report(y_true = true_labels, y_pred = predictions, output_dict=True, target_names = ['fake', 'real']))\n",
    "\tclsf_report.to_csv(str('saved_models/'+model_name+'.csv'), index= True)"
   ],
   "outputs": [],
   "metadata": {}
  },
  {
   "cell_type": "code",
   "execution_count": 28,
   "source": [
    "path_to_model = 'saved_models/class_contrast_visualbert_lr_3e-05_val_loss_0.35285_ep_100.pt'\n",
    "evaluate(test_dataloader, model, path_to_model = path_to_model, load = False)"
   ],
   "outputs": [
    {
     "output_type": "stream",
     "name": "stdout",
     "text": [
      "Evaluating on the testset\n",
      "DONE.\n",
      "NovFake Multi-Modal Classification accuracy is\n",
      "83.68734069668649\n",
      "              precision    recall  f1-score   support\n",
      "\n",
      "        fake       0.84      0.78      0.81      1031\n",
      "        real       0.84      0.88      0.86      1323\n",
      "\n",
      "    accuracy                           0.84      2354\n",
      "   macro avg       0.84      0.83      0.83      2354\n",
      "weighted avg       0.84      0.84      0.84      2354\n",
      "\n"
     ]
    }
   ],
   "metadata": {}
  }
 ],
 "metadata": {
  "orig_nbformat": 4,
  "language_info": {
   "name": "python",
   "version": "3.6.11",
   "mimetype": "text/x-python",
   "codemirror_mode": {
    "name": "ipython",
    "version": 3
   },
   "pygments_lexer": "ipython3",
   "nbconvert_exporter": "python",
   "file_extension": ".py"
  },
  "kernelspec": {
   "name": "python3",
   "display_name": "Python 3.6.11 64-bit ('nischalbert': conda)"
  },
  "interpreter": {
   "hash": "0696385c5246d56224b3df6a6986a599d480293d408bf11c4f5f6fcdcc1568f1"
  }
 },
 "nbformat": 4,
 "nbformat_minor": 2
}