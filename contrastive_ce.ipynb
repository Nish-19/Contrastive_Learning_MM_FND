{
 "cells": [
  {
   "cell_type": "code",
   "execution_count": 1,
   "metadata": {},
   "outputs": [],
   "source": [
    "import os\n",
    "gpu_number = \"0\" # Choose either 0 or 1\n",
    "os.environ['CUDA_ENVIRONMENT_DEVICES'] = gpu_number"
   ]
  },
  {
   "cell_type": "code",
   "execution_count": 2,
   "metadata": {},
   "outputs": [],
   "source": [
    "import os\n",
    "import sys\n",
    "import numpy as np\n",
    "from numpy import asarray,zeros\n",
    "import pandas as pd \n",
    "from sklearn.model_selection import train_test_split\n",
    "import torch\n",
    "from torch.utils.data import TensorDataset, DataLoader, RandomSampler, SequentialSampler, Dataset\n",
    "import torch.nn as nn\n",
    "import torch.nn.functional as F\n",
    "import torch.optim as optim\n",
    "from tqdm import tqdm\n",
    "import matplotlib.pyplot as plt\n",
    "import copy\n",
    "from sklearn.model_selection import train_test_split\n",
    "from sklearn import metrics\n",
    "from sklearn.metrics import classification_report\n",
    "import transformers\n",
    "from transformers import BertTokenizer\n",
    "from transformers import AdamW, get_linear_schedule_with_warmup\n",
    "from transformers import AutoTokenizer, AutoModel, AutoConfig, AdamW, get_linear_schedule_with_warmup\n",
    "from tensorflow.keras.preprocessing.text import Tokenizer\n",
    "from tensorflow.keras.preprocessing.sequence import pad_sequences\n",
    "import timm\n",
    "from losses import SupConLoss\n",
    "from torchlars import LARS"
   ]
  },
  {
   "cell_type": "code",
   "execution_count": 3,
   "metadata": {},
   "outputs": [
    {
     "name": "stdout",
     "output_type": "stream",
     "text": [
      "Using device cuda:0\n"
     ]
    }
   ],
   "source": [
    "if torch.cuda.is_available():\n",
    "    device_name = \"cuda:\" + gpu_number\n",
    "    device = torch.device(device_name)\n",
    "else:\n",
    "    device = torch.device(\"cpu\")\n",
    "# device = torch.device(\"cpu\") # Force CPU\n",
    "print(\"Using device\", device)"
   ]
  },
  {
   "cell_type": "markdown",
   "metadata": {},
   "source": [
    "# Loading Data"
   ]
  },
  {
   "cell_type": "code",
   "execution_count": 4,
   "metadata": {},
   "outputs": [],
   "source": [
    "demark_dict = {'Snp':{'start':0, 'end':1663},\n",
    "                'Rtr':{'start':1664, 'end':2630},\n",
    "                'Rcv':{'start':2631, 'end':4716},\n",
    "                'Tcn':{'start':4717, 'end':11765}}"
   ]
  },
  {
   "cell_type": "code",
   "execution_count": 5,
   "metadata": {},
   "outputs": [
    {
     "name": "stdout",
     "output_type": "stream",
     "text": [
      "Model name contrast_ce_vbert_full\n",
      "Source shape (11766, 768)\n",
      "Target shape (11766, 768)\n",
      "Labels shape (11766,)\n"
     ]
    }
   ],
   "source": [
    "# Loading Choice\n",
    "base_model_name = 'vbert' # choice 'vbert' or 'rbert'\n",
    "dataset_split = 'full' # 'full' or 'faux' or 'ticnn' or 'recov'\n",
    "model_name = ''\n",
    "if base_model_name =='rbert':\n",
    "    source_multimodal_data_full = np.load(\"../data/source_multimodal_out.npy\")\n",
    "    target_multimodal_data_full = np.load(\"../data/target_multimodal_out.npy\")\n",
    "    labels_data_full = np.load(\"../data/labels.npy\").squeeze(1)\n",
    "    # contrastive_model_path = 'saved_models/contrast_head_rbert_lr_5_ep_1000.pt'\n",
    "    contrastive_model_path = 'saved_models/contrast_head_rbert_split_lr_5_ep_1000.pt' # Split Model\n",
    "    data_ids_full = np.load(\"../data/ids.npy\").squeeze(1)\n",
    "    model_name = 'contrast_ce_rbert'\n",
    "elif base_model_name == 'vbert':\n",
    "    source_multimodal_data_full = np.load(\"../data/source_mm_vbert.npy\")\n",
    "    target_multimodal_data_full = np.load(\"../data/target_mm_vbert.npy\")\n",
    "    labels_data_full = np.load(\"../data/labels.npy\").squeeze(1)\n",
    "    contrastive_model_path = 'saved_models/contrast_head_vbert_lr_5_ep_1000.pt'\n",
    "    # contrastive_model_path = 'saved_models/contrast_head_vbert_split_lr_5_ep_1000.pt' # Split Model\n",
    "    data_ids_full = np.load(\"../data/ids.npy\").squeeze(1)\n",
    "    model_name = 'contrast_ce_vbert'\n",
    "\n",
    "if dataset_split == 'full':\n",
    "    source_multimodal_data = source_multimodal_data_full\n",
    "    target_multimodal_data = target_multimodal_data_full\n",
    "    labels_data = labels_data_full\n",
    "    data_ids = data_ids_full\n",
    "    model_name = model_name + '_full'\n",
    "elif dataset_split == 'faux':\n",
    "    src_snoopes = source_multimodal_data_full[demark_dict['Snp']['start']:demark_dict['Snp']['end'],:]\n",
    "    tar_snoopes = target_multimodal_data_full[demark_dict['Snp']['start']:demark_dict['Snp']['end'],:]\n",
    "    lab_snoopes = labels_data_full[demark_dict['Snp']['start']:demark_dict['Snp']['end']]\n",
    "    src_rtr = source_multimodal_data_full[demark_dict['Rtr']['start']:demark_dict['Rtr']['end'],:]\n",
    "    tar_rtr = target_multimodal_data_full[demark_dict['Rtr']['start']:demark_dict['Rtr']['end'],:]\n",
    "    lab_tar = labels_data_full[demark_dict['Rtr']['start']:demark_dict['Rtr']['end']]\n",
    "    source_multimodal_data = np.concatenate((src_snoopes, src_rtr), axis=0)\n",
    "    target_multimodal_data = np.concatenate((tar_snoopes, tar_rtr), axis=0)\n",
    "    labels_data = np.concatenate((lab_snoopes, lab_tar), axis=0)\n",
    "    model_name = model_name + '_faux'\n",
    "elif dataset_split == 'recov':\n",
    "    source_multimodal_data = source_multimodal_data_full[demark_dict['Rcv']['start']:demark_dict['Rcv']['end'],:]\n",
    "    target_multimodal_data = target_multimodal_data_full[demark_dict['Rcv']['start']:demark_dict['Rcv']['end'],:]\n",
    "    labels_data = labels_data_full[demark_dict['Rcv']['start']:demark_dict['Rcv']['end']]\n",
    "    model_name = model_name + '_recov'\n",
    "elif dataset_split == 'ticnn':\n",
    "    source_multimodal_data = source_multimodal_data_full[demark_dict['Tcn']['start']:demark_dict['Tcn']['end'],:]\n",
    "    target_multimodal_data = target_multimodal_data_full[demark_dict['Tcn']['start']:demark_dict['Tcn']['end'],:]\n",
    "    labels_data = labels_data_full[demark_dict['Tcn']['start']:demark_dict['Tcn']['end']]\n",
    "    model_name = model_name + '_ticnn'\n",
    "\n",
    "#TODO: Printing the shape of the model\n",
    "print('Model name', model_name)\n",
    "print('Source shape', source_multimodal_data.shape)\n",
    "print('Target shape', target_multimodal_data.shape)\n",
    "print('Labels shape', labels_data.shape)"
   ]
  },
  {
   "cell_type": "code",
   "execution_count": 6,
   "metadata": {},
   "outputs": [
    {
     "name": "stdout",
     "output_type": "stream",
     "text": [
      "tensor([0.5793, 0.4207], device='cuda:0')\n"
     ]
    }
   ],
   "source": [
    "#TODO: Get Class weights\n",
    "from collections import Counter \n",
    "weights = Counter(labels_data)\n",
    "fake_weight = weights[1]/(weights[0]+weights[1])\n",
    "real_weight = weights[0]/(weights[0]+weights[1])\n",
    "class_weights = torch.tensor([fake_weight, real_weight], device=device)\n",
    "print(class_weights)"
   ]
  },
  {
   "cell_type": "code",
   "execution_count": 7,
   "metadata": {},
   "outputs": [],
   "source": [
    "# # NOTE: Resnet+BERT Multimodal data\n",
    "# source_multimodal_arr = np.load(\"../data/source_multimodal_out.npy\")\n",
    "# target_multimodal_arr = np.load(\"../data/target_multimodal_out.npy\")\n",
    "# print(\"Source shape\", source_multimodal_arr.shape)\n",
    "# print(\"Target shape\", target_multimodal_arr.shape)"
   ]
  },
  {
   "cell_type": "code",
   "execution_count": 8,
   "metadata": {},
   "outputs": [],
   "source": [
    "# # NOTE: Import Visual BERT Multimodal data\n",
    "# source_multimodal_arr = np.load(\"../data/source_mm_vbert.npy\")\n",
    "# target_multimodal_arr = np.load(\"../data/target_mm_vbert.npy\")"
   ]
  },
  {
   "cell_type": "code",
   "execution_count": 9,
   "metadata": {},
   "outputs": [],
   "source": [
    "# # New features\n",
    "# diff_arr = source_multimodal_arr - target_multimodal_arr\n",
    "# mul_diff_arr = source_multimodal_arr * diff_arr\n",
    "# print(\"Source shape\", diff_arr.shape)\n",
    "# print(\"Target shape\", mul_diff_arr.shape)"
   ]
  },
  {
   "cell_type": "code",
   "execution_count": 10,
   "metadata": {},
   "outputs": [],
   "source": [
    "# # Considering only the text parts - #TODO: Comment if not necessary\n",
    "# source_multimodal_arr = source_multimodal_arr[:,768:] # Only BERT\n",
    "# target_multimodal_arr = target_multimodal_arr[:,768:] # Only BERT\n",
    "# print(\"Source shape\", source_multimodal_arr.shape)\n",
    "# print(\"Target shape\", target_multimodal_arr.shape)"
   ]
  },
  {
   "cell_type": "code",
   "execution_count": 11,
   "metadata": {},
   "outputs": [
    {
     "name": "stdout",
     "output_type": "stream",
     "text": [
      "Source shape torch.Size([11766, 768])\n",
      "Target shape torch.Size([11766, 768])\n"
     ]
    }
   ],
   "source": [
    "# NOTE: Old features\n",
    "source_multimodal_tensor = torch.tensor(source_multimodal_data, device=device)\n",
    "target_multimodal_tensor = torch.tensor(target_multimodal_data, device=device)\n",
    "print(\"Source shape\", source_multimodal_tensor.shape)\n",
    "print(\"Target shape\", target_multimodal_tensor.shape)"
   ]
  },
  {
   "cell_type": "code",
   "execution_count": 12,
   "metadata": {},
   "outputs": [],
   "source": [
    "# #NOTE: New features (NOT GOOD)\n",
    "# diff_arr = torch.tensor(diff_arr, device=device)\n",
    "# mul_diff_arr = torch.tensor(mul_diff_arr, device=device)\n",
    "# print(\"Source shape\", diff_arr.shape)\n",
    "# print(\"Target shape\", mul_diff_arr.shape)"
   ]
  },
  {
   "cell_type": "code",
   "execution_count": 13,
   "metadata": {},
   "outputs": [],
   "source": [
    "# # Loading the label\n",
    "# labels_data = np.load(\"../data/labels.npy\")\n",
    "# labels_tensor = torch.tensor(labels_data, dtype=torch.long, device=device).squeeze(-1)\n",
    "# print('Labels tensor shape', labels_tensor.shape)"
   ]
  },
  {
   "cell_type": "code",
   "execution_count": 14,
   "metadata": {},
   "outputs": [],
   "source": [
    "#TODO: Add Pytorch DataLoader\n",
    "def get_data_loader(batch_size, target_input, source_input, labels, split_type = 'train'):\n",
    "    target_input = torch.tensor(target_input, device=device)\n",
    "    source_input = torch.tensor(source_input, device=device)\n",
    "    labels = torch.tensor(labels, dtype=torch.long, device=device)\n",
    "    data = TensorDataset(target_input, source_input, labels)\n",
    "    if split_type == 'train':\n",
    "        sampler = RandomSampler(data)\n",
    "    elif split_type == 'val':\n",
    "        sampler = SequentialSampler(data)\n",
    "    dataloader = DataLoader(data, sampler=sampler, batch_size=batch_size)\n",
    "    return data, sampler, dataloader"
   ]
  },
  {
   "cell_type": "code",
   "execution_count": 15,
   "metadata": {},
   "outputs": [],
   "source": [
    "# # NOTE: Old features\n",
    "# train_target, test_target, train_source, test_source, train_labels, test_labels = train_test_split(target_multimodal_tensor, source_multimodal_tensor, labels_tensor, test_size=0.2, random_state=43)"
   ]
  },
  {
   "cell_type": "code",
   "execution_count": 16,
   "metadata": {},
   "outputs": [],
   "source": [
    "# NOTE: New Split\n",
    "train_src, test_src, train_tar, test_tar, train_labels, test_labels = train_test_split(source_multimodal_data, target_multimodal_data, labels_data, test_size=0.2, random_state=43)\n",
    "\n",
    "if dataset_split == 'full':\n",
    "    train_ids, test_ids = train_test_split(data_ids, test_size=0.2, random_state=43)"
   ]
  },
  {
   "cell_type": "code",
   "execution_count": 17,
   "metadata": {},
   "outputs": [
    {
     "name": "stderr",
     "output_type": "stream",
     "text": [
      "/sda/rina_1921cs13/anaconda3/envs/newnisbert/lib/python3.6/site-packages/ipykernel_launcher.py:5: UserWarning: To copy construct from a tensor, it is recommended to use sourceTensor.clone().detach() or sourceTensor.clone().detach().requires_grad_(True), rather than torch.tensor(sourceTensor).\n",
      "  \"\"\"\n"
     ]
    }
   ],
   "source": [
    "batch_size = 128\n",
    "train_labels = torch.tensor(train_labels, dtype=torch.long, device =device)\n",
    "test_labels = torch.tensor(test_labels, dtype=torch.long, device =device)\n",
    "train_data, train_sampler, train_dataloader = get_data_loader(batch_size, train_tar, train_src, train_labels, 'train')\n",
    "test_data, test_sampler, test_dataloader = get_data_loader(batch_size, test_tar, test_src, test_labels, 'val')"
   ]
  },
  {
   "cell_type": "code",
   "execution_count": 18,
   "metadata": {},
   "outputs": [],
   "source": [
    "# # For Visual BERT only (Expt)\n",
    "# class ContrastiveModelVisualBERT(nn.Module):\n",
    "#     def __init__(self, initial_dim):\n",
    "#         super(ContrastiveModelVisualBERT, self).__init__()\n",
    "#         self.project_1 = nn.Linear(initial_dim, 512, bias=True)\n",
    "#         # self.project_2 = nn.Linear(512, 128, bias=True)\n",
    "#         # self.dropout = nn.Dropout(0.2)\n",
    "#     def forward(self, multimodal_input):\n",
    "#         contrast_space = self.project_1(multimodal_input)\n",
    "#         normalize_contrast = F.normalize(contrast_space, dim=2)\n",
    "#         return normalize_contrast"
   ]
  },
  {
   "cell_type": "code",
   "execution_count": 19,
   "metadata": {},
   "outputs": [],
   "source": [
    "# Model imported from the previous network\n",
    "class ContrastiveModel(nn.Module):\n",
    "    def __init__(self, initial_dim):\n",
    "        super(ContrastiveModel, self).__init__()\n",
    "        self.project_1 = nn.Linear(initial_dim, 512, bias=True)\n",
    "        self.project_2 = nn.Linear(512, 128, bias=True)\n",
    "        self.dropout = nn.Dropout(0.2)\n",
    "    def forward(self, multimodal_input):\n",
    "        contrast_space = self.project_2(self.project_1(multimodal_input))\n",
    "        normalize_contrast = F.normalize(contrast_space, dim=2)\n",
    "        return normalize_contrast"
   ]
  },
  {
   "cell_type": "code",
   "execution_count": 20,
   "metadata": {},
   "outputs": [],
   "source": [
    "# Define classification model\n",
    "class ContrastiveClassification(nn.Module):\n",
    "    def __init__(self, initial_dim):\n",
    "        super(ContrastiveClassification, self).__init__()\n",
    "        self.contrastive_model = ContrastiveModel(initial_dim) # For generic model\n",
    "        # self.contrastive_model = ContrastiveModelVisualBERT(initial_dim) # For visual BERT only\n",
    "        # self.contrastive_model.load_state_dict(torch.load('saved_models/contrast_head_lr_5_ep_1000_old.pt')) # BEST for R-BERT\n",
    "        # self.contrastive_model.load_state_dict(torch.load('saved_models/contrast_head_rbert_lr_5_ep_1000.pt')) # For R-BERT\n",
    "        # self.contrastive_model.load_state_dict(torch.load('saved_models/contrast_head_visualbert_lr_5_ep_1000.pt')) # For V-BERT\n",
    "        self.contrastive_model.load_state_dict(torch.load(contrastive_model_path))\n",
    "        for param in self.contrastive_model.parameters():\n",
    "            param.requires_grad = False\n",
    "        self.reduce_1 = nn.Linear((512)*3, 512)\n",
    "        self.tanh1 = nn.Tanh()\n",
    "        self.logits_layer = nn.Linear(512, 2)\n",
    "    def forward(self, target_input, source_input):\n",
    "        fixed_target = self.contrastive_model.project_1(target_input)\n",
    "        fixed_source = self.contrastive_model.project_1(source_input)\n",
    "        add_op = fixed_target + fixed_source\n",
    "        sub_op = fixed_target - fixed_source\n",
    "        mul_op = fixed_target * fixed_source\n",
    "        combine_t_s = torch.cat((add_op, sub_op, mul_op), 1)\n",
    "        reduce_output = self.tanh1(self.reduce_1(combine_t_s))\n",
    "        logits = self.logits_layer(reduce_output)\n",
    "        return logits"
   ]
  },
  {
   "cell_type": "code",
   "execution_count": 21,
   "metadata": {},
   "outputs": [],
   "source": [
    "# TODO: Get Classification model\n",
    "initial_dim = source_multimodal_tensor.shape[1]\n",
    "class_model = ContrastiveClassification(initial_dim).to(device) # For old model"
   ]
  },
  {
   "cell_type": "code",
   "execution_count": 22,
   "metadata": {},
   "outputs": [],
   "source": [
    "# Optimizer and scheduler\n",
    "def get_optimizer_scheduler(name, model, train_dataloader_len, epochs, lr_set):\n",
    "\tif name == \"Adam\":\n",
    "\t\toptimizer = AdamW(model.parameters(),\n",
    "                  lr = lr_set, # args.learning_rate - default is 5e-5, our notebook had 2e-5\n",
    "                  eps = 1e-8 # args.adam_epsilon  - default is 1e-8.\n",
    "\t\t)\n",
    "\telif name == \"LARS-SGD\":\n",
    "\t\tbase_optimizer = optim.SGD(model.parameters(), lr=lr_set, momentum=0.9)\n",
    "\t\toptimizer = LARS(optimizer=base_optimizer, eps=1e-8, trust_coef=0.001)\n",
    "\n",
    "\ttotal_steps = train_dataloader_len * epochs\n",
    "\n",
    "\t# Create the learning rate scheduler.\n",
    "\tscheduler = get_linear_schedule_with_warmup(optimizer, \n",
    "\t\t\t\t\t\t\t\t\t\t\t\tnum_warmup_steps = total_steps//2, # Default value in run_glue.py\n",
    "\t\t\t\t\t\t\t\t\t\t\t\tnum_training_steps = total_steps)\n",
    "\treturn optimizer, scheduler"
   ]
  },
  {
   "cell_type": "code",
   "execution_count": 23,
   "metadata": {},
   "outputs": [],
   "source": [
    "# Getting the optimizer and scheduler\n",
    "epochs = 100\n",
    "lr = 3e-5 # Less LR\n",
    "# lr = 0.5\n",
    "iters_to_accumulate = 2\n",
    "name = \"Adam\"\n",
    "# name = \"LARS-SGD\"\n",
    "if base_model_name == 'vbert' and dataset_split == 'recov':\n",
    "    criterion = nn.CrossEntropyLoss(class_weights)\n",
    "else:\n",
    "    criterion = nn.CrossEntropyLoss()\n",
    "optimizer, scheduler = get_optimizer_scheduler(name, class_model, len(train_dataloader), epochs, lr)"
   ]
  },
  {
   "cell_type": "code",
   "execution_count": 24,
   "metadata": {},
   "outputs": [],
   "source": [
    "################ Evaluating Loss ######################\n",
    "#######################################################\n",
    "def evaluate_loss(net, device, criterion, dataloader):\n",
    "    net.eval()\n",
    "    mean_loss = 0\n",
    "    count = 0\n",
    "    with torch.no_grad():\n",
    "        for it, (target_inputs, source_inputs, labels) in enumerate(tqdm(dataloader)):\n",
    "            target_inputs, source_inputs, labels = target_inputs.to(device), source_inputs.to(device), labels.to(device)\n",
    "            logits = net(target_inputs, source_inputs)\n",
    "            mean_loss += criterion(logits.squeeze(-1), labels).item() # initially it was logits.squeeze(-1)\n",
    "            count += 1\n",
    "    return mean_loss / count"
   ]
  },
  {
   "cell_type": "code",
   "execution_count": 25,
   "metadata": {},
   "outputs": [],
   "source": [
    "################ Flat Accuracy Calculation ####################\n",
    "###############################################################\n",
    "def flat_accuracy(preds, labels):\n",
    "    pred_flat = np.argmax(preds, axis=1).flatten()\n",
    "    labels_flat = labels.flatten()\n",
    "    return np.sum(pred_flat == labels_flat) / len(labels_flat)\n",
    "################ Validation Accuracy Calculation ####################\n",
    "###############################################################\n",
    "def evaluate_accuracy(model, device, validation_dataloader):\n",
    "\tmodel.eval()\n",
    "\t# Tracking variables \n",
    "\teval_loss, eval_accuracy = 0, 0\n",
    "\tnb_eval_steps, nb_eval_examples = 0, 0\n",
    "\t# Evaluate data for one epoch\n",
    "\tfor batch in validation_dataloader:\n",
    "\t    # Add batch to GPU\n",
    "\t    batch = tuple(t.to(device) for t in batch)\t    \n",
    "\t    # Unpack the inputs from our dataloader\n",
    "\t    b_t_inputs, b_s_inputs, b_labels = batch\t    \n",
    "\t    \n",
    "\t    # Telling the model not to compute or store gradients, saving memory and\n",
    "\t    # speeding up validation\n",
    "\t    with torch.no_grad(): \n",
    "\t    \t# Forward pass, calculate logit predictions.\n",
    "\t        # This will return the logits rather than the loss because we have\n",
    "\t        # not provided labels.\n",
    "\t    \tlogits = model(b_t_inputs, b_s_inputs)       \n",
    "\n",
    "\t    # Move logits and labels to CPU\n",
    "\t    logits = logits.detach().cpu().numpy()\n",
    "\t    label_ids = b_labels.to('cpu').numpy()\n",
    "\t    \n",
    "\t    # Calculate the accuracy for this batch of test sentences.\n",
    "\t    tmp_eval_accuracy = flat_accuracy(logits, label_ids)\n",
    "\t    \n",
    "\t    # Accumulate the total accuracy.\n",
    "\t    eval_accuracy += tmp_eval_accuracy\n",
    "\n",
    "\t    # Track the number of batches\n",
    "\t    nb_eval_steps += 1\n",
    "\taccuracy = eval_accuracy/nb_eval_steps\n",
    "\treturn accuracy"
   ]
  },
  {
   "cell_type": "code",
   "execution_count": 26,
   "metadata": {},
   "outputs": [],
   "source": [
    "def train_model(net, criterion, opti, lr, lr_scheduler, train_loader, val_loader, epochs, iters_to_accumulate):\n",
    "    best_loss = np.Inf\n",
    "    best_ep = 1\n",
    "    nb_iterations = len(train_loader)\n",
    "    print_every = nb_iterations // 5  # print the training loss 5 times per epoch\n",
    "    iters = []\n",
    "    train_losses = []\n",
    "    val_losses = []\n",
    "    # Iterating over all epochs\n",
    "    for ep in range(epochs):\n",
    "        net.train()\n",
    "        running_loss = 0.0\n",
    "        for it, (target_inputs, source_inputs, labels) in enumerate(tqdm(train_loader)):\n",
    "\n",
    "            # Converting to cuda tensors\n",
    "            target_inputs, source_inputs, labels = target_inputs.to(device), source_inputs.to(device), labels.to(device)\n",
    "    \t\t\n",
    "            # Obtaining the logits from the model\n",
    "            logits = net(target_inputs, source_inputs)\n",
    "            # print(logits.device)\n",
    "\n",
    "            # Computing loss\n",
    "            # print(logits.squeeze(-1).shape)\n",
    "            # print(labels.shape)\n",
    "            loss = criterion(logits.squeeze(-1), labels)\n",
    "            loss = loss / iters_to_accumulate  # Normalize the loss because it is averaged\n",
    "\n",
    "            # Backpropagating the gradients\n",
    "            # Calls backward()\n",
    "            loss.backward()\n",
    "\n",
    "            if (it + 1) % iters_to_accumulate == 0:\n",
    "                # Optimization step\n",
    "                # scaler.step() first unscales the gradients of the optimizer's assigned params.\n",
    "                # If these gradients do not contain infs or NaNs, opti.step() is then called,\n",
    "                # otherwise, opti.step() is skipped.\n",
    "                opti.step()\n",
    "                # Adjust the learning rate based on the number of iterations.\n",
    "                lr_scheduler.step()\n",
    "                # Clear gradients\n",
    "                net.zero_grad()\n",
    "\n",
    "\n",
    "            running_loss += loss.item()\n",
    "\n",
    "            if (it + 1) % print_every == 0:  # Print training loss information\n",
    "                print()\n",
    "                print(\"Iteration {}/{} of epoch {} complete. Loss : {} \"\n",
    "                      .format(it+1, nb_iterations, ep+1, running_loss / print_every))\n",
    "\n",
    "                running_loss = 0.0\n",
    "\n",
    "\n",
    "        val_loss = evaluate_loss(net, device, criterion, val_loader)  # Compute validation loss\n",
    "        val_accuracy = evaluate_accuracy(net, device, val_loader)\n",
    "        print()\n",
    "        print(\"Epoch {} complete! Validation Loss : {}\".format(ep+1, val_loss))\n",
    "        print(\"Epoch {} complete! Validation Accuracy : {}\".format(ep+1, val_accuracy))\n",
    "\n",
    "        if val_loss < best_loss:\n",
    "            print(\"Best validation loss improved from {} to {}\".format(best_loss, val_loss))\n",
    "            print()\n",
    "            net_copy = copy.deepcopy(net)  # save a copy of the model\n",
    "            best_loss = val_loss\n",
    "            best_ep = ep + 1\n",
    "\n",
    "    # Saving the model\n",
    "    path_to_model='saved_models/{}_lr_{}_val_loss_{}_ep_{}.pt'.format(model_name, lr, round(best_loss, 5), best_ep)\n",
    "    torch.save(net_copy.state_dict(), path_to_model)\n",
    "    net.load_state_dict(torch.load(path_to_model)) # Re-Loading the best model\n",
    "    print(\"The model has been saved in {}\".format(path_to_model))\n",
    "\n",
    "    del loss\n",
    "    torch.cuda.empty_cache()\n",
    "    return net, model_name"
   ]
  },
  {
   "cell_type": "code",
   "execution_count": 27,
   "metadata": {},
   "outputs": [
    {
     "name": "stderr",
     "output_type": "stream",
     "text": [
      " 54%|█████▍    | 40/74 [00:00<00:00, 188.66it/s]"
     ]
    },
    {
     "name": "stdout",
     "output_type": "stream",
     "text": [
      "\n",
      "Iteration 14/74 of epoch 1 complete. Loss : 0.3197327213627951 \n",
      "\n",
      "Iteration 28/74 of epoch 1 complete. Loss : 0.3214412374155862 \n",
      "\n",
      "Iteration 42/74 of epoch 1 complete. Loss : 0.32778868292059216 \n"
     ]
    },
    {
     "name": "stderr",
     "output_type": "stream",
     "text": [
      "100%|██████████| 74/74 [00:00<00:00, 195.91it/s]\n",
      "100%|██████████| 19/19 [00:00<00:00, 367.15it/s]\n",
      "  0%|          | 0/74 [00:00<?, ?it/s]"
     ]
    },
    {
     "name": "stdout",
     "output_type": "stream",
     "text": [
      "\n",
      "Iteration 56/74 of epoch 1 complete. Loss : 0.32529317906924654 \n",
      "\n",
      "Iteration 70/74 of epoch 1 complete. Loss : 0.3217549536909376 \n",
      "\n",
      "Epoch 1 complete! Validation Loss : 0.6467312009711015\n",
      "Epoch 1 complete! Validation Accuracy : 0.5705098684210527\n",
      "Best validation loss improved from inf to 0.6467312009711015\n",
      "\n"
     ]
    },
    {
     "name": "stderr",
     "output_type": "stream",
     "text": [
      " 57%|█████▋    | 42/74 [00:00<00:00, 203.60it/s]"
     ]
    },
    {
     "name": "stdout",
     "output_type": "stream",
     "text": [
      "\n",
      "Iteration 14/74 of epoch 2 complete. Loss : 0.3189080080815724 \n",
      "\n",
      "Iteration 28/74 of epoch 2 complete. Loss : 0.31375361127512796 \n",
      "\n",
      "Iteration 42/74 of epoch 2 complete. Loss : 0.3147523467029844 \n"
     ]
    },
    {
     "name": "stderr",
     "output_type": "stream",
     "text": [
      "100%|██████████| 74/74 [00:00<00:00, 201.52it/s]\n",
      "100%|██████████| 19/19 [00:00<00:00, 371.47it/s]\n",
      "  0%|          | 0/74 [00:00<?, ?it/s]"
     ]
    },
    {
     "name": "stdout",
     "output_type": "stream",
     "text": [
      "\n",
      "Iteration 56/74 of epoch 2 complete. Loss : 0.3106670251914433 \n",
      "\n",
      "Iteration 70/74 of epoch 2 complete. Loss : 0.2997507495539529 \n",
      "\n",
      "Epoch 2 complete! Validation Loss : 0.6126213418809991\n",
      "Epoch 2 complete! Validation Accuracy : 0.5844901315789474\n",
      "Best validation loss improved from 0.6467312009711015 to 0.6126213418809991\n",
      "\n"
     ]
    },
    {
     "name": "stderr",
     "output_type": "stream",
     "text": [
      " 57%|█████▋    | 42/74 [00:00<00:00, 207.09it/s]"
     ]
    },
    {
     "name": "stdout",
     "output_type": "stream",
     "text": [
      "\n",
      "Iteration 14/74 of epoch 3 complete. Loss : 0.30042468437126707 \n",
      "\n",
      "Iteration 28/74 of epoch 3 complete. Loss : 0.29340907292706625 \n",
      "\n",
      "Iteration 42/74 of epoch 3 complete. Loss : 0.29477990737983156 \n"
     ]
    },
    {
     "name": "stderr",
     "output_type": "stream",
     "text": [
      "100%|██████████| 74/74 [00:00<00:00, 205.77it/s]\n",
      "100%|██████████| 19/19 [00:00<00:00, 367.19it/s]\n",
      "  0%|          | 0/74 [00:00<?, ?it/s]"
     ]
    },
    {
     "name": "stdout",
     "output_type": "stream",
     "text": [
      "\n",
      "Iteration 56/74 of epoch 3 complete. Loss : 0.2931311620133264 \n",
      "\n",
      "Iteration 70/74 of epoch 3 complete. Loss : 0.27836489038808004 \n",
      "\n",
      "Epoch 3 complete! Validation Loss : 0.5653868192120602\n",
      "Epoch 3 complete! Validation Accuracy : 0.7250328947368421\n",
      "Best validation loss improved from 0.6126213418809991 to 0.5653868192120602\n",
      "\n"
     ]
    },
    {
     "name": "stderr",
     "output_type": "stream",
     "text": [
      " 57%|█████▋    | 42/74 [00:00<00:00, 205.25it/s]"
     ]
    },
    {
     "name": "stdout",
     "output_type": "stream",
     "text": [
      "\n",
      "Iteration 14/74 of epoch 4 complete. Loss : 0.2770248843090875 \n",
      "\n",
      "Iteration 28/74 of epoch 4 complete. Loss : 0.27142326746668133 \n",
      "\n",
      "Iteration 42/74 of epoch 4 complete. Loss : 0.26704568948064533 \n"
     ]
    },
    {
     "name": "stderr",
     "output_type": "stream",
     "text": [
      "100%|██████████| 74/74 [00:00<00:00, 204.93it/s]\n",
      "100%|██████████| 19/19 [00:00<00:00, 367.97it/s]\n",
      "  0%|          | 0/74 [00:00<?, ?it/s]"
     ]
    },
    {
     "name": "stdout",
     "output_type": "stream",
     "text": [
      "\n",
      "Iteration 56/74 of epoch 4 complete. Loss : 0.2604947952287538 \n",
      "\n",
      "Iteration 70/74 of epoch 4 complete. Loss : 0.2592033552271979 \n",
      "\n",
      "Epoch 4 complete! Validation Loss : 0.5149215883330295\n",
      "Epoch 4 complete! Validation Accuracy : 0.8119407894736842\n",
      "Best validation loss improved from 0.5653868192120602 to 0.5149215883330295\n",
      "\n"
     ]
    },
    {
     "name": "stderr",
     "output_type": "stream",
     "text": [
      " 58%|█████▊    | 43/74 [00:00<00:00, 206.88it/s]"
     ]
    },
    {
     "name": "stdout",
     "output_type": "stream",
     "text": [
      "\n",
      "Iteration 14/74 of epoch 5 complete. Loss : 0.2511805902634348 \n",
      "\n",
      "Iteration 28/74 of epoch 5 complete. Loss : 0.24294149662767137 \n",
      "\n",
      "Iteration 42/74 of epoch 5 complete. Loss : 0.2451333510024207 \n"
     ]
    },
    {
     "name": "stderr",
     "output_type": "stream",
     "text": [
      "100%|██████████| 74/74 [00:00<00:00, 200.30it/s]\n",
      "100%|██████████| 19/19 [00:00<00:00, 366.95it/s]\n",
      "  0%|          | 0/74 [00:00<?, ?it/s]"
     ]
    },
    {
     "name": "stdout",
     "output_type": "stream",
     "text": [
      "\n",
      "Iteration 56/74 of epoch 5 complete. Loss : 0.23688444920948573 \n",
      "\n",
      "Iteration 70/74 of epoch 5 complete. Loss : 0.2400523221918515 \n",
      "\n",
      "Epoch 5 complete! Validation Loss : 0.46923208079840006\n",
      "Epoch 5 complete! Validation Accuracy : 0.8244572368421053\n",
      "Best validation loss improved from 0.5149215883330295 to 0.46923208079840006\n",
      "\n"
     ]
    },
    {
     "name": "stderr",
     "output_type": "stream",
     "text": [
      " 55%|█████▌    | 41/74 [00:00<00:00, 200.24it/s]"
     ]
    },
    {
     "name": "stdout",
     "output_type": "stream",
     "text": [
      "\n",
      "Iteration 14/74 of epoch 6 complete. Loss : 0.23115116677113942 \n",
      "\n",
      "Iteration 28/74 of epoch 6 complete. Loss : 0.22341341312442506 \n",
      "\n",
      "Iteration 42/74 of epoch 6 complete. Loss : 0.2208211049437523 \n"
     ]
    },
    {
     "name": "stderr",
     "output_type": "stream",
     "text": [
      "100%|██████████| 74/74 [00:00<00:00, 200.04it/s]\n",
      "100%|██████████| 19/19 [00:00<00:00, 369.10it/s]\n",
      "  0%|          | 0/74 [00:00<?, ?it/s]"
     ]
    },
    {
     "name": "stdout",
     "output_type": "stream",
     "text": [
      "\n",
      "Iteration 56/74 of epoch 6 complete. Loss : 0.21792342088052205 \n",
      "\n",
      "Iteration 70/74 of epoch 6 complete. Loss : 0.21421965318066732 \n",
      "\n",
      "Epoch 6 complete! Validation Loss : 0.43253757608564275\n",
      "Epoch 6 complete! Validation Accuracy : 0.8376151315789473\n",
      "Best validation loss improved from 0.46923208079840006 to 0.43253757608564275\n",
      "\n"
     ]
    },
    {
     "name": "stderr",
     "output_type": "stream",
     "text": [
      " 57%|█████▋    | 42/74 [00:00<00:00, 203.56it/s]"
     ]
    },
    {
     "name": "stdout",
     "output_type": "stream",
     "text": [
      "\n",
      "Iteration 14/74 of epoch 7 complete. Loss : 0.2152997755578586 \n",
      "\n",
      "Iteration 28/74 of epoch 7 complete. Loss : 0.20348768361977168 \n",
      "\n",
      "Iteration 42/74 of epoch 7 complete. Loss : 0.20755873088325774 \n"
     ]
    },
    {
     "name": "stderr",
     "output_type": "stream",
     "text": [
      "100%|██████████| 74/74 [00:00<00:00, 204.62it/s]\n",
      "100%|██████████| 19/19 [00:00<00:00, 373.47it/s]\n",
      "  0%|          | 0/74 [00:00<?, ?it/s]"
     ]
    },
    {
     "name": "stdout",
     "output_type": "stream",
     "text": [
      "\n",
      "Iteration 56/74 of epoch 7 complete. Loss : 0.1998890819294112 \n",
      "\n",
      "Iteration 70/74 of epoch 7 complete. Loss : 0.20316261372395925 \n",
      "\n",
      "Epoch 7 complete! Validation Loss : 0.406814810476805\n",
      "Epoch 7 complete! Validation Accuracy : 0.8372039473684211\n",
      "Best validation loss improved from 0.43253757608564275 to 0.406814810476805\n",
      "\n"
     ]
    },
    {
     "name": "stderr",
     "output_type": "stream",
     "text": [
      " 57%|█████▋    | 42/74 [00:00<00:00, 204.70it/s]"
     ]
    },
    {
     "name": "stdout",
     "output_type": "stream",
     "text": [
      "\n",
      "Iteration 14/74 of epoch 8 complete. Loss : 0.19642947614192963 \n",
      "\n",
      "Iteration 28/74 of epoch 8 complete. Loss : 0.18999831591333663 \n",
      "\n",
      "Iteration 42/74 of epoch 8 complete. Loss : 0.19284997028963907 \n"
     ]
    },
    {
     "name": "stderr",
     "output_type": "stream",
     "text": [
      "100%|██████████| 74/74 [00:00<00:00, 205.73it/s]\n",
      "100%|██████████| 19/19 [00:00<00:00, 377.40it/s]\n",
      "  0%|          | 0/74 [00:00<?, ?it/s]"
     ]
    },
    {
     "name": "stdout",
     "output_type": "stream",
     "text": [
      "\n",
      "Iteration 56/74 of epoch 8 complete. Loss : 0.19157311958926065 \n",
      "\n",
      "Iteration 70/74 of epoch 8 complete. Loss : 0.2041430664913995 \n",
      "\n",
      "Epoch 8 complete! Validation Loss : 0.3882804481606734\n",
      "Epoch 8 complete! Validation Accuracy : 0.8396710526315789\n",
      "Best validation loss improved from 0.406814810476805 to 0.3882804481606734\n",
      "\n"
     ]
    },
    {
     "name": "stderr",
     "output_type": "stream",
     "text": [
      " 57%|█████▋    | 42/74 [00:00<00:00, 207.78it/s]"
     ]
    },
    {
     "name": "stdout",
     "output_type": "stream",
     "text": [
      "\n",
      "Iteration 14/74 of epoch 9 complete. Loss : 0.1898394674062729 \n",
      "\n",
      "Iteration 28/74 of epoch 9 complete. Loss : 0.19072675172771728 \n",
      "\n",
      "Iteration 42/74 of epoch 9 complete. Loss : 0.18843343428203038 \n"
     ]
    },
    {
     "name": "stderr",
     "output_type": "stream",
     "text": [
      "100%|██████████| 74/74 [00:00<00:00, 205.88it/s]\n",
      "100%|██████████| 19/19 [00:00<00:00, 365.87it/s]\n",
      "  0%|          | 0/74 [00:00<?, ?it/s]"
     ]
    },
    {
     "name": "stdout",
     "output_type": "stream",
     "text": [
      "\n",
      "Iteration 56/74 of epoch 9 complete. Loss : 0.18603292214018957 \n",
      "\n",
      "Iteration 70/74 of epoch 9 complete. Loss : 0.18350718489715032 \n",
      "\n",
      "Epoch 9 complete! Validation Loss : 0.3767421543598175\n",
      "Epoch 9 complete! Validation Accuracy : 0.8404934210526316\n",
      "Best validation loss improved from 0.3882804481606734 to 0.3767421543598175\n",
      "\n"
     ]
    },
    {
     "name": "stderr",
     "output_type": "stream",
     "text": [
      " 57%|█████▋    | 42/74 [00:00<00:00, 203.66it/s]"
     ]
    },
    {
     "name": "stdout",
     "output_type": "stream",
     "text": [
      "\n",
      "Iteration 14/74 of epoch 10 complete. Loss : 0.18175923824310303 \n",
      "\n",
      "Iteration 28/74 of epoch 10 complete. Loss : 0.19170173576899938 \n",
      "\n",
      "Iteration 42/74 of epoch 10 complete. Loss : 0.17973677068948746 \n"
     ]
    },
    {
     "name": "stderr",
     "output_type": "stream",
     "text": [
      "100%|██████████| 74/74 [00:00<00:00, 202.95it/s]\n",
      "100%|██████████| 19/19 [00:00<00:00, 362.23it/s]\n",
      "  0%|          | 0/74 [00:00<?, ?it/s]"
     ]
    },
    {
     "name": "stdout",
     "output_type": "stream",
     "text": [
      "\n",
      "Iteration 56/74 of epoch 10 complete. Loss : 0.17927219718694687 \n",
      "\n",
      "Iteration 70/74 of epoch 10 complete. Loss : 0.17212555557489395 \n",
      "\n",
      "Epoch 10 complete! Validation Loss : 0.36866150874840586\n",
      "Epoch 10 complete! Validation Accuracy : 0.8404934210526316\n",
      "Best validation loss improved from 0.3767421543598175 to 0.36866150874840586\n",
      "\n"
     ]
    },
    {
     "name": "stderr",
     "output_type": "stream",
     "text": [
      " 57%|█████▋    | 42/74 [00:00<00:00, 204.31it/s]"
     ]
    },
    {
     "name": "stdout",
     "output_type": "stream",
     "text": [
      "\n",
      "Iteration 14/74 of epoch 11 complete. Loss : 0.1788733516420637 \n",
      "\n",
      "Iteration 28/74 of epoch 11 complete. Loss : 0.17483112003122056 \n",
      "\n",
      "Iteration 42/74 of epoch 11 complete. Loss : 0.17688412219285965 \n"
     ]
    },
    {
     "name": "stderr",
     "output_type": "stream",
     "text": [
      "100%|██████████| 74/74 [00:00<00:00, 201.42it/s]\n",
      "100%|██████████| 19/19 [00:00<00:00, 366.04it/s]\n",
      "  0%|          | 0/74 [00:00<?, ?it/s]"
     ]
    },
    {
     "name": "stdout",
     "output_type": "stream",
     "text": [
      "\n",
      "Iteration 56/74 of epoch 11 complete. Loss : 0.17521931124585016 \n",
      "\n",
      "Iteration 70/74 of epoch 11 complete. Loss : 0.18709568147148406 \n",
      "\n",
      "Epoch 11 complete! Validation Loss : 0.3636310947568793\n",
      "Epoch 11 complete! Validation Accuracy : 0.8400822368421053\n",
      "Best validation loss improved from 0.36866150874840586 to 0.3636310947568793\n",
      "\n"
     ]
    },
    {
     "name": "stderr",
     "output_type": "stream",
     "text": [
      " 54%|█████▍    | 40/74 [00:00<00:00, 193.44it/s]"
     ]
    },
    {
     "name": "stdout",
     "output_type": "stream",
     "text": [
      "\n",
      "Iteration 14/74 of epoch 12 complete. Loss : 0.17879752069711685 \n",
      "\n",
      "Iteration 28/74 of epoch 12 complete. Loss : 0.174773813358375 \n",
      "\n",
      "Iteration 42/74 of epoch 12 complete. Loss : 0.17770050466060638 \n"
     ]
    },
    {
     "name": "stderr",
     "output_type": "stream",
     "text": [
      "100%|██████████| 74/74 [00:00<00:00, 197.41it/s]\n",
      "100%|██████████| 19/19 [00:00<00:00, 337.68it/s]"
     ]
    },
    {
     "name": "stdout",
     "output_type": "stream",
     "text": [
      "\n",
      "Iteration 56/74 of epoch 12 complete. Loss : 0.17256145817892893 \n",
      "\n",
      "Iteration 70/74 of epoch 12 complete. Loss : 0.17347515480858938 \n",
      "\n",
      "Epoch 12 complete! Validation Loss : 0.3599841484898015\n",
      "Epoch 12 complete! Validation Accuracy : 0.8380263157894736\n",
      "Best validation loss improved from 0.3636310947568793 to 0.3599841484898015\n",
      "\n"
     ]
    },
    {
     "name": "stderr",
     "output_type": "stream",
     "text": [
      "\n",
      " 57%|█████▋    | 42/74 [00:00<00:00, 204.53it/s]"
     ]
    },
    {
     "name": "stdout",
     "output_type": "stream",
     "text": [
      "\n",
      "Iteration 14/74 of epoch 13 complete. Loss : 0.17450355046561786 \n",
      "\n",
      "Iteration 28/74 of epoch 13 complete. Loss : 0.17088490831000464 \n",
      "\n",
      "Iteration 42/74 of epoch 13 complete. Loss : 0.17816961875983647 \n"
     ]
    },
    {
     "name": "stderr",
     "output_type": "stream",
     "text": [
      "100%|██████████| 74/74 [00:00<00:00, 202.23it/s]\n",
      "100%|██████████| 19/19 [00:00<00:00, 365.28it/s]\n",
      "  0%|          | 0/74 [00:00<?, ?it/s]"
     ]
    },
    {
     "name": "stdout",
     "output_type": "stream",
     "text": [
      "\n",
      "Iteration 56/74 of epoch 13 complete. Loss : 0.1743548507136958 \n",
      "\n",
      "Iteration 70/74 of epoch 13 complete. Loss : 0.1722658947110176 \n",
      "\n",
      "Epoch 13 complete! Validation Loss : 0.3548307450194108\n",
      "Epoch 13 complete! Validation Accuracy : 0.8386184210526316\n",
      "Best validation loss improved from 0.3599841484898015 to 0.3548307450194108\n",
      "\n"
     ]
    },
    {
     "name": "stderr",
     "output_type": "stream",
     "text": [
      " 55%|█████▌    | 41/74 [00:00<00:00, 205.52it/s]"
     ]
    },
    {
     "name": "stdout",
     "output_type": "stream",
     "text": [
      "\n",
      "Iteration 14/74 of epoch 14 complete. Loss : 0.1706127928836005 \n",
      "\n",
      "Iteration 28/74 of epoch 14 complete. Loss : 0.17034219790782248 \n",
      "\n",
      "Iteration 42/74 of epoch 14 complete. Loss : 0.18029491709811346 \n"
     ]
    },
    {
     "name": "stderr",
     "output_type": "stream",
     "text": [
      "100%|██████████| 74/74 [00:00<00:00, 199.78it/s]\n",
      "100%|██████████| 19/19 [00:00<00:00, 331.44it/s]"
     ]
    },
    {
     "name": "stdout",
     "output_type": "stream",
     "text": [
      "\n",
      "Iteration 56/74 of epoch 14 complete. Loss : 0.17696381147418702 \n",
      "\n",
      "Iteration 70/74 of epoch 14 complete. Loss : 0.16171056085399219 \n"
     ]
    },
    {
     "name": "stderr",
     "output_type": "stream",
     "text": [
      "\n",
      " 28%|██▊       | 21/74 [00:00<00:00, 202.53it/s]"
     ]
    },
    {
     "name": "stdout",
     "output_type": "stream",
     "text": [
      "\n",
      "Epoch 14 complete! Validation Loss : 0.3516045055891338\n",
      "Epoch 14 complete! Validation Accuracy : 0.8369736842105263\n",
      "Best validation loss improved from 0.3548307450194108 to 0.3516045055891338\n",
      "\n",
      "\n",
      "Iteration 14/74 of epoch 15 complete. Loss : 0.17324731286082948 \n",
      "\n",
      "Iteration 28/74 of epoch 15 complete. Loss : 0.1624864393046924 \n"
     ]
    },
    {
     "name": "stderr",
     "output_type": "stream",
     "text": [
      "100%|██████████| 74/74 [00:00<00:00, 199.53it/s]\n",
      "  0%|          | 0/19 [00:00<?, ?it/s]"
     ]
    },
    {
     "name": "stdout",
     "output_type": "stream",
     "text": [
      "\n",
      "Iteration 42/74 of epoch 15 complete. Loss : 0.1657928265631199 \n",
      "\n",
      "Iteration 56/74 of epoch 15 complete. Loss : 0.17098963473524367 \n",
      "\n",
      "Iteration 70/74 of epoch 15 complete. Loss : 0.17619155879531587 \n"
     ]
    },
    {
     "name": "stderr",
     "output_type": "stream",
     "text": [
      "100%|██████████| 19/19 [00:00<00:00, 360.17it/s]\n",
      " 27%|██▋       | 20/74 [00:00<00:00, 199.78it/s]"
     ]
    },
    {
     "name": "stdout",
     "output_type": "stream",
     "text": [
      "\n",
      "Epoch 15 complete! Validation Loss : 0.3502275143799029\n",
      "Epoch 15 complete! Validation Accuracy : 0.837796052631579\n",
      "Best validation loss improved from 0.3516045055891338 to 0.3502275143799029\n",
      "\n",
      "\n",
      "Iteration 14/74 of epoch 16 complete. Loss : 0.1611447940979685 \n",
      "\n",
      "Iteration 28/74 of epoch 16 complete. Loss : 0.17934697760002954 \n"
     ]
    },
    {
     "name": "stderr",
     "output_type": "stream",
     "text": [
      "100%|██████████| 74/74 [00:00<00:00, 200.73it/s]\n",
      "  0%|          | 0/19 [00:00<?, ?it/s]"
     ]
    },
    {
     "name": "stdout",
     "output_type": "stream",
     "text": [
      "\n",
      "Iteration 42/74 of epoch 16 complete. Loss : 0.16419642525059835 \n",
      "\n",
      "Iteration 56/74 of epoch 16 complete. Loss : 0.17487524343388422 \n",
      "\n",
      "Iteration 70/74 of epoch 16 complete. Loss : 0.16320615048919404 \n"
     ]
    },
    {
     "name": "stderr",
     "output_type": "stream",
     "text": [
      "100%|██████████| 19/19 [00:00<00:00, 333.46it/s]\n",
      " 34%|███▍      | 25/74 [00:00<00:00, 243.79it/s]"
     ]
    },
    {
     "name": "stdout",
     "output_type": "stream",
     "text": [
      "\n",
      "Epoch 16 complete! Validation Loss : 0.34748648656041997\n",
      "Epoch 16 complete! Validation Accuracy : 0.8373848684210526\n",
      "Best validation loss improved from 0.3502275143799029 to 0.34748648656041997\n",
      "\n",
      "\n",
      "Iteration 14/74 of epoch 17 complete. Loss : 0.16378025497709 \n",
      "\n",
      "Iteration 28/74 of epoch 17 complete. Loss : 0.1770266741514206 \n",
      "\n",
      "Iteration 42/74 of epoch 17 complete. Loss : 0.1677463235599654 \n"
     ]
    },
    {
     "name": "stderr",
     "output_type": "stream",
     "text": [
      "100%|██████████| 74/74 [00:00<00:00, 238.47it/s]\n",
      "100%|██████████| 19/19 [00:00<00:00, 363.19it/s]\n",
      "  0%|          | 0/74 [00:00<?, ?it/s]"
     ]
    },
    {
     "name": "stdout",
     "output_type": "stream",
     "text": [
      "\n",
      "Iteration 56/74 of epoch 17 complete. Loss : 0.16230653066720283 \n",
      "\n",
      "Iteration 70/74 of epoch 17 complete. Loss : 0.16518406463520868 \n",
      "\n",
      "Epoch 17 complete! Validation Loss : 0.3458997544489409\n",
      "Epoch 17 complete! Validation Accuracy : 0.8390296052631578\n",
      "Best validation loss improved from 0.34748648656041997 to 0.3458997544489409\n",
      "\n"
     ]
    },
    {
     "name": "stderr",
     "output_type": "stream",
     "text": [
      " 68%|██████▊   | 50/74 [00:00<00:00, 244.14it/s]"
     ]
    },
    {
     "name": "stdout",
     "output_type": "stream",
     "text": [
      "\n",
      "Iteration 14/74 of epoch 18 complete. Loss : 0.1729884935276849 \n",
      "\n",
      "Iteration 28/74 of epoch 18 complete. Loss : 0.16799398405211313 \n",
      "\n",
      "Iteration 42/74 of epoch 18 complete. Loss : 0.17107828121100152 \n",
      "\n",
      "Iteration 56/74 of epoch 18 complete. Loss : 0.16343004895108088 \n"
     ]
    },
    {
     "name": "stderr",
     "output_type": "stream",
     "text": [
      "100%|██████████| 74/74 [00:00<00:00, 242.26it/s]\n",
      "100%|██████████| 19/19 [00:00<00:00, 364.19it/s]\n",
      "  0%|          | 0/74 [00:00<?, ?it/s]"
     ]
    },
    {
     "name": "stdout",
     "output_type": "stream",
     "text": [
      "\n",
      "Iteration 70/74 of epoch 18 complete. Loss : 0.16141905848469054 \n",
      "\n",
      "Epoch 18 complete! Validation Loss : 0.34441034182121877\n",
      "Epoch 18 complete! Validation Accuracy : 0.8386184210526316\n",
      "Best validation loss improved from 0.3458997544489409 to 0.34441034182121877\n",
      "\n",
      "\n",
      "Iteration 14/74 of epoch 19 complete. Loss : 0.15588648936578206 \n"
     ]
    },
    {
     "name": "stderr",
     "output_type": "stream",
     "text": [
      "100%|██████████| 74/74 [00:00<00:00, 243.00it/s]\n",
      "  0%|          | 0/19 [00:00<?, ?it/s]"
     ]
    },
    {
     "name": "stdout",
     "output_type": "stream",
     "text": [
      "\n",
      "Iteration 28/74 of epoch 19 complete. Loss : 0.1734549871512822 \n",
      "\n",
      "Iteration 42/74 of epoch 19 complete. Loss : 0.17418515895094192 \n",
      "\n",
      "Iteration 56/74 of epoch 19 complete. Loss : 0.16404773773891584 \n",
      "\n",
      "Iteration 70/74 of epoch 19 complete. Loss : 0.16496207937598228 \n"
     ]
    },
    {
     "name": "stderr",
     "output_type": "stream",
     "text": [
      "100%|██████████| 19/19 [00:00<00:00, 366.36it/s]\n",
      " 34%|███▍      | 25/74 [00:00<00:00, 245.31it/s]"
     ]
    },
    {
     "name": "stdout",
     "output_type": "stream",
     "text": [
      "\n",
      "Epoch 19 complete! Validation Loss : 0.3431137910014705\n",
      "Epoch 19 complete! Validation Accuracy : 0.8390296052631578\n",
      "Best validation loss improved from 0.34441034182121877 to 0.3431137910014705\n",
      "\n",
      "\n",
      "Iteration 14/74 of epoch 20 complete. Loss : 0.17081272282770701 \n",
      "\n",
      "Iteration 28/74 of epoch 20 complete. Loss : 0.16164616176060267 \n",
      "\n",
      "Iteration 42/74 of epoch 20 complete. Loss : 0.16311504212873323 \n"
     ]
    },
    {
     "name": "stderr",
     "output_type": "stream",
     "text": [
      "100%|██████████| 74/74 [00:00<00:00, 233.01it/s]\n",
      "100%|██████████| 19/19 [00:00<00:00, 366.49it/s]\n",
      "  0%|          | 0/74 [00:00<?, ?it/s]"
     ]
    },
    {
     "name": "stdout",
     "output_type": "stream",
     "text": [
      "\n",
      "Iteration 56/74 of epoch 20 complete. Loss : 0.17188953927585057 \n",
      "\n",
      "Iteration 70/74 of epoch 20 complete. Loss : 0.16197228591356957 \n",
      "\n",
      "Epoch 20 complete! Validation Loss : 0.3422946788762745\n",
      "Epoch 20 complete! Validation Accuracy : 0.837796052631579\n",
      "Best validation loss improved from 0.3431137910014705 to 0.3422946788762745\n",
      "\n"
     ]
    },
    {
     "name": "stderr",
     "output_type": "stream",
     "text": [
      " 55%|█████▌    | 41/74 [00:00<00:00, 201.52it/s]"
     ]
    },
    {
     "name": "stdout",
     "output_type": "stream",
     "text": [
      "\n",
      "Iteration 14/74 of epoch 21 complete. Loss : 0.16719619929790497 \n",
      "\n",
      "Iteration 28/74 of epoch 21 complete. Loss : 0.16986958576100214 \n",
      "\n",
      "Iteration 42/74 of epoch 21 complete. Loss : 0.1575263153229441 \n"
     ]
    },
    {
     "name": "stderr",
     "output_type": "stream",
     "text": [
      "100%|██████████| 74/74 [00:00<00:00, 202.10it/s]\n",
      "100%|██████████| 19/19 [00:00<00:00, 368.32it/s]\n",
      "  0%|          | 0/74 [00:00<?, ?it/s]"
     ]
    },
    {
     "name": "stdout",
     "output_type": "stream",
     "text": [
      "\n",
      "Iteration 56/74 of epoch 21 complete. Loss : 0.17003887412803514 \n",
      "\n",
      "Iteration 70/74 of epoch 21 complete. Loss : 0.15382582641073636 \n",
      "\n",
      "Epoch 21 complete! Validation Loss : 0.34311276438989136\n",
      "Epoch 21 complete! Validation Accuracy : 0.835328947368421\n"
     ]
    },
    {
     "name": "stderr",
     "output_type": "stream",
     "text": [
      " 57%|█████▋    | 42/74 [00:00<00:00, 205.50it/s]"
     ]
    },
    {
     "name": "stdout",
     "output_type": "stream",
     "text": [
      "\n",
      "Iteration 14/74 of epoch 22 complete. Loss : 0.16648158431053162 \n",
      "\n",
      "Iteration 28/74 of epoch 22 complete. Loss : 0.16915282819952285 \n",
      "\n",
      "Iteration 42/74 of epoch 22 complete. Loss : 0.1585616490670613 \n"
     ]
    },
    {
     "name": "stderr",
     "output_type": "stream",
     "text": [
      "100%|██████████| 74/74 [00:00<00:00, 202.17it/s]\n",
      "100%|██████████| 19/19 [00:00<00:00, 365.44it/s]\n",
      "  0%|          | 0/74 [00:00<?, ?it/s]"
     ]
    },
    {
     "name": "stdout",
     "output_type": "stream",
     "text": [
      "\n",
      "Iteration 56/74 of epoch 22 complete. Loss : 0.16685961825507029 \n",
      "\n",
      "Iteration 70/74 of epoch 22 complete. Loss : 0.16559708171657153 \n",
      "\n",
      "Epoch 22 complete! Validation Loss : 0.34032503789977026\n",
      "Epoch 22 complete! Validation Accuracy : 0.8406743421052632\n",
      "Best validation loss improved from 0.3422946788762745 to 0.34032503789977026\n",
      "\n"
     ]
    },
    {
     "name": "stderr",
     "output_type": "stream",
     "text": [
      " 55%|█████▌    | 41/74 [00:00<00:00, 202.04it/s]"
     ]
    },
    {
     "name": "stdout",
     "output_type": "stream",
     "text": [
      "\n",
      "Iteration 14/74 of epoch 23 complete. Loss : 0.1620515664773328 \n",
      "\n",
      "Iteration 28/74 of epoch 23 complete. Loss : 0.16022860897438868 \n",
      "\n",
      "Iteration 42/74 of epoch 23 complete. Loss : 0.166663972394807 \n"
     ]
    },
    {
     "name": "stderr",
     "output_type": "stream",
     "text": [
      "100%|██████████| 74/74 [00:00<00:00, 202.52it/s]\n",
      "100%|██████████| 19/19 [00:00<00:00, 365.18it/s]\n",
      "  0%|          | 0/74 [00:00<?, ?it/s]"
     ]
    },
    {
     "name": "stdout",
     "output_type": "stream",
     "text": [
      "\n",
      "Iteration 56/74 of epoch 23 complete. Loss : 0.16031320286648615 \n",
      "\n",
      "Iteration 70/74 of epoch 23 complete. Loss : 0.17360013404062816 \n",
      "\n",
      "Epoch 23 complete! Validation Loss : 0.3415889371382563\n",
      "Epoch 23 complete! Validation Accuracy : 0.8349177631578947\n"
     ]
    },
    {
     "name": "stderr",
     "output_type": "stream",
     "text": [
      " 57%|█████▋    | 42/74 [00:00<00:00, 202.70it/s]"
     ]
    },
    {
     "name": "stdout",
     "output_type": "stream",
     "text": [
      "\n",
      "Iteration 14/74 of epoch 24 complete. Loss : 0.16808869796139853 \n",
      "\n",
      "Iteration 28/74 of epoch 24 complete. Loss : 0.166464095136949 \n",
      "\n",
      "Iteration 42/74 of epoch 24 complete. Loss : 0.1663908479469163 \n"
     ]
    },
    {
     "name": "stderr",
     "output_type": "stream",
     "text": [
      "100%|██████████| 74/74 [00:00<00:00, 199.85it/s]\n",
      "100%|██████████| 19/19 [00:00<00:00, 368.45it/s]\n",
      "  0%|          | 0/74 [00:00<?, ?it/s]"
     ]
    },
    {
     "name": "stdout",
     "output_type": "stream",
     "text": [
      "\n",
      "Iteration 56/74 of epoch 24 complete. Loss : 0.15711845457553864 \n",
      "\n",
      "Iteration 70/74 of epoch 24 complete. Loss : 0.1655545915876116 \n",
      "\n",
      "Epoch 24 complete! Validation Loss : 0.33887769438718496\n",
      "Epoch 24 complete! Validation Accuracy : 0.8402631578947368\n",
      "Best validation loss improved from 0.34032503789977026 to 0.33887769438718496\n",
      "\n"
     ]
    },
    {
     "name": "stderr",
     "output_type": "stream",
     "text": [
      " 55%|█████▌    | 41/74 [00:00<00:00, 203.48it/s]"
     ]
    },
    {
     "name": "stdout",
     "output_type": "stream",
     "text": [
      "\n",
      "Iteration 14/74 of epoch 25 complete. Loss : 0.16508207683052337 \n",
      "\n",
      "Iteration 28/74 of epoch 25 complete. Loss : 0.1647043036563056 \n",
      "\n",
      "Iteration 42/74 of epoch 25 complete. Loss : 0.1561649569443294 \n"
     ]
    },
    {
     "name": "stderr",
     "output_type": "stream",
     "text": [
      "100%|██████████| 74/74 [00:00<00:00, 200.78it/s]\n",
      "100%|██████████| 19/19 [00:00<00:00, 369.40it/s]\n",
      "  0%|          | 0/74 [00:00<?, ?it/s]"
     ]
    },
    {
     "name": "stdout",
     "output_type": "stream",
     "text": [
      "\n",
      "Iteration 56/74 of epoch 25 complete. Loss : 0.1571364663541317 \n",
      "\n",
      "Iteration 70/74 of epoch 25 complete. Loss : 0.17504165321588516 \n",
      "\n",
      "Epoch 25 complete! Validation Loss : 0.3385299232445265\n",
      "Epoch 25 complete! Validation Accuracy : 0.8419078947368421\n",
      "Best validation loss improved from 0.33887769438718496 to 0.3385299232445265\n",
      "\n"
     ]
    },
    {
     "name": "stderr",
     "output_type": "stream",
     "text": [
      " 55%|█████▌    | 41/74 [00:00<00:00, 202.55it/s]"
     ]
    },
    {
     "name": "stdout",
     "output_type": "stream",
     "text": [
      "\n",
      "Iteration 14/74 of epoch 26 complete. Loss : 0.17104643370423997 \n",
      "\n",
      "Iteration 28/74 of epoch 26 complete. Loss : 0.16423979508025305 \n",
      "\n",
      "Iteration 42/74 of epoch 26 complete. Loss : 0.15760256350040436 \n"
     ]
    },
    {
     "name": "stderr",
     "output_type": "stream",
     "text": [
      "100%|██████████| 74/74 [00:00<00:00, 200.27it/s]\n",
      "100%|██████████| 19/19 [00:00<00:00, 368.25it/s]\n",
      "  0%|          | 0/74 [00:00<?, ?it/s]"
     ]
    },
    {
     "name": "stdout",
     "output_type": "stream",
     "text": [
      "\n",
      "Iteration 56/74 of epoch 26 complete. Loss : 0.16206969427210943 \n",
      "\n",
      "Iteration 70/74 of epoch 26 complete. Loss : 0.1620506505881037 \n",
      "\n",
      "Epoch 26 complete! Validation Loss : 0.33801326861507014\n",
      "Epoch 26 complete! Validation Accuracy : 0.8435526315789473\n",
      "Best validation loss improved from 0.3385299232445265 to 0.33801326861507014\n",
      "\n"
     ]
    },
    {
     "name": "stderr",
     "output_type": "stream",
     "text": [
      " 55%|█████▌    | 41/74 [00:00<00:00, 203.44it/s]"
     ]
    },
    {
     "name": "stdout",
     "output_type": "stream",
     "text": [
      "\n",
      "Iteration 14/74 of epoch 27 complete. Loss : 0.1562718695827893 \n",
      "\n",
      "Iteration 28/74 of epoch 27 complete. Loss : 0.16578193115336554 \n",
      "\n",
      "Iteration 42/74 of epoch 27 complete. Loss : 0.16189067278589522 \n"
     ]
    },
    {
     "name": "stderr",
     "output_type": "stream",
     "text": [
      "100%|██████████| 74/74 [00:00<00:00, 201.99it/s]\n",
      "100%|██████████| 19/19 [00:00<00:00, 369.88it/s]\n",
      "  0%|          | 0/74 [00:00<?, ?it/s]"
     ]
    },
    {
     "name": "stdout",
     "output_type": "stream",
     "text": [
      "\n",
      "Iteration 56/74 of epoch 27 complete. Loss : 0.16624009502785547 \n",
      "\n",
      "Iteration 70/74 of epoch 27 complete. Loss : 0.16347318568399974 \n",
      "\n",
      "Epoch 27 complete! Validation Loss : 0.33770770305081416\n",
      "Epoch 27 complete! Validation Accuracy : 0.8406743421052632\n",
      "Best validation loss improved from 0.33801326861507014 to 0.33770770305081416\n",
      "\n"
     ]
    },
    {
     "name": "stderr",
     "output_type": "stream",
     "text": [
      " 57%|█████▋    | 42/74 [00:00<00:00, 205.28it/s]"
     ]
    },
    {
     "name": "stdout",
     "output_type": "stream",
     "text": [
      "\n",
      "Iteration 14/74 of epoch 28 complete. Loss : 0.1570902935096196 \n",
      "\n",
      "Iteration 28/74 of epoch 28 complete. Loss : 0.1657610833644867 \n",
      "\n",
      "Iteration 42/74 of epoch 28 complete. Loss : 0.16000852254884584 \n"
     ]
    },
    {
     "name": "stderr",
     "output_type": "stream",
     "text": [
      "100%|██████████| 74/74 [00:00<00:00, 202.26it/s]\n",
      "100%|██████████| 19/19 [00:00<00:00, 367.47it/s]\n",
      "  0%|          | 0/74 [00:00<?, ?it/s]"
     ]
    },
    {
     "name": "stdout",
     "output_type": "stream",
     "text": [
      "\n",
      "Iteration 56/74 of epoch 28 complete. Loss : 0.16001847120268003 \n",
      "\n",
      "Iteration 70/74 of epoch 28 complete. Loss : 0.1635815298983029 \n",
      "\n",
      "Epoch 28 complete! Validation Loss : 0.3406885925092195\n",
      "Epoch 28 complete! Validation Accuracy : 0.8382072368421053\n"
     ]
    },
    {
     "name": "stderr",
     "output_type": "stream",
     "text": [
      " 57%|█████▋    | 42/74 [00:00<00:00, 210.15it/s]"
     ]
    },
    {
     "name": "stdout",
     "output_type": "stream",
     "text": [
      "\n",
      "Iteration 14/74 of epoch 29 complete. Loss : 0.1555611789226532 \n",
      "\n",
      "Iteration 28/74 of epoch 29 complete. Loss : 0.17025932456765855 \n",
      "\n",
      "Iteration 42/74 of epoch 29 complete. Loss : 0.16141886955925397 \n"
     ]
    },
    {
     "name": "stderr",
     "output_type": "stream",
     "text": [
      "100%|██████████| 74/74 [00:00<00:00, 202.49it/s]\n",
      "100%|██████████| 19/19 [00:00<00:00, 369.60it/s]\n",
      "  0%|          | 0/74 [00:00<?, ?it/s]"
     ]
    },
    {
     "name": "stdout",
     "output_type": "stream",
     "text": [
      "\n",
      "Iteration 56/74 of epoch 29 complete. Loss : 0.1571599149278232 \n",
      "\n",
      "Iteration 70/74 of epoch 29 complete. Loss : 0.15913790038653783 \n",
      "\n",
      "Epoch 29 complete! Validation Loss : 0.33862031290405675\n",
      "Epoch 29 complete! Validation Accuracy : 0.8394407894736842\n"
     ]
    },
    {
     "name": "stderr",
     "output_type": "stream",
     "text": [
      " 57%|█████▋    | 42/74 [00:00<00:00, 203.53it/s]"
     ]
    },
    {
     "name": "stdout",
     "output_type": "stream",
     "text": [
      "\n",
      "Iteration 14/74 of epoch 30 complete. Loss : 0.16250006694878852 \n",
      "\n",
      "Iteration 28/74 of epoch 30 complete. Loss : 0.1621515867965562 \n",
      "\n",
      "Iteration 42/74 of epoch 30 complete. Loss : 0.16211080338273728 \n"
     ]
    },
    {
     "name": "stderr",
     "output_type": "stream",
     "text": [
      "100%|██████████| 74/74 [00:00<00:00, 202.25it/s]\n",
      "100%|██████████| 19/19 [00:00<00:00, 365.42it/s]\n",
      "  0%|          | 0/74 [00:00<?, ?it/s]"
     ]
    },
    {
     "name": "stdout",
     "output_type": "stream",
     "text": [
      "\n",
      "Iteration 56/74 of epoch 30 complete. Loss : 0.1612028373139245 \n",
      "\n",
      "Iteration 70/74 of epoch 30 complete. Loss : 0.16006521667752946 \n",
      "\n",
      "Epoch 30 complete! Validation Loss : 0.3365557860386999\n",
      "Epoch 30 complete! Validation Accuracy : 0.8410855263157895\n",
      "Best validation loss improved from 0.33770770305081416 to 0.3365557860386999\n",
      "\n"
     ]
    },
    {
     "name": "stderr",
     "output_type": "stream",
     "text": [
      " 57%|█████▋    | 42/74 [00:00<00:00, 207.35it/s]"
     ]
    },
    {
     "name": "stdout",
     "output_type": "stream",
     "text": [
      "\n",
      "Iteration 14/74 of epoch 31 complete. Loss : 0.16376361889498575 \n",
      "\n",
      "Iteration 28/74 of epoch 31 complete. Loss : 0.15311734112245695 \n",
      "\n",
      "Iteration 42/74 of epoch 31 complete. Loss : 0.16647253504821233 \n"
     ]
    },
    {
     "name": "stderr",
     "output_type": "stream",
     "text": [
      "100%|██████████| 74/74 [00:00<00:00, 204.11it/s]\n",
      "100%|██████████| 19/19 [00:00<00:00, 368.23it/s]\n",
      "  0%|          | 0/74 [00:00<?, ?it/s]"
     ]
    },
    {
     "name": "stdout",
     "output_type": "stream",
     "text": [
      "\n",
      "Iteration 56/74 of epoch 31 complete. Loss : 0.16228059572832926 \n",
      "\n",
      "Iteration 70/74 of epoch 31 complete. Loss : 0.15913394998226846 \n",
      "\n",
      "Epoch 31 complete! Validation Loss : 0.33619398349209834\n",
      "Epoch 31 complete! Validation Accuracy : 0.8423190789473685\n",
      "Best validation loss improved from 0.3365557860386999 to 0.33619398349209834\n",
      "\n"
     ]
    },
    {
     "name": "stderr",
     "output_type": "stream",
     "text": [
      " 57%|█████▋    | 42/74 [00:00<00:00, 203.12it/s]"
     ]
    },
    {
     "name": "stdout",
     "output_type": "stream",
     "text": [
      "\n",
      "Iteration 14/74 of epoch 32 complete. Loss : 0.16551698105675833 \n",
      "\n",
      "Iteration 28/74 of epoch 32 complete. Loss : 0.1568211545901639 \n",
      "\n",
      "Iteration 42/74 of epoch 32 complete. Loss : 0.16311069684369223 \n"
     ]
    },
    {
     "name": "stderr",
     "output_type": "stream",
     "text": [
      "100%|██████████| 74/74 [00:00<00:00, 202.24it/s]\n",
      "100%|██████████| 19/19 [00:00<00:00, 366.73it/s]\n",
      "  0%|          | 0/74 [00:00<?, ?it/s]"
     ]
    },
    {
     "name": "stdout",
     "output_type": "stream",
     "text": [
      "\n",
      "Iteration 56/74 of epoch 32 complete. Loss : 0.160312042172466 \n",
      "\n",
      "Iteration 70/74 of epoch 32 complete. Loss : 0.1554522067308426 \n",
      "\n",
      "Epoch 32 complete! Validation Loss : 0.335947932381379\n",
      "Epoch 32 complete! Validation Accuracy : 0.8427302631578947\n",
      "Best validation loss improved from 0.33619398349209834 to 0.335947932381379\n",
      "\n"
     ]
    },
    {
     "name": "stderr",
     "output_type": "stream",
     "text": [
      " 57%|█████▋    | 42/74 [00:00<00:00, 206.39it/s]"
     ]
    },
    {
     "name": "stdout",
     "output_type": "stream",
     "text": [
      "\n",
      "Iteration 14/74 of epoch 33 complete. Loss : 0.15958725767476217 \n",
      "\n",
      "Iteration 28/74 of epoch 33 complete. Loss : 0.1629972830414772 \n",
      "\n",
      "Iteration 42/74 of epoch 33 complete. Loss : 0.14913405690874373 \n"
     ]
    },
    {
     "name": "stderr",
     "output_type": "stream",
     "text": [
      "100%|██████████| 74/74 [00:00<00:00, 202.51it/s]\n",
      "100%|██████████| 19/19 [00:00<00:00, 364.38it/s]\n",
      "  0%|          | 0/74 [00:00<?, ?it/s]"
     ]
    },
    {
     "name": "stdout",
     "output_type": "stream",
     "text": [
      "\n",
      "Iteration 56/74 of epoch 33 complete. Loss : 0.16632864677480289 \n",
      "\n",
      "Iteration 70/74 of epoch 33 complete. Loss : 0.16168020346335002 \n",
      "\n",
      "Epoch 33 complete! Validation Loss : 0.3361254295236186\n",
      "Epoch 33 complete! Validation Accuracy : 0.8406743421052632\n"
     ]
    },
    {
     "name": "stderr",
     "output_type": "stream",
     "text": [
      " 57%|█████▋    | 42/74 [00:00<00:00, 202.33it/s]"
     ]
    },
    {
     "name": "stdout",
     "output_type": "stream",
     "text": [
      "\n",
      "Iteration 14/74 of epoch 34 complete. Loss : 0.15842439553567342 \n",
      "\n",
      "Iteration 28/74 of epoch 34 complete. Loss : 0.16242090985178947 \n",
      "\n",
      "Iteration 42/74 of epoch 34 complete. Loss : 0.15778928888695581 \n"
     ]
    },
    {
     "name": "stderr",
     "output_type": "stream",
     "text": [
      "100%|██████████| 74/74 [00:00<00:00, 200.37it/s]\n",
      "100%|██████████| 19/19 [00:00<00:00, 362.62it/s]\n",
      "  0%|          | 0/74 [00:00<?, ?it/s]"
     ]
    },
    {
     "name": "stdout",
     "output_type": "stream",
     "text": [
      "\n",
      "Iteration 56/74 of epoch 34 complete. Loss : 0.16333505191973277 \n",
      "\n",
      "Iteration 70/74 of epoch 34 complete. Loss : 0.15843105741909572 \n",
      "\n",
      "Epoch 34 complete! Validation Loss : 0.33524812601114573\n",
      "Epoch 34 complete! Validation Accuracy : 0.8419078947368421\n",
      "Best validation loss improved from 0.335947932381379 to 0.33524812601114573\n",
      "\n"
     ]
    },
    {
     "name": "stderr",
     "output_type": "stream",
     "text": [
      " 57%|█████▋    | 42/74 [00:00<00:00, 203.19it/s]"
     ]
    },
    {
     "name": "stdout",
     "output_type": "stream",
     "text": [
      "\n",
      "Iteration 14/74 of epoch 35 complete. Loss : 0.16509578110916273 \n",
      "\n",
      "Iteration 28/74 of epoch 35 complete. Loss : 0.15919221299035208 \n",
      "\n",
      "Iteration 42/74 of epoch 35 complete. Loss : 0.1649752695645605 \n"
     ]
    },
    {
     "name": "stderr",
     "output_type": "stream",
     "text": [
      "100%|██████████| 74/74 [00:00<00:00, 201.77it/s]\n",
      "100%|██████████| 19/19 [00:00<00:00, 366.37it/s]\n",
      "  0%|          | 0/74 [00:00<?, ?it/s]"
     ]
    },
    {
     "name": "stdout",
     "output_type": "stream",
     "text": [
      "\n",
      "Iteration 56/74 of epoch 35 complete. Loss : 0.15645724907517433 \n",
      "\n",
      "Iteration 70/74 of epoch 35 complete. Loss : 0.1557168130363737 \n",
      "\n",
      "Epoch 35 complete! Validation Loss : 0.33539574161956187\n",
      "Epoch 35 complete! Validation Accuracy : 0.843141447368421\n"
     ]
    },
    {
     "name": "stderr",
     "output_type": "stream",
     "text": [
      " 55%|█████▌    | 41/74 [00:00<00:00, 202.41it/s]"
     ]
    },
    {
     "name": "stdout",
     "output_type": "stream",
     "text": [
      "\n",
      "Iteration 14/74 of epoch 36 complete. Loss : 0.16622681756104743 \n",
      "\n",
      "Iteration 28/74 of epoch 36 complete. Loss : 0.16290949604340962 \n",
      "\n",
      "Iteration 42/74 of epoch 36 complete. Loss : 0.15723305780972754 \n"
     ]
    },
    {
     "name": "stderr",
     "output_type": "stream",
     "text": [
      "100%|██████████| 74/74 [00:00<00:00, 200.23it/s]\n",
      "100%|██████████| 19/19 [00:00<00:00, 363.96it/s]\n",
      "  0%|          | 0/74 [00:00<?, ?it/s]"
     ]
    },
    {
     "name": "stdout",
     "output_type": "stream",
     "text": [
      "\n",
      "Iteration 56/74 of epoch 36 complete. Loss : 0.15640991181135178 \n",
      "\n",
      "Iteration 70/74 of epoch 36 complete. Loss : 0.15561483481100627 \n",
      "\n",
      "Epoch 36 complete! Validation Loss : 0.34085944294929504\n",
      "Epoch 36 complete! Validation Accuracy : 0.8382072368421053\n"
     ]
    },
    {
     "name": "stderr",
     "output_type": "stream",
     "text": [
      " 55%|█████▌    | 41/74 [00:00<00:00, 205.28it/s]"
     ]
    },
    {
     "name": "stdout",
     "output_type": "stream",
     "text": [
      "\n",
      "Iteration 14/74 of epoch 37 complete. Loss : 0.16109930351376534 \n",
      "\n",
      "Iteration 28/74 of epoch 37 complete. Loss : 0.16027417672531946 \n",
      "\n",
      "Iteration 42/74 of epoch 37 complete. Loss : 0.15704171465975897 \n"
     ]
    },
    {
     "name": "stderr",
     "output_type": "stream",
     "text": [
      "100%|██████████| 74/74 [00:00<00:00, 200.80it/s]\n",
      "100%|██████████| 19/19 [00:00<00:00, 367.13it/s]\n",
      "  0%|          | 0/74 [00:00<?, ?it/s]"
     ]
    },
    {
     "name": "stdout",
     "output_type": "stream",
     "text": [
      "\n",
      "Iteration 56/74 of epoch 37 complete. Loss : 0.1584579199552536 \n",
      "\n",
      "Iteration 70/74 of epoch 37 complete. Loss : 0.16409468863691604 \n",
      "\n",
      "Epoch 37 complete! Validation Loss : 0.3361560129805615\n",
      "Epoch 37 complete! Validation Accuracy : 0.8419078947368421\n"
     ]
    },
    {
     "name": "stderr",
     "output_type": "stream",
     "text": [
      " 57%|█████▋    | 42/74 [00:00<00:00, 204.00it/s]"
     ]
    },
    {
     "name": "stdout",
     "output_type": "stream",
     "text": [
      "\n",
      "Iteration 14/74 of epoch 38 complete. Loss : 0.1699646913579532 \n",
      "\n",
      "Iteration 28/74 of epoch 38 complete. Loss : 0.15872712220464433 \n",
      "\n",
      "Iteration 42/74 of epoch 38 complete. Loss : 0.16059253524456704 \n"
     ]
    },
    {
     "name": "stderr",
     "output_type": "stream",
     "text": [
      "100%|██████████| 74/74 [00:00<00:00, 201.56it/s]\n",
      "100%|██████████| 19/19 [00:00<00:00, 365.29it/s]\n",
      "  0%|          | 0/74 [00:00<?, ?it/s]"
     ]
    },
    {
     "name": "stdout",
     "output_type": "stream",
     "text": [
      "\n",
      "Iteration 56/74 of epoch 38 complete. Loss : 0.15925303580505507 \n",
      "\n",
      "Iteration 70/74 of epoch 38 complete. Loss : 0.15648596999900682 \n",
      "\n",
      "Epoch 38 complete! Validation Loss : 0.33626074226279007\n",
      "Epoch 38 complete! Validation Accuracy : 0.8390296052631578\n"
     ]
    },
    {
     "name": "stderr",
     "output_type": "stream",
     "text": [
      " 59%|█████▉    | 44/74 [00:00<00:00, 218.93it/s]"
     ]
    },
    {
     "name": "stdout",
     "output_type": "stream",
     "text": [
      "\n",
      "Iteration 14/74 of epoch 39 complete. Loss : 0.16184081882238388 \n",
      "\n",
      "Iteration 28/74 of epoch 39 complete. Loss : 0.15688024567706244 \n",
      "\n",
      "Iteration 42/74 of epoch 39 complete. Loss : 0.15588637122086116 \n"
     ]
    },
    {
     "name": "stderr",
     "output_type": "stream",
     "text": [
      "100%|██████████| 74/74 [00:00<00:00, 207.12it/s]\n",
      "100%|██████████| 19/19 [00:00<00:00, 371.42it/s]\n",
      "  0%|          | 0/74 [00:00<?, ?it/s]"
     ]
    },
    {
     "name": "stdout",
     "output_type": "stream",
     "text": [
      "\n",
      "Iteration 56/74 of epoch 39 complete. Loss : 0.1623538519654955 \n",
      "\n",
      "Iteration 70/74 of epoch 39 complete. Loss : 0.16205338761210442 \n",
      "\n",
      "Epoch 39 complete! Validation Loss : 0.3347571547094144\n",
      "Epoch 39 complete! Validation Accuracy : 0.8414967105263158\n",
      "Best validation loss improved from 0.33524812601114573 to 0.3347571547094144\n",
      "\n"
     ]
    },
    {
     "name": "stderr",
     "output_type": "stream",
     "text": [
      " 55%|█████▌    | 41/74 [00:00<00:00, 201.79it/s]"
     ]
    },
    {
     "name": "stdout",
     "output_type": "stream",
     "text": [
      "\n",
      "Iteration 14/74 of epoch 40 complete. Loss : 0.1623064194406782 \n",
      "\n",
      "Iteration 28/74 of epoch 40 complete. Loss : 0.15434559168560164 \n",
      "\n",
      "Iteration 42/74 of epoch 40 complete. Loss : 0.1710707066314561 \n"
     ]
    },
    {
     "name": "stderr",
     "output_type": "stream",
     "text": [
      "100%|██████████| 74/74 [00:00<00:00, 201.11it/s]\n",
      "100%|██████████| 19/19 [00:00<00:00, 364.17it/s]\n",
      "  0%|          | 0/74 [00:00<?, ?it/s]"
     ]
    },
    {
     "name": "stdout",
     "output_type": "stream",
     "text": [
      "\n",
      "Iteration 56/74 of epoch 40 complete. Loss : 0.14927387237548828 \n",
      "\n",
      "Iteration 70/74 of epoch 40 complete. Loss : 0.1588644922844001 \n",
      "\n",
      "Epoch 40 complete! Validation Loss : 0.3337137887352391\n",
      "Epoch 40 complete! Validation Accuracy : 0.8460197368421053\n",
      "Best validation loss improved from 0.3347571547094144 to 0.3337137887352391\n",
      "\n"
     ]
    },
    {
     "name": "stderr",
     "output_type": "stream",
     "text": [
      " 57%|█████▋    | 42/74 [00:00<00:00, 203.89it/s]"
     ]
    },
    {
     "name": "stdout",
     "output_type": "stream",
     "text": [
      "\n",
      "Iteration 14/74 of epoch 41 complete. Loss : 0.14793270666684424 \n",
      "\n",
      "Iteration 28/74 of epoch 41 complete. Loss : 0.16862863834415162 \n",
      "\n",
      "Iteration 42/74 of epoch 41 complete. Loss : 0.15340075003249304 \n"
     ]
    },
    {
     "name": "stderr",
     "output_type": "stream",
     "text": [
      "100%|██████████| 74/74 [00:00<00:00, 199.56it/s]\n",
      "100%|██████████| 19/19 [00:00<00:00, 363.62it/s]\n",
      "  0%|          | 0/74 [00:00<?, ?it/s]"
     ]
    },
    {
     "name": "stdout",
     "output_type": "stream",
     "text": [
      "\n",
      "Iteration 56/74 of epoch 41 complete. Loss : 0.16243878113371985 \n",
      "\n",
      "Iteration 70/74 of epoch 41 complete. Loss : 0.15818673159394944 \n",
      "\n",
      "Epoch 41 complete! Validation Loss : 0.3344875025121789\n",
      "Epoch 41 complete! Validation Accuracy : 0.8439638157894737\n"
     ]
    },
    {
     "name": "stderr",
     "output_type": "stream",
     "text": [
      " 54%|█████▍    | 40/74 [00:00<00:00, 193.69it/s]"
     ]
    },
    {
     "name": "stdout",
     "output_type": "stream",
     "text": [
      "\n",
      "Iteration 14/74 of epoch 42 complete. Loss : 0.15400457488639013 \n",
      "\n",
      "Iteration 28/74 of epoch 42 complete. Loss : 0.15793194994330406 \n",
      "\n",
      "Iteration 42/74 of epoch 42 complete. Loss : 0.16697960027626582 \n"
     ]
    },
    {
     "name": "stderr",
     "output_type": "stream",
     "text": [
      "100%|██████████| 74/74 [00:00<00:00, 196.88it/s]\n",
      "100%|██████████| 19/19 [00:00<00:00, 366.84it/s]\n",
      "  0%|          | 0/74 [00:00<?, ?it/s]"
     ]
    },
    {
     "name": "stdout",
     "output_type": "stream",
     "text": [
      "\n",
      "Iteration 56/74 of epoch 42 complete. Loss : 0.15691854325788362 \n",
      "\n",
      "Iteration 70/74 of epoch 42 complete. Loss : 0.1559039524623326 \n",
      "\n",
      "Epoch 42 complete! Validation Loss : 0.33676164322777796\n",
      "Epoch 42 complete! Validation Accuracy : 0.8410855263157895\n"
     ]
    },
    {
     "name": "stderr",
     "output_type": "stream",
     "text": [
      " 55%|█████▌    | 41/74 [00:00<00:00, 201.50it/s]"
     ]
    },
    {
     "name": "stdout",
     "output_type": "stream",
     "text": [
      "\n",
      "Iteration 14/74 of epoch 43 complete. Loss : 0.1565053090453148 \n",
      "\n",
      "Iteration 28/74 of epoch 43 complete. Loss : 0.14874196850827762 \n",
      "\n",
      "Iteration 42/74 of epoch 43 complete. Loss : 0.16240174855504716 \n"
     ]
    },
    {
     "name": "stderr",
     "output_type": "stream",
     "text": [
      "100%|██████████| 74/74 [00:00<00:00, 197.60it/s]\n",
      "100%|██████████| 19/19 [00:00<00:00, 364.34it/s]\n",
      "  0%|          | 0/74 [00:00<?, ?it/s]"
     ]
    },
    {
     "name": "stdout",
     "output_type": "stream",
     "text": [
      "\n",
      "Iteration 56/74 of epoch 43 complete. Loss : 0.16215868507112777 \n",
      "\n",
      "Iteration 70/74 of epoch 43 complete. Loss : 0.16313248074480466 \n",
      "\n",
      "Epoch 43 complete! Validation Loss : 0.33525119408180837\n",
      "Epoch 43 complete! Validation Accuracy : 0.8402631578947368\n"
     ]
    },
    {
     "name": "stderr",
     "output_type": "stream",
     "text": [
      " 55%|█████▌    | 41/74 [00:00<00:00, 202.45it/s]"
     ]
    },
    {
     "name": "stdout",
     "output_type": "stream",
     "text": [
      "\n",
      "Iteration 14/74 of epoch 44 complete. Loss : 0.14904221040861948 \n",
      "\n",
      "Iteration 28/74 of epoch 44 complete. Loss : 0.1626161453979356 \n",
      "\n",
      "Iteration 42/74 of epoch 44 complete. Loss : 0.15933510554688318 \n"
     ]
    },
    {
     "name": "stderr",
     "output_type": "stream",
     "text": [
      "100%|██████████| 74/74 [00:00<00:00, 200.24it/s]\n",
      "100%|██████████| 19/19 [00:00<00:00, 366.70it/s]\n",
      "  0%|          | 0/74 [00:00<?, ?it/s]"
     ]
    },
    {
     "name": "stdout",
     "output_type": "stream",
     "text": [
      "\n",
      "Iteration 56/74 of epoch 44 complete. Loss : 0.15423004861388886 \n",
      "\n",
      "Iteration 70/74 of epoch 44 complete. Loss : 0.1671541024531637 \n",
      "\n",
      "Epoch 44 complete! Validation Loss : 0.3344762882119731\n",
      "Epoch 44 complete! Validation Accuracy : 0.844375\n"
     ]
    },
    {
     "name": "stderr",
     "output_type": "stream",
     "text": [
      " 55%|█████▌    | 41/74 [00:00<00:00, 200.68it/s]"
     ]
    },
    {
     "name": "stdout",
     "output_type": "stream",
     "text": [
      "\n",
      "Iteration 14/74 of epoch 45 complete. Loss : 0.159998284386737 \n",
      "\n",
      "Iteration 28/74 of epoch 45 complete. Loss : 0.1697147520525115 \n",
      "\n",
      "Iteration 42/74 of epoch 45 complete. Loss : 0.15202354320458003 \n"
     ]
    },
    {
     "name": "stderr",
     "output_type": "stream",
     "text": [
      "100%|██████████| 74/74 [00:00<00:00, 193.92it/s]\n",
      "100%|██████████| 19/19 [00:00<00:00, 357.60it/s]\n",
      "  0%|          | 0/74 [00:00<?, ?it/s]"
     ]
    },
    {
     "name": "stdout",
     "output_type": "stream",
     "text": [
      "\n",
      "Iteration 56/74 of epoch 45 complete. Loss : 0.1523827649652958 \n",
      "\n",
      "Iteration 70/74 of epoch 45 complete. Loss : 0.15551916669522012 \n",
      "\n",
      "Epoch 45 complete! Validation Loss : 0.33892162771601425\n",
      "Epoch 45 complete! Validation Accuracy : 0.8402631578947368\n"
     ]
    },
    {
     "name": "stderr",
     "output_type": "stream",
     "text": [
      " 55%|█████▌    | 41/74 [00:00<00:00, 201.37it/s]"
     ]
    },
    {
     "name": "stdout",
     "output_type": "stream",
     "text": [
      "\n",
      "Iteration 14/74 of epoch 46 complete. Loss : 0.16516935399600438 \n",
      "\n",
      "Iteration 28/74 of epoch 46 complete. Loss : 0.15683183978710855 \n",
      "\n",
      "Iteration 42/74 of epoch 46 complete. Loss : 0.15134403694953238 \n"
     ]
    },
    {
     "name": "stderr",
     "output_type": "stream",
     "text": [
      "100%|██████████| 74/74 [00:00<00:00, 201.55it/s]\n",
      "100%|██████████| 19/19 [00:00<00:00, 367.43it/s]\n",
      "  0%|          | 0/74 [00:00<?, ?it/s]"
     ]
    },
    {
     "name": "stdout",
     "output_type": "stream",
     "text": [
      "\n",
      "Iteration 56/74 of epoch 46 complete. Loss : 0.1556884055691106 \n",
      "\n",
      "Iteration 70/74 of epoch 46 complete. Loss : 0.16143244292054856 \n",
      "\n",
      "Epoch 46 complete! Validation Loss : 0.33535246237328176\n",
      "Epoch 46 complete! Validation Accuracy : 0.8439638157894737\n"
     ]
    },
    {
     "name": "stderr",
     "output_type": "stream",
     "text": [
      " 57%|█████▋    | 42/74 [00:00<00:00, 204.72it/s]"
     ]
    },
    {
     "name": "stdout",
     "output_type": "stream",
     "text": [
      "\n",
      "Iteration 14/74 of epoch 47 complete. Loss : 0.15485958914671624 \n",
      "\n",
      "Iteration 28/74 of epoch 47 complete. Loss : 0.1556570210627147 \n",
      "\n",
      "Iteration 42/74 of epoch 47 complete. Loss : 0.16418236174753734 \n"
     ]
    },
    {
     "name": "stderr",
     "output_type": "stream",
     "text": [
      "100%|██████████| 74/74 [00:00<00:00, 202.24it/s]\n",
      "100%|██████████| 19/19 [00:00<00:00, 369.82it/s]\n",
      "  0%|          | 0/74 [00:00<?, ?it/s]"
     ]
    },
    {
     "name": "stdout",
     "output_type": "stream",
     "text": [
      "\n",
      "Iteration 56/74 of epoch 47 complete. Loss : 0.16086134953158243 \n",
      "\n",
      "Iteration 70/74 of epoch 47 complete. Loss : 0.15281859572444642 \n",
      "\n",
      "Epoch 47 complete! Validation Loss : 0.33457154741412715\n",
      "Epoch 47 complete! Validation Accuracy : 0.8427302631578947\n"
     ]
    },
    {
     "name": "stderr",
     "output_type": "stream",
     "text": [
      " 57%|█████▋    | 42/74 [00:00<00:00, 204.16it/s]"
     ]
    },
    {
     "name": "stdout",
     "output_type": "stream",
     "text": [
      "\n",
      "Iteration 14/74 of epoch 48 complete. Loss : 0.15771975634353502 \n",
      "\n",
      "Iteration 28/74 of epoch 48 complete. Loss : 0.16094062477350235 \n",
      "\n",
      "Iteration 42/74 of epoch 48 complete. Loss : 0.15326876299721853 \n"
     ]
    },
    {
     "name": "stderr",
     "output_type": "stream",
     "text": [
      "100%|██████████| 74/74 [00:00<00:00, 202.18it/s]\n",
      "100%|██████████| 19/19 [00:00<00:00, 369.06it/s]\n",
      "  0%|          | 0/74 [00:00<?, ?it/s]"
     ]
    },
    {
     "name": "stdout",
     "output_type": "stream",
     "text": [
      "\n",
      "Iteration 56/74 of epoch 48 complete. Loss : 0.16508743273360388 \n",
      "\n",
      "Iteration 70/74 of epoch 48 complete. Loss : 0.15514954764928138 \n",
      "\n",
      "Epoch 48 complete! Validation Loss : 0.3345072457664891\n",
      "Epoch 48 complete! Validation Accuracy : 0.8447861842105263\n"
     ]
    },
    {
     "name": "stderr",
     "output_type": "stream",
     "text": [
      " 57%|█████▋    | 42/74 [00:00<00:00, 206.26it/s]"
     ]
    },
    {
     "name": "stdout",
     "output_type": "stream",
     "text": [
      "\n",
      "Iteration 14/74 of epoch 49 complete. Loss : 0.15424051880836487 \n",
      "\n",
      "Iteration 28/74 of epoch 49 complete. Loss : 0.15223768779209682 \n",
      "\n",
      "Iteration 42/74 of epoch 49 complete. Loss : 0.15500173504863465 \n"
     ]
    },
    {
     "name": "stderr",
     "output_type": "stream",
     "text": [
      "100%|██████████| 74/74 [00:00<00:00, 203.56it/s]\n",
      "100%|██████████| 19/19 [00:00<00:00, 364.89it/s]\n",
      "  0%|          | 0/74 [00:00<?, ?it/s]"
     ]
    },
    {
     "name": "stdout",
     "output_type": "stream",
     "text": [
      "\n",
      "Iteration 56/74 of epoch 49 complete. Loss : 0.16509272158145905 \n",
      "\n",
      "Iteration 70/74 of epoch 49 complete. Loss : 0.16002123430371284 \n",
      "\n",
      "Epoch 49 complete! Validation Loss : 0.33230346362841756\n",
      "Epoch 49 complete! Validation Accuracy : 0.8450164473684211\n",
      "Best validation loss improved from 0.3337137887352391 to 0.33230346362841756\n",
      "\n"
     ]
    },
    {
     "name": "stderr",
     "output_type": "stream",
     "text": [
      " 55%|█████▌    | 41/74 [00:00<00:00, 201.32it/s]"
     ]
    },
    {
     "name": "stdout",
     "output_type": "stream",
     "text": [
      "\n",
      "Iteration 14/74 of epoch 50 complete. Loss : 0.16072085819074086 \n",
      "\n",
      "Iteration 28/74 of epoch 50 complete. Loss : 0.1447490421789033 \n",
      "\n",
      "Iteration 42/74 of epoch 50 complete. Loss : 0.15583082607814244 \n"
     ]
    },
    {
     "name": "stderr",
     "output_type": "stream",
     "text": [
      "100%|██████████| 74/74 [00:00<00:00, 198.96it/s]\n",
      "100%|██████████| 19/19 [00:00<00:00, 365.68it/s]"
     ]
    },
    {
     "name": "stdout",
     "output_type": "stream",
     "text": [
      "\n",
      "Iteration 56/74 of epoch 50 complete. Loss : 0.16310816471065795 \n",
      "\n",
      "Iteration 70/74 of epoch 50 complete. Loss : 0.15944346306579454 \n",
      "\n",
      "Epoch 50 complete! Validation Loss : 0.33376689490519074\n",
      "Epoch 50 complete! Validation Accuracy : 0.844375\n"
     ]
    },
    {
     "name": "stderr",
     "output_type": "stream",
     "text": [
      "\n",
      " 55%|█████▌    | 41/74 [00:00<00:00, 203.39it/s]"
     ]
    },
    {
     "name": "stdout",
     "output_type": "stream",
     "text": [
      "\n",
      "Iteration 14/74 of epoch 51 complete. Loss : 0.15623563634497778 \n",
      "\n",
      "Iteration 28/74 of epoch 51 complete. Loss : 0.16037717461585999 \n",
      "\n",
      "Iteration 42/74 of epoch 51 complete. Loss : 0.14496663053120887 \n"
     ]
    },
    {
     "name": "stderr",
     "output_type": "stream",
     "text": [
      "100%|██████████| 74/74 [00:00<00:00, 200.65it/s]\n",
      "100%|██████████| 19/19 [00:00<00:00, 366.13it/s]\n",
      "  0%|          | 0/74 [00:00<?, ?it/s]"
     ]
    },
    {
     "name": "stdout",
     "output_type": "stream",
     "text": [
      "\n",
      "Iteration 56/74 of epoch 51 complete. Loss : 0.16808016917535237 \n",
      "\n",
      "Iteration 70/74 of epoch 51 complete. Loss : 0.15752401362572396 \n",
      "\n",
      "Epoch 51 complete! Validation Loss : 0.3373482807686454\n",
      "Epoch 51 complete! Validation Accuracy : 0.8410855263157895\n"
     ]
    },
    {
     "name": "stderr",
     "output_type": "stream",
     "text": [
      " 57%|█████▋    | 42/74 [00:00<00:00, 206.60it/s]"
     ]
    },
    {
     "name": "stdout",
     "output_type": "stream",
     "text": [
      "\n",
      "Iteration 14/74 of epoch 52 complete. Loss : 0.15588718759162085 \n",
      "\n",
      "Iteration 28/74 of epoch 52 complete. Loss : 0.15890014916658401 \n",
      "\n",
      "Iteration 42/74 of epoch 52 complete. Loss : 0.15054847300052643 \n"
     ]
    },
    {
     "name": "stderr",
     "output_type": "stream",
     "text": [
      "100%|██████████| 74/74 [00:00<00:00, 203.70it/s]\n",
      "100%|██████████| 19/19 [00:00<00:00, 363.81it/s]\n",
      "  0%|          | 0/74 [00:00<?, ?it/s]"
     ]
    },
    {
     "name": "stdout",
     "output_type": "stream",
     "text": [
      "\n",
      "Iteration 56/74 of epoch 52 complete. Loss : 0.16306233193193162 \n",
      "\n",
      "Iteration 70/74 of epoch 52 complete. Loss : 0.15844462652291572 \n",
      "\n",
      "Epoch 52 complete! Validation Loss : 0.3338023188867067\n",
      "Epoch 52 complete! Validation Accuracy : 0.8451973684210526\n"
     ]
    },
    {
     "name": "stderr",
     "output_type": "stream",
     "text": [
      " 57%|█████▋    | 42/74 [00:00<00:00, 205.72it/s]"
     ]
    },
    {
     "name": "stdout",
     "output_type": "stream",
     "text": [
      "\n",
      "Iteration 14/74 of epoch 53 complete. Loss : 0.1609502817903246 \n",
      "\n",
      "Iteration 28/74 of epoch 53 complete. Loss : 0.14946922713092395 \n",
      "\n",
      "Iteration 42/74 of epoch 53 complete. Loss : 0.146779722401074 \n"
     ]
    },
    {
     "name": "stderr",
     "output_type": "stream",
     "text": [
      "100%|██████████| 74/74 [00:00<00:00, 198.05it/s]\n",
      "100%|██████████| 19/19 [00:00<00:00, 370.75it/s]"
     ]
    },
    {
     "name": "stdout",
     "output_type": "stream",
     "text": [
      "\n",
      "Iteration 56/74 of epoch 53 complete. Loss : 0.15845777520111629 \n",
      "\n",
      "Iteration 70/74 of epoch 53 complete. Loss : 0.16718041258198874 \n"
     ]
    },
    {
     "name": "stderr",
     "output_type": "stream",
     "text": [
      "\n",
      " 27%|██▋       | 20/74 [00:00<00:00, 198.31it/s]"
     ]
    },
    {
     "name": "stdout",
     "output_type": "stream",
     "text": [
      "\n",
      "Epoch 53 complete! Validation Loss : 0.3322811150237134\n",
      "Epoch 53 complete! Validation Accuracy : 0.8450164473684211\n",
      "Best validation loss improved from 0.33230346362841756 to 0.3322811150237134\n",
      "\n",
      "\n",
      "Iteration 14/74 of epoch 54 complete. Loss : 0.15016767914806092 \n",
      "\n",
      "Iteration 28/74 of epoch 54 complete. Loss : 0.15557938601289475 \n"
     ]
    },
    {
     "name": "stderr",
     "output_type": "stream",
     "text": [
      "100%|██████████| 74/74 [00:00<00:00, 199.30it/s]\n",
      "  0%|          | 0/19 [00:00<?, ?it/s]"
     ]
    },
    {
     "name": "stdout",
     "output_type": "stream",
     "text": [
      "\n",
      "Iteration 42/74 of epoch 54 complete. Loss : 0.16693285426923207 \n",
      "\n",
      "Iteration 56/74 of epoch 54 complete. Loss : 0.16687224805355072 \n",
      "\n",
      "Iteration 70/74 of epoch 54 complete. Loss : 0.1468564926513604 \n"
     ]
    },
    {
     "name": "stderr",
     "output_type": "stream",
     "text": [
      "100%|██████████| 19/19 [00:00<00:00, 366.45it/s]\n",
      " 28%|██▊       | 21/74 [00:00<00:00, 208.92it/s]"
     ]
    },
    {
     "name": "stdout",
     "output_type": "stream",
     "text": [
      "\n",
      "Epoch 54 complete! Validation Loss : 0.3386051145039107\n",
      "Epoch 54 complete! Validation Accuracy : 0.8402631578947368\n",
      "\n",
      "Iteration 14/74 of epoch 55 complete. Loss : 0.14907545436705863 \n",
      "\n",
      "Iteration 28/74 of epoch 55 complete. Loss : 0.16140693053603172 \n"
     ]
    },
    {
     "name": "stderr",
     "output_type": "stream",
     "text": [
      "100%|██████████| 74/74 [00:00<00:00, 203.49it/s]\n",
      "  0%|          | 0/19 [00:00<?, ?it/s]"
     ]
    },
    {
     "name": "stdout",
     "output_type": "stream",
     "text": [
      "\n",
      "Iteration 42/74 of epoch 55 complete. Loss : 0.1544726129089083 \n",
      "\n",
      "Iteration 56/74 of epoch 55 complete. Loss : 0.1586844532617501 \n",
      "\n",
      "Iteration 70/74 of epoch 55 complete. Loss : 0.15949886185782297 \n"
     ]
    },
    {
     "name": "stderr",
     "output_type": "stream",
     "text": [
      "100%|██████████| 19/19 [00:00<00:00, 362.16it/s]\n",
      " 28%|██▊       | 21/74 [00:00<00:00, 207.39it/s]"
     ]
    },
    {
     "name": "stdout",
     "output_type": "stream",
     "text": [
      "\n",
      "Epoch 55 complete! Validation Loss : 0.33297126230440643\n",
      "Epoch 55 complete! Validation Accuracy : 0.844375\n",
      "\n",
      "Iteration 14/74 of epoch 56 complete. Loss : 0.15691464341112546 \n",
      "\n",
      "Iteration 28/74 of epoch 56 complete. Loss : 0.1549436497901167 \n"
     ]
    },
    {
     "name": "stderr",
     "output_type": "stream",
     "text": [
      "100%|██████████| 74/74 [00:00<00:00, 203.50it/s]\n",
      "  0%|          | 0/19 [00:00<?, ?it/s]"
     ]
    },
    {
     "name": "stdout",
     "output_type": "stream",
     "text": [
      "\n",
      "Iteration 42/74 of epoch 56 complete. Loss : 0.15820216068199702 \n",
      "\n",
      "Iteration 56/74 of epoch 56 complete. Loss : 0.15349664858409337 \n",
      "\n",
      "Iteration 70/74 of epoch 56 complete. Loss : 0.15617045600499427 \n"
     ]
    },
    {
     "name": "stderr",
     "output_type": "stream",
     "text": [
      "100%|██████████| 19/19 [00:00<00:00, 363.21it/s]\n",
      " 30%|██▉       | 22/74 [00:00<00:00, 209.73it/s]"
     ]
    },
    {
     "name": "stdout",
     "output_type": "stream",
     "text": [
      "\n",
      "Epoch 56 complete! Validation Loss : 0.3326141865629899\n",
      "Epoch 56 complete! Validation Accuracy : 0.8460197368421053\n",
      "\n",
      "Iteration 14/74 of epoch 57 complete. Loss : 0.15641681849956512 \n",
      "\n",
      "Iteration 28/74 of epoch 57 complete. Loss : 0.15945092429007804 \n"
     ]
    },
    {
     "name": "stderr",
     "output_type": "stream",
     "text": [
      "100%|██████████| 74/74 [00:00<00:00, 204.54it/s]\n",
      "  0%|          | 0/19 [00:00<?, ?it/s]"
     ]
    },
    {
     "name": "stdout",
     "output_type": "stream",
     "text": [
      "\n",
      "Iteration 42/74 of epoch 57 complete. Loss : 0.16012148559093475 \n",
      "\n",
      "Iteration 56/74 of epoch 57 complete. Loss : 0.1514005001102175 \n",
      "\n",
      "Iteration 70/74 of epoch 57 complete. Loss : 0.1549352439386504 \n"
     ]
    },
    {
     "name": "stderr",
     "output_type": "stream",
     "text": [
      "100%|██████████| 19/19 [00:00<00:00, 361.45it/s]\n",
      " 28%|██▊       | 21/74 [00:00<00:00, 205.97it/s]"
     ]
    },
    {
     "name": "stdout",
     "output_type": "stream",
     "text": [
      "\n",
      "Epoch 57 complete! Validation Loss : 0.33302157411449834\n",
      "Epoch 57 complete! Validation Accuracy : 0.8437828947368421\n",
      "\n",
      "Iteration 14/74 of epoch 58 complete. Loss : 0.1540759652853012 \n",
      "\n",
      "Iteration 28/74 of epoch 58 complete. Loss : 0.16534341339554107 \n"
     ]
    },
    {
     "name": "stderr",
     "output_type": "stream",
     "text": [
      "100%|██████████| 74/74 [00:00<00:00, 202.74it/s]\n",
      "  0%|          | 0/19 [00:00<?, ?it/s]"
     ]
    },
    {
     "name": "stdout",
     "output_type": "stream",
     "text": [
      "\n",
      "Iteration 42/74 of epoch 58 complete. Loss : 0.16039765306881495 \n",
      "\n",
      "Iteration 56/74 of epoch 58 complete. Loss : 0.1541416309773922 \n",
      "\n",
      "Iteration 70/74 of epoch 58 complete. Loss : 0.14978756489498274 \n"
     ]
    },
    {
     "name": "stderr",
     "output_type": "stream",
     "text": [
      "100%|██████████| 19/19 [00:00<00:00, 364.29it/s]\n",
      " 28%|██▊       | 21/74 [00:00<00:00, 204.75it/s]"
     ]
    },
    {
     "name": "stdout",
     "output_type": "stream",
     "text": [
      "\n",
      "Epoch 58 complete! Validation Loss : 0.33347537956739726\n",
      "Epoch 58 complete! Validation Accuracy : 0.8435526315789473\n",
      "\n",
      "Iteration 14/74 of epoch 59 complete. Loss : 0.1548551209270954 \n",
      "\n",
      "Iteration 28/74 of epoch 59 complete. Loss : 0.16727580449410848 \n"
     ]
    },
    {
     "name": "stderr",
     "output_type": "stream",
     "text": [
      "100%|██████████| 74/74 [00:00<00:00, 200.30it/s]\n",
      "  0%|          | 0/19 [00:00<?, ?it/s]"
     ]
    },
    {
     "name": "stdout",
     "output_type": "stream",
     "text": [
      "\n",
      "Iteration 42/74 of epoch 59 complete. Loss : 0.15847083181142807 \n",
      "\n",
      "Iteration 56/74 of epoch 59 complete. Loss : 0.15222200165901864 \n",
      "\n",
      "Iteration 70/74 of epoch 59 complete. Loss : 0.147293571382761 \n"
     ]
    },
    {
     "name": "stderr",
     "output_type": "stream",
     "text": [
      "100%|██████████| 19/19 [00:00<00:00, 357.22it/s]\n",
      " 28%|██▊       | 21/74 [00:00<00:00, 206.85it/s]"
     ]
    },
    {
     "name": "stdout",
     "output_type": "stream",
     "text": [
      "\n",
      "Epoch 59 complete! Validation Loss : 0.3352004524908568\n",
      "Epoch 59 complete! Validation Accuracy : 0.8447861842105263\n",
      "\n",
      "Iteration 14/74 of epoch 60 complete. Loss : 0.15796019296560967 \n",
      "\n",
      "Iteration 28/74 of epoch 60 complete. Loss : 0.16722865349480084 \n"
     ]
    },
    {
     "name": "stderr",
     "output_type": "stream",
     "text": [
      "100%|██████████| 74/74 [00:00<00:00, 202.14it/s]\n",
      "  0%|          | 0/19 [00:00<?, ?it/s]"
     ]
    },
    {
     "name": "stdout",
     "output_type": "stream",
     "text": [
      "\n",
      "Iteration 42/74 of epoch 60 complete. Loss : 0.14790270424314908 \n",
      "\n",
      "Iteration 56/74 of epoch 60 complete. Loss : 0.15076349994965962 \n",
      "\n",
      "Iteration 70/74 of epoch 60 complete. Loss : 0.15584522166422435 \n"
     ]
    },
    {
     "name": "stderr",
     "output_type": "stream",
     "text": [
      "100%|██████████| 19/19 [00:00<00:00, 360.88it/s]\n",
      " 28%|██▊       | 21/74 [00:00<00:00, 207.32it/s]"
     ]
    },
    {
     "name": "stdout",
     "output_type": "stream",
     "text": [
      "\n",
      "Epoch 60 complete! Validation Loss : 0.3343747611108579\n",
      "Epoch 60 complete! Validation Accuracy : 0.8439638157894737\n",
      "\n",
      "Iteration 14/74 of epoch 61 complete. Loss : 0.15400293416210584 \n",
      "\n",
      "Iteration 28/74 of epoch 61 complete. Loss : 0.1596669778227806 \n"
     ]
    },
    {
     "name": "stderr",
     "output_type": "stream",
     "text": [
      "100%|██████████| 74/74 [00:00<00:00, 202.46it/s]\n",
      "  0%|          | 0/19 [00:00<?, ?it/s]"
     ]
    },
    {
     "name": "stdout",
     "output_type": "stream",
     "text": [
      "\n",
      "Iteration 42/74 of epoch 61 complete. Loss : 0.14635545441082545 \n",
      "\n",
      "Iteration 56/74 of epoch 61 complete. Loss : 0.16309774560587748 \n",
      "\n",
      "Iteration 70/74 of epoch 61 complete. Loss : 0.15591035251106536 \n"
     ]
    },
    {
     "name": "stderr",
     "output_type": "stream",
     "text": [
      "100%|██████████| 19/19 [00:00<00:00, 360.15it/s]\n",
      " 30%|██▉       | 22/74 [00:00<00:00, 211.59it/s]"
     ]
    },
    {
     "name": "stdout",
     "output_type": "stream",
     "text": [
      "\n",
      "Epoch 61 complete! Validation Loss : 0.33325700383437307\n",
      "Epoch 61 complete! Validation Accuracy : 0.845608552631579\n",
      "\n",
      "Iteration 14/74 of epoch 62 complete. Loss : 0.14522661694458552 \n",
      "\n",
      "Iteration 28/74 of epoch 62 complete. Loss : 0.15832477062940598 \n"
     ]
    },
    {
     "name": "stderr",
     "output_type": "stream",
     "text": [
      "100%|██████████| 74/74 [00:00<00:00, 204.47it/s]\n",
      "  0%|          | 0/19 [00:00<?, ?it/s]"
     ]
    },
    {
     "name": "stdout",
     "output_type": "stream",
     "text": [
      "\n",
      "Iteration 42/74 of epoch 62 complete. Loss : 0.1553133385522025 \n",
      "\n",
      "Iteration 56/74 of epoch 62 complete. Loss : 0.16142872720956802 \n",
      "\n",
      "Iteration 70/74 of epoch 62 complete. Loss : 0.1519302763044834 \n"
     ]
    },
    {
     "name": "stderr",
     "output_type": "stream",
     "text": [
      "100%|██████████| 19/19 [00:00<00:00, 369.39it/s]\n",
      " 28%|██▊       | 21/74 [00:00<00:00, 203.34it/s]"
     ]
    },
    {
     "name": "stdout",
     "output_type": "stream",
     "text": [
      "\n",
      "Epoch 62 complete! Validation Loss : 0.33081047864336716\n",
      "Epoch 62 complete! Validation Accuracy : 0.8458388157894736\n",
      "Best validation loss improved from 0.3322811150237134 to 0.33081047864336716\n",
      "\n",
      "\n",
      "Iteration 14/74 of epoch 63 complete. Loss : 0.15689532033034734 \n",
      "\n",
      "Iteration 28/74 of epoch 63 complete. Loss : 0.16077943465539388 \n"
     ]
    },
    {
     "name": "stderr",
     "output_type": "stream",
     "text": [
      "100%|██████████| 74/74 [00:00<00:00, 201.65it/s]\n",
      "  0%|          | 0/19 [00:00<?, ?it/s]"
     ]
    },
    {
     "name": "stdout",
     "output_type": "stream",
     "text": [
      "\n",
      "Iteration 42/74 of epoch 63 complete. Loss : 0.1579814755490848 \n",
      "\n",
      "Iteration 56/74 of epoch 63 complete. Loss : 0.14703045040369034 \n",
      "\n",
      "Iteration 70/74 of epoch 63 complete. Loss : 0.15097549557685852 \n"
     ]
    },
    {
     "name": "stderr",
     "output_type": "stream",
     "text": [
      "100%|██████████| 19/19 [00:00<00:00, 364.12it/s]\n",
      " 27%|██▋       | 20/74 [00:00<00:00, 193.53it/s]"
     ]
    },
    {
     "name": "stdout",
     "output_type": "stream",
     "text": [
      "\n",
      "Epoch 63 complete! Validation Loss : 0.33553337737133626\n",
      "Epoch 63 complete! Validation Accuracy : 0.845608552631579\n",
      "\n",
      "Iteration 14/74 of epoch 64 complete. Loss : 0.14707846407379424 \n",
      "\n",
      "Iteration 28/74 of epoch 64 complete. Loss : 0.16001688369682857 \n"
     ]
    },
    {
     "name": "stderr",
     "output_type": "stream",
     "text": [
      "100%|██████████| 74/74 [00:00<00:00, 198.17it/s]\n",
      "  0%|          | 0/19 [00:00<?, ?it/s]"
     ]
    },
    {
     "name": "stdout",
     "output_type": "stream",
     "text": [
      "\n",
      "Iteration 42/74 of epoch 64 complete. Loss : 0.15370694068925722 \n",
      "\n",
      "Iteration 56/74 of epoch 64 complete. Loss : 0.15843681671789714 \n",
      "\n",
      "Iteration 70/74 of epoch 64 complete. Loss : 0.14986061730555125 \n"
     ]
    },
    {
     "name": "stderr",
     "output_type": "stream",
     "text": [
      "100%|██████████| 19/19 [00:00<00:00, 364.34it/s]\n",
      " 28%|██▊       | 21/74 [00:00<00:00, 203.32it/s]"
     ]
    },
    {
     "name": "stdout",
     "output_type": "stream",
     "text": [
      "\n",
      "Epoch 64 complete! Validation Loss : 0.3327613221971612\n",
      "Epoch 64 complete! Validation Accuracy : 0.845608552631579\n",
      "\n",
      "Iteration 14/74 of epoch 65 complete. Loss : 0.14961940901620047 \n",
      "\n",
      "Iteration 28/74 of epoch 65 complete. Loss : 0.15340017154812813 \n"
     ]
    },
    {
     "name": "stderr",
     "output_type": "stream",
     "text": [
      "100%|██████████| 74/74 [00:00<00:00, 201.65it/s]\n",
      "  0%|          | 0/19 [00:00<?, ?it/s]"
     ]
    },
    {
     "name": "stdout",
     "output_type": "stream",
     "text": [
      "\n",
      "Iteration 42/74 of epoch 65 complete. Loss : 0.15839534997940063 \n",
      "\n",
      "Iteration 56/74 of epoch 65 complete. Loss : 0.15226786264351436 \n",
      "\n",
      "Iteration 70/74 of epoch 65 complete. Loss : 0.16190346756151744 \n"
     ]
    },
    {
     "name": "stderr",
     "output_type": "stream",
     "text": [
      "100%|██████████| 19/19 [00:00<00:00, 370.16it/s]\n",
      " 28%|██▊       | 21/74 [00:00<00:00, 209.71it/s]"
     ]
    },
    {
     "name": "stdout",
     "output_type": "stream",
     "text": [
      "\n",
      "Epoch 65 complete! Validation Loss : 0.3309749921685771\n",
      "Epoch 65 complete! Validation Accuracy : 0.8474835526315789\n",
      "\n",
      "Iteration 14/74 of epoch 66 complete. Loss : 0.146334992987769 \n",
      "\n",
      "Iteration 28/74 of epoch 66 complete. Loss : 0.15178669510143145 \n"
     ]
    },
    {
     "name": "stderr",
     "output_type": "stream",
     "text": [
      " 55%|█████▌    | 41/74 [00:00<00:00, 205.64it/s]"
     ]
    },
    {
     "name": "stdout",
     "output_type": "stream",
     "text": [
      "\n",
      "Iteration 42/74 of epoch 66 complete. Loss : 0.16314822169286863 \n",
      "\n",
      "Iteration 56/74 of epoch 66 complete. Loss : 0.1645446334566389 \n"
     ]
    },
    {
     "name": "stderr",
     "output_type": "stream",
     "text": [
      "100%|██████████| 74/74 [00:00<00:00, 136.62it/s]\n",
      "100%|██████████| 19/19 [00:00<00:00, 363.94it/s]\n",
      "  0%|          | 0/74 [00:00<?, ?it/s]"
     ]
    },
    {
     "name": "stdout",
     "output_type": "stream",
     "text": [
      "\n",
      "Iteration 70/74 of epoch 66 complete. Loss : 0.15056568064859935 \n",
      "\n",
      "Epoch 66 complete! Validation Loss : 0.3306096800063786\n",
      "Epoch 66 complete! Validation Accuracy : 0.8466611842105263\n",
      "Best validation loss improved from 0.33081047864336716 to 0.3306096800063786\n",
      "\n",
      "\n",
      "Iteration 14/74 of epoch 67 complete. Loss : 0.14624147223574774 \n"
     ]
    },
    {
     "name": "stderr",
     "output_type": "stream",
     "text": [
      " 85%|████████▌ | 63/74 [00:00<00:00, 206.76it/s]"
     ]
    },
    {
     "name": "stdout",
     "output_type": "stream",
     "text": [
      "\n",
      "Iteration 28/74 of epoch 67 complete. Loss : 0.15051902777382306 \n",
      "\n",
      "Iteration 42/74 of epoch 67 complete. Loss : 0.15167948284319469 \n",
      "\n",
      "Iteration 56/74 of epoch 67 complete. Loss : 0.16486557998827525 \n"
     ]
    },
    {
     "name": "stderr",
     "output_type": "stream",
     "text": [
      "100%|██████████| 74/74 [00:00<00:00, 204.35it/s]\n",
      "100%|██████████| 19/19 [00:00<00:00, 361.81it/s]\n",
      "  0%|          | 0/74 [00:00<?, ?it/s]"
     ]
    },
    {
     "name": "stdout",
     "output_type": "stream",
     "text": [
      "\n",
      "Iteration 70/74 of epoch 67 complete. Loss : 0.1580577620438167 \n",
      "\n",
      "Epoch 67 complete! Validation Loss : 0.3388438946322391\n",
      "Epoch 67 complete! Validation Accuracy : 0.8410855263157895\n",
      "\n",
      "Iteration 14/74 of epoch 68 complete. Loss : 0.15929698944091797 \n"
     ]
    },
    {
     "name": "stderr",
     "output_type": "stream",
     "text": [
      " 85%|████████▌ | 63/74 [00:00<00:00, 206.33it/s]"
     ]
    },
    {
     "name": "stdout",
     "output_type": "stream",
     "text": [
      "\n",
      "Iteration 28/74 of epoch 68 complete. Loss : 0.15272230016333715 \n",
      "\n",
      "Iteration 42/74 of epoch 68 complete. Loss : 0.1589058760021414 \n",
      "\n",
      "Iteration 56/74 of epoch 68 complete. Loss : 0.15786735713481903 \n"
     ]
    },
    {
     "name": "stderr",
     "output_type": "stream",
     "text": [
      "100%|██████████| 74/74 [00:00<00:00, 204.86it/s]\n",
      "100%|██████████| 19/19 [00:00<00:00, 368.72it/s]\n",
      "  0%|          | 0/74 [00:00<?, ?it/s]"
     ]
    },
    {
     "name": "stdout",
     "output_type": "stream",
     "text": [
      "\n",
      "Iteration 70/74 of epoch 68 complete. Loss : 0.14606014053736413 \n",
      "\n",
      "Epoch 68 complete! Validation Loss : 0.3308470672682712\n",
      "Epoch 68 complete! Validation Accuracy : 0.84625\n",
      "\n",
      "Iteration 14/74 of epoch 69 complete. Loss : 0.14830988113369262 \n"
     ]
    },
    {
     "name": "stderr",
     "output_type": "stream",
     "text": [
      " 85%|████████▌ | 63/74 [00:00<00:00, 202.63it/s]"
     ]
    },
    {
     "name": "stdout",
     "output_type": "stream",
     "text": [
      "\n",
      "Iteration 28/74 of epoch 69 complete. Loss : 0.15882003147687232 \n",
      "\n",
      "Iteration 42/74 of epoch 69 complete. Loss : 0.15542021979178702 \n",
      "\n",
      "Iteration 56/74 of epoch 69 complete. Loss : 0.1512266243142741 \n"
     ]
    },
    {
     "name": "stderr",
     "output_type": "stream",
     "text": [
      "100%|██████████| 74/74 [00:00<00:00, 201.70it/s]\n",
      "100%|██████████| 19/19 [00:00<00:00, 363.35it/s]\n",
      "  0%|          | 0/74 [00:00<?, ?it/s]"
     ]
    },
    {
     "name": "stdout",
     "output_type": "stream",
     "text": [
      "\n",
      "Iteration 70/74 of epoch 69 complete. Loss : 0.15560510009527206 \n",
      "\n",
      "Epoch 69 complete! Validation Loss : 0.33413045029891164\n",
      "Epoch 69 complete! Validation Accuracy : 0.8451973684210526\n",
      "\n",
      "Iteration 14/74 of epoch 70 complete. Loss : 0.1536522183035101 \n"
     ]
    },
    {
     "name": "stderr",
     "output_type": "stream",
     "text": [
      " 84%|████████▍ | 62/74 [00:00<00:00, 201.51it/s]"
     ]
    },
    {
     "name": "stdout",
     "output_type": "stream",
     "text": [
      "\n",
      "Iteration 28/74 of epoch 70 complete. Loss : 0.1532963759132794 \n",
      "\n",
      "Iteration 42/74 of epoch 70 complete. Loss : 0.14902094432285853 \n",
      "\n",
      "Iteration 56/74 of epoch 70 complete. Loss : 0.16565584763884544 \n"
     ]
    },
    {
     "name": "stderr",
     "output_type": "stream",
     "text": [
      "100%|██████████| 74/74 [00:00<00:00, 201.19it/s]\n",
      "100%|██████████| 19/19 [00:00<00:00, 363.78it/s]\n",
      "  0%|          | 0/74 [00:00<?, ?it/s]"
     ]
    },
    {
     "name": "stdout",
     "output_type": "stream",
     "text": [
      "\n",
      "Iteration 70/74 of epoch 70 complete. Loss : 0.14787956327199936 \n",
      "\n",
      "Epoch 70 complete! Validation Loss : 0.33112100237294245\n",
      "Epoch 70 complete! Validation Accuracy : 0.8458388157894736\n",
      "\n",
      "Iteration 14/74 of epoch 71 complete. Loss : 0.15739566619907105 \n"
     ]
    },
    {
     "name": "stderr",
     "output_type": "stream",
     "text": [
      " 84%|████████▍ | 62/74 [00:00<00:00, 201.03it/s]"
     ]
    },
    {
     "name": "stdout",
     "output_type": "stream",
     "text": [
      "\n",
      "Iteration 28/74 of epoch 71 complete. Loss : 0.15304011053272656 \n",
      "\n",
      "Iteration 42/74 of epoch 71 complete. Loss : 0.14991067137037004 \n",
      "\n",
      "Iteration 56/74 of epoch 71 complete. Loss : 0.15288916922041348 \n"
     ]
    },
    {
     "name": "stderr",
     "output_type": "stream",
     "text": [
      "100%|██████████| 74/74 [00:00<00:00, 199.83it/s]\n",
      "100%|██████████| 19/19 [00:00<00:00, 365.00it/s]\n",
      "  0%|          | 0/74 [00:00<?, ?it/s]"
     ]
    },
    {
     "name": "stdout",
     "output_type": "stream",
     "text": [
      "\n",
      "Iteration 70/74 of epoch 71 complete. Loss : 0.15731418398874147 \n",
      "\n",
      "Epoch 71 complete! Validation Loss : 0.3335443139076233\n",
      "Epoch 71 complete! Validation Accuracy : 0.843141447368421\n",
      "\n",
      "Iteration 14/74 of epoch 72 complete. Loss : 0.15874453421149934 \n"
     ]
    },
    {
     "name": "stderr",
     "output_type": "stream",
     "text": [
      " 85%|████████▌ | 63/74 [00:00<00:00, 203.83it/s]"
     ]
    },
    {
     "name": "stdout",
     "output_type": "stream",
     "text": [
      "\n",
      "Iteration 28/74 of epoch 72 complete. Loss : 0.14901013778788702 \n",
      "\n",
      "Iteration 42/74 of epoch 72 complete. Loss : 0.15377500174301012 \n",
      "\n",
      "Iteration 56/74 of epoch 72 complete. Loss : 0.15389543718525342 \n"
     ]
    },
    {
     "name": "stderr",
     "output_type": "stream",
     "text": [
      "100%|██████████| 74/74 [00:00<00:00, 204.13it/s]\n",
      "100%|██████████| 19/19 [00:00<00:00, 364.75it/s]\n",
      "  0%|          | 0/74 [00:00<?, ?it/s]"
     ]
    },
    {
     "name": "stdout",
     "output_type": "stream",
     "text": [
      "\n",
      "Iteration 70/74 of epoch 72 complete. Loss : 0.15342790952750615 \n",
      "\n",
      "Epoch 72 complete! Validation Loss : 0.3347649589965218\n",
      "Epoch 72 complete! Validation Accuracy : 0.8439638157894737\n",
      "\n",
      "Iteration 14/74 of epoch 73 complete. Loss : 0.15654331232820237 \n"
     ]
    },
    {
     "name": "stderr",
     "output_type": "stream",
     "text": [
      " 85%|████████▌ | 63/74 [00:00<00:00, 205.01it/s]"
     ]
    },
    {
     "name": "stdout",
     "output_type": "stream",
     "text": [
      "\n",
      "Iteration 28/74 of epoch 73 complete. Loss : 0.14776881145579474 \n",
      "\n",
      "Iteration 42/74 of epoch 73 complete. Loss : 0.15465243852564267 \n",
      "\n",
      "Iteration 56/74 of epoch 73 complete. Loss : 0.15072066177214896 \n"
     ]
    },
    {
     "name": "stderr",
     "output_type": "stream",
     "text": [
      "100%|██████████| 74/74 [00:00<00:00, 200.89it/s]\n",
      "100%|██████████| 19/19 [00:00<00:00, 361.17it/s]\n",
      "  0%|          | 0/74 [00:00<?, ?it/s]"
     ]
    },
    {
     "name": "stdout",
     "output_type": "stream",
     "text": [
      "\n",
      "Iteration 70/74 of epoch 73 complete. Loss : 0.15485785475799016 \n",
      "\n",
      "Epoch 73 complete! Validation Loss : 0.330416697420572\n",
      "Epoch 73 complete! Validation Accuracy : 0.8474835526315789\n",
      "Best validation loss improved from 0.3306096800063786 to 0.330416697420572\n",
      "\n",
      "\n",
      "Iteration 14/74 of epoch 74 complete. Loss : 0.1453741155564785 \n"
     ]
    },
    {
     "name": "stderr",
     "output_type": "stream",
     "text": [
      " 76%|███████▌  | 56/74 [00:00<00:00, 182.80it/s]"
     ]
    },
    {
     "name": "stdout",
     "output_type": "stream",
     "text": [
      "\n",
      "Iteration 28/74 of epoch 74 complete. Loss : 0.14951268104570253 \n",
      "\n",
      "Iteration 42/74 of epoch 74 complete. Loss : 0.1618411679353033 \n",
      "\n",
      "Iteration 56/74 of epoch 74 complete. Loss : 0.15364720299839973 \n"
     ]
    },
    {
     "name": "stderr",
     "output_type": "stream",
     "text": [
      "100%|██████████| 74/74 [00:00<00:00, 177.06it/s]\n",
      "100%|██████████| 19/19 [00:00<00:00, 265.61it/s]\n",
      "  0%|          | 0/74 [00:00<?, ?it/s]"
     ]
    },
    {
     "name": "stdout",
     "output_type": "stream",
     "text": [
      "\n",
      "Iteration 70/74 of epoch 74 complete. Loss : 0.15702100204569952 \n",
      "\n",
      "Epoch 74 complete! Validation Loss : 0.3304913491010666\n",
      "Epoch 74 complete! Validation Accuracy : 0.8487171052631579\n"
     ]
    },
    {
     "name": "stderr",
     "output_type": "stream",
     "text": [
      " 45%|████▍     | 33/74 [00:00<00:00, 160.45it/s]"
     ]
    },
    {
     "name": "stdout",
     "output_type": "stream",
     "text": [
      "\n",
      "Iteration 14/74 of epoch 75 complete. Loss : 0.14892873114773206 \n",
      "\n",
      "Iteration 28/74 of epoch 75 complete. Loss : 0.1507910532610757 \n",
      "\n",
      "Iteration 42/74 of epoch 75 complete. Loss : 0.15031762793660164 \n"
     ]
    },
    {
     "name": "stderr",
     "output_type": "stream",
     "text": [
      "100%|██████████| 74/74 [00:00<00:00, 158.81it/s]\n",
      "100%|██████████| 19/19 [00:00<00:00, 262.08it/s]"
     ]
    },
    {
     "name": "stdout",
     "output_type": "stream",
     "text": [
      "\n",
      "Iteration 56/74 of epoch 75 complete. Loss : 0.16008991854531424 \n",
      "\n",
      "Iteration 70/74 of epoch 75 complete. Loss : 0.152154697903565 \n"
     ]
    },
    {
     "name": "stderr",
     "output_type": "stream",
     "text": [
      "\n",
      " 22%|██▏       | 16/74 [00:00<00:00, 159.25it/s]"
     ]
    },
    {
     "name": "stdout",
     "output_type": "stream",
     "text": [
      "\n",
      "Epoch 75 complete! Validation Loss : 0.33102652901097346\n",
      "Epoch 75 complete! Validation Accuracy : 0.8483059210526316\n",
      "\n",
      "Iteration 14/74 of epoch 76 complete. Loss : 0.15292581543326378 \n",
      "\n",
      "Iteration 28/74 of epoch 76 complete. Loss : 0.15674558814082826 \n"
     ]
    },
    {
     "name": "stderr",
     "output_type": "stream",
     "text": [
      "100%|██████████| 74/74 [00:00<00:00, 157.92it/s]"
     ]
    },
    {
     "name": "stdout",
     "output_type": "stream",
     "text": [
      "\n",
      "Iteration 42/74 of epoch 76 complete. Loss : 0.13676880353263446 \n",
      "\n",
      "Iteration 56/74 of epoch 76 complete. Loss : 0.15720959327050618 \n",
      "\n",
      "Iteration 70/74 of epoch 76 complete. Loss : 0.15830672798412188 \n"
     ]
    },
    {
     "name": "stderr",
     "output_type": "stream",
     "text": [
      "\n",
      "100%|██████████| 19/19 [00:00<00:00, 265.89it/s]\n",
      " 23%|██▎       | 17/74 [00:00<00:00, 164.49it/s]"
     ]
    },
    {
     "name": "stdout",
     "output_type": "stream",
     "text": [
      "\n",
      "Epoch 76 complete! Validation Loss : 0.33173269739276484\n",
      "Epoch 76 complete! Validation Accuracy : 0.8447861842105263\n",
      "\n",
      "Iteration 14/74 of epoch 77 complete. Loss : 0.14216035072292602 \n",
      "\n",
      "Iteration 28/74 of epoch 77 complete. Loss : 0.1578472304557051 \n"
     ]
    },
    {
     "name": "stderr",
     "output_type": "stream",
     "text": [
      "100%|██████████| 74/74 [00:00<00:00, 159.46it/s]\n",
      "  0%|          | 0/19 [00:00<?, ?it/s]"
     ]
    },
    {
     "name": "stdout",
     "output_type": "stream",
     "text": [
      "\n",
      "Iteration 42/74 of epoch 77 complete. Loss : 0.1574126152055604 \n",
      "\n",
      "Iteration 56/74 of epoch 77 complete. Loss : 0.1534771802169936 \n",
      "\n",
      "Iteration 70/74 of epoch 77 complete. Loss : 0.15300416627100535 \n"
     ]
    },
    {
     "name": "stderr",
     "output_type": "stream",
     "text": [
      "100%|██████████| 19/19 [00:00<00:00, 259.37it/s]\n",
      " 24%|██▍       | 18/74 [00:00<00:00, 169.56it/s]"
     ]
    },
    {
     "name": "stdout",
     "output_type": "stream",
     "text": [
      "\n",
      "Epoch 77 complete! Validation Loss : 0.33162884414196014\n",
      "Epoch 77 complete! Validation Accuracy : 0.8474835526315789\n",
      "\n",
      "Iteration 14/74 of epoch 78 complete. Loss : 0.14186487985508783 \n",
      "\n",
      "Iteration 28/74 of epoch 78 complete. Loss : 0.153387401252985 \n"
     ]
    },
    {
     "name": "stderr",
     "output_type": "stream",
     "text": [
      "100%|██████████| 74/74 [00:00<00:00, 160.51it/s]\n",
      "  0%|          | 0/19 [00:00<?, ?it/s]"
     ]
    },
    {
     "name": "stdout",
     "output_type": "stream",
     "text": [
      "\n",
      "Iteration 42/74 of epoch 78 complete. Loss : 0.1477616232420717 \n",
      "\n",
      "Iteration 56/74 of epoch 78 complete. Loss : 0.16262149278606688 \n",
      "\n",
      "Iteration 70/74 of epoch 78 complete. Loss : 0.15154746281249182 \n"
     ]
    },
    {
     "name": "stderr",
     "output_type": "stream",
     "text": [
      "100%|██████████| 19/19 [00:00<00:00, 263.14it/s]\n",
      " 22%|██▏       | 16/74 [00:00<00:00, 159.55it/s]"
     ]
    },
    {
     "name": "stdout",
     "output_type": "stream",
     "text": [
      "\n",
      "Epoch 78 complete! Validation Loss : 0.32985407584591914\n",
      "Epoch 78 complete! Validation Accuracy : 0.846891447368421\n",
      "Best validation loss improved from 0.330416697420572 to 0.32985407584591914\n",
      "\n",
      "\n",
      "Iteration 14/74 of epoch 79 complete. Loss : 0.14853703443493163 \n",
      "\n",
      "Iteration 28/74 of epoch 79 complete. Loss : 0.16166890412569046 \n"
     ]
    },
    {
     "name": "stderr",
     "output_type": "stream",
     "text": [
      "100%|██████████| 74/74 [00:00<00:00, 158.57it/s]"
     ]
    },
    {
     "name": "stdout",
     "output_type": "stream",
     "text": [
      "\n",
      "Iteration 42/74 of epoch 79 complete. Loss : 0.13983481058052608 \n",
      "\n",
      "Iteration 56/74 of epoch 79 complete. Loss : 0.15953763734017098 \n",
      "\n",
      "Iteration 70/74 of epoch 79 complete. Loss : 0.15195118635892868 \n"
     ]
    },
    {
     "name": "stderr",
     "output_type": "stream",
     "text": [
      "\n",
      "100%|██████████| 19/19 [00:00<00:00, 335.42it/s]\n",
      " 27%|██▋       | 20/74 [00:00<00:00, 199.92it/s]"
     ]
    },
    {
     "name": "stdout",
     "output_type": "stream",
     "text": [
      "\n",
      "Epoch 79 complete! Validation Loss : 0.33111948559158727\n",
      "Epoch 79 complete! Validation Accuracy : 0.8483059210526316\n",
      "\n",
      "Iteration 14/74 of epoch 80 complete. Loss : 0.1493477656372956 \n",
      "\n",
      "Iteration 28/74 of epoch 80 complete. Loss : 0.15191444435289927 \n"
     ]
    },
    {
     "name": "stderr",
     "output_type": "stream",
     "text": [
      "100%|██████████| 74/74 [00:00<00:00, 199.23it/s]\n",
      "  0%|          | 0/19 [00:00<?, ?it/s]"
     ]
    },
    {
     "name": "stdout",
     "output_type": "stream",
     "text": [
      "\n",
      "Iteration 42/74 of epoch 80 complete. Loss : 0.15097210556268692 \n",
      "\n",
      "Iteration 56/74 of epoch 80 complete. Loss : 0.15824490945254052 \n",
      "\n",
      "Iteration 70/74 of epoch 80 complete. Loss : 0.14193477854132652 \n"
     ]
    },
    {
     "name": "stderr",
     "output_type": "stream",
     "text": [
      "100%|██████████| 19/19 [00:00<00:00, 355.40it/s]\n",
      " 27%|██▋       | 20/74 [00:00<00:00, 193.56it/s]"
     ]
    },
    {
     "name": "stdout",
     "output_type": "stream",
     "text": [
      "\n",
      "Epoch 80 complete! Validation Loss : 0.33146795944163676\n",
      "Epoch 80 complete! Validation Accuracy : 0.8488980263157895\n",
      "\n",
      "Iteration 14/74 of epoch 81 complete. Loss : 0.1554775291255542 \n",
      "\n",
      "Iteration 28/74 of epoch 81 complete. Loss : 0.14679868040340288 \n"
     ]
    },
    {
     "name": "stderr",
     "output_type": "stream",
     "text": [
      "100%|██████████| 74/74 [00:00<00:00, 199.22it/s]\n",
      "  0%|          | 0/19 [00:00<?, ?it/s]"
     ]
    },
    {
     "name": "stdout",
     "output_type": "stream",
     "text": [
      "\n",
      "Iteration 42/74 of epoch 81 complete. Loss : 0.1503623543041093 \n",
      "\n",
      "Iteration 56/74 of epoch 81 complete. Loss : 0.151164496583598 \n",
      "\n",
      "Iteration 70/74 of epoch 81 complete. Loss : 0.15958386553185328 \n"
     ]
    },
    {
     "name": "stderr",
     "output_type": "stream",
     "text": [
      "100%|██████████| 19/19 [00:00<00:00, 362.32it/s]\n",
      " 30%|██▉       | 22/74 [00:00<00:00, 210.41it/s]"
     ]
    },
    {
     "name": "stdout",
     "output_type": "stream",
     "text": [
      "\n",
      "Epoch 81 complete! Validation Loss : 0.3307445010072307\n",
      "Epoch 81 complete! Validation Accuracy : 0.84625\n",
      "\n",
      "Iteration 14/74 of epoch 82 complete. Loss : 0.1473803578742913 \n",
      "\n",
      "Iteration 28/74 of epoch 82 complete. Loss : 0.15911890406693732 \n"
     ]
    },
    {
     "name": "stderr",
     "output_type": "stream",
     "text": [
      "100%|██████████| 74/74 [00:00<00:00, 205.94it/s]\n",
      "  0%|          | 0/19 [00:00<?, ?it/s]"
     ]
    },
    {
     "name": "stdout",
     "output_type": "stream",
     "text": [
      "\n",
      "Iteration 42/74 of epoch 82 complete. Loss : 0.1523406846182687 \n",
      "\n",
      "Iteration 56/74 of epoch 82 complete. Loss : 0.143687727195876 \n",
      "\n",
      "Iteration 70/74 of epoch 82 complete. Loss : 0.1543861244406019 \n"
     ]
    },
    {
     "name": "stderr",
     "output_type": "stream",
     "text": [
      "100%|██████████| 19/19 [00:00<00:00, 361.75it/s]\n",
      " 28%|██▊       | 21/74 [00:00<00:00, 207.57it/s]"
     ]
    },
    {
     "name": "stdout",
     "output_type": "stream",
     "text": [
      "\n",
      "Epoch 82 complete! Validation Loss : 0.33474264489976985\n",
      "Epoch 82 complete! Validation Accuracy : 0.8472532894736842\n",
      "\n",
      "Iteration 14/74 of epoch 83 complete. Loss : 0.14847241874252046 \n",
      "\n",
      "Iteration 28/74 of epoch 83 complete. Loss : 0.15347774433238165 \n"
     ]
    },
    {
     "name": "stderr",
     "output_type": "stream",
     "text": [
      "100%|██████████| 74/74 [00:00<00:00, 202.65it/s]\n",
      "  0%|          | 0/19 [00:00<?, ?it/s]"
     ]
    },
    {
     "name": "stdout",
     "output_type": "stream",
     "text": [
      "\n",
      "Iteration 42/74 of epoch 83 complete. Loss : 0.155697691653456 \n",
      "\n",
      "Iteration 56/74 of epoch 83 complete. Loss : 0.14876845904758998 \n",
      "\n",
      "Iteration 70/74 of epoch 83 complete. Loss : 0.14464962535670825 \n"
     ]
    },
    {
     "name": "stderr",
     "output_type": "stream",
     "text": [
      "100%|██████████| 19/19 [00:00<00:00, 359.29it/s]\n",
      " 28%|██▊       | 21/74 [00:00<00:00, 204.13it/s]"
     ]
    },
    {
     "name": "stdout",
     "output_type": "stream",
     "text": [
      "\n",
      "Epoch 83 complete! Validation Loss : 0.33085641421769796\n",
      "Epoch 83 complete! Validation Accuracy : 0.8491282894736841\n",
      "\n",
      "Iteration 14/74 of epoch 84 complete. Loss : 0.14206224999257497 \n",
      "\n",
      "Iteration 28/74 of epoch 84 complete. Loss : 0.15884642090116227 \n"
     ]
    },
    {
     "name": "stderr",
     "output_type": "stream",
     "text": [
      "100%|██████████| 74/74 [00:00<00:00, 200.33it/s]\n",
      "  0%|          | 0/19 [00:00<?, ?it/s]"
     ]
    },
    {
     "name": "stdout",
     "output_type": "stream",
     "text": [
      "\n",
      "Iteration 42/74 of epoch 84 complete. Loss : 0.1478618479200772 \n",
      "\n",
      "Iteration 56/74 of epoch 84 complete. Loss : 0.15627058276108333 \n",
      "\n",
      "Iteration 70/74 of epoch 84 complete. Loss : 0.1494612129671233 \n"
     ]
    },
    {
     "name": "stderr",
     "output_type": "stream",
     "text": [
      "100%|██████████| 19/19 [00:00<00:00, 347.03it/s]\n",
      " 28%|██▊       | 21/74 [00:00<00:00, 205.78it/s]"
     ]
    },
    {
     "name": "stdout",
     "output_type": "stream",
     "text": [
      "\n",
      "Epoch 84 complete! Validation Loss : 0.3317106899462248\n",
      "Epoch 84 complete! Validation Accuracy : 0.8493092105263158\n",
      "\n",
      "Iteration 14/74 of epoch 85 complete. Loss : 0.15280338270323618 \n",
      "\n",
      "Iteration 28/74 of epoch 85 complete. Loss : 0.1442046059029443 \n"
     ]
    },
    {
     "name": "stderr",
     "output_type": "stream",
     "text": [
      "100%|██████████| 74/74 [00:00<00:00, 201.65it/s]\n",
      "  0%|          | 0/19 [00:00<?, ?it/s]"
     ]
    },
    {
     "name": "stdout",
     "output_type": "stream",
     "text": [
      "\n",
      "Iteration 42/74 of epoch 85 complete. Loss : 0.1498406087713582 \n",
      "\n",
      "Iteration 56/74 of epoch 85 complete. Loss : 0.1564717303429331 \n",
      "\n",
      "Iteration 70/74 of epoch 85 complete. Loss : 0.14830964590821946 \n"
     ]
    },
    {
     "name": "stderr",
     "output_type": "stream",
     "text": [
      "100%|██████████| 19/19 [00:00<00:00, 358.64it/s]\n",
      " 28%|██▊       | 21/74 [00:00<00:00, 206.45it/s]"
     ]
    },
    {
     "name": "stdout",
     "output_type": "stream",
     "text": [
      "\n",
      "Epoch 85 complete! Validation Loss : 0.3318213381265339\n",
      "Epoch 85 complete! Validation Accuracy : 0.8472532894736842\n",
      "\n",
      "Iteration 14/74 of epoch 86 complete. Loss : 0.1536919932280268 \n",
      "\n",
      "Iteration 28/74 of epoch 86 complete. Loss : 0.15599227377346583 \n"
     ]
    },
    {
     "name": "stderr",
     "output_type": "stream",
     "text": [
      "100%|██████████| 74/74 [00:00<00:00, 202.99it/s]\n",
      "  0%|          | 0/19 [00:00<?, ?it/s]"
     ]
    },
    {
     "name": "stdout",
     "output_type": "stream",
     "text": [
      "\n",
      "Iteration 42/74 of epoch 86 complete. Loss : 0.15147321139063155 \n",
      "\n",
      "Iteration 56/74 of epoch 86 complete. Loss : 0.15254089076604163 \n",
      "\n",
      "Iteration 70/74 of epoch 86 complete. Loss : 0.13786999295864785 \n"
     ]
    },
    {
     "name": "stderr",
     "output_type": "stream",
     "text": [
      "100%|██████████| 19/19 [00:00<00:00, 363.36it/s]\n",
      " 28%|██▊       | 21/74 [00:00<00:00, 209.36it/s]"
     ]
    },
    {
     "name": "stdout",
     "output_type": "stream",
     "text": [
      "\n",
      "Epoch 86 complete! Validation Loss : 0.3356029548143086\n",
      "Epoch 86 complete! Validation Accuracy : 0.8483059210526316\n",
      "\n",
      "Iteration 14/74 of epoch 87 complete. Loss : 0.15281901082822255 \n",
      "\n",
      "Iteration 28/74 of epoch 87 complete. Loss : 0.15299298561045102 \n"
     ]
    },
    {
     "name": "stderr",
     "output_type": "stream",
     "text": [
      "100%|██████████| 74/74 [00:00<00:00, 197.17it/s]\n",
      "  0%|          | 0/19 [00:00<?, ?it/s]"
     ]
    },
    {
     "name": "stdout",
     "output_type": "stream",
     "text": [
      "\n",
      "Iteration 42/74 of epoch 87 complete. Loss : 0.14913688280752727 \n",
      "\n",
      "Iteration 56/74 of epoch 87 complete. Loss : 0.14679226651787758 \n",
      "\n",
      "Iteration 70/74 of epoch 87 complete. Loss : 0.15041559721742356 \n"
     ]
    },
    {
     "name": "stderr",
     "output_type": "stream",
     "text": [
      "100%|██████████| 19/19 [00:00<00:00, 348.73it/s]\n",
      " 28%|██▊       | 21/74 [00:00<00:00, 204.60it/s]"
     ]
    },
    {
     "name": "stdout",
     "output_type": "stream",
     "text": [
      "\n",
      "Epoch 87 complete! Validation Loss : 0.335601806640625\n",
      "Epoch 87 complete! Validation Accuracy : 0.8447861842105263\n",
      "\n",
      "Iteration 14/74 of epoch 88 complete. Loss : 0.14241263323596545 \n",
      "\n",
      "Iteration 28/74 of epoch 88 complete. Loss : 0.153710593602487 \n"
     ]
    },
    {
     "name": "stderr",
     "output_type": "stream",
     "text": [
      "100%|██████████| 74/74 [00:00<00:00, 200.27it/s]\n",
      "  0%|          | 0/19 [00:00<?, ?it/s]"
     ]
    },
    {
     "name": "stdout",
     "output_type": "stream",
     "text": [
      "\n",
      "Iteration 42/74 of epoch 88 complete. Loss : 0.15760526486805507 \n",
      "\n",
      "Iteration 56/74 of epoch 88 complete. Loss : 0.1561984441110066 \n",
      "\n",
      "Iteration 70/74 of epoch 88 complete. Loss : 0.14104328464184487 \n"
     ]
    },
    {
     "name": "stderr",
     "output_type": "stream",
     "text": [
      "100%|██████████| 19/19 [00:00<00:00, 359.95it/s]\n",
      " 28%|██▊       | 21/74 [00:00<00:00, 208.91it/s]"
     ]
    },
    {
     "name": "stdout",
     "output_type": "stream",
     "text": [
      "\n",
      "Epoch 88 complete! Validation Loss : 0.33034565495817286\n",
      "Epoch 88 complete! Validation Accuracy : 0.8450164473684211\n",
      "\n",
      "Iteration 14/74 of epoch 89 complete. Loss : 0.15625128309641564 \n",
      "\n",
      "Iteration 28/74 of epoch 89 complete. Loss : 0.150521063378879 \n"
     ]
    },
    {
     "name": "stderr",
     "output_type": "stream",
     "text": [
      "100%|██████████| 74/74 [00:00<00:00, 201.84it/s]\n",
      "  0%|          | 0/19 [00:00<?, ?it/s]"
     ]
    },
    {
     "name": "stdout",
     "output_type": "stream",
     "text": [
      "\n",
      "Iteration 42/74 of epoch 89 complete. Loss : 0.1478495927793639 \n",
      "\n",
      "Iteration 56/74 of epoch 89 complete. Loss : 0.14813974712576186 \n",
      "\n",
      "Iteration 70/74 of epoch 89 complete. Loss : 0.14849471194403513 \n"
     ]
    },
    {
     "name": "stderr",
     "output_type": "stream",
     "text": [
      "100%|██████████| 19/19 [00:00<00:00, 358.57it/s]\n",
      " 28%|██▊       | 21/74 [00:00<00:00, 208.75it/s]"
     ]
    },
    {
     "name": "stdout",
     "output_type": "stream",
     "text": [
      "\n",
      "Epoch 89 complete! Validation Loss : 0.33075146141805145\n",
      "Epoch 89 complete! Validation Accuracy : 0.8487171052631579\n",
      "\n",
      "Iteration 14/74 of epoch 90 complete. Loss : 0.15503584114568575 \n",
      "\n",
      "Iteration 28/74 of epoch 90 complete. Loss : 0.13429715537599154 \n"
     ]
    },
    {
     "name": "stderr",
     "output_type": "stream",
     "text": [
      "100%|██████████| 74/74 [00:00<00:00, 201.63it/s]\n",
      "  0%|          | 0/19 [00:00<?, ?it/s]"
     ]
    },
    {
     "name": "stdout",
     "output_type": "stream",
     "text": [
      "\n",
      "Iteration 42/74 of epoch 90 complete. Loss : 0.15123281202145986 \n",
      "\n",
      "Iteration 56/74 of epoch 90 complete. Loss : 0.15472258520977838 \n",
      "\n",
      "Iteration 70/74 of epoch 90 complete. Loss : 0.14466063625046185 \n"
     ]
    },
    {
     "name": "stderr",
     "output_type": "stream",
     "text": [
      "100%|██████████| 19/19 [00:00<00:00, 354.84it/s]\n",
      " 28%|██▊       | 21/74 [00:00<00:00, 203.60it/s]"
     ]
    },
    {
     "name": "stdout",
     "output_type": "stream",
     "text": [
      "\n",
      "Epoch 90 complete! Validation Loss : 0.328728049993515\n",
      "Epoch 90 complete! Validation Accuracy : 0.8524177631578947\n",
      "Best validation loss improved from 0.32985407584591914 to 0.328728049993515\n",
      "\n",
      "\n",
      "Iteration 14/74 of epoch 91 complete. Loss : 0.14279465111238615 \n",
      "\n",
      "Iteration 28/74 of epoch 91 complete. Loss : 0.15583316556044988 \n"
     ]
    },
    {
     "name": "stderr",
     "output_type": "stream",
     "text": [
      "100%|██████████| 74/74 [00:00<00:00, 201.20it/s]\n",
      "  0%|          | 0/19 [00:00<?, ?it/s]"
     ]
    },
    {
     "name": "stdout",
     "output_type": "stream",
     "text": [
      "\n",
      "Iteration 42/74 of epoch 91 complete. Loss : 0.15242328494787216 \n",
      "\n",
      "Iteration 56/74 of epoch 91 complete. Loss : 0.144051798752376 \n",
      "\n",
      "Iteration 70/74 of epoch 91 complete. Loss : 0.14651324599981308 \n"
     ]
    },
    {
     "name": "stderr",
     "output_type": "stream",
     "text": [
      "100%|██████████| 19/19 [00:00<00:00, 364.43it/s]\n",
      " 28%|██▊       | 21/74 [00:00<00:00, 206.18it/s]"
     ]
    },
    {
     "name": "stdout",
     "output_type": "stream",
     "text": [
      "\n",
      "Epoch 91 complete! Validation Loss : 0.3326275811383599\n",
      "Epoch 91 complete! Validation Accuracy : 0.8474835526315789\n",
      "\n",
      "Iteration 14/74 of epoch 92 complete. Loss : 0.1516415136201041 \n",
      "\n",
      "Iteration 28/74 of epoch 92 complete. Loss : 0.15381387088979995 \n"
     ]
    },
    {
     "name": "stderr",
     "output_type": "stream",
     "text": [
      "100%|██████████| 74/74 [00:00<00:00, 200.63it/s]\n",
      "  0%|          | 0/19 [00:00<?, ?it/s]"
     ]
    },
    {
     "name": "stdout",
     "output_type": "stream",
     "text": [
      "\n",
      "Iteration 42/74 of epoch 92 complete. Loss : 0.1456024263586317 \n",
      "\n",
      "Iteration 56/74 of epoch 92 complete. Loss : 0.13896605053118297 \n",
      "\n",
      "Iteration 70/74 of epoch 92 complete. Loss : 0.15061649893011367 \n"
     ]
    },
    {
     "name": "stderr",
     "output_type": "stream",
     "text": [
      "100%|██████████| 19/19 [00:00<00:00, 353.22it/s]\n",
      " 27%|██▋       | 20/74 [00:00<00:00, 198.97it/s]"
     ]
    },
    {
     "name": "stdout",
     "output_type": "stream",
     "text": [
      "\n",
      "Epoch 92 complete! Validation Loss : 0.3345598264744407\n",
      "Epoch 92 complete! Validation Accuracy : 0.8435526315789473\n",
      "\n",
      "Iteration 14/74 of epoch 93 complete. Loss : 0.14500979440552847 \n",
      "\n",
      "Iteration 28/74 of epoch 93 complete. Loss : 0.14469557255506516 \n"
     ]
    },
    {
     "name": "stderr",
     "output_type": "stream",
     "text": [
      "100%|██████████| 74/74 [00:00<00:00, 200.68it/s]\n",
      "  0%|          | 0/19 [00:00<?, ?it/s]"
     ]
    },
    {
     "name": "stdout",
     "output_type": "stream",
     "text": [
      "\n",
      "Iteration 42/74 of epoch 93 complete. Loss : 0.14397392847708293 \n",
      "\n",
      "Iteration 56/74 of epoch 93 complete. Loss : 0.14979753377182142 \n",
      "\n",
      "Iteration 70/74 of epoch 93 complete. Loss : 0.15521318252597535 \n"
     ]
    },
    {
     "name": "stderr",
     "output_type": "stream",
     "text": [
      "100%|██████████| 19/19 [00:00<00:00, 363.30it/s]\n",
      " 28%|██▊       | 21/74 [00:00<00:00, 203.44it/s]"
     ]
    },
    {
     "name": "stdout",
     "output_type": "stream",
     "text": [
      "\n",
      "Epoch 93 complete! Validation Loss : 0.32738473619285385\n",
      "Epoch 93 complete! Validation Accuracy : 0.8548848684210526\n",
      "Best validation loss improved from 0.328728049993515 to 0.32738473619285385\n",
      "\n",
      "\n",
      "Iteration 14/74 of epoch 94 complete. Loss : 0.14603487348982266 \n",
      "\n",
      "Iteration 28/74 of epoch 94 complete. Loss : 0.14887341963393347 \n"
     ]
    },
    {
     "name": "stderr",
     "output_type": "stream",
     "text": [
      "100%|██████████| 74/74 [00:00<00:00, 199.52it/s]\n",
      "  0%|          | 0/19 [00:00<?, ?it/s]"
     ]
    },
    {
     "name": "stdout",
     "output_type": "stream",
     "text": [
      "\n",
      "Iteration 42/74 of epoch 94 complete. Loss : 0.1444617174565792 \n",
      "\n",
      "Iteration 56/74 of epoch 94 complete. Loss : 0.14782240986824036 \n",
      "\n",
      "Iteration 70/74 of epoch 94 complete. Loss : 0.1522098258137703 \n"
     ]
    },
    {
     "name": "stderr",
     "output_type": "stream",
     "text": [
      "100%|██████████| 19/19 [00:00<00:00, 367.59it/s]\n",
      " 28%|██▊       | 21/74 [00:00<00:00, 209.84it/s]"
     ]
    },
    {
     "name": "stdout",
     "output_type": "stream",
     "text": [
      "\n",
      "Epoch 94 complete! Validation Loss : 0.3390460288838336\n",
      "Epoch 94 complete! Validation Accuracy : 0.8442434210526315\n",
      "\n",
      "Iteration 14/74 of epoch 95 complete. Loss : 0.15070215240120888 \n",
      "\n",
      "Iteration 28/74 of epoch 95 complete. Loss : 0.1484239585697651 \n"
     ]
    },
    {
     "name": "stderr",
     "output_type": "stream",
     "text": [
      "100%|██████████| 74/74 [00:00<00:00, 202.70it/s]\n",
      "  0%|          | 0/19 [00:00<?, ?it/s]"
     ]
    },
    {
     "name": "stdout",
     "output_type": "stream",
     "text": [
      "\n",
      "Iteration 42/74 of epoch 95 complete. Loss : 0.15129995399287768 \n",
      "\n",
      "Iteration 56/74 of epoch 95 complete. Loss : 0.14389315034661973 \n",
      "\n",
      "Iteration 70/74 of epoch 95 complete. Loss : 0.15282800793647766 \n"
     ]
    },
    {
     "name": "stderr",
     "output_type": "stream",
     "text": [
      "100%|██████████| 19/19 [00:00<00:00, 363.02it/s]\n",
      " 28%|██▊       | 21/74 [00:00<00:00, 206.01it/s]"
     ]
    },
    {
     "name": "stdout",
     "output_type": "stream",
     "text": [
      "\n",
      "Epoch 95 complete! Validation Loss : 0.3325457518037997\n",
      "Epoch 95 complete! Validation Accuracy : 0.8477138157894736\n",
      "\n",
      "Iteration 14/74 of epoch 96 complete. Loss : 0.14601823527898108 \n",
      "\n",
      "Iteration 28/74 of epoch 96 complete. Loss : 0.1378382971244199 \n"
     ]
    },
    {
     "name": "stderr",
     "output_type": "stream",
     "text": [
      "100%|██████████| 74/74 [00:00<00:00, 201.50it/s]\n",
      "  0%|          | 0/19 [00:00<?, ?it/s]"
     ]
    },
    {
     "name": "stdout",
     "output_type": "stream",
     "text": [
      "\n",
      "Iteration 42/74 of epoch 96 complete. Loss : 0.1523656972817012 \n",
      "\n",
      "Iteration 56/74 of epoch 96 complete. Loss : 0.15174267813563347 \n",
      "\n",
      "Iteration 70/74 of epoch 96 complete. Loss : 0.14650379014866693 \n"
     ]
    },
    {
     "name": "stderr",
     "output_type": "stream",
     "text": [
      "100%|██████████| 19/19 [00:00<00:00, 356.36it/s]\n",
      " 28%|██▊       | 21/74 [00:00<00:00, 204.28it/s]"
     ]
    },
    {
     "name": "stdout",
     "output_type": "stream",
     "text": [
      "\n",
      "Epoch 96 complete! Validation Loss : 0.32856021115654394\n",
      "Epoch 96 complete! Validation Accuracy : 0.8520065789473684\n",
      "\n",
      "Iteration 14/74 of epoch 97 complete. Loss : 0.14371590369514056 \n",
      "\n",
      "Iteration 28/74 of epoch 97 complete. Loss : 0.14442975286926543 \n"
     ]
    },
    {
     "name": "stderr",
     "output_type": "stream",
     "text": [
      "100%|██████████| 74/74 [00:00<00:00, 201.16it/s]\n",
      "  0%|          | 0/19 [00:00<?, ?it/s]"
     ]
    },
    {
     "name": "stdout",
     "output_type": "stream",
     "text": [
      "\n",
      "Iteration 42/74 of epoch 97 complete. Loss : 0.13539997701134002 \n",
      "\n",
      "Iteration 56/74 of epoch 97 complete. Loss : 0.16129751290593827 \n",
      "\n",
      "Iteration 70/74 of epoch 97 complete. Loss : 0.1516123509832791 \n"
     ]
    },
    {
     "name": "stderr",
     "output_type": "stream",
     "text": [
      "100%|██████████| 19/19 [00:00<00:00, 350.77it/s]\n",
      " 30%|██▉       | 22/74 [00:00<00:00, 210.98it/s]"
     ]
    },
    {
     "name": "stdout",
     "output_type": "stream",
     "text": [
      "\n",
      "Epoch 97 complete! Validation Loss : 0.3282530072488283\n",
      "Epoch 97 complete! Validation Accuracy : 0.8536513157894736\n",
      "\n",
      "Iteration 14/74 of epoch 98 complete. Loss : 0.1520733450140272 \n",
      "\n",
      "Iteration 28/74 of epoch 98 complete. Loss : 0.14793673370565688 \n"
     ]
    },
    {
     "name": "stderr",
     "output_type": "stream",
     "text": [
      "100%|██████████| 74/74 [00:00<00:00, 204.64it/s]\n",
      "  0%|          | 0/19 [00:00<?, ?it/s]"
     ]
    },
    {
     "name": "stdout",
     "output_type": "stream",
     "text": [
      "\n",
      "Iteration 42/74 of epoch 98 complete. Loss : 0.1547403915652207 \n",
      "\n",
      "Iteration 56/74 of epoch 98 complete. Loss : 0.14665103863392556 \n",
      "\n",
      "Iteration 70/74 of epoch 98 complete. Loss : 0.13941389694809914 \n"
     ]
    },
    {
     "name": "stderr",
     "output_type": "stream",
     "text": [
      "100%|██████████| 19/19 [00:00<00:00, 353.93it/s]\n",
      " 30%|██▉       | 22/74 [00:00<00:00, 209.55it/s]"
     ]
    },
    {
     "name": "stdout",
     "output_type": "stream",
     "text": [
      "\n",
      "Epoch 98 complete! Validation Loss : 0.3303601843746085\n",
      "Epoch 98 complete! Validation Accuracy : 0.8481249999999999\n",
      "\n",
      "Iteration 14/74 of epoch 99 complete. Loss : 0.14947299925344332 \n",
      "\n",
      "Iteration 28/74 of epoch 99 complete. Loss : 0.15043259571705545 \n"
     ]
    },
    {
     "name": "stderr",
     "output_type": "stream",
     "text": [
      "100%|██████████| 74/74 [00:00<00:00, 204.35it/s]\n",
      "  0%|          | 0/19 [00:00<?, ?it/s]"
     ]
    },
    {
     "name": "stdout",
     "output_type": "stream",
     "text": [
      "\n",
      "Iteration 42/74 of epoch 99 complete. Loss : 0.14250011156712258 \n",
      "\n",
      "Iteration 56/74 of epoch 99 complete. Loss : 0.15338943100401334 \n",
      "\n",
      "Iteration 70/74 of epoch 99 complete. Loss : 0.146149819450719 \n"
     ]
    },
    {
     "name": "stderr",
     "output_type": "stream",
     "text": [
      "100%|██████████| 19/19 [00:00<00:00, 368.22it/s]\n",
      " 30%|██▉       | 22/74 [00:00<00:00, 210.51it/s]"
     ]
    },
    {
     "name": "stdout",
     "output_type": "stream",
     "text": [
      "\n",
      "Epoch 99 complete! Validation Loss : 0.3262599173345064\n",
      "Epoch 99 complete! Validation Accuracy : 0.8485361842105262\n",
      "Best validation loss improved from 0.32738473619285385 to 0.3262599173345064\n",
      "\n",
      "\n",
      "Iteration 14/74 of epoch 100 complete. Loss : 0.14942885775651252 \n",
      "\n",
      "Iteration 28/74 of epoch 100 complete. Loss : 0.1475434580019542 \n"
     ]
    },
    {
     "name": "stderr",
     "output_type": "stream",
     "text": [
      "100%|██████████| 74/74 [00:00<00:00, 204.06it/s]\n",
      "  0%|          | 0/19 [00:00<?, ?it/s]"
     ]
    },
    {
     "name": "stdout",
     "output_type": "stream",
     "text": [
      "\n",
      "Iteration 42/74 of epoch 100 complete. Loss : 0.14460132750017302 \n",
      "\n",
      "Iteration 56/74 of epoch 100 complete. Loss : 0.1386259203510625 \n",
      "\n",
      "Iteration 70/74 of epoch 100 complete. Loss : 0.1479687983436244 \n"
     ]
    },
    {
     "name": "stderr",
     "output_type": "stream",
     "text": [
      "100%|██████████| 19/19 [00:00<00:00, 356.84it/s]"
     ]
    },
    {
     "name": "stdout",
     "output_type": "stream",
     "text": [
      "\n",
      "Epoch 100 complete! Validation Loss : 0.3280517105993472\n",
      "Epoch 100 complete! Validation Accuracy : 0.8526480263157894\n",
      "The model has been saved in saved_models/contrast_ce_vbert_full_lr_3e-05_val_loss_0.32626_ep_99.pt\n"
     ]
    },
    {
     "name": "stderr",
     "output_type": "stream",
     "text": [
      "\n"
     ]
    }
   ],
   "source": [
    "# Train the model\n",
    "model, model_name = train_model(class_model, criterion, optimizer, lr, scheduler, train_dataloader, test_dataloader, epochs, iters_to_accumulate)"
   ]
  },
  {
   "cell_type": "code",
   "execution_count": 28,
   "metadata": {},
   "outputs": [],
   "source": [
    "def evaluate(prediction_dataloader, model, path_to_model, load = False):\n",
    "\t# Prediction on test set\n",
    "\tif load:\n",
    "\t\tprint(\"Loading the weights of the model...\")\n",
    "\t\tmodel.load_state_dict(torch.load(path_to_model))\n",
    "\n",
    "\tprint('Evaluating on the testset')\n",
    "\n",
    "\t# Put model in evaluation mode\n",
    "\tmodel.eval()\n",
    "\n",
    "\t# Tracking variables \n",
    "\tpredictions , true_labels = [], []\n",
    "\n",
    "\t# Predict \n",
    "\tfor batch in prediction_dataloader:\n",
    "\t  # Add batch to GPU\n",
    "\t  batch = tuple(t.to(device) for t in batch)\n",
    "\t  \n",
    "\t  # Unpack the inputs from our dataloader\n",
    "\t  b_t_inputs, b_s_inputs, b_labels = batch\n",
    "\t  \n",
    "\t  # Telling the model not to compute or store gradients, saving memory and \n",
    "\t  # speeding up prediction\n",
    "\t  with torch.no_grad():\n",
    "\t      # Forward pass, calculate logit predictions\n",
    "\t      logits = model(b_t_inputs, b_s_inputs)\n",
    "\n",
    "\t  # Move logits and labels to CPU\n",
    "\t  logits = logits.detach().cpu().numpy()\n",
    "\t  label_ids = b_labels.to('cpu').numpy()\n",
    "\n",
    "\t  pred_flat = np.argmax(logits, axis=1).flatten()\n",
    "\t  labels_flat = label_ids.flatten()\n",
    "\t  \n",
    "\t  # Store predictions and true labels\n",
    "\t  predictions.extend(pred_flat)\n",
    "\t  true_labels.extend(labels_flat)\n",
    "\n",
    "\tprint('DONE.')\n",
    "\n",
    "\t# Code for result display\n",
    "\tprint(model_name, 'Multi-Modal Classification accuracy is')\n",
    "\tprint(metrics.accuracy_score(true_labels, predictions)*100)\n",
    "\tprint(classification_report(true_labels, predictions, target_names = ['fake', 'real']))\n",
    "\t# For error analysis\n",
    "\tif dataset_split == 'full':\n",
    "\t\tnew_df = pd.DataFrame()\n",
    "\t\tnew_df['ids'], new_df['ground_truth'], new_df['predicted'] = test_ids, true_labels, predictions\n",
    "\t\tnew_df.to_csv(str('error_analysis/'+model_name+'.csv'), index=False)  \n",
    "\t# Converting to csv\n",
    "\t# Removed transpose - check if actually required\n",
    "\tclsf_report = pd.DataFrame(classification_report(y_true = true_labels, y_pred = predictions, output_dict=True, target_names = ['fake', 'real']))\n",
    "\tclsf_report.to_csv(str('saved_models/'+model_name+'.csv'), index= True)"
   ]
  },
  {
   "cell_type": "code",
   "execution_count": 29,
   "metadata": {},
   "outputs": [
    {
     "name": "stdout",
     "output_type": "stream",
     "text": [
      "Evaluating on the testset\n",
      "DONE.\n",
      "contrast_ce_vbert_full Multi-Modal Classification accuracy is\n",
      "84.74936278674596\n",
      "              precision    recall  f1-score   support\n",
      "\n",
      "        fake       0.82      0.84      0.83      1031\n",
      "        real       0.87      0.86      0.86      1323\n",
      "\n",
      "    accuracy                           0.85      2354\n",
      "   macro avg       0.84      0.85      0.85      2354\n",
      "weighted avg       0.85      0.85      0.85      2354\n",
      "\n"
     ]
    }
   ],
   "source": [
    "path_to_model = 'saved_models/class_contrast_visualbert_lr_3e-05_val_loss_0.35285_ep_100.pt'\n",
    "evaluate(test_dataloader, model, path_to_model = path_to_model, load = False)"
   ]
  }
 ],
 "metadata": {
  "interpreter": {
   "hash": "112ac2046fa01f929d29fd747457323c8422411859b530c12136f6127f223c24"
  },
  "kernelspec": {
   "display_name": "Python 3.6.11 64-bit ('newnisbert': conda)",
   "name": "python3"
  },
  "language_info": {
   "codemirror_mode": {
    "name": "ipython",
    "version": 3
   },
   "file_extension": ".py",
   "mimetype": "text/x-python",
   "name": "python",
   "nbconvert_exporter": "python",
   "pygments_lexer": "ipython3",
   "version": "3.6.11"
  },
  "orig_nbformat": 4
 },
 "nbformat": 4,
 "nbformat_minor": 2
}
