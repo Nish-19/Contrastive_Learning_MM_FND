{
 "cells": [
  {
   "cell_type": "code",
   "execution_count": 1,
   "source": [
    "import os\n",
    "gpu_number = \"0\" # Choose either 0 or 1\n",
    "os.environ['CUDA_ENVIRONMENT_DEVICES'] = gpu_number"
   ],
   "outputs": [],
   "metadata": {}
  },
  {
   "cell_type": "code",
   "execution_count": 2,
   "source": [
    "import os\n",
    "import sys\n",
    "import numpy as np\n",
    "from numpy import asarray,zeros\n",
    "import pandas as pd \n",
    "from sklearn.model_selection import train_test_split\n",
    "import torch\n",
    "from torch.utils.data import TensorDataset, DataLoader, RandomSampler, SequentialSampler, Dataset\n",
    "import torch.nn as nn\n",
    "import torch.nn.functional as F\n",
    "import torch.optim as optim\n",
    "from tqdm import tqdm\n",
    "import matplotlib.pyplot as plt\n",
    "import copy\n",
    "from sklearn.model_selection import train_test_split\n",
    "from sklearn import metrics\n",
    "from sklearn.metrics import classification_report\n",
    "import transformers\n",
    "from transformers import BertTokenizer\n",
    "from transformers import AdamW, get_linear_schedule_with_warmup\n",
    "from transformers import AutoTokenizer, AutoModel, AutoConfig, AdamW, get_linear_schedule_with_warmup\n",
    "from tensorflow.keras.preprocessing.text import Tokenizer\n",
    "from tensorflow.keras.preprocessing.sequence import pad_sequences\n",
    "import timm\n",
    "from losses import SupConLoss\n",
    "from torchlars import LARS"
   ],
   "outputs": [],
   "metadata": {}
  },
  {
   "cell_type": "code",
   "execution_count": 3,
   "source": [
    "if torch.cuda.is_available():\n",
    "    device_name = \"cuda:\" + gpu_number\n",
    "    device = torch.device(device_name)\n",
    "else:\n",
    "    device = torch.device(\"cpu\")\n",
    "# device = torch.device(\"cpu\") # Force CPU\n",
    "print(\"Using device\", device)"
   ],
   "outputs": [
    {
     "output_type": "stream",
     "name": "stdout",
     "text": [
      "Using device cuda:0\n"
     ]
    }
   ],
   "metadata": {}
  },
  {
   "cell_type": "code",
   "execution_count": 4,
   "source": [
    "# Import Multimodal data\n",
    "source_multimodal_arr = np.load(\"../data/source_multimodal_out.npy\")\n",
    "target_multimodal_arr = np.load(\"../data/target_multimodal_out.npy\")"
   ],
   "outputs": [],
   "metadata": {}
  },
  {
   "cell_type": "code",
   "execution_count": 5,
   "source": [
    "# # Considering only the text parts - #TODO: Comment if not necessary\n",
    "# source_multimodal_arr = source_multimodal_arr[:,768:] # Only BERT\n",
    "# target_multimodal_arr = target_multimodal_arr[:,768:] # Only BERT\n",
    "# print(\"Source shape\", source_multimodal_arr.shape)\n",
    "# print(\"Target shape\", target_multimodal_arr.shape)"
   ],
   "outputs": [],
   "metadata": {}
  },
  {
   "cell_type": "code",
   "execution_count": 6,
   "source": [
    "source_multimodal_tensor = torch.tensor(source_multimodal_arr, device=device)\n",
    "target_multimodal_tensor = torch.tensor(target_multimodal_arr, device=device)\n",
    "print(\"Source shape\", source_multimodal_tensor.shape)\n",
    "print(\"Target shape\", target_multimodal_tensor.shape)"
   ],
   "outputs": [
    {
     "output_type": "stream",
     "name": "stdout",
     "text": [
      "Source shape torch.Size([11766, 1280])\n",
      "Target shape torch.Size([11766, 1280])\n"
     ]
    }
   ],
   "metadata": {}
  },
  {
   "cell_type": "code",
   "execution_count": 7,
   "source": [
    "# Loading the label\n",
    "labels_data = np.load(\"../data/labels.npy\")\n",
    "labels_tensor = torch.tensor(labels_data, dtype=torch.long, device=device).squeeze(-1)\n",
    "print('Labels tensor shape', labels_tensor.shape)"
   ],
   "outputs": [
    {
     "output_type": "stream",
     "name": "stdout",
     "text": [
      "Labels tensor shape torch.Size([11766])\n"
     ]
    }
   ],
   "metadata": {}
  },
  {
   "cell_type": "code",
   "execution_count": 8,
   "source": [
    "#TODO: Add Pytorch DataLoader\n",
    "def get_data_loader(batch_size, target_input, source_input, labels):\n",
    "\tdata = TensorDataset(target_input, source_input, labels)\n",
    "\tsampler = SequentialSampler(data)\n",
    "\tdataloader = DataLoader(data, sampler=sampler, batch_size=batch_size)\n",
    "\treturn data, sampler, dataloader"
   ],
   "outputs": [],
   "metadata": {}
  },
  {
   "cell_type": "code",
   "execution_count": 9,
   "source": [
    "train_target, test_target, train_source, test_source, train_labels, test_labels = train_test_split(target_multimodal_tensor, source_multimodal_tensor, labels_tensor, test_size=0.2, random_state=43)"
   ],
   "outputs": [],
   "metadata": {}
  },
  {
   "cell_type": "code",
   "execution_count": 10,
   "source": [
    "batch_size = 128\n",
    "train_labels = torch.tensor(train_labels, dtype=torch.long, device =device)\n",
    "test_labels = torch.tensor(test_labels, dtype=torch.long, device =device)\n",
    "train_data, train_sampler, train_dataloader = get_data_loader(batch_size, train_target, train_source, train_labels)\n",
    "test_data, test_sampler, test_dataloader = get_data_loader(batch_size, test_target, test_source, test_labels)"
   ],
   "outputs": [
    {
     "output_type": "stream",
     "name": "stderr",
     "text": [
      "/sda/rina_1921cs13/anaconda3/envs/nischalbert/lib/python3.6/site-packages/ipykernel_launcher.py:2: UserWarning: To copy construct from a tensor, it is recommended to use sourceTensor.clone().detach() or sourceTensor.clone().detach().requires_grad_(True), rather than torch.tensor(sourceTensor).\n",
      "  \n",
      "/sda/rina_1921cs13/anaconda3/envs/nischalbert/lib/python3.6/site-packages/ipykernel_launcher.py:3: UserWarning: To copy construct from a tensor, it is recommended to use sourceTensor.clone().detach() or sourceTensor.clone().detach().requires_grad_(True), rather than torch.tensor(sourceTensor).\n",
      "  This is separate from the ipykernel package so we can avoid doing imports until\n"
     ]
    }
   ],
   "metadata": {}
  },
  {
   "cell_type": "code",
   "execution_count": 11,
   "source": [
    "# Model imported from the previous network\n",
    "class ContrastiveModel(nn.Module):\n",
    "    def __init__(self, initial_dim):\n",
    "        super(ContrastiveModel, self).__init__()\n",
    "        self.project_1 = nn.Linear(initial_dim, 512, bias=True)\n",
    "        self.project_2 = nn.Linear(512, 128, bias=True)\n",
    "        self.dropout = nn.Dropout(0.2)\n",
    "    def forward(self, multimodal_input):\n",
    "        contrast_space = self.project_2(self.project_1(multimodal_input))\n",
    "        normalize_contrast = F.normalize(contrast_space, dim=2)\n",
    "        return normalize_contrast"
   ],
   "outputs": [],
   "metadata": {}
  },
  {
   "cell_type": "code",
   "execution_count": 12,
   "source": [
    "class ContrastiveModelNew(nn.Module):\n",
    "    def __init__(self, initial_dim):\n",
    "        super(ContrastiveModelNew, self).__init__()\n",
    "        self.project_1 = nn.Linear(initial_dim, initial_dim//2)\n",
    "        self.project_2 = nn.Linear(initial_dim//2, initial_dim//4)\n",
    "        self.project_3 = nn.Linear(initial_dim//4, 128)\n",
    "        self.dropout = nn.Dropout(0.2)\n",
    "    def forward(self, multimodal_input):\n",
    "        project_down_1 = self.project_1(multimodal_input)\n",
    "        project_down_2 = self.project_2(project_down_1)\n",
    "        contrast_space = self.project_3(project_down_2)\n",
    "        normalize_contrast = F.normalize(contrast_space, dim=2)\n",
    "        return normalize_contrast"
   ],
   "outputs": [],
   "metadata": {}
  },
  {
   "cell_type": "code",
   "execution_count": 13,
   "source": [
    "# Define classification model\n",
    "class ContrastiveClassification(nn.Module):\n",
    "    def __init__(self, initial_dim):\n",
    "        super(ContrastiveClassification, self).__init__()\n",
    "        self.contrastive_model = ContrastiveModel(initial_dim)\n",
    "        self.contrastive_model.load_state_dict(torch.load('saved_models/contrast_head_lr_5_ep_1000_old.pt'))\n",
    "        for param in self.contrastive_model.parameters():\n",
    "            param.requires_grad = False\n",
    "        self.reduce_1 = nn.Linear((512)*3, 512)\n",
    "        self.tanh1 = nn.Tanh()\n",
    "        self.logits_layer = nn.Linear(512, 2)\n",
    "    def forward(self, target_input, source_input):\n",
    "        fixed_target = self.contrastive_model.project_1(target_input)\n",
    "        fixed_source = self.contrastive_model.project_1(source_input)\n",
    "        add_op = fixed_target + fixed_source\n",
    "        sub_op = fixed_target - fixed_source\n",
    "        mul_op = fixed_target * fixed_source\n",
    "        combine_t_s = torch.cat((add_op, sub_op, mul_op), 1)\n",
    "        reduce_output = self.tanh1(self.reduce_1(combine_t_s))\n",
    "        logits = self.logits_layer(reduce_output)\n",
    "        return logits"
   ],
   "outputs": [],
   "metadata": {}
  },
  {
   "cell_type": "code",
   "execution_count": 14,
   "source": [
    "# Dry-Run Classification model\n",
    "initial_dim = source_multimodal_tensor.shape[1]\n",
    "class_model = ContrastiveClassification(initial_dim).to(device)\n",
    "# class_out = class_model(target_multimodal_tensor[0:32])\n",
    "# print(class_out.shape)"
   ],
   "outputs": [],
   "metadata": {}
  },
  {
   "cell_type": "code",
   "execution_count": 15,
   "source": [
    "# Optimizer and scheduler\n",
    "def get_optimizer_scheduler(name, model, train_dataloader_len, epochs, lr_set):\n",
    "\tif name == \"Adam\":\n",
    "\t\toptimizer = AdamW(model.parameters(),\n",
    "                  lr = lr_set, # args.learning_rate - default is 5e-5, our notebook had 2e-5\n",
    "                  eps = 1e-8 # args.adam_epsilon  - default is 1e-8.\n",
    "\t\t)\n",
    "\telif name == \"LARS-SGD\":\n",
    "\t\tbase_optimizer = optim.SGD(model.parameters(), lr=lr_set, momentum=0.9)\n",
    "\t\toptimizer = LARS(optimizer=base_optimizer, eps=1e-8, trust_coef=0.001)\n",
    "\n",
    "\ttotal_steps = train_dataloader_len * epochs\n",
    "\n",
    "\t# Create the learning rate scheduler.\n",
    "\tscheduler = get_linear_schedule_with_warmup(optimizer, \n",
    "\t\t\t\t\t\t\t\t\t\t\t\tnum_warmup_steps = total_steps//2, # Default value in run_glue.py\n",
    "\t\t\t\t\t\t\t\t\t\t\t\tnum_training_steps = total_steps)\n",
    "\treturn optimizer, scheduler"
   ],
   "outputs": [],
   "metadata": {}
  },
  {
   "cell_type": "code",
   "execution_count": 16,
   "source": [
    "# Getting the optimizer and scheduler\n",
    "epochs = 100\n",
    "lr = 3e-5 # Less LR\n",
    "# lr = 0.5\n",
    "iters_to_accumulate = 2\n",
    "name = \"Adam\"\n",
    "# name = \"LARS-SGD\"\n",
    "criterion = nn.CrossEntropyLoss()\n",
    "optimizer, scheduler = get_optimizer_scheduler(name, class_model, len(train_dataloader), epochs, lr)"
   ],
   "outputs": [],
   "metadata": {}
  },
  {
   "cell_type": "code",
   "execution_count": 17,
   "source": [
    "################ Evaluating Loss ######################\n",
    "#######################################################\n",
    "def evaluate_loss(net, device, criterion, dataloader):\n",
    "    net.eval()\n",
    "    mean_loss = 0\n",
    "    count = 0\n",
    "    with torch.no_grad():\n",
    "        for it, (target_inputs, source_inputs, labels) in enumerate(tqdm(dataloader)):\n",
    "            target_inputs, source_inputs, labels = target_inputs.to(device), source_inputs.to(device), labels.to(device)\n",
    "            logits = net(target_inputs, source_inputs)\n",
    "            mean_loss += criterion(logits.squeeze(-1), labels).item() # initially it was logits.squeeze(-1)\n",
    "            count += 1\n",
    "    return mean_loss / count"
   ],
   "outputs": [],
   "metadata": {}
  },
  {
   "cell_type": "code",
   "execution_count": 18,
   "source": [
    "################ Flat Accuracy Calculation ####################\n",
    "###############################################################\n",
    "def flat_accuracy(preds, labels):\n",
    "    pred_flat = np.argmax(preds, axis=1).flatten()\n",
    "    labels_flat = labels.flatten()\n",
    "    return np.sum(pred_flat == labels_flat) / len(labels_flat)\n",
    "################ Validation Accuracy Calculation ####################\n",
    "###############################################################\n",
    "def evaluate_accuracy(model, device, validation_dataloader):\n",
    "\tmodel.eval()\n",
    "\t# Tracking variables \n",
    "\teval_loss, eval_accuracy = 0, 0\n",
    "\tnb_eval_steps, nb_eval_examples = 0, 0\n",
    "\t# Evaluate data for one epoch\n",
    "\tfor batch in validation_dataloader:\n",
    "\t    # Add batch to GPU\n",
    "\t    batch = tuple(t.to(device) for t in batch)\t    \n",
    "\t    # Unpack the inputs from our dataloader\n",
    "\t    b_t_inputs, b_s_inputs, b_labels = batch\t    \n",
    "\t    \n",
    "\t    # Telling the model not to compute or store gradients, saving memory and\n",
    "\t    # speeding up validation\n",
    "\t    with torch.no_grad(): \n",
    "\t    \t# Forward pass, calculate logit predictions.\n",
    "\t        # This will return the logits rather than the loss because we have\n",
    "\t        # not provided labels.\n",
    "\t    \tlogits = model(b_t_inputs, b_s_inputs)       \n",
    "\n",
    "\t    # Move logits and labels to CPU\n",
    "\t    logits = logits.detach().cpu().numpy()\n",
    "\t    label_ids = b_labels.to('cpu').numpy()\n",
    "\t    \n",
    "\t    # Calculate the accuracy for this batch of test sentences.\n",
    "\t    tmp_eval_accuracy = flat_accuracy(logits, label_ids)\n",
    "\t    \n",
    "\t    # Accumulate the total accuracy.\n",
    "\t    eval_accuracy += tmp_eval_accuracy\n",
    "\n",
    "\t    # Track the number of batches\n",
    "\t    nb_eval_steps += 1\n",
    "\taccuracy = eval_accuracy/nb_eval_steps\n",
    "\treturn accuracy"
   ],
   "outputs": [],
   "metadata": {}
  },
  {
   "cell_type": "code",
   "execution_count": 19,
   "source": [
    "def train_model(net, criterion, opti, lr, lr_scheduler, train_loader, val_loader, epochs, iters_to_accumulate):\n",
    "    best_loss = np.Inf\n",
    "    best_ep = 1\n",
    "    nb_iterations = len(train_loader)\n",
    "    print_every = nb_iterations // 5  # print the training loss 5 times per epoch\n",
    "    iters = []\n",
    "    train_losses = []\n",
    "    val_losses = []\n",
    "    # Iterating over all epochs\n",
    "    for ep in range(epochs):\n",
    "        net.train()\n",
    "        running_loss = 0.0\n",
    "        for it, (target_inputs, source_inputs, labels) in enumerate(tqdm(train_loader)):\n",
    "\n",
    "            # Converting to cuda tensors\n",
    "            target_inputs, source_inputs, labels = target_inputs.to(device), source_inputs.to(device), labels.to(device)\n",
    "    \t\t\n",
    "            # Obtaining the logits from the model\n",
    "            logits = net(target_inputs, source_inputs)\n",
    "            # print(logits.device)\n",
    "\n",
    "            # Computing loss\n",
    "            # print(logits.squeeze(-1).shape)\n",
    "            # print(labels.shape)\n",
    "            loss = criterion(logits.squeeze(-1), labels)\n",
    "            loss = loss / iters_to_accumulate  # Normalize the loss because it is averaged\n",
    "\n",
    "            # Backpropagating the gradients\n",
    "            # Calls backward()\n",
    "            loss.backward()\n",
    "\n",
    "            if (it + 1) % iters_to_accumulate == 0:\n",
    "                # Optimization step\n",
    "                # scaler.step() first unscales the gradients of the optimizer's assigned params.\n",
    "                # If these gradients do not contain infs or NaNs, opti.step() is then called,\n",
    "                # otherwise, opti.step() is skipped.\n",
    "                opti.step()\n",
    "                # Adjust the learning rate based on the number of iterations.\n",
    "                lr_scheduler.step()\n",
    "                # Clear gradients\n",
    "                net.zero_grad()\n",
    "\n",
    "\n",
    "            running_loss += loss.item()\n",
    "\n",
    "            if (it + 1) % print_every == 0:  # Print training loss information\n",
    "                print()\n",
    "                print(\"Iteration {}/{} of epoch {} complete. Loss : {} \"\n",
    "                      .format(it+1, nb_iterations, ep+1, running_loss / print_every))\n",
    "\n",
    "                running_loss = 0.0\n",
    "\n",
    "\n",
    "        val_loss = evaluate_loss(net, device, criterion, val_loader)  # Compute validation loss\n",
    "        val_accuracy = evaluate_accuracy(net, device, val_loader)\n",
    "        print()\n",
    "        print(\"Epoch {} complete! Validation Loss : {}\".format(ep+1, val_loss))\n",
    "        print(\"Epoch {} complete! Validation Accuracy : {}\".format(ep+1, val_accuracy))\n",
    "\n",
    "        if val_loss < best_loss:\n",
    "            print(\"Best validation loss improved from {} to {}\".format(best_loss, val_loss))\n",
    "            print()\n",
    "            net_copy = copy.deepcopy(net)  # save a copy of the model\n",
    "            best_loss = val_loss\n",
    "            best_ep = ep + 1\n",
    "\n",
    "    # Saving the model\n",
    "    model_name = 'class_contrast_bert'\n",
    "    path_to_model='saved_models/{}_lr_{}_val_loss_{}_ep_{}.pt'.format(model_name, lr, round(best_loss, 5), best_ep)\n",
    "    torch.save(net_copy.state_dict(), path_to_model)\n",
    "    net.load_state_dict(torch.load(path_to_model)) # Re-Loading the best model\n",
    "    print(\"The model has been saved in {}\".format(path_to_model))\n",
    "\n",
    "    del loss\n",
    "    torch.cuda.empty_cache()\n",
    "    return net"
   ],
   "outputs": [],
   "metadata": {}
  },
  {
   "cell_type": "code",
   "execution_count": 20,
   "source": [
    "# Train the model\n",
    "model = train_model(class_model, criterion, optimizer, lr, scheduler, train_dataloader, test_dataloader, epochs, iters_to_accumulate)"
   ],
   "outputs": [
    {
     "output_type": "stream",
     "name": "stderr",
     "text": [
      " 86%|████████▋ | 64/74 [00:00<00:00, 57.23it/s]"
     ]
    },
    {
     "output_type": "stream",
     "name": "stdout",
     "text": [
      "\n",
      "Iteration 14/74 of epoch 1 complete. Loss : 0.37184134125709534 \n",
      "\n",
      "Iteration 28/74 of epoch 1 complete. Loss : 0.3707601342882429 \n",
      "\n",
      "Iteration 42/74 of epoch 1 complete. Loss : 0.3723594972065517 \n",
      "\n",
      "Iteration 56/74 of epoch 1 complete. Loss : 0.36275519004889895 \n",
      "\n",
      "Iteration 70/74 of epoch 1 complete. Loss : 0.3598651758262089 \n"
     ]
    },
    {
     "output_type": "stream",
     "name": "stderr",
     "text": [
      "100%|██████████| 74/74 [00:00<00:00, 163.48it/s]\n",
      "100%|██████████| 19/19 [00:00<00:00, 407.60it/s]\n",
      " 22%|██▏       | 16/74 [00:00<00:00, 157.26it/s]"
     ]
    },
    {
     "output_type": "stream",
     "name": "stdout",
     "text": [
      "\n",
      "Epoch 1 complete! Validation Loss : 0.7309132437956961\n",
      "Epoch 1 complete! Validation Accuracy : 0.5353289473684211\n",
      "Best validation loss improved from inf to 0.7309132437956961\n",
      "\n",
      "\n",
      "Iteration 14/74 of epoch 2 complete. Loss : 0.3604364459003721 \n",
      "\n",
      "Iteration 28/74 of epoch 2 complete. Loss : 0.35518121080739157 \n"
     ]
    },
    {
     "output_type": "stream",
     "name": "stderr",
     "text": [
      "100%|██████████| 74/74 [00:00<00:00, 162.54it/s]\n",
      "  0%|          | 0/19 [00:00<?, ?it/s]"
     ]
    },
    {
     "output_type": "stream",
     "name": "stdout",
     "text": [
      "\n",
      "Iteration 42/74 of epoch 2 complete. Loss : 0.3528838200228555 \n",
      "\n",
      "Iteration 56/74 of epoch 2 complete. Loss : 0.34070333412715365 \n",
      "\n",
      "Iteration 70/74 of epoch 2 complete. Loss : 0.3344781739371164 \n"
     ]
    },
    {
     "output_type": "stream",
     "name": "stderr",
     "text": [
      "100%|██████████| 19/19 [00:00<00:00, 294.55it/s]\n",
      " 27%|██▋       | 20/74 [00:00<00:00, 191.01it/s]"
     ]
    },
    {
     "output_type": "stream",
     "name": "stdout",
     "text": [
      "\n",
      "Epoch 2 complete! Validation Loss : 0.6738752063951994\n",
      "Epoch 2 complete! Validation Accuracy : 0.5814309210526316\n",
      "Best validation loss improved from 0.7309132437956961 to 0.6738752063951994\n",
      "\n",
      "\n",
      "Iteration 14/74 of epoch 3 complete. Loss : 0.33128632392202106 \n",
      "\n",
      "Iteration 28/74 of epoch 3 complete. Loss : 0.32211523609501974 \n"
     ]
    },
    {
     "output_type": "stream",
     "name": "stderr",
     "text": [
      "100%|██████████| 74/74 [00:00<00:00, 167.73it/s]\n",
      "  0%|          | 0/19 [00:00<?, ?it/s]"
     ]
    },
    {
     "output_type": "stream",
     "name": "stdout",
     "text": [
      "\n",
      "Iteration 42/74 of epoch 3 complete. Loss : 0.3170198393719537 \n",
      "\n",
      "Iteration 56/74 of epoch 3 complete. Loss : 0.30438279466969625 \n",
      "\n",
      "Iteration 70/74 of epoch 3 complete. Loss : 0.2959946755852018 \n"
     ]
    },
    {
     "output_type": "stream",
     "name": "stderr",
     "text": [
      "100%|██████████| 19/19 [00:00<00:00, 113.15it/s]\n",
      " 20%|██        | 15/74 [00:00<00:00, 149.81it/s]"
     ]
    },
    {
     "output_type": "stream",
     "name": "stdout",
     "text": [
      "\n",
      "Epoch 3 complete! Validation Loss : 0.5927243107243588\n",
      "Epoch 3 complete! Validation Accuracy : 0.6832236842105263\n",
      "Best validation loss improved from 0.6738752063951994 to 0.5927243107243588\n",
      "\n",
      "\n",
      "Iteration 14/74 of epoch 4 complete. Loss : 0.29094140018735615 \n"
     ]
    },
    {
     "output_type": "stream",
     "name": "stderr",
     "text": [
      " 68%|██████▊   | 50/74 [00:00<00:00, 115.25it/s]"
     ]
    },
    {
     "output_type": "stream",
     "name": "stdout",
     "text": [
      "\n",
      "Iteration 28/74 of epoch 4 complete. Loss : 0.2787897671972002 \n",
      "\n",
      "Iteration 42/74 of epoch 4 complete. Loss : 0.2727514739547457 \n"
     ]
    },
    {
     "output_type": "stream",
     "name": "stderr",
     "text": [
      "100%|██████████| 74/74 [00:00<00:00, 120.73it/s]\n",
      "  0%|          | 0/19 [00:00<?, ?it/s]"
     ]
    },
    {
     "output_type": "stream",
     "name": "stdout",
     "text": [
      "\n",
      "Iteration 56/74 of epoch 4 complete. Loss : 0.26197616436651777 \n",
      "\n",
      "Iteration 70/74 of epoch 4 complete. Loss : 0.25290019490889143 \n"
     ]
    },
    {
     "output_type": "stream",
     "name": "stderr",
     "text": [
      "100%|██████████| 19/19 [00:00<00:00, 204.86it/s]\n",
      " 27%|██▋       | 20/74 [00:00<00:00, 190.19it/s]"
     ]
    },
    {
     "output_type": "stream",
     "name": "stdout",
     "text": [
      "\n",
      "Epoch 4 complete! Validation Loss : 0.5049303032849964\n",
      "Epoch 4 complete! Validation Accuracy : 0.8145394736842105\n",
      "Best validation loss improved from 0.5927243107243588 to 0.5049303032849964\n",
      "\n",
      "\n",
      "Iteration 14/74 of epoch 5 complete. Loss : 0.2481863328388759 \n",
      "\n",
      "Iteration 28/74 of epoch 5 complete. Loss : 0.2341880542891366 \n"
     ]
    },
    {
     "output_type": "stream",
     "name": "stderr",
     "text": [
      " 77%|███████▋  | 57/74 [00:00<00:00, 177.37it/s]"
     ]
    },
    {
     "output_type": "stream",
     "name": "stdout",
     "text": [
      "\n",
      "Iteration 42/74 of epoch 5 complete. Loss : 0.22887455565588816 \n",
      "\n",
      "Iteration 56/74 of epoch 5 complete. Loss : 0.22176359274557658 \n",
      "\n",
      "Iteration 70/74 of epoch 5 complete. Loss : 0.21310347425086157 \n"
     ]
    },
    {
     "output_type": "stream",
     "name": "stderr",
     "text": [
      "100%|██████████| 74/74 [00:00<00:00, 177.67it/s]\n",
      "100%|██████████| 19/19 [00:00<00:00, 144.46it/s]\n",
      " 12%|█▏        | 9/74 [00:00<00:00, 79.57it/s]"
     ]
    },
    {
     "output_type": "stream",
     "name": "stdout",
     "text": [
      "\n",
      "Epoch 5 complete! Validation Loss : 0.4256340908376794\n",
      "Epoch 5 complete! Validation Accuracy : 0.8730263157894737\n",
      "Best validation loss improved from 0.5049303032849964 to 0.4256340908376794\n",
      "\n",
      "\n",
      "Iteration 14/74 of epoch 6 complete. Loss : 0.21044581809214183 \n"
     ]
    },
    {
     "output_type": "stream",
     "name": "stderr",
     "text": [
      " 55%|█████▌    | 41/74 [00:00<00:00, 73.99it/s]"
     ]
    },
    {
     "output_type": "stream",
     "name": "stdout",
     "text": [
      "\n",
      "Iteration 28/74 of epoch 6 complete. Loss : 0.1953572311571666 \n",
      "\n",
      "Iteration 42/74 of epoch 6 complete. Loss : 0.19173660448619298 \n"
     ]
    },
    {
     "output_type": "stream",
     "name": "stderr",
     "text": [
      "100%|██████████| 74/74 [00:00<00:00, 112.69it/s]\n",
      "100%|██████████| 19/19 [00:00<00:00, 514.44it/s]\n",
      "  0%|          | 0/74 [00:00<?, ?it/s]"
     ]
    },
    {
     "output_type": "stream",
     "name": "stdout",
     "text": [
      "\n",
      "Iteration 56/74 of epoch 6 complete. Loss : 0.18868788118873323 \n",
      "\n",
      "Iteration 70/74 of epoch 6 complete. Loss : 0.18084992042609624 \n",
      "\n",
      "Epoch 6 complete! Validation Loss : 0.3619956295741232\n",
      "Epoch 6 complete! Validation Accuracy : 0.8876480263157895\n",
      "Best validation loss improved from 0.4256340908376794 to 0.3619956295741232\n",
      "\n",
      "\n",
      "Iteration 14/74 of epoch 7 complete. Loss : 0.1806235292128154 \n"
     ]
    },
    {
     "output_type": "stream",
     "name": "stderr",
     "text": [
      " 74%|███████▍  | 55/74 [00:00<00:00, 175.32it/s]"
     ]
    },
    {
     "output_type": "stream",
     "name": "stdout",
     "text": [
      "\n",
      "Iteration 28/74 of epoch 7 complete. Loss : 0.1649527336869921 \n",
      "\n",
      "Iteration 42/74 of epoch 7 complete. Loss : 0.16342764347791672 \n",
      "\n",
      "Iteration 56/74 of epoch 7 complete. Loss : 0.16381822313581193 \n"
     ]
    },
    {
     "output_type": "stream",
     "name": "stderr",
     "text": [
      "100%|██████████| 74/74 [00:00<00:00, 164.30it/s]\n",
      "100%|██████████| 19/19 [00:00<00:00, 323.68it/s]\n",
      "  0%|          | 0/74 [00:00<?, ?it/s]"
     ]
    },
    {
     "output_type": "stream",
     "name": "stdout",
     "text": [
      "\n",
      "Iteration 70/74 of epoch 7 complete. Loss : 0.15684082678386144 \n",
      "\n",
      "Epoch 7 complete! Validation Loss : 0.31542891734524775\n",
      "Epoch 7 complete! Validation Accuracy : 0.8905263157894737\n",
      "Best validation loss improved from 0.3619956295741232 to 0.31542891734524775\n",
      "\n"
     ]
    },
    {
     "output_type": "stream",
     "name": "stderr",
     "text": [
      " 61%|██████    | 45/74 [00:00<00:00, 213.60it/s]"
     ]
    },
    {
     "output_type": "stream",
     "name": "stdout",
     "text": [
      "\n",
      "Iteration 14/74 of epoch 8 complete. Loss : 0.15856576498065675 \n",
      "\n",
      "Iteration 28/74 of epoch 8 complete. Loss : 0.14298282829778536 \n",
      "\n",
      "Iteration 42/74 of epoch 8 complete. Loss : 0.14338399203760283 \n",
      "\n",
      "Iteration 56/74 of epoch 8 complete. Loss : 0.14649291123662675 \n"
     ]
    },
    {
     "output_type": "stream",
     "name": "stderr",
     "text": [
      "100%|██████████| 74/74 [00:00<00:00, 206.65it/s]\n",
      "100%|██████████| 19/19 [00:00<00:00, 204.99it/s]\n",
      "  0%|          | 0/74 [00:00<?, ?it/s]"
     ]
    },
    {
     "output_type": "stream",
     "name": "stdout",
     "text": [
      "\n",
      "Iteration 70/74 of epoch 8 complete. Loss : 0.14016952791384288 \n",
      "\n",
      "Epoch 8 complete! Validation Loss : 0.284359410405159\n",
      "Epoch 8 complete! Validation Accuracy : 0.8932236842105263\n",
      "Best validation loss improved from 0.31542891734524775 to 0.284359410405159\n",
      "\n"
     ]
    },
    {
     "output_type": "stream",
     "name": "stderr",
     "text": [
      " 50%|█████     | 37/74 [00:00<00:00, 170.98it/s]"
     ]
    },
    {
     "output_type": "stream",
     "name": "stdout",
     "text": [
      "\n",
      "Iteration 14/74 of epoch 9 complete. Loss : 0.14394859916397504 \n",
      "\n",
      "Iteration 28/74 of epoch 9 complete. Loss : 0.1285493267433984 \n",
      "\n",
      "Iteration 42/74 of epoch 9 complete. Loss : 0.13103177025914192 \n"
     ]
    },
    {
     "output_type": "stream",
     "name": "stderr",
     "text": [
      "100%|██████████| 74/74 [00:00<00:00, 159.11it/s]\n",
      "100%|██████████| 19/19 [00:00<00:00, 234.06it/s]"
     ]
    },
    {
     "output_type": "stream",
     "name": "stdout",
     "text": [
      "\n",
      "Iteration 56/74 of epoch 9 complete. Loss : 0.13627037991370475 \n",
      "\n",
      "Iteration 70/74 of epoch 9 complete. Loss : 0.12983959753598487 \n"
     ]
    },
    {
     "output_type": "stream",
     "name": "stderr",
     "text": [
      "\n",
      " 15%|█▍        | 11/74 [00:00<00:00, 109.65it/s]"
     ]
    },
    {
     "output_type": "stream",
     "name": "stdout",
     "text": [
      "\n",
      "Epoch 9 complete! Validation Loss : 0.2665310619693053\n",
      "Epoch 9 complete! Validation Accuracy : 0.8948684210526316\n",
      "Best validation loss improved from 0.284359410405159 to 0.2665310619693053\n",
      "\n",
      "\n",
      "Iteration 14/74 of epoch 10 complete. Loss : 0.13565884743418014 \n",
      "\n",
      "Iteration 28/74 of epoch 10 complete. Loss : 0.12023946376783508 \n"
     ]
    },
    {
     "output_type": "stream",
     "name": "stderr",
     "text": [
      " 78%|███████▊  | 58/74 [00:00<00:00, 110.07it/s]"
     ]
    },
    {
     "output_type": "stream",
     "name": "stdout",
     "text": [
      "\n",
      "Iteration 42/74 of epoch 10 complete. Loss : 0.12402507130588804 \n",
      "\n",
      "Iteration 56/74 of epoch 10 complete. Loss : 0.13028968232018606 \n"
     ]
    },
    {
     "output_type": "stream",
     "name": "stderr",
     "text": [
      "100%|██████████| 74/74 [00:00<00:00, 138.51it/s]\n",
      "100%|██████████| 19/19 [00:00<00:00, 234.60it/s]\n",
      "  0%|          | 0/74 [00:00<?, ?it/s]"
     ]
    },
    {
     "output_type": "stream",
     "name": "stdout",
     "text": [
      "\n",
      "Iteration 70/74 of epoch 10 complete. Loss : 0.12345758719103676 \n",
      "\n",
      "Epoch 10 complete! Validation Loss : 0.2558059119864514\n",
      "Epoch 10 complete! Validation Accuracy : 0.8928125000000001\n",
      "Best validation loss improved from 0.2665310619693053 to 0.2558059119864514\n",
      "\n"
     ]
    },
    {
     "output_type": "stream",
     "name": "stderr",
     "text": [
      " 69%|██████▉   | 51/74 [00:00<00:00, 248.93it/s]"
     ]
    },
    {
     "output_type": "stream",
     "name": "stdout",
     "text": [
      "\n",
      "Iteration 14/74 of epoch 11 complete. Loss : 0.13075883846197808 \n",
      "\n",
      "Iteration 28/74 of epoch 11 complete. Loss : 0.11512100590126854 \n",
      "\n",
      "Iteration 42/74 of epoch 11 complete. Loss : 0.11973846756986209 \n",
      "\n",
      "Iteration 56/74 of epoch 11 complete. Loss : 0.12691290570156916 \n"
     ]
    },
    {
     "output_type": "stream",
     "name": "stderr",
     "text": [
      "100%|██████████| 74/74 [00:00<00:00, 210.32it/s]\n",
      "100%|██████████| 19/19 [00:00<00:00, 148.08it/s]\n"
     ]
    },
    {
     "output_type": "stream",
     "name": "stdout",
     "text": [
      "\n",
      "Iteration 70/74 of epoch 11 complete. Loss : 0.11964096607906478 \n"
     ]
    },
    {
     "output_type": "stream",
     "name": "stderr",
     "text": [
      " 18%|█▊        | 13/74 [00:00<00:00, 127.04it/s]"
     ]
    },
    {
     "output_type": "stream",
     "name": "stdout",
     "text": [
      "\n",
      "Epoch 11 complete! Validation Loss : 0.24971418474849902\n",
      "Epoch 11 complete! Validation Accuracy : 0.8934539473684211\n",
      "Best validation loss improved from 0.2558059119864514 to 0.24971418474849902\n",
      "\n",
      "\n",
      "Iteration 14/74 of epoch 12 complete. Loss : 0.12758102055106843 \n"
     ]
    },
    {
     "output_type": "stream",
     "name": "stderr",
     "text": [
      " 53%|█████▎    | 39/74 [00:00<00:00, 119.46it/s]"
     ]
    },
    {
     "output_type": "stream",
     "name": "stdout",
     "text": [
      "\n",
      "Iteration 28/74 of epoch 12 complete. Loss : 0.11175780583705221 \n",
      "\n",
      "Iteration 42/74 of epoch 12 complete. Loss : 0.11696329287120275 \n"
     ]
    },
    {
     "output_type": "stream",
     "name": "stderr",
     "text": [
      "100%|██████████| 74/74 [00:00<00:00, 110.50it/s]\n",
      "100%|██████████| 19/19 [00:00<00:00, 509.16it/s]\n",
      "  0%|          | 0/74 [00:00<?, ?it/s]"
     ]
    },
    {
     "output_type": "stream",
     "name": "stdout",
     "text": [
      "\n",
      "Iteration 56/74 of epoch 12 complete. Loss : 0.12432610456432615 \n",
      "\n",
      "Iteration 70/74 of epoch 12 complete. Loss : 0.11686142161488533 \n",
      "\n",
      "Epoch 12 complete! Validation Loss : 0.2458665480739192\n",
      "Epoch 12 complete! Validation Accuracy : 0.8946875000000001\n",
      "Best validation loss improved from 0.24971418474849902 to 0.2458665480739192\n",
      "\n"
     ]
    },
    {
     "output_type": "stream",
     "name": "stderr",
     "text": [
      " 59%|█████▉    | 44/74 [00:00<00:00, 210.54it/s]"
     ]
    },
    {
     "output_type": "stream",
     "name": "stdout",
     "text": [
      "\n",
      "Iteration 14/74 of epoch 13 complete. Loss : 0.12525002605148725 \n",
      "\n",
      "Iteration 28/74 of epoch 13 complete. Loss : 0.10914951669318336 \n",
      "\n",
      "Iteration 42/74 of epoch 13 complete. Loss : 0.11486768296786717 \n"
     ]
    },
    {
     "output_type": "stream",
     "name": "stderr",
     "text": [
      "100%|██████████| 74/74 [00:00<00:00, 178.72it/s]\n",
      "100%|██████████| 19/19 [00:00<00:00, 427.78it/s]"
     ]
    },
    {
     "output_type": "stream",
     "name": "stdout",
     "text": [
      "\n",
      "Iteration 56/74 of epoch 13 complete. Loss : 0.12235048466495105 \n",
      "\n",
      "Iteration 70/74 of epoch 13 complete. Loss : 0.11454592698386737 \n"
     ]
    },
    {
     "output_type": "stream",
     "name": "stderr",
     "text": [
      "\n",
      " 23%|██▎       | 17/74 [00:00<00:00, 164.42it/s]"
     ]
    },
    {
     "output_type": "stream",
     "name": "stdout",
     "text": [
      "\n",
      "Epoch 13 complete! Validation Loss : 0.24286603221767827\n",
      "Epoch 13 complete! Validation Accuracy : 0.8975657894736843\n",
      "Best validation loss improved from 0.2458665480739192 to 0.24286603221767827\n",
      "\n",
      "\n",
      "Iteration 14/74 of epoch 14 complete. Loss : 0.12339782448751586 \n",
      "\n",
      "Iteration 28/74 of epoch 14 complete. Loss : 0.107094123427357 \n"
     ]
    },
    {
     "output_type": "stream",
     "name": "stderr",
     "text": [
      "100%|██████████| 74/74 [00:00<00:00, 197.76it/s]\n",
      "100%|██████████| 19/19 [00:00<00:00, 395.22it/s]"
     ]
    },
    {
     "output_type": "stream",
     "name": "stdout",
     "text": [
      "\n",
      "Iteration 42/74 of epoch 14 complete. Loss : 0.11321898815887314 \n",
      "\n",
      "Iteration 56/74 of epoch 14 complete. Loss : 0.12035262531467847 \n",
      "\n",
      "Iteration 70/74 of epoch 14 complete. Loss : 0.11249150814754623 \n"
     ]
    },
    {
     "output_type": "stream",
     "name": "stderr",
     "text": [
      "\n",
      " 18%|█▊        | 13/74 [00:00<00:00, 124.78it/s]"
     ]
    },
    {
     "output_type": "stream",
     "name": "stdout",
     "text": [
      "\n",
      "Epoch 14 complete! Validation Loss : 0.24015669054106661\n",
      "Epoch 14 complete! Validation Accuracy : 0.9016776315789474\n",
      "Best validation loss improved from 0.24286603221767827 to 0.24015669054106661\n",
      "\n",
      "\n",
      "Iteration 14/74 of epoch 15 complete. Loss : 0.12171672231384686 \n"
     ]
    },
    {
     "output_type": "stream",
     "name": "stderr",
     "text": [
      " 76%|███████▌  | 56/74 [00:00<00:00, 133.14it/s]"
     ]
    },
    {
     "output_type": "stream",
     "name": "stdout",
     "text": [
      "\n",
      "Iteration 28/74 of epoch 15 complete. Loss : 0.10537291477833476 \n",
      "\n",
      "Iteration 42/74 of epoch 15 complete. Loss : 0.11172183762703623 \n",
      "\n",
      "Iteration 56/74 of epoch 15 complete. Loss : 0.11848399468830653 \n"
     ]
    },
    {
     "output_type": "stream",
     "name": "stderr",
     "text": [
      "100%|██████████| 74/74 [00:00<00:00, 134.12it/s]\n",
      "100%|██████████| 19/19 [00:00<00:00, 255.69it/s]\n",
      "  0%|          | 0/74 [00:00<?, ?it/s]"
     ]
    },
    {
     "output_type": "stream",
     "name": "stdout",
     "text": [
      "\n",
      "Iteration 70/74 of epoch 15 complete. Loss : 0.11084986531308719 \n",
      "\n",
      "Epoch 15 complete! Validation Loss : 0.2378976705827211\n",
      "Epoch 15 complete! Validation Accuracy : 0.9020888157894738\n",
      "Best validation loss improved from 0.24015669054106661 to 0.2378976705827211\n",
      "\n"
     ]
    },
    {
     "output_type": "stream",
     "name": "stderr",
     "text": [
      " 32%|███▏      | 24/74 [00:00<00:00, 96.80it/s]"
     ]
    },
    {
     "output_type": "stream",
     "name": "stdout",
     "text": [
      "\n",
      "Iteration 14/74 of epoch 16 complete. Loss : 0.12012906691857747 \n"
     ]
    },
    {
     "output_type": "stream",
     "name": "stderr",
     "text": [
      " 51%|█████▏    | 38/74 [00:00<00:00, 61.98it/s]"
     ]
    },
    {
     "output_type": "stream",
     "name": "stdout",
     "text": [
      "\n",
      "Iteration 28/74 of epoch 16 complete. Loss : 0.10389957417334829 \n",
      "\n",
      "Iteration 42/74 of epoch 16 complete. Loss : 0.11025332286953926 \n"
     ]
    },
    {
     "output_type": "stream",
     "name": "stderr",
     "text": [
      "100%|██████████| 74/74 [00:00<00:00, 111.19it/s]\n",
      "100%|██████████| 19/19 [00:00<00:00, 394.22it/s]\n",
      "  0%|          | 0/74 [00:00<?, ?it/s]"
     ]
    },
    {
     "output_type": "stream",
     "name": "stdout",
     "text": [
      "\n",
      "Iteration 56/74 of epoch 16 complete. Loss : 0.11673081666231155 \n",
      "\n",
      "Iteration 70/74 of epoch 16 complete. Loss : 0.10940556494253022 \n",
      "\n",
      "Epoch 16 complete! Validation Loss : 0.23613902299027695\n",
      "Epoch 16 complete! Validation Accuracy : 0.903733552631579\n",
      "Best validation loss improved from 0.2378976705827211 to 0.23613902299027695\n",
      "\n"
     ]
    },
    {
     "output_type": "stream",
     "name": "stderr",
     "text": [
      " 65%|██████▍   | 48/74 [00:00<00:00, 230.03it/s]"
     ]
    },
    {
     "output_type": "stream",
     "name": "stdout",
     "text": [
      "\n",
      "Iteration 14/74 of epoch 17 complete. Loss : 0.11875947139092854 \n",
      "\n",
      "Iteration 28/74 of epoch 17 complete. Loss : 0.10250019282102585 \n",
      "\n",
      "Iteration 42/74 of epoch 17 complete. Loss : 0.1090245454439095 \n",
      "\n",
      "Iteration 56/74 of epoch 17 complete. Loss : 0.1154019513300487 \n"
     ]
    },
    {
     "output_type": "stream",
     "name": "stderr",
     "text": [
      "100%|██████████| 74/74 [00:00<00:00, 212.61it/s]\n",
      "100%|██████████| 19/19 [00:00<00:00, 140.21it/s]\n"
     ]
    },
    {
     "output_type": "stream",
     "name": "stdout",
     "text": [
      "\n",
      "Iteration 70/74 of epoch 17 complete. Loss : 0.10810796011771474 \n"
     ]
    },
    {
     "output_type": "stream",
     "name": "stderr",
     "text": [
      " 22%|██▏       | 16/74 [00:00<00:00, 138.61it/s]"
     ]
    },
    {
     "output_type": "stream",
     "name": "stdout",
     "text": [
      "\n",
      "Epoch 17 complete! Validation Loss : 0.2347602632484938\n",
      "Epoch 17 complete! Validation Accuracy : 0.9041447368421053\n",
      "Best validation loss improved from 0.23613902299027695 to 0.2347602632484938\n",
      "\n",
      "\n",
      "Iteration 14/74 of epoch 18 complete. Loss : 0.11755644317184176 \n"
     ]
    },
    {
     "output_type": "stream",
     "name": "stderr",
     "text": [
      " 50%|█████     | 37/74 [00:00<00:00, 114.61it/s]"
     ]
    },
    {
     "output_type": "stream",
     "name": "stdout",
     "text": [
      "\n",
      "Iteration 28/74 of epoch 18 complete. Loss : 0.10120497697166034 \n",
      "\n",
      "Iteration 42/74 of epoch 18 complete. Loss : 0.10790606375251498 \n"
     ]
    },
    {
     "output_type": "stream",
     "name": "stderr",
     "text": [
      "100%|██████████| 74/74 [00:00<00:00, 99.62it/s]\n",
      "100%|██████████| 19/19 [00:00<00:00, 454.29it/s]\n",
      "  0%|          | 0/74 [00:00<?, ?it/s]"
     ]
    },
    {
     "output_type": "stream",
     "name": "stdout",
     "text": [
      "\n",
      "Iteration 56/74 of epoch 18 complete. Loss : 0.11437175848654338 \n",
      "\n",
      "Iteration 70/74 of epoch 18 complete. Loss : 0.1071216022329671 \n",
      "\n",
      "Epoch 18 complete! Validation Loss : 0.23341905757000572\n",
      "Epoch 18 complete! Validation Accuracy : 0.9057894736842106\n",
      "Best validation loss improved from 0.2347602632484938 to 0.23341905757000572\n",
      "\n",
      "\n",
      "Iteration 14/74 of epoch 19 complete. Loss : 0.11648658716252872 \n"
     ]
    },
    {
     "output_type": "stream",
     "name": "stderr",
     "text": [
      " 68%|██████▊   | 50/74 [00:00<00:00, 251.34it/s]"
     ]
    },
    {
     "output_type": "stream",
     "name": "stdout",
     "text": [
      "\n",
      "Iteration 28/74 of epoch 19 complete. Loss : 0.10009855830243655 \n",
      "\n",
      "Iteration 42/74 of epoch 19 complete. Loss : 0.10687952116131783 \n",
      "\n",
      "Iteration 56/74 of epoch 19 complete. Loss : 0.11339490807482175 \n"
     ]
    },
    {
     "output_type": "stream",
     "name": "stderr",
     "text": [
      "100%|██████████| 74/74 [00:00<00:00, 229.17it/s]\n",
      "100%|██████████| 19/19 [00:00<00:00, 185.86it/s]\n",
      "  0%|          | 0/74 [00:00<?, ?it/s]"
     ]
    },
    {
     "output_type": "stream",
     "name": "stdout",
     "text": [
      "\n",
      "Iteration 70/74 of epoch 19 complete. Loss : 0.10620785398142678 \n",
      "\n",
      "Epoch 19 complete! Validation Loss : 0.2322202505249726\n",
      "Epoch 19 complete! Validation Accuracy : 0.9062006578947369\n",
      "Best validation loss improved from 0.23341905757000572 to 0.2322202505249726\n",
      "\n"
     ]
    },
    {
     "output_type": "stream",
     "name": "stderr",
     "text": [
      " 55%|█████▌    | 41/74 [00:00<00:00, 206.47it/s]"
     ]
    },
    {
     "output_type": "stream",
     "name": "stdout",
     "text": [
      "\n",
      "Iteration 14/74 of epoch 20 complete. Loss : 0.11558280086943082 \n",
      "\n",
      "Iteration 28/74 of epoch 20 complete. Loss : 0.09917766015444483 \n",
      "\n",
      "Iteration 42/74 of epoch 20 complete. Loss : 0.10600708637918745 \n"
     ]
    },
    {
     "output_type": "stream",
     "name": "stderr",
     "text": [
      "100%|██████████| 74/74 [00:00<00:00, 213.64it/s]\n",
      "100%|██████████| 19/19 [00:00<00:00, 457.43it/s]\n",
      "  0%|          | 0/74 [00:00<?, ?it/s]"
     ]
    },
    {
     "output_type": "stream",
     "name": "stdout",
     "text": [
      "\n",
      "Iteration 56/74 of epoch 20 complete. Loss : 0.1124340391584805 \n",
      "\n",
      "Iteration 70/74 of epoch 20 complete. Loss : 0.10547550820878573 \n",
      "\n",
      "Epoch 20 complete! Validation Loss : 0.23126786868823201\n",
      "Epoch 20 complete! Validation Accuracy : 0.9078453947368421\n",
      "Best validation loss improved from 0.2322202505249726 to 0.23126786868823201\n",
      "\n"
     ]
    },
    {
     "output_type": "stream",
     "name": "stderr",
     "text": [
      " 43%|████▎     | 32/74 [00:00<00:00, 135.03it/s]"
     ]
    },
    {
     "output_type": "stream",
     "name": "stdout",
     "text": [
      "\n",
      "Iteration 14/74 of epoch 21 complete. Loss : 0.1147260671215398 \n",
      "\n",
      "Iteration 28/74 of epoch 21 complete. Loss : 0.09834490184273038 \n"
     ]
    },
    {
     "output_type": "stream",
     "name": "stderr",
     "text": [
      " 78%|███████▊  | 58/74 [00:00<00:00, 128.60it/s]"
     ]
    },
    {
     "output_type": "stream",
     "name": "stdout",
     "text": [
      "\n",
      "Iteration 42/74 of epoch 21 complete. Loss : 0.10514638093965394 \n",
      "\n",
      "Iteration 56/74 of epoch 21 complete. Loss : 0.11152507364749908 \n"
     ]
    },
    {
     "output_type": "stream",
     "name": "stderr",
     "text": [
      "100%|██████████| 74/74 [00:00<00:00, 128.95it/s]\n",
      "100%|██████████| 19/19 [00:00<00:00, 167.60it/s]"
     ]
    },
    {
     "output_type": "stream",
     "name": "stdout",
     "text": [
      "\n",
      "Iteration 70/74 of epoch 21 complete. Loss : 0.10476227530411311 \n"
     ]
    },
    {
     "output_type": "stream",
     "name": "stderr",
     "text": [
      "\n",
      " 30%|██▉       | 22/74 [00:00<00:00, 204.24it/s]"
     ]
    },
    {
     "output_type": "stream",
     "name": "stdout",
     "text": [
      "\n",
      "Epoch 21 complete! Validation Loss : 0.23022803272071637\n",
      "Epoch 21 complete! Validation Accuracy : 0.9082565789473684\n",
      "Best validation loss improved from 0.23126786868823201 to 0.23022803272071637\n",
      "\n",
      "\n",
      "Iteration 14/74 of epoch 22 complete. Loss : 0.11382548244936126 \n",
      "\n",
      "Iteration 28/74 of epoch 22 complete. Loss : 0.0974353099507945 \n"
     ]
    },
    {
     "output_type": "stream",
     "name": "stderr",
     "text": [
      " 80%|███████▉  | 59/74 [00:00<00:00, 133.85it/s]"
     ]
    },
    {
     "output_type": "stream",
     "name": "stdout",
     "text": [
      "\n",
      "Iteration 42/74 of epoch 22 complete. Loss : 0.10419716207044465 \n",
      "\n",
      "Iteration 56/74 of epoch 22 complete. Loss : 0.11061749713761466 \n"
     ]
    },
    {
     "output_type": "stream",
     "name": "stderr",
     "text": [
      "100%|██████████| 74/74 [00:00<00:00, 138.11it/s]\n",
      "100%|██████████| 19/19 [00:00<00:00, 312.82it/s]\n",
      "  0%|          | 0/74 [00:00<?, ?it/s]"
     ]
    },
    {
     "output_type": "stream",
     "name": "stdout",
     "text": [
      "\n",
      "Iteration 70/74 of epoch 22 complete. Loss : 0.1041065204356398 \n",
      "\n",
      "Epoch 22 complete! Validation Loss : 0.22914431440202812\n",
      "Epoch 22 complete! Validation Accuracy : 0.9078453947368421\n",
      "Best validation loss improved from 0.23022803272071637 to 0.22914431440202812\n",
      "\n"
     ]
    },
    {
     "output_type": "stream",
     "name": "stderr",
     "text": [
      " 68%|██████▊   | 50/74 [00:00<00:00, 249.55it/s]"
     ]
    },
    {
     "output_type": "stream",
     "name": "stdout",
     "text": [
      "\n",
      "Iteration 14/74 of epoch 23 complete. Loss : 0.1129617483488151 \n",
      "\n",
      "Iteration 28/74 of epoch 23 complete. Loss : 0.09658944766436305 \n",
      "\n",
      "Iteration 42/74 of epoch 23 complete. Loss : 0.10332322706069265 \n",
      "\n",
      "Iteration 56/74 of epoch 23 complete. Loss : 0.10972320341638156 \n"
     ]
    },
    {
     "output_type": "stream",
     "name": "stderr",
     "text": [
      "100%|██████████| 74/74 [00:00<00:00, 226.18it/s]\n",
      "100%|██████████| 19/19 [00:00<00:00, 202.17it/s]\n"
     ]
    },
    {
     "output_type": "stream",
     "name": "stdout",
     "text": [
      "\n",
      "Iteration 70/74 of epoch 23 complete. Loss : 0.10342279449105263 \n"
     ]
    },
    {
     "output_type": "stream",
     "name": "stderr",
     "text": [
      " 26%|██▌       | 19/74 [00:00<00:00, 184.96it/s]"
     ]
    },
    {
     "output_type": "stream",
     "name": "stdout",
     "text": [
      "\n",
      "Epoch 23 complete! Validation Loss : 0.22829029120896993\n",
      "Epoch 23 complete! Validation Accuracy : 0.9070230263157896\n",
      "Best validation loss improved from 0.22914431440202812 to 0.22829029120896993\n",
      "\n",
      "\n",
      "Iteration 14/74 of epoch 24 complete. Loss : 0.11215500799672944 \n"
     ]
    },
    {
     "output_type": "stream",
     "name": "stderr",
     "text": [
      " 55%|█████▌    | 41/74 [00:00<00:00, 127.14it/s]"
     ]
    },
    {
     "output_type": "stream",
     "name": "stdout",
     "text": [
      "\n",
      "Iteration 28/74 of epoch 24 complete. Loss : 0.09573870045798165 \n",
      "\n",
      "Iteration 42/74 of epoch 24 complete. Loss : 0.10246478234018598 \n"
     ]
    },
    {
     "output_type": "stream",
     "name": "stderr",
     "text": [
      "100%|██████████| 74/74 [00:00<00:00, 101.69it/s]\n",
      "100%|██████████| 19/19 [00:00<00:00, 403.62it/s]\n",
      "  0%|          | 0/74 [00:00<?, ?it/s]"
     ]
    },
    {
     "output_type": "stream",
     "name": "stdout",
     "text": [
      "\n",
      "Iteration 56/74 of epoch 24 complete. Loss : 0.10878533124923706 \n",
      "\n",
      "Iteration 70/74 of epoch 24 complete. Loss : 0.1027108830000673 \n",
      "\n",
      "Epoch 24 complete! Validation Loss : 0.22745578696853236\n",
      "Epoch 24 complete! Validation Accuracy : 0.9074342105263158\n",
      "Best validation loss improved from 0.22829029120896993 to 0.22745578696853236\n",
      "\n"
     ]
    },
    {
     "output_type": "stream",
     "name": "stderr",
     "text": [
      " 61%|██████    | 45/74 [00:00<00:00, 228.32it/s]"
     ]
    },
    {
     "output_type": "stream",
     "name": "stdout",
     "text": [
      "\n",
      "Iteration 14/74 of epoch 25 complete. Loss : 0.11130885513765472 \n",
      "\n",
      "Iteration 28/74 of epoch 25 complete. Loss : 0.09495779605848449 \n",
      "\n",
      "Iteration 42/74 of epoch 25 complete. Loss : 0.10164307377168111 \n"
     ]
    },
    {
     "output_type": "stream",
     "name": "stderr",
     "text": [
      "100%|██████████| 74/74 [00:00<00:00, 178.39it/s]\n",
      "  0%|          | 0/19 [00:00<?, ?it/s]"
     ]
    },
    {
     "output_type": "stream",
     "name": "stdout",
     "text": [
      "\n",
      "Iteration 56/74 of epoch 25 complete. Loss : 0.10785022058657237 \n",
      "\n",
      "Iteration 70/74 of epoch 25 complete. Loss : 0.101984885388187 \n"
     ]
    },
    {
     "output_type": "stream",
     "name": "stderr",
     "text": [
      "100%|██████████| 19/19 [00:00<00:00, 219.69it/s]\n",
      " 22%|██▏       | 16/74 [00:00<00:00, 157.49it/s]"
     ]
    },
    {
     "output_type": "stream",
     "name": "stdout",
     "text": [
      "\n",
      "Epoch 25 complete! Validation Loss : 0.22656178944989255\n",
      "Epoch 25 complete! Validation Accuracy : 0.9078453947368421\n",
      "Best validation loss improved from 0.22745578696853236 to 0.22656178944989255\n",
      "\n",
      "\n",
      "Iteration 14/74 of epoch 26 complete. Loss : 0.11045342364481517 \n",
      "\n",
      "Iteration 28/74 of epoch 26 complete. Loss : 0.09417025478822845 \n"
     ]
    },
    {
     "output_type": "stream",
     "name": "stderr",
     "text": [
      "100%|██████████| 74/74 [00:00<00:00, 220.08it/s]\n",
      "  0%|          | 0/19 [00:00<?, ?it/s]"
     ]
    },
    {
     "output_type": "stream",
     "name": "stdout",
     "text": [
      "\n",
      "Iteration 42/74 of epoch 26 complete. Loss : 0.1007964935685907 \n",
      "\n",
      "Iteration 56/74 of epoch 26 complete. Loss : 0.10696255575333323 \n",
      "\n",
      "Iteration 70/74 of epoch 26 complete. Loss : 0.10129467690629619 \n"
     ]
    },
    {
     "output_type": "stream",
     "name": "stderr",
     "text": [
      "100%|██████████| 19/19 [00:00<00:00, 197.68it/s]\n",
      " 28%|██▊       | 21/74 [00:00<00:00, 207.75it/s]"
     ]
    },
    {
     "output_type": "stream",
     "name": "stdout",
     "text": [
      "\n",
      "Epoch 26 complete! Validation Loss : 0.22582163387223295\n",
      "Epoch 26 complete! Validation Accuracy : 0.9078453947368421\n",
      "Best validation loss improved from 0.22656178944989255 to 0.22582163387223295\n",
      "\n",
      "\n",
      "Iteration 14/74 of epoch 27 complete. Loss : 0.10966079522456441 \n",
      "\n",
      "Iteration 28/74 of epoch 27 complete. Loss : 0.09344867350799697 \n"
     ]
    },
    {
     "output_type": "stream",
     "name": "stderr",
     "text": [
      "100%|██████████| 74/74 [00:00<00:00, 169.07it/s]\n",
      "  0%|          | 0/19 [00:00<?, ?it/s]"
     ]
    },
    {
     "output_type": "stream",
     "name": "stdout",
     "text": [
      "\n",
      "Iteration 42/74 of epoch 27 complete. Loss : 0.10001640553985323 \n",
      "\n",
      "Iteration 56/74 of epoch 27 complete. Loss : 0.10612762133990016 \n",
      "\n",
      "Iteration 70/74 of epoch 27 complete. Loss : 0.10059584145035062 \n"
     ]
    },
    {
     "output_type": "stream",
     "name": "stderr",
     "text": [
      "100%|██████████| 19/19 [00:00<00:00, 398.96it/s]\n",
      " 18%|█▊        | 13/74 [00:00<00:00, 114.49it/s]"
     ]
    },
    {
     "output_type": "stream",
     "name": "stdout",
     "text": [
      "\n",
      "Epoch 27 complete! Validation Loss : 0.225134308400907\n",
      "Epoch 27 complete! Validation Accuracy : 0.9090789473684211\n",
      "Best validation loss improved from 0.22582163387223295 to 0.225134308400907\n",
      "\n",
      "\n",
      "Iteration 14/74 of epoch 28 complete. Loss : 0.1089444203036172 \n"
     ]
    },
    {
     "output_type": "stream",
     "name": "stderr",
     "text": [
      " 49%|████▊     | 36/74 [00:00<00:00, 93.57it/s] "
     ]
    },
    {
     "output_type": "stream",
     "name": "stdout",
     "text": [
      "\n",
      "Iteration 28/74 of epoch 28 complete. Loss : 0.09274601670248168 \n"
     ]
    },
    {
     "output_type": "stream",
     "name": "stderr",
     "text": [
      "100%|██████████| 74/74 [00:00<00:00, 133.64it/s]\n",
      "  0%|          | 0/19 [00:00<?, ?it/s]"
     ]
    },
    {
     "output_type": "stream",
     "name": "stdout",
     "text": [
      "\n",
      "Iteration 42/74 of epoch 28 complete. Loss : 0.0992595734340804 \n",
      "\n",
      "Iteration 56/74 of epoch 28 complete. Loss : 0.10527888685464859 \n",
      "\n",
      "Iteration 70/74 of epoch 28 complete. Loss : 0.09993959085217544 \n"
     ]
    },
    {
     "output_type": "stream",
     "name": "stderr",
     "text": [
      "100%|██████████| 19/19 [00:00<00:00, 136.07it/s]\n",
      " 34%|███▍      | 25/74 [00:00<00:00, 244.84it/s]"
     ]
    },
    {
     "output_type": "stream",
     "name": "stdout",
     "text": [
      "\n",
      "Epoch 28 complete! Validation Loss : 0.2244536657082407\n",
      "Epoch 28 complete! Validation Accuracy : 0.9086677631578948\n",
      "Best validation loss improved from 0.225134308400907 to 0.2244536657082407\n",
      "\n",
      "\n",
      "Iteration 14/74 of epoch 29 complete. Loss : 0.10823173874190875 \n",
      "\n",
      "Iteration 28/74 of epoch 29 complete. Loss : 0.09204743163926261 \n",
      "\n",
      "Iteration 42/74 of epoch 29 complete. Loss : 0.09852348161595208 \n"
     ]
    },
    {
     "output_type": "stream",
     "name": "stderr",
     "text": [
      "100%|██████████| 74/74 [00:00<00:00, 158.96it/s]\n",
      "  0%|          | 0/19 [00:00<?, ?it/s]"
     ]
    },
    {
     "output_type": "stream",
     "name": "stdout",
     "text": [
      "\n",
      "Iteration 56/74 of epoch 29 complete. Loss : 0.10439433742846761 \n",
      "\n",
      "Iteration 70/74 of epoch 29 complete. Loss : 0.09924351370760373 \n"
     ]
    },
    {
     "output_type": "stream",
     "name": "stderr",
     "text": [
      "100%|██████████| 19/19 [00:00<00:00, 207.28it/s]\n",
      " 22%|██▏       | 16/74 [00:00<00:00, 155.16it/s]"
     ]
    },
    {
     "output_type": "stream",
     "name": "stdout",
     "text": [
      "\n",
      "Epoch 29 complete! Validation Loss : 0.22368238395766207\n",
      "Epoch 29 complete! Validation Accuracy : 0.9094901315789474\n",
      "Best validation loss improved from 0.2244536657082407 to 0.22368238395766207\n",
      "\n",
      "\n",
      "Iteration 14/74 of epoch 30 complete. Loss : 0.1074514202773571 \n"
     ]
    },
    {
     "output_type": "stream",
     "name": "stderr",
     "text": [
      " 53%|█████▎    | 39/74 [00:00<00:00, 121.15it/s]"
     ]
    },
    {
     "output_type": "stream",
     "name": "stdout",
     "text": [
      "\n",
      "Iteration 28/74 of epoch 30 complete. Loss : 0.09131227646555219 \n",
      "\n",
      "Iteration 42/74 of epoch 30 complete. Loss : 0.09776876228196281 \n"
     ]
    },
    {
     "output_type": "stream",
     "name": "stderr",
     "text": [
      "100%|██████████| 74/74 [00:00<00:00, 139.01it/s]\n",
      "100%|██████████| 19/19 [00:00<00:00, 403.68it/s]\n",
      "  0%|          | 0/74 [00:00<?, ?it/s]"
     ]
    },
    {
     "output_type": "stream",
     "name": "stdout",
     "text": [
      "\n",
      "Iteration 56/74 of epoch 30 complete. Loss : 0.10345822146960668 \n",
      "\n",
      "Iteration 70/74 of epoch 30 complete. Loss : 0.09847596952957767 \n",
      "\n",
      "Epoch 30 complete! Validation Loss : 0.22295465202707992\n",
      "Epoch 30 complete! Validation Accuracy : 0.9094901315789474\n",
      "Best validation loss improved from 0.22368238395766207 to 0.22295465202707992\n",
      "\n"
     ]
    },
    {
     "output_type": "stream",
     "name": "stderr",
     "text": [
      " 59%|█████▉    | 44/74 [00:00<00:00, 225.11it/s]"
     ]
    },
    {
     "output_type": "stream",
     "name": "stdout",
     "text": [
      "\n",
      "Iteration 14/74 of epoch 31 complete. Loss : 0.10668684701834406 \n",
      "\n",
      "Iteration 28/74 of epoch 31 complete. Loss : 0.09056758162166391 \n",
      "\n",
      "Iteration 42/74 of epoch 31 complete. Loss : 0.09701233357191086 \n"
     ]
    },
    {
     "output_type": "stream",
     "name": "stderr",
     "text": [
      "100%|██████████| 74/74 [00:00<00:00, 191.52it/s]\n",
      "100%|██████████| 19/19 [00:00<00:00, 339.82it/s]"
     ]
    },
    {
     "output_type": "stream",
     "name": "stdout",
     "text": [
      "\n",
      "Iteration 56/74 of epoch 31 complete. Loss : 0.10262966262442726 \n",
      "\n",
      "Iteration 70/74 of epoch 31 complete. Loss : 0.09771010359483105 \n"
     ]
    },
    {
     "output_type": "stream",
     "name": "stderr",
     "text": [
      "\n",
      " 31%|███       | 23/74 [00:00<00:00, 224.70it/s]"
     ]
    },
    {
     "output_type": "stream",
     "name": "stdout",
     "text": [
      "\n",
      "Epoch 31 complete! Validation Loss : 0.22213690061318248\n",
      "Epoch 31 complete! Validation Accuracy : 0.9094901315789474\n",
      "Best validation loss improved from 0.22295465202707992 to 0.22213690061318248\n",
      "\n",
      "\n",
      "Iteration 14/74 of epoch 32 complete. Loss : 0.10592536149280411 \n",
      "\n",
      "Iteration 28/74 of epoch 32 complete. Loss : 0.0897368381598166 \n"
     ]
    },
    {
     "output_type": "stream",
     "name": "stderr",
     "text": [
      "100%|██████████| 74/74 [00:00<00:00, 214.31it/s]\n",
      "100%|██████████| 19/19 [00:00<00:00, 397.60it/s]\n"
     ]
    },
    {
     "output_type": "stream",
     "name": "stdout",
     "text": [
      "\n",
      "Iteration 42/74 of epoch 32 complete. Loss : 0.0962518687759127 \n",
      "\n",
      "Iteration 56/74 of epoch 32 complete. Loss : 0.10181533598474093 \n",
      "\n",
      "Iteration 70/74 of epoch 32 complete. Loss : 0.09691720056746687 \n"
     ]
    },
    {
     "output_type": "stream",
     "name": "stderr",
     "text": [
      " 16%|█▌        | 12/74 [00:00<00:00, 118.90it/s]"
     ]
    },
    {
     "output_type": "stream",
     "name": "stdout",
     "text": [
      "\n",
      "Epoch 32 complete! Validation Loss : 0.22134425059745186\n",
      "Epoch 32 complete! Validation Accuracy : 0.9103125000000001\n",
      "Best validation loss improved from 0.22213690061318248 to 0.22134425059745186\n",
      "\n",
      "\n",
      "Iteration 14/74 of epoch 33 complete. Loss : 0.10511911766869682 \n",
      "\n",
      "Iteration 28/74 of epoch 33 complete. Loss : 0.08905624199126448 \n"
     ]
    },
    {
     "output_type": "stream",
     "name": "stderr",
     "text": [
      " 88%|████████▊ | 65/74 [00:00<00:00, 117.79it/s]"
     ]
    },
    {
     "output_type": "stream",
     "name": "stdout",
     "text": [
      "\n",
      "Iteration 42/74 of epoch 33 complete. Loss : 0.09532668122223445 \n",
      "\n",
      "Iteration 56/74 of epoch 33 complete. Loss : 0.10085113985197884 \n"
     ]
    },
    {
     "output_type": "stream",
     "name": "stderr",
     "text": [
      "100%|██████████| 74/74 [00:00<00:00, 126.75it/s]\n",
      "100%|██████████| 19/19 [00:00<00:00, 150.91it/s]\n"
     ]
    },
    {
     "output_type": "stream",
     "name": "stdout",
     "text": [
      "\n",
      "Iteration 70/74 of epoch 33 complete. Loss : 0.09614973089524678 \n"
     ]
    },
    {
     "output_type": "stream",
     "name": "stderr",
     "text": [
      " 26%|██▌       | 19/74 [00:00<00:00, 167.65it/s]"
     ]
    },
    {
     "output_type": "stream",
     "name": "stdout",
     "text": [
      "\n",
      "Epoch 33 complete! Validation Loss : 0.22075581315316653\n",
      "Epoch 33 complete! Validation Accuracy : 0.9099013157894738\n",
      "Best validation loss improved from 0.22134425059745186 to 0.22075581315316653\n",
      "\n",
      "\n",
      "Iteration 14/74 of epoch 34 complete. Loss : 0.10429471624749047 \n"
     ]
    },
    {
     "output_type": "stream",
     "name": "stderr",
     "text": [
      " 61%|██████    | 45/74 [00:00<00:00, 99.14it/s] "
     ]
    },
    {
     "output_type": "stream",
     "name": "stdout",
     "text": [
      "\n",
      "Iteration 28/74 of epoch 34 complete. Loss : 0.08825243530528885 \n",
      "\n",
      "Iteration 42/74 of epoch 34 complete. Loss : 0.09450836639319148 \n"
     ]
    },
    {
     "output_type": "stream",
     "name": "stderr",
     "text": [
      "100%|██████████| 74/74 [00:00<00:00, 142.41it/s]\n",
      "100%|██████████| 19/19 [00:00<00:00, 461.67it/s]\n",
      "  0%|          | 0/74 [00:00<?, ?it/s]"
     ]
    },
    {
     "output_type": "stream",
     "name": "stdout",
     "text": [
      "\n",
      "Iteration 56/74 of epoch 34 complete. Loss : 0.09989364817738533 \n",
      "\n",
      "Iteration 70/74 of epoch 34 complete. Loss : 0.09535739996603557 \n",
      "\n",
      "Epoch 34 complete! Validation Loss : 0.2201211852462668\n",
      "Epoch 34 complete! Validation Accuracy : 0.9094901315789474\n",
      "Best validation loss improved from 0.22075581315316653 to 0.2201211852462668\n",
      "\n",
      "\n",
      "Iteration 14/74 of epoch 35 complete. Loss : 0.1035098492034844 \n"
     ]
    },
    {
     "output_type": "stream",
     "name": "stderr",
     "text": [
      " 76%|███████▌  | 56/74 [00:00<00:00, 277.55it/s]"
     ]
    },
    {
     "output_type": "stream",
     "name": "stdout",
     "text": [
      "\n",
      "Iteration 28/74 of epoch 35 complete. Loss : 0.08747787826827594 \n",
      "\n",
      "Iteration 42/74 of epoch 35 complete. Loss : 0.09369628770010811 \n",
      "\n",
      "Iteration 56/74 of epoch 35 complete. Loss : 0.09899155795574188 \n",
      "\n",
      "Iteration 70/74 of epoch 35 complete. Loss : 0.09457722998091153 \n"
     ]
    },
    {
     "output_type": "stream",
     "name": "stderr",
     "text": [
      "100%|██████████| 74/74 [00:00<00:00, 249.57it/s]\n",
      "100%|██████████| 19/19 [00:00<00:00, 255.77it/s]\n",
      " 24%|██▍       | 18/74 [00:00<00:00, 179.68it/s]"
     ]
    },
    {
     "output_type": "stream",
     "name": "stdout",
     "text": [
      "\n",
      "Epoch 35 complete! Validation Loss : 0.21974013275221774\n",
      "Epoch 35 complete! Validation Accuracy : 0.9090789473684211\n",
      "Best validation loss improved from 0.2201211852462668 to 0.21974013275221774\n",
      "\n",
      "\n",
      "Iteration 14/74 of epoch 36 complete. Loss : 0.10265579393931798 \n",
      "\n",
      "Iteration 28/74 of epoch 36 complete. Loss : 0.08672439067491464 \n"
     ]
    },
    {
     "output_type": "stream",
     "name": "stderr",
     "text": [
      " 66%|██████▌   | 49/74 [00:00<00:00, 121.57it/s]"
     ]
    },
    {
     "output_type": "stream",
     "name": "stdout",
     "text": [
      "\n",
      "Iteration 42/74 of epoch 36 complete. Loss : 0.09275673170174871 \n",
      "\n",
      "Iteration 56/74 of epoch 36 complete. Loss : 0.09802273660898209 \n"
     ]
    },
    {
     "output_type": "stream",
     "name": "stderr",
     "text": [
      "100%|██████████| 74/74 [00:00<00:00, 126.34it/s]\n",
      " 26%|██▋       | 5/19 [00:00<00:00, 49.64it/s]"
     ]
    },
    {
     "output_type": "stream",
     "name": "stdout",
     "text": [
      "\n",
      "Iteration 70/74 of epoch 36 complete. Loss : 0.09368484653532505 \n"
     ]
    },
    {
     "output_type": "stream",
     "name": "stderr",
     "text": [
      "100%|██████████| 19/19 [00:00<00:00, 114.58it/s]\n",
      " 36%|███▋      | 27/74 [00:00<00:00, 262.56it/s]"
     ]
    },
    {
     "output_type": "stream",
     "name": "stdout",
     "text": [
      "\n",
      "Epoch 36 complete! Validation Loss : 0.2189285331650784\n",
      "Epoch 36 complete! Validation Accuracy : 0.9090789473684211\n",
      "Best validation loss improved from 0.21974013275221774 to 0.2189285331650784\n",
      "\n",
      "\n",
      "Iteration 14/74 of epoch 37 complete. Loss : 0.10188569713916097 \n",
      "\n",
      "Iteration 28/74 of epoch 37 complete. Loss : 0.08571137647543635 \n",
      "\n",
      "Iteration 42/74 of epoch 37 complete. Loss : 0.09173078888228961 \n"
     ]
    },
    {
     "output_type": "stream",
     "name": "stderr",
     "text": [
      "100%|██████████| 74/74 [00:00<00:00, 229.25it/s]\n",
      "100%|██████████| 19/19 [00:00<00:00, 303.06it/s]\n"
     ]
    },
    {
     "output_type": "stream",
     "name": "stdout",
     "text": [
      "\n",
      "Iteration 56/74 of epoch 37 complete. Loss : 0.09719569129603249 \n",
      "\n",
      "Iteration 70/74 of epoch 37 complete. Loss : 0.09302813612989017 \n"
     ]
    },
    {
     "output_type": "stream",
     "name": "stderr",
     "text": [
      " 27%|██▋       | 20/74 [00:00<00:00, 189.95it/s]"
     ]
    },
    {
     "output_type": "stream",
     "name": "stdout",
     "text": [
      "\n",
      "Epoch 37 complete! Validation Loss : 0.21828788597332804\n",
      "Epoch 37 complete! Validation Accuracy : 0.9090789473684211\n",
      "Best validation loss improved from 0.2189285331650784 to 0.21828788597332804\n",
      "\n",
      "\n",
      "Iteration 14/74 of epoch 38 complete. Loss : 0.10098832260285105 \n",
      "\n",
      "Iteration 28/74 of epoch 38 complete. Loss : 0.08501185396952289 \n"
     ]
    },
    {
     "output_type": "stream",
     "name": "stderr",
     "text": [
      "100%|██████████| 74/74 [00:00<00:00, 185.81it/s]\n",
      "100%|██████████| 19/19 [00:00<00:00, 455.19it/s]"
     ]
    },
    {
     "output_type": "stream",
     "name": "stdout",
     "text": [
      "\n",
      "Iteration 42/74 of epoch 38 complete. Loss : 0.09102031322462219 \n",
      "\n",
      "Iteration 56/74 of epoch 38 complete. Loss : 0.09630440335188593 \n",
      "\n",
      "Iteration 70/74 of epoch 38 complete. Loss : 0.09218961133488587 \n"
     ]
    },
    {
     "output_type": "stream",
     "name": "stderr",
     "text": [
      "\n",
      " 24%|██▍       | 18/74 [00:00<00:00, 179.19it/s]"
     ]
    },
    {
     "output_type": "stream",
     "name": "stdout",
     "text": [
      "\n",
      "Epoch 38 complete! Validation Loss : 0.21784151541559318\n",
      "Epoch 38 complete! Validation Accuracy : 0.9082565789473684\n",
      "Best validation loss improved from 0.21828788597332804 to 0.21784151541559318\n",
      "\n",
      "\n",
      "Iteration 14/74 of epoch 39 complete. Loss : 0.10017165328775134 \n",
      "\n",
      "Iteration 28/74 of epoch 39 complete. Loss : 0.0841097291558981 \n"
     ]
    },
    {
     "output_type": "stream",
     "name": "stderr",
     "text": [
      "100%|██████████| 74/74 [00:00<00:00, 173.00it/s]\n",
      "  0%|          | 0/19 [00:00<?, ?it/s]"
     ]
    },
    {
     "output_type": "stream",
     "name": "stdout",
     "text": [
      "\n",
      "Iteration 42/74 of epoch 39 complete. Loss : 0.09009659849107265 \n",
      "\n",
      "Iteration 56/74 of epoch 39 complete. Loss : 0.09550718643835612 \n",
      "\n",
      "Iteration 70/74 of epoch 39 complete. Loss : 0.09145913938326496 \n"
     ]
    },
    {
     "output_type": "stream",
     "name": "stderr",
     "text": [
      "100%|██████████| 19/19 [00:00<00:00, 230.67it/s]\n",
      " 26%|██▌       | 19/74 [00:00<00:00, 184.36it/s]"
     ]
    },
    {
     "output_type": "stream",
     "name": "stdout",
     "text": [
      "\n",
      "Epoch 39 complete! Validation Loss : 0.21708840367041135\n",
      "Epoch 39 complete! Validation Accuracy : 0.9090789473684211\n",
      "Best validation loss improved from 0.21784151541559318 to 0.21708840367041135\n",
      "\n",
      "\n",
      "Iteration 14/74 of epoch 40 complete. Loss : 0.0992899728672845 \n"
     ]
    },
    {
     "output_type": "stream",
     "name": "stderr",
     "text": [
      " 57%|█████▋    | 42/74 [00:00<00:00, 133.37it/s]"
     ]
    },
    {
     "output_type": "stream",
     "name": "stdout",
     "text": [
      "\n",
      "Iteration 28/74 of epoch 40 complete. Loss : 0.08322890688266073 \n",
      "\n",
      "Iteration 42/74 of epoch 40 complete. Loss : 0.08930213217224393 \n"
     ]
    },
    {
     "output_type": "stream",
     "name": "stderr",
     "text": [
      "100%|██████████| 74/74 [00:00<00:00, 87.42it/s]\n",
      "100%|██████████| 19/19 [00:00<00:00, 269.80it/s]"
     ]
    },
    {
     "output_type": "stream",
     "name": "stdout",
     "text": [
      "\n",
      "Iteration 56/74 of epoch 40 complete. Loss : 0.0945891487811293 \n",
      "\n",
      "Iteration 70/74 of epoch 40 complete. Loss : 0.09060836769640446 \n"
     ]
    },
    {
     "output_type": "stream",
     "name": "stderr",
     "text": [
      "\n",
      " 30%|██▉       | 22/74 [00:00<00:00, 219.07it/s]"
     ]
    },
    {
     "output_type": "stream",
     "name": "stdout",
     "text": [
      "\n",
      "Epoch 40 complete! Validation Loss : 0.21630880158198507\n",
      "Epoch 40 complete! Validation Accuracy : 0.9086677631578948\n",
      "Best validation loss improved from 0.21708840367041135 to 0.21630880158198507\n",
      "\n",
      "\n",
      "Iteration 14/74 of epoch 41 complete. Loss : 0.09833177125879697 \n",
      "\n",
      "Iteration 28/74 of epoch 41 complete. Loss : 0.08235898773585047 \n"
     ]
    },
    {
     "output_type": "stream",
     "name": "stderr",
     "text": [
      "100%|██████████| 74/74 [00:00<00:00, 164.28it/s]\n",
      "  0%|          | 0/19 [00:00<?, ?it/s]"
     ]
    },
    {
     "output_type": "stream",
     "name": "stdout",
     "text": [
      "\n",
      "Iteration 42/74 of epoch 41 complete. Loss : 0.08839846109705311 \n",
      "\n",
      "Iteration 56/74 of epoch 41 complete. Loss : 0.09373602750045913 \n",
      "\n",
      "Iteration 70/74 of epoch 41 complete. Loss : 0.08986413079713072 \n"
     ]
    },
    {
     "output_type": "stream",
     "name": "stderr",
     "text": [
      "100%|██████████| 19/19 [00:00<00:00, 310.22it/s]\n",
      " 16%|█▌        | 12/74 [00:00<00:00, 115.05it/s]"
     ]
    },
    {
     "output_type": "stream",
     "name": "stdout",
     "text": [
      "\n",
      "Epoch 41 complete! Validation Loss : 0.2156709926693063\n",
      "Epoch 41 complete! Validation Accuracy : 0.9086677631578948\n",
      "Best validation loss improved from 0.21630880158198507 to 0.2156709926693063\n",
      "\n",
      "\n",
      "Iteration 14/74 of epoch 42 complete. Loss : 0.09747043305209704 \n"
     ]
    },
    {
     "output_type": "stream",
     "name": "stderr",
     "text": [
      " 51%|█████▏    | 38/74 [00:00<00:00, 86.29it/s]"
     ]
    },
    {
     "output_type": "stream",
     "name": "stdout",
     "text": [
      "\n",
      "Iteration 28/74 of epoch 42 complete. Loss : 0.08153048184301172 \n",
      "\n",
      "Iteration 42/74 of epoch 42 complete. Loss : 0.08761591517499515 \n"
     ]
    },
    {
     "output_type": "stream",
     "name": "stderr",
     "text": [
      "100%|██████████| 74/74 [00:00<00:00, 130.23it/s]\n",
      "100%|██████████| 19/19 [00:00<00:00, 479.77it/s]\n",
      "  0%|          | 0/74 [00:00<?, ?it/s]"
     ]
    },
    {
     "output_type": "stream",
     "name": "stdout",
     "text": [
      "\n",
      "Iteration 56/74 of epoch 42 complete. Loss : 0.09284818624811512 \n",
      "\n",
      "Iteration 70/74 of epoch 42 complete. Loss : 0.08912497998348304 \n",
      "\n",
      "Epoch 42 complete! Validation Loss : 0.2150365357336245\n",
      "Epoch 42 complete! Validation Accuracy : 0.9086677631578948\n",
      "Best validation loss improved from 0.2156709926693063 to 0.2150365357336245\n",
      "\n"
     ]
    },
    {
     "output_type": "stream",
     "name": "stderr",
     "text": [
      " 57%|█████▋    | 42/74 [00:00<00:00, 186.32it/s]"
     ]
    },
    {
     "output_type": "stream",
     "name": "stdout",
     "text": [
      "\n",
      "Iteration 14/74 of epoch 43 complete. Loss : 0.09659131616353989 \n",
      "\n",
      "Iteration 28/74 of epoch 43 complete. Loss : 0.08073443227580615 \n",
      "\n",
      "Iteration 42/74 of epoch 43 complete. Loss : 0.0867703908256122 \n"
     ]
    },
    {
     "output_type": "stream",
     "name": "stderr",
     "text": [
      "100%|██████████| 74/74 [00:00<00:00, 180.25it/s]\n",
      "100%|██████████| 19/19 [00:00<00:00, 440.82it/s]"
     ]
    },
    {
     "output_type": "stream",
     "name": "stdout",
     "text": [
      "\n",
      "Iteration 56/74 of epoch 43 complete. Loss : 0.09201172020818506 \n",
      "\n",
      "Iteration 70/74 of epoch 43 complete. Loss : 0.08833230632756438 \n",
      "\n",
      "Epoch 43 complete! Validation Loss : 0.21433764068703903\n",
      "Epoch 43 complete! Validation Accuracy : 0.9067927631578948\n",
      "Best validation loss improved from 0.2150365357336245 to 0.21433764068703903\n",
      "\n"
     ]
    },
    {
     "output_type": "stream",
     "name": "stderr",
     "text": [
      "\n",
      " 59%|█████▉    | 44/74 [00:00<00:00, 201.55it/s]"
     ]
    },
    {
     "output_type": "stream",
     "name": "stdout",
     "text": [
      "\n",
      "Iteration 14/74 of epoch 44 complete. Loss : 0.09574026295116969 \n",
      "\n",
      "Iteration 28/74 of epoch 44 complete. Loss : 0.07990049783672605 \n",
      "\n",
      "Iteration 42/74 of epoch 44 complete. Loss : 0.08596021708633218 \n",
      "\n",
      "Iteration 56/74 of epoch 44 complete. Loss : 0.09113428289336818 \n"
     ]
    },
    {
     "output_type": "stream",
     "name": "stderr",
     "text": [
      "100%|██████████| 74/74 [00:00<00:00, 221.79it/s]\n",
      "100%|██████████| 19/19 [00:00<00:00, 186.78it/s]\n"
     ]
    },
    {
     "output_type": "stream",
     "name": "stdout",
     "text": [
      "\n",
      "Iteration 70/74 of epoch 44 complete. Loss : 0.08758733714265483 \n"
     ]
    },
    {
     "output_type": "stream",
     "name": "stderr",
     "text": [
      " 15%|█▍        | 11/74 [00:00<00:00, 106.31it/s]"
     ]
    },
    {
     "output_type": "stream",
     "name": "stdout",
     "text": [
      "\n",
      "Epoch 44 complete! Validation Loss : 0.2137378587534553\n",
      "Epoch 44 complete! Validation Accuracy : 0.9072039473684211\n",
      "Best validation loss improved from 0.21433764068703903 to 0.2137378587534553\n",
      "\n",
      "\n",
      "Iteration 14/74 of epoch 45 complete. Loss : 0.09480993822216988 \n"
     ]
    },
    {
     "output_type": "stream",
     "name": "stderr",
     "text": [
      " 73%|███████▎  | 54/74 [00:00<00:00, 127.65it/s]"
     ]
    },
    {
     "output_type": "stream",
     "name": "stdout",
     "text": [
      "\n",
      "Iteration 28/74 of epoch 45 complete. Loss : 0.07912802616400379 \n",
      "\n",
      "Iteration 42/74 of epoch 45 complete. Loss : 0.08512233862919467 \n",
      "\n",
      "Iteration 56/74 of epoch 45 complete. Loss : 0.09029874737773623 \n"
     ]
    },
    {
     "output_type": "stream",
     "name": "stderr",
     "text": [
      "100%|██████████| 74/74 [00:00<00:00, 150.94it/s]\n",
      "100%|██████████| 19/19 [00:00<00:00, 208.37it/s]\n"
     ]
    },
    {
     "output_type": "stream",
     "name": "stdout",
     "text": [
      "\n",
      "Iteration 70/74 of epoch 45 complete. Loss : 0.08686269207724504 \n"
     ]
    },
    {
     "output_type": "stream",
     "name": "stderr",
     "text": [
      " 23%|██▎       | 17/74 [00:00<00:00, 147.43it/s]"
     ]
    },
    {
     "output_type": "stream",
     "name": "stdout",
     "text": [
      "\n",
      "Epoch 45 complete! Validation Loss : 0.21312748366280607\n",
      "Epoch 45 complete! Validation Accuracy : 0.9076151315789475\n",
      "Best validation loss improved from 0.2137378587534553 to 0.21312748366280607\n",
      "\n",
      "\n",
      "Iteration 14/74 of epoch 46 complete. Loss : 0.09390497846262795 \n"
     ]
    },
    {
     "output_type": "stream",
     "name": "stderr",
     "text": [
      " 77%|███████▋  | 57/74 [00:00<00:00, 112.08it/s]"
     ]
    },
    {
     "output_type": "stream",
     "name": "stdout",
     "text": [
      "\n",
      "Iteration 28/74 of epoch 46 complete. Loss : 0.0783728225422757 \n",
      "\n",
      "Iteration 42/74 of epoch 46 complete. Loss : 0.08431997975068432 \n",
      "\n",
      "Iteration 56/74 of epoch 46 complete. Loss : 0.08949154508965355 \n",
      "\n",
      "Iteration 70/74 of epoch 46 complete. Loss : 0.08614685546074595 \n"
     ]
    },
    {
     "output_type": "stream",
     "name": "stderr",
     "text": [
      "100%|██████████| 74/74 [00:00<00:00, 140.60it/s]\n",
      "100%|██████████| 19/19 [00:00<00:00, 238.64it/s]\n",
      " 32%|███▏      | 24/74 [00:00<00:00, 198.77it/s]"
     ]
    },
    {
     "output_type": "stream",
     "name": "stdout",
     "text": [
      "\n",
      "Epoch 46 complete! Validation Loss : 0.21245446330622622\n",
      "Epoch 46 complete! Validation Accuracy : 0.9076151315789475\n",
      "Best validation loss improved from 0.21312748366280607 to 0.21245446330622622\n",
      "\n",
      "\n",
      "Iteration 14/74 of epoch 47 complete. Loss : 0.09296747403485435 \n",
      "\n",
      "Iteration 28/74 of epoch 47 complete. Loss : 0.07759261157895837 \n"
     ]
    },
    {
     "output_type": "stream",
     "name": "stderr",
     "text": [
      " 78%|███████▊  | 58/74 [00:00<00:00, 169.11it/s]"
     ]
    },
    {
     "output_type": "stream",
     "name": "stdout",
     "text": [
      "\n",
      "Iteration 42/74 of epoch 47 complete. Loss : 0.08353635136570249 \n",
      "\n",
      "Iteration 56/74 of epoch 47 complete. Loss : 0.08875004574656487 \n"
     ]
    },
    {
     "output_type": "stream",
     "name": "stderr",
     "text": [
      "100%|██████████| 74/74 [00:00<00:00, 153.59it/s]\n",
      "100%|██████████| 19/19 [00:00<00:00, 130.20it/s]"
     ]
    },
    {
     "output_type": "stream",
     "name": "stdout",
     "text": [
      "\n",
      "Iteration 70/74 of epoch 47 complete. Loss : 0.0853793304413557 \n"
     ]
    },
    {
     "output_type": "stream",
     "name": "stderr",
     "text": [
      "\n",
      " 16%|█▌        | 12/74 [00:00<00:00, 101.58it/s]"
     ]
    },
    {
     "output_type": "stream",
     "name": "stdout",
     "text": [
      "\n",
      "Epoch 47 complete! Validation Loss : 0.2117315577833276\n",
      "Epoch 47 complete! Validation Accuracy : 0.9084375000000001\n",
      "Best validation loss improved from 0.21245446330622622 to 0.2117315577833276\n",
      "\n",
      "\n",
      "Iteration 14/74 of epoch 48 complete. Loss : 0.09206304539527212 \n"
     ]
    },
    {
     "output_type": "stream",
     "name": "stderr",
     "text": [
      "100%|██████████| 74/74 [00:00<00:00, 134.71it/s]\n",
      "  0%|          | 0/19 [00:00<?, ?it/s]"
     ]
    },
    {
     "output_type": "stream",
     "name": "stdout",
     "text": [
      "\n",
      "Iteration 28/74 of epoch 48 complete. Loss : 0.07683010080030986 \n",
      "\n",
      "Iteration 42/74 of epoch 48 complete. Loss : 0.08270381231393133 \n",
      "\n",
      "Iteration 56/74 of epoch 48 complete. Loss : 0.08795789735657829 \n",
      "\n",
      "Iteration 70/74 of epoch 48 complete. Loss : 0.08462692770574774 \n"
     ]
    },
    {
     "output_type": "stream",
     "name": "stderr",
     "text": [
      "100%|██████████| 19/19 [00:00<00:00, 245.25it/s]\n",
      " 27%|██▋       | 20/74 [00:00<00:00, 194.87it/s]"
     ]
    },
    {
     "output_type": "stream",
     "name": "stdout",
     "text": [
      "\n",
      "Epoch 48 complete! Validation Loss : 0.2110617458820343\n",
      "Epoch 48 complete! Validation Accuracy : 0.9100822368421053\n",
      "Best validation loss improved from 0.2117315577833276 to 0.2110617458820343\n",
      "\n",
      "\n",
      "Iteration 14/74 of epoch 49 complete. Loss : 0.09119927936366626 \n",
      "\n",
      "Iteration 28/74 of epoch 49 complete. Loss : 0.07606621672000204 \n"
     ]
    },
    {
     "output_type": "stream",
     "name": "stderr",
     "text": [
      " 86%|████████▋ | 64/74 [00:00<00:00, 157.53it/s]"
     ]
    },
    {
     "output_type": "stream",
     "name": "stdout",
     "text": [
      "\n",
      "Iteration 42/74 of epoch 49 complete. Loss : 0.08190336131623813 \n",
      "\n",
      "Iteration 56/74 of epoch 49 complete. Loss : 0.08709392749837466 \n",
      "\n",
      "Iteration 70/74 of epoch 49 complete. Loss : 0.08387240740869727 \n"
     ]
    },
    {
     "output_type": "stream",
     "name": "stderr",
     "text": [
      "100%|██████████| 74/74 [00:00<00:00, 153.89it/s]\n",
      "100%|██████████| 19/19 [00:00<00:00, 326.81it/s]\n",
      " 38%|███▊      | 28/74 [00:00<00:00, 278.22it/s]"
     ]
    },
    {
     "output_type": "stream",
     "name": "stdout",
     "text": [
      "\n",
      "Epoch 49 complete! Validation Loss : 0.21036639025336817\n",
      "Epoch 49 complete! Validation Accuracy : 0.910904605263158\n",
      "Best validation loss improved from 0.2110617458820343 to 0.21036639025336817\n",
      "\n",
      "\n",
      "Iteration 14/74 of epoch 50 complete. Loss : 0.09034284896084241 \n",
      "\n",
      "Iteration 28/74 of epoch 50 complete. Loss : 0.07531411732946124 \n",
      "\n",
      "Iteration 42/74 of epoch 50 complete. Loss : 0.08111128157802991 \n"
     ]
    },
    {
     "output_type": "stream",
     "name": "stderr",
     "text": [
      "100%|██████████| 74/74 [00:00<00:00, 203.87it/s]\n",
      "  0%|          | 0/19 [00:00<?, ?it/s]"
     ]
    },
    {
     "output_type": "stream",
     "name": "stdout",
     "text": [
      "\n",
      "Iteration 56/74 of epoch 50 complete. Loss : 0.08629528752395085 \n",
      "\n",
      "Iteration 70/74 of epoch 50 complete. Loss : 0.08311037213674613 \n"
     ]
    },
    {
     "output_type": "stream",
     "name": "stderr",
     "text": [
      "100%|██████████| 19/19 [00:00<00:00, 162.67it/s]\n",
      " 19%|█▉        | 14/74 [00:00<00:00, 135.68it/s]"
     ]
    },
    {
     "output_type": "stream",
     "name": "stdout",
     "text": [
      "\n",
      "Epoch 50 complete! Validation Loss : 0.20973658247997887\n",
      "Epoch 50 complete! Validation Accuracy : 0.9100822368421053\n",
      "Best validation loss improved from 0.21036639025336817 to 0.20973658247997887\n",
      "\n",
      "\n",
      "Iteration 14/74 of epoch 51 complete. Loss : 0.08946751217756953 \n"
     ]
    },
    {
     "output_type": "stream",
     "name": "stderr",
     "text": [
      " 64%|██████▎   | 47/74 [00:00<00:00, 147.20it/s]"
     ]
    },
    {
     "output_type": "stream",
     "name": "stdout",
     "text": [
      "\n",
      "Iteration 28/74 of epoch 51 complete. Loss : 0.07459517461912972 \n",
      "\n",
      "Iteration 42/74 of epoch 51 complete. Loss : 0.08032121855233397 \n",
      "\n",
      "Iteration 56/74 of epoch 51 complete. Loss : 0.08545066176780633 \n"
     ]
    },
    {
     "output_type": "stream",
     "name": "stderr",
     "text": [
      "100%|██████████| 74/74 [00:00<00:00, 145.38it/s]\n",
      "100%|██████████| 19/19 [00:00<00:00, 422.60it/s]\n",
      "  0%|          | 0/74 [00:00<?, ?it/s]"
     ]
    },
    {
     "output_type": "stream",
     "name": "stdout",
     "text": [
      "\n",
      "Iteration 70/74 of epoch 51 complete. Loss : 0.08231222044144358 \n",
      "\n",
      "Epoch 51 complete! Validation Loss : 0.20911281673531784\n",
      "Epoch 51 complete! Validation Accuracy : 0.9104934210526316\n",
      "Best validation loss improved from 0.20973658247997887 to 0.20911281673531784\n",
      "\n"
     ]
    },
    {
     "output_type": "stream",
     "name": "stderr",
     "text": [
      " 50%|█████     | 37/74 [00:00<00:00, 191.48it/s]"
     ]
    },
    {
     "output_type": "stream",
     "name": "stdout",
     "text": [
      "\n",
      "Iteration 14/74 of epoch 52 complete. Loss : 0.08859649087701525 \n",
      "\n",
      "Iteration 28/74 of epoch 52 complete. Loss : 0.07386240442948681 \n",
      "\n",
      "Iteration 42/74 of epoch 52 complete. Loss : 0.07954579219222069 \n"
     ]
    },
    {
     "output_type": "stream",
     "name": "stderr",
     "text": [
      "100%|██████████| 74/74 [00:00<00:00, 157.84it/s]\n",
      "  0%|          | 0/19 [00:00<?, ?it/s]"
     ]
    },
    {
     "output_type": "stream",
     "name": "stdout",
     "text": [
      "\n",
      "Iteration 56/74 of epoch 52 complete. Loss : 0.08466786678348269 \n",
      "\n",
      "Iteration 70/74 of epoch 52 complete. Loss : 0.08153280562588147 \n"
     ]
    },
    {
     "output_type": "stream",
     "name": "stderr",
     "text": [
      "100%|██████████| 19/19 [00:00<00:00, 189.23it/s]\n",
      " 19%|█▉        | 14/74 [00:00<00:00, 137.77it/s]"
     ]
    },
    {
     "output_type": "stream",
     "name": "stdout",
     "text": [
      "\n",
      "Epoch 52 complete! Validation Loss : 0.20849516438810448\n",
      "Epoch 52 complete! Validation Accuracy : 0.9104934210526316\n",
      "Best validation loss improved from 0.20911281673531784 to 0.20849516438810448\n",
      "\n",
      "\n",
      "Iteration 14/74 of epoch 53 complete. Loss : 0.0877226282443319 \n"
     ]
    },
    {
     "output_type": "stream",
     "name": "stderr",
     "text": [
      " 66%|██████▌   | 49/74 [00:00<00:00, 118.71it/s]"
     ]
    },
    {
     "output_type": "stream",
     "name": "stdout",
     "text": [
      "\n",
      "Iteration 28/74 of epoch 53 complete. Loss : 0.07311227412096091 \n",
      "\n",
      "Iteration 42/74 of epoch 53 complete. Loss : 0.07876880520156451 \n"
     ]
    },
    {
     "output_type": "stream",
     "name": "stderr",
     "text": [
      " 80%|███████▉  | 59/74 [00:00<00:00, 111.24it/s]"
     ]
    },
    {
     "output_type": "stream",
     "name": "stdout",
     "text": [
      "\n",
      "Iteration 56/74 of epoch 53 complete. Loss : 0.08384556509554386 \n"
     ]
    },
    {
     "output_type": "stream",
     "name": "stderr",
     "text": [
      "100%|██████████| 74/74 [00:00<00:00, 95.51it/s]\n",
      "100%|██████████| 19/19 [00:00<00:00, 372.92it/s]\n",
      "  0%|          | 0/74 [00:00<?, ?it/s]"
     ]
    },
    {
     "output_type": "stream",
     "name": "stdout",
     "text": [
      "\n",
      "Iteration 70/74 of epoch 53 complete. Loss : 0.0807700574930225 \n",
      "\n",
      "Epoch 53 complete! Validation Loss : 0.20786528681453906\n",
      "Epoch 53 complete! Validation Accuracy : 0.9104934210526316\n",
      "Best validation loss improved from 0.20849516438810448 to 0.20786528681453906\n",
      "\n",
      "\n",
      "Iteration 14/74 of epoch 54 complete. Loss : 0.08684283601386207 \n",
      "\n",
      "Iteration 28/74 of epoch 54 complete. Loss : 0.07241845370403358 \n"
     ]
    },
    {
     "output_type": "stream",
     "name": "stderr",
     "text": [
      " 92%|█████████▏| 68/74 [00:00<00:00, 216.82it/s]"
     ]
    },
    {
     "output_type": "stream",
     "name": "stdout",
     "text": [
      "\n",
      "Iteration 42/74 of epoch 54 complete. Loss : 0.07796701256717954 \n",
      "\n",
      "Iteration 56/74 of epoch 54 complete. Loss : 0.08303418808749743 \n",
      "\n",
      "Iteration 70/74 of epoch 54 complete. Loss : 0.08005006691174847 \n"
     ]
    },
    {
     "output_type": "stream",
     "name": "stderr",
     "text": [
      "100%|██████████| 74/74 [00:00<00:00, 217.89it/s]\n",
      "100%|██████████| 19/19 [00:00<00:00, 154.59it/s]\n",
      " 19%|█▉        | 14/74 [00:00<00:00, 135.75it/s]"
     ]
    },
    {
     "output_type": "stream",
     "name": "stdout",
     "text": [
      "\n",
      "Epoch 54 complete! Validation Loss : 0.20717353883542514\n",
      "Epoch 54 complete! Validation Accuracy : 0.9104934210526316\n",
      "Best validation loss improved from 0.20786528681453906 to 0.20717353883542514\n",
      "\n",
      "\n",
      "Iteration 14/74 of epoch 55 complete. Loss : 0.08585703213300024 \n",
      "\n",
      "Iteration 28/74 of epoch 55 complete. Loss : 0.07171806400375706 \n"
     ]
    },
    {
     "output_type": "stream",
     "name": "stderr",
     "text": [
      "100%|██████████| 74/74 [00:00<00:00, 210.97it/s]\n",
      "100%|██████████| 19/19 [00:00<00:00, 402.89it/s]\n"
     ]
    },
    {
     "output_type": "stream",
     "name": "stdout",
     "text": [
      "\n",
      "Iteration 42/74 of epoch 55 complete. Loss : 0.077223698209439 \n",
      "\n",
      "Iteration 56/74 of epoch 55 complete. Loss : 0.08215211571327277 \n",
      "\n",
      "Iteration 70/74 of epoch 55 complete. Loss : 0.07925353119415897 \n"
     ]
    },
    {
     "output_type": "stream",
     "name": "stderr",
     "text": [
      " 24%|██▍       | 18/74 [00:00<00:00, 169.88it/s]"
     ]
    },
    {
     "output_type": "stream",
     "name": "stdout",
     "text": [
      "\n",
      "Epoch 55 complete! Validation Loss : 0.20661920544348264\n",
      "Epoch 55 complete! Validation Accuracy : 0.9100822368421053\n",
      "Best validation loss improved from 0.20717353883542514 to 0.20661920544348264\n",
      "\n",
      "\n",
      "Iteration 14/74 of epoch 56 complete. Loss : 0.08503025344439916 \n",
      "\n",
      "Iteration 28/74 of epoch 56 complete. Loss : 0.07097405115408557 \n"
     ]
    },
    {
     "output_type": "stream",
     "name": "stderr",
     "text": [
      " 73%|███████▎  | 54/74 [00:00<00:00, 154.39it/s]"
     ]
    },
    {
     "output_type": "stream",
     "name": "stdout",
     "text": [
      "\n",
      "Iteration 42/74 of epoch 56 complete. Loss : 0.076433498944555 \n",
      "\n",
      "Iteration 56/74 of epoch 56 complete. Loss : 0.08132528593497616 \n"
     ]
    },
    {
     "output_type": "stream",
     "name": "stderr",
     "text": [
      "100%|██████████| 74/74 [00:00<00:00, 155.21it/s]\n",
      "100%|██████████| 19/19 [00:00<00:00, 281.27it/s]\n",
      "  0%|          | 0/74 [00:00<?, ?it/s]"
     ]
    },
    {
     "output_type": "stream",
     "name": "stdout",
     "text": [
      "\n",
      "Iteration 70/74 of epoch 56 complete. Loss : 0.07850667302097593 \n",
      "\n",
      "Epoch 56 complete! Validation Loss : 0.2059494453041177\n",
      "Epoch 56 complete! Validation Accuracy : 0.9113157894736843\n",
      "Best validation loss improved from 0.20661920544348264 to 0.2059494453041177\n",
      "\n"
     ]
    },
    {
     "output_type": "stream",
     "name": "stderr",
     "text": [
      " 46%|████▌     | 34/74 [00:00<00:00, 98.79it/s] "
     ]
    },
    {
     "output_type": "stream",
     "name": "stdout",
     "text": [
      "\n",
      "Iteration 14/74 of epoch 57 complete. Loss : 0.0840504802763462 \n",
      "\n",
      "Iteration 28/74 of epoch 57 complete. Loss : 0.07025202683040074 \n"
     ]
    },
    {
     "output_type": "stream",
     "name": "stderr",
     "text": [
      " 84%|████████▍ | 62/74 [00:00<00:00, 112.94it/s]"
     ]
    },
    {
     "output_type": "stream",
     "name": "stdout",
     "text": [
      "\n",
      "Iteration 42/74 of epoch 57 complete. Loss : 0.07558626069554261 \n",
      "\n",
      "Iteration 56/74 of epoch 57 complete. Loss : 0.08046034829957145 \n",
      "\n",
      "Iteration 70/74 of epoch 57 complete. Loss : 0.07776556270463127 \n"
     ]
    },
    {
     "output_type": "stream",
     "name": "stderr",
     "text": [
      "100%|██████████| 74/74 [00:00<00:00, 125.95it/s]\n",
      "100%|██████████| 19/19 [00:00<00:00, 409.08it/s]\n",
      " 36%|███▋      | 27/74 [00:00<00:00, 268.51it/s]"
     ]
    },
    {
     "output_type": "stream",
     "name": "stdout",
     "text": [
      "\n",
      "Epoch 57 complete! Validation Loss : 0.2054048494288796\n",
      "Epoch 57 complete! Validation Accuracy : 0.9104934210526316\n",
      "Best validation loss improved from 0.2059494453041177 to 0.2054048494288796\n",
      "\n",
      "\n",
      "Iteration 14/74 of epoch 58 complete. Loss : 0.08317934083087104 \n",
      "\n",
      "Iteration 28/74 of epoch 58 complete. Loss : 0.06951662578753062 \n",
      "\n",
      "Iteration 42/74 of epoch 58 complete. Loss : 0.07488867879978248 \n"
     ]
    },
    {
     "output_type": "stream",
     "name": "stderr",
     "text": [
      "100%|██████████| 74/74 [00:00<00:00, 237.98it/s]\n",
      "100%|██████████| 19/19 [00:00<00:00, 259.66it/s]\n"
     ]
    },
    {
     "output_type": "stream",
     "name": "stdout",
     "text": [
      "\n",
      "Iteration 56/74 of epoch 58 complete. Loss : 0.07964357574071203 \n",
      "\n",
      "Iteration 70/74 of epoch 58 complete. Loss : 0.07698210887610912 \n"
     ]
    },
    {
     "output_type": "stream",
     "name": "stderr",
     "text": [
      " 15%|█▍        | 11/74 [00:00<00:00, 102.14it/s]"
     ]
    },
    {
     "output_type": "stream",
     "name": "stdout",
     "text": [
      "\n",
      "Epoch 58 complete! Validation Loss : 0.2047928610914632\n",
      "Epoch 58 complete! Validation Accuracy : 0.9100822368421053\n",
      "Best validation loss improved from 0.2054048494288796 to 0.2047928610914632\n",
      "\n",
      "\n",
      "Iteration 14/74 of epoch 59 complete. Loss : 0.08230270285691534 \n"
     ]
    },
    {
     "output_type": "stream",
     "name": "stderr",
     "text": [
      " 46%|████▌     | 34/74 [00:00<00:00, 82.38it/s] "
     ]
    },
    {
     "output_type": "stream",
     "name": "stdout",
     "text": [
      "\n",
      "Iteration 28/74 of epoch 59 complete. Loss : 0.0688164619995015 \n",
      "\n",
      "Iteration 42/74 of epoch 59 complete. Loss : 0.07405966334044933 \n"
     ]
    },
    {
     "output_type": "stream",
     "name": "stderr",
     "text": [
      "100%|██████████| 74/74 [00:00<00:00, 105.10it/s]\n",
      "100%|██████████| 19/19 [00:00<00:00, 398.12it/s]\n",
      "  0%|          | 0/74 [00:00<?, ?it/s]"
     ]
    },
    {
     "output_type": "stream",
     "name": "stdout",
     "text": [
      "\n",
      "Iteration 56/74 of epoch 59 complete. Loss : 0.07875037086861474 \n",
      "\n",
      "Iteration 70/74 of epoch 59 complete. Loss : 0.07624777246798788 \n",
      "\n",
      "Epoch 59 complete! Validation Loss : 0.20411275405632823\n",
      "Epoch 59 complete! Validation Accuracy : 0.909671052631579\n",
      "Best validation loss improved from 0.2047928610914632 to 0.20411275405632823\n",
      "\n"
     ]
    },
    {
     "output_type": "stream",
     "name": "stderr",
     "text": [
      " 54%|█████▍    | 40/74 [00:00<00:00, 203.40it/s]"
     ]
    },
    {
     "output_type": "stream",
     "name": "stdout",
     "text": [
      "\n",
      "Iteration 14/74 of epoch 60 complete. Loss : 0.08140895994646209 \n",
      "\n",
      "Iteration 28/74 of epoch 60 complete. Loss : 0.06812765289630208 \n",
      "\n",
      "Iteration 42/74 of epoch 60 complete. Loss : 0.07322162948548794 \n"
     ]
    },
    {
     "output_type": "stream",
     "name": "stderr",
     "text": [
      "100%|██████████| 74/74 [00:00<00:00, 181.00it/s]\n",
      "100%|██████████| 19/19 [00:00<00:00, 279.27it/s]"
     ]
    },
    {
     "output_type": "stream",
     "name": "stdout",
     "text": [
      "\n",
      "Iteration 56/74 of epoch 60 complete. Loss : 0.0778833247189011 \n",
      "\n",
      "Iteration 70/74 of epoch 60 complete. Loss : 0.07545853964984417 \n"
     ]
    },
    {
     "output_type": "stream",
     "name": "stderr",
     "text": [
      "\n",
      " 19%|█▉        | 14/74 [00:00<00:00, 136.14it/s]"
     ]
    },
    {
     "output_type": "stream",
     "name": "stdout",
     "text": [
      "\n",
      "Epoch 60 complete! Validation Loss : 0.20363405268443258\n",
      "Epoch 60 complete! Validation Accuracy : 0.9088486842105263\n",
      "Best validation loss improved from 0.20411275405632823 to 0.20363405268443258\n",
      "\n",
      "\n",
      "Iteration 14/74 of epoch 61 complete. Loss : 0.08056221343576908 \n"
     ]
    },
    {
     "output_type": "stream",
     "name": "stderr",
     "text": [
      "100%|██████████| 74/74 [00:00<00:00, 196.50it/s]\n",
      "  0%|          | 0/19 [00:00<?, ?it/s]"
     ]
    },
    {
     "output_type": "stream",
     "name": "stdout",
     "text": [
      "\n",
      "Iteration 28/74 of epoch 61 complete. Loss : 0.06740751463387694 \n",
      "\n",
      "Iteration 42/74 of epoch 61 complete. Loss : 0.07248821588499206 \n",
      "\n",
      "Iteration 56/74 of epoch 61 complete. Loss : 0.07706181385687419 \n",
      "\n",
      "Iteration 70/74 of epoch 61 complete. Loss : 0.07467813124614102 \n"
     ]
    },
    {
     "output_type": "stream",
     "name": "stderr",
     "text": [
      "100%|██████████| 19/19 [00:00<00:00, 264.38it/s]\n",
      " 20%|██        | 15/74 [00:00<00:00, 148.50it/s]"
     ]
    },
    {
     "output_type": "stream",
     "name": "stdout",
     "text": [
      "\n",
      "Epoch 61 complete! Validation Loss : 0.20294988939636632\n",
      "Epoch 61 complete! Validation Accuracy : 0.9084375000000001\n",
      "Best validation loss improved from 0.20363405268443258 to 0.20294988939636632\n",
      "\n",
      "\n",
      "Iteration 14/74 of epoch 62 complete. Loss : 0.07973936865372318 \n",
      "\n",
      "Iteration 28/74 of epoch 62 complete. Loss : 0.06671367053474699 \n"
     ]
    },
    {
     "output_type": "stream",
     "name": "stderr",
     "text": [
      " 82%|████████▏ | 61/74 [00:00<00:00, 143.19it/s]"
     ]
    },
    {
     "output_type": "stream",
     "name": "stdout",
     "text": [
      "\n",
      "Iteration 42/74 of epoch 62 complete. Loss : 0.07170499116182327 \n",
      "\n",
      "Iteration 56/74 of epoch 62 complete. Loss : 0.0761812866798469 \n",
      "\n",
      "Iteration 70/74 of epoch 62 complete. Loss : 0.07390212374074119 \n"
     ]
    },
    {
     "output_type": "stream",
     "name": "stderr",
     "text": [
      "100%|██████████| 74/74 [00:00<00:00, 152.13it/s]\n",
      "100%|██████████| 19/19 [00:00<00:00, 231.62it/s]\n",
      " 18%|█▊        | 13/74 [00:00<00:00, 121.23it/s]"
     ]
    },
    {
     "output_type": "stream",
     "name": "stdout",
     "text": [
      "\n",
      "Epoch 62 complete! Validation Loss : 0.2024565190076828\n",
      "Epoch 62 complete! Validation Accuracy : 0.9088486842105263\n",
      "Best validation loss improved from 0.20294988939636632 to 0.2024565190076828\n",
      "\n",
      "\n",
      "Iteration 14/74 of epoch 63 complete. Loss : 0.07891503987567765 \n"
     ]
    },
    {
     "output_type": "stream",
     "name": "stderr",
     "text": [
      " 68%|██████▊   | 50/74 [00:00<00:00, 108.40it/s]"
     ]
    },
    {
     "output_type": "stream",
     "name": "stdout",
     "text": [
      "\n",
      "Iteration 28/74 of epoch 63 complete. Loss : 0.06612809162054743 \n",
      "\n",
      "Iteration 42/74 of epoch 63 complete. Loss : 0.07100947866482395 \n"
     ]
    },
    {
     "output_type": "stream",
     "name": "stderr",
     "text": [
      "100%|██████████| 74/74 [00:00<00:00, 135.14it/s]\n",
      "100%|██████████| 19/19 [00:00<00:00, 391.86it/s]\n",
      "  0%|          | 0/74 [00:00<?, ?it/s]"
     ]
    },
    {
     "output_type": "stream",
     "name": "stdout",
     "text": [
      "\n",
      "Iteration 56/74 of epoch 63 complete. Loss : 0.07533342497689384 \n",
      "\n",
      "Iteration 70/74 of epoch 63 complete. Loss : 0.0731544028967619 \n",
      "\n",
      "Epoch 63 complete! Validation Loss : 0.20176304798377187\n",
      "Epoch 63 complete! Validation Accuracy : 0.9084375000000001\n",
      "Best validation loss improved from 0.2024565190076828 to 0.20176304798377187\n",
      "\n"
     ]
    },
    {
     "output_type": "stream",
     "name": "stderr",
     "text": [
      " 65%|██████▍   | 48/74 [00:00<00:00, 228.00it/s]"
     ]
    },
    {
     "output_type": "stream",
     "name": "stdout",
     "text": [
      "\n",
      "Iteration 14/74 of epoch 64 complete. Loss : 0.07809823990932532 \n",
      "\n",
      "Iteration 28/74 of epoch 64 complete. Loss : 0.06544858642986842 \n",
      "\n",
      "Iteration 42/74 of epoch 64 complete. Loss : 0.07018901780247688 \n",
      "\n",
      "Iteration 56/74 of epoch 64 complete. Loss : 0.07450356999678272 \n"
     ]
    },
    {
     "output_type": "stream",
     "name": "stderr",
     "text": [
      "100%|██████████| 74/74 [00:00<00:00, 219.63it/s]\n",
      "100%|██████████| 19/19 [00:00<00:00, 252.89it/s]\n",
      "  0%|          | 0/74 [00:00<?, ?it/s]"
     ]
    },
    {
     "output_type": "stream",
     "name": "stdout",
     "text": [
      "\n",
      "Iteration 70/74 of epoch 64 complete. Loss : 0.07240741513669491 \n",
      "\n",
      "Epoch 64 complete! Validation Loss : 0.20138630427812276\n",
      "Epoch 64 complete! Validation Accuracy : 0.9084375000000001\n",
      "Best validation loss improved from 0.20176304798377187 to 0.20138630427812276\n",
      "\n"
     ]
    },
    {
     "output_type": "stream",
     "name": "stderr",
     "text": [
      " 38%|███▊      | 28/74 [00:00<00:00, 89.13it/s]"
     ]
    },
    {
     "output_type": "stream",
     "name": "stdout",
     "text": [
      "\n",
      "Iteration 14/74 of epoch 65 complete. Loss : 0.07715056597122125 \n",
      "\n",
      "Iteration 28/74 of epoch 65 complete. Loss : 0.064727249954428 \n"
     ]
    },
    {
     "output_type": "stream",
     "name": "stderr",
     "text": [
      " 68%|██████▊   | 50/74 [00:00<00:00, 84.24it/s]"
     ]
    },
    {
     "output_type": "stream",
     "name": "stdout",
     "text": [
      "\n",
      "Iteration 42/74 of epoch 65 complete. Loss : 0.06942508449511868 \n"
     ]
    },
    {
     "output_type": "stream",
     "name": "stderr",
     "text": [
      "100%|██████████| 74/74 [00:00<00:00, 99.15it/s]\n",
      "100%|██████████| 19/19 [00:00<00:00, 390.64it/s]\n",
      "  0%|          | 0/74 [00:00<?, ?it/s]"
     ]
    },
    {
     "output_type": "stream",
     "name": "stdout",
     "text": [
      "\n",
      "Iteration 56/74 of epoch 65 complete. Loss : 0.07370234626744475 \n",
      "\n",
      "Iteration 70/74 of epoch 65 complete. Loss : 0.07167265910123076 \n",
      "\n",
      "Epoch 65 complete! Validation Loss : 0.20080302341988213\n",
      "Epoch 65 complete! Validation Accuracy : 0.9088486842105263\n",
      "Best validation loss improved from 0.20138630427812276 to 0.20080302341988213\n",
      "\n"
     ]
    },
    {
     "output_type": "stream",
     "name": "stderr",
     "text": [
      " 58%|█████▊    | 43/74 [00:00<00:00, 217.99it/s]"
     ]
    },
    {
     "output_type": "stream",
     "name": "stdout",
     "text": [
      "\n",
      "Iteration 14/74 of epoch 66 complete. Loss : 0.07628721477729934 \n",
      "\n",
      "Iteration 28/74 of epoch 66 complete. Loss : 0.06401658590350832 \n",
      "\n",
      "Iteration 42/74 of epoch 66 complete. Loss : 0.06867593846150807 \n",
      "\n",
      "Iteration 56/74 of epoch 66 complete. Loss : 0.07281703768031937 \n"
     ]
    },
    {
     "output_type": "stream",
     "name": "stderr",
     "text": [
      "100%|██████████| 74/74 [00:00<00:00, 206.00it/s]\n",
      "100%|██████████| 19/19 [00:00<00:00, 172.40it/s]\n",
      "  0%|          | 0/74 [00:00<?, ?it/s]"
     ]
    },
    {
     "output_type": "stream",
     "name": "stdout",
     "text": [
      "\n",
      "Iteration 70/74 of epoch 66 complete. Loss : 0.07093037265752043 \n",
      "\n",
      "Epoch 66 complete! Validation Loss : 0.20031551781453585\n",
      "Epoch 66 complete! Validation Accuracy : 0.910904605263158\n",
      "Best validation loss improved from 0.20080302341988213 to 0.20031551781453585\n",
      "\n"
     ]
    },
    {
     "output_type": "stream",
     "name": "stderr",
     "text": [
      " 51%|█████▏    | 38/74 [00:00<00:00, 182.98it/s]"
     ]
    },
    {
     "output_type": "stream",
     "name": "stdout",
     "text": [
      "\n",
      "Iteration 14/74 of epoch 67 complete. Loss : 0.07542169280350208 \n",
      "\n",
      "Iteration 28/74 of epoch 67 complete. Loss : 0.06333549214260918 \n",
      "\n",
      "Iteration 42/74 of epoch 67 complete. Loss : 0.06791479380003043 \n"
     ]
    },
    {
     "output_type": "stream",
     "name": "stderr",
     "text": [
      "100%|██████████| 74/74 [00:00<00:00, 203.28it/s]\n",
      "100%|██████████| 19/19 [00:00<00:00, 399.12it/s]\n",
      "  0%|          | 0/74 [00:00<?, ?it/s]"
     ]
    },
    {
     "output_type": "stream",
     "name": "stdout",
     "text": [
      "\n",
      "Iteration 56/74 of epoch 67 complete. Loss : 0.071971060442073 \n",
      "\n",
      "Iteration 70/74 of epoch 67 complete. Loss : 0.07017939830464977 \n",
      "\n",
      "Epoch 67 complete! Validation Loss : 0.1997354595284713\n",
      "Epoch 67 complete! Validation Accuracy : 0.9113157894736843\n",
      "Best validation loss improved from 0.20031551781453585 to 0.1997354595284713\n",
      "\n"
     ]
    },
    {
     "output_type": "stream",
     "name": "stderr",
     "text": [
      " 38%|███▊      | 28/74 [00:00<00:00, 124.43it/s]"
     ]
    },
    {
     "output_type": "stream",
     "name": "stdout",
     "text": [
      "\n",
      "Iteration 14/74 of epoch 68 complete. Loss : 0.07456284601773534 \n",
      "\n",
      "Iteration 28/74 of epoch 68 complete. Loss : 0.0626633031559842 \n"
     ]
    },
    {
     "output_type": "stream",
     "name": "stderr",
     "text": [
      " 86%|████████▋ | 64/74 [00:00<00:00, 116.10it/s]"
     ]
    },
    {
     "output_type": "stream",
     "name": "stdout",
     "text": [
      "\n",
      "Iteration 42/74 of epoch 68 complete. Loss : 0.06714035038437162 \n",
      "\n",
      "Iteration 56/74 of epoch 68 complete. Loss : 0.07114358272935663 \n"
     ]
    },
    {
     "output_type": "stream",
     "name": "stderr",
     "text": [
      "100%|██████████| 74/74 [00:00<00:00, 117.72it/s]\n",
      "100%|██████████| 19/19 [00:00<00:00, 136.80it/s]"
     ]
    },
    {
     "output_type": "stream",
     "name": "stdout",
     "text": [
      "\n",
      "Iteration 70/74 of epoch 68 complete. Loss : 0.06942561188978809 \n"
     ]
    },
    {
     "output_type": "stream",
     "name": "stderr",
     "text": [
      "\n",
      " 30%|██▉       | 22/74 [00:00<00:00, 151.31it/s]"
     ]
    },
    {
     "output_type": "stream",
     "name": "stdout",
     "text": [
      "\n",
      "Epoch 68 complete! Validation Loss : 0.199177495743099\n",
      "Epoch 68 complete! Validation Accuracy : 0.9117269736842106\n",
      "Best validation loss improved from 0.1997354595284713 to 0.199177495743099\n",
      "\n",
      "\n",
      "Iteration 14/74 of epoch 69 complete. Loss : 0.07370818885309356 \n"
     ]
    },
    {
     "output_type": "stream",
     "name": "stderr",
     "text": [
      " 88%|████████▊ | 65/74 [00:00<00:00, 123.02it/s]"
     ]
    },
    {
     "output_type": "stream",
     "name": "stdout",
     "text": [
      "\n",
      "Iteration 28/74 of epoch 69 complete. Loss : 0.061999046110681126 \n",
      "\n",
      "Iteration 42/74 of epoch 69 complete. Loss : 0.06636619488043445 \n",
      "\n",
      "Iteration 56/74 of epoch 69 complete. Loss : 0.07030605764261313 \n"
     ]
    },
    {
     "output_type": "stream",
     "name": "stderr",
     "text": [
      "100%|██████████| 74/74 [00:00<00:00, 150.73it/s]\n",
      "100%|██████████| 19/19 [00:00<00:00, 368.78it/s]\n",
      "  0%|          | 0/74 [00:00<?, ?it/s]"
     ]
    },
    {
     "output_type": "stream",
     "name": "stdout",
     "text": [
      "\n",
      "Iteration 70/74 of epoch 69 complete. Loss : 0.06867007299193315 \n",
      "\n",
      "Epoch 69 complete! Validation Loss : 0.1986313556369982\n",
      "Epoch 69 complete! Validation Accuracy : 0.9117269736842106\n",
      "Best validation loss improved from 0.199177495743099 to 0.1986313556369982\n",
      "\n",
      "\n",
      "Iteration 14/74 of epoch 70 complete. Loss : 0.07286216425044197 \n"
     ]
    },
    {
     "output_type": "stream",
     "name": "stderr",
     "text": [
      " 81%|████████  | 60/74 [00:00<00:00, 185.06it/s]"
     ]
    },
    {
     "output_type": "stream",
     "name": "stdout",
     "text": [
      "\n",
      "Iteration 28/74 of epoch 70 complete. Loss : 0.06132560436214719 \n",
      "\n",
      "Iteration 42/74 of epoch 70 complete. Loss : 0.06561954878270626 \n",
      "\n",
      "Iteration 56/74 of epoch 70 complete. Loss : 0.06944763979741506 \n"
     ]
    },
    {
     "output_type": "stream",
     "name": "stderr",
     "text": [
      "100%|██████████| 74/74 [00:00<00:00, 176.52it/s]\n",
      "100%|██████████| 19/19 [00:00<00:00, 341.67it/s]\n",
      "  0%|          | 0/74 [00:00<?, ?it/s]"
     ]
    },
    {
     "output_type": "stream",
     "name": "stdout",
     "text": [
      "\n",
      "Iteration 70/74 of epoch 70 complete. Loss : 0.06792260254068035 \n",
      "\n",
      "Epoch 70 complete! Validation Loss : 0.19815292954444885\n",
      "Epoch 70 complete! Validation Accuracy : 0.9117269736842106\n",
      "Best validation loss improved from 0.1986313556369982 to 0.19815292954444885\n",
      "\n"
     ]
    },
    {
     "output_type": "stream",
     "name": "stderr",
     "text": [
      " 42%|████▏     | 31/74 [00:00<00:00, 90.94it/s] "
     ]
    },
    {
     "output_type": "stream",
     "name": "stdout",
     "text": [
      "\n",
      "Iteration 14/74 of epoch 71 complete. Loss : 0.07208624961120742 \n",
      "\n",
      "Iteration 28/74 of epoch 71 complete. Loss : 0.06067909114062786 \n"
     ]
    },
    {
     "output_type": "stream",
     "name": "stderr",
     "text": [
      "100%|██████████| 74/74 [00:00<00:00, 126.03it/s]\n",
      "100%|██████████| 19/19 [00:00<00:00, 424.81it/s]\n",
      "  0%|          | 0/74 [00:00<?, ?it/s]"
     ]
    },
    {
     "output_type": "stream",
     "name": "stdout",
     "text": [
      "\n",
      "Iteration 42/74 of epoch 71 complete. Loss : 0.06479843599455697 \n",
      "\n",
      "Iteration 56/74 of epoch 71 complete. Loss : 0.06861971558204719 \n",
      "\n",
      "Iteration 70/74 of epoch 71 complete. Loss : 0.06718154038701739 \n",
      "\n",
      "Epoch 71 complete! Validation Loss : 0.19764982556041918\n",
      "Epoch 71 complete! Validation Accuracy : 0.9133717105263158\n",
      "Best validation loss improved from 0.19815292954444885 to 0.19764982556041918\n",
      "\n"
     ]
    },
    {
     "output_type": "stream",
     "name": "stderr",
     "text": [
      " 51%|█████▏    | 38/74 [00:00<00:00, 192.09it/s]"
     ]
    },
    {
     "output_type": "stream",
     "name": "stdout",
     "text": [
      "\n",
      "Iteration 14/74 of epoch 72 complete. Loss : 0.07115320249327592 \n",
      "\n",
      "Iteration 28/74 of epoch 72 complete. Loss : 0.059990323547806056 \n",
      "\n",
      "Iteration 42/74 of epoch 72 complete. Loss : 0.06405959065471377 \n"
     ]
    },
    {
     "output_type": "stream",
     "name": "stderr",
     "text": [
      "100%|██████████| 74/74 [00:00<00:00, 158.35it/s]\n",
      "100%|██████████| 19/19 [00:00<00:00, 396.91it/s]"
     ]
    },
    {
     "output_type": "stream",
     "name": "stdout",
     "text": [
      "\n",
      "Iteration 56/74 of epoch 72 complete. Loss : 0.06777290387877397 \n",
      "\n",
      "Iteration 70/74 of epoch 72 complete. Loss : 0.06642124376126698 \n"
     ]
    },
    {
     "output_type": "stream",
     "name": "stderr",
     "text": [
      "\n",
      " 19%|█▉        | 14/74 [00:00<00:00, 137.25it/s]"
     ]
    },
    {
     "output_type": "stream",
     "name": "stdout",
     "text": [
      "\n",
      "Epoch 72 complete! Validation Loss : 0.1971927136182785\n",
      "Epoch 72 complete! Validation Accuracy : 0.9137828947368422\n",
      "Best validation loss improved from 0.19764982556041918 to 0.1971927136182785\n",
      "\n",
      "\n",
      "Iteration 14/74 of epoch 73 complete. Loss : 0.0702897948878152 \n",
      "\n",
      "Iteration 28/74 of epoch 73 complete. Loss : 0.059351597247379165 \n"
     ]
    },
    {
     "output_type": "stream",
     "name": "stderr",
     "text": [
      "100%|██████████| 74/74 [00:00<00:00, 163.91it/s]\n",
      "  0%|          | 0/19 [00:00<?, ?it/s]"
     ]
    },
    {
     "output_type": "stream",
     "name": "stdout",
     "text": [
      "\n",
      "Iteration 42/74 of epoch 73 complete. Loss : 0.06323106054748807 \n",
      "\n",
      "Iteration 56/74 of epoch 73 complete. Loss : 0.06700948306492396 \n",
      "\n",
      "Iteration 70/74 of epoch 73 complete. Loss : 0.065687342147742 \n"
     ]
    },
    {
     "output_type": "stream",
     "name": "stderr",
     "text": [
      "100%|██████████| 19/19 [00:00<00:00, 248.22it/s]\n",
      " 28%|██▊       | 21/74 [00:00<00:00, 192.52it/s]"
     ]
    },
    {
     "output_type": "stream",
     "name": "stdout",
     "text": [
      "\n",
      "Epoch 73 complete! Validation Loss : 0.1967500056091108\n",
      "Epoch 73 complete! Validation Accuracy : 0.9137828947368422\n",
      "Best validation loss improved from 0.1971927136182785 to 0.1967500056091108\n",
      "\n",
      "\n",
      "Iteration 14/74 of epoch 74 complete. Loss : 0.06941959448158741 \n",
      "\n",
      "Iteration 28/74 of epoch 74 complete. Loss : 0.05864321440458298 \n"
     ]
    },
    {
     "output_type": "stream",
     "name": "stderr",
     "text": [
      " 88%|████████▊ | 65/74 [00:00<00:00, 151.34it/s]"
     ]
    },
    {
     "output_type": "stream",
     "name": "stdout",
     "text": [
      "\n",
      "Iteration 42/74 of epoch 74 complete. Loss : 0.06250905671289989 \n",
      "\n",
      "Iteration 56/74 of epoch 74 complete. Loss : 0.06611074640282563 \n"
     ]
    },
    {
     "output_type": "stream",
     "name": "stderr",
     "text": [
      "100%|██████████| 74/74 [00:00<00:00, 139.93it/s]\n",
      "100%|██████████| 19/19 [00:00<00:00, 198.68it/s]"
     ]
    },
    {
     "output_type": "stream",
     "name": "stdout",
     "text": [
      "\n",
      "Iteration 70/74 of epoch 74 complete. Loss : 0.06488843714552266 \n"
     ]
    },
    {
     "output_type": "stream",
     "name": "stderr",
     "text": [
      "\n",
      " 16%|█▌        | 12/74 [00:00<00:00, 110.14it/s]"
     ]
    },
    {
     "output_type": "stream",
     "name": "stdout",
     "text": [
      "\n",
      "Epoch 74 complete! Validation Loss : 0.19632103960765035\n",
      "Epoch 74 complete! Validation Accuracy : 0.9137828947368422\n",
      "Best validation loss improved from 0.1967500056091108 to 0.19632103960765035\n",
      "\n",
      "\n",
      "Iteration 14/74 of epoch 75 complete. Loss : 0.06855174845882825 \n"
     ]
    },
    {
     "output_type": "stream",
     "name": "stderr",
     "text": [
      "100%|██████████| 74/74 [00:00<00:00, 161.28it/s]\n",
      "  0%|          | 0/19 [00:00<?, ?it/s]"
     ]
    },
    {
     "output_type": "stream",
     "name": "stdout",
     "text": [
      "\n",
      "Iteration 28/74 of epoch 75 complete. Loss : 0.05798376990216119 \n",
      "\n",
      "Iteration 42/74 of epoch 75 complete. Loss : 0.06172669306397438 \n",
      "\n",
      "Iteration 56/74 of epoch 75 complete. Loss : 0.06529552542737552 \n",
      "\n",
      "Iteration 70/74 of epoch 75 complete. Loss : 0.0641857348382473 \n"
     ]
    },
    {
     "output_type": "stream",
     "name": "stderr",
     "text": [
      "100%|██████████| 19/19 [00:00<00:00, 384.12it/s]\n",
      " 30%|██▉       | 22/74 [00:00<00:00, 194.68it/s]"
     ]
    },
    {
     "output_type": "stream",
     "name": "stdout",
     "text": [
      "\n",
      "Epoch 75 complete! Validation Loss : 0.1959437155409863\n",
      "Epoch 75 complete! Validation Accuracy : 0.9137828947368422\n",
      "Best validation loss improved from 0.19632103960765035 to 0.1959437155409863\n",
      "\n",
      "\n",
      "Iteration 14/74 of epoch 76 complete. Loss : 0.06768774321036679 \n",
      "\n",
      "Iteration 28/74 of epoch 76 complete. Loss : 0.057331129642469544 \n"
     ]
    },
    {
     "output_type": "stream",
     "name": "stderr",
     "text": [
      " 84%|████████▍ | 62/74 [00:00<00:00, 190.09it/s]"
     ]
    },
    {
     "output_type": "stream",
     "name": "stdout",
     "text": [
      "\n",
      "Iteration 42/74 of epoch 76 complete. Loss : 0.0609612518123218 \n",
      "\n",
      "Iteration 56/74 of epoch 76 complete. Loss : 0.0644527692347765 \n",
      "\n",
      "Iteration 70/74 of epoch 76 complete. Loss : 0.06338140049151011 \n"
     ]
    },
    {
     "output_type": "stream",
     "name": "stderr",
     "text": [
      "100%|██████████| 74/74 [00:00<00:00, 172.45it/s]\n",
      "100%|██████████| 19/19 [00:00<00:00, 121.83it/s]\n",
      " 16%|█▌        | 12/74 [00:00<00:00, 112.43it/s]"
     ]
    },
    {
     "output_type": "stream",
     "name": "stdout",
     "text": [
      "\n",
      "Epoch 76 complete! Validation Loss : 0.19551782388436167\n",
      "Epoch 76 complete! Validation Accuracy : 0.9146052631578948\n",
      "Best validation loss improved from 0.1959437155409863 to 0.19551782388436167\n",
      "\n",
      "\n",
      "Iteration 14/74 of epoch 77 complete. Loss : 0.06686016411653586 \n"
     ]
    },
    {
     "output_type": "stream",
     "name": "stderr",
     "text": [
      "100%|██████████| 74/74 [00:00<00:00, 144.13it/s]\n",
      "  0%|          | 0/19 [00:00<?, ?it/s]"
     ]
    },
    {
     "output_type": "stream",
     "name": "stdout",
     "text": [
      "\n",
      "Iteration 28/74 of epoch 77 complete. Loss : 0.05672700383833477 \n",
      "\n",
      "Iteration 42/74 of epoch 77 complete. Loss : 0.060235501400062015 \n",
      "\n",
      "Iteration 56/74 of epoch 77 complete. Loss : 0.06358626777572292 \n",
      "\n",
      "Iteration 70/74 of epoch 77 complete. Loss : 0.06262594115521226 \n"
     ]
    },
    {
     "output_type": "stream",
     "name": "stderr",
     "text": [
      "100%|██████████| 19/19 [00:00<00:00, 333.05it/s]\n",
      " 27%|██▋       | 20/74 [00:00<00:00, 188.62it/s]"
     ]
    },
    {
     "output_type": "stream",
     "name": "stdout",
     "text": [
      "\n",
      "Epoch 77 complete! Validation Loss : 0.19515855924079292\n",
      "Epoch 77 complete! Validation Accuracy : 0.9158388157894738\n",
      "Best validation loss improved from 0.19551782388436167 to 0.19515855924079292\n",
      "\n",
      "\n",
      "Iteration 14/74 of epoch 78 complete. Loss : 0.06594387255609035 \n",
      "\n",
      "Iteration 28/74 of epoch 78 complete. Loss : 0.05601244872169835 \n"
     ]
    },
    {
     "output_type": "stream",
     "name": "stderr",
     "text": [
      "100%|██████████| 74/74 [00:00<00:00, 170.00it/s]\n",
      "  0%|          | 0/19 [00:00<?, ?it/s]"
     ]
    },
    {
     "output_type": "stream",
     "name": "stdout",
     "text": [
      "\n",
      "Iteration 42/74 of epoch 78 complete. Loss : 0.05947993403034551 \n",
      "\n",
      "Iteration 56/74 of epoch 78 complete. Loss : 0.0627625033791576 \n",
      "\n",
      "Iteration 70/74 of epoch 78 complete. Loss : 0.06180803717247078 \n"
     ]
    },
    {
     "output_type": "stream",
     "name": "stderr",
     "text": [
      "100%|██████████| 19/19 [00:00<00:00, 314.36it/s]\n",
      " 38%|███▊      | 28/74 [00:00<00:00, 277.38it/s]"
     ]
    },
    {
     "output_type": "stream",
     "name": "stdout",
     "text": [
      "\n",
      "Epoch 78 complete! Validation Loss : 0.19472961912029668\n",
      "Epoch 78 complete! Validation Accuracy : 0.9162500000000001\n",
      "Best validation loss improved from 0.19515855924079292 to 0.19472961912029668\n",
      "\n",
      "\n",
      "Iteration 14/74 of epoch 79 complete. Loss : 0.06510179276977267 \n",
      "\n",
      "Iteration 28/74 of epoch 79 complete. Loss : 0.05535481524254594 \n",
      "\n",
      "Iteration 42/74 of epoch 79 complete. Loss : 0.05868625135294029 \n"
     ]
    },
    {
     "output_type": "stream",
     "name": "stderr",
     "text": [
      "100%|██████████| 74/74 [00:00<00:00, 227.25it/s]\n",
      "100%|██████████| 19/19 [00:00<00:00, 320.86it/s]\n"
     ]
    },
    {
     "output_type": "stream",
     "name": "stdout",
     "text": [
      "\n",
      "Iteration 56/74 of epoch 79 complete. Loss : 0.06198421227080481 \n",
      "\n",
      "Iteration 70/74 of epoch 79 complete. Loss : 0.06100338005593845 \n"
     ]
    },
    {
     "output_type": "stream",
     "name": "stderr",
     "text": [
      " 22%|██▏       | 16/74 [00:00<00:00, 157.90it/s]"
     ]
    },
    {
     "output_type": "stream",
     "name": "stdout",
     "text": [
      "\n",
      "Epoch 79 complete! Validation Loss : 0.19443039360799289\n",
      "Epoch 79 complete! Validation Accuracy : 0.9154276315789475\n",
      "Best validation loss improved from 0.19472961912029668 to 0.19443039360799289\n",
      "\n",
      "\n",
      "Iteration 14/74 of epoch 80 complete. Loss : 0.06419142122779574 \n"
     ]
    },
    {
     "output_type": "stream",
     "name": "stderr",
     "text": [
      " 76%|███████▌  | 56/74 [00:00<00:00, 138.71it/s]"
     ]
    },
    {
     "output_type": "stream",
     "name": "stdout",
     "text": [
      "\n",
      "Iteration 28/74 of epoch 80 complete. Loss : 0.05464427173137665 \n",
      "\n",
      "Iteration 42/74 of epoch 80 complete. Loss : 0.05793988199106285 \n",
      "\n",
      "Iteration 56/74 of epoch 80 complete. Loss : 0.06106630978839738 \n"
     ]
    },
    {
     "output_type": "stream",
     "name": "stderr",
     "text": [
      "100%|██████████| 74/74 [00:00<00:00, 131.35it/s]\n",
      "100%|██████████| 19/19 [00:00<00:00, 238.99it/s]\n"
     ]
    },
    {
     "output_type": "stream",
     "name": "stdout",
     "text": [
      "\n",
      "Iteration 70/74 of epoch 80 complete. Loss : 0.06015896052122116 \n"
     ]
    },
    {
     "output_type": "stream",
     "name": "stderr",
     "text": [
      " 20%|██        | 15/74 [00:00<00:00, 130.68it/s]"
     ]
    },
    {
     "output_type": "stream",
     "name": "stdout",
     "text": [
      "\n",
      "Epoch 80 complete! Validation Loss : 0.19410876302342667\n",
      "Epoch 80 complete! Validation Accuracy : 0.9154276315789475\n",
      "Best validation loss improved from 0.19443039360799289 to 0.19410876302342667\n",
      "\n",
      "\n",
      "Iteration 14/74 of epoch 81 complete. Loss : 0.06330152813877378 \n",
      "\n",
      "Iteration 28/74 of epoch 81 complete. Loss : 0.053987550150070875 \n"
     ]
    },
    {
     "output_type": "stream",
     "name": "stderr",
     "text": [
      "100%|██████████| 74/74 [00:00<00:00, 188.34it/s]\n",
      "  0%|          | 0/19 [00:00<?, ?it/s]"
     ]
    },
    {
     "output_type": "stream",
     "name": "stdout",
     "text": [
      "\n",
      "Iteration 42/74 of epoch 81 complete. Loss : 0.057154909308467595 \n",
      "\n",
      "Iteration 56/74 of epoch 81 complete. Loss : 0.060214798631412644 \n",
      "\n",
      "Iteration 70/74 of epoch 81 complete. Loss : 0.059356692380138805 \n"
     ]
    },
    {
     "output_type": "stream",
     "name": "stderr",
     "text": [
      "100%|██████████| 19/19 [00:00<00:00, 419.43it/s]\n",
      " 27%|██▋       | 20/74 [00:00<00:00, 198.00it/s]"
     ]
    },
    {
     "output_type": "stream",
     "name": "stdout",
     "text": [
      "\n",
      "Epoch 81 complete! Validation Loss : 0.19380167205082743\n",
      "Epoch 81 complete! Validation Accuracy : 0.9154276315789475\n",
      "Best validation loss improved from 0.19410876302342667 to 0.19380167205082743\n",
      "\n",
      "\n",
      "Iteration 14/74 of epoch 82 complete. Loss : 0.062439428376299996 \n",
      "\n",
      "Iteration 28/74 of epoch 82 complete. Loss : 0.05324196123651096 \n"
     ]
    },
    {
     "output_type": "stream",
     "name": "stderr",
     "text": [
      " 80%|███████▉  | 59/74 [00:00<00:00, 137.50it/s]"
     ]
    },
    {
     "output_type": "stream",
     "name": "stdout",
     "text": [
      "\n",
      "Iteration 42/74 of epoch 82 complete. Loss : 0.05648431554436684 \n",
      "\n",
      "Iteration 56/74 of epoch 82 complete. Loss : 0.059362443696175306 \n"
     ]
    },
    {
     "output_type": "stream",
     "name": "stderr",
     "text": [
      "100%|██████████| 74/74 [00:00<00:00, 132.85it/s]\n",
      "  0%|          | 0/19 [00:00<?, ?it/s]"
     ]
    },
    {
     "output_type": "stream",
     "name": "stdout",
     "text": [
      "\n",
      "Iteration 70/74 of epoch 82 complete. Loss : 0.05853923011038985 \n"
     ]
    },
    {
     "output_type": "stream",
     "name": "stderr",
     "text": [
      "100%|██████████| 19/19 [00:00<00:00, 94.50it/s] \n",
      " 28%|██▊       | 21/74 [00:00<00:00, 205.37it/s]"
     ]
    },
    {
     "output_type": "stream",
     "name": "stdout",
     "text": [
      "\n",
      "Epoch 82 complete! Validation Loss : 0.19343465645062297\n",
      "Epoch 82 complete! Validation Accuracy : 0.9162500000000001\n",
      "Best validation loss improved from 0.19380167205082743 to 0.19343465645062297\n",
      "\n",
      "\n",
      "Iteration 14/74 of epoch 83 complete. Loss : 0.06171822468084948 \n",
      "\n",
      "Iteration 28/74 of epoch 83 complete. Loss : 0.05249891696231706 \n"
     ]
    },
    {
     "output_type": "stream",
     "name": "stderr",
     "text": [
      "100%|██████████| 74/74 [00:00<00:00, 199.57it/s]\n",
      "  0%|          | 0/19 [00:00<?, ?it/s]"
     ]
    },
    {
     "output_type": "stream",
     "name": "stdout",
     "text": [
      "\n",
      "Iteration 42/74 of epoch 83 complete. Loss : 0.055708758266908784 \n",
      "\n",
      "Iteration 56/74 of epoch 83 complete. Loss : 0.05856563177491937 \n",
      "\n",
      "Iteration 70/74 of epoch 83 complete. Loss : 0.05767769153629031 \n"
     ]
    },
    {
     "output_type": "stream",
     "name": "stderr",
     "text": [
      "100%|██████████| 19/19 [00:00<00:00, 201.90it/s]\n",
      " 28%|██▊       | 21/74 [00:00<00:00, 203.40it/s]"
     ]
    },
    {
     "output_type": "stream",
     "name": "stdout",
     "text": [
      "\n",
      "Epoch 83 complete! Validation Loss : 0.19321600622252413\n",
      "Epoch 83 complete! Validation Accuracy : 0.9170723684210527\n",
      "Best validation loss improved from 0.19343465645062297 to 0.19321600622252413\n",
      "\n",
      "\n",
      "Iteration 14/74 of epoch 84 complete. Loss : 0.06068229302763939 \n",
      "\n",
      "Iteration 28/74 of epoch 84 complete. Loss : 0.0517839640378952 \n"
     ]
    },
    {
     "output_type": "stream",
     "name": "stderr",
     "text": [
      "100%|██████████| 74/74 [00:00<00:00, 192.76it/s]\n",
      "100%|██████████| 19/19 [00:00<00:00, 390.55it/s]"
     ]
    },
    {
     "output_type": "stream",
     "name": "stdout",
     "text": [
      "\n",
      "Iteration 42/74 of epoch 84 complete. Loss : 0.05495534970292023 \n",
      "\n",
      "Iteration 56/74 of epoch 84 complete. Loss : 0.0577024764248303 \n",
      "\n",
      "Iteration 70/74 of epoch 84 complete. Loss : 0.056898659361260276 \n"
     ]
    },
    {
     "output_type": "stream",
     "name": "stderr",
     "text": [
      "\n",
      " 22%|██▏       | 16/74 [00:00<00:00, 151.31it/s]"
     ]
    },
    {
     "output_type": "stream",
     "name": "stdout",
     "text": [
      "\n",
      "Epoch 84 complete! Validation Loss : 0.19280524473441274\n",
      "Epoch 84 complete! Validation Accuracy : 0.9170723684210527\n",
      "Best validation loss improved from 0.19321600622252413 to 0.19280524473441274\n",
      "\n",
      "\n",
      "Iteration 14/74 of epoch 85 complete. Loss : 0.05989522726408073 \n",
      "\n",
      "Iteration 28/74 of epoch 85 complete. Loss : 0.05103436617978981 \n"
     ]
    },
    {
     "output_type": "stream",
     "name": "stderr",
     "text": [
      " 88%|████████▊ | 65/74 [00:00<00:00, 142.29it/s]"
     ]
    },
    {
     "output_type": "stream",
     "name": "stdout",
     "text": [
      "\n",
      "Iteration 42/74 of epoch 85 complete. Loss : 0.054220096075109074 \n",
      "\n",
      "Iteration 56/74 of epoch 85 complete. Loss : 0.0569134426436254 \n"
     ]
    },
    {
     "output_type": "stream",
     "name": "stderr",
     "text": [
      "100%|██████████| 74/74 [00:00<00:00, 147.15it/s]\n",
      "100%|██████████| 19/19 [00:00<00:00, 339.23it/s]\n",
      "  0%|          | 0/74 [00:00<?, ?it/s]"
     ]
    },
    {
     "output_type": "stream",
     "name": "stdout",
     "text": [
      "\n",
      "Iteration 70/74 of epoch 85 complete. Loss : 0.05612137700830187 \n",
      "\n",
      "Epoch 85 complete! Validation Loss : 0.19249634131004936\n",
      "Epoch 85 complete! Validation Accuracy : 0.9170723684210527\n",
      "Best validation loss improved from 0.19280524473441274 to 0.19249634131004936\n",
      "\n"
     ]
    },
    {
     "output_type": "stream",
     "name": "stderr",
     "text": [
      " 35%|███▌      | 26/74 [00:00<00:00, 131.46it/s]"
     ]
    },
    {
     "output_type": "stream",
     "name": "stdout",
     "text": [
      "\n",
      "Iteration 14/74 of epoch 86 complete. Loss : 0.05900370915021215 \n",
      "\n",
      "Iteration 28/74 of epoch 86 complete. Loss : 0.050295716151595116 \n",
      "\n",
      "Iteration 42/74 of epoch 86 complete. Loss : 0.05350878568632262 \n"
     ]
    },
    {
     "output_type": "stream",
     "name": "stderr",
     "text": [
      "100%|██████████| 74/74 [00:00<00:00, 133.01it/s]\n",
      "100%|██████████| 19/19 [00:00<00:00, 366.02it/s]"
     ]
    },
    {
     "output_type": "stream",
     "name": "stdout",
     "text": [
      "\n",
      "Iteration 56/74 of epoch 86 complete. Loss : 0.05611587076314858 \n",
      "\n",
      "Iteration 70/74 of epoch 86 complete. Loss : 0.0553214605897665 \n"
     ]
    },
    {
     "output_type": "stream",
     "name": "stderr",
     "text": [
      "\n",
      " 34%|███▍      | 25/74 [00:00<00:00, 249.14it/s]"
     ]
    },
    {
     "output_type": "stream",
     "name": "stdout",
     "text": [
      "\n",
      "Epoch 86 complete! Validation Loss : 0.1922934635689384\n",
      "Epoch 86 complete! Validation Accuracy : 0.917483552631579\n",
      "Best validation loss improved from 0.19249634131004936 to 0.1922934635689384\n",
      "\n",
      "\n",
      "Iteration 14/74 of epoch 87 complete. Loss : 0.058010966650077274 \n",
      "\n",
      "Iteration 28/74 of epoch 87 complete. Loss : 0.04966140378798757 \n",
      "\n",
      "Iteration 42/74 of epoch 87 complete. Loss : 0.05283206222312791 \n"
     ]
    },
    {
     "output_type": "stream",
     "name": "stderr",
     "text": [
      "100%|██████████| 74/74 [00:00<00:00, 233.86it/s]\n",
      "100%|██████████| 19/19 [00:00<00:00, 238.22it/s]\n"
     ]
    },
    {
     "output_type": "stream",
     "name": "stdout",
     "text": [
      "\n",
      "Iteration 56/74 of epoch 87 complete. Loss : 0.0552668281431709 \n",
      "\n",
      "Iteration 70/74 of epoch 87 complete. Loss : 0.05455358326435089 \n"
     ]
    },
    {
     "output_type": "stream",
     "name": "stderr",
     "text": [
      " 16%|█▌        | 12/74 [00:00<00:00, 114.69it/s]"
     ]
    },
    {
     "output_type": "stream",
     "name": "stdout",
     "text": [
      "\n",
      "Epoch 87 complete! Validation Loss : 0.19204811908696828\n",
      "Epoch 87 complete! Validation Accuracy : 0.9178947368421053\n",
      "Best validation loss improved from 0.1922934635689384 to 0.19204811908696828\n",
      "\n",
      "\n",
      "Iteration 14/74 of epoch 88 complete. Loss : 0.05717279123408454 \n",
      "\n",
      "Iteration 28/74 of epoch 88 complete. Loss : 0.04891725709395749 \n"
     ]
    },
    {
     "output_type": "stream",
     "name": "stderr",
     "text": [
      " 76%|███████▌  | 56/74 [00:00<00:00, 102.25it/s]"
     ]
    },
    {
     "output_type": "stream",
     "name": "stdout",
     "text": [
      "\n",
      "Iteration 42/74 of epoch 88 complete. Loss : 0.052140205832464356 \n",
      "\n",
      "Iteration 56/74 of epoch 88 complete. Loss : 0.05446005931922367 \n"
     ]
    },
    {
     "output_type": "stream",
     "name": "stderr",
     "text": [
      "100%|██████████| 74/74 [00:00<00:00, 92.64it/s]\n",
      "100%|██████████| 19/19 [00:00<00:00, 229.12it/s]\n",
      "  0%|          | 0/74 [00:00<?, ?it/s]"
     ]
    },
    {
     "output_type": "stream",
     "name": "stdout",
     "text": [
      "\n",
      "Iteration 70/74 of epoch 88 complete. Loss : 0.05374182148703507 \n",
      "\n",
      "Epoch 88 complete! Validation Loss : 0.19179236339895347\n",
      "Epoch 88 complete! Validation Accuracy : 0.9170723684210527\n",
      "Best validation loss improved from 0.19204811908696828 to 0.19179236339895347\n",
      "\n"
     ]
    },
    {
     "output_type": "stream",
     "name": "stderr",
     "text": [
      " 59%|█████▉    | 44/74 [00:00<00:00, 216.19it/s]"
     ]
    },
    {
     "output_type": "stream",
     "name": "stdout",
     "text": [
      "\n",
      "Iteration 14/74 of epoch 89 complete. Loss : 0.0562155440981899 \n",
      "\n",
      "Iteration 28/74 of epoch 89 complete. Loss : 0.04825351227607046 \n",
      "\n",
      "Iteration 42/74 of epoch 89 complete. Loss : 0.05152831253196512 \n",
      "\n",
      "Iteration 56/74 of epoch 89 complete. Loss : 0.05348601272063596 \n"
     ]
    },
    {
     "output_type": "stream",
     "name": "stderr",
     "text": [
      "100%|██████████| 74/74 [00:00<00:00, 210.84it/s]\n",
      "100%|██████████| 19/19 [00:00<00:00, 177.71it/s]\n",
      "  0%|          | 0/74 [00:00<?, ?it/s]"
     ]
    },
    {
     "output_type": "stream",
     "name": "stdout",
     "text": [
      "\n",
      "Iteration 70/74 of epoch 89 complete. Loss : 0.05292940139770508 \n",
      "\n",
      "Epoch 89 complete! Validation Loss : 0.19174312604101082\n",
      "Epoch 89 complete! Validation Accuracy : 0.9178947368421053\n",
      "Best validation loss improved from 0.19179236339895347 to 0.19174312604101082\n",
      "\n"
     ]
    },
    {
     "output_type": "stream",
     "name": "stderr",
     "text": [
      " 53%|█████▎    | 39/74 [00:00<00:00, 200.25it/s]"
     ]
    },
    {
     "output_type": "stream",
     "name": "stdout",
     "text": [
      "\n",
      "Iteration 14/74 of epoch 90 complete. Loss : 0.05535553715058735 \n",
      "\n",
      "Iteration 28/74 of epoch 90 complete. Loss : 0.04747667323265757 \n",
      "\n",
      "Iteration 42/74 of epoch 90 complete. Loss : 0.05081215314567089 \n"
     ]
    },
    {
     "output_type": "stream",
     "name": "stderr",
     "text": [
      "100%|██████████| 74/74 [00:00<00:00, 187.01it/s]\n",
      "100%|██████████| 19/19 [00:00<00:00, 256.39it/s]"
     ]
    },
    {
     "output_type": "stream",
     "name": "stdout",
     "text": [
      "\n",
      "Iteration 56/74 of epoch 90 complete. Loss : 0.05269960127770901 \n",
      "\n",
      "Iteration 70/74 of epoch 90 complete. Loss : 0.052141182124614716 \n"
     ]
    },
    {
     "output_type": "stream",
     "name": "stderr",
     "text": [
      "\n",
      " 24%|██▍       | 18/74 [00:00<00:00, 176.94it/s]"
     ]
    },
    {
     "output_type": "stream",
     "name": "stdout",
     "text": [
      "\n",
      "Epoch 90 complete! Validation Loss : 0.191172151973373\n",
      "Epoch 90 complete! Validation Accuracy : 0.9191282894736843\n",
      "Best validation loss improved from 0.19174312604101082 to 0.191172151973373\n",
      "\n",
      "\n",
      "Iteration 14/74 of epoch 91 complete. Loss : 0.05447312683931419 \n",
      "\n",
      "Iteration 28/74 of epoch 91 complete. Loss : 0.04676170567316668 \n"
     ]
    },
    {
     "output_type": "stream",
     "name": "stderr",
     "text": [
      " 84%|████████▍ | 62/74 [00:00<00:00, 134.93it/s]"
     ]
    },
    {
     "output_type": "stream",
     "name": "stdout",
     "text": [
      "\n",
      "Iteration 42/74 of epoch 91 complete. Loss : 0.049881427947963984 \n",
      "\n",
      "Iteration 56/74 of epoch 91 complete. Loss : 0.05194629994886262 \n"
     ]
    },
    {
     "output_type": "stream",
     "name": "stderr",
     "text": [
      "100%|██████████| 74/74 [00:00<00:00, 144.35it/s]\n",
      "100%|██████████| 19/19 [00:00<00:00, 180.97it/s]\n",
      "  0%|          | 0/74 [00:00<?, ?it/s]"
     ]
    },
    {
     "output_type": "stream",
     "name": "stdout",
     "text": [
      "\n",
      "Iteration 70/74 of epoch 91 complete. Loss : 0.051365744322538376 \n",
      "\n",
      "Epoch 91 complete! Validation Loss : 0.19102237648085543\n",
      "Epoch 91 complete! Validation Accuracy : 0.919950657894737\n",
      "Best validation loss improved from 0.191172151973373 to 0.19102237648085543\n",
      "\n"
     ]
    },
    {
     "output_type": "stream",
     "name": "stderr",
     "text": [
      " 35%|███▌      | 26/74 [00:00<00:00, 128.68it/s]"
     ]
    },
    {
     "output_type": "stream",
     "name": "stdout",
     "text": [
      "\n",
      "Iteration 14/74 of epoch 92 complete. Loss : 0.05356878920325211 \n",
      "\n",
      "Iteration 28/74 of epoch 92 complete. Loss : 0.046020708712083955 \n"
     ]
    },
    {
     "output_type": "stream",
     "name": "stderr",
     "text": [
      " 84%|████████▍ | 62/74 [00:00<00:00, 120.16it/s]"
     ]
    },
    {
     "output_type": "stream",
     "name": "stdout",
     "text": [
      "\n",
      "Iteration 42/74 of epoch 92 complete. Loss : 0.04922748250620706 \n",
      "\n",
      "Iteration 56/74 of epoch 92 complete. Loss : 0.05113321090383189 \n",
      "\n",
      "Iteration 70/74 of epoch 92 complete. Loss : 0.05064279652599778 \n"
     ]
    },
    {
     "output_type": "stream",
     "name": "stderr",
     "text": [
      "100%|██████████| 74/74 [00:00<00:00, 121.45it/s]\n",
      "100%|██████████| 19/19 [00:00<00:00, 223.02it/s]\n",
      " 30%|██▉       | 22/74 [00:00<00:00, 217.68it/s]"
     ]
    },
    {
     "output_type": "stream",
     "name": "stdout",
     "text": [
      "\n",
      "Epoch 92 complete! Validation Loss : 0.19073769371760518\n",
      "Epoch 92 complete! Validation Accuracy : 0.9191282894736843\n",
      "Best validation loss improved from 0.19102237648085543 to 0.19073769371760518\n",
      "\n",
      "\n",
      "Iteration 14/74 of epoch 93 complete. Loss : 0.05271714925765991 \n",
      "\n",
      "Iteration 28/74 of epoch 93 complete. Loss : 0.04536052141338587 \n"
     ]
    },
    {
     "output_type": "stream",
     "name": "stderr",
     "text": [
      " 73%|███████▎  | 54/74 [00:00<00:00, 162.89it/s]"
     ]
    },
    {
     "output_type": "stream",
     "name": "stdout",
     "text": [
      "\n",
      "Iteration 42/74 of epoch 93 complete. Loss : 0.0484368982059615 \n",
      "\n",
      "Iteration 56/74 of epoch 93 complete. Loss : 0.05023517512849399 \n"
     ]
    },
    {
     "output_type": "stream",
     "name": "stderr",
     "text": [
      "100%|██████████| 74/74 [00:00<00:00, 170.27it/s]\n",
      "100%|██████████| 19/19 [00:00<00:00, 288.79it/s]\n"
     ]
    },
    {
     "output_type": "stream",
     "name": "stdout",
     "text": [
      "\n",
      "Iteration 70/74 of epoch 93 complete. Loss : 0.049817792672131746 \n"
     ]
    },
    {
     "output_type": "stream",
     "name": "stderr",
     "text": [
      " 11%|█         | 8/74 [00:00<00:00, 71.16it/s]"
     ]
    },
    {
     "output_type": "stream",
     "name": "stdout",
     "text": [
      "\n",
      "Epoch 93 complete! Validation Loss : 0.19039755667510785\n",
      "Epoch 93 complete! Validation Accuracy : 0.919950657894737\n",
      "Best validation loss improved from 0.19073769371760518 to 0.19039755667510785\n",
      "\n",
      "\n",
      "Iteration 14/74 of epoch 94 complete. Loss : 0.05178917598511491 \n"
     ]
    },
    {
     "output_type": "stream",
     "name": "stderr",
     "text": [
      "100%|██████████| 74/74 [00:00<00:00, 142.63it/s]\n",
      "  0%|          | 0/19 [00:00<?, ?it/s]"
     ]
    },
    {
     "output_type": "stream",
     "name": "stdout",
     "text": [
      "\n",
      "Iteration 28/74 of epoch 94 complete. Loss : 0.04452784585633448 \n",
      "\n",
      "Iteration 42/74 of epoch 94 complete. Loss : 0.04780791965978486 \n",
      "\n",
      "Iteration 56/74 of epoch 94 complete. Loss : 0.049491135137421746 \n",
      "\n",
      "Iteration 70/74 of epoch 94 complete. Loss : 0.04908235889992544 \n"
     ]
    },
    {
     "output_type": "stream",
     "name": "stderr",
     "text": [
      "100%|██████████| 19/19 [00:00<00:00, 407.10it/s]\n",
      " 31%|███       | 23/74 [00:00<00:00, 223.13it/s]"
     ]
    },
    {
     "output_type": "stream",
     "name": "stdout",
     "text": [
      "\n",
      "Epoch 94 complete! Validation Loss : 0.1902938375347539\n",
      "Epoch 94 complete! Validation Accuracy : 0.9211842105263158\n",
      "Best validation loss improved from 0.19039755667510785 to 0.1902938375347539\n",
      "\n",
      "\n",
      "Iteration 14/74 of epoch 95 complete. Loss : 0.05085797980427742 \n",
      "\n",
      "Iteration 28/74 of epoch 95 complete. Loss : 0.043849219168935506 \n"
     ]
    },
    {
     "output_type": "stream",
     "name": "stderr",
     "text": [
      "100%|██████████| 74/74 [00:00<00:00, 179.75it/s]\n",
      "  0%|          | 0/19 [00:00<?, ?it/s]"
     ]
    },
    {
     "output_type": "stream",
     "name": "stdout",
     "text": [
      "\n",
      "Iteration 42/74 of epoch 95 complete. Loss : 0.04704665818384716 \n",
      "\n",
      "Iteration 56/74 of epoch 95 complete. Loss : 0.04861177770154817 \n",
      "\n",
      "Iteration 70/74 of epoch 95 complete. Loss : 0.04830523766577244 \n"
     ]
    },
    {
     "output_type": "stream",
     "name": "stderr",
     "text": [
      "100%|██████████| 19/19 [00:00<00:00, 219.55it/s]\n",
      " 38%|███▊      | 28/74 [00:00<00:00, 279.30it/s]"
     ]
    },
    {
     "output_type": "stream",
     "name": "stdout",
     "text": [
      "\n",
      "Epoch 95 complete! Validation Loss : 0.18996207808193408\n",
      "Epoch 95 complete! Validation Accuracy : 0.9211842105263158\n",
      "Best validation loss improved from 0.1902938375347539 to 0.18996207808193408\n",
      "\n",
      "\n",
      "Iteration 14/74 of epoch 96 complete. Loss : 0.049950652356658666 \n",
      "\n",
      "Iteration 28/74 of epoch 96 complete. Loss : 0.043110353872179985 \n",
      "\n",
      "Iteration 42/74 of epoch 96 complete. Loss : 0.04624219185539654 \n"
     ]
    },
    {
     "output_type": "stream",
     "name": "stderr",
     "text": [
      "100%|██████████| 74/74 [00:00<00:00, 232.52it/s]\n",
      "  0%|          | 0/19 [00:00<?, ?it/s]"
     ]
    },
    {
     "output_type": "stream",
     "name": "stdout",
     "text": [
      "\n",
      "Iteration 56/74 of epoch 96 complete. Loss : 0.047867586969264915 \n",
      "\n",
      "Iteration 70/74 of epoch 96 complete. Loss : 0.047637926547655036 \n"
     ]
    },
    {
     "output_type": "stream",
     "name": "stderr",
     "text": [
      "100%|██████████| 19/19 [00:00<00:00, 169.63it/s]\n",
      " 19%|█▉        | 14/74 [00:00<00:00, 130.33it/s]"
     ]
    },
    {
     "output_type": "stream",
     "name": "stdout",
     "text": [
      "\n",
      "Epoch 96 complete! Validation Loss : 0.18994784904153725\n",
      "Epoch 96 complete! Validation Accuracy : 0.9211842105263158\n",
      "Best validation loss improved from 0.18996207808193408 to 0.18994784904153725\n",
      "\n",
      "\n",
      "Iteration 14/74 of epoch 97 complete. Loss : 0.04899473993905953 \n"
     ]
    },
    {
     "output_type": "stream",
     "name": "stderr",
     "text": [
      " 61%|██████    | 45/74 [00:00<00:00, 141.06it/s]"
     ]
    },
    {
     "output_type": "stream",
     "name": "stdout",
     "text": [
      "\n",
      "Iteration 28/74 of epoch 97 complete. Loss : 0.04239583574235439 \n",
      "\n",
      "Iteration 42/74 of epoch 97 complete. Loss : 0.045493576276515214 \n",
      "\n",
      "Iteration 56/74 of epoch 97 complete. Loss : 0.04704733804932663 \n"
     ]
    },
    {
     "output_type": "stream",
     "name": "stderr",
     "text": [
      "100%|██████████| 74/74 [00:00<00:00, 141.76it/s]\n",
      "100%|██████████| 19/19 [00:00<00:00, 268.42it/s]\n",
      "  0%|          | 0/74 [00:00<?, ?it/s]"
     ]
    },
    {
     "output_type": "stream",
     "name": "stdout",
     "text": [
      "\n",
      "Iteration 70/74 of epoch 97 complete. Loss : 0.0468804824299046 \n",
      "\n",
      "Epoch 97 complete! Validation Loss : 0.18967200109833166\n",
      "Epoch 97 complete! Validation Accuracy : 0.9220065789473685\n",
      "Best validation loss improved from 0.18994784904153725 to 0.18967200109833166\n",
      "\n"
     ]
    },
    {
     "output_type": "stream",
     "name": "stderr",
     "text": [
      " 47%|████▋     | 35/74 [00:00<00:00, 158.91it/s]"
     ]
    },
    {
     "output_type": "stream",
     "name": "stdout",
     "text": [
      "\n",
      "Iteration 14/74 of epoch 98 complete. Loss : 0.04813441527741296 \n",
      "\n",
      "Iteration 28/74 of epoch 98 complete. Loss : 0.04163606358425958 \n",
      "\n",
      "Iteration 42/74 of epoch 98 complete. Loss : 0.04469274902450187 \n"
     ]
    },
    {
     "output_type": "stream",
     "name": "stderr",
     "text": [
      "100%|██████████| 74/74 [00:00<00:00, 202.74it/s]\n",
      "100%|██████████| 19/19 [00:00<00:00, 427.35it/s]\n",
      "  0%|          | 0/74 [00:00<?, ?it/s]"
     ]
    },
    {
     "output_type": "stream",
     "name": "stdout",
     "text": [
      "\n",
      "Iteration 56/74 of epoch 98 complete. Loss : 0.04623608597155128 \n",
      "\n",
      "Iteration 70/74 of epoch 98 complete. Loss : 0.046132013600851805 \n",
      "\n",
      "Epoch 98 complete! Validation Loss : 0.18944065272808075\n",
      "Epoch 98 complete! Validation Accuracy : 0.9224177631578948\n",
      "Best validation loss improved from 0.18967200109833166 to 0.18944065272808075\n",
      "\n"
     ]
    },
    {
     "output_type": "stream",
     "name": "stderr",
     "text": [
      " 49%|████▊     | 36/74 [00:00<00:00, 175.84it/s]"
     ]
    },
    {
     "output_type": "stream",
     "name": "stdout",
     "text": [
      "\n",
      "Iteration 14/74 of epoch 99 complete. Loss : 0.04720992940877165 \n",
      "\n",
      "Iteration 28/74 of epoch 99 complete. Loss : 0.04092563808496509 \n",
      "\n",
      "Iteration 42/74 of epoch 99 complete. Loss : 0.04385479087276118 \n"
     ]
    },
    {
     "output_type": "stream",
     "name": "stderr",
     "text": [
      "100%|██████████| 74/74 [00:00<00:00, 168.64it/s]\n",
      "100%|██████████| 19/19 [00:00<00:00, 242.33it/s]\n"
     ]
    },
    {
     "output_type": "stream",
     "name": "stdout",
     "text": [
      "\n",
      "Iteration 56/74 of epoch 99 complete. Loss : 0.04542918623025928 \n",
      "\n",
      "Iteration 70/74 of epoch 99 complete. Loss : 0.04541028583688395 \n"
     ]
    },
    {
     "output_type": "stream",
     "name": "stderr",
     "text": [
      " 19%|█▉        | 14/74 [00:00<00:00, 115.98it/s]"
     ]
    },
    {
     "output_type": "stream",
     "name": "stdout",
     "text": [
      "\n",
      "Epoch 99 complete! Validation Loss : 0.18929482212192134\n",
      "Epoch 99 complete! Validation Accuracy : 0.9224177631578948\n",
      "Best validation loss improved from 0.18944065272808075 to 0.18929482212192134\n",
      "\n",
      "\n",
      "Iteration 14/74 of epoch 100 complete. Loss : 0.04634916569505419 \n"
     ]
    },
    {
     "output_type": "stream",
     "name": "stderr",
     "text": [
      " 72%|███████▏  | 53/74 [00:00<00:00, 102.08it/s]"
     ]
    },
    {
     "output_type": "stream",
     "name": "stdout",
     "text": [
      "\n",
      "Iteration 28/74 of epoch 100 complete. Loss : 0.040174859043742926 \n",
      "\n",
      "Iteration 42/74 of epoch 100 complete. Loss : 0.04310368427208492 \n",
      "\n",
      "Iteration 56/74 of epoch 100 complete. Loss : 0.04458039014467171 \n",
      "\n",
      "Iteration 70/74 of epoch 100 complete. Loss : 0.044638912725661485 \n"
     ]
    },
    {
     "output_type": "stream",
     "name": "stderr",
     "text": [
      "100%|██████████| 74/74 [00:00<00:00, 132.90it/s]\n",
      "100%|██████████| 19/19 [00:00<00:00, 216.00it/s]"
     ]
    },
    {
     "output_type": "stream",
     "name": "stdout",
     "text": [
      "\n",
      "Epoch 100 complete! Validation Loss : 0.18923099731144152\n",
      "Epoch 100 complete! Validation Accuracy : 0.9232401315789475\n",
      "Best validation loss improved from 0.18929482212192134 to 0.18923099731144152\n",
      "\n",
      "The model has been saved in saved_models/class_contrast_bert_lr_3e-05_val_loss_0.18923_ep_100.pt\n"
     ]
    },
    {
     "output_type": "stream",
     "name": "stderr",
     "text": [
      "\n"
     ]
    }
   ],
   "metadata": {}
  },
  {
   "cell_type": "code",
   "execution_count": 21,
   "source": [
    "def evaluate(prediction_dataloader, model, path_to_model, load = False):\n",
    "\t# Prediction on test set\n",
    "\tif load:\n",
    "\t\tprint(\"Loading the weights of the model...\")\n",
    "\t\tmodel.load_state_dict(torch.load(path_to_model))\n",
    "\n",
    "\tprint('Evaluating on the testset')\n",
    "\n",
    "\t# Put model in evaluation mode\n",
    "\tmodel.eval()\n",
    "\n",
    "\t# Tracking variables \n",
    "\tpredictions , true_labels = [], []\n",
    "\n",
    "\t# Predict \n",
    "\tfor batch in prediction_dataloader:\n",
    "\t  # Add batch to GPU\n",
    "\t  batch = tuple(t.to(device) for t in batch)\n",
    "\t  \n",
    "\t  # Unpack the inputs from our dataloader\n",
    "\t  b_t_inputs, b_s_inputs, b_labels = batch\n",
    "\t  \n",
    "\t  # Telling the model not to compute or store gradients, saving memory and \n",
    "\t  # speeding up prediction\n",
    "\t  with torch.no_grad():\n",
    "\t      # Forward pass, calculate logit predictions\n",
    "\t      logits = model(b_t_inputs, b_s_inputs)\n",
    "\n",
    "\t  # Move logits and labels to CPU\n",
    "\t  logits = logits.detach().cpu().numpy()\n",
    "\t  label_ids = b_labels.to('cpu').numpy()\n",
    "\n",
    "\t  pred_flat = np.argmax(logits, axis=1).flatten()\n",
    "\t  labels_flat = label_ids.flatten()\n",
    "\t  \n",
    "\t  # Store predictions and true labels\n",
    "\t  predictions.extend(pred_flat)\n",
    "\t  true_labels.extend(labels_flat)\n",
    "\n",
    "\tprint('DONE.')\n",
    "\n",
    "\t# Code for result display\n",
    "\tprint('NovFake Multi-Modal Classification accuracy is')\n",
    "\tprint(metrics.accuracy_score(true_labels, predictions)*100)\n",
    "\tprint(classification_report(true_labels, predictions, target_names = ['fake', 'real']))\n",
    "\t# Converting to csv\n",
    "\t# Removed transpose - check if actually required\n",
    "\tmodel_name = 'class_contrast'\n",
    "\tclsf_report = pd.DataFrame(classification_report(y_true = true_labels, y_pred = predictions, output_dict=True, target_names = ['fake', 'real']))\n",
    "\tclsf_report.to_csv(str('saved_models/'+model_name+'.csv'), index= True)"
   ],
   "outputs": [],
   "metadata": {}
  },
  {
   "cell_type": "code",
   "execution_count": 22,
   "source": [
    "path_to_model = 'saved_models/class_contrast_lr_3e-05_val_loss_0.53957_ep_100.pt'\n",
    "evaluate(test_dataloader, model, path_to_model = path_to_model, load = False)"
   ],
   "outputs": [
    {
     "output_type": "stream",
     "name": "stdout",
     "text": [
      "Evaluating on the testset\n",
      "DONE.\n",
      "NovFake Multi-Modal Classification accuracy is\n",
      "92.26847918436704\n",
      "              precision    recall  f1-score   support\n",
      "\n",
      "        fake       0.91      0.91      0.91      1031\n",
      "        real       0.93      0.93      0.93      1323\n",
      "\n",
      "    accuracy                           0.92      2354\n",
      "   macro avg       0.92      0.92      0.92      2354\n",
      "weighted avg       0.92      0.92      0.92      2354\n",
      "\n"
     ]
    }
   ],
   "metadata": {}
  }
 ],
 "metadata": {
  "orig_nbformat": 4,
  "language_info": {
   "name": "python",
   "version": "3.6.11",
   "mimetype": "text/x-python",
   "codemirror_mode": {
    "name": "ipython",
    "version": 3
   },
   "pygments_lexer": "ipython3",
   "nbconvert_exporter": "python",
   "file_extension": ".py"
  },
  "kernelspec": {
   "name": "python3",
   "display_name": "Python 3.6.11 64-bit ('nischalbert': conda)"
  },
  "interpreter": {
   "hash": "0696385c5246d56224b3df6a6986a599d480293d408bf11c4f5f6fcdcc1568f1"
  }
 },
 "nbformat": 4,
 "nbformat_minor": 2
}