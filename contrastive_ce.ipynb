{
 "cells": [
  {
   "cell_type": "code",
   "execution_count": 1,
   "metadata": {},
   "outputs": [],
   "source": [
    "import os\n",
    "gpu_number = \"0\" # Choose either 0 or 1\n",
    "os.environ['CUDA_ENVIRONMENT_DEVICES'] = gpu_number"
   ]
  },
  {
   "cell_type": "code",
   "execution_count": 2,
   "metadata": {},
   "outputs": [],
   "source": [
    "import os\n",
    "import sys\n",
    "import numpy as np\n",
    "from numpy import asarray,zeros\n",
    "import pandas as pd \n",
    "from sklearn.model_selection import train_test_split\n",
    "import torch\n",
    "from torch.utils.data import TensorDataset, DataLoader, RandomSampler, SequentialSampler, Dataset\n",
    "import torch.nn as nn\n",
    "import torch.nn.functional as F\n",
    "import torch.optim as optim\n",
    "from tqdm import tqdm\n",
    "import matplotlib.pyplot as plt\n",
    "import copy\n",
    "from sklearn.model_selection import train_test_split\n",
    "from sklearn import metrics\n",
    "from sklearn.metrics import classification_report\n",
    "import transformers\n",
    "from transformers import BertTokenizer\n",
    "from transformers import AdamW, get_linear_schedule_with_warmup\n",
    "from transformers import AutoTokenizer, AutoModel, AutoConfig, AdamW, get_linear_schedule_with_warmup\n",
    "from tensorflow.keras.preprocessing.text import Tokenizer\n",
    "from tensorflow.keras.preprocessing.sequence import pad_sequences\n",
    "import timm\n",
    "from losses import SupConLoss\n",
    "from torchlars import LARS"
   ]
  },
  {
   "cell_type": "code",
   "execution_count": 3,
   "metadata": {},
   "outputs": [
    {
     "name": "stdout",
     "output_type": "stream",
     "text": [
      "Using device cuda:0\n"
     ]
    }
   ],
   "source": [
    "if torch.cuda.is_available():\n",
    "    device_name = \"cuda:\" + gpu_number\n",
    "    device = torch.device(device_name)\n",
    "else:\n",
    "    device = torch.device(\"cpu\")\n",
    "# device = torch.device(\"cpu\") # Force CPU\n",
    "print(\"Using device\", device)"
   ]
  },
  {
   "cell_type": "markdown",
   "metadata": {},
   "source": [
    "# Loading Data"
   ]
  },
  {
   "cell_type": "code",
   "execution_count": 4,
   "metadata": {},
   "outputs": [],
   "source": [
    "demark_dict = {'Snp':{'start':0, 'end':1663},\n",
    "                'Rtr':{'start':1664, 'end':2630},\n",
    "                'Rcv':{'start':2631, 'end':4716},\n",
    "                'Tcn':{'start':4717, 'end':11765}}"
   ]
  },
  {
   "cell_type": "code",
   "execution_count": 5,
   "metadata": {},
   "outputs": [
    {
     "name": "stdout",
     "output_type": "stream",
     "text": [
      "Model name contrast_ce_vbert_faux\n",
      "Source shape (2629, 768)\n",
      "Target shape (2629, 768)\n",
      "Labels shape (2629,)\n"
     ]
    }
   ],
   "source": [
    "# Loading Choice\n",
    "base_model_name = 'vbert' # choice 'vbert' or 'rbert'\n",
    "dataset_split = 'faux' # 'full' or 'faux' or 'ticnn' or 'recov'\n",
    "model_name = ''\n",
    "if base_model_name =='rbert':\n",
    "    source_multimodal_data_full = np.load(\"../data/source_multimodal_out.npy\")\n",
    "    target_multimodal_data_full = np.load(\"../data/target_multimodal_out.npy\")\n",
    "    labels_data_full = np.load(\"../data/labels.npy\").squeeze(1)\n",
    "    contrastive_model_path = 'saved_models/contrast_head_rbert_lr_5_ep_1000.pt'\n",
    "    model_name = 'contrast_ce_rbert'\n",
    "elif base_model_name == 'vbert':\n",
    "    source_multimodal_data_full = np.load(\"../data/source_mm_vbert.npy\")\n",
    "    target_multimodal_data_full = np.load(\"../data/target_mm_vbert.npy\")\n",
    "    labels_data_full = np.load(\"../data/labels.npy\").squeeze(1)\n",
    "    contrastive_model_path = 'saved_models/contrast_head_vbert_lr_5_ep_1000.pt'\n",
    "    model_name = 'contrast_ce_vbert'\n",
    "\n",
    "if dataset_split == 'full':\n",
    "    source_multimodal_data = source_multimodal_data_full\n",
    "    target_multimodal_data = target_multimodal_data_full\n",
    "    labels_data = labels_data_full\n",
    "    model_name = model_name + '_full'\n",
    "elif dataset_split == 'faux':\n",
    "    src_snoopes = source_multimodal_data_full[demark_dict['Snp']['start']:demark_dict['Snp']['end'],:]\n",
    "    tar_snoopes = target_multimodal_data_full[demark_dict['Snp']['start']:demark_dict['Snp']['end'],:]\n",
    "    lab_snoopes = labels_data_full[demark_dict['Snp']['start']:demark_dict['Snp']['end']]\n",
    "    src_rtr = source_multimodal_data_full[demark_dict['Rtr']['start']:demark_dict['Rtr']['end'],:]\n",
    "    tar_rtr = target_multimodal_data_full[demark_dict['Rtr']['start']:demark_dict['Rtr']['end'],:]\n",
    "    lab_tar = labels_data_full[demark_dict['Rtr']['start']:demark_dict['Rtr']['end']]\n",
    "    source_multimodal_data = np.concatenate((src_snoopes, src_rtr), axis=0)\n",
    "    target_multimodal_data = np.concatenate((tar_snoopes, tar_rtr), axis=0)\n",
    "    labels_data = np.concatenate((lab_snoopes, lab_tar), axis=0)\n",
    "    model_name = model_name + '_faux'\n",
    "elif dataset_split == 'recov':\n",
    "    source_multimodal_data = source_multimodal_data_full[demark_dict['Rcv']['start']:demark_dict['Rcv']['end'],:]\n",
    "    target_multimodal_data = target_multimodal_data_full[demark_dict['Rcv']['start']:demark_dict['Rcv']['end'],:]\n",
    "    labels_data = labels_data_full[demark_dict['Rcv']['start']:demark_dict['Rcv']['end']]\n",
    "    model_name = model_name + '_recov'\n",
    "elif dataset_split == 'ticnn':\n",
    "    source_multimodal_data = source_multimodal_data_full[demark_dict['Tcn']['start']:demark_dict['Tcn']['end'],:]\n",
    "    target_multimodal_data = target_multimodal_data_full[demark_dict['Tcn']['start']:demark_dict['Tcn']['end'],:]\n",
    "    labels_data = labels_data_full[demark_dict['Tcn']['start']:demark_dict['Tcn']['end']]\n",
    "    model_name = model_name + '_ticnn'\n",
    "\n",
    "#TODO: Printing the shape of the model\n",
    "print('Model name', model_name)\n",
    "print('Source shape', source_multimodal_data.shape)\n",
    "print('Target shape', target_multimodal_data.shape)\n",
    "print('Labels shape', labels_data.shape)"
   ]
  },
  {
   "cell_type": "code",
   "execution_count": 6,
   "metadata": {},
   "outputs": [
    {
     "name": "stdout",
     "output_type": "stream",
     "text": [
      "tensor([0.5287, 0.4713], device='cuda:0')\n"
     ]
    }
   ],
   "source": [
    "#TODO: Get Class weights\n",
    "from collections import Counter \n",
    "weights = Counter(labels_data)\n",
    "fake_weight = weights[1]/(weights[0]+weights[1])\n",
    "real_weight = weights[0]/(weights[0]+weights[1])\n",
    "class_weights = torch.tensor([fake_weight, real_weight], device=device)\n",
    "print(class_weights)"
   ]
  },
  {
   "cell_type": "code",
   "execution_count": 7,
   "metadata": {},
   "outputs": [],
   "source": [
    "# # NOTE: Resnet+BERT Multimodal data\n",
    "# source_multimodal_arr = np.load(\"../data/source_multimodal_out.npy\")\n",
    "# target_multimodal_arr = np.load(\"../data/target_multimodal_out.npy\")\n",
    "# print(\"Source shape\", source_multimodal_arr.shape)\n",
    "# print(\"Target shape\", target_multimodal_arr.shape)"
   ]
  },
  {
   "cell_type": "code",
   "execution_count": 8,
   "metadata": {},
   "outputs": [],
   "source": [
    "# # NOTE: Import Visual BERT Multimodal data\n",
    "# source_multimodal_arr = np.load(\"../data/source_mm_vbert.npy\")\n",
    "# target_multimodal_arr = np.load(\"../data/target_mm_vbert.npy\")"
   ]
  },
  {
   "cell_type": "code",
   "execution_count": 9,
   "metadata": {},
   "outputs": [],
   "source": [
    "# # New features\n",
    "# diff_arr = source_multimodal_arr - target_multimodal_arr\n",
    "# mul_diff_arr = source_multimodal_arr * diff_arr\n",
    "# print(\"Source shape\", diff_arr.shape)\n",
    "# print(\"Target shape\", mul_diff_arr.shape)"
   ]
  },
  {
   "cell_type": "code",
   "execution_count": 10,
   "metadata": {},
   "outputs": [],
   "source": [
    "# # Considering only the text parts - #TODO: Comment if not necessary\n",
    "# source_multimodal_arr = source_multimodal_arr[:,768:] # Only BERT\n",
    "# target_multimodal_arr = target_multimodal_arr[:,768:] # Only BERT\n",
    "# print(\"Source shape\", source_multimodal_arr.shape)\n",
    "# print(\"Target shape\", target_multimodal_arr.shape)"
   ]
  },
  {
   "cell_type": "code",
   "execution_count": 11,
   "metadata": {},
   "outputs": [
    {
     "name": "stdout",
     "output_type": "stream",
     "text": [
      "Source shape torch.Size([2629, 768])\n",
      "Target shape torch.Size([2629, 768])\n"
     ]
    }
   ],
   "source": [
    "# NOTE: Old features\n",
    "source_multimodal_tensor = torch.tensor(source_multimodal_data, device=device)\n",
    "target_multimodal_tensor = torch.tensor(target_multimodal_data, device=device)\n",
    "print(\"Source shape\", source_multimodal_tensor.shape)\n",
    "print(\"Target shape\", target_multimodal_tensor.shape)"
   ]
  },
  {
   "cell_type": "code",
   "execution_count": 12,
   "metadata": {},
   "outputs": [],
   "source": [
    "# #NOTE: New features (NOT GOOD)\n",
    "# diff_arr = torch.tensor(diff_arr, device=device)\n",
    "# mul_diff_arr = torch.tensor(mul_diff_arr, device=device)\n",
    "# print(\"Source shape\", diff_arr.shape)\n",
    "# print(\"Target shape\", mul_diff_arr.shape)"
   ]
  },
  {
   "cell_type": "code",
   "execution_count": 13,
   "metadata": {},
   "outputs": [],
   "source": [
    "# # Loading the label\n",
    "# labels_data = np.load(\"../data/labels.npy\")\n",
    "# labels_tensor = torch.tensor(labels_data, dtype=torch.long, device=device).squeeze(-1)\n",
    "# print('Labels tensor shape', labels_tensor.shape)"
   ]
  },
  {
   "cell_type": "code",
   "execution_count": 14,
   "metadata": {},
   "outputs": [],
   "source": [
    "#TODO: Add Pytorch DataLoader\n",
    "def get_data_loader(batch_size, target_input, source_input, labels, split_type = 'train'):\n",
    "    target_input = torch.tensor(target_input, device=device)\n",
    "    source_input = torch.tensor(source_input, device=device)\n",
    "    labels = torch.tensor(labels, dtype=torch.long, device=device)\n",
    "    data = TensorDataset(target_input, source_input, labels)\n",
    "    if split_type == 'train':\n",
    "        sampler = RandomSampler(data)\n",
    "    elif split_type == 'val':\n",
    "        sampler = SequentialSampler(data)\n",
    "    dataloader = DataLoader(data, sampler=sampler, batch_size=batch_size)\n",
    "    return data, sampler, dataloader"
   ]
  },
  {
   "cell_type": "code",
   "execution_count": 15,
   "metadata": {},
   "outputs": [],
   "source": [
    "# # NOTE: Old features\n",
    "# train_target, test_target, train_source, test_source, train_labels, test_labels = train_test_split(target_multimodal_tensor, source_multimodal_tensor, labels_tensor, test_size=0.2, random_state=43)"
   ]
  },
  {
   "cell_type": "code",
   "execution_count": 16,
   "metadata": {},
   "outputs": [],
   "source": [
    "# NOTE: New Split\n",
    "train_src, test_src, train_tar, test_tar, train_labels, test_labels = train_test_split(source_multimodal_data, target_multimodal_data, labels_data, test_size=0.2, random_state=43)"
   ]
  },
  {
   "cell_type": "code",
   "execution_count": 17,
   "metadata": {},
   "outputs": [
    {
     "name": "stderr",
     "output_type": "stream",
     "text": [
      "/sda/rina_1921cs13/anaconda3/envs/newnisbert/lib/python3.6/site-packages/ipykernel_launcher.py:5: UserWarning: To copy construct from a tensor, it is recommended to use sourceTensor.clone().detach() or sourceTensor.clone().detach().requires_grad_(True), rather than torch.tensor(sourceTensor).\n",
      "  \"\"\"\n"
     ]
    }
   ],
   "source": [
    "batch_size = 128\n",
    "train_labels = torch.tensor(train_labels, dtype=torch.long, device =device)\n",
    "test_labels = torch.tensor(test_labels, dtype=torch.long, device =device)\n",
    "train_data, train_sampler, train_dataloader = get_data_loader(batch_size, train_tar, train_src, train_labels, 'train')\n",
    "test_data, test_sampler, test_dataloader = get_data_loader(batch_size, test_tar, test_src, test_labels, 'val')"
   ]
  },
  {
   "cell_type": "code",
   "execution_count": 18,
   "metadata": {},
   "outputs": [],
   "source": [
    "# # For Visual BERT only (Expt)\n",
    "# class ContrastiveModelVisualBERT(nn.Module):\n",
    "#     def __init__(self, initial_dim):\n",
    "#         super(ContrastiveModelVisualBERT, self).__init__()\n",
    "#         self.project_1 = nn.Linear(initial_dim, 512, bias=True)\n",
    "#         # self.project_2 = nn.Linear(512, 128, bias=True)\n",
    "#         # self.dropout = nn.Dropout(0.2)\n",
    "#     def forward(self, multimodal_input):\n",
    "#         contrast_space = self.project_1(multimodal_input)\n",
    "#         normalize_contrast = F.normalize(contrast_space, dim=2)\n",
    "#         return normalize_contrast"
   ]
  },
  {
   "cell_type": "code",
   "execution_count": 19,
   "metadata": {},
   "outputs": [],
   "source": [
    "# Model imported from the previous network\n",
    "class ContrastiveModel(nn.Module):\n",
    "    def __init__(self, initial_dim):\n",
    "        super(ContrastiveModel, self).__init__()\n",
    "        self.project_1 = nn.Linear(initial_dim, 512, bias=True)\n",
    "        self.project_2 = nn.Linear(512, 128, bias=True)\n",
    "        self.dropout = nn.Dropout(0.2)\n",
    "    def forward(self, multimodal_input):\n",
    "        contrast_space = self.project_2(self.project_1(multimodal_input))\n",
    "        normalize_contrast = F.normalize(contrast_space, dim=2)\n",
    "        return normalize_contrast"
   ]
  },
  {
   "cell_type": "code",
   "execution_count": 20,
   "metadata": {},
   "outputs": [],
   "source": [
    "# Define classification model\n",
    "class ContrastiveClassification(nn.Module):\n",
    "    def __init__(self, initial_dim):\n",
    "        super(ContrastiveClassification, self).__init__()\n",
    "        self.contrastive_model = ContrastiveModel(initial_dim) # For generic model\n",
    "        # self.contrastive_model = ContrastiveModelVisualBERT(initial_dim) # For visual BERT only\n",
    "        # self.contrastive_model.load_state_dict(torch.load('saved_models/contrast_head_lr_5_ep_1000_old.pt')) # BEST for R-BERT\n",
    "        # self.contrastive_model.load_state_dict(torch.load('saved_models/contrast_head_rbert_lr_5_ep_1000.pt')) # For R-BERT\n",
    "        # self.contrastive_model.load_state_dict(torch.load('saved_models/contrast_head_visualbert_lr_5_ep_1000.pt')) # For V-BERT\n",
    "        self.contrastive_model.load_state_dict(torch.load(contrastive_model_path))\n",
    "        for param in self.contrastive_model.parameters():\n",
    "            param.requires_grad = False\n",
    "        self.reduce_1 = nn.Linear((512)*3, 512)\n",
    "        self.tanh1 = nn.Tanh()\n",
    "        self.logits_layer = nn.Linear(512, 2)\n",
    "    def forward(self, target_input, source_input):\n",
    "        fixed_target = self.contrastive_model.project_1(target_input)\n",
    "        fixed_source = self.contrastive_model.project_1(source_input)\n",
    "        add_op = fixed_target + fixed_source\n",
    "        sub_op = fixed_target - fixed_source\n",
    "        mul_op = fixed_target * fixed_source\n",
    "        combine_t_s = torch.cat((add_op, sub_op, mul_op), 1)\n",
    "        reduce_output = self.tanh1(self.reduce_1(combine_t_s))\n",
    "        logits = self.logits_layer(reduce_output)\n",
    "        return logits"
   ]
  },
  {
   "cell_type": "code",
   "execution_count": 21,
   "metadata": {},
   "outputs": [],
   "source": [
    "# TODO: Get Classification model\n",
    "initial_dim = source_multimodal_tensor.shape[1]\n",
    "class_model = ContrastiveClassification(initial_dim).to(device) # For old model"
   ]
  },
  {
   "cell_type": "code",
   "execution_count": 22,
   "metadata": {},
   "outputs": [],
   "source": [
    "# Optimizer and scheduler\n",
    "def get_optimizer_scheduler(name, model, train_dataloader_len, epochs, lr_set):\n",
    "\tif name == \"Adam\":\n",
    "\t\toptimizer = AdamW(model.parameters(),\n",
    "                  lr = lr_set, # args.learning_rate - default is 5e-5, our notebook had 2e-5\n",
    "                  eps = 1e-8 # args.adam_epsilon  - default is 1e-8.\n",
    "\t\t)\n",
    "\telif name == \"LARS-SGD\":\n",
    "\t\tbase_optimizer = optim.SGD(model.parameters(), lr=lr_set, momentum=0.9)\n",
    "\t\toptimizer = LARS(optimizer=base_optimizer, eps=1e-8, trust_coef=0.001)\n",
    "\n",
    "\ttotal_steps = train_dataloader_len * epochs\n",
    "\n",
    "\t# Create the learning rate scheduler.\n",
    "\tscheduler = get_linear_schedule_with_warmup(optimizer, \n",
    "\t\t\t\t\t\t\t\t\t\t\t\tnum_warmup_steps = total_steps//2, # Default value in run_glue.py\n",
    "\t\t\t\t\t\t\t\t\t\t\t\tnum_training_steps = total_steps)\n",
    "\treturn optimizer, scheduler"
   ]
  },
  {
   "cell_type": "code",
   "execution_count": 23,
   "metadata": {},
   "outputs": [],
   "source": [
    "# Getting the optimizer and scheduler\n",
    "epochs = 100\n",
    "lr = 3e-5 # Less LR\n",
    "# lr = 0.5\n",
    "iters_to_accumulate = 2\n",
    "name = \"Adam\"\n",
    "# name = \"LARS-SGD\"\n",
    "if base_model_name == 'vbert' and dataset_split == 'recov':\n",
    "    criterion = nn.CrossEntropyLoss(class_weights)\n",
    "else:\n",
    "    criterion = nn.CrossEntropyLoss()\n",
    "optimizer, scheduler = get_optimizer_scheduler(name, class_model, len(train_dataloader), epochs, lr)"
   ]
  },
  {
   "cell_type": "code",
   "execution_count": 24,
   "metadata": {},
   "outputs": [],
   "source": [
    "################ Evaluating Loss ######################\n",
    "#######################################################\n",
    "def evaluate_loss(net, device, criterion, dataloader):\n",
    "    net.eval()\n",
    "    mean_loss = 0\n",
    "    count = 0\n",
    "    with torch.no_grad():\n",
    "        for it, (target_inputs, source_inputs, labels) in enumerate(tqdm(dataloader)):\n",
    "            target_inputs, source_inputs, labels = target_inputs.to(device), source_inputs.to(device), labels.to(device)\n",
    "            logits = net(target_inputs, source_inputs)\n",
    "            mean_loss += criterion(logits.squeeze(-1), labels).item() # initially it was logits.squeeze(-1)\n",
    "            count += 1\n",
    "    return mean_loss / count"
   ]
  },
  {
   "cell_type": "code",
   "execution_count": 25,
   "metadata": {},
   "outputs": [],
   "source": [
    "################ Flat Accuracy Calculation ####################\n",
    "###############################################################\n",
    "def flat_accuracy(preds, labels):\n",
    "    pred_flat = np.argmax(preds, axis=1).flatten()\n",
    "    labels_flat = labels.flatten()\n",
    "    return np.sum(pred_flat == labels_flat) / len(labels_flat)\n",
    "################ Validation Accuracy Calculation ####################\n",
    "###############################################################\n",
    "def evaluate_accuracy(model, device, validation_dataloader):\n",
    "\tmodel.eval()\n",
    "\t# Tracking variables \n",
    "\teval_loss, eval_accuracy = 0, 0\n",
    "\tnb_eval_steps, nb_eval_examples = 0, 0\n",
    "\t# Evaluate data for one epoch\n",
    "\tfor batch in validation_dataloader:\n",
    "\t    # Add batch to GPU\n",
    "\t    batch = tuple(t.to(device) for t in batch)\t    \n",
    "\t    # Unpack the inputs from our dataloader\n",
    "\t    b_t_inputs, b_s_inputs, b_labels = batch\t    \n",
    "\t    \n",
    "\t    # Telling the model not to compute or store gradients, saving memory and\n",
    "\t    # speeding up validation\n",
    "\t    with torch.no_grad(): \n",
    "\t    \t# Forward pass, calculate logit predictions.\n",
    "\t        # This will return the logits rather than the loss because we have\n",
    "\t        # not provided labels.\n",
    "\t    \tlogits = model(b_t_inputs, b_s_inputs)       \n",
    "\n",
    "\t    # Move logits and labels to CPU\n",
    "\t    logits = logits.detach().cpu().numpy()\n",
    "\t    label_ids = b_labels.to('cpu').numpy()\n",
    "\t    \n",
    "\t    # Calculate the accuracy for this batch of test sentences.\n",
    "\t    tmp_eval_accuracy = flat_accuracy(logits, label_ids)\n",
    "\t    \n",
    "\t    # Accumulate the total accuracy.\n",
    "\t    eval_accuracy += tmp_eval_accuracy\n",
    "\n",
    "\t    # Track the number of batches\n",
    "\t    nb_eval_steps += 1\n",
    "\taccuracy = eval_accuracy/nb_eval_steps\n",
    "\treturn accuracy"
   ]
  },
  {
   "cell_type": "code",
   "execution_count": 26,
   "metadata": {},
   "outputs": [],
   "source": [
    "def train_model(net, criterion, opti, lr, lr_scheduler, train_loader, val_loader, epochs, iters_to_accumulate):\n",
    "    best_loss = np.Inf\n",
    "    best_ep = 1\n",
    "    nb_iterations = len(train_loader)\n",
    "    print_every = nb_iterations // 5  # print the training loss 5 times per epoch\n",
    "    iters = []\n",
    "    train_losses = []\n",
    "    val_losses = []\n",
    "    # Iterating over all epochs\n",
    "    for ep in range(epochs):\n",
    "        net.train()\n",
    "        running_loss = 0.0\n",
    "        for it, (target_inputs, source_inputs, labels) in enumerate(tqdm(train_loader)):\n",
    "\n",
    "            # Converting to cuda tensors\n",
    "            target_inputs, source_inputs, labels = target_inputs.to(device), source_inputs.to(device), labels.to(device)\n",
    "    \t\t\n",
    "            # Obtaining the logits from the model\n",
    "            logits = net(target_inputs, source_inputs)\n",
    "            # print(logits.device)\n",
    "\n",
    "            # Computing loss\n",
    "            # print(logits.squeeze(-1).shape)\n",
    "            # print(labels.shape)\n",
    "            loss = criterion(logits.squeeze(-1), labels)\n",
    "            loss = loss / iters_to_accumulate  # Normalize the loss because it is averaged\n",
    "\n",
    "            # Backpropagating the gradients\n",
    "            # Calls backward()\n",
    "            loss.backward()\n",
    "\n",
    "            if (it + 1) % iters_to_accumulate == 0:\n",
    "                # Optimization step\n",
    "                # scaler.step() first unscales the gradients of the optimizer's assigned params.\n",
    "                # If these gradients do not contain infs or NaNs, opti.step() is then called,\n",
    "                # otherwise, opti.step() is skipped.\n",
    "                opti.step()\n",
    "                # Adjust the learning rate based on the number of iterations.\n",
    "                lr_scheduler.step()\n",
    "                # Clear gradients\n",
    "                net.zero_grad()\n",
    "\n",
    "\n",
    "            running_loss += loss.item()\n",
    "\n",
    "            if (it + 1) % print_every == 0:  # Print training loss information\n",
    "                print()\n",
    "                print(\"Iteration {}/{} of epoch {} complete. Loss : {} \"\n",
    "                      .format(it+1, nb_iterations, ep+1, running_loss / print_every))\n",
    "\n",
    "                running_loss = 0.0\n",
    "\n",
    "\n",
    "        val_loss = evaluate_loss(net, device, criterion, val_loader)  # Compute validation loss\n",
    "        val_accuracy = evaluate_accuracy(net, device, val_loader)\n",
    "        print()\n",
    "        print(\"Epoch {} complete! Validation Loss : {}\".format(ep+1, val_loss))\n",
    "        print(\"Epoch {} complete! Validation Accuracy : {}\".format(ep+1, val_accuracy))\n",
    "\n",
    "        if val_loss < best_loss:\n",
    "            print(\"Best validation loss improved from {} to {}\".format(best_loss, val_loss))\n",
    "            print()\n",
    "            net_copy = copy.deepcopy(net)  # save a copy of the model\n",
    "            best_loss = val_loss\n",
    "            best_ep = ep + 1\n",
    "\n",
    "    # Saving the model\n",
    "    path_to_model='saved_models/{}_lr_{}_val_loss_{}_ep_{}.pt'.format(model_name, lr, round(best_loss, 5), best_ep)\n",
    "    torch.save(net_copy.state_dict(), path_to_model)\n",
    "    net.load_state_dict(torch.load(path_to_model)) # Re-Loading the best model\n",
    "    print(\"The model has been saved in {}\".format(path_to_model))\n",
    "\n",
    "    del loss\n",
    "    torch.cuda.empty_cache()\n",
    "    return net, model_name"
   ]
  },
  {
   "cell_type": "code",
   "execution_count": 27,
   "metadata": {},
   "outputs": [
    {
     "name": "stderr",
     "output_type": "stream",
     "text": [
      "100%|██████████| 17/17 [00:00<00:00, 136.77it/s]\n",
      "100%|██████████| 5/5 [00:00<00:00, 174.46it/s]\n",
      "  0%|          | 0/17 [00:00<?, ?it/s]"
     ]
    },
    {
     "name": "stdout",
     "output_type": "stream",
     "text": [
      "\n",
      "Iteration 3/17 of epoch 1 complete. Loss : 0.40404658516248065 \n",
      "\n",
      "Iteration 6/17 of epoch 1 complete. Loss : 0.41849218805631 \n",
      "\n",
      "Iteration 9/17 of epoch 1 complete. Loss : 0.39981018503506977 \n",
      "\n",
      "Iteration 12/17 of epoch 1 complete. Loss : 0.40284331639607746 \n",
      "\n",
      "Iteration 15/17 of epoch 1 complete. Loss : 0.41564565896987915 \n",
      "\n",
      "Epoch 1 complete! Validation Loss : 0.8264840126037598\n",
      "Epoch 1 complete! Validation Accuracy : 0.47209821428571425\n",
      "Best validation loss improved from inf to 0.8264840126037598\n",
      "\n",
      "\n",
      "Iteration 3/17 of epoch 2 complete. Loss : 0.4132872720559438 \n",
      "\n",
      "Iteration 6/17 of epoch 2 complete. Loss : 0.40164082249005634 \n"
     ]
    },
    {
     "name": "stderr",
     "output_type": "stream",
     "text": [
      "100%|██████████| 17/17 [00:00<00:00, 151.67it/s]\n",
      "100%|██████████| 5/5 [00:00<00:00, 215.43it/s]\n",
      "  0%|          | 0/17 [00:00<?, ?it/s]"
     ]
    },
    {
     "name": "stdout",
     "output_type": "stream",
     "text": [
      "\n",
      "Iteration 9/17 of epoch 2 complete. Loss : 0.41693682471911114 \n",
      "\n",
      "Iteration 12/17 of epoch 2 complete. Loss : 0.38543978333473206 \n",
      "\n",
      "Iteration 15/17 of epoch 2 complete. Loss : 0.41476596395174664 \n",
      "\n",
      "Epoch 2 complete! Validation Loss : 0.8145654916763305\n",
      "Epoch 2 complete! Validation Accuracy : 0.47209821428571425\n",
      "Best validation loss improved from 0.8264840126037598 to 0.8145654916763305\n",
      "\n",
      "\n",
      "Iteration 3/17 of epoch 3 complete. Loss : 0.3957955340544383 \n",
      "\n",
      "Iteration 6/17 of epoch 3 complete. Loss : 0.3945810596148173 \n",
      "\n",
      "Iteration 9/17 of epoch 3 complete. Loss : 0.3956712981065114 \n",
      "\n",
      "Iteration 12/17 of epoch 3 complete. Loss : 0.3854251801967621 \n",
      "\n",
      "Iteration 15/17 of epoch 3 complete. Loss : 0.4085841377576192 \n"
     ]
    },
    {
     "name": "stderr",
     "output_type": "stream",
     "text": [
      "100%|██████████| 17/17 [00:00<00:00, 156.85it/s]\n",
      "100%|██████████| 5/5 [00:00<00:00, 275.49it/s]\n",
      "100%|██████████| 17/17 [00:00<00:00, 144.51it/s]\n",
      "100%|██████████| 5/5 [00:00<00:00, 275.64it/s]\n",
      "  0%|          | 0/17 [00:00<?, ?it/s]"
     ]
    },
    {
     "name": "stdout",
     "output_type": "stream",
     "text": [
      "\n",
      "Epoch 3 complete! Validation Loss : 0.7954034566879272\n",
      "Epoch 3 complete! Validation Accuracy : 0.47678571428571426\n",
      "Best validation loss improved from 0.8145654916763305 to 0.7954034566879272\n",
      "\n",
      "\n",
      "Iteration 3/17 of epoch 4 complete. Loss : 0.4043941795825958 \n",
      "\n",
      "Iteration 6/17 of epoch 4 complete. Loss : 0.3817162911097209 \n",
      "\n",
      "Iteration 9/17 of epoch 4 complete. Loss : 0.3809745709101359 \n",
      "\n",
      "Iteration 12/17 of epoch 4 complete. Loss : 0.38808204730351764 \n",
      "\n",
      "Iteration 15/17 of epoch 4 complete. Loss : 0.377381553252538 \n",
      "\n",
      "Epoch 4 complete! Validation Loss : 0.7698580741882324\n",
      "Epoch 4 complete! Validation Accuracy : 0.4814732142857142\n",
      "Best validation loss improved from 0.7954034566879272 to 0.7698580741882324\n",
      "\n",
      "\n",
      "Iteration 3/17 of epoch 5 complete. Loss : 0.38237354159355164 \n"
     ]
    },
    {
     "name": "stderr",
     "output_type": "stream",
     "text": [
      "100%|██████████| 17/17 [00:00<00:00, 144.74it/s]\n",
      "100%|██████████| 5/5 [00:00<00:00, 220.75it/s]\n",
      "  0%|          | 0/17 [00:00<?, ?it/s]"
     ]
    },
    {
     "name": "stdout",
     "output_type": "stream",
     "text": [
      "\n",
      "Iteration 6/17 of epoch 5 complete. Loss : 0.3836377163728078 \n",
      "\n",
      "Iteration 9/17 of epoch 5 complete. Loss : 0.3655657370885213 \n",
      "\n",
      "Iteration 12/17 of epoch 5 complete. Loss : 0.37316303451855976 \n",
      "\n",
      "Iteration 15/17 of epoch 5 complete. Loss : 0.36985862255096436 \n",
      "\n",
      "Epoch 5 complete! Validation Loss : 0.7395588994026184\n",
      "Epoch 5 complete! Validation Accuracy : 0.4939732142857142\n",
      "Best validation loss improved from 0.7698580741882324 to 0.7395588994026184\n",
      "\n",
      "\n",
      "Iteration 3/17 of epoch 6 complete. Loss : 0.36225656668345135 \n",
      "\n",
      "Iteration 6/17 of epoch 6 complete. Loss : 0.36164246996243793 \n",
      "\n",
      "Iteration 9/17 of epoch 6 complete. Loss : 0.3542068501313527 \n"
     ]
    },
    {
     "name": "stderr",
     "output_type": "stream",
     "text": [
      "100%|██████████| 17/17 [00:00<00:00, 143.61it/s]\n",
      "100%|██████████| 5/5 [00:00<00:00, 276.73it/s]\n",
      "100%|██████████| 17/17 [00:00<00:00, 166.68it/s]\n",
      "100%|██████████| 5/5 [00:00<00:00, 216.00it/s]"
     ]
    },
    {
     "name": "stdout",
     "output_type": "stream",
     "text": [
      "\n",
      "Iteration 12/17 of epoch 6 complete. Loss : 0.35795628031094867 \n",
      "\n",
      "Iteration 15/17 of epoch 6 complete. Loss : 0.35249317685763043 \n",
      "\n",
      "Epoch 6 complete! Validation Loss : 0.7065036177635193\n",
      "Epoch 6 complete! Validation Accuracy : 0.5189732142857142\n",
      "Best validation loss improved from 0.7395588994026184 to 0.7065036177635193\n",
      "\n",
      "\n",
      "Iteration 3/17 of epoch 7 complete. Loss : 0.3503410716851552 \n",
      "\n",
      "Iteration 6/17 of epoch 7 complete. Loss : 0.34046000242233276 \n",
      "\n",
      "Iteration 9/17 of epoch 7 complete. Loss : 0.33524447679519653 \n",
      "\n",
      "Iteration 12/17 of epoch 7 complete. Loss : 0.3402299682299296 \n",
      "\n",
      "Iteration 15/17 of epoch 7 complete. Loss : 0.3356261948744456 \n"
     ]
    },
    {
     "name": "stderr",
     "output_type": "stream",
     "text": [
      "\n",
      "100%|██████████| 17/17 [00:00<00:00, 147.42it/s]\n",
      "100%|██████████| 5/5 [00:00<00:00, 258.02it/s]\n",
      "  0%|          | 0/17 [00:00<?, ?it/s]"
     ]
    },
    {
     "name": "stdout",
     "output_type": "stream",
     "text": [
      "\n",
      "Epoch 7 complete! Validation Loss : 0.6721479058265686\n",
      "Epoch 7 complete! Validation Accuracy : 0.5674107142857142\n",
      "Best validation loss improved from 0.7065036177635193 to 0.6721479058265686\n",
      "\n",
      "\n",
      "Iteration 3/17 of epoch 8 complete. Loss : 0.3279872536659241 \n",
      "\n",
      "Iteration 6/17 of epoch 8 complete. Loss : 0.33460474014282227 \n",
      "\n",
      "Iteration 9/17 of epoch 8 complete. Loss : 0.3267503579457601 \n",
      "\n",
      "Iteration 12/17 of epoch 8 complete. Loss : 0.3177008231480916 \n",
      "\n",
      "Iteration 15/17 of epoch 8 complete. Loss : 0.3214278022448222 \n",
      "\n",
      "Epoch 8 complete! Validation Loss : 0.637076735496521\n",
      "Epoch 8 complete! Validation Accuracy : 0.6330357142857143\n",
      "Best validation loss improved from 0.6721479058265686 to 0.637076735496521\n",
      "\n",
      "\n",
      "Iteration 3/17 of epoch 9 complete. Loss : 0.31605346004168194 \n",
      "\n",
      "Iteration 6/17 of epoch 9 complete. Loss : 0.3046808938185374 \n"
     ]
    },
    {
     "name": "stderr",
     "output_type": "stream",
     "text": [
      "100%|██████████| 17/17 [00:00<00:00, 158.48it/s]\n",
      "100%|██████████| 5/5 [00:00<00:00, 362.62it/s]\n",
      "100%|██████████| 17/17 [00:00<00:00, 172.53it/s]\n",
      "  0%|          | 0/5 [00:00<?, ?it/s]"
     ]
    },
    {
     "name": "stdout",
     "output_type": "stream",
     "text": [
      "\n",
      "Iteration 9/17 of epoch 9 complete. Loss : 0.3066677649815877 \n",
      "\n",
      "Iteration 12/17 of epoch 9 complete. Loss : 0.3069237172603607 \n",
      "\n",
      "Iteration 15/17 of epoch 9 complete. Loss : 0.3045284648736318 \n",
      "\n",
      "Epoch 9 complete! Validation Loss : 0.6033074021339416\n",
      "Epoch 9 complete! Validation Accuracy : 0.7223214285714286\n",
      "Best validation loss improved from 0.637076735496521 to 0.6033074021339416\n",
      "\n",
      "\n",
      "Iteration 3/17 of epoch 10 complete. Loss : 0.298889696598053 \n",
      "\n",
      "Iteration 6/17 of epoch 10 complete. Loss : 0.29130202531814575 \n",
      "\n",
      "Iteration 9/17 of epoch 10 complete. Loss : 0.2955821057160695 \n",
      "\n",
      "Iteration 12/17 of epoch 10 complete. Loss : 0.2918840249379476 \n",
      "\n",
      "Iteration 15/17 of epoch 10 complete. Loss : 0.2855464120705922 \n"
     ]
    },
    {
     "name": "stderr",
     "output_type": "stream",
     "text": [
      "100%|██████████| 5/5 [00:00<00:00, 231.72it/s]\n",
      "100%|██████████| 17/17 [00:00<00:00, 170.69it/s]\n",
      "100%|██████████| 5/5 [00:00<00:00, 247.04it/s]\n",
      "  0%|          | 0/17 [00:00<?, ?it/s]"
     ]
    },
    {
     "name": "stdout",
     "output_type": "stream",
     "text": [
      "\n",
      "Epoch 10 complete! Validation Loss : 0.5710198640823364\n",
      "Epoch 10 complete! Validation Accuracy : 0.7821428571428571\n",
      "Best validation loss improved from 0.6033074021339416 to 0.5710198640823364\n",
      "\n",
      "\n",
      "Iteration 3/17 of epoch 11 complete. Loss : 0.27537502845128375 \n",
      "\n",
      "Iteration 6/17 of epoch 11 complete. Loss : 0.27817581097284955 \n",
      "\n",
      "Iteration 9/17 of epoch 11 complete. Loss : 0.2872200012207031 \n",
      "\n",
      "Iteration 12/17 of epoch 11 complete. Loss : 0.2734437982241313 \n",
      "\n",
      "Iteration 15/17 of epoch 11 complete. Loss : 0.275375376145045 \n",
      "\n",
      "Epoch 11 complete! Validation Loss : 0.5410994291305542\n",
      "Epoch 11 complete! Validation Accuracy : 0.8151785714285713\n",
      "Best validation loss improved from 0.5710198640823364 to 0.5410994291305542\n",
      "\n",
      "\n",
      "Iteration 3/17 of epoch 12 complete. Loss : 0.26871903737386066 \n",
      "\n",
      "Iteration 6/17 of epoch 12 complete. Loss : 0.26670034726460773 \n"
     ]
    },
    {
     "name": "stderr",
     "output_type": "stream",
     "text": [
      "100%|██████████| 17/17 [00:00<00:00, 150.55it/s]\n",
      "100%|██████████| 5/5 [00:00<00:00, 309.11it/s]\n",
      "100%|██████████| 17/17 [00:00<00:00, 175.73it/s]\n",
      "100%|██████████| 5/5 [00:00<00:00, 344.33it/s]"
     ]
    },
    {
     "name": "stdout",
     "output_type": "stream",
     "text": [
      "\n",
      "Iteration 9/17 of epoch 12 complete. Loss : 0.27380701899528503 \n",
      "\n",
      "Iteration 12/17 of epoch 12 complete. Loss : 0.2527371644973755 \n",
      "\n",
      "Iteration 15/17 of epoch 12 complete. Loss : 0.2527617464462916 \n",
      "\n",
      "Epoch 12 complete! Validation Loss : 0.5145851254463196\n",
      "Epoch 12 complete! Validation Accuracy : 0.8292410714285714\n",
      "Best validation loss improved from 0.5410994291305542 to 0.5145851254463196\n",
      "\n",
      "\n",
      "Iteration 3/17 of epoch 13 complete. Loss : 0.2620210250218709 \n",
      "\n",
      "Iteration 6/17 of epoch 13 complete. Loss : 0.25823398927847546 \n",
      "\n",
      "Iteration 9/17 of epoch 13 complete. Loss : 0.2477437655131022 \n",
      "\n",
      "Iteration 12/17 of epoch 13 complete. Loss : 0.24372496704260507 \n",
      "\n",
      "Iteration 15/17 of epoch 13 complete. Loss : 0.2433948814868927 \n"
     ]
    },
    {
     "name": "stderr",
     "output_type": "stream",
     "text": [
      "\n",
      "100%|██████████| 17/17 [00:00<00:00, 178.81it/s]\n",
      "100%|██████████| 5/5 [00:00<00:00, 290.38it/s]\n",
      "  0%|          | 0/17 [00:00<?, ?it/s]"
     ]
    },
    {
     "name": "stdout",
     "output_type": "stream",
     "text": [
      "\n",
      "Epoch 13 complete! Validation Loss : 0.4909565508365631\n",
      "Epoch 13 complete! Validation Accuracy : 0.8245535714285713\n",
      "Best validation loss improved from 0.5145851254463196 to 0.4909565508365631\n",
      "\n",
      "\n",
      "Iteration 3/17 of epoch 14 complete. Loss : 0.2370789647102356 \n",
      "\n",
      "Iteration 6/17 of epoch 14 complete. Loss : 0.24676837027072906 \n",
      "\n",
      "Iteration 9/17 of epoch 14 complete. Loss : 0.24012646079063416 \n",
      "\n",
      "Iteration 12/17 of epoch 14 complete. Loss : 0.24430800477663675 \n",
      "\n",
      "Iteration 15/17 of epoch 14 complete. Loss : 0.2316407561302185 \n",
      "\n",
      "Epoch 14 complete! Validation Loss : 0.47021242380142214\n",
      "Epoch 14 complete! Validation Accuracy : 0.8261160714285714\n",
      "Best validation loss improved from 0.4909565508365631 to 0.47021242380142214\n",
      "\n",
      "\n",
      "Iteration 3/17 of epoch 15 complete. Loss : 0.22611491878827414 \n",
      "\n",
      "Iteration 6/17 of epoch 15 complete. Loss : 0.2426538715759913 \n",
      "\n",
      "Iteration 9/17 of epoch 15 complete. Loss : 0.23500827451546988 \n"
     ]
    },
    {
     "name": "stderr",
     "output_type": "stream",
     "text": [
      "100%|██████████| 17/17 [00:00<00:00, 184.81it/s]\n",
      "100%|██████████| 5/5 [00:00<00:00, 231.44it/s]\n",
      "100%|██████████| 17/17 [00:00<00:00, 177.51it/s]\n",
      "100%|██████████| 5/5 [00:00<00:00, 313.36it/s]"
     ]
    },
    {
     "name": "stdout",
     "output_type": "stream",
     "text": [
      "\n",
      "Iteration 12/17 of epoch 15 complete. Loss : 0.2279654194911321 \n",
      "\n",
      "Iteration 15/17 of epoch 15 complete. Loss : 0.23167223731676737 \n",
      "\n",
      "Epoch 15 complete! Validation Loss : 0.45166799426078796\n",
      "Epoch 15 complete! Validation Accuracy : 0.8404017857142858\n",
      "Best validation loss improved from 0.47021242380142214 to 0.45166799426078796\n",
      "\n",
      "\n",
      "Iteration 3/17 of epoch 16 complete. Loss : 0.23289546370506287 \n",
      "\n",
      "Iteration 6/17 of epoch 16 complete. Loss : 0.2213263064622879 \n",
      "\n",
      "Iteration 9/17 of epoch 16 complete. Loss : 0.22777927915255228 \n",
      "\n",
      "Iteration 12/17 of epoch 16 complete. Loss : 0.2214534878730774 \n",
      "\n",
      "Iteration 15/17 of epoch 16 complete. Loss : 0.21516235172748566 \n",
      "\n",
      "Epoch 16 complete! Validation Loss : 0.43499261140823364\n",
      "Epoch 16 complete! Validation Accuracy : 0.8466517857142858\n",
      "Best validation loss improved from 0.45166799426078796 to 0.43499261140823364\n",
      "\n"
     ]
    },
    {
     "name": "stderr",
     "output_type": "stream",
     "text": [
      "\n",
      "100%|██████████| 17/17 [00:00<00:00, 183.84it/s]\n",
      "100%|██████████| 5/5 [00:00<00:00, 272.72it/s]\n",
      "  0%|          | 0/17 [00:00<?, ?it/s]"
     ]
    },
    {
     "name": "stdout",
     "output_type": "stream",
     "text": [
      "\n",
      "Iteration 3/17 of epoch 17 complete. Loss : 0.22428336242834726 \n",
      "\n",
      "Iteration 6/17 of epoch 17 complete. Loss : 0.2131000210841497 \n",
      "\n",
      "Iteration 9/17 of epoch 17 complete. Loss : 0.2105395793914795 \n",
      "\n",
      "Iteration 12/17 of epoch 17 complete. Loss : 0.20843997597694397 \n",
      "\n",
      "Iteration 15/17 of epoch 17 complete. Loss : 0.22013923029104868 \n",
      "\n",
      "Epoch 17 complete! Validation Loss : 0.42212226390838625\n",
      "Epoch 17 complete! Validation Accuracy : 0.8513392857142857\n",
      "Best validation loss improved from 0.43499261140823364 to 0.42212226390838625\n",
      "\n",
      "\n",
      "Iteration 3/17 of epoch 18 complete. Loss : 0.21999219556649527 \n",
      "\n",
      "Iteration 6/17 of epoch 18 complete. Loss : 0.2024830530087153 \n",
      "\n",
      "Iteration 9/17 of epoch 18 complete. Loss : 0.19678022464116415 \n",
      "\n",
      "Iteration 12/17 of epoch 18 complete. Loss : 0.22585650781790415 \n"
     ]
    },
    {
     "name": "stderr",
     "output_type": "stream",
     "text": [
      "100%|██████████| 17/17 [00:00<00:00, 189.49it/s]\n",
      "100%|██████████| 5/5 [00:00<00:00, 223.75it/s]\n",
      "100%|██████████| 17/17 [00:00<00:00, 177.80it/s]\n",
      "100%|██████████| 5/5 [00:00<00:00, 289.04it/s]\n",
      "  0%|          | 0/17 [00:00<?, ?it/s]"
     ]
    },
    {
     "name": "stdout",
     "output_type": "stream",
     "text": [
      "\n",
      "Iteration 15/17 of epoch 18 complete. Loss : 0.22107145686944327 \n",
      "\n",
      "Epoch 18 complete! Validation Loss : 0.4099270761013031\n",
      "Epoch 18 complete! Validation Accuracy : 0.8529017857142858\n",
      "Best validation loss improved from 0.42212226390838625 to 0.4099270761013031\n",
      "\n",
      "\n",
      "Iteration 3/17 of epoch 19 complete. Loss : 0.19166396061579385 \n",
      "\n",
      "Iteration 6/17 of epoch 19 complete. Loss : 0.2078931430975596 \n",
      "\n",
      "Iteration 9/17 of epoch 19 complete. Loss : 0.20359888672828674 \n",
      "\n",
      "Iteration 12/17 of epoch 19 complete. Loss : 0.23048279682795206 \n",
      "\n",
      "Iteration 15/17 of epoch 19 complete. Loss : 0.19332065184911093 \n",
      "\n",
      "Epoch 19 complete! Validation Loss : 0.40003551840782164\n",
      "Epoch 19 complete! Validation Accuracy : 0.8544642857142858\n",
      "Best validation loss improved from 0.4099270761013031 to 0.40003551840782164\n",
      "\n"
     ]
    },
    {
     "name": "stderr",
     "output_type": "stream",
     "text": [
      "100%|██████████| 17/17 [00:00<00:00, 175.59it/s]\n",
      "100%|██████████| 5/5 [00:00<00:00, 286.67it/s]\n",
      "  0%|          | 0/17 [00:00<?, ?it/s]"
     ]
    },
    {
     "name": "stdout",
     "output_type": "stream",
     "text": [
      "\n",
      "Iteration 3/17 of epoch 20 complete. Loss : 0.19308315217494965 \n",
      "\n",
      "Iteration 6/17 of epoch 20 complete. Loss : 0.20182217160860697 \n",
      "\n",
      "Iteration 9/17 of epoch 20 complete. Loss : 0.20541337132453918 \n",
      "\n",
      "Iteration 12/17 of epoch 20 complete. Loss : 0.2058845857779185 \n",
      "\n",
      "Iteration 15/17 of epoch 20 complete. Loss : 0.20264533162117004 \n",
      "\n",
      "Epoch 20 complete! Validation Loss : 0.3908593475818634\n",
      "Epoch 20 complete! Validation Accuracy : 0.8513392857142857\n",
      "Best validation loss improved from 0.40003551840782164 to 0.3908593475818634\n",
      "\n",
      "\n",
      "Iteration 3/17 of epoch 21 complete. Loss : 0.19018138945102692 \n",
      "\n",
      "Iteration 6/17 of epoch 21 complete. Loss : 0.18395124872525534 \n",
      "\n",
      "Iteration 9/17 of epoch 21 complete. Loss : 0.21615123252073923 \n",
      "\n",
      "Iteration 12/17 of epoch 21 complete. Loss : 0.21032021939754486 \n"
     ]
    },
    {
     "name": "stderr",
     "output_type": "stream",
     "text": [
      "100%|██████████| 17/17 [00:00<00:00, 177.17it/s]\n",
      "100%|██████████| 5/5 [00:00<00:00, 250.10it/s]\n",
      "100%|██████████| 17/17 [00:00<00:00, 183.76it/s]\n",
      "100%|██████████| 5/5 [00:00<00:00, 239.72it/s]\n",
      "  0%|          | 0/17 [00:00<?, ?it/s]"
     ]
    },
    {
     "name": "stdout",
     "output_type": "stream",
     "text": [
      "\n",
      "Iteration 15/17 of epoch 21 complete. Loss : 0.19183647135893503 \n",
      "\n",
      "Epoch 21 complete! Validation Loss : 0.38393020033836367\n",
      "Epoch 21 complete! Validation Accuracy : 0.8513392857142857\n",
      "Best validation loss improved from 0.3908593475818634 to 0.38393020033836367\n",
      "\n",
      "\n",
      "Iteration 3/17 of epoch 22 complete. Loss : 0.18691090246041617 \n",
      "\n",
      "Iteration 6/17 of epoch 22 complete. Loss : 0.19430720806121826 \n",
      "\n",
      "Iteration 9/17 of epoch 22 complete. Loss : 0.2007712423801422 \n",
      "\n",
      "Iteration 12/17 of epoch 22 complete. Loss : 0.20394312838713327 \n",
      "\n",
      "Iteration 15/17 of epoch 22 complete. Loss : 0.19614419837792715 \n",
      "\n",
      "Epoch 22 complete! Validation Loss : 0.3788311302661896\n",
      "Epoch 22 complete! Validation Accuracy : 0.8482142857142858\n",
      "Best validation loss improved from 0.38393020033836367 to 0.3788311302661896\n",
      "\n",
      "\n",
      "Iteration 3/17 of epoch 23 complete. Loss : 0.20440469682216644 \n"
     ]
    },
    {
     "name": "stderr",
     "output_type": "stream",
     "text": [
      "100%|██████████| 17/17 [00:00<00:00, 178.36it/s]\n",
      "100%|██████████| 5/5 [00:00<00:00, 327.24it/s]\n",
      "100%|██████████| 17/17 [00:00<00:00, 185.90it/s]\n",
      "  0%|          | 0/5 [00:00<?, ?it/s]"
     ]
    },
    {
     "name": "stdout",
     "output_type": "stream",
     "text": [
      "\n",
      "Iteration 6/17 of epoch 23 complete. Loss : 0.1785222440958023 \n",
      "\n",
      "Iteration 9/17 of epoch 23 complete. Loss : 0.19886346658070883 \n",
      "\n",
      "Iteration 12/17 of epoch 23 complete. Loss : 0.19859017928441366 \n",
      "\n",
      "Iteration 15/17 of epoch 23 complete. Loss : 0.1885639727115631 \n",
      "\n",
      "Epoch 23 complete! Validation Loss : 0.370858770608902\n",
      "Epoch 23 complete! Validation Accuracy : 0.8497767857142857\n",
      "Best validation loss improved from 0.3788311302661896 to 0.370858770608902\n",
      "\n",
      "\n",
      "Iteration 3/17 of epoch 24 complete. Loss : 0.19671523571014404 \n",
      "\n",
      "Iteration 6/17 of epoch 24 complete. Loss : 0.19012872874736786 \n",
      "\n",
      "Iteration 9/17 of epoch 24 complete. Loss : 0.20576247572898865 \n",
      "\n",
      "Iteration 12/17 of epoch 24 complete. Loss : 0.1903553605079651 \n",
      "\n",
      "Iteration 15/17 of epoch 24 complete. Loss : 0.18733475108941397 \n"
     ]
    },
    {
     "name": "stderr",
     "output_type": "stream",
     "text": [
      "100%|██████████| 5/5 [00:00<00:00, 201.39it/s]\n",
      "100%|██████████| 17/17 [00:00<00:00, 164.85it/s]\n",
      "100%|██████████| 5/5 [00:00<00:00, 394.74it/s]\n",
      "  0%|          | 0/17 [00:00<?, ?it/s]"
     ]
    },
    {
     "name": "stdout",
     "output_type": "stream",
     "text": [
      "\n",
      "Epoch 24 complete! Validation Loss : 0.3680626690387726\n",
      "Epoch 24 complete! Validation Accuracy : 0.8450892857142858\n",
      "Best validation loss improved from 0.370858770608902 to 0.3680626690387726\n",
      "\n",
      "\n",
      "Iteration 3/17 of epoch 25 complete. Loss : 0.17364266018072763 \n",
      "\n",
      "Iteration 6/17 of epoch 25 complete. Loss : 0.20814451575279236 \n",
      "\n",
      "Iteration 9/17 of epoch 25 complete. Loss : 0.1794688751300176 \n",
      "\n",
      "Iteration 12/17 of epoch 25 complete. Loss : 0.2012632191181183 \n",
      "\n",
      "Iteration 15/17 of epoch 25 complete. Loss : 0.19426940381526947 \n",
      "\n",
      "Epoch 25 complete! Validation Loss : 0.36419528126716616\n",
      "Epoch 25 complete! Validation Accuracy : 0.8450892857142858\n",
      "Best validation loss improved from 0.3680626690387726 to 0.36419528126716616\n",
      "\n",
      "\n",
      "Iteration 3/17 of epoch 26 complete. Loss : 0.20215791960557303 \n",
      "\n",
      "Iteration 6/17 of epoch 26 complete. Loss : 0.1820226858059565 \n"
     ]
    },
    {
     "name": "stderr",
     "output_type": "stream",
     "text": [
      "100%|██████████| 17/17 [00:00<00:00, 137.52it/s]\n",
      "100%|██████████| 5/5 [00:00<00:00, 241.02it/s]\n",
      "  0%|          | 0/17 [00:00<?, ?it/s]"
     ]
    },
    {
     "name": "stdout",
     "output_type": "stream",
     "text": [
      "\n",
      "Iteration 9/17 of epoch 26 complete. Loss : 0.20261574784914652 \n",
      "\n",
      "Iteration 12/17 of epoch 26 complete. Loss : 0.18117096026738486 \n",
      "\n",
      "Iteration 15/17 of epoch 26 complete. Loss : 0.17649851242701212 \n",
      "\n",
      "Epoch 26 complete! Validation Loss : 0.36142525672912595\n",
      "Epoch 26 complete! Validation Accuracy : 0.8419642857142857\n",
      "Best validation loss improved from 0.36419528126716616 to 0.36142525672912595\n",
      "\n",
      "\n",
      "Iteration 3/17 of epoch 27 complete. Loss : 0.2002385358015696 \n",
      "\n",
      "Iteration 6/17 of epoch 27 complete. Loss : 0.18299278120199838 \n",
      "\n",
      "Iteration 9/17 of epoch 27 complete. Loss : 0.19152749081452689 \n",
      "\n",
      "Iteration 12/17 of epoch 27 complete. Loss : 0.1935633271932602 \n"
     ]
    },
    {
     "name": "stderr",
     "output_type": "stream",
     "text": [
      "100%|██████████| 17/17 [00:00<00:00, 156.71it/s]\n",
      "100%|██████████| 5/5 [00:00<00:00, 229.20it/s]\n",
      "100%|██████████| 17/17 [00:00<00:00, 173.37it/s]\n",
      "100%|██████████| 5/5 [00:00<00:00, 314.06it/s]\n",
      "  0%|          | 0/17 [00:00<?, ?it/s]"
     ]
    },
    {
     "name": "stdout",
     "output_type": "stream",
     "text": [
      "\n",
      "Iteration 15/17 of epoch 27 complete. Loss : 0.1744799166917801 \n",
      "\n",
      "Epoch 27 complete! Validation Loss : 0.3558427631855011\n",
      "Epoch 27 complete! Validation Accuracy : 0.8435267857142857\n",
      "Best validation loss improved from 0.36142525672912595 to 0.3558427631855011\n",
      "\n",
      "\n",
      "Iteration 3/17 of epoch 28 complete. Loss : 0.17977552115917206 \n",
      "\n",
      "Iteration 6/17 of epoch 28 complete. Loss : 0.18310179313023886 \n",
      "\n",
      "Iteration 9/17 of epoch 28 complete. Loss : 0.1923572172721227 \n",
      "\n",
      "Iteration 12/17 of epoch 28 complete. Loss : 0.18097809453805289 \n",
      "\n",
      "Iteration 15/17 of epoch 28 complete. Loss : 0.19481311738491058 \n",
      "\n",
      "Epoch 28 complete! Validation Loss : 0.35396407544612885\n",
      "Epoch 28 complete! Validation Accuracy : 0.8435267857142857\n",
      "Best validation loss improved from 0.3558427631855011 to 0.35396407544612885\n",
      "\n"
     ]
    },
    {
     "name": "stderr",
     "output_type": "stream",
     "text": [
      "100%|██████████| 17/17 [00:00<00:00, 177.78it/s]\n",
      "100%|██████████| 5/5 [00:00<00:00, 249.28it/s]\n",
      "  0%|          | 0/17 [00:00<?, ?it/s]"
     ]
    },
    {
     "name": "stdout",
     "output_type": "stream",
     "text": [
      "\n",
      "Iteration 3/17 of epoch 29 complete. Loss : 0.19915643831094107 \n",
      "\n",
      "Iteration 6/17 of epoch 29 complete. Loss : 0.18874956170717874 \n",
      "\n",
      "Iteration 9/17 of epoch 29 complete. Loss : 0.16193021337191263 \n",
      "\n",
      "Iteration 12/17 of epoch 29 complete. Loss : 0.18719636897246042 \n",
      "\n",
      "Iteration 15/17 of epoch 29 complete. Loss : 0.18254420657952627 \n",
      "\n",
      "Epoch 29 complete! Validation Loss : 0.3557866126298904\n",
      "Epoch 29 complete! Validation Accuracy : 0.8323660714285713\n",
      "\n",
      "Iteration 3/17 of epoch 30 complete. Loss : 0.1675968716541926 \n",
      "\n",
      "Iteration 6/17 of epoch 30 complete. Loss : 0.18543674548467 \n",
      "\n",
      "Iteration 9/17 of epoch 30 complete. Loss : 0.19396604597568512 \n",
      "\n",
      "Iteration 12/17 of epoch 30 complete. Loss : 0.1907453735669454 \n"
     ]
    },
    {
     "name": "stderr",
     "output_type": "stream",
     "text": [
      "100%|██████████| 17/17 [00:00<00:00, 162.61it/s]\n",
      "100%|██████████| 5/5 [00:00<00:00, 340.42it/s]\n",
      "100%|██████████| 17/17 [00:00<00:00, 134.15it/s]\n",
      "  0%|          | 0/5 [00:00<?, ?it/s]"
     ]
    },
    {
     "name": "stdout",
     "output_type": "stream",
     "text": [
      "\n",
      "Iteration 15/17 of epoch 30 complete. Loss : 0.18797089656194052 \n",
      "\n",
      "Epoch 30 complete! Validation Loss : 0.34950336813926697\n",
      "Epoch 30 complete! Validation Accuracy : 0.8292410714285714\n",
      "Best validation loss improved from 0.35396407544612885 to 0.34950336813926697\n",
      "\n",
      "\n",
      "Iteration 3/17 of epoch 31 complete. Loss : 0.17580860356489816 \n",
      "\n",
      "Iteration 6/17 of epoch 31 complete. Loss : 0.18812048435211182 \n",
      "\n",
      "Iteration 9/17 of epoch 31 complete. Loss : 0.19756223758061728 \n",
      "\n",
      "Iteration 12/17 of epoch 31 complete. Loss : 0.16719373563925424 \n",
      "\n",
      "Iteration 15/17 of epoch 31 complete. Loss : 0.17842648923397064 \n"
     ]
    },
    {
     "name": "stderr",
     "output_type": "stream",
     "text": [
      "100%|██████████| 5/5 [00:00<00:00, 200.25it/s]\n",
      "100%|██████████| 17/17 [00:00<00:00, 151.22it/s]\n",
      "100%|██████████| 5/5 [00:00<00:00, 229.24it/s]\n",
      "  0%|          | 0/17 [00:00<?, ?it/s]"
     ]
    },
    {
     "name": "stdout",
     "output_type": "stream",
     "text": [
      "\n",
      "Epoch 31 complete! Validation Loss : 0.34674216210842135\n",
      "Epoch 31 complete! Validation Accuracy : 0.8339285714285714\n",
      "Best validation loss improved from 0.34950336813926697 to 0.34674216210842135\n",
      "\n",
      "\n",
      "Iteration 3/17 of epoch 32 complete. Loss : 0.18717869619528452 \n",
      "\n",
      "Iteration 6/17 of epoch 32 complete. Loss : 0.18359374006589255 \n",
      "\n",
      "Iteration 9/17 of epoch 32 complete. Loss : 0.18682892123858133 \n",
      "\n",
      "Iteration 12/17 of epoch 32 complete. Loss : 0.18802953759829202 \n",
      "\n",
      "Iteration 15/17 of epoch 32 complete. Loss : 0.17764800290266672 \n",
      "\n",
      "Epoch 32 complete! Validation Loss : 0.3465311020612717\n",
      "Epoch 32 complete! Validation Accuracy : 0.8292410714285714\n",
      "Best validation loss improved from 0.34674216210842135 to 0.3465311020612717\n",
      "\n",
      "\n",
      "Iteration 3/17 of epoch 33 complete. Loss : 0.17945883671442667 \n",
      "\n",
      "Iteration 6/17 of epoch 33 complete. Loss : 0.1794773836930593 \n"
     ]
    },
    {
     "name": "stderr",
     "output_type": "stream",
     "text": [
      "100%|██████████| 17/17 [00:00<00:00, 165.92it/s]\n",
      "100%|██████████| 5/5 [00:00<00:00, 284.25it/s]\n",
      "100%|██████████| 17/17 [00:00<00:00, 169.66it/s]\n",
      "  0%|          | 0/5 [00:00<?, ?it/s]"
     ]
    },
    {
     "name": "stdout",
     "output_type": "stream",
     "text": [
      "\n",
      "Iteration 9/17 of epoch 33 complete. Loss : 0.18722175558408102 \n",
      "\n",
      "Iteration 12/17 of epoch 33 complete. Loss : 0.18535812199115753 \n",
      "\n",
      "Iteration 15/17 of epoch 33 complete. Loss : 0.16916345556577048 \n",
      "\n",
      "Epoch 33 complete! Validation Loss : 0.34598141312599184\n",
      "Epoch 33 complete! Validation Accuracy : 0.8308035714285713\n",
      "Best validation loss improved from 0.3465311020612717 to 0.34598141312599184\n",
      "\n",
      "\n",
      "Iteration 3/17 of epoch 34 complete. Loss : 0.17560754716396332 \n",
      "\n",
      "Iteration 6/17 of epoch 34 complete. Loss : 0.20925835768381754 \n",
      "\n",
      "Iteration 9/17 of epoch 34 complete. Loss : 0.1533374935388565 \n",
      "\n",
      "Iteration 12/17 of epoch 34 complete. Loss : 0.17908252775669098 \n",
      "\n",
      "Iteration 15/17 of epoch 34 complete. Loss : 0.1775019516547521 \n"
     ]
    },
    {
     "name": "stderr",
     "output_type": "stream",
     "text": [
      "100%|██████████| 5/5 [00:00<00:00, 242.78it/s]\n",
      "100%|██████████| 17/17 [00:00<00:00, 163.59it/s]\n",
      "100%|██████████| 5/5 [00:00<00:00, 300.70it/s]\n",
      "  0%|          | 0/17 [00:00<?, ?it/s]"
     ]
    },
    {
     "name": "stdout",
     "output_type": "stream",
     "text": [
      "\n",
      "Epoch 34 complete! Validation Loss : 0.34374940097332\n",
      "Epoch 34 complete! Validation Accuracy : 0.8339285714285714\n",
      "Best validation loss improved from 0.34598141312599184 to 0.34374940097332\n",
      "\n",
      "\n",
      "Iteration 3/17 of epoch 35 complete. Loss : 0.18076137701670328 \n",
      "\n",
      "Iteration 6/17 of epoch 35 complete. Loss : 0.15708479285240173 \n",
      "\n",
      "Iteration 9/17 of epoch 35 complete. Loss : 0.17453287541866302 \n",
      "\n",
      "Iteration 12/17 of epoch 35 complete. Loss : 0.20154222349325815 \n",
      "\n",
      "Iteration 15/17 of epoch 35 complete. Loss : 0.1719843695561091 \n",
      "\n",
      "Epoch 35 complete! Validation Loss : 0.3435495883226395\n",
      "Epoch 35 complete! Validation Accuracy : 0.8323660714285713\n",
      "Best validation loss improved from 0.34374940097332 to 0.3435495883226395\n",
      "\n",
      "\n",
      "Iteration 3/17 of epoch 36 complete. Loss : 0.1847246289253235 \n",
      "\n",
      "Iteration 6/17 of epoch 36 complete. Loss : 0.1897642066081365 \n",
      "\n",
      "Iteration 9/17 of epoch 36 complete. Loss : 0.17695724964141846 \n"
     ]
    },
    {
     "name": "stderr",
     "output_type": "stream",
     "text": [
      "100%|██████████| 17/17 [00:00<00:00, 172.44it/s]\n",
      "100%|██████████| 5/5 [00:00<00:00, 227.46it/s]\n",
      "100%|██████████| 17/17 [00:00<00:00, 174.24it/s]\n",
      "100%|██████████| 5/5 [00:00<00:00, 315.90it/s]"
     ]
    },
    {
     "name": "stdout",
     "output_type": "stream",
     "text": [
      "\n",
      "Iteration 12/17 of epoch 36 complete. Loss : 0.17337419589360556 \n",
      "\n",
      "Iteration 15/17 of epoch 36 complete. Loss : 0.15800389647483826 \n",
      "\n",
      "Epoch 36 complete! Validation Loss : 0.3429911434650421\n",
      "Epoch 36 complete! Validation Accuracy : 0.8308035714285713\n",
      "Best validation loss improved from 0.3435495883226395 to 0.3429911434650421\n",
      "\n",
      "\n",
      "Iteration 3/17 of epoch 37 complete. Loss : 0.16637827455997467 \n",
      "\n",
      "Iteration 6/17 of epoch 37 complete. Loss : 0.19308150808016458 \n",
      "\n",
      "Iteration 9/17 of epoch 37 complete. Loss : 0.17680169641971588 \n",
      "\n",
      "Iteration 12/17 of epoch 37 complete. Loss : 0.182711531718572 \n",
      "\n",
      "Iteration 15/17 of epoch 37 complete. Loss : 0.17005284627278647 \n"
     ]
    },
    {
     "name": "stderr",
     "output_type": "stream",
     "text": [
      "\n",
      "100%|██████████| 17/17 [00:00<00:00, 183.28it/s]\n",
      "100%|██████████| 5/5 [00:00<00:00, 285.02it/s]\n",
      "  0%|          | 0/17 [00:00<?, ?it/s]"
     ]
    },
    {
     "name": "stdout",
     "output_type": "stream",
     "text": [
      "\n",
      "Epoch 37 complete! Validation Loss : 0.33999761939048767\n",
      "Epoch 37 complete! Validation Accuracy : 0.8339285714285714\n",
      "Best validation loss improved from 0.3429911434650421 to 0.33999761939048767\n",
      "\n",
      "\n",
      "Iteration 3/17 of epoch 38 complete. Loss : 0.16938650608062744 \n",
      "\n",
      "Iteration 6/17 of epoch 38 complete. Loss : 0.18263316651185355 \n",
      "\n",
      "Iteration 9/17 of epoch 38 complete. Loss : 0.17952699959278107 \n",
      "\n",
      "Iteration 12/17 of epoch 38 complete. Loss : 0.18441849946975708 \n",
      "\n",
      "Iteration 15/17 of epoch 38 complete. Loss : 0.1729976087808609 \n",
      "\n",
      "Epoch 38 complete! Validation Loss : 0.34114102423191073\n",
      "Epoch 38 complete! Validation Accuracy : 0.8339285714285714\n",
      "\n",
      "Iteration 3/17 of epoch 39 complete. Loss : 0.17812548081080118 \n",
      "\n",
      "Iteration 6/17 of epoch 39 complete. Loss : 0.18133622904618582 \n",
      "\n",
      "Iteration 9/17 of epoch 39 complete. Loss : 0.19040205578009287 \n"
     ]
    },
    {
     "name": "stderr",
     "output_type": "stream",
     "text": [
      "100%|██████████| 17/17 [00:00<00:00, 178.08it/s]\n",
      "100%|██████████| 5/5 [00:00<00:00, 215.58it/s]\n",
      "100%|██████████| 17/17 [00:00<00:00, 167.00it/s]\n",
      "100%|██████████| 5/5 [00:00<00:00, 287.94it/s]"
     ]
    },
    {
     "name": "stdout",
     "output_type": "stream",
     "text": [
      "\n",
      "Iteration 12/17 of epoch 39 complete. Loss : 0.15691050390402475 \n",
      "\n",
      "Iteration 15/17 of epoch 39 complete. Loss : 0.18686039249102274 \n",
      "\n",
      "Epoch 39 complete! Validation Loss : 0.340488064289093\n",
      "Epoch 39 complete! Validation Accuracy : 0.8339285714285714\n",
      "\n",
      "Iteration 3/17 of epoch 40 complete. Loss : 0.18746735652287802 \n",
      "\n",
      "Iteration 6/17 of epoch 40 complete. Loss : 0.16897627214590707 \n",
      "\n",
      "Iteration 9/17 of epoch 40 complete. Loss : 0.16851810117562613 \n",
      "\n",
      "Iteration 12/17 of epoch 40 complete. Loss : 0.20161434511343637 \n",
      "\n",
      "Iteration 15/17 of epoch 40 complete. Loss : 0.17122916877269745 \n"
     ]
    },
    {
     "name": "stderr",
     "output_type": "stream",
     "text": [
      "\n",
      "100%|██████████| 17/17 [00:00<00:00, 180.61it/s]\n",
      "100%|██████████| 5/5 [00:00<00:00, 297.96it/s]\n",
      "  0%|          | 0/17 [00:00<?, ?it/s]"
     ]
    },
    {
     "name": "stdout",
     "output_type": "stream",
     "text": [
      "\n",
      "Epoch 40 complete! Validation Loss : 0.33647764921188356\n",
      "Epoch 40 complete! Validation Accuracy : 0.8370535714285714\n",
      "Best validation loss improved from 0.33999761939048767 to 0.33647764921188356\n",
      "\n",
      "\n",
      "Iteration 3/17 of epoch 41 complete. Loss : 0.16844847798347473 \n",
      "\n",
      "Iteration 6/17 of epoch 41 complete. Loss : 0.1746563414732615 \n",
      "\n",
      "Iteration 9/17 of epoch 41 complete. Loss : 0.18372055888175964 \n",
      "\n",
      "Iteration 12/17 of epoch 41 complete. Loss : 0.19225947062174478 \n",
      "\n",
      "Iteration 15/17 of epoch 41 complete. Loss : 0.170593390862147 \n",
      "\n",
      "Epoch 41 complete! Validation Loss : 0.34012970328330994\n",
      "Epoch 41 complete! Validation Accuracy : 0.8339285714285714\n",
      "\n",
      "Iteration 3/17 of epoch 42 complete. Loss : 0.16367805500825247 \n",
      "\n",
      "Iteration 6/17 of epoch 42 complete. Loss : 0.17601511379082999 \n",
      "\n",
      "Iteration 9/17 of epoch 42 complete. Loss : 0.1788207491238912 \n"
     ]
    },
    {
     "name": "stderr",
     "output_type": "stream",
     "text": [
      "100%|██████████| 17/17 [00:00<00:00, 162.95it/s]\n",
      "100%|██████████| 5/5 [00:00<00:00, 251.70it/s]\n",
      "100%|██████████| 17/17 [00:00<00:00, 148.22it/s]\n",
      "  0%|          | 0/5 [00:00<?, ?it/s]"
     ]
    },
    {
     "name": "stdout",
     "output_type": "stream",
     "text": [
      "\n",
      "Iteration 12/17 of epoch 42 complete. Loss : 0.16666566828886667 \n",
      "\n",
      "Iteration 15/17 of epoch 42 complete. Loss : 0.1920303205649058 \n",
      "\n",
      "Epoch 42 complete! Validation Loss : 0.33772124648094176\n",
      "Epoch 42 complete! Validation Accuracy : 0.8370535714285714\n",
      "\n",
      "Iteration 3/17 of epoch 43 complete. Loss : 0.18156161904335022 \n",
      "\n",
      "Iteration 6/17 of epoch 43 complete. Loss : 0.17940022548039755 \n",
      "\n",
      "Iteration 9/17 of epoch 43 complete. Loss : 0.19388301173845926 \n",
      "\n",
      "Iteration 12/17 of epoch 43 complete. Loss : 0.166675865650177 \n",
      "\n",
      "Iteration 15/17 of epoch 43 complete. Loss : 0.1610371619462967 \n"
     ]
    },
    {
     "name": "stderr",
     "output_type": "stream",
     "text": [
      "100%|██████████| 5/5 [00:00<00:00, 211.54it/s]\n",
      "100%|██████████| 17/17 [00:00<00:00, 143.30it/s]\n",
      "100%|██████████| 5/5 [00:00<00:00, 211.27it/s]\n",
      "  0%|          | 0/17 [00:00<?, ?it/s]"
     ]
    },
    {
     "name": "stdout",
     "output_type": "stream",
     "text": [
      "\n",
      "Epoch 43 complete! Validation Loss : 0.3376684457063675\n",
      "Epoch 43 complete! Validation Accuracy : 0.8354910714285714\n",
      "\n",
      "Iteration 3/17 of epoch 44 complete. Loss : 0.1841485152641932 \n",
      "\n",
      "Iteration 6/17 of epoch 44 complete. Loss : 0.17070284485816956 \n",
      "\n",
      "Iteration 9/17 of epoch 44 complete. Loss : 0.17754184703032175 \n",
      "\n",
      "Iteration 12/17 of epoch 44 complete. Loss : 0.19028025368849436 \n",
      "\n",
      "Iteration 15/17 of epoch 44 complete. Loss : 0.15055919686953226 \n",
      "\n",
      "Epoch 44 complete! Validation Loss : 0.3345598101615906\n",
      "Epoch 44 complete! Validation Accuracy : 0.8417410714285714\n",
      "Best validation loss improved from 0.33647764921188356 to 0.3345598101615906\n",
      "\n",
      "\n",
      "Iteration 3/17 of epoch 45 complete. Loss : 0.18891379733880362 \n"
     ]
    },
    {
     "name": "stderr",
     "output_type": "stream",
     "text": [
      "100%|██████████| 17/17 [00:00<00:00, 138.81it/s]\n",
      "100%|██████████| 5/5 [00:00<00:00, 246.76it/s]\n",
      "  0%|          | 0/17 [00:00<?, ?it/s]"
     ]
    },
    {
     "name": "stdout",
     "output_type": "stream",
     "text": [
      "\n",
      "Iteration 6/17 of epoch 45 complete. Loss : 0.17691847681999207 \n",
      "\n",
      "Iteration 9/17 of epoch 45 complete. Loss : 0.1819483439127604 \n",
      "\n",
      "Iteration 12/17 of epoch 45 complete. Loss : 0.15792072316010794 \n",
      "\n",
      "Iteration 15/17 of epoch 45 complete. Loss : 0.18081212043762207 \n",
      "\n",
      "Epoch 45 complete! Validation Loss : 0.33704818189144137\n",
      "Epoch 45 complete! Validation Accuracy : 0.8370535714285714\n",
      "\n",
      "Iteration 3/17 of epoch 46 complete. Loss : 0.18026279906431833 \n",
      "\n",
      "Iteration 6/17 of epoch 46 complete. Loss : 0.16195247073968252 \n",
      "\n",
      "Iteration 9/17 of epoch 46 complete. Loss : 0.18462543686230978 \n"
     ]
    },
    {
     "name": "stderr",
     "output_type": "stream",
     "text": [
      "100%|██████████| 17/17 [00:00<00:00, 142.11it/s]\n",
      "100%|██████████| 5/5 [00:00<00:00, 225.91it/s]\n",
      " 88%|████████▊ | 15/17 [00:00<00:00, 142.69it/s]"
     ]
    },
    {
     "name": "stdout",
     "output_type": "stream",
     "text": [
      "\n",
      "Iteration 12/17 of epoch 46 complete. Loss : 0.17430386443932852 \n",
      "\n",
      "Iteration 15/17 of epoch 46 complete. Loss : 0.16342216730117798 \n",
      "\n",
      "Epoch 46 complete! Validation Loss : 0.3362528830766678\n",
      "Epoch 46 complete! Validation Accuracy : 0.8370535714285714\n",
      "\n",
      "Iteration 3/17 of epoch 47 complete. Loss : 0.18975134193897247 \n",
      "\n",
      "Iteration 6/17 of epoch 47 complete. Loss : 0.17174452046553293 \n",
      "\n",
      "Iteration 9/17 of epoch 47 complete. Loss : 0.16921568910280863 \n",
      "\n",
      "Iteration 12/17 of epoch 47 complete. Loss : 0.1703149676322937 \n",
      "\n",
      "Iteration 15/17 of epoch 47 complete. Loss : 0.16138863066832224 \n"
     ]
    },
    {
     "name": "stderr",
     "output_type": "stream",
     "text": [
      "100%|██████████| 17/17 [00:00<00:00, 141.64it/s]\n",
      "100%|██████████| 5/5 [00:00<00:00, 225.60it/s]\n",
      "100%|██████████| 17/17 [00:00<00:00, 139.47it/s]\n",
      "100%|██████████| 5/5 [00:00<00:00, 248.95it/s]\n",
      "  0%|          | 0/17 [00:00<?, ?it/s]"
     ]
    },
    {
     "name": "stdout",
     "output_type": "stream",
     "text": [
      "\n",
      "Epoch 47 complete! Validation Loss : 0.33595830500125884\n",
      "Epoch 47 complete! Validation Accuracy : 0.8386160714285713\n",
      "\n",
      "Iteration 3/17 of epoch 48 complete. Loss : 0.16755440831184387 \n",
      "\n",
      "Iteration 6/17 of epoch 48 complete. Loss : 0.1675051748752594 \n",
      "\n",
      "Iteration 9/17 of epoch 48 complete. Loss : 0.17815149823824564 \n",
      "\n",
      "Iteration 12/17 of epoch 48 complete. Loss : 0.16875404119491577 \n",
      "\n",
      "Iteration 15/17 of epoch 48 complete. Loss : 0.16870865722497305 \n",
      "\n",
      "Epoch 48 complete! Validation Loss : 0.3361029326915741\n",
      "Epoch 48 complete! Validation Accuracy : 0.8386160714285713\n",
      "\n",
      "Iteration 3/17 of epoch 49 complete. Loss : 0.17187796533107758 \n"
     ]
    },
    {
     "name": "stderr",
     "output_type": "stream",
     "text": [
      "100%|██████████| 17/17 [00:00<00:00, 155.38it/s]\n",
      "100%|██████████| 5/5 [00:00<00:00, 227.16it/s]\n",
      "  0%|          | 0/17 [00:00<?, ?it/s]"
     ]
    },
    {
     "name": "stdout",
     "output_type": "stream",
     "text": [
      "\n",
      "Iteration 6/17 of epoch 49 complete. Loss : 0.18683082858721414 \n",
      "\n",
      "Iteration 9/17 of epoch 49 complete. Loss : 0.16860795517762503 \n",
      "\n",
      "Iteration 12/17 of epoch 49 complete. Loss : 0.17469333608945212 \n",
      "\n",
      "Iteration 15/17 of epoch 49 complete. Loss : 0.16678130626678467 \n",
      "\n",
      "Epoch 49 complete! Validation Loss : 0.3340461075305939\n",
      "Epoch 49 complete! Validation Accuracy : 0.8386160714285713\n",
      "Best validation loss improved from 0.3345598101615906 to 0.3340461075305939\n",
      "\n",
      "\n",
      "Iteration 3/17 of epoch 50 complete. Loss : 0.18019025027751923 \n",
      "\n",
      "Iteration 6/17 of epoch 50 complete. Loss : 0.18584633866945902 \n",
      "\n",
      "Iteration 9/17 of epoch 50 complete. Loss : 0.16266642014185587 \n",
      "\n",
      "Iteration 12/17 of epoch 50 complete. Loss : 0.17839016517003378 \n"
     ]
    },
    {
     "name": "stderr",
     "output_type": "stream",
     "text": [
      "100%|██████████| 17/17 [00:00<00:00, 137.16it/s]\n",
      "100%|██████████| 5/5 [00:00<00:00, 223.30it/s]\n",
      "100%|██████████| 17/17 [00:00<00:00, 156.14it/s]\n",
      "100%|██████████| 5/5 [00:00<00:00, 262.95it/s]"
     ]
    },
    {
     "name": "stdout",
     "output_type": "stream",
     "text": [
      "\n",
      "Iteration 15/17 of epoch 50 complete. Loss : 0.15769093235333762 \n",
      "\n",
      "Epoch 50 complete! Validation Loss : 0.33404220044612887\n",
      "Epoch 50 complete! Validation Accuracy : 0.8386160714285713\n",
      "Best validation loss improved from 0.3340461075305939 to 0.33404220044612887\n",
      "\n",
      "\n",
      "Iteration 3/17 of epoch 51 complete. Loss : 0.1682782918214798 \n",
      "\n",
      "Iteration 6/17 of epoch 51 complete. Loss : 0.17144082486629486 \n",
      "\n",
      "Iteration 9/17 of epoch 51 complete. Loss : 0.1859902689854304 \n",
      "\n",
      "Iteration 12/17 of epoch 51 complete. Loss : 0.1602955957253774 \n",
      "\n",
      "Iteration 15/17 of epoch 51 complete. Loss : 0.17231414218743643 \n"
     ]
    },
    {
     "name": "stderr",
     "output_type": "stream",
     "text": [
      "\n",
      "100%|██████████| 17/17 [00:00<00:00, 174.66it/s]\n",
      "100%|██████████| 5/5 [00:00<00:00, 275.44it/s]\n",
      "  0%|          | 0/17 [00:00<?, ?it/s]"
     ]
    },
    {
     "name": "stdout",
     "output_type": "stream",
     "text": [
      "\n",
      "Epoch 51 complete! Validation Loss : 0.3350477308034897\n",
      "Epoch 51 complete! Validation Accuracy : 0.8386160714285713\n",
      "\n",
      "Iteration 3/17 of epoch 52 complete. Loss : 0.1706771453221639 \n",
      "\n",
      "Iteration 6/17 of epoch 52 complete. Loss : 0.18363735576470694 \n",
      "\n",
      "Iteration 9/17 of epoch 52 complete. Loss : 0.1312385524312655 \n",
      "\n",
      "Iteration 12/17 of epoch 52 complete. Loss : 0.17683053513367972 \n",
      "\n",
      "Iteration 15/17 of epoch 52 complete. Loss : 0.1836450695991516 \n",
      "\n",
      "Epoch 52 complete! Validation Loss : 0.3320746898651123\n",
      "Epoch 52 complete! Validation Accuracy : 0.8401785714285713\n",
      "Best validation loss improved from 0.33404220044612887 to 0.3320746898651123\n",
      "\n",
      "\n",
      "Iteration 3/17 of epoch 53 complete. Loss : 0.15954623619715372 \n",
      "\n",
      "Iteration 6/17 of epoch 53 complete. Loss : 0.16990132133165994 \n",
      "\n",
      "Iteration 9/17 of epoch 53 complete. Loss : 0.18365263938903809 \n"
     ]
    },
    {
     "name": "stderr",
     "output_type": "stream",
     "text": [
      "100%|██████████| 17/17 [00:00<00:00, 173.06it/s]\n",
      "100%|██████████| 5/5 [00:00<00:00, 332.55it/s]\n",
      "100%|██████████| 17/17 [00:00<00:00, 150.60it/s]\n",
      "  0%|          | 0/5 [00:00<?, ?it/s]"
     ]
    },
    {
     "name": "stdout",
     "output_type": "stream",
     "text": [
      "\n",
      "Iteration 12/17 of epoch 53 complete. Loss : 0.15692719320456186 \n",
      "\n",
      "Iteration 15/17 of epoch 53 complete. Loss : 0.17935642103354135 \n",
      "\n",
      "Epoch 53 complete! Validation Loss : 0.3330490469932556\n",
      "Epoch 53 complete! Validation Accuracy : 0.8401785714285713\n",
      "\n",
      "Iteration 3/17 of epoch 54 complete. Loss : 0.15919830898443857 \n",
      "\n",
      "Iteration 6/17 of epoch 54 complete. Loss : 0.1810196191072464 \n",
      "\n",
      "Iteration 9/17 of epoch 54 complete. Loss : 0.1632801592350006 \n",
      "\n",
      "Iteration 12/17 of epoch 54 complete. Loss : 0.17524842421213785 \n",
      "\n",
      "Iteration 15/17 of epoch 54 complete. Loss : 0.18137926856676737 \n"
     ]
    },
    {
     "name": "stderr",
     "output_type": "stream",
     "text": [
      "100%|██████████| 5/5 [00:00<00:00, 236.58it/s]\n",
      "100%|██████████| 17/17 [00:00<00:00, 159.58it/s]\n",
      "100%|██████████| 5/5 [00:00<00:00, 227.15it/s]\n",
      "  0%|          | 0/17 [00:00<?, ?it/s]"
     ]
    },
    {
     "name": "stdout",
     "output_type": "stream",
     "text": [
      "\n",
      "Epoch 54 complete! Validation Loss : 0.33308511674404145\n",
      "Epoch 54 complete! Validation Accuracy : 0.8386160714285713\n",
      "\n",
      "Iteration 3/17 of epoch 55 complete. Loss : 0.1598596771558126 \n",
      "\n",
      "Iteration 6/17 of epoch 55 complete. Loss : 0.1891552060842514 \n",
      "\n",
      "Iteration 9/17 of epoch 55 complete. Loss : 0.1646336019039154 \n",
      "\n",
      "Iteration 12/17 of epoch 55 complete. Loss : 0.14363100131352743 \n",
      "\n",
      "Iteration 15/17 of epoch 55 complete. Loss : 0.19860255221525827 \n",
      "\n",
      "Epoch 55 complete! Validation Loss : 0.331977391242981\n",
      "Epoch 55 complete! Validation Accuracy : 0.8386160714285713\n",
      "Best validation loss improved from 0.3320746898651123 to 0.331977391242981\n",
      "\n",
      "\n",
      "Iteration 3/17 of epoch 56 complete. Loss : 0.17342952390511832 \n",
      "\n",
      "Iteration 6/17 of epoch 56 complete. Loss : 0.17631201446056366 \n"
     ]
    },
    {
     "name": "stderr",
     "output_type": "stream",
     "text": [
      "100%|██████████| 17/17 [00:00<00:00, 163.00it/s]\n",
      "100%|██████████| 5/5 [00:00<00:00, 280.78it/s]\n",
      "100%|██████████| 17/17 [00:00<00:00, 182.48it/s]\n",
      "  0%|          | 0/5 [00:00<?, ?it/s]"
     ]
    },
    {
     "name": "stdout",
     "output_type": "stream",
     "text": [
      "\n",
      "Iteration 9/17 of epoch 56 complete. Loss : 0.17287878692150116 \n",
      "\n",
      "Iteration 12/17 of epoch 56 complete. Loss : 0.17536193132400513 \n",
      "\n",
      "Iteration 15/17 of epoch 56 complete. Loss : 0.15055792530377707 \n",
      "\n",
      "Epoch 56 complete! Validation Loss : 0.33098133504390714\n",
      "Epoch 56 complete! Validation Accuracy : 0.8401785714285713\n",
      "Best validation loss improved from 0.331977391242981 to 0.33098133504390714\n",
      "\n",
      "\n",
      "Iteration 3/17 of epoch 57 complete. Loss : 0.1619615207115809 \n",
      "\n",
      "Iteration 6/17 of epoch 57 complete. Loss : 0.16550897558530173 \n",
      "\n",
      "Iteration 9/17 of epoch 57 complete. Loss : 0.1826844016710917 \n",
      "\n",
      "Iteration 12/17 of epoch 57 complete. Loss : 0.16720694303512573 \n",
      "\n",
      "Iteration 15/17 of epoch 57 complete. Loss : 0.172433411081632 \n"
     ]
    },
    {
     "name": "stderr",
     "output_type": "stream",
     "text": [
      "100%|██████████| 5/5 [00:00<00:00, 222.77it/s]\n",
      "100%|██████████| 17/17 [00:00<00:00, 171.59it/s]\n",
      "100%|██████████| 5/5 [00:00<00:00, 308.58it/s]\n",
      "  0%|          | 0/17 [00:00<?, ?it/s]"
     ]
    },
    {
     "name": "stdout",
     "output_type": "stream",
     "text": [
      "\n",
      "Epoch 57 complete! Validation Loss : 0.3326264232397079\n",
      "Epoch 57 complete! Validation Accuracy : 0.8417410714285714\n",
      "\n",
      "Iteration 3/17 of epoch 58 complete. Loss : 0.16999117036660513 \n",
      "\n",
      "Iteration 6/17 of epoch 58 complete. Loss : 0.17606905102729797 \n",
      "\n",
      "Iteration 9/17 of epoch 58 complete. Loss : 0.17472456892331442 \n",
      "\n",
      "Iteration 12/17 of epoch 58 complete. Loss : 0.16544178128242493 \n",
      "\n",
      "Iteration 15/17 of epoch 58 complete. Loss : 0.14538655678431192 \n",
      "\n",
      "Epoch 58 complete! Validation Loss : 0.3309276759624481\n",
      "Epoch 58 complete! Validation Accuracy : 0.8370535714285714\n",
      "Best validation loss improved from 0.33098133504390714 to 0.3309276759624481\n",
      "\n",
      "\n",
      "Iteration 3/17 of epoch 59 complete. Loss : 0.17218446731567383 \n",
      "\n",
      "Iteration 6/17 of epoch 59 complete. Loss : 0.1832582652568817 \n",
      "\n",
      "Iteration 9/17 of epoch 59 complete. Loss : 0.16784838835398355 \n"
     ]
    },
    {
     "name": "stderr",
     "output_type": "stream",
     "text": [
      "100%|██████████| 17/17 [00:00<00:00, 171.81it/s]\n",
      "100%|██████████| 5/5 [00:00<00:00, 281.63it/s]\n",
      "100%|██████████| 17/17 [00:00<00:00, 181.34it/s]\n",
      "100%|██████████| 5/5 [00:00<00:00, 210.74it/s]"
     ]
    },
    {
     "name": "stdout",
     "output_type": "stream",
     "text": [
      "\n",
      "Iteration 12/17 of epoch 59 complete. Loss : 0.15459747115770975 \n",
      "\n",
      "Iteration 15/17 of epoch 59 complete. Loss : 0.15787141025066376 \n",
      "\n",
      "Epoch 59 complete! Validation Loss : 0.33112573325634004\n",
      "Epoch 59 complete! Validation Accuracy : 0.8417410714285714\n",
      "\n",
      "Iteration 3/17 of epoch 60 complete. Loss : 0.17263464629650116 \n",
      "\n",
      "Iteration 6/17 of epoch 60 complete. Loss : 0.16701237857341766 \n",
      "\n",
      "Iteration 9/17 of epoch 60 complete. Loss : 0.1795345445473989 \n",
      "\n",
      "Iteration 12/17 of epoch 60 complete. Loss : 0.14436167975266775 \n",
      "\n",
      "Iteration 15/17 of epoch 60 complete. Loss : 0.1760082095861435 \n"
     ]
    },
    {
     "name": "stderr",
     "output_type": "stream",
     "text": [
      "\n",
      "100%|██████████| 17/17 [00:00<00:00, 172.32it/s]\n",
      "100%|██████████| 5/5 [00:00<00:00, 345.03it/s]\n",
      "  0%|          | 0/17 [00:00<?, ?it/s]"
     ]
    },
    {
     "name": "stdout",
     "output_type": "stream",
     "text": [
      "\n",
      "Epoch 60 complete! Validation Loss : 0.33137317895889284\n",
      "Epoch 60 complete! Validation Accuracy : 0.8417410714285714\n",
      "\n",
      "Iteration 3/17 of epoch 61 complete. Loss : 0.1848050852616628 \n",
      "\n",
      "Iteration 6/17 of epoch 61 complete. Loss : 0.17222260932127634 \n",
      "\n",
      "Iteration 9/17 of epoch 61 complete. Loss : 0.18613301217556 \n",
      "\n",
      "Iteration 12/17 of epoch 61 complete. Loss : 0.1473765770594279 \n",
      "\n",
      "Iteration 15/17 of epoch 61 complete. Loss : 0.15359375377496085 \n",
      "\n",
      "Epoch 61 complete! Validation Loss : 0.32870992124080656\n",
      "Epoch 61 complete! Validation Accuracy : 0.8354910714285714\n",
      "Best validation loss improved from 0.3309276759624481 to 0.32870992124080656\n",
      "\n",
      "\n",
      "Iteration 3/17 of epoch 62 complete. Loss : 0.17267210284868875 \n",
      "\n",
      "Iteration 6/17 of epoch 62 complete. Loss : 0.17982489367326102 \n",
      "\n",
      "Iteration 9/17 of epoch 62 complete. Loss : 0.15006755789120993 \n"
     ]
    },
    {
     "name": "stderr",
     "output_type": "stream",
     "text": [
      "100%|██████████| 17/17 [00:00<00:00, 163.86it/s]\n",
      "100%|██████████| 5/5 [00:00<00:00, 278.24it/s]\n",
      "100%|██████████| 17/17 [00:00<00:00, 171.80it/s]\n",
      "100%|██████████| 5/5 [00:00<00:00, 268.37it/s]"
     ]
    },
    {
     "name": "stdout",
     "output_type": "stream",
     "text": [
      "\n",
      "Iteration 12/17 of epoch 62 complete. Loss : 0.1714820315440496 \n",
      "\n",
      "Iteration 15/17 of epoch 62 complete. Loss : 0.1677741805712382 \n",
      "\n",
      "Epoch 62 complete! Validation Loss : 0.3318473756313324\n",
      "Epoch 62 complete! Validation Accuracy : 0.8448660714285714\n",
      "\n",
      "Iteration 3/17 of epoch 63 complete. Loss : 0.16978063682715097 \n",
      "\n",
      "Iteration 6/17 of epoch 63 complete. Loss : 0.17220467329025269 \n",
      "\n",
      "Iteration 9/17 of epoch 63 complete. Loss : 0.16036119063695273 \n",
      "\n",
      "Iteration 12/17 of epoch 63 complete. Loss : 0.1660259266694387 \n",
      "\n",
      "Iteration 15/17 of epoch 63 complete. Loss : 0.1770704686641693 \n"
     ]
    },
    {
     "name": "stderr",
     "output_type": "stream",
     "text": [
      "\n",
      "100%|██████████| 17/17 [00:00<00:00, 175.80it/s]\n",
      "100%|██████████| 5/5 [00:00<00:00, 296.34it/s]\n",
      "  0%|          | 0/17 [00:00<?, ?it/s]"
     ]
    },
    {
     "name": "stdout",
     "output_type": "stream",
     "text": [
      "\n",
      "Epoch 63 complete! Validation Loss : 0.32909415364265443\n",
      "Epoch 63 complete! Validation Accuracy : 0.8401785714285713\n",
      "\n",
      "Iteration 3/17 of epoch 64 complete. Loss : 0.15447508792082468 \n",
      "\n",
      "Iteration 6/17 of epoch 64 complete. Loss : 0.17115026215712228 \n",
      "\n",
      "Iteration 9/17 of epoch 64 complete. Loss : 0.1702816734711329 \n",
      "\n",
      "Iteration 12/17 of epoch 64 complete. Loss : 0.1672258327404658 \n",
      "\n",
      "Iteration 15/17 of epoch 64 complete. Loss : 0.1835597356160482 \n",
      "\n",
      "Epoch 64 complete! Validation Loss : 0.32872849702835083\n",
      "Epoch 64 complete! Validation Accuracy : 0.8386160714285713\n",
      "\n",
      "Iteration 3/17 of epoch 65 complete. Loss : 0.17220672965049744 \n",
      "\n",
      "Iteration 6/17 of epoch 65 complete. Loss : 0.17382952074209848 \n",
      "\n",
      "Iteration 9/17 of epoch 65 complete. Loss : 0.1492465684811274 \n"
     ]
    },
    {
     "name": "stderr",
     "output_type": "stream",
     "text": [
      "100%|██████████| 17/17 [00:00<00:00, 170.94it/s]\n",
      "100%|██████████| 5/5 [00:00<00:00, 272.69it/s]\n",
      "100%|██████████| 17/17 [00:00<00:00, 179.80it/s]\n",
      "100%|██████████| 5/5 [00:00<00:00, 236.11it/s]"
     ]
    },
    {
     "name": "stdout",
     "output_type": "stream",
     "text": [
      "\n",
      "Iteration 12/17 of epoch 65 complete. Loss : 0.17605432868003845 \n",
      "\n",
      "Iteration 15/17 of epoch 65 complete. Loss : 0.15211985011895499 \n",
      "\n",
      "Epoch 65 complete! Validation Loss : 0.33040426671504974\n",
      "Epoch 65 complete! Validation Accuracy : 0.8433035714285714\n",
      "\n",
      "Iteration 3/17 of epoch 66 complete. Loss : 0.16603010396162668 \n",
      "\n",
      "Iteration 6/17 of epoch 66 complete. Loss : 0.1526729961236318 \n",
      "\n",
      "Iteration 9/17 of epoch 66 complete. Loss : 0.17040004332860312 \n",
      "\n",
      "Iteration 12/17 of epoch 66 complete. Loss : 0.17014859120051065 \n",
      "\n",
      "Iteration 15/17 of epoch 66 complete. Loss : 0.17314360539118448 \n"
     ]
    },
    {
     "name": "stderr",
     "output_type": "stream",
     "text": [
      "\n",
      "100%|██████████| 17/17 [00:00<00:00, 179.01it/s]\n",
      "100%|██████████| 5/5 [00:00<00:00, 325.41it/s]\n",
      "  0%|          | 0/17 [00:00<?, ?it/s]"
     ]
    },
    {
     "name": "stdout",
     "output_type": "stream",
     "text": [
      "\n",
      "Epoch 66 complete! Validation Loss : 0.3266430556774139\n",
      "Epoch 66 complete! Validation Accuracy : 0.8386160714285713\n",
      "Best validation loss improved from 0.32870992124080656 to 0.3266430556774139\n",
      "\n",
      "\n",
      "Iteration 3/17 of epoch 67 complete. Loss : 0.1501124898592631 \n",
      "\n",
      "Iteration 6/17 of epoch 67 complete. Loss : 0.18344703813393912 \n",
      "\n",
      "Iteration 9/17 of epoch 67 complete. Loss : 0.15935015678405762 \n",
      "\n",
      "Iteration 12/17 of epoch 67 complete. Loss : 0.16231361031532288 \n",
      "\n",
      "Iteration 15/17 of epoch 67 complete. Loss : 0.18522226313749948 \n",
      "\n",
      "Epoch 67 complete! Validation Loss : 0.32834407687187195\n",
      "Epoch 67 complete! Validation Accuracy : 0.8464285714285713\n",
      "\n",
      "Iteration 3/17 of epoch 68 complete. Loss : 0.16613451143105826 \n",
      "\n",
      "Iteration 6/17 of epoch 68 complete. Loss : 0.16152679920196533 \n",
      "\n",
      "Iteration 9/17 of epoch 68 complete. Loss : 0.16322938104470572 \n"
     ]
    },
    {
     "name": "stderr",
     "output_type": "stream",
     "text": [
      "100%|██████████| 17/17 [00:00<00:00, 165.20it/s]\n",
      "100%|██████████| 5/5 [00:00<00:00, 288.80it/s]\n",
      "100%|██████████| 17/17 [00:00<00:00, 186.36it/s]\n",
      "100%|██████████| 5/5 [00:00<00:00, 237.71it/s]"
     ]
    },
    {
     "name": "stdout",
     "output_type": "stream",
     "text": [
      "\n",
      "Iteration 12/17 of epoch 68 complete. Loss : 0.16397815446058908 \n",
      "\n",
      "Iteration 15/17 of epoch 68 complete. Loss : 0.16127813359101614 \n",
      "\n",
      "Epoch 68 complete! Validation Loss : 0.3315957814455032\n",
      "Epoch 68 complete! Validation Accuracy : 0.8448660714285714\n",
      "\n",
      "Iteration 3/17 of epoch 69 complete. Loss : 0.18291954199473062 \n",
      "\n",
      "Iteration 6/17 of epoch 69 complete. Loss : 0.16449284553527832 \n",
      "\n",
      "Iteration 9/17 of epoch 69 complete. Loss : 0.1535444756348928 \n",
      "\n",
      "Iteration 12/17 of epoch 69 complete. Loss : 0.16179963449637094 \n",
      "\n",
      "Iteration 15/17 of epoch 69 complete. Loss : 0.1689755916595459 \n"
     ]
    },
    {
     "name": "stderr",
     "output_type": "stream",
     "text": [
      "\n",
      "100%|██████████| 17/17 [00:00<00:00, 174.59it/s]\n",
      "100%|██████████| 5/5 [00:00<00:00, 276.97it/s]\n",
      "  0%|          | 0/17 [00:00<?, ?it/s]"
     ]
    },
    {
     "name": "stdout",
     "output_type": "stream",
     "text": [
      "\n",
      "Epoch 69 complete! Validation Loss : 0.32580409944057465\n",
      "Epoch 69 complete! Validation Accuracy : 0.8417410714285714\n",
      "Best validation loss improved from 0.3266430556774139 to 0.32580409944057465\n",
      "\n",
      "\n",
      "Iteration 3/17 of epoch 70 complete. Loss : 0.1808444857597351 \n",
      "\n",
      "Iteration 6/17 of epoch 70 complete. Loss : 0.16282513240973154 \n",
      "\n",
      "Iteration 9/17 of epoch 70 complete. Loss : 0.15633490681648254 \n",
      "\n",
      "Iteration 12/17 of epoch 70 complete. Loss : 0.15945210556189218 \n",
      "\n",
      "Iteration 15/17 of epoch 70 complete. Loss : 0.16535475850105286 \n",
      "\n",
      "Epoch 70 complete! Validation Loss : 0.33253384530544283\n",
      "Epoch 70 complete! Validation Accuracy : 0.8464285714285713\n",
      "\n",
      "Iteration 3/17 of epoch 71 complete. Loss : 0.18408899009227753 \n",
      "\n",
      "Iteration 6/17 of epoch 71 complete. Loss : 0.14556529621283212 \n",
      "\n",
      "Iteration 9/17 of epoch 71 complete. Loss : 0.16563935577869415 \n"
     ]
    },
    {
     "name": "stderr",
     "output_type": "stream",
     "text": [
      "100%|██████████| 17/17 [00:00<00:00, 178.14it/s]\n",
      "100%|██████████| 5/5 [00:00<00:00, 290.51it/s]\n",
      "100%|██████████| 17/17 [00:00<00:00, 170.35it/s]\n",
      "100%|██████████| 5/5 [00:00<00:00, 223.75it/s]"
     ]
    },
    {
     "name": "stdout",
     "output_type": "stream",
     "text": [
      "\n",
      "Iteration 12/17 of epoch 71 complete. Loss : 0.17915166914463043 \n",
      "\n",
      "Iteration 15/17 of epoch 71 complete. Loss : 0.14885256191094717 \n",
      "\n",
      "Epoch 71 complete! Validation Loss : 0.3240486681461334\n",
      "Epoch 71 complete! Validation Accuracy : 0.8529017857142858\n",
      "Best validation loss improved from 0.32580409944057465 to 0.3240486681461334\n",
      "\n",
      "\n",
      "Iteration 3/17 of epoch 72 complete. Loss : 0.14258967836697897 \n",
      "\n",
      "Iteration 6/17 of epoch 72 complete. Loss : 0.1769708792368571 \n",
      "\n",
      "Iteration 9/17 of epoch 72 complete. Loss : 0.18350450694561005 \n",
      "\n",
      "Iteration 12/17 of epoch 72 complete. Loss : 0.15751144289970398 \n",
      "\n",
      "Iteration 15/17 of epoch 72 complete. Loss : 0.16712851325670877 \n"
     ]
    },
    {
     "name": "stderr",
     "output_type": "stream",
     "text": [
      "\n",
      "100%|██████████| 17/17 [00:00<00:00, 169.99it/s]\n",
      "100%|██████████| 5/5 [00:00<00:00, 333.57it/s]\n",
      "  0%|          | 0/17 [00:00<?, ?it/s]"
     ]
    },
    {
     "name": "stdout",
     "output_type": "stream",
     "text": [
      "\n",
      "Epoch 72 complete! Validation Loss : 0.3317023187875748\n",
      "Epoch 72 complete! Validation Accuracy : 0.8433035714285714\n",
      "\n",
      "Iteration 3/17 of epoch 73 complete. Loss : 0.18927423159281412 \n",
      "\n",
      "Iteration 6/17 of epoch 73 complete. Loss : 0.17528177797794342 \n",
      "\n",
      "Iteration 9/17 of epoch 73 complete. Loss : 0.15072482327620187 \n",
      "\n",
      "Iteration 12/17 of epoch 73 complete. Loss : 0.16482440133889517 \n",
      "\n",
      "Iteration 15/17 of epoch 73 complete. Loss : 0.15567511320114136 \n",
      "\n",
      "Epoch 73 complete! Validation Loss : 0.324393555521965\n",
      "Epoch 73 complete! Validation Accuracy : 0.8417410714285714\n",
      "\n",
      "Iteration 3/17 of epoch 74 complete. Loss : 0.16247557600339255 \n",
      "\n",
      "Iteration 6/17 of epoch 74 complete. Loss : 0.16989383598168692 \n",
      "\n",
      "Iteration 9/17 of epoch 74 complete. Loss : 0.16349075237909952 \n"
     ]
    },
    {
     "name": "stderr",
     "output_type": "stream",
     "text": [
      "100%|██████████| 17/17 [00:00<00:00, 171.76it/s]\n",
      "100%|██████████| 5/5 [00:00<00:00, 278.10it/s]\n",
      "100%|██████████| 17/17 [00:00<00:00, 175.28it/s]\n",
      "100%|██████████| 5/5 [00:00<00:00, 224.48it/s]"
     ]
    },
    {
     "name": "stdout",
     "output_type": "stream",
     "text": [
      "\n",
      "Iteration 12/17 of epoch 74 complete. Loss : 0.14757274587949118 \n",
      "\n",
      "Iteration 15/17 of epoch 74 complete. Loss : 0.17432492474714914 \n",
      "\n",
      "Epoch 74 complete! Validation Loss : 0.3306731998920441\n",
      "Epoch 74 complete! Validation Accuracy : 0.8448660714285714\n",
      "\n",
      "Iteration 3/17 of epoch 75 complete. Loss : 0.1425014982620875 \n",
      "\n",
      "Iteration 6/17 of epoch 75 complete. Loss : 0.17292887469132742 \n",
      "\n",
      "Iteration 9/17 of epoch 75 complete. Loss : 0.1699849764506022 \n",
      "\n",
      "Iteration 12/17 of epoch 75 complete. Loss : 0.1457222824295362 \n",
      "\n",
      "Iteration 15/17 of epoch 75 complete. Loss : 0.1824270635843277 \n"
     ]
    },
    {
     "name": "stderr",
     "output_type": "stream",
     "text": [
      "\n",
      "100%|██████████| 17/17 [00:00<00:00, 179.10it/s]\n",
      "100%|██████████| 5/5 [00:00<00:00, 262.81it/s]\n",
      "  0%|          | 0/17 [00:00<?, ?it/s]"
     ]
    },
    {
     "name": "stdout",
     "output_type": "stream",
     "text": [
      "\n",
      "Epoch 75 complete! Validation Loss : 0.3233048766851425\n",
      "Epoch 75 complete! Validation Accuracy : 0.8575892857142857\n",
      "Best validation loss improved from 0.3240486681461334 to 0.3233048766851425\n",
      "\n",
      "\n",
      "Iteration 3/17 of epoch 76 complete. Loss : 0.17997976144154867 \n",
      "\n",
      "Iteration 6/17 of epoch 76 complete. Loss : 0.15079906582832336 \n",
      "\n",
      "Iteration 9/17 of epoch 76 complete. Loss : 0.16828500727812448 \n",
      "\n",
      "Iteration 12/17 of epoch 76 complete. Loss : 0.15743916730086008 \n",
      "\n",
      "Iteration 15/17 of epoch 76 complete. Loss : 0.15867291887601218 \n",
      "\n",
      "Epoch 76 complete! Validation Loss : 0.327736034989357\n",
      "Epoch 76 complete! Validation Accuracy : 0.8464285714285713\n",
      "\n",
      "Iteration 3/17 of epoch 77 complete. Loss : 0.1457902267575264 \n",
      "\n",
      "Iteration 6/17 of epoch 77 complete. Loss : 0.18460118770599365 \n",
      "\n",
      "Iteration 9/17 of epoch 77 complete. Loss : 0.15860440830389658 \n"
     ]
    },
    {
     "name": "stderr",
     "output_type": "stream",
     "text": [
      "100%|██████████| 17/17 [00:00<00:00, 161.43it/s]\n",
      "100%|██████████| 5/5 [00:00<00:00, 234.82it/s]\n",
      "100%|██████████| 17/17 [00:00<00:00, 150.46it/s]\n",
      "  0%|          | 0/5 [00:00<?, ?it/s]"
     ]
    },
    {
     "name": "stdout",
     "output_type": "stream",
     "text": [
      "\n",
      "Iteration 12/17 of epoch 77 complete. Loss : 0.14695938924948374 \n",
      "\n",
      "Iteration 15/17 of epoch 77 complete. Loss : 0.17223682006200156 \n",
      "\n",
      "Epoch 77 complete! Validation Loss : 0.3255974531173706\n",
      "Epoch 77 complete! Validation Accuracy : 0.8433035714285714\n",
      "\n",
      "Iteration 3/17 of epoch 78 complete. Loss : 0.15079574286937714 \n",
      "\n",
      "Iteration 6/17 of epoch 78 complete. Loss : 0.181695689757665 \n",
      "\n",
      "Iteration 9/17 of epoch 78 complete. Loss : 0.16297021011511484 \n",
      "\n",
      "Iteration 12/17 of epoch 78 complete. Loss : 0.1537510553995768 \n",
      "\n",
      "Iteration 15/17 of epoch 78 complete. Loss : 0.17066854238510132 \n"
     ]
    },
    {
     "name": "stderr",
     "output_type": "stream",
     "text": [
      "100%|██████████| 5/5 [00:00<00:00, 178.34it/s]\n",
      "100%|██████████| 17/17 [00:00<00:00, 185.67it/s]\n",
      "100%|██████████| 5/5 [00:00<00:00, 223.06it/s]\n",
      "  0%|          | 0/17 [00:00<?, ?it/s]"
     ]
    },
    {
     "name": "stdout",
     "output_type": "stream",
     "text": [
      "\n",
      "Epoch 78 complete! Validation Loss : 0.326033815741539\n",
      "Epoch 78 complete! Validation Accuracy : 0.8479910714285713\n",
      "\n",
      "Iteration 3/17 of epoch 79 complete. Loss : 0.15909536679585776 \n",
      "\n",
      "Iteration 6/17 of epoch 79 complete. Loss : 0.15002669394016266 \n",
      "\n",
      "Iteration 9/17 of epoch 79 complete. Loss : 0.16181408365567526 \n",
      "\n",
      "Iteration 12/17 of epoch 79 complete. Loss : 0.1685982644557953 \n",
      "\n",
      "Iteration 15/17 of epoch 79 complete. Loss : 0.17800456037124 \n",
      "\n",
      "Epoch 79 complete! Validation Loss : 0.3233738750219345\n",
      "Epoch 79 complete! Validation Accuracy : 0.8433035714285714\n",
      "\n",
      "Iteration 3/17 of epoch 80 complete. Loss : 0.14599964022636414 \n",
      "\n",
      "Iteration 6/17 of epoch 80 complete. Loss : 0.17440056800842285 \n",
      "\n",
      "Iteration 9/17 of epoch 80 complete. Loss : 0.15630783140659332 \n",
      "\n",
      "Iteration 12/17 of epoch 80 complete. Loss : 0.16433833539485931 \n"
     ]
    },
    {
     "name": "stderr",
     "output_type": "stream",
     "text": [
      "100%|██████████| 17/17 [00:00<00:00, 183.03it/s]\n",
      "100%|██████████| 5/5 [00:00<00:00, 242.46it/s]\n",
      "100%|██████████| 17/17 [00:00<00:00, 167.05it/s]\n",
      "100%|██████████| 5/5 [00:00<00:00, 301.00it/s]\n",
      "  0%|          | 0/17 [00:00<?, ?it/s]"
     ]
    },
    {
     "name": "stdout",
     "output_type": "stream",
     "text": [
      "\n",
      "Iteration 15/17 of epoch 80 complete. Loss : 0.16657322645187378 \n",
      "\n",
      "Epoch 80 complete! Validation Loss : 0.32901627123355864\n",
      "Epoch 80 complete! Validation Accuracy : 0.8433035714285714\n",
      "\n",
      "Iteration 3/17 of epoch 81 complete. Loss : 0.1529265840848287 \n",
      "\n",
      "Iteration 6/17 of epoch 81 complete. Loss : 0.18073468406995138 \n",
      "\n",
      "Iteration 9/17 of epoch 81 complete. Loss : 0.1582718069354693 \n",
      "\n",
      "Iteration 12/17 of epoch 81 complete. Loss : 0.15818930168946585 \n",
      "\n",
      "Iteration 15/17 of epoch 81 complete. Loss : 0.1685498058795929 \n",
      "\n",
      "Epoch 81 complete! Validation Loss : 0.32282147109508513\n",
      "Epoch 81 complete! Validation Accuracy : 0.8370535714285714\n",
      "Best validation loss improved from 0.3233048766851425 to 0.32282147109508513\n",
      "\n"
     ]
    },
    {
     "name": "stderr",
     "output_type": "stream",
     "text": [
      "100%|██████████| 17/17 [00:00<00:00, 175.11it/s]\n",
      "100%|██████████| 5/5 [00:00<00:00, 262.63it/s]\n",
      "  0%|          | 0/17 [00:00<?, ?it/s]"
     ]
    },
    {
     "name": "stdout",
     "output_type": "stream",
     "text": [
      "\n",
      "Iteration 3/17 of epoch 82 complete. Loss : 0.16394367814064026 \n",
      "\n",
      "Iteration 6/17 of epoch 82 complete. Loss : 0.17489579319953918 \n",
      "\n",
      "Iteration 9/17 of epoch 82 complete. Loss : 0.1501879965265592 \n",
      "\n",
      "Iteration 12/17 of epoch 82 complete. Loss : 0.138301819562912 \n",
      "\n",
      "Iteration 15/17 of epoch 82 complete. Loss : 0.18362108369668326 \n",
      "\n",
      "Epoch 82 complete! Validation Loss : 0.3279059141874313\n",
      "Epoch 82 complete! Validation Accuracy : 0.8433035714285714\n",
      "\n",
      "Iteration 3/17 of epoch 83 complete. Loss : 0.15084690848986307 \n",
      "\n",
      "Iteration 6/17 of epoch 83 complete. Loss : 0.15065043419599533 \n",
      "\n",
      "Iteration 9/17 of epoch 83 complete. Loss : 0.17158101499080658 \n",
      "\n",
      "Iteration 12/17 of epoch 83 complete. Loss : 0.15872743229071298 \n"
     ]
    },
    {
     "name": "stderr",
     "output_type": "stream",
     "text": [
      "100%|██████████| 17/17 [00:00<00:00, 182.19it/s]\n",
      "100%|██████████| 5/5 [00:00<00:00, 248.79it/s]\n",
      "100%|██████████| 17/17 [00:00<00:00, 173.64it/s]\n",
      "100%|██████████| 5/5 [00:00<00:00, 258.67it/s]\n",
      "  0%|          | 0/17 [00:00<?, ?it/s]"
     ]
    },
    {
     "name": "stdout",
     "output_type": "stream",
     "text": [
      "\n",
      "Iteration 15/17 of epoch 83 complete. Loss : 0.1701314797004064 \n",
      "\n",
      "Epoch 83 complete! Validation Loss : 0.322183695435524\n",
      "Epoch 83 complete! Validation Accuracy : 0.8448660714285714\n",
      "Best validation loss improved from 0.32282147109508513 to 0.322183695435524\n",
      "\n",
      "\n",
      "Iteration 3/17 of epoch 84 complete. Loss : 0.15921537578105927 \n",
      "\n",
      "Iteration 6/17 of epoch 84 complete. Loss : 0.15315095086892447 \n",
      "\n",
      "Iteration 9/17 of epoch 84 complete. Loss : 0.16395986576875052 \n",
      "\n",
      "Iteration 12/17 of epoch 84 complete. Loss : 0.17124952872594199 \n",
      "\n",
      "Iteration 15/17 of epoch 84 complete. Loss : 0.1779096523920695 \n",
      "\n",
      "Epoch 84 complete! Validation Loss : 0.32298401892185213\n",
      "Epoch 84 complete! Validation Accuracy : 0.8448660714285714\n"
     ]
    },
    {
     "name": "stderr",
     "output_type": "stream",
     "text": [
      "100%|██████████| 17/17 [00:00<00:00, 175.50it/s]\n",
      "100%|██████████| 5/5 [00:00<00:00, 222.21it/s]\n",
      "  0%|          | 0/17 [00:00<?, ?it/s]"
     ]
    },
    {
     "name": "stdout",
     "output_type": "stream",
     "text": [
      "\n",
      "Iteration 3/17 of epoch 85 complete. Loss : 0.15632947285970053 \n",
      "\n",
      "Iteration 6/17 of epoch 85 complete. Loss : 0.15257640182971954 \n",
      "\n",
      "Iteration 9/17 of epoch 85 complete. Loss : 0.15015959988037744 \n",
      "\n",
      "Iteration 12/17 of epoch 85 complete. Loss : 0.16498379409313202 \n",
      "\n",
      "Iteration 15/17 of epoch 85 complete. Loss : 0.17251460750897726 \n",
      "\n",
      "Epoch 85 complete! Validation Loss : 0.3235084593296051\n",
      "Epoch 85 complete! Validation Accuracy : 0.8448660714285714\n",
      "\n",
      "Iteration 3/17 of epoch 86 complete. Loss : 0.16603327294190726 \n",
      "\n",
      "Iteration 6/17 of epoch 86 complete. Loss : 0.15174691379070282 \n",
      "\n",
      "Iteration 9/17 of epoch 86 complete. Loss : 0.17928469677766165 \n",
      "\n",
      "Iteration 12/17 of epoch 86 complete. Loss : 0.15941791733105978 \n"
     ]
    },
    {
     "name": "stderr",
     "output_type": "stream",
     "text": [
      "100%|██████████| 17/17 [00:00<00:00, 174.88it/s]\n",
      "100%|██████████| 5/5 [00:00<00:00, 312.38it/s]\n",
      "100%|██████████| 17/17 [00:00<00:00, 175.10it/s]\n",
      "100%|██████████| 5/5 [00:00<00:00, 313.94it/s]\n",
      "  0%|          | 0/17 [00:00<?, ?it/s]"
     ]
    },
    {
     "name": "stdout",
     "output_type": "stream",
     "text": [
      "\n",
      "Iteration 15/17 of epoch 86 complete. Loss : 0.15094439188639322 \n",
      "\n",
      "Epoch 86 complete! Validation Loss : 0.32521570920944215\n",
      "Epoch 86 complete! Validation Accuracy : 0.8448660714285714\n",
      "\n",
      "Iteration 3/17 of epoch 87 complete. Loss : 0.18033809959888458 \n",
      "\n",
      "Iteration 6/17 of epoch 87 complete. Loss : 0.1583904872337977 \n",
      "\n",
      "Iteration 9/17 of epoch 87 complete. Loss : 0.1825428605079651 \n",
      "\n",
      "Iteration 12/17 of epoch 87 complete. Loss : 0.14651336272557577 \n",
      "\n",
      "Iteration 15/17 of epoch 87 complete. Loss : 0.14542595048745474 \n",
      "\n",
      "Epoch 87 complete! Validation Loss : 0.32428649365901946\n",
      "Epoch 87 complete! Validation Accuracy : 0.8433035714285714\n",
      "\n",
      "Iteration 3/17 of epoch 88 complete. Loss : 0.1471430907646815 \n"
     ]
    },
    {
     "name": "stderr",
     "output_type": "stream",
     "text": [
      "100%|██████████| 17/17 [00:00<00:00, 156.80it/s]\n",
      "100%|██████████| 5/5 [00:00<00:00, 249.28it/s]\n",
      "  0%|          | 0/17 [00:00<?, ?it/s]"
     ]
    },
    {
     "name": "stdout",
     "output_type": "stream",
     "text": [
      "\n",
      "Iteration 6/17 of epoch 88 complete. Loss : 0.15685757994651794 \n",
      "\n",
      "Iteration 9/17 of epoch 88 complete. Loss : 0.15301349510749182 \n",
      "\n",
      "Iteration 12/17 of epoch 88 complete. Loss : 0.16385734577973685 \n",
      "\n",
      "Iteration 15/17 of epoch 88 complete. Loss : 0.16669694085915884 \n",
      "\n",
      "Epoch 88 complete! Validation Loss : 0.3253903090953827\n",
      "Epoch 88 complete! Validation Accuracy : 0.8448660714285714\n",
      "\n",
      "Iteration 3/17 of epoch 89 complete. Loss : 0.1530158817768097 \n",
      "\n",
      "Iteration 6/17 of epoch 89 complete. Loss : 0.14700899024804434 \n",
      "\n",
      "Iteration 9/17 of epoch 89 complete. Loss : 0.16922750075658163 \n",
      "\n",
      "Iteration 12/17 of epoch 89 complete. Loss : 0.16024710734685263 \n"
     ]
    },
    {
     "name": "stderr",
     "output_type": "stream",
     "text": [
      "100%|██████████| 17/17 [00:00<00:00, 176.98it/s]\n",
      "100%|██████████| 5/5 [00:00<00:00, 320.93it/s]\n",
      "100%|██████████| 17/17 [00:00<00:00, 147.54it/s]\n",
      "100%|██████████| 5/5 [00:00<00:00, 278.21it/s]"
     ]
    },
    {
     "name": "stdout",
     "output_type": "stream",
     "text": [
      "\n",
      "Iteration 15/17 of epoch 89 complete. Loss : 0.17339896162350973 \n",
      "\n",
      "Epoch 89 complete! Validation Loss : 0.3208343178033829\n",
      "Epoch 89 complete! Validation Accuracy : 0.8433035714285714\n",
      "Best validation loss improved from 0.322183695435524 to 0.3208343178033829\n",
      "\n",
      "\n",
      "Iteration 3/17 of epoch 90 complete. Loss : 0.17635716001192728 \n",
      "\n",
      "Iteration 6/17 of epoch 90 complete. Loss : 0.16162841518719992 \n",
      "\n",
      "Iteration 9/17 of epoch 90 complete. Loss : 0.15219475328922272 \n",
      "\n",
      "Iteration 12/17 of epoch 90 complete. Loss : 0.15072653690973917 \n",
      "\n",
      "Iteration 15/17 of epoch 90 complete. Loss : 0.1633877456188202 \n"
     ]
    },
    {
     "name": "stderr",
     "output_type": "stream",
     "text": [
      "\n",
      "100%|██████████| 17/17 [00:00<00:00, 179.77it/s]\n",
      "100%|██████████| 5/5 [00:00<00:00, 276.36it/s]\n",
      "  0%|          | 0/17 [00:00<?, ?it/s]"
     ]
    },
    {
     "name": "stdout",
     "output_type": "stream",
     "text": [
      "\n",
      "Epoch 90 complete! Validation Loss : 0.3235020339488983\n",
      "Epoch 90 complete! Validation Accuracy : 0.8464285714285713\n",
      "\n",
      "Iteration 3/17 of epoch 91 complete. Loss : 0.16241936882336935 \n",
      "\n",
      "Iteration 6/17 of epoch 91 complete. Loss : 0.15715438624223074 \n",
      "\n",
      "Iteration 9/17 of epoch 91 complete. Loss : 0.15977843602498373 \n",
      "\n",
      "Iteration 12/17 of epoch 91 complete. Loss : 0.17095902562141418 \n",
      "\n",
      "Iteration 15/17 of epoch 91 complete. Loss : 0.14501845836639404 \n",
      "\n",
      "Epoch 91 complete! Validation Loss : 0.3214618504047394\n",
      "Epoch 91 complete! Validation Accuracy : 0.8433035714285714\n",
      "\n",
      "Iteration 3/17 of epoch 92 complete. Loss : 0.15868641436100006 \n",
      "\n",
      "Iteration 6/17 of epoch 92 complete. Loss : 0.16123252113660178 \n",
      "\n",
      "Iteration 9/17 of epoch 92 complete. Loss : 0.15804722408453623 \n"
     ]
    },
    {
     "name": "stderr",
     "output_type": "stream",
     "text": [
      "100%|██████████| 17/17 [00:00<00:00, 174.73it/s]\n",
      "100%|██████████| 5/5 [00:00<00:00, 222.00it/s]\n",
      "100%|██████████| 17/17 [00:00<00:00, 192.73it/s]\n",
      "100%|██████████| 5/5 [00:00<00:00, 238.61it/s]\n",
      "  0%|          | 0/17 [00:00<?, ?it/s]"
     ]
    },
    {
     "name": "stdout",
     "output_type": "stream",
     "text": [
      "\n",
      "Iteration 12/17 of epoch 92 complete. Loss : 0.16018260022004446 \n",
      "\n",
      "Iteration 15/17 of epoch 92 complete. Loss : 0.1603067566951116 \n",
      "\n",
      "Epoch 92 complete! Validation Loss : 0.32696889340877533\n",
      "Epoch 92 complete! Validation Accuracy : 0.8433035714285714\n",
      "\n",
      "Iteration 3/17 of epoch 93 complete. Loss : 0.15510305762290955 \n",
      "\n",
      "Iteration 6/17 of epoch 93 complete. Loss : 0.1492886816461881 \n",
      "\n",
      "Iteration 9/17 of epoch 93 complete. Loss : 0.15134812891483307 \n",
      "\n",
      "Iteration 12/17 of epoch 93 complete. Loss : 0.16459485391775766 \n",
      "\n",
      "Iteration 15/17 of epoch 93 complete. Loss : 0.17116867005825043 \n",
      "\n",
      "Epoch 93 complete! Validation Loss : 0.32388576567173005\n",
      "Epoch 93 complete! Validation Accuracy : 0.8448660714285714\n"
     ]
    },
    {
     "name": "stderr",
     "output_type": "stream",
     "text": [
      "100%|██████████| 17/17 [00:00<00:00, 183.90it/s]\n",
      "100%|██████████| 5/5 [00:00<00:00, 299.98it/s]\n",
      "  0%|          | 0/17 [00:00<?, ?it/s]"
     ]
    },
    {
     "name": "stdout",
     "output_type": "stream",
     "text": [
      "\n",
      "Iteration 3/17 of epoch 94 complete. Loss : 0.16809787352879843 \n",
      "\n",
      "Iteration 6/17 of epoch 94 complete. Loss : 0.16699971755345663 \n",
      "\n",
      "Iteration 9/17 of epoch 94 complete. Loss : 0.1331007182598114 \n",
      "\n",
      "Iteration 12/17 of epoch 94 complete. Loss : 0.16704188287258148 \n",
      "\n",
      "Iteration 15/17 of epoch 94 complete. Loss : 0.15880849460760751 \n",
      "\n",
      "Epoch 94 complete! Validation Loss : 0.3226362645626068\n",
      "Epoch 94 complete! Validation Accuracy : 0.8417410714285714\n",
      "\n",
      "Iteration 3/17 of epoch 95 complete. Loss : 0.15743668377399445 \n",
      "\n",
      "Iteration 6/17 of epoch 95 complete. Loss : 0.18097446858882904 \n",
      "\n",
      "Iteration 9/17 of epoch 95 complete. Loss : 0.1454662581284841 \n",
      "\n",
      "Iteration 12/17 of epoch 95 complete. Loss : 0.15469407041867575 \n",
      "\n",
      "Iteration 15/17 of epoch 95 complete. Loss : 0.16103176275889078 \n"
     ]
    },
    {
     "name": "stderr",
     "output_type": "stream",
     "text": [
      "100%|██████████| 17/17 [00:00<00:00, 187.98it/s]\n",
      "100%|██████████| 5/5 [00:00<00:00, 257.84it/s]\n",
      "100%|██████████| 17/17 [00:00<00:00, 188.68it/s]\n",
      "100%|██████████| 5/5 [00:00<00:00, 214.87it/s]\n",
      "  0%|          | 0/17 [00:00<?, ?it/s]"
     ]
    },
    {
     "name": "stdout",
     "output_type": "stream",
     "text": [
      "\n",
      "Epoch 95 complete! Validation Loss : 0.32418727278709414\n",
      "Epoch 95 complete! Validation Accuracy : 0.8464285714285713\n",
      "\n",
      "Iteration 3/17 of epoch 96 complete. Loss : 0.1677634914716085 \n",
      "\n",
      "Iteration 6/17 of epoch 96 complete. Loss : 0.15792019168535867 \n",
      "\n",
      "Iteration 9/17 of epoch 96 complete. Loss : 0.1621513863404592 \n",
      "\n",
      "Iteration 12/17 of epoch 96 complete. Loss : 0.15412618716557822 \n",
      "\n",
      "Iteration 15/17 of epoch 96 complete. Loss : 0.15442905823389688 \n",
      "\n",
      "Epoch 96 complete! Validation Loss : 0.3226798355579376\n",
      "Epoch 96 complete! Validation Accuracy : 0.8448660714285714\n",
      "\n",
      "Iteration 3/17 of epoch 97 complete. Loss : 0.14785297214984894 \n",
      "\n",
      "Iteration 6/17 of epoch 97 complete. Loss : 0.1597308317820231 \n",
      "\n",
      "Iteration 9/17 of epoch 97 complete. Loss : 0.15317640205224356 \n"
     ]
    },
    {
     "name": "stderr",
     "output_type": "stream",
     "text": [
      "100%|██████████| 17/17 [00:00<00:00, 177.57it/s]\n",
      "100%|██████████| 5/5 [00:00<00:00, 330.46it/s]\n",
      "100%|██████████| 17/17 [00:00<00:00, 181.23it/s]\n",
      "100%|██████████| 5/5 [00:00<00:00, 298.92it/s]\n",
      "  0%|          | 0/17 [00:00<?, ?it/s]"
     ]
    },
    {
     "name": "stdout",
     "output_type": "stream",
     "text": [
      "\n",
      "Iteration 12/17 of epoch 97 complete. Loss : 0.15403372049331665 \n",
      "\n",
      "Iteration 15/17 of epoch 97 complete. Loss : 0.16055413583914438 \n",
      "\n",
      "Epoch 97 complete! Validation Loss : 0.3259830683469772\n",
      "Epoch 97 complete! Validation Accuracy : 0.8448660714285714\n",
      "\n",
      "Iteration 3/17 of epoch 98 complete. Loss : 0.1551207055648168 \n",
      "\n",
      "Iteration 6/17 of epoch 98 complete. Loss : 0.16287748018900552 \n",
      "\n",
      "Iteration 9/17 of epoch 98 complete. Loss : 0.15775241454442343 \n",
      "\n",
      "Iteration 12/17 of epoch 98 complete. Loss : 0.14330197870731354 \n",
      "\n",
      "Iteration 15/17 of epoch 98 complete. Loss : 0.16439088185628256 \n",
      "\n",
      "Epoch 98 complete! Validation Loss : 0.3190972536802292\n",
      "Epoch 98 complete! Validation Accuracy : 0.8560267857142858\n",
      "Best validation loss improved from 0.3208343178033829 to 0.3190972536802292\n",
      "\n"
     ]
    },
    {
     "name": "stderr",
     "output_type": "stream",
     "text": [
      "100%|██████████| 17/17 [00:00<00:00, 175.77it/s]\n",
      "100%|██████████| 5/5 [00:00<00:00, 230.75it/s]\n",
      "  0%|          | 0/17 [00:00<?, ?it/s]"
     ]
    },
    {
     "name": "stdout",
     "output_type": "stream",
     "text": [
      "\n",
      "Iteration 3/17 of epoch 99 complete. Loss : 0.16103782753149667 \n",
      "\n",
      "Iteration 6/17 of epoch 99 complete. Loss : 0.14951350291570029 \n",
      "\n",
      "Iteration 9/17 of epoch 99 complete. Loss : 0.16314930220444998 \n",
      "\n",
      "Iteration 12/17 of epoch 99 complete. Loss : 0.1450683275858561 \n",
      "\n",
      "Iteration 15/17 of epoch 99 complete. Loss : 0.1637015367547671 \n",
      "\n",
      "Epoch 99 complete! Validation Loss : 0.33024126291275024\n",
      "Epoch 99 complete! Validation Accuracy : 0.8448660714285714\n",
      "\n",
      "Iteration 3/17 of epoch 100 complete. Loss : 0.16554623345534006 \n",
      "\n",
      "Iteration 6/17 of epoch 100 complete. Loss : 0.14842468003431955 \n",
      "\n",
      "Iteration 9/17 of epoch 100 complete. Loss : 0.145984356602033 \n",
      "\n",
      "Iteration 12/17 of epoch 100 complete. Loss : 0.15320265293121338 \n"
     ]
    },
    {
     "name": "stderr",
     "output_type": "stream",
     "text": [
      "100%|██████████| 17/17 [00:00<00:00, 171.97it/s]\n",
      "100%|██████████| 5/5 [00:00<00:00, 340.60it/s]\n"
     ]
    },
    {
     "name": "stdout",
     "output_type": "stream",
     "text": [
      "\n",
      "Iteration 15/17 of epoch 100 complete. Loss : 0.17377488315105438 \n",
      "\n",
      "Epoch 100 complete! Validation Loss : 0.31941559016704557\n",
      "Epoch 100 complete! Validation Accuracy : 0.8448660714285714\n",
      "The model has been saved in saved_models/contrast_ce_vbert_faux_lr_3e-05_val_loss_0.3191_ep_98.pt\n"
     ]
    }
   ],
   "source": [
    "# Train the model\n",
    "model, model_name = train_model(class_model, criterion, optimizer, lr, scheduler, train_dataloader, test_dataloader, epochs, iters_to_accumulate)"
   ]
  },
  {
   "cell_type": "code",
   "execution_count": 28,
   "metadata": {},
   "outputs": [],
   "source": [
    "def evaluate(prediction_dataloader, model, path_to_model, load = False):\n",
    "\t# Prediction on test set\n",
    "\tif load:\n",
    "\t\tprint(\"Loading the weights of the model...\")\n",
    "\t\tmodel.load_state_dict(torch.load(path_to_model))\n",
    "\n",
    "\tprint('Evaluating on the testset')\n",
    "\n",
    "\t# Put model in evaluation mode\n",
    "\tmodel.eval()\n",
    "\n",
    "\t# Tracking variables \n",
    "\tpredictions , true_labels = [], []\n",
    "\n",
    "\t# Predict \n",
    "\tfor batch in prediction_dataloader:\n",
    "\t  # Add batch to GPU\n",
    "\t  batch = tuple(t.to(device) for t in batch)\n",
    "\t  \n",
    "\t  # Unpack the inputs from our dataloader\n",
    "\t  b_t_inputs, b_s_inputs, b_labels = batch\n",
    "\t  \n",
    "\t  # Telling the model not to compute or store gradients, saving memory and \n",
    "\t  # speeding up prediction\n",
    "\t  with torch.no_grad():\n",
    "\t      # Forward pass, calculate logit predictions\n",
    "\t      logits = model(b_t_inputs, b_s_inputs)\n",
    "\n",
    "\t  # Move logits and labels to CPU\n",
    "\t  logits = logits.detach().cpu().numpy()\n",
    "\t  label_ids = b_labels.to('cpu').numpy()\n",
    "\n",
    "\t  pred_flat = np.argmax(logits, axis=1).flatten()\n",
    "\t  labels_flat = label_ids.flatten()\n",
    "\t  \n",
    "\t  # Store predictions and true labels\n",
    "\t  predictions.extend(pred_flat)\n",
    "\t  true_labels.extend(labels_flat)\n",
    "\n",
    "\tprint('DONE.')\n",
    "\n",
    "\t# Code for result display\n",
    "\tprint(model_name, 'Multi-Modal Classification accuracy is')\n",
    "\tprint(metrics.accuracy_score(true_labels, predictions)*100)\n",
    "\tprint(classification_report(true_labels, predictions, target_names = ['fake', 'real']))\n",
    "\t# Converting to csv\n",
    "\t# Removed transpose - check if actually required\n",
    "\tclsf_report = pd.DataFrame(classification_report(y_true = true_labels, y_pred = predictions, output_dict=True, target_names = ['fake', 'real']))\n",
    "\tclsf_report.to_csv(str('saved_models/'+model_name+'.csv'), index= True)"
   ]
  },
  {
   "cell_type": "code",
   "execution_count": 29,
   "metadata": {},
   "outputs": [
    {
     "name": "stdout",
     "output_type": "stream",
     "text": [
      "Evaluating on the testset\n",
      "DONE.\n",
      "contrast_ce_vbert_faux Multi-Modal Classification accuracy is\n",
      "84.03041825095056\n",
      "              precision    recall  f1-score   support\n",
      "\n",
      "        fake       0.81      0.84      0.82       236\n",
      "        real       0.87      0.84      0.85       290\n",
      "\n",
      "    accuracy                           0.84       526\n",
      "   macro avg       0.84      0.84      0.84       526\n",
      "weighted avg       0.84      0.84      0.84       526\n",
      "\n"
     ]
    }
   ],
   "source": [
    "path_to_model = 'saved_models/class_contrast_visualbert_lr_3e-05_val_loss_0.35285_ep_100.pt'\n",
    "evaluate(test_dataloader, model, path_to_model = path_to_model, load = False)"
   ]
  }
 ],
 "metadata": {
  "interpreter": {
   "hash": "112ac2046fa01f929d29fd747457323c8422411859b530c12136f6127f223c24"
  },
  "kernelspec": {
   "display_name": "Python 3.6.11 64-bit ('newnisbert': conda)",
   "name": "python3"
  },
  "language_info": {
   "codemirror_mode": {
    "name": "ipython",
    "version": 3
   },
   "file_extension": ".py",
   "mimetype": "text/x-python",
   "name": "python",
   "nbconvert_exporter": "python",
   "pygments_lexer": "ipython3",
   "version": "3.6.11"
  },
  "orig_nbformat": 4
 },
 "nbformat": 4,
 "nbformat_minor": 2
}
