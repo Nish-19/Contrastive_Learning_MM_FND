{
 "cells": [
  {
   "cell_type": "code",
   "execution_count": 1,
   "metadata": {},
   "outputs": [],
   "source": [
    "import pandas as pd"
   ]
  },
  {
   "cell_type": "code",
   "execution_count": 4,
   "metadata": {},
   "outputs": [
    {
     "name": "stdout",
     "output_type": "stream",
     "text": [
      "Index(['Unnamed: 0', 'ID', 'numSources', 'Source_url1', 'Source_text1',\n",
      "       'Image_url1', 'Source_reliability1', 'Source_url2', 'Source_text2',\n",
      "       'Image_url2', 'Source_reliability2', 'Source_url3', 'Source_text3',\n",
      "       'Image_url3', 'Source_reliability3', 'Source_url4', 'Source_text4',\n",
      "       'Image_url4', 'Source_reliability4'],\n",
      "      dtype='object')\n",
      "Length of the df 600\n",
      "Index(['Unnamed: 0', 'ID', 'numSources', 'Source_url1', 'Source_text1',\n",
      "       'Image_url1', 'Source_reliability1', 'Source_url2', 'Source_text2',\n",
      "       'Image_url2', 'Source_reliability2', 'Source_url3', 'Source_text3',\n",
      "       'Image_url3', 'Source_reliability3', 'Source_url4', 'Source_text4',\n",
      "       'Image_url4', 'Source_reliability4'],\n",
      "      dtype='object')\n",
      "Length of the df 603\n"
     ]
    }
   ],
   "source": [
    "rcv_1 = pd.read_csv('ReCovery_1.csv')\n",
    "print(rcv_1.columns)\n",
    "print('Length of the df', len(rcv_1))\n",
    "\n",
    "rcv_2 = pd.read_csv('ReCovery_2.csv')\n",
    "print(rcv_2.columns)\n",
    "print('Length of the df', len(rcv_2))"
   ]
  },
  {
   "cell_type": "code",
   "execution_count": 6,
   "metadata": {},
   "outputs": [
    {
     "name": "stdout",
     "output_type": "stream",
     "text": [
      "Index(['Unnamed: 0', 'ID', 'numSources', 'Source_url1', 'Source_text1',\n",
      "       'Image_url1', 'Source_reliability1', 'Source_url2', 'Source_text2',\n",
      "       'Image_url2', 'Source_reliability2', 'Source_url3', 'Source_text3',\n",
      "       'Image_url3', 'Source_reliability3', 'Source_url4', 'Source_text4',\n",
      "       'Image_url4', 'Source_reliability4'],\n",
      "      dtype='object')\n",
      "Length of total dataset 1203\n"
     ]
    }
   ],
   "source": [
    "# Combine the two\n",
    "frames = [rcv_1, rcv_2]\n",
    "  \n",
    "rcv_tot = pd.concat(frames)\n",
    "print(rcv_tot.columns)\n",
    "print('Length of total dataset', len(rcv_tot))\n",
    "rcv_tot.to_csv('Recovery.csv', index=False)"
   ]
  }
 ],
 "metadata": {
  "interpreter": {
   "hash": "4905652b14e4b7eb92899b78ac499a22c488804455b27940a322fd82aaf71031"
  },
  "kernelspec": {
   "display_name": "Python 3.7.3 ('base')",
   "language": "python",
   "name": "python3"
  },
  "language_info": {
   "codemirror_mode": {
    "name": "ipython",
    "version": 3
   },
   "file_extension": ".py",
   "mimetype": "text/x-python",
   "name": "python",
   "nbconvert_exporter": "python",
   "pygments_lexer": "ipython3",
   "version": "3.7.3"
  },
  "orig_nbformat": 4
 },
 "nbformat": 4,
 "nbformat_minor": 2
}
