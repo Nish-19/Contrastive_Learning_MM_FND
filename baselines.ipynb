{
 "cells": [
  {
   "cell_type": "code",
   "execution_count": 1,
   "source": [
    "import os\n",
    "gpu_number = \"0\" # Choose either 0 or 1\n",
    "os.environ['CUDA_ENVIRONMENT_DEVICES'] = gpu_number"
   ],
   "outputs": [],
   "metadata": {}
  },
  {
   "cell_type": "code",
   "execution_count": 2,
   "source": [
    "import os\n",
    "import sys\n",
    "import numpy as np\n",
    "from numpy import asarray,zeros\n",
    "import pandas as pd \n",
    "from sklearn.model_selection import train_test_split\n",
    "import torch\n",
    "from torch.utils.data import TensorDataset, DataLoader, RandomSampler, SequentialSampler, Dataset\n",
    "import torch.nn as nn\n",
    "import torch.nn.functional as F\n",
    "import torch.optim as optim\n",
    "from tqdm import tqdm\n",
    "import matplotlib.pyplot as plt\n",
    "import copy\n",
    "from sklearn.model_selection import train_test_split\n",
    "from sklearn import metrics\n",
    "from sklearn.metrics import classification_report\n",
    "import transformers\n",
    "from transformers import BertTokenizer\n",
    "from transformers import AdamW, get_linear_schedule_with_warmup\n",
    "from transformers import AutoTokenizer, AutoModel, AutoConfig, AdamW, get_linear_schedule_with_warmup\n",
    "from tensorflow.keras.preprocessing.text import Tokenizer\n",
    "from tensorflow.keras.preprocessing.sequence import pad_sequences\n",
    "import timm\n",
    "from losses import SupConLoss\n",
    "from torchlars import LARS"
   ],
   "outputs": [],
   "metadata": {}
  },
  {
   "cell_type": "code",
   "execution_count": 3,
   "source": [
    "if torch.cuda.is_available():\n",
    "    device_name = \"cuda:\" + gpu_number\n",
    "    device = torch.device(device_name)\n",
    "else:\n",
    "    device = torch.device(\"cpu\")\n",
    "# device = torch.device(\"cpu\") # Force CPU\n",
    "print(\"Using device\", device)"
   ],
   "outputs": [
    {
     "output_type": "stream",
     "name": "stdout",
     "text": [
      "Using device cuda:0\n"
     ]
    }
   ],
   "metadata": {}
  },
  {
   "cell_type": "markdown",
   "source": [
    "# Loading Data"
   ],
   "metadata": {}
  },
  {
   "cell_type": "code",
   "execution_count": 4,
   "source": [
    "# # Resent+BERT\n",
    "# source_multimodal_rbert = np.load(\"../data/source_multimodal_out.npy\")\n",
    "# target_multimodal_rbert = np.load(\"../data/target_multimodal_out.npy\")\n",
    "# print(\"Source shape\", source_multimodal_rbert.shape) # Resent(512) + BERT (768)\n",
    "# print(\"Target shape\", target_multimodal_rbert.shape)"
   ],
   "outputs": [],
   "metadata": {}
  },
  {
   "cell_type": "code",
   "execution_count": 5,
   "source": [
    "# NOTE: Import Visual BERT Multimodal data\n",
    "target_multimodal_vbert = np.load(\"../data/source_mm_vbert.npy\") # Some reversing is there here\n",
    "source_multimodal_vbert = np.load(\"../data/target_mm_vbert.npy\")\n",
    "print(\"Source shape\", source_multimodal_vbert.shape) # Visual BERT (768)\n",
    "print(\"Target shape\", target_multimodal_vbert.shape)"
   ],
   "outputs": [
    {
     "output_type": "stream",
     "name": "stdout",
     "text": [
      "Source shape (11766, 768)\n",
      "Target shape (11766, 768)\n"
     ]
    }
   ],
   "metadata": {}
  },
  {
   "cell_type": "code",
   "execution_count": 6,
   "source": [
    "# Labels \n",
    "labels_data = np.load(\"../data/labels.npy\").squeeze(1)\n",
    "print('Labels tensor shape', labels_data.shape)"
   ],
   "outputs": [
    {
     "output_type": "stream",
     "name": "stdout",
     "text": [
      "Labels tensor shape (11766,)\n"
     ]
    }
   ],
   "metadata": {}
  },
  {
   "cell_type": "markdown",
   "source": [
    "# Splitting the Data"
   ],
   "metadata": {}
  },
  {
   "cell_type": "code",
   "execution_count": 7,
   "source": [
    "# # NOTE: RBERT\n",
    "# train_rbert_src, test_rbert_src, train_rbert_tar, test_rbert_tar, train_labels, test_labels = train_test_split(source_multimodal_rbert, target_multimodal_rbert, labels_data, test_size=0.2, random_state=43)"
   ],
   "outputs": [],
   "metadata": {}
  },
  {
   "cell_type": "code",
   "execution_count": 8,
   "source": [
    "# NOTE: VBERT\n",
    "train_vbert_src, test_vbert_src, train_vbert_tar, test_vbert_tar, train_labels, test_labels = train_test_split(source_multimodal_vbert, target_multimodal_vbert, labels_data, test_size=0.2, random_state=43)"
   ],
   "outputs": [],
   "metadata": {}
  },
  {
   "cell_type": "markdown",
   "source": [
    "# Modeling"
   ],
   "metadata": {}
  },
  {
   "cell_type": "code",
   "execution_count": 9,
   "source": [
    "# TODO: Get dataloader\n",
    "def get_data_loader(batch_size, target_input, source_input, labels, split_type = 'train'):\n",
    "    target_input = torch.tensor(target_input, device=device)\n",
    "    source_input = torch.tensor(source_input, device=device)\n",
    "    labels = torch.tensor(labels, dtype=torch.long, device=device)\n",
    "    data = TensorDataset(target_input, source_input, labels)\n",
    "    if split_type == 'train':\n",
    "        sampler = RandomSampler(data)\n",
    "    elif split_type == 'val':\n",
    "        sampler = SequentialSampler(data)\n",
    "    dataloader = DataLoader(data, sampler=sampler, batch_size=batch_size)\n",
    "    return data, sampler, dataloader"
   ],
   "outputs": [],
   "metadata": {}
  },
  {
   "cell_type": "code",
   "execution_count": 10,
   "source": [
    "# # NOTE: For ResNet+BERT\n",
    "# batch_size = 128\n",
    "# train_data, train_sampler, train_dataloader = get_data_loader(batch_size, train_rbert_tar, train_rbert_src, train_labels, 'train')\n",
    "# test_data, test_sampler, test_dataloader = get_data_loader(batch_size, test_rbert_tar, test_rbert_src, test_labels, 'val')"
   ],
   "outputs": [],
   "metadata": {}
  },
  {
   "cell_type": "code",
   "execution_count": 11,
   "source": [
    "#NOTE: For Visual BERT\n",
    "batch_size = 128\n",
    "train_data, train_sampler, train_dataloader = get_data_loader(batch_size, train_vbert_tar, train_vbert_src, train_labels, 'train')\n",
    "test_data, test_sampler, test_dataloader = get_data_loader(batch_size, test_vbert_tar, test_vbert_src, test_labels, 'val')"
   ],
   "outputs": [],
   "metadata": {}
  },
  {
   "cell_type": "code",
   "execution_count": 12,
   "source": [
    "# NOTE: Without BackGround Knowledge\n",
    "class WithoutBackKnldg(nn.Module):\n",
    "    def __init__(self, initial_dim):\n",
    "        super(WithoutBackKnldg, self).__init__()\n",
    "        self.Linear_1 = nn.Linear(initial_dim, 512)\n",
    "        self.Linear_2 = nn.Linear(512, 2)\n",
    "        self.tanh1 = nn.Tanh()\n",
    "        self.tanh2 = nn.Tanh()\n",
    "    def forward(self, target_feature, source_features):\n",
    "        linear1 = self.tanh1(self.Linear_1(target_feature))\n",
    "        logits = self.tanh2(self.Linear_2(linear1))\n",
    "        return logits"
   ],
   "outputs": [],
   "metadata": {}
  },
  {
   "cell_type": "code",
   "execution_count": 13,
   "source": [
    "# NOTE: Without BackGround Knowledge\n",
    "class WithBackKnldg(nn.Module):\n",
    "    def __init__(self, initial_dim):\n",
    "        super(WithBackKnldg, self).__init__()\n",
    "        self.Linear_1= nn.Linear(initial_dim, 512)\n",
    "        self.Linear_2 = nn.Linear(512*3, 512)\n",
    "        self.Linear_3 = nn.Linear(512*2, 512)\n",
    "        self.Linear_4 = nn.Linear(512, 2)\n",
    "        self.tanh1 = nn.Tanh()\n",
    "        self.tanh2 = nn.Tanh()\n",
    "        self.tanh3 = nn.Tanh()\n",
    "        self.tanh4 = nn.Tanh()\n",
    "    def forward(self, target_feature, source_feature):\n",
    "        fixed_target = self.Linear_1(target_feature)\n",
    "        fixed_source = self.Linear_1(source_feature)\n",
    "        add_op = fixed_target + fixed_source\n",
    "        sub_op = fixed_target - fixed_source\n",
    "        mul_op = fixed_target * fixed_source\n",
    "        combine_t_s = torch.cat((add_op, sub_op, mul_op), 1)\n",
    "        linear2 = self.tanh2(self.Linear_2(combine_t_s))\n",
    "        combine_c_t = torch.cat((fixed_target, linear2), 1)\n",
    "        linear3 = self.tanh3(self.Linear_3(combine_c_t))\n",
    "        logits = self.tanh4(self.Linear_4(linear3))\n",
    "        return logits"
   ],
   "outputs": [],
   "metadata": {}
  },
  {
   "cell_type": "code",
   "execution_count": 14,
   "source": [
    "# NOTE: Building Model\n",
    "# initial_dim = train_rbert_src.shape[1] # For ResNet+BERT\n",
    "initial_dim = train_vbert_src.shape[1] # For Visual BERT\n",
    "class_model = WithoutBackKnldg(initial_dim).to(device) # For Without Background Knowledge\n",
    "# class_model = WithBackKnldg(initial_dim).to(device) # For With Background Knowledge"
   ],
   "outputs": [],
   "metadata": {}
  },
  {
   "cell_type": "code",
   "execution_count": 15,
   "source": [
    "# Optimizer and scheduler\n",
    "def get_optimizer_scheduler(name, model, train_dataloader_len, epochs, lr_set):\n",
    "\tif name == \"Adam\":\n",
    "\t\toptimizer = AdamW(model.parameters(),\n",
    "                  lr = lr_set, # args.learning_rate - default is 5e-5, our notebook had 2e-5\n",
    "                  eps = 1e-8 # args.adam_epsilon  - default is 1e-8.\n",
    "\t\t)\n",
    "\telif name == \"LARS-SGD\":\n",
    "\t\tbase_optimizer = optim.SGD(model.parameters(), lr=lr_set, momentum=0.9)\n",
    "\t\toptimizer = LARS(optimizer=base_optimizer, eps=1e-8, trust_coef=0.001)\n",
    "\n",
    "\ttotal_steps = train_dataloader_len * epochs\n",
    "\n",
    "\t# Create the learning rate scheduler.\n",
    "\tscheduler = get_linear_schedule_with_warmup(optimizer, \n",
    "\t\t\t\t\t\t\t\t\t\t\t\tnum_warmup_steps = total_steps//2, # Default value in run_glue.py\n",
    "\t\t\t\t\t\t\t\t\t\t\t\tnum_training_steps = total_steps)\n",
    "\treturn optimizer, scheduler"
   ],
   "outputs": [],
   "metadata": {}
  },
  {
   "cell_type": "code",
   "execution_count": 16,
   "source": [
    "# Getting the optimizer and scheduler\n",
    "epochs = 100\n",
    "lr = 3e-5 # Less LR\n",
    "# lr = 0.5\n",
    "iters_to_accumulate = 2\n",
    "name = \"Adam\"\n",
    "# name = \"LARS-SGD\"\n",
    "criterion = nn.CrossEntropyLoss()\n",
    "optimizer, scheduler = get_optimizer_scheduler(name, class_model, len(train_dataloader), epochs, lr)"
   ],
   "outputs": [],
   "metadata": {}
  },
  {
   "cell_type": "code",
   "execution_count": 17,
   "source": [
    "################ Evaluating Loss ######################\n",
    "#######################################################\n",
    "def evaluate_loss(net, device, criterion, dataloader):\n",
    "    net.eval()\n",
    "    mean_loss = 0\n",
    "    count = 0\n",
    "    with torch.no_grad():\n",
    "        for it, (target_inputs, source_inputs, labels) in enumerate(tqdm(dataloader)):\n",
    "            target_inputs, source_inputs, labels = target_inputs.to(device), source_inputs.to(device), labels.to(device)\n",
    "            logits = net(target_inputs, source_inputs)\n",
    "            mean_loss += criterion(logits.squeeze(-1), labels).item() # initially it was logits.squeeze(-1)\n",
    "            count += 1\n",
    "    return mean_loss / count"
   ],
   "outputs": [],
   "metadata": {}
  },
  {
   "cell_type": "code",
   "execution_count": 18,
   "source": [
    "################ Flat Accuracy Calculation ####################\n",
    "###############################################################\n",
    "def flat_accuracy(preds, labels):\n",
    "    pred_flat = np.argmax(preds, axis=1).flatten()\n",
    "    labels_flat = labels.flatten()\n",
    "    return np.sum(pred_flat == labels_flat) / len(labels_flat)\n",
    "################ Validation Accuracy Calculation ####################\n",
    "###############################################################\n",
    "def evaluate_accuracy(model, device, validation_dataloader):\n",
    "\tmodel.eval()\n",
    "\t# Tracking variables \n",
    "\teval_loss, eval_accuracy = 0, 0\n",
    "\tnb_eval_steps, nb_eval_examples = 0, 0\n",
    "\t# Evaluate data for one epoch\n",
    "\tfor batch in validation_dataloader:\n",
    "\t    # Add batch to GPU\n",
    "\t    batch = tuple(t.to(device) for t in batch)\t    \n",
    "\t    # Unpack the inputs from our dataloader\n",
    "\t    b_t_inputs, b_s_inputs, b_labels = batch\t    \n",
    "\t    \n",
    "\t    # Telling the model not to compute or store gradients, saving memory and\n",
    "\t    # speeding up validation\n",
    "\t    with torch.no_grad(): \n",
    "\t    \t# Forward pass, calculate logit predictions.\n",
    "\t        # This will return the logits rather than the loss because we have\n",
    "\t        # not provided labels.\n",
    "\t    \tlogits = model(b_t_inputs, b_s_inputs)       \n",
    "\n",
    "\t    # Move logits and labels to CPU\n",
    "\t    logits = logits.detach().cpu().numpy()\n",
    "\t    label_ids = b_labels.to('cpu').numpy()\n",
    "\t    \n",
    "\t    # Calculate the accuracy for this batch of test sentences.\n",
    "\t    tmp_eval_accuracy = flat_accuracy(logits, label_ids)\n",
    "\t    \n",
    "\t    # Accumulate the total accuracy.\n",
    "\t    eval_accuracy += tmp_eval_accuracy\n",
    "\n",
    "\t    # Track the number of batches\n",
    "\t    nb_eval_steps += 1\n",
    "\taccuracy = eval_accuracy/nb_eval_steps\n",
    "\treturn accuracy"
   ],
   "outputs": [],
   "metadata": {}
  },
  {
   "cell_type": "code",
   "execution_count": 19,
   "source": [
    "def train_model(net, criterion, opti, lr, lr_scheduler, train_loader, val_loader, epochs, iters_to_accumulate):\n",
    "    best_loss = np.Inf\n",
    "    best_ep = 1\n",
    "    nb_iterations = len(train_loader)\n",
    "    print_every = nb_iterations // 5  # print the training loss 5 times per epoch\n",
    "    iters = []\n",
    "    train_losses = []\n",
    "    val_losses = []\n",
    "    # Iterating over all epochs\n",
    "    for ep in range(epochs):\n",
    "        net.train()\n",
    "        running_loss = 0.0\n",
    "        for it, (target_inputs, source_inputs, labels) in enumerate(tqdm(train_loader)):\n",
    "\n",
    "            # Converting to cuda tensors\n",
    "            target_inputs, source_inputs, labels = target_inputs.to(device), source_inputs.to(device), labels.to(device)\n",
    "    \t\t\n",
    "            # Obtaining the logits from the model\n",
    "            logits = net(target_inputs, source_inputs)\n",
    "            # print(logits.device)\n",
    "\n",
    "            # Computing loss\n",
    "            # print(logits.squeeze(-1).shape)\n",
    "            # print(labels.shape)\n",
    "            loss = criterion(logits.squeeze(-1), labels)\n",
    "            loss = loss / iters_to_accumulate  # Normalize the loss because it is averaged\n",
    "\n",
    "            # Backpropagating the gradients\n",
    "            # Calls backward()\n",
    "            loss.backward()\n",
    "\n",
    "            if (it + 1) % iters_to_accumulate == 0:\n",
    "                # Optimization step\n",
    "                # scaler.step() first unscales the gradients of the optimizer's assigned params.\n",
    "                # If these gradients do not contain infs or NaNs, opti.step() is then called,\n",
    "                # otherwise, opti.step() is skipped.\n",
    "                opti.step()\n",
    "                # Adjust the learning rate based on the number of iterations.\n",
    "                lr_scheduler.step()\n",
    "                # Clear gradients\n",
    "                net.zero_grad()\n",
    "\n",
    "\n",
    "            running_loss += loss.item()\n",
    "\n",
    "            if (it + 1) % print_every == 0:  # Print training loss information\n",
    "                print()\n",
    "                print(\"Iteration {}/{} of epoch {} complete. Loss : {} \"\n",
    "                      .format(it+1, nb_iterations, ep+1, running_loss / print_every))\n",
    "\n",
    "                running_loss = 0.0\n",
    "\n",
    "\n",
    "        val_loss = evaluate_loss(net, device, criterion, val_loader)  # Compute validation loss\n",
    "        val_accuracy = evaluate_accuracy(net, device, val_loader)\n",
    "        print()\n",
    "        print(\"Epoch {} complete! Validation Loss : {}\".format(ep+1, val_loss))\n",
    "        print(\"Epoch {} complete! Validation Accuracy : {}\".format(ep+1, val_accuracy))\n",
    "\n",
    "        if val_loss < best_loss:\n",
    "            print(\"Best validation loss improved from {} to {}\".format(best_loss, val_loss))\n",
    "            print()\n",
    "            net_copy = copy.deepcopy(net)  # save a copy of the model\n",
    "            best_loss = val_loss\n",
    "            best_ep = ep + 1\n",
    "\n",
    "    # Saving the model\n",
    "    model_name = 'base_vbert_without'\n",
    "    path_to_model='saved_models/{}_lr_{}_val_loss_{}_ep_{}.pt'.format(model_name, lr, round(best_loss, 5), best_ep)\n",
    "    torch.save(net_copy.state_dict(), path_to_model)\n",
    "    net.load_state_dict(torch.load(path_to_model)) # Re-Loading the best model\n",
    "    print(\"The model has been saved in {}\".format(path_to_model))\n",
    "\n",
    "    del loss\n",
    "    torch.cuda.empty_cache()\n",
    "    return net, model_name"
   ],
   "outputs": [],
   "metadata": {}
  },
  {
   "cell_type": "code",
   "execution_count": 20,
   "source": [
    "# Train the model\n",
    "model, model_name = train_model(class_model, criterion, optimizer, lr, scheduler, train_dataloader, test_dataloader, epochs, iters_to_accumulate)"
   ],
   "outputs": [
    {
     "output_type": "stream",
     "name": "stderr",
     "text": [
      " 54%|█████▍    | 40/74 [00:00<00:00, 192.15it/s]"
     ]
    },
    {
     "output_type": "stream",
     "name": "stdout",
     "text": [
      "\n",
      "Iteration 14/74 of epoch 1 complete. Loss : 0.35207574920994894 \n",
      "\n",
      "Iteration 28/74 of epoch 1 complete. Loss : 0.3536794015339443 \n",
      "\n",
      "Iteration 42/74 of epoch 1 complete. Loss : 0.35140351738248554 \n"
     ]
    },
    {
     "output_type": "stream",
     "name": "stderr",
     "text": [
      "100%|██████████| 74/74 [00:00<00:00, 200.62it/s]\n",
      "100%|██████████| 19/19 [00:00<00:00, 387.56it/s]\n",
      "  0%|          | 0/74 [00:00<?, ?it/s]"
     ]
    },
    {
     "output_type": "stream",
     "name": "stdout",
     "text": [
      "\n",
      "Iteration 56/74 of epoch 1 complete. Loss : 0.3523939209324973 \n",
      "\n",
      "Iteration 70/74 of epoch 1 complete. Loss : 0.3520740696362087 \n",
      "\n",
      "Epoch 1 complete! Validation Loss : 0.7015133217761391\n",
      "Epoch 1 complete! Validation Accuracy : 0.4529769736842106\n",
      "Best validation loss improved from inf to 0.7015133217761391\n",
      "\n"
     ]
    },
    {
     "output_type": "stream",
     "name": "stderr",
     "text": [
      " 58%|█████▊    | 43/74 [00:00<00:00, 210.77it/s]"
     ]
    },
    {
     "output_type": "stream",
     "name": "stdout",
     "text": [
      "\n",
      "Iteration 14/74 of epoch 2 complete. Loss : 0.3503490516117641 \n",
      "\n",
      "Iteration 28/74 of epoch 2 complete. Loss : 0.3487555852958134 \n",
      "\n",
      "Iteration 42/74 of epoch 2 complete. Loss : 0.34854674552168163 \n"
     ]
    },
    {
     "output_type": "stream",
     "name": "stderr",
     "text": [
      "100%|██████████| 74/74 [00:00<00:00, 202.15it/s]\n",
      "100%|██████████| 19/19 [00:00<00:00, 383.30it/s]\n",
      "  0%|          | 0/74 [00:00<?, ?it/s]"
     ]
    },
    {
     "output_type": "stream",
     "name": "stdout",
     "text": [
      "\n",
      "Iteration 56/74 of epoch 2 complete. Loss : 0.34813560119697023 \n",
      "\n",
      "Iteration 70/74 of epoch 2 complete. Loss : 0.34660818747111727 \n",
      "\n",
      "Epoch 2 complete! Validation Loss : 0.6924823428455152\n",
      "Epoch 2 complete! Validation Accuracy : 0.5138486842105263\n",
      "Best validation loss improved from 0.7015133217761391 to 0.6924823428455152\n",
      "\n"
     ]
    },
    {
     "output_type": "stream",
     "name": "stderr",
     "text": [
      " 58%|█████▊    | 43/74 [00:00<00:00, 213.12it/s]"
     ]
    },
    {
     "output_type": "stream",
     "name": "stdout",
     "text": [
      "\n",
      "Iteration 14/74 of epoch 3 complete. Loss : 0.3442613737923758 \n",
      "\n",
      "Iteration 28/74 of epoch 3 complete. Loss : 0.34382771807057516 \n",
      "\n",
      "Iteration 42/74 of epoch 3 complete. Loss : 0.3421181653227125 \n",
      "\n",
      "Iteration 56/74 of epoch 3 complete. Loss : 0.3428876740591867 \n"
     ]
    },
    {
     "output_type": "stream",
     "name": "stderr",
     "text": [
      "100%|██████████| 74/74 [00:00<00:00, 208.08it/s]\n",
      "100%|██████████| 19/19 [00:00<00:00, 394.00it/s]\n",
      "  0%|          | 0/74 [00:00<?, ?it/s]"
     ]
    },
    {
     "output_type": "stream",
     "name": "stdout",
     "text": [
      "\n",
      "Iteration 70/74 of epoch 3 complete. Loss : 0.3415720228637968 \n",
      "\n",
      "Epoch 3 complete! Validation Loss : 0.6849286273906106\n",
      "Epoch 3 complete! Validation Accuracy : 0.5604605263157895\n",
      "Best validation loss improved from 0.6924823428455152 to 0.6849286273906106\n",
      "\n",
      "\n",
      "Iteration 14/74 of epoch 4 complete. Loss : 0.3392243619476046 \n"
     ]
    },
    {
     "output_type": "stream",
     "name": "stderr",
     "text": [
      " 88%|████████▊ | 65/74 [00:00<00:00, 211.13it/s]"
     ]
    },
    {
     "output_type": "stream",
     "name": "stdout",
     "text": [
      "\n",
      "Iteration 28/74 of epoch 4 complete. Loss : 0.3409020389829363 \n",
      "\n",
      "Iteration 42/74 of epoch 4 complete. Loss : 0.3392792280231203 \n",
      "\n",
      "Iteration 56/74 of epoch 4 complete. Loss : 0.33820471806185587 \n",
      "\n",
      "Iteration 70/74 of epoch 4 complete. Loss : 0.338177244578089 \n"
     ]
    },
    {
     "output_type": "stream",
     "name": "stderr",
     "text": [
      "100%|██████████| 74/74 [00:00<00:00, 209.44it/s]\n",
      "100%|██████████| 19/19 [00:00<00:00, 390.70it/s]\n",
      " 28%|██▊       | 21/74 [00:00<00:00, 209.29it/s]"
     ]
    },
    {
     "output_type": "stream",
     "name": "stdout",
     "text": [
      "\n",
      "Epoch 4 complete! Validation Loss : 0.6820124136774164\n",
      "Epoch 4 complete! Validation Accuracy : 0.5647532894736842\n",
      "Best validation loss improved from 0.6849286273906106 to 0.6820124136774164\n",
      "\n",
      "\n",
      "Iteration 14/74 of epoch 5 complete. Loss : 0.3365297189780644 \n",
      "\n",
      "Iteration 28/74 of epoch 5 complete. Loss : 0.34078935214451384 \n"
     ]
    },
    {
     "output_type": "stream",
     "name": "stderr",
     "text": [
      "100%|██████████| 74/74 [00:00<00:00, 207.02it/s]\n",
      "  0%|          | 0/19 [00:00<?, ?it/s]"
     ]
    },
    {
     "output_type": "stream",
     "name": "stdout",
     "text": [
      "\n",
      "Iteration 42/74 of epoch 5 complete. Loss : 0.3341840079852513 \n",
      "\n",
      "Iteration 56/74 of epoch 5 complete. Loss : 0.3358108976057598 \n",
      "\n",
      "Iteration 70/74 of epoch 5 complete. Loss : 0.33885620747293743 \n"
     ]
    },
    {
     "output_type": "stream",
     "name": "stderr",
     "text": [
      "100%|██████████| 19/19 [00:00<00:00, 392.63it/s]\n",
      " 27%|██▋       | 20/74 [00:00<00:00, 197.75it/s]"
     ]
    },
    {
     "output_type": "stream",
     "name": "stdout",
     "text": [
      "\n",
      "Epoch 5 complete! Validation Loss : 0.6814216155754892\n",
      "Epoch 5 complete! Validation Accuracy : 0.5651644736842105\n",
      "Best validation loss improved from 0.6820124136774164 to 0.6814216155754892\n",
      "\n",
      "\n",
      "Iteration 14/74 of epoch 6 complete. Loss : 0.3338164623294558 \n",
      "\n",
      "Iteration 28/74 of epoch 6 complete. Loss : 0.3355899006128311 \n"
     ]
    },
    {
     "output_type": "stream",
     "name": "stderr",
     "text": [
      "100%|██████████| 74/74 [00:00<00:00, 202.21it/s]\n",
      "  0%|          | 0/19 [00:00<?, ?it/s]"
     ]
    },
    {
     "output_type": "stream",
     "name": "stdout",
     "text": [
      "\n",
      "Iteration 42/74 of epoch 6 complete. Loss : 0.3360461869410106 \n",
      "\n",
      "Iteration 56/74 of epoch 6 complete. Loss : 0.33886028826236725 \n",
      "\n",
      "Iteration 70/74 of epoch 6 complete. Loss : 0.33777772954532076 \n"
     ]
    },
    {
     "output_type": "stream",
     "name": "stderr",
     "text": [
      "100%|██████████| 19/19 [00:00<00:00, 394.09it/s]\n",
      " 28%|██▊       | 21/74 [00:00<00:00, 208.13it/s]"
     ]
    },
    {
     "output_type": "stream",
     "name": "stdout",
     "text": [
      "\n",
      "Epoch 6 complete! Validation Loss : 0.6803370933783682\n",
      "Epoch 6 complete! Validation Accuracy : 0.5651644736842105\n",
      "Best validation loss improved from 0.6814216155754892 to 0.6803370933783682\n",
      "\n",
      "\n",
      "Iteration 14/74 of epoch 7 complete. Loss : 0.3379772348063333 \n",
      "\n",
      "Iteration 28/74 of epoch 7 complete. Loss : 0.3373653484242303 \n"
     ]
    },
    {
     "output_type": "stream",
     "name": "stderr",
     "text": [
      "100%|██████████| 74/74 [00:00<00:00, 204.14it/s]\n",
      "  0%|          | 0/19 [00:00<?, ?it/s]"
     ]
    },
    {
     "output_type": "stream",
     "name": "stdout",
     "text": [
      "\n",
      "Iteration 42/74 of epoch 7 complete. Loss : 0.334338047674724 \n",
      "\n",
      "Iteration 56/74 of epoch 7 complete. Loss : 0.336799647126879 \n",
      "\n",
      "Iteration 70/74 of epoch 7 complete. Loss : 0.3319994104760034 \n"
     ]
    },
    {
     "output_type": "stream",
     "name": "stderr",
     "text": [
      "100%|██████████| 19/19 [00:00<00:00, 389.47it/s]\n",
      " 28%|██▊       | 21/74 [00:00<00:00, 203.84it/s]"
     ]
    },
    {
     "output_type": "stream",
     "name": "stdout",
     "text": [
      "\n",
      "Epoch 7 complete! Validation Loss : 0.6788153679747331\n",
      "Epoch 7 complete! Validation Accuracy : 0.5651644736842105\n",
      "Best validation loss improved from 0.6803370933783682 to 0.6788153679747331\n",
      "\n",
      "\n",
      "Iteration 14/74 of epoch 8 complete. Loss : 0.3362334540912083 \n",
      "\n",
      "Iteration 28/74 of epoch 8 complete. Loss : 0.32941856341702597 \n"
     ]
    },
    {
     "output_type": "stream",
     "name": "stderr",
     "text": [
      "100%|██████████| 74/74 [00:00<00:00, 201.77it/s]\n",
      "  0%|          | 0/19 [00:00<?, ?it/s]"
     ]
    },
    {
     "output_type": "stream",
     "name": "stdout",
     "text": [
      "\n",
      "Iteration 42/74 of epoch 8 complete. Loss : 0.33548520292554584 \n",
      "\n",
      "Iteration 56/74 of epoch 8 complete. Loss : 0.3373891030039106 \n",
      "\n",
      "Iteration 70/74 of epoch 8 complete. Loss : 0.3363102078437805 \n"
     ]
    },
    {
     "output_type": "stream",
     "name": "stderr",
     "text": [
      "100%|██████████| 19/19 [00:00<00:00, 386.13it/s]\n",
      " 28%|██▊       | 21/74 [00:00<00:00, 205.86it/s]"
     ]
    },
    {
     "output_type": "stream",
     "name": "stdout",
     "text": [
      "\n",
      "Epoch 8 complete! Validation Loss : 0.677048899625477\n",
      "Epoch 8 complete! Validation Accuracy : 0.5655756578947368\n",
      "Best validation loss improved from 0.6788153679747331 to 0.677048899625477\n",
      "\n",
      "\n",
      "Iteration 14/74 of epoch 9 complete. Loss : 0.33096548914909363 \n",
      "\n",
      "Iteration 28/74 of epoch 9 complete. Loss : 0.33860586157866884 \n"
     ]
    },
    {
     "output_type": "stream",
     "name": "stderr",
     "text": [
      "100%|██████████| 74/74 [00:00<00:00, 203.95it/s]\n",
      "  0%|          | 0/19 [00:00<?, ?it/s]"
     ]
    },
    {
     "output_type": "stream",
     "name": "stdout",
     "text": [
      "\n",
      "Iteration 42/74 of epoch 9 complete. Loss : 0.33617777270930155 \n",
      "\n",
      "Iteration 56/74 of epoch 9 complete. Loss : 0.33643984368869234 \n",
      "\n",
      "Iteration 70/74 of epoch 9 complete. Loss : 0.329435190984181 \n"
     ]
    },
    {
     "output_type": "stream",
     "name": "stderr",
     "text": [
      "100%|██████████| 19/19 [00:00<00:00, 379.97it/s]\n",
      " 28%|██▊       | 21/74 [00:00<00:00, 207.74it/s]"
     ]
    },
    {
     "output_type": "stream",
     "name": "stdout",
     "text": [
      "\n",
      "Epoch 9 complete! Validation Loss : 0.6747652072655527\n",
      "Epoch 9 complete! Validation Accuracy : 0.5655756578947368\n",
      "Best validation loss improved from 0.677048899625477 to 0.6747652072655527\n",
      "\n",
      "\n",
      "Iteration 14/74 of epoch 10 complete. Loss : 0.3361706478255136 \n",
      "\n",
      "Iteration 28/74 of epoch 10 complete. Loss : 0.3329028742653983 \n"
     ]
    },
    {
     "output_type": "stream",
     "name": "stderr",
     "text": [
      "100%|██████████| 74/74 [00:00<00:00, 206.33it/s]\n",
      "  0%|          | 0/19 [00:00<?, ?it/s]"
     ]
    },
    {
     "output_type": "stream",
     "name": "stdout",
     "text": [
      "\n",
      "Iteration 42/74 of epoch 10 complete. Loss : 0.3280614273888724 \n",
      "\n",
      "Iteration 56/74 of epoch 10 complete. Loss : 0.3353927178042276 \n",
      "\n",
      "Iteration 70/74 of epoch 10 complete. Loss : 0.33193106736455646 \n"
     ]
    },
    {
     "output_type": "stream",
     "name": "stderr",
     "text": [
      "100%|██████████| 19/19 [00:00<00:00, 389.68it/s]\n",
      " 28%|██▊       | 21/74 [00:00<00:00, 207.52it/s]"
     ]
    },
    {
     "output_type": "stream",
     "name": "stdout",
     "text": [
      "\n",
      "Epoch 10 complete! Validation Loss : 0.6730315214709232\n",
      "Epoch 10 complete! Validation Accuracy : 0.5655756578947368\n",
      "Best validation loss improved from 0.6747652072655527 to 0.6730315214709232\n",
      "\n",
      "\n",
      "Iteration 14/74 of epoch 11 complete. Loss : 0.3289353315319334 \n",
      "\n",
      "Iteration 28/74 of epoch 11 complete. Loss : 0.3316357859543392 \n"
     ]
    },
    {
     "output_type": "stream",
     "name": "stderr",
     "text": [
      "100%|██████████| 74/74 [00:00<00:00, 199.02it/s]\n",
      "  0%|          | 0/19 [00:00<?, ?it/s]"
     ]
    },
    {
     "output_type": "stream",
     "name": "stdout",
     "text": [
      "\n",
      "Iteration 42/74 of epoch 11 complete. Loss : 0.3315775671175548 \n",
      "\n",
      "Iteration 56/74 of epoch 11 complete. Loss : 0.3326674359185355 \n",
      "\n",
      "Iteration 70/74 of epoch 11 complete. Loss : 0.3339279017278126 \n"
     ]
    },
    {
     "output_type": "stream",
     "name": "stderr",
     "text": [
      "100%|██████████| 19/19 [00:00<00:00, 370.98it/s]\n",
      " 28%|██▊       | 21/74 [00:00<00:00, 206.10it/s]"
     ]
    },
    {
     "output_type": "stream",
     "name": "stdout",
     "text": [
      "\n",
      "Epoch 11 complete! Validation Loss : 0.6698717129857916\n",
      "Epoch 11 complete! Validation Accuracy : 0.572796052631579\n",
      "Best validation loss improved from 0.6730315214709232 to 0.6698717129857916\n",
      "\n",
      "\n",
      "Iteration 14/74 of epoch 12 complete. Loss : 0.3321213722229004 \n",
      "\n",
      "Iteration 28/74 of epoch 12 complete. Loss : 0.33356466250760214 \n"
     ]
    },
    {
     "output_type": "stream",
     "name": "stderr",
     "text": [
      " 78%|███████▊  | 58/74 [00:00<00:00, 184.33it/s]"
     ]
    },
    {
     "output_type": "stream",
     "name": "stdout",
     "text": [
      "\n",
      "Iteration 42/74 of epoch 12 complete. Loss : 0.33210685210568563 \n",
      "\n",
      "Iteration 56/74 of epoch 12 complete. Loss : 0.3263405816895621 \n",
      "\n",
      "Iteration 70/74 of epoch 12 complete. Loss : 0.3300861801419939 \n"
     ]
    },
    {
     "output_type": "stream",
     "name": "stderr",
     "text": [
      "100%|██████████| 74/74 [00:00<00:00, 176.64it/s]\n",
      "100%|██████████| 19/19 [00:00<00:00, 279.47it/s]\n",
      " 23%|██▎       | 17/74 [00:00<00:00, 161.96it/s]"
     ]
    },
    {
     "output_type": "stream",
     "name": "stdout",
     "text": [
      "\n",
      "Epoch 12 complete! Validation Loss : 0.6679821390854684\n",
      "Epoch 12 complete! Validation Accuracy : 0.5723848684210526\n",
      "Best validation loss improved from 0.6698717129857916 to 0.6679821390854684\n",
      "\n",
      "\n",
      "Iteration 14/74 of epoch 13 complete. Loss : 0.3310415872505733 \n",
      "\n",
      "Iteration 28/74 of epoch 13 complete. Loss : 0.33244364176477703 \n"
     ]
    },
    {
     "output_type": "stream",
     "name": "stderr",
     "text": [
      "100%|██████████| 74/74 [00:00<00:00, 158.42it/s]"
     ]
    },
    {
     "output_type": "stream",
     "name": "stdout",
     "text": [
      "\n",
      "Iteration 42/74 of epoch 13 complete. Loss : 0.32703313870089395 \n",
      "\n",
      "Iteration 56/74 of epoch 13 complete. Loss : 0.325721019080707 \n",
      "\n",
      "Iteration 70/74 of epoch 13 complete. Loss : 0.3306860455444881 \n"
     ]
    },
    {
     "output_type": "stream",
     "name": "stderr",
     "text": [
      "\n",
      "100%|██████████| 19/19 [00:00<00:00, 280.30it/s]\n",
      " 22%|██▏       | 16/74 [00:00<00:00, 156.16it/s]"
     ]
    },
    {
     "output_type": "stream",
     "name": "stdout",
     "text": [
      "\n",
      "Epoch 13 complete! Validation Loss : 0.6652364856318423\n",
      "Epoch 13 complete! Validation Accuracy : 0.5818421052631578\n",
      "Best validation loss improved from 0.6679821390854684 to 0.6652364856318423\n",
      "\n",
      "\n",
      "Iteration 14/74 of epoch 14 complete. Loss : 0.3295273333787918 \n",
      "\n",
      "Iteration 28/74 of epoch 14 complete. Loss : 0.3281760684081486 \n"
     ]
    },
    {
     "output_type": "stream",
     "name": "stderr",
     "text": [
      "100%|██████████| 74/74 [00:00<00:00, 156.69it/s]"
     ]
    },
    {
     "output_type": "stream",
     "name": "stdout",
     "text": [
      "\n",
      "Iteration 42/74 of epoch 14 complete. Loss : 0.3284488767385483 \n",
      "\n",
      "Iteration 56/74 of epoch 14 complete. Loss : 0.32421901183468954 \n",
      "\n",
      "Iteration 70/74 of epoch 14 complete. Loss : 0.3300673621041434 \n"
     ]
    },
    {
     "output_type": "stream",
     "name": "stderr",
     "text": [
      "\n",
      "100%|██████████| 19/19 [00:00<00:00, 277.03it/s]\n",
      " 22%|██▏       | 16/74 [00:00<00:00, 158.99it/s]"
     ]
    },
    {
     "output_type": "stream",
     "name": "stdout",
     "text": [
      "\n",
      "Epoch 14 complete! Validation Loss : 0.6620547865566454\n",
      "Epoch 14 complete! Validation Accuracy : 0.5933552631578948\n",
      "Best validation loss improved from 0.6652364856318423 to 0.6620547865566454\n",
      "\n",
      "\n",
      "Iteration 14/74 of epoch 15 complete. Loss : 0.3278201307569231 \n",
      "\n",
      "Iteration 28/74 of epoch 15 complete. Loss : 0.3253686513219561 \n"
     ]
    },
    {
     "output_type": "stream",
     "name": "stderr",
     "text": [
      "100%|██████████| 74/74 [00:00<00:00, 157.21it/s]\n",
      "  0%|          | 0/19 [00:00<?, ?it/s]"
     ]
    },
    {
     "output_type": "stream",
     "name": "stdout",
     "text": [
      "\n",
      "Iteration 42/74 of epoch 15 complete. Loss : 0.3242936134338379 \n",
      "\n",
      "Iteration 56/74 of epoch 15 complete. Loss : 0.32845380689416614 \n",
      "\n",
      "Iteration 70/74 of epoch 15 complete. Loss : 0.3259466269186565 \n"
     ]
    },
    {
     "output_type": "stream",
     "name": "stderr",
     "text": [
      "100%|██████████| 19/19 [00:00<00:00, 270.00it/s]\n",
      " 23%|██▎       | 17/74 [00:00<00:00, 162.16it/s]"
     ]
    },
    {
     "output_type": "stream",
     "name": "stdout",
     "text": [
      "\n",
      "Epoch 15 complete! Validation Loss : 0.6586529800766393\n",
      "Epoch 15 complete! Validation Accuracy : 0.6150657894736842\n",
      "Best validation loss improved from 0.6620547865566454 to 0.6586529800766393\n",
      "\n",
      "\n",
      "Iteration 14/74 of epoch 16 complete. Loss : 0.3259567213909967 \n",
      "\n",
      "Iteration 28/74 of epoch 16 complete. Loss : 0.32539249530860354 \n"
     ]
    },
    {
     "output_type": "stream",
     "name": "stderr",
     "text": [
      "100%|██████████| 74/74 [00:00<00:00, 160.11it/s]\n",
      "  0%|          | 0/19 [00:00<?, ?it/s]"
     ]
    },
    {
     "output_type": "stream",
     "name": "stdout",
     "text": [
      "\n",
      "Iteration 42/74 of epoch 16 complete. Loss : 0.32810751242297037 \n",
      "\n",
      "Iteration 56/74 of epoch 16 complete. Loss : 0.3261065163782665 \n",
      "\n",
      "Iteration 70/74 of epoch 16 complete. Loss : 0.3225846695048468 \n"
     ]
    },
    {
     "output_type": "stream",
     "name": "stderr",
     "text": [
      "100%|██████████| 19/19 [00:00<00:00, 280.84it/s]\n",
      " 23%|██▎       | 17/74 [00:00<00:00, 165.58it/s]"
     ]
    },
    {
     "output_type": "stream",
     "name": "stdout",
     "text": [
      "\n",
      "Epoch 16 complete! Validation Loss : 0.6561799268973502\n",
      "Epoch 16 complete! Validation Accuracy : 0.6191776315789473\n",
      "Best validation loss improved from 0.6586529800766393 to 0.6561799268973502\n",
      "\n",
      "\n",
      "Iteration 14/74 of epoch 17 complete. Loss : 0.32467399324689594 \n",
      "\n",
      "Iteration 28/74 of epoch 17 complete. Loss : 0.32198668803487507 \n"
     ]
    },
    {
     "output_type": "stream",
     "name": "stderr",
     "text": [
      "100%|██████████| 74/74 [00:00<00:00, 160.76it/s]\n",
      "  0%|          | 0/19 [00:00<?, ?it/s]"
     ]
    },
    {
     "output_type": "stream",
     "name": "stdout",
     "text": [
      "\n",
      "Iteration 42/74 of epoch 17 complete. Loss : 0.3249397852591106 \n",
      "\n",
      "Iteration 56/74 of epoch 17 complete. Loss : 0.3209622459752219 \n",
      "\n",
      "Iteration 70/74 of epoch 17 complete. Loss : 0.32533952806677136 \n"
     ]
    },
    {
     "output_type": "stream",
     "name": "stderr",
     "text": [
      "100%|██████████| 19/19 [00:00<00:00, 354.37it/s]\n",
      " 30%|██▉       | 22/74 [00:00<00:00, 213.98it/s]"
     ]
    },
    {
     "output_type": "stream",
     "name": "stdout",
     "text": [
      "\n",
      "Epoch 17 complete! Validation Loss : 0.652622357795113\n",
      "Epoch 17 complete! Validation Accuracy : 0.633157894736842\n",
      "Best validation loss improved from 0.6561799268973502 to 0.652622357795113\n",
      "\n",
      "\n",
      "Iteration 14/74 of epoch 18 complete. Loss : 0.3221538599048342 \n",
      "\n",
      "Iteration 28/74 of epoch 18 complete. Loss : 0.3237056774752481 \n"
     ]
    },
    {
     "output_type": "stream",
     "name": "stderr",
     "text": [
      "100%|██████████| 74/74 [00:00<00:00, 210.08it/s]\n",
      "  0%|          | 0/19 [00:00<?, ?it/s]"
     ]
    },
    {
     "output_type": "stream",
     "name": "stdout",
     "text": [
      "\n",
      "Iteration 42/74 of epoch 18 complete. Loss : 0.32126615941524506 \n",
      "\n",
      "Iteration 56/74 of epoch 18 complete. Loss : 0.3182447680405208 \n",
      "\n",
      "Iteration 70/74 of epoch 18 complete. Loss : 0.32412523669855936 \n"
     ]
    },
    {
     "output_type": "stream",
     "name": "stderr",
     "text": [
      "100%|██████████| 19/19 [00:00<00:00, 391.25it/s]\n",
      " 30%|██▉       | 22/74 [00:00<00:00, 215.93it/s]"
     ]
    },
    {
     "output_type": "stream",
     "name": "stdout",
     "text": [
      "\n",
      "Epoch 18 complete! Validation Loss : 0.6498881954895822\n",
      "Epoch 18 complete! Validation Accuracy : 0.6348026315789473\n",
      "Best validation loss improved from 0.652622357795113 to 0.6498881954895822\n",
      "\n",
      "\n",
      "Iteration 14/74 of epoch 19 complete. Loss : 0.320288604923657 \n",
      "\n",
      "Iteration 28/74 of epoch 19 complete. Loss : 0.3216830704893385 \n",
      "\n",
      "Iteration 42/74 of epoch 19 complete. Loss : 0.31973970574992044 \n"
     ]
    },
    {
     "output_type": "stream",
     "name": "stderr",
     "text": [
      "100%|██████████| 74/74 [00:00<00:00, 212.05it/s]\n",
      "100%|██████████| 19/19 [00:00<00:00, 394.00it/s]\n",
      "  0%|          | 0/74 [00:00<?, ?it/s]"
     ]
    },
    {
     "output_type": "stream",
     "name": "stdout",
     "text": [
      "\n",
      "Iteration 56/74 of epoch 19 complete. Loss : 0.3195831796952656 \n",
      "\n",
      "Iteration 70/74 of epoch 19 complete. Loss : 0.32020244002342224 \n",
      "\n",
      "Epoch 19 complete! Validation Loss : 0.6475100548643815\n",
      "Epoch 19 complete! Validation Accuracy : 0.6372697368421052\n",
      "Best validation loss improved from 0.6498881954895822 to 0.6475100548643815\n",
      "\n"
     ]
    },
    {
     "output_type": "stream",
     "name": "stderr",
     "text": [
      " 58%|█████▊    | 43/74 [00:00<00:00, 209.08it/s]"
     ]
    },
    {
     "output_type": "stream",
     "name": "stdout",
     "text": [
      "\n",
      "Iteration 14/74 of epoch 20 complete. Loss : 0.3195897660085133 \n",
      "\n",
      "Iteration 28/74 of epoch 20 complete. Loss : 0.31900663461003986 \n",
      "\n",
      "Iteration 42/74 of epoch 20 complete. Loss : 0.3166260974747794 \n"
     ]
    },
    {
     "output_type": "stream",
     "name": "stderr",
     "text": [
      "100%|██████████| 74/74 [00:00<00:00, 207.46it/s]\n",
      "100%|██████████| 19/19 [00:00<00:00, 396.58it/s]\n",
      "  0%|          | 0/74 [00:00<?, ?it/s]"
     ]
    },
    {
     "output_type": "stream",
     "name": "stdout",
     "text": [
      "\n",
      "Iteration 56/74 of epoch 20 complete. Loss : 0.3166567598070417 \n",
      "\n",
      "Iteration 70/74 of epoch 20 complete. Loss : 0.3250611999205181 \n",
      "\n",
      "Epoch 20 complete! Validation Loss : 0.6450634002685547\n",
      "Epoch 20 complete! Validation Accuracy : 0.6416118421052632\n",
      "Best validation loss improved from 0.6475100548643815 to 0.6450634002685547\n",
      "\n"
     ]
    },
    {
     "output_type": "stream",
     "name": "stderr",
     "text": [
      " 59%|█████▉    | 44/74 [00:00<00:00, 211.95it/s]"
     ]
    },
    {
     "output_type": "stream",
     "name": "stdout",
     "text": [
      "\n",
      "Iteration 14/74 of epoch 21 complete. Loss : 0.315551085131509 \n",
      "\n",
      "Iteration 28/74 of epoch 21 complete. Loss : 0.32009235450199675 \n",
      "\n",
      "Iteration 42/74 of epoch 21 complete. Loss : 0.31848542605127605 \n",
      "\n",
      "Iteration 56/74 of epoch 21 complete. Loss : 0.31504166764872416 \n"
     ]
    },
    {
     "output_type": "stream",
     "name": "stderr",
     "text": [
      "100%|██████████| 74/74 [00:00<00:00, 210.26it/s]\n",
      "100%|██████████| 19/19 [00:00<00:00, 387.94it/s]\n",
      "  0%|          | 0/74 [00:00<?, ?it/s]"
     ]
    },
    {
     "output_type": "stream",
     "name": "stdout",
     "text": [
      "\n",
      "Iteration 70/74 of epoch 21 complete. Loss : 0.3188262496675764 \n",
      "\n",
      "Epoch 21 complete! Validation Loss : 0.6426310758841666\n",
      "Epoch 21 complete! Validation Accuracy : 0.6449013157894737\n",
      "Best validation loss improved from 0.6450634002685547 to 0.6426310758841666\n",
      "\n",
      "\n",
      "Iteration 14/74 of epoch 22 complete. Loss : 0.3201500709567751 \n"
     ]
    },
    {
     "output_type": "stream",
     "name": "stderr",
     "text": [
      " 84%|████████▍ | 62/74 [00:00<00:00, 202.38it/s]"
     ]
    },
    {
     "output_type": "stream",
     "name": "stdout",
     "text": [
      "\n",
      "Iteration 28/74 of epoch 22 complete. Loss : 0.3177365000758852 \n",
      "\n",
      "Iteration 42/74 of epoch 22 complete. Loss : 0.3152796434504645 \n",
      "\n",
      "Iteration 56/74 of epoch 22 complete. Loss : 0.31325181467192514 \n"
     ]
    },
    {
     "output_type": "stream",
     "name": "stderr",
     "text": [
      "100%|██████████| 74/74 [00:00<00:00, 198.62it/s]\n",
      "100%|██████████| 19/19 [00:00<00:00, 385.66it/s]\n",
      "  0%|          | 0/74 [00:00<?, ?it/s]"
     ]
    },
    {
     "output_type": "stream",
     "name": "stdout",
     "text": [
      "\n",
      "Iteration 70/74 of epoch 22 complete. Loss : 0.31704228264944895 \n",
      "\n",
      "Epoch 22 complete! Validation Loss : 0.6389872369013334\n",
      "Epoch 22 complete! Validation Accuracy : 0.6440789473684211\n",
      "Best validation loss improved from 0.6426310758841666 to 0.6389872369013334\n",
      "\n",
      "\n",
      "Iteration 14/74 of epoch 23 complete. Loss : 0.32009396169866833 \n"
     ]
    },
    {
     "output_type": "stream",
     "name": "stderr",
     "text": [
      " 84%|████████▍ | 62/74 [00:00<00:00, 202.68it/s]"
     ]
    },
    {
     "output_type": "stream",
     "name": "stdout",
     "text": [
      "\n",
      "Iteration 28/74 of epoch 23 complete. Loss : 0.3124989845923015 \n",
      "\n",
      "Iteration 42/74 of epoch 23 complete. Loss : 0.3161402004105704 \n",
      "\n",
      "Iteration 56/74 of epoch 23 complete. Loss : 0.31296587203230175 \n"
     ]
    },
    {
     "output_type": "stream",
     "name": "stderr",
     "text": [
      "100%|██████████| 74/74 [00:00<00:00, 203.39it/s]\n",
      "100%|██████████| 19/19 [00:00<00:00, 391.62it/s]\n",
      "  0%|          | 0/74 [00:00<?, ?it/s]"
     ]
    },
    {
     "output_type": "stream",
     "name": "stdout",
     "text": [
      "\n",
      "Iteration 70/74 of epoch 23 complete. Loss : 0.3133418049131121 \n",
      "\n",
      "Epoch 23 complete! Validation Loss : 0.6366383025520727\n",
      "Epoch 23 complete! Validation Accuracy : 0.6461348684210527\n",
      "Best validation loss improved from 0.6389872369013334 to 0.6366383025520727\n",
      "\n",
      "\n",
      "Iteration 14/74 of epoch 24 complete. Loss : 0.31702751346996855 \n"
     ]
    },
    {
     "output_type": "stream",
     "name": "stderr",
     "text": [
      " 89%|████████▉ | 66/74 [00:00<00:00, 213.69it/s]"
     ]
    },
    {
     "output_type": "stream",
     "name": "stdout",
     "text": [
      "\n",
      "Iteration 28/74 of epoch 24 complete. Loss : 0.3119356057473591 \n",
      "\n",
      "Iteration 42/74 of epoch 24 complete. Loss : 0.3164183220693043 \n",
      "\n",
      "Iteration 56/74 of epoch 24 complete. Loss : 0.3139915955918176 \n",
      "\n",
      "Iteration 70/74 of epoch 24 complete. Loss : 0.3136304127318518 \n"
     ]
    },
    {
     "output_type": "stream",
     "name": "stderr",
     "text": [
      "100%|██████████| 74/74 [00:00<00:00, 212.13it/s]\n",
      "100%|██████████| 19/19 [00:00<00:00, 387.49it/s]\n",
      " 30%|██▉       | 22/74 [00:00<00:00, 210.07it/s]"
     ]
    },
    {
     "output_type": "stream",
     "name": "stdout",
     "text": [
      "\n",
      "Epoch 24 complete! Validation Loss : 0.6336616089469508\n",
      "Epoch 24 complete! Validation Accuracy : 0.6450822368421052\n",
      "Best validation loss improved from 0.6366383025520727 to 0.6336616089469508\n",
      "\n",
      "\n",
      "Iteration 14/74 of epoch 25 complete. Loss : 0.31135792817388264 \n",
      "\n",
      "Iteration 28/74 of epoch 25 complete. Loss : 0.3149792402982712 \n"
     ]
    },
    {
     "output_type": "stream",
     "name": "stderr",
     "text": [
      "100%|██████████| 74/74 [00:00<00:00, 199.97it/s]\n",
      "  0%|          | 0/19 [00:00<?, ?it/s]"
     ]
    },
    {
     "output_type": "stream",
     "name": "stdout",
     "text": [
      "\n",
      "Iteration 42/74 of epoch 25 complete. Loss : 0.30948060538087574 \n",
      "\n",
      "Iteration 56/74 of epoch 25 complete. Loss : 0.31322091604982105 \n",
      "\n",
      "Iteration 70/74 of epoch 25 complete. Loss : 0.31500292250088285 \n"
     ]
    },
    {
     "output_type": "stream",
     "name": "stderr",
     "text": [
      "100%|██████████| 19/19 [00:00<00:00, 351.77it/s]\n",
      " 28%|██▊       | 21/74 [00:00<00:00, 203.18it/s]"
     ]
    },
    {
     "output_type": "stream",
     "name": "stdout",
     "text": [
      "\n",
      "Epoch 25 complete! Validation Loss : 0.6307925958382455\n",
      "Epoch 25 complete! Validation Accuracy : 0.6434375\n",
      "Best validation loss improved from 0.6336616089469508 to 0.6307925958382455\n",
      "\n",
      "\n",
      "Iteration 14/74 of epoch 26 complete. Loss : 0.313819231731551 \n",
      "\n",
      "Iteration 28/74 of epoch 26 complete. Loss : 0.31133985945156645 \n"
     ]
    },
    {
     "output_type": "stream",
     "name": "stderr",
     "text": [
      "100%|██████████| 74/74 [00:00<00:00, 200.15it/s]\n",
      "  0%|          | 0/19 [00:00<?, ?it/s]"
     ]
    },
    {
     "output_type": "stream",
     "name": "stdout",
     "text": [
      "\n",
      "Iteration 42/74 of epoch 26 complete. Loss : 0.31106926926544737 \n",
      "\n",
      "Iteration 56/74 of epoch 26 complete. Loss : 0.31122098011629923 \n",
      "\n",
      "Iteration 70/74 of epoch 26 complete. Loss : 0.30976949845041546 \n"
     ]
    },
    {
     "output_type": "stream",
     "name": "stderr",
     "text": [
      "100%|██████████| 19/19 [00:00<00:00, 380.85it/s]\n",
      " 27%|██▋       | 20/74 [00:00<00:00, 195.64it/s]"
     ]
    },
    {
     "output_type": "stream",
     "name": "stdout",
     "text": [
      "\n",
      "Epoch 26 complete! Validation Loss : 0.6283747302858453\n",
      "Epoch 26 complete! Validation Accuracy : 0.6442598684210527\n",
      "Best validation loss improved from 0.6307925958382455 to 0.6283747302858453\n",
      "\n",
      "\n",
      "Iteration 14/74 of epoch 27 complete. Loss : 0.3156170632158007 \n",
      "\n",
      "Iteration 28/74 of epoch 27 complete. Loss : 0.3094589092901775 \n"
     ]
    },
    {
     "output_type": "stream",
     "name": "stderr",
     "text": [
      "100%|██████████| 74/74 [00:00<00:00, 202.18it/s]\n",
      "  0%|          | 0/19 [00:00<?, ?it/s]"
     ]
    },
    {
     "output_type": "stream",
     "name": "stdout",
     "text": [
      "\n",
      "Iteration 42/74 of epoch 27 complete. Loss : 0.30310775552477154 \n",
      "\n",
      "Iteration 56/74 of epoch 27 complete. Loss : 0.30721438356808256 \n",
      "\n",
      "Iteration 70/74 of epoch 27 complete. Loss : 0.3157165689127786 \n"
     ]
    },
    {
     "output_type": "stream",
     "name": "stderr",
     "text": [
      "100%|██████████| 19/19 [00:00<00:00, 395.42it/s]\n",
      " 30%|██▉       | 22/74 [00:00<00:00, 210.07it/s]"
     ]
    },
    {
     "output_type": "stream",
     "name": "stdout",
     "text": [
      "\n",
      "Epoch 27 complete! Validation Loss : 0.6258610236017328\n",
      "Epoch 27 complete! Validation Accuracy : 0.6454934210526315\n",
      "Best validation loss improved from 0.6283747302858453 to 0.6258610236017328\n",
      "\n",
      "\n",
      "Iteration 14/74 of epoch 28 complete. Loss : 0.30785070785454344 \n",
      "\n",
      "Iteration 28/74 of epoch 28 complete. Loss : 0.3074230509144919 \n"
     ]
    },
    {
     "output_type": "stream",
     "name": "stderr",
     "text": [
      "100%|██████████| 74/74 [00:00<00:00, 204.80it/s]\n",
      "  0%|          | 0/19 [00:00<?, ?it/s]"
     ]
    },
    {
     "output_type": "stream",
     "name": "stdout",
     "text": [
      "\n",
      "Iteration 42/74 of epoch 28 complete. Loss : 0.31351925645555767 \n",
      "\n",
      "Iteration 56/74 of epoch 28 complete. Loss : 0.30675649855818066 \n",
      "\n",
      "Iteration 70/74 of epoch 28 complete. Loss : 0.31037873881203787 \n"
     ]
    },
    {
     "output_type": "stream",
     "name": "stderr",
     "text": [
      "100%|██████████| 19/19 [00:00<00:00, 392.47it/s]\n",
      " 28%|██▊       | 21/74 [00:00<00:00, 206.31it/s]"
     ]
    },
    {
     "output_type": "stream",
     "name": "stdout",
     "text": [
      "\n",
      "Epoch 28 complete! Validation Loss : 0.6235336347630149\n",
      "Epoch 28 complete! Validation Accuracy : 0.6463157894736842\n",
      "Best validation loss improved from 0.6258610236017328 to 0.6235336347630149\n",
      "\n",
      "\n",
      "Iteration 14/74 of epoch 29 complete. Loss : 0.30926852566855295 \n",
      "\n",
      "Iteration 28/74 of epoch 29 complete. Loss : 0.3038852981158665 \n"
     ]
    },
    {
     "output_type": "stream",
     "name": "stderr",
     "text": [
      "100%|██████████| 74/74 [00:00<00:00, 205.99it/s]\n",
      "  0%|          | 0/19 [00:00<?, ?it/s]"
     ]
    },
    {
     "output_type": "stream",
     "name": "stdout",
     "text": [
      "\n",
      "Iteration 42/74 of epoch 29 complete. Loss : 0.3048176382269178 \n",
      "\n",
      "Iteration 56/74 of epoch 29 complete. Loss : 0.31469225670610157 \n",
      "\n",
      "Iteration 70/74 of epoch 29 complete. Loss : 0.30553931423595976 \n"
     ]
    },
    {
     "output_type": "stream",
     "name": "stderr",
     "text": [
      "100%|██████████| 19/19 [00:00<00:00, 395.73it/s]\n",
      " 28%|██▊       | 21/74 [00:00<00:00, 208.78it/s]"
     ]
    },
    {
     "output_type": "stream",
     "name": "stdout",
     "text": [
      "\n",
      "Epoch 29 complete! Validation Loss : 0.6212230450228641\n",
      "Epoch 29 complete! Validation Accuracy : 0.649375\n",
      "Best validation loss improved from 0.6235336347630149 to 0.6212230450228641\n",
      "\n",
      "\n",
      "Iteration 14/74 of epoch 30 complete. Loss : 0.306024506688118 \n",
      "\n",
      "Iteration 28/74 of epoch 30 complete. Loss : 0.30187794140407015 \n"
     ]
    },
    {
     "output_type": "stream",
     "name": "stderr",
     "text": [
      "100%|██████████| 74/74 [00:00<00:00, 200.46it/s]\n",
      "  0%|          | 0/19 [00:00<?, ?it/s]"
     ]
    },
    {
     "output_type": "stream",
     "name": "stdout",
     "text": [
      "\n",
      "Iteration 42/74 of epoch 30 complete. Loss : 0.3119640350341797 \n",
      "\n",
      "Iteration 56/74 of epoch 30 complete. Loss : 0.30288533866405487 \n",
      "\n",
      "Iteration 70/74 of epoch 30 complete. Loss : 0.30830369676862446 \n"
     ]
    },
    {
     "output_type": "stream",
     "name": "stderr",
     "text": [
      "100%|██████████| 19/19 [00:00<00:00, 388.58it/s]\n",
      " 28%|██▊       | 21/74 [00:00<00:00, 206.32it/s]"
     ]
    },
    {
     "output_type": "stream",
     "name": "stdout",
     "text": [
      "\n",
      "Epoch 30 complete! Validation Loss : 0.6184520721435547\n",
      "Epoch 30 complete! Validation Accuracy : 0.6504276315789473\n",
      "Best validation loss improved from 0.6212230450228641 to 0.6184520721435547\n",
      "\n",
      "\n",
      "Iteration 14/74 of epoch 31 complete. Loss : 0.3055577001401356 \n",
      "\n",
      "Iteration 28/74 of epoch 31 complete. Loss : 0.302026276077543 \n"
     ]
    },
    {
     "output_type": "stream",
     "name": "stderr",
     "text": [
      "100%|██████████| 74/74 [00:00<00:00, 201.55it/s]\n",
      "  0%|          | 0/19 [00:00<?, ?it/s]"
     ]
    },
    {
     "output_type": "stream",
     "name": "stdout",
     "text": [
      "\n",
      "Iteration 42/74 of epoch 31 complete. Loss : 0.3045049501316888 \n",
      "\n",
      "Iteration 56/74 of epoch 31 complete. Loss : 0.309611976146698 \n",
      "\n",
      "Iteration 70/74 of epoch 31 complete. Loss : 0.3037602858883994 \n"
     ]
    },
    {
     "output_type": "stream",
     "name": "stderr",
     "text": [
      "100%|██████████| 19/19 [00:00<00:00, 395.48it/s]\n",
      " 30%|██▉       | 22/74 [00:00<00:00, 208.65it/s]"
     ]
    },
    {
     "output_type": "stream",
     "name": "stdout",
     "text": [
      "\n",
      "Epoch 31 complete! Validation Loss : 0.6169615952592147\n",
      "Epoch 31 complete! Validation Accuracy : 0.6531250000000001\n",
      "Best validation loss improved from 0.6184520721435547 to 0.6169615952592147\n",
      "\n",
      "\n",
      "Iteration 14/74 of epoch 32 complete. Loss : 0.3052041360310146 \n",
      "\n",
      "Iteration 28/74 of epoch 32 complete. Loss : 0.30395250022411346 \n"
     ]
    },
    {
     "output_type": "stream",
     "name": "stderr",
     "text": [
      "100%|██████████| 74/74 [00:00<00:00, 203.55it/s]\n",
      "  0%|          | 0/19 [00:00<?, ?it/s]"
     ]
    },
    {
     "output_type": "stream",
     "name": "stdout",
     "text": [
      "\n",
      "Iteration 42/74 of epoch 32 complete. Loss : 0.30453252366610933 \n",
      "\n",
      "Iteration 56/74 of epoch 32 complete. Loss : 0.30343118948595865 \n",
      "\n",
      "Iteration 70/74 of epoch 32 complete. Loss : 0.3008659929037094 \n"
     ]
    },
    {
     "output_type": "stream",
     "name": "stderr",
     "text": [
      "100%|██████████| 19/19 [00:00<00:00, 393.06it/s]\n",
      " 30%|██▉       | 22/74 [00:00<00:00, 210.72it/s]"
     ]
    },
    {
     "output_type": "stream",
     "name": "stdout",
     "text": [
      "\n",
      "Epoch 32 complete! Validation Loss : 0.6148743002038253\n",
      "Epoch 32 complete! Validation Accuracy : 0.6539473684210527\n",
      "Best validation loss improved from 0.6169615952592147 to 0.6148743002038253\n",
      "\n",
      "\n",
      "Iteration 14/74 of epoch 33 complete. Loss : 0.3026877854551588 \n",
      "\n",
      "Iteration 28/74 of epoch 33 complete. Loss : 0.30120272082941874 \n"
     ]
    },
    {
     "output_type": "stream",
     "name": "stderr",
     "text": [
      "100%|██████████| 74/74 [00:00<00:00, 205.25it/s]\n",
      "  0%|          | 0/19 [00:00<?, ?it/s]"
     ]
    },
    {
     "output_type": "stream",
     "name": "stdout",
     "text": [
      "\n",
      "Iteration 42/74 of epoch 33 complete. Loss : 0.30761500128677915 \n",
      "\n",
      "Iteration 56/74 of epoch 33 complete. Loss : 0.3023422935179302 \n",
      "\n",
      "Iteration 70/74 of epoch 33 complete. Loss : 0.30066846098218647 \n"
     ]
    },
    {
     "output_type": "stream",
     "name": "stderr",
     "text": [
      "100%|██████████| 19/19 [00:00<00:00, 391.21it/s]\n",
      " 27%|██▋       | 20/74 [00:00<00:00, 196.11it/s]"
     ]
    },
    {
     "output_type": "stream",
     "name": "stdout",
     "text": [
      "\n",
      "Epoch 33 complete! Validation Loss : 0.6127862177397075\n",
      "Epoch 33 complete! Validation Accuracy : 0.6551809210526316\n",
      "Best validation loss improved from 0.6148743002038253 to 0.6127862177397075\n",
      "\n",
      "\n",
      "Iteration 14/74 of epoch 34 complete. Loss : 0.30428144122873035 \n",
      "\n",
      "Iteration 28/74 of epoch 34 complete. Loss : 0.3006012461015156 \n"
     ]
    },
    {
     "output_type": "stream",
     "name": "stderr",
     "text": [
      "100%|██████████| 74/74 [00:00<00:00, 204.45it/s]\n",
      "100%|██████████| 19/19 [00:00<00:00, 402.83it/s]"
     ]
    },
    {
     "output_type": "stream",
     "name": "stdout",
     "text": [
      "\n",
      "Iteration 42/74 of epoch 34 complete. Loss : 0.29822621600968496 \n",
      "\n",
      "Iteration 56/74 of epoch 34 complete. Loss : 0.3004362838608878 \n",
      "\n",
      "Iteration 70/74 of epoch 34 complete. Loss : 0.30105538240500856 \n"
     ]
    },
    {
     "output_type": "stream",
     "name": "stderr",
     "text": [
      "\n",
      " 31%|███       | 23/74 [00:00<00:00, 226.61it/s]"
     ]
    },
    {
     "output_type": "stream",
     "name": "stdout",
     "text": [
      "\n",
      "Epoch 34 complete! Validation Loss : 0.6087537031424674\n",
      "Epoch 34 complete! Validation Accuracy : 0.6703947368421053\n",
      "Best validation loss improved from 0.6127862177397075 to 0.6087537031424674\n",
      "\n",
      "\n",
      "Iteration 14/74 of epoch 35 complete. Loss : 0.3056022035224097 \n",
      "\n",
      "Iteration 28/74 of epoch 35 complete. Loss : 0.2991605486188616 \n",
      "\n",
      "Iteration 42/74 of epoch 35 complete. Loss : 0.2957636352096285 \n"
     ]
    },
    {
     "output_type": "stream",
     "name": "stderr",
     "text": [
      "100%|██████████| 74/74 [00:00<00:00, 221.26it/s]\n",
      "100%|██████████| 19/19 [00:00<00:00, 396.82it/s]\n",
      "  0%|          | 0/74 [00:00<?, ?it/s]"
     ]
    },
    {
     "output_type": "stream",
     "name": "stdout",
     "text": [
      "\n",
      "Iteration 56/74 of epoch 35 complete. Loss : 0.3002129793167114 \n",
      "\n",
      "Iteration 70/74 of epoch 35 complete. Loss : 0.29607174013342175 \n",
      "\n",
      "Epoch 35 complete! Validation Loss : 0.6062431021740562\n",
      "Epoch 35 complete! Validation Accuracy : 0.6730921052631579\n",
      "Best validation loss improved from 0.6087537031424674 to 0.6062431021740562\n",
      "\n"
     ]
    },
    {
     "output_type": "stream",
     "name": "stderr",
     "text": [
      " 55%|█████▌    | 41/74 [00:00<00:00, 207.51it/s]"
     ]
    },
    {
     "output_type": "stream",
     "name": "stdout",
     "text": [
      "\n",
      "Iteration 14/74 of epoch 36 complete. Loss : 0.3008421169860022 \n",
      "\n",
      "Iteration 28/74 of epoch 36 complete. Loss : 0.2955584206751415 \n",
      "\n",
      "Iteration 42/74 of epoch 36 complete. Loss : 0.3006151616573334 \n"
     ]
    },
    {
     "output_type": "stream",
     "name": "stderr",
     "text": [
      "100%|██████████| 74/74 [00:00<00:00, 206.57it/s]\n",
      "100%|██████████| 19/19 [00:00<00:00, 383.98it/s]\n",
      "  0%|          | 0/74 [00:00<?, ?it/s]"
     ]
    },
    {
     "output_type": "stream",
     "name": "stdout",
     "text": [
      "\n",
      "Iteration 56/74 of epoch 36 complete. Loss : 0.30188058742455076 \n",
      "\n",
      "Iteration 70/74 of epoch 36 complete. Loss : 0.2955952606030873 \n",
      "\n",
      "Epoch 36 complete! Validation Loss : 0.6037396945451435\n",
      "Epoch 36 complete! Validation Accuracy : 0.6757894736842105\n",
      "Best validation loss improved from 0.6062431021740562 to 0.6037396945451435\n",
      "\n"
     ]
    },
    {
     "output_type": "stream",
     "name": "stderr",
     "text": [
      " 62%|██████▏   | 46/74 [00:00<00:00, 224.54it/s]"
     ]
    },
    {
     "output_type": "stream",
     "name": "stdout",
     "text": [
      "\n",
      "Iteration 14/74 of epoch 37 complete. Loss : 0.2999266641480582 \n",
      "\n",
      "Iteration 28/74 of epoch 37 complete. Loss : 0.2972047733409064 \n",
      "\n",
      "Iteration 42/74 of epoch 37 complete. Loss : 0.29784537638936726 \n",
      "\n",
      "Iteration 56/74 of epoch 37 complete. Loss : 0.29739525488444735 \n"
     ]
    },
    {
     "output_type": "stream",
     "name": "stderr",
     "text": [
      "100%|██████████| 74/74 [00:00<00:00, 221.09it/s]\n",
      "100%|██████████| 19/19 [00:00<00:00, 389.64it/s]\n",
      "  0%|          | 0/74 [00:00<?, ?it/s]"
     ]
    },
    {
     "output_type": "stream",
     "name": "stdout",
     "text": [
      "\n",
      "Iteration 70/74 of epoch 37 complete. Loss : 0.29506796172686983 \n",
      "\n",
      "Epoch 37 complete! Validation Loss : 0.6015570132355941\n",
      "Epoch 37 complete! Validation Accuracy : 0.6743256578947369\n",
      "Best validation loss improved from 0.6037396945451435 to 0.6015570132355941\n",
      "\n",
      "\n",
      "Iteration 14/74 of epoch 38 complete. Loss : 0.29485522636345457 \n"
     ]
    },
    {
     "output_type": "stream",
     "name": "stderr",
     "text": [
      " 89%|████████▉ | 66/74 [00:00<00:00, 214.87it/s]"
     ]
    },
    {
     "output_type": "stream",
     "name": "stdout",
     "text": [
      "\n",
      "Iteration 28/74 of epoch 38 complete. Loss : 0.29395690134593416 \n",
      "\n",
      "Iteration 42/74 of epoch 38 complete. Loss : 0.3014958415712629 \n",
      "\n",
      "Iteration 56/74 of epoch 38 complete. Loss : 0.2956440235887255 \n",
      "\n",
      "Iteration 70/74 of epoch 38 complete. Loss : 0.2943132860319955 \n"
     ]
    },
    {
     "output_type": "stream",
     "name": "stderr",
     "text": [
      "100%|██████████| 74/74 [00:00<00:00, 213.10it/s]\n",
      "100%|██████████| 19/19 [00:00<00:00, 397.14it/s]\n",
      " 30%|██▉       | 22/74 [00:00<00:00, 214.89it/s]"
     ]
    },
    {
     "output_type": "stream",
     "name": "stdout",
     "text": [
      "\n",
      "Epoch 38 complete! Validation Loss : 0.5991088246044359\n",
      "Epoch 38 complete! Validation Accuracy : 0.6780263157894737\n",
      "Best validation loss improved from 0.6015570132355941 to 0.5991088246044359\n",
      "\n",
      "\n",
      "Iteration 14/74 of epoch 39 complete. Loss : 0.2957120622907366 \n",
      "\n",
      "Iteration 28/74 of epoch 39 complete. Loss : 0.2946857895169939 \n",
      "\n",
      "Iteration 42/74 of epoch 39 complete. Loss : 0.2930600941181183 \n"
     ]
    },
    {
     "output_type": "stream",
     "name": "stderr",
     "text": [
      "100%|██████████| 74/74 [00:00<00:00, 216.87it/s]\n",
      "100%|██████████| 19/19 [00:00<00:00, 403.82it/s]\n",
      "  0%|          | 0/74 [00:00<?, ?it/s]"
     ]
    },
    {
     "output_type": "stream",
     "name": "stdout",
     "text": [
      "\n",
      "Iteration 56/74 of epoch 39 complete. Loss : 0.2976093590259552 \n",
      "\n",
      "Iteration 70/74 of epoch 39 complete. Loss : 0.2905155803476061 \n",
      "\n",
      "Epoch 39 complete! Validation Loss : 0.5961585891874213\n",
      "Epoch 39 complete! Validation Accuracy : 0.6883059210526316\n",
      "Best validation loss improved from 0.5991088246044359 to 0.5961585891874213\n",
      "\n"
     ]
    },
    {
     "output_type": "stream",
     "name": "stderr",
     "text": [
      " 59%|█████▉    | 44/74 [00:00<00:00, 216.96it/s]"
     ]
    },
    {
     "output_type": "stream",
     "name": "stdout",
     "text": [
      "\n",
      "Iteration 14/74 of epoch 40 complete. Loss : 0.29630908370018005 \n",
      "\n",
      "Iteration 28/74 of epoch 40 complete. Loss : 0.2949299620730536 \n",
      "\n",
      "Iteration 42/74 of epoch 40 complete. Loss : 0.2938691718237741 \n",
      "\n",
      "Iteration 56/74 of epoch 40 complete. Loss : 0.291103652545384 \n"
     ]
    },
    {
     "output_type": "stream",
     "name": "stderr",
     "text": [
      "100%|██████████| 74/74 [00:00<00:00, 206.80it/s]\n",
      "100%|██████████| 19/19 [00:00<00:00, 386.27it/s]\n",
      "  0%|          | 0/74 [00:00<?, ?it/s]"
     ]
    },
    {
     "output_type": "stream",
     "name": "stdout",
     "text": [
      "\n",
      "Iteration 70/74 of epoch 40 complete. Loss : 0.2930294530732291 \n",
      "\n",
      "Epoch 40 complete! Validation Loss : 0.5944154827218306\n",
      "Epoch 40 complete! Validation Accuracy : 0.6823684210526316\n",
      "Best validation loss improved from 0.5961585891874213 to 0.5944154827218306\n",
      "\n",
      "\n",
      "Iteration 14/74 of epoch 41 complete. Loss : 0.29704072007111143 \n"
     ]
    },
    {
     "output_type": "stream",
     "name": "stderr",
     "text": [
      " 89%|████████▉ | 66/74 [00:00<00:00, 213.41it/s]"
     ]
    },
    {
     "output_type": "stream",
     "name": "stdout",
     "text": [
      "\n",
      "Iteration 28/74 of epoch 41 complete. Loss : 0.2944810667208263 \n",
      "\n",
      "Iteration 42/74 of epoch 41 complete. Loss : 0.29539387992450167 \n",
      "\n",
      "Iteration 56/74 of epoch 41 complete. Loss : 0.28994777160031454 \n",
      "\n",
      "Iteration 70/74 of epoch 41 complete. Loss : 0.28401818020003183 \n"
     ]
    },
    {
     "output_type": "stream",
     "name": "stderr",
     "text": [
      "100%|██████████| 74/74 [00:00<00:00, 212.30it/s]\n",
      "100%|██████████| 19/19 [00:00<00:00, 389.58it/s]\n",
      " 30%|██▉       | 22/74 [00:00<00:00, 219.95it/s]"
     ]
    },
    {
     "output_type": "stream",
     "name": "stdout",
     "text": [
      "\n",
      "Epoch 41 complete! Validation Loss : 0.5928585874406915\n",
      "Epoch 41 complete! Validation Accuracy : 0.6823684210526316\n",
      "Best validation loss improved from 0.5944154827218306 to 0.5928585874406915\n",
      "\n",
      "\n",
      "Iteration 14/74 of epoch 42 complete. Loss : 0.2935372165271214 \n",
      "\n",
      "Iteration 28/74 of epoch 42 complete. Loss : 0.2908765992947987 \n",
      "\n",
      "Iteration 42/74 of epoch 42 complete. Loss : 0.28761990794113707 \n"
     ]
    },
    {
     "output_type": "stream",
     "name": "stderr",
     "text": [
      "100%|██████████| 74/74 [00:00<00:00, 217.05it/s]\n",
      "100%|██████████| 19/19 [00:00<00:00, 386.94it/s]\n",
      "  0%|          | 0/74 [00:00<?, ?it/s]"
     ]
    },
    {
     "output_type": "stream",
     "name": "stdout",
     "text": [
      "\n",
      "Iteration 56/74 of epoch 42 complete. Loss : 0.29098264021532877 \n",
      "\n",
      "Iteration 70/74 of epoch 42 complete. Loss : 0.28950399586132597 \n",
      "\n",
      "Epoch 42 complete! Validation Loss : 0.5884203252039457\n",
      "Epoch 42 complete! Validation Accuracy : 0.7041118421052632\n",
      "Best validation loss improved from 0.5928585874406915 to 0.5884203252039457\n",
      "\n"
     ]
    },
    {
     "output_type": "stream",
     "name": "stderr",
     "text": [
      " 59%|█████▉    | 44/74 [00:00<00:00, 216.61it/s]"
     ]
    },
    {
     "output_type": "stream",
     "name": "stdout",
     "text": [
      "\n",
      "Iteration 14/74 of epoch 43 complete. Loss : 0.29181356728076935 \n",
      "\n",
      "Iteration 28/74 of epoch 43 complete. Loss : 0.28792616512094227 \n",
      "\n",
      "Iteration 42/74 of epoch 43 complete. Loss : 0.2893125627722059 \n",
      "\n",
      "Iteration 56/74 of epoch 43 complete. Loss : 0.29023608352456776 \n"
     ]
    },
    {
     "output_type": "stream",
     "name": "stderr",
     "text": [
      "100%|██████████| 74/74 [00:00<00:00, 213.12it/s]\n",
      "100%|██████████| 19/19 [00:00<00:00, 384.20it/s]\n",
      "  0%|          | 0/74 [00:00<?, ?it/s]"
     ]
    },
    {
     "output_type": "stream",
     "name": "stdout",
     "text": [
      "\n",
      "Iteration 70/74 of epoch 43 complete. Loss : 0.28704519995621275 \n",
      "\n",
      "Epoch 43 complete! Validation Loss : 0.586195591248964\n",
      "Epoch 43 complete! Validation Accuracy : 0.6987664473684211\n",
      "Best validation loss improved from 0.5884203252039457 to 0.586195591248964\n",
      "\n",
      "\n",
      "Iteration 14/74 of epoch 44 complete. Loss : 0.28658114799431395 \n"
     ]
    },
    {
     "output_type": "stream",
     "name": "stderr",
     "text": [
      " 86%|████████▋ | 64/74 [00:00<00:00, 208.45it/s]"
     ]
    },
    {
     "output_type": "stream",
     "name": "stdout",
     "text": [
      "\n",
      "Iteration 28/74 of epoch 44 complete. Loss : 0.2906335634844644 \n",
      "\n",
      "Iteration 42/74 of epoch 44 complete. Loss : 0.2872242991413389 \n",
      "\n",
      "Iteration 56/74 of epoch 44 complete. Loss : 0.2887903643505914 \n",
      "\n",
      "Iteration 70/74 of epoch 44 complete. Loss : 0.28511445011411396 \n"
     ]
    },
    {
     "output_type": "stream",
     "name": "stderr",
     "text": [
      "100%|██████████| 74/74 [00:00<00:00, 209.26it/s]\n",
      "100%|██████████| 19/19 [00:00<00:00, 387.72it/s]\n",
      " 30%|██▉       | 22/74 [00:00<00:00, 219.24it/s]"
     ]
    },
    {
     "output_type": "stream",
     "name": "stdout",
     "text": [
      "\n",
      "Epoch 44 complete! Validation Loss : 0.5840278769794264\n",
      "Epoch 44 complete! Validation Accuracy : 0.6983552631578948\n",
      "Best validation loss improved from 0.586195591248964 to 0.5840278769794264\n",
      "\n",
      "\n",
      "Iteration 14/74 of epoch 45 complete. Loss : 0.2901409672839301 \n",
      "\n",
      "Iteration 28/74 of epoch 45 complete. Loss : 0.2880223606313978 \n",
      "\n",
      "Iteration 42/74 of epoch 45 complete. Loss : 0.2861457509653909 \n"
     ]
    },
    {
     "output_type": "stream",
     "name": "stderr",
     "text": [
      "100%|██████████| 74/74 [00:00<00:00, 212.77it/s]\n",
      "100%|██████████| 19/19 [00:00<00:00, 389.57it/s]\n",
      "  0%|          | 0/74 [00:00<?, ?it/s]"
     ]
    },
    {
     "output_type": "stream",
     "name": "stdout",
     "text": [
      "\n",
      "Iteration 56/74 of epoch 45 complete. Loss : 0.27916258360658375 \n",
      "\n",
      "Iteration 70/74 of epoch 45 complete. Loss : 0.2886924743652344 \n",
      "\n",
      "Epoch 45 complete! Validation Loss : 0.584460415338215\n",
      "Epoch 45 complete! Validation Accuracy : 0.7258552631578947\n"
     ]
    },
    {
     "output_type": "stream",
     "name": "stderr",
     "text": [
      " 59%|█████▉    | 44/74 [00:00<00:00, 214.65it/s]"
     ]
    },
    {
     "output_type": "stream",
     "name": "stdout",
     "text": [
      "\n",
      "Iteration 14/74 of epoch 46 complete. Loss : 0.2842396689312799 \n",
      "\n",
      "Iteration 28/74 of epoch 46 complete. Loss : 0.2860879621335438 \n",
      "\n",
      "Iteration 42/74 of epoch 46 complete. Loss : 0.28621044542108265 \n",
      "\n",
      "Iteration 56/74 of epoch 46 complete. Loss : 0.2876322886773518 \n"
     ]
    },
    {
     "output_type": "stream",
     "name": "stderr",
     "text": [
      "100%|██████████| 74/74 [00:00<00:00, 211.45it/s]\n",
      "100%|██████████| 19/19 [00:00<00:00, 379.29it/s]\n",
      "  0%|          | 0/74 [00:00<?, ?it/s]"
     ]
    },
    {
     "output_type": "stream",
     "name": "stdout",
     "text": [
      "\n",
      "Iteration 70/74 of epoch 46 complete. Loss : 0.2866479158401489 \n",
      "\n",
      "Epoch 46 complete! Validation Loss : 0.5781964942028648\n",
      "Epoch 46 complete! Validation Accuracy : 0.7119243421052632\n",
      "Best validation loss improved from 0.5840278769794264 to 0.5781964942028648\n",
      "\n",
      "\n",
      "Iteration 14/74 of epoch 47 complete. Loss : 0.28094096056052614 \n"
     ]
    },
    {
     "output_type": "stream",
     "name": "stderr",
     "text": [
      " 89%|████████▉ | 66/74 [00:00<00:00, 213.67it/s]"
     ]
    },
    {
     "output_type": "stream",
     "name": "stdout",
     "text": [
      "\n",
      "Iteration 28/74 of epoch 47 complete. Loss : 0.2897246309689113 \n",
      "\n",
      "Iteration 42/74 of epoch 47 complete. Loss : 0.2856271096638271 \n",
      "\n",
      "Iteration 56/74 of epoch 47 complete. Loss : 0.2821057800735746 \n",
      "\n",
      "Iteration 70/74 of epoch 47 complete. Loss : 0.2819765976497105 \n"
     ]
    },
    {
     "output_type": "stream",
     "name": "stderr",
     "text": [
      "100%|██████████| 74/74 [00:00<00:00, 212.88it/s]\n",
      "100%|██████████| 19/19 [00:00<00:00, 390.57it/s]\n",
      " 30%|██▉       | 22/74 [00:00<00:00, 212.44it/s]"
     ]
    },
    {
     "output_type": "stream",
     "name": "stdout",
     "text": [
      "\n",
      "Epoch 47 complete! Validation Loss : 0.5754610488289281\n",
      "Epoch 47 complete! Validation Accuracy : 0.7213815789473684\n",
      "Best validation loss improved from 0.5781964942028648 to 0.5754610488289281\n",
      "\n",
      "\n",
      "Iteration 14/74 of epoch 48 complete. Loss : 0.2833745458296367 \n",
      "\n",
      "Iteration 28/74 of epoch 48 complete. Loss : 0.28303663645471844 \n"
     ]
    },
    {
     "output_type": "stream",
     "name": "stderr",
     "text": [
      "100%|██████████| 74/74 [00:00<00:00, 196.99it/s]\n",
      "  0%|          | 0/19 [00:00<?, ?it/s]"
     ]
    },
    {
     "output_type": "stream",
     "name": "stdout",
     "text": [
      "\n",
      "Iteration 42/74 of epoch 48 complete. Loss : 0.2850060101066317 \n",
      "\n",
      "Iteration 56/74 of epoch 48 complete. Loss : 0.27941628651959555 \n",
      "\n",
      "Iteration 70/74 of epoch 48 complete. Loss : 0.2811878408704485 \n"
     ]
    },
    {
     "output_type": "stream",
     "name": "stderr",
     "text": [
      "100%|██████████| 19/19 [00:00<00:00, 279.13it/s]\n",
      " 23%|██▎       | 17/74 [00:00<00:00, 167.45it/s]"
     ]
    },
    {
     "output_type": "stream",
     "name": "stdout",
     "text": [
      "\n",
      "Epoch 48 complete! Validation Loss : 0.5732829257061607\n",
      "Epoch 48 complete! Validation Accuracy : 0.7176809210526316\n",
      "Best validation loss improved from 0.5754610488289281 to 0.5732829257061607\n",
      "\n",
      "\n",
      "Iteration 14/74 of epoch 49 complete. Loss : 0.28190494648047854 \n",
      "\n",
      "Iteration 28/74 of epoch 49 complete. Loss : 0.28381867919649395 \n"
     ]
    },
    {
     "output_type": "stream",
     "name": "stderr",
     "text": [
      "100%|██████████| 74/74 [00:00<00:00, 164.43it/s]\n",
      "  0%|          | 0/19 [00:00<?, ?it/s]"
     ]
    },
    {
     "output_type": "stream",
     "name": "stdout",
     "text": [
      "\n",
      "Iteration 42/74 of epoch 49 complete. Loss : 0.28449568152427673 \n",
      "\n",
      "Iteration 56/74 of epoch 49 complete. Loss : 0.2777391863720758 \n",
      "\n",
      "Iteration 70/74 of epoch 49 complete. Loss : 0.2740393483213016 \n"
     ]
    },
    {
     "output_type": "stream",
     "name": "stderr",
     "text": [
      "100%|██████████| 19/19 [00:00<00:00, 278.23it/s]\n",
      " 23%|██▎       | 17/74 [00:00<00:00, 169.48it/s]"
     ]
    },
    {
     "output_type": "stream",
     "name": "stdout",
     "text": [
      "\n",
      "Epoch 49 complete! Validation Loss : 0.5707810364271465\n",
      "Epoch 49 complete! Validation Accuracy : 0.7209703947368421\n",
      "Best validation loss improved from 0.5732829257061607 to 0.5707810364271465\n",
      "\n",
      "\n",
      "Iteration 14/74 of epoch 50 complete. Loss : 0.2808364118848528 \n",
      "\n",
      "Iteration 28/74 of epoch 50 complete. Loss : 0.2836834724460329 \n"
     ]
    },
    {
     "output_type": "stream",
     "name": "stderr",
     "text": [
      "100%|██████████| 74/74 [00:00<00:00, 165.93it/s]\n",
      "  0%|          | 0/19 [00:00<?, ?it/s]"
     ]
    },
    {
     "output_type": "stream",
     "name": "stdout",
     "text": [
      "\n",
      "Iteration 42/74 of epoch 50 complete. Loss : 0.28176512462752207 \n",
      "\n",
      "Iteration 56/74 of epoch 50 complete. Loss : 0.2760906560080392 \n",
      "\n",
      "Iteration 70/74 of epoch 50 complete. Loss : 0.2746837926762445 \n"
     ]
    },
    {
     "output_type": "stream",
     "name": "stderr",
     "text": [
      "100%|██████████| 19/19 [00:00<00:00, 276.38it/s]\n",
      " 23%|██▎       | 17/74 [00:00<00:00, 167.51it/s]"
     ]
    },
    {
     "output_type": "stream",
     "name": "stdout",
     "text": [
      "\n",
      "Epoch 50 complete! Validation Loss : 0.5700807038106417\n",
      "Epoch 50 complete! Validation Accuracy : 0.7098684210526316\n",
      "Best validation loss improved from 0.5707810364271465 to 0.5700807038106417\n",
      "\n",
      "\n",
      "Iteration 14/74 of epoch 51 complete. Loss : 0.2829472976071494 \n",
      "\n",
      "Iteration 28/74 of epoch 51 complete. Loss : 0.2750202736684254 \n"
     ]
    },
    {
     "output_type": "stream",
     "name": "stderr",
     "text": [
      "100%|██████████| 74/74 [00:00<00:00, 164.92it/s]\n",
      "  0%|          | 0/19 [00:00<?, ?it/s]"
     ]
    },
    {
     "output_type": "stream",
     "name": "stdout",
     "text": [
      "\n",
      "Iteration 42/74 of epoch 51 complete. Loss : 0.2805484320436205 \n",
      "\n",
      "Iteration 56/74 of epoch 51 complete. Loss : 0.2771887459925243 \n",
      "\n",
      "Iteration 70/74 of epoch 51 complete. Loss : 0.27715270327670233 \n"
     ]
    },
    {
     "output_type": "stream",
     "name": "stderr",
     "text": [
      "100%|██████████| 19/19 [00:00<00:00, 277.77it/s]\n",
      " 23%|██▎       | 17/74 [00:00<00:00, 166.23it/s]"
     ]
    },
    {
     "output_type": "stream",
     "name": "stdout",
     "text": [
      "\n",
      "Epoch 51 complete! Validation Loss : 0.5653544946720725\n",
      "Epoch 51 complete! Validation Accuracy : 0.7242598684210527\n",
      "Best validation loss improved from 0.5700807038106417 to 0.5653544946720725\n",
      "\n",
      "\n",
      "Iteration 14/74 of epoch 52 complete. Loss : 0.27767265268734526 \n",
      "\n",
      "Iteration 28/74 of epoch 52 complete. Loss : 0.2740610476051058 \n"
     ]
    },
    {
     "output_type": "stream",
     "name": "stderr",
     "text": [
      "100%|██████████| 74/74 [00:00<00:00, 183.66it/s]\n",
      "  0%|          | 0/19 [00:00<?, ?it/s]"
     ]
    },
    {
     "output_type": "stream",
     "name": "stdout",
     "text": [
      "\n",
      "Iteration 42/74 of epoch 52 complete. Loss : 0.27388203144073486 \n",
      "\n",
      "Iteration 56/74 of epoch 52 complete. Loss : 0.2738551731620516 \n",
      "\n",
      "Iteration 70/74 of epoch 52 complete. Loss : 0.2816181204148701 \n"
     ]
    },
    {
     "output_type": "stream",
     "name": "stderr",
     "text": [
      "100%|██████████| 19/19 [00:00<00:00, 359.90it/s]\n",
      " 30%|██▉       | 22/74 [00:00<00:00, 213.86it/s]"
     ]
    },
    {
     "output_type": "stream",
     "name": "stdout",
     "text": [
      "\n",
      "Epoch 52 complete! Validation Loss : 0.5626304463336342\n",
      "Epoch 52 complete! Validation Accuracy : 0.7283717105263158\n",
      "Best validation loss improved from 0.5653544946720725 to 0.5626304463336342\n",
      "\n",
      "\n",
      "Iteration 14/74 of epoch 53 complete. Loss : 0.2741016852004187 \n",
      "\n",
      "Iteration 28/74 of epoch 53 complete. Loss : 0.2720372187239783 \n",
      "\n",
      "Iteration 42/74 of epoch 53 complete. Loss : 0.2753172793558666 \n"
     ]
    },
    {
     "output_type": "stream",
     "name": "stderr",
     "text": [
      "100%|██████████| 74/74 [00:00<00:00, 210.85it/s]\n",
      "100%|██████████| 19/19 [00:00<00:00, 388.51it/s]\n",
      "  0%|          | 0/74 [00:00<?, ?it/s]"
     ]
    },
    {
     "output_type": "stream",
     "name": "stdout",
     "text": [
      "\n",
      "Iteration 56/74 of epoch 53 complete. Loss : 0.2779595170702253 \n",
      "\n",
      "Iteration 70/74 of epoch 53 complete. Loss : 0.2729389486568315 \n",
      "\n",
      "Epoch 53 complete! Validation Loss : 0.5612504325414959\n",
      "Epoch 53 complete! Validation Accuracy : 0.7254934210526316\n",
      "Best validation loss improved from 0.5626304463336342 to 0.5612504325414959\n",
      "\n"
     ]
    },
    {
     "output_type": "stream",
     "name": "stderr",
     "text": [
      " 53%|█████▎    | 39/74 [00:00<00:00, 192.67it/s]"
     ]
    },
    {
     "output_type": "stream",
     "name": "stdout",
     "text": [
      "\n",
      "Iteration 14/74 of epoch 54 complete. Loss : 0.2721659903015409 \n",
      "\n",
      "Iteration 28/74 of epoch 54 complete. Loss : 0.2776406215769904 \n",
      "\n",
      "Iteration 42/74 of epoch 54 complete. Loss : 0.27676655990736826 \n"
     ]
    },
    {
     "output_type": "stream",
     "name": "stderr",
     "text": [
      "100%|██████████| 74/74 [00:00<00:00, 193.24it/s]\n",
      "100%|██████████| 19/19 [00:00<00:00, 389.88it/s]\n",
      "  0%|          | 0/74 [00:00<?, ?it/s]"
     ]
    },
    {
     "output_type": "stream",
     "name": "stdout",
     "text": [
      "\n",
      "Iteration 56/74 of epoch 54 complete. Loss : 0.2704135445611818 \n",
      "\n",
      "Iteration 70/74 of epoch 54 complete. Loss : 0.2742158685411726 \n",
      "\n",
      "Epoch 54 complete! Validation Loss : 0.5575074522118819\n",
      "Epoch 54 complete! Validation Accuracy : 0.7338980263157895\n",
      "Best validation loss improved from 0.5612504325414959 to 0.5575074522118819\n",
      "\n"
     ]
    },
    {
     "output_type": "stream",
     "name": "stderr",
     "text": [
      " 57%|█████▋    | 42/74 [00:00<00:00, 201.41it/s]"
     ]
    },
    {
     "output_type": "stream",
     "name": "stdout",
     "text": [
      "\n",
      "Iteration 14/74 of epoch 55 complete. Loss : 0.2739012965134212 \n",
      "\n",
      "Iteration 28/74 of epoch 55 complete. Loss : 0.269845113158226 \n",
      "\n",
      "Iteration 42/74 of epoch 55 complete. Loss : 0.26992913441998617 \n"
     ]
    },
    {
     "output_type": "stream",
     "name": "stderr",
     "text": [
      "100%|██████████| 74/74 [00:00<00:00, 197.01it/s]\n",
      "100%|██████████| 19/19 [00:00<00:00, 393.90it/s]\n",
      "  0%|          | 0/74 [00:00<?, ?it/s]"
     ]
    },
    {
     "output_type": "stream",
     "name": "stdout",
     "text": [
      "\n",
      "Iteration 56/74 of epoch 55 complete. Loss : 0.2738933925117765 \n",
      "\n",
      "Iteration 70/74 of epoch 55 complete. Loss : 0.2758828784738268 \n",
      "\n",
      "Epoch 55 complete! Validation Loss : 0.5562916727442491\n",
      "Epoch 55 complete! Validation Accuracy : 0.7271381578947369\n",
      "Best validation loss improved from 0.5575074522118819 to 0.5562916727442491\n",
      "\n"
     ]
    },
    {
     "output_type": "stream",
     "name": "stderr",
     "text": [
      " 55%|█████▌    | 41/74 [00:00<00:00, 199.79it/s]"
     ]
    },
    {
     "output_type": "stream",
     "name": "stdout",
     "text": [
      "\n",
      "Iteration 14/74 of epoch 56 complete. Loss : 0.27691384830645155 \n",
      "\n",
      "Iteration 28/74 of epoch 56 complete. Loss : 0.2680475786328316 \n",
      "\n",
      "Iteration 42/74 of epoch 56 complete. Loss : 0.27244033983775545 \n"
     ]
    },
    {
     "output_type": "stream",
     "name": "stderr",
     "text": [
      "100%|██████████| 74/74 [00:00<00:00, 197.52it/s]\n",
      "100%|██████████| 19/19 [00:00<00:00, 389.20it/s]\n",
      "  0%|          | 0/74 [00:00<?, ?it/s]"
     ]
    },
    {
     "output_type": "stream",
     "name": "stdout",
     "text": [
      "\n",
      "Iteration 56/74 of epoch 56 complete. Loss : 0.2682685734970229 \n",
      "\n",
      "Iteration 70/74 of epoch 56 complete. Loss : 0.2684063645345824 \n",
      "\n",
      "Epoch 56 complete! Validation Loss : 0.5526177051820254\n",
      "Epoch 56 complete! Validation Accuracy : 0.7345394736842106\n",
      "Best validation loss improved from 0.5562916727442491 to 0.5526177051820254\n",
      "\n"
     ]
    },
    {
     "output_type": "stream",
     "name": "stderr",
     "text": [
      " 55%|█████▌    | 41/74 [00:00<00:00, 203.01it/s]"
     ]
    },
    {
     "output_type": "stream",
     "name": "stdout",
     "text": [
      "\n",
      "Iteration 14/74 of epoch 57 complete. Loss : 0.26853668689727783 \n",
      "\n",
      "Iteration 28/74 of epoch 57 complete. Loss : 0.27632504062993185 \n",
      "\n",
      "Iteration 42/74 of epoch 57 complete. Loss : 0.26610693654843737 \n"
     ]
    },
    {
     "output_type": "stream",
     "name": "stderr",
     "text": [
      "100%|██████████| 74/74 [00:00<00:00, 197.07it/s]\n",
      "100%|██████████| 19/19 [00:00<00:00, 383.22it/s]\n",
      "  0%|          | 0/74 [00:00<?, ?it/s]"
     ]
    },
    {
     "output_type": "stream",
     "name": "stdout",
     "text": [
      "\n",
      "Iteration 56/74 of epoch 57 complete. Loss : 0.2705689775092261 \n",
      "\n",
      "Iteration 70/74 of epoch 57 complete. Loss : 0.26539097832781927 \n",
      "\n",
      "Epoch 57 complete! Validation Loss : 0.5502125856123472\n",
      "Epoch 57 complete! Validation Accuracy : 0.7341282894736842\n",
      "Best validation loss improved from 0.5526177051820254 to 0.5502125856123472\n",
      "\n"
     ]
    },
    {
     "output_type": "stream",
     "name": "stderr",
     "text": [
      " 54%|█████▍    | 40/74 [00:00<00:00, 197.77it/s]"
     ]
    },
    {
     "output_type": "stream",
     "name": "stdout",
     "text": [
      "\n",
      "Iteration 14/74 of epoch 58 complete. Loss : 0.2708620769636972 \n",
      "\n",
      "Iteration 28/74 of epoch 58 complete. Loss : 0.2685167182769094 \n",
      "\n",
      "Iteration 42/74 of epoch 58 complete. Loss : 0.2696748844214848 \n"
     ]
    },
    {
     "output_type": "stream",
     "name": "stderr",
     "text": [
      "100%|██████████| 74/74 [00:00<00:00, 198.89it/s]\n",
      "100%|██████████| 19/19 [00:00<00:00, 381.21it/s]\n",
      "  0%|          | 0/74 [00:00<?, ?it/s]"
     ]
    },
    {
     "output_type": "stream",
     "name": "stdout",
     "text": [
      "\n",
      "Iteration 56/74 of epoch 58 complete. Loss : 0.2691010513475963 \n",
      "\n",
      "Iteration 70/74 of epoch 58 complete. Loss : 0.265195617718356 \n",
      "\n",
      "Epoch 58 complete! Validation Loss : 0.5481816106720975\n",
      "Epoch 58 complete! Validation Accuracy : 0.7374177631578948\n",
      "Best validation loss improved from 0.5502125856123472 to 0.5481816106720975\n",
      "\n"
     ]
    },
    {
     "output_type": "stream",
     "name": "stderr",
     "text": [
      " 55%|█████▌    | 41/74 [00:00<00:00, 200.42it/s]"
     ]
    },
    {
     "output_type": "stream",
     "name": "stdout",
     "text": [
      "\n",
      "Iteration 14/74 of epoch 59 complete. Loss : 0.265301804457392 \n",
      "\n",
      "Iteration 28/74 of epoch 59 complete. Loss : 0.2669429300086839 \n",
      "\n",
      "Iteration 42/74 of epoch 59 complete. Loss : 0.2680293023586273 \n"
     ]
    },
    {
     "output_type": "stream",
     "name": "stderr",
     "text": [
      "100%|██████████| 74/74 [00:00<00:00, 206.51it/s]\n",
      "100%|██████████| 19/19 [00:00<00:00, 394.30it/s]\n",
      "  0%|          | 0/74 [00:00<?, ?it/s]"
     ]
    },
    {
     "output_type": "stream",
     "name": "stdout",
     "text": [
      "\n",
      "Iteration 56/74 of epoch 59 complete. Loss : 0.26640176453760694 \n",
      "\n",
      "Iteration 70/74 of epoch 59 complete. Loss : 0.2671730188386781 \n",
      "\n",
      "Epoch 59 complete! Validation Loss : 0.5472659452965385\n",
      "Epoch 59 complete! Validation Accuracy : 0.7297861842105263\n",
      "Best validation loss improved from 0.5481816106720975 to 0.5472659452965385\n",
      "\n"
     ]
    },
    {
     "output_type": "stream",
     "name": "stderr",
     "text": [
      " 59%|█████▉    | 44/74 [00:00<00:00, 219.65it/s]"
     ]
    },
    {
     "output_type": "stream",
     "name": "stdout",
     "text": [
      "\n",
      "Iteration 14/74 of epoch 60 complete. Loss : 0.26674215708460125 \n",
      "\n",
      "Iteration 28/74 of epoch 60 complete. Loss : 0.2679474098341806 \n",
      "\n",
      "Iteration 42/74 of epoch 60 complete. Loss : 0.2698298394680023 \n",
      "\n",
      "Iteration 56/74 of epoch 60 complete. Loss : 0.26129858621529173 \n"
     ]
    },
    {
     "output_type": "stream",
     "name": "stderr",
     "text": [
      "100%|██████████| 74/74 [00:00<00:00, 215.18it/s]\n",
      "100%|██████████| 19/19 [00:00<00:00, 387.91it/s]\n",
      "  0%|          | 0/74 [00:00<?, ?it/s]"
     ]
    },
    {
     "output_type": "stream",
     "name": "stdout",
     "text": [
      "\n",
      "Iteration 70/74 of epoch 60 complete. Loss : 0.26126208688531605 \n",
      "\n",
      "Epoch 60 complete! Validation Loss : 0.5450601107195804\n",
      "Epoch 60 complete! Validation Accuracy : 0.7314309210526315\n",
      "Best validation loss improved from 0.5472659452965385 to 0.5450601107195804\n",
      "\n",
      "\n",
      "Iteration 14/74 of epoch 61 complete. Loss : 0.27100113885743277 \n"
     ]
    },
    {
     "output_type": "stream",
     "name": "stderr",
     "text": [
      " 88%|████████▊ | 65/74 [00:00<00:00, 213.41it/s]"
     ]
    },
    {
     "output_type": "stream",
     "name": "stdout",
     "text": [
      "\n",
      "Iteration 28/74 of epoch 61 complete. Loss : 0.267285307603223 \n",
      "\n",
      "Iteration 42/74 of epoch 61 complete. Loss : 0.25990719348192215 \n",
      "\n",
      "Iteration 56/74 of epoch 61 complete. Loss : 0.26313408251319614 \n",
      "\n",
      "Iteration 70/74 of epoch 61 complete. Loss : 0.26232100278139114 \n"
     ]
    },
    {
     "output_type": "stream",
     "name": "stderr",
     "text": [
      "100%|██████████| 74/74 [00:00<00:00, 211.77it/s]\n",
      "100%|██████████| 19/19 [00:00<00:00, 387.85it/s]\n",
      " 31%|███       | 23/74 [00:00<00:00, 224.19it/s]"
     ]
    },
    {
     "output_type": "stream",
     "name": "stdout",
     "text": [
      "\n",
      "Epoch 61 complete! Validation Loss : 0.5415529687153665\n",
      "Epoch 61 complete! Validation Accuracy : 0.7361842105263158\n",
      "Best validation loss improved from 0.5450601107195804 to 0.5415529687153665\n",
      "\n",
      "\n",
      "Iteration 14/74 of epoch 62 complete. Loss : 0.26212376781872343 \n",
      "\n",
      "Iteration 28/74 of epoch 62 complete. Loss : 0.2633186365876879 \n",
      "\n",
      "Iteration 42/74 of epoch 62 complete. Loss : 0.26533568863357815 \n"
     ]
    },
    {
     "output_type": "stream",
     "name": "stderr",
     "text": [
      "100%|██████████| 74/74 [00:00<00:00, 213.58it/s]\n",
      "100%|██████████| 19/19 [00:00<00:00, 395.35it/s]\n",
      "  0%|          | 0/74 [00:00<?, ?it/s]"
     ]
    },
    {
     "output_type": "stream",
     "name": "stdout",
     "text": [
      "\n",
      "Iteration 56/74 of epoch 62 complete. Loss : 0.2629668169787952 \n",
      "\n",
      "Iteration 70/74 of epoch 62 complete. Loss : 0.2626805475779942 \n",
      "\n",
      "Epoch 62 complete! Validation Loss : 0.5396093569303814\n",
      "Epoch 62 complete! Validation Accuracy : 0.7507565789473684\n",
      "Best validation loss improved from 0.5415529687153665 to 0.5396093569303814\n",
      "\n"
     ]
    },
    {
     "output_type": "stream",
     "name": "stderr",
     "text": [
      " 57%|█████▋    | 42/74 [00:00<00:00, 204.84it/s]"
     ]
    },
    {
     "output_type": "stream",
     "name": "stdout",
     "text": [
      "\n",
      "Iteration 14/74 of epoch 63 complete. Loss : 0.262662302170481 \n",
      "\n",
      "Iteration 28/74 of epoch 63 complete. Loss : 0.2622837871313095 \n",
      "\n",
      "Iteration 42/74 of epoch 63 complete. Loss : 0.2627581389886992 \n"
     ]
    },
    {
     "output_type": "stream",
     "name": "stderr",
     "text": [
      "100%|██████████| 74/74 [00:00<00:00, 202.11it/s]\n",
      "100%|██████████| 19/19 [00:00<00:00, 395.84it/s]\n",
      "  0%|          | 0/74 [00:00<?, ?it/s]"
     ]
    },
    {
     "output_type": "stream",
     "name": "stdout",
     "text": [
      "\n",
      "Iteration 56/74 of epoch 63 complete. Loss : 0.26229155915124075 \n",
      "\n",
      "Iteration 70/74 of epoch 63 complete. Loss : 0.25725161709955763 \n",
      "\n",
      "Epoch 63 complete! Validation Loss : 0.5394031342707182\n",
      "Epoch 63 complete! Validation Accuracy : 0.7353618421052632\n",
      "Best validation loss improved from 0.5396093569303814 to 0.5394031342707182\n",
      "\n"
     ]
    },
    {
     "output_type": "stream",
     "name": "stderr",
     "text": [
      " 55%|█████▌    | 41/74 [00:00<00:00, 203.13it/s]"
     ]
    },
    {
     "output_type": "stream",
     "name": "stdout",
     "text": [
      "\n",
      "Iteration 14/74 of epoch 64 complete. Loss : 0.2605610585638455 \n",
      "\n",
      "Iteration 28/74 of epoch 64 complete. Loss : 0.25726361679179327 \n",
      "\n",
      "Iteration 42/74 of epoch 64 complete. Loss : 0.2660219616123608 \n"
     ]
    },
    {
     "output_type": "stream",
     "name": "stderr",
     "text": [
      "100%|██████████| 74/74 [00:00<00:00, 200.03it/s]\n",
      "100%|██████████| 19/19 [00:00<00:00, 389.43it/s]\n",
      "  0%|          | 0/74 [00:00<?, ?it/s]"
     ]
    },
    {
     "output_type": "stream",
     "name": "stdout",
     "text": [
      "\n",
      "Iteration 56/74 of epoch 64 complete. Loss : 0.260315719459738 \n",
      "\n",
      "Iteration 70/74 of epoch 64 complete. Loss : 0.2588746781860079 \n",
      "\n",
      "Epoch 64 complete! Validation Loss : 0.5390718657719461\n",
      "Epoch 64 complete! Validation Accuracy : 0.7521710526315789\n",
      "Best validation loss improved from 0.5394031342707182 to 0.5390718657719461\n",
      "\n"
     ]
    },
    {
     "output_type": "stream",
     "name": "stderr",
     "text": [
      " 57%|█████▋    | 42/74 [00:00<00:00, 201.41it/s]"
     ]
    },
    {
     "output_type": "stream",
     "name": "stdout",
     "text": [
      "\n",
      "Iteration 14/74 of epoch 65 complete. Loss : 0.25902984929936274 \n",
      "\n",
      "Iteration 28/74 of epoch 65 complete. Loss : 0.2667789118630545 \n",
      "\n",
      "Iteration 42/74 of epoch 65 complete. Loss : 0.25862124881574083 \n"
     ]
    },
    {
     "output_type": "stream",
     "name": "stderr",
     "text": [
      "100%|██████████| 74/74 [00:00<00:00, 200.15it/s]\n",
      "100%|██████████| 19/19 [00:00<00:00, 387.11it/s]\n",
      "  0%|          | 0/74 [00:00<?, ?it/s]"
     ]
    },
    {
     "output_type": "stream",
     "name": "stdout",
     "text": [
      "\n",
      "Iteration 56/74 of epoch 65 complete. Loss : 0.2591758349112102 \n",
      "\n",
      "Iteration 70/74 of epoch 65 complete. Loss : 0.2559617097888674 \n",
      "\n",
      "Epoch 65 complete! Validation Loss : 0.5337535770315873\n",
      "Epoch 65 complete! Validation Accuracy : 0.7378289473684211\n",
      "Best validation loss improved from 0.5390718657719461 to 0.5337535770315873\n",
      "\n"
     ]
    },
    {
     "output_type": "stream",
     "name": "stderr",
     "text": [
      " 53%|█████▎    | 39/74 [00:00<00:00, 191.58it/s]"
     ]
    },
    {
     "output_type": "stream",
     "name": "stdout",
     "text": [
      "\n",
      "Iteration 14/74 of epoch 66 complete. Loss : 0.2610832133463451 \n",
      "\n",
      "Iteration 28/74 of epoch 66 complete. Loss : 0.2561546489596367 \n",
      "\n",
      "Iteration 42/74 of epoch 66 complete. Loss : 0.2529829006109919 \n"
     ]
    },
    {
     "output_type": "stream",
     "name": "stderr",
     "text": [
      "100%|██████████| 74/74 [00:00<00:00, 193.58it/s]\n",
      "100%|██████████| 19/19 [00:00<00:00, 352.53it/s]\n",
      "  0%|          | 0/74 [00:00<?, ?it/s]"
     ]
    },
    {
     "output_type": "stream",
     "name": "stdout",
     "text": [
      "\n",
      "Iteration 56/74 of epoch 66 complete. Loss : 0.2592669501900673 \n",
      "\n",
      "Iteration 70/74 of epoch 66 complete. Loss : 0.2595784972820963 \n",
      "\n",
      "Epoch 66 complete! Validation Loss : 0.5313303078475752\n",
      "Epoch 66 complete! Validation Accuracy : 0.7419407894736842\n",
      "Best validation loss improved from 0.5337535770315873 to 0.5313303078475752\n",
      "\n"
     ]
    },
    {
     "output_type": "stream",
     "name": "stderr",
     "text": [
      " 54%|█████▍    | 40/74 [00:00<00:00, 196.85it/s]"
     ]
    },
    {
     "output_type": "stream",
     "name": "stdout",
     "text": [
      "\n",
      "Iteration 14/74 of epoch 67 complete. Loss : 0.2582940799849374 \n",
      "\n",
      "Iteration 28/74 of epoch 67 complete. Loss : 0.2573466897010803 \n",
      "\n",
      "Iteration 42/74 of epoch 67 complete. Loss : 0.25825630660567966 \n"
     ]
    },
    {
     "output_type": "stream",
     "name": "stderr",
     "text": [
      "100%|██████████| 74/74 [00:00<00:00, 196.50it/s]\n",
      "100%|██████████| 19/19 [00:00<00:00, 266.03it/s]"
     ]
    },
    {
     "output_type": "stream",
     "name": "stdout",
     "text": [
      "\n",
      "Iteration 56/74 of epoch 67 complete. Loss : 0.2538977158921106 \n",
      "\n",
      "Iteration 70/74 of epoch 67 complete. Loss : 0.2549301864845412 \n"
     ]
    },
    {
     "output_type": "stream",
     "name": "stderr",
     "text": [
      "\n",
      " 23%|██▎       | 17/74 [00:00<00:00, 165.57it/s]"
     ]
    },
    {
     "output_type": "stream",
     "name": "stdout",
     "text": [
      "\n",
      "Epoch 67 complete! Validation Loss : 0.5283696557346144\n",
      "Epoch 67 complete! Validation Accuracy : 0.7497532894736842\n",
      "Best validation loss improved from 0.5313303078475752 to 0.5283696557346144\n",
      "\n",
      "\n",
      "Iteration 14/74 of epoch 68 complete. Loss : 0.25544869686876026 \n",
      "\n",
      "Iteration 28/74 of epoch 68 complete. Loss : 0.25661253396953854 \n"
     ]
    },
    {
     "output_type": "stream",
     "name": "stderr",
     "text": [
      "100%|██████████| 74/74 [00:00<00:00, 165.78it/s]\n",
      "  0%|          | 0/19 [00:00<?, ?it/s]"
     ]
    },
    {
     "output_type": "stream",
     "name": "stdout",
     "text": [
      "\n",
      "Iteration 42/74 of epoch 68 complete. Loss : 0.2559442658509527 \n",
      "\n",
      "Iteration 56/74 of epoch 68 complete. Loss : 0.25917660764285494 \n",
      "\n",
      "Iteration 70/74 of epoch 68 complete. Loss : 0.2503927690642221 \n"
     ]
    },
    {
     "output_type": "stream",
     "name": "stderr",
     "text": [
      "100%|██████████| 19/19 [00:00<00:00, 390.11it/s]\n",
      " 30%|██▉       | 22/74 [00:00<00:00, 211.69it/s]"
     ]
    },
    {
     "output_type": "stream",
     "name": "stdout",
     "text": [
      "\n",
      "Epoch 68 complete! Validation Loss : 0.5303150948725248\n",
      "Epoch 68 complete! Validation Accuracy : 0.7390625000000001\n",
      "\n",
      "Iteration 14/74 of epoch 69 complete. Loss : 0.24858060692037856 \n",
      "\n",
      "Iteration 28/74 of epoch 69 complete. Loss : 0.2566322812012264 \n"
     ]
    },
    {
     "output_type": "stream",
     "name": "stderr",
     "text": [
      "100%|██████████| 74/74 [00:00<00:00, 208.91it/s]\n",
      "  0%|          | 0/19 [00:00<?, ?it/s]"
     ]
    },
    {
     "output_type": "stream",
     "name": "stdout",
     "text": [
      "\n",
      "Iteration 42/74 of epoch 69 complete. Loss : 0.2580917796918324 \n",
      "\n",
      "Iteration 56/74 of epoch 69 complete. Loss : 0.2559840019260134 \n",
      "\n",
      "Iteration 70/74 of epoch 69 complete. Loss : 0.2546808900577681 \n"
     ]
    },
    {
     "output_type": "stream",
     "name": "stderr",
     "text": [
      "100%|██████████| 19/19 [00:00<00:00, 379.41it/s]\n",
      " 30%|██▉       | 22/74 [00:00<00:00, 209.45it/s]"
     ]
    },
    {
     "output_type": "stream",
     "name": "stdout",
     "text": [
      "\n",
      "Epoch 69 complete! Validation Loss : 0.524013467525181\n",
      "Epoch 69 complete! Validation Accuracy : 0.7540460526315789\n",
      "Best validation loss improved from 0.5283696557346144 to 0.524013467525181\n",
      "\n",
      "\n",
      "Iteration 14/74 of epoch 70 complete. Loss : 0.2593863382935524 \n",
      "\n",
      "Iteration 28/74 of epoch 70 complete. Loss : 0.24951596983841487 \n"
     ]
    },
    {
     "output_type": "stream",
     "name": "stderr",
     "text": [
      "100%|██████████| 74/74 [00:00<00:00, 208.07it/s]\n",
      "  0%|          | 0/19 [00:00<?, ?it/s]"
     ]
    },
    {
     "output_type": "stream",
     "name": "stdout",
     "text": [
      "\n",
      "Iteration 42/74 of epoch 70 complete. Loss : 0.25251831327165875 \n",
      "\n",
      "Iteration 56/74 of epoch 70 complete. Loss : 0.25308285866464886 \n",
      "\n",
      "Iteration 70/74 of epoch 70 complete. Loss : 0.253014831670693 \n"
     ]
    },
    {
     "output_type": "stream",
     "name": "stderr",
     "text": [
      "100%|██████████| 19/19 [00:00<00:00, 383.96it/s]\n",
      " 30%|██▉       | 22/74 [00:00<00:00, 210.04it/s]"
     ]
    },
    {
     "output_type": "stream",
     "name": "stdout",
     "text": [
      "\n",
      "Epoch 70 complete! Validation Loss : 0.5220732657532943\n",
      "Epoch 70 complete! Validation Accuracy : 0.7565131578947368\n",
      "Best validation loss improved from 0.524013467525181 to 0.5220732657532943\n",
      "\n",
      "\n",
      "Iteration 14/74 of epoch 71 complete. Loss : 0.25503192842006683 \n",
      "\n",
      "Iteration 28/74 of epoch 71 complete. Loss : 0.2520036388720785 \n"
     ]
    },
    {
     "output_type": "stream",
     "name": "stderr",
     "text": [
      "100%|██████████| 74/74 [00:00<00:00, 205.21it/s]\n",
      "  0%|          | 0/19 [00:00<?, ?it/s]"
     ]
    },
    {
     "output_type": "stream",
     "name": "stdout",
     "text": [
      "\n",
      "Iteration 42/74 of epoch 71 complete. Loss : 0.24645071157387324 \n",
      "\n",
      "Iteration 56/74 of epoch 71 complete. Loss : 0.25129568363939014 \n",
      "\n",
      "Iteration 70/74 of epoch 71 complete. Loss : 0.2518563685672624 \n"
     ]
    },
    {
     "output_type": "stream",
     "name": "stderr",
     "text": [
      "100%|██████████| 19/19 [00:00<00:00, 387.44it/s]\n",
      " 28%|██▊       | 21/74 [00:00<00:00, 207.32it/s]"
     ]
    },
    {
     "output_type": "stream",
     "name": "stdout",
     "text": [
      "\n",
      "Epoch 71 complete! Validation Loss : 0.5236049310157174\n",
      "Epoch 71 complete! Validation Accuracy : 0.7628618421052632\n",
      "\n",
      "Iteration 14/74 of epoch 72 complete. Loss : 0.2507203349045345 \n",
      "\n",
      "Iteration 28/74 of epoch 72 complete. Loss : 0.2514435648918152 \n"
     ]
    },
    {
     "output_type": "stream",
     "name": "stderr",
     "text": [
      "100%|██████████| 74/74 [00:00<00:00, 209.49it/s]\n",
      "  0%|          | 0/19 [00:00<?, ?it/s]"
     ]
    },
    {
     "output_type": "stream",
     "name": "stdout",
     "text": [
      "\n",
      "Iteration 42/74 of epoch 72 complete. Loss : 0.25072689035109114 \n",
      "\n",
      "Iteration 56/74 of epoch 72 complete. Loss : 0.2535376825502941 \n",
      "\n",
      "Iteration 70/74 of epoch 72 complete. Loss : 0.2512166691677911 \n"
     ]
    },
    {
     "output_type": "stream",
     "name": "stderr",
     "text": [
      "100%|██████████| 19/19 [00:00<00:00, 384.56it/s]\n",
      " 30%|██▉       | 22/74 [00:00<00:00, 214.27it/s]"
     ]
    },
    {
     "output_type": "stream",
     "name": "stdout",
     "text": [
      "\n",
      "Epoch 72 complete! Validation Loss : 0.5241928147642236\n",
      "Epoch 72 complete! Validation Accuracy : 0.7431743421052632\n",
      "\n",
      "Iteration 14/74 of epoch 73 complete. Loss : 0.24467228246586664 \n",
      "\n",
      "Iteration 28/74 of epoch 73 complete. Loss : 0.2535516938992909 \n",
      "\n",
      "Iteration 42/74 of epoch 73 complete. Loss : 0.2526212302701814 \n"
     ]
    },
    {
     "output_type": "stream",
     "name": "stderr",
     "text": [
      "100%|██████████| 74/74 [00:00<00:00, 209.78it/s]\n",
      "100%|██████████| 19/19 [00:00<00:00, 384.01it/s]\n",
      "  0%|          | 0/74 [00:00<?, ?it/s]"
     ]
    },
    {
     "output_type": "stream",
     "name": "stdout",
     "text": [
      "\n",
      "Iteration 56/74 of epoch 73 complete. Loss : 0.2537143049495561 \n",
      "\n",
      "Iteration 70/74 of epoch 73 complete. Loss : 0.24746023012059076 \n",
      "\n",
      "Epoch 73 complete! Validation Loss : 0.5219240549363588\n",
      "Epoch 73 complete! Validation Accuracy : 0.7431743421052632\n",
      "Best validation loss improved from 0.5220732657532943 to 0.5219240549363588\n",
      "\n"
     ]
    },
    {
     "output_type": "stream",
     "name": "stderr",
     "text": [
      " 59%|█████▉    | 44/74 [00:00<00:00, 212.95it/s]"
     ]
    },
    {
     "output_type": "stream",
     "name": "stdout",
     "text": [
      "\n",
      "Iteration 14/74 of epoch 74 complete. Loss : 0.2521120714289801 \n",
      "\n",
      "Iteration 28/74 of epoch 74 complete. Loss : 0.23788093881947653 \n",
      "\n",
      "Iteration 42/74 of epoch 74 complete. Loss : 0.24551746249198914 \n",
      "\n",
      "Iteration 56/74 of epoch 74 complete. Loss : 0.2506794674055917 \n"
     ]
    },
    {
     "output_type": "stream",
     "name": "stderr",
     "text": [
      "100%|██████████| 74/74 [00:00<00:00, 211.33it/s]\n",
      "100%|██████████| 19/19 [00:00<00:00, 388.28it/s]\n",
      "  0%|          | 0/74 [00:00<?, ?it/s]"
     ]
    },
    {
     "output_type": "stream",
     "name": "stdout",
     "text": [
      "\n",
      "Iteration 70/74 of epoch 74 complete. Loss : 0.2564982527068683 \n",
      "\n",
      "Epoch 74 complete! Validation Loss : 0.5154596739693692\n",
      "Epoch 74 complete! Validation Accuracy : 0.7583881578947369\n",
      "Best validation loss improved from 0.5219240549363588 to 0.5154596739693692\n",
      "\n",
      "\n",
      "Iteration 14/74 of epoch 75 complete. Loss : 0.253826590520995 \n"
     ]
    },
    {
     "output_type": "stream",
     "name": "stderr",
     "text": [
      " 86%|████████▋ | 64/74 [00:00<00:00, 208.75it/s]"
     ]
    },
    {
     "output_type": "stream",
     "name": "stdout",
     "text": [
      "\n",
      "Iteration 28/74 of epoch 75 complete. Loss : 0.2468478615794863 \n",
      "\n",
      "Iteration 42/74 of epoch 75 complete. Loss : 0.24374425411224365 \n",
      "\n",
      "Iteration 56/74 of epoch 75 complete. Loss : 0.2463836989232472 \n",
      "\n",
      "Iteration 70/74 of epoch 75 complete. Loss : 0.25055903302771704 \n"
     ]
    },
    {
     "output_type": "stream",
     "name": "stderr",
     "text": [
      "100%|██████████| 74/74 [00:00<00:00, 209.25it/s]\n",
      "100%|██████████| 19/19 [00:00<00:00, 387.05it/s]\n",
      " 30%|██▉       | 22/74 [00:00<00:00, 214.02it/s]"
     ]
    },
    {
     "output_type": "stream",
     "name": "stdout",
     "text": [
      "\n",
      "Epoch 75 complete! Validation Loss : 0.5158976488991788\n",
      "Epoch 75 complete! Validation Accuracy : 0.7678453947368421\n",
      "\n",
      "Iteration 14/74 of epoch 76 complete. Loss : 0.25229660315173014 \n",
      "\n",
      "Iteration 28/74 of epoch 76 complete. Loss : 0.24510074513299124 \n"
     ]
    },
    {
     "output_type": "stream",
     "name": "stderr",
     "text": [
      "100%|██████████| 74/74 [00:00<00:00, 204.13it/s]\n",
      "  0%|          | 0/19 [00:00<?, ?it/s]"
     ]
    },
    {
     "output_type": "stream",
     "name": "stdout",
     "text": [
      "\n",
      "Iteration 42/74 of epoch 76 complete. Loss : 0.2489676166857992 \n",
      "\n",
      "Iteration 56/74 of epoch 76 complete. Loss : 0.2478697236095156 \n",
      "\n",
      "Iteration 70/74 of epoch 76 complete. Loss : 0.24515138672930853 \n"
     ]
    },
    {
     "output_type": "stream",
     "name": "stderr",
     "text": [
      "100%|██████████| 19/19 [00:00<00:00, 383.06it/s]\n",
      " 30%|██▉       | 22/74 [00:00<00:00, 211.80it/s]"
     ]
    },
    {
     "output_type": "stream",
     "name": "stdout",
     "text": [
      "\n",
      "Epoch 76 complete! Validation Loss : 0.5120981837573805\n",
      "Epoch 76 complete! Validation Accuracy : 0.7604440789473684\n",
      "Best validation loss improved from 0.5154596739693692 to 0.5120981837573805\n",
      "\n",
      "\n",
      "Iteration 14/74 of epoch 77 complete. Loss : 0.2473552024790219 \n",
      "\n",
      "Iteration 28/74 of epoch 77 complete. Loss : 0.24327796591179712 \n"
     ]
    },
    {
     "output_type": "stream",
     "name": "stderr",
     "text": [
      "100%|██████████| 74/74 [00:00<00:00, 209.32it/s]\n",
      "  0%|          | 0/19 [00:00<?, ?it/s]"
     ]
    },
    {
     "output_type": "stream",
     "name": "stdout",
     "text": [
      "\n",
      "Iteration 42/74 of epoch 77 complete. Loss : 0.24440963459866388 \n",
      "\n",
      "Iteration 56/74 of epoch 77 complete. Loss : 0.2504298484751156 \n",
      "\n",
      "Iteration 70/74 of epoch 77 complete. Loss : 0.24189493272985732 \n"
     ]
    },
    {
     "output_type": "stream",
     "name": "stderr",
     "text": [
      "100%|██████████| 19/19 [00:00<00:00, 385.71it/s]\n",
      " 30%|██▉       | 22/74 [00:00<00:00, 210.43it/s]"
     ]
    },
    {
     "output_type": "stream",
     "name": "stdout",
     "text": [
      "\n",
      "Epoch 77 complete! Validation Loss : 0.5168863095735249\n",
      "Epoch 77 complete! Validation Accuracy : 0.7620394736842105\n",
      "\n",
      "Iteration 14/74 of epoch 78 complete. Loss : 0.2410637108342988 \n",
      "\n",
      "Iteration 28/74 of epoch 78 complete. Loss : 0.25374353570597513 \n",
      "\n",
      "Iteration 42/74 of epoch 78 complete. Loss : 0.24255427718162537 \n"
     ]
    },
    {
     "output_type": "stream",
     "name": "stderr",
     "text": [
      "100%|██████████| 74/74 [00:00<00:00, 208.66it/s]\n",
      "100%|██████████| 19/19 [00:00<00:00, 392.71it/s]\n",
      "  0%|          | 0/74 [00:00<?, ?it/s]"
     ]
    },
    {
     "output_type": "stream",
     "name": "stdout",
     "text": [
      "\n",
      "Iteration 56/74 of epoch 78 complete. Loss : 0.24973251351288386 \n",
      "\n",
      "Iteration 70/74 of epoch 78 complete. Loss : 0.2440911786896842 \n",
      "\n",
      "Epoch 78 complete! Validation Loss : 0.5119977530680204\n",
      "Epoch 78 complete! Validation Accuracy : 0.7586184210526316\n",
      "Best validation loss improved from 0.5120981837573805 to 0.5119977530680204\n",
      "\n"
     ]
    },
    {
     "output_type": "stream",
     "name": "stderr",
     "text": [
      " 59%|█████▉    | 44/74 [00:00<00:00, 213.81it/s]"
     ]
    },
    {
     "output_type": "stream",
     "name": "stdout",
     "text": [
      "\n",
      "Iteration 14/74 of epoch 79 complete. Loss : 0.23783441952296666 \n",
      "\n",
      "Iteration 28/74 of epoch 79 complete. Loss : 0.2526813479406493 \n",
      "\n",
      "Iteration 42/74 of epoch 79 complete. Loss : 0.24953886760132654 \n",
      "\n",
      "Iteration 56/74 of epoch 79 complete. Loss : 0.23965885383742197 \n"
     ]
    },
    {
     "output_type": "stream",
     "name": "stderr",
     "text": [
      "100%|██████████| 74/74 [00:00<00:00, 211.05it/s]\n",
      "100%|██████████| 19/19 [00:00<00:00, 390.93it/s]\n",
      "  0%|          | 0/74 [00:00<?, ?it/s]"
     ]
    },
    {
     "output_type": "stream",
     "name": "stdout",
     "text": [
      "\n",
      "Iteration 70/74 of epoch 79 complete. Loss : 0.2373925575188228 \n",
      "\n",
      "Epoch 79 complete! Validation Loss : 0.5077893122246391\n",
      "Epoch 79 complete! Validation Accuracy : 0.7699013157894737\n",
      "Best validation loss improved from 0.5119977530680204 to 0.5077893122246391\n",
      "\n",
      "\n",
      "Iteration 14/74 of epoch 80 complete. Loss : 0.24802029877901077 \n"
     ]
    },
    {
     "output_type": "stream",
     "name": "stderr",
     "text": [
      " 89%|████████▉ | 66/74 [00:00<00:00, 215.49it/s]"
     ]
    },
    {
     "output_type": "stream",
     "name": "stdout",
     "text": [
      "\n",
      "Iteration 28/74 of epoch 80 complete. Loss : 0.24064132464783533 \n",
      "\n",
      "Iteration 42/74 of epoch 80 complete. Loss : 0.24765917978116445 \n",
      "\n",
      "Iteration 56/74 of epoch 80 complete. Loss : 0.2421010019523757 \n",
      "\n",
      "Iteration 70/74 of epoch 80 complete. Loss : 0.24578119388648442 \n"
     ]
    },
    {
     "output_type": "stream",
     "name": "stderr",
     "text": [
      "100%|██████████| 74/74 [00:00<00:00, 214.36it/s]\n",
      "100%|██████████| 19/19 [00:00<00:00, 388.73it/s]\n",
      " 30%|██▉       | 22/74 [00:00<00:00, 211.01it/s]"
     ]
    },
    {
     "output_type": "stream",
     "name": "stdout",
     "text": [
      "\n",
      "Epoch 80 complete! Validation Loss : 0.5055614098122245\n",
      "Epoch 80 complete! Validation Accuracy : 0.7674342105263158\n",
      "Best validation loss improved from 0.5077893122246391 to 0.5055614098122245\n",
      "\n",
      "\n",
      "Iteration 14/74 of epoch 81 complete. Loss : 0.24463961379868643 \n",
      "\n",
      "Iteration 28/74 of epoch 81 complete. Loss : 0.24055397723402297 \n"
     ]
    },
    {
     "output_type": "stream",
     "name": "stderr",
     "text": [
      "100%|██████████| 74/74 [00:00<00:00, 207.00it/s]\n",
      "  0%|          | 0/19 [00:00<?, ?it/s]"
     ]
    },
    {
     "output_type": "stream",
     "name": "stdout",
     "text": [
      "\n",
      "Iteration 42/74 of epoch 81 complete. Loss : 0.24284650066069194 \n",
      "\n",
      "Iteration 56/74 of epoch 81 complete. Loss : 0.23822171986103058 \n",
      "\n",
      "Iteration 70/74 of epoch 81 complete. Loss : 0.24139550434691565 \n"
     ]
    },
    {
     "output_type": "stream",
     "name": "stderr",
     "text": [
      "100%|██████████| 19/19 [00:00<00:00, 386.47it/s]\n",
      " 30%|██▉       | 22/74 [00:00<00:00, 219.73it/s]"
     ]
    },
    {
     "output_type": "stream",
     "name": "stdout",
     "text": [
      "\n",
      "Epoch 81 complete! Validation Loss : 0.5040575046288339\n",
      "Epoch 81 complete! Validation Accuracy : 0.7667927631578947\n",
      "Best validation loss improved from 0.5055614098122245 to 0.5040575046288339\n",
      "\n",
      "\n",
      "Iteration 14/74 of epoch 82 complete. Loss : 0.24310781700270517 \n",
      "\n",
      "Iteration 28/74 of epoch 82 complete. Loss : 0.2406743945819991 \n",
      "\n",
      "Iteration 42/74 of epoch 82 complete. Loss : 0.24530187994241714 \n"
     ]
    },
    {
     "output_type": "stream",
     "name": "stderr",
     "text": [
      "100%|██████████| 74/74 [00:00<00:00, 143.19it/s]\n",
      "100%|██████████| 19/19 [00:00<00:00, 383.68it/s]\n",
      "  0%|          | 0/74 [00:00<?, ?it/s]"
     ]
    },
    {
     "output_type": "stream",
     "name": "stdout",
     "text": [
      "\n",
      "Iteration 56/74 of epoch 82 complete. Loss : 0.23414109753710882 \n",
      "\n",
      "Iteration 70/74 of epoch 82 complete. Loss : 0.24531447674546922 \n",
      "\n",
      "Epoch 82 complete! Validation Loss : 0.5033693376340365\n",
      "Epoch 82 complete! Validation Accuracy : 0.7657894736842106\n",
      "Best validation loss improved from 0.5040575046288339 to 0.5033693376340365\n",
      "\n"
     ]
    },
    {
     "output_type": "stream",
     "name": "stderr",
     "text": [
      " 57%|█████▋    | 42/74 [00:00<00:00, 201.22it/s]"
     ]
    },
    {
     "output_type": "stream",
     "name": "stdout",
     "text": [
      "\n",
      "Iteration 14/74 of epoch 83 complete. Loss : 0.24256898249898637 \n",
      "\n",
      "Iteration 28/74 of epoch 83 complete. Loss : 0.23983325277056014 \n",
      "\n",
      "Iteration 42/74 of epoch 83 complete. Loss : 0.2448245074067797 \n"
     ]
    },
    {
     "output_type": "stream",
     "name": "stderr",
     "text": [
      "100%|██████████| 74/74 [00:00<00:00, 204.76it/s]\n",
      "100%|██████████| 19/19 [00:00<00:00, 363.00it/s]\n",
      "  0%|          | 0/74 [00:00<?, ?it/s]"
     ]
    },
    {
     "output_type": "stream",
     "name": "stdout",
     "text": [
      "\n",
      "Iteration 56/74 of epoch 83 complete. Loss : 0.24046495131083898 \n",
      "\n",
      "Iteration 70/74 of epoch 83 complete. Loss : 0.23899170543466294 \n",
      "\n",
      "Epoch 83 complete! Validation Loss : 0.5037624977136913\n",
      "Epoch 83 complete! Validation Accuracy : 0.7614967105263158\n"
     ]
    },
    {
     "output_type": "stream",
     "name": "stderr",
     "text": [
      " 59%|█████▉    | 44/74 [00:00<00:00, 214.48it/s]"
     ]
    },
    {
     "output_type": "stream",
     "name": "stdout",
     "text": [
      "\n",
      "Iteration 14/74 of epoch 84 complete. Loss : 0.23947716504335403 \n",
      "\n",
      "Iteration 28/74 of epoch 84 complete. Loss : 0.2384775153228215 \n",
      "\n",
      "Iteration 42/74 of epoch 84 complete. Loss : 0.2401283915553774 \n",
      "\n",
      "Iteration 56/74 of epoch 84 complete. Loss : 0.24634319650275366 \n"
     ]
    },
    {
     "output_type": "stream",
     "name": "stderr",
     "text": [
      "100%|██████████| 74/74 [00:00<00:00, 208.68it/s]\n",
      "100%|██████████| 19/19 [00:00<00:00, 392.05it/s]\n",
      "  0%|          | 0/74 [00:00<?, ?it/s]"
     ]
    },
    {
     "output_type": "stream",
     "name": "stdout",
     "text": [
      "\n",
      "Iteration 70/74 of epoch 84 complete. Loss : 0.2405646624309676 \n",
      "\n",
      "Epoch 84 complete! Validation Loss : 0.5000289490348414\n",
      "Epoch 84 complete! Validation Accuracy : 0.7657894736842106\n",
      "Best validation loss improved from 0.5033693376340365 to 0.5000289490348414\n",
      "\n",
      "\n",
      "Iteration 14/74 of epoch 85 complete. Loss : 0.24654544783490046 \n"
     ]
    },
    {
     "output_type": "stream",
     "name": "stderr",
     "text": [
      " 81%|████████  | 60/74 [00:00<00:00, 196.44it/s]"
     ]
    },
    {
     "output_type": "stream",
     "name": "stdout",
     "text": [
      "\n",
      "Iteration 28/74 of epoch 85 complete. Loss : 0.23798988227333343 \n",
      "\n",
      "Iteration 42/74 of epoch 85 complete. Loss : 0.23531333676406316 \n",
      "\n",
      "Iteration 56/74 of epoch 85 complete. Loss : 0.23339090709175384 \n"
     ]
    },
    {
     "output_type": "stream",
     "name": "stderr",
     "text": [
      "100%|██████████| 74/74 [00:00<00:00, 196.12it/s]\n",
      "100%|██████████| 19/19 [00:00<00:00, 380.87it/s]\n",
      "  0%|          | 0/74 [00:00<?, ?it/s]"
     ]
    },
    {
     "output_type": "stream",
     "name": "stdout",
     "text": [
      "\n",
      "Iteration 70/74 of epoch 85 complete. Loss : 0.2382793053984642 \n",
      "\n",
      "Epoch 85 complete! Validation Loss : 0.4995735036699395\n",
      "Epoch 85 complete! Validation Accuracy : 0.7670230263157896\n",
      "Best validation loss improved from 0.5000289490348414 to 0.4995735036699395\n",
      "\n",
      "\n",
      "Iteration 14/74 of epoch 86 complete. Loss : 0.2362782582640648 \n"
     ]
    },
    {
     "output_type": "stream",
     "name": "stderr",
     "text": [
      " 81%|████████  | 60/74 [00:00<00:00, 193.27it/s]"
     ]
    },
    {
     "output_type": "stream",
     "name": "stdout",
     "text": [
      "\n",
      "Iteration 28/74 of epoch 86 complete. Loss : 0.23860098953757966 \n",
      "\n",
      "Iteration 42/74 of epoch 86 complete. Loss : 0.23359799917255128 \n",
      "\n",
      "Iteration 56/74 of epoch 86 complete. Loss : 0.23816181825739996 \n"
     ]
    },
    {
     "output_type": "stream",
     "name": "stderr",
     "text": [
      "100%|██████████| 74/74 [00:00<00:00, 193.10it/s]\n",
      "100%|██████████| 19/19 [00:00<00:00, 372.03it/s]\n",
      "  0%|          | 0/74 [00:00<?, ?it/s]"
     ]
    },
    {
     "output_type": "stream",
     "name": "stdout",
     "text": [
      "\n",
      "Iteration 70/74 of epoch 86 complete. Loss : 0.2443129558648382 \n",
      "\n",
      "Epoch 86 complete! Validation Loss : 0.49986118705649124\n",
      "Epoch 86 complete! Validation Accuracy : 0.7672532894736842\n",
      "\n",
      "Iteration 14/74 of epoch 87 complete. Loss : 0.236831148820264 \n"
     ]
    },
    {
     "output_type": "stream",
     "name": "stderr",
     "text": [
      " 86%|████████▋ | 64/74 [00:00<00:00, 209.61it/s]"
     ]
    },
    {
     "output_type": "stream",
     "name": "stdout",
     "text": [
      "\n",
      "Iteration 28/74 of epoch 87 complete. Loss : 0.2380882129073143 \n",
      "\n",
      "Iteration 42/74 of epoch 87 complete. Loss : 0.23379199419702804 \n",
      "\n",
      "Iteration 56/74 of epoch 87 complete. Loss : 0.23777167818375997 \n"
     ]
    },
    {
     "output_type": "stream",
     "name": "stderr",
     "text": [
      "100%|██████████| 74/74 [00:00<00:00, 203.71it/s]\n",
      "100%|██████████| 19/19 [00:00<00:00, 280.67it/s]\n",
      "  0%|          | 0/74 [00:00<?, ?it/s]"
     ]
    },
    {
     "output_type": "stream",
     "name": "stdout",
     "text": [
      "\n",
      "Iteration 70/74 of epoch 87 complete. Loss : 0.23911605881793158 \n",
      "\n",
      "Epoch 87 complete! Validation Loss : 0.4965413416686811\n",
      "Epoch 87 complete! Validation Accuracy : 0.7707236842105264\n",
      "Best validation loss improved from 0.4995735036699395 to 0.4965413416686811\n",
      "\n"
     ]
    },
    {
     "output_type": "stream",
     "name": "stderr",
     "text": [
      " 51%|█████▏    | 38/74 [00:00<00:00, 187.94it/s]"
     ]
    },
    {
     "output_type": "stream",
     "name": "stdout",
     "text": [
      "\n",
      "Iteration 14/74 of epoch 88 complete. Loss : 0.23216164324964797 \n",
      "\n",
      "Iteration 28/74 of epoch 88 complete. Loss : 0.24135304880993708 \n",
      "\n",
      "Iteration 42/74 of epoch 88 complete. Loss : 0.23739351225750788 \n"
     ]
    },
    {
     "output_type": "stream",
     "name": "stderr",
     "text": [
      "100%|██████████| 74/74 [00:00<00:00, 187.85it/s]\n",
      "100%|██████████| 19/19 [00:00<00:00, 280.03it/s]"
     ]
    },
    {
     "output_type": "stream",
     "name": "stdout",
     "text": [
      "\n",
      "Iteration 56/74 of epoch 88 complete. Loss : 0.22821419686079025 \n",
      "\n",
      "Iteration 70/74 of epoch 88 complete. Loss : 0.24109863383429392 \n"
     ]
    },
    {
     "output_type": "stream",
     "name": "stderr",
     "text": [
      "\n",
      " 27%|██▋       | 20/74 [00:00<00:00, 191.21it/s]"
     ]
    },
    {
     "output_type": "stream",
     "name": "stdout",
     "text": [
      "\n",
      "Epoch 88 complete! Validation Loss : 0.4952640658930728\n",
      "Epoch 88 complete! Validation Accuracy : 0.7783552631578947\n",
      "Best validation loss improved from 0.4965413416686811 to 0.4952640658930728\n",
      "\n",
      "\n",
      "Iteration 14/74 of epoch 89 complete. Loss : 0.23640237535749162 \n",
      "\n",
      "Iteration 28/74 of epoch 89 complete. Loss : 0.23896621061222895 \n"
     ]
    },
    {
     "output_type": "stream",
     "name": "stderr",
     "text": [
      "100%|██████████| 74/74 [00:00<00:00, 187.25it/s]\n",
      "  0%|          | 0/19 [00:00<?, ?it/s]"
     ]
    },
    {
     "output_type": "stream",
     "name": "stdout",
     "text": [
      "\n",
      "Iteration 42/74 of epoch 89 complete. Loss : 0.2286960067493575 \n",
      "\n",
      "Iteration 56/74 of epoch 89 complete. Loss : 0.2345292099884578 \n",
      "\n",
      "Iteration 70/74 of epoch 89 complete. Loss : 0.2363640389272145 \n"
     ]
    },
    {
     "output_type": "stream",
     "name": "stderr",
     "text": [
      "100%|██████████| 19/19 [00:00<00:00, 279.63it/s]\n",
      " 27%|██▋       | 20/74 [00:00<00:00, 190.27it/s]"
     ]
    },
    {
     "output_type": "stream",
     "name": "stdout",
     "text": [
      "\n",
      "Epoch 89 complete! Validation Loss : 0.49408017961602463\n",
      "Epoch 89 complete! Validation Accuracy : 0.778766447368421\n",
      "Best validation loss improved from 0.4952640658930728 to 0.49408017961602463\n",
      "\n",
      "\n",
      "Iteration 14/74 of epoch 90 complete. Loss : 0.2365768360240119 \n",
      "\n",
      "Iteration 28/74 of epoch 90 complete. Loss : 0.23287929168769292 \n"
     ]
    },
    {
     "output_type": "stream",
     "name": "stderr",
     "text": [
      "100%|██████████| 74/74 [00:00<00:00, 187.96it/s]\n",
      "  0%|          | 0/19 [00:00<?, ?it/s]"
     ]
    },
    {
     "output_type": "stream",
     "name": "stdout",
     "text": [
      "\n",
      "Iteration 42/74 of epoch 90 complete. Loss : 0.2348717259509223 \n",
      "\n",
      "Iteration 56/74 of epoch 90 complete. Loss : 0.23609952947923116 \n",
      "\n",
      "Iteration 70/74 of epoch 90 complete. Loss : 0.23644275005374635 \n"
     ]
    },
    {
     "output_type": "stream",
     "name": "stderr",
     "text": [
      "100%|██████████| 19/19 [00:00<00:00, 280.41it/s]\n",
      " 26%|██▌       | 19/74 [00:00<00:00, 188.14it/s]"
     ]
    },
    {
     "output_type": "stream",
     "name": "stdout",
     "text": [
      "\n",
      "Epoch 90 complete! Validation Loss : 0.4927477820923454\n",
      "Epoch 90 complete! Validation Accuracy : 0.7779440789473684\n",
      "Best validation loss improved from 0.49408017961602463 to 0.4927477820923454\n",
      "\n",
      "\n",
      "Iteration 14/74 of epoch 91 complete. Loss : 0.23353219351598195 \n",
      "\n",
      "Iteration 28/74 of epoch 91 complete. Loss : 0.23185753715889795 \n"
     ]
    },
    {
     "output_type": "stream",
     "name": "stderr",
     "text": [
      "100%|██████████| 74/74 [00:00<00:00, 187.04it/s]\n",
      "  0%|          | 0/19 [00:00<?, ?it/s]"
     ]
    },
    {
     "output_type": "stream",
     "name": "stdout",
     "text": [
      "\n",
      "Iteration 42/74 of epoch 91 complete. Loss : 0.2429820586528097 \n",
      "\n",
      "Iteration 56/74 of epoch 91 complete. Loss : 0.23420687658446177 \n",
      "\n",
      "Iteration 70/74 of epoch 91 complete. Loss : 0.22871748570884978 \n"
     ]
    },
    {
     "output_type": "stream",
     "name": "stderr",
     "text": [
      "100%|██████████| 19/19 [00:00<00:00, 279.97it/s]\n",
      " 27%|██▋       | 20/74 [00:00<00:00, 189.01it/s]"
     ]
    },
    {
     "output_type": "stream",
     "name": "stdout",
     "text": [
      "\n",
      "Epoch 91 complete! Validation Loss : 0.4926632517262509\n",
      "Epoch 91 complete! Validation Accuracy : 0.7744243421052632\n",
      "Best validation loss improved from 0.4927477820923454 to 0.4926632517262509\n",
      "\n",
      "\n",
      "Iteration 14/74 of epoch 92 complete. Loss : 0.23465882667473384 \n",
      "\n",
      "Iteration 28/74 of epoch 92 complete. Loss : 0.2287223722253527 \n"
     ]
    },
    {
     "output_type": "stream",
     "name": "stderr",
     "text": [
      "100%|██████████| 74/74 [00:00<00:00, 188.23it/s]\n",
      "  0%|          | 0/19 [00:00<?, ?it/s]"
     ]
    },
    {
     "output_type": "stream",
     "name": "stdout",
     "text": [
      "\n",
      "Iteration 42/74 of epoch 92 complete. Loss : 0.23448441603354045 \n",
      "\n",
      "Iteration 56/74 of epoch 92 complete. Loss : 0.22801474375384195 \n",
      "\n",
      "Iteration 70/74 of epoch 92 complete. Loss : 0.2390037178993225 \n"
     ]
    },
    {
     "output_type": "stream",
     "name": "stderr",
     "text": [
      "100%|██████████| 19/19 [00:00<00:00, 283.64it/s]\n",
      " 27%|██▋       | 20/74 [00:00<00:00, 192.66it/s]"
     ]
    },
    {
     "output_type": "stream",
     "name": "stdout",
     "text": [
      "\n",
      "Epoch 92 complete! Validation Loss : 0.49086469568704305\n",
      "Epoch 92 complete! Validation Accuracy : 0.7808223684210527\n",
      "Best validation loss improved from 0.4926632517262509 to 0.49086469568704305\n",
      "\n",
      "\n",
      "Iteration 14/74 of epoch 93 complete. Loss : 0.24031638034752437 \n",
      "\n",
      "Iteration 28/74 of epoch 93 complete. Loss : 0.23505878342049463 \n"
     ]
    },
    {
     "output_type": "stream",
     "name": "stderr",
     "text": [
      "100%|██████████| 74/74 [00:00<00:00, 191.29it/s]\n",
      "  0%|          | 0/19 [00:00<?, ?it/s]"
     ]
    },
    {
     "output_type": "stream",
     "name": "stdout",
     "text": [
      "\n",
      "Iteration 42/74 of epoch 93 complete. Loss : 0.23038371545927866 \n",
      "\n",
      "Iteration 56/74 of epoch 93 complete. Loss : 0.22954758150236948 \n",
      "\n",
      "Iteration 70/74 of epoch 93 complete. Loss : 0.22885982053620474 \n"
     ]
    },
    {
     "output_type": "stream",
     "name": "stderr",
     "text": [
      "100%|██████████| 19/19 [00:00<00:00, 284.50it/s]\n",
      " 27%|██▋       | 20/74 [00:00<00:00, 189.61it/s]"
     ]
    },
    {
     "output_type": "stream",
     "name": "stdout",
     "text": [
      "\n",
      "Epoch 93 complete! Validation Loss : 0.4893782813298075\n",
      "Epoch 93 complete! Validation Accuracy : 0.7816447368421052\n",
      "Best validation loss improved from 0.49086469568704305 to 0.4893782813298075\n",
      "\n",
      "\n",
      "Iteration 14/74 of epoch 94 complete. Loss : 0.23345027331795012 \n",
      "\n",
      "Iteration 28/74 of epoch 94 complete. Loss : 0.23636643482106073 \n"
     ]
    },
    {
     "output_type": "stream",
     "name": "stderr",
     "text": [
      "100%|██████████| 74/74 [00:00<00:00, 189.81it/s]\n",
      "  0%|          | 0/19 [00:00<?, ?it/s]"
     ]
    },
    {
     "output_type": "stream",
     "name": "stdout",
     "text": [
      "\n",
      "Iteration 42/74 of epoch 94 complete. Loss : 0.22085654735565186 \n",
      "\n",
      "Iteration 56/74 of epoch 94 complete. Loss : 0.23362854655299867 \n",
      "\n",
      "Iteration 70/74 of epoch 94 complete. Loss : 0.23430848440953664 \n"
     ]
    },
    {
     "output_type": "stream",
     "name": "stderr",
     "text": [
      "100%|██████████| 19/19 [00:00<00:00, 285.06it/s]\n",
      " 27%|██▋       | 20/74 [00:00<00:00, 190.96it/s]"
     ]
    },
    {
     "output_type": "stream",
     "name": "stdout",
     "text": [
      "\n",
      "Epoch 94 complete! Validation Loss : 0.48808151326681437\n",
      "Epoch 94 complete! Validation Accuracy : 0.7775328947368422\n",
      "Best validation loss improved from 0.4893782813298075 to 0.48808151326681437\n",
      "\n",
      "\n",
      "Iteration 14/74 of epoch 95 complete. Loss : 0.23184820264577866 \n",
      "\n",
      "Iteration 28/74 of epoch 95 complete. Loss : 0.23360783074583327 \n"
     ]
    },
    {
     "output_type": "stream",
     "name": "stderr",
     "text": [
      "100%|██████████| 74/74 [00:00<00:00, 190.20it/s]\n",
      "  0%|          | 0/19 [00:00<?, ?it/s]"
     ]
    },
    {
     "output_type": "stream",
     "name": "stdout",
     "text": [
      "\n",
      "Iteration 42/74 of epoch 95 complete. Loss : 0.2329458658184324 \n",
      "\n",
      "Iteration 56/74 of epoch 95 complete. Loss : 0.22802467005593435 \n",
      "\n",
      "Iteration 70/74 of epoch 95 complete. Loss : 0.2305732603584017 \n"
     ]
    },
    {
     "output_type": "stream",
     "name": "stderr",
     "text": [
      "100%|██████████| 19/19 [00:00<00:00, 278.65it/s]\n",
      " 26%|██▌       | 19/74 [00:00<00:00, 188.40it/s]"
     ]
    },
    {
     "output_type": "stream",
     "name": "stdout",
     "text": [
      "\n",
      "Epoch 95 complete! Validation Loss : 0.4936897880152652\n",
      "Epoch 95 complete! Validation Accuracy : 0.7678947368421053\n",
      "\n",
      "Iteration 14/74 of epoch 96 complete. Loss : 0.22728599182197026 \n",
      "\n",
      "Iteration 28/74 of epoch 96 complete. Loss : 0.23198853113821574 \n"
     ]
    },
    {
     "output_type": "stream",
     "name": "stderr",
     "text": [
      "100%|██████████| 74/74 [00:00<00:00, 194.59it/s]\n",
      "  0%|          | 0/19 [00:00<?, ?it/s]"
     ]
    },
    {
     "output_type": "stream",
     "name": "stdout",
     "text": [
      "\n",
      "Iteration 42/74 of epoch 96 complete. Loss : 0.22909555903502873 \n",
      "\n",
      "Iteration 56/74 of epoch 96 complete. Loss : 0.23741892193044936 \n",
      "\n",
      "Iteration 70/74 of epoch 96 complete. Loss : 0.2300659492611885 \n"
     ]
    },
    {
     "output_type": "stream",
     "name": "stderr",
     "text": [
      "100%|██████████| 19/19 [00:00<00:00, 387.16it/s]\n",
      " 28%|██▊       | 21/74 [00:00<00:00, 202.94it/s]"
     ]
    },
    {
     "output_type": "stream",
     "name": "stdout",
     "text": [
      "\n",
      "Epoch 96 complete! Validation Loss : 0.4861294533077039\n",
      "Epoch 96 complete! Validation Accuracy : 0.78\n",
      "Best validation loss improved from 0.48808151326681437 to 0.4861294533077039\n",
      "\n",
      "\n",
      "Iteration 14/74 of epoch 97 complete. Loss : 0.23229291609355382 \n",
      "\n",
      "Iteration 28/74 of epoch 97 complete. Loss : 0.2326777588043894 \n"
     ]
    },
    {
     "output_type": "stream",
     "name": "stderr",
     "text": [
      "100%|██████████| 74/74 [00:00<00:00, 199.41it/s]\n",
      "  0%|          | 0/19 [00:00<?, ?it/s]"
     ]
    },
    {
     "output_type": "stream",
     "name": "stdout",
     "text": [
      "\n",
      "Iteration 42/74 of epoch 97 complete. Loss : 0.22735672444105148 \n",
      "\n",
      "Iteration 56/74 of epoch 97 complete. Loss : 0.22636404739958899 \n",
      "\n",
      "Iteration 70/74 of epoch 97 complete. Loss : 0.23448757507971354 \n"
     ]
    },
    {
     "output_type": "stream",
     "name": "stderr",
     "text": [
      "100%|██████████| 19/19 [00:00<00:00, 373.31it/s]\n",
      " 28%|██▊       | 21/74 [00:00<00:00, 205.94it/s]"
     ]
    },
    {
     "output_type": "stream",
     "name": "stdout",
     "text": [
      "\n",
      "Epoch 97 complete! Validation Loss : 0.48776203707644816\n",
      "Epoch 97 complete! Validation Accuracy : 0.7777631578947368\n",
      "\n",
      "Iteration 14/74 of epoch 98 complete. Loss : 0.23577444148915155 \n",
      "\n",
      "Iteration 28/74 of epoch 98 complete. Loss : 0.23734732185091292 \n"
     ]
    },
    {
     "output_type": "stream",
     "name": "stderr",
     "text": [
      "100%|██████████| 74/74 [00:00<00:00, 201.21it/s]\n",
      "  0%|          | 0/19 [00:00<?, ?it/s]"
     ]
    },
    {
     "output_type": "stream",
     "name": "stdout",
     "text": [
      "\n",
      "Iteration 42/74 of epoch 98 complete. Loss : 0.23155155032873154 \n",
      "\n",
      "Iteration 56/74 of epoch 98 complete. Loss : 0.22090274095535278 \n",
      "\n",
      "Iteration 70/74 of epoch 98 complete. Loss : 0.22491805255413055 \n"
     ]
    },
    {
     "output_type": "stream",
     "name": "stderr",
     "text": [
      "100%|██████████| 19/19 [00:00<00:00, 376.82it/s]\n",
      " 30%|██▉       | 22/74 [00:00<00:00, 211.68it/s]"
     ]
    },
    {
     "output_type": "stream",
     "name": "stdout",
     "text": [
      "\n",
      "Epoch 98 complete! Validation Loss : 0.48485541500543294\n",
      "Epoch 98 complete! Validation Accuracy : 0.7837006578947369\n",
      "Best validation loss improved from 0.4861294533077039 to 0.48485541500543294\n",
      "\n",
      "\n",
      "Iteration 14/74 of epoch 99 complete. Loss : 0.2272818759083748 \n",
      "\n",
      "Iteration 28/74 of epoch 99 complete. Loss : 0.22198493565831864 \n"
     ]
    },
    {
     "output_type": "stream",
     "name": "stderr",
     "text": [
      "100%|██████████| 74/74 [00:00<00:00, 207.53it/s]\n",
      "  0%|          | 0/19 [00:00<?, ?it/s]"
     ]
    },
    {
     "output_type": "stream",
     "name": "stdout",
     "text": [
      "\n",
      "Iteration 42/74 of epoch 99 complete. Loss : 0.234404162636825 \n",
      "\n",
      "Iteration 56/74 of epoch 99 complete. Loss : 0.22828397686992372 \n",
      "\n",
      "Iteration 70/74 of epoch 99 complete. Loss : 0.2251704984477588 \n"
     ]
    },
    {
     "output_type": "stream",
     "name": "stderr",
     "text": [
      "100%|██████████| 19/19 [00:00<00:00, 387.83it/s]\n",
      " 30%|██▉       | 22/74 [00:00<00:00, 210.26it/s]"
     ]
    },
    {
     "output_type": "stream",
     "name": "stdout",
     "text": [
      "\n",
      "Epoch 99 complete! Validation Loss : 0.48413008137753133\n",
      "Epoch 99 complete! Validation Accuracy : 0.781233552631579\n",
      "Best validation loss improved from 0.48485541500543294 to 0.48413008137753133\n",
      "\n",
      "\n",
      "Iteration 14/74 of epoch 100 complete. Loss : 0.22611932243619645 \n",
      "\n",
      "Iteration 28/74 of epoch 100 complete. Loss : 0.2289500438741275 \n"
     ]
    },
    {
     "output_type": "stream",
     "name": "stderr",
     "text": [
      "100%|██████████| 74/74 [00:00<00:00, 205.78it/s]\n",
      "  0%|          | 0/19 [00:00<?, ?it/s]"
     ]
    },
    {
     "output_type": "stream",
     "name": "stdout",
     "text": [
      "\n",
      "Iteration 42/74 of epoch 100 complete. Loss : 0.22788827121257782 \n",
      "\n",
      "Iteration 56/74 of epoch 100 complete. Loss : 0.2340263564671789 \n",
      "\n",
      "Iteration 70/74 of epoch 100 complete. Loss : 0.21963744929858617 \n"
     ]
    },
    {
     "output_type": "stream",
     "name": "stderr",
     "text": [
      "100%|██████████| 19/19 [00:00<00:00, 386.55it/s]"
     ]
    },
    {
     "output_type": "stream",
     "name": "stdout",
     "text": [
      "\n",
      "Epoch 100 complete! Validation Loss : 0.48343032598495483\n",
      "Epoch 100 complete! Validation Accuracy : 0.78\n",
      "Best validation loss improved from 0.48413008137753133 to 0.48343032598495483\n",
      "\n",
      "The model has been saved in saved_models/base_vbert_without_lr_3e-05_val_loss_0.48343_ep_100.pt\n"
     ]
    },
    {
     "output_type": "stream",
     "name": "stderr",
     "text": [
      "\n"
     ]
    }
   ],
   "metadata": {}
  },
  {
   "cell_type": "code",
   "execution_count": 21,
   "source": [
    "def evaluate(prediction_dataloader, model, path_to_model, load = False):\n",
    "\t# Prediction on test set\n",
    "\tif load:\n",
    "\t\tprint(\"Loading the weights of the model...\")\n",
    "\t\tmodel.load_state_dict(torch.load(path_to_model))\n",
    "\n",
    "\tprint('Evaluating on the testset')\n",
    "\n",
    "\t# Put model in evaluation mode\n",
    "\tmodel.eval()\n",
    "\n",
    "\t# Tracking variables \n",
    "\tpredictions , true_labels = [], []\n",
    "\n",
    "\t# Predict \n",
    "\tfor batch in prediction_dataloader:\n",
    "\t  # Add batch to GPU\n",
    "\t  batch = tuple(t.to(device) for t in batch)\n",
    "\t  \n",
    "\t  # Unpack the inputs from our dataloader\n",
    "\t  b_t_inputs, b_s_inputs, b_labels = batch\n",
    "\t  \n",
    "\t  # Telling the model not to compute or store gradients, saving memory and \n",
    "\t  # speeding up prediction\n",
    "\t  with torch.no_grad():\n",
    "\t      # Forward pass, calculate logit predictions\n",
    "\t      logits = model(b_t_inputs, b_s_inputs)\n",
    "\n",
    "\t  # Move logits and labels to CPU\n",
    "\t  logits = logits.detach().cpu().numpy()\n",
    "\t  label_ids = b_labels.to('cpu').numpy()\n",
    "\n",
    "\t  pred_flat = np.argmax(logits, axis=1).flatten()\n",
    "\t  labels_flat = label_ids.flatten()\n",
    "\t  \n",
    "\t  # Store predictions and true labels\n",
    "\t  predictions.extend(pred_flat)\n",
    "\t  true_labels.extend(labels_flat)\n",
    "\n",
    "\tprint('DONE.')\n",
    "\n",
    "\t# Code for result display\n",
    "\tprint('Baseline Multi-Modal Classification accuracy is')\n",
    "\tprint(metrics.accuracy_score(true_labels, predictions)*100)\n",
    "\tprint(classification_report(true_labels, predictions, target_names = ['fake', 'real']))\n",
    "\t# Converting to csv\n",
    "\t# Removed transpose - check if actually required\n",
    "\tclsf_report = pd.DataFrame(classification_report(y_true = true_labels, y_pred = predictions, output_dict=True, target_names = ['fake', 'real']))\n",
    "\tclsf_report.to_csv(str('saved_models/'+model_name+'.csv'), index= True)"
   ],
   "outputs": [],
   "metadata": {}
  },
  {
   "cell_type": "code",
   "execution_count": 22,
   "source": [
    "path_to_model = 'saved_models/class_contrast_visualbert_lr_3e-05_val_loss_0.35285_ep_100.pt'\n",
    "evaluate(test_dataloader, model, path_to_model = path_to_model, load = False)"
   ],
   "outputs": [
    {
     "output_type": "stream",
     "name": "stdout",
     "text": [
      "Evaluating on the testset\n",
      "DONE.\n",
      "Baseline Multi-Modal Classification accuracy is\n",
      "77.86745964316057\n",
      "              precision    recall  f1-score   support\n",
      "\n",
      "        fake       0.77      0.70      0.73      1031\n",
      "        real       0.78      0.84      0.81      1323\n",
      "\n",
      "    accuracy                           0.78      2354\n",
      "   macro avg       0.78      0.77      0.77      2354\n",
      "weighted avg       0.78      0.78      0.78      2354\n",
      "\n"
     ]
    }
   ],
   "metadata": {}
  }
 ],
 "metadata": {
  "orig_nbformat": 4,
  "language_info": {
   "name": "python",
   "version": "3.6.11",
   "mimetype": "text/x-python",
   "codemirror_mode": {
    "name": "ipython",
    "version": 3
   },
   "pygments_lexer": "ipython3",
   "nbconvert_exporter": "python",
   "file_extension": ".py"
  },
  "kernelspec": {
   "name": "python3",
   "display_name": "Python 3.6.11 64-bit ('newnisbert': conda)"
  },
  "interpreter": {
   "hash": "b4396559e1bf5c32d41ffba8c548c213f47855d2d4ac82024dddc5ba3ffea815"
  }
 },
 "nbformat": 4,
 "nbformat_minor": 2
}