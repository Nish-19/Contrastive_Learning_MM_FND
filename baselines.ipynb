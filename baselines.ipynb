{
 "cells": [
  {
   "cell_type": "code",
   "execution_count": 1,
   "metadata": {},
   "outputs": [],
   "source": [
    "import os\n",
    "gpu_number = \"0\" # Choose either 0 or 1\n",
    "os.environ['CUDA_ENVIRONMENT_DEVICES'] = gpu_number"
   ]
  },
  {
   "cell_type": "code",
   "execution_count": 2,
   "metadata": {},
   "outputs": [],
   "source": [
    "import os\n",
    "import sys\n",
    "import numpy as np\n",
    "from numpy import asarray,zeros\n",
    "import pandas as pd \n",
    "from sklearn.model_selection import train_test_split\n",
    "import torch\n",
    "from torch.utils.data import TensorDataset, DataLoader, RandomSampler, SequentialSampler, Dataset\n",
    "import torch.nn as nn\n",
    "import torch.nn.functional as F\n",
    "import torch.optim as optim\n",
    "from tqdm import tqdm\n",
    "import matplotlib.pyplot as plt\n",
    "import copy\n",
    "from sklearn.model_selection import train_test_split\n",
    "from sklearn import metrics\n",
    "from sklearn.metrics import classification_report\n",
    "import transformers\n",
    "from transformers import BertTokenizer\n",
    "from transformers import AdamW, get_linear_schedule_with_warmup\n",
    "from transformers import AutoTokenizer, AutoModel, AutoConfig, AdamW, get_linear_schedule_with_warmup\n",
    "from tensorflow.keras.preprocessing.text import Tokenizer\n",
    "from tensorflow.keras.preprocessing.sequence import pad_sequences\n",
    "import timm\n",
    "from losses import SupConLoss\n",
    "from torchlars import LARS"
   ]
  },
  {
   "cell_type": "code",
   "execution_count": 3,
   "metadata": {},
   "outputs": [
    {
     "name": "stdout",
     "output_type": "stream",
     "text": [
      "Using device cuda:0\n"
     ]
    }
   ],
   "source": [
    "if torch.cuda.is_available():\n",
    "    device_name = \"cuda:\" + gpu_number\n",
    "    device = torch.device(device_name)\n",
    "else:\n",
    "    device = torch.device(\"cpu\")\n",
    "# device = torch.device(\"cpu\") # Force CPU\n",
    "print(\"Using device\", device)"
   ]
  },
  {
   "cell_type": "markdown",
   "metadata": {},
   "source": [
    "# Loading Data"
   ]
  },
  {
   "cell_type": "code",
   "execution_count": 4,
   "metadata": {},
   "outputs": [],
   "source": [
    "demark_dict = {'Snp':{'start':0, 'end':1663},\n",
    "                'Rtr':{'start':1664, 'end':2630},\n",
    "                'Rcv':{'start':2631, 'end':4716},\n",
    "                'Tcn':{'start':4717, 'end':11765}}"
   ]
  },
  {
   "cell_type": "code",
   "execution_count": 5,
   "metadata": {},
   "outputs": [
    {
     "name": "stdout",
     "output_type": "stream",
     "text": [
      "Model name base_vbert_full\n",
      "Source shape (11766, 768)\n",
      "Target shape (11766, 768)\n",
      "Labels shape (11766,)\n"
     ]
    }
   ],
   "source": [
    "# Loading Choice\n",
    "base_model_name = 'vbert' # choice 'vbert' or 'rbert'\n",
    "dataset_split = 'full' # 'full' or 'faux' or 'ticnn' or 'recov'\n",
    "run_type = 'with' # with or without\n",
    "model_name = ''\n",
    "if base_model_name =='rbert':\n",
    "    source_multimodal_data_full = np.load(\"../data/source_multimodal_out.npy\")\n",
    "    target_multimodal_data_full = np.load(\"../data/target_multimodal_out.npy\")\n",
    "    labels_data_full = np.load(\"../data/labels.npy\").squeeze(1)\n",
    "    data_ids_full = np.load(\"../data/ids.npy\").squeeze(1)\n",
    "    model_name = 'base_rbert'\n",
    "elif base_model_name == 'vbert':\n",
    "    source_multimodal_data_full = np.load(\"../data/source_mm_vbert.npy\")\n",
    "    target_multimodal_data_full = np.load(\"../data/target_mm_vbert.npy\")\n",
    "    labels_data_full = np.load(\"../data/labels.npy\").squeeze(1)\n",
    "    data_ids_full = np.load(\"../data/ids.npy\").squeeze(1)\n",
    "    model_name = 'base_vbert'\n",
    "\n",
    "if dataset_split == 'full':\n",
    "    source_multimodal_data = source_multimodal_data_full\n",
    "    target_multimodal_data = target_multimodal_data_full\n",
    "    labels_data = labels_data_full\n",
    "    data_ids = data_ids_full\n",
    "    model_name = model_name + '_full'\n",
    "elif dataset_split == 'faux':\n",
    "    src_snoopes = source_multimodal_data_full[demark_dict['Snp']['start']:demark_dict['Snp']['end'],:]\n",
    "    tar_snoopes = target_multimodal_data_full[demark_dict['Snp']['start']:demark_dict['Snp']['end'],:]\n",
    "    lab_snoopes = labels_data_full[demark_dict['Snp']['start']:demark_dict['Snp']['end']]\n",
    "    src_rtr = source_multimodal_data_full[demark_dict['Rtr']['start']:demark_dict['Rtr']['end'],:]\n",
    "    tar_rtr = target_multimodal_data_full[demark_dict['Rtr']['start']:demark_dict['Rtr']['end'],:]\n",
    "    lab_tar = labels_data_full[demark_dict['Rtr']['start']:demark_dict['Rtr']['end']]\n",
    "    source_multimodal_data = np.concatenate((src_snoopes, src_rtr), axis=0)\n",
    "    target_multimodal_data = np.concatenate((tar_snoopes, tar_rtr), axis=0)\n",
    "    labels_data = np.concatenate((lab_snoopes, lab_tar), axis=0)\n",
    "    model_name = model_name + '_faux'\n",
    "elif dataset_split == 'recov':\n",
    "    source_multimodal_data = source_multimodal_data_full[demark_dict['Rcv']['start']:demark_dict['Rcv']['end'],:]\n",
    "    target_multimodal_data = target_multimodal_data_full[demark_dict['Rcv']['start']:demark_dict['Rcv']['end'],:]\n",
    "    labels_data = labels_data_full[demark_dict['Rcv']['start']:demark_dict['Rcv']['end']]\n",
    "    model_name = model_name + '_recov'\n",
    "elif dataset_split == 'ticnn':\n",
    "    source_multimodal_data = source_multimodal_data_full[demark_dict['Tcn']['start']:demark_dict['Tcn']['end'],:]\n",
    "    target_multimodal_data = target_multimodal_data_full[demark_dict['Tcn']['start']:demark_dict['Tcn']['end'],:]\n",
    "    labels_data = labels_data_full[demark_dict['Tcn']['start']:demark_dict['Tcn']['end']]\n",
    "    model_name = model_name + '_ticnn'\n",
    "\n",
    "#TODO: Printing the shape of the model\n",
    "print('Model name', model_name)\n",
    "print('Source shape', source_multimodal_data.shape)\n",
    "print('Target shape', target_multimodal_data.shape)\n",
    "print('Labels shape', labels_data.shape)\n",
    "# print('Data Ids shape', data_ids.shape)"
   ]
  },
  {
   "cell_type": "code",
   "execution_count": 6,
   "metadata": {},
   "outputs": [
    {
     "name": "stdout",
     "output_type": "stream",
     "text": [
      "tensor([0.5793, 0.4207], device='cuda:0')\n"
     ]
    }
   ],
   "source": [
    "#TODO: Get Class weights\n",
    "from collections import Counter \n",
    "weights = Counter(labels_data)\n",
    "fake_weight = weights[1]/(weights[0]+weights[1])\n",
    "real_weight = weights[0]/(weights[0]+weights[1])\n",
    "class_weights = torch.tensor([fake_weight, real_weight], device=device)\n",
    "print(class_weights)"
   ]
  },
  {
   "cell_type": "code",
   "execution_count": 7,
   "metadata": {},
   "outputs": [],
   "source": [
    "# # Resent+BERT\n",
    "# source_multimodal_rbert = np.load(\"../data/source_multimodal_out.npy\")\n",
    "# target_multimodal_rbert = np.load(\"../data/target_multimodal_out.npy\")\n",
    "# print(\"Source shape\", source_multimodal_rbert.shape) # Resent(512) + BERT (768)\n",
    "# print(\"Target shape\", target_multimodal_rbert.shape)"
   ]
  },
  {
   "cell_type": "code",
   "execution_count": 8,
   "metadata": {},
   "outputs": [],
   "source": [
    "# # NOTE: Import Visual BERT Multimodal data\n",
    "# target_multimodal_vbert = np.load(\"../data/target_mm_vbert.npy\")\n",
    "# source_multimodal_vbert = np.load(\"../data/source_mm_vbert.npy\")\n",
    "# print(\"Source shape\", source_multimodal_vbert.shape) # Visual BERT (768)\n",
    "# print(\"Target shape\", target_multimodal_vbert.shape)"
   ]
  },
  {
   "cell_type": "code",
   "execution_count": 9,
   "metadata": {},
   "outputs": [],
   "source": [
    "# # Labels \n",
    "# labels_data = np.load(\"../data/labels.npy\").squeeze(1)\n",
    "# print('Labels tensor shape', labels_data.shape)"
   ]
  },
  {
   "cell_type": "markdown",
   "metadata": {},
   "source": [
    "# Splitting the Data"
   ]
  },
  {
   "cell_type": "code",
   "execution_count": 10,
   "metadata": {},
   "outputs": [],
   "source": [
    "# # NOTE: RBERT\n",
    "# train_rbert_src, test_rbert_src, train_rbert_tar, test_rbert_tar, train_labels, test_labels = train_test_split(source_multimodal_rbert, target_multimodal_rbert, labels_data, test_size=0.2, random_state=43)"
   ]
  },
  {
   "cell_type": "code",
   "execution_count": 11,
   "metadata": {},
   "outputs": [],
   "source": [
    "# # NOTE: VBERT\n",
    "# train_vbert_src, test_vbert_src, train_vbert_tar, test_vbert_tar, train_labels, test_labels = train_test_split(source_multimodal_vbert, target_multimodal_vbert, labels_data, test_size=0.2, random_state=43)"
   ]
  },
  {
   "cell_type": "code",
   "execution_count": 12,
   "metadata": {},
   "outputs": [],
   "source": [
    "# NOTE: New Split\n",
    "train_src, test_src, train_tar, test_tar, train_labels, test_labels = train_test_split(source_multimodal_data, target_multimodal_data, labels_data, test_size=0.2, random_state=43)\n",
    "\n",
    "if dataset_split == 'full':\n",
    "    train_ids, test_ids = train_test_split(data_ids, test_size=0.2, random_state=43)"
   ]
  },
  {
   "cell_type": "markdown",
   "metadata": {},
   "source": [
    "# Modeling"
   ]
  },
  {
   "cell_type": "code",
   "execution_count": 13,
   "metadata": {},
   "outputs": [],
   "source": [
    "# TODO: Get dataloader\n",
    "def get_data_loader(batch_size, target_input, source_input, labels, split_type = 'train'):\n",
    "    target_input = torch.tensor(target_input, device=device)\n",
    "    source_input = torch.tensor(source_input, device=device)\n",
    "    labels = torch.tensor(labels, dtype=torch.long, device=device)\n",
    "    data = TensorDataset(target_input, source_input, labels)\n",
    "    if split_type == 'train':\n",
    "        sampler = RandomSampler(data)\n",
    "    elif split_type == 'val':\n",
    "        sampler = SequentialSampler(data)\n",
    "    dataloader = DataLoader(data, sampler=sampler, batch_size=batch_size)\n",
    "    return data, sampler, dataloader"
   ]
  },
  {
   "cell_type": "code",
   "execution_count": 14,
   "metadata": {},
   "outputs": [],
   "source": [
    "# # NOTE: For ResNet+BERT\n",
    "# batch_size = 128\n",
    "# train_data, train_sampler, train_dataloader = get_data_loader(batch_size, train_rbert_tar, train_rbert_src, train_labels, 'train')\n",
    "# test_data, test_sampler, test_dataloader = get_data_loader(batch_size, test_rbert_tar, test_rbert_src, test_labels, 'val')"
   ]
  },
  {
   "cell_type": "code",
   "execution_count": 15,
   "metadata": {},
   "outputs": [],
   "source": [
    "#NOTE: For Common Data\n",
    "batch_size = 128\n",
    "train_data, train_sampler, train_dataloader = get_data_loader(batch_size, train_tar, train_src, train_labels, 'train')\n",
    "test_data, test_sampler, test_dataloader = get_data_loader(batch_size, test_tar, test_src, test_labels, 'val')"
   ]
  },
  {
   "cell_type": "code",
   "execution_count": 16,
   "metadata": {},
   "outputs": [],
   "source": [
    "# NOTE: Without BackGround Knowledge\n",
    "class WithoutBackKnldg(nn.Module):\n",
    "    def __init__(self, initial_dim):\n",
    "        super(WithoutBackKnldg, self).__init__()\n",
    "        self.Linear_1 = nn.Linear(initial_dim, 512)\n",
    "        self.Linear_2 = nn.Linear(512, 2)\n",
    "        self.tanh1 = nn.Tanh()\n",
    "        self.tanh2 = nn.Tanh()\n",
    "    def forward(self, target_feature, source_features):\n",
    "        linear1 = self.tanh1(self.Linear_1(source_features))\n",
    "        logits = self.tanh2(self.Linear_2(linear1))\n",
    "        return logits"
   ]
  },
  {
   "cell_type": "code",
   "execution_count": 17,
   "metadata": {},
   "outputs": [],
   "source": [
    "# NOTE: Without BackGround Knowledge\n",
    "class WithBackKnldg(nn.Module):\n",
    "    def __init__(self, initial_dim):\n",
    "        super(WithBackKnldg, self).__init__()\n",
    "        self.Linear_1= nn.Linear(initial_dim, 512)\n",
    "        self.Linear_2 = nn.Linear(512*3, 512)\n",
    "        self.Linear_3 = nn.Linear(512*2, 512)\n",
    "        self.Linear_4 = nn.Linear(512, 2)\n",
    "        self.tanh1 = nn.Tanh()\n",
    "        self.tanh2 = nn.Tanh()\n",
    "        self.tanh3 = nn.Tanh()\n",
    "        self.tanh4 = nn.Tanh()\n",
    "    def forward(self, target_feature, source_feature):\n",
    "        fixed_target = self.Linear_1(target_feature)\n",
    "        fixed_source = self.Linear_1(source_feature)\n",
    "        add_op = fixed_target + fixed_source\n",
    "        sub_op = fixed_target - fixed_source\n",
    "        mul_op = fixed_target * fixed_source\n",
    "        combine_t_s = torch.cat((add_op, sub_op, mul_op), 1)\n",
    "        linear2 = self.tanh2(self.Linear_2(combine_t_s))\n",
    "        combine_c_t = torch.cat((fixed_target, linear2), 1)\n",
    "        linear3 = self.tanh3(self.Linear_3(combine_c_t))\n",
    "        logits = self.tanh4(self.Linear_4(linear3))\n",
    "        return logits"
   ]
  },
  {
   "cell_type": "code",
   "execution_count": 18,
   "metadata": {},
   "outputs": [],
   "source": [
    "# NOTE: Building Model\n",
    "# initial_dim = train_rbert_src.shape[1] # For ResNet+BERT\n",
    "initial_dim = train_src.shape[1] # For Visual BERT\n",
    "if run_type == 'without':\n",
    "    class_model = WithoutBackKnldg(initial_dim).to(device) # For Without Background Knowledge\n",
    "    model_name = model_name + '_without'\n",
    "elif run_type == 'with':\n",
    "    class_model = WithBackKnldg(initial_dim).to(device) # For With Background Knowledge\n",
    "    model_name = model_name + '_with'"
   ]
  },
  {
   "cell_type": "code",
   "execution_count": 19,
   "metadata": {},
   "outputs": [],
   "source": [
    "# Optimizer and scheduler\n",
    "def get_optimizer_scheduler(name, model, train_dataloader_len, epochs, lr_set):\n",
    "\tif name == \"Adam\":\n",
    "\t\toptimizer = AdamW(model.parameters(),\n",
    "                  lr = lr_set, # args.learning_rate - default is 5e-5, our notebook had 2e-5\n",
    "                  eps = 1e-8 # args.adam_epsilon  - default is 1e-8.\n",
    "\t\t)\n",
    "\telif name == \"LARS-SGD\":\n",
    "\t\tbase_optimizer = optim.SGD(model.parameters(), lr=lr_set, momentum=0.9)\n",
    "\t\toptimizer = LARS(optimizer=base_optimizer, eps=1e-8, trust_coef=0.001)\n",
    "\n",
    "\ttotal_steps = train_dataloader_len * epochs\n",
    "\n",
    "\t# Create the learning rate scheduler.\n",
    "\tscheduler = get_linear_schedule_with_warmup(optimizer, \n",
    "\t\t\t\t\t\t\t\t\t\t\t\tnum_warmup_steps = total_steps//2, # Default value in run_glue.py\n",
    "\t\t\t\t\t\t\t\t\t\t\t\tnum_training_steps = total_steps)\n",
    "\treturn optimizer, scheduler"
   ]
  },
  {
   "cell_type": "code",
   "execution_count": 20,
   "metadata": {},
   "outputs": [],
   "source": [
    "# Getting the optimizer and scheduler\n",
    "epochs = 100\n",
    "lr = 3e-5 # Less LR\n",
    "# lr = 0.5\n",
    "iters_to_accumulate = 2\n",
    "name = \"Adam\"\n",
    "# name = \"LARS-SGD\"\n",
    "if base_model_name == 'vbert' and dataset_split == 'recov':\n",
    "    criterion = nn.CrossEntropyLoss(class_weights)\n",
    "else:\n",
    "    criterion = nn.CrossEntropyLoss()\n",
    "optimizer, scheduler = get_optimizer_scheduler(name, class_model, len(train_dataloader), epochs, lr)"
   ]
  },
  {
   "cell_type": "code",
   "execution_count": 21,
   "metadata": {},
   "outputs": [],
   "source": [
    "################ Evaluating Loss ######################\n",
    "#######################################################\n",
    "def evaluate_loss(net, device, criterion, dataloader):\n",
    "    net.eval()\n",
    "    mean_loss = 0\n",
    "    count = 0\n",
    "    with torch.no_grad():\n",
    "        for it, (target_inputs, source_inputs, labels) in enumerate(tqdm(dataloader)):\n",
    "            target_inputs, source_inputs, labels = target_inputs.to(device), source_inputs.to(device), labels.to(device)\n",
    "            logits = net(target_inputs, source_inputs)\n",
    "            mean_loss += criterion(logits.squeeze(-1), labels).item() # initially it was logits.squeeze(-1)\n",
    "            count += 1\n",
    "    return mean_loss / count"
   ]
  },
  {
   "cell_type": "code",
   "execution_count": 22,
   "metadata": {},
   "outputs": [],
   "source": [
    "################ Flat Accuracy Calculation ####################\n",
    "###############################################################\n",
    "def flat_accuracy(preds, labels):\n",
    "    pred_flat = np.argmax(preds, axis=1).flatten()\n",
    "    labels_flat = labels.flatten()\n",
    "    return np.sum(pred_flat == labels_flat) / len(labels_flat)\n",
    "################ Validation Accuracy Calculation ####################\n",
    "###############################################################\n",
    "def evaluate_accuracy(model, device, validation_dataloader):\n",
    "\tmodel.eval()\n",
    "\t# Tracking variables \n",
    "\teval_loss, eval_accuracy = 0, 0\n",
    "\tnb_eval_steps, nb_eval_examples = 0, 0\n",
    "\t# Evaluate data for one epoch\n",
    "\tfor batch in validation_dataloader:\n",
    "\t    # Add batch to GPU\n",
    "\t    batch = tuple(t.to(device) for t in batch)\t    \n",
    "\t    # Unpack the inputs from our dataloader\n",
    "\t    b_t_inputs, b_s_inputs, b_labels = batch\t    \n",
    "\t    \n",
    "\t    # Telling the model not to compute or store gradients, saving memory and\n",
    "\t    # speeding up validation\n",
    "\t    with torch.no_grad(): \n",
    "\t    \t# Forward pass, calculate logit predictions.\n",
    "\t        # This will return the logits rather than the loss because we have\n",
    "\t        # not provided labels.\n",
    "\t    \tlogits = model(b_t_inputs, b_s_inputs)       \n",
    "\n",
    "\t    # Move logits and labels to CPU\n",
    "\t    logits = logits.detach().cpu().numpy()\n",
    "\t    label_ids = b_labels.to('cpu').numpy()\n",
    "\t    \n",
    "\t    # Calculate the accuracy for this batch of test sentences.\n",
    "\t    tmp_eval_accuracy = flat_accuracy(logits, label_ids)\n",
    "\t    \n",
    "\t    # Accumulate the total accuracy.\n",
    "\t    eval_accuracy += tmp_eval_accuracy\n",
    "\n",
    "\t    # Track the number of batches\n",
    "\t    nb_eval_steps += 1\n",
    "\taccuracy = eval_accuracy/nb_eval_steps\n",
    "\treturn accuracy"
   ]
  },
  {
   "cell_type": "code",
   "execution_count": 23,
   "metadata": {},
   "outputs": [],
   "source": [
    "def train_model(net, criterion, opti, lr, lr_scheduler, train_loader, val_loader, epochs, iters_to_accumulate):\n",
    "    best_loss = np.Inf\n",
    "    best_ep = 1\n",
    "    nb_iterations = len(train_loader)\n",
    "    print_every = nb_iterations // 5  # print the training loss 5 times per epoch\n",
    "    iters = []\n",
    "    train_losses = []\n",
    "    val_losses = []\n",
    "    # Iterating over all epochs\n",
    "    for ep in range(epochs):\n",
    "        net.train()\n",
    "        running_loss = 0.0\n",
    "        for it, (target_inputs, source_inputs, labels) in enumerate(tqdm(train_loader)):\n",
    "\n",
    "            # Converting to cuda tensors\n",
    "            target_inputs, source_inputs, labels = target_inputs.to(device), source_inputs.to(device), labels.to(device)\n",
    "    \t\t\n",
    "            # Obtaining the logits from the model\n",
    "            logits = net(target_inputs, source_inputs)\n",
    "            # print(logits.device)\n",
    "\n",
    "            # Computing loss\n",
    "            # print(logits.squeeze(-1).shape)\n",
    "            # print(labels.shape)\n",
    "            loss = criterion(logits.squeeze(-1), labels)\n",
    "            loss = loss / iters_to_accumulate  # Normalize the loss because it is averaged\n",
    "\n",
    "            # Backpropagating the gradients\n",
    "            # Calls backward()\n",
    "            loss.backward()\n",
    "\n",
    "            if (it + 1) % iters_to_accumulate == 0:\n",
    "                # Optimization step\n",
    "                # scaler.step() first unscales the gradients of the optimizer's assigned params.\n",
    "                # If these gradients do not contain infs or NaNs, opti.step() is then called,\n",
    "                # otherwise, opti.step() is skipped.\n",
    "                opti.step()\n",
    "                # Adjust the learning rate based on the number of iterations.\n",
    "                lr_scheduler.step()\n",
    "                # Clear gradients\n",
    "                net.zero_grad()\n",
    "\n",
    "\n",
    "            running_loss += loss.item()\n",
    "\n",
    "            if (it + 1) % print_every == 0:  # Print training loss information\n",
    "                print()\n",
    "                print(\"Iteration {}/{} of epoch {} complete. Loss : {} \"\n",
    "                      .format(it+1, nb_iterations, ep+1, running_loss / print_every))\n",
    "\n",
    "                running_loss = 0.0\n",
    "\n",
    "\n",
    "        val_loss = evaluate_loss(net, device, criterion, val_loader)  # Compute validation loss\n",
    "        val_accuracy = evaluate_accuracy(net, device, val_loader)\n",
    "        print()\n",
    "        print(\"Epoch {} complete! Validation Loss : {}\".format(ep+1, val_loss))\n",
    "        print(\"Epoch {} complete! Validation Accuracy : {}\".format(ep+1, val_accuracy))\n",
    "\n",
    "        if val_loss < best_loss:\n",
    "            print(\"Best validation loss improved from {} to {}\".format(best_loss, val_loss))\n",
    "            print()\n",
    "            net_copy = copy.deepcopy(net)  # save a copy of the model\n",
    "            best_loss = val_loss\n",
    "            best_ep = ep + 1\n",
    "\n",
    "    # Saving the model\n",
    "    path_to_model='saved_models/{}_lr_{}_val_loss_{}_ep_{}.pt'.format(model_name, lr, round(best_loss, 5), best_ep)\n",
    "    torch.save(net_copy.state_dict(), path_to_model)\n",
    "    net.load_state_dict(torch.load(path_to_model)) # Re-Loading the best model\n",
    "    print(\"The model has been saved in {}\".format(path_to_model))\n",
    "\n",
    "    del loss\n",
    "    torch.cuda.empty_cache()\n",
    "    return net, model_name"
   ]
  },
  {
   "cell_type": "code",
   "execution_count": 24,
   "metadata": {},
   "outputs": [
    {
     "name": "stderr",
     "output_type": "stream",
     "text": [
      " 54%|█████▍    | 40/74 [00:00<00:00, 194.10it/s]"
     ]
    },
    {
     "name": "stdout",
     "output_type": "stream",
     "text": [
      "\n",
      "Iteration 14/74 of epoch 1 complete. Loss : 0.35897815227508545 \n",
      "\n",
      "Iteration 28/74 of epoch 1 complete. Loss : 0.35694754336561474 \n",
      "\n",
      "Iteration 42/74 of epoch 1 complete. Loss : 0.3571773022413254 \n"
     ]
    },
    {
     "name": "stderr",
     "output_type": "stream",
     "text": [
      "100%|██████████| 74/74 [00:00<00:00, 200.79it/s]\n",
      "100%|██████████| 19/19 [00:00<00:00, 386.71it/s]\n",
      "  0%|          | 0/74 [00:00<?, ?it/s]"
     ]
    },
    {
     "name": "stdout",
     "output_type": "stream",
     "text": [
      "\n",
      "Iteration 56/74 of epoch 1 complete. Loss : 0.3574456934417997 \n",
      "\n",
      "Iteration 70/74 of epoch 1 complete. Loss : 0.3571548206465585 \n",
      "\n",
      "Epoch 1 complete! Validation Loss : 0.707665785362846\n",
      "Epoch 1 complete! Validation Accuracy : 0.43593750000000003\n",
      "Best validation loss improved from inf to 0.707665785362846\n",
      "\n"
     ]
    },
    {
     "name": "stderr",
     "output_type": "stream",
     "text": [
      " 57%|█████▋    | 42/74 [00:00<00:00, 207.37it/s]"
     ]
    },
    {
     "name": "stdout",
     "output_type": "stream",
     "text": [
      "\n",
      "Iteration 14/74 of epoch 2 complete. Loss : 0.3550216427871159 \n",
      "\n",
      "Iteration 28/74 of epoch 2 complete. Loss : 0.3544590856347765 \n",
      "\n",
      "Iteration 42/74 of epoch 2 complete. Loss : 0.3543261502470289 \n",
      "\n",
      "Iteration 56/74 of epoch 2 complete. Loss : 0.3511245314564024 \n"
     ]
    },
    {
     "name": "stderr",
     "output_type": "stream",
     "text": [
      "100%|██████████| 74/74 [00:00<00:00, 207.89it/s]\n",
      "100%|██████████| 19/19 [00:00<00:00, 353.27it/s]\n",
      "  0%|          | 0/74 [00:00<?, ?it/s]"
     ]
    },
    {
     "name": "stdout",
     "output_type": "stream",
     "text": [
      "\n",
      "Iteration 70/74 of epoch 2 complete. Loss : 0.3501732498407364 \n",
      "\n",
      "Epoch 2 complete! Validation Loss : 0.6980718248768857\n",
      "Epoch 2 complete! Validation Accuracy : 0.45723684210526316\n",
      "Best validation loss improved from 0.707665785362846 to 0.6980718248768857\n",
      "\n",
      "\n",
      "Iteration 14/74 of epoch 3 complete. Loss : 0.3492409331457956 \n"
     ]
    },
    {
     "name": "stderr",
     "output_type": "stream",
     "text": [
      " 89%|████████▉ | 66/74 [00:00<00:00, 208.92it/s]"
     ]
    },
    {
     "name": "stdout",
     "output_type": "stream",
     "text": [
      "\n",
      "Iteration 28/74 of epoch 3 complete. Loss : 0.34798726439476013 \n",
      "\n",
      "Iteration 42/74 of epoch 3 complete. Loss : 0.3463637147630964 \n",
      "\n",
      "Iteration 56/74 of epoch 3 complete. Loss : 0.3457388515983309 \n",
      "\n",
      "Iteration 70/74 of epoch 3 complete. Loss : 0.3461177008492606 \n"
     ]
    },
    {
     "name": "stderr",
     "output_type": "stream",
     "text": [
      "100%|██████████| 74/74 [00:00<00:00, 209.06it/s]\n",
      "100%|██████████| 19/19 [00:00<00:00, 378.61it/s]\n",
      " 28%|██▊       | 21/74 [00:00<00:00, 207.32it/s]"
     ]
    },
    {
     "name": "stdout",
     "output_type": "stream",
     "text": [
      "\n",
      "Epoch 3 complete! Validation Loss : 0.6900013936193365\n",
      "Epoch 3 complete! Validation Accuracy : 0.5449671052631578\n",
      "Best validation loss improved from 0.6980718248768857 to 0.6900013936193365\n",
      "\n",
      "\n",
      "Iteration 14/74 of epoch 4 complete. Loss : 0.3440862489598138 \n",
      "\n",
      "Iteration 28/74 of epoch 4 complete. Loss : 0.3429707480328424 \n"
     ]
    },
    {
     "name": "stderr",
     "output_type": "stream",
     "text": [
      "100%|██████████| 74/74 [00:00<00:00, 206.30it/s]\n",
      "  0%|          | 0/19 [00:00<?, ?it/s]"
     ]
    },
    {
     "name": "stdout",
     "output_type": "stream",
     "text": [
      "\n",
      "Iteration 42/74 of epoch 4 complete. Loss : 0.3426720074244908 \n",
      "\n",
      "Iteration 56/74 of epoch 4 complete. Loss : 0.34185360797813963 \n",
      "\n",
      "Iteration 70/74 of epoch 4 complete. Loss : 0.34206318855285645 \n"
     ]
    },
    {
     "name": "stderr",
     "output_type": "stream",
     "text": [
      "100%|██████████| 19/19 [00:00<00:00, 384.60it/s]\n",
      " 30%|██▉       | 22/74 [00:00<00:00, 209.87it/s]"
     ]
    },
    {
     "name": "stdout",
     "output_type": "stream",
     "text": [
      "\n",
      "Epoch 4 complete! Validation Loss : 0.6873646692225808\n",
      "Epoch 4 complete! Validation Accuracy : 0.5659868421052632\n",
      "Best validation loss improved from 0.6900013936193365 to 0.6873646692225808\n",
      "\n",
      "\n",
      "Iteration 14/74 of epoch 5 complete. Loss : 0.3429566706929888 \n",
      "\n",
      "Iteration 28/74 of epoch 5 complete. Loss : 0.3400490539414542 \n"
     ]
    },
    {
     "name": "stderr",
     "output_type": "stream",
     "text": [
      "100%|██████████| 74/74 [00:00<00:00, 205.18it/s]\n",
      "  0%|          | 0/19 [00:00<?, ?it/s]"
     ]
    },
    {
     "name": "stdout",
     "output_type": "stream",
     "text": [
      "\n",
      "Iteration 42/74 of epoch 5 complete. Loss : 0.3430146723985672 \n",
      "\n",
      "Iteration 56/74 of epoch 5 complete. Loss : 0.34030074945517946 \n",
      "\n",
      "Iteration 70/74 of epoch 5 complete. Loss : 0.3406741235937391 \n"
     ]
    },
    {
     "name": "stderr",
     "output_type": "stream",
     "text": [
      "100%|██████████| 19/19 [00:00<00:00, 387.58it/s]\n",
      " 30%|██▉       | 22/74 [00:00<00:00, 212.68it/s]"
     ]
    },
    {
     "name": "stdout",
     "output_type": "stream",
     "text": [
      "\n",
      "Epoch 5 complete! Validation Loss : 0.6873849410759775\n",
      "Epoch 5 complete! Validation Accuracy : 0.5659868421052632\n",
      "\n",
      "Iteration 14/74 of epoch 6 complete. Loss : 0.34246478974819183 \n",
      "\n",
      "Iteration 28/74 of epoch 6 complete. Loss : 0.34165939688682556 \n",
      "\n",
      "Iteration 42/74 of epoch 6 complete. Loss : 0.34072841916765484 \n"
     ]
    },
    {
     "name": "stderr",
     "output_type": "stream",
     "text": [
      "100%|██████████| 74/74 [00:00<00:00, 210.67it/s]\n",
      "100%|██████████| 19/19 [00:00<00:00, 385.32it/s]\n",
      "  0%|          | 0/74 [00:00<?, ?it/s]"
     ]
    },
    {
     "name": "stdout",
     "output_type": "stream",
     "text": [
      "\n",
      "Iteration 56/74 of epoch 6 complete. Loss : 0.34166252825941357 \n",
      "\n",
      "Iteration 70/74 of epoch 6 complete. Loss : 0.33994936091559275 \n",
      "\n",
      "Epoch 6 complete! Validation Loss : 0.6871449947357178\n",
      "Epoch 6 complete! Validation Accuracy : 0.5655756578947368\n",
      "Best validation loss improved from 0.6873646692225808 to 0.6871449947357178\n",
      "\n"
     ]
    },
    {
     "name": "stderr",
     "output_type": "stream",
     "text": [
      " 57%|█████▋    | 42/74 [00:00<00:00, 205.72it/s]"
     ]
    },
    {
     "name": "stdout",
     "output_type": "stream",
     "text": [
      "\n",
      "Iteration 14/74 of epoch 7 complete. Loss : 0.3380109965801239 \n",
      "\n",
      "Iteration 28/74 of epoch 7 complete. Loss : 0.34474778388227734 \n",
      "\n",
      "Iteration 42/74 of epoch 7 complete. Loss : 0.34250324751649586 \n"
     ]
    },
    {
     "name": "stderr",
     "output_type": "stream",
     "text": [
      "100%|██████████| 74/74 [00:00<00:00, 203.88it/s]\n",
      "100%|██████████| 19/19 [00:00<00:00, 379.30it/s]\n",
      "  0%|          | 0/74 [00:00<?, ?it/s]"
     ]
    },
    {
     "name": "stdout",
     "output_type": "stream",
     "text": [
      "\n",
      "Iteration 56/74 of epoch 7 complete. Loss : 0.3416931224720819 \n",
      "\n",
      "Iteration 70/74 of epoch 7 complete. Loss : 0.3399408736399242 \n",
      "\n",
      "Epoch 7 complete! Validation Loss : 0.6864315616457086\n",
      "Epoch 7 complete! Validation Accuracy : 0.5659868421052632\n",
      "Best validation loss improved from 0.6871449947357178 to 0.6864315616457086\n",
      "\n"
     ]
    },
    {
     "name": "stderr",
     "output_type": "stream",
     "text": [
      " 58%|█████▊    | 43/74 [00:00<00:00, 209.89it/s]"
     ]
    },
    {
     "name": "stdout",
     "output_type": "stream",
     "text": [
      "\n",
      "Iteration 14/74 of epoch 8 complete. Loss : 0.3422336620943887 \n",
      "\n",
      "Iteration 28/74 of epoch 8 complete. Loss : 0.3393632194825581 \n",
      "\n",
      "Iteration 42/74 of epoch 8 complete. Loss : 0.3396129735878536 \n",
      "\n",
      "Iteration 56/74 of epoch 8 complete. Loss : 0.34045769912855967 \n"
     ]
    },
    {
     "name": "stderr",
     "output_type": "stream",
     "text": [
      "100%|██████████| 74/74 [00:00<00:00, 209.77it/s]\n",
      "100%|██████████| 19/19 [00:00<00:00, 389.45it/s]\n",
      "  0%|          | 0/74 [00:00<?, ?it/s]"
     ]
    },
    {
     "name": "stdout",
     "output_type": "stream",
     "text": [
      "\n",
      "Iteration 70/74 of epoch 8 complete. Loss : 0.340601133448737 \n",
      "\n",
      "Epoch 8 complete! Validation Loss : 0.6859228924701088\n",
      "Epoch 8 complete! Validation Accuracy : 0.5655756578947368\n",
      "Best validation loss improved from 0.6864315616457086 to 0.6859228924701088\n",
      "\n",
      "\n",
      "Iteration 14/74 of epoch 9 complete. Loss : 0.3416749898876463 \n"
     ]
    },
    {
     "name": "stderr",
     "output_type": "stream",
     "text": [
      " 89%|████████▉ | 66/74 [00:00<00:00, 218.40it/s]"
     ]
    },
    {
     "name": "stdout",
     "output_type": "stream",
     "text": [
      "\n",
      "Iteration 28/74 of epoch 9 complete. Loss : 0.3387275870357241 \n",
      "\n",
      "Iteration 42/74 of epoch 9 complete. Loss : 0.33947608513491495 \n",
      "\n",
      "Iteration 56/74 of epoch 9 complete. Loss : 0.3403489206518446 \n",
      "\n",
      "Iteration 70/74 of epoch 9 complete. Loss : 0.33876280912331175 \n"
     ]
    },
    {
     "name": "stderr",
     "output_type": "stream",
     "text": [
      "100%|██████████| 74/74 [00:00<00:00, 217.37it/s]\n",
      "100%|██████████| 19/19 [00:00<00:00, 394.61it/s]\n",
      " 31%|███       | 23/74 [00:00<00:00, 225.24it/s]"
     ]
    },
    {
     "name": "stdout",
     "output_type": "stream",
     "text": [
      "\n",
      "Epoch 9 complete! Validation Loss : 0.6849465276065626\n",
      "Epoch 9 complete! Validation Accuracy : 0.5655756578947368\n",
      "Best validation loss improved from 0.6859228924701088 to 0.6849465276065626\n",
      "\n",
      "\n",
      "Iteration 14/74 of epoch 10 complete. Loss : 0.3433890534298761 \n",
      "\n",
      "Iteration 28/74 of epoch 10 complete. Loss : 0.33909005778176443 \n",
      "\n",
      "Iteration 42/74 of epoch 10 complete. Loss : 0.3395370968750545 \n"
     ]
    },
    {
     "name": "stderr",
     "output_type": "stream",
     "text": [
      "100%|██████████| 74/74 [00:00<00:00, 215.97it/s]\n",
      "100%|██████████| 19/19 [00:00<00:00, 385.17it/s]\n",
      "  0%|          | 0/74 [00:00<?, ?it/s]"
     ]
    },
    {
     "name": "stdout",
     "output_type": "stream",
     "text": [
      "\n",
      "Iteration 56/74 of epoch 10 complete. Loss : 0.3381360577685492 \n",
      "\n",
      "Iteration 70/74 of epoch 10 complete. Loss : 0.337760078055518 \n",
      "\n",
      "Epoch 10 complete! Validation Loss : 0.6843213407616866\n",
      "Epoch 10 complete! Validation Accuracy : 0.5655756578947368\n",
      "Best validation loss improved from 0.6849465276065626 to 0.6843213407616866\n",
      "\n"
     ]
    },
    {
     "name": "stderr",
     "output_type": "stream",
     "text": [
      " 54%|█████▍    | 40/74 [00:00<00:00, 202.29it/s]"
     ]
    },
    {
     "name": "stdout",
     "output_type": "stream",
     "text": [
      "\n",
      "Iteration 14/74 of epoch 11 complete. Loss : 0.3418436476162502 \n",
      "\n",
      "Iteration 28/74 of epoch 11 complete. Loss : 0.3376548652138029 \n",
      "\n",
      "Iteration 42/74 of epoch 11 complete. Loss : 0.3369003300155912 \n"
     ]
    },
    {
     "name": "stderr",
     "output_type": "stream",
     "text": [
      "100%|██████████| 74/74 [00:00<00:00, 196.35it/s]\n",
      "100%|██████████| 19/19 [00:00<00:00, 283.53it/s]"
     ]
    },
    {
     "name": "stdout",
     "output_type": "stream",
     "text": [
      "\n",
      "Iteration 56/74 of epoch 11 complete. Loss : 0.33988179692200254 \n",
      "\n",
      "Iteration 70/74 of epoch 11 complete. Loss : 0.33787302459989277 \n"
     ]
    },
    {
     "name": "stderr",
     "output_type": "stream",
     "text": [
      "\n",
      " 23%|██▎       | 17/74 [00:00<00:00, 166.35it/s]"
     ]
    },
    {
     "name": "stdout",
     "output_type": "stream",
     "text": [
      "\n",
      "Epoch 11 complete! Validation Loss : 0.6829766254676016\n",
      "Epoch 11 complete! Validation Accuracy : 0.5655756578947368\n",
      "Best validation loss improved from 0.6843213407616866 to 0.6829766254676016\n",
      "\n",
      "\n",
      "Iteration 14/74 of epoch 12 complete. Loss : 0.340924220425742 \n",
      "\n",
      "Iteration 28/74 of epoch 12 complete. Loss : 0.33656855140413555 \n"
     ]
    },
    {
     "name": "stderr",
     "output_type": "stream",
     "text": [
      "100%|██████████| 74/74 [00:00<00:00, 165.19it/s]\n",
      "  0%|          | 0/19 [00:00<?, ?it/s]"
     ]
    },
    {
     "name": "stdout",
     "output_type": "stream",
     "text": [
      "\n",
      "Iteration 42/74 of epoch 12 complete. Loss : 0.33766876799719675 \n",
      "\n",
      "Iteration 56/74 of epoch 12 complete. Loss : 0.3375926507370813 \n",
      "\n",
      "Iteration 70/74 of epoch 12 complete. Loss : 0.3403099945613316 \n"
     ]
    },
    {
     "name": "stderr",
     "output_type": "stream",
     "text": [
      "100%|██████████| 19/19 [00:00<00:00, 284.88it/s]\n",
      " 23%|██▎       | 17/74 [00:00<00:00, 169.98it/s]"
     ]
    },
    {
     "name": "stdout",
     "output_type": "stream",
     "text": [
      "\n",
      "Epoch 12 complete! Validation Loss : 0.6814623820154291\n",
      "Epoch 12 complete! Validation Accuracy : 0.5655756578947368\n",
      "Best validation loss improved from 0.6829766254676016 to 0.6814623820154291\n",
      "\n",
      "\n",
      "Iteration 14/74 of epoch 13 complete. Loss : 0.3393228415931974 \n",
      "\n",
      "Iteration 28/74 of epoch 13 complete. Loss : 0.34063643642834257 \n"
     ]
    },
    {
     "name": "stderr",
     "output_type": "stream",
     "text": [
      "100%|██████████| 74/74 [00:00<00:00, 165.71it/s]\n",
      "  0%|          | 0/19 [00:00<?, ?it/s]"
     ]
    },
    {
     "name": "stdout",
     "output_type": "stream",
     "text": [
      "\n",
      "Iteration 42/74 of epoch 13 complete. Loss : 0.3376368539673941 \n",
      "\n",
      "Iteration 56/74 of epoch 13 complete. Loss : 0.3361579030752182 \n",
      "\n",
      "Iteration 70/74 of epoch 13 complete. Loss : 0.33660042924540384 \n"
     ]
    },
    {
     "name": "stderr",
     "output_type": "stream",
     "text": [
      "100%|██████████| 19/19 [00:00<00:00, 279.57it/s]\n",
      " 23%|██▎       | 17/74 [00:00<00:00, 169.01it/s]"
     ]
    },
    {
     "name": "stdout",
     "output_type": "stream",
     "text": [
      "\n",
      "Epoch 13 complete! Validation Loss : 0.6802660101338437\n",
      "Epoch 13 complete! Validation Accuracy : 0.5655756578947368\n",
      "Best validation loss improved from 0.6814623820154291 to 0.6802660101338437\n",
      "\n",
      "\n",
      "Iteration 14/74 of epoch 14 complete. Loss : 0.34013175325734274 \n",
      "\n",
      "Iteration 28/74 of epoch 14 complete. Loss : 0.33832680540425436 \n"
     ]
    },
    {
     "name": "stderr",
     "output_type": "stream",
     "text": [
      "100%|██████████| 74/74 [00:00<00:00, 166.63it/s]\n",
      "  0%|          | 0/19 [00:00<?, ?it/s]"
     ]
    },
    {
     "name": "stdout",
     "output_type": "stream",
     "text": [
      "\n",
      "Iteration 42/74 of epoch 14 complete. Loss : 0.3367935908692224 \n",
      "\n",
      "Iteration 56/74 of epoch 14 complete. Loss : 0.3329156445605414 \n",
      "\n",
      "Iteration 70/74 of epoch 14 complete. Loss : 0.3371760866471699 \n"
     ]
    },
    {
     "name": "stderr",
     "output_type": "stream",
     "text": [
      "100%|██████████| 19/19 [00:00<00:00, 281.11it/s]\n",
      " 24%|██▍       | 18/74 [00:00<00:00, 171.54it/s]"
     ]
    },
    {
     "name": "stdout",
     "output_type": "stream",
     "text": [
      "\n",
      "Epoch 14 complete! Validation Loss : 0.679623355990962\n",
      "Epoch 14 complete! Validation Accuracy : 0.5655756578947368\n",
      "Best validation loss improved from 0.6802660101338437 to 0.679623355990962\n",
      "\n",
      "\n",
      "Iteration 14/74 of epoch 15 complete. Loss : 0.33391513781888144 \n",
      "\n",
      "Iteration 28/74 of epoch 15 complete. Loss : 0.3396152470793043 \n"
     ]
    },
    {
     "name": "stderr",
     "output_type": "stream",
     "text": [
      "100%|██████████| 74/74 [00:00<00:00, 194.49it/s]\n",
      "  0%|          | 0/19 [00:00<?, ?it/s]"
     ]
    },
    {
     "name": "stdout",
     "output_type": "stream",
     "text": [
      "\n",
      "Iteration 42/74 of epoch 15 complete. Loss : 0.33281177495207104 \n",
      "\n",
      "Iteration 56/74 of epoch 15 complete. Loss : 0.33478162969861713 \n",
      "\n",
      "Iteration 70/74 of epoch 15 complete. Loss : 0.3399098515510559 \n"
     ]
    },
    {
     "name": "stderr",
     "output_type": "stream",
     "text": [
      "100%|██████████| 19/19 [00:00<00:00, 385.38it/s]\n",
      " 30%|██▉       | 22/74 [00:00<00:00, 212.23it/s]"
     ]
    },
    {
     "name": "stdout",
     "output_type": "stream",
     "text": [
      "\n",
      "Epoch 15 complete! Validation Loss : 0.6765395214683131\n",
      "Epoch 15 complete! Validation Accuracy : 0.5655756578947368\n",
      "Best validation loss improved from 0.679623355990962 to 0.6765395214683131\n",
      "\n",
      "\n",
      "Iteration 14/74 of epoch 16 complete. Loss : 0.33795398260865894 \n",
      "\n",
      "Iteration 28/74 of epoch 16 complete. Loss : 0.33275378601891653 \n"
     ]
    },
    {
     "name": "stderr",
     "output_type": "stream",
     "text": [
      "100%|██████████| 74/74 [00:00<00:00, 211.18it/s]\n",
      "  0%|          | 0/19 [00:00<?, ?it/s]"
     ]
    },
    {
     "name": "stdout",
     "output_type": "stream",
     "text": [
      "\n",
      "Iteration 42/74 of epoch 16 complete. Loss : 0.3341986643416541 \n",
      "\n",
      "Iteration 56/74 of epoch 16 complete. Loss : 0.3352584498269217 \n",
      "\n",
      "Iteration 70/74 of epoch 16 complete. Loss : 0.33628266411168234 \n"
     ]
    },
    {
     "name": "stderr",
     "output_type": "stream",
     "text": [
      "100%|██████████| 19/19 [00:00<00:00, 385.39it/s]\n",
      " 30%|██▉       | 22/74 [00:00<00:00, 214.96it/s]"
     ]
    },
    {
     "name": "stdout",
     "output_type": "stream",
     "text": [
      "\n",
      "Epoch 16 complete! Validation Loss : 0.675043871528224\n",
      "Epoch 16 complete! Validation Accuracy : 0.5655756578947368\n",
      "Best validation loss improved from 0.6765395214683131 to 0.675043871528224\n",
      "\n",
      "\n",
      "Iteration 14/74 of epoch 17 complete. Loss : 0.333240596311433 \n",
      "\n",
      "Iteration 28/74 of epoch 17 complete. Loss : 0.33476381855351584 \n",
      "\n",
      "Iteration 42/74 of epoch 17 complete. Loss : 0.3324701211282185 \n"
     ]
    },
    {
     "name": "stderr",
     "output_type": "stream",
     "text": [
      "100%|██████████| 74/74 [00:00<00:00, 211.33it/s]\n",
      "100%|██████████| 19/19 [00:00<00:00, 388.02it/s]\n",
      "  0%|          | 0/74 [00:00<?, ?it/s]"
     ]
    },
    {
     "name": "stdout",
     "output_type": "stream",
     "text": [
      "\n",
      "Iteration 56/74 of epoch 17 complete. Loss : 0.3361735705818449 \n",
      "\n",
      "Iteration 70/74 of epoch 17 complete. Loss : 0.3340727814606258 \n",
      "\n",
      "Epoch 17 complete! Validation Loss : 0.6728157056005377\n",
      "Epoch 17 complete! Validation Accuracy : 0.5668092105263158\n",
      "Best validation loss improved from 0.675043871528224 to 0.6728157056005377\n",
      "\n"
     ]
    },
    {
     "name": "stderr",
     "output_type": "stream",
     "text": [
      " 59%|█████▉    | 44/74 [00:00<00:00, 217.14it/s]"
     ]
    },
    {
     "name": "stdout",
     "output_type": "stream",
     "text": [
      "\n",
      "Iteration 14/74 of epoch 18 complete. Loss : 0.33332834924970356 \n",
      "\n",
      "Iteration 28/74 of epoch 18 complete. Loss : 0.3343716391495296 \n",
      "\n",
      "Iteration 42/74 of epoch 18 complete. Loss : 0.3352312871388027 \n",
      "\n",
      "Iteration 56/74 of epoch 18 complete. Loss : 0.3314683437347412 \n"
     ]
    },
    {
     "name": "stderr",
     "output_type": "stream",
     "text": [
      "100%|██████████| 74/74 [00:00<00:00, 212.81it/s]\n",
      "100%|██████████| 19/19 [00:00<00:00, 395.61it/s]\n",
      "  0%|          | 0/74 [00:00<?, ?it/s]"
     ]
    },
    {
     "name": "stdout",
     "output_type": "stream",
     "text": [
      "\n",
      "Iteration 70/74 of epoch 18 complete. Loss : 0.3328423478773662 \n",
      "\n",
      "Epoch 18 complete! Validation Loss : 0.6711456461956626\n",
      "Epoch 18 complete! Validation Accuracy : 0.5668092105263158\n",
      "Best validation loss improved from 0.6728157056005377 to 0.6711456461956626\n",
      "\n",
      "\n",
      "Iteration 14/74 of epoch 19 complete. Loss : 0.33033458037035807 \n"
     ]
    },
    {
     "name": "stderr",
     "output_type": "stream",
     "text": [
      " 89%|████████▉ | 66/74 [00:00<00:00, 213.15it/s]"
     ]
    },
    {
     "name": "stdout",
     "output_type": "stream",
     "text": [
      "\n",
      "Iteration 28/74 of epoch 19 complete. Loss : 0.33442379959992 \n",
      "\n",
      "Iteration 42/74 of epoch 19 complete. Loss : 0.336364854659353 \n",
      "\n",
      "Iteration 56/74 of epoch 19 complete. Loss : 0.3320514048848833 \n",
      "\n",
      "Iteration 70/74 of epoch 19 complete. Loss : 0.3288141169718334 \n"
     ]
    },
    {
     "name": "stderr",
     "output_type": "stream",
     "text": [
      "100%|██████████| 74/74 [00:00<00:00, 211.71it/s]\n",
      "100%|██████████| 19/19 [00:00<00:00, 385.19it/s]\n",
      " 30%|██▉       | 22/74 [00:00<00:00, 204.45it/s]"
     ]
    },
    {
     "name": "stdout",
     "output_type": "stream",
     "text": [
      "\n",
      "Epoch 19 complete! Validation Loss : 0.66909427705564\n",
      "Epoch 19 complete! Validation Accuracy : 0.5672203947368422\n",
      "Best validation loss improved from 0.6711456461956626 to 0.66909427705564\n",
      "\n",
      "\n",
      "Iteration 14/74 of epoch 20 complete. Loss : 0.3310179923261915 \n",
      "\n",
      "Iteration 28/74 of epoch 20 complete. Loss : 0.3297449286494936 \n"
     ]
    },
    {
     "name": "stderr",
     "output_type": "stream",
     "text": [
      "100%|██████████| 74/74 [00:00<00:00, 205.38it/s]\n",
      "  0%|          | 0/19 [00:00<?, ?it/s]"
     ]
    },
    {
     "name": "stdout",
     "output_type": "stream",
     "text": [
      "\n",
      "Iteration 42/74 of epoch 20 complete. Loss : 0.32869051822594236 \n",
      "\n",
      "Iteration 56/74 of epoch 20 complete. Loss : 0.33381021448544096 \n",
      "\n",
      "Iteration 70/74 of epoch 20 complete. Loss : 0.3328632797513689 \n"
     ]
    },
    {
     "name": "stderr",
     "output_type": "stream",
     "text": [
      "100%|██████████| 19/19 [00:00<00:00, 380.13it/s]\n",
      " 30%|██▉       | 22/74 [00:00<00:00, 215.60it/s]"
     ]
    },
    {
     "name": "stdout",
     "output_type": "stream",
     "text": [
      "\n",
      "Epoch 20 complete! Validation Loss : 0.6659656386626395\n",
      "Epoch 20 complete! Validation Accuracy : 0.5783223684210527\n",
      "Best validation loss improved from 0.66909427705564 to 0.6659656386626395\n",
      "\n",
      "\n",
      "Iteration 14/74 of epoch 21 complete. Loss : 0.32496968124594006 \n",
      "\n",
      "Iteration 28/74 of epoch 21 complete. Loss : 0.33624950689928873 \n"
     ]
    },
    {
     "name": "stderr",
     "output_type": "stream",
     "text": [
      "100%|██████████| 74/74 [00:00<00:00, 209.48it/s]\n",
      "  0%|          | 0/19 [00:00<?, ?it/s]"
     ]
    },
    {
     "name": "stdout",
     "output_type": "stream",
     "text": [
      "\n",
      "Iteration 42/74 of epoch 21 complete. Loss : 0.33014586780752453 \n",
      "\n",
      "Iteration 56/74 of epoch 21 complete. Loss : 0.3292163163423538 \n",
      "\n",
      "Iteration 70/74 of epoch 21 complete. Loss : 0.33236992359161377 \n"
     ]
    },
    {
     "name": "stderr",
     "output_type": "stream",
     "text": [
      "100%|██████████| 19/19 [00:00<00:00, 378.80it/s]\n",
      " 30%|██▉       | 22/74 [00:00<00:00, 215.89it/s]"
     ]
    },
    {
     "name": "stdout",
     "output_type": "stream",
     "text": [
      "\n",
      "Epoch 21 complete! Validation Loss : 0.663752766031968\n",
      "Epoch 21 complete! Validation Accuracy : 0.5775\n",
      "Best validation loss improved from 0.6659656386626395 to 0.663752766031968\n",
      "\n",
      "\n",
      "Iteration 14/74 of epoch 22 complete. Loss : 0.3305232971906662 \n",
      "\n",
      "Iteration 28/74 of epoch 22 complete. Loss : 0.3272747652871268 \n",
      "\n",
      "Iteration 42/74 of epoch 22 complete. Loss : 0.32928210071155 \n"
     ]
    },
    {
     "name": "stderr",
     "output_type": "stream",
     "text": [
      "100%|██████████| 74/74 [00:00<00:00, 208.63it/s]\n",
      "100%|██████████| 19/19 [00:00<00:00, 392.56it/s]\n",
      "  0%|          | 0/74 [00:00<?, ?it/s]"
     ]
    },
    {
     "name": "stdout",
     "output_type": "stream",
     "text": [
      "\n",
      "Iteration 56/74 of epoch 22 complete. Loss : 0.3301640387092318 \n",
      "\n",
      "Iteration 70/74 of epoch 22 complete. Loss : 0.3291490226984024 \n",
      "\n",
      "Epoch 22 complete! Validation Loss : 0.6614833097708853\n",
      "Epoch 22 complete! Validation Accuracy : 0.578733552631579\n",
      "Best validation loss improved from 0.663752766031968 to 0.6614833097708853\n",
      "\n"
     ]
    },
    {
     "name": "stderr",
     "output_type": "stream",
     "text": [
      " 58%|█████▊    | 43/74 [00:00<00:00, 209.33it/s]"
     ]
    },
    {
     "name": "stdout",
     "output_type": "stream",
     "text": [
      "\n",
      "Iteration 14/74 of epoch 23 complete. Loss : 0.3299547753163746 \n",
      "\n",
      "Iteration 28/74 of epoch 23 complete. Loss : 0.32911613157817293 \n",
      "\n",
      "Iteration 42/74 of epoch 23 complete. Loss : 0.32748763263225555 \n"
     ]
    },
    {
     "name": "stderr",
     "output_type": "stream",
     "text": [
      "100%|██████████| 74/74 [00:00<00:00, 204.88it/s]\n",
      "100%|██████████| 19/19 [00:00<00:00, 387.94it/s]\n",
      "  0%|          | 0/74 [00:00<?, ?it/s]"
     ]
    },
    {
     "name": "stdout",
     "output_type": "stream",
     "text": [
      "\n",
      "Iteration 56/74 of epoch 23 complete. Loss : 0.3276066333055496 \n",
      "\n",
      "Iteration 70/74 of epoch 23 complete. Loss : 0.3251006730965206 \n",
      "\n",
      "Epoch 23 complete! Validation Loss : 0.6597904970771388\n",
      "Epoch 23 complete! Validation Accuracy : 0.5783223684210527\n",
      "Best validation loss improved from 0.6614833097708853 to 0.6597904970771388\n",
      "\n"
     ]
    },
    {
     "name": "stderr",
     "output_type": "stream",
     "text": [
      " 58%|█████▊    | 43/74 [00:00<00:00, 209.18it/s]"
     ]
    },
    {
     "name": "stdout",
     "output_type": "stream",
     "text": [
      "\n",
      "Iteration 14/74 of epoch 24 complete. Loss : 0.32761812635830473 \n",
      "\n",
      "Iteration 28/74 of epoch 24 complete. Loss : 0.32449244601385935 \n",
      "\n",
      "Iteration 42/74 of epoch 24 complete. Loss : 0.3289766183921269 \n",
      "\n",
      "Iteration 56/74 of epoch 24 complete. Loss : 0.3270786255598068 \n"
     ]
    },
    {
     "name": "stderr",
     "output_type": "stream",
     "text": [
      "100%|██████████| 74/74 [00:00<00:00, 208.05it/s]\n",
      "100%|██████████| 19/19 [00:00<00:00, 375.94it/s]\n",
      "  0%|          | 0/74 [00:00<?, ?it/s]"
     ]
    },
    {
     "name": "stdout",
     "output_type": "stream",
     "text": [
      "\n",
      "Iteration 70/74 of epoch 24 complete. Loss : 0.3271079680749348 \n",
      "\n",
      "Epoch 24 complete! Validation Loss : 0.6565300445807608\n",
      "Epoch 24 complete! Validation Accuracy : 0.5886019736842105\n",
      "Best validation loss improved from 0.6597904970771388 to 0.6565300445807608\n",
      "\n",
      "\n",
      "Iteration 14/74 of epoch 25 complete. Loss : 0.32557432779244017 \n"
     ]
    },
    {
     "name": "stderr",
     "output_type": "stream",
     "text": [
      " 86%|████████▋ | 64/74 [00:00<00:00, 208.59it/s]"
     ]
    },
    {
     "name": "stdout",
     "output_type": "stream",
     "text": [
      "\n",
      "Iteration 28/74 of epoch 25 complete. Loss : 0.3262059624705996 \n",
      "\n",
      "Iteration 42/74 of epoch 25 complete. Loss : 0.3231355867215565 \n",
      "\n",
      "Iteration 56/74 of epoch 25 complete. Loss : 0.3260515608957836 \n",
      "\n",
      "Iteration 70/74 of epoch 25 complete. Loss : 0.3244845228535788 \n"
     ]
    },
    {
     "name": "stderr",
     "output_type": "stream",
     "text": [
      "100%|██████████| 74/74 [00:00<00:00, 208.57it/s]\n",
      "100%|██████████| 19/19 [00:00<00:00, 387.33it/s]\n",
      " 27%|██▋       | 20/74 [00:00<00:00, 194.47it/s]"
     ]
    },
    {
     "name": "stdout",
     "output_type": "stream",
     "text": [
      "\n",
      "Epoch 25 complete! Validation Loss : 0.6540609253080267\n",
      "Epoch 25 complete! Validation Accuracy : 0.5939473684210527\n",
      "Best validation loss improved from 0.6565300445807608 to 0.6540609253080267\n",
      "\n",
      "\n",
      "Iteration 14/74 of epoch 26 complete. Loss : 0.32715801681791035 \n",
      "\n",
      "Iteration 28/74 of epoch 26 complete. Loss : 0.32273043053490774 \n"
     ]
    },
    {
     "name": "stderr",
     "output_type": "stream",
     "text": [
      "100%|██████████| 74/74 [00:00<00:00, 202.48it/s]\n",
      "  0%|          | 0/19 [00:00<?, ?it/s]"
     ]
    },
    {
     "name": "stdout",
     "output_type": "stream",
     "text": [
      "\n",
      "Iteration 42/74 of epoch 26 complete. Loss : 0.3253602236509323 \n",
      "\n",
      "Iteration 56/74 of epoch 26 complete. Loss : 0.32437255552836824 \n",
      "\n",
      "Iteration 70/74 of epoch 26 complete. Loss : 0.3203128682715552 \n"
     ]
    },
    {
     "name": "stderr",
     "output_type": "stream",
     "text": [
      "100%|██████████| 19/19 [00:00<00:00, 347.50it/s]\n",
      " 30%|██▉       | 22/74 [00:00<00:00, 211.80it/s]"
     ]
    },
    {
     "name": "stdout",
     "output_type": "stream",
     "text": [
      "\n",
      "Epoch 26 complete! Validation Loss : 0.6533682440456591\n",
      "Epoch 26 complete! Validation Accuracy : 0.5836677631578947\n",
      "Best validation loss improved from 0.6540609253080267 to 0.6533682440456591\n",
      "\n",
      "\n",
      "Iteration 14/74 of epoch 27 complete. Loss : 0.3250221312046051 \n",
      "\n",
      "Iteration 28/74 of epoch 27 complete. Loss : 0.3220081776380539 \n"
     ]
    },
    {
     "name": "stderr",
     "output_type": "stream",
     "text": [
      "100%|██████████| 74/74 [00:00<00:00, 204.62it/s]\n",
      "  0%|          | 0/19 [00:00<?, ?it/s]"
     ]
    },
    {
     "name": "stdout",
     "output_type": "stream",
     "text": [
      "\n",
      "Iteration 42/74 of epoch 27 complete. Loss : 0.31995084456035067 \n",
      "\n",
      "Iteration 56/74 of epoch 27 complete. Loss : 0.32444744237831663 \n",
      "\n",
      "Iteration 70/74 of epoch 27 complete. Loss : 0.3227233588695526 \n"
     ]
    },
    {
     "name": "stderr",
     "output_type": "stream",
     "text": [
      "100%|██████████| 19/19 [00:00<00:00, 384.40it/s]\n",
      " 30%|██▉       | 22/74 [00:00<00:00, 210.90it/s]"
     ]
    },
    {
     "name": "stdout",
     "output_type": "stream",
     "text": [
      "\n",
      "Epoch 27 complete! Validation Loss : 0.6487777829170227\n",
      "Epoch 27 complete! Validation Accuracy : 0.6184375\n",
      "Best validation loss improved from 0.6533682440456591 to 0.6487777829170227\n",
      "\n",
      "\n",
      "Iteration 14/74 of epoch 28 complete. Loss : 0.3189796805381775 \n",
      "\n",
      "Iteration 28/74 of epoch 28 complete. Loss : 0.3224000781774521 \n"
     ]
    },
    {
     "name": "stderr",
     "output_type": "stream",
     "text": [
      "100%|██████████| 74/74 [00:00<00:00, 206.82it/s]\n",
      "  0%|          | 0/19 [00:00<?, ?it/s]"
     ]
    },
    {
     "name": "stdout",
     "output_type": "stream",
     "text": [
      "\n",
      "Iteration 42/74 of epoch 28 complete. Loss : 0.3207903099911554 \n",
      "\n",
      "Iteration 56/74 of epoch 28 complete. Loss : 0.32111616006919314 \n",
      "\n",
      "Iteration 70/74 of epoch 28 complete. Loss : 0.32319192801203045 \n"
     ]
    },
    {
     "name": "stderr",
     "output_type": "stream",
     "text": [
      "100%|██████████| 19/19 [00:00<00:00, 382.85it/s]\n",
      " 30%|██▉       | 22/74 [00:00<00:00, 211.34it/s]"
     ]
    },
    {
     "name": "stdout",
     "output_type": "stream",
     "text": [
      "\n",
      "Epoch 28 complete! Validation Loss : 0.646280869057304\n",
      "Epoch 28 complete! Validation Accuracy : 0.6241940789473684\n",
      "Best validation loss improved from 0.6487777829170227 to 0.646280869057304\n",
      "\n",
      "\n",
      "Iteration 14/74 of epoch 29 complete. Loss : 0.32018172102315084 \n",
      "\n",
      "Iteration 28/74 of epoch 29 complete. Loss : 0.3203103414603642 \n"
     ]
    },
    {
     "name": "stderr",
     "output_type": "stream",
     "text": [
      "100%|██████████| 74/74 [00:00<00:00, 207.36it/s]\n",
      "  0%|          | 0/19 [00:00<?, ?it/s]"
     ]
    },
    {
     "name": "stdout",
     "output_type": "stream",
     "text": [
      "\n",
      "Iteration 42/74 of epoch 29 complete. Loss : 0.3201852632420404 \n",
      "\n",
      "Iteration 56/74 of epoch 29 complete. Loss : 0.3202684670686722 \n",
      "\n",
      "Iteration 70/74 of epoch 29 complete. Loss : 0.3180665352514812 \n"
     ]
    },
    {
     "name": "stderr",
     "output_type": "stream",
     "text": [
      "100%|██████████| 19/19 [00:00<00:00, 380.45it/s]\n",
      " 30%|██▉       | 22/74 [00:00<00:00, 217.37it/s]"
     ]
    },
    {
     "name": "stdout",
     "output_type": "stream",
     "text": [
      "\n",
      "Epoch 29 complete! Validation Loss : 0.6439351502217745\n",
      "Epoch 29 complete! Validation Accuracy : 0.6248355263157894\n",
      "Best validation loss improved from 0.646280869057304 to 0.6439351502217745\n",
      "\n",
      "\n",
      "Iteration 14/74 of epoch 30 complete. Loss : 0.31522025167942047 \n",
      "\n",
      "Iteration 28/74 of epoch 30 complete. Loss : 0.3207568462405886 \n",
      "\n",
      "Iteration 42/74 of epoch 30 complete. Loss : 0.3204611177955355 \n"
     ]
    },
    {
     "name": "stderr",
     "output_type": "stream",
     "text": [
      "100%|██████████| 74/74 [00:00<00:00, 211.16it/s]\n",
      "100%|██████████| 19/19 [00:00<00:00, 384.38it/s]\n",
      "  0%|          | 0/74 [00:00<?, ?it/s]"
     ]
    },
    {
     "name": "stdout",
     "output_type": "stream",
     "text": [
      "\n",
      "Iteration 56/74 of epoch 30 complete. Loss : 0.3188811902488981 \n",
      "\n",
      "Iteration 70/74 of epoch 30 complete. Loss : 0.31863535940647125 \n",
      "\n",
      "Epoch 30 complete! Validation Loss : 0.6414608610303778\n",
      "Epoch 30 complete! Validation Accuracy : 0.6279440789473685\n",
      "Best validation loss improved from 0.6439351502217745 to 0.6414608610303778\n",
      "\n"
     ]
    },
    {
     "name": "stderr",
     "output_type": "stream",
     "text": [
      " 58%|█████▊    | 43/74 [00:00<00:00, 209.79it/s]"
     ]
    },
    {
     "name": "stdout",
     "output_type": "stream",
     "text": [
      "\n",
      "Iteration 14/74 of epoch 31 complete. Loss : 0.3163051094327654 \n",
      "\n",
      "Iteration 28/74 of epoch 31 complete. Loss : 0.31545068110738483 \n",
      "\n",
      "Iteration 42/74 of epoch 31 complete. Loss : 0.3205565299306597 \n",
      "\n",
      "Iteration 56/74 of epoch 31 complete. Loss : 0.3163602373429707 \n"
     ]
    },
    {
     "name": "stderr",
     "output_type": "stream",
     "text": [
      "100%|██████████| 74/74 [00:00<00:00, 208.81it/s]\n",
      "100%|██████████| 19/19 [00:00<00:00, 372.68it/s]\n",
      "  0%|          | 0/74 [00:00<?, ?it/s]"
     ]
    },
    {
     "name": "stdout",
     "output_type": "stream",
     "text": [
      "\n",
      "Iteration 70/74 of epoch 31 complete. Loss : 0.31945353533540455 \n",
      "\n",
      "Epoch 31 complete! Validation Loss : 0.6383075525886134\n",
      "Epoch 31 complete! Validation Accuracy : 0.6433881578947368\n",
      "Best validation loss improved from 0.6414608610303778 to 0.6383075525886134\n",
      "\n",
      "\n",
      "Iteration 14/74 of epoch 32 complete. Loss : 0.3151467612811497 \n"
     ]
    },
    {
     "name": "stderr",
     "output_type": "stream",
     "text": [
      " 85%|████████▌ | 63/74 [00:00<00:00, 207.26it/s]"
     ]
    },
    {
     "name": "stdout",
     "output_type": "stream",
     "text": [
      "\n",
      "Iteration 28/74 of epoch 32 complete. Loss : 0.31729380999292645 \n",
      "\n",
      "Iteration 42/74 of epoch 32 complete. Loss : 0.3129952188049044 \n",
      "\n",
      "Iteration 56/74 of epoch 32 complete. Loss : 0.31923759622233255 \n"
     ]
    },
    {
     "name": "stderr",
     "output_type": "stream",
     "text": [
      "100%|██████████| 74/74 [00:00<00:00, 205.72it/s]\n",
      "100%|██████████| 19/19 [00:00<00:00, 381.49it/s]\n",
      "  0%|          | 0/74 [00:00<?, ?it/s]"
     ]
    },
    {
     "name": "stdout",
     "output_type": "stream",
     "text": [
      "\n",
      "Iteration 70/74 of epoch 32 complete. Loss : 0.3156525194644928 \n",
      "\n",
      "Epoch 32 complete! Validation Loss : 0.6354979621736627\n",
      "Epoch 32 complete! Validation Accuracy : 0.6694736842105263\n",
      "Best validation loss improved from 0.6383075525886134 to 0.6354979621736627\n",
      "\n",
      "\n",
      "Iteration 14/74 of epoch 33 complete. Loss : 0.3165085805313928 \n"
     ]
    },
    {
     "name": "stderr",
     "output_type": "stream",
     "text": [
      " 88%|████████▊ | 65/74 [00:00<00:00, 212.30it/s]"
     ]
    },
    {
     "name": "stdout",
     "output_type": "stream",
     "text": [
      "\n",
      "Iteration 28/74 of epoch 33 complete. Loss : 0.3146427060876574 \n",
      "\n",
      "Iteration 42/74 of epoch 33 complete. Loss : 0.3138165431363242 \n",
      "\n",
      "Iteration 56/74 of epoch 33 complete. Loss : 0.31238786450454165 \n",
      "\n",
      "Iteration 70/74 of epoch 33 complete. Loss : 0.3157675010817392 \n"
     ]
    },
    {
     "name": "stderr",
     "output_type": "stream",
     "text": [
      "100%|██████████| 74/74 [00:00<00:00, 210.46it/s]\n",
      "100%|██████████| 19/19 [00:00<00:00, 385.85it/s]\n",
      " 30%|██▉       | 22/74 [00:00<00:00, 212.08it/s]"
     ]
    },
    {
     "name": "stdout",
     "output_type": "stream",
     "text": [
      "\n",
      "Epoch 33 complete! Validation Loss : 0.6328340204138505\n",
      "Epoch 33 complete! Validation Accuracy : 0.6766940789473684\n",
      "Best validation loss improved from 0.6354979621736627 to 0.6328340204138505\n",
      "\n",
      "\n",
      "Iteration 14/74 of epoch 34 complete. Loss : 0.31250442777361187 \n",
      "\n",
      "Iteration 28/74 of epoch 34 complete. Loss : 0.3124377003737858 \n",
      "\n",
      "Iteration 42/74 of epoch 34 complete. Loss : 0.3138954703296934 \n"
     ]
    },
    {
     "name": "stderr",
     "output_type": "stream",
     "text": [
      "100%|██████████| 74/74 [00:00<00:00, 211.02it/s]\n",
      "100%|██████████| 19/19 [00:00<00:00, 389.28it/s]\n",
      "  0%|          | 0/74 [00:00<?, ?it/s]"
     ]
    },
    {
     "name": "stdout",
     "output_type": "stream",
     "text": [
      "\n",
      "Iteration 56/74 of epoch 34 complete. Loss : 0.31334824008601053 \n",
      "\n",
      "Iteration 70/74 of epoch 34 complete. Loss : 0.3129296728542873 \n",
      "\n",
      "Epoch 34 complete! Validation Loss : 0.6311079577395791\n",
      "Epoch 34 complete! Validation Accuracy : 0.646858552631579\n",
      "Best validation loss improved from 0.6328340204138505 to 0.6311079577395791\n",
      "\n"
     ]
    },
    {
     "name": "stderr",
     "output_type": "stream",
     "text": [
      " 54%|█████▍    | 40/74 [00:00<00:00, 198.56it/s]"
     ]
    },
    {
     "name": "stdout",
     "output_type": "stream",
     "text": [
      "\n",
      "Iteration 14/74 of epoch 35 complete. Loss : 0.3138632540191923 \n",
      "\n",
      "Iteration 28/74 of epoch 35 complete. Loss : 0.3152112875665937 \n",
      "\n",
      "Iteration 42/74 of epoch 35 complete. Loss : 0.31111947340624674 \n"
     ]
    },
    {
     "name": "stderr",
     "output_type": "stream",
     "text": [
      "100%|██████████| 74/74 [00:00<00:00, 213.19it/s]\n",
      "100%|██████████| 19/19 [00:00<00:00, 392.20it/s]\n",
      "  0%|          | 0/74 [00:00<?, ?it/s]"
     ]
    },
    {
     "name": "stdout",
     "output_type": "stream",
     "text": [
      "\n",
      "Iteration 56/74 of epoch 35 complete. Loss : 0.3117349658693586 \n",
      "\n",
      "Iteration 70/74 of epoch 35 complete. Loss : 0.30914081633090973 \n",
      "\n",
      "Epoch 35 complete! Validation Loss : 0.6275445160112882\n",
      "Epoch 35 complete! Validation Accuracy : 0.6818585526315789\n",
      "Best validation loss improved from 0.6311079577395791 to 0.6275445160112882\n",
      "\n"
     ]
    },
    {
     "name": "stderr",
     "output_type": "stream",
     "text": [
      " 70%|███████   | 52/74 [00:00<00:00, 255.26it/s]"
     ]
    },
    {
     "name": "stdout",
     "output_type": "stream",
     "text": [
      "\n",
      "Iteration 14/74 of epoch 36 complete. Loss : 0.31122509283678873 \n",
      "\n",
      "Iteration 28/74 of epoch 36 complete. Loss : 0.3108352869749069 \n",
      "\n",
      "Iteration 42/74 of epoch 36 complete. Loss : 0.31174168416431974 \n",
      "\n",
      "Iteration 56/74 of epoch 36 complete. Loss : 0.3104822209903172 \n"
     ]
    },
    {
     "name": "stderr",
     "output_type": "stream",
     "text": [
      "100%|██████████| 74/74 [00:00<00:00, 254.24it/s]\n",
      "100%|██████████| 19/19 [00:00<00:00, 389.48it/s]\n",
      "  0%|          | 0/74 [00:00<?, ?it/s]"
     ]
    },
    {
     "name": "stdout",
     "output_type": "stream",
     "text": [
      "\n",
      "Iteration 70/74 of epoch 36 complete. Loss : 0.30958953286920277 \n",
      "\n",
      "Epoch 36 complete! Validation Loss : 0.6255474090576172\n",
      "Epoch 36 complete! Validation Accuracy : 0.6665953947368422\n",
      "Best validation loss improved from 0.6275445160112882 to 0.6255474090576172\n",
      "\n",
      "\n",
      "Iteration 14/74 of epoch 37 complete. Loss : 0.3078063598700932 \n"
     ]
    },
    {
     "name": "stderr",
     "output_type": "stream",
     "text": [
      "100%|██████████| 74/74 [00:00<00:00, 254.87it/s]\n",
      "  0%|          | 0/19 [00:00<?, ?it/s]"
     ]
    },
    {
     "name": "stdout",
     "output_type": "stream",
     "text": [
      "\n",
      "Iteration 28/74 of epoch 37 complete. Loss : 0.3076461170400892 \n",
      "\n",
      "Iteration 42/74 of epoch 37 complete. Loss : 0.308824754187039 \n",
      "\n",
      "Iteration 56/74 of epoch 37 complete. Loss : 0.310956386583192 \n",
      "\n",
      "Iteration 70/74 of epoch 37 complete. Loss : 0.3118520506790706 \n"
     ]
    },
    {
     "name": "stderr",
     "output_type": "stream",
     "text": [
      "100%|██████████| 19/19 [00:00<00:00, 391.65it/s]\n",
      " 35%|███▌      | 26/74 [00:00<00:00, 256.89it/s]"
     ]
    },
    {
     "name": "stdout",
     "output_type": "stream",
     "text": [
      "\n",
      "Epoch 37 complete! Validation Loss : 0.6240956344102558\n",
      "Epoch 37 complete! Validation Accuracy : 0.6579605263157895\n",
      "Best validation loss improved from 0.6255474090576172 to 0.6240956344102558\n",
      "\n",
      "\n",
      "Iteration 14/74 of epoch 38 complete. Loss : 0.31157524032252176 \n",
      "\n",
      "Iteration 28/74 of epoch 38 complete. Loss : 0.3088850804737636 \n",
      "\n",
      "Iteration 42/74 of epoch 38 complete. Loss : 0.3079535301242556 \n"
     ]
    },
    {
     "name": "stderr",
     "output_type": "stream",
     "text": [
      "100%|██████████| 74/74 [00:00<00:00, 254.62it/s]\n",
      "100%|██████████| 19/19 [00:00<00:00, 386.05it/s]\n",
      "  0%|          | 0/74 [00:00<?, ?it/s]"
     ]
    },
    {
     "name": "stdout",
     "output_type": "stream",
     "text": [
      "\n",
      "Iteration 56/74 of epoch 38 complete. Loss : 0.30757748229163034 \n",
      "\n",
      "Iteration 70/74 of epoch 38 complete. Loss : 0.30504003380026135 \n",
      "\n",
      "Epoch 38 complete! Validation Loss : 0.6223803507654291\n",
      "Epoch 38 complete! Validation Accuracy : 0.6542598684210527\n",
      "Best validation loss improved from 0.6240956344102558 to 0.6223803507654291\n",
      "\n"
     ]
    },
    {
     "name": "stderr",
     "output_type": "stream",
     "text": [
      " 70%|███████   | 52/74 [00:00<00:00, 256.38it/s]"
     ]
    },
    {
     "name": "stdout",
     "output_type": "stream",
     "text": [
      "\n",
      "Iteration 14/74 of epoch 39 complete. Loss : 0.3073076754808426 \n",
      "\n",
      "Iteration 28/74 of epoch 39 complete. Loss : 0.30568874733788626 \n",
      "\n",
      "Iteration 42/74 of epoch 39 complete. Loss : 0.30404909380844664 \n",
      "\n",
      "Iteration 56/74 of epoch 39 complete. Loss : 0.3096905116524015 \n"
     ]
    },
    {
     "name": "stderr",
     "output_type": "stream",
     "text": [
      "100%|██████████| 74/74 [00:00<00:00, 256.11it/s]\n",
      "100%|██████████| 19/19 [00:00<00:00, 392.49it/s]\n",
      "  0%|          | 0/74 [00:00<?, ?it/s]"
     ]
    },
    {
     "name": "stdout",
     "output_type": "stream",
     "text": [
      "\n",
      "Iteration 70/74 of epoch 39 complete. Loss : 0.3043375696454729 \n",
      "\n",
      "Epoch 39 complete! Validation Loss : 0.6174067258834839\n",
      "Epoch 39 complete! Validation Accuracy : 0.6934210526315789\n",
      "Best validation loss improved from 0.6223803507654291 to 0.6174067258834839\n",
      "\n",
      "\n",
      "Iteration 14/74 of epoch 40 complete. Loss : 0.3058166227170399 \n"
     ]
    },
    {
     "name": "stderr",
     "output_type": "stream",
     "text": [
      " 93%|█████████▎| 69/74 [00:00<00:00, 233.27it/s]"
     ]
    },
    {
     "name": "stdout",
     "output_type": "stream",
     "text": [
      "\n",
      "Iteration 28/74 of epoch 40 complete. Loss : 0.30710334862981525 \n",
      "\n",
      "Iteration 42/74 of epoch 40 complete. Loss : 0.3021862804889679 \n",
      "\n",
      "Iteration 56/74 of epoch 40 complete. Loss : 0.30495756013052805 \n",
      "\n",
      "Iteration 70/74 of epoch 40 complete. Loss : 0.3051608439002718 \n"
     ]
    },
    {
     "name": "stderr",
     "output_type": "stream",
     "text": [
      "100%|██████████| 74/74 [00:00<00:00, 225.78it/s]\n",
      "100%|██████████| 19/19 [00:00<00:00, 390.64it/s]\n",
      " 31%|███       | 23/74 [00:00<00:00, 222.11it/s]"
     ]
    },
    {
     "name": "stdout",
     "output_type": "stream",
     "text": [
      "\n",
      "Epoch 40 complete! Validation Loss : 0.6155995820697985\n",
      "Epoch 40 complete! Validation Accuracy : 0.6818585526315789\n",
      "Best validation loss improved from 0.6174067258834839 to 0.6155995820697985\n",
      "\n",
      "\n",
      "Iteration 14/74 of epoch 41 complete. Loss : 0.30205121423516956 \n",
      "\n",
      "Iteration 28/74 of epoch 41 complete. Loss : 0.3044347379888807 \n",
      "\n",
      "Iteration 42/74 of epoch 41 complete. Loss : 0.30644444482667105 \n"
     ]
    },
    {
     "name": "stderr",
     "output_type": "stream",
     "text": [
      "100%|██████████| 74/74 [00:00<00:00, 218.84it/s]\n",
      "100%|██████████| 19/19 [00:00<00:00, 385.65it/s]\n",
      "  0%|          | 0/74 [00:00<?, ?it/s]"
     ]
    },
    {
     "name": "stdout",
     "output_type": "stream",
     "text": [
      "\n",
      "Iteration 56/74 of epoch 41 complete. Loss : 0.30705614387989044 \n",
      "\n",
      "Iteration 70/74 of epoch 41 complete. Loss : 0.3005073517560959 \n",
      "\n",
      "Epoch 41 complete! Validation Loss : 0.6164417015878778\n",
      "Epoch 41 complete! Validation Accuracy : 0.6608388157894737\n"
     ]
    },
    {
     "name": "stderr",
     "output_type": "stream",
     "text": [
      " 62%|██████▏   | 46/74 [00:00<00:00, 222.58it/s]"
     ]
    },
    {
     "name": "stdout",
     "output_type": "stream",
     "text": [
      "\n",
      "Iteration 14/74 of epoch 42 complete. Loss : 0.30196675871099743 \n",
      "\n",
      "Iteration 28/74 of epoch 42 complete. Loss : 0.3052256107330322 \n",
      "\n",
      "Iteration 42/74 of epoch 42 complete. Loss : 0.30084060771124704 \n",
      "\n",
      "Iteration 56/74 of epoch 42 complete. Loss : 0.3037634789943695 \n"
     ]
    },
    {
     "name": "stderr",
     "output_type": "stream",
     "text": [
      "100%|██████████| 74/74 [00:00<00:00, 219.75it/s]\n",
      "100%|██████████| 19/19 [00:00<00:00, 385.15it/s]\n",
      "  0%|          | 0/74 [00:00<?, ?it/s]"
     ]
    },
    {
     "name": "stdout",
     "output_type": "stream",
     "text": [
      "\n",
      "Iteration 70/74 of epoch 42 complete. Loss : 0.30192391148635317 \n",
      "\n",
      "Epoch 42 complete! Validation Loss : 0.6104397271808825\n",
      "Epoch 42 complete! Validation Accuracy : 0.7005921052631578\n",
      "Best validation loss improved from 0.6155995820697985 to 0.6104397271808825\n",
      "\n",
      "\n",
      "Iteration 14/74 of epoch 43 complete. Loss : 0.3014553891760962 \n"
     ]
    },
    {
     "name": "stderr",
     "output_type": "stream",
     "text": [
      " 84%|████████▍ | 62/74 [00:00<00:00, 206.18it/s]"
     ]
    },
    {
     "name": "stdout",
     "output_type": "stream",
     "text": [
      "\n",
      "Iteration 28/74 of epoch 43 complete. Loss : 0.30321047987256733 \n",
      "\n",
      "Iteration 42/74 of epoch 43 complete. Loss : 0.30171459913253784 \n",
      "\n",
      "Iteration 56/74 of epoch 43 complete. Loss : 0.30315801075526644 \n"
     ]
    },
    {
     "name": "stderr",
     "output_type": "stream",
     "text": [
      "100%|██████████| 74/74 [00:00<00:00, 203.86it/s]\n",
      "100%|██████████| 19/19 [00:00<00:00, 376.90it/s]\n",
      "  0%|          | 0/74 [00:00<?, ?it/s]"
     ]
    },
    {
     "name": "stdout",
     "output_type": "stream",
     "text": [
      "\n",
      "Iteration 70/74 of epoch 43 complete. Loss : 0.29971625975200106 \n",
      "\n",
      "Epoch 43 complete! Validation Loss : 0.6104027032852173\n",
      "Epoch 43 complete! Validation Accuracy : 0.6808059210526316\n",
      "Best validation loss improved from 0.6104397271808825 to 0.6104027032852173\n",
      "\n",
      "\n",
      "Iteration 14/74 of epoch 44 complete. Loss : 0.3019744838987078 \n"
     ]
    },
    {
     "name": "stderr",
     "output_type": "stream",
     "text": [
      " 81%|████████  | 60/74 [00:00<00:00, 198.82it/s]"
     ]
    },
    {
     "name": "stdout",
     "output_type": "stream",
     "text": [
      "\n",
      "Iteration 28/74 of epoch 44 complete. Loss : 0.30193313530513216 \n",
      "\n",
      "Iteration 42/74 of epoch 44 complete. Loss : 0.3037620186805725 \n",
      "\n",
      "Iteration 56/74 of epoch 44 complete. Loss : 0.2974306983607156 \n"
     ]
    },
    {
     "name": "stderr",
     "output_type": "stream",
     "text": [
      "100%|██████████| 74/74 [00:00<00:00, 197.98it/s]\n",
      "100%|██████████| 19/19 [00:00<00:00, 389.57it/s]\n",
      "  0%|          | 0/74 [00:00<?, ?it/s]"
     ]
    },
    {
     "name": "stdout",
     "output_type": "stream",
     "text": [
      "\n",
      "Iteration 70/74 of epoch 44 complete. Loss : 0.2975753588335855 \n",
      "\n",
      "Epoch 44 complete! Validation Loss : 0.6075647692931326\n",
      "Epoch 44 complete! Validation Accuracy : 0.6859703947368421\n",
      "Best validation loss improved from 0.6104027032852173 to 0.6075647692931326\n",
      "\n",
      "\n",
      "Iteration 14/74 of epoch 45 complete. Loss : 0.303699397615024 \n"
     ]
    },
    {
     "name": "stderr",
     "output_type": "stream",
     "text": [
      " 81%|████████  | 60/74 [00:00<00:00, 197.49it/s]"
     ]
    },
    {
     "name": "stdout",
     "output_type": "stream",
     "text": [
      "\n",
      "Iteration 28/74 of epoch 45 complete. Loss : 0.29873821990830557 \n",
      "\n",
      "Iteration 42/74 of epoch 45 complete. Loss : 0.2984962207930429 \n",
      "\n",
      "Iteration 56/74 of epoch 45 complete. Loss : 0.29884076757090433 \n"
     ]
    },
    {
     "name": "stderr",
     "output_type": "stream",
     "text": [
      "100%|██████████| 74/74 [00:00<00:00, 197.46it/s]\n",
      "100%|██████████| 19/19 [00:00<00:00, 380.19it/s]\n",
      "  0%|          | 0/74 [00:00<?, ?it/s]"
     ]
    },
    {
     "name": "stdout",
     "output_type": "stream",
     "text": [
      "\n",
      "Iteration 70/74 of epoch 45 complete. Loss : 0.29827709070273806 \n",
      "\n",
      "Epoch 45 complete! Validation Loss : 0.6036315466228285\n",
      "Epoch 45 complete! Validation Accuracy : 0.6971217105263158\n",
      "Best validation loss improved from 0.6075647692931326 to 0.6036315466228285\n",
      "\n",
      "\n",
      "Iteration 14/74 of epoch 46 complete. Loss : 0.2962061230625425 \n"
     ]
    },
    {
     "name": "stderr",
     "output_type": "stream",
     "text": [
      " 81%|████████  | 60/74 [00:00<00:00, 197.40it/s]"
     ]
    },
    {
     "name": "stdout",
     "output_type": "stream",
     "text": [
      "\n",
      "Iteration 28/74 of epoch 46 complete. Loss : 0.2953017439161028 \n",
      "\n",
      "Iteration 42/74 of epoch 46 complete. Loss : 0.2958634453160422 \n",
      "\n",
      "Iteration 56/74 of epoch 46 complete. Loss : 0.2978654163224356 \n"
     ]
    },
    {
     "name": "stderr",
     "output_type": "stream",
     "text": [
      "100%|██████████| 74/74 [00:00<00:00, 197.06it/s]\n",
      "100%|██████████| 19/19 [00:00<00:00, 382.09it/s]\n",
      "  0%|          | 0/74 [00:00<?, ?it/s]"
     ]
    },
    {
     "name": "stdout",
     "output_type": "stream",
     "text": [
      "\n",
      "Iteration 70/74 of epoch 46 complete. Loss : 0.3072115161589214 \n",
      "\n",
      "Epoch 46 complete! Validation Loss : 0.6013176692159552\n",
      "Epoch 46 complete! Validation Accuracy : 0.7005921052631578\n",
      "Best validation loss improved from 0.6036315466228285 to 0.6013176692159552\n",
      "\n",
      "\n",
      "Iteration 14/74 of epoch 47 complete. Loss : 0.2960650750568935 \n"
     ]
    },
    {
     "name": "stderr",
     "output_type": "stream",
     "text": [
      " 85%|████████▌ | 63/74 [00:00<00:00, 204.64it/s]"
     ]
    },
    {
     "name": "stdout",
     "output_type": "stream",
     "text": [
      "\n",
      "Iteration 28/74 of epoch 47 complete. Loss : 0.2968026953084128 \n",
      "\n",
      "Iteration 42/74 of epoch 47 complete. Loss : 0.2956730318920953 \n",
      "\n",
      "Iteration 56/74 of epoch 47 complete. Loss : 0.3031257965735027 \n"
     ]
    },
    {
     "name": "stderr",
     "output_type": "stream",
     "text": [
      "100%|██████████| 74/74 [00:00<00:00, 203.34it/s]\n",
      "100%|██████████| 19/19 [00:00<00:00, 379.04it/s]\n",
      "  0%|          | 0/74 [00:00<?, ?it/s]"
     ]
    },
    {
     "name": "stdout",
     "output_type": "stream",
     "text": [
      "\n",
      "Iteration 70/74 of epoch 47 complete. Loss : 0.2960255295038223 \n",
      "\n",
      "Epoch 47 complete! Validation Loss : 0.6008640182645697\n",
      "Epoch 47 complete! Validation Accuracy : 0.6940131578947368\n",
      "Best validation loss improved from 0.6013176692159552 to 0.6008640182645697\n",
      "\n",
      "\n",
      "Iteration 14/74 of epoch 48 complete. Loss : 0.2973288340227945 \n"
     ]
    },
    {
     "name": "stderr",
     "output_type": "stream",
     "text": [
      " 81%|████████  | 60/74 [00:00<00:00, 198.52it/s]"
     ]
    },
    {
     "name": "stdout",
     "output_type": "stream",
     "text": [
      "\n",
      "Iteration 28/74 of epoch 48 complete. Loss : 0.29442740763936726 \n",
      "\n",
      "Iteration 42/74 of epoch 48 complete. Loss : 0.2955602152006967 \n",
      "\n",
      "Iteration 56/74 of epoch 48 complete. Loss : 0.2912137189081737 \n"
     ]
    },
    {
     "name": "stderr",
     "output_type": "stream",
     "text": [
      "100%|██████████| 74/74 [00:00<00:00, 191.36it/s]\n",
      "100%|██████████| 19/19 [00:00<00:00, 284.17it/s]\n",
      "  0%|          | 0/74 [00:00<?, ?it/s]"
     ]
    },
    {
     "name": "stdout",
     "output_type": "stream",
     "text": [
      "\n",
      "Iteration 70/74 of epoch 48 complete. Loss : 0.2979054514850889 \n",
      "\n",
      "Epoch 48 complete! Validation Loss : 0.5971616318351344\n",
      "Epoch 48 complete! Validation Accuracy : 0.7026480263157895\n",
      "Best validation loss improved from 0.6008640182645697 to 0.5971616318351344\n",
      "\n"
     ]
    },
    {
     "name": "stderr",
     "output_type": "stream",
     "text": [
      " 51%|█████▏    | 38/74 [00:00<00:00, 188.14it/s]"
     ]
    },
    {
     "name": "stdout",
     "output_type": "stream",
     "text": [
      "\n",
      "Iteration 14/74 of epoch 49 complete. Loss : 0.2978112357003348 \n",
      "\n",
      "Iteration 28/74 of epoch 49 complete. Loss : 0.2923856037003653 \n",
      "\n",
      "Iteration 42/74 of epoch 49 complete. Loss : 0.2912863535540445 \n"
     ]
    },
    {
     "name": "stderr",
     "output_type": "stream",
     "text": [
      "100%|██████████| 74/74 [00:00<00:00, 187.96it/s]\n",
      "100%|██████████| 19/19 [00:00<00:00, 284.55it/s]"
     ]
    },
    {
     "name": "stdout",
     "output_type": "stream",
     "text": [
      "\n",
      "Iteration 56/74 of epoch 49 complete. Loss : 0.29626013125692097 \n",
      "\n",
      "Iteration 70/74 of epoch 49 complete. Loss : 0.29522076887743814 \n"
     ]
    },
    {
     "name": "stderr",
     "output_type": "stream",
     "text": [
      "\n",
      " 27%|██▋       | 20/74 [00:00<00:00, 192.38it/s]"
     ]
    },
    {
     "name": "stdout",
     "output_type": "stream",
     "text": [
      "\n",
      "Epoch 49 complete! Validation Loss : 0.5962183600977847\n",
      "Epoch 49 complete! Validation Accuracy : 0.7000000000000001\n",
      "Best validation loss improved from 0.5971616318351344 to 0.5962183600977847\n",
      "\n",
      "\n",
      "Iteration 14/74 of epoch 50 complete. Loss : 0.29565509940896717 \n",
      "\n",
      "Iteration 28/74 of epoch 50 complete. Loss : 0.2972424817936761 \n"
     ]
    },
    {
     "name": "stderr",
     "output_type": "stream",
     "text": [
      "100%|██████████| 74/74 [00:00<00:00, 189.71it/s]\n",
      "  0%|          | 0/19 [00:00<?, ?it/s]"
     ]
    },
    {
     "name": "stdout",
     "output_type": "stream",
     "text": [
      "\n",
      "Iteration 42/74 of epoch 50 complete. Loss : 0.28803685094629017 \n",
      "\n",
      "Iteration 56/74 of epoch 50 complete. Loss : 0.2993943414517811 \n",
      "\n",
      "Iteration 70/74 of epoch 50 complete. Loss : 0.2872333952358791 \n"
     ]
    },
    {
     "name": "stderr",
     "output_type": "stream",
     "text": [
      "100%|██████████| 19/19 [00:00<00:00, 281.85it/s]\n",
      " 27%|██▋       | 20/74 [00:00<00:00, 199.96it/s]"
     ]
    },
    {
     "name": "stdout",
     "output_type": "stream",
     "text": [
      "\n",
      "Epoch 50 complete! Validation Loss : 0.6001602223044947\n",
      "Epoch 50 complete! Validation Accuracy : 0.6808059210526316\n",
      "\n",
      "Iteration 14/74 of epoch 51 complete. Loss : 0.2993904692786081 \n",
      "\n",
      "Iteration 28/74 of epoch 51 complete. Loss : 0.2991244835512979 \n",
      "\n",
      "Iteration 42/74 of epoch 51 complete. Loss : 0.2852522007056645 \n"
     ]
    },
    {
     "name": "stderr",
     "output_type": "stream",
     "text": [
      "100%|██████████| 74/74 [00:00<00:00, 205.82it/s]\n",
      "100%|██████████| 19/19 [00:00<00:00, 382.84it/s]\n",
      "  0%|          | 0/74 [00:00<?, ?it/s]"
     ]
    },
    {
     "name": "stdout",
     "output_type": "stream",
     "text": [
      "\n",
      "Iteration 56/74 of epoch 51 complete. Loss : 0.2924267862524305 \n",
      "\n",
      "Iteration 70/74 of epoch 51 complete. Loss : 0.2882504463195801 \n",
      "\n",
      "Epoch 51 complete! Validation Loss : 0.5921841263771057\n",
      "Epoch 51 complete! Validation Accuracy : 0.7004111842105264\n",
      "Best validation loss improved from 0.5962183600977847 to 0.5921841263771057\n",
      "\n"
     ]
    },
    {
     "name": "stderr",
     "output_type": "stream",
     "text": [
      " 57%|█████▋    | 42/74 [00:00<00:00, 200.54it/s]"
     ]
    },
    {
     "name": "stdout",
     "output_type": "stream",
     "text": [
      "\n",
      "Iteration 14/74 of epoch 52 complete. Loss : 0.28863907924720217 \n",
      "\n",
      "Iteration 28/74 of epoch 52 complete. Loss : 0.2905337171895163 \n",
      "\n",
      "Iteration 42/74 of epoch 52 complete. Loss : 0.2938146676336016 \n"
     ]
    },
    {
     "name": "stderr",
     "output_type": "stream",
     "text": [
      "100%|██████████| 74/74 [00:00<00:00, 199.45it/s]\n",
      "100%|██████████| 19/19 [00:00<00:00, 387.36it/s]\n",
      "  0%|          | 0/74 [00:00<?, ?it/s]"
     ]
    },
    {
     "name": "stdout",
     "output_type": "stream",
     "text": [
      "\n",
      "Iteration 56/74 of epoch 52 complete. Loss : 0.2918269953557423 \n",
      "\n",
      "Iteration 70/74 of epoch 52 complete. Loss : 0.29139495534556253 \n",
      "\n",
      "Epoch 52 complete! Validation Loss : 0.5896711663195962\n",
      "Epoch 52 complete! Validation Accuracy : 0.7055263157894737\n",
      "Best validation loss improved from 0.5921841263771057 to 0.5896711663195962\n",
      "\n"
     ]
    },
    {
     "name": "stderr",
     "output_type": "stream",
     "text": [
      " 54%|█████▍    | 40/74 [00:00<00:00, 195.26it/s]"
     ]
    },
    {
     "name": "stdout",
     "output_type": "stream",
     "text": [
      "\n",
      "Iteration 14/74 of epoch 53 complete. Loss : 0.2884387735809599 \n",
      "\n",
      "Iteration 28/74 of epoch 53 complete. Loss : 0.2893246625150953 \n",
      "\n",
      "Iteration 42/74 of epoch 53 complete. Loss : 0.2888948236192976 \n"
     ]
    },
    {
     "name": "stderr",
     "output_type": "stream",
     "text": [
      "100%|██████████| 74/74 [00:00<00:00, 189.04it/s]\n",
      "100%|██████████| 19/19 [00:00<00:00, 392.55it/s]\n",
      "  0%|          | 0/74 [00:00<?, ?it/s]"
     ]
    },
    {
     "name": "stdout",
     "output_type": "stream",
     "text": [
      "\n",
      "Iteration 56/74 of epoch 53 complete. Loss : 0.29627774017197744 \n",
      "\n",
      "Iteration 70/74 of epoch 53 complete. Loss : 0.2906469021524702 \n",
      "\n",
      "Epoch 53 complete! Validation Loss : 0.5899134842973006\n",
      "Epoch 53 complete! Validation Accuracy : 0.7004111842105264\n"
     ]
    },
    {
     "name": "stderr",
     "output_type": "stream",
     "text": [
      " 58%|█████▊    | 43/74 [00:00<00:00, 209.53it/s]"
     ]
    },
    {
     "name": "stdout",
     "output_type": "stream",
     "text": [
      "\n",
      "Iteration 14/74 of epoch 54 complete. Loss : 0.2817899371896471 \n",
      "\n",
      "Iteration 28/74 of epoch 54 complete. Loss : 0.29025580414703916 \n",
      "\n",
      "Iteration 42/74 of epoch 54 complete. Loss : 0.28804008875574383 \n"
     ]
    },
    {
     "name": "stderr",
     "output_type": "stream",
     "text": [
      "100%|██████████| 74/74 [00:00<00:00, 204.37it/s]\n",
      "100%|██████████| 19/19 [00:00<00:00, 381.73it/s]\n",
      "  0%|          | 0/74 [00:00<?, ?it/s]"
     ]
    },
    {
     "name": "stdout",
     "output_type": "stream",
     "text": [
      "\n",
      "Iteration 56/74 of epoch 54 complete. Loss : 0.2934641774211611 \n",
      "\n",
      "Iteration 70/74 of epoch 54 complete. Loss : 0.29250454902648926 \n",
      "\n",
      "Epoch 54 complete! Validation Loss : 0.5896263938201102\n",
      "Epoch 54 complete! Validation Accuracy : 0.6997697368421052\n",
      "Best validation loss improved from 0.5896711663195962 to 0.5896263938201102\n",
      "\n"
     ]
    },
    {
     "name": "stderr",
     "output_type": "stream",
     "text": [
      " 55%|█████▌    | 41/74 [00:00<00:00, 200.03it/s]"
     ]
    },
    {
     "name": "stdout",
     "output_type": "stream",
     "text": [
      "\n",
      "Iteration 14/74 of epoch 55 complete. Loss : 0.29363600271088736 \n",
      "\n",
      "Iteration 28/74 of epoch 55 complete. Loss : 0.2893404577459608 \n",
      "\n",
      "Iteration 42/74 of epoch 55 complete. Loss : 0.2906233019062451 \n"
     ]
    },
    {
     "name": "stderr",
     "output_type": "stream",
     "text": [
      "100%|██████████| 74/74 [00:00<00:00, 199.28it/s]\n",
      "100%|██████████| 19/19 [00:00<00:00, 386.81it/s]\n",
      "  0%|          | 0/74 [00:00<?, ?it/s]"
     ]
    },
    {
     "name": "stdout",
     "output_type": "stream",
     "text": [
      "\n",
      "Iteration 56/74 of epoch 55 complete. Loss : 0.2871491717440741 \n",
      "\n",
      "Iteration 70/74 of epoch 55 complete. Loss : 0.2846356949635914 \n",
      "\n",
      "Epoch 55 complete! Validation Loss : 0.5870418768180045\n",
      "Epoch 55 complete! Validation Accuracy : 0.7020559210526316\n",
      "Best validation loss improved from 0.5896263938201102 to 0.5870418768180045\n",
      "\n"
     ]
    },
    {
     "name": "stderr",
     "output_type": "stream",
     "text": [
      " 55%|█████▌    | 41/74 [00:00<00:00, 201.19it/s]"
     ]
    },
    {
     "name": "stdout",
     "output_type": "stream",
     "text": [
      "\n",
      "Iteration 14/74 of epoch 56 complete. Loss : 0.28593097840036663 \n",
      "\n",
      "Iteration 28/74 of epoch 56 complete. Loss : 0.28654018895966665 \n",
      "\n",
      "Iteration 42/74 of epoch 56 complete. Loss : 0.29083497183663504 \n"
     ]
    },
    {
     "name": "stderr",
     "output_type": "stream",
     "text": [
      "100%|██████████| 74/74 [00:00<00:00, 199.70it/s]\n",
      "100%|██████████| 19/19 [00:00<00:00, 383.72it/s]\n",
      "  0%|          | 0/74 [00:00<?, ?it/s]"
     ]
    },
    {
     "name": "stdout",
     "output_type": "stream",
     "text": [
      "\n",
      "Iteration 56/74 of epoch 56 complete. Loss : 0.28457737820489065 \n",
      "\n",
      "Iteration 70/74 of epoch 56 complete. Loss : 0.28936394836221424 \n",
      "\n",
      "Epoch 56 complete! Validation Loss : 0.5846113844921714\n",
      "Epoch 56 complete! Validation Accuracy : 0.7037006578947369\n",
      "Best validation loss improved from 0.5870418768180045 to 0.5846113844921714\n",
      "\n"
     ]
    },
    {
     "name": "stderr",
     "output_type": "stream",
     "text": [
      " 55%|█████▌    | 41/74 [00:00<00:00, 203.11it/s]"
     ]
    },
    {
     "name": "stdout",
     "output_type": "stream",
     "text": [
      "\n",
      "Iteration 14/74 of epoch 57 complete. Loss : 0.2928694763353893 \n",
      "\n",
      "Iteration 28/74 of epoch 57 complete. Loss : 0.2889192913259779 \n",
      "\n",
      "Iteration 42/74 of epoch 57 complete. Loss : 0.27932196855545044 \n"
     ]
    },
    {
     "name": "stderr",
     "output_type": "stream",
     "text": [
      "100%|██████████| 74/74 [00:00<00:00, 200.70it/s]\n",
      "100%|██████████| 19/19 [00:00<00:00, 388.51it/s]\n",
      "  0%|          | 0/74 [00:00<?, ?it/s]"
     ]
    },
    {
     "name": "stdout",
     "output_type": "stream",
     "text": [
      "\n",
      "Iteration 56/74 of epoch 57 complete. Loss : 0.2861719535929816 \n",
      "\n",
      "Iteration 70/74 of epoch 57 complete. Loss : 0.2850242257118225 \n",
      "\n",
      "Epoch 57 complete! Validation Loss : 0.5828358719223424\n",
      "Epoch 57 complete! Validation Accuracy : 0.7051151315789473\n",
      "Best validation loss improved from 0.5846113844921714 to 0.5828358719223424\n",
      "\n"
     ]
    },
    {
     "name": "stderr",
     "output_type": "stream",
     "text": [
      " 53%|█████▎    | 39/74 [00:00<00:00, 194.50it/s]"
     ]
    },
    {
     "name": "stdout",
     "output_type": "stream",
     "text": [
      "\n",
      "Iteration 14/74 of epoch 58 complete. Loss : 0.2767221991504942 \n",
      "\n",
      "Iteration 28/74 of epoch 58 complete. Loss : 0.2889283618756703 \n",
      "\n",
      "Iteration 42/74 of epoch 58 complete. Loss : 0.29070529341697693 \n"
     ]
    },
    {
     "name": "stderr",
     "output_type": "stream",
     "text": [
      "100%|██████████| 74/74 [00:00<00:00, 193.83it/s]\n",
      "100%|██████████| 19/19 [00:00<00:00, 377.88it/s]\n",
      "  0%|          | 0/74 [00:00<?, ?it/s]"
     ]
    },
    {
     "name": "stdout",
     "output_type": "stream",
     "text": [
      "\n",
      "Iteration 56/74 of epoch 58 complete. Loss : 0.2890941117491041 \n",
      "\n",
      "Iteration 70/74 of epoch 58 complete. Loss : 0.28547097955431255 \n",
      "\n",
      "Epoch 58 complete! Validation Loss : 0.5821066122306021\n",
      "Epoch 58 complete! Validation Accuracy : 0.7049342105263158\n",
      "Best validation loss improved from 0.5828358719223424 to 0.5821066122306021\n",
      "\n"
     ]
    },
    {
     "name": "stderr",
     "output_type": "stream",
     "text": [
      " 55%|█████▌    | 41/74 [00:00<00:00, 203.36it/s]"
     ]
    },
    {
     "name": "stdout",
     "output_type": "stream",
     "text": [
      "\n",
      "Iteration 14/74 of epoch 59 complete. Loss : 0.2819011615855353 \n",
      "\n",
      "Iteration 28/74 of epoch 59 complete. Loss : 0.28395100363663267 \n",
      "\n",
      "Iteration 42/74 of epoch 59 complete. Loss : 0.2835913577250072 \n"
     ]
    },
    {
     "name": "stderr",
     "output_type": "stream",
     "text": [
      "100%|██████████| 74/74 [00:00<00:00, 199.22it/s]\n",
      "100%|██████████| 19/19 [00:00<00:00, 389.12it/s]\n",
      "  0%|          | 0/74 [00:00<?, ?it/s]"
     ]
    },
    {
     "name": "stdout",
     "output_type": "stream",
     "text": [
      "\n",
      "Iteration 56/74 of epoch 59 complete. Loss : 0.2856960083757128 \n",
      "\n",
      "Iteration 70/74 of epoch 59 complete. Loss : 0.2834704582180296 \n",
      "\n",
      "Epoch 59 complete! Validation Loss : 0.5828366060005991\n",
      "Epoch 59 complete! Validation Accuracy : 0.7005921052631578\n"
     ]
    },
    {
     "name": "stderr",
     "output_type": "stream",
     "text": [
      " 54%|█████▍    | 40/74 [00:00<00:00, 199.16it/s]"
     ]
    },
    {
     "name": "stdout",
     "output_type": "stream",
     "text": [
      "\n",
      "Iteration 14/74 of epoch 60 complete. Loss : 0.283908095742975 \n",
      "\n",
      "Iteration 28/74 of epoch 60 complete. Loss : 0.2901466318539211 \n",
      "\n",
      "Iteration 42/74 of epoch 60 complete. Loss : 0.28504113640104023 \n"
     ]
    },
    {
     "name": "stderr",
     "output_type": "stream",
     "text": [
      "100%|██████████| 74/74 [00:00<00:00, 197.76it/s]\n",
      "100%|██████████| 19/19 [00:00<00:00, 379.64it/s]\n",
      "  0%|          | 0/74 [00:00<?, ?it/s]"
     ]
    },
    {
     "name": "stdout",
     "output_type": "stream",
     "text": [
      "\n",
      "Iteration 56/74 of epoch 60 complete. Loss : 0.28834597766399384 \n",
      "\n",
      "Iteration 70/74 of epoch 60 complete. Loss : 0.2783004471233913 \n",
      "\n",
      "Epoch 60 complete! Validation Loss : 0.5774015313700626\n",
      "Epoch 60 complete! Validation Accuracy : 0.7092269736842105\n",
      "Best validation loss improved from 0.5821066122306021 to 0.5774015313700626\n",
      "\n"
     ]
    },
    {
     "name": "stderr",
     "output_type": "stream",
     "text": [
      " 55%|█████▌    | 41/74 [00:00<00:00, 200.97it/s]"
     ]
    },
    {
     "name": "stdout",
     "output_type": "stream",
     "text": [
      "\n",
      "Iteration 14/74 of epoch 61 complete. Loss : 0.28433544508048464 \n",
      "\n",
      "Iteration 28/74 of epoch 61 complete. Loss : 0.2857713145869119 \n",
      "\n",
      "Iteration 42/74 of epoch 61 complete. Loss : 0.2781072131225041 \n"
     ]
    },
    {
     "name": "stderr",
     "output_type": "stream",
     "text": [
      "100%|██████████| 74/74 [00:00<00:00, 198.88it/s]\n",
      "100%|██████████| 19/19 [00:00<00:00, 385.09it/s]\n",
      "  0%|          | 0/74 [00:00<?, ?it/s]"
     ]
    },
    {
     "name": "stdout",
     "output_type": "stream",
     "text": [
      "\n",
      "Iteration 56/74 of epoch 61 complete. Loss : 0.286748577441488 \n",
      "\n",
      "Iteration 70/74 of epoch 61 complete. Loss : 0.28399198395865305 \n",
      "\n",
      "Epoch 61 complete! Validation Loss : 0.5763013331513656\n",
      "Epoch 61 complete! Validation Accuracy : 0.7077631578947369\n",
      "Best validation loss improved from 0.5774015313700626 to 0.5763013331513656\n",
      "\n"
     ]
    },
    {
     "name": "stderr",
     "output_type": "stream",
     "text": [
      " 54%|█████▍    | 40/74 [00:00<00:00, 197.51it/s]"
     ]
    },
    {
     "name": "stdout",
     "output_type": "stream",
     "text": [
      "\n",
      "Iteration 14/74 of epoch 62 complete. Loss : 0.2833594594682966 \n",
      "\n",
      "Iteration 28/74 of epoch 62 complete. Loss : 0.28503142084394184 \n",
      "\n",
      "Iteration 42/74 of epoch 62 complete. Loss : 0.28350808152130674 \n"
     ]
    },
    {
     "name": "stderr",
     "output_type": "stream",
     "text": [
      "100%|██████████| 74/74 [00:00<00:00, 196.64it/s]\n",
      "100%|██████████| 19/19 [00:00<00:00, 382.47it/s]\n",
      "  0%|          | 0/74 [00:00<?, ?it/s]"
     ]
    },
    {
     "name": "stdout",
     "output_type": "stream",
     "text": [
      "\n",
      "Iteration 56/74 of epoch 62 complete. Loss : 0.2776847055980137 \n",
      "\n",
      "Iteration 70/74 of epoch 62 complete. Loss : 0.28277782031467985 \n",
      "\n",
      "Epoch 62 complete! Validation Loss : 0.5753817683772037\n",
      "Epoch 62 complete! Validation Accuracy : 0.7089967105263157\n",
      "Best validation loss improved from 0.5763013331513656 to 0.5753817683772037\n",
      "\n"
     ]
    },
    {
     "name": "stderr",
     "output_type": "stream",
     "text": [
      " 55%|█████▌    | 41/74 [00:00<00:00, 200.63it/s]"
     ]
    },
    {
     "name": "stdout",
     "output_type": "stream",
     "text": [
      "\n",
      "Iteration 14/74 of epoch 63 complete. Loss : 0.2874382563999721 \n",
      "\n",
      "Iteration 28/74 of epoch 63 complete. Loss : 0.281186859522547 \n",
      "\n",
      "Iteration 42/74 of epoch 63 complete. Loss : 0.2730107435158321 \n"
     ]
    },
    {
     "name": "stderr",
     "output_type": "stream",
     "text": [
      "100%|██████████| 74/74 [00:00<00:00, 198.42it/s]\n",
      "100%|██████████| 19/19 [00:00<00:00, 382.47it/s]\n",
      "  0%|          | 0/74 [00:00<?, ?it/s]"
     ]
    },
    {
     "name": "stdout",
     "output_type": "stream",
     "text": [
      "\n",
      "Iteration 56/74 of epoch 63 complete. Loss : 0.28269036752837046 \n",
      "\n",
      "Iteration 70/74 of epoch 63 complete. Loss : 0.2818133256265095 \n",
      "\n",
      "Epoch 63 complete! Validation Loss : 0.5738641964761835\n",
      "Epoch 63 complete! Validation Accuracy : 0.7096381578947368\n",
      "Best validation loss improved from 0.5753817683772037 to 0.5738641964761835\n",
      "\n"
     ]
    },
    {
     "name": "stderr",
     "output_type": "stream",
     "text": [
      " 54%|█████▍    | 40/74 [00:00<00:00, 197.56it/s]"
     ]
    },
    {
     "name": "stdout",
     "output_type": "stream",
     "text": [
      "\n",
      "Iteration 14/74 of epoch 64 complete. Loss : 0.2774428001471928 \n",
      "\n",
      "Iteration 28/74 of epoch 64 complete. Loss : 0.282976752945355 \n",
      "\n",
      "Iteration 42/74 of epoch 64 complete. Loss : 0.28489866852760315 \n"
     ]
    },
    {
     "name": "stderr",
     "output_type": "stream",
     "text": [
      "100%|██████████| 74/74 [00:00<00:00, 196.24it/s]\n",
      "100%|██████████| 19/19 [00:00<00:00, 388.24it/s]\n",
      "  0%|          | 0/74 [00:00<?, ?it/s]"
     ]
    },
    {
     "name": "stdout",
     "output_type": "stream",
     "text": [
      "\n",
      "Iteration 56/74 of epoch 64 complete. Loss : 0.279554973755564 \n",
      "\n",
      "Iteration 70/74 of epoch 64 complete. Loss : 0.27645606228283476 \n",
      "\n",
      "Epoch 64 complete! Validation Loss : 0.5740517377853394\n",
      "Epoch 64 complete! Validation Accuracy : 0.711282894736842\n"
     ]
    },
    {
     "name": "stderr",
     "output_type": "stream",
     "text": [
      " 54%|█████▍    | 40/74 [00:00<00:00, 199.35it/s]"
     ]
    },
    {
     "name": "stdout",
     "output_type": "stream",
     "text": [
      "\n",
      "Iteration 14/74 of epoch 65 complete. Loss : 0.2856394478252956 \n",
      "\n",
      "Iteration 28/74 of epoch 65 complete. Loss : 0.27615479486329214 \n",
      "\n",
      "Iteration 42/74 of epoch 65 complete. Loss : 0.2788286017520087 \n"
     ]
    },
    {
     "name": "stderr",
     "output_type": "stream",
     "text": [
      "100%|██████████| 74/74 [00:00<00:00, 194.92it/s]\n",
      "100%|██████████| 19/19 [00:00<00:00, 384.00it/s]\n",
      "  0%|          | 0/74 [00:00<?, ?it/s]"
     ]
    },
    {
     "name": "stdout",
     "output_type": "stream",
     "text": [
      "\n",
      "Iteration 56/74 of epoch 65 complete. Loss : 0.27828926912375856 \n",
      "\n",
      "Iteration 70/74 of epoch 65 complete. Loss : 0.27904474096638815 \n",
      "\n",
      "Epoch 65 complete! Validation Loss : 0.5713221117069847\n",
      "Epoch 65 complete! Validation Accuracy : 0.7114638157894737\n",
      "Best validation loss improved from 0.5738641964761835 to 0.5713221117069847\n",
      "\n"
     ]
    },
    {
     "name": "stderr",
     "output_type": "stream",
     "text": [
      " 55%|█████▌    | 41/74 [00:00<00:00, 198.05it/s]"
     ]
    },
    {
     "name": "stdout",
     "output_type": "stream",
     "text": [
      "\n",
      "Iteration 14/74 of epoch 66 complete. Loss : 0.2797329319374902 \n",
      "\n",
      "Iteration 28/74 of epoch 66 complete. Loss : 0.28682848811149597 \n",
      "\n",
      "Iteration 42/74 of epoch 66 complete. Loss : 0.27645530658108847 \n"
     ]
    },
    {
     "name": "stderr",
     "output_type": "stream",
     "text": [
      "100%|██████████| 74/74 [00:00<00:00, 199.53it/s]\n",
      "100%|██████████| 19/19 [00:00<00:00, 385.42it/s]\n",
      "  0%|          | 0/74 [00:00<?, ?it/s]"
     ]
    },
    {
     "name": "stdout",
     "output_type": "stream",
     "text": [
      "\n",
      "Iteration 56/74 of epoch 66 complete. Loss : 0.277149247271674 \n",
      "\n",
      "Iteration 70/74 of epoch 66 complete. Loss : 0.27782572167260305 \n",
      "\n",
      "Epoch 66 complete! Validation Loss : 0.5702238584819593\n",
      "Epoch 66 complete! Validation Accuracy : 0.710641447368421\n",
      "Best validation loss improved from 0.5713221117069847 to 0.5702238584819593\n",
      "\n"
     ]
    },
    {
     "name": "stderr",
     "output_type": "stream",
     "text": [
      " 57%|█████▋    | 42/74 [00:00<00:00, 204.03it/s]"
     ]
    },
    {
     "name": "stdout",
     "output_type": "stream",
     "text": [
      "\n",
      "Iteration 14/74 of epoch 67 complete. Loss : 0.27646024205854963 \n",
      "\n",
      "Iteration 28/74 of epoch 67 complete. Loss : 0.28073735002960476 \n",
      "\n",
      "Iteration 42/74 of epoch 67 complete. Loss : 0.2839976655585425 \n"
     ]
    },
    {
     "name": "stderr",
     "output_type": "stream",
     "text": [
      "100%|██████████| 74/74 [00:00<00:00, 200.93it/s]\n",
      "100%|██████████| 19/19 [00:00<00:00, 353.17it/s]\n",
      "  0%|          | 0/74 [00:00<?, ?it/s]"
     ]
    },
    {
     "name": "stdout",
     "output_type": "stream",
     "text": [
      "\n",
      "Iteration 56/74 of epoch 67 complete. Loss : 0.27218339485781534 \n",
      "\n",
      "Iteration 70/74 of epoch 67 complete. Loss : 0.2800067131008421 \n",
      "\n",
      "Epoch 67 complete! Validation Loss : 0.569694343366121\n",
      "Epoch 67 complete! Validation Accuracy : 0.7129276315789473\n",
      "Best validation loss improved from 0.5702238584819593 to 0.569694343366121\n",
      "\n"
     ]
    },
    {
     "name": "stderr",
     "output_type": "stream",
     "text": [
      " 27%|██▋       | 20/74 [00:00<00:00, 199.43it/s]"
     ]
    },
    {
     "name": "stdout",
     "output_type": "stream",
     "text": [
      "\n",
      "Iteration 14/74 of epoch 68 complete. Loss : 0.27461738884449005 \n",
      "\n",
      "Iteration 28/74 of epoch 68 complete. Loss : 0.2762194871902466 \n"
     ]
    },
    {
     "name": "stderr",
     "output_type": "stream",
     "text": [
      "100%|██████████| 74/74 [00:00<00:00, 137.17it/s]\n",
      "  0%|          | 0/19 [00:00<?, ?it/s]"
     ]
    },
    {
     "name": "stdout",
     "output_type": "stream",
     "text": [
      "\n",
      "Iteration 42/74 of epoch 68 complete. Loss : 0.27578871165003094 \n",
      "\n",
      "Iteration 56/74 of epoch 68 complete. Loss : 0.27769072566713604 \n",
      "\n",
      "Iteration 70/74 of epoch 68 complete. Loss : 0.2846086770296097 \n"
     ]
    },
    {
     "name": "stderr",
     "output_type": "stream",
     "text": [
      "100%|██████████| 19/19 [00:00<00:00, 378.53it/s]\n",
      " 28%|██▊       | 21/74 [00:00<00:00, 205.20it/s]"
     ]
    },
    {
     "name": "stdout",
     "output_type": "stream",
     "text": [
      "\n",
      "Epoch 68 complete! Validation Loss : 0.5695883129772387\n",
      "Epoch 68 complete! Validation Accuracy : 0.7145723684210527\n",
      "Best validation loss improved from 0.569694343366121 to 0.5695883129772387\n",
      "\n",
      "\n",
      "Iteration 14/74 of epoch 69 complete. Loss : 0.27725277841091156 \n",
      "\n",
      "Iteration 28/74 of epoch 69 complete. Loss : 0.27497384377888273 \n"
     ]
    },
    {
     "name": "stderr",
     "output_type": "stream",
     "text": [
      "100%|██████████| 74/74 [00:00<00:00, 198.49it/s]\n",
      "  0%|          | 0/19 [00:00<?, ?it/s]"
     ]
    },
    {
     "name": "stdout",
     "output_type": "stream",
     "text": [
      "\n",
      "Iteration 42/74 of epoch 69 complete. Loss : 0.28293565128530773 \n",
      "\n",
      "Iteration 56/74 of epoch 69 complete. Loss : 0.27287228192601887 \n",
      "\n",
      "Iteration 70/74 of epoch 69 complete. Loss : 0.2780905067920685 \n"
     ]
    },
    {
     "name": "stderr",
     "output_type": "stream",
     "text": [
      "100%|██████████| 19/19 [00:00<00:00, 369.87it/s]\n",
      " 27%|██▋       | 20/74 [00:00<00:00, 199.64it/s]"
     ]
    },
    {
     "name": "stdout",
     "output_type": "stream",
     "text": [
      "\n",
      "Epoch 69 complete! Validation Loss : 0.567575708815926\n",
      "Epoch 69 complete! Validation Accuracy : 0.7116940789473684\n",
      "Best validation loss improved from 0.5695883129772387 to 0.567575708815926\n",
      "\n",
      "\n",
      "Iteration 14/74 of epoch 70 complete. Loss : 0.27553404016154154 \n",
      "\n",
      "Iteration 28/74 of epoch 70 complete. Loss : 0.27868505141564776 \n"
     ]
    },
    {
     "name": "stderr",
     "output_type": "stream",
     "text": [
      "100%|██████████| 74/74 [00:00<00:00, 199.06it/s]\n",
      "  0%|          | 0/19 [00:00<?, ?it/s]"
     ]
    },
    {
     "name": "stdout",
     "output_type": "stream",
     "text": [
      "\n",
      "Iteration 42/74 of epoch 70 complete. Loss : 0.2793227753468922 \n",
      "\n",
      "Iteration 56/74 of epoch 70 complete. Loss : 0.27463967885289875 \n",
      "\n",
      "Iteration 70/74 of epoch 70 complete. Loss : 0.2747914493083954 \n"
     ]
    },
    {
     "name": "stderr",
     "output_type": "stream",
     "text": [
      "100%|██████████| 19/19 [00:00<00:00, 383.56it/s]\n",
      " 28%|██▊       | 21/74 [00:00<00:00, 203.93it/s]"
     ]
    },
    {
     "name": "stdout",
     "output_type": "stream",
     "text": [
      "\n",
      "Epoch 70 complete! Validation Loss : 0.5706473275234825\n",
      "Epoch 70 complete! Validation Accuracy : 0.7102302631578947\n",
      "\n",
      "Iteration 14/74 of epoch 71 complete. Loss : 0.2808789781161717 \n",
      "\n",
      "Iteration 28/74 of epoch 71 complete. Loss : 0.27573540061712265 \n"
     ]
    },
    {
     "name": "stderr",
     "output_type": "stream",
     "text": [
      "100%|██████████| 74/74 [00:00<00:00, 200.58it/s]\n",
      "  0%|          | 0/19 [00:00<?, ?it/s]"
     ]
    },
    {
     "name": "stdout",
     "output_type": "stream",
     "text": [
      "\n",
      "Iteration 42/74 of epoch 71 complete. Loss : 0.2790845973151071 \n",
      "\n",
      "Iteration 56/74 of epoch 71 complete. Loss : 0.2777946484940393 \n",
      "\n",
      "Iteration 70/74 of epoch 71 complete. Loss : 0.26976120684828075 \n"
     ]
    },
    {
     "name": "stderr",
     "output_type": "stream",
     "text": [
      "100%|██████████| 19/19 [00:00<00:00, 382.64it/s]\n",
      " 28%|██▊       | 21/74 [00:00<00:00, 204.77it/s]"
     ]
    },
    {
     "name": "stdout",
     "output_type": "stream",
     "text": [
      "\n",
      "Epoch 71 complete! Validation Loss : 0.5679019815043399\n",
      "Epoch 71 complete! Validation Accuracy : 0.710641447368421\n",
      "\n",
      "Iteration 14/74 of epoch 72 complete. Loss : 0.2714239571775709 \n",
      "\n",
      "Iteration 28/74 of epoch 72 complete. Loss : 0.2765921247856958 \n"
     ]
    },
    {
     "name": "stderr",
     "output_type": "stream",
     "text": [
      "100%|██████████| 74/74 [00:00<00:00, 200.89it/s]\n",
      "  0%|          | 0/19 [00:00<?, ?it/s]"
     ]
    },
    {
     "name": "stdout",
     "output_type": "stream",
     "text": [
      "\n",
      "Iteration 42/74 of epoch 72 complete. Loss : 0.27507294501577106 \n",
      "\n",
      "Iteration 56/74 of epoch 72 complete. Loss : 0.28127115752015797 \n",
      "\n",
      "Iteration 70/74 of epoch 72 complete. Loss : 0.2710885490689959 \n"
     ]
    },
    {
     "name": "stderr",
     "output_type": "stream",
     "text": [
      "100%|██████████| 19/19 [00:00<00:00, 378.20it/s]\n",
      " 28%|██▊       | 21/74 [00:00<00:00, 202.11it/s]"
     ]
    },
    {
     "name": "stdout",
     "output_type": "stream",
     "text": [
      "\n",
      "Epoch 72 complete! Validation Loss : 0.5644967493258024\n",
      "Epoch 72 complete! Validation Accuracy : 0.7149342105263158\n",
      "Best validation loss improved from 0.567575708815926 to 0.5644967493258024\n",
      "\n",
      "\n",
      "Iteration 14/74 of epoch 73 complete. Loss : 0.27796047925949097 \n",
      "\n",
      "Iteration 28/74 of epoch 73 complete. Loss : 0.2749102009194238 \n"
     ]
    },
    {
     "name": "stderr",
     "output_type": "stream",
     "text": [
      "100%|██████████| 74/74 [00:00<00:00, 195.43it/s]\n",
      "  0%|          | 0/19 [00:00<?, ?it/s]"
     ]
    },
    {
     "name": "stdout",
     "output_type": "stream",
     "text": [
      "\n",
      "Iteration 42/74 of epoch 73 complete. Loss : 0.27324461724076954 \n",
      "\n",
      "Iteration 56/74 of epoch 73 complete. Loss : 0.27668386484895435 \n",
      "\n",
      "Iteration 70/74 of epoch 73 complete. Loss : 0.27258104937417166 \n"
     ]
    },
    {
     "name": "stderr",
     "output_type": "stream",
     "text": [
      "100%|██████████| 19/19 [00:00<00:00, 378.07it/s]\n",
      " 28%|██▊       | 21/74 [00:00<00:00, 206.81it/s]"
     ]
    },
    {
     "name": "stdout",
     "output_type": "stream",
     "text": [
      "\n",
      "Epoch 73 complete! Validation Loss : 0.5635905736371091\n",
      "Epoch 73 complete! Validation Accuracy : 0.7120559210526316\n",
      "Best validation loss improved from 0.5644967493258024 to 0.5635905736371091\n",
      "\n",
      "\n",
      "Iteration 14/74 of epoch 74 complete. Loss : 0.27613293698855806 \n",
      "\n",
      "Iteration 28/74 of epoch 74 complete. Loss : 0.268098173396928 \n"
     ]
    },
    {
     "name": "stderr",
     "output_type": "stream",
     "text": [
      "100%|██████████| 74/74 [00:00<00:00, 200.80it/s]\n",
      "  0%|          | 0/19 [00:00<?, ?it/s]"
     ]
    },
    {
     "name": "stdout",
     "output_type": "stream",
     "text": [
      "\n",
      "Iteration 42/74 of epoch 74 complete. Loss : 0.26628062235457556 \n",
      "\n",
      "Iteration 56/74 of epoch 74 complete. Loss : 0.2805986872741154 \n",
      "\n",
      "Iteration 70/74 of epoch 74 complete. Loss : 0.27870242297649384 \n"
     ]
    },
    {
     "name": "stderr",
     "output_type": "stream",
     "text": [
      "100%|██████████| 19/19 [00:00<00:00, 380.50it/s]\n",
      " 28%|██▊       | 21/74 [00:00<00:00, 205.21it/s]"
     ]
    },
    {
     "name": "stdout",
     "output_type": "stream",
     "text": [
      "\n",
      "Epoch 74 complete! Validation Loss : 0.5636968581300033\n",
      "Epoch 74 complete! Validation Accuracy : 0.7131085526315789\n",
      "\n",
      "Iteration 14/74 of epoch 75 complete. Loss : 0.2777369043656758 \n",
      "\n",
      "Iteration 28/74 of epoch 75 complete. Loss : 0.2712745602641787 \n"
     ]
    },
    {
     "name": "stderr",
     "output_type": "stream",
     "text": [
      "100%|██████████| 74/74 [00:00<00:00, 196.40it/s]\n",
      "  0%|          | 0/19 [00:00<?, ?it/s]"
     ]
    },
    {
     "name": "stdout",
     "output_type": "stream",
     "text": [
      "\n",
      "Iteration 42/74 of epoch 75 complete. Loss : 0.2767189091869763 \n",
      "\n",
      "Iteration 56/74 of epoch 75 complete. Loss : 0.2661493495106697 \n",
      "\n",
      "Iteration 70/74 of epoch 75 complete. Loss : 0.27450780996254515 \n"
     ]
    },
    {
     "name": "stderr",
     "output_type": "stream",
     "text": [
      "100%|██████████| 19/19 [00:00<00:00, 375.29it/s]\n",
      " 26%|██▌       | 19/74 [00:00<00:00, 187.16it/s]"
     ]
    },
    {
     "name": "stdout",
     "output_type": "stream",
     "text": [
      "\n",
      "Epoch 75 complete! Validation Loss : 0.5698892631028828\n",
      "Epoch 75 complete! Validation Accuracy : 0.7116940789473684\n",
      "\n",
      "Iteration 14/74 of epoch 76 complete. Loss : 0.26917611594711033 \n",
      "\n",
      "Iteration 28/74 of epoch 76 complete. Loss : 0.2721749075821468 \n"
     ]
    },
    {
     "name": "stderr",
     "output_type": "stream",
     "text": [
      "100%|██████████| 74/74 [00:00<00:00, 194.05it/s]\n",
      "  0%|          | 0/19 [00:00<?, ?it/s]"
     ]
    },
    {
     "name": "stdout",
     "output_type": "stream",
     "text": [
      "\n",
      "Iteration 42/74 of epoch 76 complete. Loss : 0.27305186646325247 \n",
      "\n",
      "Iteration 56/74 of epoch 76 complete. Loss : 0.2750138970358031 \n",
      "\n",
      "Iteration 70/74 of epoch 76 complete. Loss : 0.2717923883880888 \n"
     ]
    },
    {
     "name": "stderr",
     "output_type": "stream",
     "text": [
      "100%|██████████| 19/19 [00:00<00:00, 383.75it/s]\n",
      " 23%|██▎       | 17/74 [00:00<00:00, 163.55it/s]"
     ]
    },
    {
     "name": "stdout",
     "output_type": "stream",
     "text": [
      "\n",
      "Epoch 76 complete! Validation Loss : 0.5612360882131677\n",
      "Epoch 76 complete! Validation Accuracy : 0.7120559210526316\n",
      "Best validation loss improved from 0.5635905736371091 to 0.5612360882131677\n",
      "\n",
      "\n",
      "Iteration 14/74 of epoch 77 complete. Loss : 0.27176746087414877 \n",
      "\n",
      "Iteration 28/74 of epoch 77 complete. Loss : 0.26754521472113474 \n"
     ]
    },
    {
     "name": "stderr",
     "output_type": "stream",
     "text": [
      "100%|██████████| 74/74 [00:00<00:00, 162.25it/s]\n",
      "  0%|          | 0/19 [00:00<?, ?it/s]"
     ]
    },
    {
     "name": "stdout",
     "output_type": "stream",
     "text": [
      "\n",
      "Iteration 42/74 of epoch 77 complete. Loss : 0.2716587090066501 \n",
      "\n",
      "Iteration 56/74 of epoch 77 complete. Loss : 0.27553788253239225 \n",
      "\n",
      "Iteration 70/74 of epoch 77 complete. Loss : 0.26883683034351896 \n"
     ]
    },
    {
     "name": "stderr",
     "output_type": "stream",
     "text": [
      "100%|██████████| 19/19 [00:00<00:00, 277.61it/s]\n",
      " 23%|██▎       | 17/74 [00:00<00:00, 168.28it/s]"
     ]
    },
    {
     "name": "stdout",
     "output_type": "stream",
     "text": [
      "\n",
      "Epoch 77 complete! Validation Loss : 0.5605751699522922\n",
      "Epoch 77 complete! Validation Accuracy : 0.7137006578947368\n",
      "Best validation loss improved from 0.5612360882131677 to 0.5605751699522922\n",
      "\n",
      "\n",
      "Iteration 14/74 of epoch 78 complete. Loss : 0.27769979408809115 \n",
      "\n",
      "Iteration 28/74 of epoch 78 complete. Loss : 0.27882149815559387 \n"
     ]
    },
    {
     "name": "stderr",
     "output_type": "stream",
     "text": [
      "100%|██████████| 74/74 [00:00<00:00, 164.37it/s]\n",
      "  0%|          | 0/19 [00:00<?, ?it/s]"
     ]
    },
    {
     "name": "stdout",
     "output_type": "stream",
     "text": [
      "\n",
      "Iteration 42/74 of epoch 78 complete. Loss : 0.26329606984342846 \n",
      "\n",
      "Iteration 56/74 of epoch 78 complete. Loss : 0.2689720807330949 \n",
      "\n",
      "Iteration 70/74 of epoch 78 complete. Loss : 0.266198211482593 \n"
     ]
    },
    {
     "name": "stderr",
     "output_type": "stream",
     "text": [
      "100%|██████████| 19/19 [00:00<00:00, 276.48it/s]\n",
      " 23%|██▎       | 17/74 [00:00<00:00, 169.40it/s]"
     ]
    },
    {
     "name": "stdout",
     "output_type": "stream",
     "text": [
      "\n",
      "Epoch 78 complete! Validation Loss : 0.5643478177095714\n",
      "Epoch 78 complete! Validation Accuracy : 0.7121052631578947\n",
      "\n",
      "Iteration 14/74 of epoch 79 complete. Loss : 0.2730431631207466 \n",
      "\n",
      "Iteration 28/74 of epoch 79 complete. Loss : 0.2665321890796934 \n"
     ]
    },
    {
     "name": "stderr",
     "output_type": "stream",
     "text": [
      "100%|██████████| 74/74 [00:00<00:00, 164.66it/s]\n",
      "  0%|          | 0/19 [00:00<?, ?it/s]"
     ]
    },
    {
     "name": "stdout",
     "output_type": "stream",
     "text": [
      "\n",
      "Iteration 42/74 of epoch 79 complete. Loss : 0.27681462466716766 \n",
      "\n",
      "Iteration 56/74 of epoch 79 complete. Loss : 0.26908803092581884 \n",
      "\n",
      "Iteration 70/74 of epoch 79 complete. Loss : 0.2691191200699125 \n"
     ]
    },
    {
     "name": "stderr",
     "output_type": "stream",
     "text": [
      "100%|██████████| 19/19 [00:00<00:00, 278.89it/s]\n",
      " 23%|██▎       | 17/74 [00:00<00:00, 168.53it/s]"
     ]
    },
    {
     "name": "stdout",
     "output_type": "stream",
     "text": [
      "\n",
      "Epoch 79 complete! Validation Loss : 0.5589494611087599\n",
      "Epoch 79 complete! Validation Accuracy : 0.7194572368421053\n",
      "Best validation loss improved from 0.5605751699522922 to 0.5589494611087599\n",
      "\n",
      "\n",
      "Iteration 14/74 of epoch 80 complete. Loss : 0.2766037146959986 \n",
      "\n",
      "Iteration 28/74 of epoch 80 complete. Loss : 0.26389877178839277 \n"
     ]
    },
    {
     "name": "stderr",
     "output_type": "stream",
     "text": [
      "100%|██████████| 74/74 [00:00<00:00, 163.91it/s]\n",
      "  0%|          | 0/19 [00:00<?, ?it/s]"
     ]
    },
    {
     "name": "stdout",
     "output_type": "stream",
     "text": [
      "\n",
      "Iteration 42/74 of epoch 80 complete. Loss : 0.2660177318113191 \n",
      "\n",
      "Iteration 56/74 of epoch 80 complete. Loss : 0.2726499299917902 \n",
      "\n",
      "Iteration 70/74 of epoch 80 complete. Loss : 0.2770744849528585 \n"
     ]
    },
    {
     "name": "stderr",
     "output_type": "stream",
     "text": [
      "100%|██████████| 19/19 [00:00<00:00, 281.33it/s]\n",
      " 23%|██▎       | 17/74 [00:00<00:00, 168.02it/s]"
     ]
    },
    {
     "name": "stdout",
     "output_type": "stream",
     "text": [
      "\n",
      "Epoch 80 complete! Validation Loss : 0.5593761378212979\n",
      "Epoch 80 complete! Validation Accuracy : 0.7145230263157895\n",
      "\n",
      "Iteration 14/74 of epoch 81 complete. Loss : 0.27165365325553076 \n",
      "\n",
      "Iteration 28/74 of epoch 81 complete. Loss : 0.26766721052782877 \n"
     ]
    },
    {
     "name": "stderr",
     "output_type": "stream",
     "text": [
      "100%|██████████| 74/74 [00:00<00:00, 163.81it/s]\n",
      "  0%|          | 0/19 [00:00<?, ?it/s]"
     ]
    },
    {
     "name": "stdout",
     "output_type": "stream",
     "text": [
      "\n",
      "Iteration 42/74 of epoch 81 complete. Loss : 0.2704522194606917 \n",
      "\n",
      "Iteration 56/74 of epoch 81 complete. Loss : 0.27102919455085484 \n",
      "\n",
      "Iteration 70/74 of epoch 81 complete. Loss : 0.2711749289716993 \n"
     ]
    },
    {
     "name": "stderr",
     "output_type": "stream",
     "text": [
      "100%|██████████| 19/19 [00:00<00:00, 279.17it/s]\n",
      " 23%|██▎       | 17/74 [00:00<00:00, 170.00it/s]"
     ]
    },
    {
     "name": "stdout",
     "output_type": "stream",
     "text": [
      "\n",
      "Epoch 81 complete! Validation Loss : 0.5576207292707342\n",
      "Epoch 81 complete! Validation Accuracy : 0.7182236842105263\n",
      "Best validation loss improved from 0.5589494611087599 to 0.5576207292707342\n",
      "\n",
      "\n",
      "Iteration 14/74 of epoch 82 complete. Loss : 0.26316911088568823 \n",
      "\n",
      "Iteration 28/74 of epoch 82 complete. Loss : 0.27014170054878506 \n"
     ]
    },
    {
     "name": "stderr",
     "output_type": "stream",
     "text": [
      "100%|██████████| 74/74 [00:00<00:00, 164.07it/s]\n",
      "  0%|          | 0/19 [00:00<?, ?it/s]"
     ]
    },
    {
     "name": "stdout",
     "output_type": "stream",
     "text": [
      "\n",
      "Iteration 42/74 of epoch 82 complete. Loss : 0.27111399280173437 \n",
      "\n",
      "Iteration 56/74 of epoch 82 complete. Loss : 0.27111190238169264 \n",
      "\n",
      "Iteration 70/74 of epoch 82 complete. Loss : 0.27054900037390844 \n"
     ]
    },
    {
     "name": "stderr",
     "output_type": "stream",
     "text": [
      "100%|██████████| 19/19 [00:00<00:00, 273.76it/s]\n",
      " 26%|██▌       | 19/74 [00:00<00:00, 185.49it/s]"
     ]
    },
    {
     "name": "stdout",
     "output_type": "stream",
     "text": [
      "\n",
      "Epoch 82 complete! Validation Loss : 0.5597523968470725\n",
      "Epoch 82 complete! Validation Accuracy : 0.7168092105263157\n",
      "\n",
      "Iteration 14/74 of epoch 83 complete. Loss : 0.278051169855254 \n",
      "\n",
      "Iteration 28/74 of epoch 83 complete. Loss : 0.26356514011110577 \n"
     ]
    },
    {
     "name": "stderr",
     "output_type": "stream",
     "text": [
      "100%|██████████| 74/74 [00:00<00:00, 193.42it/s]\n",
      "100%|██████████| 19/19 [00:00<00:00, 389.14it/s]"
     ]
    },
    {
     "name": "stdout",
     "output_type": "stream",
     "text": [
      "\n",
      "Iteration 42/74 of epoch 83 complete. Loss : 0.2728921834911619 \n",
      "\n",
      "Iteration 56/74 of epoch 83 complete. Loss : 0.27054048010281156 \n",
      "\n",
      "Iteration 70/74 of epoch 83 complete. Loss : 0.2642332911491394 \n"
     ]
    },
    {
     "name": "stderr",
     "output_type": "stream",
     "text": [
      "\n",
      " 30%|██▉       | 22/74 [00:00<00:00, 214.71it/s]"
     ]
    },
    {
     "name": "stdout",
     "output_type": "stream",
     "text": [
      "\n",
      "Epoch 83 complete! Validation Loss : 0.5563193716500935\n",
      "Epoch 83 complete! Validation Accuracy : 0.7196381578947368\n",
      "Best validation loss improved from 0.5576207292707342 to 0.5563193716500935\n",
      "\n",
      "\n",
      "Iteration 14/74 of epoch 84 complete. Loss : 0.26713521033525467 \n",
      "\n",
      "Iteration 28/74 of epoch 84 complete. Loss : 0.26775880583695005 \n"
     ]
    },
    {
     "name": "stderr",
     "output_type": "stream",
     "text": [
      "100%|██████████| 74/74 [00:00<00:00, 205.72it/s]\n",
      "  0%|          | 0/19 [00:00<?, ?it/s]"
     ]
    },
    {
     "name": "stdout",
     "output_type": "stream",
     "text": [
      "\n",
      "Iteration 42/74 of epoch 84 complete. Loss : 0.2723364979028702 \n",
      "\n",
      "Iteration 56/74 of epoch 84 complete. Loss : 0.2675435340830258 \n",
      "\n",
      "Iteration 70/74 of epoch 84 complete. Loss : 0.26639820422445026 \n"
     ]
    },
    {
     "name": "stderr",
     "output_type": "stream",
     "text": [
      "100%|██████████| 19/19 [00:00<00:00, 384.59it/s]\n",
      " 30%|██▉       | 22/74 [00:00<00:00, 214.56it/s]"
     ]
    },
    {
     "name": "stdout",
     "output_type": "stream",
     "text": [
      "\n",
      "Epoch 84 complete! Validation Loss : 0.5646060124823922\n",
      "Epoch 84 complete! Validation Accuracy : 0.7082236842105264\n",
      "\n",
      "Iteration 14/74 of epoch 85 complete. Loss : 0.2699709917817797 \n",
      "\n",
      "Iteration 28/74 of epoch 85 complete. Loss : 0.269762858748436 \n",
      "\n",
      "Iteration 42/74 of epoch 85 complete. Loss : 0.2687614528196199 \n"
     ]
    },
    {
     "name": "stderr",
     "output_type": "stream",
     "text": [
      "100%|██████████| 74/74 [00:00<00:00, 209.69it/s]\n",
      "100%|██████████| 19/19 [00:00<00:00, 381.47it/s]\n",
      "  0%|          | 0/74 [00:00<?, ?it/s]"
     ]
    },
    {
     "name": "stdout",
     "output_type": "stream",
     "text": [
      "\n",
      "Iteration 56/74 of epoch 85 complete. Loss : 0.26557234461818424 \n",
      "\n",
      "Iteration 70/74 of epoch 85 complete. Loss : 0.2658142170735768 \n",
      "\n",
      "Epoch 85 complete! Validation Loss : 0.555680502402155\n",
      "Epoch 85 complete! Validation Accuracy : 0.7233881578947369\n",
      "Best validation loss improved from 0.5563193716500935 to 0.555680502402155\n",
      "\n"
     ]
    },
    {
     "name": "stderr",
     "output_type": "stream",
     "text": [
      " 59%|█████▉    | 44/74 [00:00<00:00, 214.00it/s]"
     ]
    },
    {
     "name": "stdout",
     "output_type": "stream",
     "text": [
      "\n",
      "Iteration 14/74 of epoch 86 complete. Loss : 0.2644450824175562 \n",
      "\n",
      "Iteration 28/74 of epoch 86 complete. Loss : 0.2650178426078388 \n",
      "\n",
      "Iteration 42/74 of epoch 86 complete. Loss : 0.26850552537611555 \n",
      "\n",
      "Iteration 56/74 of epoch 86 complete. Loss : 0.2665647119283676 \n"
     ]
    },
    {
     "name": "stderr",
     "output_type": "stream",
     "text": [
      "100%|██████████| 74/74 [00:00<00:00, 212.06it/s]\n",
      "100%|██████████| 19/19 [00:00<00:00, 389.72it/s]\n",
      "  0%|          | 0/74 [00:00<?, ?it/s]"
     ]
    },
    {
     "name": "stdout",
     "output_type": "stream",
     "text": [
      "\n",
      "Iteration 70/74 of epoch 86 complete. Loss : 0.2722568213939667 \n",
      "\n",
      "Epoch 86 complete! Validation Loss : 0.5556706660672238\n",
      "Epoch 86 complete! Validation Accuracy : 0.7221546052631579\n",
      "Best validation loss improved from 0.555680502402155 to 0.5556706660672238\n",
      "\n",
      "\n",
      "Iteration 14/74 of epoch 87 complete. Loss : 0.2659151011279651 \n"
     ]
    },
    {
     "name": "stderr",
     "output_type": "stream",
     "text": [
      " 88%|████████▊ | 65/74 [00:00<00:00, 211.73it/s]"
     ]
    },
    {
     "name": "stdout",
     "output_type": "stream",
     "text": [
      "\n",
      "Iteration 28/74 of epoch 87 complete. Loss : 0.2684838686670576 \n",
      "\n",
      "Iteration 42/74 of epoch 87 complete. Loss : 0.27794431149959564 \n",
      "\n",
      "Iteration 56/74 of epoch 87 complete. Loss : 0.25997634338481085 \n",
      "\n",
      "Iteration 70/74 of epoch 87 complete. Loss : 0.26383250313145773 \n"
     ]
    },
    {
     "name": "stderr",
     "output_type": "stream",
     "text": [
      "100%|██████████| 74/74 [00:00<00:00, 210.37it/s]\n",
      "100%|██████████| 19/19 [00:00<00:00, 383.93it/s]\n",
      " 30%|██▉       | 22/74 [00:00<00:00, 217.46it/s]"
     ]
    },
    {
     "name": "stdout",
     "output_type": "stream",
     "text": [
      "\n",
      "Epoch 87 complete! Validation Loss : 0.5579571692567122\n",
      "Epoch 87 complete! Validation Accuracy : 0.7151644736842105\n",
      "\n",
      "Iteration 14/74 of epoch 88 complete. Loss : 0.26786883388246807 \n",
      "\n",
      "Iteration 28/74 of epoch 88 complete. Loss : 0.2683880871960095 \n",
      "\n",
      "Iteration 42/74 of epoch 88 complete. Loss : 0.26398187769310816 \n"
     ]
    },
    {
     "name": "stderr",
     "output_type": "stream",
     "text": [
      "100%|██████████| 74/74 [00:00<00:00, 212.00it/s]\n",
      "100%|██████████| 19/19 [00:00<00:00, 391.07it/s]\n",
      "  0%|          | 0/74 [00:00<?, ?it/s]"
     ]
    },
    {
     "name": "stdout",
     "output_type": "stream",
     "text": [
      "\n",
      "Iteration 56/74 of epoch 88 complete. Loss : 0.26426446970020023 \n",
      "\n",
      "Iteration 70/74 of epoch 88 complete. Loss : 0.26453305568013874 \n",
      "\n",
      "Epoch 88 complete! Validation Loss : 0.5562654012127927\n",
      "Epoch 88 complete! Validation Accuracy : 0.718453947368421\n"
     ]
    },
    {
     "name": "stderr",
     "output_type": "stream",
     "text": [
      " 59%|█████▉    | 44/74 [00:00<00:00, 212.37it/s]"
     ]
    },
    {
     "name": "stdout",
     "output_type": "stream",
     "text": [
      "\n",
      "Iteration 14/74 of epoch 89 complete. Loss : 0.27416329830884933 \n",
      "\n",
      "Iteration 28/74 of epoch 89 complete. Loss : 0.2612944852028574 \n",
      "\n",
      "Iteration 42/74 of epoch 89 complete. Loss : 0.2698944051350866 \n",
      "\n",
      "Iteration 56/74 of epoch 89 complete. Loss : 0.2675223169582231 \n"
     ]
    },
    {
     "name": "stderr",
     "output_type": "stream",
     "text": [
      "100%|██████████| 74/74 [00:00<00:00, 209.84it/s]\n",
      "100%|██████████| 19/19 [00:00<00:00, 384.92it/s]\n",
      "  0%|          | 0/74 [00:00<?, ?it/s]"
     ]
    },
    {
     "name": "stdout",
     "output_type": "stream",
     "text": [
      "\n",
      "Iteration 70/74 of epoch 89 complete. Loss : 0.2636005995529039 \n",
      "\n",
      "Epoch 89 complete! Validation Loss : 0.5601303859760887\n",
      "Epoch 89 complete! Validation Accuracy : 0.7108717105263157\n",
      "\n",
      "Iteration 14/74 of epoch 90 complete. Loss : 0.2663568726607731 \n"
     ]
    },
    {
     "name": "stderr",
     "output_type": "stream",
     "text": [
      " 89%|████████▉ | 66/74 [00:00<00:00, 211.57it/s]"
     ]
    },
    {
     "name": "stdout",
     "output_type": "stream",
     "text": [
      "\n",
      "Iteration 28/74 of epoch 90 complete. Loss : 0.2654138995068414 \n",
      "\n",
      "Iteration 42/74 of epoch 90 complete. Loss : 0.2671592171703066 \n",
      "\n",
      "Iteration 56/74 of epoch 90 complete. Loss : 0.2655100641506059 \n",
      "\n",
      "Iteration 70/74 of epoch 90 complete. Loss : 0.2655034799660955 \n"
     ]
    },
    {
     "name": "stderr",
     "output_type": "stream",
     "text": [
      "100%|██████████| 74/74 [00:00<00:00, 209.79it/s]\n",
      "100%|██████████| 19/19 [00:00<00:00, 380.04it/s]\n",
      " 30%|██▉       | 22/74 [00:00<00:00, 210.13it/s]"
     ]
    },
    {
     "name": "stdout",
     "output_type": "stream",
     "text": [
      "\n",
      "Epoch 90 complete! Validation Loss : 0.556433944325698\n",
      "Epoch 90 complete! Validation Accuracy : 0.7188651315789474\n",
      "\n",
      "Iteration 14/74 of epoch 91 complete. Loss : 0.26167074165173937 \n",
      "\n",
      "Iteration 28/74 of epoch 91 complete. Loss : 0.2762681895068714 \n",
      "\n",
      "Iteration 42/74 of epoch 91 complete. Loss : 0.2673213258385658 \n"
     ]
    },
    {
     "name": "stderr",
     "output_type": "stream",
     "text": [
      "100%|██████████| 74/74 [00:00<00:00, 210.49it/s]\n",
      "100%|██████████| 19/19 [00:00<00:00, 383.95it/s]\n",
      "  0%|          | 0/74 [00:00<?, ?it/s]"
     ]
    },
    {
     "name": "stdout",
     "output_type": "stream",
     "text": [
      "\n",
      "Iteration 56/74 of epoch 91 complete. Loss : 0.2675956902759416 \n",
      "\n",
      "Iteration 70/74 of epoch 91 complete. Loss : 0.25831490222896847 \n",
      "\n",
      "Epoch 91 complete! Validation Loss : 0.5517734257798446\n",
      "Epoch 91 complete! Validation Accuracy : 0.7248026315789474\n",
      "Best validation loss improved from 0.5556706660672238 to 0.5517734257798446\n",
      "\n"
     ]
    },
    {
     "name": "stderr",
     "output_type": "stream",
     "text": [
      " 59%|█████▉    | 44/74 [00:00<00:00, 212.74it/s]"
     ]
    },
    {
     "name": "stdout",
     "output_type": "stream",
     "text": [
      "\n",
      "Iteration 14/74 of epoch 92 complete. Loss : 0.2572505846619606 \n",
      "\n",
      "Iteration 28/74 of epoch 92 complete. Loss : 0.27385394807372776 \n",
      "\n",
      "Iteration 42/74 of epoch 92 complete. Loss : 0.2653165768299784 \n",
      "\n",
      "Iteration 56/74 of epoch 92 complete. Loss : 0.263816882457052 \n"
     ]
    },
    {
     "name": "stderr",
     "output_type": "stream",
     "text": [
      "100%|██████████| 74/74 [00:00<00:00, 210.87it/s]\n",
      "100%|██████████| 19/19 [00:00<00:00, 387.38it/s]\n",
      "  0%|          | 0/74 [00:00<?, ?it/s]"
     ]
    },
    {
     "name": "stdout",
     "output_type": "stream",
     "text": [
      "\n",
      "Iteration 70/74 of epoch 92 complete. Loss : 0.26424576554979595 \n",
      "\n",
      "Epoch 92 complete! Validation Loss : 0.5523595590340463\n",
      "Epoch 92 complete! Validation Accuracy : 0.7215131578947368\n",
      "\n",
      "Iteration 14/74 of epoch 93 complete. Loss : 0.2674327769449779 \n"
     ]
    },
    {
     "name": "stderr",
     "output_type": "stream",
     "text": [
      " 89%|████████▉ | 66/74 [00:00<00:00, 215.61it/s]"
     ]
    },
    {
     "name": "stdout",
     "output_type": "stream",
     "text": [
      "\n",
      "Iteration 28/74 of epoch 93 complete. Loss : 0.2541181168385914 \n",
      "\n",
      "Iteration 42/74 of epoch 93 complete. Loss : 0.2636943661740848 \n",
      "\n",
      "Iteration 56/74 of epoch 93 complete. Loss : 0.26634620342935833 \n",
      "\n",
      "Iteration 70/74 of epoch 93 complete. Loss : 0.2671026097876685 \n"
     ]
    },
    {
     "name": "stderr",
     "output_type": "stream",
     "text": [
      "100%|██████████| 74/74 [00:00<00:00, 212.24it/s]\n",
      "100%|██████████| 19/19 [00:00<00:00, 390.52it/s]\n",
      " 30%|██▉       | 22/74 [00:00<00:00, 211.98it/s]"
     ]
    },
    {
     "name": "stdout",
     "output_type": "stream",
     "text": [
      "\n",
      "Epoch 93 complete! Validation Loss : 0.5508142694046623\n",
      "Epoch 93 complete! Validation Accuracy : 0.7248026315789474\n",
      "Best validation loss improved from 0.5517734257798446 to 0.5508142694046623\n",
      "\n",
      "\n",
      "Iteration 14/74 of epoch 94 complete. Loss : 0.2635107806750706 \n",
      "\n",
      "Iteration 28/74 of epoch 94 complete. Loss : 0.27217904904059004 \n",
      "\n",
      "Iteration 42/74 of epoch 94 complete. Loss : 0.2663079500198364 \n"
     ]
    },
    {
     "name": "stderr",
     "output_type": "stream",
     "text": [
      "100%|██████████| 74/74 [00:00<00:00, 212.43it/s]\n",
      "100%|██████████| 19/19 [00:00<00:00, 384.33it/s]\n",
      "  0%|          | 0/74 [00:00<?, ?it/s]"
     ]
    },
    {
     "name": "stdout",
     "output_type": "stream",
     "text": [
      "\n",
      "Iteration 56/74 of epoch 94 complete. Loss : 0.2642779605729239 \n",
      "\n",
      "Iteration 70/74 of epoch 94 complete. Loss : 0.2553144544363022 \n",
      "\n",
      "Epoch 94 complete! Validation Loss : 0.5526120176440791\n",
      "Epoch 94 complete! Validation Accuracy : 0.7254440789473684\n"
     ]
    },
    {
     "name": "stderr",
     "output_type": "stream",
     "text": [
      " 59%|█████▉    | 44/74 [00:00<00:00, 214.33it/s]"
     ]
    },
    {
     "name": "stdout",
     "output_type": "stream",
     "text": [
      "\n",
      "Iteration 14/74 of epoch 95 complete. Loss : 0.2625134640506336 \n",
      "\n",
      "Iteration 28/74 of epoch 95 complete. Loss : 0.2662307843565941 \n",
      "\n",
      "Iteration 42/74 of epoch 95 complete. Loss : 0.25971840641328264 \n",
      "\n",
      "Iteration 56/74 of epoch 95 complete. Loss : 0.26267274788447786 \n"
     ]
    },
    {
     "name": "stderr",
     "output_type": "stream",
     "text": [
      "100%|██████████| 74/74 [00:00<00:00, 211.88it/s]\n",
      "100%|██████████| 19/19 [00:00<00:00, 384.53it/s]\n",
      "  0%|          | 0/74 [00:00<?, ?it/s]"
     ]
    },
    {
     "name": "stdout",
     "output_type": "stream",
     "text": [
      "\n",
      "Iteration 70/74 of epoch 95 complete. Loss : 0.26029858738183975 \n",
      "\n",
      "Epoch 95 complete! Validation Loss : 0.5525077110842654\n",
      "Epoch 95 complete! Validation Accuracy : 0.7207401315789473\n",
      "\n",
      "Iteration 14/74 of epoch 96 complete. Loss : 0.26924437816653934 \n"
     ]
    },
    {
     "name": "stderr",
     "output_type": "stream",
     "text": [
      " 89%|████████▉ | 66/74 [00:00<00:00, 213.02it/s]"
     ]
    },
    {
     "name": "stdout",
     "output_type": "stream",
     "text": [
      "\n",
      "Iteration 28/74 of epoch 96 complete. Loss : 0.26041959332568304 \n",
      "\n",
      "Iteration 42/74 of epoch 96 complete. Loss : 0.2679142409137317 \n",
      "\n",
      "Iteration 56/74 of epoch 96 complete. Loss : 0.2571292072534561 \n",
      "\n",
      "Iteration 70/74 of epoch 96 complete. Loss : 0.26184370262282236 \n"
     ]
    },
    {
     "name": "stderr",
     "output_type": "stream",
     "text": [
      "100%|██████████| 74/74 [00:00<00:00, 212.31it/s]\n",
      "100%|██████████| 19/19 [00:00<00:00, 384.20it/s]\n",
      " 30%|██▉       | 22/74 [00:00<00:00, 215.47it/s]"
     ]
    },
    {
     "name": "stdout",
     "output_type": "stream",
     "text": [
      "\n",
      "Epoch 96 complete! Validation Loss : 0.5508310371323636\n",
      "Epoch 96 complete! Validation Accuracy : 0.7223355263157895\n",
      "\n",
      "Iteration 14/74 of epoch 97 complete. Loss : 0.25646905281714033 \n",
      "\n",
      "Iteration 28/74 of epoch 97 complete. Loss : 0.2613470266972269 \n"
     ]
    },
    {
     "name": "stderr",
     "output_type": "stream",
     "text": [
      "100%|██████████| 74/74 [00:00<00:00, 209.02it/s]\n",
      "  0%|          | 0/19 [00:00<?, ?it/s]"
     ]
    },
    {
     "name": "stdout",
     "output_type": "stream",
     "text": [
      "\n",
      "Iteration 42/74 of epoch 97 complete. Loss : 0.2676698597414153 \n",
      "\n",
      "Iteration 56/74 of epoch 97 complete. Loss : 0.2652230943952288 \n",
      "\n",
      "Iteration 70/74 of epoch 97 complete. Loss : 0.25767931448561804 \n"
     ]
    },
    {
     "name": "stderr",
     "output_type": "stream",
     "text": [
      "100%|██████████| 19/19 [00:00<00:00, 381.75it/s]\n",
      " 30%|██▉       | 22/74 [00:00<00:00, 214.56it/s]"
     ]
    },
    {
     "name": "stdout",
     "output_type": "stream",
     "text": [
      "\n",
      "Epoch 97 complete! Validation Loss : 0.5490399410850123\n",
      "Epoch 97 complete! Validation Accuracy : 0.7280921052631579\n",
      "Best validation loss improved from 0.5508142694046623 to 0.5490399410850123\n",
      "\n",
      "\n",
      "Iteration 14/74 of epoch 98 complete. Loss : 0.2723757156303951 \n",
      "\n",
      "Iteration 28/74 of epoch 98 complete. Loss : 0.26061997562646866 \n"
     ]
    },
    {
     "name": "stderr",
     "output_type": "stream",
     "text": [
      "100%|██████████| 74/74 [00:00<00:00, 209.23it/s]\n",
      "  0%|          | 0/19 [00:00<?, ?it/s]"
     ]
    },
    {
     "name": "stdout",
     "output_type": "stream",
     "text": [
      "\n",
      "Iteration 42/74 of epoch 98 complete. Loss : 0.26304540038108826 \n",
      "\n",
      "Iteration 56/74 of epoch 98 complete. Loss : 0.2538835597889764 \n",
      "\n",
      "Iteration 70/74 of epoch 98 complete. Loss : 0.26216399669647217 \n"
     ]
    },
    {
     "name": "stderr",
     "output_type": "stream",
     "text": [
      "100%|██████████| 19/19 [00:00<00:00, 378.47it/s]\n",
      " 30%|██▉       | 22/74 [00:00<00:00, 211.92it/s]"
     ]
    },
    {
     "name": "stdout",
     "output_type": "stream",
     "text": [
      "\n",
      "Epoch 98 complete! Validation Loss : 0.5509536360439501\n",
      "Epoch 98 complete! Validation Accuracy : 0.7195065789473684\n",
      "\n",
      "Iteration 14/74 of epoch 99 complete. Loss : 0.2599131294659206 \n",
      "\n",
      "Iteration 28/74 of epoch 99 complete. Loss : 0.26068313313382013 \n"
     ]
    },
    {
     "name": "stderr",
     "output_type": "stream",
     "text": [
      "100%|██████████| 74/74 [00:00<00:00, 209.71it/s]\n",
      "  0%|          | 0/19 [00:00<?, ?it/s]"
     ]
    },
    {
     "name": "stdout",
     "output_type": "stream",
     "text": [
      "\n",
      "Iteration 42/74 of epoch 99 complete. Loss : 0.268053762614727 \n",
      "\n",
      "Iteration 56/74 of epoch 99 complete. Loss : 0.260558514722756 \n",
      "\n",
      "Iteration 70/74 of epoch 99 complete. Loss : 0.2616948570523943 \n"
     ]
    },
    {
     "name": "stderr",
     "output_type": "stream",
     "text": [
      "100%|██████████| 19/19 [00:00<00:00, 381.78it/s]\n",
      " 30%|██▉       | 22/74 [00:00<00:00, 214.11it/s]"
     ]
    },
    {
     "name": "stdout",
     "output_type": "stream",
     "text": [
      "\n",
      "Epoch 99 complete! Validation Loss : 0.5498088237486387\n",
      "Epoch 99 complete! Validation Accuracy : 0.7239802631578948\n",
      "\n",
      "Iteration 14/74 of epoch 100 complete. Loss : 0.2587805251990046 \n",
      "\n",
      "Iteration 28/74 of epoch 100 complete. Loss : 0.27049428543874193 \n",
      "\n",
      "Iteration 42/74 of epoch 100 complete. Loss : 0.26268137033496586 \n"
     ]
    },
    {
     "name": "stderr",
     "output_type": "stream",
     "text": [
      "100%|██████████| 74/74 [00:00<00:00, 208.63it/s]\n",
      "100%|██████████| 19/19 [00:00<00:00, 386.03it/s]"
     ]
    },
    {
     "name": "stdout",
     "output_type": "stream",
     "text": [
      "\n",
      "Iteration 56/74 of epoch 100 complete. Loss : 0.2609992005995342 \n",
      "\n",
      "Iteration 70/74 of epoch 100 complete. Loss : 0.25659789996487753 \n",
      "\n",
      "Epoch 100 complete! Validation Loss : 0.5477243928532851\n",
      "Epoch 100 complete! Validation Accuracy : 0.7285032894736843\n",
      "Best validation loss improved from 0.5490399410850123 to 0.5477243928532851\n",
      "\n",
      "The model has been saved in saved_models/base_vbert_full_without_lr_3e-05_val_loss_0.54772_ep_100.pt\n"
     ]
    },
    {
     "name": "stderr",
     "output_type": "stream",
     "text": [
      "\n"
     ]
    }
   ],
   "source": [
    "# Train the model\n",
    "model, model_name = train_model(class_model, criterion, optimizer, lr, scheduler, train_dataloader, test_dataloader, epochs, iters_to_accumulate)"
   ]
  },
  {
   "cell_type": "code",
   "execution_count": 25,
   "metadata": {},
   "outputs": [],
   "source": [
    "def evaluate(prediction_dataloader, model, path_to_model, load = False):\n",
    "\t# Prediction on test set\n",
    "\tif load:\n",
    "\t\tprint(\"Loading the weights of the model...\")\n",
    "\t\tmodel.load_state_dict(torch.load(path_to_model))\n",
    "\n",
    "\tprint('Evaluating on the testset')\n",
    "\n",
    "\t# Put model in evaluation mode\n",
    "\tmodel.eval()\n",
    "\n",
    "\t# Tracking variables \n",
    "\tpredictions , true_labels = [], []\n",
    "\n",
    "\t# Predict \n",
    "\tfor batch in prediction_dataloader:\n",
    "\t  # Add batch to GPU\n",
    "\t  batch = tuple(t.to(device) for t in batch)\n",
    "\t  \n",
    "\t  # Unpack the inputs from our dataloader\n",
    "\t  b_t_inputs, b_s_inputs, b_labels = batch\n",
    "\t  \n",
    "\t  # Telling the model not to compute or store gradients, saving memory and \n",
    "\t  # speeding up prediction\n",
    "\t  with torch.no_grad():\n",
    "\t      # Forward pass, calculate logit predictions\n",
    "\t      logits = model(b_t_inputs, b_s_inputs)\n",
    "\n",
    "\t  # Move logits and labels to CPU\n",
    "\t  logits = logits.detach().cpu().numpy()\n",
    "\t  label_ids = b_labels.to('cpu').numpy()\n",
    "\n",
    "\t  pred_flat = np.argmax(logits, axis=1).flatten()\n",
    "\t  labels_flat = label_ids.flatten()\n",
    "\t  \n",
    "\t  # Store predictions and true labels\n",
    "\t  predictions.extend(pred_flat)\n",
    "\t  true_labels.extend(labels_flat)\n",
    "\n",
    "\tprint('DONE.')\n",
    "\n",
    "\t# Code for result display\n",
    "\tprint('Baseline', model_name, 'Multi-Modal Classification accuracy is')\n",
    "\tprint(metrics.accuracy_score(true_labels, predictions)*100)\n",
    "\tprint(classification_report(true_labels, predictions, target_names = ['fake', 'real']))\n",
    "\t# For error analysis\n",
    "\tif dataset_split == 'full':\n",
    "\t\tnew_df = pd.DataFrame()\n",
    "\t\tnew_df['ids'], new_df['ground_truth'], new_df['predicted'] = test_ids,true_labels, predictions\n",
    "\t\tnew_df.to_csv(str('error_analysis/'+model_name+'.csv'), index=False)  \n",
    "\t# Converting to csv\n",
    "\t# Removed transpose - check if actually required\n",
    "\tclsf_report = pd.DataFrame(classification_report(y_true = true_labels, y_pred = predictions, output_dict=True, target_names = ['fake', 'real']))\n",
    "\tclsf_report.to_csv(str('saved_models/'+model_name+'.csv'), index= True)"
   ]
  },
  {
   "cell_type": "code",
   "execution_count": 26,
   "metadata": {},
   "outputs": [
    {
     "name": "stdout",
     "output_type": "stream",
     "text": [
      "Evaluating on the testset\n",
      "DONE.\n",
      "Baseline base_vbert_full_without Multi-Modal Classification accuracy is\n",
      "72.8122344944775\n",
      "              precision    recall  f1-score   support\n",
      "\n",
      "        fake       0.71      0.64      0.67      1031\n",
      "        real       0.74      0.80      0.77      1323\n",
      "\n",
      "    accuracy                           0.73      2354\n",
      "   macro avg       0.73      0.72      0.72      2354\n",
      "weighted avg       0.73      0.73      0.73      2354\n",
      "\n"
     ]
    }
   ],
   "source": [
    "path_to_model = 'saved_models/class_contrast_visualbert_lr_3e-05_val_loss_0.35285_ep_100.pt'\n",
    "evaluate(test_dataloader, model, path_to_model = path_to_model, load = False)"
   ]
  }
 ],
 "metadata": {
  "interpreter": {
   "hash": "112ac2046fa01f929d29fd747457323c8422411859b530c12136f6127f223c24"
  },
  "kernelspec": {
   "display_name": "Python 3.6.11 64-bit ('newnisbert': conda)",
   "name": "python3"
  },
  "language_info": {
   "codemirror_mode": {
    "name": "ipython",
    "version": 3
   },
   "file_extension": ".py",
   "mimetype": "text/x-python",
   "name": "python",
   "nbconvert_exporter": "python",
   "pygments_lexer": "ipython3",
   "version": "3.6.11"
  },
  "orig_nbformat": 4
 },
 "nbformat": 4,
 "nbformat_minor": 2
}
