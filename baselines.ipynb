{
 "cells": [
  {
   "cell_type": "code",
   "execution_count": 1,
   "metadata": {},
   "outputs": [],
   "source": [
    "import os\n",
    "gpu_number = \"0\" # Choose either 0 or 1\n",
    "os.environ['CUDA_ENVIRONMENT_DEVICES'] = gpu_number"
   ]
  },
  {
   "cell_type": "code",
   "execution_count": 2,
   "metadata": {},
   "outputs": [],
   "source": [
    "import os\n",
    "import sys\n",
    "import numpy as np\n",
    "from numpy import asarray,zeros\n",
    "import pandas as pd \n",
    "from sklearn.model_selection import train_test_split\n",
    "import torch\n",
    "from torch.utils.data import TensorDataset, DataLoader, RandomSampler, SequentialSampler, Dataset\n",
    "import torch.nn as nn\n",
    "import torch.nn.functional as F\n",
    "import torch.optim as optim\n",
    "from tqdm import tqdm\n",
    "import matplotlib.pyplot as plt\n",
    "import copy\n",
    "from sklearn.model_selection import train_test_split\n",
    "from sklearn import metrics\n",
    "from sklearn.metrics import classification_report\n",
    "import transformers\n",
    "from transformers import BertTokenizer\n",
    "from transformers import AdamW, get_linear_schedule_with_warmup\n",
    "from transformers import AutoTokenizer, AutoModel, AutoConfig, AdamW, get_linear_schedule_with_warmup\n",
    "from tensorflow.keras.preprocessing.text import Tokenizer\n",
    "from tensorflow.keras.preprocessing.sequence import pad_sequences\n",
    "import timm\n",
    "from losses import SupConLoss\n",
    "from torchlars import LARS"
   ]
  },
  {
   "cell_type": "code",
   "execution_count": 3,
   "metadata": {},
   "outputs": [
    {
     "name": "stdout",
     "output_type": "stream",
     "text": [
      "Using device cuda:0\n"
     ]
    }
   ],
   "source": [
    "if torch.cuda.is_available():\n",
    "    device_name = \"cuda:\" + gpu_number\n",
    "    device = torch.device(device_name)\n",
    "else:\n",
    "    device = torch.device(\"cpu\")\n",
    "# device = torch.device(\"cpu\") # Force CPU\n",
    "print(\"Using device\", device)"
   ]
  },
  {
   "cell_type": "markdown",
   "metadata": {},
   "source": [
    "# Loading Data"
   ]
  },
  {
   "cell_type": "code",
   "execution_count": 4,
   "metadata": {},
   "outputs": [],
   "source": [
    "demark_dict = {'Snp':{'start':0, 'end':1663},\n",
    "                'Rtr':{'start':1664, 'end':2630},\n",
    "                'Rcv':{'start':2631, 'end':4716},\n",
    "                'Tcn':{'start':4717, 'end':11765}}"
   ]
  },
  {
   "cell_type": "code",
   "execution_count": 5,
   "metadata": {},
   "outputs": [
    {
     "name": "stdout",
     "output_type": "stream",
     "text": [
      "Model name base_rbert_ticnn\n",
      "Source shape (7048, 1280)\n",
      "Target shape (7048, 1280)\n",
      "Labels shape (7048,)\n"
     ]
    }
   ],
   "source": [
    "# Loading Choice\n",
    "base_model_name = 'rbert' # choice 'vbert' or 'rbert'\n",
    "dataset_split = 'ticnn' # 'full' or 'faux' or 'ticnn' or 'recov'\n",
    "run_type = 'with' # with or without\n",
    "model_name = ''\n",
    "if base_model_name =='rbert':\n",
    "    source_multimodal_data_full = np.load(\"../data/source_multimodal_out.npy\")\n",
    "    target_multimodal_data_full = np.load(\"../data/target_multimodal_out.npy\")\n",
    "    labels_data_full = np.load(\"../data/labels.npy\").squeeze(1)\n",
    "    model_name = 'base_rbert'\n",
    "elif base_model_name == 'vbert':\n",
    "    source_multimodal_data_full = np.load(\"../data/source_mm_vbert.npy\")\n",
    "    target_multimodal_data_full = np.load(\"../data/target_mm_vbert.npy\")\n",
    "    labels_data_full = np.load(\"../data/labels.npy\").squeeze(1)\n",
    "    model_name = 'base_vbert'\n",
    "\n",
    "if dataset_split == 'full':\n",
    "    source_multimodal_data = source_multimodal_data_full\n",
    "    target_multimodal_data = target_multimodal_data_full\n",
    "    labels_data = labels_data_full\n",
    "    model_name = model_name + '_full'\n",
    "elif dataset_split == 'faux':\n",
    "    src_snoopes = source_multimodal_data_full[demark_dict['Snp']['start']:demark_dict['Snp']['end'],:]\n",
    "    tar_snoopes = target_multimodal_data_full[demark_dict['Snp']['start']:demark_dict['Snp']['end'],:]\n",
    "    lab_snoopes = labels_data_full[demark_dict['Snp']['start']:demark_dict['Snp']['end']]\n",
    "    src_rtr = source_multimodal_data_full[demark_dict['Rtr']['start']:demark_dict['Rtr']['end'],:]\n",
    "    tar_rtr = target_multimodal_data_full[demark_dict['Rtr']['start']:demark_dict['Rtr']['end'],:]\n",
    "    lab_tar = labels_data_full[demark_dict['Rtr']['start']:demark_dict['Rtr']['end']]\n",
    "    source_multimodal_data = np.concatenate((src_snoopes, src_rtr), axis=0)\n",
    "    target_multimodal_data = np.concatenate((tar_snoopes, tar_rtr), axis=0)\n",
    "    labels_data = np.concatenate((lab_snoopes, lab_tar), axis=0)\n",
    "    model_name = model_name + '_faux'\n",
    "elif dataset_split == 'recov':\n",
    "    source_multimodal_data = source_multimodal_data_full[demark_dict['Rcv']['start']:demark_dict['Rcv']['end'],:]\n",
    "    target_multimodal_data = target_multimodal_data_full[demark_dict['Rcv']['start']:demark_dict['Rcv']['end'],:]\n",
    "    labels_data = labels_data_full[demark_dict['Rcv']['start']:demark_dict['Rcv']['end']]\n",
    "    model_name = model_name + '_recov'\n",
    "elif dataset_split == 'ticnn':\n",
    "    source_multimodal_data = source_multimodal_data_full[demark_dict['Tcn']['start']:demark_dict['Tcn']['end'],:]\n",
    "    target_multimodal_data = target_multimodal_data_full[demark_dict['Tcn']['start']:demark_dict['Tcn']['end'],:]\n",
    "    labels_data = labels_data_full[demark_dict['Tcn']['start']:demark_dict['Tcn']['end']]\n",
    "    model_name = model_name + '_ticnn'\n",
    "\n",
    "#TODO: Printing the shape of the model\n",
    "print('Model name', model_name)\n",
    "print('Source shape', source_multimodal_data.shape)\n",
    "print('Target shape', target_multimodal_data.shape)\n",
    "print('Labels shape', labels_data.shape)"
   ]
  },
  {
   "cell_type": "code",
   "execution_count": 6,
   "metadata": {},
   "outputs": [],
   "source": [
    "# # Resent+BERT\n",
    "# source_multimodal_rbert = np.load(\"../data/source_multimodal_out.npy\")\n",
    "# target_multimodal_rbert = np.load(\"../data/target_multimodal_out.npy\")\n",
    "# print(\"Source shape\", source_multimodal_rbert.shape) # Resent(512) + BERT (768)\n",
    "# print(\"Target shape\", target_multimodal_rbert.shape)"
   ]
  },
  {
   "cell_type": "code",
   "execution_count": 7,
   "metadata": {},
   "outputs": [],
   "source": [
    "# # NOTE: Import Visual BERT Multimodal data\n",
    "# target_multimodal_vbert = np.load(\"../data/target_mm_vbert.npy\")\n",
    "# source_multimodal_vbert = np.load(\"../data/source_mm_vbert.npy\")\n",
    "# print(\"Source shape\", source_multimodal_vbert.shape) # Visual BERT (768)\n",
    "# print(\"Target shape\", target_multimodal_vbert.shape)"
   ]
  },
  {
   "cell_type": "code",
   "execution_count": 8,
   "metadata": {},
   "outputs": [],
   "source": [
    "# # Labels \n",
    "# labels_data = np.load(\"../data/labels.npy\").squeeze(1)\n",
    "# print('Labels tensor shape', labels_data.shape)"
   ]
  },
  {
   "cell_type": "markdown",
   "metadata": {},
   "source": [
    "# Splitting the Data"
   ]
  },
  {
   "cell_type": "code",
   "execution_count": 9,
   "metadata": {},
   "outputs": [],
   "source": [
    "# # NOTE: RBERT\n",
    "# train_rbert_src, test_rbert_src, train_rbert_tar, test_rbert_tar, train_labels, test_labels = train_test_split(source_multimodal_rbert, target_multimodal_rbert, labels_data, test_size=0.2, random_state=43)"
   ]
  },
  {
   "cell_type": "code",
   "execution_count": 10,
   "metadata": {},
   "outputs": [],
   "source": [
    "# # NOTE: VBERT\n",
    "# train_vbert_src, test_vbert_src, train_vbert_tar, test_vbert_tar, train_labels, test_labels = train_test_split(source_multimodal_vbert, target_multimodal_vbert, labels_data, test_size=0.2, random_state=43)"
   ]
  },
  {
   "cell_type": "code",
   "execution_count": 11,
   "metadata": {},
   "outputs": [],
   "source": [
    "# NOTE: New Split\n",
    "train_src, test_src, train_tar, test_tar, train_labels, test_labels = train_test_split(source_multimodal_data, target_multimodal_data, labels_data, test_size=0.2, random_state=43)"
   ]
  },
  {
   "cell_type": "markdown",
   "metadata": {},
   "source": [
    "# Modeling"
   ]
  },
  {
   "cell_type": "code",
   "execution_count": 12,
   "metadata": {},
   "outputs": [],
   "source": [
    "# TODO: Get dataloader\n",
    "def get_data_loader(batch_size, target_input, source_input, labels, split_type = 'train'):\n",
    "    target_input = torch.tensor(target_input, device=device)\n",
    "    source_input = torch.tensor(source_input, device=device)\n",
    "    labels = torch.tensor(labels, dtype=torch.long, device=device)\n",
    "    data = TensorDataset(target_input, source_input, labels)\n",
    "    if split_type == 'train':\n",
    "        sampler = RandomSampler(data)\n",
    "    elif split_type == 'val':\n",
    "        sampler = SequentialSampler(data)\n",
    "    dataloader = DataLoader(data, sampler=sampler, batch_size=batch_size)\n",
    "    return data, sampler, dataloader"
   ]
  },
  {
   "cell_type": "code",
   "execution_count": 13,
   "metadata": {},
   "outputs": [],
   "source": [
    "# # NOTE: For ResNet+BERT\n",
    "# batch_size = 128\n",
    "# train_data, train_sampler, train_dataloader = get_data_loader(batch_size, train_rbert_tar, train_rbert_src, train_labels, 'train')\n",
    "# test_data, test_sampler, test_dataloader = get_data_loader(batch_size, test_rbert_tar, test_rbert_src, test_labels, 'val')"
   ]
  },
  {
   "cell_type": "code",
   "execution_count": 14,
   "metadata": {},
   "outputs": [],
   "source": [
    "#NOTE: For Common Data\n",
    "batch_size = 128\n",
    "train_data, train_sampler, train_dataloader = get_data_loader(batch_size, train_tar, train_src, train_labels, 'train')\n",
    "test_data, test_sampler, test_dataloader = get_data_loader(batch_size, test_tar, test_src, test_labels, 'val')"
   ]
  },
  {
   "cell_type": "code",
   "execution_count": 15,
   "metadata": {},
   "outputs": [],
   "source": [
    "# NOTE: Without BackGround Knowledge\n",
    "class WithoutBackKnldg(nn.Module):\n",
    "    def __init__(self, initial_dim):\n",
    "        super(WithoutBackKnldg, self).__init__()\n",
    "        self.Linear_1 = nn.Linear(initial_dim, 512)\n",
    "        self.Linear_2 = nn.Linear(512, 2)\n",
    "        self.tanh1 = nn.Tanh()\n",
    "        self.tanh2 = nn.Tanh()\n",
    "    def forward(self, target_feature, source_features):\n",
    "        linear1 = self.tanh1(self.Linear_1(source_features))\n",
    "        logits = self.tanh2(self.Linear_2(linear1))\n",
    "        return logits"
   ]
  },
  {
   "cell_type": "code",
   "execution_count": 16,
   "metadata": {},
   "outputs": [],
   "source": [
    "# NOTE: Without BackGround Knowledge\n",
    "class WithBackKnldg(nn.Module):\n",
    "    def __init__(self, initial_dim):\n",
    "        super(WithBackKnldg, self).__init__()\n",
    "        self.Linear_1= nn.Linear(initial_dim, 512)\n",
    "        self.Linear_2 = nn.Linear(512*3, 512)\n",
    "        self.Linear_3 = nn.Linear(512*2, 512)\n",
    "        self.Linear_4 = nn.Linear(512, 2)\n",
    "        self.tanh1 = nn.Tanh()\n",
    "        self.tanh2 = nn.Tanh()\n",
    "        self.tanh3 = nn.Tanh()\n",
    "        self.tanh4 = nn.Tanh()\n",
    "    def forward(self, target_feature, source_feature):\n",
    "        fixed_target = self.Linear_1(target_feature)\n",
    "        fixed_source = self.Linear_1(source_feature)\n",
    "        add_op = fixed_target + fixed_source\n",
    "        sub_op = fixed_target - fixed_source\n",
    "        mul_op = fixed_target * fixed_source\n",
    "        combine_t_s = torch.cat((add_op, sub_op, mul_op), 1)\n",
    "        linear2 = self.tanh2(self.Linear_2(combine_t_s))\n",
    "        combine_c_t = torch.cat((fixed_target, linear2), 1)\n",
    "        linear3 = self.tanh3(self.Linear_3(combine_c_t))\n",
    "        logits = self.tanh4(self.Linear_4(linear3))\n",
    "        return logits"
   ]
  },
  {
   "cell_type": "code",
   "execution_count": 17,
   "metadata": {},
   "outputs": [],
   "source": [
    "# NOTE: Building Model\n",
    "# initial_dim = train_rbert_src.shape[1] # For ResNet+BERT\n",
    "initial_dim = train_src.shape[1] # For Visual BERT\n",
    "if run_type == 'without':\n",
    "    class_model = WithoutBackKnldg(initial_dim).to(device) # For Without Background Knowledge\n",
    "    model_name = model_name + '_without'\n",
    "elif run_type == 'with':\n",
    "    class_model = WithBackKnldg(initial_dim).to(device) # For With Background Knowledge\n",
    "    model_name = model_name + '_with'"
   ]
  },
  {
   "cell_type": "code",
   "execution_count": 18,
   "metadata": {},
   "outputs": [],
   "source": [
    "# Optimizer and scheduler\n",
    "def get_optimizer_scheduler(name, model, train_dataloader_len, epochs, lr_set):\n",
    "\tif name == \"Adam\":\n",
    "\t\toptimizer = AdamW(model.parameters(),\n",
    "                  lr = lr_set, # args.learning_rate - default is 5e-5, our notebook had 2e-5\n",
    "                  eps = 1e-8 # args.adam_epsilon  - default is 1e-8.\n",
    "\t\t)\n",
    "\telif name == \"LARS-SGD\":\n",
    "\t\tbase_optimizer = optim.SGD(model.parameters(), lr=lr_set, momentum=0.9)\n",
    "\t\toptimizer = LARS(optimizer=base_optimizer, eps=1e-8, trust_coef=0.001)\n",
    "\n",
    "\ttotal_steps = train_dataloader_len * epochs\n",
    "\n",
    "\t# Create the learning rate scheduler.\n",
    "\tscheduler = get_linear_schedule_with_warmup(optimizer, \n",
    "\t\t\t\t\t\t\t\t\t\t\t\tnum_warmup_steps = total_steps//2, # Default value in run_glue.py\n",
    "\t\t\t\t\t\t\t\t\t\t\t\tnum_training_steps = total_steps)\n",
    "\treturn optimizer, scheduler"
   ]
  },
  {
   "cell_type": "code",
   "execution_count": 19,
   "metadata": {},
   "outputs": [],
   "source": [
    "# Getting the optimizer and scheduler\n",
    "epochs = 100\n",
    "lr = 3e-5 # Less LR\n",
    "# lr = 0.5\n",
    "iters_to_accumulate = 2\n",
    "name = \"Adam\"\n",
    "# name = \"LARS-SGD\"\n",
    "criterion = nn.CrossEntropyLoss()\n",
    "optimizer, scheduler = get_optimizer_scheduler(name, class_model, len(train_dataloader), epochs, lr)"
   ]
  },
  {
   "cell_type": "code",
   "execution_count": 20,
   "metadata": {},
   "outputs": [],
   "source": [
    "################ Evaluating Loss ######################\n",
    "#######################################################\n",
    "def evaluate_loss(net, device, criterion, dataloader):\n",
    "    net.eval()\n",
    "    mean_loss = 0\n",
    "    count = 0\n",
    "    with torch.no_grad():\n",
    "        for it, (target_inputs, source_inputs, labels) in enumerate(tqdm(dataloader)):\n",
    "            target_inputs, source_inputs, labels = target_inputs.to(device), source_inputs.to(device), labels.to(device)\n",
    "            logits = net(target_inputs, source_inputs)\n",
    "            mean_loss += criterion(logits.squeeze(-1), labels).item() # initially it was logits.squeeze(-1)\n",
    "            count += 1\n",
    "    return mean_loss / count"
   ]
  },
  {
   "cell_type": "code",
   "execution_count": 21,
   "metadata": {},
   "outputs": [],
   "source": [
    "################ Flat Accuracy Calculation ####################\n",
    "###############################################################\n",
    "def flat_accuracy(preds, labels):\n",
    "    pred_flat = np.argmax(preds, axis=1).flatten()\n",
    "    labels_flat = labels.flatten()\n",
    "    return np.sum(pred_flat == labels_flat) / len(labels_flat)\n",
    "################ Validation Accuracy Calculation ####################\n",
    "###############################################################\n",
    "def evaluate_accuracy(model, device, validation_dataloader):\n",
    "\tmodel.eval()\n",
    "\t# Tracking variables \n",
    "\teval_loss, eval_accuracy = 0, 0\n",
    "\tnb_eval_steps, nb_eval_examples = 0, 0\n",
    "\t# Evaluate data for one epoch\n",
    "\tfor batch in validation_dataloader:\n",
    "\t    # Add batch to GPU\n",
    "\t    batch = tuple(t.to(device) for t in batch)\t    \n",
    "\t    # Unpack the inputs from our dataloader\n",
    "\t    b_t_inputs, b_s_inputs, b_labels = batch\t    \n",
    "\t    \n",
    "\t    # Telling the model not to compute or store gradients, saving memory and\n",
    "\t    # speeding up validation\n",
    "\t    with torch.no_grad(): \n",
    "\t    \t# Forward pass, calculate logit predictions.\n",
    "\t        # This will return the logits rather than the loss because we have\n",
    "\t        # not provided labels.\n",
    "\t    \tlogits = model(b_t_inputs, b_s_inputs)       \n",
    "\n",
    "\t    # Move logits and labels to CPU\n",
    "\t    logits = logits.detach().cpu().numpy()\n",
    "\t    label_ids = b_labels.to('cpu').numpy()\n",
    "\t    \n",
    "\t    # Calculate the accuracy for this batch of test sentences.\n",
    "\t    tmp_eval_accuracy = flat_accuracy(logits, label_ids)\n",
    "\t    \n",
    "\t    # Accumulate the total accuracy.\n",
    "\t    eval_accuracy += tmp_eval_accuracy\n",
    "\n",
    "\t    # Track the number of batches\n",
    "\t    nb_eval_steps += 1\n",
    "\taccuracy = eval_accuracy/nb_eval_steps\n",
    "\treturn accuracy"
   ]
  },
  {
   "cell_type": "code",
   "execution_count": 22,
   "metadata": {},
   "outputs": [],
   "source": [
    "def train_model(net, criterion, opti, lr, lr_scheduler, train_loader, val_loader, epochs, iters_to_accumulate):\n",
    "    best_loss = np.Inf\n",
    "    best_ep = 1\n",
    "    nb_iterations = len(train_loader)\n",
    "    print_every = nb_iterations // 5  # print the training loss 5 times per epoch\n",
    "    iters = []\n",
    "    train_losses = []\n",
    "    val_losses = []\n",
    "    # Iterating over all epochs\n",
    "    for ep in range(epochs):\n",
    "        net.train()\n",
    "        running_loss = 0.0\n",
    "        for it, (target_inputs, source_inputs, labels) in enumerate(tqdm(train_loader)):\n",
    "\n",
    "            # Converting to cuda tensors\n",
    "            target_inputs, source_inputs, labels = target_inputs.to(device), source_inputs.to(device), labels.to(device)\n",
    "    \t\t\n",
    "            # Obtaining the logits from the model\n",
    "            logits = net(target_inputs, source_inputs)\n",
    "            # print(logits.device)\n",
    "\n",
    "            # Computing loss\n",
    "            # print(logits.squeeze(-1).shape)\n",
    "            # print(labels.shape)\n",
    "            loss = criterion(logits.squeeze(-1), labels)\n",
    "            loss = loss / iters_to_accumulate  # Normalize the loss because it is averaged\n",
    "\n",
    "            # Backpropagating the gradients\n",
    "            # Calls backward()\n",
    "            loss.backward()\n",
    "\n",
    "            if (it + 1) % iters_to_accumulate == 0:\n",
    "                # Optimization step\n",
    "                # scaler.step() first unscales the gradients of the optimizer's assigned params.\n",
    "                # If these gradients do not contain infs or NaNs, opti.step() is then called,\n",
    "                # otherwise, opti.step() is skipped.\n",
    "                opti.step()\n",
    "                # Adjust the learning rate based on the number of iterations.\n",
    "                lr_scheduler.step()\n",
    "                # Clear gradients\n",
    "                net.zero_grad()\n",
    "\n",
    "\n",
    "            running_loss += loss.item()\n",
    "\n",
    "            if (it + 1) % print_every == 0:  # Print training loss information\n",
    "                print()\n",
    "                print(\"Iteration {}/{} of epoch {} complete. Loss : {} \"\n",
    "                      .format(it+1, nb_iterations, ep+1, running_loss / print_every))\n",
    "\n",
    "                running_loss = 0.0\n",
    "\n",
    "\n",
    "        val_loss = evaluate_loss(net, device, criterion, val_loader)  # Compute validation loss\n",
    "        val_accuracy = evaluate_accuracy(net, device, val_loader)\n",
    "        print()\n",
    "        print(\"Epoch {} complete! Validation Loss : {}\".format(ep+1, val_loss))\n",
    "        print(\"Epoch {} complete! Validation Accuracy : {}\".format(ep+1, val_accuracy))\n",
    "\n",
    "        if val_loss < best_loss:\n",
    "            print(\"Best validation loss improved from {} to {}\".format(best_loss, val_loss))\n",
    "            print()\n",
    "            net_copy = copy.deepcopy(net)  # save a copy of the model\n",
    "            best_loss = val_loss\n",
    "            best_ep = ep + 1\n",
    "\n",
    "    # Saving the model\n",
    "    path_to_model='saved_models/{}_lr_{}_val_loss_{}_ep_{}.pt'.format(model_name, lr, round(best_loss, 5), best_ep)\n",
    "    torch.save(net_copy.state_dict(), path_to_model)\n",
    "    net.load_state_dict(torch.load(path_to_model)) # Re-Loading the best model\n",
    "    print(\"The model has been saved in {}\".format(path_to_model))\n",
    "\n",
    "    del loss\n",
    "    torch.cuda.empty_cache()\n",
    "    return net, model_name"
   ]
  },
  {
   "cell_type": "code",
   "execution_count": 23,
   "metadata": {},
   "outputs": [
    {
     "name": "stderr",
     "output_type": "stream",
     "text": [
      " 64%|██████▍   | 29/45 [00:00<00:00, 140.87it/s]"
     ]
    },
    {
     "name": "stdout",
     "output_type": "stream",
     "text": [
      "\n",
      "Iteration 9/45 of epoch 1 complete. Loss : 0.348168025414149 \n",
      "\n",
      "Iteration 18/45 of epoch 1 complete. Loss : 0.3472077151139577 \n",
      "\n",
      "Iteration 27/45 of epoch 1 complete. Loss : 0.3502132130993737 \n",
      "\n",
      "Iteration 36/45 of epoch 1 complete. Loss : 0.3486460480425093 \n"
     ]
    },
    {
     "name": "stderr",
     "output_type": "stream",
     "text": [
      "100%|██████████| 45/45 [00:00<00:00, 144.77it/s]\n",
      "100%|██████████| 12/12 [00:00<00:00, 304.81it/s]\n",
      " 33%|███▎      | 15/45 [00:00<00:00, 142.78it/s]"
     ]
    },
    {
     "name": "stdout",
     "output_type": "stream",
     "text": [
      "\n",
      "Iteration 45/45 of epoch 1 complete. Loss : 0.3455820679664612 \n",
      "\n",
      "Epoch 1 complete! Validation Loss : 0.697493369380633\n",
      "Epoch 1 complete! Validation Accuracy : 0.5026041666666666\n",
      "Best validation loss improved from inf to 0.697493369380633\n",
      "\n",
      "\n",
      "Iteration 9/45 of epoch 2 complete. Loss : 0.3512313101026747 \n"
     ]
    },
    {
     "name": "stderr",
     "output_type": "stream",
     "text": [
      "100%|██████████| 45/45 [00:00<00:00, 141.55it/s]\n",
      "  0%|          | 0/12 [00:00<?, ?it/s]"
     ]
    },
    {
     "name": "stdout",
     "output_type": "stream",
     "text": [
      "\n",
      "Iteration 18/45 of epoch 2 complete. Loss : 0.34740639064047074 \n",
      "\n",
      "Iteration 27/45 of epoch 2 complete. Loss : 0.34695601132180953 \n",
      "\n",
      "Iteration 36/45 of epoch 2 complete. Loss : 0.3452335860994127 \n",
      "\n",
      "Iteration 45/45 of epoch 2 complete. Loss : 0.3444925347963969 \n"
     ]
    },
    {
     "name": "stderr",
     "output_type": "stream",
     "text": [
      "100%|██████████| 12/12 [00:00<00:00, 321.98it/s]\n",
      " 33%|███▎      | 15/45 [00:00<00:00, 149.06it/s]"
     ]
    },
    {
     "name": "stdout",
     "output_type": "stream",
     "text": [
      "\n",
      "Epoch 2 complete! Validation Loss : 0.6957897146542867\n",
      "Epoch 2 complete! Validation Accuracy : 0.51953125\n",
      "Best validation loss improved from 0.697493369380633 to 0.6957897146542867\n",
      "\n",
      "\n",
      "Iteration 9/45 of epoch 3 complete. Loss : 0.3478671477900611 \n",
      "\n",
      "Iteration 18/45 of epoch 3 complete. Loss : 0.34511634045177036 \n",
      "\n",
      "Iteration 27/45 of epoch 3 complete. Loss : 0.34642235769165886 \n"
     ]
    },
    {
     "name": "stderr",
     "output_type": "stream",
     "text": [
      "100%|██████████| 45/45 [00:00<00:00, 144.19it/s]\n",
      "100%|██████████| 12/12 [00:00<00:00, 323.79it/s]\n",
      "  0%|          | 0/45 [00:00<?, ?it/s]"
     ]
    },
    {
     "name": "stdout",
     "output_type": "stream",
     "text": [
      "\n",
      "Iteration 36/45 of epoch 3 complete. Loss : 0.3457198441028595 \n",
      "\n",
      "Iteration 45/45 of epoch 3 complete. Loss : 0.3434295886092716 \n",
      "\n",
      "Epoch 3 complete! Validation Loss : 0.6932540188233057\n",
      "Epoch 3 complete! Validation Accuracy : 0.53125\n",
      "Best validation loss improved from 0.6957897146542867 to 0.6932540188233057\n",
      "\n",
      "\n",
      "Iteration 9/45 of epoch 4 complete. Loss : 0.3456241057978736 \n"
     ]
    },
    {
     "name": "stderr",
     "output_type": "stream",
     "text": [
      "100%|██████████| 45/45 [00:00<00:00, 143.21it/s]\n",
      "  0%|          | 0/12 [00:00<?, ?it/s]"
     ]
    },
    {
     "name": "stdout",
     "output_type": "stream",
     "text": [
      "\n",
      "Iteration 18/45 of epoch 4 complete. Loss : 0.34387412005000645 \n",
      "\n",
      "Iteration 27/45 of epoch 4 complete. Loss : 0.34561460216840106 \n",
      "\n",
      "Iteration 36/45 of epoch 4 complete. Loss : 0.34262046217918396 \n",
      "\n",
      "Iteration 45/45 of epoch 4 complete. Loss : 0.33836114075448775 \n"
     ]
    },
    {
     "name": "stderr",
     "output_type": "stream",
     "text": [
      "100%|██████████| 12/12 [00:00<00:00, 326.43it/s]\n",
      " 33%|███▎      | 15/45 [00:00<00:00, 148.91it/s]"
     ]
    },
    {
     "name": "stdout",
     "output_type": "stream",
     "text": [
      "\n",
      "Epoch 4 complete! Validation Loss : 0.6887978712717692\n",
      "Epoch 4 complete! Validation Accuracy : 0.5377604166666666\n",
      "Best validation loss improved from 0.6932540188233057 to 0.6887978712717692\n",
      "\n",
      "\n",
      "Iteration 9/45 of epoch 5 complete. Loss : 0.3443859881824917 \n",
      "\n",
      "Iteration 18/45 of epoch 5 complete. Loss : 0.34027032057444256 \n",
      "\n",
      "Iteration 27/45 of epoch 5 complete. Loss : 0.3433579074011909 \n"
     ]
    },
    {
     "name": "stderr",
     "output_type": "stream",
     "text": [
      "100%|██████████| 45/45 [00:00<00:00, 140.62it/s]\n",
      "100%|██████████| 12/12 [00:00<00:00, 328.73it/s]\n",
      "  0%|          | 0/45 [00:00<?, ?it/s]"
     ]
    },
    {
     "name": "stdout",
     "output_type": "stream",
     "text": [
      "\n",
      "Iteration 36/45 of epoch 5 complete. Loss : 0.33926670418845284 \n",
      "\n",
      "Iteration 45/45 of epoch 5 complete. Loss : 0.33853376905123395 \n",
      "\n",
      "Epoch 5 complete! Validation Loss : 0.682763064901034\n",
      "Epoch 5 complete! Validation Accuracy : 0.5514322916666666\n",
      "Best validation loss improved from 0.6887978712717692 to 0.682763064901034\n",
      "\n"
     ]
    },
    {
     "name": "stderr",
     "output_type": "stream",
     "text": [
      " 67%|██████▋   | 30/45 [00:00<00:00, 143.93it/s]"
     ]
    },
    {
     "name": "stdout",
     "output_type": "stream",
     "text": [
      "\n",
      "Iteration 9/45 of epoch 6 complete. Loss : 0.33857105837927925 \n",
      "\n",
      "Iteration 18/45 of epoch 6 complete. Loss : 0.3378645380338033 \n",
      "\n",
      "Iteration 27/45 of epoch 6 complete. Loss : 0.34057548973295426 \n",
      "\n",
      "Iteration 36/45 of epoch 6 complete. Loss : 0.33656736546092564 \n"
     ]
    },
    {
     "name": "stderr",
     "output_type": "stream",
     "text": [
      "100%|██████████| 45/45 [00:00<00:00, 142.93it/s]\n",
      "100%|██████████| 12/12 [00:00<00:00, 340.75it/s]\n",
      " 33%|███▎      | 15/45 [00:00<00:00, 145.55it/s]"
     ]
    },
    {
     "name": "stdout",
     "output_type": "stream",
     "text": [
      "\n",
      "Iteration 45/45 of epoch 6 complete. Loss : 0.33852781189812553 \n",
      "\n",
      "Epoch 6 complete! Validation Loss : 0.6763827155033747\n",
      "Epoch 6 complete! Validation Accuracy : 0.5598958333333334\n",
      "Best validation loss improved from 0.682763064901034 to 0.6763827155033747\n",
      "\n",
      "\n",
      "Iteration 9/45 of epoch 7 complete. Loss : 0.3367348346445296 \n"
     ]
    },
    {
     "name": "stderr",
     "output_type": "stream",
     "text": [
      "100%|██████████| 45/45 [00:00<00:00, 141.55it/s]\n",
      "  0%|          | 0/12 [00:00<?, ?it/s]"
     ]
    },
    {
     "name": "stdout",
     "output_type": "stream",
     "text": [
      "\n",
      "Iteration 18/45 of epoch 7 complete. Loss : 0.33315543002552456 \n",
      "\n",
      "Iteration 27/45 of epoch 7 complete. Loss : 0.3354588382773929 \n",
      "\n",
      "Iteration 36/45 of epoch 7 complete. Loss : 0.3346580233838823 \n",
      "\n",
      "Iteration 45/45 of epoch 7 complete. Loss : 0.3318429754840003 \n"
     ]
    },
    {
     "name": "stderr",
     "output_type": "stream",
     "text": [
      "100%|██████████| 12/12 [00:00<00:00, 319.44it/s]\n",
      " 33%|███▎      | 15/45 [00:00<00:00, 145.55it/s]"
     ]
    },
    {
     "name": "stdout",
     "output_type": "stream",
     "text": [
      "\n",
      "Epoch 7 complete! Validation Loss : 0.6669775793949763\n",
      "Epoch 7 complete! Validation Accuracy : 0.5930989583333334\n",
      "Best validation loss improved from 0.6763827155033747 to 0.6669775793949763\n",
      "\n",
      "\n",
      "Iteration 9/45 of epoch 8 complete. Loss : 0.3316670424408383 \n",
      "\n",
      "Iteration 18/45 of epoch 8 complete. Loss : 0.3312823110156589 \n",
      "\n",
      "Iteration 27/45 of epoch 8 complete. Loss : 0.3308133946524726 \n"
     ]
    },
    {
     "name": "stderr",
     "output_type": "stream",
     "text": [
      "100%|██████████| 45/45 [00:00<00:00, 142.90it/s]\n",
      "100%|██████████| 12/12 [00:00<00:00, 332.17it/s]\n",
      "  0%|          | 0/45 [00:00<?, ?it/s]"
     ]
    },
    {
     "name": "stdout",
     "output_type": "stream",
     "text": [
      "\n",
      "Iteration 36/45 of epoch 8 complete. Loss : 0.3284922738869985 \n",
      "\n",
      "Iteration 45/45 of epoch 8 complete. Loss : 0.328481051656935 \n",
      "\n",
      "Epoch 8 complete! Validation Loss : 0.6581563502550125\n",
      "Epoch 8 complete! Validation Accuracy : 0.6158854166666666\n",
      "Best validation loss improved from 0.6669775793949763 to 0.6581563502550125\n",
      "\n",
      "\n",
      "Iteration 9/45 of epoch 9 complete. Loss : 0.32668939232826233 \n"
     ]
    },
    {
     "name": "stderr",
     "output_type": "stream",
     "text": [
      "100%|██████████| 45/45 [00:00<00:00, 140.35it/s]\n",
      "  0%|          | 0/12 [00:00<?, ?it/s]"
     ]
    },
    {
     "name": "stdout",
     "output_type": "stream",
     "text": [
      "\n",
      "Iteration 18/45 of epoch 9 complete. Loss : 0.3262890775998433 \n",
      "\n",
      "Iteration 27/45 of epoch 9 complete. Loss : 0.3236348165406121 \n",
      "\n",
      "Iteration 36/45 of epoch 9 complete. Loss : 0.32449989517529804 \n",
      "\n",
      "Iteration 45/45 of epoch 9 complete. Loss : 0.3292260832256741 \n"
     ]
    },
    {
     "name": "stderr",
     "output_type": "stream",
     "text": [
      "100%|██████████| 12/12 [00:00<00:00, 327.61it/s]\n",
      " 33%|███▎      | 15/45 [00:00<00:00, 149.13it/s]"
     ]
    },
    {
     "name": "stdout",
     "output_type": "stream",
     "text": [
      "\n",
      "Epoch 9 complete! Validation Loss : 0.6479056576887766\n",
      "Epoch 9 complete! Validation Accuracy : 0.6497395833333334\n",
      "Best validation loss improved from 0.6581563502550125 to 0.6479056576887766\n",
      "\n",
      "\n",
      "Iteration 9/45 of epoch 10 complete. Loss : 0.32136930690871346 \n",
      "\n",
      "Iteration 18/45 of epoch 10 complete. Loss : 0.3186703754795922 \n",
      "\n",
      "Iteration 27/45 of epoch 10 complete. Loss : 0.3220730523268382 \n"
     ]
    },
    {
     "name": "stderr",
     "output_type": "stream",
     "text": [
      "100%|██████████| 45/45 [00:00<00:00, 145.39it/s]\n",
      "100%|██████████| 12/12 [00:00<00:00, 335.34it/s]\n",
      "  0%|          | 0/45 [00:00<?, ?it/s]"
     ]
    },
    {
     "name": "stdout",
     "output_type": "stream",
     "text": [
      "\n",
      "Iteration 36/45 of epoch 10 complete. Loss : 0.3168596592214372 \n",
      "\n",
      "Iteration 45/45 of epoch 10 complete. Loss : 0.3220749861664242 \n",
      "\n",
      "Epoch 10 complete! Validation Loss : 0.6355565836032232\n",
      "Epoch 10 complete! Validation Accuracy : 0.68359375\n",
      "Best validation loss improved from 0.6479056576887766 to 0.6355565836032232\n",
      "\n",
      "\n",
      "Iteration 9/45 of epoch 11 complete. Loss : 0.3149728543228573 \n"
     ]
    },
    {
     "name": "stderr",
     "output_type": "stream",
     "text": [
      "100%|██████████| 45/45 [00:00<00:00, 142.27it/s]\n",
      "  0%|          | 0/12 [00:00<?, ?it/s]"
     ]
    },
    {
     "name": "stdout",
     "output_type": "stream",
     "text": [
      "\n",
      "Iteration 18/45 of epoch 11 complete. Loss : 0.31439827216996086 \n",
      "\n",
      "Iteration 27/45 of epoch 11 complete. Loss : 0.312542845805486 \n",
      "\n",
      "Iteration 36/45 of epoch 11 complete. Loss : 0.3155685000949436 \n",
      "\n",
      "Iteration 45/45 of epoch 11 complete. Loss : 0.31410708361201817 \n"
     ]
    },
    {
     "name": "stderr",
     "output_type": "stream",
     "text": [
      "100%|██████████| 12/12 [00:00<00:00, 334.99it/s]\n",
      " 33%|███▎      | 15/45 [00:00<00:00, 146.62it/s]"
     ]
    },
    {
     "name": "stdout",
     "output_type": "stream",
     "text": [
      "\n",
      "Epoch 11 complete! Validation Loss : 0.623198871811231\n",
      "Epoch 11 complete! Validation Accuracy : 0.6985677083333334\n",
      "Best validation loss improved from 0.6355565836032232 to 0.623198871811231\n",
      "\n",
      "\n",
      "Iteration 9/45 of epoch 12 complete. Loss : 0.30973934796121383 \n",
      "\n",
      "Iteration 18/45 of epoch 12 complete. Loss : 0.30899786618020797 \n",
      "\n",
      "Iteration 27/45 of epoch 12 complete. Loss : 0.3055679930580987 \n"
     ]
    },
    {
     "name": "stderr",
     "output_type": "stream",
     "text": [
      "100%|██████████| 45/45 [00:00<00:00, 143.08it/s]\n",
      "100%|██████████| 12/12 [00:00<00:00, 335.72it/s]\n",
      "  0%|          | 0/45 [00:00<?, ?it/s]"
     ]
    },
    {
     "name": "stdout",
     "output_type": "stream",
     "text": [
      "\n",
      "Iteration 36/45 of epoch 12 complete. Loss : 0.30657659305466545 \n",
      "\n",
      "Iteration 45/45 of epoch 12 complete. Loss : 0.3010287284851074 \n",
      "\n",
      "Epoch 12 complete! Validation Loss : 0.6084449887275696\n",
      "Epoch 12 complete! Validation Accuracy : 0.7200520833333334\n",
      "Best validation loss improved from 0.623198871811231 to 0.6084449887275696\n",
      "\n"
     ]
    },
    {
     "name": "stderr",
     "output_type": "stream",
     "text": [
      " 60%|██████    | 27/45 [00:00<00:00, 132.43it/s]"
     ]
    },
    {
     "name": "stdout",
     "output_type": "stream",
     "text": [
      "\n",
      "Iteration 9/45 of epoch 13 complete. Loss : 0.3038715057902866 \n",
      "\n",
      "Iteration 18/45 of epoch 13 complete. Loss : 0.30079894595676 \n",
      "\n",
      "Iteration 27/45 of epoch 13 complete. Loss : 0.2967183424366845 \n",
      "\n",
      "Iteration 36/45 of epoch 13 complete. Loss : 0.29952266150050694 \n"
     ]
    },
    {
     "name": "stderr",
     "output_type": "stream",
     "text": [
      "100%|██████████| 45/45 [00:00<00:00, 134.22it/s]\n",
      "100%|██████████| 12/12 [00:00<00:00, 330.11it/s]\n",
      " 33%|███▎      | 15/45 [00:00<00:00, 147.96it/s]"
     ]
    },
    {
     "name": "stdout",
     "output_type": "stream",
     "text": [
      "\n",
      "Iteration 45/45 of epoch 13 complete. Loss : 0.29483458068635726 \n",
      "\n",
      "Epoch 13 complete! Validation Loss : 0.5923138310511907\n",
      "Epoch 13 complete! Validation Accuracy : 0.7298177083333334\n",
      "Best validation loss improved from 0.6084449887275696 to 0.5923138310511907\n",
      "\n",
      "\n",
      "Iteration 9/45 of epoch 14 complete. Loss : 0.2954196631908417 \n"
     ]
    },
    {
     "name": "stderr",
     "output_type": "stream",
     "text": [
      "100%|██████████| 45/45 [00:00<00:00, 143.66it/s]\n",
      "  0%|          | 0/12 [00:00<?, ?it/s]"
     ]
    },
    {
     "name": "stdout",
     "output_type": "stream",
     "text": [
      "\n",
      "Iteration 18/45 of epoch 14 complete. Loss : 0.2919265429178874 \n",
      "\n",
      "Iteration 27/45 of epoch 14 complete. Loss : 0.2924119333426158 \n",
      "\n",
      "Iteration 36/45 of epoch 14 complete. Loss : 0.28753379980723065 \n",
      "\n",
      "Iteration 45/45 of epoch 14 complete. Loss : 0.28886479139328003 \n"
     ]
    },
    {
     "name": "stderr",
     "output_type": "stream",
     "text": [
      "100%|██████████| 12/12 [00:00<00:00, 276.72it/s]\n",
      " 31%|███       | 14/45 [00:00<00:00, 139.49it/s]"
     ]
    },
    {
     "name": "stdout",
     "output_type": "stream",
     "text": [
      "\n",
      "Epoch 14 complete! Validation Loss : 0.5745536188284556\n",
      "Epoch 14 complete! Validation Accuracy : 0.7434895833333334\n",
      "Best validation loss improved from 0.5923138310511907 to 0.5745536188284556\n",
      "\n",
      "\n",
      "Iteration 9/45 of epoch 15 complete. Loss : 0.28955307934019303 \n",
      "\n",
      "Iteration 18/45 of epoch 15 complete. Loss : 0.2829325960742103 \n",
      "\n",
      "Iteration 27/45 of epoch 15 complete. Loss : 0.28225815627310014 \n"
     ]
    },
    {
     "name": "stderr",
     "output_type": "stream",
     "text": [
      "100%|██████████| 45/45 [00:00<00:00, 145.57it/s]\n",
      "100%|██████████| 12/12 [00:00<00:00, 345.17it/s]\n",
      "  0%|          | 0/45 [00:00<?, ?it/s]"
     ]
    },
    {
     "name": "stdout",
     "output_type": "stream",
     "text": [
      "\n",
      "Iteration 36/45 of epoch 15 complete. Loss : 0.28095271852281356 \n",
      "\n",
      "Iteration 45/45 of epoch 15 complete. Loss : 0.2776161796516842 \n",
      "\n",
      "Epoch 15 complete! Validation Loss : 0.5548733323812485\n",
      "Epoch 15 complete! Validation Accuracy : 0.8046875\n",
      "Best validation loss improved from 0.5745536188284556 to 0.5548733323812485\n",
      "\n",
      "\n",
      "Iteration 9/45 of epoch 16 complete. Loss : 0.27335116929478115 \n"
     ]
    },
    {
     "name": "stderr",
     "output_type": "stream",
     "text": [
      "100%|██████████| 45/45 [00:00<00:00, 150.22it/s]\n",
      "  0%|          | 0/12 [00:00<?, ?it/s]"
     ]
    },
    {
     "name": "stdout",
     "output_type": "stream",
     "text": [
      "\n",
      "Iteration 18/45 of epoch 16 complete. Loss : 0.2770099209414588 \n",
      "\n",
      "Iteration 27/45 of epoch 16 complete. Loss : 0.2708679603205787 \n",
      "\n",
      "Iteration 36/45 of epoch 16 complete. Loss : 0.2692512472470601 \n",
      "\n",
      "Iteration 45/45 of epoch 16 complete. Loss : 0.2783704863654243 \n"
     ]
    },
    {
     "name": "stderr",
     "output_type": "stream",
     "text": [
      "100%|██████████| 12/12 [00:00<00:00, 334.59it/s]\n",
      " 36%|███▌      | 16/45 [00:00<00:00, 152.82it/s]"
     ]
    },
    {
     "name": "stdout",
     "output_type": "stream",
     "text": [
      "\n",
      "Epoch 16 complete! Validation Loss : 0.5333129664262136\n",
      "Epoch 16 complete! Validation Accuracy : 0.82421875\n",
      "Best validation loss improved from 0.5548733323812485 to 0.5333129664262136\n",
      "\n",
      "\n",
      "Iteration 9/45 of epoch 17 complete. Loss : 0.26700544191731346 \n",
      "\n",
      "Iteration 18/45 of epoch 17 complete. Loss : 0.2683953146139781 \n",
      "\n",
      "Iteration 27/45 of epoch 17 complete. Loss : 0.25967657731639016 \n"
     ]
    },
    {
     "name": "stderr",
     "output_type": "stream",
     "text": [
      "100%|██████████| 45/45 [00:00<00:00, 151.35it/s]\n",
      "100%|██████████| 12/12 [00:00<00:00, 331.69it/s]\n",
      "  0%|          | 0/45 [00:00<?, ?it/s]"
     ]
    },
    {
     "name": "stdout",
     "output_type": "stream",
     "text": [
      "\n",
      "Iteration 36/45 of epoch 17 complete. Loss : 0.2633083131578233 \n",
      "\n",
      "Iteration 45/45 of epoch 17 complete. Loss : 0.25420081615448 \n",
      "\n",
      "Epoch 17 complete! Validation Loss : 0.5121224299073219\n",
      "Epoch 17 complete! Validation Accuracy : 0.8268229166666666\n",
      "Best validation loss improved from 0.5333129664262136 to 0.5121224299073219\n",
      "\n",
      "\n",
      "Iteration 9/45 of epoch 18 complete. Loss : 0.25695999132262337 \n"
     ]
    },
    {
     "name": "stderr",
     "output_type": "stream",
     "text": [
      "100%|██████████| 45/45 [00:00<00:00, 151.39it/s]\n",
      "  0%|          | 0/12 [00:00<?, ?it/s]"
     ]
    },
    {
     "name": "stdout",
     "output_type": "stream",
     "text": [
      "\n",
      "Iteration 18/45 of epoch 18 complete. Loss : 0.2588099820746316 \n",
      "\n",
      "Iteration 27/45 of epoch 18 complete. Loss : 0.25329241653283435 \n",
      "\n",
      "Iteration 36/45 of epoch 18 complete. Loss : 0.25037813352213967 \n",
      "\n",
      "Iteration 45/45 of epoch 18 complete. Loss : 0.24001637432310316 \n"
     ]
    },
    {
     "name": "stderr",
     "output_type": "stream",
     "text": [
      "100%|██████████| 12/12 [00:00<00:00, 291.00it/s]\n",
      " 36%|███▌      | 16/45 [00:00<00:00, 151.92it/s]"
     ]
    },
    {
     "name": "stdout",
     "output_type": "stream",
     "text": [
      "\n",
      "Epoch 18 complete! Validation Loss : 0.49126475552717846\n",
      "Epoch 18 complete! Validation Accuracy : 0.83203125\n",
      "Best validation loss improved from 0.5121224299073219 to 0.49126475552717846\n",
      "\n",
      "\n",
      "Iteration 9/45 of epoch 19 complete. Loss : 0.24455800983640882 \n",
      "\n",
      "Iteration 18/45 of epoch 19 complete. Loss : 0.24747149149576822 \n",
      "\n",
      "Iteration 27/45 of epoch 19 complete. Loss : 0.2432620988951789 \n"
     ]
    },
    {
     "name": "stderr",
     "output_type": "stream",
     "text": [
      "100%|██████████| 45/45 [00:00<00:00, 147.14it/s]\n",
      "100%|██████████| 12/12 [00:00<00:00, 332.74it/s]\n",
      "  0%|          | 0/45 [00:00<?, ?it/s]"
     ]
    },
    {
     "name": "stdout",
     "output_type": "stream",
     "text": [
      "\n",
      "Iteration 36/45 of epoch 19 complete. Loss : 0.23958440787262386 \n",
      "\n",
      "Iteration 45/45 of epoch 19 complete. Loss : 0.23454267117712232 \n",
      "\n",
      "Epoch 19 complete! Validation Loss : 0.471424068013827\n",
      "Epoch 19 complete! Validation Accuracy : 0.83984375\n",
      "Best validation loss improved from 0.49126475552717846 to 0.471424068013827\n",
      "\n",
      "\n",
      "Iteration 9/45 of epoch 20 complete. Loss : 0.23639569183190665 \n"
     ]
    },
    {
     "name": "stderr",
     "output_type": "stream",
     "text": [
      "100%|██████████| 45/45 [00:00<00:00, 148.64it/s]\n",
      "  0%|          | 0/12 [00:00<?, ?it/s]"
     ]
    },
    {
     "name": "stdout",
     "output_type": "stream",
     "text": [
      "\n",
      "Iteration 18/45 of epoch 20 complete. Loss : 0.2297355698214637 \n",
      "\n",
      "Iteration 27/45 of epoch 20 complete. Loss : 0.22950403889020285 \n",
      "\n",
      "Iteration 36/45 of epoch 20 complete. Loss : 0.23393402828110588 \n",
      "\n",
      "Iteration 45/45 of epoch 20 complete. Loss : 0.2283229264948103 \n"
     ]
    },
    {
     "name": "stderr",
     "output_type": "stream",
     "text": [
      "100%|██████████| 12/12 [00:00<00:00, 326.09it/s]\n",
      " 33%|███▎      | 15/45 [00:00<00:00, 145.49it/s]"
     ]
    },
    {
     "name": "stdout",
     "output_type": "stream",
     "text": [
      "\n",
      "Epoch 20 complete! Validation Loss : 0.4505936453739802\n",
      "Epoch 20 complete! Validation Accuracy : 0.8470052083333334\n",
      "Best validation loss improved from 0.471424068013827 to 0.4505936453739802\n",
      "\n",
      "\n",
      "Iteration 9/45 of epoch 21 complete. Loss : 0.22923006117343903 \n",
      "\n",
      "Iteration 18/45 of epoch 21 complete. Loss : 0.2266435060236189 \n",
      "\n",
      "Iteration 27/45 of epoch 21 complete. Loss : 0.21373447279135385 \n"
     ]
    },
    {
     "name": "stderr",
     "output_type": "stream",
     "text": [
      "100%|██████████| 45/45 [00:00<00:00, 147.44it/s]\n",
      "100%|██████████| 12/12 [00:00<00:00, 328.36it/s]\n",
      "  0%|          | 0/45 [00:00<?, ?it/s]"
     ]
    },
    {
     "name": "stdout",
     "output_type": "stream",
     "text": [
      "\n",
      "Iteration 36/45 of epoch 21 complete. Loss : 0.225028610891766 \n",
      "\n",
      "Iteration 45/45 of epoch 21 complete. Loss : 0.22131601638264126 \n",
      "\n",
      "Epoch 21 complete! Validation Loss : 0.4329070597887039\n",
      "Epoch 21 complete! Validation Accuracy : 0.8515625\n",
      "Best validation loss improved from 0.4505936453739802 to 0.4329070597887039\n",
      "\n",
      "\n",
      "Iteration 9/45 of epoch 22 complete. Loss : 0.21770242187711927 \n"
     ]
    },
    {
     "name": "stderr",
     "output_type": "stream",
     "text": [
      "100%|██████████| 45/45 [00:00<00:00, 149.96it/s]\n",
      "  0%|          | 0/12 [00:00<?, ?it/s]"
     ]
    },
    {
     "name": "stdout",
     "output_type": "stream",
     "text": [
      "\n",
      "Iteration 18/45 of epoch 22 complete. Loss : 0.21577109065320757 \n",
      "\n",
      "Iteration 27/45 of epoch 22 complete. Loss : 0.22034340269035763 \n",
      "\n",
      "Iteration 36/45 of epoch 22 complete. Loss : 0.21008458567990196 \n",
      "\n",
      "Iteration 45/45 of epoch 22 complete. Loss : 0.21055033637417686 \n"
     ]
    },
    {
     "name": "stderr",
     "output_type": "stream",
     "text": [
      "100%|██████████| 12/12 [00:00<00:00, 331.61it/s]\n",
      " 36%|███▌      | 16/45 [00:00<00:00, 153.79it/s]"
     ]
    },
    {
     "name": "stdout",
     "output_type": "stream",
     "text": [
      "\n",
      "Epoch 22 complete! Validation Loss : 0.41646107534567517\n",
      "Epoch 22 complete! Validation Accuracy : 0.8606770833333334\n",
      "Best validation loss improved from 0.4329070597887039 to 0.41646107534567517\n",
      "\n",
      "\n",
      "Iteration 9/45 of epoch 23 complete. Loss : 0.2172269109222624 \n",
      "\n",
      "Iteration 18/45 of epoch 23 complete. Loss : 0.20928092135323417 \n",
      "\n",
      "Iteration 27/45 of epoch 23 complete. Loss : 0.19854404860072666 \n"
     ]
    },
    {
     "name": "stderr",
     "output_type": "stream",
     "text": [
      "100%|██████████| 45/45 [00:00<00:00, 150.11it/s]\n",
      "100%|██████████| 12/12 [00:00<00:00, 337.37it/s]\n",
      "  0%|          | 0/45 [00:00<?, ?it/s]"
     ]
    },
    {
     "name": "stdout",
     "output_type": "stream",
     "text": [
      "\n",
      "Iteration 36/45 of epoch 23 complete. Loss : 0.20220405691199833 \n",
      "\n",
      "Iteration 45/45 of epoch 23 complete. Loss : 0.20027023553848267 \n",
      "\n",
      "Epoch 23 complete! Validation Loss : 0.4011201336979866\n",
      "Epoch 23 complete! Validation Accuracy : 0.8626302083333334\n",
      "Best validation loss improved from 0.41646107534567517 to 0.4011201336979866\n",
      "\n",
      "\n",
      "Iteration 9/45 of epoch 24 complete. Loss : 0.20245717465877533 \n"
     ]
    },
    {
     "name": "stderr",
     "output_type": "stream",
     "text": [
      "100%|██████████| 45/45 [00:00<00:00, 151.20it/s]\n",
      "  0%|          | 0/12 [00:00<?, ?it/s]"
     ]
    },
    {
     "name": "stdout",
     "output_type": "stream",
     "text": [
      "\n",
      "Iteration 18/45 of epoch 24 complete. Loss : 0.20374280214309692 \n",
      "\n",
      "Iteration 27/45 of epoch 24 complete. Loss : 0.20491700867811838 \n",
      "\n",
      "Iteration 36/45 of epoch 24 complete. Loss : 0.19686920278602177 \n",
      "\n",
      "Iteration 45/45 of epoch 24 complete. Loss : 0.1945376694202423 \n"
     ]
    },
    {
     "name": "stderr",
     "output_type": "stream",
     "text": [
      "100%|██████████| 12/12 [00:00<00:00, 334.98it/s]\n",
      " 33%|███▎      | 15/45 [00:00<00:00, 149.42it/s]"
     ]
    },
    {
     "name": "stdout",
     "output_type": "stream",
     "text": [
      "\n",
      "Epoch 24 complete! Validation Loss : 0.38979150851567584\n",
      "Epoch 24 complete! Validation Accuracy : 0.8671875\n",
      "Best validation loss improved from 0.4011201336979866 to 0.38979150851567584\n",
      "\n",
      "\n",
      "Iteration 9/45 of epoch 25 complete. Loss : 0.1948201192749871 \n",
      "\n",
      "Iteration 18/45 of epoch 25 complete. Loss : 0.19123247100247276 \n",
      "\n",
      "Iteration 27/45 of epoch 25 complete. Loss : 0.19685822394159105 \n"
     ]
    },
    {
     "name": "stderr",
     "output_type": "stream",
     "text": [
      "100%|██████████| 45/45 [00:00<00:00, 148.62it/s]\n",
      "100%|██████████| 12/12 [00:00<00:00, 330.74it/s]\n",
      "  0%|          | 0/45 [00:00<?, ?it/s]"
     ]
    },
    {
     "name": "stdout",
     "output_type": "stream",
     "text": [
      "\n",
      "Iteration 36/45 of epoch 25 complete. Loss : 0.193411691321267 \n",
      "\n",
      "Iteration 45/45 of epoch 25 complete. Loss : 0.18819877670870888 \n",
      "\n",
      "Epoch 25 complete! Validation Loss : 0.376796950896581\n",
      "Epoch 25 complete! Validation Accuracy : 0.8717447916666666\n",
      "Best validation loss improved from 0.38979150851567584 to 0.376796950896581\n",
      "\n",
      "\n",
      "Iteration 9/45 of epoch 26 complete. Loss : 0.19088882373438942 \n"
     ]
    },
    {
     "name": "stderr",
     "output_type": "stream",
     "text": [
      "100%|██████████| 45/45 [00:00<00:00, 148.04it/s]\n",
      "  0%|          | 0/12 [00:00<?, ?it/s]"
     ]
    },
    {
     "name": "stdout",
     "output_type": "stream",
     "text": [
      "\n",
      "Iteration 18/45 of epoch 26 complete. Loss : 0.1858293977048662 \n",
      "\n",
      "Iteration 27/45 of epoch 26 complete. Loss : 0.19079210691981846 \n",
      "\n",
      "Iteration 36/45 of epoch 26 complete. Loss : 0.18139084511333042 \n",
      "\n",
      "Iteration 45/45 of epoch 26 complete. Loss : 0.17883679022391638 \n"
     ]
    },
    {
     "name": "stderr",
     "output_type": "stream",
     "text": [
      "100%|██████████| 12/12 [00:00<00:00, 329.60it/s]\n",
      " 33%|███▎      | 15/45 [00:00<00:00, 141.60it/s]"
     ]
    },
    {
     "name": "stdout",
     "output_type": "stream",
     "text": [
      "\n",
      "Epoch 26 complete! Validation Loss : 0.3660908291737239\n",
      "Epoch 26 complete! Validation Accuracy : 0.8782552083333334\n",
      "Best validation loss improved from 0.376796950896581 to 0.3660908291737239\n",
      "\n",
      "\n",
      "Iteration 9/45 of epoch 27 complete. Loss : 0.18495374586847094 \n",
      "\n",
      "Iteration 18/45 of epoch 27 complete. Loss : 0.18583154512776268 \n",
      "\n",
      "Iteration 27/45 of epoch 27 complete. Loss : 0.17663967278268602 \n"
     ]
    },
    {
     "name": "stderr",
     "output_type": "stream",
     "text": [
      "100%|██████████| 45/45 [00:00<00:00, 146.16it/s]\n",
      "100%|██████████| 12/12 [00:00<00:00, 343.56it/s]\n",
      "  0%|          | 0/45 [00:00<?, ?it/s]"
     ]
    },
    {
     "name": "stdout",
     "output_type": "stream",
     "text": [
      "\n",
      "Iteration 36/45 of epoch 27 complete. Loss : 0.17742887139320374 \n",
      "\n",
      "Iteration 45/45 of epoch 27 complete. Loss : 0.17418576776981354 \n",
      "\n",
      "Epoch 27 complete! Validation Loss : 0.3558334621290366\n",
      "Epoch 27 complete! Validation Accuracy : 0.8802083333333334\n",
      "Best validation loss improved from 0.3660908291737239 to 0.3558334621290366\n",
      "\n",
      "\n",
      "Iteration 9/45 of epoch 28 complete. Loss : 0.18068942427635193 \n"
     ]
    },
    {
     "name": "stderr",
     "output_type": "stream",
     "text": [
      "100%|██████████| 45/45 [00:00<00:00, 141.78it/s]\n",
      "  0%|          | 0/12 [00:00<?, ?it/s]"
     ]
    },
    {
     "name": "stdout",
     "output_type": "stream",
     "text": [
      "\n",
      "Iteration 18/45 of epoch 28 complete. Loss : 0.17894057598378924 \n",
      "\n",
      "Iteration 27/45 of epoch 28 complete. Loss : 0.17192882961697048 \n",
      "\n",
      "Iteration 36/45 of epoch 28 complete. Loss : 0.1696472383207745 \n",
      "\n",
      "Iteration 45/45 of epoch 28 complete. Loss : 0.17801182799869114 \n"
     ]
    },
    {
     "name": "stderr",
     "output_type": "stream",
     "text": [
      "100%|██████████| 12/12 [00:00<00:00, 320.24it/s]\n",
      " 36%|███▌      | 16/45 [00:00<00:00, 152.79it/s]"
     ]
    },
    {
     "name": "stdout",
     "output_type": "stream",
     "text": [
      "\n",
      "Epoch 28 complete! Validation Loss : 0.34717920422554016\n",
      "Epoch 28 complete! Validation Accuracy : 0.8873697916666666\n",
      "Best validation loss improved from 0.3558334621290366 to 0.34717920422554016\n",
      "\n",
      "\n",
      "Iteration 9/45 of epoch 29 complete. Loss : 0.1674792750014199 \n",
      "\n",
      "Iteration 18/45 of epoch 29 complete. Loss : 0.17062372465928397 \n",
      "\n",
      "Iteration 27/45 of epoch 29 complete. Loss : 0.17891361978318956 \n"
     ]
    },
    {
     "name": "stderr",
     "output_type": "stream",
     "text": [
      "100%|██████████| 45/45 [00:00<00:00, 149.57it/s]\n",
      "100%|██████████| 12/12 [00:00<00:00, 331.72it/s]\n",
      "  0%|          | 0/45 [00:00<?, ?it/s]"
     ]
    },
    {
     "name": "stdout",
     "output_type": "stream",
     "text": [
      "\n",
      "Iteration 36/45 of epoch 29 complete. Loss : 0.16796529624197218 \n",
      "\n",
      "Iteration 45/45 of epoch 29 complete. Loss : 0.1728998472293218 \n",
      "\n",
      "Epoch 29 complete! Validation Loss : 0.3402000702917576\n",
      "Epoch 29 complete! Validation Accuracy : 0.88671875\n",
      "Best validation loss improved from 0.34717920422554016 to 0.3402000702917576\n",
      "\n",
      "\n",
      "Iteration 9/45 of epoch 30 complete. Loss : 0.16764070921474034 \n"
     ]
    },
    {
     "name": "stderr",
     "output_type": "stream",
     "text": [
      "100%|██████████| 45/45 [00:00<00:00, 150.35it/s]\n",
      "  0%|          | 0/12 [00:00<?, ?it/s]"
     ]
    },
    {
     "name": "stdout",
     "output_type": "stream",
     "text": [
      "\n",
      "Iteration 18/45 of epoch 30 complete. Loss : 0.17022617989116245 \n",
      "\n",
      "Iteration 27/45 of epoch 30 complete. Loss : 0.1647690451807446 \n",
      "\n",
      "Iteration 36/45 of epoch 30 complete. Loss : 0.17055702375041115 \n",
      "\n",
      "Iteration 45/45 of epoch 30 complete. Loss : 0.16174658636252084 \n"
     ]
    },
    {
     "name": "stderr",
     "output_type": "stream",
     "text": [
      "100%|██████████| 12/12 [00:00<00:00, 322.32it/s]\n",
      " 36%|███▌      | 16/45 [00:00<00:00, 152.85it/s]"
     ]
    },
    {
     "name": "stdout",
     "output_type": "stream",
     "text": [
      "\n",
      "Epoch 30 complete! Validation Loss : 0.33601661150654155\n",
      "Epoch 30 complete! Validation Accuracy : 0.8841145833333334\n",
      "Best validation loss improved from 0.3402000702917576 to 0.33601661150654155\n",
      "\n",
      "\n",
      "Iteration 9/45 of epoch 31 complete. Loss : 0.16224941114584604 \n",
      "\n",
      "Iteration 18/45 of epoch 31 complete. Loss : 0.1579752051168018 \n",
      "\n",
      "Iteration 27/45 of epoch 31 complete. Loss : 0.16384528080622354 \n"
     ]
    },
    {
     "name": "stderr",
     "output_type": "stream",
     "text": [
      "100%|██████████| 45/45 [00:00<00:00, 150.95it/s]\n",
      "100%|██████████| 12/12 [00:00<00:00, 331.96it/s]\n",
      "  0%|          | 0/45 [00:00<?, ?it/s]"
     ]
    },
    {
     "name": "stdout",
     "output_type": "stream",
     "text": [
      "\n",
      "Iteration 36/45 of epoch 31 complete. Loss : 0.16087563667032453 \n",
      "\n",
      "Iteration 45/45 of epoch 31 complete. Loss : 0.1657150255309211 \n",
      "\n",
      "Epoch 31 complete! Validation Loss : 0.3243429164091746\n",
      "Epoch 31 complete! Validation Accuracy : 0.8912760416666666\n",
      "Best validation loss improved from 0.33601661150654155 to 0.3243429164091746\n",
      "\n",
      "\n",
      "Iteration 9/45 of epoch 32 complete. Loss : 0.1503108474943373 \n"
     ]
    },
    {
     "name": "stderr",
     "output_type": "stream",
     "text": [
      "100%|██████████| 45/45 [00:00<00:00, 149.48it/s]\n",
      "  0%|          | 0/12 [00:00<?, ?it/s]"
     ]
    },
    {
     "name": "stdout",
     "output_type": "stream",
     "text": [
      "\n",
      "Iteration 18/45 of epoch 32 complete. Loss : 0.1539861195617252 \n",
      "\n",
      "Iteration 27/45 of epoch 32 complete. Loss : 0.1639268398284912 \n",
      "\n",
      "Iteration 36/45 of epoch 32 complete. Loss : 0.16033600601885054 \n",
      "\n",
      "Iteration 45/45 of epoch 32 complete. Loss : 0.15438494169049793 \n"
     ]
    },
    {
     "name": "stderr",
     "output_type": "stream",
     "text": [
      "100%|██████████| 12/12 [00:00<00:00, 320.99it/s]\n",
      " 36%|███▌      | 16/45 [00:00<00:00, 150.97it/s]"
     ]
    },
    {
     "name": "stdout",
     "output_type": "stream",
     "text": [
      "\n",
      "Epoch 32 complete! Validation Loss : 0.31843120108048123\n",
      "Epoch 32 complete! Validation Accuracy : 0.89453125\n",
      "Best validation loss improved from 0.3243429164091746 to 0.31843120108048123\n",
      "\n",
      "\n",
      "Iteration 9/45 of epoch 33 complete. Loss : 0.15164474646250406 \n",
      "\n",
      "Iteration 18/45 of epoch 33 complete. Loss : 0.15901365048355526 \n",
      "\n",
      "Iteration 27/45 of epoch 33 complete. Loss : 0.16042309833897483 \n"
     ]
    },
    {
     "name": "stderr",
     "output_type": "stream",
     "text": [
      "100%|██████████| 45/45 [00:00<00:00, 152.85it/s]\n",
      "100%|██████████| 12/12 [00:00<00:00, 339.86it/s]\n",
      "  0%|          | 0/45 [00:00<?, ?it/s]"
     ]
    },
    {
     "name": "stdout",
     "output_type": "stream",
     "text": [
      "\n",
      "Iteration 36/45 of epoch 33 complete. Loss : 0.15177139970991346 \n",
      "\n",
      "Iteration 45/45 of epoch 33 complete. Loss : 0.14707676817973456 \n",
      "\n",
      "Epoch 33 complete! Validation Loss : 0.31226690113544464\n",
      "Epoch 33 complete! Validation Accuracy : 0.8951822916666666\n",
      "Best validation loss improved from 0.31843120108048123 to 0.31226690113544464\n",
      "\n",
      "\n",
      "Iteration 9/45 of epoch 34 complete. Loss : 0.15472207797898185 \n"
     ]
    },
    {
     "name": "stderr",
     "output_type": "stream",
     "text": [
      "100%|██████████| 45/45 [00:00<00:00, 151.78it/s]\n",
      "  0%|          | 0/12 [00:00<?, ?it/s]"
     ]
    },
    {
     "name": "stdout",
     "output_type": "stream",
     "text": [
      "\n",
      "Iteration 18/45 of epoch 34 complete. Loss : 0.14607132640149859 \n",
      "\n",
      "Iteration 27/45 of epoch 34 complete. Loss : 0.15352466371324328 \n",
      "\n",
      "Iteration 36/45 of epoch 34 complete. Loss : 0.14352451264858246 \n",
      "\n",
      "Iteration 45/45 of epoch 34 complete. Loss : 0.15437395042843288 \n"
     ]
    },
    {
     "name": "stderr",
     "output_type": "stream",
     "text": [
      "100%|██████████| 12/12 [00:00<00:00, 334.47it/s]\n",
      " 31%|███       | 14/45 [00:00<00:00, 139.49it/s]"
     ]
    },
    {
     "name": "stdout",
     "output_type": "stream",
     "text": [
      "\n",
      "Epoch 34 complete! Validation Loss : 0.3083726540207863\n",
      "Epoch 34 complete! Validation Accuracy : 0.900390625\n",
      "Best validation loss improved from 0.31226690113544464 to 0.3083726540207863\n",
      "\n",
      "\n",
      "Iteration 9/45 of epoch 35 complete. Loss : 0.14983574714925554 \n",
      "\n",
      "Iteration 18/45 of epoch 35 complete. Loss : 0.1502089864677853 \n",
      "\n",
      "Iteration 27/45 of epoch 35 complete. Loss : 0.13636670841111076 \n"
     ]
    },
    {
     "name": "stderr",
     "output_type": "stream",
     "text": [
      "100%|██████████| 45/45 [00:00<00:00, 144.16it/s]\n",
      "100%|██████████| 12/12 [00:00<00:00, 342.51it/s]\n",
      "  0%|          | 0/45 [00:00<?, ?it/s]"
     ]
    },
    {
     "name": "stdout",
     "output_type": "stream",
     "text": [
      "\n",
      "Iteration 36/45 of epoch 35 complete. Loss : 0.14879034790727827 \n",
      "\n",
      "Iteration 45/45 of epoch 35 complete. Loss : 0.14849900950988135 \n",
      "\n",
      "Epoch 35 complete! Validation Loss : 0.3020359513660272\n",
      "Epoch 35 complete! Validation Accuracy : 0.9016927083333334\n",
      "Best validation loss improved from 0.3083726540207863 to 0.3020359513660272\n",
      "\n",
      "\n",
      "Iteration 9/45 of epoch 36 complete. Loss : 0.14437753210465112 \n"
     ]
    },
    {
     "name": "stderr",
     "output_type": "stream",
     "text": [
      "100%|██████████| 45/45 [00:00<00:00, 151.02it/s]\n",
      "  0%|          | 0/12 [00:00<?, ?it/s]"
     ]
    },
    {
     "name": "stdout",
     "output_type": "stream",
     "text": [
      "\n",
      "Iteration 18/45 of epoch 36 complete. Loss : 0.1445621574918429 \n",
      "\n",
      "Iteration 27/45 of epoch 36 complete. Loss : 0.14508865608109367 \n",
      "\n",
      "Iteration 36/45 of epoch 36 complete. Loss : 0.14187283400032255 \n",
      "\n",
      "Iteration 45/45 of epoch 36 complete. Loss : 0.1487256313363711 \n"
     ]
    },
    {
     "name": "stderr",
     "output_type": "stream",
     "text": [
      "100%|██████████| 12/12 [00:00<00:00, 323.19it/s]\n",
      " 36%|███▌      | 16/45 [00:00<00:00, 151.84it/s]"
     ]
    },
    {
     "name": "stdout",
     "output_type": "stream",
     "text": [
      "\n",
      "Epoch 36 complete! Validation Loss : 0.2982391342520714\n",
      "Epoch 36 complete! Validation Accuracy : 0.90625\n",
      "Best validation loss improved from 0.3020359513660272 to 0.2982391342520714\n",
      "\n",
      "\n",
      "Iteration 9/45 of epoch 37 complete. Loss : 0.14070654246542189 \n",
      "\n",
      "Iteration 18/45 of epoch 37 complete. Loss : 0.13631784915924072 \n",
      "\n",
      "Iteration 27/45 of epoch 37 complete. Loss : 0.14053497877385882 \n"
     ]
    },
    {
     "name": "stderr",
     "output_type": "stream",
     "text": [
      "100%|██████████| 45/45 [00:00<00:00, 150.97it/s]\n",
      "100%|██████████| 12/12 [00:00<00:00, 331.87it/s]\n",
      "  0%|          | 0/45 [00:00<?, ?it/s]"
     ]
    },
    {
     "name": "stdout",
     "output_type": "stream",
     "text": [
      "\n",
      "Iteration 36/45 of epoch 37 complete. Loss : 0.13572397165828282 \n",
      "\n",
      "Iteration 45/45 of epoch 37 complete. Loss : 0.1578800156712532 \n",
      "\n",
      "Epoch 37 complete! Validation Loss : 0.29331403598189354\n",
      "Epoch 37 complete! Validation Accuracy : 0.908203125\n",
      "Best validation loss improved from 0.2982391342520714 to 0.29331403598189354\n",
      "\n",
      "\n",
      "Iteration 9/45 of epoch 38 complete. Loss : 0.1364835707677735 \n"
     ]
    },
    {
     "name": "stderr",
     "output_type": "stream",
     "text": [
      "100%|██████████| 45/45 [00:00<00:00, 150.91it/s]\n",
      "  0%|          | 0/12 [00:00<?, ?it/s]"
     ]
    },
    {
     "name": "stdout",
     "output_type": "stream",
     "text": [
      "\n",
      "Iteration 18/45 of epoch 38 complete. Loss : 0.1420670805705918 \n",
      "\n",
      "Iteration 27/45 of epoch 38 complete. Loss : 0.1377132096224361 \n",
      "\n",
      "Iteration 36/45 of epoch 38 complete. Loss : 0.12913264830907187 \n",
      "\n",
      "Iteration 45/45 of epoch 38 complete. Loss : 0.13229241884417003 \n"
     ]
    },
    {
     "name": "stderr",
     "output_type": "stream",
     "text": [
      "100%|██████████| 12/12 [00:00<00:00, 322.95it/s]\n",
      " 33%|███▎      | 15/45 [00:00<00:00, 148.42it/s]"
     ]
    },
    {
     "name": "stdout",
     "output_type": "stream",
     "text": [
      "\n",
      "Epoch 38 complete! Validation Loss : 0.2889188552896182\n",
      "Epoch 38 complete! Validation Accuracy : 0.9108072916666666\n",
      "Best validation loss improved from 0.29331403598189354 to 0.2889188552896182\n",
      "\n",
      "\n",
      "Iteration 9/45 of epoch 39 complete. Loss : 0.13228988647460938 \n",
      "\n",
      "Iteration 18/45 of epoch 39 complete. Loss : 0.13292381332980263 \n",
      "\n",
      "Iteration 27/45 of epoch 39 complete. Loss : 0.13277033550871742 \n"
     ]
    },
    {
     "name": "stderr",
     "output_type": "stream",
     "text": [
      "100%|██████████| 45/45 [00:00<00:00, 148.62it/s]\n",
      "100%|██████████| 12/12 [00:00<00:00, 334.72it/s]\n",
      "  0%|          | 0/45 [00:00<?, ?it/s]"
     ]
    },
    {
     "name": "stdout",
     "output_type": "stream",
     "text": [
      "\n",
      "Iteration 36/45 of epoch 39 complete. Loss : 0.1377240386274126 \n",
      "\n",
      "Iteration 45/45 of epoch 39 complete. Loss : 0.12976592034101486 \n",
      "\n",
      "Epoch 39 complete! Validation Loss : 0.2884805276989937\n",
      "Epoch 39 complete! Validation Accuracy : 0.9147135416666666\n",
      "Best validation loss improved from 0.2889188552896182 to 0.2884805276989937\n",
      "\n",
      "\n",
      "Iteration 9/45 of epoch 40 complete. Loss : 0.1337882528702418 \n"
     ]
    },
    {
     "name": "stderr",
     "output_type": "stream",
     "text": [
      "100%|██████████| 45/45 [00:00<00:00, 151.13it/s]\n",
      "  0%|          | 0/12 [00:00<?, ?it/s]"
     ]
    },
    {
     "name": "stdout",
     "output_type": "stream",
     "text": [
      "\n",
      "Iteration 18/45 of epoch 40 complete. Loss : 0.133884250289864 \n",
      "\n",
      "Iteration 27/45 of epoch 40 complete. Loss : 0.12839249273141226 \n",
      "\n",
      "Iteration 36/45 of epoch 40 complete. Loss : 0.12802051256100336 \n",
      "\n",
      "Iteration 45/45 of epoch 40 complete. Loss : 0.12277202225393719 \n"
     ]
    },
    {
     "name": "stderr",
     "output_type": "stream",
     "text": [
      "100%|██████████| 12/12 [00:00<00:00, 321.81it/s]\n",
      " 36%|███▌      | 16/45 [00:00<00:00, 152.17it/s]"
     ]
    },
    {
     "name": "stdout",
     "output_type": "stream",
     "text": [
      "\n",
      "Epoch 40 complete! Validation Loss : 0.28100714087486267\n",
      "Epoch 40 complete! Validation Accuracy : 0.9166666666666666\n",
      "Best validation loss improved from 0.2884805276989937 to 0.28100714087486267\n",
      "\n",
      "\n",
      "Iteration 9/45 of epoch 41 complete. Loss : 0.12563668853706783 \n",
      "\n",
      "Iteration 18/45 of epoch 41 complete. Loss : 0.13353379567464194 \n",
      "\n",
      "Iteration 27/45 of epoch 41 complete. Loss : 0.12443347192472881 \n"
     ]
    },
    {
     "name": "stderr",
     "output_type": "stream",
     "text": [
      "100%|██████████| 45/45 [00:00<00:00, 139.61it/s]\n",
      "100%|██████████| 12/12 [00:00<00:00, 252.36it/s]\n",
      "  0%|          | 0/45 [00:00<?, ?it/s]"
     ]
    },
    {
     "name": "stdout",
     "output_type": "stream",
     "text": [
      "\n",
      "Iteration 36/45 of epoch 41 complete. Loss : 0.12980817589494917 \n",
      "\n",
      "Iteration 45/45 of epoch 41 complete. Loss : 0.11807891560925378 \n",
      "\n",
      "Epoch 41 complete! Validation Loss : 0.27717749898632366\n",
      "Epoch 41 complete! Validation Accuracy : 0.9166666666666666\n",
      "Best validation loss improved from 0.28100714087486267 to 0.27717749898632366\n",
      "\n"
     ]
    },
    {
     "name": "stderr",
     "output_type": "stream",
     "text": [
      " 56%|█████▌    | 25/45 [00:00<00:00, 122.19it/s]"
     ]
    },
    {
     "name": "stdout",
     "output_type": "stream",
     "text": [
      "\n",
      "Iteration 9/45 of epoch 42 complete. Loss : 0.1274675668941604 \n",
      "\n",
      "Iteration 18/45 of epoch 42 complete. Loss : 0.124535890089141 \n",
      "\n",
      "Iteration 27/45 of epoch 42 complete. Loss : 0.12695381707615322 \n"
     ]
    },
    {
     "name": "stderr",
     "output_type": "stream",
     "text": [
      "100%|██████████| 45/45 [00:00<00:00, 119.56it/s]\n",
      "100%|██████████| 12/12 [00:00<00:00, 241.44it/s]\n",
      "  0%|          | 0/45 [00:00<?, ?it/s]"
     ]
    },
    {
     "name": "stdout",
     "output_type": "stream",
     "text": [
      "\n",
      "Iteration 36/45 of epoch 42 complete. Loss : 0.12804924448331198 \n",
      "\n",
      "Iteration 45/45 of epoch 42 complete. Loss : 0.11408127927117878 \n",
      "\n",
      "Epoch 42 complete! Validation Loss : 0.2754271427790324\n",
      "Epoch 42 complete! Validation Accuracy : 0.9186197916666666\n",
      "Best validation loss improved from 0.27717749898632366 to 0.2754271427790324\n",
      "\n"
     ]
    },
    {
     "name": "stderr",
     "output_type": "stream",
     "text": [
      " 56%|█████▌    | 25/45 [00:00<00:00, 121.27it/s]"
     ]
    },
    {
     "name": "stdout",
     "output_type": "stream",
     "text": [
      "\n",
      "Iteration 9/45 of epoch 43 complete. Loss : 0.11964166909456253 \n",
      "\n",
      "Iteration 18/45 of epoch 43 complete. Loss : 0.11874928656551573 \n",
      "\n",
      "Iteration 27/45 of epoch 43 complete. Loss : 0.13051367965009478 \n"
     ]
    },
    {
     "name": "stderr",
     "output_type": "stream",
     "text": [
      "100%|██████████| 45/45 [00:00<00:00, 120.99it/s]\n",
      "100%|██████████| 12/12 [00:00<00:00, 250.99it/s]\n",
      "  0%|          | 0/45 [00:00<?, ?it/s]"
     ]
    },
    {
     "name": "stdout",
     "output_type": "stream",
     "text": [
      "\n",
      "Iteration 36/45 of epoch 43 complete. Loss : 0.1183966522415479 \n",
      "\n",
      "Iteration 45/45 of epoch 43 complete. Loss : 0.12220200151205063 \n",
      "\n",
      "Epoch 43 complete! Validation Loss : 0.27238938584923744\n",
      "Epoch 43 complete! Validation Accuracy : 0.921875\n",
      "Best validation loss improved from 0.2754271427790324 to 0.27238938584923744\n",
      "\n"
     ]
    },
    {
     "name": "stderr",
     "output_type": "stream",
     "text": [
      " 64%|██████▍   | 29/45 [00:00<00:00, 142.29it/s]"
     ]
    },
    {
     "name": "stdout",
     "output_type": "stream",
     "text": [
      "\n",
      "Iteration 9/45 of epoch 44 complete. Loss : 0.12540773219532436 \n",
      "\n",
      "Iteration 18/45 of epoch 44 complete. Loss : 0.1177492845389578 \n",
      "\n",
      "Iteration 27/45 of epoch 44 complete. Loss : 0.11732987893952264 \n",
      "\n",
      "Iteration 36/45 of epoch 44 complete. Loss : 0.11330497099293603 \n"
     ]
    },
    {
     "name": "stderr",
     "output_type": "stream",
     "text": [
      "100%|██████████| 45/45 [00:00<00:00, 142.40it/s]\n",
      "100%|██████████| 12/12 [00:00<00:00, 330.96it/s]\n",
      " 36%|███▌      | 16/45 [00:00<00:00, 152.00it/s]"
     ]
    },
    {
     "name": "stdout",
     "output_type": "stream",
     "text": [
      "\n",
      "Iteration 45/45 of epoch 44 complete. Loss : 0.12271394497818416 \n",
      "\n",
      "Epoch 44 complete! Validation Loss : 0.2679211733241876\n",
      "Epoch 44 complete! Validation Accuracy : 0.92578125\n",
      "Best validation loss improved from 0.27238938584923744 to 0.2679211733241876\n",
      "\n",
      "\n",
      "Iteration 9/45 of epoch 45 complete. Loss : 0.11939354406462775 \n",
      "\n",
      "Iteration 18/45 of epoch 45 complete. Loss : 0.11685457080602646 \n"
     ]
    },
    {
     "name": "stderr",
     "output_type": "stream",
     "text": [
      "100%|██████████| 45/45 [00:00<00:00, 149.53it/s]\n",
      "100%|██████████| 12/12 [00:00<00:00, 331.36it/s]\n",
      "  0%|          | 0/45 [00:00<?, ?it/s]"
     ]
    },
    {
     "name": "stdout",
     "output_type": "stream",
     "text": [
      "\n",
      "Iteration 27/45 of epoch 45 complete. Loss : 0.11281842738389969 \n",
      "\n",
      "Iteration 36/45 of epoch 45 complete. Loss : 0.11893771506018108 \n",
      "\n",
      "Iteration 45/45 of epoch 45 complete. Loss : 0.12019969936874178 \n",
      "\n",
      "Epoch 45 complete! Validation Loss : 0.26541302477320033\n",
      "Epoch 45 complete! Validation Accuracy : 0.9251302083333334\n",
      "Best validation loss improved from 0.2679211733241876 to 0.26541302477320033\n",
      "\n"
     ]
    },
    {
     "name": "stderr",
     "output_type": "stream",
     "text": [
      " 67%|██████▋   | 30/45 [00:00<00:00, 146.65it/s]"
     ]
    },
    {
     "name": "stdout",
     "output_type": "stream",
     "text": [
      "\n",
      "Iteration 9/45 of epoch 46 complete. Loss : 0.1137596211499638 \n",
      "\n",
      "Iteration 18/45 of epoch 46 complete. Loss : 0.11502251194583045 \n",
      "\n",
      "Iteration 27/45 of epoch 46 complete. Loss : 0.12145403524239858 \n",
      "\n",
      "Iteration 36/45 of epoch 46 complete. Loss : 0.11132920367850198 \n"
     ]
    },
    {
     "name": "stderr",
     "output_type": "stream",
     "text": [
      "100%|██████████| 45/45 [00:00<00:00, 149.67it/s]\n",
      "100%|██████████| 12/12 [00:00<00:00, 325.71it/s]\n",
      " 36%|███▌      | 16/45 [00:00<00:00, 154.97it/s]"
     ]
    },
    {
     "name": "stdout",
     "output_type": "stream",
     "text": [
      "\n",
      "Iteration 45/45 of epoch 46 complete. Loss : 0.12316998508241442 \n",
      "\n",
      "Epoch 46 complete! Validation Loss : 0.26261872549851734\n",
      "Epoch 46 complete! Validation Accuracy : 0.923828125\n",
      "Best validation loss improved from 0.26541302477320033 to 0.26261872549851734\n",
      "\n",
      "\n",
      "Iteration 9/45 of epoch 47 complete. Loss : 0.11058452063136631 \n",
      "\n",
      "Iteration 18/45 of epoch 47 complete. Loss : 0.1098090981443723 \n"
     ]
    },
    {
     "name": "stderr",
     "output_type": "stream",
     "text": [
      "100%|██████████| 45/45 [00:00<00:00, 151.92it/s]\n",
      "100%|██████████| 12/12 [00:00<00:00, 323.06it/s]\n",
      "  0%|          | 0/45 [00:00<?, ?it/s]"
     ]
    },
    {
     "name": "stdout",
     "output_type": "stream",
     "text": [
      "\n",
      "Iteration 27/45 of epoch 47 complete. Loss : 0.11291364166471693 \n",
      "\n",
      "Iteration 36/45 of epoch 47 complete. Loss : 0.11698824498388502 \n",
      "\n",
      "Iteration 45/45 of epoch 47 complete. Loss : 0.10765783571534687 \n",
      "\n",
      "Epoch 47 complete! Validation Loss : 0.2613213397562504\n",
      "Epoch 47 complete! Validation Accuracy : 0.92578125\n",
      "Best validation loss improved from 0.26261872549851734 to 0.2613213397562504\n",
      "\n"
     ]
    },
    {
     "name": "stderr",
     "output_type": "stream",
     "text": [
      " 71%|███████   | 32/45 [00:00<00:00, 152.34it/s]"
     ]
    },
    {
     "name": "stdout",
     "output_type": "stream",
     "text": [
      "\n",
      "Iteration 9/45 of epoch 48 complete. Loss : 0.1084959747062789 \n",
      "\n",
      "Iteration 18/45 of epoch 48 complete. Loss : 0.10979777740107642 \n",
      "\n",
      "Iteration 27/45 of epoch 48 complete. Loss : 0.11181562890609105 \n",
      "\n",
      "Iteration 36/45 of epoch 48 complete. Loss : 0.11149474647310045 \n"
     ]
    },
    {
     "name": "stderr",
     "output_type": "stream",
     "text": [
      "100%|██████████| 45/45 [00:00<00:00, 147.79it/s]\n",
      "100%|██████████| 12/12 [00:00<00:00, 322.52it/s]\n",
      " 31%|███       | 14/45 [00:00<00:00, 133.07it/s]"
     ]
    },
    {
     "name": "stdout",
     "output_type": "stream",
     "text": [
      "\n",
      "Iteration 45/45 of epoch 48 complete. Loss : 0.11022069470749961 \n",
      "\n",
      "Epoch 48 complete! Validation Loss : 0.259217436114947\n",
      "Epoch 48 complete! Validation Accuracy : 0.9264322916666666\n",
      "Best validation loss improved from 0.2613213397562504 to 0.259217436114947\n",
      "\n",
      "\n",
      "Iteration 9/45 of epoch 49 complete. Loss : 0.10392491602235371 \n"
     ]
    },
    {
     "name": "stderr",
     "output_type": "stream",
     "text": [
      "100%|██████████| 45/45 [00:00<00:00, 133.16it/s]\n",
      "  0%|          | 0/12 [00:00<?, ?it/s]"
     ]
    },
    {
     "name": "stdout",
     "output_type": "stream",
     "text": [
      "\n",
      "Iteration 18/45 of epoch 49 complete. Loss : 0.1105524053176244 \n",
      "\n",
      "Iteration 27/45 of epoch 49 complete. Loss : 0.10753924399614334 \n",
      "\n",
      "Iteration 36/45 of epoch 49 complete. Loss : 0.1084290055765046 \n",
      "\n",
      "Iteration 45/45 of epoch 49 complete. Loss : 0.10327757315503226 \n"
     ]
    },
    {
     "name": "stderr",
     "output_type": "stream",
     "text": [
      "100%|██████████| 12/12 [00:00<00:00, 329.20it/s]\n",
      " 29%|██▉       | 13/45 [00:00<00:00, 125.41it/s]"
     ]
    },
    {
     "name": "stdout",
     "output_type": "stream",
     "text": [
      "\n",
      "Epoch 49 complete! Validation Loss : 0.2562999712924163\n",
      "Epoch 49 complete! Validation Accuracy : 0.9322916666666666\n",
      "Best validation loss improved from 0.259217436114947 to 0.2562999712924163\n",
      "\n",
      "\n",
      "Iteration 9/45 of epoch 50 complete. Loss : 0.10527346862687005 \n",
      "\n",
      "Iteration 18/45 of epoch 50 complete. Loss : 0.10627350707848866 \n"
     ]
    },
    {
     "name": "stderr",
     "output_type": "stream",
     "text": [
      "100%|██████████| 45/45 [00:00<00:00, 127.62it/s]\n",
      "100%|██████████| 12/12 [00:00<00:00, 331.34it/s]\n"
     ]
    },
    {
     "name": "stdout",
     "output_type": "stream",
     "text": [
      "\n",
      "Iteration 27/45 of epoch 50 complete. Loss : 0.1064961486392551 \n",
      "\n",
      "Iteration 36/45 of epoch 50 complete. Loss : 0.11146928121646245 \n",
      "\n",
      "Iteration 45/45 of epoch 50 complete. Loss : 0.10119172268443638 \n"
     ]
    },
    {
     "name": "stderr",
     "output_type": "stream",
     "text": [
      " 31%|███       | 14/45 [00:00<00:00, 139.63it/s]"
     ]
    },
    {
     "name": "stdout",
     "output_type": "stream",
     "text": [
      "\n",
      "Epoch 50 complete! Validation Loss : 0.255676981061697\n",
      "Epoch 50 complete! Validation Accuracy : 0.9296875\n",
      "Best validation loss improved from 0.2562999712924163 to 0.255676981061697\n",
      "\n",
      "\n",
      "Iteration 9/45 of epoch 51 complete. Loss : 0.1022045835852623 \n",
      "\n",
      "Iteration 18/45 of epoch 51 complete. Loss : 0.09844693624311024 \n",
      "\n",
      "Iteration 27/45 of epoch 51 complete. Loss : 0.10585903624693553 \n"
     ]
    },
    {
     "name": "stderr",
     "output_type": "stream",
     "text": [
      "100%|██████████| 45/45 [00:00<00:00, 137.42it/s]\n",
      "100%|██████████| 12/12 [00:00<00:00, 334.55it/s]\n",
      "  0%|          | 0/45 [00:00<?, ?it/s]"
     ]
    },
    {
     "name": "stdout",
     "output_type": "stream",
     "text": [
      "\n",
      "Iteration 36/45 of epoch 51 complete. Loss : 0.10444333983792199 \n",
      "\n",
      "Iteration 45/45 of epoch 51 complete. Loss : 0.10968125363190968 \n",
      "\n",
      "Epoch 51 complete! Validation Loss : 0.252152053018411\n",
      "Epoch 51 complete! Validation Accuracy : 0.9309895833333334\n",
      "Best validation loss improved from 0.255676981061697 to 0.252152053018411\n",
      "\n"
     ]
    },
    {
     "name": "stderr",
     "output_type": "stream",
     "text": [
      " 64%|██████▍   | 29/45 [00:00<00:00, 140.61it/s]"
     ]
    },
    {
     "name": "stdout",
     "output_type": "stream",
     "text": [
      "\n",
      "Iteration 9/45 of epoch 52 complete. Loss : 0.10502509193287955 \n",
      "\n",
      "Iteration 18/45 of epoch 52 complete. Loss : 0.10660174406237072 \n",
      "\n",
      "Iteration 27/45 of epoch 52 complete. Loss : 0.09994485725959142 \n",
      "\n",
      "Iteration 36/45 of epoch 52 complete. Loss : 0.10108494261900584 \n"
     ]
    },
    {
     "name": "stderr",
     "output_type": "stream",
     "text": [
      "100%|██████████| 45/45 [00:00<00:00, 136.47it/s]\n",
      "100%|██████████| 12/12 [00:00<00:00, 327.06it/s]\n",
      " 31%|███       | 14/45 [00:00<00:00, 134.52it/s]"
     ]
    },
    {
     "name": "stdout",
     "output_type": "stream",
     "text": [
      "\n",
      "Iteration 45/45 of epoch 52 complete. Loss : 0.0964197383986579 \n",
      "\n",
      "Epoch 52 complete! Validation Loss : 0.24926113958160082\n",
      "Epoch 52 complete! Validation Accuracy : 0.93359375\n",
      "Best validation loss improved from 0.252152053018411 to 0.24926113958160082\n",
      "\n",
      "\n",
      "Iteration 9/45 of epoch 53 complete. Loss : 0.10329454723331663 \n"
     ]
    },
    {
     "name": "stderr",
     "output_type": "stream",
     "text": [
      "100%|██████████| 45/45 [00:00<00:00, 136.37it/s]\n",
      "  0%|          | 0/12 [00:00<?, ?it/s]"
     ]
    },
    {
     "name": "stdout",
     "output_type": "stream",
     "text": [
      "\n",
      "Iteration 18/45 of epoch 53 complete. Loss : 0.10136749678187901 \n",
      "\n",
      "Iteration 27/45 of epoch 53 complete. Loss : 0.09519944588343303 \n",
      "\n",
      "Iteration 36/45 of epoch 53 complete. Loss : 0.10194374206993315 \n",
      "\n",
      "Iteration 45/45 of epoch 53 complete. Loss : 0.09769785238636865 \n"
     ]
    },
    {
     "name": "stderr",
     "output_type": "stream",
     "text": [
      "100%|██████████| 12/12 [00:00<00:00, 330.19it/s]\n",
      " 31%|███       | 14/45 [00:00<00:00, 131.69it/s]"
     ]
    },
    {
     "name": "stdout",
     "output_type": "stream",
     "text": [
      "\n",
      "Epoch 53 complete! Validation Loss : 0.24647721772392592\n",
      "Epoch 53 complete! Validation Accuracy : 0.935546875\n",
      "Best validation loss improved from 0.24926113958160082 to 0.24647721772392592\n",
      "\n",
      "\n",
      "Iteration 9/45 of epoch 54 complete. Loss : 0.09776257309648725 \n",
      "\n",
      "Iteration 18/45 of epoch 54 complete. Loss : 0.10201896395948198 \n",
      "\n",
      "Iteration 27/45 of epoch 54 complete. Loss : 0.10181404650211334 \n"
     ]
    },
    {
     "name": "stderr",
     "output_type": "stream",
     "text": [
      "100%|██████████| 45/45 [00:00<00:00, 141.39it/s]\n",
      "100%|██████████| 12/12 [00:00<00:00, 331.74it/s]\n",
      "  0%|          | 0/45 [00:00<?, ?it/s]"
     ]
    },
    {
     "name": "stdout",
     "output_type": "stream",
     "text": [
      "\n",
      "Iteration 36/45 of epoch 54 complete. Loss : 0.09602821535534328 \n",
      "\n",
      "Iteration 45/45 of epoch 54 complete. Loss : 0.09303751008378135 \n",
      "\n",
      "Epoch 54 complete! Validation Loss : 0.24516631414492926\n",
      "Epoch 54 complete! Validation Accuracy : 0.935546875\n",
      "Best validation loss improved from 0.24647721772392592 to 0.24516631414492926\n",
      "\n",
      "\n",
      "Iteration 9/45 of epoch 55 complete. Loss : 0.08700065397553974 \n"
     ]
    },
    {
     "name": "stderr",
     "output_type": "stream",
     "text": [
      "100%|██████████| 45/45 [00:00<00:00, 144.40it/s]\n",
      "  0%|          | 0/12 [00:00<?, ?it/s]"
     ]
    },
    {
     "name": "stdout",
     "output_type": "stream",
     "text": [
      "\n",
      "Iteration 18/45 of epoch 55 complete. Loss : 0.09297341025537914 \n",
      "\n",
      "Iteration 27/45 of epoch 55 complete. Loss : 0.09970641053385204 \n",
      "\n",
      "Iteration 36/45 of epoch 55 complete. Loss : 0.0994787679778205 \n",
      "\n",
      "Iteration 45/45 of epoch 55 complete. Loss : 0.09865784645080566 \n"
     ]
    },
    {
     "name": "stderr",
     "output_type": "stream",
     "text": [
      "100%|██████████| 12/12 [00:00<00:00, 317.86it/s]\n",
      " 33%|███▎      | 15/45 [00:00<00:00, 148.83it/s]"
     ]
    },
    {
     "name": "stdout",
     "output_type": "stream",
     "text": [
      "\n",
      "Epoch 55 complete! Validation Loss : 0.24436200161774954\n",
      "Epoch 55 complete! Validation Accuracy : 0.9329427083333334\n",
      "Best validation loss improved from 0.24516631414492926 to 0.24436200161774954\n",
      "\n",
      "\n",
      "Iteration 9/45 of epoch 56 complete. Loss : 0.09738190886047152 \n",
      "\n",
      "Iteration 18/45 of epoch 56 complete. Loss : 0.0978114397989379 \n",
      "\n",
      "Iteration 27/45 of epoch 56 complete. Loss : 0.08933555086453755 \n"
     ]
    },
    {
     "name": "stderr",
     "output_type": "stream",
     "text": [
      "100%|██████████| 45/45 [00:00<00:00, 148.66it/s]\n",
      "100%|██████████| 12/12 [00:00<00:00, 332.00it/s]\n",
      "  0%|          | 0/45 [00:00<?, ?it/s]"
     ]
    },
    {
     "name": "stdout",
     "output_type": "stream",
     "text": [
      "\n",
      "Iteration 36/45 of epoch 56 complete. Loss : 0.0916182075937589 \n",
      "\n",
      "Iteration 45/45 of epoch 56 complete. Loss : 0.10099026312430699 \n",
      "\n",
      "Epoch 56 complete! Validation Loss : 0.24150898680090904\n",
      "Epoch 56 complete! Validation Accuracy : 0.939453125\n",
      "Best validation loss improved from 0.24436200161774954 to 0.24150898680090904\n",
      "\n",
      "\n",
      "Iteration 9/45 of epoch 57 complete. Loss : 0.0894195975528823 \n"
     ]
    },
    {
     "name": "stderr",
     "output_type": "stream",
     "text": [
      " 82%|████████▏ | 37/45 [00:00<00:00, 122.16it/s]"
     ]
    },
    {
     "name": "stdout",
     "output_type": "stream",
     "text": [
      "\n",
      "Iteration 18/45 of epoch 57 complete. Loss : 0.09516790178087023 \n",
      "\n",
      "Iteration 27/45 of epoch 57 complete. Loss : 0.09275365455283059 \n",
      "\n",
      "Iteration 36/45 of epoch 57 complete. Loss : 0.09427756485011843 \n"
     ]
    },
    {
     "name": "stderr",
     "output_type": "stream",
     "text": [
      "100%|██████████| 45/45 [00:00<00:00, 120.64it/s]\n",
      "100%|██████████| 12/12 [00:00<00:00, 251.28it/s]\n",
      "  0%|          | 0/45 [00:00<?, ?it/s]"
     ]
    },
    {
     "name": "stdout",
     "output_type": "stream",
     "text": [
      "\n",
      "Iteration 45/45 of epoch 57 complete. Loss : 0.09549518840180503 \n",
      "\n",
      "Epoch 57 complete! Validation Loss : 0.24179419005910555\n",
      "Epoch 57 complete! Validation Accuracy : 0.9329427083333334\n",
      "\n",
      "Iteration 9/45 of epoch 58 complete. Loss : 0.09110126064883338 \n"
     ]
    },
    {
     "name": "stderr",
     "output_type": "stream",
     "text": [
      " 82%|████████▏ | 37/45 [00:00<00:00, 120.94it/s]"
     ]
    },
    {
     "name": "stdout",
     "output_type": "stream",
     "text": [
      "\n",
      "Iteration 18/45 of epoch 58 complete. Loss : 0.09075410664081573 \n",
      "\n",
      "Iteration 27/45 of epoch 58 complete. Loss : 0.08967954499853982 \n",
      "\n",
      "Iteration 36/45 of epoch 58 complete. Loss : 0.08904048055410385 \n"
     ]
    },
    {
     "name": "stderr",
     "output_type": "stream",
     "text": [
      "100%|██████████| 45/45 [00:00<00:00, 120.82it/s]\n",
      "100%|██████████| 12/12 [00:00<00:00, 249.28it/s]\n",
      "  0%|          | 0/45 [00:00<?, ?it/s]"
     ]
    },
    {
     "name": "stdout",
     "output_type": "stream",
     "text": [
      "\n",
      "Iteration 45/45 of epoch 58 complete. Loss : 0.09184507032235463 \n",
      "\n",
      "Epoch 58 complete! Validation Loss : 0.24439018468062082\n",
      "Epoch 58 complete! Validation Accuracy : 0.9270833333333334\n",
      "\n",
      "Iteration 9/45 of epoch 59 complete. Loss : 0.09331930925448735 \n"
     ]
    },
    {
     "name": "stderr",
     "output_type": "stream",
     "text": [
      " 82%|████████▏ | 37/45 [00:00<00:00, 120.29it/s]"
     ]
    },
    {
     "name": "stdout",
     "output_type": "stream",
     "text": [
      "\n",
      "Iteration 18/45 of epoch 59 complete. Loss : 0.08755018479294246 \n",
      "\n",
      "Iteration 27/45 of epoch 59 complete. Loss : 0.09045122315486272 \n",
      "\n",
      "Iteration 36/45 of epoch 59 complete. Loss : 0.09388800710439682 \n"
     ]
    },
    {
     "name": "stderr",
     "output_type": "stream",
     "text": [
      "100%|██████████| 45/45 [00:00<00:00, 119.26it/s]\n",
      "100%|██████████| 12/12 [00:00<00:00, 251.17it/s]\n",
      "  0%|          | 0/45 [00:00<?, ?it/s]"
     ]
    },
    {
     "name": "stdout",
     "output_type": "stream",
     "text": [
      "\n",
      "Iteration 45/45 of epoch 59 complete. Loss : 0.08822712716129091 \n",
      "\n",
      "Epoch 59 complete! Validation Loss : 0.23719186459978422\n",
      "Epoch 59 complete! Validation Accuracy : 0.939453125\n",
      "Best validation loss improved from 0.24150898680090904 to 0.23719186459978422\n",
      "\n",
      "\n",
      "Iteration 9/45 of epoch 60 complete. Loss : 0.08668264581097497 \n"
     ]
    },
    {
     "name": "stderr",
     "output_type": "stream",
     "text": [
      " 80%|████████  | 36/45 [00:00<00:00, 116.55it/s]"
     ]
    },
    {
     "name": "stdout",
     "output_type": "stream",
     "text": [
      "\n",
      "Iteration 18/45 of epoch 60 complete. Loss : 0.08959584269258711 \n",
      "\n",
      "Iteration 27/45 of epoch 60 complete. Loss : 0.08680462092161179 \n",
      "\n",
      "Iteration 36/45 of epoch 60 complete. Loss : 0.09022242079178493 \n"
     ]
    },
    {
     "name": "stderr",
     "output_type": "stream",
     "text": [
      "100%|██████████| 45/45 [00:00<00:00, 120.64it/s]\n",
      "100%|██████████| 12/12 [00:00<00:00, 334.25it/s]\n",
      " 33%|███▎      | 15/45 [00:00<00:00, 148.53it/s]"
     ]
    },
    {
     "name": "stdout",
     "output_type": "stream",
     "text": [
      "\n",
      "Iteration 45/45 of epoch 60 complete. Loss : 0.08662929634253184 \n",
      "\n",
      "Epoch 60 complete! Validation Loss : 0.23514108608166376\n",
      "Epoch 60 complete! Validation Accuracy : 0.9427083333333334\n",
      "Best validation loss improved from 0.23719186459978422 to 0.23514108608166376\n",
      "\n",
      "\n",
      "Iteration 9/45 of epoch 61 complete. Loss : 0.08636541995737287 \n",
      "\n",
      "Iteration 18/45 of epoch 61 complete. Loss : 0.0889406916168001 \n"
     ]
    },
    {
     "name": "stderr",
     "output_type": "stream",
     "text": [
      "100%|██████████| 45/45 [00:00<00:00, 147.81it/s]\n",
      "100%|██████████| 12/12 [00:00<00:00, 340.26it/s]\n",
      "  0%|          | 0/45 [00:00<?, ?it/s]"
     ]
    },
    {
     "name": "stdout",
     "output_type": "stream",
     "text": [
      "\n",
      "Iteration 27/45 of epoch 61 complete. Loss : 0.08460243460204867 \n",
      "\n",
      "Iteration 36/45 of epoch 61 complete. Loss : 0.08653469466500813 \n",
      "\n",
      "Iteration 45/45 of epoch 61 complete. Loss : 0.08493587291902965 \n",
      "\n",
      "Epoch 61 complete! Validation Loss : 0.23545838644107184\n",
      "Epoch 61 complete! Validation Accuracy : 0.943359375\n"
     ]
    },
    {
     "name": "stderr",
     "output_type": "stream",
     "text": [
      " 67%|██████▋   | 30/45 [00:00<00:00, 142.86it/s]"
     ]
    },
    {
     "name": "stdout",
     "output_type": "stream",
     "text": [
      "\n",
      "Iteration 9/45 of epoch 62 complete. Loss : 0.08562973803944057 \n",
      "\n",
      "Iteration 18/45 of epoch 62 complete. Loss : 0.08413134763638179 \n",
      "\n",
      "Iteration 27/45 of epoch 62 complete. Loss : 0.08503506580988567 \n",
      "\n",
      "Iteration 36/45 of epoch 62 complete. Loss : 0.08561006685098012 \n"
     ]
    },
    {
     "name": "stderr",
     "output_type": "stream",
     "text": [
      "100%|██████████| 45/45 [00:00<00:00, 143.23it/s]\n",
      "100%|██████████| 12/12 [00:00<00:00, 282.45it/s]\n",
      " 33%|███▎      | 15/45 [00:00<00:00, 148.41it/s]"
     ]
    },
    {
     "name": "stdout",
     "output_type": "stream",
     "text": [
      "\n",
      "Iteration 45/45 of epoch 62 complete. Loss : 0.0836257537206014 \n",
      "\n",
      "Epoch 62 complete! Validation Loss : 0.2347578157981237\n",
      "Epoch 62 complete! Validation Accuracy : 0.939453125\n",
      "Best validation loss improved from 0.23514108608166376 to 0.2347578157981237\n",
      "\n",
      "\n",
      "Iteration 9/45 of epoch 63 complete. Loss : 0.08327141735288832 \n"
     ]
    },
    {
     "name": "stderr",
     "output_type": "stream",
     "text": [
      "100%|██████████| 45/45 [00:00<00:00, 147.52it/s]\n",
      "  0%|          | 0/12 [00:00<?, ?it/s]"
     ]
    },
    {
     "name": "stdout",
     "output_type": "stream",
     "text": [
      "\n",
      "Iteration 18/45 of epoch 63 complete. Loss : 0.0866580522722668 \n",
      "\n",
      "Iteration 27/45 of epoch 63 complete. Loss : 0.08276707430680592 \n",
      "\n",
      "Iteration 36/45 of epoch 63 complete. Loss : 0.08489732444286346 \n",
      "\n",
      "Iteration 45/45 of epoch 63 complete. Loss : 0.08089156283272637 \n"
     ]
    },
    {
     "name": "stderr",
     "output_type": "stream",
     "text": [
      "100%|██████████| 12/12 [00:00<00:00, 330.97it/s]\n",
      " 36%|███▌      | 16/45 [00:00<00:00, 149.95it/s]"
     ]
    },
    {
     "name": "stdout",
     "output_type": "stream",
     "text": [
      "\n",
      "Epoch 63 complete! Validation Loss : 0.232997827231884\n",
      "Epoch 63 complete! Validation Accuracy : 0.9427083333333334\n",
      "Best validation loss improved from 0.2347578157981237 to 0.232997827231884\n",
      "\n",
      "\n",
      "Iteration 9/45 of epoch 64 complete. Loss : 0.08299834612343046 \n",
      "\n",
      "Iteration 18/45 of epoch 64 complete. Loss : 0.08349954668018553 \n",
      "\n",
      "Iteration 27/45 of epoch 64 complete. Loss : 0.08089662177695169 \n"
     ]
    },
    {
     "name": "stderr",
     "output_type": "stream",
     "text": [
      "100%|██████████| 45/45 [00:00<00:00, 162.20it/s]\n",
      "100%|██████████| 12/12 [00:00<00:00, 339.80it/s]\n",
      "  0%|          | 0/45 [00:00<?, ?it/s]"
     ]
    },
    {
     "name": "stdout",
     "output_type": "stream",
     "text": [
      "\n",
      "Iteration 36/45 of epoch 64 complete. Loss : 0.08288987891541587 \n",
      "\n",
      "Iteration 45/45 of epoch 64 complete. Loss : 0.08387830273972617 \n",
      "\n",
      "Epoch 64 complete! Validation Loss : 0.2306403418382009\n",
      "Epoch 64 complete! Validation Accuracy : 0.9446614583333334\n",
      "Best validation loss improved from 0.232997827231884 to 0.2306403418382009\n",
      "\n",
      "\n",
      "Iteration 9/45 of epoch 65 complete. Loss : 0.08257152719630136 \n"
     ]
    },
    {
     "name": "stderr",
     "output_type": "stream",
     "text": [
      "100%|██████████| 45/45 [00:00<00:00, 178.84it/s]\n",
      "100%|██████████| 12/12 [00:00<00:00, 340.56it/s]"
     ]
    },
    {
     "name": "stdout",
     "output_type": "stream",
     "text": [
      "\n",
      "Iteration 18/45 of epoch 65 complete. Loss : 0.08166592650943333 \n",
      "\n",
      "Iteration 27/45 of epoch 65 complete. Loss : 0.08465186009804408 \n",
      "\n",
      "Iteration 36/45 of epoch 65 complete. Loss : 0.0829916430844201 \n",
      "\n",
      "Iteration 45/45 of epoch 65 complete. Loss : 0.07832953499423133 \n"
     ]
    },
    {
     "name": "stderr",
     "output_type": "stream",
     "text": [
      "\n",
      " 42%|████▏     | 19/45 [00:00<00:00, 182.29it/s]"
     ]
    },
    {
     "name": "stdout",
     "output_type": "stream",
     "text": [
      "\n",
      "Epoch 65 complete! Validation Loss : 0.23284722119569778\n",
      "Epoch 65 complete! Validation Accuracy : 0.9388020833333334\n",
      "\n",
      "Iteration 9/45 of epoch 66 complete. Loss : 0.07838881098561817 \n",
      "\n",
      "Iteration 18/45 of epoch 66 complete. Loss : 0.08022244026263554 \n",
      "\n",
      "Iteration 27/45 of epoch 66 complete. Loss : 0.08263386454847124 \n"
     ]
    },
    {
     "name": "stderr",
     "output_type": "stream",
     "text": [
      "100%|██████████| 45/45 [00:00<00:00, 178.51it/s]\n",
      "100%|██████████| 12/12 [00:00<00:00, 333.59it/s]\n",
      "  0%|          | 0/45 [00:00<?, ?it/s]"
     ]
    },
    {
     "name": "stdout",
     "output_type": "stream",
     "text": [
      "\n",
      "Iteration 36/45 of epoch 66 complete. Loss : 0.08420305533541574 \n",
      "\n",
      "Iteration 45/45 of epoch 66 complete. Loss : 0.0786237691839536 \n",
      "\n",
      "Epoch 66 complete! Validation Loss : 0.22930298373103142\n",
      "Epoch 66 complete! Validation Accuracy : 0.94140625\n",
      "Best validation loss improved from 0.2306403418382009 to 0.22930298373103142\n",
      "\n",
      "\n",
      "Iteration 9/45 of epoch 67 complete. Loss : 0.08132484141323301 \n"
     ]
    },
    {
     "name": "stderr",
     "output_type": "stream",
     "text": [
      "100%|██████████| 45/45 [00:00<00:00, 178.84it/s]\n",
      "100%|██████████| 12/12 [00:00<00:00, 335.65it/s]"
     ]
    },
    {
     "name": "stdout",
     "output_type": "stream",
     "text": [
      "\n",
      "Iteration 18/45 of epoch 67 complete. Loss : 0.08486117008659574 \n",
      "\n",
      "Iteration 27/45 of epoch 67 complete. Loss : 0.08222657193740208 \n",
      "\n",
      "Iteration 36/45 of epoch 67 complete. Loss : 0.08064963006310993 \n",
      "\n",
      "Iteration 45/45 of epoch 67 complete. Loss : 0.09780303140481313 \n"
     ]
    },
    {
     "name": "stderr",
     "output_type": "stream",
     "text": [
      "\n",
      " 40%|████      | 18/45 [00:00<00:00, 170.70it/s]"
     ]
    },
    {
     "name": "stdout",
     "output_type": "stream",
     "text": [
      "\n",
      "Epoch 67 complete! Validation Loss : 0.22798196350534758\n",
      "Epoch 67 complete! Validation Accuracy : 0.9453125\n",
      "Best validation loss improved from 0.22930298373103142 to 0.22798196350534758\n",
      "\n",
      "\n",
      "Iteration 9/45 of epoch 68 complete. Loss : 0.08292031039794286 \n",
      "\n",
      "Iteration 18/45 of epoch 68 complete. Loss : 0.07725841634803349 \n",
      "\n",
      "Iteration 27/45 of epoch 68 complete. Loss : 0.07603397882646984 \n"
     ]
    },
    {
     "name": "stderr",
     "output_type": "stream",
     "text": [
      "100%|██████████| 45/45 [00:00<00:00, 174.45it/s]\n",
      "100%|██████████| 12/12 [00:00<00:00, 342.82it/s]\n",
      "  0%|          | 0/45 [00:00<?, ?it/s]"
     ]
    },
    {
     "name": "stdout",
     "output_type": "stream",
     "text": [
      "\n",
      "Iteration 36/45 of epoch 68 complete. Loss : 0.07931206706497404 \n",
      "\n",
      "Iteration 45/45 of epoch 68 complete. Loss : 0.08094802167680529 \n",
      "\n",
      "Epoch 68 complete! Validation Loss : 0.22840394948919615\n",
      "Epoch 68 complete! Validation Accuracy : 0.9466145833333334\n",
      "\n",
      "Iteration 9/45 of epoch 69 complete. Loss : 0.07410555001762179 \n"
     ]
    },
    {
     "name": "stderr",
     "output_type": "stream",
     "text": [
      "100%|██████████| 45/45 [00:00<00:00, 174.88it/s]\n",
      "100%|██████████| 12/12 [00:00<00:00, 341.07it/s]"
     ]
    },
    {
     "name": "stdout",
     "output_type": "stream",
     "text": [
      "\n",
      "Iteration 18/45 of epoch 69 complete. Loss : 0.07846755368842019 \n",
      "\n",
      "Iteration 27/45 of epoch 69 complete. Loss : 0.08065642995966806 \n",
      "\n",
      "Iteration 36/45 of epoch 69 complete. Loss : 0.07626064618428548 \n",
      "\n",
      "Iteration 45/45 of epoch 69 complete. Loss : 0.08510473701688978 \n"
     ]
    },
    {
     "name": "stderr",
     "output_type": "stream",
     "text": [
      "\n",
      " 42%|████▏     | 19/45 [00:00<00:00, 181.60it/s]"
     ]
    },
    {
     "name": "stdout",
     "output_type": "stream",
     "text": [
      "\n",
      "Epoch 69 complete! Validation Loss : 0.22826635092496872\n",
      "Epoch 69 complete! Validation Accuracy : 0.9453125\n",
      "\n",
      "Iteration 9/45 of epoch 70 complete. Loss : 0.0773952959312333 \n",
      "\n",
      "Iteration 18/45 of epoch 70 complete. Loss : 0.07449247274133894 \n",
      "\n",
      "Iteration 27/45 of epoch 70 complete. Loss : 0.07593187193075816 \n"
     ]
    },
    {
     "name": "stderr",
     "output_type": "stream",
     "text": [
      "100%|██████████| 45/45 [00:00<00:00, 155.67it/s]\n",
      "100%|██████████| 12/12 [00:00<00:00, 330.96it/s]\n",
      "  0%|          | 0/45 [00:00<?, ?it/s]"
     ]
    },
    {
     "name": "stdout",
     "output_type": "stream",
     "text": [
      "\n",
      "Iteration 36/45 of epoch 70 complete. Loss : 0.08026548557811314 \n",
      "\n",
      "Iteration 45/45 of epoch 70 complete. Loss : 0.079293768439028 \n",
      "\n",
      "Epoch 70 complete! Validation Loss : 0.22844572613636652\n",
      "Epoch 70 complete! Validation Accuracy : 0.9440104166666666\n",
      "\n",
      "Iteration 9/45 of epoch 71 complete. Loss : 0.07713809278276232 \n"
     ]
    },
    {
     "name": "stderr",
     "output_type": "stream",
     "text": [
      "100%|██████████| 45/45 [00:00<00:00, 154.97it/s]\n",
      "  0%|          | 0/12 [00:00<?, ?it/s]"
     ]
    },
    {
     "name": "stdout",
     "output_type": "stream",
     "text": [
      "\n",
      "Iteration 18/45 of epoch 71 complete. Loss : 0.07610506647162968 \n",
      "\n",
      "Iteration 27/45 of epoch 71 complete. Loss : 0.07693846689330207 \n",
      "\n",
      "Iteration 36/45 of epoch 71 complete. Loss : 0.07768036507897907 \n",
      "\n",
      "Iteration 45/45 of epoch 71 complete. Loss : 0.07565727416012022 \n"
     ]
    },
    {
     "name": "stderr",
     "output_type": "stream",
     "text": [
      "100%|██████████| 12/12 [00:00<00:00, 327.68it/s]\n",
      " 36%|███▌      | 16/45 [00:00<00:00, 157.43it/s]"
     ]
    },
    {
     "name": "stdout",
     "output_type": "stream",
     "text": [
      "\n",
      "Epoch 71 complete! Validation Loss : 0.22813999031980833\n",
      "Epoch 71 complete! Validation Accuracy : 0.9446614583333334\n",
      "\n",
      "Iteration 9/45 of epoch 72 complete. Loss : 0.07477234055598576 \n",
      "\n",
      "Iteration 18/45 of epoch 72 complete. Loss : 0.07074176188972262 \n",
      "\n",
      "Iteration 27/45 of epoch 72 complete. Loss : 0.07555147012074788 \n"
     ]
    },
    {
     "name": "stderr",
     "output_type": "stream",
     "text": [
      "100%|██████████| 45/45 [00:00<00:00, 150.52it/s]\n",
      "100%|██████████| 12/12 [00:00<00:00, 339.74it/s]\n",
      "  0%|          | 0/45 [00:00<?, ?it/s]"
     ]
    },
    {
     "name": "stdout",
     "output_type": "stream",
     "text": [
      "\n",
      "Iteration 36/45 of epoch 72 complete. Loss : 0.08037493543492423 \n",
      "\n",
      "Iteration 45/45 of epoch 72 complete. Loss : 0.07808477265967263 \n",
      "\n",
      "Epoch 72 complete! Validation Loss : 0.22812006870905557\n",
      "Epoch 72 complete! Validation Accuracy : 0.9427083333333334\n",
      "\n",
      "Iteration 9/45 of epoch 73 complete. Loss : 0.07517188456323412 \n"
     ]
    },
    {
     "name": "stderr",
     "output_type": "stream",
     "text": [
      "100%|██████████| 45/45 [00:00<00:00, 150.37it/s]\n",
      "  0%|          | 0/12 [00:00<?, ?it/s]"
     ]
    },
    {
     "name": "stdout",
     "output_type": "stream",
     "text": [
      "\n",
      "Iteration 18/45 of epoch 73 complete. Loss : 0.0762075384457906 \n",
      "\n",
      "Iteration 27/45 of epoch 73 complete. Loss : 0.075548455119133 \n",
      "\n",
      "Iteration 36/45 of epoch 73 complete. Loss : 0.07766956670416726 \n",
      "\n",
      "Iteration 45/45 of epoch 73 complete. Loss : 0.06989967988597022 \n"
     ]
    },
    {
     "name": "stderr",
     "output_type": "stream",
     "text": [
      "100%|██████████| 12/12 [00:00<00:00, 339.20it/s]\n",
      " 36%|███▌      | 16/45 [00:00<00:00, 152.60it/s]"
     ]
    },
    {
     "name": "stdout",
     "output_type": "stream",
     "text": [
      "\n",
      "Epoch 73 complete! Validation Loss : 0.22554348533352217\n",
      "Epoch 73 complete! Validation Accuracy : 0.9459635416666666\n",
      "Best validation loss improved from 0.22798196350534758 to 0.22554348533352217\n",
      "\n",
      "\n",
      "Iteration 9/45 of epoch 74 complete. Loss : 0.0724736899137497 \n",
      "\n",
      "Iteration 18/45 of epoch 74 complete. Loss : 0.07387242962916692 \n",
      "\n",
      "Iteration 27/45 of epoch 74 complete. Loss : 0.07301271789603764 \n"
     ]
    },
    {
     "name": "stderr",
     "output_type": "stream",
     "text": [
      "100%|██████████| 45/45 [00:00<00:00, 141.25it/s]\n",
      "100%|██████████| 12/12 [00:00<00:00, 313.33it/s]\n",
      "  0%|          | 0/45 [00:00<?, ?it/s]"
     ]
    },
    {
     "name": "stdout",
     "output_type": "stream",
     "text": [
      "\n",
      "Iteration 36/45 of epoch 74 complete. Loss : 0.0804212126466963 \n",
      "\n",
      "Iteration 45/45 of epoch 74 complete. Loss : 0.07219743645853466 \n",
      "\n",
      "Epoch 74 complete! Validation Loss : 0.22545319547255835\n",
      "Epoch 74 complete! Validation Accuracy : 0.947265625\n",
      "Best validation loss improved from 0.22554348533352217 to 0.22545319547255835\n",
      "\n"
     ]
    },
    {
     "name": "stderr",
     "output_type": "stream",
     "text": [
      " 67%|██████▋   | 30/45 [00:00<00:00, 146.57it/s]"
     ]
    },
    {
     "name": "stdout",
     "output_type": "stream",
     "text": [
      "\n",
      "Iteration 9/45 of epoch 75 complete. Loss : 0.07337215377224816 \n",
      "\n",
      "Iteration 18/45 of epoch 75 complete. Loss : 0.07611386726299922 \n",
      "\n",
      "Iteration 27/45 of epoch 75 complete. Loss : 0.07597465399238798 \n",
      "\n",
      "Iteration 36/45 of epoch 75 complete. Loss : 0.0757337220840984 \n"
     ]
    },
    {
     "name": "stderr",
     "output_type": "stream",
     "text": [
      "100%|██████████| 45/45 [00:00<00:00, 145.83it/s]\n",
      "100%|██████████| 12/12 [00:00<00:00, 326.32it/s]\n",
      " 33%|███▎      | 15/45 [00:00<00:00, 142.98it/s]"
     ]
    },
    {
     "name": "stdout",
     "output_type": "stream",
     "text": [
      "\n",
      "Iteration 45/45 of epoch 75 complete. Loss : 0.06896420154306623 \n",
      "\n",
      "Epoch 75 complete! Validation Loss : 0.22488495086630186\n",
      "Epoch 75 complete! Validation Accuracy : 0.947265625\n",
      "Best validation loss improved from 0.22545319547255835 to 0.22488495086630186\n",
      "\n",
      "\n",
      "Iteration 9/45 of epoch 76 complete. Loss : 0.07160353908936183 \n"
     ]
    },
    {
     "name": "stderr",
     "output_type": "stream",
     "text": [
      "100%|██████████| 45/45 [00:00<00:00, 142.26it/s]\n",
      "  0%|          | 0/12 [00:00<?, ?it/s]"
     ]
    },
    {
     "name": "stdout",
     "output_type": "stream",
     "text": [
      "\n",
      "Iteration 18/45 of epoch 76 complete. Loss : 0.07376741700702244 \n",
      "\n",
      "Iteration 27/45 of epoch 76 complete. Loss : 0.07414957301484214 \n",
      "\n",
      "Iteration 36/45 of epoch 76 complete. Loss : 0.07454686197969648 \n",
      "\n",
      "Iteration 45/45 of epoch 76 complete. Loss : 0.07347114466958576 \n"
     ]
    },
    {
     "name": "stderr",
     "output_type": "stream",
     "text": [
      "100%|██████████| 12/12 [00:00<00:00, 337.34it/s]\n",
      " 36%|███▌      | 16/45 [00:00<00:00, 150.03it/s]"
     ]
    },
    {
     "name": "stdout",
     "output_type": "stream",
     "text": [
      "\n",
      "Epoch 76 complete! Validation Loss : 0.22319787368178368\n",
      "Epoch 76 complete! Validation Accuracy : 0.9453125\n",
      "Best validation loss improved from 0.22488495086630186 to 0.22319787368178368\n",
      "\n",
      "\n",
      "Iteration 9/45 of epoch 77 complete. Loss : 0.07401893619034025 \n",
      "\n",
      "Iteration 18/45 of epoch 77 complete. Loss : 0.07228642536534204 \n",
      "\n",
      "Iteration 27/45 of epoch 77 complete. Loss : 0.07405811631017262 \n"
     ]
    },
    {
     "name": "stderr",
     "output_type": "stream",
     "text": [
      "100%|██████████| 45/45 [00:00<00:00, 146.54it/s]\n",
      "100%|██████████| 12/12 [00:00<00:00, 331.01it/s]\n",
      "  0%|          | 0/45 [00:00<?, ?it/s]"
     ]
    },
    {
     "name": "stdout",
     "output_type": "stream",
     "text": [
      "\n",
      "Iteration 36/45 of epoch 77 complete. Loss : 0.07050375060902701 \n",
      "\n",
      "Iteration 45/45 of epoch 77 complete. Loss : 0.07465068168110317 \n",
      "\n",
      "Epoch 77 complete! Validation Loss : 0.2246645192305247\n",
      "Epoch 77 complete! Validation Accuracy : 0.9459635416666666\n",
      "\n",
      "Iteration 9/45 of epoch 78 complete. Loss : 0.07411785175402959 \n"
     ]
    },
    {
     "name": "stderr",
     "output_type": "stream",
     "text": [
      "100%|██████████| 45/45 [00:00<00:00, 145.73it/s]\n",
      "  0%|          | 0/12 [00:00<?, ?it/s]"
     ]
    },
    {
     "name": "stdout",
     "output_type": "stream",
     "text": [
      "\n",
      "Iteration 18/45 of epoch 78 complete. Loss : 0.07569496747520235 \n",
      "\n",
      "Iteration 27/45 of epoch 78 complete. Loss : 0.07359881285164091 \n",
      "\n",
      "Iteration 36/45 of epoch 78 complete. Loss : 0.06931615620851517 \n",
      "\n",
      "Iteration 45/45 of epoch 78 complete. Loss : 0.07196401887469822 \n"
     ]
    },
    {
     "name": "stderr",
     "output_type": "stream",
     "text": [
      "100%|██████████| 12/12 [00:00<00:00, 337.19it/s]\n",
      " 36%|███▌      | 16/45 [00:00<00:00, 149.21it/s]"
     ]
    },
    {
     "name": "stdout",
     "output_type": "stream",
     "text": [
      "\n",
      "Epoch 78 complete! Validation Loss : 0.2259062888721625\n",
      "Epoch 78 complete! Validation Accuracy : 0.9453125\n",
      "\n",
      "Iteration 9/45 of epoch 79 complete. Loss : 0.07155939026011361 \n",
      "\n",
      "Iteration 18/45 of epoch 79 complete. Loss : 0.0754528757598665 \n",
      "\n",
      "Iteration 27/45 of epoch 79 complete. Loss : 0.0735798171824879 \n"
     ]
    },
    {
     "name": "stderr",
     "output_type": "stream",
     "text": [
      "100%|██████████| 45/45 [00:00<00:00, 140.11it/s]\n",
      "100%|██████████| 12/12 [00:00<00:00, 336.45it/s]\n",
      "  0%|          | 0/45 [00:00<?, ?it/s]"
     ]
    },
    {
     "name": "stdout",
     "output_type": "stream",
     "text": [
      "\n",
      "Iteration 36/45 of epoch 79 complete. Loss : 0.07182738350497352 \n",
      "\n",
      "Iteration 45/45 of epoch 79 complete. Loss : 0.07132014797793494 \n",
      "\n",
      "Epoch 79 complete! Validation Loss : 0.2230875330666701\n",
      "Epoch 79 complete! Validation Accuracy : 0.9498697916666666\n",
      "Best validation loss improved from 0.22319787368178368 to 0.2230875330666701\n",
      "\n",
      "\n",
      "Iteration 9/45 of epoch 80 complete. Loss : 0.07063775509595871 \n"
     ]
    },
    {
     "name": "stderr",
     "output_type": "stream",
     "text": [
      "100%|██████████| 45/45 [00:00<00:00, 148.97it/s]\n",
      "  0%|          | 0/12 [00:00<?, ?it/s]"
     ]
    },
    {
     "name": "stdout",
     "output_type": "stream",
     "text": [
      "\n",
      "Iteration 18/45 of epoch 80 complete. Loss : 0.07284883244170083 \n",
      "\n",
      "Iteration 27/45 of epoch 80 complete. Loss : 0.07394994878106648 \n",
      "\n",
      "Iteration 36/45 of epoch 80 complete. Loss : 0.07386822667386797 \n",
      "\n",
      "Iteration 45/45 of epoch 80 complete. Loss : 0.07007840192980236 \n"
     ]
    },
    {
     "name": "stderr",
     "output_type": "stream",
     "text": [
      "100%|██████████| 12/12 [00:00<00:00, 323.12it/s]\n",
      " 36%|███▌      | 16/45 [00:00<00:00, 152.41it/s]"
     ]
    },
    {
     "name": "stdout",
     "output_type": "stream",
     "text": [
      "\n",
      "Epoch 80 complete! Validation Loss : 0.22299494966864586\n",
      "Epoch 80 complete! Validation Accuracy : 0.9453125\n",
      "Best validation loss improved from 0.2230875330666701 to 0.22299494966864586\n",
      "\n",
      "\n",
      "Iteration 9/45 of epoch 81 complete. Loss : 0.07050397495428722 \n",
      "\n",
      "Iteration 18/45 of epoch 81 complete. Loss : 0.07292658587296803 \n",
      "\n",
      "Iteration 27/45 of epoch 81 complete. Loss : 0.07237482733196682 \n"
     ]
    },
    {
     "name": "stderr",
     "output_type": "stream",
     "text": [
      "100%|██████████| 45/45 [00:00<00:00, 150.64it/s]\n",
      "100%|██████████| 12/12 [00:00<00:00, 331.51it/s]\n",
      "  0%|          | 0/45 [00:00<?, ?it/s]"
     ]
    },
    {
     "name": "stdout",
     "output_type": "stream",
     "text": [
      "\n",
      "Iteration 36/45 of epoch 81 complete. Loss : 0.07065425895982319 \n",
      "\n",
      "Iteration 45/45 of epoch 81 complete. Loss : 0.0714895303050677 \n",
      "\n",
      "Epoch 81 complete! Validation Loss : 0.22282160694400469\n",
      "Epoch 81 complete! Validation Accuracy : 0.9440104166666666\n",
      "Best validation loss improved from 0.22299494966864586 to 0.22282160694400469\n",
      "\n",
      "\n",
      "Iteration 9/45 of epoch 82 complete. Loss : 0.07480951729747984 \n"
     ]
    },
    {
     "name": "stderr",
     "output_type": "stream",
     "text": [
      "100%|██████████| 45/45 [00:00<00:00, 153.18it/s]\n",
      "  0%|          | 0/12 [00:00<?, ?it/s]"
     ]
    },
    {
     "name": "stdout",
     "output_type": "stream",
     "text": [
      "\n",
      "Iteration 18/45 of epoch 82 complete. Loss : 0.07271487431393729 \n",
      "\n",
      "Iteration 27/45 of epoch 82 complete. Loss : 0.06873089075088501 \n",
      "\n",
      "Iteration 36/45 of epoch 82 complete. Loss : 0.06981185492542055 \n",
      "\n",
      "Iteration 45/45 of epoch 82 complete. Loss : 0.07143615268998676 \n"
     ]
    },
    {
     "name": "stderr",
     "output_type": "stream",
     "text": [
      "100%|██████████| 12/12 [00:00<00:00, 326.43it/s]\n",
      " 36%|███▌      | 16/45 [00:00<00:00, 152.20it/s]"
     ]
    },
    {
     "name": "stdout",
     "output_type": "stream",
     "text": [
      "\n",
      "Epoch 82 complete! Validation Loss : 0.224223663409551\n",
      "Epoch 82 complete! Validation Accuracy : 0.9459635416666666\n",
      "\n",
      "Iteration 9/45 of epoch 83 complete. Loss : 0.07094323469532861 \n",
      "\n",
      "Iteration 18/45 of epoch 83 complete. Loss : 0.07256874607668982 \n",
      "\n",
      "Iteration 27/45 of epoch 83 complete. Loss : 0.0714147181974517 \n"
     ]
    },
    {
     "name": "stderr",
     "output_type": "stream",
     "text": [
      "100%|██████████| 45/45 [00:00<00:00, 150.10it/s]\n",
      "100%|██████████| 12/12 [00:00<00:00, 313.05it/s]\n",
      "  0%|          | 0/45 [00:00<?, ?it/s]"
     ]
    },
    {
     "name": "stdout",
     "output_type": "stream",
     "text": [
      "\n",
      "Iteration 36/45 of epoch 83 complete. Loss : 0.07132048159837723 \n",
      "\n",
      "Iteration 45/45 of epoch 83 complete. Loss : 0.07315155201488072 \n",
      "\n",
      "Epoch 83 complete! Validation Loss : 0.22874804958701134\n",
      "Epoch 83 complete! Validation Accuracy : 0.9420572916666666\n",
      "\n",
      "Iteration 9/45 of epoch 84 complete. Loss : 0.07194868226846059 \n"
     ]
    },
    {
     "name": "stderr",
     "output_type": "stream",
     "text": [
      " 84%|████████▍ | 38/45 [00:00<00:00, 125.57it/s]"
     ]
    },
    {
     "name": "stdout",
     "output_type": "stream",
     "text": [
      "\n",
      "Iteration 18/45 of epoch 84 complete. Loss : 0.07093113329675463 \n",
      "\n",
      "Iteration 27/45 of epoch 84 complete. Loss : 0.07029935800366932 \n",
      "\n",
      "Iteration 36/45 of epoch 84 complete. Loss : 0.07091754674911499 \n"
     ]
    },
    {
     "name": "stderr",
     "output_type": "stream",
     "text": [
      "100%|██████████| 45/45 [00:00<00:00, 123.10it/s]\n",
      "100%|██████████| 12/12 [00:00<00:00, 286.11it/s]\n",
      " 36%|███▌      | 16/45 [00:00<00:00, 150.64it/s]"
     ]
    },
    {
     "name": "stdout",
     "output_type": "stream",
     "text": [
      "\n",
      "Iteration 45/45 of epoch 84 complete. Loss : 0.07137398007843229 \n",
      "\n",
      "Epoch 84 complete! Validation Loss : 0.22332294657826424\n",
      "Epoch 84 complete! Validation Accuracy : 0.943359375\n",
      "\n",
      "Iteration 9/45 of epoch 85 complete. Loss : 0.06967614756690131 \n"
     ]
    },
    {
     "name": "stderr",
     "output_type": "stream",
     "text": [
      "100%|██████████| 45/45 [00:00<00:00, 149.69it/s]\n",
      "  0%|          | 0/12 [00:00<?, ?it/s]"
     ]
    },
    {
     "name": "stdout",
     "output_type": "stream",
     "text": [
      "\n",
      "Iteration 18/45 of epoch 85 complete. Loss : 0.07164030936029223 \n",
      "\n",
      "Iteration 27/45 of epoch 85 complete. Loss : 0.07004200004869038 \n",
      "\n",
      "Iteration 36/45 of epoch 85 complete. Loss : 0.07236243701643413 \n",
      "\n",
      "Iteration 45/45 of epoch 85 complete. Loss : 0.0699029482073254 \n"
     ]
    },
    {
     "name": "stderr",
     "output_type": "stream",
     "text": [
      "100%|██████████| 12/12 [00:00<00:00, 317.72it/s]\n",
      " 36%|███▌      | 16/45 [00:00<00:00, 151.02it/s]"
     ]
    },
    {
     "name": "stdout",
     "output_type": "stream",
     "text": [
      "\n",
      "Epoch 85 complete! Validation Loss : 0.22347143789132437\n",
      "Epoch 85 complete! Validation Accuracy : 0.9453125\n",
      "\n",
      "Iteration 9/45 of epoch 86 complete. Loss : 0.07038259671794043 \n",
      "\n",
      "Iteration 18/45 of epoch 86 complete. Loss : 0.06837830775313908 \n",
      "\n",
      "Iteration 27/45 of epoch 86 complete. Loss : 0.07136926965581046 \n"
     ]
    },
    {
     "name": "stderr",
     "output_type": "stream",
     "text": [
      "100%|██████████| 45/45 [00:00<00:00, 142.04it/s]\n",
      "100%|██████████| 12/12 [00:00<00:00, 330.76it/s]\n",
      "  0%|          | 0/45 [00:00<?, ?it/s]"
     ]
    },
    {
     "name": "stdout",
     "output_type": "stream",
     "text": [
      "\n",
      "Iteration 36/45 of epoch 86 complete. Loss : 0.07238453047143088 \n",
      "\n",
      "Iteration 45/45 of epoch 86 complete. Loss : 0.06942744056383769 \n",
      "\n",
      "Epoch 86 complete! Validation Loss : 0.2227498951057593\n",
      "Epoch 86 complete! Validation Accuracy : 0.9453125\n",
      "Best validation loss improved from 0.22282160694400469 to 0.2227498951057593\n",
      "\n",
      "\n",
      "Iteration 9/45 of epoch 87 complete. Loss : 0.07142141295803918 \n"
     ]
    },
    {
     "name": "stderr",
     "output_type": "stream",
     "text": [
      "100%|██████████| 45/45 [00:00<00:00, 148.29it/s]\n",
      "  0%|          | 0/12 [00:00<?, ?it/s]"
     ]
    },
    {
     "name": "stdout",
     "output_type": "stream",
     "text": [
      "\n",
      "Iteration 18/45 of epoch 87 complete. Loss : 0.06687610927555296 \n",
      "\n",
      "Iteration 27/45 of epoch 87 complete. Loss : 0.06975144975715214 \n",
      "\n",
      "Iteration 36/45 of epoch 87 complete. Loss : 0.0739517973528968 \n",
      "\n",
      "Iteration 45/45 of epoch 87 complete. Loss : 0.06896087775627772 \n"
     ]
    },
    {
     "name": "stderr",
     "output_type": "stream",
     "text": [
      "100%|██████████| 12/12 [00:00<00:00, 327.15it/s]\n",
      " 31%|███       | 14/45 [00:00<00:00, 137.70it/s]"
     ]
    },
    {
     "name": "stdout",
     "output_type": "stream",
     "text": [
      "\n",
      "Epoch 87 complete! Validation Loss : 0.22271394729614258\n",
      "Epoch 87 complete! Validation Accuracy : 0.9453125\n",
      "Best validation loss improved from 0.2227498951057593 to 0.22271394729614258\n",
      "\n",
      "\n",
      "Iteration 9/45 of epoch 88 complete. Loss : 0.06943491432401869 \n",
      "\n",
      "Iteration 18/45 of epoch 88 complete. Loss : 0.07294700211948818 \n",
      "\n",
      "Iteration 27/45 of epoch 88 complete. Loss : 0.06951371249225405 \n"
     ]
    },
    {
     "name": "stderr",
     "output_type": "stream",
     "text": [
      "100%|██████████| 45/45 [00:00<00:00, 144.14it/s]\n",
      "100%|██████████| 12/12 [00:00<00:00, 330.77it/s]\n",
      "  0%|          | 0/45 [00:00<?, ?it/s]"
     ]
    },
    {
     "name": "stdout",
     "output_type": "stream",
     "text": [
      "\n",
      "Iteration 36/45 of epoch 88 complete. Loss : 0.06789982070525487 \n",
      "\n",
      "Iteration 45/45 of epoch 88 complete. Loss : 0.07013319349951214 \n",
      "\n",
      "Epoch 88 complete! Validation Loss : 0.22177008787790933\n",
      "Epoch 88 complete! Validation Accuracy : 0.947265625\n",
      "Best validation loss improved from 0.22271394729614258 to 0.22177008787790933\n",
      "\n",
      "\n",
      "Iteration 9/45 of epoch 89 complete. Loss : 0.06845552060339186 \n"
     ]
    },
    {
     "name": "stderr",
     "output_type": "stream",
     "text": [
      "100%|██████████| 45/45 [00:00<00:00, 146.77it/s]\n",
      "  0%|          | 0/12 [00:00<?, ?it/s]"
     ]
    },
    {
     "name": "stdout",
     "output_type": "stream",
     "text": [
      "\n",
      "Iteration 18/45 of epoch 89 complete. Loss : 0.06956057416068183 \n",
      "\n",
      "Iteration 27/45 of epoch 89 complete. Loss : 0.0729548649655448 \n",
      "\n",
      "Iteration 36/45 of epoch 89 complete. Loss : 0.0684179671936565 \n",
      "\n",
      "Iteration 45/45 of epoch 89 complete. Loss : 0.07035090608729257 \n"
     ]
    },
    {
     "name": "stderr",
     "output_type": "stream",
     "text": [
      "100%|██████████| 12/12 [00:00<00:00, 321.30it/s]\n",
      " 33%|███▎      | 15/45 [00:00<00:00, 149.67it/s]"
     ]
    },
    {
     "name": "stdout",
     "output_type": "stream",
     "text": [
      "\n",
      "Epoch 89 complete! Validation Loss : 0.2212152729431788\n",
      "Epoch 89 complete! Validation Accuracy : 0.9459635416666666\n",
      "Best validation loss improved from 0.22177008787790933 to 0.2212152729431788\n",
      "\n",
      "\n",
      "Iteration 9/45 of epoch 90 complete. Loss : 0.06837827877865897 \n",
      "\n",
      "Iteration 18/45 of epoch 90 complete. Loss : 0.0697092173828019 \n",
      "\n",
      "Iteration 27/45 of epoch 90 complete. Loss : 0.06857884840832816 \n"
     ]
    },
    {
     "name": "stderr",
     "output_type": "stream",
     "text": [
      "100%|██████████| 45/45 [00:00<00:00, 148.56it/s]\n",
      "100%|██████████| 12/12 [00:00<00:00, 321.36it/s]\n",
      "  0%|          | 0/45 [00:00<?, ?it/s]"
     ]
    },
    {
     "name": "stdout",
     "output_type": "stream",
     "text": [
      "\n",
      "Iteration 36/45 of epoch 90 complete. Loss : 0.07220042579703861 \n",
      "\n",
      "Iteration 45/45 of epoch 90 complete. Loss : 0.07061776518821716 \n",
      "\n",
      "Epoch 90 complete! Validation Loss : 0.22139896949132284\n",
      "Epoch 90 complete! Validation Accuracy : 0.9459635416666666\n",
      "\n",
      "Iteration 9/45 of epoch 91 complete. Loss : 0.0710888115896119 \n"
     ]
    },
    {
     "name": "stderr",
     "output_type": "stream",
     "text": [
      "100%|██████████| 45/45 [00:00<00:00, 141.17it/s]\n",
      "  0%|          | 0/12 [00:00<?, ?it/s]"
     ]
    },
    {
     "name": "stdout",
     "output_type": "stream",
     "text": [
      "\n",
      "Iteration 18/45 of epoch 91 complete. Loss : 0.07068618304199642 \n",
      "\n",
      "Iteration 27/45 of epoch 91 complete. Loss : 0.06782847146193187 \n",
      "\n",
      "Iteration 36/45 of epoch 91 complete. Loss : 0.06806419375869963 \n",
      "\n",
      "Iteration 45/45 of epoch 91 complete. Loss : 0.07024946063756943 \n"
     ]
    },
    {
     "name": "stderr",
     "output_type": "stream",
     "text": [
      "100%|██████████| 12/12 [00:00<00:00, 326.90it/s]\n",
      " 36%|███▌      | 16/45 [00:00<00:00, 151.75it/s]"
     ]
    },
    {
     "name": "stdout",
     "output_type": "stream",
     "text": [
      "\n",
      "Epoch 91 complete! Validation Loss : 0.22077258427937826\n",
      "Epoch 91 complete! Validation Accuracy : 0.9459635416666666\n",
      "Best validation loss improved from 0.2212152729431788 to 0.22077258427937826\n",
      "\n",
      "\n",
      "Iteration 9/45 of epoch 92 complete. Loss : 0.0710783526301384 \n",
      "\n",
      "Iteration 18/45 of epoch 92 complete. Loss : 0.06803137560685475 \n",
      "\n",
      "Iteration 27/45 of epoch 92 complete. Loss : 0.06749493132034938 \n"
     ]
    },
    {
     "name": "stderr",
     "output_type": "stream",
     "text": [
      "100%|██████████| 45/45 [00:00<00:00, 146.76it/s]\n",
      "100%|██████████| 12/12 [00:00<00:00, 339.27it/s]\n",
      "  0%|          | 0/45 [00:00<?, ?it/s]"
     ]
    },
    {
     "name": "stdout",
     "output_type": "stream",
     "text": [
      "\n",
      "Iteration 36/45 of epoch 92 complete. Loss : 0.07107345594300164 \n",
      "\n",
      "Iteration 45/45 of epoch 92 complete. Loss : 0.06934747017092174 \n",
      "\n",
      "Epoch 92 complete! Validation Loss : 0.22175902997454008\n",
      "Epoch 92 complete! Validation Accuracy : 0.9453125\n",
      "\n",
      "Iteration 9/45 of epoch 93 complete. Loss : 0.06744252973132664 \n"
     ]
    },
    {
     "name": "stderr",
     "output_type": "stream",
     "text": [
      "100%|██████████| 45/45 [00:00<00:00, 148.69it/s]\n",
      "  0%|          | 0/12 [00:00<?, ?it/s]"
     ]
    },
    {
     "name": "stdout",
     "output_type": "stream",
     "text": [
      "\n",
      "Iteration 18/45 of epoch 93 complete. Loss : 0.0700412533349461 \n",
      "\n",
      "Iteration 27/45 of epoch 93 complete. Loss : 0.06906045724948247 \n",
      "\n",
      "Iteration 36/45 of epoch 93 complete. Loss : 0.06993986086712943 \n",
      "\n",
      "Iteration 45/45 of epoch 93 complete. Loss : 0.06909044086933136 \n"
     ]
    },
    {
     "name": "stderr",
     "output_type": "stream",
     "text": [
      "100%|██████████| 12/12 [00:00<00:00, 326.34it/s]\n",
      " 36%|███▌      | 16/45 [00:00<00:00, 148.17it/s]"
     ]
    },
    {
     "name": "stdout",
     "output_type": "stream",
     "text": [
      "\n",
      "Epoch 93 complete! Validation Loss : 0.22164164731899896\n",
      "Epoch 93 complete! Validation Accuracy : 0.9453125\n",
      "\n",
      "Iteration 9/45 of epoch 94 complete. Loss : 0.0699225448899799 \n",
      "\n",
      "Iteration 18/45 of epoch 94 complete. Loss : 0.06640328798029158 \n",
      "\n",
      "Iteration 27/45 of epoch 94 complete. Loss : 0.06995429926448399 \n"
     ]
    },
    {
     "name": "stderr",
     "output_type": "stream",
     "text": [
      "100%|██████████| 45/45 [00:00<00:00, 147.24it/s]\n",
      "100%|██████████| 12/12 [00:00<00:00, 324.31it/s]\n",
      "  0%|          | 0/45 [00:00<?, ?it/s]"
     ]
    },
    {
     "name": "stdout",
     "output_type": "stream",
     "text": [
      "\n",
      "Iteration 36/45 of epoch 94 complete. Loss : 0.07146059142218696 \n",
      "\n",
      "Iteration 45/45 of epoch 94 complete. Loss : 0.06783758021063274 \n",
      "\n",
      "Epoch 94 complete! Validation Loss : 0.2233296843866507\n",
      "Epoch 94 complete! Validation Accuracy : 0.9466145833333334\n",
      "\n",
      "Iteration 9/45 of epoch 95 complete. Loss : 0.06885602573553722 \n"
     ]
    },
    {
     "name": "stderr",
     "output_type": "stream",
     "text": [
      "100%|██████████| 45/45 [00:00<00:00, 146.08it/s]\n",
      "  0%|          | 0/12 [00:00<?, ?it/s]"
     ]
    },
    {
     "name": "stdout",
     "output_type": "stream",
     "text": [
      "\n",
      "Iteration 18/45 of epoch 95 complete. Loss : 0.06953029251760906 \n",
      "\n",
      "Iteration 27/45 of epoch 95 complete. Loss : 0.0700833863682217 \n",
      "\n",
      "Iteration 36/45 of epoch 95 complete. Loss : 0.06662831289900674 \n",
      "\n",
      "Iteration 45/45 of epoch 95 complete. Loss : 0.07115501662095387 \n"
     ]
    },
    {
     "name": "stderr",
     "output_type": "stream",
     "text": [
      "100%|██████████| 12/12 [00:00<00:00, 321.35it/s]\n",
      " 33%|███▎      | 15/45 [00:00<00:00, 148.54it/s]"
     ]
    },
    {
     "name": "stdout",
     "output_type": "stream",
     "text": [
      "\n",
      "Epoch 95 complete! Validation Loss : 0.22187348455190659\n",
      "Epoch 95 complete! Validation Accuracy : 0.9498697916666666\n",
      "\n",
      "Iteration 9/45 of epoch 96 complete. Loss : 0.06940917422374089 \n",
      "\n",
      "Iteration 18/45 of epoch 96 complete. Loss : 0.06810833596520954 \n",
      "\n",
      "Iteration 27/45 of epoch 96 complete. Loss : 0.07001628975073497 \n"
     ]
    },
    {
     "name": "stderr",
     "output_type": "stream",
     "text": [
      "100%|██████████| 45/45 [00:00<00:00, 147.88it/s]\n",
      "100%|██████████| 12/12 [00:00<00:00, 326.51it/s]\n",
      "  0%|          | 0/45 [00:00<?, ?it/s]"
     ]
    },
    {
     "name": "stdout",
     "output_type": "stream",
     "text": [
      "\n",
      "Iteration 36/45 of epoch 96 complete. Loss : 0.06915085928307639 \n",
      "\n",
      "Iteration 45/45 of epoch 96 complete. Loss : 0.06796927915679084 \n",
      "\n",
      "Epoch 96 complete! Validation Loss : 0.22117030744751295\n",
      "Epoch 96 complete! Validation Accuracy : 0.9485677083333334\n",
      "\n",
      "Iteration 9/45 of epoch 97 complete. Loss : 0.07325038562218349 \n"
     ]
    },
    {
     "name": "stderr",
     "output_type": "stream",
     "text": [
      "100%|██████████| 45/45 [00:00<00:00, 146.79it/s]\n",
      "  0%|          | 0/12 [00:00<?, ?it/s]"
     ]
    },
    {
     "name": "stdout",
     "output_type": "stream",
     "text": [
      "\n",
      "Iteration 18/45 of epoch 97 complete. Loss : 0.07054187026288775 \n",
      "\n",
      "Iteration 27/45 of epoch 97 complete. Loss : 0.06537330481741163 \n",
      "\n",
      "Iteration 36/45 of epoch 97 complete. Loss : 0.0686984658241272 \n",
      "\n",
      "Iteration 45/45 of epoch 97 complete. Loss : 0.06537050174342261 \n"
     ]
    },
    {
     "name": "stderr",
     "output_type": "stream",
     "text": [
      "100%|██████████| 12/12 [00:00<00:00, 317.94it/s]\n",
      " 29%|██▉       | 13/45 [00:00<00:00, 121.82it/s]"
     ]
    },
    {
     "name": "stdout",
     "output_type": "stream",
     "text": [
      "\n",
      "Epoch 97 complete! Validation Loss : 0.22098127752542496\n",
      "Epoch 97 complete! Validation Accuracy : 0.947265625\n",
      "\n",
      "Iteration 9/45 of epoch 98 complete. Loss : 0.0669657505220837 \n",
      "\n",
      "Iteration 18/45 of epoch 98 complete. Loss : 0.06965153084860908 \n"
     ]
    },
    {
     "name": "stderr",
     "output_type": "stream",
     "text": [
      "100%|██████████| 45/45 [00:00<00:00, 120.26it/s]\n",
      "100%|██████████| 12/12 [00:00<00:00, 250.89it/s]"
     ]
    },
    {
     "name": "stdout",
     "output_type": "stream",
     "text": [
      "\n",
      "Iteration 27/45 of epoch 98 complete. Loss : 0.06688478589057922 \n",
      "\n",
      "Iteration 36/45 of epoch 98 complete. Loss : 0.06802362700303395 \n",
      "\n",
      "Iteration 45/45 of epoch 98 complete. Loss : 0.07154660175244014 \n"
     ]
    },
    {
     "name": "stderr",
     "output_type": "stream",
     "text": [
      "\n",
      " 27%|██▋       | 12/45 [00:00<00:00, 114.89it/s]"
     ]
    },
    {
     "name": "stdout",
     "output_type": "stream",
     "text": [
      "\n",
      "Epoch 98 complete! Validation Loss : 0.2209156962732474\n",
      "Epoch 98 complete! Validation Accuracy : 0.9485677083333334\n",
      "\n",
      "Iteration 9/45 of epoch 99 complete. Loss : 0.07142738004525502 \n",
      "\n",
      "Iteration 18/45 of epoch 99 complete. Loss : 0.07128762288226022 \n"
     ]
    },
    {
     "name": "stderr",
     "output_type": "stream",
     "text": [
      "100%|██████████| 45/45 [00:00<00:00, 119.59it/s]\n",
      "100%|██████████| 12/12 [00:00<00:00, 247.18it/s]"
     ]
    },
    {
     "name": "stdout",
     "output_type": "stream",
     "text": [
      "\n",
      "Iteration 27/45 of epoch 99 complete. Loss : 0.06805020819107692 \n",
      "\n",
      "Iteration 36/45 of epoch 99 complete. Loss : 0.06700362513462703 \n",
      "\n",
      "Iteration 45/45 of epoch 99 complete. Loss : 0.06514036903778712 \n"
     ]
    },
    {
     "name": "stderr",
     "output_type": "stream",
     "text": [
      "\n",
      " 29%|██▉       | 13/45 [00:00<00:00, 123.83it/s]"
     ]
    },
    {
     "name": "stdout",
     "output_type": "stream",
     "text": [
      "\n",
      "Epoch 99 complete! Validation Loss : 0.22120528916517893\n",
      "Epoch 99 complete! Validation Accuracy : 0.9485677083333334\n",
      "\n",
      "Iteration 9/45 of epoch 100 complete. Loss : 0.07037746575143602 \n",
      "\n",
      "Iteration 18/45 of epoch 100 complete. Loss : 0.06607430511050755 \n"
     ]
    },
    {
     "name": "stderr",
     "output_type": "stream",
     "text": [
      "100%|██████████| 45/45 [00:00<00:00, 120.59it/s]\n",
      "100%|██████████| 12/12 [00:00<00:00, 250.06it/s]"
     ]
    },
    {
     "name": "stdout",
     "output_type": "stream",
     "text": [
      "\n",
      "Iteration 27/45 of epoch 100 complete. Loss : 0.06787341667546166 \n",
      "\n",
      "Iteration 36/45 of epoch 100 complete. Loss : 0.06774591820107566 \n",
      "\n",
      "Iteration 45/45 of epoch 100 complete. Loss : 0.07043282936016719 \n",
      "\n",
      "Epoch 100 complete! Validation Loss : 0.22057283793886504\n",
      "Epoch 100 complete! Validation Accuracy : 0.9479166666666666\n",
      "Best validation loss improved from 0.22077258427937826 to 0.22057283793886504\n",
      "\n",
      "The model has been saved in saved_models/base_rbert_ticnn_with_lr_3e-05_val_loss_0.22057_ep_100.pt\n"
     ]
    },
    {
     "name": "stderr",
     "output_type": "stream",
     "text": [
      "\n"
     ]
    }
   ],
   "source": [
    "# Train the model\n",
    "model, model_name = train_model(class_model, criterion, optimizer, lr, scheduler, train_dataloader, test_dataloader, epochs, iters_to_accumulate)"
   ]
  },
  {
   "cell_type": "code",
   "execution_count": 24,
   "metadata": {},
   "outputs": [],
   "source": [
    "def evaluate(prediction_dataloader, model, path_to_model, load = False):\n",
    "\t# Prediction on test set\n",
    "\tif load:\n",
    "\t\tprint(\"Loading the weights of the model...\")\n",
    "\t\tmodel.load_state_dict(torch.load(path_to_model))\n",
    "\n",
    "\tprint('Evaluating on the testset')\n",
    "\n",
    "\t# Put model in evaluation mode\n",
    "\tmodel.eval()\n",
    "\n",
    "\t# Tracking variables \n",
    "\tpredictions , true_labels = [], []\n",
    "\n",
    "\t# Predict \n",
    "\tfor batch in prediction_dataloader:\n",
    "\t  # Add batch to GPU\n",
    "\t  batch = tuple(t.to(device) for t in batch)\n",
    "\t  \n",
    "\t  # Unpack the inputs from our dataloader\n",
    "\t  b_t_inputs, b_s_inputs, b_labels = batch\n",
    "\t  \n",
    "\t  # Telling the model not to compute or store gradients, saving memory and \n",
    "\t  # speeding up prediction\n",
    "\t  with torch.no_grad():\n",
    "\t      # Forward pass, calculate logit predictions\n",
    "\t      logits = model(b_t_inputs, b_s_inputs)\n",
    "\n",
    "\t  # Move logits and labels to CPU\n",
    "\t  logits = logits.detach().cpu().numpy()\n",
    "\t  label_ids = b_labels.to('cpu').numpy()\n",
    "\n",
    "\t  pred_flat = np.argmax(logits, axis=1).flatten()\n",
    "\t  labels_flat = label_ids.flatten()\n",
    "\t  \n",
    "\t  # Store predictions and true labels\n",
    "\t  predictions.extend(pred_flat)\n",
    "\t  true_labels.extend(labels_flat)\n",
    "\n",
    "\tprint('DONE.')\n",
    "\n",
    "\t# Code for result display\n",
    "\tprint('Baseline', model_name, 'Multi-Modal Classification accuracy is')\n",
    "\tprint(metrics.accuracy_score(true_labels, predictions)*100)\n",
    "\tprint(classification_report(true_labels, predictions, target_names = ['fake', 'real']))\n",
    "\t# Converting to csv\n",
    "\t# Removed transpose - check if actually required\n",
    "\tclsf_report = pd.DataFrame(classification_report(y_true = true_labels, y_pred = predictions, output_dict=True, target_names = ['fake', 'real']))\n",
    "\tclsf_report.to_csv(str('saved_models/'+model_name+'.csv'), index= True)"
   ]
  },
  {
   "cell_type": "code",
   "execution_count": 25,
   "metadata": {},
   "outputs": [
    {
     "name": "stdout",
     "output_type": "stream",
     "text": [
      "Evaluating on the testset\n",
      "DONE.\n",
      "Baseline base_rbert_ticnn_with Multi-Modal Classification accuracy is\n",
      "94.32624113475178\n",
      "              precision    recall  f1-score   support\n",
      "\n",
      "        fake       0.95      0.93      0.94       677\n",
      "        real       0.94      0.95      0.95       733\n",
      "\n",
      "    accuracy                           0.94      1410\n",
      "   macro avg       0.94      0.94      0.94      1410\n",
      "weighted avg       0.94      0.94      0.94      1410\n",
      "\n"
     ]
    }
   ],
   "source": [
    "path_to_model = 'saved_models/class_contrast_visualbert_lr_3e-05_val_loss_0.35285_ep_100.pt'\n",
    "evaluate(test_dataloader, model, path_to_model = path_to_model, load = False)"
   ]
  }
 ],
 "metadata": {
  "interpreter": {
   "hash": "b4396559e1bf5c32d41ffba8c548c213f47855d2d4ac82024dddc5ba3ffea815"
  },
  "kernelspec": {
   "display_name": "Python 3.6.11 64-bit ('newnisbert': conda)",
   "name": "python3"
  },
  "language_info": {
   "codemirror_mode": {
    "name": "ipython",
    "version": 3
   },
   "file_extension": ".py",
   "mimetype": "text/x-python",
   "name": "python",
   "nbconvert_exporter": "python",
   "pygments_lexer": "ipython3",
   "version": "3.6.11"
  },
  "orig_nbformat": 4
 },
 "nbformat": 4,
 "nbformat_minor": 2
}
