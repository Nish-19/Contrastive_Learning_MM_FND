{
 "cells": [
  {
   "cell_type": "code",
   "execution_count": 1,
   "metadata": {},
   "outputs": [],
   "source": [
    "import os\n",
    "gpu_number = \"0\" # Choose either 0 or 1\n",
    "os.environ['CUDA_ENVIRONMENT_DEVICES'] = gpu_number"
   ]
  },
  {
   "cell_type": "code",
   "execution_count": 2,
   "metadata": {},
   "outputs": [],
   "source": [
    "import os\n",
    "import sys\n",
    "import numpy as np\n",
    "from numpy import asarray,zeros\n",
    "import pandas as pd \n",
    "from sklearn.model_selection import train_test_split\n",
    "import torch\n",
    "from torch.utils.data import TensorDataset, DataLoader, RandomSampler, SequentialSampler, Dataset\n",
    "import torch.nn as nn\n",
    "import torch.nn.functional as F\n",
    "import torch.optim as optim\n",
    "from tqdm import tqdm\n",
    "import matplotlib.pyplot as plt\n",
    "import copy\n",
    "from sklearn.model_selection import train_test_split\n",
    "from sklearn import metrics\n",
    "from sklearn.metrics import classification_report\n",
    "import transformers\n",
    "from transformers import BertTokenizer\n",
    "from transformers import AdamW, get_linear_schedule_with_warmup\n",
    "from transformers import AutoTokenizer, AutoModel, AutoConfig, AdamW, get_linear_schedule_with_warmup\n",
    "from tensorflow.keras.preprocessing.text import Tokenizer\n",
    "from tensorflow.keras.preprocessing.sequence import pad_sequences\n",
    "import timm\n",
    "from losses import SupConLoss\n",
    "from torchlars import LARS"
   ]
  },
  {
   "cell_type": "code",
   "execution_count": 3,
   "metadata": {},
   "outputs": [
    {
     "name": "stdout",
     "output_type": "stream",
     "text": [
      "Using device cuda:0\n"
     ]
    }
   ],
   "source": [
    "if torch.cuda.is_available():\n",
    "    device_name = \"cuda:\" + gpu_number\n",
    "    device = torch.device(device_name)\n",
    "else:\n",
    "    device = torch.device(\"cpu\")\n",
    "# device = torch.device(\"cpu\") # Force CPU\n",
    "print(\"Using device\", device)"
   ]
  },
  {
   "cell_type": "markdown",
   "metadata": {},
   "source": [
    "# Loading Data"
   ]
  },
  {
   "cell_type": "code",
   "execution_count": 4,
   "metadata": {},
   "outputs": [],
   "source": [
    "demark_dict = {'Snp':{'start':0, 'end':1663},\n",
    "                'Rtr':{'start':1664, 'end':2630},\n",
    "                'Rcv':{'start':2631, 'end':4716},\n",
    "                'Tcn':{'start':4717, 'end':11765}}"
   ]
  },
  {
   "cell_type": "code",
   "execution_count": 5,
   "metadata": {},
   "outputs": [
    {
     "name": "stdout",
     "output_type": "stream",
     "text": [
      "Model name base_vbert_faux\n",
      "Source shape (2629, 768)\n",
      "Target shape (2629, 768)\n",
      "Labels shape (2629,)\n"
     ]
    }
   ],
   "source": [
    "# Loading Choice\n",
    "base_model_name = 'vbert' # choice 'vbert' or 'rbert'\n",
    "dataset_split = 'faux' # 'full' or 'faux' or 'ticnn' or 'recov'\n",
    "run_type = 'with' # with or without\n",
    "model_name = ''\n",
    "if base_model_name =='rbert':\n",
    "    source_multimodal_data_full = np.load(\"../data/source_multimodal_out.npy\")\n",
    "    target_multimodal_data_full = np.load(\"../data/target_multimodal_out.npy\")\n",
    "    labels_data_full = np.load(\"../data/labels.npy\").squeeze(1)\n",
    "    model_name = 'base_rbert'\n",
    "elif base_model_name == 'vbert':\n",
    "    source_multimodal_data_full = np.load(\"../data/source_mm_vbert.npy\")\n",
    "    target_multimodal_data_full = np.load(\"../data/target_mm_vbert.npy\")\n",
    "    labels_data_full = np.load(\"../data/labels.npy\").squeeze(1)\n",
    "    model_name = 'base_vbert'\n",
    "\n",
    "if dataset_split == 'full':\n",
    "    source_multimodal_data = source_multimodal_data_full\n",
    "    target_multimodal_data = target_multimodal_data_full\n",
    "    labels_data = labels_data_full\n",
    "    model_name = model_name + '_full'\n",
    "elif dataset_split == 'faux':\n",
    "    src_snoopes = source_multimodal_data_full[demark_dict['Snp']['start']:demark_dict['Snp']['end'],:]\n",
    "    tar_snoopes = target_multimodal_data_full[demark_dict['Snp']['start']:demark_dict['Snp']['end'],:]\n",
    "    lab_snoopes = labels_data_full[demark_dict['Snp']['start']:demark_dict['Snp']['end']]\n",
    "    src_rtr = source_multimodal_data_full[demark_dict['Rtr']['start']:demark_dict['Rtr']['end'],:]\n",
    "    tar_rtr = target_multimodal_data_full[demark_dict['Rtr']['start']:demark_dict['Rtr']['end'],:]\n",
    "    lab_tar = labels_data_full[demark_dict['Rtr']['start']:demark_dict['Rtr']['end']]\n",
    "    source_multimodal_data = np.concatenate((src_snoopes, src_rtr), axis=0)\n",
    "    target_multimodal_data = np.concatenate((tar_snoopes, tar_rtr), axis=0)\n",
    "    labels_data = np.concatenate((lab_snoopes, lab_tar), axis=0)\n",
    "    model_name = model_name + '_faux'\n",
    "elif dataset_split == 'recov':\n",
    "    source_multimodal_data = source_multimodal_data_full[demark_dict['Rcv']['start']:demark_dict['Rcv']['end'],:]\n",
    "    target_multimodal_data = target_multimodal_data_full[demark_dict['Rcv']['start']:demark_dict['Rcv']['end'],:]\n",
    "    labels_data = labels_data_full[demark_dict['Rcv']['start']:demark_dict['Rcv']['end']]\n",
    "    model_name = model_name + '_recov'\n",
    "elif dataset_split == 'ticnn':\n",
    "    source_multimodal_data = source_multimodal_data_full[demark_dict['Tcn']['start']:demark_dict['Tcn']['end'],:]\n",
    "    target_multimodal_data = target_multimodal_data_full[demark_dict['Tcn']['start']:demark_dict['Tcn']['end'],:]\n",
    "    labels_data = labels_data_full[demark_dict['Tcn']['start']:demark_dict['Tcn']['end']]\n",
    "    model_name = model_name + '_ticnn'\n",
    "\n",
    "#TODO: Printing the shape of the model\n",
    "print('Model name', model_name)\n",
    "print('Source shape', source_multimodal_data.shape)\n",
    "print('Target shape', target_multimodal_data.shape)\n",
    "print('Labels shape', labels_data.shape)"
   ]
  },
  {
   "cell_type": "code",
   "execution_count": 6,
   "metadata": {},
   "outputs": [
    {
     "name": "stdout",
     "output_type": "stream",
     "text": [
      "tensor([0.5287, 0.4713], device='cuda:0')\n"
     ]
    }
   ],
   "source": [
    "#TODO: Get Class weights\n",
    "from collections import Counter \n",
    "weights = Counter(labels_data)\n",
    "fake_weight = weights[1]/(weights[0]+weights[1])\n",
    "real_weight = weights[0]/(weights[0]+weights[1])\n",
    "class_weights = torch.tensor([fake_weight, real_weight], device=device)\n",
    "print(class_weights)"
   ]
  },
  {
   "cell_type": "code",
   "execution_count": 7,
   "metadata": {},
   "outputs": [],
   "source": [
    "# # Resent+BERT\n",
    "# source_multimodal_rbert = np.load(\"../data/source_multimodal_out.npy\")\n",
    "# target_multimodal_rbert = np.load(\"../data/target_multimodal_out.npy\")\n",
    "# print(\"Source shape\", source_multimodal_rbert.shape) # Resent(512) + BERT (768)\n",
    "# print(\"Target shape\", target_multimodal_rbert.shape)"
   ]
  },
  {
   "cell_type": "code",
   "execution_count": 8,
   "metadata": {},
   "outputs": [],
   "source": [
    "# # NOTE: Import Visual BERT Multimodal data\n",
    "# target_multimodal_vbert = np.load(\"../data/target_mm_vbert.npy\")\n",
    "# source_multimodal_vbert = np.load(\"../data/source_mm_vbert.npy\")\n",
    "# print(\"Source shape\", source_multimodal_vbert.shape) # Visual BERT (768)\n",
    "# print(\"Target shape\", target_multimodal_vbert.shape)"
   ]
  },
  {
   "cell_type": "code",
   "execution_count": 9,
   "metadata": {},
   "outputs": [],
   "source": [
    "# # Labels \n",
    "# labels_data = np.load(\"../data/labels.npy\").squeeze(1)\n",
    "# print('Labels tensor shape', labels_data.shape)"
   ]
  },
  {
   "cell_type": "markdown",
   "metadata": {},
   "source": [
    "# Splitting the Data"
   ]
  },
  {
   "cell_type": "code",
   "execution_count": 10,
   "metadata": {},
   "outputs": [],
   "source": [
    "# # NOTE: RBERT\n",
    "# train_rbert_src, test_rbert_src, train_rbert_tar, test_rbert_tar, train_labels, test_labels = train_test_split(source_multimodal_rbert, target_multimodal_rbert, labels_data, test_size=0.2, random_state=43)"
   ]
  },
  {
   "cell_type": "code",
   "execution_count": 11,
   "metadata": {},
   "outputs": [],
   "source": [
    "# # NOTE: VBERT\n",
    "# train_vbert_src, test_vbert_src, train_vbert_tar, test_vbert_tar, train_labels, test_labels = train_test_split(source_multimodal_vbert, target_multimodal_vbert, labels_data, test_size=0.2, random_state=43)"
   ]
  },
  {
   "cell_type": "code",
   "execution_count": 12,
   "metadata": {},
   "outputs": [],
   "source": [
    "# NOTE: New Split\n",
    "train_src, test_src, train_tar, test_tar, train_labels, test_labels = train_test_split(source_multimodal_data, target_multimodal_data, labels_data, test_size=0.2, random_state=43)"
   ]
  },
  {
   "cell_type": "markdown",
   "metadata": {},
   "source": [
    "# Modeling"
   ]
  },
  {
   "cell_type": "code",
   "execution_count": 13,
   "metadata": {},
   "outputs": [],
   "source": [
    "# TODO: Get dataloader\n",
    "def get_data_loader(batch_size, target_input, source_input, labels, split_type = 'train'):\n",
    "    target_input = torch.tensor(target_input, device=device)\n",
    "    source_input = torch.tensor(source_input, device=device)\n",
    "    labels = torch.tensor(labels, dtype=torch.long, device=device)\n",
    "    data = TensorDataset(target_input, source_input, labels)\n",
    "    if split_type == 'train':\n",
    "        sampler = RandomSampler(data)\n",
    "    elif split_type == 'val':\n",
    "        sampler = SequentialSampler(data)\n",
    "    dataloader = DataLoader(data, sampler=sampler, batch_size=batch_size)\n",
    "    return data, sampler, dataloader"
   ]
  },
  {
   "cell_type": "code",
   "execution_count": 14,
   "metadata": {},
   "outputs": [],
   "source": [
    "# # NOTE: For ResNet+BERT\n",
    "# batch_size = 128\n",
    "# train_data, train_sampler, train_dataloader = get_data_loader(batch_size, train_rbert_tar, train_rbert_src, train_labels, 'train')\n",
    "# test_data, test_sampler, test_dataloader = get_data_loader(batch_size, test_rbert_tar, test_rbert_src, test_labels, 'val')"
   ]
  },
  {
   "cell_type": "code",
   "execution_count": 15,
   "metadata": {},
   "outputs": [],
   "source": [
    "#NOTE: For Common Data\n",
    "batch_size = 128\n",
    "train_data, train_sampler, train_dataloader = get_data_loader(batch_size, train_tar, train_src, train_labels, 'train')\n",
    "test_data, test_sampler, test_dataloader = get_data_loader(batch_size, test_tar, test_src, test_labels, 'val')"
   ]
  },
  {
   "cell_type": "code",
   "execution_count": 16,
   "metadata": {},
   "outputs": [],
   "source": [
    "# NOTE: Without BackGround Knowledge\n",
    "class WithoutBackKnldg(nn.Module):\n",
    "    def __init__(self, initial_dim):\n",
    "        super(WithoutBackKnldg, self).__init__()\n",
    "        self.Linear_1 = nn.Linear(initial_dim, 512)\n",
    "        self.Linear_2 = nn.Linear(512, 2)\n",
    "        self.tanh1 = nn.Tanh()\n",
    "        self.tanh2 = nn.Tanh()\n",
    "    def forward(self, target_feature, source_features):\n",
    "        linear1 = self.tanh1(self.Linear_1(source_features))\n",
    "        logits = self.tanh2(self.Linear_2(linear1))\n",
    "        return logits"
   ]
  },
  {
   "cell_type": "code",
   "execution_count": 17,
   "metadata": {},
   "outputs": [],
   "source": [
    "# NOTE: Without BackGround Knowledge\n",
    "class WithBackKnldg(nn.Module):\n",
    "    def __init__(self, initial_dim):\n",
    "        super(WithBackKnldg, self).__init__()\n",
    "        self.Linear_1= nn.Linear(initial_dim, 512)\n",
    "        self.Linear_2 = nn.Linear(512*3, 512)\n",
    "        self.Linear_3 = nn.Linear(512*2, 512)\n",
    "        self.Linear_4 = nn.Linear(512, 2)\n",
    "        self.tanh1 = nn.Tanh()\n",
    "        self.tanh2 = nn.Tanh()\n",
    "        self.tanh3 = nn.Tanh()\n",
    "        self.tanh4 = nn.Tanh()\n",
    "    def forward(self, target_feature, source_feature):\n",
    "        fixed_target = self.Linear_1(target_feature)\n",
    "        fixed_source = self.Linear_1(source_feature)\n",
    "        add_op = fixed_target + fixed_source\n",
    "        sub_op = fixed_target - fixed_source\n",
    "        mul_op = fixed_target * fixed_source\n",
    "        combine_t_s = torch.cat((add_op, sub_op, mul_op), 1)\n",
    "        linear2 = self.tanh2(self.Linear_2(combine_t_s))\n",
    "        combine_c_t = torch.cat((fixed_target, linear2), 1)\n",
    "        linear3 = self.tanh3(self.Linear_3(combine_c_t))\n",
    "        logits = self.tanh4(self.Linear_4(linear3))\n",
    "        return logits"
   ]
  },
  {
   "cell_type": "code",
   "execution_count": 18,
   "metadata": {},
   "outputs": [],
   "source": [
    "# NOTE: Building Model\n",
    "# initial_dim = train_rbert_src.shape[1] # For ResNet+BERT\n",
    "initial_dim = train_src.shape[1] # For Visual BERT\n",
    "if run_type == 'without':\n",
    "    class_model = WithoutBackKnldg(initial_dim).to(device) # For Without Background Knowledge\n",
    "    model_name = model_name + '_without'\n",
    "elif run_type == 'with':\n",
    "    class_model = WithBackKnldg(initial_dim).to(device) # For With Background Knowledge\n",
    "    model_name = model_name + '_with'"
   ]
  },
  {
   "cell_type": "code",
   "execution_count": 19,
   "metadata": {},
   "outputs": [],
   "source": [
    "# Optimizer and scheduler\n",
    "def get_optimizer_scheduler(name, model, train_dataloader_len, epochs, lr_set):\n",
    "\tif name == \"Adam\":\n",
    "\t\toptimizer = AdamW(model.parameters(),\n",
    "                  lr = lr_set, # args.learning_rate - default is 5e-5, our notebook had 2e-5\n",
    "                  eps = 1e-8 # args.adam_epsilon  - default is 1e-8.\n",
    "\t\t)\n",
    "\telif name == \"LARS-SGD\":\n",
    "\t\tbase_optimizer = optim.SGD(model.parameters(), lr=lr_set, momentum=0.9)\n",
    "\t\toptimizer = LARS(optimizer=base_optimizer, eps=1e-8, trust_coef=0.001)\n",
    "\n",
    "\ttotal_steps = train_dataloader_len * epochs\n",
    "\n",
    "\t# Create the learning rate scheduler.\n",
    "\tscheduler = get_linear_schedule_with_warmup(optimizer, \n",
    "\t\t\t\t\t\t\t\t\t\t\t\tnum_warmup_steps = total_steps//2, # Default value in run_glue.py\n",
    "\t\t\t\t\t\t\t\t\t\t\t\tnum_training_steps = total_steps)\n",
    "\treturn optimizer, scheduler"
   ]
  },
  {
   "cell_type": "code",
   "execution_count": 20,
   "metadata": {},
   "outputs": [],
   "source": [
    "# Getting the optimizer and scheduler\n",
    "epochs = 100\n",
    "lr = 3e-5 # Less LR\n",
    "# lr = 0.5\n",
    "iters_to_accumulate = 2\n",
    "name = \"Adam\"\n",
    "# name = \"LARS-SGD\"\n",
    "if base_model_name == 'vbert' and dataset_split == 'recov':\n",
    "    criterion = nn.CrossEntropyLoss(class_weights)\n",
    "else:\n",
    "    criterion = nn.CrossEntropyLoss()\n",
    "optimizer, scheduler = get_optimizer_scheduler(name, class_model, len(train_dataloader), epochs, lr)"
   ]
  },
  {
   "cell_type": "code",
   "execution_count": 21,
   "metadata": {},
   "outputs": [],
   "source": [
    "################ Evaluating Loss ######################\n",
    "#######################################################\n",
    "def evaluate_loss(net, device, criterion, dataloader):\n",
    "    net.eval()\n",
    "    mean_loss = 0\n",
    "    count = 0\n",
    "    with torch.no_grad():\n",
    "        for it, (target_inputs, source_inputs, labels) in enumerate(tqdm(dataloader)):\n",
    "            target_inputs, source_inputs, labels = target_inputs.to(device), source_inputs.to(device), labels.to(device)\n",
    "            logits = net(target_inputs, source_inputs)\n",
    "            mean_loss += criterion(logits.squeeze(-1), labels).item() # initially it was logits.squeeze(-1)\n",
    "            count += 1\n",
    "    return mean_loss / count"
   ]
  },
  {
   "cell_type": "code",
   "execution_count": 22,
   "metadata": {},
   "outputs": [],
   "source": [
    "################ Flat Accuracy Calculation ####################\n",
    "###############################################################\n",
    "def flat_accuracy(preds, labels):\n",
    "    pred_flat = np.argmax(preds, axis=1).flatten()\n",
    "    labels_flat = labels.flatten()\n",
    "    return np.sum(pred_flat == labels_flat) / len(labels_flat)\n",
    "################ Validation Accuracy Calculation ####################\n",
    "###############################################################\n",
    "def evaluate_accuracy(model, device, validation_dataloader):\n",
    "\tmodel.eval()\n",
    "\t# Tracking variables \n",
    "\teval_loss, eval_accuracy = 0, 0\n",
    "\tnb_eval_steps, nb_eval_examples = 0, 0\n",
    "\t# Evaluate data for one epoch\n",
    "\tfor batch in validation_dataloader:\n",
    "\t    # Add batch to GPU\n",
    "\t    batch = tuple(t.to(device) for t in batch)\t    \n",
    "\t    # Unpack the inputs from our dataloader\n",
    "\t    b_t_inputs, b_s_inputs, b_labels = batch\t    \n",
    "\t    \n",
    "\t    # Telling the model not to compute or store gradients, saving memory and\n",
    "\t    # speeding up validation\n",
    "\t    with torch.no_grad(): \n",
    "\t    \t# Forward pass, calculate logit predictions.\n",
    "\t        # This will return the logits rather than the loss because we have\n",
    "\t        # not provided labels.\n",
    "\t    \tlogits = model(b_t_inputs, b_s_inputs)       \n",
    "\n",
    "\t    # Move logits and labels to CPU\n",
    "\t    logits = logits.detach().cpu().numpy()\n",
    "\t    label_ids = b_labels.to('cpu').numpy()\n",
    "\t    \n",
    "\t    # Calculate the accuracy for this batch of test sentences.\n",
    "\t    tmp_eval_accuracy = flat_accuracy(logits, label_ids)\n",
    "\t    \n",
    "\t    # Accumulate the total accuracy.\n",
    "\t    eval_accuracy += tmp_eval_accuracy\n",
    "\n",
    "\t    # Track the number of batches\n",
    "\t    nb_eval_steps += 1\n",
    "\taccuracy = eval_accuracy/nb_eval_steps\n",
    "\treturn accuracy"
   ]
  },
  {
   "cell_type": "code",
   "execution_count": 23,
   "metadata": {},
   "outputs": [],
   "source": [
    "def train_model(net, criterion, opti, lr, lr_scheduler, train_loader, val_loader, epochs, iters_to_accumulate):\n",
    "    best_loss = np.Inf\n",
    "    best_ep = 1\n",
    "    nb_iterations = len(train_loader)\n",
    "    print_every = nb_iterations // 5  # print the training loss 5 times per epoch\n",
    "    iters = []\n",
    "    train_losses = []\n",
    "    val_losses = []\n",
    "    # Iterating over all epochs\n",
    "    for ep in range(epochs):\n",
    "        net.train()\n",
    "        running_loss = 0.0\n",
    "        for it, (target_inputs, source_inputs, labels) in enumerate(tqdm(train_loader)):\n",
    "\n",
    "            # Converting to cuda tensors\n",
    "            target_inputs, source_inputs, labels = target_inputs.to(device), source_inputs.to(device), labels.to(device)\n",
    "    \t\t\n",
    "            # Obtaining the logits from the model\n",
    "            logits = net(target_inputs, source_inputs)\n",
    "            # print(logits.device)\n",
    "\n",
    "            # Computing loss\n",
    "            # print(logits.squeeze(-1).shape)\n",
    "            # print(labels.shape)\n",
    "            loss = criterion(logits.squeeze(-1), labels)\n",
    "            loss = loss / iters_to_accumulate  # Normalize the loss because it is averaged\n",
    "\n",
    "            # Backpropagating the gradients\n",
    "            # Calls backward()\n",
    "            loss.backward()\n",
    "\n",
    "            if (it + 1) % iters_to_accumulate == 0:\n",
    "                # Optimization step\n",
    "                # scaler.step() first unscales the gradients of the optimizer's assigned params.\n",
    "                # If these gradients do not contain infs or NaNs, opti.step() is then called,\n",
    "                # otherwise, opti.step() is skipped.\n",
    "                opti.step()\n",
    "                # Adjust the learning rate based on the number of iterations.\n",
    "                lr_scheduler.step()\n",
    "                # Clear gradients\n",
    "                net.zero_grad()\n",
    "\n",
    "\n",
    "            running_loss += loss.item()\n",
    "\n",
    "            if (it + 1) % print_every == 0:  # Print training loss information\n",
    "                print()\n",
    "                print(\"Iteration {}/{} of epoch {} complete. Loss : {} \"\n",
    "                      .format(it+1, nb_iterations, ep+1, running_loss / print_every))\n",
    "\n",
    "                running_loss = 0.0\n",
    "\n",
    "\n",
    "        val_loss = evaluate_loss(net, device, criterion, val_loader)  # Compute validation loss\n",
    "        val_accuracy = evaluate_accuracy(net, device, val_loader)\n",
    "        print()\n",
    "        print(\"Epoch {} complete! Validation Loss : {}\".format(ep+1, val_loss))\n",
    "        print(\"Epoch {} complete! Validation Accuracy : {}\".format(ep+1, val_accuracy))\n",
    "\n",
    "        if val_loss < best_loss:\n",
    "            print(\"Best validation loss improved from {} to {}\".format(best_loss, val_loss))\n",
    "            print()\n",
    "            net_copy = copy.deepcopy(net)  # save a copy of the model\n",
    "            best_loss = val_loss\n",
    "            best_ep = ep + 1\n",
    "\n",
    "    # Saving the model\n",
    "    path_to_model='saved_models/{}_lr_{}_val_loss_{}_ep_{}.pt'.format(model_name, lr, round(best_loss, 5), best_ep)\n",
    "    torch.save(net_copy.state_dict(), path_to_model)\n",
    "    net.load_state_dict(torch.load(path_to_model)) # Re-Loading the best model\n",
    "    print(\"The model has been saved in {}\".format(path_to_model))\n",
    "\n",
    "    del loss\n",
    "    torch.cuda.empty_cache()\n",
    "    return net, model_name"
   ]
  },
  {
   "cell_type": "code",
   "execution_count": 24,
   "metadata": {},
   "outputs": [
    {
     "name": "stderr",
     "output_type": "stream",
     "text": [
      "100%|██████████| 17/17 [00:00<00:00, 107.58it/s]\n",
      "100%|██████████| 5/5 [00:00<00:00, 196.57it/s]\n",
      "  0%|          | 0/17 [00:00<?, ?it/s]"
     ]
    },
    {
     "name": "stdout",
     "output_type": "stream",
     "text": [
      "\n",
      "Iteration 3/17 of epoch 1 complete. Loss : 0.3478004038333893 \n",
      "\n",
      "Iteration 6/17 of epoch 1 complete. Loss : 0.34878069162368774 \n",
      "\n",
      "Iteration 9/17 of epoch 1 complete. Loss : 0.34804582595825195 \n",
      "\n",
      "Iteration 12/17 of epoch 1 complete. Loss : 0.3497060736020406 \n",
      "\n",
      "Iteration 15/17 of epoch 1 complete. Loss : 0.34966423114140827 \n",
      "\n",
      "Epoch 1 complete! Validation Loss : 0.6967428088188171\n",
      "Epoch 1 complete! Validation Accuracy : 0.4479910714285714\n",
      "Best validation loss improved from inf to 0.6967428088188171\n",
      "\n",
      "\n",
      "Iteration 3/17 of epoch 2 complete. Loss : 0.3490762213865916 \n"
     ]
    },
    {
     "name": "stderr",
     "output_type": "stream",
     "text": [
      "100%|██████████| 17/17 [00:00<00:00, 116.86it/s]\n",
      "100%|██████████| 5/5 [00:00<00:00, 202.91it/s]\n",
      "  0%|          | 0/17 [00:00<?, ?it/s]"
     ]
    },
    {
     "name": "stdout",
     "output_type": "stream",
     "text": [
      "\n",
      "Iteration 6/17 of epoch 2 complete. Loss : 0.34815841913223267 \n",
      "\n",
      "Iteration 9/17 of epoch 2 complete. Loss : 0.3488029936949412 \n",
      "\n",
      "Iteration 12/17 of epoch 2 complete. Loss : 0.3477812508742015 \n",
      "\n",
      "Iteration 15/17 of epoch 2 complete. Loss : 0.34812159339586896 \n",
      "\n",
      "Epoch 2 complete! Validation Loss : 0.6952956080436706\n",
      "Epoch 2 complete! Validation Accuracy : 0.46674107142857146\n",
      "Best validation loss improved from 0.6967428088188171 to 0.6952956080436706\n",
      "\n",
      "\n",
      "Iteration 3/17 of epoch 3 complete. Loss : 0.3481997648874919 \n",
      "\n",
      "Iteration 6/17 of epoch 3 complete. Loss : 0.34766051173210144 \n"
     ]
    },
    {
     "name": "stderr",
     "output_type": "stream",
     "text": [
      "100%|██████████| 17/17 [00:00<00:00, 113.31it/s]\n",
      "100%|██████████| 5/5 [00:00<00:00, 217.46it/s]\n",
      "  0%|          | 0/17 [00:00<?, ?it/s]"
     ]
    },
    {
     "name": "stdout",
     "output_type": "stream",
     "text": [
      "\n",
      "Iteration 9/17 of epoch 3 complete. Loss : 0.34697802861531574 \n",
      "\n",
      "Iteration 12/17 of epoch 3 complete. Loss : 0.3471175630887349 \n",
      "\n",
      "Iteration 15/17 of epoch 3 complete. Loss : 0.34726056456565857 \n",
      "\n",
      "Epoch 3 complete! Validation Loss : 0.6932141423225403\n",
      "Epoch 3 complete! Validation Accuracy : 0.5026785714285714\n",
      "Best validation loss improved from 0.6952956080436706 to 0.6932141423225403\n",
      "\n",
      "\n",
      "Iteration 3/17 of epoch 4 complete. Loss : 0.3468050956726074 \n",
      "\n",
      "Iteration 6/17 of epoch 4 complete. Loss : 0.34660543004671734 \n",
      "\n",
      "Iteration 9/17 of epoch 4 complete. Loss : 0.34737586975097656 \n"
     ]
    },
    {
     "name": "stderr",
     "output_type": "stream",
     "text": [
      "100%|██████████| 17/17 [00:00<00:00, 115.77it/s]\n",
      "100%|██████████| 5/5 [00:00<00:00, 197.27it/s]\n",
      " 71%|███████   | 12/17 [00:00<00:00, 117.69it/s]"
     ]
    },
    {
     "name": "stdout",
     "output_type": "stream",
     "text": [
      "\n",
      "Iteration 12/17 of epoch 4 complete. Loss : 0.3459889888763428 \n",
      "\n",
      "Iteration 15/17 of epoch 4 complete. Loss : 0.34542877475420636 \n",
      "\n",
      "Epoch 4 complete! Validation Loss : 0.6909696340560914\n",
      "Epoch 4 complete! Validation Accuracy : 0.5136160714285715\n",
      "Best validation loss improved from 0.6932141423225403 to 0.6909696340560914\n",
      "\n",
      "\n",
      "Iteration 3/17 of epoch 5 complete. Loss : 0.3445435166358948 \n",
      "\n",
      "Iteration 6/17 of epoch 5 complete. Loss : 0.34700175126393634 \n",
      "\n",
      "Iteration 9/17 of epoch 5 complete. Loss : 0.3460834523042043 \n",
      "\n",
      "Iteration 12/17 of epoch 5 complete. Loss : 0.34525368611017865 \n"
     ]
    },
    {
     "name": "stderr",
     "output_type": "stream",
     "text": [
      "100%|██████████| 17/17 [00:00<00:00, 116.78it/s]\n",
      "100%|██████████| 5/5 [00:00<00:00, 190.57it/s]\n",
      " 71%|███████   | 12/17 [00:00<00:00, 110.10it/s]"
     ]
    },
    {
     "name": "stdout",
     "output_type": "stream",
     "text": [
      "\n",
      "Iteration 15/17 of epoch 5 complete. Loss : 0.34488675991694134 \n",
      "\n",
      "Epoch 5 complete! Validation Loss : 0.6887636184692383\n",
      "Epoch 5 complete! Validation Accuracy : 0.5310267857142856\n",
      "Best validation loss improved from 0.6909696340560914 to 0.6887636184692383\n",
      "\n",
      "\n",
      "Iteration 3/17 of epoch 6 complete. Loss : 0.34735630949338275 \n",
      "\n",
      "Iteration 6/17 of epoch 6 complete. Loss : 0.3430868883927663 \n",
      "\n",
      "Iteration 9/17 of epoch 6 complete. Loss : 0.34295008579889935 \n",
      "\n",
      "Iteration 12/17 of epoch 6 complete. Loss : 0.3463556369145711 \n"
     ]
    },
    {
     "name": "stderr",
     "output_type": "stream",
     "text": [
      "100%|██████████| 17/17 [00:00<00:00, 111.68it/s]\n",
      "100%|██████████| 5/5 [00:00<00:00, 206.01it/s]\n",
      " 71%|███████   | 12/17 [00:00<00:00, 116.17it/s]"
     ]
    },
    {
     "name": "stdout",
     "output_type": "stream",
     "text": [
      "\n",
      "Iteration 15/17 of epoch 6 complete. Loss : 0.3427193562189738 \n",
      "\n",
      "Epoch 6 complete! Validation Loss : 0.6865772724151611\n",
      "Epoch 6 complete! Validation Accuracy : 0.5279017857142857\n",
      "Best validation loss improved from 0.6887636184692383 to 0.6865772724151611\n",
      "\n",
      "\n",
      "Iteration 3/17 of epoch 7 complete. Loss : 0.34179476896921795 \n",
      "\n",
      "Iteration 6/17 of epoch 7 complete. Loss : 0.34186892708142597 \n",
      "\n",
      "Iteration 9/17 of epoch 7 complete. Loss : 0.3442445894082387 \n",
      "\n",
      "Iteration 12/17 of epoch 7 complete. Loss : 0.3440586030483246 \n",
      "\n",
      "Iteration 15/17 of epoch 7 complete. Loss : 0.3420673906803131 \n"
     ]
    },
    {
     "name": "stderr",
     "output_type": "stream",
     "text": [
      "100%|██████████| 17/17 [00:00<00:00, 116.26it/s]\n",
      "100%|██████████| 5/5 [00:00<00:00, 226.31it/s]\n",
      "100%|██████████| 17/17 [00:00<00:00, 117.13it/s]\n",
      "100%|██████████| 5/5 [00:00<00:00, 201.73it/s]\n",
      "  0%|          | 0/17 [00:00<?, ?it/s]"
     ]
    },
    {
     "name": "stdout",
     "output_type": "stream",
     "text": [
      "\n",
      "Epoch 7 complete! Validation Loss : 0.6841683864593506\n",
      "Epoch 7 complete! Validation Accuracy : 0.5263392857142857\n",
      "Best validation loss improved from 0.6865772724151611 to 0.6841683864593506\n",
      "\n",
      "\n",
      "Iteration 3/17 of epoch 8 complete. Loss : 0.34296761949857074 \n",
      "\n",
      "Iteration 6/17 of epoch 8 complete. Loss : 0.34207699696222943 \n",
      "\n",
      "Iteration 9/17 of epoch 8 complete. Loss : 0.34232362111409503 \n",
      "\n",
      "Iteration 12/17 of epoch 8 complete. Loss : 0.3425922095775604 \n",
      "\n",
      "Iteration 15/17 of epoch 8 complete. Loss : 0.3394338587919871 \n",
      "\n",
      "Epoch 8 complete! Validation Loss : 0.6814383387565612\n",
      "Epoch 8 complete! Validation Accuracy : 0.5310267857142856\n",
      "Best validation loss improved from 0.6841683864593506 to 0.6814383387565612\n",
      "\n"
     ]
    },
    {
     "name": "stderr",
     "output_type": "stream",
     "text": [
      "100%|██████████| 17/17 [00:00<00:00, 113.90it/s]\n",
      "100%|██████████| 5/5 [00:00<00:00, 229.91it/s]\n",
      "  0%|          | 0/17 [00:00<?, ?it/s]"
     ]
    },
    {
     "name": "stdout",
     "output_type": "stream",
     "text": [
      "\n",
      "Iteration 3/17 of epoch 9 complete. Loss : 0.3391176164150238 \n",
      "\n",
      "Iteration 6/17 of epoch 9 complete. Loss : 0.3403562704722087 \n",
      "\n",
      "Iteration 9/17 of epoch 9 complete. Loss : 0.3430253068606059 \n",
      "\n",
      "Iteration 12/17 of epoch 9 complete. Loss : 0.3391692241032918 \n",
      "\n",
      "Iteration 15/17 of epoch 9 complete. Loss : 0.34137117862701416 \n",
      "\n",
      "Epoch 9 complete! Validation Loss : 0.6783779859542847\n",
      "Epoch 9 complete! Validation Accuracy : 0.5341517857142857\n",
      "Best validation loss improved from 0.6814383387565612 to 0.6783779859542847\n",
      "\n",
      "\n",
      "Iteration 3/17 of epoch 10 complete. Loss : 0.33964426318804425 \n"
     ]
    },
    {
     "name": "stderr",
     "output_type": "stream",
     "text": [
      "100%|██████████| 17/17 [00:00<00:00, 116.24it/s]\n",
      "100%|██████████| 5/5 [00:00<00:00, 209.00it/s]\n",
      "  0%|          | 0/17 [00:00<?, ?it/s]"
     ]
    },
    {
     "name": "stdout",
     "output_type": "stream",
     "text": [
      "\n",
      "Iteration 6/17 of epoch 10 complete. Loss : 0.33868929743766785 \n",
      "\n",
      "Iteration 9/17 of epoch 10 complete. Loss : 0.34227068225542706 \n",
      "\n",
      "Iteration 12/17 of epoch 10 complete. Loss : 0.33726466695467633 \n",
      "\n",
      "Iteration 15/17 of epoch 10 complete. Loss : 0.3353130718072255 \n",
      "\n",
      "Epoch 10 complete! Validation Loss : 0.6749888062477112\n",
      "Epoch 10 complete! Validation Accuracy : 0.5229910714285715\n",
      "Best validation loss improved from 0.6783779859542847 to 0.6749888062477112\n",
      "\n",
      "\n",
      "Iteration 3/17 of epoch 11 complete. Loss : 0.33450786272684735 \n",
      "\n",
      "Iteration 6/17 of epoch 11 complete. Loss : 0.3381274938583374 \n"
     ]
    },
    {
     "name": "stderr",
     "output_type": "stream",
     "text": [
      "100%|██████████| 17/17 [00:00<00:00, 115.24it/s]\n",
      "100%|██████████| 5/5 [00:00<00:00, 202.59it/s]\n",
      "  0%|          | 0/17 [00:00<?, ?it/s]"
     ]
    },
    {
     "name": "stdout",
     "output_type": "stream",
     "text": [
      "\n",
      "Iteration 9/17 of epoch 11 complete. Loss : 0.3367597758769989 \n",
      "\n",
      "Iteration 12/17 of epoch 11 complete. Loss : 0.3348775804042816 \n",
      "\n",
      "Iteration 15/17 of epoch 11 complete. Loss : 0.3377218345801036 \n",
      "\n",
      "Epoch 11 complete! Validation Loss : 0.6710805654525757\n",
      "Epoch 11 complete! Validation Accuracy : 0.5466517857142856\n",
      "Best validation loss improved from 0.6749888062477112 to 0.6710805654525757\n",
      "\n",
      "\n",
      "Iteration 3/17 of epoch 12 complete. Loss : 0.3367946644624074 \n",
      "\n",
      "Iteration 6/17 of epoch 12 complete. Loss : 0.3360481063524882 \n",
      "\n",
      "Iteration 9/17 of epoch 12 complete. Loss : 0.3342103858788808 \n"
     ]
    },
    {
     "name": "stderr",
     "output_type": "stream",
     "text": [
      "100%|██████████| 17/17 [00:00<00:00, 115.59it/s]\n",
      "100%|██████████| 5/5 [00:00<00:00, 204.30it/s]\n",
      " 71%|███████   | 12/17 [00:00<00:00, 114.08it/s]"
     ]
    },
    {
     "name": "stdout",
     "output_type": "stream",
     "text": [
      "\n",
      "Iteration 12/17 of epoch 12 complete. Loss : 0.33166701594988507 \n",
      "\n",
      "Iteration 15/17 of epoch 12 complete. Loss : 0.33316342035929364 \n",
      "\n",
      "Epoch 12 complete! Validation Loss : 0.6669881701469421\n",
      "Epoch 12 complete! Validation Accuracy : 0.5953125\n",
      "Best validation loss improved from 0.6710805654525757 to 0.6669881701469421\n",
      "\n",
      "\n",
      "Iteration 3/17 of epoch 13 complete. Loss : 0.3335990905761719 \n",
      "\n",
      "Iteration 6/17 of epoch 13 complete. Loss : 0.33255645632743835 \n",
      "\n",
      "Iteration 9/17 of epoch 13 complete. Loss : 0.33385374148686725 \n",
      "\n",
      "Iteration 12/17 of epoch 13 complete. Loss : 0.3312005599339803 \n"
     ]
    },
    {
     "name": "stderr",
     "output_type": "stream",
     "text": [
      "100%|██████████| 17/17 [00:00<00:00, 115.65it/s]\n",
      "100%|██████████| 5/5 [00:00<00:00, 202.65it/s]\n",
      " 71%|███████   | 12/17 [00:00<00:00, 111.56it/s]"
     ]
    },
    {
     "name": "stdout",
     "output_type": "stream",
     "text": [
      "\n",
      "Iteration 15/17 of epoch 13 complete. Loss : 0.33024144172668457 \n",
      "\n",
      "Epoch 13 complete! Validation Loss : 0.6625040292739868\n",
      "Epoch 13 complete! Validation Accuracy : 0.609375\n",
      "Best validation loss improved from 0.6669881701469421 to 0.6625040292739868\n",
      "\n",
      "\n",
      "Iteration 3/17 of epoch 14 complete. Loss : 0.32934021949768066 \n",
      "\n",
      "Iteration 6/17 of epoch 14 complete. Loss : 0.3294844130674998 \n",
      "\n",
      "Iteration 9/17 of epoch 14 complete. Loss : 0.3321455518404643 \n",
      "\n",
      "Iteration 12/17 of epoch 14 complete. Loss : 0.32940490047136944 \n"
     ]
    },
    {
     "name": "stderr",
     "output_type": "stream",
     "text": [
      "100%|██████████| 17/17 [00:00<00:00, 113.03it/s]\n",
      "100%|██████████| 5/5 [00:00<00:00, 203.39it/s]\n",
      " 71%|███████   | 12/17 [00:00<00:00, 114.08it/s]"
     ]
    },
    {
     "name": "stdout",
     "output_type": "stream",
     "text": [
      "\n",
      "Iteration 15/17 of epoch 14 complete. Loss : 0.32510509093602497 \n",
      "\n",
      "Epoch 14 complete! Validation Loss : 0.6576045870780944\n",
      "Epoch 14 complete! Validation Accuracy : 0.6377232142857142\n",
      "Best validation loss improved from 0.6625040292739868 to 0.6576045870780944\n",
      "\n",
      "\n",
      "Iteration 3/17 of epoch 15 complete. Loss : 0.3300256133079529 \n",
      "\n",
      "Iteration 6/17 of epoch 15 complete. Loss : 0.3264490266640981 \n",
      "\n",
      "Iteration 9/17 of epoch 15 complete. Loss : 0.32563138008117676 \n",
      "\n",
      "Iteration 12/17 of epoch 15 complete. Loss : 0.3237820267677307 \n",
      "\n",
      "Iteration 15/17 of epoch 15 complete. Loss : 0.3270508050918579 \n"
     ]
    },
    {
     "name": "stderr",
     "output_type": "stream",
     "text": [
      "100%|██████████| 17/17 [00:00<00:00, 113.28it/s]\n",
      "100%|██████████| 5/5 [00:00<00:00, 216.67it/s]\n",
      "100%|██████████| 17/17 [00:00<00:00, 114.78it/s]\n",
      "100%|██████████| 5/5 [00:00<00:00, 181.01it/s]"
     ]
    },
    {
     "name": "stdout",
     "output_type": "stream",
     "text": [
      "\n",
      "Epoch 15 complete! Validation Loss : 0.6526613593101501\n",
      "Epoch 15 complete! Validation Accuracy : 0.6783482142857142\n",
      "Best validation loss improved from 0.6576045870780944 to 0.6526613593101501\n",
      "\n",
      "\n",
      "Iteration 3/17 of epoch 16 complete. Loss : 0.3236798842748006 \n",
      "\n",
      "Iteration 6/17 of epoch 16 complete. Loss : 0.32371877630551654 \n",
      "\n",
      "Iteration 9/17 of epoch 16 complete. Loss : 0.32594894369443256 \n",
      "\n",
      "Iteration 12/17 of epoch 16 complete. Loss : 0.32301535209019977 \n",
      "\n",
      "Iteration 15/17 of epoch 16 complete. Loss : 0.3233378827571869 \n"
     ]
    },
    {
     "name": "stderr",
     "output_type": "stream",
     "text": [
      "\n",
      "100%|██████████| 17/17 [00:00<00:00, 118.71it/s]\n",
      "100%|██████████| 5/5 [00:00<00:00, 221.92it/s]\n",
      "  0%|          | 0/17 [00:00<?, ?it/s]"
     ]
    },
    {
     "name": "stdout",
     "output_type": "stream",
     "text": [
      "\n",
      "Epoch 16 complete! Validation Loss : 0.6471375107765198\n",
      "Epoch 16 complete! Validation Accuracy : 0.6879464285714285\n",
      "Best validation loss improved from 0.6526613593101501 to 0.6471375107765198\n",
      "\n",
      "\n",
      "Iteration 3/17 of epoch 17 complete. Loss : 0.3225700755914052 \n",
      "\n",
      "Iteration 6/17 of epoch 17 complete. Loss : 0.3219914635022481 \n",
      "\n",
      "Iteration 9/17 of epoch 17 complete. Loss : 0.3217116395632426 \n",
      "\n",
      "Iteration 12/17 of epoch 17 complete. Loss : 0.3161762058734894 \n",
      "\n",
      "Iteration 15/17 of epoch 17 complete. Loss : 0.3219241201877594 \n",
      "\n",
      "Epoch 17 complete! Validation Loss : 0.6414228439331054\n",
      "Epoch 17 complete! Validation Accuracy : 0.6801339285714285\n",
      "Best validation loss improved from 0.6471375107765198 to 0.6414228439331054\n",
      "\n"
     ]
    },
    {
     "name": "stderr",
     "output_type": "stream",
     "text": [
      "100%|██████████| 17/17 [00:00<00:00, 114.49it/s]\n",
      "100%|██████████| 5/5 [00:00<00:00, 207.85it/s]\n",
      "  0%|          | 0/17 [00:00<?, ?it/s]"
     ]
    },
    {
     "name": "stdout",
     "output_type": "stream",
     "text": [
      "\n",
      "Iteration 3/17 of epoch 18 complete. Loss : 0.31914307673772174 \n",
      "\n",
      "Iteration 6/17 of epoch 18 complete. Loss : 0.31528885165850323 \n",
      "\n",
      "Iteration 9/17 of epoch 18 complete. Loss : 0.3204660614331563 \n",
      "\n",
      "Iteration 12/17 of epoch 18 complete. Loss : 0.3178052504857381 \n",
      "\n",
      "Iteration 15/17 of epoch 18 complete. Loss : 0.3193853298823039 \n",
      "\n",
      "Epoch 18 complete! Validation Loss : 0.6359151244163513\n",
      "Epoch 18 complete! Validation Accuracy : 0.7506696428571429\n",
      "Best validation loss improved from 0.6414228439331054 to 0.6359151244163513\n",
      "\n",
      "\n",
      "Iteration 3/17 of epoch 19 complete. Loss : 0.31321918964385986 \n"
     ]
    },
    {
     "name": "stderr",
     "output_type": "stream",
     "text": [
      "100%|██████████| 17/17 [00:00<00:00, 113.35it/s]\n",
      "100%|██████████| 5/5 [00:00<00:00, 242.51it/s]\n",
      "  0%|          | 0/17 [00:00<?, ?it/s]"
     ]
    },
    {
     "name": "stdout",
     "output_type": "stream",
     "text": [
      "\n",
      "Iteration 6/17 of epoch 19 complete. Loss : 0.3228752513726552 \n",
      "\n",
      "Iteration 9/17 of epoch 19 complete. Loss : 0.3165682355562846 \n",
      "\n",
      "Iteration 12/17 of epoch 19 complete. Loss : 0.3099304735660553 \n",
      "\n",
      "Iteration 15/17 of epoch 19 complete. Loss : 0.30841683348019916 \n",
      "\n",
      "Epoch 19 complete! Validation Loss : 0.6294067025184631\n",
      "Epoch 19 complete! Validation Accuracy : 0.7319196428571428\n",
      "Best validation loss improved from 0.6359151244163513 to 0.6294067025184631\n",
      "\n",
      "\n",
      "Iteration 3/17 of epoch 20 complete. Loss : 0.3121928572654724 \n",
      "\n",
      "Iteration 6/17 of epoch 20 complete. Loss : 0.31479963660240173 \n"
     ]
    },
    {
     "name": "stderr",
     "output_type": "stream",
     "text": [
      "100%|██████████| 17/17 [00:00<00:00, 119.33it/s]\n",
      "100%|██████████| 5/5 [00:00<00:00, 200.63it/s]\n",
      "  0%|          | 0/17 [00:00<?, ?it/s]"
     ]
    },
    {
     "name": "stdout",
     "output_type": "stream",
     "text": [
      "\n",
      "Iteration 9/17 of epoch 20 complete. Loss : 0.3117876847585042 \n",
      "\n",
      "Iteration 12/17 of epoch 20 complete. Loss : 0.31103599071502686 \n",
      "\n",
      "Iteration 15/17 of epoch 20 complete. Loss : 0.310308704773585 \n",
      "\n",
      "Epoch 20 complete! Validation Loss : 0.6230916619300843\n",
      "Epoch 20 complete! Validation Accuracy : 0.7475446428571428\n",
      "Best validation loss improved from 0.6294067025184631 to 0.6230916619300843\n",
      "\n",
      "\n",
      "Iteration 3/17 of epoch 21 complete. Loss : 0.31629064679145813 \n",
      "\n",
      "Iteration 6/17 of epoch 21 complete. Loss : 0.310302197933197 \n",
      "\n",
      "Iteration 9/17 of epoch 21 complete. Loss : 0.3052576780319214 \n"
     ]
    },
    {
     "name": "stderr",
     "output_type": "stream",
     "text": [
      "100%|██████████| 17/17 [00:00<00:00, 112.14it/s]\n",
      "100%|██████████| 5/5 [00:00<00:00, 209.35it/s]\n",
      " 71%|███████   | 12/17 [00:00<00:00, 118.23it/s]"
     ]
    },
    {
     "name": "stdout",
     "output_type": "stream",
     "text": [
      "\n",
      "Iteration 12/17 of epoch 21 complete. Loss : 0.3062804838021596 \n",
      "\n",
      "Iteration 15/17 of epoch 21 complete. Loss : 0.30457905928293866 \n",
      "\n",
      "Epoch 21 complete! Validation Loss : 0.616258955001831\n",
      "Epoch 21 complete! Validation Accuracy : 0.7350446428571429\n",
      "Best validation loss improved from 0.6230916619300843 to 0.616258955001831\n",
      "\n",
      "\n",
      "Iteration 3/17 of epoch 22 complete. Loss : 0.30419286092122394 \n",
      "\n",
      "Iteration 6/17 of epoch 22 complete. Loss : 0.3104790349801381 \n",
      "\n",
      "Iteration 9/17 of epoch 22 complete. Loss : 0.3034570912520091 \n",
      "\n",
      "Iteration 12/17 of epoch 22 complete. Loss : 0.304694006840388 \n"
     ]
    },
    {
     "name": "stderr",
     "output_type": "stream",
     "text": [
      "100%|██████████| 17/17 [00:00<00:00, 118.17it/s]\n",
      "100%|██████████| 5/5 [00:00<00:00, 205.27it/s]\n",
      " 71%|███████   | 12/17 [00:00<00:00, 119.11it/s]"
     ]
    },
    {
     "name": "stdout",
     "output_type": "stream",
     "text": [
      "\n",
      "Iteration 15/17 of epoch 22 complete. Loss : 0.30055641134579975 \n",
      "\n",
      "Epoch 22 complete! Validation Loss : 0.6094997763633728\n",
      "Epoch 22 complete! Validation Accuracy : 0.7712053571428571\n",
      "Best validation loss improved from 0.616258955001831 to 0.6094997763633728\n",
      "\n",
      "\n",
      "Iteration 3/17 of epoch 23 complete. Loss : 0.29608654975891113 \n",
      "\n",
      "Iteration 6/17 of epoch 23 complete. Loss : 0.29723947246869403 \n",
      "\n",
      "Iteration 9/17 of epoch 23 complete. Loss : 0.3021966516971588 \n",
      "\n",
      "Iteration 12/17 of epoch 23 complete. Loss : 0.30468225479125977 \n",
      "\n",
      "Iteration 15/17 of epoch 23 complete. Loss : 0.3002866605917613 \n"
     ]
    },
    {
     "name": "stderr",
     "output_type": "stream",
     "text": [
      "100%|██████████| 17/17 [00:00<00:00, 120.31it/s]\n",
      "100%|██████████| 5/5 [00:00<00:00, 192.83it/s]\n",
      "100%|██████████| 17/17 [00:00<00:00, 116.88it/s]\n",
      "100%|██████████| 5/5 [00:00<00:00, 219.98it/s]\n"
     ]
    },
    {
     "name": "stdout",
     "output_type": "stream",
     "text": [
      "\n",
      "Epoch 23 complete! Validation Loss : 0.6019913792610169\n",
      "Epoch 23 complete! Validation Accuracy : 0.7428571428571429\n",
      "Best validation loss improved from 0.6094997763633728 to 0.6019913792610169\n",
      "\n",
      "\n",
      "Iteration 3/17 of epoch 24 complete. Loss : 0.2987979253133138 \n",
      "\n",
      "Iteration 6/17 of epoch 24 complete. Loss : 0.29711904128392536 \n",
      "\n",
      "Iteration 9/17 of epoch 24 complete. Loss : 0.29457847277323407 \n",
      "\n",
      "Iteration 12/17 of epoch 24 complete. Loss : 0.2925262749195099 \n",
      "\n",
      "Iteration 15/17 of epoch 24 complete. Loss : 0.30347271760304767 \n",
      "\n",
      "Epoch 24 complete! Validation Loss : 0.5957685947418213\n",
      "Epoch 24 complete! Validation Accuracy : 0.7696428571428571\n",
      "Best validation loss improved from 0.6019913792610169 to 0.5957685947418213\n",
      "\n"
     ]
    },
    {
     "name": "stderr",
     "output_type": "stream",
     "text": [
      "100%|██████████| 17/17 [00:00<00:00, 121.24it/s]\n",
      "100%|██████████| 5/5 [00:00<00:00, 247.77it/s]\n",
      "  0%|          | 0/17 [00:00<?, ?it/s]"
     ]
    },
    {
     "name": "stdout",
     "output_type": "stream",
     "text": [
      "\n",
      "Iteration 3/17 of epoch 25 complete. Loss : 0.2881077627340953 \n",
      "\n",
      "Iteration 6/17 of epoch 25 complete. Loss : 0.2950594226519267 \n",
      "\n",
      "Iteration 9/17 of epoch 25 complete. Loss : 0.29141480724016827 \n",
      "\n",
      "Iteration 12/17 of epoch 25 complete. Loss : 0.29128482937812805 \n",
      "\n",
      "Iteration 15/17 of epoch 25 complete. Loss : 0.29841015736262005 \n",
      "\n",
      "Epoch 25 complete! Validation Loss : 0.5875497221946716\n",
      "Epoch 25 complete! Validation Accuracy : 0.7459821428571429\n",
      "Best validation loss improved from 0.5957685947418213 to 0.5875497221946716\n",
      "\n",
      "\n",
      "Iteration 3/17 of epoch 26 complete. Loss : 0.2911893328030904 \n"
     ]
    },
    {
     "name": "stderr",
     "output_type": "stream",
     "text": [
      "100%|██████████| 17/17 [00:00<00:00, 130.79it/s]\n",
      "100%|██████████| 5/5 [00:00<00:00, 260.72it/s]\n",
      "  0%|          | 0/17 [00:00<?, ?it/s]"
     ]
    },
    {
     "name": "stdout",
     "output_type": "stream",
     "text": [
      "\n",
      "Iteration 6/17 of epoch 26 complete. Loss : 0.28819600741068524 \n",
      "\n",
      "Iteration 9/17 of epoch 26 complete. Loss : 0.29232199986775714 \n",
      "\n",
      "Iteration 12/17 of epoch 26 complete. Loss : 0.2945876121520996 \n",
      "\n",
      "Iteration 15/17 of epoch 26 complete. Loss : 0.2826479474703471 \n",
      "\n",
      "Epoch 26 complete! Validation Loss : 0.5801453232765198\n",
      "Epoch 26 complete! Validation Accuracy : 0.7712053571428571\n",
      "Best validation loss improved from 0.5875497221946716 to 0.5801453232765198\n",
      "\n",
      "\n",
      "Iteration 3/17 of epoch 27 complete. Loss : 0.28261804580688477 \n",
      "\n",
      "Iteration 6/17 of epoch 27 complete. Loss : 0.2822813888390859 \n",
      "\n",
      "Iteration 9/17 of epoch 27 complete. Loss : 0.2808925012747447 \n"
     ]
    },
    {
     "name": "stderr",
     "output_type": "stream",
     "text": [
      "100%|██████████| 17/17 [00:00<00:00, 139.57it/s]\n",
      "100%|██████████| 5/5 [00:00<00:00, 254.53it/s]\n",
      " 82%|████████▏ | 14/17 [00:00<00:00, 135.15it/s]"
     ]
    },
    {
     "name": "stdout",
     "output_type": "stream",
     "text": [
      "\n",
      "Iteration 12/17 of epoch 27 complete. Loss : 0.2903793851534526 \n",
      "\n",
      "Iteration 15/17 of epoch 27 complete. Loss : 0.2862720787525177 \n",
      "\n",
      "Epoch 27 complete! Validation Loss : 0.5726782441139221\n",
      "Epoch 27 complete! Validation Accuracy : 0.7743303571428571\n",
      "Best validation loss improved from 0.5801453232765198 to 0.5726782441139221\n",
      "\n",
      "\n",
      "Iteration 3/17 of epoch 28 complete. Loss : 0.28323159615198773 \n",
      "\n",
      "Iteration 6/17 of epoch 28 complete. Loss : 0.28097187479337055 \n",
      "\n",
      "Iteration 9/17 of epoch 28 complete. Loss : 0.28965457280476886 \n",
      "\n",
      "Iteration 12/17 of epoch 28 complete. Loss : 0.27609192331631977 \n",
      "\n",
      "Iteration 15/17 of epoch 28 complete. Loss : 0.2789734403292338 \n"
     ]
    },
    {
     "name": "stderr",
     "output_type": "stream",
     "text": [
      "100%|██████████| 17/17 [00:00<00:00, 137.14it/s]\n",
      "100%|██████████| 5/5 [00:00<00:00, 285.88it/s]\n",
      "100%|██████████| 17/17 [00:00<00:00, 135.49it/s]\n",
      "100%|██████████| 5/5 [00:00<00:00, 303.48it/s]\n",
      "  0%|          | 0/17 [00:00<?, ?it/s]"
     ]
    },
    {
     "name": "stdout",
     "output_type": "stream",
     "text": [
      "\n",
      "Epoch 28 complete! Validation Loss : 0.5647494792938232\n",
      "Epoch 28 complete! Validation Accuracy : 0.7727678571428571\n",
      "Best validation loss improved from 0.5726782441139221 to 0.5647494792938232\n",
      "\n",
      "\n",
      "Iteration 3/17 of epoch 29 complete. Loss : 0.27987977862358093 \n",
      "\n",
      "Iteration 6/17 of epoch 29 complete. Loss : 0.2801288962364197 \n",
      "\n",
      "Iteration 9/17 of epoch 29 complete. Loss : 0.26969437797864276 \n",
      "\n",
      "Iteration 12/17 of epoch 29 complete. Loss : 0.27780089775721234 \n",
      "\n",
      "Iteration 15/17 of epoch 29 complete. Loss : 0.2723151346047719 \n",
      "\n",
      "Epoch 29 complete! Validation Loss : 0.5572234392166138\n",
      "Epoch 29 complete! Validation Accuracy : 0.7727678571428571\n",
      "Best validation loss improved from 0.5647494792938232 to 0.5572234392166138\n",
      "\n",
      "\n",
      "Iteration 3/17 of epoch 30 complete. Loss : 0.27446500460306805 \n"
     ]
    },
    {
     "name": "stderr",
     "output_type": "stream",
     "text": [
      "100%|██████████| 17/17 [00:00<00:00, 136.85it/s]\n",
      "100%|██████████| 5/5 [00:00<00:00, 257.87it/s]\n",
      "  0%|          | 0/17 [00:00<?, ?it/s]"
     ]
    },
    {
     "name": "stdout",
     "output_type": "stream",
     "text": [
      "\n",
      "Iteration 6/17 of epoch 30 complete. Loss : 0.27324604988098145 \n",
      "\n",
      "Iteration 9/17 of epoch 30 complete. Loss : 0.27294259270032245 \n",
      "\n",
      "Iteration 12/17 of epoch 30 complete. Loss : 0.2823004126548767 \n",
      "\n",
      "Iteration 15/17 of epoch 30 complete. Loss : 0.2663836379845937 \n",
      "\n",
      "Epoch 30 complete! Validation Loss : 0.5503129243850708\n",
      "Epoch 30 complete! Validation Accuracy : 0.7837053571428572\n",
      "Best validation loss improved from 0.5572234392166138 to 0.5503129243850708\n",
      "\n",
      "\n",
      "Iteration 3/17 of epoch 31 complete. Loss : 0.27283334732055664 \n",
      "\n",
      "Iteration 6/17 of epoch 31 complete. Loss : 0.2672881285349528 \n",
      "\n",
      "Iteration 9/17 of epoch 31 complete. Loss : 0.2685071925322215 \n"
     ]
    },
    {
     "name": "stderr",
     "output_type": "stream",
     "text": [
      "100%|██████████| 17/17 [00:00<00:00, 126.64it/s]\n",
      "100%|██████████| 5/5 [00:00<00:00, 255.09it/s]\n",
      " 82%|████████▏ | 14/17 [00:00<00:00, 129.11it/s]"
     ]
    },
    {
     "name": "stdout",
     "output_type": "stream",
     "text": [
      "\n",
      "Iteration 12/17 of epoch 31 complete. Loss : 0.27280577023824054 \n",
      "\n",
      "Iteration 15/17 of epoch 31 complete. Loss : 0.26413943370183307 \n",
      "\n",
      "Epoch 31 complete! Validation Loss : 0.5426774740219116\n",
      "Epoch 31 complete! Validation Accuracy : 0.7774553571428571\n",
      "Best validation loss improved from 0.5503129243850708 to 0.5426774740219116\n",
      "\n",
      "\n",
      "Iteration 3/17 of epoch 32 complete. Loss : 0.2632347544034322 \n",
      "\n",
      "Iteration 6/17 of epoch 32 complete. Loss : 0.26813530921936035 \n",
      "\n",
      "Iteration 9/17 of epoch 32 complete. Loss : 0.265798678000768 \n",
      "\n",
      "Iteration 12/17 of epoch 32 complete. Loss : 0.24924336373806 \n",
      "\n",
      "Iteration 15/17 of epoch 32 complete. Loss : 0.2668355305989583 \n"
     ]
    },
    {
     "name": "stderr",
     "output_type": "stream",
     "text": [
      "100%|██████████| 17/17 [00:00<00:00, 128.98it/s]\n",
      "100%|██████████| 5/5 [00:00<00:00, 214.87it/s]\n",
      "100%|██████████| 17/17 [00:00<00:00, 139.42it/s]\n",
      "100%|██████████| 5/5 [00:00<00:00, 264.54it/s]\n",
      "  0%|          | 0/17 [00:00<?, ?it/s]"
     ]
    },
    {
     "name": "stdout",
     "output_type": "stream",
     "text": [
      "\n",
      "Epoch 32 complete! Validation Loss : 0.5360059201717376\n",
      "Epoch 32 complete! Validation Accuracy : 0.7868303571428571\n",
      "Best validation loss improved from 0.5426774740219116 to 0.5360059201717376\n",
      "\n",
      "\n",
      "Iteration 3/17 of epoch 33 complete. Loss : 0.26450033982594806 \n",
      "\n",
      "Iteration 6/17 of epoch 33 complete. Loss : 0.2757551074028015 \n",
      "\n",
      "Iteration 9/17 of epoch 33 complete. Loss : 0.25776568551858264 \n",
      "\n",
      "Iteration 12/17 of epoch 33 complete. Loss : 0.24586895108222961 \n",
      "\n",
      "Iteration 15/17 of epoch 33 complete. Loss : 0.26271286606788635 \n",
      "\n",
      "Epoch 33 complete! Validation Loss : 0.529210501909256\n",
      "Epoch 33 complete! Validation Accuracy : 0.7899553571428571\n",
      "Best validation loss improved from 0.5360059201717376 to 0.529210501909256\n",
      "\n",
      "\n",
      "Iteration 3/17 of epoch 34 complete. Loss : 0.25847644607226056 \n"
     ]
    },
    {
     "name": "stderr",
     "output_type": "stream",
     "text": [
      "100%|██████████| 17/17 [00:00<00:00, 131.83it/s]\n",
      "100%|██████████| 5/5 [00:00<00:00, 297.92it/s]\n",
      "  0%|          | 0/17 [00:00<?, ?it/s]"
     ]
    },
    {
     "name": "stdout",
     "output_type": "stream",
     "text": [
      "\n",
      "Iteration 6/17 of epoch 34 complete. Loss : 0.26260008414586383 \n",
      "\n",
      "Iteration 9/17 of epoch 34 complete. Loss : 0.25045955181121826 \n",
      "\n",
      "Iteration 12/17 of epoch 34 complete. Loss : 0.2556363840897878 \n",
      "\n",
      "Iteration 15/17 of epoch 34 complete. Loss : 0.2549088845650355 \n",
      "\n",
      "Epoch 34 complete! Validation Loss : 0.5229746758937835\n",
      "Epoch 34 complete! Validation Accuracy : 0.7962053571428571\n",
      "Best validation loss improved from 0.529210501909256 to 0.5229746758937835\n",
      "\n",
      "\n",
      "Iteration 3/17 of epoch 35 complete. Loss : 0.2422376573085785 \n",
      "\n",
      "Iteration 6/17 of epoch 35 complete. Loss : 0.26116550465424854 \n",
      "\n",
      "Iteration 9/17 of epoch 35 complete. Loss : 0.2571014016866684 \n"
     ]
    },
    {
     "name": "stderr",
     "output_type": "stream",
     "text": [
      "100%|██████████| 17/17 [00:00<00:00, 137.30it/s]\n",
      "100%|██████████| 5/5 [00:00<00:00, 216.71it/s]\n",
      "100%|██████████| 17/17 [00:00<00:00, 139.80it/s]"
     ]
    },
    {
     "name": "stdout",
     "output_type": "stream",
     "text": [
      "\n",
      "Iteration 12/17 of epoch 35 complete. Loss : 0.25477493306001026 \n",
      "\n",
      "Iteration 15/17 of epoch 35 complete. Loss : 0.2591279645760854 \n",
      "\n",
      "Epoch 35 complete! Validation Loss : 0.5166715681552887\n",
      "Epoch 35 complete! Validation Accuracy : 0.7868303571428571\n",
      "Best validation loss improved from 0.5229746758937835 to 0.5166715681552887\n",
      "\n",
      "\n",
      "Iteration 3/17 of epoch 36 complete. Loss : 0.25259970625241596 \n",
      "\n",
      "Iteration 6/17 of epoch 36 complete. Loss : 0.2643502453962962 \n",
      "\n",
      "Iteration 9/17 of epoch 36 complete. Loss : 0.24716140826543173 \n",
      "\n",
      "Iteration 12/17 of epoch 36 complete. Loss : 0.23436620831489563 \n",
      "\n",
      "Iteration 15/17 of epoch 36 complete. Loss : 0.2606422007083893 \n"
     ]
    },
    {
     "name": "stderr",
     "output_type": "stream",
     "text": [
      "\n",
      "100%|██████████| 5/5 [00:00<00:00, 254.96it/s]\n",
      "100%|██████████| 17/17 [00:00<00:00, 130.33it/s]\n",
      "100%|██████████| 5/5 [00:00<00:00, 277.38it/s]\n",
      "  0%|          | 0/17 [00:00<?, ?it/s]"
     ]
    },
    {
     "name": "stdout",
     "output_type": "stream",
     "text": [
      "\n",
      "Epoch 36 complete! Validation Loss : 0.5110311627388\n",
      "Epoch 36 complete! Validation Accuracy : 0.7977678571428571\n",
      "Best validation loss improved from 0.5166715681552887 to 0.5110311627388\n",
      "\n",
      "\n",
      "Iteration 3/17 of epoch 37 complete. Loss : 0.2511156251033147 \n",
      "\n",
      "Iteration 6/17 of epoch 37 complete. Loss : 0.24538404246171316 \n",
      "\n",
      "Iteration 9/17 of epoch 37 complete. Loss : 0.24490620692571005 \n",
      "\n",
      "Iteration 12/17 of epoch 37 complete. Loss : 0.24908389151096344 \n",
      "\n",
      "Iteration 15/17 of epoch 37 complete. Loss : 0.25632845362027484 \n",
      "\n",
      "Epoch 37 complete! Validation Loss : 0.5052839040756225\n",
      "Epoch 37 complete! Validation Accuracy : 0.7899553571428571\n",
      "Best validation loss improved from 0.5110311627388 to 0.5052839040756225\n",
      "\n",
      "\n",
      "Iteration 3/17 of epoch 38 complete. Loss : 0.23183621962865195 \n"
     ]
    },
    {
     "name": "stderr",
     "output_type": "stream",
     "text": [
      "100%|██████████| 17/17 [00:00<00:00, 138.84it/s]\n",
      "100%|██████████| 5/5 [00:00<00:00, 296.67it/s]\n",
      "  0%|          | 0/17 [00:00<?, ?it/s]"
     ]
    },
    {
     "name": "stdout",
     "output_type": "stream",
     "text": [
      "\n",
      "Iteration 6/17 of epoch 38 complete. Loss : 0.25080613295237225 \n",
      "\n",
      "Iteration 9/17 of epoch 38 complete. Loss : 0.23219898839791617 \n",
      "\n",
      "Iteration 12/17 of epoch 38 complete. Loss : 0.25153809785842896 \n",
      "\n",
      "Iteration 15/17 of epoch 38 complete. Loss : 0.2480809191862742 \n",
      "\n",
      "Epoch 38 complete! Validation Loss : 0.500815087556839\n",
      "Epoch 38 complete! Validation Accuracy : 0.7993303571428572\n",
      "Best validation loss improved from 0.5052839040756225 to 0.500815087556839\n",
      "\n",
      "\n",
      "Iteration 3/17 of epoch 39 complete. Loss : 0.23531586428483328 \n",
      "\n",
      "Iteration 6/17 of epoch 39 complete. Loss : 0.2544705768426259 \n",
      "\n",
      "Iteration 9/17 of epoch 39 complete. Loss : 0.24682302276293436 \n"
     ]
    },
    {
     "name": "stderr",
     "output_type": "stream",
     "text": [
      "100%|██████████| 17/17 [00:00<00:00, 135.66it/s]\n",
      "100%|██████████| 5/5 [00:00<00:00, 221.23it/s]\n",
      "100%|██████████| 17/17 [00:00<00:00, 142.92it/s]"
     ]
    },
    {
     "name": "stdout",
     "output_type": "stream",
     "text": [
      "\n",
      "Iteration 12/17 of epoch 39 complete. Loss : 0.2380060205856959 \n",
      "\n",
      "Iteration 15/17 of epoch 39 complete. Loss : 0.22927906115849814 \n",
      "\n",
      "Epoch 39 complete! Validation Loss : 0.4955760180950165\n",
      "Epoch 39 complete! Validation Accuracy : 0.7883928571428571\n",
      "Best validation loss improved from 0.500815087556839 to 0.4955760180950165\n",
      "\n",
      "\n",
      "Iteration 3/17 of epoch 40 complete. Loss : 0.24147307376066843 \n",
      "\n",
      "Iteration 6/17 of epoch 40 complete. Loss : 0.22689386208852133 \n",
      "\n",
      "Iteration 9/17 of epoch 40 complete. Loss : 0.24514606595039368 \n",
      "\n",
      "Iteration 12/17 of epoch 40 complete. Loss : 0.2466284235318502 \n",
      "\n",
      "Iteration 15/17 of epoch 40 complete. Loss : 0.2412087321281433 \n"
     ]
    },
    {
     "name": "stderr",
     "output_type": "stream",
     "text": [
      "\n",
      "100%|██████████| 5/5 [00:00<00:00, 267.75it/s]\n",
      "100%|██████████| 17/17 [00:00<00:00, 139.99it/s]\n",
      "100%|██████████| 5/5 [00:00<00:00, 303.26it/s]\n",
      "  0%|          | 0/17 [00:00<?, ?it/s]"
     ]
    },
    {
     "name": "stdout",
     "output_type": "stream",
     "text": [
      "\n",
      "Epoch 40 complete! Validation Loss : 0.49091646671295164\n",
      "Epoch 40 complete! Validation Accuracy : 0.8008928571428571\n",
      "Best validation loss improved from 0.4955760180950165 to 0.49091646671295164\n",
      "\n",
      "\n",
      "Iteration 3/17 of epoch 41 complete. Loss : 0.22647706170876822 \n",
      "\n",
      "Iteration 6/17 of epoch 41 complete. Loss : 0.24522055685520172 \n",
      "\n",
      "Iteration 9/17 of epoch 41 complete. Loss : 0.2479660858710607 \n",
      "\n",
      "Iteration 12/17 of epoch 41 complete. Loss : 0.23395821948846182 \n",
      "\n",
      "Iteration 15/17 of epoch 41 complete. Loss : 0.2158434440692266 \n",
      "\n",
      "Epoch 41 complete! Validation Loss : 0.48577389121055603\n",
      "Epoch 41 complete! Validation Accuracy : 0.7915178571428572\n",
      "Best validation loss improved from 0.49091646671295164 to 0.48577389121055603\n",
      "\n",
      "\n",
      "Iteration 3/17 of epoch 42 complete. Loss : 0.23843728005886078 \n"
     ]
    },
    {
     "name": "stderr",
     "output_type": "stream",
     "text": [
      "100%|██████████| 17/17 [00:00<00:00, 130.83it/s]\n",
      "100%|██████████| 5/5 [00:00<00:00, 253.97it/s]\n",
      "  0%|          | 0/17 [00:00<?, ?it/s]"
     ]
    },
    {
     "name": "stdout",
     "output_type": "stream",
     "text": [
      "\n",
      "Iteration 6/17 of epoch 42 complete. Loss : 0.24048899610837302 \n",
      "\n",
      "Iteration 9/17 of epoch 42 complete. Loss : 0.22336686650911966 \n",
      "\n",
      "Iteration 12/17 of epoch 42 complete. Loss : 0.24246739347775778 \n",
      "\n",
      "Iteration 15/17 of epoch 42 complete. Loss : 0.22244315346082053 \n",
      "\n",
      "Epoch 42 complete! Validation Loss : 0.4814590513706207\n",
      "Epoch 42 complete! Validation Accuracy : 0.7977678571428571\n",
      "Best validation loss improved from 0.48577389121055603 to 0.4814590513706207\n",
      "\n",
      "\n",
      "Iteration 3/17 of epoch 43 complete. Loss : 0.24313437441984811 \n",
      "\n",
      "Iteration 6/17 of epoch 43 complete. Loss : 0.22880263129870096 \n",
      "\n",
      "Iteration 9/17 of epoch 43 complete. Loss : 0.23999095956484476 \n"
     ]
    },
    {
     "name": "stderr",
     "output_type": "stream",
     "text": [
      "100%|██████████| 17/17 [00:00<00:00, 138.95it/s]\n",
      "100%|██████████| 5/5 [00:00<00:00, 235.48it/s]\n",
      " 82%|████████▏ | 14/17 [00:00<00:00, 131.43it/s]"
     ]
    },
    {
     "name": "stdout",
     "output_type": "stream",
     "text": [
      "\n",
      "Iteration 12/17 of epoch 43 complete. Loss : 0.2261636753877004 \n",
      "\n",
      "Iteration 15/17 of epoch 43 complete. Loss : 0.21435877680778503 \n",
      "\n",
      "Epoch 43 complete! Validation Loss : 0.47740286588668823\n",
      "Epoch 43 complete! Validation Accuracy : 0.7977678571428571\n",
      "Best validation loss improved from 0.4814590513706207 to 0.47740286588668823\n",
      "\n",
      "\n",
      "Iteration 3/17 of epoch 44 complete. Loss : 0.24121410151322684 \n",
      "\n",
      "Iteration 6/17 of epoch 44 complete. Loss : 0.2206134001413981 \n",
      "\n",
      "Iteration 9/17 of epoch 44 complete. Loss : 0.22056531409422556 \n",
      "\n",
      "Iteration 12/17 of epoch 44 complete. Loss : 0.22406627734502158 \n",
      "\n",
      "Iteration 15/17 of epoch 44 complete. Loss : 0.22726085285345712 \n"
     ]
    },
    {
     "name": "stderr",
     "output_type": "stream",
     "text": [
      "100%|██████████| 17/17 [00:00<00:00, 132.90it/s]\n",
      "100%|██████████| 5/5 [00:00<00:00, 217.44it/s]\n",
      "100%|██████████| 17/17 [00:00<00:00, 137.61it/s]\n",
      "100%|██████████| 5/5 [00:00<00:00, 239.33it/s]\n",
      "  0%|          | 0/17 [00:00<?, ?it/s]"
     ]
    },
    {
     "name": "stdout",
     "output_type": "stream",
     "text": [
      "\n",
      "Epoch 44 complete! Validation Loss : 0.4738972544670105\n",
      "Epoch 44 complete! Validation Accuracy : 0.8167410714285713\n",
      "Best validation loss improved from 0.47740286588668823 to 0.4738972544670105\n",
      "\n",
      "\n",
      "Iteration 3/17 of epoch 45 complete. Loss : 0.21013702948888144 \n",
      "\n",
      "Iteration 6/17 of epoch 45 complete. Loss : 0.22855245570341745 \n",
      "\n",
      "Iteration 9/17 of epoch 45 complete. Loss : 0.22621609767278036 \n",
      "\n",
      "Iteration 12/17 of epoch 45 complete. Loss : 0.22470450898011526 \n",
      "\n",
      "Iteration 15/17 of epoch 45 complete. Loss : 0.2431123654047648 \n",
      "\n",
      "Epoch 45 complete! Validation Loss : 0.4723340094089508\n",
      "Epoch 45 complete! Validation Accuracy : 0.7883928571428571\n",
      "Best validation loss improved from 0.4738972544670105 to 0.4723340094089508\n",
      "\n",
      "\n",
      "Iteration 3/17 of epoch 46 complete. Loss : 0.2182321399450302 \n"
     ]
    },
    {
     "name": "stderr",
     "output_type": "stream",
     "text": [
      "100%|██████████| 17/17 [00:00<00:00, 123.63it/s]\n",
      "100%|██████████| 5/5 [00:00<00:00, 259.97it/s]\n",
      "  0%|          | 0/17 [00:00<?, ?it/s]"
     ]
    },
    {
     "name": "stdout",
     "output_type": "stream",
     "text": [
      "\n",
      "Iteration 6/17 of epoch 46 complete. Loss : 0.24552742640177408 \n",
      "\n",
      "Iteration 9/17 of epoch 46 complete. Loss : 0.222540612022082 \n",
      "\n",
      "Iteration 12/17 of epoch 46 complete. Loss : 0.22017859915892282 \n",
      "\n",
      "Iteration 15/17 of epoch 46 complete. Loss : 0.21039308607578278 \n",
      "\n",
      "Epoch 46 complete! Validation Loss : 0.46759010553359986\n",
      "Epoch 46 complete! Validation Accuracy : 0.8245535714285713\n",
      "Best validation loss improved from 0.4723340094089508 to 0.46759010553359986\n",
      "\n",
      "\n",
      "Iteration 3/17 of epoch 47 complete. Loss : 0.2040583292643229 \n",
      "\n",
      "Iteration 6/17 of epoch 47 complete. Loss : 0.22033751010894775 \n"
     ]
    },
    {
     "name": "stderr",
     "output_type": "stream",
     "text": [
      "100%|██████████| 17/17 [00:00<00:00, 131.42it/s]\n",
      "100%|██████████| 5/5 [00:00<00:00, 247.44it/s]\n",
      "  0%|          | 0/17 [00:00<?, ?it/s]"
     ]
    },
    {
     "name": "stdout",
     "output_type": "stream",
     "text": [
      "\n",
      "Iteration 9/17 of epoch 47 complete. Loss : 0.23502630492051443 \n",
      "\n",
      "Iteration 12/17 of epoch 47 complete. Loss : 0.22372775276501974 \n",
      "\n",
      "Iteration 15/17 of epoch 47 complete. Loss : 0.22871903578440347 \n",
      "\n",
      "Epoch 47 complete! Validation Loss : 0.4626347482204437\n",
      "Epoch 47 complete! Validation Accuracy : 0.8167410714285713\n",
      "Best validation loss improved from 0.46759010553359986 to 0.4626347482204437\n",
      "\n",
      "\n",
      "Iteration 3/17 of epoch 48 complete. Loss : 0.20840687056382498 \n",
      "\n",
      "Iteration 6/17 of epoch 48 complete. Loss : 0.22056519985198975 \n",
      "\n",
      "Iteration 9/17 of epoch 48 complete. Loss : 0.22015306850274405 \n",
      "\n",
      "Iteration 12/17 of epoch 48 complete. Loss : 0.2439895967642466 \n"
     ]
    },
    {
     "name": "stderr",
     "output_type": "stream",
     "text": [
      "100%|██████████| 17/17 [00:00<00:00, 138.38it/s]\n",
      "100%|██████████| 5/5 [00:00<00:00, 265.29it/s]\n",
      " 71%|███████   | 12/17 [00:00<00:00, 115.10it/s]"
     ]
    },
    {
     "name": "stdout",
     "output_type": "stream",
     "text": [
      "\n",
      "Iteration 15/17 of epoch 48 complete. Loss : 0.2235491822163264 \n",
      "\n",
      "Epoch 48 complete! Validation Loss : 0.4599659502506256\n",
      "Epoch 48 complete! Validation Accuracy : 0.8120535714285714\n",
      "Best validation loss improved from 0.4626347482204437 to 0.4599659502506256\n",
      "\n",
      "\n",
      "Iteration 3/17 of epoch 49 complete. Loss : 0.21732479830582938 \n",
      "\n",
      "Iteration 6/17 of epoch 49 complete. Loss : 0.23154740035533905 \n",
      "\n",
      "Iteration 9/17 of epoch 49 complete. Loss : 0.20799848437309265 \n",
      "\n",
      "Iteration 12/17 of epoch 49 complete. Loss : 0.22692354023456573 \n",
      "\n",
      "Iteration 15/17 of epoch 49 complete. Loss : 0.20538469652334848 \n"
     ]
    },
    {
     "name": "stderr",
     "output_type": "stream",
     "text": [
      "100%|██████████| 17/17 [00:00<00:00, 110.78it/s]\n",
      "100%|██████████| 5/5 [00:00<00:00, 232.57it/s]\n",
      "100%|██████████| 17/17 [00:00<00:00, 126.15it/s]\n",
      "100%|██████████| 5/5 [00:00<00:00, 219.51it/s]\n",
      "  0%|          | 0/17 [00:00<?, ?it/s]"
     ]
    },
    {
     "name": "stdout",
     "output_type": "stream",
     "text": [
      "\n",
      "Epoch 49 complete! Validation Loss : 0.4561924397945404\n",
      "Epoch 49 complete! Validation Accuracy : 0.8198660714285714\n",
      "Best validation loss improved from 0.4599659502506256 to 0.4561924397945404\n",
      "\n",
      "\n",
      "Iteration 3/17 of epoch 50 complete. Loss : 0.23047534624735513 \n",
      "\n",
      "Iteration 6/17 of epoch 50 complete. Loss : 0.23094768822193146 \n",
      "\n",
      "Iteration 9/17 of epoch 50 complete. Loss : 0.21651169657707214 \n",
      "\n",
      "Iteration 12/17 of epoch 50 complete. Loss : 0.19816639026006064 \n",
      "\n",
      "Iteration 15/17 of epoch 50 complete. Loss : 0.19972393413384756 \n",
      "\n",
      "Epoch 50 complete! Validation Loss : 0.4572768986225128\n",
      "Epoch 50 complete! Validation Accuracy : 0.8292410714285714\n"
     ]
    },
    {
     "name": "stderr",
     "output_type": "stream",
     "text": [
      "100%|██████████| 17/17 [00:00<00:00, 126.42it/s]\n",
      "100%|██████████| 5/5 [00:00<00:00, 225.27it/s]\n",
      "  0%|          | 0/17 [00:00<?, ?it/s]"
     ]
    },
    {
     "name": "stdout",
     "output_type": "stream",
     "text": [
      "\n",
      "Iteration 3/17 of epoch 51 complete. Loss : 0.220272496342659 \n",
      "\n",
      "Iteration 6/17 of epoch 51 complete. Loss : 0.22023092210292816 \n",
      "\n",
      "Iteration 9/17 of epoch 51 complete. Loss : 0.2149920811255773 \n",
      "\n",
      "Iteration 12/17 of epoch 51 complete. Loss : 0.20795774459838867 \n",
      "\n",
      "Iteration 15/17 of epoch 51 complete. Loss : 0.22083501517772675 \n",
      "\n",
      "Epoch 51 complete! Validation Loss : 0.4504023015499115\n",
      "Epoch 51 complete! Validation Accuracy : 0.8214285714285714\n",
      "Best validation loss improved from 0.4561924397945404 to 0.4504023015499115\n",
      "\n",
      "\n",
      "Iteration 3/17 of epoch 52 complete. Loss : 0.21473087867101034 \n",
      "\n",
      "Iteration 6/17 of epoch 52 complete. Loss : 0.20189284284909567 \n"
     ]
    },
    {
     "name": "stderr",
     "output_type": "stream",
     "text": [
      "100%|██████████| 17/17 [00:00<00:00, 136.82it/s]\n",
      "100%|██████████| 5/5 [00:00<00:00, 214.43it/s]\n",
      "  0%|          | 0/17 [00:00<?, ?it/s]"
     ]
    },
    {
     "name": "stdout",
     "output_type": "stream",
     "text": [
      "\n",
      "Iteration 9/17 of epoch 52 complete. Loss : 0.21973209083080292 \n",
      "\n",
      "Iteration 12/17 of epoch 52 complete. Loss : 0.19528536995251974 \n",
      "\n",
      "Iteration 15/17 of epoch 52 complete. Loss : 0.22369663417339325 \n",
      "\n",
      "Epoch 52 complete! Validation Loss : 0.4479138970375061\n",
      "Epoch 52 complete! Validation Accuracy : 0.8136160714285714\n",
      "Best validation loss improved from 0.4504023015499115 to 0.4479138970375061\n",
      "\n",
      "\n",
      "Iteration 3/17 of epoch 53 complete. Loss : 0.21055367092291513 \n",
      "\n",
      "Iteration 6/17 of epoch 53 complete. Loss : 0.21622412900129953 \n",
      "\n",
      "Iteration 9/17 of epoch 53 complete. Loss : 0.20239651699860892 \n",
      "\n",
      "Iteration 12/17 of epoch 53 complete. Loss : 0.19925210376580557 \n"
     ]
    },
    {
     "name": "stderr",
     "output_type": "stream",
     "text": [
      "100%|██████████| 17/17 [00:00<00:00, 129.85it/s]\n",
      "100%|██████████| 5/5 [00:00<00:00, 228.49it/s]\n",
      "100%|██████████| 17/17 [00:00<00:00, 138.36it/s]\n",
      "100%|██████████| 5/5 [00:00<00:00, 267.63it/s]"
     ]
    },
    {
     "name": "stdout",
     "output_type": "stream",
     "text": [
      "\n",
      "Iteration 15/17 of epoch 53 complete. Loss : 0.23283650477727255 \n",
      "\n",
      "Epoch 53 complete! Validation Loss : 0.44919210076332095\n",
      "Epoch 53 complete! Validation Accuracy : 0.8323660714285713\n",
      "\n",
      "Iteration 3/17 of epoch 54 complete. Loss : 0.20806952317555746 \n",
      "\n",
      "Iteration 6/17 of epoch 54 complete. Loss : 0.21033080418904623 \n",
      "\n",
      "Iteration 9/17 of epoch 54 complete. Loss : 0.199537992477417 \n",
      "\n",
      "Iteration 12/17 of epoch 54 complete. Loss : 0.21114363769690195 \n",
      "\n",
      "Iteration 15/17 of epoch 54 complete. Loss : 0.21288526554902396 \n"
     ]
    },
    {
     "name": "stderr",
     "output_type": "stream",
     "text": [
      "\n",
      "100%|██████████| 17/17 [00:00<00:00, 139.66it/s]\n",
      "100%|██████████| 5/5 [00:00<00:00, 276.64it/s]\n",
      "  0%|          | 0/17 [00:00<?, ?it/s]"
     ]
    },
    {
     "name": "stdout",
     "output_type": "stream",
     "text": [
      "\n",
      "Epoch 54 complete! Validation Loss : 0.44073126316070554\n",
      "Epoch 54 complete! Validation Accuracy : 0.8245535714285713\n",
      "Best validation loss improved from 0.4479138970375061 to 0.44073126316070554\n",
      "\n",
      "\n",
      "Iteration 3/17 of epoch 55 complete. Loss : 0.20327706138292947 \n",
      "\n",
      "Iteration 6/17 of epoch 55 complete. Loss : 0.21691740055878958 \n",
      "\n",
      "Iteration 9/17 of epoch 55 complete. Loss : 0.1981376608212789 \n",
      "\n",
      "Iteration 12/17 of epoch 55 complete. Loss : 0.2114604264497757 \n",
      "\n",
      "Iteration 15/17 of epoch 55 complete. Loss : 0.21238539616266885 \n",
      "\n",
      "Epoch 55 complete! Validation Loss : 0.4384389638900757\n",
      "Epoch 55 complete! Validation Accuracy : 0.8229910714285713\n",
      "Best validation loss improved from 0.44073126316070554 to 0.4384389638900757\n",
      "\n",
      "\n",
      "Iteration 3/17 of epoch 56 complete. Loss : 0.2196027934551239 \n"
     ]
    },
    {
     "name": "stderr",
     "output_type": "stream",
     "text": [
      "100%|██████████| 17/17 [00:00<00:00, 137.74it/s]\n",
      "100%|██████████| 5/5 [00:00<00:00, 280.08it/s]\n",
      "  0%|          | 0/17 [00:00<?, ?it/s]"
     ]
    },
    {
     "name": "stdout",
     "output_type": "stream",
     "text": [
      "\n",
      "Iteration 6/17 of epoch 56 complete. Loss : 0.20042827725410461 \n",
      "\n",
      "Iteration 9/17 of epoch 56 complete. Loss : 0.21254504223664603 \n",
      "\n",
      "Iteration 12/17 of epoch 56 complete. Loss : 0.18773581584294638 \n",
      "\n",
      "Iteration 15/17 of epoch 56 complete. Loss : 0.20393518606821695 \n",
      "\n",
      "Epoch 56 complete! Validation Loss : 0.43558369278907777\n",
      "Epoch 56 complete! Validation Accuracy : 0.8198660714285714\n",
      "Best validation loss improved from 0.4384389638900757 to 0.43558369278907777\n",
      "\n",
      "\n",
      "Iteration 3/17 of epoch 57 complete. Loss : 0.20586209495862326 \n",
      "\n",
      "Iteration 6/17 of epoch 57 complete. Loss : 0.2055658052364985 \n",
      "\n",
      "Iteration 9/17 of epoch 57 complete. Loss : 0.2036549299955368 \n"
     ]
    },
    {
     "name": "stderr",
     "output_type": "stream",
     "text": [
      "100%|██████████| 17/17 [00:00<00:00, 138.88it/s]\n",
      "100%|██████████| 5/5 [00:00<00:00, 297.18it/s]\n",
      " 82%|████████▏ | 14/17 [00:00<00:00, 129.57it/s]"
     ]
    },
    {
     "name": "stdout",
     "output_type": "stream",
     "text": [
      "\n",
      "Iteration 12/17 of epoch 57 complete. Loss : 0.19177507360776266 \n",
      "\n",
      "Iteration 15/17 of epoch 57 complete. Loss : 0.20876716574033102 \n",
      "\n",
      "Epoch 57 complete! Validation Loss : 0.4319364905357361\n",
      "Epoch 57 complete! Validation Accuracy : 0.8276785714285714\n",
      "Best validation loss improved from 0.43558369278907777 to 0.4319364905357361\n",
      "\n",
      "\n",
      "Iteration 3/17 of epoch 58 complete. Loss : 0.19333080450693765 \n",
      "\n",
      "Iteration 6/17 of epoch 58 complete. Loss : 0.20958724121252695 \n",
      "\n",
      "Iteration 9/17 of epoch 58 complete. Loss : 0.19853338599205017 \n",
      "\n",
      "Iteration 12/17 of epoch 58 complete. Loss : 0.20688546697298685 \n",
      "\n",
      "Iteration 15/17 of epoch 58 complete. Loss : 0.20271954933802286 \n"
     ]
    },
    {
     "name": "stderr",
     "output_type": "stream",
     "text": [
      "100%|██████████| 17/17 [00:00<00:00, 124.26it/s]\n",
      "100%|██████████| 5/5 [00:00<00:00, 266.77it/s]\n",
      "100%|██████████| 17/17 [00:00<00:00, 142.83it/s]\n",
      "100%|██████████| 5/5 [00:00<00:00, 216.74it/s]\n",
      "  0%|          | 0/17 [00:00<?, ?it/s]"
     ]
    },
    {
     "name": "stdout",
     "output_type": "stream",
     "text": [
      "\n",
      "Epoch 58 complete! Validation Loss : 0.43175199031829836\n",
      "Epoch 58 complete! Validation Accuracy : 0.8261160714285714\n",
      "Best validation loss improved from 0.4319364905357361 to 0.43175199031829836\n",
      "\n",
      "\n",
      "Iteration 3/17 of epoch 59 complete. Loss : 0.1905671109755834 \n",
      "\n",
      "Iteration 6/17 of epoch 59 complete. Loss : 0.20099864900112152 \n",
      "\n",
      "Iteration 9/17 of epoch 59 complete. Loss : 0.21551479399204254 \n",
      "\n",
      "Iteration 12/17 of epoch 59 complete. Loss : 0.19041181604067484 \n",
      "\n",
      "Iteration 15/17 of epoch 59 complete. Loss : 0.20188762247562408 \n",
      "\n",
      "Epoch 59 complete! Validation Loss : 0.42806692123413087\n",
      "Epoch 59 complete! Validation Accuracy : 0.8261160714285714\n",
      "Best validation loss improved from 0.43175199031829836 to 0.42806692123413087\n",
      "\n",
      "\n",
      "Iteration 3/17 of epoch 60 complete. Loss : 0.1998692899942398 \n"
     ]
    },
    {
     "name": "stderr",
     "output_type": "stream",
     "text": [
      "100%|██████████| 17/17 [00:00<00:00, 130.46it/s]\n",
      "100%|██████████| 5/5 [00:00<00:00, 234.13it/s]\n",
      "  0%|          | 0/17 [00:00<?, ?it/s]"
     ]
    },
    {
     "name": "stdout",
     "output_type": "stream",
     "text": [
      "\n",
      "Iteration 6/17 of epoch 60 complete. Loss : 0.18757653733094534 \n",
      "\n",
      "Iteration 9/17 of epoch 60 complete. Loss : 0.2087321331103643 \n",
      "\n",
      "Iteration 12/17 of epoch 60 complete. Loss : 0.20914953450361887 \n",
      "\n",
      "Iteration 15/17 of epoch 60 complete. Loss : 0.1994147151708603 \n",
      "\n",
      "Epoch 60 complete! Validation Loss : 0.4300682544708252\n",
      "Epoch 60 complete! Validation Accuracy : 0.8151785714285713\n",
      "\n",
      "Iteration 3/17 of epoch 61 complete. Loss : 0.18994439641634622 \n",
      "\n",
      "Iteration 6/17 of epoch 61 complete. Loss : 0.1994359940290451 \n",
      "\n",
      "Iteration 9/17 of epoch 61 complete. Loss : 0.19398958484331766 \n"
     ]
    },
    {
     "name": "stderr",
     "output_type": "stream",
     "text": [
      "100%|██████████| 17/17 [00:00<00:00, 138.01it/s]\n",
      "100%|██████████| 5/5 [00:00<00:00, 247.94it/s]\n",
      " 82%|████████▏ | 14/17 [00:00<00:00, 134.97it/s]"
     ]
    },
    {
     "name": "stdout",
     "output_type": "stream",
     "text": [
      "\n",
      "Iteration 12/17 of epoch 61 complete. Loss : 0.20092117289702097 \n",
      "\n",
      "Iteration 15/17 of epoch 61 complete. Loss : 0.2028781771659851 \n",
      "\n",
      "Epoch 61 complete! Validation Loss : 0.42058916091918946\n",
      "Epoch 61 complete! Validation Accuracy : 0.8292410714285714\n",
      "Best validation loss improved from 0.42806692123413087 to 0.42058916091918946\n",
      "\n",
      "\n",
      "Iteration 3/17 of epoch 62 complete. Loss : 0.199776291847229 \n",
      "\n",
      "Iteration 6/17 of epoch 62 complete. Loss : 0.18920964996019998 \n",
      "\n",
      "Iteration 9/17 of epoch 62 complete. Loss : 0.2070956031481425 \n",
      "\n",
      "Iteration 12/17 of epoch 62 complete. Loss : 0.18631001313527426 \n",
      "\n",
      "Iteration 15/17 of epoch 62 complete. Loss : 0.1884964406490326 \n"
     ]
    },
    {
     "name": "stderr",
     "output_type": "stream",
     "text": [
      "100%|██████████| 17/17 [00:00<00:00, 137.51it/s]\n",
      "100%|██████████| 5/5 [00:00<00:00, 245.72it/s]\n",
      "100%|██████████| 17/17 [00:00<00:00, 130.69it/s]\n",
      "100%|██████████| 5/5 [00:00<00:00, 237.72it/s]\n",
      "  0%|          | 0/17 [00:00<?, ?it/s]"
     ]
    },
    {
     "name": "stdout",
     "output_type": "stream",
     "text": [
      "\n",
      "Epoch 62 complete! Validation Loss : 0.41741888523101806\n",
      "Epoch 62 complete! Validation Accuracy : 0.8339285714285714\n",
      "Best validation loss improved from 0.42058916091918946 to 0.41741888523101806\n",
      "\n",
      "\n",
      "Iteration 3/17 of epoch 63 complete. Loss : 0.18964520593484244 \n",
      "\n",
      "Iteration 6/17 of epoch 63 complete. Loss : 0.19949129223823547 \n",
      "\n",
      "Iteration 9/17 of epoch 63 complete. Loss : 0.18249425292015076 \n",
      "\n",
      "Iteration 12/17 of epoch 63 complete. Loss : 0.19390766322612762 \n",
      "\n",
      "Iteration 15/17 of epoch 63 complete. Loss : 0.19163469473520914 \n",
      "\n",
      "Epoch 63 complete! Validation Loss : 0.41474331021308897\n",
      "Epoch 63 complete! Validation Accuracy : 0.8339285714285714\n",
      "Best validation loss improved from 0.41741888523101806 to 0.41474331021308897\n",
      "\n"
     ]
    },
    {
     "name": "stderr",
     "output_type": "stream",
     "text": [
      "100%|██████████| 17/17 [00:00<00:00, 112.19it/s]\n",
      "100%|██████████| 5/5 [00:00<00:00, 246.17it/s]\n",
      "  0%|          | 0/17 [00:00<?, ?it/s]"
     ]
    },
    {
     "name": "stdout",
     "output_type": "stream",
     "text": [
      "\n",
      "Iteration 3/17 of epoch 64 complete. Loss : 0.18805615107218424 \n",
      "\n",
      "Iteration 6/17 of epoch 64 complete. Loss : 0.18101496001084647 \n",
      "\n",
      "Iteration 9/17 of epoch 64 complete. Loss : 0.20879147946834564 \n",
      "\n",
      "Iteration 12/17 of epoch 64 complete. Loss : 0.17949514091014862 \n",
      "\n",
      "Iteration 15/17 of epoch 64 complete. Loss : 0.18879828850428262 \n",
      "\n",
      "Epoch 64 complete! Validation Loss : 0.41438329219818115\n",
      "Epoch 64 complete! Validation Accuracy : 0.8466517857142858\n",
      "Best validation loss improved from 0.41474331021308897 to 0.41438329219818115\n",
      "\n",
      "\n",
      "Iteration 3/17 of epoch 65 complete. Loss : 0.1693363736073176 \n"
     ]
    },
    {
     "name": "stderr",
     "output_type": "stream",
     "text": [
      "100%|██████████| 17/17 [00:00<00:00, 117.85it/s]\n",
      "100%|██████████| 5/5 [00:00<00:00, 280.38it/s]\n",
      "  0%|          | 0/17 [00:00<?, ?it/s]"
     ]
    },
    {
     "name": "stdout",
     "output_type": "stream",
     "text": [
      "\n",
      "Iteration 6/17 of epoch 65 complete. Loss : 0.1946106106042862 \n",
      "\n",
      "Iteration 9/17 of epoch 65 complete. Loss : 0.18178667624791464 \n",
      "\n",
      "Iteration 12/17 of epoch 65 complete. Loss : 0.18582446376482645 \n",
      "\n",
      "Iteration 15/17 of epoch 65 complete. Loss : 0.21838836868604025 \n",
      "\n",
      "Epoch 65 complete! Validation Loss : 0.41348583102226255\n",
      "Epoch 65 complete! Validation Accuracy : 0.8227678571428572\n",
      "Best validation loss improved from 0.41438329219818115 to 0.41348583102226255\n",
      "\n",
      "\n",
      "Iteration 3/17 of epoch 66 complete. Loss : 0.19606084624926248 \n",
      "\n",
      "Iteration 6/17 of epoch 66 complete. Loss : 0.19435112178325653 \n"
     ]
    },
    {
     "name": "stderr",
     "output_type": "stream",
     "text": [
      "100%|██████████| 17/17 [00:00<00:00, 108.02it/s]\n",
      "100%|██████████| 5/5 [00:00<00:00, 211.65it/s]\n",
      "  0%|          | 0/17 [00:00<?, ?it/s]"
     ]
    },
    {
     "name": "stdout",
     "output_type": "stream",
     "text": [
      "\n",
      "Iteration 9/17 of epoch 66 complete. Loss : 0.19457051157951355 \n",
      "\n",
      "Iteration 12/17 of epoch 66 complete. Loss : 0.1837144394715627 \n",
      "\n",
      "Iteration 15/17 of epoch 66 complete. Loss : 0.18024997413158417 \n",
      "\n",
      "Epoch 66 complete! Validation Loss : 0.41281057596206666\n",
      "Epoch 66 complete! Validation Accuracy : 0.8227678571428572\n",
      "Best validation loss improved from 0.41348583102226255 to 0.41281057596206666\n",
      "\n",
      "\n",
      "Iteration 3/17 of epoch 67 complete. Loss : 0.20087658862272897 \n",
      "\n",
      "Iteration 6/17 of epoch 67 complete. Loss : 0.1869923323392868 \n",
      "\n",
      "Iteration 9/17 of epoch 67 complete. Loss : 0.19430242975552878 \n"
     ]
    },
    {
     "name": "stderr",
     "output_type": "stream",
     "text": [
      "100%|██████████| 17/17 [00:00<00:00, 112.18it/s]\n",
      "100%|██████████| 5/5 [00:00<00:00, 245.03it/s]\n",
      "  0%|          | 0/17 [00:00<?, ?it/s]"
     ]
    },
    {
     "name": "stdout",
     "output_type": "stream",
     "text": [
      "\n",
      "Iteration 12/17 of epoch 67 complete. Loss : 0.1801463762919108 \n",
      "\n",
      "Iteration 15/17 of epoch 67 complete. Loss : 0.16814150412877402 \n",
      "\n",
      "Epoch 67 complete! Validation Loss : 0.40999957323074343\n",
      "Epoch 67 complete! Validation Accuracy : 0.8258928571428571\n",
      "Best validation loss improved from 0.41281057596206666 to 0.40999957323074343\n",
      "\n",
      "\n",
      "Iteration 3/17 of epoch 68 complete. Loss : 0.19114123781522116 \n",
      "\n",
      "Iteration 6/17 of epoch 68 complete. Loss : 0.17110778391361237 \n",
      "\n",
      "Iteration 9/17 of epoch 68 complete. Loss : 0.19376039505004883 \n",
      "\n",
      "Iteration 12/17 of epoch 68 complete. Loss : 0.1654466837644577 \n"
     ]
    },
    {
     "name": "stderr",
     "output_type": "stream",
     "text": [
      "100%|██████████| 17/17 [00:00<00:00, 124.07it/s]\n",
      "100%|██████████| 5/5 [00:00<00:00, 244.18it/s]\n",
      "100%|██████████| 17/17 [00:00<00:00, 133.35it/s]\n",
      "  0%|          | 0/5 [00:00<?, ?it/s]"
     ]
    },
    {
     "name": "stdout",
     "output_type": "stream",
     "text": [
      "\n",
      "Iteration 15/17 of epoch 68 complete. Loss : 0.18947545687357584 \n",
      "\n",
      "Epoch 68 complete! Validation Loss : 0.4028204619884491\n",
      "Epoch 68 complete! Validation Accuracy : 0.8274553571428571\n",
      "Best validation loss improved from 0.40999957323074343 to 0.4028204619884491\n",
      "\n",
      "\n",
      "Iteration 3/17 of epoch 69 complete. Loss : 0.17611591021219888 \n",
      "\n",
      "Iteration 6/17 of epoch 69 complete. Loss : 0.16405537724494934 \n",
      "\n",
      "Iteration 9/17 of epoch 69 complete. Loss : 0.18043666084607443 \n",
      "\n",
      "Iteration 12/17 of epoch 69 complete. Loss : 0.17141456405321756 \n",
      "\n",
      "Iteration 15/17 of epoch 69 complete. Loss : 0.2023356705904007 \n"
     ]
    },
    {
     "name": "stderr",
     "output_type": "stream",
     "text": [
      "100%|██████████| 5/5 [00:00<00:00, 211.57it/s]\n",
      "100%|██████████| 17/17 [00:00<00:00, 136.22it/s]\n",
      "100%|██████████| 5/5 [00:00<00:00, 219.21it/s]\n",
      "  0%|          | 0/17 [00:00<?, ?it/s]"
     ]
    },
    {
     "name": "stdout",
     "output_type": "stream",
     "text": [
      "\n",
      "Epoch 69 complete! Validation Loss : 0.3982059359550476\n",
      "Epoch 69 complete! Validation Accuracy : 0.8622767857142858\n",
      "Best validation loss improved from 0.4028204619884491 to 0.3982059359550476\n",
      "\n",
      "\n",
      "Iteration 3/17 of epoch 70 complete. Loss : 0.18177132805188498 \n",
      "\n",
      "Iteration 6/17 of epoch 70 complete. Loss : 0.1908492644627889 \n",
      "\n",
      "Iteration 9/17 of epoch 70 complete. Loss : 0.1638689637184143 \n",
      "\n",
      "Iteration 12/17 of epoch 70 complete. Loss : 0.18715236087640127 \n",
      "\n",
      "Iteration 15/17 of epoch 70 complete. Loss : 0.17558802167574564 \n",
      "\n",
      "Epoch 70 complete! Validation Loss : 0.3990138053894043\n",
      "Epoch 70 complete! Validation Accuracy : 0.8258928571428571\n",
      "\n",
      "Iteration 3/17 of epoch 71 complete. Loss : 0.18417855600516 \n"
     ]
    },
    {
     "name": "stderr",
     "output_type": "stream",
     "text": [
      "100%|██████████| 17/17 [00:00<00:00, 134.48it/s]\n",
      "100%|██████████| 5/5 [00:00<00:00, 244.67it/s]\n",
      "  0%|          | 0/17 [00:00<?, ?it/s]"
     ]
    },
    {
     "name": "stdout",
     "output_type": "stream",
     "text": [
      "\n",
      "Iteration 6/17 of epoch 71 complete. Loss : 0.18104148904482523 \n",
      "\n",
      "Iteration 9/17 of epoch 71 complete. Loss : 0.17032188177108765 \n",
      "\n",
      "Iteration 12/17 of epoch 71 complete. Loss : 0.17483664055665335 \n",
      "\n",
      "Iteration 15/17 of epoch 71 complete. Loss : 0.16801507771015167 \n",
      "\n",
      "Epoch 71 complete! Validation Loss : 0.39439465999603274\n",
      "Epoch 71 complete! Validation Accuracy : 0.8479910714285713\n",
      "Best validation loss improved from 0.3982059359550476 to 0.39439465999603274\n",
      "\n",
      "\n",
      "Iteration 3/17 of epoch 72 complete. Loss : 0.17066350082556406 \n",
      "\n",
      "Iteration 6/17 of epoch 72 complete. Loss : 0.17285630106925964 \n",
      "\n",
      "Iteration 9/17 of epoch 72 complete. Loss : 0.1916069140036901 \n"
     ]
    },
    {
     "name": "stderr",
     "output_type": "stream",
     "text": [
      "100%|██████████| 17/17 [00:00<00:00, 138.95it/s]\n",
      "100%|██████████| 5/5 [00:00<00:00, 287.79it/s]\n",
      " 82%|████████▏ | 14/17 [00:00<00:00, 139.72it/s]"
     ]
    },
    {
     "name": "stdout",
     "output_type": "stream",
     "text": [
      "\n",
      "Iteration 12/17 of epoch 72 complete. Loss : 0.1737865557273229 \n",
      "\n",
      "Iteration 15/17 of epoch 72 complete. Loss : 0.16573631763458252 \n",
      "\n",
      "Epoch 72 complete! Validation Loss : 0.39344008564949035\n",
      "Epoch 72 complete! Validation Accuracy : 0.8448660714285714\n",
      "Best validation loss improved from 0.39439465999603274 to 0.39344008564949035\n",
      "\n",
      "\n",
      "Iteration 3/17 of epoch 73 complete. Loss : 0.16613821188608804 \n",
      "\n",
      "Iteration 6/17 of epoch 73 complete. Loss : 0.19869064291318259 \n",
      "\n",
      "Iteration 9/17 of epoch 73 complete. Loss : 0.17208910981814066 \n",
      "\n",
      "Iteration 12/17 of epoch 73 complete. Loss : 0.17676976323127747 \n",
      "\n",
      "Iteration 15/17 of epoch 73 complete. Loss : 0.16614838937918344 \n"
     ]
    },
    {
     "name": "stderr",
     "output_type": "stream",
     "text": [
      "100%|██████████| 17/17 [00:00<00:00, 132.49it/s]\n",
      "100%|██████████| 5/5 [00:00<00:00, 301.48it/s]\n",
      "100%|██████████| 17/17 [00:00<00:00, 140.31it/s]\n",
      "100%|██████████| 5/5 [00:00<00:00, 262.66it/s]\n",
      "  0%|          | 0/17 [00:00<?, ?it/s]"
     ]
    },
    {
     "name": "stdout",
     "output_type": "stream",
     "text": [
      "\n",
      "Epoch 73 complete! Validation Loss : 0.38784254193305967\n",
      "Epoch 73 complete! Validation Accuracy : 0.8479910714285713\n",
      "Best validation loss improved from 0.39344008564949035 to 0.38784254193305967\n",
      "\n",
      "\n",
      "Iteration 3/17 of epoch 74 complete. Loss : 0.18372540175914764 \n",
      "\n",
      "Iteration 6/17 of epoch 74 complete. Loss : 0.17884707947572073 \n",
      "\n",
      "Iteration 9/17 of epoch 74 complete. Loss : 0.16330954929192862 \n",
      "\n",
      "Iteration 12/17 of epoch 74 complete. Loss : 0.1743618647257487 \n",
      "\n",
      "Iteration 15/17 of epoch 74 complete. Loss : 0.15808298190434775 \n",
      "\n",
      "Epoch 74 complete! Validation Loss : 0.3836523473262787\n",
      "Epoch 74 complete! Validation Accuracy : 0.8732142857142857\n",
      "Best validation loss improved from 0.38784254193305967 to 0.3836523473262787\n",
      "\n",
      "\n",
      "Iteration 3/17 of epoch 75 complete. Loss : 0.1683879146973292 \n"
     ]
    },
    {
     "name": "stderr",
     "output_type": "stream",
     "text": [
      "100%|██████████| 17/17 [00:00<00:00, 138.18it/s]\n",
      "100%|██████████| 5/5 [00:00<00:00, 219.77it/s]\n",
      "  0%|          | 0/17 [00:00<?, ?it/s]"
     ]
    },
    {
     "name": "stdout",
     "output_type": "stream",
     "text": [
      "\n",
      "Iteration 6/17 of epoch 75 complete. Loss : 0.18063272535800934 \n",
      "\n",
      "Iteration 9/17 of epoch 75 complete. Loss : 0.16750830908616385 \n",
      "\n",
      "Iteration 12/17 of epoch 75 complete. Loss : 0.17919779817263284 \n",
      "\n",
      "Iteration 15/17 of epoch 75 complete. Loss : 0.16471837957700095 \n",
      "\n",
      "Epoch 75 complete! Validation Loss : 0.3836457848548889\n",
      "Epoch 75 complete! Validation Accuracy : 0.8573660714285714\n",
      "Best validation loss improved from 0.3836523473262787 to 0.3836457848548889\n",
      "\n",
      "\n",
      "Iteration 3/17 of epoch 76 complete. Loss : 0.16528600454330444 \n",
      "\n",
      "Iteration 6/17 of epoch 76 complete. Loss : 0.1680342654387156 \n",
      "\n",
      "Iteration 9/17 of epoch 76 complete. Loss : 0.16802368064721426 \n"
     ]
    },
    {
     "name": "stderr",
     "output_type": "stream",
     "text": [
      "100%|██████████| 17/17 [00:00<00:00, 125.78it/s]\n",
      "100%|██████████| 5/5 [00:00<00:00, 251.09it/s]\n",
      " 76%|███████▋  | 13/17 [00:00<00:00, 125.93it/s]"
     ]
    },
    {
     "name": "stdout",
     "output_type": "stream",
     "text": [
      "\n",
      "Iteration 12/17 of epoch 76 complete. Loss : 0.1633483568827311 \n",
      "\n",
      "Iteration 15/17 of epoch 76 complete. Loss : 0.16664194067319235 \n",
      "\n",
      "Epoch 76 complete! Validation Loss : 0.3926553070545197\n",
      "Epoch 76 complete! Validation Accuracy : 0.8352678571428571\n",
      "\n",
      "Iteration 3/17 of epoch 77 complete. Loss : 0.1533384770154953 \n",
      "\n",
      "Iteration 6/17 of epoch 77 complete. Loss : 0.1757124811410904 \n",
      "\n",
      "Iteration 9/17 of epoch 77 complete. Loss : 0.16396460433801016 \n",
      "\n",
      "Iteration 12/17 of epoch 77 complete. Loss : 0.1658666729927063 \n"
     ]
    },
    {
     "name": "stderr",
     "output_type": "stream",
     "text": [
      "100%|██████████| 17/17 [00:00<00:00, 126.16it/s]\n",
      "100%|██████████| 5/5 [00:00<00:00, 240.80it/s]\n",
      "100%|██████████| 17/17 [00:00<00:00, 133.20it/s]\n",
      "  0%|          | 0/5 [00:00<?, ?it/s]"
     ]
    },
    {
     "name": "stdout",
     "output_type": "stream",
     "text": [
      "\n",
      "Iteration 15/17 of epoch 77 complete. Loss : 0.16492357850074768 \n",
      "\n",
      "Epoch 77 complete! Validation Loss : 0.37656148672103884\n",
      "Epoch 77 complete! Validation Accuracy : 0.8747767857142857\n",
      "Best validation loss improved from 0.3836457848548889 to 0.37656148672103884\n",
      "\n",
      "\n",
      "Iteration 3/17 of epoch 78 complete. Loss : 0.1708605239788691 \n",
      "\n",
      "Iteration 6/17 of epoch 78 complete. Loss : 0.1574303557475408 \n",
      "\n",
      "Iteration 9/17 of epoch 78 complete. Loss : 0.1626496265331904 \n",
      "\n",
      "Iteration 12/17 of epoch 78 complete. Loss : 0.17029365400473276 \n",
      "\n",
      "Iteration 15/17 of epoch 78 complete. Loss : 0.16787968575954437 \n"
     ]
    },
    {
     "name": "stderr",
     "output_type": "stream",
     "text": [
      "100%|██████████| 5/5 [00:00<00:00, 205.52it/s]\n",
      "100%|██████████| 17/17 [00:00<00:00, 134.58it/s]\n",
      "100%|██████████| 5/5 [00:00<00:00, 223.56it/s]\n",
      "  0%|          | 0/17 [00:00<?, ?it/s]"
     ]
    },
    {
     "name": "stdout",
     "output_type": "stream",
     "text": [
      "\n",
      "Epoch 78 complete! Validation Loss : 0.37359707355499266\n",
      "Epoch 78 complete! Validation Accuracy : 0.8794642857142858\n",
      "Best validation loss improved from 0.37656148672103884 to 0.37359707355499266\n",
      "\n",
      "\n",
      "Iteration 3/17 of epoch 79 complete. Loss : 0.1570521891117096 \n",
      "\n",
      "Iteration 6/17 of epoch 79 complete. Loss : 0.18358410398165384 \n",
      "\n",
      "Iteration 9/17 of epoch 79 complete. Loss : 0.15752860407034555 \n",
      "\n",
      "Iteration 12/17 of epoch 79 complete. Loss : 0.154954065879186 \n",
      "\n",
      "Iteration 15/17 of epoch 79 complete. Loss : 0.1666551778713862 \n",
      "\n",
      "Epoch 79 complete! Validation Loss : 0.3734301745891571\n",
      "Epoch 79 complete! Validation Accuracy : 0.8763392857142858\n",
      "Best validation loss improved from 0.37359707355499266 to 0.3734301745891571\n",
      "\n",
      "\n",
      "Iteration 3/17 of epoch 80 complete. Loss : 0.15380129218101501 \n"
     ]
    },
    {
     "name": "stderr",
     "output_type": "stream",
     "text": [
      "100%|██████████| 17/17 [00:00<00:00, 131.28it/s]\n",
      "100%|██████████| 5/5 [00:00<00:00, 229.23it/s]\n",
      "  0%|          | 0/17 [00:00<?, ?it/s]"
     ]
    },
    {
     "name": "stdout",
     "output_type": "stream",
     "text": [
      "\n",
      "Iteration 6/17 of epoch 80 complete. Loss : 0.16513928771018982 \n",
      "\n",
      "Iteration 9/17 of epoch 80 complete. Loss : 0.16737240552902222 \n",
      "\n",
      "Iteration 12/17 of epoch 80 complete. Loss : 0.14952797691027322 \n",
      "\n",
      "Iteration 15/17 of epoch 80 complete. Loss : 0.16517849763234457 \n",
      "\n",
      "Epoch 80 complete! Validation Loss : 0.38135157227516175\n",
      "Epoch 80 complete! Validation Accuracy : 0.8542410714285713\n",
      "\n",
      "Iteration 3/17 of epoch 81 complete. Loss : 0.14615601301193237 \n",
      "\n",
      "Iteration 6/17 of epoch 81 complete. Loss : 0.16147972643375397 \n",
      "\n",
      "Iteration 9/17 of epoch 81 complete. Loss : 0.16543607413768768 \n"
     ]
    },
    {
     "name": "stderr",
     "output_type": "stream",
     "text": [
      "100%|██████████| 17/17 [00:00<00:00, 134.30it/s]\n",
      "100%|██████████| 5/5 [00:00<00:00, 239.55it/s]\n",
      " 82%|████████▏ | 14/17 [00:00<00:00, 134.76it/s]"
     ]
    },
    {
     "name": "stdout",
     "output_type": "stream",
     "text": [
      "\n",
      "Iteration 12/17 of epoch 81 complete. Loss : 0.16684803863366446 \n",
      "\n",
      "Iteration 15/17 of epoch 81 complete. Loss : 0.15181255340576172 \n",
      "\n",
      "Epoch 81 complete! Validation Loss : 0.3825446665287018\n",
      "Epoch 81 complete! Validation Accuracy : 0.8558035714285713\n",
      "\n",
      "Iteration 3/17 of epoch 82 complete. Loss : 0.15303683777650198 \n",
      "\n",
      "Iteration 6/17 of epoch 82 complete. Loss : 0.1579973598321279 \n",
      "\n",
      "Iteration 9/17 of epoch 82 complete. Loss : 0.1519687424103419 \n",
      "\n",
      "Iteration 12/17 of epoch 82 complete. Loss : 0.16332843403021494 \n",
      "\n",
      "Iteration 15/17 of epoch 82 complete. Loss : 0.15911140541235605 \n"
     ]
    },
    {
     "name": "stderr",
     "output_type": "stream",
     "text": [
      "100%|██████████| 17/17 [00:00<00:00, 135.40it/s]\n",
      "100%|██████████| 5/5 [00:00<00:00, 191.09it/s]\n",
      "100%|██████████| 17/17 [00:00<00:00, 125.26it/s]\n",
      "100%|██████████| 5/5 [00:00<00:00, 229.46it/s]\n",
      "  0%|          | 0/17 [00:00<?, ?it/s]"
     ]
    },
    {
     "name": "stdout",
     "output_type": "stream",
     "text": [
      "\n",
      "Epoch 82 complete! Validation Loss : 0.3662257850170135\n",
      "Epoch 82 complete! Validation Accuracy : 0.8810267857142857\n",
      "Best validation loss improved from 0.3734301745891571 to 0.3662257850170135\n",
      "\n",
      "\n",
      "Iteration 3/17 of epoch 83 complete. Loss : 0.15464927752812704 \n",
      "\n",
      "Iteration 6/17 of epoch 83 complete. Loss : 0.1478663682937622 \n",
      "\n",
      "Iteration 9/17 of epoch 83 complete. Loss : 0.15937510132789612 \n",
      "\n",
      "Iteration 12/17 of epoch 83 complete. Loss : 0.15525397658348083 \n",
      "\n",
      "Iteration 15/17 of epoch 83 complete. Loss : 0.13987369338671365 \n",
      "\n",
      "Epoch 83 complete! Validation Loss : 0.3655613541603088\n",
      "Epoch 83 complete! Validation Accuracy : 0.8651785714285714\n",
      "Best validation loss improved from 0.3662257850170135 to 0.3655613541603088\n",
      "\n"
     ]
    },
    {
     "name": "stderr",
     "output_type": "stream",
     "text": [
      "100%|██████████| 17/17 [00:00<00:00, 129.19it/s]\n",
      "100%|██████████| 5/5 [00:00<00:00, 229.81it/s]\n",
      "  0%|          | 0/17 [00:00<?, ?it/s]"
     ]
    },
    {
     "name": "stdout",
     "output_type": "stream",
     "text": [
      "\n",
      "Iteration 3/17 of epoch 84 complete. Loss : 0.14524826655785242 \n",
      "\n",
      "Iteration 6/17 of epoch 84 complete. Loss : 0.15645371874173483 \n",
      "\n",
      "Iteration 9/17 of epoch 84 complete. Loss : 0.13973691314458847 \n",
      "\n",
      "Iteration 12/17 of epoch 84 complete. Loss : 0.15317507088184357 \n",
      "\n",
      "Iteration 15/17 of epoch 84 complete. Loss : 0.1561872810125351 \n",
      "\n",
      "Epoch 84 complete! Validation Loss : 0.3615236163139343\n",
      "Epoch 84 complete! Validation Accuracy : 0.8825892857142857\n",
      "Best validation loss improved from 0.3655613541603088 to 0.3615236163139343\n",
      "\n",
      "\n",
      "Iteration 3/17 of epoch 85 complete. Loss : 0.15114628771940866 \n"
     ]
    },
    {
     "name": "stderr",
     "output_type": "stream",
     "text": [
      "100%|██████████| 17/17 [00:00<00:00, 119.65it/s]\n",
      "100%|██████████| 5/5 [00:00<00:00, 223.17it/s]\n",
      "  0%|          | 0/17 [00:00<?, ?it/s]"
     ]
    },
    {
     "name": "stdout",
     "output_type": "stream",
     "text": [
      "\n",
      "Iteration 6/17 of epoch 85 complete. Loss : 0.1468969707687696 \n",
      "\n",
      "Iteration 9/17 of epoch 85 complete. Loss : 0.15009115636348724 \n",
      "\n",
      "Iteration 12/17 of epoch 85 complete. Loss : 0.15206775069236755 \n",
      "\n",
      "Iteration 15/17 of epoch 85 complete. Loss : 0.1540287435054779 \n",
      "\n",
      "Epoch 85 complete! Validation Loss : 0.3907108545303345\n",
      "Epoch 85 complete! Validation Accuracy : 0.8415178571428571\n",
      "\n",
      "Iteration 3/17 of epoch 86 complete. Loss : 0.14139699935913086 \n",
      "\n",
      "Iteration 6/17 of epoch 86 complete. Loss : 0.15587419271469116 \n",
      "\n",
      "Iteration 9/17 of epoch 86 complete. Loss : 0.14876780907313028 \n"
     ]
    },
    {
     "name": "stderr",
     "output_type": "stream",
     "text": [
      "100%|██████████| 17/17 [00:00<00:00, 139.94it/s]\n",
      "100%|██████████| 5/5 [00:00<00:00, 214.82it/s]\n",
      "100%|██████████| 17/17 [00:00<00:00, 137.71it/s]"
     ]
    },
    {
     "name": "stdout",
     "output_type": "stream",
     "text": [
      "\n",
      "Iteration 12/17 of epoch 86 complete. Loss : 0.1575694332520167 \n",
      "\n",
      "Iteration 15/17 of epoch 86 complete. Loss : 0.14918959140777588 \n",
      "\n",
      "Epoch 86 complete! Validation Loss : 0.3765386402606964\n",
      "Epoch 86 complete! Validation Accuracy : 0.8573660714285714\n",
      "\n",
      "Iteration 3/17 of epoch 87 complete. Loss : 0.15892054637273154 \n",
      "\n",
      "Iteration 6/17 of epoch 87 complete. Loss : 0.15441457430521646 \n",
      "\n",
      "Iteration 9/17 of epoch 87 complete. Loss : 0.14395191272099814 \n",
      "\n",
      "Iteration 12/17 of epoch 87 complete. Loss : 0.15820042043924332 \n",
      "\n",
      "Iteration 15/17 of epoch 87 complete. Loss : 0.14602320889631906 \n"
     ]
    },
    {
     "name": "stderr",
     "output_type": "stream",
     "text": [
      "\n",
      "100%|██████████| 5/5 [00:00<00:00, 236.80it/s]\n",
      "100%|██████████| 17/17 [00:00<00:00, 140.14it/s]\n",
      "100%|██████████| 5/5 [00:00<00:00, 207.73it/s]\n",
      "  0%|          | 0/17 [00:00<?, ?it/s]"
     ]
    },
    {
     "name": "stdout",
     "output_type": "stream",
     "text": [
      "\n",
      "Epoch 87 complete! Validation Loss : 0.3557206392288208\n",
      "Epoch 87 complete! Validation Accuracy : 0.8825892857142857\n",
      "Best validation loss improved from 0.3615236163139343 to 0.3557206392288208\n",
      "\n",
      "\n",
      "Iteration 3/17 of epoch 88 complete. Loss : 0.1492834985256195 \n",
      "\n",
      "Iteration 6/17 of epoch 88 complete. Loss : 0.15122546752293906 \n",
      "\n",
      "Iteration 9/17 of epoch 88 complete. Loss : 0.1361445039510727 \n",
      "\n",
      "Iteration 12/17 of epoch 88 complete. Loss : 0.1543882191181183 \n",
      "\n",
      "Iteration 15/17 of epoch 88 complete. Loss : 0.14596122999986014 \n",
      "\n",
      "Epoch 88 complete! Validation Loss : 0.35941256284713746\n",
      "Epoch 88 complete! Validation Accuracy : 0.8763392857142858\n",
      "\n",
      "Iteration 3/17 of epoch 89 complete. Loss : 0.15224401156107584 \n"
     ]
    },
    {
     "name": "stderr",
     "output_type": "stream",
     "text": [
      "100%|██████████| 17/17 [00:00<00:00, 142.47it/s]\n",
      "100%|██████████| 5/5 [00:00<00:00, 246.09it/s]\n",
      "  0%|          | 0/17 [00:00<?, ?it/s]"
     ]
    },
    {
     "name": "stdout",
     "output_type": "stream",
     "text": [
      "\n",
      "Iteration 6/17 of epoch 89 complete. Loss : 0.14376821120580038 \n",
      "\n",
      "Iteration 9/17 of epoch 89 complete. Loss : 0.13658450047175089 \n",
      "\n",
      "Iteration 12/17 of epoch 89 complete. Loss : 0.135757806400458 \n",
      "\n",
      "Iteration 15/17 of epoch 89 complete. Loss : 0.15173458059628805 \n",
      "\n",
      "Epoch 89 complete! Validation Loss : 0.35624158978462217\n",
      "Epoch 89 complete! Validation Accuracy : 0.8810267857142857\n",
      "\n",
      "Iteration 3/17 of epoch 90 complete. Loss : 0.1486484706401825 \n",
      "\n",
      "Iteration 6/17 of epoch 90 complete. Loss : 0.14380955696105957 \n",
      "\n",
      "Iteration 9/17 of epoch 90 complete. Loss : 0.15532001852989197 \n"
     ]
    },
    {
     "name": "stderr",
     "output_type": "stream",
     "text": [
      "100%|██████████| 17/17 [00:00<00:00, 134.33it/s]\n",
      "100%|██████████| 5/5 [00:00<00:00, 253.53it/s]\n",
      " 82%|████████▏ | 14/17 [00:00<00:00, 135.00it/s]"
     ]
    },
    {
     "name": "stdout",
     "output_type": "stream",
     "text": [
      "\n",
      "Iteration 12/17 of epoch 90 complete. Loss : 0.139615868528684 \n",
      "\n",
      "Iteration 15/17 of epoch 90 complete. Loss : 0.1379226247469584 \n",
      "\n",
      "Epoch 90 complete! Validation Loss : 0.35235687494277956\n",
      "Epoch 90 complete! Validation Accuracy : 0.8857142857142858\n",
      "Best validation loss improved from 0.3557206392288208 to 0.35235687494277956\n",
      "\n",
      "\n",
      "Iteration 3/17 of epoch 91 complete. Loss : 0.12666204820076624 \n",
      "\n",
      "Iteration 6/17 of epoch 91 complete. Loss : 0.15180012583732605 \n",
      "\n",
      "Iteration 9/17 of epoch 91 complete. Loss : 0.13492147624492645 \n",
      "\n",
      "Iteration 12/17 of epoch 91 complete. Loss : 0.13740703463554382 \n",
      "\n",
      "Iteration 15/17 of epoch 91 complete. Loss : 0.1521902084350586 \n"
     ]
    },
    {
     "name": "stderr",
     "output_type": "stream",
     "text": [
      "100%|██████████| 17/17 [00:00<00:00, 137.27it/s]\n",
      "100%|██████████| 5/5 [00:00<00:00, 283.37it/s]\n",
      "100%|██████████| 17/17 [00:00<00:00, 135.08it/s]\n",
      "100%|██████████| 5/5 [00:00<00:00, 273.71it/s]\n",
      "  0%|          | 0/17 [00:00<?, ?it/s]"
     ]
    },
    {
     "name": "stdout",
     "output_type": "stream",
     "text": [
      "\n",
      "Epoch 91 complete! Validation Loss : 0.354133278131485\n",
      "Epoch 91 complete! Validation Accuracy : 0.8714285714285713\n",
      "\n",
      "Iteration 3/17 of epoch 92 complete. Loss : 0.13557383169730505 \n",
      "\n",
      "Iteration 6/17 of epoch 92 complete. Loss : 0.12414684643348058 \n",
      "\n",
      "Iteration 9/17 of epoch 92 complete. Loss : 0.1430948699514071 \n",
      "\n",
      "Iteration 12/17 of epoch 92 complete. Loss : 0.13265880197286606 \n",
      "\n",
      "Iteration 15/17 of epoch 92 complete. Loss : 0.13768776754538217 \n",
      "\n",
      "Epoch 92 complete! Validation Loss : 0.34949067831039426\n",
      "Epoch 92 complete! Validation Accuracy : 0.8841517857142858\n",
      "Best validation loss improved from 0.35235687494277956 to 0.34949067831039426\n",
      "\n",
      "\n",
      "Iteration 3/17 of epoch 93 complete. Loss : 0.14549496273199716 \n"
     ]
    },
    {
     "name": "stderr",
     "output_type": "stream",
     "text": [
      "100%|██████████| 17/17 [00:00<00:00, 141.10it/s]\n",
      "100%|██████████| 5/5 [00:00<00:00, 298.36it/s]\n",
      "  0%|          | 0/17 [00:00<?, ?it/s]"
     ]
    },
    {
     "name": "stdout",
     "output_type": "stream",
     "text": [
      "\n",
      "Iteration 6/17 of epoch 93 complete. Loss : 0.1351553996404012 \n",
      "\n",
      "Iteration 9/17 of epoch 93 complete. Loss : 0.13492958496014276 \n",
      "\n",
      "Iteration 12/17 of epoch 93 complete. Loss : 0.15210586289564768 \n",
      "\n",
      "Iteration 15/17 of epoch 93 complete. Loss : 0.14188974102338156 \n",
      "\n",
      "Epoch 93 complete! Validation Loss : 0.36109534502029417\n",
      "Epoch 93 complete! Validation Accuracy : 0.8683035714285714\n",
      "\n",
      "Iteration 3/17 of epoch 94 complete. Loss : 0.14375107487042746 \n",
      "\n",
      "Iteration 6/17 of epoch 94 complete. Loss : 0.13061406463384628 \n",
      "\n",
      "Iteration 9/17 of epoch 94 complete. Loss : 0.12732565154631934 \n"
     ]
    },
    {
     "name": "stderr",
     "output_type": "stream",
     "text": [
      "100%|██████████| 17/17 [00:00<00:00, 149.57it/s]\n",
      "100%|██████████| 5/5 [00:00<00:00, 303.07it/s]\n",
      "100%|██████████| 17/17 [00:00<00:00, 154.58it/s]\n",
      "100%|██████████| 5/5 [00:00<00:00, 301.26it/s]"
     ]
    },
    {
     "name": "stdout",
     "output_type": "stream",
     "text": [
      "\n",
      "Iteration 12/17 of epoch 94 complete. Loss : 0.1421715666850408 \n",
      "\n",
      "Iteration 15/17 of epoch 94 complete. Loss : 0.13074186195929846 \n",
      "\n",
      "Epoch 94 complete! Validation Loss : 0.3632660388946533\n",
      "Epoch 94 complete! Validation Accuracy : 0.8683035714285714\n",
      "\n",
      "Iteration 3/17 of epoch 95 complete. Loss : 0.13059426347414652 \n",
      "\n",
      "Iteration 6/17 of epoch 95 complete. Loss : 0.13511637846628824 \n",
      "\n",
      "Iteration 9/17 of epoch 95 complete. Loss : 0.13222391158342361 \n",
      "\n",
      "Iteration 12/17 of epoch 95 complete. Loss : 0.13966087996959686 \n",
      "\n",
      "Iteration 15/17 of epoch 95 complete. Loss : 0.1360954890648524 \n"
     ]
    },
    {
     "name": "stderr",
     "output_type": "stream",
     "text": [
      "\n",
      "100%|██████████| 17/17 [00:00<00:00, 165.88it/s]\n",
      "100%|██████████| 5/5 [00:00<00:00, 366.16it/s]\n",
      "  0%|          | 0/17 [00:00<?, ?it/s]"
     ]
    },
    {
     "name": "stdout",
     "output_type": "stream",
     "text": [
      "\n",
      "Epoch 95 complete! Validation Loss : 0.34611939191818236\n",
      "Epoch 95 complete! Validation Accuracy : 0.8857142857142858\n",
      "Best validation loss improved from 0.34949067831039426 to 0.34611939191818236\n",
      "\n",
      "\n",
      "Iteration 3/17 of epoch 96 complete. Loss : 0.14388701816399893 \n",
      "\n",
      "Iteration 6/17 of epoch 96 complete. Loss : 0.12367031226555507 \n",
      "\n",
      "Iteration 9/17 of epoch 96 complete. Loss : 0.12109862019618352 \n",
      "\n",
      "Iteration 12/17 of epoch 96 complete. Loss : 0.1483590006828308 \n",
      "\n",
      "Iteration 15/17 of epoch 96 complete. Loss : 0.11640952279170354 \n",
      "\n",
      "Epoch 96 complete! Validation Loss : 0.3458717346191406\n",
      "Epoch 96 complete! Validation Accuracy : 0.8888392857142857\n",
      "Best validation loss improved from 0.34611939191818236 to 0.3458717346191406\n",
      "\n",
      "\n",
      "Iteration 3/17 of epoch 97 complete. Loss : 0.13675131648778915 \n",
      "\n",
      "Iteration 6/17 of epoch 97 complete. Loss : 0.12465400248765945 \n",
      "\n",
      "Iteration 9/17 of epoch 97 complete. Loss : 0.12395282089710236 \n"
     ]
    },
    {
     "name": "stderr",
     "output_type": "stream",
     "text": [
      "100%|██████████| 17/17 [00:00<00:00, 175.13it/s]\n",
      "100%|██████████| 5/5 [00:00<00:00, 352.78it/s]\n",
      "100%|██████████| 17/17 [00:00<00:00, 162.07it/s]\n",
      "100%|██████████| 5/5 [00:00<00:00, 231.15it/s]"
     ]
    },
    {
     "name": "stdout",
     "output_type": "stream",
     "text": [
      "\n",
      "Iteration 12/17 of epoch 97 complete. Loss : 0.1277026285727819 \n",
      "\n",
      "Iteration 15/17 of epoch 97 complete. Loss : 0.13959497710069022 \n",
      "\n",
      "Epoch 97 complete! Validation Loss : 0.346783721446991\n",
      "Epoch 97 complete! Validation Accuracy : 0.8841517857142858\n",
      "\n",
      "Iteration 3/17 of epoch 98 complete. Loss : 0.1291529287894567 \n",
      "\n",
      "Iteration 6/17 of epoch 98 complete. Loss : 0.129285196463267 \n",
      "\n",
      "Iteration 9/17 of epoch 98 complete. Loss : 0.1317590003212293 \n",
      "\n",
      "Iteration 12/17 of epoch 98 complete. Loss : 0.12674541771411896 \n",
      "\n",
      "Iteration 15/17 of epoch 98 complete. Loss : 0.12602110703786215 \n"
     ]
    },
    {
     "name": "stderr",
     "output_type": "stream",
     "text": [
      "\n",
      "100%|██████████| 17/17 [00:00<00:00, 160.46it/s]\n",
      "100%|██████████| 5/5 [00:00<00:00, 243.26it/s]\n",
      "  0%|          | 0/17 [00:00<?, ?it/s]"
     ]
    },
    {
     "name": "stdout",
     "output_type": "stream",
     "text": [
      "\n",
      "Epoch 98 complete! Validation Loss : 0.34965780973434446\n",
      "Epoch 98 complete! Validation Accuracy : 0.8761160714285714\n",
      "\n",
      "Iteration 3/17 of epoch 99 complete. Loss : 0.12406473606824875 \n",
      "\n",
      "Iteration 6/17 of epoch 99 complete. Loss : 0.12447335819403331 \n",
      "\n",
      "Iteration 9/17 of epoch 99 complete. Loss : 0.12262454132239024 \n",
      "\n",
      "Iteration 12/17 of epoch 99 complete. Loss : 0.1311787689725558 \n",
      "\n",
      "Iteration 15/17 of epoch 99 complete. Loss : 0.12828520188728967 \n",
      "\n",
      "Epoch 99 complete! Validation Loss : 0.3473184764385223\n",
      "Epoch 99 complete! Validation Accuracy : 0.8745535714285714\n",
      "\n",
      "Iteration 3/17 of epoch 100 complete. Loss : 0.12840961664915085 \n",
      "\n",
      "Iteration 6/17 of epoch 100 complete. Loss : 0.11282389611005783 \n"
     ]
    },
    {
     "name": "stderr",
     "output_type": "stream",
     "text": [
      "100%|██████████| 17/17 [00:00<00:00, 151.18it/s]\n",
      "100%|██████████| 5/5 [00:00<00:00, 261.69it/s]\n"
     ]
    },
    {
     "name": "stdout",
     "output_type": "stream",
     "text": [
      "\n",
      "Iteration 9/17 of epoch 100 complete. Loss : 0.13286511848370233 \n",
      "\n",
      "Iteration 12/17 of epoch 100 complete. Loss : 0.13132070749998093 \n",
      "\n",
      "Iteration 15/17 of epoch 100 complete. Loss : 0.1219173048933347 \n",
      "\n",
      "Epoch 100 complete! Validation Loss : 0.35331360101699827\n",
      "Epoch 100 complete! Validation Accuracy : 0.8745535714285714\n",
      "The model has been saved in saved_models/base_vbert_faux_with_lr_3e-05_val_loss_0.34587_ep_96.pt\n"
     ]
    }
   ],
   "source": [
    "# Train the model\n",
    "model, model_name = train_model(class_model, criterion, optimizer, lr, scheduler, train_dataloader, test_dataloader, epochs, iters_to_accumulate)"
   ]
  },
  {
   "cell_type": "code",
   "execution_count": 25,
   "metadata": {},
   "outputs": [],
   "source": [
    "def evaluate(prediction_dataloader, model, path_to_model, load = False):\n",
    "\t# Prediction on test set\n",
    "\tif load:\n",
    "\t\tprint(\"Loading the weights of the model...\")\n",
    "\t\tmodel.load_state_dict(torch.load(path_to_model))\n",
    "\n",
    "\tprint('Evaluating on the testset')\n",
    "\n",
    "\t# Put model in evaluation mode\n",
    "\tmodel.eval()\n",
    "\n",
    "\t# Tracking variables \n",
    "\tpredictions , true_labels = [], []\n",
    "\n",
    "\t# Predict \n",
    "\tfor batch in prediction_dataloader:\n",
    "\t  # Add batch to GPU\n",
    "\t  batch = tuple(t.to(device) for t in batch)\n",
    "\t  \n",
    "\t  # Unpack the inputs from our dataloader\n",
    "\t  b_t_inputs, b_s_inputs, b_labels = batch\n",
    "\t  \n",
    "\t  # Telling the model not to compute or store gradients, saving memory and \n",
    "\t  # speeding up prediction\n",
    "\t  with torch.no_grad():\n",
    "\t      # Forward pass, calculate logit predictions\n",
    "\t      logits = model(b_t_inputs, b_s_inputs)\n",
    "\n",
    "\t  # Move logits and labels to CPU\n",
    "\t  logits = logits.detach().cpu().numpy()\n",
    "\t  label_ids = b_labels.to('cpu').numpy()\n",
    "\n",
    "\t  pred_flat = np.argmax(logits, axis=1).flatten()\n",
    "\t  labels_flat = label_ids.flatten()\n",
    "\t  \n",
    "\t  # Store predictions and true labels\n",
    "\t  predictions.extend(pred_flat)\n",
    "\t  true_labels.extend(labels_flat)\n",
    "\n",
    "\tprint('DONE.')\n",
    "\n",
    "\t# Code for result display\n",
    "\tprint('Baseline', model_name, 'Multi-Modal Classification accuracy is')\n",
    "\tprint(metrics.accuracy_score(true_labels, predictions)*100)\n",
    "\tprint(classification_report(true_labels, predictions, target_names = ['fake', 'real']))\n",
    "\t# Converting to csv\n",
    "\t# Removed transpose - check if actually required\n",
    "\tclsf_report = pd.DataFrame(classification_report(y_true = true_labels, y_pred = predictions, output_dict=True, target_names = ['fake', 'real']))\n",
    "\tclsf_report.to_csv(str('saved_models/'+model_name+'.csv'), index= True)"
   ]
  },
  {
   "cell_type": "code",
   "execution_count": 26,
   "metadata": {},
   "outputs": [
    {
     "name": "stdout",
     "output_type": "stream",
     "text": [
      "Evaluating on the testset\n",
      "DONE.\n",
      "Baseline base_vbert_faux_with Multi-Modal Classification accuracy is\n",
      "88.02281368821293\n",
      "              precision    recall  f1-score   support\n",
      "\n",
      "        fake       0.83      0.92      0.87       236\n",
      "        real       0.93      0.84      0.89       290\n",
      "\n",
      "    accuracy                           0.88       526\n",
      "   macro avg       0.88      0.88      0.88       526\n",
      "weighted avg       0.89      0.88      0.88       526\n",
      "\n"
     ]
    }
   ],
   "source": [
    "path_to_model = 'saved_models/class_contrast_visualbert_lr_3e-05_val_loss_0.35285_ep_100.pt'\n",
    "evaluate(test_dataloader, model, path_to_model = path_to_model, load = False)"
   ]
  }
 ],
 "metadata": {
  "interpreter": {
   "hash": "112ac2046fa01f929d29fd747457323c8422411859b530c12136f6127f223c24"
  },
  "kernelspec": {
   "display_name": "Python 3.6.11 64-bit ('newnisbert': conda)",
   "name": "python3"
  },
  "language_info": {
   "codemirror_mode": {
    "name": "ipython",
    "version": 3
   },
   "file_extension": ".py",
   "mimetype": "text/x-python",
   "name": "python",
   "nbconvert_exporter": "python",
   "pygments_lexer": "ipython3",
   "version": "3.6.11"
  },
  "orig_nbformat": 4
 },
 "nbformat": 4,
 "nbformat_minor": 2
}
