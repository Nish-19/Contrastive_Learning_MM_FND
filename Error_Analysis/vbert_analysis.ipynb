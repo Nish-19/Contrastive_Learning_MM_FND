{
 "cells": [
  {
   "cell_type": "code",
   "execution_count": 1,
   "metadata": {},
   "outputs": [],
   "source": [
    "import pandas as pd \n",
    "import numpy as np"
   ]
  },
  {
   "cell_type": "code",
   "execution_count": 2,
   "metadata": {},
   "outputs": [],
   "source": [
    "# Read visual bert output data\n",
    "final_model_df = pd.read_csv('nv_em_ce_vbert_full.csv')\n",
    "contrast_df = pd.read_csv('contrast_ce_vbert_full.csv')\n",
    "safe_df = pd.read_excel('../../sota_comp/SAFE/performance/performance-pre-e-r-1-0_ds_case_label.xls')"
   ]
  },
  {
   "cell_type": "code",
   "execution_count": 3,
   "metadata": {},
   "outputs": [],
   "source": [
    "#NOTE: Case-1: final model performs worse than contrastive model\n",
    "fake = []\n",
    "real = []\n",
    "for i, row in final_model_df.iterrows():\n",
    "    if row['ground_truth'] == 0 and contrast_df.loc[i, 'predicted'] == 0 and row['predicted'] == 1:\n",
    "        fake.append(row['ids'])\n",
    "    elif row['ground_truth'] == 1 and contrast_df.loc[i, 'predicted'] == 1 and row['predicted'] == 0:\n",
    "        real.append(row['ids'])\n",
    "\n",
    "# Print in a file\n",
    "with open('vbert_contrast_better_than_full.txt', 'w') as infile:\n",
    "    print('IDS where Contrastive is better than the final model', file=infile)\n",
    "    print('###############', file=infile)\n",
    "    print('Real IDS', file=infile)\n",
    "    print(real, file=infile)\n",
    "    print('###############', file=infile)\n",
    "    print('Fake IDS', file=infile)\n",
    "    print(fake, file=infile)"
   ]
  },
  {
   "cell_type": "code",
   "execution_count": 6,
   "metadata": {},
   "outputs": [],
   "source": [
    "#NOTE: Case-2: final model performs better than SAFE\n",
    "fake = []\n",
    "real = []\n",
    "for i, row in final_model_df.iterrows():\n",
    "    if row['ground_truth'] == 0 and safe_df.loc[i, 'predicted label'] == 'real' and row['predicted'] == 0:\n",
    "        fake.append(row['ids'])\n",
    "    elif row['ground_truth'] == 1 and safe_df.loc[i, 'predicted label'] == 'fake' and row['predicted'] == 1:\n",
    "        real.append(row['ids'])\n",
    "\n",
    "# Print in a file\n",
    "with open('vbert_full_better_than_safe.txt', 'w') as infile:\n",
    "    print('IDS where Final model is better than SAFE', file=infile)\n",
    "    print('###############', file=infile)\n",
    "    print('Real IDS', file=infile)\n",
    "    print(real, file=infile)\n",
    "    print('###############', file=infile)\n",
    "    print('Fake IDS', file=infile)\n",
    "    print(fake, file=infile)"
   ]
  }
 ],
 "metadata": {
  "interpreter": {
   "hash": "112ac2046fa01f929d29fd747457323c8422411859b530c12136f6127f223c24"
  },
  "kernelspec": {
   "display_name": "Python 3.6.11 64-bit ('newnisbert': conda)",
   "name": "python3"
  },
  "language_info": {
   "codemirror_mode": {
    "name": "ipython",
    "version": 3
   },
   "file_extension": ".py",
   "mimetype": "text/x-python",
   "name": "python",
   "nbconvert_exporter": "python",
   "pygments_lexer": "ipython3",
   "version": "3.6.11"
  },
  "orig_nbformat": 4
 },
 "nbformat": 4,
 "nbformat_minor": 2
}
