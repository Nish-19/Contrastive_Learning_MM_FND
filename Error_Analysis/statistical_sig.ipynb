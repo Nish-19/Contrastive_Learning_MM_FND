{
 "cells": [
  {
   "cell_type": "code",
   "execution_count": 21,
   "metadata": {},
   "outputs": [],
   "source": [
    "import numpy as np\n",
    "import pandas as pd\n",
    "from mlxtend.evaluate import mcnemar_table"
   ]
  },
  {
   "cell_type": "code",
   "execution_count": 22,
   "metadata": {},
   "outputs": [],
   "source": [
    "# Reading csv files\n",
    "df1 = pd.read_csv('contrast_ce_rbert_full.csv')\n",
    "df2 = pd.read_csv('nv_em_ce_rbert_full.csv')\n",
    "safe_df = pd.read_excel('../../sota_comp/SAFE/performance/performance-pre-e-r-1-0_ds_case_label.xls')"
   ]
  },
  {
   "cell_type": "code",
   "execution_count": 23,
   "metadata": {},
   "outputs": [],
   "source": [
    "# Loading data\n",
    "y_target = df1['ground_truth'].to_numpy()\n",
    "y_model1 = df1['predicted'].to_numpy()\n",
    "y_model2 = df2['predicted'].to_numpy()\n",
    "y_safe = safe_df['predicted label'].to_numpy()\n",
    "assert len(y_target) == len(y_model1) == len(y_model2) == len(y_safe)"
   ]
  },
  {
   "cell_type": "code",
   "execution_count": 24,
   "metadata": {},
   "outputs": [],
   "source": [
    "y_safe_model_lst = []\n",
    "for label in y_safe:\n",
    "    if label == 'fake':\n",
    "        y_safe_model_lst.append(0)\n",
    "    elif label == 'real':\n",
    "        y_safe_model_lst.append(1)\n",
    "y_safe_model = np.array(y_safe_model_lst)"
   ]
  },
  {
   "cell_type": "code",
   "execution_count": 25,
   "metadata": {},
   "outputs": [
    {
     "name": "stdout",
     "output_type": "stream",
     "text": [
      "[[2243   14]\n",
      " [  91    6]]\n"
     ]
    }
   ],
   "source": [
    "# Printing mcnemar table\n",
    "tb = mcnemar_table(y_target=y_target, \n",
    "                   y_model1=y_safe_model, \n",
    "                   y_model2=y_model2)\n",
    "\n",
    "print(tb)"
   ]
  },
  {
   "cell_type": "code",
   "execution_count": 26,
   "metadata": {},
   "outputs": [
    {
     "name": "stdout",
     "output_type": "stream",
     "text": [
      "chi-squared: 55.00952380952381\n",
      "p-value: 1.1994720132059365e-13\n"
     ]
    }
   ],
   "source": [
    "from mlxtend.evaluate import mcnemar\n",
    "\n",
    "chi2, p = mcnemar(ary=tb, corrected=True)\n",
    "print('chi-squared:', chi2)\n",
    "print('p-value:', p)"
   ]
  }
 ],
 "metadata": {
  "interpreter": {
   "hash": "112ac2046fa01f929d29fd747457323c8422411859b530c12136f6127f223c24"
  },
  "kernelspec": {
   "display_name": "Python 3.6.11 64-bit ('newnisbert': conda)",
   "name": "python3"
  },
  "language_info": {
   "codemirror_mode": {
    "name": "ipython",
    "version": 3
   },
   "file_extension": ".py",
   "mimetype": "text/x-python",
   "name": "python",
   "nbconvert_exporter": "python",
   "pygments_lexer": "ipython3",
   "version": "3.6.11"
  },
  "orig_nbformat": 4
 },
 "nbformat": 4,
 "nbformat_minor": 2
}
