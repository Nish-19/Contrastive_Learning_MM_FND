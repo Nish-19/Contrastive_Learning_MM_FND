{
 "cells": [
  {
   "cell_type": "code",
   "execution_count": 9,
   "metadata": {},
   "outputs": [],
   "source": [
    "import numpy as np\n",
    "import os\n",
    "import random\n",
    "import pickle\n",
    "from torchvision import transforms\n",
    "import torch\n",
    "from sklearn.model_selection import train_test_split"
   ]
  },
  {
   "cell_type": "code",
   "execution_count": 3,
   "metadata": {},
   "outputs": [],
   "source": [
    "data_dir = '/sda/rina_1921cs13/Nischal/NovFake/data/'\n",
    "text_arr = np.load(os.path.join(data_dir, 'text_array.npy'))\n",
    "labels_arr = np.load(os.path.join(data_dir, 'labels.npy')).squeeze() # 0 fake, 1 real\n",
    "ids_arr = np.load(os.path.join(data_dir, 'ids.npy')).squeeze()\n",
    "event_arr = np.load('../Data/nis_event_labels.npy').squeeze()"
   ]
  },
  {
   "cell_type": "code",
   "execution_count": 4,
   "metadata": {},
   "outputs": [],
   "source": [
    "image_arr = np.load(os.path.join(data_dir, 'image_array.npy')).squeeze()"
   ]
  },
  {
   "cell_type": "code",
   "execution_count": 5,
   "metadata": {},
   "outputs": [
    {
     "name": "stdout",
     "output_type": "stream",
     "text": [
      "New Target Shape (11766, 3, 224, 224)\n"
     ]
    }
   ],
   "source": [
    "num_images, sources, width, height, num_channels = image_arr.shape\n",
    "img_data_reshape = np.reshape(image_arr, newshape=(num_images, sources, num_channels, width, height))\n",
    "img_data_target = img_data_reshape[:,0,:,:,:] # Don't convert to GPU\n",
    "print('New Target Shape', img_data_target.shape)"
   ]
  },
  {
   "cell_type": "code",
   "execution_count": 6,
   "metadata": {},
   "outputs": [
    {
     "data": {
      "text/plain": [
       "array(['Snp1_3_1.jpg', 'Snp3_1_19.jpg', 'Snp3_2_4.jpg', ...,\n",
       "       'Tcn16641_3_1.jpg', 'Tcn16642_1_8.jpg', 'Tcn16642_2_7.jpg'],\n",
       "      dtype='<U19')"
      ]
     },
     "execution_count": 6,
     "metadata": {},
     "output_type": "execute_result"
    }
   ],
   "source": [
    "ids_arr"
   ]
  },
  {
   "cell_type": "code",
   "execution_count": 7,
   "metadata": {},
   "outputs": [
    {
     "data": {
      "text/plain": [
       "(3, 224, 224)"
      ]
     },
     "execution_count": 7,
     "metadata": {},
     "output_type": "execute_result"
    }
   ],
   "source": [
    "img_data_target[0].shape"
   ]
  },
  {
   "cell_type": "markdown",
   "metadata": {},
   "source": [
    "# Process Data"
   ]
  },
  {
   "cell_type": "code",
   "execution_count": 7,
   "metadata": {},
   "outputs": [],
   "source": [
    "def get_short_string(string):\n",
    "    return string[0:255]"
   ]
  },
  {
   "cell_type": "code",
   "execution_count": 8,
   "metadata": {},
   "outputs": [],
   "source": [
    "data_transforms = transforms.Compose([\n",
    "            transforms.ToPILImage(),\n",
    "            transforms.Resize(256),\n",
    "            transforms.CenterCrop(224),\n",
    "            transforms.ToTensor(),\n",
    "            transforms.Normalize([0.485, 0.456, 0.406], [0.229, 0.224, 0.225])\n",
    "            ])"
   ]
  },
  {
   "cell_type": "code",
   "execution_count": 9,
   "metadata": {},
   "outputs": [
    {
     "name": "stdout",
     "output_type": "stream",
     "text": [
      "Loaded Data\n",
      "Real Data Length 6816\n",
      "Fake Data Length 4950\n"
     ]
    }
   ],
   "source": [
    "fake_data = []\n",
    "real_data = []\n",
    "image_list = {}\n",
    "for i, label in enumerate(labels_arr):\n",
    "    line_1_pad = '|N'*14\n",
    "    line_1 = ids_arr[i].split('.')[0] + line_1_pad \n",
    "    line_2 = ids_arr[i] + '|null'\n",
    "    short_string = get_short_string(text_arr[i][0])\n",
    "    assert len(short_string) <= 255\n",
    "    line_3 = str(short_string)\n",
    "    pack_data = [line_1, line_2, line_3]\n",
    "    image_list[ids_arr[i].split('.')[0].lower()] = data_transforms(img_data_target[i].astype(np.uint8))\n",
    "    if label==0:\n",
    "        fake_data.append(pack_data)\n",
    "    elif label==1:\n",
    "        real_data.append(pack_data)\n",
    "print('Loaded Data')\n",
    "print('Real Data Length', len(real_data))\n",
    "print('Fake Data Length', len(fake_data))"
   ]
  },
  {
   "cell_type": "code",
   "execution_count": 17,
   "metadata": {},
   "outputs": [
    {
     "data": {
      "text/plain": [
       "torch.Size([3, 224, 224])"
      ]
     },
     "execution_count": 17,
     "metadata": {},
     "output_type": "execute_result"
    }
   ],
   "source": [
    "image_list['snp1_3_1'].shape"
   ]
  },
  {
   "cell_type": "code",
   "execution_count": 11,
   "metadata": {},
   "outputs": [],
   "source": [
    "fake_event = []\n",
    "real_event = []\n",
    "fake_ids = []\n",
    "real_ids = []\n",
    "for i, label in enumerate(labels_arr):\n",
    "    if label==0:\n",
    "        fake_event.append(event_arr[i])\n",
    "        fake_ids.append(ids_arr[i].split('.')[0])\n",
    "    elif label==1:\n",
    "        real_event.append(event_arr[i])\n",
    "        real_ids.append(ids_arr[i].split('.')[0])\n",
    "train_fake_event, test_fake_event, train_fake_ids, test_fake_ids = train_test_split(fake_event, fake_ids, test_size=0.2, random_state=43)\n",
    "train_real_event, test_real_event, train_real_ids, test_real_ids = train_test_split(real_event, real_ids, test_size=0.2, random_state=43)\n",
    "train_f_event, val_f_event, train_f_ids, val_f_ids = train_test_split(train_fake_event, train_fake_ids, test_size=0.1, random_state=43)\n",
    "train_r_event, val_r_event, train_r_ids, val_r_ids = train_test_split(train_real_event, train_real_ids, test_size=0.1, random_state=43)\n",
    "# All events\n",
    "train_events = train_f_event + train_r_event\n",
    "val_events = val_f_event + val_r_event \n",
    "test_events = test_fake_event + test_real_event\n",
    "# All ids\n",
    "train_ids = train_f_ids + train_r_ids\n",
    "val_ids = val_f_ids + val_r_ids \n",
    "test_ids = test_fake_ids + test_real_ids"
   ]
  },
  {
   "cell_type": "markdown",
   "metadata": {},
   "source": [
    "# Write EANN Format"
   ]
  },
  {
   "cell_type": "code",
   "execution_count": 11,
   "metadata": {},
   "outputs": [],
   "source": [
    "train_fake, test_fake  = train_test_split(fake_data, test_size=0.2, random_state=43)\n",
    "train_real, test_real  = train_test_split(real_data, test_size=0.2, random_state=43)"
   ]
  },
  {
   "cell_type": "code",
   "execution_count": 12,
   "metadata": {},
   "outputs": [],
   "source": [
    "def write_data(data_lst, filename):\n",
    "    output_dir = '/sda/rina_1921cs13/Nischal/NovFake/sota_comp/EANN-KDD18/Data/weibo/tweets/'\n",
    "    with open(os.path.join(output_dir, filename), 'w') as outfile:\n",
    "        for data in data_lst:\n",
    "            for data_lines in data:\n",
    "                print(data_lines, file=outfile)"
   ]
  },
  {
   "cell_type": "code",
   "execution_count": 13,
   "metadata": {},
   "outputs": [],
   "source": [
    "# Fake Data\n",
    "write_data(train_fake, 'nis_train_fake.txt')\n",
    "write_data(test_fake, 'nis_test_fake.txt')\n",
    "# Real Data\n",
    "write_data(train_real, 'nis_train_real.txt')\n",
    "write_data(test_real, 'nis_test_real.txt')"
   ]
  },
  {
   "cell_type": "code",
   "execution_count": 12,
   "metadata": {},
   "outputs": [],
   "source": [
    "def save_id_event_pickle(ids, events, filename):\n",
    "    assert len(ids) == len(events)\n",
    "    output_path = '/sda/rina_1921cs13/Nischal/NovFake/sota_comp/EANN-KDD18/Data/weibo/'\n",
    "    store_dict = {}\n",
    "    for i, id in enumerate(ids):\n",
    "       store_dict[id] =  events[i]\n",
    "    with open(os.path.join(output_path, filename), 'wb') as handle:\n",
    "        pickle.dump(store_dict, handle, protocol=pickle.HIGHEST_PROTOCOL)"
   ]
  },
  {
   "cell_type": "code",
   "execution_count": 15,
   "metadata": {},
   "outputs": [],
   "source": [
    "def save_image_pickle(image_list, filename):\n",
    "    output_path = '/sda/rina_1921cs13/Nischal/NovFake/sota_comp/EANN-KDD18/Data/weibo/'\n",
    "    with open(os.path.join(output_path, filename), 'wb') as handle:\n",
    "        pickle.dump(image_list, handle, protocol=pickle.HIGHEST_PROTOCOL)"
   ]
  },
  {
   "cell_type": "code",
   "execution_count": 13,
   "metadata": {},
   "outputs": [],
   "source": [
    "# Storing event dicts\n",
    "save_id_event_pickle(train_ids, train_events, 'nis_train_id.pickle')\n",
    "save_id_event_pickle(val_ids, val_events, 'nis_validate_id.pickle')\n",
    "save_id_event_pickle(test_ids, test_events, 'nis_test_id.pickle')\n",
    "save_image_pickle(image_list, 'nis_image.pickle')"
   ]
  }
 ],
 "metadata": {
  "interpreter": {
   "hash": "112ac2046fa01f929d29fd747457323c8422411859b530c12136f6127f223c24"
  },
  "kernelspec": {
   "display_name": "Python 3.6.11 64-bit ('newnisbert': conda)",
   "language": "python",
   "name": "python3"
  },
  "language_info": {
   "codemirror_mode": {
    "name": "ipython",
    "version": 3
   },
   "file_extension": ".py",
   "mimetype": "text/x-python",
   "name": "python",
   "nbconvert_exporter": "python",
   "pygments_lexer": "ipython3",
   "version": "3.6.11"
  },
  "orig_nbformat": 4
 },
 "nbformat": 4,
 "nbformat_minor": 2
}
