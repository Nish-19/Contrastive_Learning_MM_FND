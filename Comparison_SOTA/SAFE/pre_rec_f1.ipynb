{
 "cells": [
  {
   "cell_type": "code",
   "execution_count": 1,
   "metadata": {},
   "outputs": [],
   "source": [
    "import pandas as pd \n",
    "import numpy as np\n",
    "from sklearn.metrics import classification_report"
   ]
  },
  {
   "cell_type": "code",
   "execution_count": 4,
   "metadata": {},
   "outputs": [
    {
     "name": "stdout",
     "output_type": "stream",
     "text": [
      "2354\n",
      "2354\n"
     ]
    }
   ],
   "source": [
    "# Read and convert the data\n",
    "df = pd.read_excel('performance-pre-e-r-1-0_ds_case_label.xls')\n",
    "encode_dict = {'fake':0, 'real':1}\n",
    "orig_labels = [encode_dict[item] for item in df['ground truth']]\n",
    "predict_labels = [encode_dict[item] for item in df['predicted label']]\n",
    "print(len(orig_labels))\n",
    "print(len(predict_labels))"
   ]
  },
  {
   "cell_type": "code",
   "execution_count": 6,
   "metadata": {},
   "outputs": [
    {
     "name": "stdout",
     "output_type": "stream",
     "text": [
      "              precision    recall  f1-score   support\n",
      "\n",
      "        fake       0.98      0.93      0.95      1031\n",
      "        real       0.95      0.98      0.96      1323\n",
      "\n",
      "    accuracy                           0.96      2354\n",
      "   macro avg       0.96      0.96      0.96      2354\n",
      "weighted avg       0.96      0.96      0.96      2354\n",
      "\n"
     ]
    }
   ],
   "source": [
    "# Printing the classification report\n",
    "print(classification_report(orig_labels, predict_labels, target_names=['fake', 'real']))"
   ]
  }
 ],
 "metadata": {
  "interpreter": {
   "hash": "112ac2046fa01f929d29fd747457323c8422411859b530c12136f6127f223c24"
  },
  "kernelspec": {
   "display_name": "Python 3.6.11 64-bit ('newnisbert': conda)",
   "name": "python3"
  },
  "language_info": {
   "codemirror_mode": {
    "name": "ipython",
    "version": 3
   },
   "file_extension": ".py",
   "mimetype": "text/x-python",
   "name": "python",
   "nbconvert_exporter": "python",
   "pygments_lexer": "ipython3",
   "version": "3.6.11"
  },
  "orig_nbformat": 4
 },
 "nbformat": 4,
 "nbformat_minor": 2
}
